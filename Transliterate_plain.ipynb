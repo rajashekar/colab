{
  "nbformat": 4,
  "nbformat_minor": 0,
  "metadata": {
    "colab": {
      "name": "Transliterate_plain.ipynb",
      "provenance": [],
      "collapsed_sections": [],
      "machine_shape": "hm",
      "mount_file_id": "1m0xrHN2xqt6CjLqn24K0O59wEkWdu6t8",
      "authorship_tag": "ABX9TyNwZKeFM3xZxskzDAV5EjYu",
      "include_colab_link": true
    },
    "kernelspec": {
      "name": "python3",
      "display_name": "Python 3"
    },
    "language_info": {
      "name": "python"
    },
    "accelerator": "GPU"
  },
  "cells": [
    {
      "cell_type": "markdown",
      "metadata": {
        "id": "view-in-github",
        "colab_type": "text"
      },
      "source": [
        "<a href=\"https://colab.research.google.com/github/rajashekar/colab/blob/main/Transliterate_plain.ipynb\" target=\"_parent\"><img src=\"https://colab.research.google.com/assets/colab-badge.svg\" alt=\"Open In Colab\"/></a>"
      ]
    },
    {
      "cell_type": "code",
      "metadata": {
        "id": "1T6_tQRr5LsU"
      },
      "source": [
        "import pandas as pd\n",
        "import numpy as np\n",
        "\n",
        "from keras.models import Model, load_model\n",
        "from keras.layers import Input, LSTM, Dense, Dropout\n",
        "from keras.callbacks import EarlyStopping, ModelCheckpoint\n",
        "\n",
        "import tensorflow as tf\n",
        "import tensorflow.keras.backend as K\n",
        "\n",
        "import matplotlib.pyplot as plt"
      ],
      "execution_count": 55,
      "outputs": []
    },
    {
      "cell_type": "code",
      "metadata": {
        "colab": {
          "base_uri": "https://localhost:8080/"
        },
        "id": "gD9yPBHKkF5s",
        "outputId": "7172ccea-c73b-470a-a4ef-6d968b00d962"
      },
      "source": [
        "!nvidia-smi"
      ],
      "execution_count": 56,
      "outputs": [
        {
          "output_type": "stream",
          "name": "stdout",
          "text": [
            "Mon Oct  4 13:45:33 2021       \n",
            "+-----------------------------------------------------------------------------+\n",
            "| NVIDIA-SMI 470.74       Driver Version: 460.32.03    CUDA Version: 11.2     |\n",
            "|-------------------------------+----------------------+----------------------+\n",
            "| GPU  Name        Persistence-M| Bus-Id        Disp.A | Volatile Uncorr. ECC |\n",
            "| Fan  Temp  Perf  Pwr:Usage/Cap|         Memory-Usage | GPU-Util  Compute M. |\n",
            "|                               |                      |               MIG M. |\n",
            "|===============================+======================+======================|\n",
            "|   0  Tesla P100-PCIE...  Off  | 00000000:00:04.0 Off |                    0 |\n",
            "| N/A   61C    P0    44W / 250W |   4625MiB / 16280MiB |      0%      Default |\n",
            "|                               |                      |                  N/A |\n",
            "+-------------------------------+----------------------+----------------------+\n",
            "                                                                               \n",
            "+-----------------------------------------------------------------------------+\n",
            "| Processes:                                                                  |\n",
            "|  GPU   GI   CI        PID   Type   Process name                  GPU Memory |\n",
            "|        ID   ID                                                   Usage      |\n",
            "|=============================================================================|\n",
            "|  No running processes found                                                 |\n",
            "+-----------------------------------------------------------------------------+\n"
          ]
        }
      ]
    },
    {
      "cell_type": "code",
      "metadata": {
        "colab": {
          "base_uri": "https://localhost:8080/"
        },
        "id": "Cy-GTRyQdjjj",
        "outputId": "3bc618b4-6179-4bf5-d4fa-a8d9b18b83c5"
      },
      "source": [
        "%cd /content/drive/MyDrive/Colab/Transliterate/"
      ],
      "execution_count": 57,
      "outputs": [
        {
          "output_type": "stream",
          "name": "stdout",
          "text": [
            "/content/drive/MyDrive/Colab/Transliterate\n"
          ]
        }
      ]
    },
    {
      "cell_type": "code",
      "metadata": {
        "colab": {
          "base_uri": "https://localhost:8080/"
        },
        "id": "9SQgkSs5drK0",
        "outputId": "23d03122-c04a-4a3f-dc79-77c313539f7f"
      },
      "source": [
        "%ls"
      ],
      "execution_count": 58,
      "outputs": [
        {
          "output_type": "stream",
          "name": "stdout",
          "text": [
            "affidavits.csv                 model_plot_dec.png\n",
            "hi.translit.sampled.test.tsv   model.png\n",
            "hi.translit.sampled.train.tsv  model_v1.h5\n",
            "manual_saved_model.h5          players_with_hindi_names.json\n",
            "model.h5                       Transliterate_v2.ipynb\n"
          ]
        }
      ]
    },
    {
      "cell_type": "markdown",
      "metadata": {
        "id": "h87l7bzjN4V0"
      },
      "source": [
        "# Preprocessing Data"
      ]
    },
    {
      "cell_type": "markdown",
      "metadata": {
        "id": "Kl9QsQKYac2q"
      },
      "source": [
        "## load affidavits dataset\n"
      ]
    },
    {
      "cell_type": "code",
      "metadata": {
        "id": "pAUukayNPVZY"
      },
      "source": [
        "affidavits_df = pd.read_csv('affidavits.csv')"
      ],
      "execution_count": 59,
      "outputs": []
    },
    {
      "cell_type": "code",
      "metadata": {
        "colab": {
          "base_uri": "https://localhost:8080/",
          "height": 615
        },
        "id": "A0ZOV5i6Pe_k",
        "outputId": "436afbac-c77d-401b-fd87-6a92ec1e1591"
      },
      "source": [
        "affidavits_df.head()"
      ],
      "execution_count": 60,
      "outputs": [
        {
          "output_type": "execute_result",
          "data": {
            "text/html": [
              "<div>\n",
              "<style scoped>\n",
              "    .dataframe tbody tr th:only-of-type {\n",
              "        vertical-align: middle;\n",
              "    }\n",
              "\n",
              "    .dataframe tbody tr th {\n",
              "        vertical-align: top;\n",
              "    }\n",
              "\n",
              "    .dataframe thead th {\n",
              "        text-align: right;\n",
              "    }\n",
              "</style>\n",
              "<table border=\"1\" class=\"dataframe\">\n",
              "  <thead>\n",
              "    <tr style=\"text-align: right;\">\n",
              "      <th></th>\n",
              "      <th>address</th>\n",
              "      <th>affidavit_filename_with_unique_id</th>\n",
              "      <th>age</th>\n",
              "      <th>application_uploaded</th>\n",
              "      <th>assembly_constituency</th>\n",
              "      <th>current_status</th>\n",
              "      <th>dropdown_value</th>\n",
              "      <th>fathers_or_husbands_name_english</th>\n",
              "      <th>fathers_or_husbands_name_hindi</th>\n",
              "      <th>name</th>\n",
              "      <th>name_english</th>\n",
              "      <th>name_hindi</th>\n",
              "      <th>party_name</th>\n",
              "      <th>photo_filename_with_unique_id</th>\n",
              "      <th>photo_url</th>\n",
              "      <th>state</th>\n",
              "      <th>unique_id</th>\n",
              "      <th>url</th>\n",
              "    </tr>\n",
              "  </thead>\n",
              "  <tbody>\n",
              "    <tr>\n",
              "      <th>0</th>\n",
              "      <td>O/5, BANKIM MUKHERJEE SARANI, DURGAPUR COLONY,...</td>\n",
              "      <td>NaN</td>\n",
              "      <td>57</td>\n",
              "      <td>7th April, 2021</td>\n",
              "      <td>Rashbehari</td>\n",
              "      <td>NaN</td>\n",
              "      <td>NaN</td>\n",
              "      <td>LATE SUBODH CHANDRA DAS</td>\n",
              "      <td>प्रयात सुबोध चन्द्र दास</td>\n",
              "      <td>SWAPAN DAS</td>\n",
              "      <td>SWAPAN DAS</td>\n",
              "      <td>स्वपन दास</td>\n",
              "      <td>Bahujan Mukti Party</td>\n",
              "      <td>NaN</td>\n",
              "      <td>NaN</td>\n",
              "      <td>West Bengal</td>\n",
              "      <td>1</td>\n",
              "      <td>NaN</td>\n",
              "    </tr>\n",
              "    <tr>\n",
              "      <th>1</th>\n",
              "      <td>F-301, PRANTIK PALLY, KOLKATA – 700042</td>\n",
              "      <td>NaN</td>\n",
              "      <td>41</td>\n",
              "      <td>7th April, 2021</td>\n",
              "      <td>Rashbehari</td>\n",
              "      <td>NaN</td>\n",
              "      <td>NaN</td>\n",
              "      <td>LATE PINAKI KUNDU</td>\n",
              "      <td>स्वर्गीय पिनाकि कुंडू</td>\n",
              "      <td>PREETAM KUNDU</td>\n",
              "      <td>PREETAM KUNDU</td>\n",
              "      <td>प्रीतम  कुंडू</td>\n",
              "      <td>Independent</td>\n",
              "      <td>NaN</td>\n",
              "      <td>NaN</td>\n",
              "      <td>West Bengal</td>\n",
              "      <td>2</td>\n",
              "      <td>NaN</td>\n",
              "    </tr>\n",
              "    <tr>\n",
              "      <th>2</th>\n",
              "      <td>Vill- Debidaspur, P.O.- Kankuria, P.S.- Samser...</td>\n",
              "      <td>NaN</td>\n",
              "      <td>60</td>\n",
              "      <td>26th April, 2021</td>\n",
              "      <td>Samserganj</td>\n",
              "      <td>NaN</td>\n",
              "      <td>NaN</td>\n",
              "      <td>Late Nur Mohammad Biswas</td>\n",
              "      <td>मृत नूर महम्मद बिश्वास</td>\n",
              "      <td>Zaidur Rahaman</td>\n",
              "      <td>Zaidur Rahaman</td>\n",
              "      <td>जैदुर रहमान</td>\n",
              "      <td>Indian National Congress</td>\n",
              "      <td>NaN</td>\n",
              "      <td>NaN</td>\n",
              "      <td>West Bengal</td>\n",
              "      <td>3</td>\n",
              "      <td>NaN</td>\n",
              "    </tr>\n",
              "    <tr>\n",
              "      <th>3</th>\n",
              "      <td>F-301, PRANTIK PALLY, KOLKATA – 700042</td>\n",
              "      <td>NaN</td>\n",
              "      <td>41</td>\n",
              "      <td>7th April, 2021</td>\n",
              "      <td>Rashbehari</td>\n",
              "      <td>NaN</td>\n",
              "      <td>NaN</td>\n",
              "      <td>LATE PINAKI KUNDU</td>\n",
              "      <td>स्वर्गीय पिनाकि कुंडू</td>\n",
              "      <td>PREETAM KUNDU</td>\n",
              "      <td>PREETAM KUNDU</td>\n",
              "      <td>प्रीतम  कुंडू</td>\n",
              "      <td>Independent</td>\n",
              "      <td>NaN</td>\n",
              "      <td>NaN</td>\n",
              "      <td>West Bengal</td>\n",
              "      <td>4</td>\n",
              "      <td>NaN</td>\n",
              "    </tr>\n",
              "    <tr>\n",
              "      <th>4</th>\n",
              "      <td>VILL-FULBARI, P.O-KAMLABARI, P.S-ENGLISH BAZAR...</td>\n",
              "      <td>NaN</td>\n",
              "      <td>42</td>\n",
              "      <td>6th April, 2021</td>\n",
              "      <td>Manikchak</td>\n",
              "      <td>NaN</td>\n",
              "      <td>NaN</td>\n",
              "      <td>LT. ALI MOHAMMAD</td>\n",
              "      <td>स्वर्गीय आली महममद</td>\n",
              "      <td>ALAM MOTTAKIN</td>\n",
              "      <td>ALAM MOTTAKIN</td>\n",
              "      <td>आलम मोत्ताकिन</td>\n",
              "      <td>Indian National Congress</td>\n",
              "      <td>NaN</td>\n",
              "      <td>NaN</td>\n",
              "      <td>West Bengal</td>\n",
              "      <td>5</td>\n",
              "      <td>NaN</td>\n",
              "    </tr>\n",
              "  </tbody>\n",
              "</table>\n",
              "</div>"
            ],
            "text/plain": [
              "                                             address  ...  url\n",
              "0  O/5, BANKIM MUKHERJEE SARANI, DURGAPUR COLONY,...  ...  NaN\n",
              "1             F-301, PRANTIK PALLY, KOLKATA – 700042  ...  NaN\n",
              "2  Vill- Debidaspur, P.O.- Kankuria, P.S.- Samser...  ...  NaN\n",
              "3             F-301, PRANTIK PALLY, KOLKATA – 700042  ...  NaN\n",
              "4  VILL-FULBARI, P.O-KAMLABARI, P.S-ENGLISH BAZAR...  ...  NaN\n",
              "\n",
              "[5 rows x 18 columns]"
            ]
          },
          "metadata": {},
          "execution_count": 60
        }
      ]
    },
    {
      "cell_type": "code",
      "metadata": {
        "id": "TnwMig87P1yV"
      },
      "source": [
        "af_df = affidavits_df[['fathers_or_husbands_name_hindi', 'fathers_or_husbands_name_english', 'name_hindi', 'name_english']]"
      ],
      "execution_count": 61,
      "outputs": []
    },
    {
      "cell_type": "code",
      "metadata": {
        "id": "XYj3W5R3bdii"
      },
      "source": [
        "# split and merge\n",
        "input_target_df = pd.concat([\n",
        "                    af_df[['fathers_or_husbands_name_hindi','fathers_or_husbands_name_english']].rename(columns={\"fathers_or_husbands_name_hindi\": \"hindi\", \"fathers_or_husbands_name_english\": \"english\"}), \n",
        "                    af_df[['name_hindi','name_english']].rename(columns={\"name_hindi\": \"hindi\", \"name_english\": \"english\"})\n",
        "                  ], ignore_index=True)"
      ],
      "execution_count": 62,
      "outputs": []
    },
    {
      "cell_type": "code",
      "metadata": {
        "colab": {
          "base_uri": "https://localhost:8080/",
          "height": 204
        },
        "id": "q6_4pn8Wbt-A",
        "outputId": "fdfcb81e-3f11-46e4-89b2-a41d4d512c50"
      },
      "source": [
        "input_target_df.head()"
      ],
      "execution_count": 63,
      "outputs": [
        {
          "output_type": "execute_result",
          "data": {
            "text/html": [
              "<div>\n",
              "<style scoped>\n",
              "    .dataframe tbody tr th:only-of-type {\n",
              "        vertical-align: middle;\n",
              "    }\n",
              "\n",
              "    .dataframe tbody tr th {\n",
              "        vertical-align: top;\n",
              "    }\n",
              "\n",
              "    .dataframe thead th {\n",
              "        text-align: right;\n",
              "    }\n",
              "</style>\n",
              "<table border=\"1\" class=\"dataframe\">\n",
              "  <thead>\n",
              "    <tr style=\"text-align: right;\">\n",
              "      <th></th>\n",
              "      <th>hindi</th>\n",
              "      <th>english</th>\n",
              "    </tr>\n",
              "  </thead>\n",
              "  <tbody>\n",
              "    <tr>\n",
              "      <th>0</th>\n",
              "      <td>प्रयात सुबोध चन्द्र दास</td>\n",
              "      <td>LATE SUBODH CHANDRA DAS</td>\n",
              "    </tr>\n",
              "    <tr>\n",
              "      <th>1</th>\n",
              "      <td>स्वर्गीय पिनाकि कुंडू</td>\n",
              "      <td>LATE PINAKI KUNDU</td>\n",
              "    </tr>\n",
              "    <tr>\n",
              "      <th>2</th>\n",
              "      <td>मृत नूर महम्मद बिश्वास</td>\n",
              "      <td>Late Nur Mohammad Biswas</td>\n",
              "    </tr>\n",
              "    <tr>\n",
              "      <th>3</th>\n",
              "      <td>स्वर्गीय पिनाकि कुंडू</td>\n",
              "      <td>LATE PINAKI KUNDU</td>\n",
              "    </tr>\n",
              "    <tr>\n",
              "      <th>4</th>\n",
              "      <td>स्वर्गीय आली महममद</td>\n",
              "      <td>LT. ALI MOHAMMAD</td>\n",
              "    </tr>\n",
              "  </tbody>\n",
              "</table>\n",
              "</div>"
            ],
            "text/plain": [
              "                     hindi                   english\n",
              "0  प्रयात सुबोध चन्द्र दास   LATE SUBODH CHANDRA DAS\n",
              "1    स्वर्गीय पिनाकि कुंडू         LATE PINAKI KUNDU\n",
              "2   मृत नूर महम्मद बिश्वास  Late Nur Mohammad Biswas\n",
              "3    स्वर्गीय पिनाकि कुंडू         LATE PINAKI KUNDU\n",
              "4       स्वर्गीय आली महममद          LT. ALI MOHAMMAD"
            ]
          },
          "metadata": {},
          "execution_count": 63
        }
      ]
    },
    {
      "cell_type": "markdown",
      "metadata": {
        "id": "sRjQYPAjajwg"
      },
      "source": [
        "## load cricket dataset"
      ]
    },
    {
      "cell_type": "code",
      "metadata": {
        "id": "QIlUaSeP54a0"
      },
      "source": [
        "cricket_df = pd.read_json('players_with_hindi_names.json')"
      ],
      "execution_count": 64,
      "outputs": []
    },
    {
      "cell_type": "code",
      "metadata": {
        "colab": {
          "base_uri": "https://localhost:8080/",
          "height": 204
        },
        "id": "-8AW_DdX5934",
        "outputId": "1f30ae92-6896-4ad5-9b31-d320834f3903"
      },
      "source": [
        "cricket_df.head()"
      ],
      "execution_count": 65,
      "outputs": [
        {
          "output_type": "execute_result",
          "data": {
            "text/html": [
              "<div>\n",
              "<style scoped>\n",
              "    .dataframe tbody tr th:only-of-type {\n",
              "        vertical-align: middle;\n",
              "    }\n",
              "\n",
              "    .dataframe tbody tr th {\n",
              "        vertical-align: top;\n",
              "    }\n",
              "\n",
              "    .dataframe thead th {\n",
              "        text-align: right;\n",
              "    }\n",
              "</style>\n",
              "<table border=\"1\" class=\"dataframe\">\n",
              "  <thead>\n",
              "    <tr style=\"text-align: right;\">\n",
              "      <th></th>\n",
              "      <th>id</th>\n",
              "      <th>hindi_name</th>\n",
              "      <th>hindi_long_name</th>\n",
              "      <th>english_name</th>\n",
              "      <th>gender</th>\n",
              "      <th>date_of_birth</th>\n",
              "      <th>country_id</th>\n",
              "      <th>slug</th>\n",
              "    </tr>\n",
              "  </thead>\n",
              "  <tbody>\n",
              "    <tr>\n",
              "      <th>0</th>\n",
              "      <td>90143</td>\n",
              "      <td>आर गुरबाज़</td>\n",
              "      <td>रहमानउल्लाह गुरबाज़</td>\n",
              "      <td>Rahmanullah Gurbaz</td>\n",
              "      <td>M</td>\n",
              "      <td>{'year': 2001, 'month': 11, 'date': 28}</td>\n",
              "      <td>40</td>\n",
              "      <td>rahmanullah-gurbaz</td>\n",
              "    </tr>\n",
              "    <tr>\n",
              "      <th>1</th>\n",
              "      <td>54018</td>\n",
              "      <td>एम रिज़वान</td>\n",
              "      <td>मोहम्मद रिज़वान</td>\n",
              "      <td>Mohammad Rizwan</td>\n",
              "      <td>M</td>\n",
              "      <td>{'year': 1992, 'month': 6, 'date': 1}</td>\n",
              "      <td>7</td>\n",
              "      <td>mohammad-rizwan</td>\n",
              "    </tr>\n",
              "    <tr>\n",
              "      <th>2</th>\n",
              "      <td>47686</td>\n",
              "      <td>एस मक़सूद</td>\n",
              "      <td>सोहेब मक़सूद</td>\n",
              "      <td>Sohaib Maqsood</td>\n",
              "      <td>M</td>\n",
              "      <td>{'year': 1987, 'month': 4, 'date': 15}</td>\n",
              "      <td>7</td>\n",
              "      <td>sohaib-maqsood</td>\n",
              "    </tr>\n",
              "    <tr>\n",
              "      <th>3</th>\n",
              "      <td>53649</td>\n",
              "      <td>आर आर रुसो</td>\n",
              "      <td>राइली रुसो</td>\n",
              "      <td>Rossouw, RR</td>\n",
              "      <td>M</td>\n",
              "      <td>{'year': 1989, 'month': 10, 'date': 9}</td>\n",
              "      <td>3</td>\n",
              "      <td>rilee-rossouw</td>\n",
              "    </tr>\n",
              "    <tr>\n",
              "      <th>4</th>\n",
              "      <td>72393</td>\n",
              "      <td>एस हेटमायर</td>\n",
              "      <td>शिमरॉन हेटमायर</td>\n",
              "      <td>Hetmyer, SO</td>\n",
              "      <td>M</td>\n",
              "      <td>{'year': 1996, 'month': 12, 'date': 26}</td>\n",
              "      <td>4</td>\n",
              "      <td>shimron-hetmyer</td>\n",
              "    </tr>\n",
              "  </tbody>\n",
              "</table>\n",
              "</div>"
            ],
            "text/plain": [
              "      id  hindi_name  ... country_id                slug\n",
              "0  90143  आर गुरबाज़  ...         40  rahmanullah-gurbaz\n",
              "1  54018  एम रिज़वान  ...          7     mohammad-rizwan\n",
              "2  47686   एस मक़सूद  ...          7      sohaib-maqsood\n",
              "3  53649  आर आर रुसो  ...          3       rilee-rossouw\n",
              "4  72393  एस हेटमायर  ...          4     shimron-hetmyer\n",
              "\n",
              "[5 rows x 8 columns]"
            ]
          },
          "metadata": {},
          "execution_count": 65
        }
      ]
    },
    {
      "cell_type": "code",
      "metadata": {
        "id": "Zyc762NtcILn"
      },
      "source": [
        "input_target_df = pd.concat([\n",
        "                             input_target_df, \n",
        "                             cricket_df[['hindi_long_name', 'english_name']].rename(columns={\"hindi_long_name\": \"hindi\", \"english_name\": \"english\"}) \n",
        "                             ], ignore_index=True)"
      ],
      "execution_count": 66,
      "outputs": []
    },
    {
      "cell_type": "markdown",
      "metadata": {
        "id": "iDtsnXBQa7m2"
      },
      "source": [
        "## load Dakshina Dataset"
      ]
    },
    {
      "cell_type": "code",
      "metadata": {
        "id": "YWUoa66ea0xR"
      },
      "source": [
        "\n",
        "dakshina_df = pd.read_csv('hi.translit.sampled.train.tsv', sep='\\t', names=[\"hindi\", \"english\", \"freq\"])"
      ],
      "execution_count": 67,
      "outputs": []
    },
    {
      "cell_type": "code",
      "metadata": {
        "colab": {
          "base_uri": "https://localhost:8080/",
          "height": 204
        },
        "id": "LvzPQO06bONy",
        "outputId": "6178f58f-386f-4ca3-fed0-023cfa0a9efc"
      },
      "source": [
        "dakshina_df.head()"
      ],
      "execution_count": 68,
      "outputs": [
        {
          "output_type": "execute_result",
          "data": {
            "text/html": [
              "<div>\n",
              "<style scoped>\n",
              "    .dataframe tbody tr th:only-of-type {\n",
              "        vertical-align: middle;\n",
              "    }\n",
              "\n",
              "    .dataframe tbody tr th {\n",
              "        vertical-align: top;\n",
              "    }\n",
              "\n",
              "    .dataframe thead th {\n",
              "        text-align: right;\n",
              "    }\n",
              "</style>\n",
              "<table border=\"1\" class=\"dataframe\">\n",
              "  <thead>\n",
              "    <tr style=\"text-align: right;\">\n",
              "      <th></th>\n",
              "      <th>hindi</th>\n",
              "      <th>english</th>\n",
              "      <th>freq</th>\n",
              "    </tr>\n",
              "  </thead>\n",
              "  <tbody>\n",
              "    <tr>\n",
              "      <th>0</th>\n",
              "      <td>अं</td>\n",
              "      <td>an</td>\n",
              "      <td>3</td>\n",
              "    </tr>\n",
              "    <tr>\n",
              "      <th>1</th>\n",
              "      <td>अंकगणित</td>\n",
              "      <td>ankganit</td>\n",
              "      <td>3</td>\n",
              "    </tr>\n",
              "    <tr>\n",
              "      <th>2</th>\n",
              "      <td>अंकल</td>\n",
              "      <td>uncle</td>\n",
              "      <td>4</td>\n",
              "    </tr>\n",
              "    <tr>\n",
              "      <th>3</th>\n",
              "      <td>अंकुर</td>\n",
              "      <td>ankur</td>\n",
              "      <td>4</td>\n",
              "    </tr>\n",
              "    <tr>\n",
              "      <th>4</th>\n",
              "      <td>अंकुरण</td>\n",
              "      <td>ankuran</td>\n",
              "      <td>3</td>\n",
              "    </tr>\n",
              "  </tbody>\n",
              "</table>\n",
              "</div>"
            ],
            "text/plain": [
              "     hindi   english  freq\n",
              "0       अं        an     3\n",
              "1  अंकगणित  ankganit     3\n",
              "2     अंकल     uncle     4\n",
              "3    अंकुर     ankur     4\n",
              "4   अंकुरण   ankuran     3"
            ]
          },
          "metadata": {},
          "execution_count": 68
        }
      ]
    },
    {
      "cell_type": "code",
      "metadata": {
        "id": "X8aCM1ehbqWb"
      },
      "source": [
        "input_target_df = pd.concat([\n",
        "                             input_target_df, \n",
        "                             dakshina_df[['hindi', 'english']]\n",
        "                             ], ignore_index=True)"
      ],
      "execution_count": 69,
      "outputs": []
    },
    {
      "cell_type": "code",
      "metadata": {
        "colab": {
          "base_uri": "https://localhost:8080/",
          "height": 204
        },
        "id": "c_rJ_vXPcpGE",
        "outputId": "90e5243d-3f51-420c-9658-62f1ce0638e8"
      },
      "source": [
        "input_target_df.head()"
      ],
      "execution_count": 70,
      "outputs": [
        {
          "output_type": "execute_result",
          "data": {
            "text/html": [
              "<div>\n",
              "<style scoped>\n",
              "    .dataframe tbody tr th:only-of-type {\n",
              "        vertical-align: middle;\n",
              "    }\n",
              "\n",
              "    .dataframe tbody tr th {\n",
              "        vertical-align: top;\n",
              "    }\n",
              "\n",
              "    .dataframe thead th {\n",
              "        text-align: right;\n",
              "    }\n",
              "</style>\n",
              "<table border=\"1\" class=\"dataframe\">\n",
              "  <thead>\n",
              "    <tr style=\"text-align: right;\">\n",
              "      <th></th>\n",
              "      <th>hindi</th>\n",
              "      <th>english</th>\n",
              "    </tr>\n",
              "  </thead>\n",
              "  <tbody>\n",
              "    <tr>\n",
              "      <th>0</th>\n",
              "      <td>प्रयात सुबोध चन्द्र दास</td>\n",
              "      <td>LATE SUBODH CHANDRA DAS</td>\n",
              "    </tr>\n",
              "    <tr>\n",
              "      <th>1</th>\n",
              "      <td>स्वर्गीय पिनाकि कुंडू</td>\n",
              "      <td>LATE PINAKI KUNDU</td>\n",
              "    </tr>\n",
              "    <tr>\n",
              "      <th>2</th>\n",
              "      <td>मृत नूर महम्मद बिश्वास</td>\n",
              "      <td>Late Nur Mohammad Biswas</td>\n",
              "    </tr>\n",
              "    <tr>\n",
              "      <th>3</th>\n",
              "      <td>स्वर्गीय पिनाकि कुंडू</td>\n",
              "      <td>LATE PINAKI KUNDU</td>\n",
              "    </tr>\n",
              "    <tr>\n",
              "      <th>4</th>\n",
              "      <td>स्वर्गीय आली महममद</td>\n",
              "      <td>LT. ALI MOHAMMAD</td>\n",
              "    </tr>\n",
              "  </tbody>\n",
              "</table>\n",
              "</div>"
            ],
            "text/plain": [
              "                     hindi                   english\n",
              "0  प्रयात सुबोध चन्द्र दास   LATE SUBODH CHANDRA DAS\n",
              "1    स्वर्गीय पिनाकि कुंडू         LATE PINAKI KUNDU\n",
              "2   मृत नूर महम्मद बिश्वास  Late Nur Mohammad Biswas\n",
              "3    स्वर्गीय पिनाकि कुंडू         LATE PINAKI KUNDU\n",
              "4       स्वर्गीय आली महममद          LT. ALI MOHAMMAD"
            ]
          },
          "metadata": {},
          "execution_count": 70
        }
      ]
    },
    {
      "cell_type": "code",
      "metadata": {
        "colab": {
          "base_uri": "https://localhost:8080/"
        },
        "id": "oxaiXS4yc90U",
        "outputId": "17e1a6eb-9bbb-44f7-cfaf-47ad2b1c0857"
      },
      "source": [
        "input_target_df.info()"
      ],
      "execution_count": 71,
      "outputs": [
        {
          "output_type": "stream",
          "name": "stdout",
          "text": [
            "<class 'pandas.core.frame.DataFrame'>\n",
            "RangeIndex: 77908 entries, 0 to 77907\n",
            "Data columns (total 2 columns):\n",
            " #   Column   Non-Null Count  Dtype \n",
            "---  ------   --------------  ----- \n",
            " 0   hindi    72727 non-null  object\n",
            " 1   english  77906 non-null  object\n",
            "dtypes: object(2)\n",
            "memory usage: 1.2+ MB\n"
          ]
        }
      ]
    },
    {
      "cell_type": "code",
      "metadata": {
        "id": "7WVfnG3RSDz0"
      },
      "source": [
        "input_target_df = input_target_df.dropna()"
      ],
      "execution_count": 72,
      "outputs": []
    },
    {
      "cell_type": "code",
      "metadata": {
        "colab": {
          "base_uri": "https://localhost:8080/"
        },
        "id": "rs0mMz4ndDCG",
        "outputId": "8e9d5140-ae70-4654-8d0b-42a9ad6389b6"
      },
      "source": [
        "input_target_df.info()"
      ],
      "execution_count": 73,
      "outputs": [
        {
          "output_type": "stream",
          "name": "stdout",
          "text": [
            "<class 'pandas.core.frame.DataFrame'>\n",
            "Int64Index: 72725 entries, 0 to 77907\n",
            "Data columns (total 2 columns):\n",
            " #   Column   Non-Null Count  Dtype \n",
            "---  ------   --------------  ----- \n",
            " 0   hindi    72725 non-null  object\n",
            " 1   english  72725 non-null  object\n",
            "dtypes: object(2)\n",
            "memory usage: 1.7+ MB\n"
          ]
        }
      ]
    },
    {
      "cell_type": "code",
      "metadata": {
        "id": "7gujOMDzS1O_"
      },
      "source": [
        "# strip and make lower case\n",
        "input_target_df['hindi'] = input_target_df['hindi'].str.strip() # hindi has no caps\n",
        "input_target_df['english'] = input_target_df['english'].str.strip().str.lower()"
      ],
      "execution_count": 74,
      "outputs": []
    },
    {
      "cell_type": "code",
      "metadata": {
        "colab": {
          "base_uri": "https://localhost:8080/",
          "height": 204
        },
        "id": "aJDDFPvhTv3e",
        "outputId": "ab1c7134-8752-49bd-aa84-6f896687fde1"
      },
      "source": [
        "input_target_df.head()"
      ],
      "execution_count": 75,
      "outputs": [
        {
          "output_type": "execute_result",
          "data": {
            "text/html": [
              "<div>\n",
              "<style scoped>\n",
              "    .dataframe tbody tr th:only-of-type {\n",
              "        vertical-align: middle;\n",
              "    }\n",
              "\n",
              "    .dataframe tbody tr th {\n",
              "        vertical-align: top;\n",
              "    }\n",
              "\n",
              "    .dataframe thead th {\n",
              "        text-align: right;\n",
              "    }\n",
              "</style>\n",
              "<table border=\"1\" class=\"dataframe\">\n",
              "  <thead>\n",
              "    <tr style=\"text-align: right;\">\n",
              "      <th></th>\n",
              "      <th>hindi</th>\n",
              "      <th>english</th>\n",
              "    </tr>\n",
              "  </thead>\n",
              "  <tbody>\n",
              "    <tr>\n",
              "      <th>0</th>\n",
              "      <td>प्रयात सुबोध चन्द्र दास</td>\n",
              "      <td>late subodh chandra das</td>\n",
              "    </tr>\n",
              "    <tr>\n",
              "      <th>1</th>\n",
              "      <td>स्वर्गीय पिनाकि कुंडू</td>\n",
              "      <td>late pinaki kundu</td>\n",
              "    </tr>\n",
              "    <tr>\n",
              "      <th>2</th>\n",
              "      <td>मृत नूर महम्मद बिश्वास</td>\n",
              "      <td>late nur mohammad biswas</td>\n",
              "    </tr>\n",
              "    <tr>\n",
              "      <th>3</th>\n",
              "      <td>स्वर्गीय पिनाकि कुंडू</td>\n",
              "      <td>late pinaki kundu</td>\n",
              "    </tr>\n",
              "    <tr>\n",
              "      <th>4</th>\n",
              "      <td>स्वर्गीय आली महममद</td>\n",
              "      <td>lt. ali mohammad</td>\n",
              "    </tr>\n",
              "  </tbody>\n",
              "</table>\n",
              "</div>"
            ],
            "text/plain": [
              "                     hindi                   english\n",
              "0  प्रयात सुबोध चन्द्र दास   late subodh chandra das\n",
              "1    स्वर्गीय पिनाकि कुंडू         late pinaki kundu\n",
              "2   मृत नूर महम्मद बिश्वास  late nur mohammad biswas\n",
              "3    स्वर्गीय पिनाकि कुंडू         late pinaki kundu\n",
              "4       स्वर्गीय आली महममद          lt. ali mohammad"
            ]
          },
          "metadata": {},
          "execution_count": 75
        }
      ]
    },
    {
      "cell_type": "code",
      "metadata": {
        "id": "tUmbiLe8T7rk"
      },
      "source": [
        "# Strip out any abbreviated names\n",
        "input_target_df = input_target_df[~input_target_df['english'].str.contains('\\.')]\n",
        "input_target_df = input_target_df[~input_target_df['english'].str.contains(',')]"
      ],
      "execution_count": 76,
      "outputs": []
    },
    {
      "cell_type": "code",
      "metadata": {
        "colab": {
          "base_uri": "https://localhost:8080/"
        },
        "id": "GRkMX8QcVbKg",
        "outputId": "d8086fe8-a7cf-42dc-cda2-c4782384ce09"
      },
      "source": [
        "input_target_df.info()"
      ],
      "execution_count": 77,
      "outputs": [
        {
          "output_type": "stream",
          "name": "stdout",
          "text": [
            "<class 'pandas.core.frame.DataFrame'>\n",
            "Int64Index: 63899 entries, 0 to 77907\n",
            "Data columns (total 2 columns):\n",
            " #   Column   Non-Null Count  Dtype \n",
            "---  ------   --------------  ----- \n",
            " 0   hindi    63899 non-null  object\n",
            " 1   english  63899 non-null  object\n",
            "dtypes: object(2)\n",
            "memory usage: 1.5+ MB\n"
          ]
        }
      ]
    },
    {
      "cell_type": "code",
      "metadata": {
        "id": "dyzG08H1Z3Ch"
      },
      "source": [
        "# drop duplicates\n",
        "input_target_df = input_target_df.drop_duplicates()"
      ],
      "execution_count": 78,
      "outputs": []
    },
    {
      "cell_type": "code",
      "metadata": {
        "colab": {
          "base_uri": "https://localhost:8080/"
        },
        "id": "52H8_u4maYM2",
        "outputId": "1c7dee26-991f-4061-8770-4b6b0d040c96"
      },
      "source": [
        "input_target_df.info()"
      ],
      "execution_count": 79,
      "outputs": [
        {
          "output_type": "stream",
          "name": "stdout",
          "text": [
            "<class 'pandas.core.frame.DataFrame'>\n",
            "Int64Index: 55821 entries, 0 to 77907\n",
            "Data columns (total 2 columns):\n",
            " #   Column   Non-Null Count  Dtype \n",
            "---  ------   --------------  ----- \n",
            " 0   hindi    55821 non-null  object\n",
            " 1   english  55821 non-null  object\n",
            "dtypes: object(2)\n",
            "memory usage: 1.3+ MB\n"
          ]
        }
      ]
    },
    {
      "cell_type": "code",
      "metadata": {
        "id": "DnQHxhVye07D"
      },
      "source": [
        "# Remove if target has non-english \n",
        "def isEnglish(s):\n",
        "  try:\n",
        "      s.encode(encoding='utf-8').decode('ascii')\n",
        "  except UnicodeDecodeError:\n",
        "      return False\n",
        "  else:\n",
        "      return True\n",
        "\n",
        "input_target_df = input_target_df[input_target_df['english'].apply(isEnglish)]"
      ],
      "execution_count": 80,
      "outputs": []
    },
    {
      "cell_type": "code",
      "metadata": {
        "colab": {
          "base_uri": "https://localhost:8080/"
        },
        "id": "sEGVeRyrgJJc",
        "outputId": "5b47cfbf-e8cd-4f88-9219-5e7d94a03e5e"
      },
      "source": [
        "input_target_df.info()"
      ],
      "execution_count": 81,
      "outputs": [
        {
          "output_type": "stream",
          "name": "stdout",
          "text": [
            "<class 'pandas.core.frame.DataFrame'>\n",
            "Int64Index: 55768 entries, 0 to 77907\n",
            "Data columns (total 2 columns):\n",
            " #   Column   Non-Null Count  Dtype \n",
            "---  ------   --------------  ----- \n",
            " 0   hindi    55768 non-null  object\n",
            " 1   english  55768 non-null  object\n",
            "dtypes: object(2)\n",
            "memory usage: 1.3+ MB\n"
          ]
        }
      ]
    },
    {
      "cell_type": "code",
      "metadata": {
        "id": "URH4OE1pq4rM"
      },
      "source": [
        "# append start and end of sequence for target\n",
        "sos = '^'\n",
        "eos = '$'\n",
        "\n",
        "input_target_df['english'] = sos + input_target_df['english'].astype(str) + eos"
      ],
      "execution_count": 82,
      "outputs": []
    },
    {
      "cell_type": "code",
      "metadata": {
        "id": "AahQxw3J5_ax"
      },
      "source": [
        "input_words =  input_target_df['hindi'].tolist()\n",
        "target_words =  input_target_df['english'].tolist()"
      ],
      "execution_count": 83,
      "outputs": []
    },
    {
      "cell_type": "code",
      "metadata": {
        "colab": {
          "base_uri": "https://localhost:8080/"
        },
        "id": "lpsCJ3kv7LkA",
        "outputId": "005d50c5-9445-4d4c-f1b7-f7ad2960cdf6"
      },
      "source": [
        "print(input_words[0])\n",
        "print(target_words[0])"
      ],
      "execution_count": 84,
      "outputs": [
        {
          "output_type": "stream",
          "name": "stdout",
          "text": [
            "प्रयात सुबोध चन्द्र दास\n",
            "^late subodh chandra das$\n"
          ]
        }
      ]
    },
    {
      "cell_type": "code",
      "metadata": {
        "colab": {
          "base_uri": "https://localhost:8080/"
        },
        "id": "X3pGuZOyQ1D2",
        "outputId": "d29b6d99-6a89-4e61-96a0-8d6b4435e69e"
      },
      "source": [
        "print(f\"Total number of input words {len(input_words)}\")\n",
        "print(f\"Total number of target words {len(target_words)}\")"
      ],
      "execution_count": 85,
      "outputs": [
        {
          "output_type": "stream",
          "name": "stdout",
          "text": [
            "Total number of input words 55768\n",
            "Total number of target words 55768\n"
          ]
        }
      ]
    },
    {
      "cell_type": "code",
      "metadata": {
        "id": "U5Trw_fmOLi7"
      },
      "source": [
        "def build_vocab(input_words, target_words):\n",
        "  input_vocab = set()\n",
        "  target_vocab = set()\n",
        "  for input_word, target_word in zip(input_words, target_words):\n",
        "      input_vocab.update(set(input_word))\n",
        "      target_vocab.update(set(target_word))\n",
        "  return input_vocab, target_vocab"
      ],
      "execution_count": 86,
      "outputs": []
    },
    {
      "cell_type": "code",
      "metadata": {
        "id": "RlgD8jM0OsHG"
      },
      "source": [
        "input_vocab, target_vocab = build_vocab(input_words, target_words)"
      ],
      "execution_count": 87,
      "outputs": []
    },
    {
      "cell_type": "code",
      "metadata": {
        "colab": {
          "base_uri": "https://localhost:8080/"
        },
        "id": "W_wQMLvrOyu_",
        "outputId": "96e1fcbf-3fd1-499d-f956-601b87995143"
      },
      "source": [
        "print(f\"Total hindi characters {len(input_vocab)}\")\n",
        "print(f\"Total english characters {len(target_vocab)}\")"
      ],
      "execution_count": 89,
      "outputs": [
        {
          "output_type": "stream",
          "name": "stdout",
          "text": [
            "Total hindi characters 186\n",
            "Total english characters 35\n"
          ]
        }
      ]
    },
    {
      "cell_type": "code",
      "metadata": {
        "id": "ztVnKKGsYlFK"
      },
      "source": [
        "input_vocab = sorted(list(input_vocab))\n",
        "target_vocab = sorted(list(target_vocab))"
      ],
      "execution_count": 90,
      "outputs": []
    },
    {
      "cell_type": "code",
      "metadata": {
        "id": "fbJSDwkvXvQp"
      },
      "source": [
        "input_token_index = dict([(char, i) for i, char in enumerate(input_vocab)])\n",
        "target_token_index = dict([(char, i) for i, char in enumerate(target_vocab)])"
      ],
      "execution_count": 91,
      "outputs": []
    },
    {
      "cell_type": "code",
      "metadata": {
        "id": "b7GxU2wrg8u_"
      },
      "source": [
        "# Reverse-lookup token index to decode sequences back to\n",
        "# something readable.\n",
        "reverse_input_char_index = dict((i, char) for char, i in input_token_index.items())\n",
        "reverse_target_char_index = dict((i, char) for char, i in target_token_index.items())"
      ],
      "execution_count": 92,
      "outputs": []
    },
    {
      "cell_type": "code",
      "metadata": {
        "id": "-dxT9ms4YG1y"
      },
      "source": [
        "num_encoder_tokens = len(input_vocab)\n",
        "num_decoder_tokens = len(target_vocab)"
      ],
      "execution_count": 93,
      "outputs": []
    },
    {
      "cell_type": "code",
      "metadata": {
        "id": "DZguL8LRY8Bl"
      },
      "source": [
        "max_encoder_seq_length = max([len(txt) for txt in input_words])\n",
        "max_decoder_seq_length = max([len(txt) for txt in target_words])"
      ],
      "execution_count": 94,
      "outputs": []
    },
    {
      "cell_type": "code",
      "metadata": {
        "colab": {
          "base_uri": "https://localhost:8080/"
        },
        "id": "HZLsjCHrZGuP",
        "outputId": "bed6f865-7184-4624-c70d-3c2c26830ac6"
      },
      "source": [
        "print('Number of samples:', len(input_words))\n",
        "print('Number of unique input tokens:', num_encoder_tokens)\n",
        "print('Number of unique output tokens:', num_decoder_tokens)\n",
        "print('Max sequence length for inputs:', max_encoder_seq_length)\n",
        "print('Max sequence length for outputs:', max_decoder_seq_length)"
      ],
      "execution_count": 95,
      "outputs": [
        {
          "output_type": "stream",
          "name": "stdout",
          "text": [
            "Number of samples: 55768\n",
            "Number of unique input tokens: 186\n",
            "Number of unique output tokens: 35\n",
            "Max sequence length for inputs: 47\n",
            "Max sequence length for outputs: 49\n"
          ]
        }
      ]
    },
    {
      "cell_type": "code",
      "metadata": {
        "id": "nbXBdUGOZO3_"
      },
      "source": [
        "encoder_input_data = np.zeros((len(input_words), max_encoder_seq_length, num_encoder_tokens), dtype='float32')\n",
        "decoder_input_data = np.zeros((len(input_words), max_decoder_seq_length, num_decoder_tokens), dtype='float32')\n",
        "decoder_target_data = np.zeros( (len(input_words), max_decoder_seq_length, num_decoder_tokens), dtype='float32')"
      ],
      "execution_count": 96,
      "outputs": []
    },
    {
      "cell_type": "code",
      "metadata": {
        "colab": {
          "base_uri": "https://localhost:8080/"
        },
        "id": "HO9DgOJOZgpe",
        "outputId": "2d3e7bd8-eb6c-4dd1-c98d-7472181fb6d1"
      },
      "source": [
        "print(f\"encoder input shape {encoder_input_data.shape}\")\n",
        "print(f\"decoder input shape {decoder_input_data.shape}\")\n",
        "print(f\"decoder target shape {decoder_target_data.shape}\")"
      ],
      "execution_count": 97,
      "outputs": [
        {
          "output_type": "stream",
          "name": "stdout",
          "text": [
            "encoder input shape (55768, 47, 186)\n",
            "decoder input shape (55768, 49, 35)\n",
            "decoder target shape (55768, 49, 35)\n"
          ]
        }
      ]
    },
    {
      "cell_type": "code",
      "metadata": {
        "id": "9KGNey6fZ05q"
      },
      "source": [
        "for i, (input_text, target_text) in enumerate(zip(input_words, target_words)):\n",
        "  for t, char in enumerate(input_text):\n",
        "    encoder_input_data[i, t, input_token_index[char]] = 1.0\n",
        "  # for the rest of sentence, mark it as space\n",
        "  #encoder_input_data[i, t + 1 :, input_token_index[\" \"]] = 1.0\n",
        "\n",
        "  for t, char in enumerate(target_text):\n",
        "    # decoder_target_data is ahead of decoder_input_data by one timestep\n",
        "    decoder_input_data[i, t, target_token_index[char]] = 1.0\n",
        "    if t > 0:\n",
        "      # decoder_target_data will be ahead by one timestep\n",
        "      # and will not include the start character.\n",
        "      decoder_target_data[i, t-1, target_token_index[char]] = 1.0\n",
        "      # for the rest of sentence, mark it as space\n",
        "      #decoder_input_data[i, t + 1 :, target_token_index[\" \"]] = 1.0"
      ],
      "execution_count": 98,
      "outputs": []
    },
    {
      "cell_type": "markdown",
      "metadata": {
        "id": "0CZd0uprOC5u"
      },
      "source": [
        "# Define Model"
      ]
    },
    {
      "cell_type": "code",
      "metadata": {
        "id": "0F1B0ezJcehK",
        "colab": {
          "base_uri": "https://localhost:8080/"
        },
        "outputId": "41e65763-303b-45a3-d1a1-9fed3d2bb3c8"
      },
      "source": [
        "latent_dim = 256  # Latent dimensionality of the encoding space.\n",
        "\n",
        "# Define an input sequence and process it.\n",
        "encoder_inputs = Input(shape=(None, num_encoder_tokens))\n",
        "print(encoder_inputs.shape)\n",
        "\n",
        "# Note that LSTM takes only 3 dims, (samples, timesteps, features)\n",
        "encoder = LSTM(latent_dim, return_state=True)\n",
        "\n",
        "encoder_outputs, state_h, state_c = encoder(encoder_inputs)\n",
        "# We discard `encoder_outputs` and only keep the states.\n",
        "encoder_states = [state_h, state_c]"
      ],
      "execution_count": 99,
      "outputs": [
        {
          "output_type": "stream",
          "name": "stdout",
          "text": [
            "(None, None, 186)\n"
          ]
        }
      ]
    },
    {
      "cell_type": "code",
      "metadata": {
        "id": "D4g-jGmUeeL4",
        "colab": {
          "base_uri": "https://localhost:8080/"
        },
        "outputId": "aadcdf74-4702-4779-def9-a6b8f7463adc"
      },
      "source": [
        "# Set up the decoder, using `encoder_states` as initial state.\n",
        "decoder_inputs = Input(shape=(None, num_decoder_tokens))\n",
        "print(decoder_inputs.shape)\n",
        "\n",
        "# We set up our decoder to return full output sequences,\n",
        "# and to return internal states as well. We don't use the\n",
        "# return states in the training model, but we will use them in inference.\n",
        "decoder = LSTM(latent_dim, return_sequences=True, return_state=True)\n",
        "\n",
        "decoder_outputs, _, _ = decoder(decoder_inputs, initial_state=encoder_states)\n",
        "print(decoder_outputs.shape)\n",
        "\n",
        "decoder_dense = Dense(num_decoder_tokens, activation='softmax')\n",
        "decoder_outputs = decoder_dense(decoder_outputs)\n",
        "print(decoder_outputs.shape)"
      ],
      "execution_count": 100,
      "outputs": [
        {
          "output_type": "stream",
          "name": "stdout",
          "text": [
            "(None, None, 35)\n",
            "(None, None, 256)\n",
            "(None, None, 35)\n"
          ]
        }
      ]
    },
    {
      "cell_type": "code",
      "metadata": {
        "id": "voLTGIiBeyKO"
      },
      "source": [
        "# Define the model that will turn\n",
        "# `encoder_input_data` & `decoder_input_data` into `decoder_target_data`\n",
        "model = Model([encoder_inputs, decoder_inputs], decoder_outputs)"
      ],
      "execution_count": 101,
      "outputs": []
    },
    {
      "cell_type": "code",
      "metadata": {
        "colab": {
          "base_uri": "https://localhost:8080/"
        },
        "id": "iShaSKTZYbxl",
        "outputId": "4d1d1ec8-038b-46bc-865d-689e73a62dbf"
      },
      "source": [
        "model.summary()"
      ],
      "execution_count": 102,
      "outputs": [
        {
          "output_type": "stream",
          "name": "stdout",
          "text": [
            "Model: \"model_1\"\n",
            "__________________________________________________________________________________________________\n",
            "Layer (type)                    Output Shape         Param #     Connected to                     \n",
            "==================================================================================================\n",
            "input_3 (InputLayer)            [(None, None, 186)]  0                                            \n",
            "__________________________________________________________________________________________________\n",
            "input_4 (InputLayer)            [(None, None, 35)]   0                                            \n",
            "__________________________________________________________________________________________________\n",
            "lstm_2 (LSTM)                   [(None, 256), (None, 453632      input_3[0][0]                    \n",
            "__________________________________________________________________________________________________\n",
            "lstm_3 (LSTM)                   [(None, None, 256),  299008      input_4[0][0]                    \n",
            "                                                                 lstm_2[0][1]                     \n",
            "                                                                 lstm_2[0][2]                     \n",
            "__________________________________________________________________________________________________\n",
            "dense_1 (Dense)                 (None, None, 35)     8995        lstm_3[0][0]                     \n",
            "==================================================================================================\n",
            "Total params: 761,635\n",
            "Trainable params: 761,635\n",
            "Non-trainable params: 0\n",
            "__________________________________________________________________________________________________\n"
          ]
        }
      ]
    },
    {
      "cell_type": "code",
      "metadata": {
        "colab": {
          "base_uri": "https://localhost:8080/",
          "height": 422
        },
        "id": "mfGcinDOYqKl",
        "outputId": "7c1d116b-3b79-4a5e-d795-5b1bdf2cc41a"
      },
      "source": [
        "tf.keras.utils.plot_model(model, show_shapes=True, show_layer_names=True)"
      ],
      "execution_count": 103,
      "outputs": [
        {
          "output_type": "execute_result",
          "data": {
            "image/png": "[encoded data removed]",
            "text/plain": [
              "<IPython.core.display.Image object>"
            ]
          },
          "metadata": {},
          "execution_count": 103
        }
      ]
    },
    {
      "cell_type": "markdown",
      "metadata": {
        "id": "eMp54YzsOKwn"
      },
      "source": [
        "# Train"
      ]
    },
    {
      "cell_type": "code",
      "metadata": {
        "colab": {
          "base_uri": "https://localhost:8080/"
        },
        "id": "CbARhubxe2yA",
        "outputId": "89084cde-5976-4c7a-d51a-630f1b392853"
      },
      "source": [
        "# Training\n",
        "batch_size = 64  # Batch size for training.\n",
        "epochs = 100  # Number of epochs to train for.\n",
        "initial_learning_rate = 0.001\n",
        "\n",
        "model_save_filename = \"model.h5\"\n",
        "\n",
        "model.compile(\n",
        "    optimizer=tf.keras.optimizers.RMSprop(learning_rate=initial_learning_rate), \n",
        "    loss='categorical_crossentropy', \n",
        "    metrics=['accuracy'])\n",
        "\n",
        "# Add callbacks:\n",
        "# 'EarlyStopping' to stop training when the model is not enhancing anymore\n",
        "# 'ModelCheckPoint' to always keep the model that has the best val_accuracy\n",
        "# 'LearningRateScheduler' to decay lr \n",
        "earlystopping_cb = EarlyStopping(\n",
        "    monitor=\"val_accuracy\",\n",
        "    mode=\"max\",\n",
        "    verbose=1,\n",
        "    patience=10, \n",
        "    restore_best_weights=True)\n",
        "\n",
        "mdlcheckpoint_cb = ModelCheckpoint(\n",
        "    model_save_filename, \n",
        "    monitor=\"val_accuracy\", \n",
        "    mode=\"max\",\n",
        "    verbose=1,\n",
        "    save_best_only=True\n",
        ")\n",
        "\n",
        "decay = initial_learning_rate / epochs\n",
        "def lr_time_based_decay(epoch, lr):\n",
        "    return lr * 1 / (1 + decay * epoch)\n",
        "lrscheduler_cb = tf.keras.callbacks.LearningRateScheduler(lr_time_based_decay)\n",
        "\n",
        "history = model.fit([encoder_input_data, decoder_input_data], decoder_target_data,\n",
        "          batch_size=batch_size, epochs=epochs,  validation_split=0.2, \n",
        "          callbacks=[earlystopping_cb, mdlcheckpoint_cb, lrscheduler_cb])"
      ],
      "execution_count": 104,
      "outputs": [
        {
          "output_type": "stream",
          "name": "stdout",
          "text": [
            "Epoch 1/100\n",
            "349/349 [==============================] - 12s 24ms/step - loss: 0.6011 - accuracy: 0.0416 - val_loss: 0.4946 - val_accuracy: 0.0405\n",
            "\n",
            "Epoch 00001: val_accuracy improved from -inf to 0.04051, saving model to model.h5\n",
            "Epoch 2/100\n",
            "349/349 [==============================] - 7s 20ms/step - loss: 0.5695 - accuracy: 0.0494 - val_loss: 0.4804 - val_accuracy: 0.0464\n",
            "\n",
            "Epoch 00002: val_accuracy improved from 0.04051 to 0.04639, saving model to model.h5\n",
            "Epoch 3/100\n",
            "349/349 [==============================] - 7s 20ms/step - loss: 0.5456 - accuracy: 0.0551 - val_loss: 0.4687 - val_accuracy: 0.0494\n",
            "\n",
            "Epoch 00003: val_accuracy improved from 0.04639 to 0.04938, saving model to model.h5\n",
            "Epoch 4/100\n",
            "349/349 [==============================] - 7s 20ms/step - loss: 0.5286 - accuracy: 0.0596 - val_loss: 0.4728 - val_accuracy: 0.0500\n",
            "\n",
            "Epoch 00004: val_accuracy improved from 0.04938 to 0.04996, saving model to model.h5\n",
            "Epoch 5/100\n",
            "349/349 [==============================] - 7s 20ms/step - loss: 0.5099 - accuracy: 0.0647 - val_loss: 0.4827 - val_accuracy: 0.0496\n",
            "\n",
            "Epoch 00005: val_accuracy did not improve from 0.04996\n",
            "Epoch 6/100\n",
            "349/349 [==============================] - 7s 20ms/step - loss: 0.4926 - accuracy: 0.0697 - val_loss: 0.4557 - val_accuracy: 0.0540\n",
            "\n",
            "Epoch 00006: val_accuracy improved from 0.04996 to 0.05397, saving model to model.h5\n",
            "Epoch 7/100\n",
            "349/349 [==============================] - 7s 20ms/step - loss: 0.4730 - accuracy: 0.0757 - val_loss: 0.4392 - val_accuracy: 0.0571\n",
            "\n",
            "Epoch 00007: val_accuracy improved from 0.05397 to 0.05705, saving model to model.h5\n",
            "Epoch 8/100\n",
            "349/349 [==============================] - 7s 20ms/step - loss: 0.4487 - accuracy: 0.0838 - val_loss: 0.4251 - val_accuracy: 0.0611\n",
            "\n",
            "Epoch 00008: val_accuracy improved from 0.05705 to 0.06109, saving model to model.h5\n",
            "Epoch 9/100\n",
            "349/349 [==============================] - 7s 20ms/step - loss: 0.4271 - accuracy: 0.0911 - val_loss: 0.4082 - val_accuracy: 0.0661\n",
            "\n",
            "Epoch 00009: val_accuracy improved from 0.06109 to 0.06606, saving model to model.h5\n",
            "Epoch 10/100\n",
            "349/349 [==============================] - 7s 20ms/step - loss: 0.4100 - accuracy: 0.0964 - val_loss: 0.4033 - val_accuracy: 0.0662\n",
            "\n",
            "Epoch 00010: val_accuracy improved from 0.06606 to 0.06622, saving model to model.h5\n",
            "Epoch 11/100\n",
            "349/349 [==============================] - 7s 20ms/step - loss: 0.3947 - accuracy: 0.1012 - val_loss: 0.3681 - val_accuracy: 0.0754\n",
            "\n",
            "Epoch 00011: val_accuracy improved from 0.06622 to 0.07543, saving model to model.h5\n",
            "Epoch 12/100\n",
            "349/349 [==============================] - 7s 20ms/step - loss: 0.3815 - accuracy: 0.1051 - val_loss: 0.3682 - val_accuracy: 0.0757\n",
            "\n",
            "Epoch 00012: val_accuracy improved from 0.07543 to 0.07569, saving model to model.h5\n",
            "Epoch 13/100\n",
            "349/349 [==============================] - 7s 20ms/step - loss: 0.3681 - accuracy: 0.1090 - val_loss: 0.3386 - val_accuracy: 0.0838\n",
            "\n",
            "Epoch 00013: val_accuracy improved from 0.07569 to 0.08383, saving model to model.h5\n",
            "Epoch 14/100\n",
            "349/349 [==============================] - 7s 20ms/step - loss: 0.3569 - accuracy: 0.1124 - val_loss: 0.3530 - val_accuracy: 0.0811\n",
            "\n",
            "Epoch 00014: val_accuracy did not improve from 0.08383\n",
            "Epoch 15/100\n",
            "349/349 [==============================] - 7s 20ms/step - loss: 0.3451 - accuracy: 0.1161 - val_loss: 0.3160 - val_accuracy: 0.0904\n",
            "\n",
            "Epoch 00015: val_accuracy improved from 0.08383 to 0.09035, saving model to model.h5\n",
            "Epoch 16/100\n",
            "349/349 [==============================] - 7s 20ms/step - loss: 0.3341 - accuracy: 0.1193 - val_loss: 0.3145 - val_accuracy: 0.0919\n",
            "\n",
            "Epoch 00016: val_accuracy improved from 0.09035 to 0.09186, saving model to model.h5\n",
            "Epoch 17/100\n",
            "349/349 [==============================] - 7s 20ms/step - loss: 0.3229 - accuracy: 0.1226 - val_loss: 0.3043 - val_accuracy: 0.0950\n",
            "\n",
            "Epoch 00017: val_accuracy improved from 0.09186 to 0.09502, saving model to model.h5\n",
            "Epoch 18/100\n",
            "349/349 [==============================] - 7s 20ms/step - loss: 0.3143 - accuracy: 0.1250 - val_loss: 0.3112 - val_accuracy: 0.0925\n",
            "\n",
            "Epoch 00018: val_accuracy did not improve from 0.09502\n",
            "Epoch 19/100\n",
            "349/349 [==============================] - 7s 20ms/step - loss: 0.3057 - accuracy: 0.1276 - val_loss: 0.2816 - val_accuracy: 0.1005\n",
            "\n",
            "Epoch 00019: val_accuracy improved from 0.09502 to 0.10054, saving model to model.h5\n",
            "Epoch 20/100\n",
            "349/349 [==============================] - 7s 20ms/step - loss: 0.2971 - accuracy: 0.1299 - val_loss: 0.2763 - val_accuracy: 0.1011\n",
            "\n",
            "Epoch 00020: val_accuracy improved from 0.10054 to 0.10110, saving model to model.h5\n",
            "Epoch 21/100\n",
            "349/349 [==============================] - 7s 20ms/step - loss: 0.2899 - accuracy: 0.1320 - val_loss: 0.2555 - val_accuracy: 0.1067\n",
            "\n",
            "Epoch 00021: val_accuracy improved from 0.10110 to 0.10670, saving model to model.h5\n",
            "Epoch 22/100\n",
            "349/349 [==============================] - 7s 20ms/step - loss: 0.2828 - accuracy: 0.1338 - val_loss: 0.2554 - val_accuracy: 0.1057\n",
            "\n",
            "Epoch 00022: val_accuracy did not improve from 0.10670\n",
            "Epoch 23/100\n",
            "349/349 [==============================] - 7s 20ms/step - loss: 0.2761 - accuracy: 0.1357 - val_loss: 0.2771 - val_accuracy: 0.1020\n",
            "\n",
            "Epoch 00023: val_accuracy did not improve from 0.10670\n",
            "Epoch 24/100\n",
            "349/349 [==============================] - 7s 20ms/step - loss: 0.2693 - accuracy: 0.1375 - val_loss: 0.2469 - val_accuracy: 0.1091\n",
            "\n",
            "Epoch 00024: val_accuracy improved from 0.10670 to 0.10911, saving model to model.h5\n",
            "Epoch 25/100\n",
            "349/349 [==============================] - 7s 20ms/step - loss: 0.2629 - accuracy: 0.1391 - val_loss: 0.2603 - val_accuracy: 0.1053\n",
            "\n",
            "Epoch 00025: val_accuracy did not improve from 0.10911\n",
            "Epoch 26/100\n",
            "349/349 [==============================] - 7s 20ms/step - loss: 0.2576 - accuracy: 0.1404 - val_loss: 0.2361 - val_accuracy: 0.1124\n",
            "\n",
            "Epoch 00026: val_accuracy improved from 0.10911 to 0.11242, saving model to model.h5\n",
            "Epoch 27/100\n",
            "349/349 [==============================] - 7s 20ms/step - loss: 0.2517 - accuracy: 0.1421 - val_loss: 0.2682 - val_accuracy: 0.1027\n",
            "\n",
            "Epoch 00027: val_accuracy did not improve from 0.11242\n",
            "Epoch 28/100\n",
            "349/349 [==============================] - 7s 20ms/step - loss: 0.2467 - accuracy: 0.1433 - val_loss: 0.2673 - val_accuracy: 0.1033\n",
            "\n",
            "Epoch 00028: val_accuracy did not improve from 0.11242\n",
            "Epoch 29/100\n",
            "349/349 [==============================] - 7s 20ms/step - loss: 0.2413 - accuracy: 0.1446 - val_loss: 0.2220 - val_accuracy: 0.1151\n",
            "\n",
            "Epoch 00029: val_accuracy improved from 0.11242 to 0.11513, saving model to model.h5\n",
            "Epoch 30/100\n",
            "349/349 [==============================] - 7s 20ms/step - loss: 0.2357 - accuracy: 0.1462 - val_loss: 0.2427 - val_accuracy: 0.1098\n",
            "\n",
            "Epoch 00030: val_accuracy did not improve from 0.11513\n",
            "Epoch 31/100\n",
            "349/349 [==============================] - 7s 20ms/step - loss: 0.2312 - accuracy: 0.1473 - val_loss: 0.2257 - val_accuracy: 0.1138\n",
            "\n",
            "Epoch 00031: val_accuracy did not improve from 0.11513\n",
            "Epoch 32/100\n",
            "349/349 [==============================] - 7s 20ms/step - loss: 0.2259 - accuracy: 0.1485 - val_loss: 0.2209 - val_accuracy: 0.1145\n",
            "\n",
            "Epoch 00032: val_accuracy did not improve from 0.11513\n",
            "Epoch 33/100\n",
            "349/349 [==============================] - 7s 20ms/step - loss: 0.2215 - accuracy: 0.1497 - val_loss: 0.2126 - val_accuracy: 0.1170\n",
            "\n",
            "Epoch 00033: val_accuracy improved from 0.11513 to 0.11702, saving model to model.h5\n",
            "Epoch 34/100\n",
            "349/349 [==============================] - 7s 20ms/step - loss: 0.2168 - accuracy: 0.1507 - val_loss: 0.2131 - val_accuracy: 0.1160\n",
            "\n",
            "Epoch 00034: val_accuracy did not improve from 0.11702\n",
            "Epoch 35/100\n",
            "349/349 [==============================] - 7s 20ms/step - loss: 0.2126 - accuracy: 0.1517 - val_loss: 0.2176 - val_accuracy: 0.1155\n",
            "\n",
            "Epoch 00035: val_accuracy did not improve from 0.11702\n",
            "Epoch 36/100\n",
            "349/349 [==============================] - 7s 20ms/step - loss: 0.2087 - accuracy: 0.1525 - val_loss: 0.1994 - val_accuracy: 0.1210\n",
            "\n",
            "Epoch 00036: val_accuracy improved from 0.11702 to 0.12100, saving model to model.h5\n",
            "Epoch 37/100\n",
            "349/349 [==============================] - 7s 20ms/step - loss: 0.2045 - accuracy: 0.1536 - val_loss: 0.2042 - val_accuracy: 0.1196\n",
            "\n",
            "Epoch 00037: val_accuracy did not improve from 0.12100\n",
            "Epoch 38/100\n",
            "349/349 [==============================] - 7s 20ms/step - loss: 0.2009 - accuracy: 0.1542 - val_loss: 0.2019 - val_accuracy: 0.1195\n",
            "\n",
            "Epoch 00038: val_accuracy did not improve from 0.12100\n",
            "Epoch 39/100\n",
            "349/349 [==============================] - 7s 20ms/step - loss: 0.1971 - accuracy: 0.1550 - val_loss: 0.2247 - val_accuracy: 0.1122\n",
            "\n",
            "Epoch 00039: val_accuracy did not improve from 0.12100\n",
            "Epoch 40/100\n",
            "349/349 [==============================] - 7s 20ms/step - loss: 0.1934 - accuracy: 0.1561 - val_loss: 0.1888 - val_accuracy: 0.1227\n",
            "\n",
            "Epoch 00040: val_accuracy improved from 0.12100 to 0.12275, saving model to model.h5\n",
            "Epoch 41/100\n",
            "349/349 [==============================] - 7s 20ms/step - loss: 0.1896 - accuracy: 0.1571 - val_loss: 0.1888 - val_accuracy: 0.1230\n",
            "\n",
            "Epoch 00041: val_accuracy improved from 0.12275 to 0.12304, saving model to model.h5\n",
            "Epoch 42/100\n",
            "349/349 [==============================] - 7s 20ms/step - loss: 0.1861 - accuracy: 0.1578 - val_loss: 0.1925 - val_accuracy: 0.1208\n",
            "\n",
            "Epoch 00042: val_accuracy did not improve from 0.12304\n",
            "Epoch 43/100\n",
            "349/349 [==============================] - 7s 20ms/step - loss: 0.1830 - accuracy: 0.1587 - val_loss: 0.1901 - val_accuracy: 0.1225\n",
            "\n",
            "Epoch 00043: val_accuracy did not improve from 0.12304\n",
            "Epoch 44/100\n",
            "349/349 [==============================] - 7s 20ms/step - loss: 0.1798 - accuracy: 0.1595 - val_loss: 0.1843 - val_accuracy: 0.1237\n",
            "\n",
            "Epoch 00044: val_accuracy improved from 0.12304 to 0.12367, saving model to model.h5\n",
            "Epoch 45/100\n",
            "349/349 [==============================] - 7s 20ms/step - loss: 0.1771 - accuracy: 0.1601 - val_loss: 0.2010 - val_accuracy: 0.1181\n",
            "\n",
            "Epoch 00045: val_accuracy did not improve from 0.12367\n",
            "Epoch 46/100\n",
            "349/349 [==============================] - 7s 20ms/step - loss: 0.1741 - accuracy: 0.1610 - val_loss: 0.1847 - val_accuracy: 0.1236\n",
            "\n",
            "Epoch 00046: val_accuracy did not improve from 0.12367\n",
            "Epoch 47/100\n",
            "349/349 [==============================] - 7s 20ms/step - loss: 0.1711 - accuracy: 0.1619 - val_loss: 0.1840 - val_accuracy: 0.1226\n",
            "\n",
            "Epoch 00047: val_accuracy did not improve from 0.12367\n",
            "Epoch 48/100\n",
            "349/349 [==============================] - 7s 20ms/step - loss: 0.1692 - accuracy: 0.1623 - val_loss: 0.1836 - val_accuracy: 0.1223\n",
            "\n",
            "Epoch 00048: val_accuracy did not improve from 0.12367\n",
            "Epoch 49/100\n",
            "349/349 [==============================] - 7s 20ms/step - loss: 0.1663 - accuracy: 0.1631 - val_loss: 0.1878 - val_accuracy: 0.1215\n",
            "\n",
            "Epoch 00049: val_accuracy did not improve from 0.12367\n",
            "Epoch 50/100\n",
            "349/349 [==============================] - 7s 20ms/step - loss: 0.1642 - accuracy: 0.1637 - val_loss: 0.1803 - val_accuracy: 0.1236\n",
            "\n",
            "Epoch 00050: val_accuracy did not improve from 0.12367\n",
            "Epoch 51/100\n",
            "349/349 [==============================] - 7s 20ms/step - loss: 0.1623 - accuracy: 0.1641 - val_loss: 0.1780 - val_accuracy: 0.1246\n",
            "\n",
            "Epoch 00051: val_accuracy improved from 0.12367 to 0.12458, saving model to model.h5\n",
            "Epoch 52/100\n",
            "349/349 [==============================] - 7s 20ms/step - loss: 0.1603 - accuracy: 0.1646 - val_loss: 0.1788 - val_accuracy: 0.1240\n",
            "\n",
            "Epoch 00052: val_accuracy did not improve from 0.12458\n",
            "Epoch 53/100\n",
            "349/349 [==============================] - 7s 20ms/step - loss: 0.1581 - accuracy: 0.1653 - val_loss: 0.1813 - val_accuracy: 0.1229\n",
            "\n",
            "Epoch 00053: val_accuracy did not improve from 0.12458\n",
            "Epoch 54/100\n",
            "349/349 [==============================] - 7s 20ms/step - loss: 0.1565 - accuracy: 0.1657 - val_loss: 0.1768 - val_accuracy: 0.1253\n",
            "\n",
            "Epoch 00054: val_accuracy improved from 0.12458 to 0.12527, saving model to model.h5\n",
            "Epoch 55/100\n",
            "349/349 [==============================] - 7s 20ms/step - loss: 0.1544 - accuracy: 0.1662 - val_loss: 0.1776 - val_accuracy: 0.1248\n",
            "\n",
            "Epoch 00055: val_accuracy did not improve from 0.12527\n",
            "Epoch 56/100\n",
            "349/349 [==============================] - 7s 20ms/step - loss: 0.1527 - accuracy: 0.1666 - val_loss: 0.1795 - val_accuracy: 0.1226\n",
            "\n",
            "Epoch 00056: val_accuracy did not improve from 0.12527\n",
            "Epoch 57/100\n",
            "349/349 [==============================] - 7s 20ms/step - loss: 0.1509 - accuracy: 0.1671 - val_loss: 0.1734 - val_accuracy: 0.1254\n",
            "\n",
            "Epoch 00057: val_accuracy improved from 0.12527 to 0.12540, saving model to model.h5\n",
            "Epoch 58/100\n",
            "349/349 [==============================] - 7s 20ms/step - loss: 0.1493 - accuracy: 0.1675 - val_loss: 0.1752 - val_accuracy: 0.1252\n",
            "\n",
            "Epoch 00058: val_accuracy did not improve from 0.12540\n",
            "Epoch 59/100\n",
            "349/349 [==============================] - 7s 20ms/step - loss: 0.1475 - accuracy: 0.1681 - val_loss: 0.1774 - val_accuracy: 0.1242\n",
            "\n",
            "Epoch 00059: val_accuracy did not improve from 0.12540\n",
            "Epoch 60/100\n",
            "349/349 [==============================] - 7s 20ms/step - loss: 0.1459 - accuracy: 0.1685 - val_loss: 0.1727 - val_accuracy: 0.1252\n",
            "\n",
            "Epoch 00060: val_accuracy did not improve from 0.12540\n",
            "Epoch 61/100\n",
            "349/349 [==============================] - 7s 20ms/step - loss: 0.1444 - accuracy: 0.1689 - val_loss: 0.1716 - val_accuracy: 0.1256\n",
            "\n",
            "Epoch 00061: val_accuracy improved from 0.12540 to 0.12564, saving model to model.h5\n",
            "Epoch 62/100\n",
            "349/349 [==============================] - 7s 20ms/step - loss: 0.1432 - accuracy: 0.1693 - val_loss: 0.1724 - val_accuracy: 0.1258\n",
            "\n",
            "Epoch 00062: val_accuracy improved from 0.12564 to 0.12581, saving model to model.h5\n",
            "Epoch 63/100\n",
            "349/349 [==============================] - 7s 20ms/step - loss: 0.1416 - accuracy: 0.1695 - val_loss: 0.1713 - val_accuracy: 0.1259\n",
            "\n",
            "Epoch 00063: val_accuracy improved from 0.12581 to 0.12595, saving model to model.h5\n",
            "Epoch 64/100\n",
            "349/349 [==============================] - 7s 20ms/step - loss: 0.1404 - accuracy: 0.1700 - val_loss: 0.1751 - val_accuracy: 0.1246\n",
            "\n",
            "Epoch 00064: val_accuracy did not improve from 0.12595\n",
            "Epoch 65/100\n",
            "349/349 [==============================] - 7s 20ms/step - loss: 0.1392 - accuracy: 0.1703 - val_loss: 0.1687 - val_accuracy: 0.1264\n",
            "\n",
            "Epoch 00065: val_accuracy improved from 0.12595 to 0.12636, saving model to model.h5\n",
            "Epoch 66/100\n",
            "349/349 [==============================] - 7s 20ms/step - loss: 0.1380 - accuracy: 0.1707 - val_loss: 0.1695 - val_accuracy: 0.1268\n",
            "\n",
            "Epoch 00066: val_accuracy improved from 0.12636 to 0.12679, saving model to model.h5\n",
            "Epoch 67/100\n",
            "349/349 [==============================] - 7s 20ms/step - loss: 0.1367 - accuracy: 0.1711 - val_loss: 0.1699 - val_accuracy: 0.1265\n",
            "\n",
            "Epoch 00067: val_accuracy did not improve from 0.12679\n",
            "Epoch 68/100\n",
            "349/349 [==============================] - 7s 20ms/step - loss: 0.1355 - accuracy: 0.1713 - val_loss: 0.1695 - val_accuracy: 0.1259\n",
            "\n",
            "Epoch 00068: val_accuracy did not improve from 0.12679\n",
            "Epoch 69/100\n",
            "349/349 [==============================] - 7s 20ms/step - loss: 0.1347 - accuracy: 0.1714 - val_loss: 0.1736 - val_accuracy: 0.1246\n",
            "\n",
            "Epoch 00069: val_accuracy did not improve from 0.12679\n",
            "Epoch 70/100\n",
            "349/349 [==============================] - 7s 20ms/step - loss: 0.1333 - accuracy: 0.1718 - val_loss: 0.1712 - val_accuracy: 0.1260\n",
            "\n",
            "Epoch 00070: val_accuracy did not improve from 0.12679\n",
            "Epoch 71/100\n",
            "349/349 [==============================] - 7s 19ms/step - loss: 0.1321 - accuracy: 0.1722 - val_loss: 0.1678 - val_accuracy: 0.1273\n",
            "\n",
            "Epoch 00071: val_accuracy improved from 0.12679 to 0.12726, saving model to model.h5\n",
            "Epoch 72/100\n",
            "349/349 [==============================] - 7s 20ms/step - loss: 0.1312 - accuracy: 0.1724 - val_loss: 0.1676 - val_accuracy: 0.1267\n",
            "\n",
            "Epoch 00072: val_accuracy did not improve from 0.12726\n",
            "Epoch 73/100\n",
            "349/349 [==============================] - 7s 20ms/step - loss: 0.1302 - accuracy: 0.1727 - val_loss: 0.1700 - val_accuracy: 0.1263\n",
            "\n",
            "Epoch 00073: val_accuracy did not improve from 0.12726\n",
            "Epoch 74/100\n",
            "349/349 [==============================] - 7s 20ms/step - loss: 0.1290 - accuracy: 0.1730 - val_loss: 0.1667 - val_accuracy: 0.1264\n",
            "\n",
            "Epoch 00074: val_accuracy did not improve from 0.12726\n",
            "Epoch 75/100\n",
            "349/349 [==============================] - 7s 20ms/step - loss: 0.1283 - accuracy: 0.1733 - val_loss: 0.1674 - val_accuracy: 0.1268\n",
            "\n",
            "Epoch 00075: val_accuracy did not improve from 0.12726\n",
            "Epoch 76/100\n",
            "349/349 [==============================] - 7s 20ms/step - loss: 0.1276 - accuracy: 0.1733 - val_loss: 0.1684 - val_accuracy: 0.1258\n",
            "\n",
            "Epoch 00076: val_accuracy did not improve from 0.12726\n",
            "Epoch 77/100\n",
            "349/349 [==============================] - 7s 20ms/step - loss: 0.1265 - accuracy: 0.1737 - val_loss: 0.1676 - val_accuracy: 0.1266\n",
            "\n",
            "Epoch 00077: val_accuracy did not improve from 0.12726\n",
            "Epoch 78/100\n",
            "349/349 [==============================] - 7s 20ms/step - loss: 0.1255 - accuracy: 0.1740 - val_loss: 0.1663 - val_accuracy: 0.1271\n",
            "\n",
            "Epoch 00078: val_accuracy did not improve from 0.12726\n",
            "Epoch 79/100\n",
            "349/349 [==============================] - 7s 20ms/step - loss: 0.1248 - accuracy: 0.1742 - val_loss: 0.1675 - val_accuracy: 0.1268\n",
            "\n",
            "Epoch 00079: val_accuracy did not improve from 0.12726\n",
            "Epoch 80/100\n",
            "349/349 [==============================] - 7s 20ms/step - loss: 0.1242 - accuracy: 0.1743 - val_loss: 0.1670 - val_accuracy: 0.1266\n",
            "\n",
            "Epoch 00080: val_accuracy did not improve from 0.12726\n",
            "Epoch 81/100\n",
            "349/349 [==============================] - 7s 20ms/step - loss: 0.1231 - accuracy: 0.1746 - val_loss: 0.1762 - val_accuracy: 0.1233\n",
            "Restoring model weights from the end of the best epoch.\n",
            "\n",
            "Epoch 00081: val_accuracy did not improve from 0.12726\n",
            "Epoch 00081: early stopping\n"
          ]
        }
      ]
    },
    {
      "cell_type": "code",
      "metadata": {
        "colab": {
          "base_uri": "https://localhost:8080/"
        },
        "id": "OAvJi9RndsTf",
        "outputId": "094220b3-35b3-4bb7-ae10-61e784da429e"
      },
      "source": [
        "# list all data in history\n",
        "print(history.history.keys())"
      ],
      "execution_count": 105,
      "outputs": [
        {
          "output_type": "stream",
          "name": "stdout",
          "text": [
            "dict_keys(['loss', 'accuracy', 'val_loss', 'val_accuracy', 'lr'])\n"
          ]
        }
      ]
    },
    {
      "cell_type": "code",
      "metadata": {
        "colab": {
          "base_uri": "https://localhost:8080/",
          "height": 295
        },
        "id": "CRUKMJidtBC2",
        "outputId": "f09865a9-9fe1-4d39-ee36-669d72c8e225"
      },
      "source": [
        "# summarize history for accuracy\n",
        "plt.plot(history.history['accuracy'])\n",
        "plt.plot(history.history['val_accuracy'])\n",
        "plt.title('model accuracy')\n",
        "plt.ylabel('accuracy')\n",
        "plt.xlabel('epoch')\n",
        "plt.legend(['train', 'validation'], loc='upper left')\n",
        "plt.show()"
      ],
      "execution_count": 106,
      "outputs": [
        {
          "output_type": "display_data",
          "data": {
            "image/png": "[encoded data removed]",
            "text/plain": [
              "<Figure size 432x288 with 1 Axes>"
            ]
          },
          "metadata": {
            "needs_background": "light"
          }
        }
      ]
    },
    {
      "cell_type": "code",
      "metadata": {
        "colab": {
          "base_uri": "https://localhost:8080/",
          "height": 295
        },
        "id": "arLbJGpHa-JC",
        "outputId": "3d259bd0-1ba4-4175-c30d-a2ea14bcb45e"
      },
      "source": [
        "# summarize history for loss\n",
        "plt.plot(history.history['loss'])\n",
        "plt.plot(history.history['val_loss'])\n",
        "plt.title('model loss')\n",
        "plt.ylabel('loss')\n",
        "plt.xlabel('epoch')\n",
        "plt.legend(['train', 'validation'], loc='upper left')\n",
        "plt.show()"
      ],
      "execution_count": 107,
      "outputs": [
        {
          "output_type": "display_data",
          "data": {
            "image/png": "[encoded data removed]",
            "text/plain": [
              "<Figure size 432x288 with 1 Axes>"
            ]
          },
          "metadata": {
            "needs_background": "light"
          }
        }
      ]
    },
    {
      "cell_type": "code",
      "metadata": {
        "colab": {
          "base_uri": "https://localhost:8080/"
        },
        "id": "Rmx3_vQbfh7J",
        "outputId": "273fbd13-8a56-4a7c-e675-e504cfc8c680"
      },
      "source": [
        "%ls -ltr"
      ],
      "execution_count": 108,
      "outputs": [
        {
          "output_type": "stream",
          "name": "stdout",
          "text": [
            "total 243280\n",
            "-rw------- 1 root root   3898148 Sep 14 19:57 affidavits.csv\n",
            "-rw------- 1 root root    813709 Sep 14 22:38 players_with_hindi_names.json\n",
            "-rw------- 1 root root   6128992 Sep 19 21:17 model_v1.h5\n",
            "-rw------- 1 root root   1326377 Sep 20 22:52 hi.translit.sampled.train.tsv\n",
            "-rw------- 1 root root    282545 Sep 27 23:55 Transliterate_v2.ipynb\n",
            "-rw------- 1 root root    128062 Sep 28 06:22 hi.translit.sampled.test.tsv\n",
            "-rw------- 1 root root 230330576 Sep 29 00:55 manual_saved_model.h5\n",
            "-rw------- 1 root root     32461 Sep 29 21:22 model_plot_dec.png\n",
            "-rw------- 1 root root     37958 Oct  4 13:45 model.png\n",
            "-rw------- 1 root root   6137184 Oct  4 13:54 model.h5\n"
          ]
        }
      ]
    },
    {
      "cell_type": "code",
      "metadata": {
        "colab": {
          "base_uri": "https://localhost:8080/"
        },
        "id": "vm5myRi5tOKl",
        "outputId": "1f7c3519-28c9-4a71-a645-c599ff65a4a9"
      },
      "source": [
        "!du -sh model.h5"
      ],
      "execution_count": 109,
      "outputs": [
        {
          "output_type": "stream",
          "name": "stdout",
          "text": [
            "5.9M\tmodel.h5\n"
          ]
        }
      ]
    },
    {
      "cell_type": "markdown",
      "metadata": {
        "id": "qFGXM_d7OOm-"
      },
      "source": [
        "# Inference"
      ]
    },
    {
      "cell_type": "code",
      "metadata": {
        "id": "ICjit4jSOU4O"
      },
      "source": [
        "# Restore the model and construct the encoder and decoder.\n",
        "model_save_filename = \"model.h5\"\n",
        "model = load_model(model_save_filename)\n",
        "# model = load_model(\"model_v1.h5\")"
      ],
      "execution_count": 110,
      "outputs": []
    },
    {
      "cell_type": "code",
      "metadata": {
        "colab": {
          "base_uri": "https://localhost:8080/"
        },
        "id": "djthL-w1rdNy",
        "outputId": "7d4a70a0-60b7-4e9e-8cb0-be876ca9e16d"
      },
      "source": [
        "model.summary()"
      ],
      "execution_count": 111,
      "outputs": [
        {
          "output_type": "stream",
          "name": "stdout",
          "text": [
            "Model: \"model_1\"\n",
            "__________________________________________________________________________________________________\n",
            "Layer (type)                    Output Shape         Param #     Connected to                     \n",
            "==================================================================================================\n",
            "input_3 (InputLayer)            [(None, None, 186)]  0                                            \n",
            "__________________________________________________________________________________________________\n",
            "input_4 (InputLayer)            [(None, None, 35)]   0                                            \n",
            "__________________________________________________________________________________________________\n",
            "lstm_2 (LSTM)                   [(None, 256), (None, 453632      input_3[0][0]                    \n",
            "__________________________________________________________________________________________________\n",
            "lstm_3 (LSTM)                   [(None, None, 256),  299008      input_4[0][0]                    \n",
            "                                                                 lstm_2[0][1]                     \n",
            "                                                                 lstm_2[0][2]                     \n",
            "__________________________________________________________________________________________________\n",
            "dense_1 (Dense)                 (None, None, 35)     8995        lstm_3[0][0]                     \n",
            "==================================================================================================\n",
            "Total params: 761,635\n",
            "Trainable params: 761,635\n",
            "Non-trainable params: 0\n",
            "__________________________________________________________________________________________________\n"
          ]
        }
      ]
    },
    {
      "cell_type": "code",
      "metadata": {
        "colab": {
          "base_uri": "https://localhost:8080/"
        },
        "id": "O_Yhl8NPrlKX",
        "outputId": "77662bff-f27c-4473-f08f-b9d50ff0ed34"
      },
      "source": [
        "model.layers[1]"
      ],
      "execution_count": 112,
      "outputs": [
        {
          "output_type": "execute_result",
          "data": {
            "text/plain": [
              "<keras.engine.input_layer.InputLayer at 0x7f9735a9fa90>"
            ]
          },
          "metadata": {},
          "execution_count": 112
        }
      ]
    },
    {
      "cell_type": "code",
      "metadata": {
        "id": "7ZowNfcXmWlL"
      },
      "source": [
        "# Predictions\n",
        "encoder_inputs = model.input[0]  # input_1\n",
        "encoder_outputs, state_h_enc, state_c_enc = model.layers[2].output  # lstm_1\n",
        "encoder_states = [state_h_enc, state_c_enc]\n",
        "\n",
        "encoder_model = Model(encoder_inputs, encoder_states)\n",
        "\n",
        "decoder_inputs = model.input[1]  # input_2\n",
        "\n",
        "decoder_state_input_h = Input(shape=(latent_dim,))\n",
        "decoder_state_input_c = Input(shape=(latent_dim,))\n",
        "decoder_states_inputs = [decoder_state_input_h, decoder_state_input_c]\n",
        "\n",
        "decoder_lstm = model.layers[3] # lstm_2\n",
        "decoder_outputs, state_h_dec, state_c_dec = decoder_lstm(\n",
        "    decoder_inputs, initial_state=decoder_states_inputs\n",
        ")\n",
        "\n",
        "decoder_states = [state_h_dec, state_c_dec]\n",
        "\n",
        "decoder_dense = model.layers[-1]\n",
        "decoder_outputs = decoder_dense(decoder_outputs)\n",
        "\n",
        "decoder_model = Model(\n",
        "    [decoder_inputs] + decoder_states_inputs,\n",
        "    [decoder_outputs] + decoder_states\n",
        ")"
      ],
      "execution_count": 113,
      "outputs": []
    },
    {
      "cell_type": "code",
      "metadata": {
        "id": "P-waZOKNPJaS"
      },
      "source": [
        "# Reverse-lookup token index to decode sequences back to\n",
        "# something readable.\n",
        "reverse_input_char_index = dict((i, char) for char, i in input_token_index.items())\n",
        "reverse_target_char_index = dict((i, char) for char, i in target_token_index.items())"
      ],
      "execution_count": 114,
      "outputs": []
    },
    {
      "cell_type": "code",
      "metadata": {
        "colab": {
          "base_uri": "https://localhost:8080/",
          "height": 312
        },
        "id": "90myy-NNvctl",
        "outputId": "1d24297a-057d-437f-ce9f-4171142d28fe"
      },
      "source": [
        "tf.keras.utils.plot_model(decoder_model, to_file='model_plot_dec.png', show_shapes=True, show_layer_names=True)"
      ],
      "execution_count": 115,
      "outputs": [
        {
          "output_type": "execute_result",
          "data": {
            "image/png": "[encoded data removed]",
            "text/plain": [
              "<IPython.core.display.Image object>"
            ]
          },
          "metadata": {},
          "execution_count": 115
        }
      ]
    },
    {
      "cell_type": "code",
      "metadata": {
        "id": "CP-O29K3zeut"
      },
      "source": [
        "def predict_target(input_string):\n",
        "  # convert for encoding \n",
        "  input_data = np.zeros((1, max_encoder_seq_length, num_encoder_tokens), dtype='float32')\n",
        "  for t, char in enumerate(input_string):\n",
        "    input_data[0, t, input_token_index[char]] = 1.\n",
        "\n",
        "  # Encode the input as state vectors.\n",
        "  states_value = encoder_model(input_data)\n",
        "\n",
        "   # Generate empty target sequence of length 1.\n",
        "  target_seq = np.zeros((1, 1, num_decoder_tokens), dtype='float32')\n",
        "  # Populate the first character of target sequence with the start character.\n",
        "  target_seq[0, 0, target_token_index['^']] = 1.0\n",
        "\n",
        "  stop_condition = False\n",
        "  decoded_sentence = \"\"\n",
        "\n",
        "  while True:\n",
        "    output_tokens, d_h, d_c = decoder_model.predict([target_seq] + states_value)\n",
        "    # Sample a token\n",
        "    sampled_token_index = np.argmax(output_tokens[0, -1, :])\n",
        "    sampled_char = reverse_target_char_index[sampled_token_index]\n",
        "\n",
        "    # Exit condition: either hit max length\n",
        "    # or find stop character.\n",
        "    if sampled_char == \"$\" or len(decoded_sentence) > max_decoder_seq_length:\n",
        "      break\n",
        "      \n",
        "    decoded_sentence += sampled_char\n",
        "\n",
        "    # Update the target sequence (of length 1).\n",
        "    target_seq = np.zeros((1, 1, num_decoder_tokens))\n",
        "    target_seq[0, 0, sampled_token_index] = 1.0\n",
        "\n",
        "    # Update states\n",
        "    states_value = [d_h, d_c]\n",
        "  return decoded_sentence"
      ],
      "execution_count": 116,
      "outputs": []
    },
    {
      "cell_type": "code",
      "metadata": {
        "id": "0O9eWBgtvGeM",
        "colab": {
          "base_uri": "https://localhost:8080/",
          "height": 35
        },
        "outputId": "2c1aca0e-9150-461c-82de-7bb9ed6663de"
      },
      "source": [
        "test_input = 'राजशेखर'\n",
        "predicted_string = predict_target(test_input)\n",
        "predicted_string"
      ],
      "execution_count": 120,
      "outputs": [
        {
          "output_type": "execute_result",
          "data": {
            "application/vnd.google.colaboratory.intrinsic+json": {
              "type": "string"
            },
            "text/plain": [
              "'rajasekha'"
            ]
          },
          "metadata": {},
          "execution_count": 120
        }
      ]
    },
    {
      "cell_type": "code",
      "metadata": {
        "colab": {
          "base_uri": "https://localhost:8080/",
          "height": 35
        },
        "id": "Uy2yjJXZ0MdK",
        "outputId": "b56f2fde-6ddf-4d82-fc09-9955fb88a775"
      },
      "source": [
        "test_input = 'गौरव'\n",
        "predicted_string = predict_target(test_input)\n",
        "predicted_string"
      ],
      "execution_count": 121,
      "outputs": [
        {
          "output_type": "execute_result",
          "data": {
            "application/vnd.google.colaboratory.intrinsic+json": {
              "type": "string"
            },
            "text/plain": [
              "'gaurav'"
            ]
          },
          "metadata": {},
          "execution_count": 121
        }
      ]
    },
    {
      "cell_type": "code",
      "metadata": {
        "colab": {
          "base_uri": "https://localhost:8080/",
          "height": 35
        },
        "id": "q8W7E0Kzka0e",
        "outputId": "5d3b7cf9-b32e-4e9a-ed0e-b2455cb5aa99"
      },
      "source": [
        "test_input = 'सूद'\n",
        "predicted_string = predict_target(test_input)\n",
        "predicted_string"
      ],
      "execution_count": 122,
      "outputs": [
        {
          "output_type": "execute_result",
          "data": {
            "application/vnd.google.colaboratory.intrinsic+json": {
              "type": "string"
            },
            "text/plain": [
              "'sus'"
            ]
          },
          "metadata": {},
          "execution_count": 122
        }
      ]
    },
    {
      "cell_type": "code",
      "metadata": {
        "id": "zEPle61MsIQT"
      },
      "source": [
        "dakshina_test_df = pd.read_csv('hi.translit.sampled.test.tsv', sep='\\t', names=[\"hindi\", \"english\", \"freq\"])"
      ],
      "execution_count": 123,
      "outputs": []
    },
    {
      "cell_type": "code",
      "metadata": {
        "colab": {
          "base_uri": "https://localhost:8080/",
          "height": 204
        },
        "id": "okA7ETGeseLu",
        "outputId": "411ee122-831f-4dd6-c603-ae53279f7aaa"
      },
      "source": [
        "dakshina_test_df.head()"
      ],
      "execution_count": 124,
      "outputs": [
        {
          "output_type": "execute_result",
          "data": {
            "text/html": [
              "<div>\n",
              "<style scoped>\n",
              "    .dataframe tbody tr th:only-of-type {\n",
              "        vertical-align: middle;\n",
              "    }\n",
              "\n",
              "    .dataframe tbody tr th {\n",
              "        vertical-align: top;\n",
              "    }\n",
              "\n",
              "    .dataframe thead th {\n",
              "        text-align: right;\n",
              "    }\n",
              "</style>\n",
              "<table border=\"1\" class=\"dataframe\">\n",
              "  <thead>\n",
              "    <tr style=\"text-align: right;\">\n",
              "      <th></th>\n",
              "      <th>hindi</th>\n",
              "      <th>english</th>\n",
              "      <th>freq</th>\n",
              "    </tr>\n",
              "  </thead>\n",
              "  <tbody>\n",
              "    <tr>\n",
              "      <th>0</th>\n",
              "      <td>अंक</td>\n",
              "      <td>ank</td>\n",
              "      <td>5</td>\n",
              "    </tr>\n",
              "    <tr>\n",
              "      <th>1</th>\n",
              "      <td>अंक</td>\n",
              "      <td>anka</td>\n",
              "      <td>1</td>\n",
              "    </tr>\n",
              "    <tr>\n",
              "      <th>2</th>\n",
              "      <td>अंकित</td>\n",
              "      <td>ankit</td>\n",
              "      <td>3</td>\n",
              "    </tr>\n",
              "    <tr>\n",
              "      <th>3</th>\n",
              "      <td>अंकों</td>\n",
              "      <td>anakon</td>\n",
              "      <td>1</td>\n",
              "    </tr>\n",
              "    <tr>\n",
              "      <th>4</th>\n",
              "      <td>अंकों</td>\n",
              "      <td>ankhon</td>\n",
              "      <td>1</td>\n",
              "    </tr>\n",
              "  </tbody>\n",
              "</table>\n",
              "</div>"
            ],
            "text/plain": [
              "   hindi english  freq\n",
              "0    अंक     ank     5\n",
              "1    अंक    anka     1\n",
              "2  अंकित   ankit     3\n",
              "3  अंकों  anakon     1\n",
              "4  अंकों  ankhon     1"
            ]
          },
          "metadata": {},
          "execution_count": 124
        }
      ]
    },
    {
      "cell_type": "code",
      "metadata": {
        "colab": {
          "base_uri": "https://localhost:8080/",
          "height": 205
        },
        "id": "jUClAWm6shfR",
        "outputId": "b289b01c-afac-43a7-a931-98e36e02e55c"
      },
      "source": [
        "dakshina_test_df.style.hide_index()\n",
        "def test_compare(x):\n",
        "  print(f\"{x['hindi']} :  actual - {x['english']}, predicted - {predict_target(x['hindi'])}\")\n",
        "dakshina_test_df.sample(10).apply(lambda x: test_compare(x), axis=1).to_string(index=False)"
      ],
      "execution_count": 125,
      "outputs": [
        {
          "output_type": "stream",
          "name": "stdout",
          "text": [
            "लौरेंस :  actual - laurense, predicted - laurense\n",
            "इलाइची :  actual - ilayachi, predicted - ilaichi\n",
            "लपेटने :  actual - lapetne, predicted - lapeetne\n",
            "पल्मोनरी :  actual - palmonari, predicted - palmonain\n",
            "छवी :  actual - chhavi, predicted - chhai\n",
            "जूड :  actual - jood, predicted - jud\n",
            "उलटे :  actual - ulte, predicted - ulte\n",
            "विभाजक :  actual - vibhajak, predicted - bivhakaj\n",
            "अगवाई :  actual - agavai, predicted - agavai\n",
            "जयललिता :  actual - jayalalitaa, predicted - jayllita\n"
          ]
        },
        {
          "output_type": "execute_result",
          "data": {
            "application/vnd.google.colaboratory.intrinsic+json": {
              "type": "string"
            },
            "text/plain": [
              "' None\\n None\\n None\\n None\\n None\\n None\\n None\\n None\\n None\\n None'"
            ]
          },
          "metadata": {},
          "execution_count": 125
        }
      ]
    },
    {
      "cell_type": "code",
      "metadata": {
        "colab": {
          "base_uri": "https://localhost:8080/"
        },
        "id": "DSrbvgXNst0W",
        "outputId": "49c3f300-9052-4247-fb42-5235f3d47b50"
      },
      "source": [
        "from tqdm import tqdm\n",
        "tqdm.pandas()\n",
        "\n",
        "dakshina_test_df.style.hide_index()\n",
        "predicted = []\n",
        "dakshina_test_df.progress_apply(lambda x: predicted.append(predict_target(x['hindi'])), axis=1)"
      ],
      "execution_count": 137,
      "outputs": [
        {
          "output_type": "stream",
          "name": "stderr",
          "text": [
            "100%|██████████| 4502/4502 [29:29<00:00,  2.54it/s]\n"
          ]
        },
        {
          "output_type": "execute_result",
          "data": {
            "text/plain": [
              "0       None\n",
              "1       None\n",
              "2       None\n",
              "3       None\n",
              "4       None\n",
              "        ... \n",
              "4497    None\n",
              "4498    None\n",
              "4499    None\n",
              "4500    None\n",
              "4501    None\n",
              "Length: 4502, dtype: object"
            ]
          },
          "metadata": {},
          "execution_count": 137
        }
      ]
    },
    {
      "cell_type": "code",
      "metadata": {
        "colab": {
          "base_uri": "https://localhost:8080/",
          "height": 204
        },
        "id": "_1SrzzvSs1lL",
        "outputId": "ebf4d5d1-dc7b-45e0-ba5f-655776ce7810"
      },
      "source": [
        "dakshina_test_df['predicted'] = predicted\n",
        "dakshina_test_df.head()"
      ],
      "execution_count": 139,
      "outputs": [
        {
          "output_type": "execute_result",
          "data": {
            "text/html": [
              "<div>\n",
              "<style scoped>\n",
              "    .dataframe tbody tr th:only-of-type {\n",
              "        vertical-align: middle;\n",
              "    }\n",
              "\n",
              "    .dataframe tbody tr th {\n",
              "        vertical-align: top;\n",
              "    }\n",
              "\n",
              "    .dataframe thead th {\n",
              "        text-align: right;\n",
              "    }\n",
              "</style>\n",
              "<table border=\"1\" class=\"dataframe\">\n",
              "  <thead>\n",
              "    <tr style=\"text-align: right;\">\n",
              "      <th></th>\n",
              "      <th>hindi</th>\n",
              "      <th>english</th>\n",
              "      <th>freq</th>\n",
              "      <th>predicted</th>\n",
              "    </tr>\n",
              "  </thead>\n",
              "  <tbody>\n",
              "    <tr>\n",
              "      <th>0</th>\n",
              "      <td>अंक</td>\n",
              "      <td>ank</td>\n",
              "      <td>5</td>\n",
              "      <td>ank</td>\n",
              "    </tr>\n",
              "    <tr>\n",
              "      <th>1</th>\n",
              "      <td>अंक</td>\n",
              "      <td>anka</td>\n",
              "      <td>1</td>\n",
              "      <td>ank</td>\n",
              "    </tr>\n",
              "    <tr>\n",
              "      <th>2</th>\n",
              "      <td>अंकित</td>\n",
              "      <td>ankit</td>\n",
              "      <td>3</td>\n",
              "      <td>ankit</td>\n",
              "    </tr>\n",
              "    <tr>\n",
              "      <th>3</th>\n",
              "      <td>अंकों</td>\n",
              "      <td>anakon</td>\n",
              "      <td>1</td>\n",
              "      <td>ankon</td>\n",
              "    </tr>\n",
              "    <tr>\n",
              "      <th>4</th>\n",
              "      <td>अंकों</td>\n",
              "      <td>ankhon</td>\n",
              "      <td>1</td>\n",
              "      <td>ankon</td>\n",
              "    </tr>\n",
              "  </tbody>\n",
              "</table>\n",
              "</div>"
            ],
            "text/plain": [
              "   hindi english  freq predicted\n",
              "0    अंक     ank     5       ank\n",
              "1    अंक    anka     1       ank\n",
              "2  अंकित   ankit     3     ankit\n",
              "3  अंकों  anakon     1     ankon\n",
              "4  अंकों  ankhon     1     ankon"
            ]
          },
          "metadata": {},
          "execution_count": 139
        }
      ]
    },
    {
      "cell_type": "code",
      "metadata": {
        "id": "MoJAsO1Px1-j"
      },
      "source": [
        "test_accuracy = dakshina_test_df[dakshina_test_df['predicted'] == dakshina_test_df['english']]"
      ],
      "execution_count": 140,
      "outputs": []
    },
    {
      "cell_type": "code",
      "metadata": {
        "colab": {
          "base_uri": "https://localhost:8080/"
        },
        "id": "lyN6oyR9x8DZ",
        "outputId": "b3cd1cfb-fbda-4459-b656-c7a83b81b847"
      },
      "source": [
        "test_accuracy.shape[0]/dakshina_test_df.shape[0]"
      ],
      "execution_count": 141,
      "outputs": [
        {
          "output_type": "execute_result",
          "data": {
            "text/plain": [
              "0.2614393602843181"
            ]
          },
          "metadata": {},
          "execution_count": 141
        }
      ]
    },
    {
      "cell_type": "code",
      "metadata": {
        "colab": {
          "base_uri": "https://localhost:8080/"
        },
        "id": "b4OSLS6ksl5B",
        "outputId": "3772f2e1-fe7f-4736-8d14-226fc78c338f"
      },
      "source": [
        "def edit_distance(s1, s2):\n",
        "  t1 = tf.sparse.from_dense(tf.expand_dims(tf.strings.bytes_split(s1), axis=0))\n",
        "  t2 = tf.sparse.from_dense(tf.expand_dims(tf.strings.bytes_split(s2), axis=0))\n",
        "  distance = tf.edit_distance(t1, t2)\n",
        "  return distance[0].numpy()\n",
        "\n",
        "edit_dist = []\n",
        "\n",
        "dakshina_test_df.progress_apply(lambda x: edit_dist.append(edit_distance(x['predicted'], x['english'])), axis=1)"
      ],
      "execution_count": 148,
      "outputs": [
        {
          "output_type": "stream",
          "name": "stderr",
          "text": [
            "100%|██████████| 4502/4502 [01:04<00:00, 70.29it/s]\n"
          ]
        },
        {
          "output_type": "execute_result",
          "data": {
            "text/plain": [
              "0       None\n",
              "1       None\n",
              "2       None\n",
              "3       None\n",
              "4       None\n",
              "        ... \n",
              "4497    None\n",
              "4498    None\n",
              "4499    None\n",
              "4500    None\n",
              "4501    None\n",
              "Length: 4502, dtype: object"
            ]
          },
          "metadata": {},
          "execution_count": 148
        }
      ]
    },
    {
      "cell_type": "code",
      "metadata": {
        "colab": {
          "base_uri": "https://localhost:8080/",
          "height": 204
        },
        "id": "dGqTXxAZ0Rws",
        "outputId": "4c092571-6b44-408e-fbea-5c6a425cbdbf"
      },
      "source": [
        "dakshina_test_df['edit_distance'] = edit_dist\n",
        "dakshina_test_df.head()"
      ],
      "execution_count": 149,
      "outputs": [
        {
          "output_type": "execute_result",
          "data": {
            "text/html": [
              "<div>\n",
              "<style scoped>\n",
              "    .dataframe tbody tr th:only-of-type {\n",
              "        vertical-align: middle;\n",
              "    }\n",
              "\n",
              "    .dataframe tbody tr th {\n",
              "        vertical-align: top;\n",
              "    }\n",
              "\n",
              "    .dataframe thead th {\n",
              "        text-align: right;\n",
              "    }\n",
              "</style>\n",
              "<table border=\"1\" class=\"dataframe\">\n",
              "  <thead>\n",
              "    <tr style=\"text-align: right;\">\n",
              "      <th></th>\n",
              "      <th>hindi</th>\n",
              "      <th>english</th>\n",
              "      <th>freq</th>\n",
              "      <th>predicted</th>\n",
              "      <th>edit_distance</th>\n",
              "    </tr>\n",
              "  </thead>\n",
              "  <tbody>\n",
              "    <tr>\n",
              "      <th>0</th>\n",
              "      <td>अंक</td>\n",
              "      <td>ank</td>\n",
              "      <td>5</td>\n",
              "      <td>ank</td>\n",
              "      <td>0.000000</td>\n",
              "    </tr>\n",
              "    <tr>\n",
              "      <th>1</th>\n",
              "      <td>अंक</td>\n",
              "      <td>anka</td>\n",
              "      <td>1</td>\n",
              "      <td>ank</td>\n",
              "      <td>0.250000</td>\n",
              "    </tr>\n",
              "    <tr>\n",
              "      <th>2</th>\n",
              "      <td>अंकित</td>\n",
              "      <td>ankit</td>\n",
              "      <td>3</td>\n",
              "      <td>ankit</td>\n",
              "      <td>0.000000</td>\n",
              "    </tr>\n",
              "    <tr>\n",
              "      <th>3</th>\n",
              "      <td>अंकों</td>\n",
              "      <td>anakon</td>\n",
              "      <td>1</td>\n",
              "      <td>ankon</td>\n",
              "      <td>0.166667</td>\n",
              "    </tr>\n",
              "    <tr>\n",
              "      <th>4</th>\n",
              "      <td>अंकों</td>\n",
              "      <td>ankhon</td>\n",
              "      <td>1</td>\n",
              "      <td>ankon</td>\n",
              "      <td>0.166667</td>\n",
              "    </tr>\n",
              "  </tbody>\n",
              "</table>\n",
              "</div>"
            ],
            "text/plain": [
              "   hindi english  freq predicted  edit_distance\n",
              "0    अंक     ank     5       ank       0.000000\n",
              "1    अंक    anka     1       ank       0.250000\n",
              "2  अंकित   ankit     3     ankit       0.000000\n",
              "3  अंकों  anakon     1     ankon       0.166667\n",
              "4  अंकों  ankhon     1     ankon       0.166667"
            ]
          },
          "metadata": {},
          "execution_count": 149
        }
      ]
    },
    {
      "cell_type": "code",
      "metadata": {
        "id": "ssKgUM7u0wqk"
      },
      "source": [
        "dakshina_test_df.to_csv('dakshina_acc_results.csv',index=False)"
      ],
      "execution_count": 151,
      "outputs": []
    },
    {
      "cell_type": "code",
      "metadata": {
        "colab": {
          "base_uri": "https://localhost:8080/",
          "height": 1000
        },
        "id": "XQe8yHsf2HTK",
        "outputId": "e9664e37-311b-4e71-eb1c-b8fa739e6401"
      },
      "source": [
        "import matplotlib.pyplot as plt\n",
        "\n",
        "plt.figure(figsize=(20,10))\n",
        "plt.hist(edit_dist, bins=np.arange(min(edit_dist), max(edit_dist)+0.01, step=0.01))"
      ],
      "execution_count": 159,
      "outputs": [
        {
          "output_type": "execute_result",
          "data": {
            "text/plain": [
              "(array([1.177e+03, 0.000e+00, 0.000e+00, 0.000e+00, 0.000e+00, 0.000e+00,\n",
              "        0.000e+00, 2.000e+00, 3.000e+00, 2.100e+01, 5.400e+01, 1.040e+02,\n",
              "        1.610e+02, 0.000e+00, 2.440e+02, 2.000e+00, 2.930e+02, 0.000e+00,\n",
              "        2.800e+01, 0.000e+00, 3.150e+02, 2.000e+00, 1.120e+02, 4.000e+00,\n",
              "        0.000e+00, 3.010e+02, 0.000e+00, 2.800e+01, 2.070e+02, 0.000e+00,\n",
              "        5.600e+01, 3.000e+00, 0.000e+00, 3.410e+02, 0.000e+00, 2.000e+00,\n",
              "        2.000e+01, 9.500e+01, 5.000e+00, 0.000e+00, 1.890e+02, 1.100e+01,\n",
              "        9.400e+01, 0.000e+00, 4.500e+01, 8.000e+00, 0.000e+00, 0.000e+00,\n",
              "        0.000e+00, 0.000e+00, 2.560e+02, 0.000e+00, 0.000e+00, 3.000e+00,\n",
              "        4.000e+00, 1.600e+01, 0.000e+00, 4.400e+01, 3.000e+00, 0.000e+00,\n",
              "        5.800e+01, 1.000e+00, 2.500e+01, 4.000e+00, 1.000e+00, 0.000e+00,\n",
              "        6.800e+01, 0.000e+00, 0.000e+00, 1.000e+00, 0.000e+00, 1.300e+01,\n",
              "        0.000e+00, 0.000e+00, 0.000e+00, 3.100e+01, 0.000e+00, 5.000e+00,\n",
              "        0.000e+00, 0.000e+00, 1.400e+01, 0.000e+00, 0.000e+00, 5.000e+00,\n",
              "        0.000e+00, 3.000e+00, 0.000e+00, 1.000e+00, 0.000e+00, 0.000e+00,\n",
              "        0.000e+00, 0.000e+00, 0.000e+00, 0.000e+00, 0.000e+00, 0.000e+00,\n",
              "        0.000e+00, 0.000e+00, 0.000e+00, 1.900e+01]),\n",
              " array([0.  , 0.01, 0.02, 0.03, 0.04, 0.05, 0.06, 0.07, 0.08, 0.09, 0.1 ,\n",
              "        0.11, 0.12, 0.13, 0.14, 0.15, 0.16, 0.17, 0.18, 0.19, 0.2 , 0.21,\n",
              "        0.22, 0.23, 0.24, 0.25, 0.26, 0.27, 0.28, 0.29, 0.3 , 0.31, 0.32,\n",
              "        0.33, 0.34, 0.35, 0.36, 0.37, 0.38, 0.39, 0.4 , 0.41, 0.42, 0.43,\n",
              "        0.44, 0.45, 0.46, 0.47, 0.48, 0.49, 0.5 , 0.51, 0.52, 0.53, 0.54,\n",
              "        0.55, 0.56, 0.57, 0.58, 0.59, 0.6 , 0.61, 0.62, 0.63, 0.64, 0.65,\n",
              "        0.66, 0.67, 0.68, 0.69, 0.7 , 0.71, 0.72, 0.73, 0.74, 0.75, 0.76,\n",
              "        0.77, 0.78, 0.79, 0.8 , 0.81, 0.82, 0.83, 0.84, 0.85, 0.86, 0.87,\n",
              "        0.88, 0.89, 0.9 , 0.91, 0.92, 0.93, 0.94, 0.95, 0.96, 0.97, 0.98,\n",
              "        0.99, 1.  ]),\n",
              " <a list of 100 Patch objects>)"
            ]
          },
          "metadata": {},
          "execution_count": 159
        },
        {
          "output_type": "display_data",
          "data": {
            "image/png": "[encoded data removed]",
            "text/plain": [
              "<Figure size 1440x720 with 1 Axes>"
            ]
          },
          "metadata": {
            "needs_background": "light"
          }
        }
      ]
    },
    {
      "cell_type": "code",
      "metadata": {
        "colab": {
          "base_uri": "https://localhost:8080/",
          "height": 638
        },
        "id": "MBqlulmn4jXm",
        "outputId": "51f99542-10b6-4344-81a2-545c44e6c50e"
      },
      "source": [
        "dakshina_test_df[dakshina_test_df['edit_distance'] >= 0.9]"
      ],
      "execution_count": 162,
      "outputs": [
        {
          "output_type": "execute_result",
          "data": {
            "text/html": [
              "<div>\n",
              "<style scoped>\n",
              "    .dataframe tbody tr th:only-of-type {\n",
              "        vertical-align: middle;\n",
              "    }\n",
              "\n",
              "    .dataframe tbody tr th {\n",
              "        vertical-align: top;\n",
              "    }\n",
              "\n",
              "    .dataframe thead th {\n",
              "        text-align: right;\n",
              "    }\n",
              "</style>\n",
              "<table border=\"1\" class=\"dataframe\">\n",
              "  <thead>\n",
              "    <tr style=\"text-align: right;\">\n",
              "      <th></th>\n",
              "      <th>hindi</th>\n",
              "      <th>english</th>\n",
              "      <th>freq</th>\n",
              "      <th>predicted</th>\n",
              "      <th>edit_distance</th>\n",
              "    </tr>\n",
              "  </thead>\n",
              "  <tbody>\n",
              "    <tr>\n",
              "      <th>380</th>\n",
              "      <td>इआन</td>\n",
              "      <td>eon</td>\n",
              "      <td>2</td>\n",
              "      <td>ani</td>\n",
              "      <td>1.0</td>\n",
              "    </tr>\n",
              "    <tr>\n",
              "      <th>422</th>\n",
              "      <td>ईए</td>\n",
              "      <td>ea</td>\n",
              "      <td>2</td>\n",
              "      <td>an</td>\n",
              "      <td>1.0</td>\n",
              "    </tr>\n",
              "    <tr>\n",
              "      <th>423</th>\n",
              "      <td>ईए</td>\n",
              "      <td>ia</td>\n",
              "      <td>1</td>\n",
              "      <td>an</td>\n",
              "      <td>1.0</td>\n",
              "    </tr>\n",
              "    <tr>\n",
              "      <th>559</th>\n",
              "      <td>एबट</td>\n",
              "      <td>ebt</td>\n",
              "      <td>1</td>\n",
              "      <td>ate</td>\n",
              "      <td>1.0</td>\n",
              "    </tr>\n",
              "    <tr>\n",
              "      <th>564</th>\n",
              "      <td>एमटेक</td>\n",
              "      <td>mtake</td>\n",
              "      <td>3</td>\n",
              "      <td>ameter</td>\n",
              "      <td>1.0</td>\n",
              "    </tr>\n",
              "    <tr>\n",
              "      <th>608</th>\n",
              "      <td>ऐंठ</td>\n",
              "      <td>end</td>\n",
              "      <td>1</td>\n",
              "      <td>anth</td>\n",
              "      <td>1.0</td>\n",
              "    </tr>\n",
              "    <tr>\n",
              "      <th>616</th>\n",
              "      <td>ऐल</td>\n",
              "      <td>el</td>\n",
              "      <td>1</td>\n",
              "      <td>ali</td>\n",
              "      <td>1.0</td>\n",
              "    </tr>\n",
              "    <tr>\n",
              "      <th>1320</th>\n",
              "      <td>ज़ी</td>\n",
              "      <td>zee</td>\n",
              "      <td>3</td>\n",
              "      <td>ji</td>\n",
              "      <td>1.0</td>\n",
              "    </tr>\n",
              "    <tr>\n",
              "      <th>1366</th>\n",
              "      <td>जीआर</td>\n",
              "      <td>gr</td>\n",
              "      <td>3</td>\n",
              "      <td>ne</td>\n",
              "      <td>1.0</td>\n",
              "    </tr>\n",
              "    <tr>\n",
              "      <th>1367</th>\n",
              "      <td>जीएम</td>\n",
              "      <td>gm</td>\n",
              "      <td>3</td>\n",
              "      <td>j</td>\n",
              "      <td>1.0</td>\n",
              "    </tr>\n",
              "    <tr>\n",
              "      <th>2614</th>\n",
              "      <td>फेफड़ा</td>\n",
              "      <td>fefda</td>\n",
              "      <td>1</td>\n",
              "      <td>fadeeh</td>\n",
              "      <td>1.0</td>\n",
              "    </tr>\n",
              "    <tr>\n",
              "      <th>2830</th>\n",
              "      <td>बीएजी</td>\n",
              "      <td>bag</td>\n",
              "      <td>3</td>\n",
              "      <td></td>\n",
              "      <td>1.0</td>\n",
              "    </tr>\n",
              "    <tr>\n",
              "      <th>2833</th>\n",
              "      <td>बीके</td>\n",
              "      <td>bk</td>\n",
              "      <td>3</td>\n",
              "      <td>ke</td>\n",
              "      <td>1.0</td>\n",
              "    </tr>\n",
              "    <tr>\n",
              "      <th>3210</th>\n",
              "      <td>मूड</td>\n",
              "      <td>mud</td>\n",
              "      <td>1</td>\n",
              "      <td>moon</td>\n",
              "      <td>1.0</td>\n",
              "    </tr>\n",
              "    <tr>\n",
              "      <th>3557</th>\n",
              "      <td>लक्स</td>\n",
              "      <td>lux</td>\n",
              "      <td>3</td>\n",
              "      <td>lask</td>\n",
              "      <td>1.0</td>\n",
              "    </tr>\n",
              "    <tr>\n",
              "      <th>3752</th>\n",
              "      <td>वाल्व</td>\n",
              "      <td>wolv</td>\n",
              "      <td>1</td>\n",
              "      <td>valai</td>\n",
              "      <td>1.0</td>\n",
              "    </tr>\n",
              "    <tr>\n",
              "      <th>3821</th>\n",
              "      <td>वीएलसी</td>\n",
              "      <td>vlc</td>\n",
              "      <td>3</td>\n",
              "      <td>las</td>\n",
              "      <td>1.0</td>\n",
              "    </tr>\n",
              "    <tr>\n",
              "      <th>4212</th>\n",
              "      <td>सीआईएल</td>\n",
              "      <td>cil</td>\n",
              "      <td>3</td>\n",
              "      <td>pli</td>\n",
              "      <td>1.0</td>\n",
              "    </tr>\n",
              "    <tr>\n",
              "      <th>4303</th>\n",
              "      <td>सेव</td>\n",
              "      <td>sev</td>\n",
              "      <td>1</td>\n",
              "      <td>sase</td>\n",
              "      <td>1.0</td>\n",
              "    </tr>\n",
              "  </tbody>\n",
              "</table>\n",
              "</div>"
            ],
            "text/plain": [
              "       hindi english  freq predicted  edit_distance\n",
              "380      इआन     eon     2       ani            1.0\n",
              "422       ईए      ea     2        an            1.0\n",
              "423       ईए      ia     1        an            1.0\n",
              "559      एबट     ebt     1       ate            1.0\n",
              "564    एमटेक   mtake     3    ameter            1.0\n",
              "608      ऐंठ     end     1      anth            1.0\n",
              "616       ऐल      el     1       ali            1.0\n",
              "1320     ज़ी     zee     3        ji            1.0\n",
              "1366    जीआर      gr     3        ne            1.0\n",
              "1367    जीएम      gm     3         j            1.0\n",
              "2614  फेफड़ा   fefda     1    fadeeh            1.0\n",
              "2830   बीएजी     bag     3                      1.0\n",
              "2833    बीके      bk     3        ke            1.0\n",
              "3210     मूड     mud     1      moon            1.0\n",
              "3557    लक्स     lux     3      lask            1.0\n",
              "3752   वाल्व    wolv     1     valai            1.0\n",
              "3821  वीएलसी     vlc     3       las            1.0\n",
              "4212  सीआईएल     cil     3       pli            1.0\n",
              "4303     सेव     sev     1      sase            1.0"
            ]
          },
          "metadata": {},
          "execution_count": 162
        }
      ]
    },
    {
      "cell_type": "code",
      "metadata": {
        "colab": {
          "base_uri": "https://localhost:8080/",
          "height": 419
        },
        "id": "2UftZhut5Bg6",
        "outputId": "9029a50e-9641-40c6-9bef-3ac1ff52266f"
      },
      "source": [
        "dakshina_test_df[dakshina_test_df['edit_distance'] == 0.0]"
      ],
      "execution_count": 163,
      "outputs": [
        {
          "output_type": "execute_result",
          "data": {
            "text/html": [
              "<div>\n",
              "<style scoped>\n",
              "    .dataframe tbody tr th:only-of-type {\n",
              "        vertical-align: middle;\n",
              "    }\n",
              "\n",
              "    .dataframe tbody tr th {\n",
              "        vertical-align: top;\n",
              "    }\n",
              "\n",
              "    .dataframe thead th {\n",
              "        text-align: right;\n",
              "    }\n",
              "</style>\n",
              "<table border=\"1\" class=\"dataframe\">\n",
              "  <thead>\n",
              "    <tr style=\"text-align: right;\">\n",
              "      <th></th>\n",
              "      <th>hindi</th>\n",
              "      <th>english</th>\n",
              "      <th>freq</th>\n",
              "      <th>predicted</th>\n",
              "      <th>edit_distance</th>\n",
              "    </tr>\n",
              "  </thead>\n",
              "  <tbody>\n",
              "    <tr>\n",
              "      <th>0</th>\n",
              "      <td>अंक</td>\n",
              "      <td>ank</td>\n",
              "      <td>5</td>\n",
              "      <td>ank</td>\n",
              "      <td>0.0</td>\n",
              "    </tr>\n",
              "    <tr>\n",
              "      <th>2</th>\n",
              "      <td>अंकित</td>\n",
              "      <td>ankit</td>\n",
              "      <td>3</td>\n",
              "      <td>ankit</td>\n",
              "      <td>0.0</td>\n",
              "    </tr>\n",
              "    <tr>\n",
              "      <th>5</th>\n",
              "      <td>अंकों</td>\n",
              "      <td>ankon</td>\n",
              "      <td>2</td>\n",
              "      <td>ankon</td>\n",
              "      <td>0.0</td>\n",
              "    </tr>\n",
              "    <tr>\n",
              "      <th>7</th>\n",
              "      <td>अंकोर</td>\n",
              "      <td>ankor</td>\n",
              "      <td>2</td>\n",
              "      <td>ankor</td>\n",
              "      <td>0.0</td>\n",
              "    </tr>\n",
              "    <tr>\n",
              "      <th>10</th>\n",
              "      <td>अंग्रज़ी</td>\n",
              "      <td>angraji</td>\n",
              "      <td>1</td>\n",
              "      <td>angraji</td>\n",
              "      <td>0.0</td>\n",
              "    </tr>\n",
              "    <tr>\n",
              "      <th>...</th>\n",
              "      <td>...</td>\n",
              "      <td>...</td>\n",
              "      <td>...</td>\n",
              "      <td>...</td>\n",
              "      <td>...</td>\n",
              "    </tr>\n",
              "    <tr>\n",
              "      <th>4478</th>\n",
              "      <td>हुईं</td>\n",
              "      <td>huin</td>\n",
              "      <td>2</td>\n",
              "      <td>huin</td>\n",
              "      <td>0.0</td>\n",
              "    </tr>\n",
              "    <tr>\n",
              "      <th>4487</th>\n",
              "      <td>हैतो</td>\n",
              "      <td>haito</td>\n",
              "      <td>3</td>\n",
              "      <td>haito</td>\n",
              "      <td>0.0</td>\n",
              "    </tr>\n",
              "    <tr>\n",
              "      <th>4488</th>\n",
              "      <td>हैरम</td>\n",
              "      <td>hairam</td>\n",
              "      <td>2</td>\n",
              "      <td>hairam</td>\n",
              "      <td>0.0</td>\n",
              "    </tr>\n",
              "    <tr>\n",
              "      <th>4493</th>\n",
              "      <td>हॉन्ग</td>\n",
              "      <td>hong</td>\n",
              "      <td>3</td>\n",
              "      <td>hong</td>\n",
              "      <td>0.0</td>\n",
              "    </tr>\n",
              "    <tr>\n",
              "      <th>4500</th>\n",
              "      <td>होस्टेस</td>\n",
              "      <td>hostes</td>\n",
              "      <td>1</td>\n",
              "      <td>hostes</td>\n",
              "      <td>0.0</td>\n",
              "    </tr>\n",
              "  </tbody>\n",
              "</table>\n",
              "<p>1177 rows × 5 columns</p>\n",
              "</div>"
            ],
            "text/plain": [
              "         hindi  english  freq predicted  edit_distance\n",
              "0          अंक      ank     5       ank            0.0\n",
              "2        अंकित    ankit     3     ankit            0.0\n",
              "5        अंकों    ankon     2     ankon            0.0\n",
              "7        अंकोर    ankor     2     ankor            0.0\n",
              "10    अंग्रज़ी  angraji     1   angraji            0.0\n",
              "...        ...      ...   ...       ...            ...\n",
              "4478      हुईं     huin     2      huin            0.0\n",
              "4487      हैतो    haito     3     haito            0.0\n",
              "4488      हैरम   hairam     2    hairam            0.0\n",
              "4493     हॉन्ग     hong     3      hong            0.0\n",
              "4500   होस्टेस   hostes     1    hostes            0.0\n",
              "\n",
              "[1177 rows x 5 columns]"
            ]
          },
          "metadata": {},
          "execution_count": 163
        }
      ]
    },
    {
      "cell_type": "code",
      "metadata": {
        "id": "JJNbKHT_ysSx",
        "colab": {
          "base_uri": "https://localhost:8080/"
        },
        "outputId": "139eaa74-ac8b-468e-f7de-cfbfdee712eb"
      },
      "source": [
        "t1 = tf.sparse.from_dense(tf.expand_dims(tf.strings.bytes_split('xyz'), axis=0))\n",
        "t2 = tf.sparse.from_dense(tf.expand_dims(tf.strings.bytes_split('xy'), axis=0))\n",
        "\n",
        "distance = tf.edit_distance(t1, t2, normalize=True)\n",
        "distance[0].numpy()"
      ],
      "execution_count": 142,
      "outputs": [
        {
          "output_type": "execute_result",
          "data": {
            "text/plain": [
              "0.5"
            ]
          },
          "metadata": {},
          "execution_count": 142
        }
      ]
    },
    {
      "cell_type": "code",
      "metadata": {
        "id": "DJFd5Uv5zLjT",
        "colab": {
          "base_uri": "https://localhost:8080/"
        },
        "outputId": "14f28773-0774-4a2b-80aa-c605a0495833"
      },
      "source": [
        "t1 = tf.sparse.from_dense(tf.expand_dims(tf.strings.bytes_split('xyz'), axis=0))\n",
        "t2 = tf.sparse.from_dense(tf.expand_dims(tf.strings.bytes_split(''), axis=0))\n",
        "\n",
        "distance = tf.edit_distance(t1, t2, normalize=True)\n",
        "distance[0].numpy()"
      ],
      "execution_count": 143,
      "outputs": [
        {
          "output_type": "execute_result",
          "data": {
            "text/plain": [
              "inf"
            ]
          },
          "metadata": {},
          "execution_count": 143
        }
      ]
    },
    {
      "cell_type": "code",
      "metadata": {
        "colab": {
          "base_uri": "https://localhost:8080/"
        },
        "id": "EVXWbLklrt0h",
        "outputId": "15aa367a-a358-4060-a221-1a3664c031f2"
      },
      "source": [
        "t1 = tf.sparse.from_dense(tf.expand_dims(tf.strings.bytes_split('yz'), axis=0))\n",
        "t2 = tf.sparse.from_dense(tf.expand_dims(tf.strings.bytes_split('xyz'), axis=0))\n",
        "\n",
        "distance = tf.edit_distance(t1, t2, normalize=True)\n",
        "distance[0].numpy()"
      ],
      "execution_count": 144,
      "outputs": [
        {
          "output_type": "execute_result",
          "data": {
            "text/plain": [
              "0.33333334"
            ]
          },
          "metadata": {},
          "execution_count": 144
        }
      ]
    },
    {
      "cell_type": "code",
      "metadata": {
        "colab": {
          "base_uri": "https://localhost:8080/"
        },
        "id": "Khvgpe-LteXf",
        "outputId": "84769578-de2d-41cf-8814-08a86f01a079"
      },
      "source": [
        "t1 = tf.sparse.from_dense(tf.expand_dims(tf.strings.bytes_split('xyz'), axis=0))\n",
        "t2 = tf.sparse.from_dense(tf.expand_dims(tf.strings.bytes_split('yz'), axis=0))\n",
        "\n",
        "distance = tf.edit_distance(t1, t2, normalize=True)\n",
        "distance[0].numpy()"
      ],
      "execution_count": 145,
      "outputs": [
        {
          "output_type": "execute_result",
          "data": {
            "text/plain": [
              "0.5"
            ]
          },
          "metadata": {},
          "execution_count": 145
        }
      ]
    }
  ]
}