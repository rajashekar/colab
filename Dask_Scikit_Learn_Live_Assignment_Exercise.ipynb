{
  "nbformat": 4,
  "nbformat_minor": 0,
  "metadata": {
    "kernelspec": {
      "display_name": "Python 3",
      "language": "python",
      "name": "python3"
    },
    "language_info": {
      "codemirror_mode": {
        "name": "ipython",
        "version": 3
      },
      "file_extension": ".py",
      "mimetype": "text/x-python",
      "name": "python",
      "nbconvert_exporter": "python",
      "pygments_lexer": "ipython3",
      "version": "3.7.3"
    },
    "colab": {
      "name": "Dask-Scikit-Learn-Live-Assignment-Exercise.ipynb",
      "provenance": [],
      "collapsed_sections": [],
      "machine_shape": "hm",
      "include_colab_link": true
    },
    "accelerator": "GPU"
  },
  "cells": [
    {
      "cell_type": "markdown",
      "metadata": {
        "id": "view-in-github",
        "colab_type": "text"
      },
      "source": [
        "<a href=\"https://colab.research.google.com/github/rajashekar/colab/blob/main/Dask_Scikit_Learn_Live_Assignment_Exercise.ipynb\" target=\"_parent\"><img src=\"https://colab.research.google.com/assets/colab-badge.svg\" alt=\"Open In Colab\"/></a>"
      ]
    },
    {
      "cell_type": "markdown",
      "metadata": {
        "id": "cHuMZYDNXbs4"
      },
      "source": [
        "Dask Scikit-Learn Live Assignment\n",
        "==========================================\n",
        "\n",
        "This example is based on [Dask's Scikit-Learn Example](https://examples.dask.org/machine-learning/scale-scikit-learn.html). It demonstrates how Dask can scale scikit-learn to a cluster of machines for a CPU-bound problem.\n",
        "We'll fit a large model, a grid-search over many hyper-parameters, on a small dataset."
      ]
    },
    {
      "cell_type": "code",
      "metadata": {
        "id": "G0WPOWelcXuS",
        "colab": {
          "base_uri": "https://localhost:8080/"
        },
        "outputId": "3bfbcef5-a1e5-45a0-8dfb-d9844224a555"
      },
      "source": [
        "# Dask requires msgpack<1.0 so we will install that first \n",
        "!pip install msgpack==0.6.2"
      ],
      "execution_count": 1,
      "outputs": [
        {
          "output_type": "stream",
          "text": [
            "Requirement already satisfied: msgpack==0.6.2 in /usr/local/lib/python3.7/dist-packages (0.6.2)\n"
          ],
          "name": "stdout"
        }
      ]
    },
    {
      "cell_type": "code",
      "metadata": {
        "id": "9D0VZwB3c4Sh",
        "colab": {
          "base_uri": "https://localhost:8080/"
        },
        "outputId": "b74680a4-f6dd-4d7a-bb36-b40db91e9d81"
      },
      "source": [
        "# We would also need to install dask-ml to run ML algorithms from Dask\n",
        "!pip install dask-ml"
      ],
      "execution_count": 2,
      "outputs": [
        {
          "output_type": "stream",
          "text": [
            "Requirement already satisfied: dask-ml in /usr/local/lib/python3.7/dist-packages (1.9.0)\n",
            "Requirement already satisfied: scipy in /usr/local/lib/python3.7/dist-packages (from dask-ml) (1.4.1)\n",
            "Requirement already satisfied: distributed>=2.4.0 in /usr/local/lib/python3.7/dist-packages (from dask-ml) (2021.8.1)\n",
            "Requirement already satisfied: dask[array,dataframe]>=2.4.0 in /usr/local/lib/python3.7/dist-packages (from dask-ml) (2021.8.1)\n",
            "Requirement already satisfied: scikit-learn>=0.23 in /usr/local/lib/python3.7/dist-packages (from dask-ml) (0.24.2)\n",
            "Requirement already satisfied: packaging in /usr/local/lib/python3.7/dist-packages (from dask-ml) (21.0)\n",
            "Requirement already satisfied: pandas>=0.24.2 in /usr/local/lib/python3.7/dist-packages (from dask-ml) (1.1.5)\n",
            "Requirement already satisfied: multipledispatch>=0.4.9 in /usr/local/lib/python3.7/dist-packages (from dask-ml) (0.6.0)\n",
            "Requirement already satisfied: dask-glm>=0.2.0 in /usr/local/lib/python3.7/dist-packages (from dask-ml) (0.2.0)\n",
            "Requirement already satisfied: numba>=0.51.0 in /usr/local/lib/python3.7/dist-packages (from dask-ml) (0.51.2)\n",
            "Requirement already satisfied: numpy>=1.17.3 in /usr/local/lib/python3.7/dist-packages (from dask-ml) (1.19.5)\n",
            "Requirement already satisfied: cloudpickle>=0.2.2 in /usr/local/lib/python3.7/dist-packages (from dask-glm>=0.2.0->dask-ml) (1.6.0)\n",
            "Requirement already satisfied: pyyaml in /usr/local/lib/python3.7/dist-packages (from dask[array,dataframe]>=2.4.0->dask-ml) (3.13)\n",
            "Requirement already satisfied: fsspec>=0.6.0 in /usr/local/lib/python3.7/dist-packages (from dask[array,dataframe]>=2.4.0->dask-ml) (2021.7.0)\n",
            "Requirement already satisfied: partd>=0.3.10 in /usr/local/lib/python3.7/dist-packages (from dask[array,dataframe]>=2.4.0->dask-ml) (1.2.0)\n",
            "Requirement already satisfied: toolz>=0.8.2 in /usr/local/lib/python3.7/dist-packages (from dask[array,dataframe]>=2.4.0->dask-ml) (0.11.1)\n",
            "Requirement already satisfied: jinja2 in /usr/local/lib/python3.7/dist-packages (from distributed>=2.4.0->dask-ml) (2.11.3)\n",
            "Requirement already satisfied: msgpack>=0.6.0 in /usr/local/lib/python3.7/dist-packages (from distributed>=2.4.0->dask-ml) (0.6.2)\n",
            "Requirement already satisfied: sortedcontainers!=2.0.0,!=2.0.1 in /usr/local/lib/python3.7/dist-packages (from distributed>=2.4.0->dask-ml) (2.4.0)\n",
            "Requirement already satisfied: setuptools in /usr/local/lib/python3.7/dist-packages (from distributed>=2.4.0->dask-ml) (57.4.0)\n",
            "Requirement already satisfied: click>=6.6 in /usr/local/lib/python3.7/dist-packages (from distributed>=2.4.0->dask-ml) (7.1.2)\n",
            "Requirement already satisfied: tblib>=1.6.0 in /usr/local/lib/python3.7/dist-packages (from distributed>=2.4.0->dask-ml) (1.7.0)\n",
            "Requirement already satisfied: tornado>=5 in /usr/local/lib/python3.7/dist-packages (from distributed>=2.4.0->dask-ml) (5.1.1)\n",
            "Requirement already satisfied: zict>=0.1.3 in /usr/local/lib/python3.7/dist-packages (from distributed>=2.4.0->dask-ml) (2.0.0)\n",
            "Requirement already satisfied: psutil>=5.0 in /usr/local/lib/python3.7/dist-packages (from distributed>=2.4.0->dask-ml) (5.4.8)\n",
            "Requirement already satisfied: six in /usr/local/lib/python3.7/dist-packages (from multipledispatch>=0.4.9->dask-ml) (1.15.0)\n",
            "Requirement already satisfied: llvmlite<0.35,>=0.34.0.dev0 in /usr/local/lib/python3.7/dist-packages (from numba>=0.51.0->dask-ml) (0.34.0)\n",
            "Requirement already satisfied: pyparsing>=2.0.2 in /usr/local/lib/python3.7/dist-packages (from packaging->dask-ml) (2.4.7)\n",
            "Requirement already satisfied: python-dateutil>=2.7.3 in /usr/local/lib/python3.7/dist-packages (from pandas>=0.24.2->dask-ml) (2.8.2)\n",
            "Requirement already satisfied: pytz>=2017.2 in /usr/local/lib/python3.7/dist-packages (from pandas>=0.24.2->dask-ml) (2018.9)\n",
            "Requirement already satisfied: locket in /usr/local/lib/python3.7/dist-packages (from partd>=0.3.10->dask[array,dataframe]>=2.4.0->dask-ml) (0.2.1)\n",
            "Requirement already satisfied: joblib>=0.11 in /usr/local/lib/python3.7/dist-packages (from scikit-learn>=0.23->dask-ml) (1.0.1)\n",
            "Requirement already satisfied: threadpoolctl>=2.0.0 in /usr/local/lib/python3.7/dist-packages (from scikit-learn>=0.23->dask-ml) (2.2.0)\n",
            "Requirement already satisfied: heapdict in /usr/local/lib/python3.7/dist-packages (from zict>=0.1.3->distributed>=2.4.0->dask-ml) (1.0.1)\n",
            "Requirement already satisfied: MarkupSafe>=0.23 in /usr/local/lib/python3.7/dist-packages (from jinja2->distributed>=2.4.0->dask-ml) (2.0.1)\n"
          ],
          "name": "stdout"
        }
      ]
    },
    {
      "cell_type": "code",
      "metadata": {
        "id": "eysDyaJVdNs9",
        "colab": {
          "base_uri": "https://localhost:8080/"
        },
        "outputId": "570a22f6-f859-41f0-bea3-0ba8e0241a2e"
      },
      "source": [
        "!pip install dask distributed --upgrade"
      ],
      "execution_count": 3,
      "outputs": [
        {
          "output_type": "stream",
          "text": [
            "Requirement already satisfied: dask in /usr/local/lib/python3.7/dist-packages (2021.8.1)\n",
            "Requirement already satisfied: distributed in /usr/local/lib/python3.7/dist-packages (2021.8.1)\n",
            "Requirement already satisfied: pyyaml in /usr/local/lib/python3.7/dist-packages (from dask) (3.13)\n",
            "Requirement already satisfied: toolz>=0.8.2 in /usr/local/lib/python3.7/dist-packages (from dask) (0.11.1)\n",
            "Requirement already satisfied: packaging>=20.0 in /usr/local/lib/python3.7/dist-packages (from dask) (21.0)\n",
            "Requirement already satisfied: partd>=0.3.10 in /usr/local/lib/python3.7/dist-packages (from dask) (1.2.0)\n",
            "Requirement already satisfied: cloudpickle>=1.1.1 in /usr/local/lib/python3.7/dist-packages (from dask) (1.6.0)\n",
            "Requirement already satisfied: fsspec>=0.6.0 in /usr/local/lib/python3.7/dist-packages (from dask) (2021.7.0)\n",
            "Requirement already satisfied: pyparsing>=2.0.2 in /usr/local/lib/python3.7/dist-packages (from packaging>=20.0->dask) (2.4.7)\n",
            "Requirement already satisfied: locket in /usr/local/lib/python3.7/dist-packages (from partd>=0.3.10->dask) (0.2.1)\n",
            "Requirement already satisfied: jinja2 in /usr/local/lib/python3.7/dist-packages (from distributed) (2.11.3)\n",
            "Requirement already satisfied: zict>=0.1.3 in /usr/local/lib/python3.7/dist-packages (from distributed) (2.0.0)\n",
            "Requirement already satisfied: sortedcontainers!=2.0.0,!=2.0.1 in /usr/local/lib/python3.7/dist-packages (from distributed) (2.4.0)\n",
            "Requirement already satisfied: msgpack>=0.6.0 in /usr/local/lib/python3.7/dist-packages (from distributed) (0.6.2)\n",
            "Requirement already satisfied: click>=6.6 in /usr/local/lib/python3.7/dist-packages (from distributed) (7.1.2)\n",
            "Requirement already satisfied: tblib>=1.6.0 in /usr/local/lib/python3.7/dist-packages (from distributed) (1.7.0)\n",
            "Requirement already satisfied: psutil>=5.0 in /usr/local/lib/python3.7/dist-packages (from distributed) (5.4.8)\n",
            "Requirement already satisfied: tornado>=5 in /usr/local/lib/python3.7/dist-packages (from distributed) (5.1.1)\n",
            "Requirement already satisfied: setuptools in /usr/local/lib/python3.7/dist-packages (from distributed) (57.4.0)\n",
            "Requirement already satisfied: heapdict in /usr/local/lib/python3.7/dist-packages (from zict>=0.1.3->distributed) (1.0.1)\n",
            "Requirement already satisfied: MarkupSafe>=0.23 in /usr/local/lib/python3.7/dist-packages (from jinja2->distributed) (2.0.1)\n"
          ],
          "name": "stdout"
        }
      ]
    },
    {
      "cell_type": "code",
      "metadata": {
        "colab": {
          "base_uri": "https://localhost:8080/",
          "height": 1000
        },
        "id": "A-w4erR-Xbs8",
        "outputId": "15701e5d-7669-4eb4-83a1-e14de699c834"
      },
      "source": [
        "from dask.distributed import Client, progress\n",
        "client = Client(n_workers=4, threads_per_worker=1, memory_limit='2GB')\n",
        "client"
      ],
      "execution_count": 4,
      "outputs": [
        {
          "output_type": "execute_result",
          "data": {
            "text/html": [
              "<div>\n",
              "    <div style=\"width: 24px; height: 24px; background-color: #e1e1e1; border: 3px solid #9D9D9D; border-radius: 5px; position: absolute;\"> </div>\n",
              "    <div style=\"margin-left: 48px;\">\n",
              "        <h3 style=\"margin-bottom: 0px;\">Client</h3>\n",
              "        <p style=\"color: #9D9D9D; margin-bottom: 0px;\">Client-1b1187d8-0352-11ec-8151-0242ac1c0002</p>\n",
              "        <table style=\"width: 100%; text-align: left;\">\n",
              "\n",
              "        <tr>\n",
              "        \n",
              "            <td style=\"text-align: left;\"><strong>Connection method:</strong> Cluster object</td>\n",
              "            <td style=\"text-align: left;\"><strong>Cluster type:</strong> distributed.LocalCluster</td>\n",
              "        \n",
              "        </tr>\n",
              "\n",
              "        \n",
              "            <tr>\n",
              "                <td style=\"text-align: left;\">\n",
              "                    <strong>Dashboard: </strong> <a href=\"http://127.0.0.1:8787/status\" target=\"_blank\">http://127.0.0.1:8787/status</a>\n",
              "                </td>\n",
              "                <td style=\"text-align: left;\"></td>\n",
              "            </tr>\n",
              "        \n",
              "\n",
              "        </table>\n",
              "\n",
              "        \n",
              "            <details>\n",
              "            <summary style=\"margin-bottom: 20px;\"><h3 style=\"display: inline;\">Cluster Info</h3></summary>\n",
              "            <div class=\"jp-RenderedHTMLCommon jp-RenderedHTML jp-mod-trusted jp-OutputArea-output\">\n",
              "    <div style=\"width: 24px; height: 24px; background-color: #e1e1e1; border: 3px solid #9D9D9D; border-radius: 5px; position: absolute;\">\n",
              "    </div>\n",
              "    <div style=\"margin-left: 48px;\">\n",
              "        <h3 style=\"margin-bottom: 0px; margin-top: 0px;\">LocalCluster</h3>\n",
              "        <p style=\"color: #9D9D9D; margin-bottom: 0px;\">dcde14b7</p>\n",
              "        <table style=\"width: 100%; text-align: left;\">\n",
              "            <tr>\n",
              "                <td style=\"text-align: left;\">\n",
              "                    <strong>Dashboard:</strong> <a href=\"http://127.0.0.1:8787/status\" target=\"_blank\">http://127.0.0.1:8787/status</a>\n",
              "                </td>\n",
              "                <td style=\"text-align: left;\">\n",
              "                    <strong>Workers:</strong> 4\n",
              "                </td>\n",
              "            </tr>\n",
              "            <tr>\n",
              "                <td style=\"text-align: left;\">\n",
              "                    <strong>Total threads:</strong> 4\n",
              "                </td>\n",
              "                <td style=\"text-align: left;\">\n",
              "                    <strong>Total memory:</strong> 7.45 GiB\n",
              "                </td>\n",
              "            </tr>\n",
              "            \n",
              "            <tr>\n",
              "    <td style=\"text-align: left;\"><strong>Status:</strong> running</td>\n",
              "    <td style=\"text-align: left;\"><strong>Using processes:</strong> True</td>\n",
              "</tr>\n",
              "\n",
              "            \n",
              "        </table>\n",
              "\n",
              "        <details>\n",
              "            <summary style=\"margin-bottom: 20px;\">\n",
              "                <h3 style=\"display: inline;\">Scheduler Info</h3>\n",
              "            </summary>\n",
              "\n",
              "            <div style=\"\">\n",
              "    <div>\n",
              "        <div style=\"width: 24px; height: 24px; background-color: #FFF7E5; border: 3px solid #FF6132; border-radius: 5px; position: absolute;\"> </div>\n",
              "        <div style=\"margin-left: 48px;\">\n",
              "            <h3 style=\"margin-bottom: 0px;\">Scheduler</h3>\n",
              "            <p style=\"color: #9D9D9D; margin-bottom: 0px;\">Scheduler-1f43e566-5452-4d97-b9aa-6f3c43ba1d0e</p>\n",
              "            <table style=\"width: 100%; text-align: left;\">\n",
              "                <tr>\n",
              "                    <td style=\"text-align: left;\">\n",
              "                        <strong>Comm:</strong> tcp://127.0.0.1:43617\n",
              "                    </td>\n",
              "                    <td style=\"text-align: left;\">\n",
              "                        <strong>Workers:</strong> 4\n",
              "                    </td>\n",
              "                </tr>\n",
              "                <tr>\n",
              "                    <td style=\"text-align: left;\">\n",
              "                        <strong>Dashboard:</strong> <a href=\"http://127.0.0.1:8787/status\" target=\"_blank\">http://127.0.0.1:8787/status</a>\n",
              "                    </td>\n",
              "                    <td style=\"text-align: left;\">\n",
              "                        <strong>Total threads:</strong> 4\n",
              "                    </td>\n",
              "                </tr>\n",
              "                <tr>\n",
              "                    <td style=\"text-align: left;\">\n",
              "                        <strong>Started:</strong> Just now\n",
              "                    </td>\n",
              "                    <td style=\"text-align: left;\">\n",
              "                        <strong>Total memory:</strong> 7.45 GiB\n",
              "                    </td>\n",
              "                </tr>\n",
              "            </table>\n",
              "        </div>\n",
              "    </div>\n",
              "\n",
              "    <details style=\"margin-left: 48px;\">\n",
              "        <summary style=\"margin-bottom: 20px;\">\n",
              "            <h3 style=\"display: inline;\">Workers</h3>\n",
              "        </summary>\n",
              "\n",
              "        \n",
              "        <div style=\"margin-bottom: 20px;\">\n",
              "            <div style=\"width: 24px; height: 24px; background-color: #DBF5FF; border: 3px solid #4CC9FF; border-radius: 5px; position: absolute;\"> </div>\n",
              "            <div style=\"margin-left: 48px;\">\n",
              "            <details>\n",
              "                <summary>\n",
              "                    <h4 style=\"margin-bottom: 0px; display: inline;\">Worker: 0</h4>\n",
              "                </summary>\n",
              "                <table style=\"width: 100%; text-align: left;\">\n",
              "                    <tr>\n",
              "                        <td style=\"text-align: left;\">\n",
              "                            <strong>Comm: </strong> tcp://127.0.0.1:41893\n",
              "                        </td>\n",
              "                        <td style=\"text-align: left;\">\n",
              "                            <strong>Total threads: </strong> 1\n",
              "                        </td>\n",
              "                    </tr>\n",
              "                    <tr>\n",
              "                        <td style=\"text-align: left;\">\n",
              "                            <strong>Dashboard: </strong> <a href=\"http://127.0.0.1:38325/status\" target=\"_blank\">http://127.0.0.1:38325/status</a>\n",
              "                        </td>\n",
              "                        <td style=\"text-align: left;\">\n",
              "                            <strong>Memory: </strong> 1.86 GiB\n",
              "                        </td>\n",
              "                    </tr>\n",
              "                    <tr>\n",
              "                        <td style=\"text-align: left;\">\n",
              "                            <strong>Nanny: </strong> tcp://127.0.0.1:39177\n",
              "                        </td>\n",
              "                        <td style=\"text-align: left;\"></td>\n",
              "                    </tr>\n",
              "                    <tr>\n",
              "                        <td colspan=\"2\" style=\"text-align: left;\">\n",
              "                            <strong>Local directory: </strong> /content/dask-worker-space/worker-xu1k9m75\n",
              "                        </td>\n",
              "                    </tr>\n",
              "\n",
              "                    \n",
              "                    <tr>\n",
              "                        <td style=\"text-align: left;\">\n",
              "                            <strong>GPU: </strong>Tesla P100-PCIE-16GB\n",
              "                        </td>\n",
              "                        <td style=\"text-align: left;\">\n",
              "                            <strong>GPU memory: </strong> 15.90 GiB\n",
              "                        </td>\n",
              "                    </tr>\n",
              "                    \n",
              "\n",
              "                    \n",
              "\n",
              "                </table>\n",
              "            </details>\n",
              "            </div>\n",
              "        </div>\n",
              "        \n",
              "        <div style=\"margin-bottom: 20px;\">\n",
              "            <div style=\"width: 24px; height: 24px; background-color: #DBF5FF; border: 3px solid #4CC9FF; border-radius: 5px; position: absolute;\"> </div>\n",
              "            <div style=\"margin-left: 48px;\">\n",
              "            <details>\n",
              "                <summary>\n",
              "                    <h4 style=\"margin-bottom: 0px; display: inline;\">Worker: 1</h4>\n",
              "                </summary>\n",
              "                <table style=\"width: 100%; text-align: left;\">\n",
              "                    <tr>\n",
              "                        <td style=\"text-align: left;\">\n",
              "                            <strong>Comm: </strong> tcp://127.0.0.1:44639\n",
              "                        </td>\n",
              "                        <td style=\"text-align: left;\">\n",
              "                            <strong>Total threads: </strong> 1\n",
              "                        </td>\n",
              "                    </tr>\n",
              "                    <tr>\n",
              "                        <td style=\"text-align: left;\">\n",
              "                            <strong>Dashboard: </strong> <a href=\"http://127.0.0.1:34481/status\" target=\"_blank\">http://127.0.0.1:34481/status</a>\n",
              "                        </td>\n",
              "                        <td style=\"text-align: left;\">\n",
              "                            <strong>Memory: </strong> 1.86 GiB\n",
              "                        </td>\n",
              "                    </tr>\n",
              "                    <tr>\n",
              "                        <td style=\"text-align: left;\">\n",
              "                            <strong>Nanny: </strong> tcp://127.0.0.1:41997\n",
              "                        </td>\n",
              "                        <td style=\"text-align: left;\"></td>\n",
              "                    </tr>\n",
              "                    <tr>\n",
              "                        <td colspan=\"2\" style=\"text-align: left;\">\n",
              "                            <strong>Local directory: </strong> /content/dask-worker-space/worker-_mghccpu\n",
              "                        </td>\n",
              "                    </tr>\n",
              "\n",
              "                    \n",
              "                    <tr>\n",
              "                        <td style=\"text-align: left;\">\n",
              "                            <strong>GPU: </strong>Tesla P100-PCIE-16GB\n",
              "                        </td>\n",
              "                        <td style=\"text-align: left;\">\n",
              "                            <strong>GPU memory: </strong> 15.90 GiB\n",
              "                        </td>\n",
              "                    </tr>\n",
              "                    \n",
              "\n",
              "                    \n",
              "\n",
              "                </table>\n",
              "            </details>\n",
              "            </div>\n",
              "        </div>\n",
              "        \n",
              "        <div style=\"margin-bottom: 20px;\">\n",
              "            <div style=\"width: 24px; height: 24px; background-color: #DBF5FF; border: 3px solid #4CC9FF; border-radius: 5px; position: absolute;\"> </div>\n",
              "            <div style=\"margin-left: 48px;\">\n",
              "            <details>\n",
              "                <summary>\n",
              "                    <h4 style=\"margin-bottom: 0px; display: inline;\">Worker: 2</h4>\n",
              "                </summary>\n",
              "                <table style=\"width: 100%; text-align: left;\">\n",
              "                    <tr>\n",
              "                        <td style=\"text-align: left;\">\n",
              "                            <strong>Comm: </strong> tcp://127.0.0.1:36713\n",
              "                        </td>\n",
              "                        <td style=\"text-align: left;\">\n",
              "                            <strong>Total threads: </strong> 1\n",
              "                        </td>\n",
              "                    </tr>\n",
              "                    <tr>\n",
              "                        <td style=\"text-align: left;\">\n",
              "                            <strong>Dashboard: </strong> <a href=\"http://127.0.0.1:45025/status\" target=\"_blank\">http://127.0.0.1:45025/status</a>\n",
              "                        </td>\n",
              "                        <td style=\"text-align: left;\">\n",
              "                            <strong>Memory: </strong> 1.86 GiB\n",
              "                        </td>\n",
              "                    </tr>\n",
              "                    <tr>\n",
              "                        <td style=\"text-align: left;\">\n",
              "                            <strong>Nanny: </strong> tcp://127.0.0.1:39157\n",
              "                        </td>\n",
              "                        <td style=\"text-align: left;\"></td>\n",
              "                    </tr>\n",
              "                    <tr>\n",
              "                        <td colspan=\"2\" style=\"text-align: left;\">\n",
              "                            <strong>Local directory: </strong> /content/dask-worker-space/worker-71fv5n03\n",
              "                        </td>\n",
              "                    </tr>\n",
              "\n",
              "                    \n",
              "                    <tr>\n",
              "                        <td style=\"text-align: left;\">\n",
              "                            <strong>GPU: </strong>Tesla P100-PCIE-16GB\n",
              "                        </td>\n",
              "                        <td style=\"text-align: left;\">\n",
              "                            <strong>GPU memory: </strong> 15.90 GiB\n",
              "                        </td>\n",
              "                    </tr>\n",
              "                    \n",
              "\n",
              "                    \n",
              "\n",
              "                </table>\n",
              "            </details>\n",
              "            </div>\n",
              "        </div>\n",
              "        \n",
              "        <div style=\"margin-bottom: 20px;\">\n",
              "            <div style=\"width: 24px; height: 24px; background-color: #DBF5FF; border: 3px solid #4CC9FF; border-radius: 5px; position: absolute;\"> </div>\n",
              "            <div style=\"margin-left: 48px;\">\n",
              "            <details>\n",
              "                <summary>\n",
              "                    <h4 style=\"margin-bottom: 0px; display: inline;\">Worker: 3</h4>\n",
              "                </summary>\n",
              "                <table style=\"width: 100%; text-align: left;\">\n",
              "                    <tr>\n",
              "                        <td style=\"text-align: left;\">\n",
              "                            <strong>Comm: </strong> tcp://127.0.0.1:41187\n",
              "                        </td>\n",
              "                        <td style=\"text-align: left;\">\n",
              "                            <strong>Total threads: </strong> 1\n",
              "                        </td>\n",
              "                    </tr>\n",
              "                    <tr>\n",
              "                        <td style=\"text-align: left;\">\n",
              "                            <strong>Dashboard: </strong> <a href=\"http://127.0.0.1:32869/status\" target=\"_blank\">http://127.0.0.1:32869/status</a>\n",
              "                        </td>\n",
              "                        <td style=\"text-align: left;\">\n",
              "                            <strong>Memory: </strong> 1.86 GiB\n",
              "                        </td>\n",
              "                    </tr>\n",
              "                    <tr>\n",
              "                        <td style=\"text-align: left;\">\n",
              "                            <strong>Nanny: </strong> tcp://127.0.0.1:44367\n",
              "                        </td>\n",
              "                        <td style=\"text-align: left;\"></td>\n",
              "                    </tr>\n",
              "                    <tr>\n",
              "                        <td colspan=\"2\" style=\"text-align: left;\">\n",
              "                            <strong>Local directory: </strong> /content/dask-worker-space/worker-k_jbyrso\n",
              "                        </td>\n",
              "                    </tr>\n",
              "\n",
              "                    \n",
              "                    <tr>\n",
              "                        <td style=\"text-align: left;\">\n",
              "                            <strong>GPU: </strong>Tesla P100-PCIE-16GB\n",
              "                        </td>\n",
              "                        <td style=\"text-align: left;\">\n",
              "                            <strong>GPU memory: </strong> 15.90 GiB\n",
              "                        </td>\n",
              "                    </tr>\n",
              "                    \n",
              "\n",
              "                    \n",
              "\n",
              "                </table>\n",
              "            </details>\n",
              "            </div>\n",
              "        </div>\n",
              "        \n",
              "\n",
              "    </details>\n",
              "</div>\n",
              "\n",
              "        </details>\n",
              "    </div>\n",
              "</div>\n",
              "            </details>\n",
              "        \n",
              "\n",
              "    </div>\n",
              "</div>"
            ],
            "text/plain": [
              "<Client: 'tcp://127.0.0.1:43617' processes=4 threads=4, memory=7.45 GiB>"
            ]
          },
          "metadata": {},
          "execution_count": 4
        }
      ]
    },
    {
      "cell_type": "code",
      "metadata": {
        "colab": {
          "base_uri": "https://localhost:8080/"
        },
        "id": "hqnzftAhKCQ_",
        "outputId": "74ca6ef0-3cef-47a6-fdb3-37e87f764b16"
      },
      "source": [
        "!more /proc/meminfo | head -1"
      ],
      "execution_count": 5,
      "outputs": [
        {
          "output_type": "stream",
          "text": [
            "MemTotal:       26696424 kB\n"
          ],
          "name": "stdout"
        }
      ]
    },
    {
      "cell_type": "markdown",
      "metadata": {
        "keep_output": true,
        "id": "GrTMHd_GXbs9"
      },
      "source": [
        "## Distributed Training\n",
        "\n",
        "Scikit-learn uses [joblib](http://joblib.readthedocs.io/) for single-machine parallelism. This lets you train most estimators (anything that accepts an `n_jobs` parameter) using all the cores of your laptop or workstation.\n",
        "\n",
        "Alternatively, Scikit-Learn can use Dask for parallelism.  This lets you train those estimators using all the cores of your *cluster* without significantly changing your code.\n",
        "\n",
        "This is most useful for training large models on medium-sized datasets. You may have a large model when searching over many hyper-parameters, or when using an ensemble method with many individual estimators. For too small datasets, training times will typically be small enough that cluster-wide parallelism isn't helpful. For too large datasets (larger than a single machine's memory), the scikit-learn estimators may not be able to cope (though Dask-ML provides other ways for working with larger than memory datasets)."
      ]
    },
    {
      "cell_type": "markdown",
      "metadata": {
        "id": "RMK8fMC6Xbs-"
      },
      "source": [
        "### Create Scikit-Learn Pipeline"
      ]
    },
    {
      "cell_type": "code",
      "metadata": {
        "id": "uVrOQkDnXbtC"
      },
      "source": [
        "from pprint import pprint\n",
        "from time import time\n",
        "import logging\n",
        "\n",
        "from sklearn.datasets import fetch_20newsgroups\n",
        "from sklearn.feature_extraction.text import HashingVectorizer\n",
        "from sklearn.feature_extraction.text import TfidfTransformer\n",
        "from sklearn.linear_model import SGDClassifier\n",
        "from sklearn.model_selection import GridSearchCV\n",
        "from sklearn.pipeline import Pipeline"
      ],
      "execution_count": 6,
      "outputs": []
    },
    {
      "cell_type": "code",
      "metadata": {
        "colab": {
          "base_uri": "https://localhost:8080/"
        },
        "id": "ScwpYiymXbtC",
        "outputId": "a8acc8f0-9996-4e4a-d091-b2ed676935b4"
      },
      "source": [
        "# Scale Up: set categories=None to use all the categories\n",
        "categories = [\n",
        "    'alt.atheism',\n",
        "    'talk.religion.misc',\n",
        "]\n",
        "\n",
        "print(\"Loading 20 newsgroups dataset for categories:\")\n",
        "print(categories)\n",
        "\n",
        "data = fetch_20newsgroups(subset='train', categories=categories)\n",
        "print(\"%d documents\" % len(data.filenames))\n",
        "print(\"%d categories\" % len(data.target_names))\n",
        "print()"
      ],
      "execution_count": 7,
      "outputs": [
        {
          "output_type": "stream",
          "text": [
            "Loading 20 newsgroups dataset for categories:\n",
            "['alt.atheism', 'talk.religion.misc']\n",
            "857 documents\n",
            "2 categories\n",
            "\n"
          ],
          "name": "stdout"
        }
      ]
    },
    {
      "cell_type": "markdown",
      "metadata": {
        "id": "3bkhxhj4XbtD"
      },
      "source": [
        "We'll define a small pipeline that combines text feature extraction with a simple classifier."
      ]
    },
    {
      "cell_type": "code",
      "metadata": {
        "id": "yPdGiqj3XbtD"
      },
      "source": [
        "### START CODE ###\n",
        "# Add HashingVectorizer, TfidfTransformer and SGDClassifier with max_iter of 1000 in the pipeline steps\n",
        "pipeline = Pipeline([\n",
        "    ('vect', HashingVectorizer()),\n",
        "    ('tfidf', TfidfTransformer()),\n",
        "    ('clf', SGDClassifier(max_iter=1000)),\n",
        "])\n",
        "### END CODE ###"
      ],
      "execution_count": 8,
      "outputs": []
    },
    {
      "cell_type": "markdown",
      "metadata": {
        "id": "D7S6nccQXbtD"
      },
      "source": [
        "### Define Grid for Parameter Search"
      ]
    },
    {
      "cell_type": "markdown",
      "metadata": {
        "id": "qnwLKdJzXbtE"
      },
      "source": [
        "Grid search over some parameters."
      ]
    },
    {
      "cell_type": "code",
      "metadata": {
        "id": "T1X_NY8HXbtE"
      },
      "source": [
        "# Un comment the addition parameters if you want to train more\n",
        "parameters = {\n",
        "    'tfidf__use_idf': (True, False),\n",
        "    'tfidf__norm': ('l1', 'l2'),\n",
        "    'clf__alpha': (0.00001, 0.000001),\n",
        "    # 'clf__penalty': ('l2', 'elasticnet'),\n",
        "    # 'clf__n_iter': (10, 50, 80),\n",
        "}"
      ],
      "execution_count": 9,
      "outputs": []
    },
    {
      "cell_type": "code",
      "metadata": {
        "id": "l1EFN8DAXbtE"
      },
      "source": [
        "### START CODE ###\n",
        "# Run GridSearchCV with the pipeline, parameters, n_jobs as -1, cv as 3 and refit=False \n",
        "grid_search =  GridSearchCV(pipeline, parameters, n_jobs=-1, verbose=1, cv=3, refit=False)\n",
        "### END CODE ###"
      ],
      "execution_count": 10,
      "outputs": []
    },
    {
      "cell_type": "markdown",
      "metadata": {
        "id": "aO1J7gA-XbtE"
      },
      "source": [
        "To fit this normally, we would write\n",
        "\n",
        "\n",
        "```python\n",
        "grid_search.fit(data.data, data.target)\n",
        "```\n",
        "\n",
        "That would use the default joblib backend (multiple processes) for parallelism.\n",
        "To use the Dask distributed backend, which will use a cluster of machines to train the model, perform the fit in a `parallel_backend` context."
      ]
    },
    {
      "cell_type": "code",
      "metadata": {
        "colab": {
          "base_uri": "https://localhost:8080/"
        },
        "id": "jsZY3qVYXbtF",
        "outputId": "e2789b2a-81df-42f0-8fd2-dfc5f109d8e1"
      },
      "source": [
        "import joblib\n",
        "\n",
        "with joblib.parallel_backend('dask'):\n",
        "    grid_search.fit(data.data, data.target)"
      ],
      "execution_count": 11,
      "outputs": [
        {
          "output_type": "stream",
          "text": [
            "Fitting 3 folds for each of 8 candidates, totalling 24 fits\n"
          ],
          "name": "stdout"
        }
      ]
    },
    {
      "cell_type": "markdown",
      "metadata": {
        "id": "cB9QFH2UXbtF"
      },
      "source": [
        "If you had your distributed dashboard open during that fit, you'll notice that each worker performs some of the fit tasks."
      ]
    },
    {
      "cell_type": "markdown",
      "metadata": {
        "id": "PS0Kosc2XbtF"
      },
      "source": [
        "## Parallel, Distributed Prediction\n",
        "\n",
        "Sometimes, you're train on a small dataset, but need to predict for a much larger batch of data.\n",
        "In this case, you'd like your estimator to handle NumPy arrays and pandas DataFrames for training, and dask arrays or DataFrames for prediction. [`dask_ml.wrappers.ParallelPostFit`](http://ml.dask.org/modules/generated/dask_ml.wrappers.ParallelPostFit.html#dask_ml.wrappers.ParallelPostFit) provides exactly that. It's a meta-estimator. It does nothing during training; the underlying estimator (probably a scikit-learn estimator) will probably be in-memory on a single machine. But tasks like `predict`, `score`, etc. are parallelized and distributed.\n",
        "\n",
        "Most of the time, using `ParallelPostFit` is as simple as wrapping the original estimator.\n",
        "When used inside a GridSearch, you'll need to update the keys of the parameters, just like with any meta-estimator.\n",
        "The only complication comes when using `ParallelPostFit` with another meta-estimator like `GridSearchCV`. In this case, you'll need to prefix your parameter names with `estimator__`."
      ]
    },
    {
      "cell_type": "code",
      "metadata": {
        "id": "5kgm69waXbtF"
      },
      "source": [
        "from sklearn.datasets import load_digits\n",
        "from sklearn.svm import SVC\n",
        "from dask_ml.wrappers import ParallelPostFit"
      ],
      "execution_count": 12,
      "outputs": []
    },
    {
      "cell_type": "markdown",
      "metadata": {
        "id": "2eC1GxqhXbtG"
      },
      "source": [
        "We'll load the small NumPy arrays for training."
      ]
    },
    {
      "cell_type": "code",
      "metadata": {
        "colab": {
          "base_uri": "https://localhost:8080/"
        },
        "id": "X_KUYiN0XbtG",
        "outputId": "c31d49b9-4efd-47cf-8e6c-37f4115dc58c"
      },
      "source": [
        "X, y = load_digits(return_X_y=True)\n",
        "X.shape"
      ],
      "execution_count": 13,
      "outputs": [
        {
          "output_type": "execute_result",
          "data": {
            "text/plain": [
              "(1797, 64)"
            ]
          },
          "metadata": {},
          "execution_count": 13
        }
      ]
    },
    {
      "cell_type": "code",
      "metadata": {
        "id": "psak30xvXbtG"
      },
      "source": [
        "svc = ParallelPostFit(SVC(random_state=0, gamma='scale'))\n",
        "\n",
        "param_grid = {\n",
        "    # use estimator__param instead of param\n",
        "    'estimator__C': [0.01, 1.0, 10],\n",
        "}\n",
        "\n",
        "grid_search = GridSearchCV(svc, param_grid, cv=3)"
      ],
      "execution_count": 14,
      "outputs": []
    },
    {
      "cell_type": "markdown",
      "metadata": {
        "id": "Kv2rJbouXbtH"
      },
      "source": [
        "And fit as usual."
      ]
    },
    {
      "cell_type": "code",
      "metadata": {
        "colab": {
          "base_uri": "https://localhost:8080/"
        },
        "id": "kB1fyALEXbtH",
        "outputId": "b8a33121-7dd7-4def-d838-b09ede2e9f85"
      },
      "source": [
        "grid_search.fit(X, y)"
      ],
      "execution_count": 15,
      "outputs": [
        {
          "output_type": "execute_result",
          "data": {
            "text/plain": [
              "GridSearchCV(cv=3, estimator=ParallelPostFit(estimator=SVC(random_state=0)),\n",
              "             param_grid={'estimator__C': [0.01, 1.0, 10]})"
            ]
          },
          "metadata": {},
          "execution_count": 15
        }
      ]
    },
    {
      "cell_type": "markdown",
      "metadata": {
        "id": "QA0WgvJIXbtI"
      },
      "source": [
        "We'll simulate a large dask array by replicating the training data a few times.\n",
        "In reality, you would load this from your file system."
      ]
    },
    {
      "cell_type": "code",
      "metadata": {
        "id": "BdsMLYjBXbtI"
      },
      "source": [
        "import dask.array as da"
      ],
      "execution_count": 16,
      "outputs": []
    },
    {
      "cell_type": "code",
      "metadata": {
        "colab": {
          "base_uri": "https://localhost:8080/",
          "height": 197
        },
        "id": "XUdbXcwjXbtJ",
        "outputId": "5f605f39-c91f-4ee0-ee31-5e540e9cb497"
      },
      "source": [
        "big_X = da.concatenate([\n",
        "    da.from_array(X, chunks=X.shape)\n",
        "    for _ in range(10)\n",
        "])\n",
        "big_X"
      ],
      "execution_count": 17,
      "outputs": [
        {
          "output_type": "execute_result",
          "data": {
            "text/html": [
              "<table>\n",
              "    <tr>\n",
              "        <td>\n",
              "            <table>\n",
              "                <thead>\n",
              "                    <tr>\n",
              "                        <td> </td>\n",
              "                        <th> Array </th>\n",
              "                        <th> Chunk </th>\n",
              "                    </tr>\n",
              "                </thead>\n",
              "                <tbody>\n",
              "                    \n",
              "                    <tr>\n",
              "                        <th> Bytes </th>\n",
              "                        <td> 8.77 MiB </td>\n",
              "                        <td> 898.50 kiB </td>\n",
              "                    </tr>\n",
              "                    \n",
              "                    <tr>\n",
              "                        <th> Shape </th>\n",
              "                        <td> (17970, 64) </td>\n",
              "                        <td> (1797, 64) </td>\n",
              "                    </tr>\n",
              "                    <tr>\n",
              "                        <th> Count </th>\n",
              "                        <td> 11 Tasks </td>\n",
              "                        <td> 10 Chunks </td>\n",
              "                    </tr>\n",
              "                    <tr>\n",
              "                    <th> Type </th>\n",
              "                    <td> float64 </td>\n",
              "                    <td> numpy.ndarray </td>\n",
              "                    </tr>\n",
              "                </tbody>\n",
              "            </table>\n",
              "        </td>\n",
              "        <td>\n",
              "        <svg width=\"75\" height=\"170\" style=\"stroke:rgb(0,0,0);stroke-width:1\" >\n",
              "\n",
              "  <!-- Horizontal lines -->\n",
              "  <line x1=\"0\" y1=\"0\" x2=\"25\" y2=\"0\" style=\"stroke-width:2\" />\n",
              "  <line x1=\"0\" y1=\"12\" x2=\"25\" y2=\"12\" />\n",
              "  <line x1=\"0\" y1=\"24\" x2=\"25\" y2=\"24\" />\n",
              "  <line x1=\"0\" y1=\"36\" x2=\"25\" y2=\"36\" />\n",
              "  <line x1=\"0\" y1=\"48\" x2=\"25\" y2=\"48\" />\n",
              "  <line x1=\"0\" y1=\"60\" x2=\"25\" y2=\"60\" />\n",
              "  <line x1=\"0\" y1=\"72\" x2=\"25\" y2=\"72\" />\n",
              "  <line x1=\"0\" y1=\"84\" x2=\"25\" y2=\"84\" />\n",
              "  <line x1=\"0\" y1=\"96\" x2=\"25\" y2=\"96\" />\n",
              "  <line x1=\"0\" y1=\"108\" x2=\"25\" y2=\"108\" />\n",
              "  <line x1=\"0\" y1=\"120\" x2=\"25\" y2=\"120\" style=\"stroke-width:2\" />\n",
              "\n",
              "  <!-- Vertical lines -->\n",
              "  <line x1=\"0\" y1=\"0\" x2=\"0\" y2=\"120\" style=\"stroke-width:2\" />\n",
              "  <line x1=\"25\" y1=\"0\" x2=\"25\" y2=\"120\" style=\"stroke-width:2\" />\n",
              "\n",
              "  <!-- Colored Rectangle -->\n",
              "  <polygon points=\"0.0,0.0 25.412616514582485,0.0 25.412616514582485,120.0 0.0,120.0\" style=\"fill:#ECB172A0;stroke-width:0\"/>\n",
              "\n",
              "  <!-- Text -->\n",
              "  <text x=\"12.706308\" y=\"140.000000\" font-size=\"1.0rem\" font-weight=\"100\" text-anchor=\"middle\" >64</text>\n",
              "  <text x=\"45.412617\" y=\"60.000000\" font-size=\"1.0rem\" font-weight=\"100\" text-anchor=\"middle\" transform=\"rotate(-90,45.412617,60.000000)\">17970</text>\n",
              "</svg>\n",
              "        </td>\n",
              "    </tr>\n",
              "</table>"
            ],
            "text/plain": [
              "dask.array<concatenate, shape=(17970, 64), dtype=float64, chunksize=(1797, 64), chunktype=numpy.ndarray>"
            ]
          },
          "metadata": {},
          "execution_count": 17
        }
      ]
    },
    {
      "cell_type": "markdown",
      "metadata": {
        "id": "jiRPQcC6XbtJ"
      },
      "source": [
        "Operations like `predict`, or `predict_proba` return dask, rather than NumPy arrays.\n",
        "When you compute, the work will be done in parallel, out of core or distributed on the cluster."
      ]
    },
    {
      "cell_type": "code",
      "metadata": {
        "colab": {
          "base_uri": "https://localhost:8080/",
          "height": 130
        },
        "id": "vJVWMAi1XbtK",
        "outputId": "1de41b11-ea30-4ef8-90c8-006082177fdd"
      },
      "source": [
        "predicted = grid_search.predict(big_X)\n",
        "predicted"
      ],
      "execution_count": 18,
      "outputs": [
        {
          "output_type": "execute_result",
          "data": {
            "text/html": [
              "<table>\n",
              "    <tr>\n",
              "        <td>\n",
              "            <table>\n",
              "                <thead>\n",
              "                    <tr>\n",
              "                        <td> </td>\n",
              "                        <th> Array </th>\n",
              "                        <th> Chunk </th>\n",
              "                    </tr>\n",
              "                </thead>\n",
              "                <tbody>\n",
              "                    \n",
              "                    <tr>\n",
              "                        <th> Bytes </th>\n",
              "                        <td> 140.39 kiB </td>\n",
              "                        <td> 14.04 kiB </td>\n",
              "                    </tr>\n",
              "                    \n",
              "                    <tr>\n",
              "                        <th> Shape </th>\n",
              "                        <td> (17970,) </td>\n",
              "                        <td> (1797,) </td>\n",
              "                    </tr>\n",
              "                    <tr>\n",
              "                        <th> Count </th>\n",
              "                        <td> 21 Tasks </td>\n",
              "                        <td> 10 Chunks </td>\n",
              "                    </tr>\n",
              "                    <tr>\n",
              "                    <th> Type </th>\n",
              "                    <td> int64 </td>\n",
              "                    <td> numpy.ndarray </td>\n",
              "                    </tr>\n",
              "                </tbody>\n",
              "            </table>\n",
              "        </td>\n",
              "        <td>\n",
              "        <svg width=\"170\" height=\"75\" style=\"stroke:rgb(0,0,0);stroke-width:1\" >\n",
              "\n",
              "  <!-- Horizontal lines -->\n",
              "  <line x1=\"0\" y1=\"0\" x2=\"120\" y2=\"0\" style=\"stroke-width:2\" />\n",
              "  <line x1=\"0\" y1=\"25\" x2=\"120\" y2=\"25\" style=\"stroke-width:2\" />\n",
              "\n",
              "  <!-- Vertical lines -->\n",
              "  <line x1=\"0\" y1=\"0\" x2=\"0\" y2=\"25\" style=\"stroke-width:2\" />\n",
              "  <line x1=\"12\" y1=\"0\" x2=\"12\" y2=\"25\" />\n",
              "  <line x1=\"24\" y1=\"0\" x2=\"24\" y2=\"25\" />\n",
              "  <line x1=\"36\" y1=\"0\" x2=\"36\" y2=\"25\" />\n",
              "  <line x1=\"48\" y1=\"0\" x2=\"48\" y2=\"25\" />\n",
              "  <line x1=\"60\" y1=\"0\" x2=\"60\" y2=\"25\" />\n",
              "  <line x1=\"72\" y1=\"0\" x2=\"72\" y2=\"25\" />\n",
              "  <line x1=\"84\" y1=\"0\" x2=\"84\" y2=\"25\" />\n",
              "  <line x1=\"96\" y1=\"0\" x2=\"96\" y2=\"25\" />\n",
              "  <line x1=\"108\" y1=\"0\" x2=\"108\" y2=\"25\" />\n",
              "  <line x1=\"120\" y1=\"0\" x2=\"120\" y2=\"25\" style=\"stroke-width:2\" />\n",
              "\n",
              "  <!-- Colored Rectangle -->\n",
              "  <polygon points=\"0.0,0.0 120.0,0.0 120.0,25.412616514582485 0.0,25.412616514582485\" style=\"fill:#ECB172A0;stroke-width:0\"/>\n",
              "\n",
              "  <!-- Text -->\n",
              "  <text x=\"60.000000\" y=\"45.412617\" font-size=\"1.0rem\" font-weight=\"100\" text-anchor=\"middle\" >17970</text>\n",
              "  <text x=\"140.000000\" y=\"12.706308\" font-size=\"1.0rem\" font-weight=\"100\" text-anchor=\"middle\" transform=\"rotate(0,140.000000,12.706308)\">1</text>\n",
              "</svg>\n",
              "        </td>\n",
              "    </tr>\n",
              "</table>"
            ],
            "text/plain": [
              "dask.array<_predict, shape=(17970,), dtype=int64, chunksize=(1797,), chunktype=numpy.ndarray>"
            ]
          },
          "metadata": {},
          "execution_count": 18
        }
      ]
    },
    {
      "cell_type": "markdown",
      "metadata": {
        "id": "h-7D10lbXbtL"
      },
      "source": [
        "At this point predicted could be written to disk, or aggregated before returning to the client."
      ]
    }
  ]
}