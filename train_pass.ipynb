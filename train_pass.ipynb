{
  "cells": [
    {
      "cell_type": "markdown",
      "metadata": {
        "id": "view-in-github",
        "colab_type": "text"
      },
      "source": [
        "<a href=\"https://colab.research.google.com/github/rajashekar/colab/blob/main/train_pass.ipynb\" target=\"_parent\"><img src=\"https://colab.research.google.com/assets/colab-badge.svg\" alt=\"Open In Colab\"/></a>"
      ]
    },
    {
      "cell_type": "code",
      "execution_count": 100,
      "metadata": {
        "colab": {
          "base_uri": "https://localhost:8080/"
        },
        "id": "ui5LcnD_oQNM",
        "outputId": "d43b3573-4347-4c72-9ee5-89f8c3e27788"
      },
      "outputs": [
        {
          "output_type": "stream",
          "name": "stdout",
          "text": [
            "/content/drive/MyDrive/Colab/password\n"
          ]
        }
      ],
      "source": [
        "%cd /content/drive/MyDrive/Colab/password/"
      ]
    },
    {
      "cell_type": "code",
      "execution_count": 101,
      "metadata": {
        "id": "uWjiNuSx9WIL"
      },
      "outputs": [],
      "source": [
        "import os\n",
        "import time\n",
        "\n",
        "import tensorflow as tf\n",
        "\n",
        "import pandas as pd\n",
        "import numpy as np\n",
        "\n",
        "from sklearn.model_selection import train_test_split\n",
        "from nltk.translate.bleu_score import corpus_bleu, SmoothingFunction\n"
      ]
    },
    {
      "cell_type": "code",
      "execution_count": 102,
      "metadata": {
        "id": "nZvgDc7op-r9"
      },
      "outputs": [],
      "source": [
        "data = open('data/passwords_db.txt',).read()"
      ]
    },
    {
      "cell_type": "code",
      "execution_count": 103,
      "metadata": {
        "id": "H_LkTrk-qL4G",
        "colab": {
          "base_uri": "https://localhost:8080/"
        },
        "outputId": "960ae887-e2fb-4a89-826a-21a5a0029452"
      },
      "outputs": [
        {
          "output_type": "execute_result",
          "data": {
            "text/plain": [
              "178313552"
            ]
          },
          "metadata": {},
          "execution_count": 103
        }
      ],
      "source": [
        "len(data)"
      ]
    },
    {
      "cell_type": "code",
      "execution_count": 104,
      "metadata": {
        "id": "g02FJq9lqOgJ"
      },
      "outputs": [],
      "source": [
        "passwds = data.split(\"\\n\")"
      ]
    },
    {
      "cell_type": "code",
      "execution_count": 105,
      "metadata": {
        "id": "t8Aj6_E0q0hL",
        "colab": {
          "base_uri": "https://localhost:8080/"
        },
        "outputId": "bda4a5fd-5921-4a49-979e-bc89be15182a"
      },
      "outputs": [
        {
          "output_type": "execute_result",
          "data": {
            "text/plain": [
              "18308617"
            ]
          },
          "metadata": {},
          "execution_count": 105
        }
      ],
      "source": [
        "len(passwds)"
      ]
    },
    {
      "cell_type": "markdown",
      "metadata": {
        "id": "ko36Ziq0sbLj"
      },
      "source": [
        "# Vectorize the text"
      ]
    },
    {
      "cell_type": "code",
      "execution_count": 106,
      "metadata": {
        "id": "weTKFR38C3TM"
      },
      "outputs": [],
      "source": [
        "vocab = sorted(list(set(''.join(passwds))))"
      ]
    },
    {
      "cell_type": "code",
      "execution_count": 107,
      "metadata": {
        "colab": {
          "base_uri": "https://localhost:8080/"
        },
        "id": "nXfBF3yzDKDh",
        "outputId": "7ebd1a0d-31d3-4bd8-e6f2-42b679dc8349"
      },
      "outputs": [
        {
          "output_type": "execute_result",
          "data": {
            "text/plain": [
              "95"
            ]
          },
          "metadata": {},
          "execution_count": 107
        }
      ],
      "source": [
        "len(vocab)"
      ]
    },
    {
      "cell_type": "code",
      "execution_count": 108,
      "metadata": {
        "id": "9RaM5ANgDWI_"
      },
      "outputs": [],
      "source": [
        "char_indices = dict((c, i) for i, c in enumerate(vocab))\n",
        "indices_char = dict((i, c) for i, c in enumerate(vocab))"
      ]
    },
    {
      "cell_type": "code",
      "execution_count": 109,
      "metadata": {
        "id": "FhJ7DgosDb6y"
      },
      "outputs": [],
      "source": [
        "max_len = max(passwds, key=len)"
      ]
    },
    {
      "cell_type": "code",
      "execution_count": 110,
      "metadata": {
        "colab": {
          "base_uri": "https://localhost:8080/"
        },
        "id": "etgEVPzhoau8",
        "outputId": "95766b7c-cda2-487e-bb4f-0251b3d2764e"
      },
      "outputs": [
        {
          "output_type": "execute_result",
          "data": {
            "text/plain": [
              "50"
            ]
          },
          "metadata": {},
          "execution_count": 110
        }
      ],
      "source": [
        "len(max_len)"
      ]
    },
    {
      "cell_type": "code",
      "execution_count": 111,
      "metadata": {
        "colab": {
          "base_uri": "https://localhost:8080/"
        },
        "id": "X8BEFv-TpNRx",
        "outputId": "16f49ec7-e453-4a6c-9979-cd6b58bc3edb"
      },
      "outputs": [
        {
          "output_type": "stream",
          "name": "stdout",
          "text": [
            "Total number of passwords 18308617\n",
            "Passwords vocab size 95\n",
            "Max passwords length 50\n"
          ]
        }
      ],
      "source": [
        "print(f\"Total number of passwords {len(passwds)}\")\n",
        "print(f\"Passwords vocab size {len(vocab)}\")\n",
        "print(f\"Max passwords length {len(max_len)}\")"
      ]
    },
    {
      "cell_type": "code",
      "execution_count": 112,
      "metadata": {
        "id": "BeTj4zUyt2a8"
      },
      "outputs": [],
      "source": [
        "input_text = [p[:-1] for p in passwds]\n",
        "target_text = [p[1:] for p in passwds]"
      ]
    },
    {
      "cell_type": "code",
      "execution_count": 113,
      "metadata": {
        "colab": {
          "base_uri": "https://localhost:8080/"
        },
        "id": "3bMLxAb2vBQO",
        "outputId": "6c09bbed-48bf-48f1-93d5-58cf71135789"
      },
      "outputs": [
        {
          "output_type": "stream",
          "name": "stdout",
          "text": [
            "12STEVEN 12STEVE 2STEVEN\n"
          ]
        }
      ],
      "source": [
        "print(f\"{passwds[0]} {input_text[0]} {target_text[0]}\")"
      ]
    },
    {
      "cell_type": "code",
      "execution_count": 114,
      "metadata": {
        "id": "NuRwyhz8iqXM"
      },
      "outputs": [],
      "source": [
        "# Creating like below will blow memory\n",
        "\n",
        "# input_data = np.zeros( (len(passwds), len(max_len), len(vocab)) ,dtype='float32')\n",
        "# target_data = np.zeros( (len(passwds), len(max_len), len(vocab)) ,dtype='float32')\n",
        "\n",
        "# nearly took 17 GB of RAM memory for 1 million records\n",
        "# dataset has 14 million records\n",
        "# one_m_records = np.zeros( (1000000, 50, 95) ,dtype='float32')\n",
        "\n",
        "# clean memory\n",
        "# del one_m_records\n"
      ]
    },
    {
      "cell_type": "code",
      "execution_count": 115,
      "metadata": {
        "id": "rjiNNlf4xw6j"
      },
      "outputs": [],
      "source": [
        "tokenizer = tf.keras.preprocessing.text.Tokenizer(filters='', char_level=True, lower=False)\n",
        "tokenizer.fit_on_texts(passwds)"
      ]
    },
    {
      "cell_type": "code",
      "execution_count": 116,
      "metadata": {
        "id": "-moAS3B4y47S"
      },
      "outputs": [],
      "source": [
        "input_tensor = tokenizer.texts_to_sequences(input_text)\n",
        "input_tensor = tf.keras.preprocessing.sequence.pad_sequences(input_tensor, padding='post')"
      ]
    },
    {
      "cell_type": "code",
      "execution_count": 117,
      "metadata": {
        "colab": {
          "base_uri": "https://localhost:8080/"
        },
        "id": "MWg3cv6QzJXc",
        "outputId": "f828f981-b002-4fea-eace-a545c1a3cfef"
      },
      "outputs": [
        {
          "output_type": "execute_result",
          "data": {
            "text/plain": [
              "(18308617, 49)"
            ]
          },
          "metadata": {},
          "execution_count": 117
        }
      ],
      "source": [
        "input_tensor.shape"
      ]
    },
    {
      "cell_type": "code",
      "execution_count": 118,
      "metadata": {
        "id": "IgFpZ-1bzYTw"
      },
      "outputs": [],
      "source": [
        "target_tensor = tokenizer.texts_to_sequences(target_text)\n",
        "target_tensor = tf.keras.preprocessing.sequence.pad_sequences(target_tensor, padding='post')"
      ]
    },
    {
      "cell_type": "code",
      "execution_count": 119,
      "metadata": {
        "colab": {
          "base_uri": "https://localhost:8080/"
        },
        "id": "Qbl3D-_zsPa7",
        "outputId": "68f77558-cf76-48a1-a81a-5fa76709f591"
      },
      "outputs": [
        {
          "output_type": "execute_result",
          "data": {
            "text/plain": [
              "(18308617, 49)"
            ]
          },
          "metadata": {},
          "execution_count": 119
        }
      ],
      "source": [
        "target_tensor.shape"
      ]
    },
    {
      "cell_type": "code",
      "execution_count": 120,
      "metadata": {
        "colab": {
          "base_uri": "https://localhost:8080/"
        },
        "id": "I1tMQ01PuNbK",
        "outputId": "1a021b4b-ff91-41c9-cde9-2ca19bd35c5c"
      },
      "outputs": [
        {
          "output_type": "execute_result",
          "data": {
            "text/plain": [
              "['12STEVE', 'pedroantunescaetan', 'nanloveken', 'cyvoe', '2011kai']"
            ]
          },
          "metadata": {},
          "execution_count": 120
        }
      ],
      "source": [
        "[''.join(i.split()) for i in tokenizer.sequences_to_texts(input_tensor[:5])]"
      ]
    },
    {
      "cell_type": "code",
      "execution_count": 121,
      "metadata": {
        "colab": {
          "base_uri": "https://localhost:8080/"
        },
        "id": "NiPQKheBu7yL",
        "outputId": "138b8a6a-ebd7-401b-e934-c5cf25c36afb"
      },
      "outputs": [
        {
          "output_type": "execute_result",
          "data": {
            "text/plain": [
              "['2STEVEN', 'edroantunescaetano', 'anlovekeng', 'yvoet', '011kaid']"
            ]
          },
          "metadata": {},
          "execution_count": 121
        }
      ],
      "source": [
        "[''.join(i.split()) for i in tokenizer.sequences_to_texts(target_tensor[:5])]"
      ]
    },
    {
      "cell_type": "code",
      "execution_count": 122,
      "metadata": {
        "colab": {
          "base_uri": "https://localhost:8080/"
        },
        "id": "QIpxA4h0Ae1X",
        "outputId": "6c3ea6c6-3625-4853-f8cd-c6e542fc54af"
      },
      "outputs": [
        {
          "output_type": "execute_result",
          "data": {
            "text/plain": [
              "95"
            ]
          },
          "metadata": {},
          "execution_count": 122
        }
      ],
      "source": [
        "len(tokenizer.word_index)"
      ]
    },
    {
      "cell_type": "markdown",
      "metadata": {
        "id": "DELyjgzKs0n1"
      },
      "source": [
        "# Split data into Train and Validation"
      ]
    },
    {
      "cell_type": "code",
      "execution_count": 123,
      "metadata": {
        "id": "fyAhfR6ssmqb"
      },
      "outputs": [],
      "source": [
        "# Batch size\n",
        "BATCH_SIZE = 32\n",
        "\n",
        "# Buffer size to shuffle the dataset\n",
        "BUFFER_SIZE = 10000\n",
        "\n",
        "# split to 70 30 \n",
        "input_tensor_train, input_tensor_rem, target_tensor_train, target_tensor_rem = train_test_split(input_tensor, target_tensor, test_size=0.3, shuffle=True)\n",
        "\n",
        "train_dataset = tf.data.Dataset.from_tensor_slices((input_tensor_train, target_tensor_train))\n",
        "train_dataset = train_dataset.shuffle(BUFFER_SIZE).batch(BATCH_SIZE, drop_remainder=True)\n",
        "\n",
        "# split to 50 50\n",
        "input_tensor_val, input_tensor_test, target_tensor_val, target_tensor_test = train_test_split(input_tensor_rem, target_tensor_rem, test_size=0.5)\n",
        "\n",
        "val_dataset = tf.data.Dataset.from_tensor_slices((input_tensor_val, target_tensor_val))\n",
        "val_dataset = val_dataset.shuffle(BUFFER_SIZE).batch(BATCH_SIZE, drop_remainder=True)\n",
        "\n",
        "test_dataset = tf.data.Dataset.from_tensor_slices((input_tensor_test, target_tensor_test))\n",
        "test_dataset = test_dataset.batch(BATCH_SIZE, drop_remainder=True)"
      ]
    },
    {
      "cell_type": "code",
      "execution_count": 124,
      "metadata": {
        "id": "nOmbRJLgJ4H3"
      },
      "outputs": [],
      "source": [
        "# For performance\n",
        "AUTOTUNE = tf.data.AUTOTUNE\n",
        "\n",
        "train_dataset = train_dataset.cache().prefetch(buffer_size=AUTOTUNE)\n",
        "val_dataset = val_dataset.cache().prefetch(buffer_size=AUTOTUNE)\n",
        "test_dataset = test_dataset.cache().prefetch(buffer_size=AUTOTUNE)"
      ]
    },
    {
      "cell_type": "code",
      "execution_count": 125,
      "metadata": {
        "colab": {
          "base_uri": "https://localhost:8080/"
        },
        "id": "QEMagILWzGUH",
        "outputId": "cf007728-276e-49fe-ec2f-f590b33234ed"
      },
      "outputs": [
        {
          "output_type": "execute_result",
          "data": {
            "text/plain": [
              "(TensorShape([32, 49]), TensorShape([32, 49]))"
            ]
          },
          "metadata": {},
          "execution_count": 125
        }
      ],
      "source": [
        "example_input_batch, example_target_batch = next(iter(train_dataset))\n",
        "example_input_batch.shape, example_target_batch.shape"
      ]
    },
    {
      "cell_type": "code",
      "execution_count": 126,
      "metadata": {
        "colab": {
          "base_uri": "https://localhost:8080/"
        },
        "id": "rmweDXaczJAR",
        "outputId": "b5d12ffe-d011-488a-fa61-ee75df73e4c6"
      },
      "outputs": [
        {
          "output_type": "stream",
          "name": "stdout",
          "text": [
            "Vocab size 96\n",
            "Max input length 49\n",
            "Max input length 49\n"
          ]
        }
      ],
      "source": [
        "vocab_size = len(tokenizer.word_index) + 1\n",
        "\n",
        "max_length_input = input_tensor.shape[1]\n",
        "max_length_output = target_tensor.shape[1]\n",
        "\n",
        "embedding_dim = vocab_size\n",
        "rnn_units = 2048\n",
        "\n",
        "print(f'Vocab size {vocab_size}')\n",
        "print(f\"Max input length {max_length_input}\")\n",
        "print(f\"Max input length {max_length_output}\")"
      ]
    },
    {
      "cell_type": "code",
      "source": [
        "input_tensor_train.shape"
      ],
      "metadata": {
        "colab": {
          "base_uri": "https://localhost:8080/"
        },
        "id": "m7uqZ90nI-KJ",
        "outputId": "3fd80536-dea9-4c29-e753-26782296ba3a"
      },
      "execution_count": 127,
      "outputs": [
        {
          "output_type": "execute_result",
          "data": {
            "text/plain": [
              "(12816031, 49)"
            ]
          },
          "metadata": {},
          "execution_count": 127
        }
      ]
    },
    {
      "cell_type": "markdown",
      "metadata": {
        "id": "vcMQyTxBA0-4"
      },
      "source": [
        "# Create Model"
      ]
    },
    {
      "cell_type": "code",
      "execution_count": 128,
      "metadata": {
        "id": "8N429W2l-7e4"
      },
      "outputs": [],
      "source": [
        "class MyModel(tf.keras.Model):\n",
        "  def __init__(self, vocab_size, embedding_dim, rnn_units):\n",
        "    super().__init__(self)\n",
        "    self.embedding = tf.keras.layers.Embedding(vocab_size, embedding_dim)\n",
        "    self.lstm = tf.keras.layers.LSTM(rnn_units,\n",
        "                                   return_sequences=True,\n",
        "                                   return_state=True)\n",
        "    self.dense = tf.keras.layers.Dense(vocab_size)\n",
        "\n",
        "  def call(self, inputs, states=None, return_state=False, training=False):\n",
        "    x = inputs\n",
        "    x = self.embedding(x, training=training)\n",
        "    if states is None:\n",
        "      states = self.lstm.get_initial_state(x)\n",
        "    x, states_h, states_c = self.lstm(x, initial_state=states, training=training)\n",
        "    x = self.dense(x, training=training)\n",
        "\n",
        "    if return_state:\n",
        "      return x, states_h, states_c\n",
        "    else:\n",
        "      return x"
      ]
    },
    {
      "cell_type": "code",
      "execution_count": 129,
      "metadata": {
        "id": "CEFdG0KVAuIx"
      },
      "outputs": [],
      "source": [
        "model = MyModel(\n",
        "    vocab_size=vocab_size,\n",
        "    embedding_dim=embedding_dim,\n",
        "    rnn_units=rnn_units)"
      ]
    },
    {
      "cell_type": "code",
      "execution_count": 130,
      "metadata": {
        "colab": {
          "base_uri": "https://localhost:8080/"
        },
        "id": "neS_NEv5A6t1",
        "outputId": "05592128-e94d-408a-9490-8f94c1a23b72"
      },
      "outputs": [
        {
          "output_type": "stream",
          "name": "stdout",
          "text": [
            "(32, 49, 96) # (batch_size, sequence_length, vocab_size)\n"
          ]
        }
      ],
      "source": [
        "# try model without training\n",
        "for input_example_batch, target_example_batch in train_dataset.take(1):\n",
        "    example_batch_predictions = model(input_example_batch)\n",
        "    print(example_batch_predictions.shape, \"# (batch_size, sequence_length, vocab_size)\")"
      ]
    },
    {
      "cell_type": "code",
      "execution_count": 131,
      "metadata": {
        "colab": {
          "base_uri": "https://localhost:8080/"
        },
        "id": "ntDNbbA3BB8g",
        "outputId": "2c857974-24f2-43c8-b8d5-4590c4bf295a"
      },
      "outputs": [
        {
          "output_type": "stream",
          "name": "stdout",
          "text": [
            "Model: \"my_model_10\"\n",
            "_________________________________________________________________\n",
            " Layer (type)                Output Shape              Param #   \n",
            "=================================================================\n",
            " embedding_10 (Embedding)    multiple                  9216      \n",
            "                                                                 \n",
            " lstm_3 (LSTM)               multiple                  17571840  \n",
            "                                                                 \n",
            " dense_9 (Dense)             multiple                  196704    \n",
            "                                                                 \n",
            "=================================================================\n",
            "Total params: 17,777,760\n",
            "Trainable params: 17,777,760\n",
            "Non-trainable params: 0\n",
            "_________________________________________________________________\n"
          ]
        }
      ],
      "source": [
        "model.summary()"
      ]
    },
    {
      "cell_type": "code",
      "source": [
        "input_example_batch"
      ],
      "metadata": {
        "colab": {
          "base_uri": "https://localhost:8080/"
        },
        "id": "DbTOW1cEU0D_",
        "outputId": "5a4f9a81-0ee4-479c-caf2-c7e3456f4a54"
      },
      "execution_count": 132,
      "outputs": [
        {
          "output_type": "execute_result",
          "data": {
            "text/plain": [
              "<tf.Tensor: shape=(32, 49), dtype=int32, numpy=\n",
              "array([[ 9,  1, 21, ...,  0,  0,  0],\n",
              "       [30,  1, 11, ...,  0,  0,  0],\n",
              "       [21,  7, 28, ...,  0,  0,  0],\n",
              "       ...,\n",
              "       [58, 39, 51, ...,  0,  0,  0],\n",
              "       [18, 12, 16, ...,  0,  0,  0],\n",
              "       [38, 56, 36, ...,  0,  0,  0]], dtype=int32)>"
            ]
          },
          "metadata": {},
          "execution_count": 132
        }
      ]
    },
    {
      "cell_type": "code",
      "source": [
        "tf.random.categorical(example_batch_predictions[0], num_samples=1)"
      ],
      "metadata": {
        "colab": {
          "base_uri": "https://localhost:8080/"
        },
        "id": "nd3nPZXjShD6",
        "outputId": "b4d7d032-8ee6-4e81-d6e4-face7ec47493"
      },
      "execution_count": 133,
      "outputs": [
        {
          "output_type": "execute_result",
          "data": {
            "text/plain": [
              "<tf.Tensor: shape=(49, 1), dtype=int64, numpy=\n",
              "array([[77],\n",
              "       [15],\n",
              "       [95],\n",
              "       [90],\n",
              "       [68],\n",
              "       [64],\n",
              "       [54],\n",
              "       [18],\n",
              "       [64],\n",
              "       [49],\n",
              "       [20],\n",
              "       [13],\n",
              "       [30],\n",
              "       [56],\n",
              "       [47],\n",
              "       [ 3],\n",
              "       [12],\n",
              "       [ 8],\n",
              "       [ 8],\n",
              "       [29],\n",
              "       [42],\n",
              "       [94],\n",
              "       [ 9],\n",
              "       [94],\n",
              "       [62],\n",
              "       [75],\n",
              "       [48],\n",
              "       [69],\n",
              "       [95],\n",
              "       [16],\n",
              "       [64],\n",
              "       [47],\n",
              "       [48],\n",
              "       [ 8],\n",
              "       [49],\n",
              "       [55],\n",
              "       [14],\n",
              "       [ 7],\n",
              "       [60],\n",
              "       [ 6],\n",
              "       [36],\n",
              "       [60],\n",
              "       [17],\n",
              "       [89],\n",
              "       [67],\n",
              "       [ 1],\n",
              "       [48],\n",
              "       [60],\n",
              "       [88]])>"
            ]
          },
          "metadata": {},
          "execution_count": 133
        }
      ]
    },
    {
      "cell_type": "code",
      "execution_count": 134,
      "metadata": {
        "id": "YlfoER9aBFSc"
      },
      "outputs": [],
      "source": [
        "sampled_indices = tf.random.categorical(example_batch_predictions[0], num_samples=1)\n",
        "sampled_indices = tf.squeeze(sampled_indices, axis=-1).numpy()"
      ]
    },
    {
      "cell_type": "code",
      "source": [
        "[tf.squeeze(tf.random.categorical(pred, num_samples=1), axis=-1).numpy() for pred in example_batch_predictions] "
      ],
      "metadata": {
        "colab": {
          "base_uri": "https://localhost:8080/"
        },
        "id": "bvTPQuR6UV0j",
        "outputId": "ad425fc3-d0df-4e0a-bc38-9b3a4752ed33"
      },
      "execution_count": 135,
      "outputs": [
        {
          "output_type": "execute_result",
          "data": {
            "text/plain": [
              "[array([69, 21, 52,  2, 64,  4,  5, 29,  6,  3, 93, 41, 56, 67, 22, 31,  4,\n",
              "        94, 33,  2, 87, 59, 86, 32,  6, 22, 21,  2, 82, 41, 14, 82, 63, 14,\n",
              "        18,  2, 69,  7, 92, 18,  5, 93,  6, 19, 36, 23, 38, 34, 88]),\n",
              " array([ 9, 66, 74, 48, 55, 71, 49, 21, 29, 95, 47, 74, 70, 14, 54, 34, 21,\n",
              "        67, 84, 64, 33, 30, 60, 46, 43, 87, 57, 61, 13, 52, 54, 28, 42, 10,\n",
              "        63, 40, 92, 14,  0, 56, 49,  0, 60, 70, 94, 55, 10, 21, 57]),\n",
              " array([74, 92, 43, 85,  3, 67, 86, 27, 11, 53, 86, 22, 17, 57, 78, 88, 61,\n",
              "        55, 73, 65, 78, 22, 78, 14, 94, 93, 79, 77, 13, 81, 94, 64, 11, 15,\n",
              "        34,  5, 26, 22, 39, 17, 51, 17, 74, 22, 53,  9, 71, 29, 36]),\n",
              " array([58, 18, 17, 29, 90, 53, 47,  9, 79,  3, 56, 81, 67, 15, 62, 30, 28,\n",
              "        56, 17, 86, 26, 58, 69, 92, 83, 14, 40, 15, 27, 51, 15, 44, 19, 80,\n",
              "        78, 43, 69, 60, 80, 78, 29,  9, 22, 53, 49, 33, 82, 57, 33]),\n",
              " array([83, 72,  0, 82, 36, 41, 44, 11, 85, 58, 29, 33, 84, 23, 49, 76, 78,\n",
              "        64, 14, 55, 82, 89, 30, 10, 26, 54, 30, 43, 48, 92, 50, 67, 10, 86,\n",
              "        32, 51, 88, 40, 27, 23, 51, 59, 10, 81, 92, 78, 74, 66, 13]),\n",
              " array([90, 27, 87, 10, 80, 26,  7, 19, 83, 72, 39, 32, 61, 77, 86,  6, 80,\n",
              "        30, 20, 42, 42, 15, 61, 11, 13,  2, 77, 59, 60, 91,  9, 67, 38, 89,\n",
              "        39, 41, 64, 95, 47, 44, 51, 93, 46, 94, 58, 74, 89, 23, 88]),\n",
              " array([14, 56,  6, 80,  3, 34, 82, 65, 18, 80, 46, 51, 81, 87, 12, 65, 45,\n",
              "        82,  0, 79, 12, 20, 61, 21, 69,  9,  1, 68, 65, 86,  5, 32, 50, 53,\n",
              "        66, 28, 88, 69, 64, 21, 27, 90, 35, 39, 69, 75,  0, 72, 89]),\n",
              " array([31, 61, 58, 54, 48, 42, 28, 74, 47,  0, 43, 78,  8,  9,  5, 15, 49,\n",
              "        85, 44, 40,  3, 92, 76, 17, 58, 34, 89, 14, 43, 64, 50, 17, 59, 11,\n",
              "        83, 10, 53, 34, 66, 85, 90, 36, 44, 48, 89,  3, 51, 31, 59]),\n",
              " array([65, 38, 64, 74, 78,  0, 50, 35, 23, 11, 35,  3, 90, 33, 83, 88, 13,\n",
              "        50, 72, 89, 72, 54, 35, 41, 12, 18, 29, 72, 27, 91, 55, 65, 48, 28,\n",
              "        45,  8, 68, 21, 58, 73, 92, 51, 61, 68, 57, 35, 55, 23, 41]),\n",
              " array([86, 90, 94, 91, 86, 45, 50, 82, 76,  9, 85,  0, 78, 64, 30, 52, 12,\n",
              "        82, 82, 66, 77, 54, 71, 60, 27, 91, 59,  7, 83, 36,  4, 35, 85,  0,\n",
              "        66, 78, 61, 88, 19, 49, 21, 13, 13, 24, 50,  8, 18, 23, 33]),\n",
              " array([ 3, 87, 61, 94, 63, 52, 87, 36, 13, 13, 23, 68, 29, 35,  0, 86, 50,\n",
              "         8, 33, 10, 38, 63, 27, 38, 87, 55, 53,  6, 38, 74, 94, 13, 89, 28,\n",
              "        32, 79,  8, 13, 18,  2, 85, 14, 95, 50, 38, 60, 76, 10, 25]),\n",
              " array([54, 36, 36, 81, 36, 74, 38, 42, 76, 20,  3, 27, 48,  5, 15, 66, 50,\n",
              "        31, 59, 61, 50, 29, 49, 33, 90, 10,  8,  9, 74, 43, 73, 16, 64, 37,\n",
              "        78, 20, 93, 40, 56, 84, 35, 86, 44, 79, 30, 33, 23, 80, 28]),\n",
              " array([11, 95, 44, 90, 81, 81, 33, 68, 24, 57, 12, 89, 25, 43,  8, 45, 61,\n",
              "        60, 47, 20, 41, 51, 57, 88, 68, 65, 44,  5,  0, 58, 66, 30, 83, 89,\n",
              "        37, 60, 81, 57, 49, 84, 68, 30, 43, 58, 50, 63, 21, 60, 72]),\n",
              " array([46, 80, 67, 17, 28, 86, 60, 43, 80, 81, 12, 85, 71, 94, 91, 95, 53,\n",
              "        17, 53, 95, 32,  5, 79, 83, 40, 55,  7,  0, 75, 13, 87, 34, 91, 16,\n",
              "        83, 15, 35, 23, 20, 31,  3, 35, 79, 10, 61, 32, 24, 45,  5]),\n",
              " array([59, 82, 60, 93, 78, 20, 25, 76, 10, 10,  8,  1, 36, 92, 54, 24, 49,\n",
              "        12, 19, 43, 93,  7, 57, 31, 68, 45, 12, 32, 26, 10,  8, 88, 66, 81,\n",
              "        94, 20, 35, 29, 91, 28, 39, 30, 15, 57, 54, 24, 15, 65, 17]),\n",
              " array([65, 17,  5, 72, 81, 37, 75, 14, 57, 40, 43, 66, 84, 69, 21, 51, 81,\n",
              "        45, 54, 54, 41, 56, 65, 70, 87, 33, 64, 13, 15, 21, 35, 65, 12, 60,\n",
              "        16, 52, 58, 70, 79, 36,  4, 87, 71, 61, 55, 87, 21,  8, 54]),\n",
              " array([63, 73, 90, 19,  0, 91, 11, 14, 51, 65, 62, 13, 93, 41, 67,  8, 20,\n",
              "        69, 66, 42, 31, 55, 13, 13,  4, 46, 21, 39, 57,  6, 50, 69, 42, 82,\n",
              "        36, 39, 20, 53, 20, 56, 20, 32, 46, 11, 28, 18, 28, 67, 51]),\n",
              " array([24, 11, 32, 77, 52,  5, 47, 37, 43, 21, 64, 37, 73, 22, 15, 43,  0,\n",
              "         4, 89, 53, 53, 42,  8,  6, 95,  6, 16, 86, 36, 16, 48,  6,  9, 23,\n",
              "        84, 33, 44, 12,  4, 21,  7, 36, 48, 95, 32,  3, 72, 23, 32]),\n",
              " array([16, 43, 90, 52, 93, 42, 42, 45, 72,  1, 30, 39, 52, 33, 93, 87, 14,\n",
              "        75, 14, 58, 21, 88, 25, 81,  3, 44, 22, 31,  1, 70, 37, 85, 66, 55,\n",
              "        58, 72, 65, 40, 85, 54, 73, 23, 93, 35, 47, 44, 73, 30, 70]),\n",
              " array([90, 94, 78, 24, 28, 50, 16, 21, 46, 57, 55, 41, 91, 56,  2, 10, 20,\n",
              "        41, 34, 87, 67, 47, 62, 43, 47, 27, 25, 71, 73, 42, 36, 38, 50, 36,\n",
              "        83, 50, 50, 63, 92, 22, 71, 22, 75, 75, 20, 91, 69, 65, 85]),\n",
              " array([10, 81,  8, 77,  7, 17, 66, 90, 18, 62, 28,  0, 17, 56, 65, 50, 74,\n",
              "        16,  5, 49, 66,  4, 15, 25, 56, 54, 55, 28, 23, 35, 81, 25, 23, 28,\n",
              "        13, 42, 77, 13, 77, 85, 23, 62, 54, 69,  7, 92,  0, 83, 14]),\n",
              " array([62, 77, 89, 18, 69, 14, 14, 85, 64, 28, 43, 23, 57, 57, 22, 86, 51,\n",
              "        40, 79, 31, 44,  7, 55, 17, 20, 13,  5, 65, 64, 33, 91, 89, 46, 52,\n",
              "         6, 20,  4, 71, 78, 11, 46, 21, 38, 52, 57, 44, 91,  0, 37]),\n",
              " array([ 6, 56, 61, 29, 57, 58, 14, 86, 44, 56, 10, 22, 27, 69, 41, 73, 21,\n",
              "        11, 69, 30, 55, 75, 19, 77, 25, 17, 91,  9, 25, 10, 55, 53, 30, 34,\n",
              "        38, 95, 31, 82, 28, 10, 38, 61, 74, 49, 84, 23, 37, 50, 49]),\n",
              " array([86, 56, 65, 10,  6, 89, 91, 23, 62, 17, 27, 29, 52, 95, 32, 68, 10,\n",
              "        29,  0, 45, 47, 55, 84, 13, 61, 85, 49, 18, 72, 35, 44, 74, 10, 26,\n",
              "        65,  3, 80, 58, 72,  7, 66, 57, 11, 18,  7, 21, 33, 27, 46]),\n",
              " array([17, 72,  3, 64, 19, 48, 12, 36, 25, 16,  0, 62, 22, 60,  1, 65, 58,\n",
              "        63, 63,  0, 62, 30, 18, 64, 54, 87, 56, 75, 19, 87, 60,  1, 49, 50,\n",
              "        19, 79, 84, 68, 36, 40,  6,  6, 31, 23, 93, 75, 66, 35,  3]),\n",
              " array([56, 59, 81, 18, 51, 34, 15, 35, 20, 21, 42, 59, 69, 58, 15, 73, 29,\n",
              "        93, 92,  6,  8, 64, 28, 79, 79, 89,  2,  6,  3, 81, 45, 66, 93, 14,\n",
              "         5, 14, 38, 19,  8, 38, 54, 41, 93, 40, 27, 35, 53,  5,  9]),\n",
              " array([39, 34,  2, 76, 76, 11, 63, 46, 50, 65, 61,  0, 90,  2, 84, 28, 15,\n",
              "        48, 53,  1, 70, 79,  1, 91, 74, 60, 35, 53, 55, 72, 87, 70, 27, 90,\n",
              "        53, 55, 43, 25, 79, 51, 67, 42, 43, 13, 46, 27, 71, 84, 75]),\n",
              " array([52, 27, 73, 57, 82, 27, 39,  3, 61, 73, 22, 29, 43, 73, 95, 42, 55,\n",
              "        80, 69, 87, 82, 59, 19, 80, 70, 71, 16, 14, 88, 34, 56, 14, 41, 61,\n",
              "        59, 78, 17, 66, 71, 89, 49, 64, 79,  2, 66, 45, 79, 23, 41]),\n",
              " array([ 8, 18, 24, 37, 70, 88, 85, 57, 44, 55, 63, 43, 87, 53, 81, 51, 82,\n",
              "        61, 86, 19, 30, 94, 38, 74, 71, 88, 32, 11, 10, 55, 35, 16, 15, 53,\n",
              "        78, 34,  4, 33, 38, 11, 95, 85, 93, 68, 40, 30, 58, 75, 24]),\n",
              " array([87, 19, 37,  0, 95, 62, 70, 13, 47,  0, 40,  1,  2, 47, 40, 65, 64,\n",
              "        37, 51, 13, 38, 10, 45, 58, 85, 28, 55, 74, 19, 39, 39, 10, 23, 65,\n",
              "        44,  4, 15,  6, 22, 81, 42, 32, 81, 33, 71, 18, 95, 80, 53]),\n",
              " array([32, 22,  0, 30, 18, 35, 83, 50, 57,  0, 89, 39, 71, 30, 67, 39, 72,\n",
              "        42, 76, 64, 24, 89, 17,  2, 54, 90, 39, 74, 61, 49, 70, 81, 21,  1,\n",
              "        74, 81, 37, 39, 46, 34, 57, 86, 71, 57, 41, 50, 76, 95,  1]),\n",
              " array([68, 25, 88, 38, 54, 62,  4, 23, 34, 90, 82, 18, 24, 51, 44, 50, 19,\n",
              "        36, 59, 21, 39, 13,  6, 62, 87, 36,  4,  7,  1, 24, 29, 12, 11, 57,\n",
              "        10, 61,  9,  2, 62, 27, 13,  0, 21, 72, 12, 34, 15, 57, 90])]"
            ]
          },
          "metadata": {},
          "execution_count": 135
        }
      ]
    },
    {
      "cell_type": "code",
      "source": [
        "tokenizer.sequences_to_texts([tf.squeeze(tf.random.categorical(pred, num_samples=1), axis=-1).numpy() for pred in example_batch_predictions] )"
      ],
      "metadata": {
        "colab": {
          "base_uri": "https://localhost:8080/"
        },
        "id": "BmWRrYq7VKjn",
        "outputId": "8ae04de4-9270-43cf-edf0-f6a8ab789810"
      },
      "execution_count": 136,
      "outputs": [
        {
          "output_type": "execute_result",
          "data": {
            "text/plain": [
              "['2 h 6 A ) x o \" # j N 9 0 9 \" \" 9 j J : { P @ * f c s 8 { k 9 - x H 1 \" m w S # ; F 6 ? X S ` f',\n",
              " '] 0 n F 9 p * \" @ u , I ,   J j b ( | ` F 3 q $ K J = Y O ) ~ 0   M F . > 5 0 0 B f U g t }   h y',\n",
              " \"5 N B % 7 n u X 8 \\\\ t \\\\ k b ^ Y U Z H 6 3 G / L G w = . X ' Q C q m e Y w ? p Q p r O P Q ~ z\",\n",
              " \"B M # t 3 G ) Y 7 G [ $ x 2 r   } ' P R P > . x c 8 Y $ h + * g y S A a e ? M e 9 e e B _ - o\",\n",
              " '5   N s 5 l U \\\\ V \\\\ M + 3 m T b S L 2 V 1 C B E 4 z 5 1 J ; 4 J ! R m H 2 h R i g G n m f K Y 6 Y',\n",
              " '( @ # R ) 6 J ( h R a R ( d   t & 1 , A ` p r 4 r c z % S f F v \\\\ f q c _ j v K W R K - F 1 ] 1 _',\n",
              " 'G Y x v } q L < 1 U M a L I o ) f M ? L 5 7 / B g ^ V a R Z ; - _ 4 T < O P f   R c 3 7 E p e V',\n",
              " '1 L ^ ` d / ) { ) l a I e ` | [ l 8 ` Z o d b l = > P Q | _ w n v ^ = F N H B & < R W ; $ U B 5 0',\n",
              " 'a , ; e   2 ~ U > \" ] { k = x 6 V W R ? ?   C O 6 ? t * = , 6 R : l i j w e \\' { K z p q T A [ % a',\n",
              " '9 0 | S M $ j ~ : = W 2 $ e L d Y G : x C | u - p - ( * r \\\\ Y ; K c V L o f s . i \" = g A D d # [',\n",
              " 'O k 8 C x f M c C 6 K _ ; T m W m f Q 9 E R \\\\ D * T 9 % : 4 8 { M U R + m 9 y | a _ 7 : [ Q V Q .',\n",
              " 'v | Z J C & X $ ] [ / I N g u h X r s u \" m O * ` 2 6 , J > x 6 w 2 G $ / K 9 M 6 { n ) a S P Y',\n",
              " \". _ / 7 k 6 U k x y k + 7 5 3 @ j < V ; , B M z e # C / W d B ) w k ' \\\\ } & C   ( o k Z I < B n\",\n",
              " 'q 1 + a 7 ; O R 0 # y * / : v Z S 4 l b 4 0 8 _ ( 5 p ? x \" r = W - 9 $ = d W M { B Z f 2 I D : t',\n",
              " '. A X b = 3   I ^ x y J > / | ~ L + T L [ * W \\\\ M R } W 1 . t 2 8 n E 2 @ t 2 I X 6 U Y Z i = a',\n",
              " \"h / @ _ L : 5 d E x 6 k < y W ' Z 8 8 < t f a d $ : # P ~ q Y ] u u   , K ' V n L S c ) M T ) : z\",\n",
              " 'b 5 C >   1 u u g M   t ~ 8 ; M + ) p U G t + > & u 8 j : c * \" ` I z R Q F 5 ` g z F ^ - E K [',\n",
              " 'J y o B S N Q \" f | _ T E S l 3 ; ) \\\\ 5 Y [ J s z , ; D z 1 s Y . z y / y - n * x U U ~ , A A j g',\n",
              " '. a b _ 4   G l { S V S f @ R Q A 8 @ E u _ G . Y P ( b 8 H y c 2 m < * 9 , ~ 0 a ` z e ] g ! [ k',\n",
              " 'y ^ s j I N T A 6 Y X 6 ? ) d U K S c { h X T ] X h g / ! R s z G N 9 - 0 F ^ } G e G q Q Q |',\n",
              " 'q - v \\' d d H h t F e > K D b ` M 6 e ( 0 ! v ^ H 5 ; b 3 s \\\\ a I . w F ] p g T : u P l < t \"',\n",
              " '  6 { s ~ } = E } l T t V u i 3 p - E z + A : L 3 ) , ! F y m P v s q \\\\ ` # # v % r G I 1 j W 2 C',\n",
              " '> Y ^ X a 6 b e N } * 9 W l 7 e \" @ 0 5 ) L 2 D m ` W [ m = ~ + 2 C h 2 Y G `   = ; | \\\\ x 7 i p K',\n",
              " \"0 ~ j | ' 0 Y q Y : C ) r 6 4 5 A > e b 1 & b @ ] ` i ; p w K F Q 4 4 b a y Y ' W R $ } u O B U l\",\n",
              " 'S } r H 4 m J 8 1 e ` K j c | : b v A E q P 6 , [ v f u . ` \" 2 y d p K 7 = * , 4 K W * I 0 B ^ s',\n",
              " 'R Z G L C 7 z H } ] 6 Q k @ ) o N ( ^ N ) s & Z n + Z u i ; > [ @ U Y N 5 I d a V ! ~ U - 9 2 J k',\n",
              " 'M y t !   9 : 8 k K ! $ t r # ` 1 S E 7 y ! Y : x U p L 9 + D - { l ; ] D D [ u \" \\' Z : K Q \" N',\n",
              " 'e ) L 2   - % U R L y K ; % P x R E u J V ] N ! P 8 @ 7 + { 1 > r - y K . V - | + 0 m 3 ` =',\n",
              " \"A x i : 2 @ v o _ I s J x K ! 2 h c P X t , % ] b W ' y 1 P $ G Q 3 Y d F L o ? 5 - ~ f v K v ~\",\n",
              " '[ ! \\\\ a K i i - ; & U ( F R k ) & $ ~ ( 4 v p w V ~ e Q I t d E 0 1 > = F M a o r } 0 x C } e 9',\n",
              " '< ~ ~ S ; Q E { E b n q e l M ` S c m r i # r s T 8 d B 4 Z D v = 4 7 L z ; ^ g % 8 K V U D 6 \\\\',\n",
              " 'h \\\\ V \\\\ F . G ` 2 b 9 o 8 J % I 5 c X j j 4 j Q p 2 u z < > | . z * e 5 i m [ A | / Q u 5 @ - !']"
            ]
          },
          "metadata": {},
          "execution_count": 136
        }
      ]
    },
    {
      "cell_type": "code",
      "execution_count": 137,
      "metadata": {
        "colab": {
          "base_uri": "https://localhost:8080/"
        },
        "id": "FjdXFZeEBMBE",
        "outputId": "8f0b6e7a-a0b0-4f89-a3b4-6bcffb6b7b25"
      },
      "outputs": [
        {
          "output_type": "execute_result",
          "data": {
            "text/plain": [
              "array([ 9, 86, 50, 82, 45, 34,  8, 24, 47, 43, 39, 46, 38, 27, 80, 49, 14,\n",
              "       78, 58, 90, 32, 47,  8, 56, 81, 34, 94, 70, 76,  5, 85, 25, 80, 23,\n",
              "       57, 83, 70,  3, 72, 42,  3, 90, 73, 18, 54, 13, 31, 63, 65])"
            ]
          },
          "metadata": {},
          "execution_count": 137
        }
      ],
      "source": [
        "sampled_indices"
      ]
    },
    {
      "cell_type": "code",
      "execution_count": 138,
      "metadata": {
        "colab": {
          "base_uri": "https://localhost:8080/"
        },
        "id": "XnG1mnYvB0qr",
        "outputId": "19c16389-c48a-4228-b51d-472acdb61dbd"
      },
      "outputs": [
        {
          "output_type": "execute_result",
          "data": {
            "text/plain": [
              "array([ 9,  1, 21, 25, 13, 14,  6,  0,  0,  0,  0,  0,  0,  0,  0,  0,  0,\n",
              "        0,  0,  0,  0,  0,  0,  0,  0,  0,  0,  0,  0,  0,  0,  0,  0,  0,\n",
              "        0,  0,  0,  0,  0,  0,  0,  0,  0,  0,  0,  0,  0,  0,  0],\n",
              "      dtype=int32)"
            ]
          },
          "metadata": {},
          "execution_count": 138
        }
      ],
      "source": [
        "input_example_batch[0].numpy()"
      ]
    },
    {
      "cell_type": "code",
      "execution_count": 139,
      "metadata": {
        "colab": {
          "base_uri": "https://localhost:8080/"
        },
        "id": "7codmZvjBN7w",
        "outputId": "bd69e339-6042-4f89-b9d5-146b308f8412"
      },
      "outputs": [
        {
          "output_type": "stream",
          "name": "stdout",
          "text": [
            "Input: ['racy382']\n",
            "next char prediction : [\"r~.%TznhDNOCIk(B8)J`vDnP'z}Q\\\\i<y(u_;Q1$L1`,6U3f*W\"]\n"
          ]
        }
      ],
      "source": [
        "print(f\"Input: {[''.join(i.split()) for i in tokenizer.sequences_to_texts([input_example_batch[0].numpy()]) ]}\")\n",
        "print(f\"next char prediction : {[''.join(i.split()) for i in tokenizer.sequences_to_texts([sampled_indices]) ]}\")"
      ]
    },
    {
      "cell_type": "markdown",
      "metadata": {
        "id": "aBALEftdC0bn"
      },
      "source": [
        "# Train Model"
      ]
    },
    {
      "cell_type": "code",
      "execution_count": 140,
      "metadata": {
        "id": "LbTRPLyqBTjk"
      },
      "outputs": [],
      "source": [
        "loss = tf.losses.SparseCategoricalCrossentropy(from_logits=True)"
      ]
    },
    {
      "cell_type": "code",
      "execution_count": 141,
      "metadata": {
        "colab": {
          "base_uri": "https://localhost:8080/"
        },
        "id": "da_L1HVxC9Lj",
        "outputId": "78687832-d5fc-44df-9483-ca06206000bf"
      },
      "outputs": [
        {
          "output_type": "stream",
          "name": "stdout",
          "text": [
            "Prediction shape:  (32, 49, 96)  # (batch_size, sequence_length, vocab_size)\n",
            "Mean loss:         tf.Tensor(4.5725007, shape=(), dtype=float32)\n"
          ]
        }
      ],
      "source": [
        "example_batch_mean_loss = loss(target_example_batch, example_batch_predictions)\n",
        "print(\"Prediction shape: \", example_batch_predictions.shape, \" # (batch_size, sequence_length, vocab_size)\")\n",
        "print(\"Mean loss:        \", example_batch_mean_loss)"
      ]
    },
    {
      "cell_type": "code",
      "execution_count": 142,
      "metadata": {
        "colab": {
          "base_uri": "https://localhost:8080/"
        },
        "id": "gFbMFwEmDA9D",
        "outputId": "ac5837b5-8c60-4373-a8cc-55d923a38262"
      },
      "outputs": [
        {
          "output_type": "execute_result",
          "data": {
            "text/plain": [
              "96.785835"
            ]
          },
          "metadata": {},
          "execution_count": 142
        }
      ],
      "source": [
        "tf.exp(example_batch_mean_loss).numpy()"
      ]
    },
    {
      "cell_type": "code",
      "source": [
        "input_example_batch.numpy()"
      ],
      "metadata": {
        "colab": {
          "base_uri": "https://localhost:8080/"
        },
        "id": "_KS8fgGLRLcn",
        "outputId": "9b783dae-769b-4a78-c381-3e5cf31d7aba"
      },
      "execution_count": 143,
      "outputs": [
        {
          "output_type": "execute_result",
          "data": {
            "text/plain": [
              "array([[ 9,  1, 21, ...,  0,  0,  0],\n",
              "       [30,  1, 11, ...,  0,  0,  0],\n",
              "       [21,  7, 28, ...,  0,  0,  0],\n",
              "       ...,\n",
              "       [58, 39, 51, ...,  0,  0,  0],\n",
              "       [18, 12, 16, ...,  0,  0,  0],\n",
              "       [38, 56, 36, ...,  0,  0,  0]], dtype=int32)"
            ]
          },
          "metadata": {},
          "execution_count": 143
        }
      ]
    },
    {
      "cell_type": "code",
      "source": [
        "tokenizer.sequences_to_texts(input_example_batch.numpy())"
      ],
      "metadata": {
        "colab": {
          "base_uri": "https://localhost:8080/"
        },
        "id": "CMMPSVNyRFSZ",
        "outputId": "519386ba-f073-49ba-dab4-0ba849396dda"
      },
      "execution_count": 144,
      "outputs": [
        {
          "output_type": "execute_result",
          "data": {
            "text/plain": [
              "['r a c y 3 8 2',\n",
              " 'j a s o n z 2',\n",
              " 'c o g l i o s t r o 2 1 1 8 0',\n",
              " 'y e q r a h i',\n",
              " 't g u n i t 8',\n",
              " 'g r e g c',\n",
              " '8 2 1 9 3 c',\n",
              " 's o p 1 m a c',\n",
              " 'b o e s s',\n",
              " 'j p n p x x k',\n",
              " '4 7 5 1 0 2 5',\n",
              " 'g o b o t 2 0 0',\n",
              " '0 9 2 7 0 7 4 0 5',\n",
              " 'K D E I N N',\n",
              " '0 8 5 8 2 6 3 5 8',\n",
              " '# 1 p i n k g i r',\n",
              " 'S t d 0 0 1 8 1 2',\n",
              " '4 9 4 3 4 1 0 1',\n",
              " 'l i s s e t h 2',\n",
              " '1 1 0 5 6 9 A',\n",
              " 'l e k k',\n",
              " 'm a k n a b a',\n",
              " 'k y s e r',\n",
              " '1 9 6 9 h i j',\n",
              " '8 9 0 8 2 0 0 1 5 3 0',\n",
              " 'K Y L A H 3 9 2',\n",
              " '8 1 7 6 1 2',\n",
              " 'b b o o n n u u s',\n",
              " 'c h v 1 2 3',\n",
              " 'J O H A N N',\n",
              " '6 9 4 6 6 9',\n",
              " 'I P E F I']"
            ]
          },
          "metadata": {},
          "execution_count": 144
        }
      ]
    },
    {
      "cell_type": "code",
      "source": [
        "[p.split() for p in tokenizer.sequences_to_texts(input_example_batch.numpy())]"
      ],
      "metadata": {
        "colab": {
          "base_uri": "https://localhost:8080/"
        },
        "id": "Qw_wqSU7z0io",
        "outputId": "610b56a0-a4ab-46a9-ca72-cf2d68d3c6a8"
      },
      "execution_count": 145,
      "outputs": [
        {
          "output_type": "execute_result",
          "data": {
            "text/plain": [
              "[['r', 'a', 'c', 'y', '3', '8', '2'],\n",
              " ['j', 'a', 's', 'o', 'n', 'z', '2'],\n",
              " ['c', 'o', 'g', 'l', 'i', 'o', 's', 't', 'r', 'o', '2', '1', '1', '8', '0'],\n",
              " ['y', 'e', 'q', 'r', 'a', 'h', 'i'],\n",
              " ['t', 'g', 'u', 'n', 'i', 't', '8'],\n",
              " ['g', 'r', 'e', 'g', 'c'],\n",
              " ['8', '2', '1', '9', '3', 'c'],\n",
              " ['s', 'o', 'p', '1', 'm', 'a', 'c'],\n",
              " ['b', 'o', 'e', 's', 's'],\n",
              " ['j', 'p', 'n', 'p', 'x', 'x', 'k'],\n",
              " ['4', '7', '5', '1', '0', '2', '5'],\n",
              " ['g', 'o', 'b', 'o', 't', '2', '0', '0'],\n",
              " ['0', '9', '2', '7', '0', '7', '4', '0', '5'],\n",
              " ['K', 'D', 'E', 'I', 'N', 'N'],\n",
              " ['0', '8', '5', '8', '2', '6', '3', '5', '8'],\n",
              " ['#', '1', 'p', 'i', 'n', 'k', 'g', 'i', 'r'],\n",
              " ['S', 't', 'd', '0', '0', '1', '8', '1', '2'],\n",
              " ['4', '9', '4', '3', '4', '1', '0', '1'],\n",
              " ['l', 'i', 's', 's', 'e', 't', 'h', '2'],\n",
              " ['1', '1', '0', '5', '6', '9', 'A'],\n",
              " ['l', 'e', 'k', 'k'],\n",
              " ['m', 'a', 'k', 'n', 'a', 'b', 'a'],\n",
              " ['k', 'y', 's', 'e', 'r'],\n",
              " ['1', '9', '6', '9', 'h', 'i', 'j'],\n",
              " ['8', '9', '0', '8', '2', '0', '0', '1', '5', '3', '0'],\n",
              " ['K', 'Y', 'L', 'A', 'H', '3', '9', '2'],\n",
              " ['8', '1', '7', '6', '1', '2'],\n",
              " ['b', 'b', 'o', 'o', 'n', 'n', 'u', 'u', 's'],\n",
              " ['c', 'h', 'v', '1', '2', '3'],\n",
              " ['J', 'O', 'H', 'A', 'N', 'N'],\n",
              " ['6', '9', '4', '6', '6', '9'],\n",
              " ['I', 'P', 'E', 'F', 'I']]"
            ]
          },
          "metadata": {},
          "execution_count": 145
        }
      ]
    },
    {
      "cell_type": "code",
      "source": [
        "def bleu_score(y_true, y_pred):\n",
        "  true_seq = tokenizer.sequences_to_texts(y_true.numpy())\n",
        "  reference = [p.split() if p.split() else [' '] for p in true_seq]\n",
        "  preds = [tf.squeeze(tf.random.categorical(pred, num_samples=1), axis=-1).numpy() for pred in y_pred]\n",
        "  hypothesis = [p.split() if p.split() else [' '] for p in tokenizer.sequences_to_texts(preds)]\n",
        "  return corpus_bleu(reference, hypothesis)"
      ],
      "metadata": {
        "id": "rrAPoMBNMSLt"
      },
      "execution_count": 146,
      "outputs": []
    },
    {
      "cell_type": "code",
      "source": [
        "bleu_score(input_example_batch, example_batch_predictions)"
      ],
      "metadata": {
        "colab": {
          "base_uri": "https://localhost:8080/"
        },
        "id": "RqLk3Mf7N_I_",
        "outputId": "bf8aba62-4124-4453-9174-745d329ce198"
      },
      "execution_count": 147,
      "outputs": [
        {
          "output_type": "stream",
          "name": "stderr",
          "text": [
            "/usr/local/lib/python3.7/dist-packages/nltk/translate/bleu_score.py:490: UserWarning: \n",
            "Corpus/Sentence contains 0 counts of 2-gram overlaps.\n",
            "BLEU scores might be undesirable; use SmoothingFunction().\n",
            "  warnings.warn(_msg)\n"
          ]
        },
        {
          "output_type": "execute_result",
          "data": {
            "text/plain": [
              "0.47552642083612184"
            ]
          },
          "metadata": {},
          "execution_count": 147
        }
      ]
    },
    {
      "cell_type": "code",
      "source": [
        "# optimizer = tf.keras.optimizers.RMSprop(learning_rate=0.006)"
      ],
      "metadata": {
        "id": "Sws6TEcADaxr"
      },
      "execution_count": 148,
      "outputs": []
    },
    {
      "cell_type": "code",
      "execution_count": 149,
      "metadata": {
        "id": "96AjYUtXDE_z"
      },
      "outputs": [],
      "source": [
        "# GPU\n",
        "model.compile(optimizer='adam', loss=loss, metrics=['accuracy'])"
      ]
    },
    {
      "cell_type": "markdown",
      "metadata": {
        "id": "ONpAEo_pDJCI"
      },
      "source": [
        "# Configure Checkpoints"
      ]
    },
    {
      "cell_type": "code",
      "execution_count": 150,
      "metadata": {
        "id": "OeFYT7f0DHLB"
      },
      "outputs": [],
      "source": [
        "# Directory where the checkpoints will be saved\n",
        "checkpoint_dir = './training_checkpoints_lstm'\n",
        "# Name of the checkpoint files\n",
        "checkpoint_prefix = os.path.join(checkpoint_dir, \"ckpt_{epoch}\")\n",
        "\n",
        "earlystopping_cb = tf.keras.callbacks.EarlyStopping(\n",
        "    monitor = 'val_accuracy',\n",
        "    mode = 'max',\n",
        "    verbose = 1,\n",
        "    patience = 3,\n",
        "    restore_best_weights = True\n",
        ")\n",
        "\n",
        "checkpoint_callback = tf.keras.callbacks.ModelCheckpoint(\n",
        "    filepath=checkpoint_prefix,\n",
        "    monitor = 'val_accuracy',\n",
        "    mode = 'max',\n",
        "    save_best_only=True,\n",
        "    save_weights_only=True, \n",
        "    verbose = 1)"
      ]
    },
    {
      "cell_type": "code",
      "execution_count": 151,
      "metadata": {
        "colab": {
          "base_uri": "https://localhost:8080/"
        },
        "id": "G7bzPMbMDO6i",
        "outputId": "6e1a52d6-7955-4a89-bc85-45a2d7805816"
      },
      "outputs": [
        {
          "output_type": "stream",
          "name": "stdout",
          "text": [
            "Epoch 1/20\n",
            "400498/400500 [============================>.] - ETA: 0s - loss: 0.4009 - accuracy: 0.8860\n",
            "Epoch 1: val_accuracy improved from -inf to 0.88523, saving model to ./training_checkpoints_lstm/ckpt_1\n",
            "400500/400500 [==============================] - 9626s 24ms/step - loss: 0.4009 - accuracy: 0.8860 - val_loss: 0.3939 - val_accuracy: 0.8852\n",
            "Epoch 2/20\n",
            "400500/400500 [==============================] - ETA: 0s - loss: 0.3923 - accuracy: 0.8884\n",
            "Epoch 2: val_accuracy improved from 0.88523 to 0.88582, saving model to ./training_checkpoints_lstm/ckpt_2\n",
            "400500/400500 [==============================] - 9532s 24ms/step - loss: 0.3923 - accuracy: 0.8884 - val_loss: 0.3920 - val_accuracy: 0.8858\n",
            "Epoch 3/20\n",
            "400500/400500 [==============================] - ETA: 0s - loss: 0.3895 - accuracy: 0.8892\n",
            "Epoch 3: val_accuracy improved from 0.88582 to 0.88616, saving model to ./training_checkpoints_lstm/ckpt_3\n",
            "400500/400500 [==============================] - 9550s 24ms/step - loss: 0.3895 - accuracy: 0.8892 - val_loss: 0.3909 - val_accuracy: 0.8862\n",
            "Epoch 4/20\n",
            "400498/400500 [============================>.] - ETA: 0s - loss: 0.3886 - accuracy: 0.8895\n",
            "Epoch 4: val_accuracy improved from 0.88616 to 0.88639, saving model to ./training_checkpoints_lstm/ckpt_4\n",
            "400500/400500 [==============================] - 9537s 24ms/step - loss: 0.3886 - accuracy: 0.8895 - val_loss: 0.3902 - val_accuracy: 0.8864\n",
            "Epoch 5/20\n",
            "400499/400500 [============================>.] - ETA: 0s - loss: 0.4274 - accuracy: 0.8827\n",
            "Epoch 5: val_accuracy did not improve from 0.88639\n",
            "400500/400500 [==============================] - 9526s 24ms/step - loss: 0.4274 - accuracy: 0.8827 - val_loss: 0.5243 - val_accuracy: 0.8652\n",
            "Epoch 6/20\n",
            "400500/400500 [==============================] - ETA: 0s - loss: 0.5010 - accuracy: 0.8673\n",
            "Epoch 6: val_accuracy did not improve from 0.88639\n",
            "400500/400500 [==============================] - 9557s 24ms/step - loss: 0.5010 - accuracy: 0.8673 - val_loss: 0.4934 - val_accuracy: 0.8651\n",
            "Epoch 7/20\n",
            "400498/400500 [============================>.] - ETA: 0s - loss: 0.4870 - accuracy: 0.8678\n",
            "Epoch 7: val_accuracy did not improve from 0.88639\n",
            "Restoring model weights from the end of the best epoch: 4.\n",
            "400500/400500 [==============================] - 9574s 24ms/step - loss: 0.4870 - accuracy: 0.8678 - val_loss: 0.4836 - val_accuracy: 0.8662\n",
            "Epoch 7: early stopping\n"
          ]
        }
      ],
      "source": [
        "EPOCHS = 20\n",
        "\n",
        "history = model.fit(train_dataset, \n",
        "                    validation_data=val_dataset,\n",
        "                    epochs=EPOCHS, \n",
        "                    callbacks=[checkpoint_callback, earlystopping_cb])"
      ]
    },
    {
      "cell_type": "code",
      "source": [
        "model.save('saved_model/password')"
      ],
      "metadata": {
        "id": "fDvYsm263fJg",
        "colab": {
          "base_uri": "https://localhost:8080/"
        },
        "outputId": "17c7ad5d-c26c-4272-d85e-7ff64e553daa"
      },
      "execution_count": 152,
      "outputs": [
        {
          "output_type": "stream",
          "name": "stderr",
          "text": [
            "WARNING:absl:Found untraced functions such as lstm_cell_3_layer_call_fn, lstm_cell_3_layer_call_and_return_conditional_losses while saving (showing 2 of 2). These functions will not be directly callable after loading.\n"
          ]
        },
        {
          "output_type": "stream",
          "name": "stdout",
          "text": [
            "INFO:tensorflow:Assets written to: saved_model/password/assets\n"
          ]
        },
        {
          "output_type": "stream",
          "name": "stderr",
          "text": [
            "INFO:tensorflow:Assets written to: saved_model/password/assets\n",
            "WARNING:absl:<keras.layers.recurrent.LSTMCell object at 0x7f3472dd2610> has the same name 'LSTMCell' as a built-in Keras object. Consider renaming <class 'keras.layers.recurrent.LSTMCell'> to avoid naming conflicts when loading with `tf.keras.models.load_model`. If renaming is not possible, pass the object in the `custom_objects` parameter of the load function.\n"
          ]
        }
      ]
    },
    {
      "cell_type": "markdown",
      "source": [
        "# Plot"
      ],
      "metadata": {
        "id": "vILPfriJ3u0i"
      }
    },
    {
      "cell_type": "code",
      "source": [
        "import matplotlib.pyplot as plt\n",
        "\n",
        "history_dict = history.history\n",
        "history_dict.keys()\n",
        "\n",
        "acc = history_dict['accuracy']\n",
        "val_acc = history_dict['val_accuracy']\n",
        "loss = history_dict['loss']\n",
        "val_loss = history_dict['val_loss']\n",
        "\n",
        "epochs = range(1, len(acc) + 1)\n",
        "\n",
        "# \"bo\" is for \"blue dot\"\n",
        "plt.plot(epochs, loss, 'bo', label='Training loss')\n",
        "# b is for \"solid blue line\"\n",
        "plt.plot(epochs, val_loss, 'b', label='Validation loss')\n",
        "plt.title('Training and validation loss')\n",
        "plt.xlabel('Epochs')\n",
        "plt.ylabel('Loss')\n",
        "plt.legend()\n",
        "\n",
        "plt.show()"
      ],
      "metadata": {
        "colab": {
          "base_uri": "https://localhost:8080/",
          "height": 295
        },
        "id": "hTrm3PU1Na3d",
        "outputId": "8ac7960e-e222-4906-93d1-a1829ae05191"
      },
      "execution_count": 186,
      "outputs": [
        {
          "output_type": "display_data",
          "data": {
            "text/plain": [
              "<Figure size 432x288 with 1 Axes>"
            ],
            "image/png": "[encoded data removed]"
          },
          "metadata": {
            "needs_background": "light"
          }
        }
      ]
    },
    {
      "cell_type": "code",
      "source": [
        "plt.plot(epochs, acc, 'bo', label='Training acc')\n",
        "plt.plot(epochs, val_acc, 'b', label='Validation acc')\n",
        "plt.title('Training and validation accuracy')\n",
        "plt.xlabel('Epochs')\n",
        "plt.ylabel('Accuracy')\n",
        "plt.legend(loc='lower right')\n",
        "\n",
        "plt.show()"
      ],
      "metadata": {
        "colab": {
          "base_uri": "https://localhost:8080/",
          "height": 295
        },
        "id": "dbx5k9cC39RN",
        "outputId": "477af712-8882-4dbf-80d3-41b0fc5b432a"
      },
      "execution_count": 187,
      "outputs": [
        {
          "output_type": "display_data",
          "data": {
            "text/plain": [
              "<Figure size 432x288 with 1 Axes>"
            ],
            "image/png": "[encoded data removed]"
          },
          "metadata": {
            "needs_background": "light"
          }
        }
      ]
    },
    {
      "cell_type": "markdown",
      "source": [
        "# BLEU score on test dataset"
      ],
      "metadata": {
        "id": "RdQNvSLnM5S2"
      }
    },
    {
      "cell_type": "code",
      "source": [
        "# try model without training\n",
        "scores = []\n",
        "for input_test_batch, target_test_batch in test_dataset:\n",
        "    test_batch_predictions = model(input_test_batch)\n",
        "    scores.append(bleu_score(input_example_batch, test_batch_predictions))"
      ],
      "metadata": {
        "id": "XUhbQg9mISjA",
        "colab": {
          "base_uri": "https://localhost:8080/"
        },
        "outputId": "c4fc6ab8-5fa7-4566-eb57-12567804c896"
      },
      "execution_count": 155,
      "outputs": [
        {
          "output_type": "stream",
          "name": "stderr",
          "text": [
            "/usr/local/lib/python3.7/dist-packages/nltk/translate/bleu_score.py:490: UserWarning: \n",
            "Corpus/Sentence contains 0 counts of 2-gram overlaps.\n",
            "BLEU scores might be undesirable; use SmoothingFunction().\n",
            "  warnings.warn(_msg)\n"
          ]
        }
      ]
    },
    {
      "cell_type": "code",
      "source": [
        "sum(scores)/len(scores)"
      ],
      "metadata": {
        "colab": {
          "base_uri": "https://localhost:8080/"
        },
        "id": "dYjHakavNCwz",
        "outputId": "c1e45d54-8248-4724-c850-dda96bb50228"
      },
      "execution_count": 157,
      "outputs": [
        {
          "output_type": "execute_result",
          "data": {
            "text/plain": [
              "0.6169241120548296"
            ]
          },
          "metadata": {},
          "execution_count": 157
        }
      ]
    },
    {
      "cell_type": "markdown",
      "source": [
        "# Inference"
      ],
      "metadata": {
        "id": "LATLVobwGxLm"
      }
    },
    {
      "cell_type": "code",
      "execution_count": 172,
      "metadata": {
        "id": "V0Qx47m_DrER"
      },
      "outputs": [],
      "source": [
        "class OneStep(tf.keras.Model):\n",
        "  def __init__(self, model, tokenizer, temperature=1.0):\n",
        "    super().__init__()\n",
        "    self.temperature = temperature\n",
        "    self.model = model\n",
        "    self.tokenizer = tokenizer\n",
        "\n",
        "  #@tf.function\n",
        "  def generate_one_step(self, input_chars, states=None):\n",
        "    #import pdb; pdb.set_trace()\n",
        "    # Convert strings to token IDs.\n",
        "    # input_chars = tf.strings.unicode_split(inputs, 'UTF-8')\n",
        "    input_ids = self.tokenizer.texts_to_sequences(input_chars)\n",
        "    input_ids = tf.keras.preprocessing.sequence.pad_sequences(input_ids, padding='post')\n",
        "\n",
        "    # Run the model.\n",
        "    # predicted_logits.shape is [batch, char, next_char_logits]\n",
        "    predicted_logits, states_h, states_c = self.model(inputs=input_ids, states=states,\n",
        "                                          return_state=True)\n",
        "    # Only use the last prediction.\n",
        "    predicted_logits = predicted_logits[:, -1, :]\n",
        "    predicted_logits = predicted_logits/self.temperature\n",
        "\n",
        "    # Sample the output logits to generate token IDs.\n",
        "    predicted_ids = tf.random.categorical(predicted_logits, num_samples=1)\n",
        "    predicted_ids = tf.squeeze(predicted_ids, axis=-1)\n",
        "\n",
        "    # Convert from token ids to characters\n",
        "    predicted_chars = self.tokenizer.sequences_to_texts([predicted_ids.numpy()])\n",
        "\n",
        "    # Return the characters and model state.\n",
        "    return predicted_chars, [states_h, states_c]"
      ]
    },
    {
      "cell_type": "code",
      "source": [
        "one_step_model = OneStep(model, tokenizer)"
      ],
      "metadata": {
        "id": "LKowDQATBC7K"
      },
      "execution_count": 173,
      "outputs": []
    },
    {
      "cell_type": "code",
      "source": [
        "start = time.time()\n",
        "states = None\n",
        "next_char = ['w']\n",
        "result = [next_char]\n",
        "\n",
        "for n in range(2):\n",
        "  next_char, states = one_step_model.generate_one_step(next_char, states=states)\n",
        "  result.append(next_char)\n",
        "\n",
        "result = tf.strings.join(result)\n",
        "end = time.time()\n",
        "print(result[0].numpy().decode('utf-8'), '\\n\\n' + '_'*80)\n",
        "print('\\nRun time:', end - start)"
      ],
      "metadata": {
        "colab": {
          "base_uri": "https://localhost:8080/"
        },
        "id": "8HFmNMULBFiT",
        "outputId": "37e30614-d0ee-419d-dec7-18c1c72f8a45"
      },
      "execution_count": 174,
      "outputs": [
        {
          "output_type": "stream",
          "name": "stdout",
          "text": [
            "wed \n",
            "\n",
            "________________________________________________________________________________\n",
            "\n",
            "Run time: 0.016946792602539062\n"
          ]
        }
      ]
    },
    {
      "cell_type": "code",
      "source": [
        "def pwds_from_chars(start_char, len):\n",
        "  states = None\n",
        "  next_char = [start_char]\n",
        "  result = [next_char]\n",
        "\n",
        "  for n in range(len-1):\n",
        "    next_char, states = one_step_model.generate_one_step(next_char, states=states)\n",
        "    result.append(next_char)\n",
        "\n",
        "  result = tf.strings.join(result)\n",
        "  return result[0].numpy().decode('utf-8')"
      ],
      "metadata": {
        "id": "bjhAj-YzcxvJ"
      },
      "execution_count": 175,
      "outputs": []
    },
    {
      "cell_type": "code",
      "source": [
        "all_pos = []\n",
        "while True:\n",
        "  pred = pwds_from_chars('p', 4)\n",
        "  if pred not in all_pos:\n",
        "    all_pos.append(pred)\n",
        "  else:\n",
        "    break\n",
        "\n",
        "print(all_pos)"
      ],
      "metadata": {
        "colab": {
          "base_uri": "https://localhost:8080/"
        },
        "id": "PUZqumbSdIKx",
        "outputId": "d8e83289-6aea-491b-d9c8-f742f5eb487d"
      },
      "execution_count": 185,
      "outputs": [
        {
          "output_type": "stream",
          "name": "stdout",
          "text": [
            "['paka', 'pplp', 'pook', 'pusa', 'p1x6', 'pari', 'prop', 'payt', 'palo', 'psr0', 'plea', 'peps', 'pedr', 'phat', 'pimy', 'puma', 'pe5a', 'pupp', 'play', 'pakd', 'prin', 'plut', 'pela', 'patr']\n"
          ]
        }
      ]
    },
    {
      "cell_type": "code",
      "source": [
        "given_pass = 'Password1'\n",
        "attempts = 1\n",
        "\n",
        "while True:\n",
        "  pred = pwds_from_chars(given_pass[0], len(given_pass))\n",
        "  print(f\"{attempts} - {pred}\")\n",
        "  if pred == given_pass:\n",
        "    break\n",
        "  attempts += 1\n",
        "\n",
        "print(f\"Model took {attempts} attempts to find password - {given_pass}\")"
      ],
      "metadata": {
        "colab": {
          "base_uri": "https://localhost:8080/"
        },
        "id": "y_Z66oP2d-zL",
        "outputId": "5a870829-9e3c-4fca-e944-66b432f4bead"
      },
      "execution_count": 177,
      "outputs": [
        {
          "output_type": "stream",
          "name": "stdout",
          "text": [
            "1 - Perno1259\n",
            "2 - Purice098\n",
            "3 - Patience4\n",
            "4 - PJABCrew3\n",
            "5 - Portdolpi\n",
            "6 - PraiseHop\n",
            "7 - PictureWi\n",
            "8 - P98041065\n",
            "9 - PISCISTO0\n",
            "10 - Passer469\n",
            "11 - Proxlucks\n",
            "12 - PopyNikes\n",
            "13 - PANDA69CH\n",
            "14 - Perry0606\n",
            "15 - PeggyWigg\n",
            "16 - Pnel08059\n",
            "17 - PJ12jqks6\n",
            "18 - Patsymon1\n",
            "19 - PLAYBOY22\n",
            "20 - PxZgtnzQ3\n",
            "21 - PregleLan\n",
            "22 - Pointon72\n",
            "23 - PE4CESEXY\n",
            "24 - POP214810\n",
            "25 - PECOASTIO\n",
            "26 - PROSPECTS\n",
            "27 - PHONEspoo\n",
            "28 - PXNDX8285\n",
            "29 - PLK9999II\n",
            "30 - PRINCE060\n",
            "31 - P@nt15tv1\n",
            "32 - Pfairview\n",
            "33 - PALMEROAD\n",
            "34 - PAO714518\n",
            "35 - PATMC2815\n",
            "36 - Pknhkl151\n",
            "37 - PARLA9357\n",
            "38 - P1d1aCK19\n",
            "39 - Policia07\n",
            "40 - PERFECT51\n",
            "41 - PINKCHOPP\n",
            "42 - Porkidoho\n",
            "43 - Paulamarc\n",
            "44 - P1m1n43v3\n",
            "45 - PAUL08240\n",
            "46 - Pineapple\n",
            "47 - PAUL2004S\n",
            "48 - PLUS12121\n",
            "49 - PANERA123\n",
            "50 - Pa1577971\n",
            "51 - Pachola27\n",
            "52 - Piochenta\n",
            "53 - PREDESTIN\n",
            "54 - Pussy2065\n",
            "55 - Paje19802\n",
            "56 - Potokal60\n",
            "57 - PLAYBOIBO\n",
            "58 - Penuta198\n",
            "59 - PEDROFF10\n",
            "60 - POUSSTIK5\n",
            "61 - PRILLURE3\n",
            "62 - POWEA69CH\n",
            "63 - Pink424sH\n",
            "64 - PbismisHe\n",
            "65 - PASSMORE1\n",
            "66 - PAINT3228\n",
            "67 - PANGA3651\n",
            "68 - Ph32Tnitc\n",
            "69 - Pengie915\n",
            "70 - PARTYGIRL\n",
            "71 - PESOJAS20\n",
            "72 - PrIsH1234\n",
            "73 - PJBARCELO\n",
            "74 - POFOX14NO\n",
            "75 - PI13UB13H\n",
            "76 - PKgt30-MK\n",
            "77 - PAUL06240\n",
            "78 - PrincessD\n",
            "79 - Parttyrul\n",
            "80 - PORTI1234\n",
            "81 - PLAYSTATI\n",
            "82 - Puke81281\n",
            "83 - PATHEY174\n",
            "84 - PIOLIN210\n",
            "85 - Password8\n",
            "86 - PETEECREW\n",
            "87 - Pallmallm\n",
            "88 - P0RK3ST0N\n",
            "89 - PLAYAALLD\n",
            "90 - Patamakes\n",
            "91 - PH0EN186*\n",
            "92 - Polita101\n",
            "93 - Pkin11831\n",
            "94 - PINK24752\n",
            "95 - PUPPYNACI\n",
            "96 - PETETK123\n",
            "97 - Preodarie\n",
            "98 - Pvnt_S_CA\n",
            "99 - PAMELAX10\n",
            "100 - PKWjess45\n",
            "101 - POOMIOMAX\n",
            "102 - Pepperpep\n",
            "103 - P9neCQdJh\n",
            "104 - PAZnivell\n",
            "105 - Pug220712\n",
            "106 - PuSeGo199\n",
            "107 - Poncaxpas\n",
            "108 - PEbbles00\n",
            "109 - PECHON200\n",
            "110 - PICOLA107\n",
            "111 - PBATURMAN\n",
            "112 - PDrogsw12\n",
            "113 - PEXPY7115\n",
            "114 - Pograhcf2\n",
            "115 - PELIGROSO\n",
            "116 - Pussycats\n",
            "117 - PS0808921\n",
            "118 - Pxl(L)(@)\n",
            "119 - PUERCOPIE\n",
            "120 - Pomarr132\n",
            "121 - Padilla22\n",
            "122 - PORCHATAT\n",
            "123 - Pepsi2310\n",
            "124 - PICIUS_sm\n",
            "125 - Piggy...X\n",
            "126 - POPCORN42\n",
            "127 - Poncho197\n",
            "128 - PRIZEBREE\n",
            "129 - Pamasvera\n",
            "130 - PRETTYTRE\n",
            "131 - PB030161Y\n",
            "132 - Pumpkin.b\n",
            "133 - PQ3E43535\n",
            "134 - Parias401\n",
            "135 - PIAED2017\n",
            "136 - P200704wa\n",
            "137 - P0LT20102\n",
            "138 - Promise12\n",
            "139 - PrinzesS_\n",
            "140 - PM41104HP\n",
            "141 - PkqRfmchi\n",
            "142 - P3z1beBOy\n",
            "143 - Provosk12\n",
            "144 - Peanut!13\n",
            "145 - Pakalocki\n",
            "146 - PATIANA12\n",
            "147 - PIMPIN103\n",
            "148 - Peggy6498\n",
            "149 - Pk4K058pP\n",
            "150 - Puseedher\n",
            "151 - PAT_EATER\n",
            "152 - Proudgirl\n",
            "153 - PonY&Giga\n",
            "154 - PUTOS...X\n",
            "155 - Pfluffy78\n",
            "156 - PRINCE292\n",
            "157 - Peewee200\n",
            "158 - PLAYBOYCH\n",
            "159 - P1lletZak\n",
            "160 - Partouill\n",
            "161 - PEPSIRULE\n",
            "162 - PASSWORD5\n",
            "163 - Plop991..\n",
            "164 - Pavel42-2\n",
            "165 - PENSINK09\n",
            "166 - PTc073410\n",
            "167 - PACO21908\n",
            "168 - PATNIOSSH\n",
            "169 - P1atpark1\n",
            "170 - Power1350\n",
            "171 - Patrika88\n",
            "172 - PHOENIX19\n",
            "173 - POESIES2P\n",
            "174 - Popwaters\n",
            "175 - PIMP11248\n",
            "176 - PMS111581\n",
            "177 - PIMPAGIRL\n",
            "178 - Protheo09\n",
            "179 - Prinalex0\n",
            "180 - PWINHESSH\n",
            "181 - PADILLAC2\n",
            "182 - Pz1CSVH35\n",
            "183 - PINKSTARD\n",
            "184 - PNINASAM1\n",
            "185 - PEPSIWARR\n",
            "186 - PABLO6679\n",
            "187 - Peloskiti\n",
            "188 - Petpie200\n",
            "189 - PrO5LJTy9\n",
            "190 - PaloM1497\n",
            "191 - PRINCESAB\n",
            "192 - Pineapple\n",
            "193 - Petra-Fix\n",
            "194 - Psico.150\n",
            "195 - Popatop9\\\n",
            "196 - PHILO9711\n",
            "197 - Pa4soor4u\n",
            "198 - PIOJOSA08\n",
            "199 - PRANAshty\n",
            "200 - P15449123\n",
            "201 - PassworD2\n",
            "202 - PB2327873\n",
            "203 - POWERFREE\n",
            "204 - Puma30058\n",
            "205 - PliBurE20\n",
            "206 - PCQ3Hmn5t\n",
            "207 - PICTURESA\n",
            "208 - PELIGROSA\n",
            "209 - Porlay990\n",
            "210 - Petty*162\n",
            "211 - PABLo9211\n",
            "212 - PaLlHroom\n",
            "213 - P001lmona\n",
            "214 - Pythfiles\n",
            "215 - PSpmCarp1\n",
            "216 - POOHIEPIE\n",
            "217 - PPFZ17565\n",
            "218 - Piparesa2\n",
            "219 - PH258AAA0\n",
            "220 - PEPPERDOG\n",
            "221 - PRR2G2821\n",
            "222 - POLANLOLE\n",
            "223 - PEDRO9568\n",
            "224 - PAULA1175\n",
            "225 - PRIYAONEN\n",
            "226 - PinkStar0\n",
            "227 - PAUVANATU\n",
            "228 - P2***-*45\n",
            "229 - Pessin901\n",
            "230 - Poolsucks\n",
            "231 - Pokemon'a\n",
            "232 - P4v4M3231\n",
            "233 - Paperdanc\n",
            "234 - PeaPle#45\n",
            "235 - PTDVALLEY\n",
            "236 - PERZIGTOR\n",
            "237 - PHYKONPIG\n",
            "238 - PlayaJen_\n",
            "239 - PIZZAROCK\n",
            "240 - P2MIKaTxc\n",
            "241 - Priyasorp\n",
            "242 - PEHD65886\n",
            "243 - PACKER449\n",
            "244 - POINTHOLE\n",
            "245 - PLOKIPEMK\n",
            "246 - PROFESSOR\n",
            "247 - Progressi\n",
            "248 - POWERPIVE\n",
            "249 - Putsuka_7\n",
            "250 - PINKY1588\n",
            "251 - Pepsis101\n",
            "252 - P31222221\n",
            "253 - P*L100DCP\n",
            "254 - Ploy25312\n",
            "255 - PATUSVAEG\n",
            "256 - POLKADOT?\n",
            "257 - PrettyGir\n",
            "258 - Partite12\n",
            "259 - Phrida040\n",
            "260 - PMIGREEN3\n",
            "261 - P07149377\n",
            "262 - PALAGAMIG\n",
            "263 - PatcelLa!\n",
            "264 - Poniesxx3\n",
            "265 - POLICIA25\n",
            "266 - P3r1kedaw\n",
            "267 - PupPy_078\n",
            "268 - POOHbear1\n",
            "269 - Pelusito0\n",
            "270 - PIE626MAN\n",
            "271 - PIphim019\n",
            "272 - Piglet_19\n",
            "273 - PRO556654\n",
            "274 - Pat071849\n",
            "275 - PANCHITA6\n",
            "276 - Princess1\n",
            "277 - Piobobel7\n",
            "278 - Poohbearb\n",
            "279 - PAULKIMTO\n",
            "280 - PUTA1010T\n",
            "281 - P6u9R5795\n",
            "282 - Pookeysoc\n",
            "283 - PRISTESIS\n",
            "284 - P12702109\n",
            "285 - Pink20090\n",
            "286 - Patriaika\n",
            "287 - Parnelle1\n",
            "288 - PONCIOLAT\n",
            "289 - PxNjxh3yX\n",
            "290 - PAUL121LA\n",
            "291 - PENNBELLS\n",
            "292 - PUNCATAMA\n",
            "293 - POIPOI777\n",
            "294 - PH5034577\n",
            "295 - PIJA22703\n",
            "296 - PUPUSKASI\n",
            "297 - PABLO8608\n",
            "298 - PaM4TerEi\n",
            "299 - Pukkatayd\n",
            "300 - PILARI201\n",
            "301 - Pudge0818\n",
            "302 - PHP&[IR,)\n",
            "303 - Patch0921\n",
            "304 - Peeps0420\n",
            "305 - Polkem2me\n",
            "306 - PATA@USA1\n",
            "307 - PRICETENS\n",
            "308 - PF1LAK3MO\n",
            "309 - Pamela38_\n",
            "310 - Pennywels\n",
            "311 - PWDOENEGH\n",
            "312 - Peoples12\n",
            "313 - PESTXNPUD\n",
            "314 - PERROSMIL\n",
            "315 - POWEROILS\n",
            "316 - Photogirl\n",
            "317 - PhRamBohc\n",
            "318 - PTS23cPs1\n",
            "319 - PEEWEE24G\n",
            "320 - PeePee332\n",
            "321 - PXNDX31JA\n",
            "322 - PINKHOPJA\n",
            "323 - Poopoo!!!\n",
            "324 - PSP529720\n",
            "325 - POOHBABE1\n",
            "326 - PEQUETEQU\n",
            "327 - PAINTIN48\n",
            "328 - PODGEMAIL\n",
            "329 - PinKie310\n",
            "330 - Pebbles82\n",
            "331 - PENSHIRE1\n",
            "332 - P12941ngZ\n",
            "333 - Pookpath1\n",
            "334 - Pamelarob\n",
            "335 - PAPELWEEN\n",
            "336 - PUAME0707\n",
            "337 - Pocadeta0\n",
            "338 - Petshow99\n",
            "339 - PRAPATAKI\n",
            "340 - PAOLA5577\n",
            "341 - PIPINchai\n",
            "342 - Polka2B8l\n",
            "343 - PdtpevN74\n",
            "344 - PASSWORDG\n",
            "345 - PASCHALAT\n",
            "346 - POHEREAMO\n",
            "347 - PPE341256\n",
            "348 - PESHMED11\n",
            "349 - POPISpoop\n",
            "350 - PICKLE999\n",
            "351 - Pudding17\n",
            "352 - Pynkatiut\n",
            "353 - PoP526818\n",
            "354 - PELONTINY\n",
            "355 - PEPERM193\n",
            "356 - PEUCEUSCA\n",
            "357 - PH0310979\n",
            "358 - PIRAT3S42\n",
            "359 - PAN196196\n",
            "360 - Pinkmoon1\n",
            "361 - PATTANA10\n",
            "362 - PLOP02896\n",
            "363 - PORTH99**\n",
            "364 - Polkadot5\n",
            "365 - Poldis890\n",
            "366 - Praha123k\n",
            "367 - PATH29432\n",
            "368 - PICHUD124\n",
            "369 - POPCORN45\n",
            "370 - PSrDM7741\n",
            "371 - Panosshir\n",
            "372 - PEACHES93\n",
            "373 - Popcorn12\n",
            "374 - Patricia9\n",
            "375 - Posrusagi\n",
            "376 - POINters1\n",
            "377 - PAMELA230\n",
            "378 - POPPDWARE\n",
            "379 - Plains1da\n",
            "380 - PALOSTQM1\n",
            "381 - Pam.22141\n",
            "382 - PICCOLEDA\n",
            "383 - Patty@200\n",
            "384 - Paper1@31\n",
            "385 - Perfect99\n",
            "386 - PEDIAVOLA\n",
            "387 - Pete06090\n",
            "388 - PURPLE123\n",
            "389 - Pastor12$\n",
            "390 - PETERJONE\n",
            "391 - Polli1964\n",
            "392 - PETTENEWI\n",
            "393 - PROTECE12\n",
            "394 - Pink19850\n",
            "395 - PROCEED36\n",
            "396 - Punish540\n",
            "397 - PpYGTgH44\n",
            "398 - P13J13H13\n",
            "399 - PBE29da56\n",
            "400 - PETIE1111\n",
            "401 - P2HZIn875\n",
            "402 - PRINCESS0\n",
            "403 - Paul46+@6\n",
            "404 - Pottell08\n",
            "405 - POCKE2318\n",
            "406 - Palkuicha\n",
            "407 - PeruGuhuu\n",
            "408 - PRUESTIGR\n",
            "409 - Pathtoren\n",
            "410 - POOTROOFL\n",
            "411 - Pollocosi\n",
            "412 - Petty77!!\n",
            "413 - Poomaas13\n",
            "414 - Princi250\n",
            "415 - PEAUTITIA\n",
            "416 - PIMP11142\n",
            "417 - PLOOF7741\n",
            "418 - Pastor445\n",
            "419 - Passwor21\n",
            "420 - Phylondan\n",
            "421 - PEG$34THO\n",
            "422 - Prispa061\n",
            "423 - PEI803340\n",
            "424 - PARONACE1\n",
            "425 - PLORRKE20\n",
            "426 - Piccolo_1\n",
            "427 - P796n6R9L\n",
            "428 - Peepie636\n",
            "429 - PENCELO54\n",
            "430 - PASTRULER\n",
            "431 - PIS2@1048\n",
            "432 - PQXZ100FE\n",
            "433 - PEEW69GRE\n",
            "434 - Pikechant\n",
            "435 - PERpenDTh\n",
            "436 - PhAnY8912\n",
            "437 - PEYAPRIME\n",
            "438 - PIPOLETTE\n",
            "439 - P2ppbBu76\n",
            "440 - PIOLINJR0\n",
            "441 - Pumpkin19\n",
            "442 - PGavin254\n",
            "443 - Panthers6\n",
            "444 - Play15122\n",
            "445 - Peece3693\n",
            "446 - PIM015203\n",
            "447 - POLHUGOUG\n",
            "448 - PucKers21\n",
            "449 - PHIP36104\n",
            "450 - Peppie345\n",
            "451 - Pepper101\n",
            "452 - PLABLOSTB\n",
            "453 - Podz11120\n",
            "454 - PORTA0353\n",
            "455 - PAYTON053\n",
            "456 - POTIK1524\n",
            "457 - PPUMAS190\n",
            "458 - PML2005kc\n",
            "459 - PIYESS123\n",
            "460 - PROJECT34\n",
            "461 - PINKYBOO1\n",
            "462 - Pass2theg\n",
            "463 - PAME26575\n",
            "464 - PEEMUNION\n",
            "465 - PARISTEVI\n",
            "466 - POLLO*231\n",
            "467 - Pass32+73\n",
            "468 - Pe1jan2b!\n",
            "469 - PINGRAY24\n",
            "470 - PryEtotte\n",
            "471 - P786AGCEV\n",
            "472 - POOHBEARS\n",
            "473 - PINGROBER\n",
            "474 - POBOX1695\n",
            "475 - Pratama11\n",
            "476 - PABLOGEMM\n",
            "477 - Peke13235\n",
            "478 - PLEBURSEN\n",
            "479 - PPs32)Kua\n",
            "480 - PUA260919\n",
            "481 - PUMAS1.1.\n",
            "482 - PKNUCH8B8\n",
            "483 - PASS330WO\n",
            "484 - PAraantip\n",
            "485 - PRISI1H78\n",
            "486 - PUSSY1980\n",
            "487 - Paparobbi\n",
            "488 - Pd16DI08j\n",
            "489 - PNPJEUDGA\n",
            "490 - Portland7\n",
            "491 - PATCH1010\n",
            "492 - Powelltop\n",
            "493 - PRILIA686\n",
            "494 - PMAMA-255\n",
            "495 - Pretty124\n",
            "496 - PRUE10050\n",
            "497 - PVISHAKON\n",
            "498 - Pv3MDQTUy\n",
            "499 - Pittbull6\n",
            "500 - PAPERPIES\n",
            "501 - PUXSCJO13\n",
            "502 - PUNK PICS\n",
            "503 - Paul33248\n",
            "504 - PMHS26674\n",
            "505 - PODAY9154\n",
            "506 - PURPLE123\n",
            "507 - PASAKUra0\n",
            "508 - Pampol123\n",
            "509 - Patito_25\n",
            "510 - PICHGO220\n",
            "511 - PLD090905\n",
            "512 - PIVOJOVID\n",
            "513 - Phoenix_3\n",
            "514 - Planet628\n",
            "515 - Pitzicapi\n",
            "516 - Poncho232\n",
            "517 - PEDELAMOR\n",
            "518 - Post pigs\n",
            "519 - P26037837\n",
            "520 - PESTANSCH\n",
            "521 - PatrickTi\n",
            "522 - PITA12345\n",
            "523 - POPE28GER\n",
            "524 - PLAY3RSIT\n",
            "525 - POLIKBAN1\n",
            "526 - PISATCHIN\n",
            "527 - PYMPSPA.S\n",
            "528 - Pt.#70*85\n",
            "529 - Pauliyah1\n",
            "530 - PIERINA09\n",
            "531 - PaKaX2asq\n",
            "532 - Phish1822\n",
            "533 - PE53WL317\n",
            "534 - PEDELETT5\n",
            "535 - PC7ERCA,7\n",
            "536 - PUCCAELI3\n",
            "537 - PAS082200\n",
            "538 - PATELMC22\n",
            "539 - Pi4G9Mic8\n",
            "540 - Proud#010\n",
            "541 - PefaAngIl\n",
            "542 - PERUM1234\n",
            "543 - Prakritt1\n",
            "544 - Pu1piru12\n",
            "545 - Planb2357\n",
            "546 - Papasito1\n",
            "547 - P@sTpK4Ap\n",
            "548 - PEpperjo2\n",
            "549 - Powerful7\n",
            "550 - PPX18USAC\n",
            "551 - P885803py\n",
            "552 - Pau354win\n",
            "553 - PYPRIOS39\n",
            "554 - Panthers8\n",
            "555 - PANEKANOS\n",
            "556 - Peewee123\n",
            "557 - POSITIVE0\n",
            "558 - Pakm!pple\n",
            "559 - Paltestin\n",
            "560 - Perfecto1\n",
            "561 - PHI235243\n",
            "562 - POISONWIN\n",
            "563 - PEPPERCAF\n",
            "564 - Paul_Boy1\n",
            "565 - Punchie69\n",
            "566 - PeRBITcH8\n",
            "567 - PEOPLEZ94\n",
            "568 - Pony-0922\n",
            "569 - PHAMZERTU\n",
            "570 - Purwante0\n",
            "571 - PACMANS36\n",
            "572 - Pluguinds\n",
            "573 - Poncho821\n",
            "574 - PWH198306\n",
            "575 - PACK7799X\n",
            "576 - PINKRAT19\n",
            "577 - Pin3way33\n",
            "578 - Pratt555g\n",
            "579 - PM9991311\n",
            "580 - Patsy1405\n",
            "581 - Peanut428\n",
            "582 - PUTAFLOR9\n",
            "583 - PEDOBETAM\n",
            "584 - PatuK3667\n",
            "585 - POMPIMILI\n",
            "586 - POPICEPSU\n",
            "587 - PW0088303\n",
            "588 - Philip138\n",
            "589 - Poly13!92\n",
            "590 - Presshous\n",
            "591 - PAPITL198\n",
            "592 - Piratesud\n",
            "593 - PrInCeSsB\n",
            "594 - P1O2R3I4R\n",
            "595 - PIPOLINA9\n",
            "596 - PREza123#\n",
            "597 - PENCILPET\n",
            "598 - Pre-Siane\n",
            "599 - PA_CKUTES\n",
            "600 - PHCaccrco\n",
            "601 - PAZ102750\n",
            "602 - Pinkypink\n",
            "603 - PULPEN042\n",
            "604 - Pr@D1995!\n",
            "605 - POriskool\n",
            "606 - PAUL49486\n",
            "607 - POLKADOT:\n",
            "608 - PB090805A\n",
            "609 - Picolopo2\n",
            "610 - Pr1nc3ss3\n",
            "611 - Pavillion\n",
            "612 - POWER8cmf\n",
            "613 - PHILM@STE\n",
            "614 - PKA224779\n",
            "615 - PJIP32721\n",
            "616 - Pioneer1f\n",
            "617 - PK14YOU25\n",
            "618 - Playgirl1\n",
            "619 - PQ2fY2gvJ\n",
            "620 - P01canBra\n",
            "621 - PaoliZi0t\n",
            "622 - Police77g\n",
            "623 - Panic67Su\n",
            "624 - PRINCEzzZ\n",
            "625 - PDPolice1\n",
            "626 - PAOPYLELA\n",
            "627 - POOHBEARN\n",
            "628 - PRECIOUS5\n",
            "629 - PrFeB2906\n",
            "630 - PEPEKTIND\n",
            "631 - PROECTOS1\n",
            "632 - PITUCASAR\n",
            "633 - PTB906607\n",
            "634 - Piacer120\n",
            "635 - PIIGLET15\n",
            "636 - PA_bi_zim\n",
            "637 - PIOLLA349\n",
            "638 - PODERNELI\n",
            "639 - POOHBEARK\n",
            "640 - POONS2652\n",
            "641 - PASSword0\n",
            "642 - Penn22568\n",
            "643 - Pratiwi20\n",
            "644 - PIESTAR12\n",
            "645 - PASSWORD5\n",
            "646 - Pig061969\n",
            "647 - Pipcake12\n",
            "648 - Pirate210\n",
            "649 - Princesa9\n",
            "650 - Piaggy555\n",
            "651 - Puts44Roc\n",
            "652 - Pour96072\n",
            "653 - PAKI EIMI\n",
            "654 - PIMPJRANT\n",
            "655 - PIIGPIG33\n",
            "656 - PAYYAT123\n",
            "657 - PRASERTY0\n",
            "658 - Perra1215\n",
            "659 - Philly430\n",
            "660 - Parky18ro\n",
            "661 - Pasture d\n",
            "662 - PIJEWEPHU\n",
            "663 - Peterkevi\n",
            "664 - PARKINA23\n",
            "665 - PROMETEME\n",
            "666 - POIZQUEZA\n",
            "667 - Pup475ix5\n",
            "668 - PasiTaDel\n",
            "669 - PINK03251\n",
            "670 - PassdPooh\n",
            "671 - POWER420J\n",
            "672 - PEDRariel\n",
            "673 - PENNY1902\n",
            "674 - Puffys332\n",
            "675 - PE3WPP4ZX\n",
            "676 - Pseueddra\n",
            "677 - Pinkpinks\n",
            "678 - P1NCHE.K3\n",
            "679 - PIGGIECAT\n",
            "680 - PLAYBOYJA\n",
            "681 - Purelife1\n",
            "682 - PPACEU123\n",
            "683 - Princess8\n",
            "684 - Password1\n",
            "Model took 684 attempts to find password - Password1\n"
          ]
        }
      ]
    },
    {
      "cell_type": "markdown",
      "source": [
        "# Attempts calculation"
      ],
      "metadata": {
        "id": "kO3QyjGccp6v"
      }
    },
    {
      "cell_type": "code",
      "source": [
        "def find_attempts(given_pwd):\n",
        "  pass_len = len(given_pwd)\n",
        "  attempts = 1\n",
        "  # iterate through each starting letter. \n",
        "  for l in tokenizer.word_index.keys():\n",
        "    states = None\n",
        "    next_char = [l]\n",
        "    result = [next_char]\n",
        "\n",
        "    for n in range(pass_len-1):\n",
        "      next_char, states = one_step_model.generate_one_step(next_char, states=states)\n",
        "      result.append(next_char)\n",
        "    \n",
        "    result = tf.strings.join(result)\n",
        "    pred = result[0].numpy().decode('utf-8')\n",
        "    if pred == given_pwd:\n",
        "      print(f\"Model predicted password in {attempts}\")\n",
        "    else:\n",
        "      attempts += 1"
      ],
      "metadata": {
        "id": "c0NBDNfEczdb"
      },
      "execution_count": 180,
      "outputs": []
    },
    {
      "cell_type": "code",
      "source": [
        "find_attempts('war')"
      ],
      "metadata": {
        "id": "nKROvvHALrwh"
      },
      "execution_count": 181,
      "outputs": []
    },
    {
      "cell_type": "code",
      "source": [
        ""
      ],
      "metadata": {
        "id": "z--ji9x7qaGV"
      },
      "execution_count": null,
      "outputs": []
    }
  ],
  "metadata": {
    "accelerator": "GPU",
    "colab": {
      "background_execution": "on",
      "collapsed_sections": [],
      "machine_shape": "hm",
      "name": "train.ipynb",
      "provenance": [],
      "mount_file_id": "1pIF9C4bW_WnKnuibA8j8in6IlDc1saUB",
      "authorship_tag": "ABX9TyPzHBu0A/Oc84AtKNkR9uHh",
      "include_colab_link": true
    },
    "kernelspec": {
      "display_name": "Python 3",
      "name": "python3"
    },
    "language_info": {
      "name": "python"
    }
  },
  "nbformat": 4,
  "nbformat_minor": 0
}