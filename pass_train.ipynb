{
  "cells": [
    {
      "cell_type": "markdown",
      "metadata": {
        "id": "view-in-github",
        "colab_type": "text"
      },
      "source": [
        "<a href=\"https://colab.research.google.com/github/rajashekar/colab/blob/main/pass_train.ipynb\" target=\"_parent\"><img src=\"https://colab.research.google.com/assets/colab-badge.svg\" alt=\"Open In Colab\"/></a>"
      ]
    },
    {
      "cell_type": "code",
      "execution_count": 1,
      "metadata": {
        "colab": {
          "base_uri": "https://localhost:8080/"
        },
        "id": "ui5LcnD_oQNM",
        "outputId": "d2521b0f-ad62-4d63-cb4c-c67ecc796aab"
      },
      "outputs": [
        {
          "output_type": "stream",
          "name": "stdout",
          "text": [
            "/content/drive/MyDrive/Colab/password\n"
          ]
        }
      ],
      "source": [
        "%cd /content/drive/MyDrive/Colab/password/"
      ]
    },
    {
      "cell_type": "code",
      "execution_count": 2,
      "metadata": {
        "id": "uWjiNuSx9WIL"
      },
      "outputs": [],
      "source": [
        "import os\n",
        "import time\n",
        "\n",
        "import tensorflow as tf\n",
        "\n",
        "import pandas as pd\n",
        "import numpy as np\n",
        "\n",
        "from sklearn.model_selection import train_test_split\n",
        "from nltk.translate.bleu_score import sentence_bleu\n"
      ]
    },
    {
      "cell_type": "code",
      "execution_count": 3,
      "metadata": {
        "id": "nZvgDc7op-r9"
      },
      "outputs": [],
      "source": [
        "data = open('data/rockyou_clean.txt').read()"
      ]
    },
    {
      "cell_type": "code",
      "execution_count": 4,
      "metadata": {
        "colab": {
          "base_uri": "https://localhost:8080/"
        },
        "id": "H_LkTrk-qL4G",
        "outputId": "48754cfc-5a0b-4470-8d9a-bcb6dc8b2b07"
      },
      "outputs": [
        {
          "output_type": "execute_result",
          "data": {
            "text/plain": [
              "139504373"
            ]
          },
          "metadata": {},
          "execution_count": 4
        }
      ],
      "source": [
        "len(data)"
      ]
    },
    {
      "cell_type": "code",
      "execution_count": 5,
      "metadata": {
        "id": "g02FJq9lqOgJ"
      },
      "outputs": [],
      "source": [
        "passwds = data.split(\"\\n\")"
      ]
    },
    {
      "cell_type": "code",
      "execution_count": 6,
      "metadata": {
        "colab": {
          "base_uri": "https://localhost:8080/"
        },
        "id": "t8Aj6_E0q0hL",
        "outputId": "1714cfaf-117e-4649-e5ba-56d77151ee59"
      },
      "outputs": [
        {
          "output_type": "execute_result",
          "data": {
            "text/plain": [
              "14328850"
            ]
          },
          "metadata": {},
          "execution_count": 6
        }
      ],
      "source": [
        "len(passwds)"
      ]
    },
    {
      "cell_type": "code",
      "execution_count": 7,
      "metadata": {
        "colab": {
          "base_uri": "https://localhost:8080/",
          "height": 35
        },
        "id": "jJszxGCssWpA",
        "outputId": "71da5eaf-010f-43fc-9800-2d09873978f8"
      },
      "outputs": [
        {
          "output_type": "execute_result",
          "data": {
            "text/plain": [
              "'alexandra'"
            ],
            "application/vnd.google.colaboratory.intrinsic+json": {
              "type": "string"
            }
          },
          "metadata": {},
          "execution_count": 7
        }
      ],
      "source": [
        "passwds[100]"
      ]
    },
    {
      "cell_type": "markdown",
      "metadata": {
        "id": "ko36Ziq0sbLj"
      },
      "source": [
        "# Vectorize the text"
      ]
    },
    {
      "cell_type": "code",
      "execution_count": 8,
      "metadata": {
        "id": "weTKFR38C3TM"
      },
      "outputs": [],
      "source": [
        "vocab = sorted(list(set(''.join(passwds))))"
      ]
    },
    {
      "cell_type": "code",
      "execution_count": 9,
      "metadata": {
        "colab": {
          "base_uri": "https://localhost:8080/"
        },
        "id": "nXfBF3yzDKDh",
        "outputId": "40e3f767-b7db-43f4-f584-a1b3f923f4e8"
      },
      "outputs": [
        {
          "output_type": "execute_result",
          "data": {
            "text/plain": [
              "95"
            ]
          },
          "metadata": {},
          "execution_count": 9
        }
      ],
      "source": [
        "len(vocab)"
      ]
    },
    {
      "cell_type": "code",
      "execution_count": 10,
      "metadata": {
        "id": "9RaM5ANgDWI_"
      },
      "outputs": [],
      "source": [
        "char_indices = dict((c, i) for i, c in enumerate(vocab))\n",
        "indices_char = dict((i, c) for i, c in enumerate(vocab))"
      ]
    },
    {
      "cell_type": "code",
      "execution_count": 11,
      "metadata": {
        "id": "FhJ7DgosDb6y"
      },
      "outputs": [],
      "source": [
        "max_len = max(passwds, key=len)"
      ]
    },
    {
      "cell_type": "code",
      "execution_count": 12,
      "metadata": {
        "colab": {
          "base_uri": "https://localhost:8080/"
        },
        "id": "etgEVPzhoau8",
        "outputId": "4104c33b-faf2-49bb-fe1c-575008094fbe"
      },
      "outputs": [
        {
          "output_type": "execute_result",
          "data": {
            "text/plain": [
              "50"
            ]
          },
          "metadata": {},
          "execution_count": 12
        }
      ],
      "source": [
        "len(max_len)"
      ]
    },
    {
      "cell_type": "code",
      "execution_count": 13,
      "metadata": {
        "colab": {
          "base_uri": "https://localhost:8080/"
        },
        "id": "X8BEFv-TpNRx",
        "outputId": "4aebc595-eb69-4a8d-f42c-81beaacd2825"
      },
      "outputs": [
        {
          "output_type": "stream",
          "name": "stdout",
          "text": [
            "Total number of passwords 14328850\n",
            "Passwords vocab size 95\n",
            "Max passwords length 50\n"
          ]
        }
      ],
      "source": [
        "print(f\"Total number of passwords {len(passwds)}\")\n",
        "print(f\"Passwords vocab size {len(vocab)}\")\n",
        "print(f\"Max passwords length {len(max_len)}\")"
      ]
    },
    {
      "cell_type": "code",
      "execution_count": 14,
      "metadata": {
        "id": "BeTj4zUyt2a8"
      },
      "outputs": [],
      "source": [
        "input_text = [p[:-1] for p in passwds]\n",
        "target_text = [p[1:] for p in passwds]"
      ]
    },
    {
      "cell_type": "code",
      "execution_count": 15,
      "metadata": {
        "colab": {
          "base_uri": "https://localhost:8080/"
        },
        "id": "3bMLxAb2vBQO",
        "outputId": "793402a8-26b5-4948-e5e3-5714e91718ae"
      },
      "outputs": [
        {
          "output_type": "stream",
          "name": "stdout",
          "text": [
            "123456 12345 23456\n"
          ]
        }
      ],
      "source": [
        "print(f\"{passwds[0]} {input_text[0]} {target_text[0]}\")"
      ]
    },
    {
      "cell_type": "code",
      "execution_count": 16,
      "metadata": {
        "id": "NuRwyhz8iqXM"
      },
      "outputs": [],
      "source": [
        "# Creating like below will blow memory\n",
        "\n",
        "# input_data = np.zeros( (len(passwds), len(max_len), len(vocab)) ,dtype='float32')\n",
        "# target_data = np.zeros( (len(passwds), len(max_len), len(vocab)) ,dtype='float32')\n",
        "\n",
        "# nearly took 17 GB of RAM memory for 1 million records\n",
        "# dataset has 14 million records\n",
        "# one_m_records = np.zeros( (1000000, 50, 95) ,dtype='float32')\n",
        "\n",
        "# clean memory\n",
        "# del one_m_records\n"
      ]
    },
    {
      "cell_type": "code",
      "execution_count": 17,
      "metadata": {
        "id": "rjiNNlf4xw6j"
      },
      "outputs": [],
      "source": [
        "tokenizer = tf.keras.preprocessing.text.Tokenizer(filters='', char_level=True, lower=False)\n",
        "tokenizer.fit_on_texts(passwds)"
      ]
    },
    {
      "cell_type": "code",
      "execution_count": 18,
      "metadata": {
        "id": "-moAS3B4y47S"
      },
      "outputs": [],
      "source": [
        "input_tensor = tokenizer.texts_to_sequences(input_text)\n",
        "input_tensor = tf.keras.preprocessing.sequence.pad_sequences(input_tensor, padding='post')"
      ]
    },
    {
      "cell_type": "code",
      "execution_count": 19,
      "metadata": {
        "colab": {
          "base_uri": "https://localhost:8080/"
        },
        "id": "MWg3cv6QzJXc",
        "outputId": "f2281967-7370-4ef7-d87e-bc7279a6925f"
      },
      "outputs": [
        {
          "output_type": "execute_result",
          "data": {
            "text/plain": [
              "(14328850, 49)"
            ]
          },
          "metadata": {},
          "execution_count": 19
        }
      ],
      "source": [
        "input_tensor.shape"
      ]
    },
    {
      "cell_type": "code",
      "execution_count": 20,
      "metadata": {
        "id": "IgFpZ-1bzYTw"
      },
      "outputs": [],
      "source": [
        "target_tensor = tokenizer.texts_to_sequences(target_text)\n",
        "target_tensor = tf.keras.preprocessing.sequence.pad_sequences(target_tensor, padding='post')"
      ]
    },
    {
      "cell_type": "code",
      "execution_count": 21,
      "metadata": {
        "colab": {
          "base_uri": "https://localhost:8080/"
        },
        "id": "Qbl3D-_zsPa7",
        "outputId": "4e3b14b8-8b13-4f9f-dd2a-889b18b80a3b"
      },
      "outputs": [
        {
          "output_type": "execute_result",
          "data": {
            "text/plain": [
              "(14328850, 49)"
            ]
          },
          "metadata": {},
          "execution_count": 21
        }
      ],
      "source": [
        "target_tensor.shape"
      ]
    },
    {
      "cell_type": "code",
      "execution_count": 22,
      "metadata": {
        "colab": {
          "base_uri": "https://localhost:8080/"
        },
        "id": "I1tMQ01PuNbK",
        "outputId": "bb657395-b9e9-4865-bd72-7f84f638bcec"
      },
      "outputs": [
        {
          "output_type": "execute_result",
          "data": {
            "text/plain": [
              "['12345', '1234', '12345678', 'passwor', 'iloveyo']"
            ]
          },
          "metadata": {},
          "execution_count": 22
        }
      ],
      "source": [
        "[''.join(i.split()) for i in tokenizer.sequences_to_texts(input_tensor[:5])]"
      ]
    },
    {
      "cell_type": "code",
      "execution_count": 23,
      "metadata": {
        "colab": {
          "base_uri": "https://localhost:8080/"
        },
        "id": "NiPQKheBu7yL",
        "outputId": "dd1b68fe-04c1-4afe-abe4-c7eaa6f05156"
      },
      "outputs": [
        {
          "output_type": "execute_result",
          "data": {
            "text/plain": [
              "['23456', '2345', '23456789', 'assword', 'loveyou']"
            ]
          },
          "metadata": {},
          "execution_count": 23
        }
      ],
      "source": [
        "[''.join(i.split()) for i in tokenizer.sequences_to_texts(target_tensor[:5])]"
      ]
    },
    {
      "cell_type": "code",
      "execution_count": 24,
      "metadata": {
        "colab": {
          "base_uri": "https://localhost:8080/"
        },
        "id": "QIpxA4h0Ae1X",
        "outputId": "099d3e1c-4e26-4f28-e899-66bd980cdd4b"
      },
      "outputs": [
        {
          "output_type": "execute_result",
          "data": {
            "text/plain": [
              "95"
            ]
          },
          "metadata": {},
          "execution_count": 24
        }
      ],
      "source": [
        "len(tokenizer.word_index)"
      ]
    },
    {
      "cell_type": "markdown",
      "metadata": {
        "id": "DELyjgzKs0n1"
      },
      "source": [
        "# Split data into Train and Validation"
      ]
    },
    {
      "cell_type": "code",
      "execution_count": 25,
      "metadata": {
        "id": "fyAhfR6ssmqb"
      },
      "outputs": [],
      "source": [
        "# Batch size\n",
        "BATCH_SIZE = 64\n",
        "\n",
        "# Buffer size to shuffle the dataset\n",
        "BUFFER_SIZE = 10000\n",
        "\n",
        "input_tensor_train, input_tensor_val, target_tensor_train, target_tensor_val = train_test_split(input_tensor, target_tensor, test_size=0.2)\n",
        "\n",
        "train_dataset = tf.data.Dataset.from_tensor_slices((input_tensor_train, target_tensor_train))\n",
        "train_dataset = train_dataset.shuffle(BUFFER_SIZE).batch(BATCH_SIZE, drop_remainder=True)\n",
        "\n",
        "val_dataset = tf.data.Dataset.from_tensor_slices((input_tensor_val, target_tensor_val))\n",
        "val_dataset = val_dataset.batch(BATCH_SIZE, drop_remainder=True)"
      ]
    },
    {
      "cell_type": "code",
      "execution_count": 26,
      "metadata": {
        "id": "nOmbRJLgJ4H3"
      },
      "outputs": [],
      "source": [
        "# For performance\n",
        "AUTOTUNE = tf.data.AUTOTUNE\n",
        "\n",
        "train_dataset = train_dataset.cache().prefetch(buffer_size=AUTOTUNE)\n",
        "val_dataset = val_dataset.cache().prefetch(buffer_size=AUTOTUNE)"
      ]
    },
    {
      "cell_type": "code",
      "execution_count": 27,
      "metadata": {
        "colab": {
          "base_uri": "https://localhost:8080/"
        },
        "id": "QEMagILWzGUH",
        "outputId": "c0b9e5e4-600d-44ab-fa9e-85a2d24c1365"
      },
      "outputs": [
        {
          "output_type": "execute_result",
          "data": {
            "text/plain": [
              "(TensorShape([64, 49]), TensorShape([64, 49]))"
            ]
          },
          "metadata": {},
          "execution_count": 27
        }
      ],
      "source": [
        "example_input_batch, example_target_batch = next(iter(train_dataset))\n",
        "example_input_batch.shape, example_target_batch.shape"
      ]
    },
    {
      "cell_type": "code",
      "execution_count": 28,
      "metadata": {
        "colab": {
          "base_uri": "https://localhost:8080/"
        },
        "id": "rmweDXaczJAR",
        "outputId": "f9455066-3883-42f1-f098-b799e6ff09dd"
      },
      "outputs": [
        {
          "output_type": "stream",
          "name": "stdout",
          "text": [
            "Vocab size 96\n",
            "Max input length 49\n",
            "Max input length 49\n"
          ]
        }
      ],
      "source": [
        "vocab_size = len(tokenizer.word_index) + 1\n",
        "\n",
        "max_length_input = input_tensor.shape[1]\n",
        "max_length_output = target_tensor.shape[1]\n",
        "\n",
        "embedding_dim = 256\n",
        "rnn_units = 1024\n",
        "\n",
        "print(f'Vocab size {vocab_size}')\n",
        "print(f\"Max input length {max_length_input}\")\n",
        "print(f\"Max input length {max_length_output}\")"
      ]
    },
    {
      "cell_type": "markdown",
      "metadata": {
        "id": "vcMQyTxBA0-4"
      },
      "source": [
        "# Create Model"
      ]
    },
    {
      "cell_type": "code",
      "execution_count": 29,
      "metadata": {
        "id": "8N429W2l-7e4"
      },
      "outputs": [],
      "source": [
        "class MyModel(tf.keras.Model):\n",
        "  def __init__(self, vocab_size, embedding_dim, rnn_units):\n",
        "    super().__init__(self)\n",
        "    self.embedding = tf.keras.layers.Embedding(vocab_size, embedding_dim)\n",
        "    self.gru = tf.keras.layers.GRU(rnn_units,\n",
        "                                   return_sequences=True,\n",
        "                                   return_state=True)\n",
        "    self.dense = tf.keras.layers.Dense(vocab_size)\n",
        "\n",
        "  def call(self, inputs, states=None, return_state=False, training=False):\n",
        "    x = inputs\n",
        "    x = self.embedding(x, training=training)\n",
        "    if states is None:\n",
        "      states = self.gru.get_initial_state(x)\n",
        "    x, states = self.gru(x, initial_state=states, training=training)\n",
        "    x = self.dense(x, training=training)\n",
        "\n",
        "    if return_state:\n",
        "      return x, states\n",
        "    else:\n",
        "      return x"
      ]
    },
    {
      "cell_type": "code",
      "execution_count": 30,
      "metadata": {
        "id": "CEFdG0KVAuIx"
      },
      "outputs": [],
      "source": [
        "model = MyModel(\n",
        "    vocab_size=vocab_size,\n",
        "    embedding_dim=embedding_dim,\n",
        "    rnn_units=rnn_units)"
      ]
    },
    {
      "cell_type": "code",
      "execution_count": 31,
      "metadata": {
        "colab": {
          "base_uri": "https://localhost:8080/"
        },
        "id": "neS_NEv5A6t1",
        "outputId": "711e160d-3eda-429c-98a7-a5a4e92dad67"
      },
      "outputs": [
        {
          "output_type": "stream",
          "name": "stdout",
          "text": [
            "(64, 49, 96) # (batch_size, sequence_length, vocab_size)\n"
          ]
        }
      ],
      "source": [
        "# try model without training\n",
        "for input_example_batch, target_example_batch in train_dataset.take(1):\n",
        "    example_batch_predictions = model(input_example_batch)\n",
        "    print(example_batch_predictions.shape, \"# (batch_size, sequence_length, vocab_size)\")"
      ]
    },
    {
      "cell_type": "code",
      "execution_count": 32,
      "metadata": {
        "colab": {
          "base_uri": "https://localhost:8080/"
        },
        "id": "ntDNbbA3BB8g",
        "outputId": "3c529136-23d0-4697-f48b-dd93a7221d49"
      },
      "outputs": [
        {
          "output_type": "stream",
          "name": "stdout",
          "text": [
            "Model: \"my_model\"\n",
            "_________________________________________________________________\n",
            " Layer (type)                Output Shape              Param #   \n",
            "=================================================================\n",
            " embedding (Embedding)       multiple                  24576     \n",
            "                                                                 \n",
            " gru (GRU)                   multiple                  3938304   \n",
            "                                                                 \n",
            " dense (Dense)               multiple                  98400     \n",
            "                                                                 \n",
            "=================================================================\n",
            "Total params: 4,061,280\n",
            "Trainable params: 4,061,280\n",
            "Non-trainable params: 0\n",
            "_________________________________________________________________\n"
          ]
        }
      ],
      "source": [
        "model.summary()"
      ]
    },
    {
      "cell_type": "code",
      "source": [
        "input_example_batch"
      ],
      "metadata": {
        "colab": {
          "base_uri": "https://localhost:8080/"
        },
        "id": "DbTOW1cEU0D_",
        "outputId": "f66cd107-8ec3-4e29-9ae4-755e0bf1d531"
      },
      "execution_count": 33,
      "outputs": [
        {
          "output_type": "execute_result",
          "data": {
            "text/plain": [
              "<tf.Tensor: shape=(64, 49), dtype=int32, numpy=\n",
              "array([[11, 15,  7, ...,  0,  0,  0],\n",
              "       [11,  2, 26, ...,  0,  0,  0],\n",
              "       [13, 19, 16, ...,  0,  0,  0],\n",
              "       ...,\n",
              "       [21, 22, 18, ...,  0,  0,  0],\n",
              "       [21,  1,  9, ...,  0,  0,  0],\n",
              "       [ 2, 22, 33, ...,  0,  0,  0]], dtype=int32)>"
            ]
          },
          "metadata": {},
          "execution_count": 33
        }
      ]
    },
    {
      "cell_type": "code",
      "source": [
        "tf.random.categorical(example_batch_predictions[0], num_samples=1)"
      ],
      "metadata": {
        "colab": {
          "base_uri": "https://localhost:8080/"
        },
        "id": "nd3nPZXjShD6",
        "outputId": "c201d3a4-2fc9-42d6-997a-552da23fe609"
      },
      "execution_count": 34,
      "outputs": [
        {
          "output_type": "execute_result",
          "data": {
            "text/plain": [
              "<tf.Tensor: shape=(49, 1), dtype=int64, numpy=\n",
              "array([[53],\n",
              "       [15],\n",
              "       [20],\n",
              "       [55],\n",
              "       [70],\n",
              "       [19],\n",
              "       [28],\n",
              "       [84],\n",
              "       [23],\n",
              "       [29],\n",
              "       [ 9],\n",
              "       [89],\n",
              "       [52],\n",
              "       [48],\n",
              "       [18],\n",
              "       [11],\n",
              "       [42],\n",
              "       [61],\n",
              "       [17],\n",
              "       [70],\n",
              "       [94],\n",
              "       [76],\n",
              "       [23],\n",
              "       [14],\n",
              "       [35],\n",
              "       [40],\n",
              "       [35],\n",
              "       [ 9],\n",
              "       [91],\n",
              "       [ 0],\n",
              "       [19],\n",
              "       [17],\n",
              "       [46],\n",
              "       [72],\n",
              "       [59],\n",
              "       [30],\n",
              "       [46],\n",
              "       [82],\n",
              "       [51],\n",
              "       [84],\n",
              "       [47],\n",
              "       [47],\n",
              "       [ 8],\n",
              "       [88],\n",
              "       [91],\n",
              "       [80],\n",
              "       [ 7],\n",
              "       [13],\n",
              "       [60]])>"
            ]
          },
          "metadata": {},
          "execution_count": 34
        }
      ]
    },
    {
      "cell_type": "code",
      "execution_count": 35,
      "metadata": {
        "id": "YlfoER9aBFSc"
      },
      "outputs": [],
      "source": [
        "sampled_indices = tf.random.categorical(example_batch_predictions[0], num_samples=1)\n",
        "sampled_indices = tf.squeeze(sampled_indices, axis=-1).numpy()"
      ]
    },
    {
      "cell_type": "code",
      "source": [
        "[tf.squeeze(tf.random.categorical(pred, num_samples=1), axis=-1).numpy() for pred in example_batch_predictions] "
      ],
      "metadata": {
        "colab": {
          "base_uri": "https://localhost:8080/"
        },
        "id": "bvTPQuR6UV0j",
        "outputId": "64269c0f-a17a-47b2-8356-4e3d97949f53"
      },
      "execution_count": 36,
      "outputs": [
        {
          "output_type": "execute_result",
          "data": {
            "text/plain": [
              "[array([15,  1, 85,  5, 68, 55, 44, 48, 93, 54, 58, 38, 27, 18, 24, 79, 56,\n",
              "        89, 23, 53, 57, 60, 14, 74, 57, 21, 40, 94, 36, 69, 49, 38, 67, 80,\n",
              "        51, 90, 54, 23,  4, 21, 41, 46, 50, 49, 84, 15, 95, 45, 29]),\n",
              " array([27,  4, 82, 69, 14,  4, 77, 66, 16, 94, 13, 20, 24, 66, 93, 31,  9,\n",
              "        69, 44, 84, 22, 12, 25, 81, 43, 63, 45, 28, 58, 51, 94, 10, 90,  3,\n",
              "        89, 16, 73, 66, 78, 36, 40, 78,  2, 67, 10, 41, 64,  0, 29]),\n",
              " array([81, 76, 95, 51, 77,  3, 48, 38, 89, 84,  6, 81, 80, 50, 14, 46, 95,\n",
              "        55, 19, 29, 26, 40, 47, 51, 86, 54, 79, 77, 24, 20,  2, 17, 55, 25,\n",
              "        74, 95, 19,  1, 17, 68, 29, 83, 18, 81, 65, 78, 81, 33, 39]),\n",
              " array([66, 16, 32, 66, 58, 88, 53, 80, 70, 75, 27, 53, 64, 32, 41, 41, 22,\n",
              "        18, 35,  2, 20, 59,  8, 80, 36, 52, 84, 55, 68, 40, 82, 89, 37, 13,\n",
              "        25, 25, 79, 85,  2, 81, 29, 26, 75, 66, 67,  9, 70,  1, 95]),\n",
              " array([ 7, 29, 54,  2, 72, 55, 82,  3, 81, 84,  7,  9, 13,  9, 47, 21, 13,\n",
              "        26, 24, 48, 58, 48, 29, 56,  9, 60, 51, 31, 63, 35, 14, 58,  9, 92,\n",
              "        18, 85, 62, 38, 67, 41, 44, 55,  0, 59, 69, 25, 95, 93, 50]),\n",
              " array([33, 85, 49, 49, 21, 34, 34, 74, 24, 36, 70, 26, 77, 85, 24, 17, 89,\n",
              "        95, 38, 17, 78,  4,  8, 92, 21, 25, 94, 45,  4,  0,  6, 19, 70, 78,\n",
              "        55, 16, 21, 42,  1, 23, 41, 50, 40, 23, 15, 22, 37,  4, 59]),\n",
              " array([28, 65, 63, 26, 32, 16, 82, 53, 62,  6, 37, 88,  5,  7, 95, 28, 93,\n",
              "        76, 69, 17, 39, 44,  8, 16,  3, 95, 49, 41, 45, 17, 62, 56, 70, 34,\n",
              "        65,  4, 64, 80, 79, 24, 26, 57, 88, 61, 82, 63, 27, 86, 44]),\n",
              " array([78,  8, 80, 51, 71, 62, 57,  3, 79, 13,  7, 45, 19, 20, 30, 74,  2,\n",
              "        54, 53, 59, 47, 75, 86, 29, 28, 71, 35, 11, 77, 73, 90, 64, 71, 62,\n",
              "        37, 48, 48, 95, 65, 50, 80,  4, 72, 41, 68, 17, 92, 30, 87]),\n",
              " array([34,  1, 24, 77, 18, 59, 94,  0, 53, 89, 63, 66, 63, 22,  2, 88, 52,\n",
              "         0, 48, 49, 87,  8, 13, 88, 25, 94, 26, 20,  6, 81, 54,  4, 22, 62,\n",
              "        90, 93, 16, 42, 10, 58, 56, 52, 67, 40, 65, 82, 42,  1, 46]),\n",
              " array([62, 13, 23, 59, 67, 58, 90, 30, 55, 39,  2,  4, 59, 16, 31, 29, 38,\n",
              "        57, 52, 41, 86, 27, 66, 85, 52,  4, 14, 94, 45, 17, 22, 19, 46, 52,\n",
              "        22, 81, 68, 16, 77, 12,  8, 81, 11, 17,  4, 50, 32, 94, 31]),\n",
              " array([32, 44, 84, 24, 13, 95, 81, 79, 27, 25, 59, 40, 27, 37, 21, 59, 34,\n",
              "        78, 71, 93, 43, 54, 22, 73, 75, 44, 67,  4, 72, 92, 40, 64, 10, 73,\n",
              "        15, 69, 72, 24, 13, 75, 18,  0, 88, 35, 11,  7,  4, 38, 13]),\n",
              " array([87, 13, 18, 88, 54, 38, 87, 41,  9, 36, 69, 27, 94, 14, 77, 31, 90,\n",
              "        64, 27, 71, 63, 46,  4, 81, 49, 38, 15, 53, 85, 73,  6, 82, 74, 70,\n",
              "        35, 56, 17, 16, 38,  4, 41, 17, 95, 30, 24, 69, 76, 49, 70]),\n",
              " array([20, 93, 81, 58, 64,  7, 67, 30, 34, 20, 31,  2, 54, 16,  9,  0, 58,\n",
              "         3,  4, 93, 35, 25, 51, 93, 91, 20, 34, 49, 90, 39, 35,  0, 52,  3,\n",
              "        48, 50, 23, 86, 51, 16, 88, 31, 50, 41, 86, 13, 21, 73, 53]),\n",
              " array([ 3, 74, 21, 78, 13, 45, 18, 27, 11, 82, 18, 79, 89, 38, 42, 42, 76,\n",
              "        66, 33, 31, 26, 92, 50, 16, 83, 18, 23, 82, 69, 12, 90, 74, 51, 88,\n",
              "        29, 15, 20, 31, 87, 84, 53, 82, 70, 59, 11, 77, 52, 74, 37]),\n",
              " array([61, 43, 42, 79,  6,  8, 32, 55, 17, 37, 67,  4, 25, 79, 75, 18, 58,\n",
              "        87,  6, 22, 32,  6, 31, 45, 10, 55,  5, 48, 72, 30, 81, 62,  0, 70,\n",
              "        27, 82, 52, 43, 41, 14, 51, 38, 49, 32, 46, 13, 16, 89, 12]),\n",
              " array([25, 88, 40, 50, 35, 68, 34, 54, 82, 30,  1, 10, 73,  3,  0, 50, 91,\n",
              "        12,  0, 45, 84, 23, 47, 90, 39, 31, 48, 63, 63, 62, 85, 59, 37, 11,\n",
              "         6, 28, 79, 73, 31, 47, 82, 77, 36, 46,  5, 31, 14, 44, 23]),\n",
              " array([86, 80, 46, 75, 12, 31, 92, 42, 66,  9, 28,  1, 46, 19, 47,  6, 59,\n",
              "        20, 66, 69,  7, 66, 73, 51, 92, 40, 64, 28, 13, 87, 76, 14, 22, 42,\n",
              "        90, 10, 17, 52, 72, 69, 71, 26, 14, 77, 19, 25, 38, 73, 84]),\n",
              " array([38, 71, 26, 35, 29, 82, 40, 68, 45, 53, 28,  7, 44, 26,  7, 73,  0,\n",
              "        31, 43, 94, 13, 25,  5, 32, 84, 41, 78, 47, 41, 45, 33, 95,  3, 33,\n",
              "        64,  1, 78, 60, 31, 68, 63, 64,  1, 41, 82, 91, 93, 50, 46]),\n",
              " array([ 0,  1, 75,  6, 92, 25, 76, 67, 37, 26, 91, 35, 58, 23, 69, 93,  3,\n",
              "        68,  1,  5,  3, 52, 17, 11, 20, 61, 76,  7, 10,  0, 46, 92, 26, 77,\n",
              "        83, 57, 95, 48, 34, 62, 56, 23, 10, 31,  2, 14, 83, 25, 66]),\n",
              " array([93, 53, 39, 15, 50, 11, 31, 67, 41, 57, 80, 76, 73, 81, 11, 48, 13,\n",
              "        53, 12,  5, 76, 89, 63, 17, 15, 32, 43,  4, 36,  3, 41, 58, 30, 83,\n",
              "        11, 89, 88, 55,  0, 20,  8, 19, 45, 68, 13,  8, 42, 36, 67]),\n",
              " array([12, 66, 77, 33,  8, 32,  5,  3, 63, 77, 29, 11, 95, 81, 29, 92, 25,\n",
              "        94,  4, 50,  9, 37, 78, 55, 10, 30, 80, 44, 38, 91, 24, 35, 91, 51,\n",
              "        73, 57, 14, 43, 49, 63, 78, 62, 18, 45, 71,  3,  9, 90, 42]),\n",
              " array([ 0, 68, 56, 92, 25, 89, 76, 47, 65, 44, 16, 31, 28, 84,  3, 62, 21,\n",
              "        36, 94, 85, 12, 59, 25, 47, 69, 85, 60, 86, 39, 62, 60, 25, 34, 89,\n",
              "        14, 52, 88, 94, 28, 22, 23,  6, 37, 12, 53, 59, 27, 66, 91]),\n",
              " array([89,  8, 44, 72, 36, 58, 33, 78, 25, 80, 10, 47, 82, 29, 72, 41, 92,\n",
              "        59, 10, 67, 29, 83, 70, 93, 58, 78, 26, 30, 28, 94, 20,  0, 86,  1,\n",
              "        73,  4, 11, 83, 64, 17,  2, 53, 91, 28, 69,  8,  5, 71, 31]),\n",
              " array([17, 19, 33, 24, 53, 38, 65,  3, 18, 55, 53,  6,  7, 34, 40, 58, 38,\n",
              "        17, 31, 92, 49, 82, 82, 14, 33, 82,  3, 94, 44, 90, 34, 14, 23, 84,\n",
              "        33, 73, 50, 83, 94, 48,  6, 49, 17, 85, 10,  8, 12, 54, 25]),\n",
              " array([56, 32, 45, 39, 62, 70, 41, 40,  0, 61, 39, 85,  4,  6,  8, 32,  4,\n",
              "        72, 69, 73, 22,  6, 49, 57,  8, 85, 40, 32,  7, 91, 13, 73,  1, 32,\n",
              "        21, 25, 26, 34, 33, 56, 35, 39,  4, 16, 49, 64, 81,  6, 78]),\n",
              " array([19, 20, 35, 48, 50, 20, 12, 51, 27, 34, 67, 75, 56,  5, 17, 73, 70,\n",
              "        88, 74, 56, 18, 32, 77, 83,  6, 44, 72, 13, 32, 41,  4, 49,  7, 57,\n",
              "        50, 76, 33, 92, 79, 67,  7, 30, 93, 59, 88,  6, 55, 50, 94]),\n",
              " array([68, 54, 85, 86, 75, 84, 34, 31, 70, 31, 91, 89, 55, 78, 58, 13, 63,\n",
              "        56, 14,  4, 84, 36, 85, 15, 30, 44,  3, 13, 54, 35, 39, 61, 69, 77,\n",
              "        19, 38, 50, 25, 37, 54, 17, 75, 42, 38, 77, 29, 90, 84, 55]),\n",
              " array([26, 26, 44, 34,  7, 69, 86, 38, 21,  9, 57, 10,  1, 45, 47, 42, 27,\n",
              "        21,  1, 33, 35, 18, 19, 42, 27, 62, 69, 77, 38, 13, 67, 34,  7, 33,\n",
              "        85, 11, 30,  9, 63, 87, 86, 66, 43, 91, 50, 62, 95, 29, 11]),\n",
              " array([92, 75, 79, 59, 28, 30, 52, 83, 95, 52, 74, 68, 59, 78, 93,  7, 51,\n",
              "        48, 79,  8, 43, 89,  7, 84, 74, 84, 85, 88, 18,  6, 95, 89, 57, 74,\n",
              "        21,  7, 69, 28, 10, 23, 35, 70,  7, 57, 43, 24, 88, 90, 36]),\n",
              " array([10, 58, 50, 12, 70, 20, 65, 95,  9, 87, 57, 16, 58, 19, 65, 28, 91,\n",
              "        33, 88, 70, 72, 12, 30, 90, 51, 53, 57, 20,  4, 65, 88,  0, 47, 24,\n",
              "        81, 60, 72, 50, 32, 70, 12, 21,  1, 95, 84, 29, 20, 61, 48]),\n",
              " array([75, 90, 86, 67,  9, 42, 59, 93, 77, 64, 37, 38, 81, 89, 39, 85, 43,\n",
              "         2, 19, 10, 85,  3, 73, 53, 17, 21,  2, 80, 74, 46, 36,  2, 82, 82,\n",
              "        83, 64, 45,  4, 38, 95, 60, 64, 29, 44, 51,  1, 61, 56, 51]),\n",
              " array([20, 31, 83, 58, 12,  2, 83, 41,  6, 45, 52, 70, 92, 95,  5, 34, 58,\n",
              "         3, 16,  1, 19, 21, 52, 66,  9, 76, 57,  5, 38, 37, 27, 38, 35, 54,\n",
              "        89, 79,  4, 91, 80, 15, 79, 24,  2, 76, 24, 79, 74, 68, 88]),\n",
              " array([80, 51, 10, 57, 86, 85, 81, 52, 34, 76, 53, 28, 10,  3, 69,  5, 22,\n",
              "        42,  5, 72, 65, 14,  7, 29,  8,  7, 92, 38,  5, 82,  5, 75, 55, 37,\n",
              "        53,  8,  1, 19, 56, 38, 64, 26, 43, 81, 75, 24, 86,  6, 90]),\n",
              " array([17,  8, 52, 18, 79, 61, 20, 76,  8, 43, 19, 86, 23, 62, 24, 38, 59,\n",
              "        53, 35, 62, 11, 21, 84, 68, 62, 40, 51, 95, 49, 17, 60, 91, 61, 17,\n",
              "        38, 92,  7, 46, 56, 58, 38,  9, 16, 82, 59, 31, 40, 11, 55]),\n",
              " array([52, 45, 48, 62, 53, 52, 14,  2, 27, 71, 61, 68, 77, 65,  2, 23, 22,\n",
              "        22, 26, 36, 79, 47, 26, 93, 76, 62, 40, 49, 85, 47, 93, 76, 13, 87,\n",
              "        93, 15, 95, 78, 54, 66, 78,  3, 21, 83, 27, 30, 83, 35, 45]),\n",
              " array([ 0, 24,  7, 60, 33, 30, 83, 87, 69, 37, 92, 63, 88, 38, 38, 29, 37,\n",
              "        41,  8, 82, 85, 75, 23, 84, 66, 42, 35, 50, 56, 55, 32, 50, 74, 40,\n",
              "        94, 76, 48, 81, 29, 80, 70, 19, 13, 52, 21, 67, 27,  0, 32]),\n",
              " array([31, 73, 87, 79, 26, 56,  0, 70, 19, 50, 54, 78, 11, 61, 20, 25, 93,\n",
              "        69, 50, 27, 87, 72, 21,  2, 20, 10, 67, 22, 81, 74, 39, 15, 38, 14,\n",
              "        29, 62, 66, 57,  6, 73, 48, 67, 65, 19,  3, 32, 54,  5, 79]),\n",
              " array([31, 40, 59, 43, 32, 88, 57, 33, 59, 24, 36, 38, 29, 90, 72,  4, 25,\n",
              "        50, 25, 73, 63, 13, 64, 12, 38,  9, 85, 22, 59, 63, 67, 11, 42, 80,\n",
              "        85, 95, 24, 53, 29,  1, 29, 79, 33, 31, 45, 54, 32,  7, 83]),\n",
              " array([92, 64, 54, 48, 11, 32, 32, 63, 50, 70, 61, 53, 32, 57, 34, 88, 30,\n",
              "        64, 70, 87, 52, 18, 65, 43, 77, 51, 28, 94, 84, 90, 65, 85,  4, 85,\n",
              "        43, 37, 35, 62, 63, 94, 69, 20, 42,  1, 81, 50, 35, 39, 22]),\n",
              " array([81, 54, 26, 92, 71, 31, 76, 19, 16,  3, 88,  8, 31,  6, 67, 81, 32,\n",
              "         9, 11, 25, 59, 60, 55,  0, 74, 37, 23, 15, 19, 58, 17, 81,  2, 29,\n",
              "        30, 57, 94, 19, 90, 62, 83, 80, 77, 43, 20, 17, 66, 79, 61]),\n",
              " array([24, 61,  4, 23,  3, 85, 65, 84, 30, 39, 91, 58, 58, 74,  1,  8, 93,\n",
              "        15, 67, 92, 70, 15, 32, 33, 52, 59, 13, 49, 33,  7, 46, 46, 88, 49,\n",
              "        11, 33, 53, 30, 86, 79, 50, 94, 28, 33, 45, 36, 32, 25, 82]),\n",
              " array([87, 85,  4, 33, 93, 60, 39, 39, 68, 64, 72, 63, 86, 33, 22,  1, 48,\n",
              "         1, 94, 13, 41, 31, 87, 21, 92, 54, 58, 86,  2, 39,  8, 68, 68, 31,\n",
              "        21, 50, 62, 32, 68, 60, 54, 39, 60, 10, 56, 39, 29, 29, 46]),\n",
              " array([ 4, 39,  8, 83,  0,  8, 24, 44, 30, 95, 44, 53, 54, 33, 67, 79,  0,\n",
              "        85, 60, 78, 87, 58, 86, 76, 92, 93, 45, 41, 76, 33, 11, 11, 15, 66,\n",
              "        94, 85, 58, 93, 13, 83, 57, 54, 11, 74, 55, 94, 23, 36, 43]),\n",
              " array([ 3, 50,  3, 49,  2, 29, 36, 35, 51, 91, 79, 14, 29, 63, 27, 92, 92,\n",
              "        83, 58, 49, 58, 27, 89, 91,  2, 72, 72,  5, 64, 38, 72,  0, 62, 12,\n",
              "        69, 55, 59, 39, 63, 58, 90, 52, 43, 58, 53, 63, 46, 19, 33]),\n",
              " array([26, 23, 90, 51, 67, 22, 52, 29, 55, 43, 65, 51, 78, 94, 35,  0, 85,\n",
              "         5, 61, 93, 13, 20, 28,  7, 67, 72, 88, 44, 19, 85, 54, 80, 30, 40,\n",
              "        88, 72, 62, 83, 15, 50, 42, 30,  4, 52, 78, 40, 16, 84, 10]),\n",
              " array([81,  4,  8, 28, 30, 36, 71,  6, 57, 16, 18, 76, 35, 65, 78, 65,  5,\n",
              "        35, 52, 75, 79, 29, 57, 30, 13, 86, 57, 55, 12, 12, 51, 70, 73, 41,\n",
              "        40, 21,  2, 19, 45, 79, 43,  9, 36, 75, 23, 57, 50, 22, 61]),\n",
              " array([18, 85, 76, 40, 25, 17, 22, 49, 71, 36, 12, 86, 73, 71, 50, 13, 77,\n",
              "        22, 50, 70, 56, 61, 71, 19,  9, 70, 93, 73, 19, 86, 58,  6, 30,  1,\n",
              "        71,  4, 94, 13, 10, 52, 70, 92,  2, 47, 25, 42, 47,  4, 62]),\n",
              " array([92, 43, 34, 16, 60, 59, 15, 88, 40, 69, 73, 52, 64, 63, 80,  1, 37,\n",
              "        13, 53, 66,  1,  7, 71, 77, 24, 92, 74, 42, 85, 56,  6, 47,  7, 64,\n",
              "        66, 76, 31, 84, 55, 14,  8, 18, 46, 57, 67, 38, 30, 79, 57]),\n",
              " array([ 8, 23, 54, 27, 92, 31, 75, 32, 62, 87, 82, 88, 14, 38, 22, 92, 32,\n",
              "        66, 73, 74, 21, 64, 27, 62, 54, 86, 82, 49, 76, 28, 76, 32, 79, 64,\n",
              "        71, 64,  1, 75, 88, 59, 41,  5, 54, 63, 24, 21, 26, 46, 78]),\n",
              " array([91, 52, 67, 17, 41,  6, 21, 14, 38, 68, 22, 49, 28, 51,  4, 40, 29,\n",
              "        34, 72, 83, 46, 57, 41, 66, 59, 50, 92, 42, 78, 36,  4, 67, 18, 66,\n",
              "        70, 18, 54, 94, 35, 15, 46, 16, 52, 53, 21, 83, 13, 62, 79]),\n",
              " array([14, 89, 52, 58, 76, 85, 94, 60, 77, 95, 45, 73, 38, 13, 60, 27, 62,\n",
              "        61, 34, 67, 73, 83, 19, 43, 29, 62, 37,  9, 91, 33, 77, 13, 90, 82,\n",
              "        69, 46, 40, 82, 75,  6, 30, 47, 47, 86, 20, 93, 85, 35, 92]),\n",
              " array([51, 64, 62, 14,  6, 30, 94, 62, 67, 40, 63,  0, 57, 12, 21, 78, 87,\n",
              "        39,  1, 59, 45, 94, 13, 30, 48, 85,  0, 82, 80, 88, 60, 11, 71, 13,\n",
              "        37, 89, 95, 94, 56, 27, 52, 48, 17, 67, 79, 95, 50, 13, 62]),\n",
              " array([72, 76, 92, 76, 51,  3, 42, 47, 23, 73, 86,  5, 61, 24, 28,  7, 72,\n",
              "        76, 59, 58, 18,  8, 31, 14, 31, 21, 83, 87, 65, 40, 28, 83, 91, 59,\n",
              "        19, 33, 91, 35, 31, 46, 30, 17, 75, 27, 22, 18, 17, 67,  4]),\n",
              " array([ 7, 52, 90, 86,  3, 18, 75, 17, 74, 82, 31, 30, 84,  0, 73, 70, 43,\n",
              "        47, 25, 93, 49, 77, 23, 73, 80, 46, 32, 12, 73, 47, 16,  1, 59, 54,\n",
              "        71, 84, 41, 41, 19, 34, 42, 53, 74, 32, 42, 87, 31, 79, 69]),\n",
              " array([10,  4, 65, 76, 23, 42, 29, 36, 82, 23, 44, 88, 42, 60, 89, 86, 51,\n",
              "        34, 25, 86, 62, 10, 45, 83, 76, 77, 87, 63, 53, 24, 82,  6, 15, 16,\n",
              "        82, 21, 22, 64, 58, 10, 16, 47, 36, 69,  4, 66, 18, 11, 46]),\n",
              " array([28,  2, 25, 42, 69, 37, 69, 53, 95,  3, 32,  6, 16, 19, 82, 66, 73,\n",
              "        57, 64, 31, 33, 26, 75, 88, 61, 39,  4, 90, 69, 31, 16, 13, 34, 75,\n",
              "        41, 89, 56, 11, 25, 60, 54, 90, 87, 32, 44, 65, 58, 74, 57]),\n",
              " array([12, 51, 11, 27, 29,  9, 85, 17,  2, 95, 16, 45, 46, 46, 22, 64,  9,\n",
              "         8, 78, 44,  9,  8, 65, 61, 50, 48, 69, 36, 65, 34, 73, 51, 69, 33,\n",
              "        63,  4, 46,  1, 24, 72, 34, 40, 83, 51, 35, 22, 16,  7, 94]),\n",
              " array([ 0, 53, 38, 77, 12, 91, 51, 31,  6, 59, 19, 10, 60, 30, 14,  0, 16,\n",
              "        40, 88,  0,  8,  9, 69, 33, 70, 10, 14, 40, 15,  7, 41, 90, 32, 28,\n",
              "        82, 36, 46, 24, 12, 68, 37, 41, 24, 90, 32,  3, 37, 75, 58]),\n",
              " array([31, 38, 91, 66,  7, 78, 61,  2, 78, 85, 46, 16, 58,  0,  8,  0, 35,\n",
              "        65, 62, 23, 85, 33, 19, 80, 66, 21, 18, 18, 23, 38, 63, 34, 70, 45,\n",
              "        45, 54, 54, 31, 44, 51, 11, 33, 62, 32, 83, 77, 90, 33, 95]),\n",
              " array([72, 33, 62, 34, 36, 21, 42, 38, 92, 49, 65, 36, 61, 78, 52, 37, 34,\n",
              "         3, 81, 93, 27, 21, 20, 66,  1, 78, 18, 94, 76, 95, 47, 83,  6, 42,\n",
              "        36, 94, 75, 90, 56, 86, 22, 92, 90, 81, 83, 57, 69, 32, 13]),\n",
              " array([84, 24, 14, 21, 69,  6, 18, 47,  6, 26, 48, 38, 23, 43,  6, 38, 38,\n",
              "        35,  8, 65, 54, 33, 23, 30, 60, 27, 17, 88, 22, 51, 85, 75, 54,  8,\n",
              "        61, 80, 59, 85, 95, 17, 72, 93, 36, 78, 10, 16, 36, 81, 69]),\n",
              " array([93, 26, 23, 18, 92, 78, 64, 13, 19, 25, 93, 24, 23, 52, 21,  6, 35,\n",
              "        53, 78, 82, 95, 92, 25, 57,  8, 26, 68, 54,  8, 19, 79,  2, 61, 51,\n",
              "         3, 62, 95, 42, 91,  7, 88, 80, 66, 80, 45, 72, 15, 11, 14]),\n",
              " array([60, 88, 56, 77, 15, 11, 71, 51,  2, 76, 80, 39, 49, 12, 64, 35, 37,\n",
              "        64, 17, 39, 11, 59, 29, 30, 88, 56, 20, 20, 27, 57, 21, 30, 60, 70,\n",
              "        95, 89,  1, 42, 23, 13, 68, 41, 59, 16, 37, 56, 72, 82, 59]),\n",
              " array([ 4, 31, 24, 87,  0, 17, 47, 88, 36, 25, 10, 90, 62,  4, 45, 48, 40,\n",
              "        62, 10, 93, 42, 34, 33, 19, 50, 56, 62, 42, 56, 12, 49, 61, 18, 74,\n",
              "        60, 11, 20, 85, 25, 56, 15, 57,  5, 72, 62, 18, 89, 22, 38])]"
            ]
          },
          "metadata": {},
          "execution_count": 36
        }
      ]
    },
    {
      "cell_type": "code",
      "source": [
        "tokenizer.sequences_to_texts([tf.squeeze(tf.random.categorical(pred, num_samples=1), axis=-1).numpy() for pred in example_batch_predictions] )"
      ],
      "metadata": {
        "colab": {
          "base_uri": "https://localhost:8080/"
        },
        "id": "BmWRrYq7VKjn",
        "outputId": "9ed383f7-8944-4170-d2ee-942888128b19"
      },
      "execution_count": 37,
      "outputs": [
        {
          "output_type": "execute_result",
          "data": {
            "text/plain": [
              "['} n m 1 L U ] y 7 - 5 r @ H 4 Q < k ; H z ! O ^ = F . ] [ p T y i P v ! * ! U 9 H z j n k { 0 P >',\n",
              " 'v P [ 9 a m v P G c d U t * H < - T } p ) y # d ~ c # n k * = \" 6 S 0 4 W r z N b \\' e t   - c i ^',\n",
              " 'k - ( Z i # \\' f } 6 I 6 F [ O 3 q   X , \" H J n g g H     ; Q 8 \\\\ y q ; + [ > { a \\\\ W } L L M ` P',\n",
              " \"g 5 L b k o c S r } o x ' { ] k X , ( | ( ! ? 8 T h L R v y v = j K e Z V ; T _ # + 5 , U F E R t\",\n",
              " 'O { $ * L M & # e ! F | ? 7 \" [ b _ 1 J L Y f 6 + 0 N ( ( X h O J X f H 6 N U _ l I [ ) A _ @   U',\n",
              " '. \\\\ C a A 1 ` \\' U P H Q r 2 g ? [ K . | > # U # H   W ) y e h P T : [ # * & < T \\\\ X ! i \\' c % \" y',\n",
              " ') d B [ R H . b I X } X & H r T i B s i 6 d X c m W x ` @   w c M ~ P c 8 j 7 > S V x % p ; @ n t',\n",
              " \"k < h x ' c - l n k F m : e e [ { 8 e u f 4 6 E i ` F W 5 0 ; - B v } l N m D < h # x K r R O t 8\",\n",
              " '[ } O F B I e I % Y ^ ( r { : w 3 q P B ~ 0 y D = 1 \\\\ 3 d p T & @ E E L 4 1 M E y \\\\ { = _ D ~ M @',\n",
              " 'e u D w a ~ d W k \\\\ * w ~ = 1 L A p $ C E z | 6 e S K h t b l a   G C { 3 V r u F   4 g T 6 3 P L',\n",
              " 'v \" / & Y _ x , 9 : Y M 7 } 1   b s W v ( ; 2 i D G E g m t ( u H g g s } ] & \\' 2 P p m H S +',\n",
              " 'C \\' F I I Q O ^ R . 0 : Y # 7 E > | a = & K H } \\\\ ( Z \" b * ! f k @ W % : 5 ! @ u t R > > 5 m .',\n",
              " '% B n a Z K @ n 2 ; l g A | \\' A 0 % U . : - I ; z n _ m j ? % D \\\\   x e E \" ] b b 5 1 _ # k \\\\ G r',\n",
              " \"3 e # g + S * P g < ? H U U m - B * ] 1 > O X d o Q ! v ' 2 / T _ ( _ ` Z & 3 0 N V   f n / b T L\",\n",
              " 'j F ? [ X j V 2 % z d M t G - ) w @ N   | C f L ! $ O [ L R y n ? = C 3 r 6 ~ T u [ g w 8 t G k',\n",
              " \"Y V f p r S 7 & + / $ y   - Q l p T c d 9 : ^ S ' T 1 v [ Y c a C } [   1 p | q 4 X ? [ S k { * 6\",\n",
              " \"[ Q F 5 L 0 6 i $ E & t p c \\\\ 6 ' ^ 4 y 8 : V k c l z f O M $ | } : T q W a U \\\\ ? ` $ \\\\ L ; 0 2 k\",\n",
              " \"h T r A . # = e r S # r Q W G z p ? _ S 6 * o e 8 W n ' G r ) C k & 7 ' ) * g 4 . S . f v - 7 g\",\n",
              " '& t ^ F K 5 } t u d ! | \\' } { G d j 5 t M > t K e 8 O ] L \" @ D 6 g G ( 7 E i 0 I T u v Y o 4 | u',\n",
              " \"n [ g g 5 b 7 d   j [ 4 ' a Q z 1 7 2 ; b , B j 4 R { * ^ ' j l 3 ~ , - - U ' W { s O ( c ; [ a X\",\n",
              " \"S 4 Z + # [ I ' ^ V x M P k J K r W z s ` + B _ y H r G m f ; / V M D ? ; E ; } $ & E _ B # c m d\",\n",
              " 'd O / Z F | ( , m Q ~ 2 ? p v & \" 9 S \" y D ) ~ i s o + $ 8 S 9 = B W T 9 H _ F + j ) v x $ > W',\n",
              " ': ; p \" 3 E = ? \\\\ \" H } } B U v < \" L I @ 0 | A - b \\\\ < I ` . \\' y h Y ) I \\\\ @ s \" n Y , 4 f S 6',\n",
              " 'W n % F s * B H V { 2 b }   ; B / K i > = . C d = q T t $ Z l b n N u ? K 6 < A 5 | k 8 < J k',\n",
              " '\" + A 6 n W { w w x x X t ~ o E 8 $ ) w > J ) ] 1 w R S . ~ | 1 K p L } @ m U : { ^ ! k V c o @',\n",
              " \"[ ' = . p H 0 9 ) k M f ; ~ ( ( a $   l * _ ? p E ( f s e l ^ & $ i 7 b q } < 4 D n ) M M M ? @ _\",\n",
              " 'q 8 / 5 | H i D ? S ^ z l & x _ J 3 F 6 J U Y y u v v y ~ C z > p g b F N E ^ _ 8 F ; k _ 8 H u C',\n",
              " 'z S ` % 7 y T M N T 7 j c o 2 $ / w [ @ X } I A B g K H s } g 8 * } P j Q 4 {   * X & w y 5 T }',\n",
              " 'k # $ s \\\\ B \" 6 0 = k q 2 E # ; & 7 + { e . t u J * w u 7 ` q ? : v U * u ! o < b 2 \" [ ~ f P V a',\n",
              " '* D Z _ - 9 f M m W ( 7 ] { W K + D 1 q W T X t @ 8 R { 9 g E { \\\\ 9 u H P I I Y o % b z u 5 H O',\n",
              " \"| \\\\ V < Y B > 0 2 s T E I P @ : < + \\\\ ? h   ; 2 Y g M <   U 8 ` \\\\ @ _ # D Z Y f ~ n k F h | ' n ~\",\n",
              " '} # \" _ 2 = Z 2 r ] Q h = J \\' / . 3 5 f r x r a [ l T W ~ B R e & h ! z 7 _ Y m , i H | { 1 u @ d',\n",
              " '! T ) : ) Y S   d k } Q x @ X g 8 = > 4   3 l ^ # H \" & } 6 z M : g G y E + x C Q } m U w { V',\n",
              " '= _ 6 W $ @ $ | S + u a 7 | f F g n = ) H h ) ^ I a } N * J h p & p m i S @ 9 v ~ ) @ : @ M + O',\n",
              " 't G / c < C c 7 y [ Z B I Y Q o J > < r ) = ~ 5 J 9 x X = s P T # n + 1 X   c + c K 7 3 x S G n',\n",
              " 'a j \" V h ? P D x Z f o c V \" e ; # Z % * _ * } S E t M B \\' S } Z = M 3 H w x 5 ) ~ h 0 R C v   /',\n",
              " 'Z m * - < u 5 / O n + m q ~ 9 Z v C i k | T U [ o 0 { f . L A < y ) * P D % B { 2 % d p r u 6 7',\n",
              " '@ 4 7 U @ x u N i I L Q M s Y y 9 b ^ ~ 1 ~ i ( 5 x x 0 8 x = 4 M O \" k ? K ( z S e | | j & e H *',\n",
              " 't > F _ g R j K = 6 _ R l T K , | D $ 9 t m ( B V 5 ] & L g u N [ U } D 1 X Z [ + < W 8 B 6 3 ,',\n",
              " '/ _ $ & ] 4 R S 0 X a 7 = T 5 t l t b 9 3 X q g J ~ M * x w | z [ S ! ( G Y $ c # h 7 ; ` x L w',\n",
              " '\\' \" T N d A r k w F y s k / Q Y N C * ( q A m ^ Y ) ` U | = | [ # ) M E z * } 1 0 Y 6 f \\\\ k @ |',\n",
              " '{ < ] z k f 6 O T ? z ) ` d @ o 8 \\' B b * c | s m i y ( ? U + O > 4 V \" 1 Y K 2 ` S l o c >   $ x',\n",
              " 'Z [ T / s & & i + 6 , \\\\ W | I 3 @ _ U e , m H M C B o : [ X K V Z ` Q 8 X z \\\\ I [ Y j n v = 7 $ #',\n",
              " 'q h ~ J X ) X i 6 3 4 3 { + 7 x W J @ ` k | d C P / ( / d a * F p ` Z ? $ t y 1 \" p 8 H F ~ k ; J',\n",
              " '^ = ) 4 6 M y d g ( E f u 2 n l X U s 7 1 I | -   R f _ 9 R # b < h / 8 ? v C A V T A . n | `',\n",
              " '2 c 6 p } w Z f Y 6 O ? | > m 8 C A O { [ j y 6 E R q K Q ] > = ; k 7 - G ) ; I p : w 3 U l n',\n",
              " '+ 4 E   F u v / i [ W $ v t 6 M c $ P . c I , A \" o L ^ B ] $ ~ i w   M + j | s p v v Z 4 v _',\n",
              " 'v E M f u - 2 I = e T \\\\ ^ / V N l 6 < : d / > : _ R / % U Q f w R { + , W o n + o Z S j g 5 ~ k 7',\n",
              " '] N ! R o r y # / O U Y 3 k { 4 \" w < h * + / y p ? _ 5 m O } T 5 { G 3 ( t = u R 5 R [ a r * u 6',\n",
              " \"0 X 8 Z j W 5   @ T S b n ' 5 - B ? 8   5 b } 6 i ; C 6 3 j \\\\ & S 4 F b L O < K   ? Y b . l [ 0 S\",\n",
              " 'g w F # m , n e 0 { _ p 5 7 > ] k s ? S . = j M ) H 6 V z 0 U M M { . g ~ I l ^ . < s Q t g d / 9',\n",
              " 'w ~ 4 L Y z k P I y L _ q ` ^ - Y 1 _ e c y 5 M Z + W q $ C -   $ # = G   z b n f ? ! ; w ) ( H 9',\n",
              " 'h A ` T w o t { % M ; ) 2 2 x a D Q Q ? G 4 ; = + l 1 * 5 r m D 4 Q U H # ! @ u 1 * e b 0 C z',\n",
              " 'x \\\\ T K > \" k y . z + T j S ~ U W . > X \\' M ~ > @ . 0 @ ( R < . $ A ^ T 8 0 ? O O - 4 K v L Z 6',\n",
              " 'F F 6 [ _ ( v L $ V ( _ x ! [ . w T O j i b % - : Q | % [ > % U O - x @ t Z 8 ^ V H f m T ^ J { `',\n",
              " 'I f \\\\ T T J I | C * ` % z / & \" m 2 f ~ H t t 5 ( | # g 4 [ q W V 5 _ 2 p [ G ( ^ I X ; V ` $ S',\n",
              " '. T m R 5 r n 2 c I t > N X f R ~ P k \\' 7 Z 3 S W r 4 Z ( { C I > x $ O z - R q e % \" 8 D { ; V *',\n",
              " 'G 8 W m / M N G 7 % % S c 9 F u I $ \" o 5 < J c [ f 5 3 x K ] h { d ; + 6 S . j 6 r   q 6 S S +',\n",
              " '- { Y \" ] ! c $ P = W S P \\' h & U N $ b - , C < ; l & L > C z K O g # h > ` \\\\ Z C L o I L u 4 # R',\n",
              " \"E v b ) j f [ % L H ' r t J Q - [ T U K $ [ d 2 ~ . a < e v $ + + F % ? 4 / ' k v * T 8 @ Y b ! d\",\n",
              " '& f 7 \" { - - n U @ M * d \\' Q o ` | ? b @ 9 h N I 3 1 E K i Z W D c # T w < | M H 4 V r k o U W',\n",
              " 'K B c S L - u ! >   F - X g Z / 1 5 T d ! ! c o d U A k \\\\ T \" g x g > ^ a | | \\' ? < M \\\\ ) f G A %',\n",
              " 'S U 6 m o q h G ? _ r * y | Z z U p m S c } T Q A Y b U M $ ? Z + q } d d k | X X t P h d J \\\\ R +',\n",
              " '$ Z ! z s 3 U \\\\ A ? 6 V [ K p 2 & u U ^ < Y 7 4 + $ s   H S R O ` % D J Z F ] . { / C s f w C Q |']"
            ]
          },
          "metadata": {},
          "execution_count": 37
        }
      ]
    },
    {
      "cell_type": "code",
      "execution_count": 38,
      "metadata": {
        "colab": {
          "base_uri": "https://localhost:8080/"
        },
        "id": "FjdXFZeEBMBE",
        "outputId": "9241962e-f003-44bd-d9f3-0da563da8787"
      },
      "outputs": [
        {
          "output_type": "execute_result",
          "data": {
            "text/plain": [
              "array([33, 27, 46, 48, 39,  9, 89, 81, 39,  2, 48, 52, 20, 73, 49, 38, 30,\n",
              "        2, 69, 20, 93,  3, 62, 57,  9, 20, 39,  6, 13, 86, 46, 42, 81,  7,\n",
              "        2, 63, 26, 35, 65, 65, 25, 39, 89, 64, 29, 53, 75, 21, 10])"
            ]
          },
          "metadata": {},
          "execution_count": 38
        }
      ],
      "source": [
        "sampled_indices"
      ]
    },
    {
      "cell_type": "code",
      "execution_count": 39,
      "metadata": {
        "colab": {
          "base_uri": "https://localhost:8080/"
        },
        "id": "XnG1mnYvB0qr",
        "outputId": "56603bc0-d3b1-40ab-c3e3-338695a30a1d"
      },
      "outputs": [
        {
          "output_type": "execute_result",
          "data": {
            "text/plain": [
              "array([11, 15,  7, 30,  1, 13, 16,  0,  0,  0,  0,  0,  0,  0,  0,  0,  0,\n",
              "        0,  0,  0,  0,  0,  0,  0,  0,  0,  0,  0,  0,  0,  0,  0,  0,  0,\n",
              "        0,  0,  0,  0,  0,  0,  0,  0,  0,  0,  0,  0,  0,  0,  0],\n",
              "      dtype=int32)"
            ]
          },
          "metadata": {},
          "execution_count": 39
        }
      ],
      "source": [
        "input_example_batch[0].numpy()"
      ]
    },
    {
      "cell_type": "code",
      "execution_count": 40,
      "metadata": {
        "colab": {
          "base_uri": "https://localhost:8080/"
        },
        "id": "7codmZvjBN7w",
        "outputId": "ec0f3357-e20f-4eeb-c737-3279ea18578c"
      },
      "outputs": [
        {
          "output_type": "stream",
          "name": "stdout",
          "text": [
            "Input: ['stoja34']\n",
            "next char prediction : [\"wkTDLr^'LeDH7\\\\_Ije/7{1@-r7L23~TN'oebAVVuL^FpY&cl\"]\n"
          ]
        }
      ],
      "source": [
        "print(f\"Input: {[''.join(i.split()) for i in tokenizer.sequences_to_texts([input_example_batch[0].numpy()]) ]}\")\n",
        "print(f\"next char prediction : {[''.join(i.split()) for i in tokenizer.sequences_to_texts([sampled_indices]) ]}\")"
      ]
    },
    {
      "cell_type": "markdown",
      "metadata": {
        "id": "aBALEftdC0bn"
      },
      "source": [
        "# Train Model"
      ]
    },
    {
      "cell_type": "code",
      "execution_count": 41,
      "metadata": {
        "id": "LbTRPLyqBTjk"
      },
      "outputs": [],
      "source": [
        "loss = tf.losses.SparseCategoricalCrossentropy(from_logits=True)"
      ]
    },
    {
      "cell_type": "code",
      "execution_count": 42,
      "metadata": {
        "colab": {
          "base_uri": "https://localhost:8080/"
        },
        "id": "da_L1HVxC9Lj",
        "outputId": "3bcdfa96-81b5-4027-8e7f-42dfe6daa06b"
      },
      "outputs": [
        {
          "output_type": "stream",
          "name": "stdout",
          "text": [
            "Prediction shape:  (64, 49, 96)  # (batch_size, sequence_length, vocab_size)\n",
            "Mean loss:         tf.Tensor(4.562839, shape=(), dtype=float32)\n"
          ]
        }
      ],
      "source": [
        "example_batch_mean_loss = loss(target_example_batch, example_batch_predictions)\n",
        "print(\"Prediction shape: \", example_batch_predictions.shape, \" # (batch_size, sequence_length, vocab_size)\")\n",
        "print(\"Mean loss:        \", example_batch_mean_loss)"
      ]
    },
    {
      "cell_type": "code",
      "execution_count": 43,
      "metadata": {
        "colab": {
          "base_uri": "https://localhost:8080/"
        },
        "id": "gFbMFwEmDA9D",
        "outputId": "911af955-96c0-4bfc-a1fa-76bffba316ef"
      },
      "outputs": [
        {
          "output_type": "execute_result",
          "data": {
            "text/plain": [
              "95.855225"
            ]
          },
          "metadata": {},
          "execution_count": 43
        }
      ],
      "source": [
        "tf.exp(example_batch_mean_loss).numpy()"
      ]
    },
    {
      "cell_type": "code",
      "source": [
        "input_example_batch.numpy()"
      ],
      "metadata": {
        "colab": {
          "base_uri": "https://localhost:8080/"
        },
        "id": "_KS8fgGLRLcn",
        "outputId": "160a9384-4e77-4f97-b727-78435b45704f"
      },
      "execution_count": 44,
      "outputs": [
        {
          "output_type": "execute_result",
          "data": {
            "text/plain": [
              "array([[11, 15,  7, ...,  0,  0,  0],\n",
              "       [11,  2, 26, ...,  0,  0,  0],\n",
              "       [13, 19, 16, ...,  0,  0,  0],\n",
              "       ...,\n",
              "       [21, 22, 18, ...,  0,  0,  0],\n",
              "       [21,  1,  9, ...,  0,  0,  0],\n",
              "       [ 2, 22, 33, ...,  0,  0,  0]], dtype=int32)"
            ]
          },
          "metadata": {},
          "execution_count": 44
        }
      ]
    },
    {
      "cell_type": "code",
      "source": [
        "tokenizer.sequences_to_texts(input_example_batch.numpy())"
      ],
      "metadata": {
        "colab": {
          "base_uri": "https://localhost:8080/"
        },
        "id": "CMMPSVNyRFSZ",
        "outputId": "9a4a74ec-ab55-4404-d29f-23ec33bdb520"
      },
      "execution_count": 45,
      "outputs": [
        {
          "output_type": "execute_result",
          "data": {
            "text/plain": [
              "['s t o j a 3 4',\n",
              " 's e b b y t w',\n",
              " '3 6 4 5 7',\n",
              " '0 8 5 7 9 3 2 7 0',\n",
              " 'r e b e c a 1 1',\n",
              " 'k o r o m o t o 2',\n",
              " 'm a y e s k i e',\n",
              " '6 6 o l 7 5 i v',\n",
              " 'd i m e s t o r',\n",
              " 's y a z a t t',\n",
              " 'c l o 2 1 2',\n",
              " 'i n t e n s e',\n",
              " 'h a s a n s a p u t r',\n",
              " '0 6 7 2 1 8',\n",
              " 's c h a e r r e',\n",
              " 'e d i v e',\n",
              " 'M O N E L L',\n",
              " '7 7 1 3 5 5',\n",
              " '1 l a m o n t',\n",
              " 's t a l l 8',\n",
              " '8 6 0 9 2 2 3 5',\n",
              " '4 6 2 9 1 3 4',\n",
              " 'r h o i 9',\n",
              " '0 9 2 8 7 6 6 2 4 2',\n",
              " '7 4 6 4 7 7',\n",
              " 'k a t e r a t 1 9 8',\n",
              " 's h i e l a 5 2 5',\n",
              " 't o t y t o r o t',\n",
              " 'e l l l',\n",
              " 's i n g e r z',\n",
              " '1 8 0 3 8 5 7',\n",
              " 'a l i s s i m',\n",
              " 'r o r i e s m i t',\n",
              " 'l a l o c r i p 5',\n",
              " 'd i n g o b a l l',\n",
              " 'e j l 1 0 0',\n",
              " 's h u s h i n a l a',\n",
              " '2 n e r o c o d',\n",
              " 'k e i s h a',\n",
              " 'c o z m o 9',\n",
              " '@ 2 n 3 @ 1 f 1 i 1 l 9 i 9 p',\n",
              " '3 9 1 0 4',\n",
              " 'e l o n e',\n",
              " 'p i o s i t',\n",
              " 'd o n a t o',\n",
              " 'b j s j r s j r s 2',\n",
              " 'b d a y 5 8 9 1 7',\n",
              " 'c h a r m _ b r a t',\n",
              " 's a r a h m i c h e l l',\n",
              " '1 6 0 1 1 9 9',\n",
              " '4 5 4 4 1 6 2',\n",
              " 'n u t t a n o n v c 8',\n",
              " '9 2 1 9 9 4 l o v e g r e e',\n",
              " '7 8 6 6 0 0',\n",
              " '0 9 3 4 1 4 4 1 0',\n",
              " 'l o d i 7',\n",
              " 'f l i r t f a c t o',\n",
              " 'L 2 2 9 2',\n",
              " 'k a n e 1 3 d',\n",
              " 'k a d u 1 4 8',\n",
              " 's a c h a 1',\n",
              " 'c d m k i c k',\n",
              " 'c a r l s b a',\n",
              " 'e d w i n l i l']"
            ]
          },
          "metadata": {},
          "execution_count": 45
        }
      ]
    },
    {
      "cell_type": "code",
      "source": [
        "def bleu_score(y_true, y_pred):\n",
        "  true_seq = tokenizer.sequences_to_texts(y_true.numpy())\n",
        "  reference = [true_seq]\n",
        "  preds = [tf.squeeze(tf.random.categorical(pred, num_samples=1), axis=-1).numpy() for pred in y_pred]\n",
        "  candidate = tokenizer.sequences_to_texts(preds)\n",
        "  #print(reference)\n",
        "  #print(candidate)\n",
        "  return sentence_bleu(reference, candidate)"
      ],
      "metadata": {
        "id": "rrAPoMBNMSLt"
      },
      "execution_count": 46,
      "outputs": []
    },
    {
      "cell_type": "code",
      "source": [
        "bleu_score(input_example_batch, example_batch_predictions)"
      ],
      "metadata": {
        "colab": {
          "base_uri": "https://localhost:8080/"
        },
        "id": "RqLk3Mf7N_I_",
        "outputId": "06592f61-5524-4863-da06-86116cdac6ae"
      },
      "execution_count": 47,
      "outputs": [
        {
          "output_type": "execute_result",
          "data": {
            "text/plain": [
              "0"
            ]
          },
          "metadata": {},
          "execution_count": 47
        }
      ]
    },
    {
      "cell_type": "code",
      "execution_count": 48,
      "metadata": {
        "id": "96AjYUtXDE_z"
      },
      "outputs": [],
      "source": [
        "model.compile(optimizer='adam', loss=loss, metrics=bleu_score,run_eagerly=True)"
      ]
    },
    {
      "cell_type": "markdown",
      "metadata": {
        "id": "ONpAEo_pDJCI"
      },
      "source": [
        "# Configure Checkpoints"
      ]
    },
    {
      "cell_type": "code",
      "execution_count": 49,
      "metadata": {
        "id": "OeFYT7f0DHLB"
      },
      "outputs": [],
      "source": [
        "# Directory where the checkpoints will be saved\n",
        "checkpoint_dir = './training_checkpoints'\n",
        "# Name of the checkpoint files\n",
        "checkpoint_prefix = os.path.join(checkpoint_dir, \"ckpt_{epoch}\")\n",
        "\n",
        "earlystopping_cb = tf.keras.callbacks.EarlyStopping(\n",
        "    monitor = 'val_bleu_score',\n",
        "    mode = 'max',\n",
        "    verbose = 1,\n",
        "    patience = 3,\n",
        "    restore_best_weights = True\n",
        ")\n",
        "\n",
        "checkpoint_callback = tf.keras.callbacks.ModelCheckpoint(\n",
        "    filepath=checkpoint_prefix,\n",
        "    monitor = 'val_bleu_score',\n",
        "    mode = 'max',\n",
        "    save_best_only=True,\n",
        "    verbose = 1,\n",
        "    save_weights_only=True)"
      ]
    },
    {
      "cell_type": "code",
      "execution_count": null,
      "metadata": {
        "colab": {
          "base_uri": "https://localhost:8080/"
        },
        "id": "G7bzPMbMDO6i",
        "outputId": "21288821-ad7c-4566-fd21-1c6d471691dc"
      },
      "outputs": [
        {
          "output_type": "stream",
          "name": "stdout",
          "text": [
            "Epoch 1/15\n",
            "  3178/179110 [..............................] - ETA: 4:10:33 - loss: 0.4605 - bleu_score: 1.1125e-04"
          ]
        },
        {
          "output_type": "stream",
          "name": "stderr",
          "text": [
            "/usr/local/lib/python3.7/dist-packages/tensorflow/python/autograph/impl/api.py:371: UserWarning: \n",
            "Corpus/Sentence contains 0 counts of 2-gram overlaps.\n",
            "BLEU scores might be undesirable; use SmoothingFunction().\n",
            "  return py_builtins.overload_of(f)(*args)\n"
          ]
        },
        {
          "output_type": "stream",
          "name": "stdout",
          "text": [
            "179110/179110 [==============================] - ETA: 0s - loss: 0.3931 - bleu_score: 2.2700e-04\n",
            "Epoch 1: val_bleu_score improved from -inf to 0.00027, saving model to ./training_checkpoints/ckpt_1\n",
            "179110/179110 [==============================] - 17868s 100ms/step - loss: 0.3931 - bleu_score: 2.2700e-04 - val_loss: 0.3867 - val_bleu_score: 2.6846e-04\n",
            "Epoch 2/15\n",
            "179110/179110 [==============================] - ETA: 0s - loss: 0.3882 - bleu_score: 2.6056e-04\n",
            "Epoch 2: val_bleu_score did not improve from 0.00027\n",
            "179110/179110 [==============================] - 18140s 101ms/step - loss: 0.3882 - bleu_score: 2.6056e-04 - val_loss: 0.3982 - val_bleu_score: 2.5267e-04\n",
            "Epoch 3/15\n",
            "179110/179110 [==============================] - ETA: 0s - loss: 0.3864 - bleu_score: 2.7635e-04\n",
            "Epoch 3: val_bleu_score did not improve from 0.00027\n",
            "179110/179110 [==============================] - 17747s 99ms/step - loss: 0.3864 - bleu_score: 2.7635e-04 - val_loss: 0.4068 - val_bleu_score: 2.6056e-04\n",
            "Epoch 4/15\n",
            " 34809/179110 [====>.........................] - ETA: 3:16:24 - loss: 0.3984 - bleu_score: 1.8283e-04"
          ]
        }
      ],
      "source": [
        "EPOCHS = 15\n",
        "\n",
        "history = model.fit(train_dataset, \n",
        "                    validation_data=val_dataset, \n",
        "                    epochs=EPOCHS, \n",
        "                    callbacks=[checkpoint_callback, earlystopping_cb])"
      ]
    },
    {
      "cell_type": "markdown",
      "source": [
        "# Inference"
      ],
      "metadata": {
        "id": "LATLVobwGxLm"
      }
    },
    {
      "cell_type": "code",
      "execution_count": null,
      "metadata": {
        "id": "V0Qx47m_DrER"
      },
      "outputs": [],
      "source": [
        "class OneStep(tf.keras.Model):\n",
        "  def __init__(self, model, tokenizer, temperature=1.0):\n",
        "    super().__init__()\n",
        "    self.temperature = temperature\n",
        "    self.model = model\n",
        "    self.tokenizer = tokenizer\n",
        "\n",
        "  #@tf.function\n",
        "  def generate_one_step(self, input_chars, states=None):\n",
        "    #import pdb; pdb.set_trace()\n",
        "    # Convert strings to token IDs.\n",
        "    # input_chars = tf.strings.unicode_split(inputs, 'UTF-8')\n",
        "    input_ids = self.tokenizer.texts_to_sequences(input_chars)\n",
        "    input_ids = tf.keras.preprocessing.sequence.pad_sequences(input_ids, padding='post')\n",
        "\n",
        "    # Run the model.\n",
        "    # predicted_logits.shape is [batch, char, next_char_logits]\n",
        "    predicted_logits, states = self.model(inputs=input_ids, states=states,\n",
        "                                          return_state=True)\n",
        "    # Only use the last prediction.\n",
        "    predicted_logits = predicted_logits[:, -1, :]\n",
        "    predicted_logits = predicted_logits/self.temperature\n",
        "\n",
        "    # Sample the output logits to generate token IDs.\n",
        "    predicted_ids = tf.random.categorical(predicted_logits, num_samples=1)\n",
        "    predicted_ids = tf.squeeze(predicted_ids, axis=-1)\n",
        "\n",
        "    # Convert from token ids to characters\n",
        "    predicted_chars = self.tokenizer.sequences_to_texts([predicted_ids.numpy()])\n",
        "\n",
        "    # Return the characters and model state.\n",
        "    return predicted_chars, states"
      ]
    },
    {
      "cell_type": "code",
      "source": [
        "one_step_model = OneStep(model, tokenizer)"
      ],
      "metadata": {
        "id": "LKowDQATBC7K"
      },
      "execution_count": null,
      "outputs": []
    },
    {
      "cell_type": "code",
      "source": [
        "start = time.time()\n",
        "states = None\n",
        "next_char = ['w']\n",
        "result = [next_char]\n",
        "\n",
        "for n in range(2):\n",
        "  next_char, states = one_step_model.generate_one_step(next_char, states=states)\n",
        "  result.append(next_char)\n",
        "\n",
        "result = tf.strings.join(result)\n",
        "end = time.time()\n",
        "print(result[0].numpy().decode('utf-8'), '\\n\\n' + '_'*80)\n",
        "print('\\nRun time:', end - start)"
      ],
      "metadata": {
        "id": "8HFmNMULBFiT"
      },
      "execution_count": null,
      "outputs": []
    },
    {
      "cell_type": "code",
      "source": [
        "reference = [['pass']]\n",
        "candidate = ['dass']\n",
        "score = sentence_bleu(reference, candidate)\n",
        "print(score)"
      ],
      "metadata": {
        "id": "_Xl7AP_WF4bt"
      },
      "execution_count": null,
      "outputs": []
    },
    {
      "cell_type": "markdown",
      "source": [
        "# Attempts calculation"
      ],
      "metadata": {
        "id": "kO3QyjGccp6v"
      }
    },
    {
      "cell_type": "code",
      "source": [
        "def find_attempts(given_pwd):\n",
        "  pass_len = len(given_pwd)\n",
        "  attempts = 1\n",
        "  # iterate through each starting letter. \n",
        "  for l in tokenizer.word_index.keys():\n",
        "    next_char = [l]\n",
        "    result = [next_char]\n",
        "\n",
        "    for n in range(pass_len-1):\n",
        "      next_char, states = one_step_model.generate_one_step(next_char, states=states)\n",
        "      result.append(next_char)\n",
        "    \n",
        "    result = tf.strings.join(result)\n",
        "    pred = result[0].numpy().decode('utf-8')\n",
        "    if pred == given_pwd:\n",
        "      print(f\"Model predicted password in {attempts}\")\n",
        "    else:\n",
        "      attempts += 1"
      ],
      "metadata": {
        "id": "c0NBDNfEczdb"
      },
      "execution_count": null,
      "outputs": []
    },
    {
      "cell_type": "code",
      "source": [
        "find_attempts('war')"
      ],
      "metadata": {
        "id": "nKROvvHALrwh"
      },
      "execution_count": null,
      "outputs": []
    }
  ],
  "metadata": {
    "accelerator": "GPU",
    "colab": {
      "background_execution": "on",
      "collapsed_sections": [],
      "machine_shape": "hm",
      "name": "train.ipynb",
      "provenance": [],
      "mount_file_id": "1pIF9C4bW_WnKnuibA8j8in6IlDc1saUB",
      "authorship_tag": "ABX9TyP8ZzO8ivjW1vjt0XbACbK6",
      "include_colab_link": true
    },
    "kernelspec": {
      "display_name": "Python 3",
      "name": "python3"
    },
    "language_info": {
      "name": "python"
    }
  },
  "nbformat": 4,
  "nbformat_minor": 0
}