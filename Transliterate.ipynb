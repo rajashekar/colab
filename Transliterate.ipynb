{
  "nbformat": 4,
  "nbformat_minor": 0,
  "metadata": {
    "colab": {
      "name": "Transliterate.ipynb",
      "provenance": [],
      "collapsed_sections": [],
      "mount_file_id": "1_q8crfGiwATUuf39mfAhqv8VxhKi4bC-",
      "authorship_tag": "ABX9TyMY30RKwcX3Cuh6M0pC2Vx1",
      "include_colab_link": true
    },
    "kernelspec": {
      "name": "python3",
      "display_name": "Python 3"
    },
    "language_info": {
      "name": "python"
    }
  },
  "cells": [
    {
      "cell_type": "markdown",
      "metadata": {
        "id": "view-in-github",
        "colab_type": "text"
      },
      "source": [
        "<a href=\"https://colab.research.google.com/github/rajashekar/colab/blob/main/Transliterate.ipynb\" target=\"_parent\"><img src=\"https://colab.research.google.com/assets/colab-badge.svg\" alt=\"Open In Colab\"/></a>"
      ]
    },
    {
      "cell_type": "code",
      "metadata": {
        "id": "1T6_tQRr5LsU"
      },
      "source": [
        "import pandas as pd\n",
        "import numpy as np"
      ],
      "execution_count": 1,
      "outputs": []
    },
    {
      "cell_type": "code",
      "metadata": {
        "colab": {
          "base_uri": "https://localhost:8080/"
        },
        "id": "Cy-GTRyQdjjj",
        "outputId": "7731cb42-ea5b-40ed-fb1c-f58936a5047b"
      },
      "source": [
        "%cd /content/drive/MyDrive/Colab/Transliterate/"
      ],
      "execution_count": 3,
      "outputs": [
        {
          "output_type": "stream",
          "name": "stdout",
          "text": [
            "/content/drive/MyDrive/Colab/Transliterate\n"
          ]
        }
      ]
    },
    {
      "cell_type": "code",
      "metadata": {
        "colab": {
          "base_uri": "https://localhost:8080/"
        },
        "id": "9SQgkSs5drK0",
        "outputId": "061d0197-ae4b-4d23-ba50-ac49cd9c6be6"
      },
      "source": [
        "%ls"
      ],
      "execution_count": 4,
      "outputs": [
        {
          "output_type": "stream",
          "name": "stdout",
          "text": [
            "players_with_hindi_names.json\n"
          ]
        }
      ]
    },
    {
      "cell_type": "code",
      "metadata": {
        "id": "QIlUaSeP54a0"
      },
      "source": [
        "df = pd.read_json('players_with_hindi_names.json')"
      ],
      "execution_count": 5,
      "outputs": []
    },
    {
      "cell_type": "code",
      "metadata": {
        "colab": {
          "base_uri": "https://localhost:8080/",
          "height": 204
        },
        "id": "-8AW_DdX5934",
        "outputId": "8f079cae-7b1f-4447-d8c0-0d116b50251a"
      },
      "source": [
        "df.head()"
      ],
      "execution_count": 6,
      "outputs": [
        {
          "output_type": "execute_result",
          "data": {
            "text/html": [
              "<div>\n",
              "<style scoped>\n",
              "    .dataframe tbody tr th:only-of-type {\n",
              "        vertical-align: middle;\n",
              "    }\n",
              "\n",
              "    .dataframe tbody tr th {\n",
              "        vertical-align: top;\n",
              "    }\n",
              "\n",
              "    .dataframe thead th {\n",
              "        text-align: right;\n",
              "    }\n",
              "</style>\n",
              "<table border=\"1\" class=\"dataframe\">\n",
              "  <thead>\n",
              "    <tr style=\"text-align: right;\">\n",
              "      <th></th>\n",
              "      <th>id</th>\n",
              "      <th>hindi_name</th>\n",
              "      <th>hindi_long_name</th>\n",
              "      <th>english_name</th>\n",
              "      <th>gender</th>\n",
              "      <th>date_of_birth</th>\n",
              "      <th>country_id</th>\n",
              "      <th>slug</th>\n",
              "    </tr>\n",
              "  </thead>\n",
              "  <tbody>\n",
              "    <tr>\n",
              "      <th>0</th>\n",
              "      <td>90143</td>\n",
              "      <td>आर गुरबाज़</td>\n",
              "      <td>रहमानउल्लाह गुरबाज़</td>\n",
              "      <td>Rahmanullah Gurbaz</td>\n",
              "      <td>M</td>\n",
              "      <td>{'year': 2001, 'month': 11, 'date': 28}</td>\n",
              "      <td>40</td>\n",
              "      <td>rahmanullah-gurbaz</td>\n",
              "    </tr>\n",
              "    <tr>\n",
              "      <th>1</th>\n",
              "      <td>54018</td>\n",
              "      <td>एम रिज़वान</td>\n",
              "      <td>मोहम्मद रिज़वान</td>\n",
              "      <td>Mohammad Rizwan</td>\n",
              "      <td>M</td>\n",
              "      <td>{'year': 1992, 'month': 6, 'date': 1}</td>\n",
              "      <td>7</td>\n",
              "      <td>mohammad-rizwan</td>\n",
              "    </tr>\n",
              "    <tr>\n",
              "      <th>2</th>\n",
              "      <td>47686</td>\n",
              "      <td>एस मक़सूद</td>\n",
              "      <td>सोहेब मक़सूद</td>\n",
              "      <td>Sohaib Maqsood</td>\n",
              "      <td>M</td>\n",
              "      <td>{'year': 1987, 'month': 4, 'date': 15}</td>\n",
              "      <td>7</td>\n",
              "      <td>sohaib-maqsood</td>\n",
              "    </tr>\n",
              "    <tr>\n",
              "      <th>3</th>\n",
              "      <td>53649</td>\n",
              "      <td>आर आर रुसो</td>\n",
              "      <td>राइली रुसो</td>\n",
              "      <td>Rossouw, RR</td>\n",
              "      <td>M</td>\n",
              "      <td>{'year': 1989, 'month': 10, 'date': 9}</td>\n",
              "      <td>3</td>\n",
              "      <td>rilee-rossouw</td>\n",
              "    </tr>\n",
              "    <tr>\n",
              "      <th>4</th>\n",
              "      <td>72393</td>\n",
              "      <td>एस हेटमायर</td>\n",
              "      <td>शिमरॉन हेटमायर</td>\n",
              "      <td>Hetmyer, SO</td>\n",
              "      <td>M</td>\n",
              "      <td>{'year': 1996, 'month': 12, 'date': 26}</td>\n",
              "      <td>4</td>\n",
              "      <td>shimron-hetmyer</td>\n",
              "    </tr>\n",
              "  </tbody>\n",
              "</table>\n",
              "</div>"
            ],
            "text/plain": [
              "      id  hindi_name  ... country_id                slug\n",
              "0  90143  आर गुरबाज़  ...         40  rahmanullah-gurbaz\n",
              "1  54018  एम रिज़वान  ...          7     mohammad-rizwan\n",
              "2  47686   एस मक़सूद  ...          7      sohaib-maqsood\n",
              "3  53649  आर आर रुसो  ...          3       rilee-rossouw\n",
              "4  72393  एस हेटमायर  ...          4     shimron-hetmyer\n",
              "\n",
              "[5 rows x 8 columns]"
            ]
          },
          "metadata": {},
          "execution_count": 6
        }
      ]
    },
    {
      "cell_type": "code",
      "metadata": {
        "id": "AahQxw3J5_ax"
      },
      "source": [
        "input_list =  df['hindi_long_name'].tolist()\n",
        "target_list =  df['english_name'].tolist()"
      ],
      "execution_count": 7,
      "outputs": []
    },
    {
      "cell_type": "code",
      "metadata": {
        "colab": {
          "base_uri": "https://localhost:8080/"
        },
        "id": "lpsCJ3kv7LkA",
        "outputId": "af4844ee-78bf-4f9d-c78f-3cec69080135"
      },
      "source": [
        "print(input_list[0])\n",
        "print(target_list[0])"
      ],
      "execution_count": 8,
      "outputs": [
        {
          "output_type": "stream",
          "name": "stdout",
          "text": [
            "रहमानउल्लाह गुरबाज़\n",
            "Rahmanullah Gurbaz\n"
          ]
        }
      ]
    },
    {
      "cell_type": "code",
      "metadata": {
        "id": "68ILrxiUDkIo"
      },
      "source": [
        "def isEnglish(s):\n",
        "  try:\n",
        "      s.encode(encoding='utf-8').decode('ascii')\n",
        "  except UnicodeDecodeError:\n",
        "      return False\n",
        "  else:\n",
        "      return True\n",
        "\n",
        "\n",
        "# Build Vocabulary\n",
        "input_vocab = set()\n",
        "target_vocab = set()\n",
        "for input_word, target_word in zip(input_list, target_list):\n",
        "  # there are some target words in hindi\n",
        "  if isEnglish(target_word): \n",
        "    # there are 3 ways names are given\n",
        "    # 1. Firstname lastname  Ex ('रहमानउल्लाह गुरबाज़', 'Rahmanullah Gurbaz')\n",
        "    # 2. Lastname, Firstname Initials  Ex ('राइली रुसो', 'Rossouw, RR')\n",
        "    # 3. Lastname. Firstname Initials  Ex ('राइली रुसो', 'Rossouw.RR')\n",
        "    # if comma exists then discard initials\n",
        "    if \",\" in target_word or \".\" in target_word:\n",
        "      hln = input_word.split()[1]\n",
        "      if \",\" in target_word:\n",
        "        eln = target_word.lower().split(',')[0]\n",
        "      else:\n",
        "        eln = target_word.lower().split('.')[0]\n",
        "      input_vocab.update(set(hln))\n",
        "      target_vocab.update(set(eln))\n",
        "    else:\n",
        "      input_names = input_word.split()\n",
        "      target_names = target_word.split()\n",
        "      # For example - 'लिटन कुमार दास' != Liton Das, remove middle name\n",
        "      if len(input_names) > len(target_names):\n",
        "        del input_names[1] # delete middle name\n",
        "      for idx in range(len(input_names)):\n",
        "        hn = input_names[idx]\n",
        "        en = target_names[idx].lower()\n",
        "        input_vocab.update(set(hn))\n",
        "        target_vocab.update(set(en))"
      ],
      "execution_count": 79,
      "outputs": []
    },
    {
      "cell_type": "code",
      "metadata": {
        "colab": {
          "base_uri": "https://localhost:8080/"
        },
        "id": "6VEOi0llNseK",
        "outputId": "3ab7696a-2f75-448e-a973-b4239317d481"
      },
      "source": [
        "print(f\"Total hindi characters {len(input_vocab)}\")\n",
        "print(f\"Total english characters {len(target_vocab)}\")"
      ],
      "execution_count": 80,
      "outputs": [
        {
          "output_type": "stream",
          "name": "stdout",
          "text": [
            "Total hindi characters 53\n",
            "Total english characters 29\n"
          ]
        }
      ]
    },
    {
      "cell_type": "code",
      "metadata": {
        "id": "ztVnKKGsYlFK"
      },
      "source": [
        "input_vocab = sorted(list(input_vocab))\n",
        "target_vocab = sorted(list(target_vocab))"
      ],
      "execution_count": 81,
      "outputs": []
    },
    {
      "cell_type": "code",
      "metadata": {
        "id": "fbJSDwkvXvQp"
      },
      "source": [
        "input_token_index = dict([(char, i) for i, char in enumerate(input_vocab)])\n",
        "target_token_index = dict([(char, i) for i, char in enumerate(target_vocab)])"
      ],
      "execution_count": 82,
      "outputs": []
    },
    {
      "cell_type": "code",
      "metadata": {
        "id": "-dxT9ms4YG1y"
      },
      "source": [
        "num_encoder_tokens = len(input_vocab)\n",
        "num_decoder_tokens = len(target_vocab)"
      ],
      "execution_count": 83,
      "outputs": []
    },
    {
      "cell_type": "code",
      "metadata": {
        "id": "DZguL8LRY8Bl"
      },
      "source": [
        "max_encoder_seq_length = max([len(txt) for txt in input_list])\n",
        "max_decoder_seq_length = max([len(txt) for txt in target_list])"
      ],
      "execution_count": 84,
      "outputs": []
    },
    {
      "cell_type": "code",
      "metadata": {
        "colab": {
          "base_uri": "https://localhost:8080/"
        },
        "id": "HZLsjCHrZGuP",
        "outputId": "fc6c3c6a-da41-4cca-eeb5-7c12ade414a8"
      },
      "source": [
        "print('Number of samples:', len(input_list))\n",
        "print('Number of unique input tokens:', num_encoder_tokens)\n",
        "print('Number of unique output tokens:', num_decoder_tokens)\n",
        "print('Max sequence length for inputs:', max_encoder_seq_length)\n",
        "print('Max sequence length for outputs:', max_decoder_seq_length)"
      ],
      "execution_count": 85,
      "outputs": [
        {
          "output_type": "stream",
          "name": "stdout",
          "text": [
            "Number of samples: 2512\n",
            "Number of unique input tokens: 53\n",
            "Number of unique output tokens: 29\n",
            "Max sequence length for inputs: 20\n",
            "Max sequence length for outputs: 26\n"
          ]
        }
      ]
    },
    {
      "cell_type": "code",
      "metadata": {
        "id": "nbXBdUGOZO3_"
      },
      "source": [
        "encoder_input_data = np.zeros((len(input_list), max_encoder_seq_length, num_encoder_tokens), dtype='float32')\n",
        "decoder_input_data = np.zeros((len(input_list), max_decoder_seq_length, num_decoder_tokens), dtype='float32')\n",
        "decoder_target_data = np.zeros( (len(input_list), max_decoder_seq_length, num_decoder_tokens), dtype='float32')"
      ],
      "execution_count": 86,
      "outputs": []
    },
    {
      "cell_type": "code",
      "metadata": {
        "colab": {
          "base_uri": "https://localhost:8080/"
        },
        "id": "HO9DgOJOZgpe",
        "outputId": "8aebf50c-db6b-4697-8021-6b8d6818d98d"
      },
      "source": [
        "print(f\"encoder input shape {encoder_input_data.shape}\")\n",
        "print(f\"decoder input shape {decoder_input_data.shape}\")\n",
        "print(f\"decoder target shape {decoder_target_data.shape}\")"
      ],
      "execution_count": 87,
      "outputs": [
        {
          "output_type": "stream",
          "name": "stdout",
          "text": [
            "encoder input shape (2512, 20, 53)\n",
            "decoder input shape (2512, 26, 29)\n",
            "decoder target shape (2512, 26, 29)\n"
          ]
        }
      ]
    },
    {
      "cell_type": "code",
      "metadata": {
        "id": "9KGNey6fZ05q"
      },
      "source": [
        "def populate_data(i, input_text, target_text):\n",
        "  for t, char in enumerate(input_text):\n",
        "      encoder_input_data[i, t, input_token_index[char]] = 1.\n",
        "  for t, char in enumerate(target_text):\n",
        "      # decoder_target_data is ahead of decoder_input_data by one timestep\n",
        "      decoder_input_data[i, t, target_token_index[char]] = 1.\n",
        "      if t > 0:\n",
        "          # decoder_target_data will be ahead by one timestep\n",
        "          # and will not include the start character.\n",
        "          decoder_target_data[i, t - 1, target_token_index[char]] = 1.\n",
        "\n",
        "for i, (input_text, target_text) in enumerate(zip(input_list, target_list)):\n",
        "  if isEnglish(target_text): \n",
        "    if \",\" in target_text or \".\" in target_text:\n",
        "      hln = input_word.split()[1]\n",
        "      if \",\" in target_word:\n",
        "        eln = target_word.lower().split(',')[0]\n",
        "      else:\n",
        "        eln = target_word.lower().split('.')[0]\n",
        "      populate_data(i, hln, eln)\n",
        "    else:\n",
        "      input_names = input_word.split()\n",
        "      target_names = target_word.split()\n",
        "      # For example - 'लिटन कुमार दास' != Liton Das, remove middle name\n",
        "      if len(input_names) > len(target_names):\n",
        "        del input_names[1] # delete middle name\n",
        "      for idx in range(len(input_names)):\n",
        "        hn = input_names[idx]\n",
        "        en = target_names[idx].lower()\n",
        "        populate_data(i, hn, en)"
      ],
      "execution_count": 88,
      "outputs": []
    },
    {
      "cell_type": "code",
      "metadata": {
        "id": "0F1B0ezJcehK"
      },
      "source": [
        "from keras.models import Model\n",
        "from keras.layers import Input, LSTM, Dense\n",
        "\n",
        "# Define an input sequence and process it.\n",
        "encoder_inputs = Input(shape=(None, num_encoder_tokens))"
      ],
      "execution_count": 89,
      "outputs": []
    },
    {
      "cell_type": "code",
      "metadata": {
        "id": "kRpc5udld4P4"
      },
      "source": [
        "latent_dim = 256  # Latent dimensionality of the encoding space.\n",
        "\n",
        "encoder = LSTM(latent_dim, return_state=True)"
      ],
      "execution_count": 90,
      "outputs": []
    },
    {
      "cell_type": "code",
      "metadata": {
        "id": "zJm8IKbDeIDv"
      },
      "source": [
        "encoder_outputs, state_h, state_c = encoder(encoder_inputs)"
      ],
      "execution_count": 91,
      "outputs": []
    },
    {
      "cell_type": "code",
      "metadata": {
        "id": "5HwwbMh4ePUh"
      },
      "source": [
        "# We discard `encoder_outputs` and only keep the states.\n",
        "encoder_states = [state_h, state_c]"
      ],
      "execution_count": 92,
      "outputs": []
    },
    {
      "cell_type": "code",
      "metadata": {
        "id": "lU1nJGWEeSRT"
      },
      "source": [
        "# Set up the decoder, using `encoder_states` as initial state.\n",
        "decoder_inputs = Input(shape=(None, num_decoder_tokens))"
      ],
      "execution_count": 93,
      "outputs": []
    },
    {
      "cell_type": "code",
      "metadata": {
        "id": "D4g-jGmUeeL4"
      },
      "source": [
        "# We set up our decoder to return full output sequences,\n",
        "# and to return internal states as well. We don't use the\n",
        "# return states in the training model, but we will use them in inference.\n",
        "decoder_lstm = LSTM(latent_dim, return_sequences=True, return_state=True)"
      ],
      "execution_count": 94,
      "outputs": []
    },
    {
      "cell_type": "code",
      "metadata": {
        "id": "c1ux5gG5eliP"
      },
      "source": [
        "decoder_outputs, _, _ = decoder_lstm(decoder_inputs, initial_state=encoder_states)"
      ],
      "execution_count": 95,
      "outputs": []
    },
    {
      "cell_type": "code",
      "metadata": {
        "id": "vzWkB8OCeqLg"
      },
      "source": [
        "decoder_dense = Dense(num_decoder_tokens, activation='softmax')\n",
        "decoder_outputs = decoder_dense(decoder_outputs)"
      ],
      "execution_count": 96,
      "outputs": []
    },
    {
      "cell_type": "code",
      "metadata": {
        "id": "voLTGIiBeyKO"
      },
      "source": [
        "# Define the model that will turn\n",
        "# `encoder_input_data` & `decoder_input_data` into `decoder_target_data`\n",
        "model = Model([encoder_inputs, decoder_inputs], decoder_outputs)"
      ],
      "execution_count": 97,
      "outputs": []
    },
    {
      "cell_type": "code",
      "metadata": {
        "colab": {
          "base_uri": "https://localhost:8080/"
        },
        "id": "CbARhubxe2yA",
        "outputId": "e282b0ef-c52b-48a1-f331-5b024c98c129"
      },
      "source": [
        "# Training\n",
        "batch_size = 64  # Batch size for training.\n",
        "epochs = 10  # Number of epochs to train for.\n",
        "\n",
        "model.compile(optimizer='rmsprop', loss='categorical_crossentropy')\n",
        "model.fit([encoder_input_data, decoder_input_data], decoder_target_data,\n",
        "          batch_size=batch_size, epochs=epochs, validation_split=0.2)\n",
        "# Save model\n",
        "model.save('s2s.h5')"
      ],
      "execution_count": 98,
      "outputs": [
        {
          "output_type": "stream",
          "name": "stdout",
          "text": [
            "Epoch 1/10\n",
            "32/32 [==============================] - 13s 284ms/step - loss: 0.7985 - val_loss: 0.5507\n",
            "Epoch 2/10\n",
            "32/32 [==============================] - 8s 255ms/step - loss: 0.5757 - val_loss: 0.4615\n",
            "Epoch 3/10\n",
            "32/32 [==============================] - 8s 242ms/step - loss: 0.4853 - val_loss: 0.3909\n",
            "Epoch 4/10\n",
            "32/32 [==============================] - 8s 239ms/step - loss: 0.4427 - val_loss: 0.3558\n",
            "Epoch 5/10\n",
            "32/32 [==============================] - 8s 236ms/step - loss: 0.4039 - val_loss: 0.3766\n",
            "Epoch 6/10\n",
            "32/32 [==============================] - 8s 241ms/step - loss: 0.3890 - val_loss: 0.3721\n",
            "Epoch 7/10\n",
            "32/32 [==============================] - 8s 241ms/step - loss: 0.3866 - val_loss: 0.3730\n",
            "Epoch 8/10\n",
            "32/32 [==============================] - 8s 255ms/step - loss: 0.3834 - val_loss: 0.3878\n",
            "Epoch 9/10\n",
            "32/32 [==============================] - 8s 259ms/step - loss: 0.3825 - val_loss: 0.4699\n",
            "Epoch 10/10\n",
            "32/32 [==============================] - 8s 249ms/step - loss: 0.3846 - val_loss: 0.4379\n"
          ]
        }
      ]
    },
    {
      "cell_type": "code",
      "metadata": {
        "colab": {
          "base_uri": "https://localhost:8080/"
        },
        "id": "Rmx3_vQbfh7J",
        "outputId": "be897e4e-1153-4412-cd64-9fe8327a2736"
      },
      "source": [
        "%ls -ltr"
      ],
      "execution_count": 99,
      "outputs": [
        {
          "output_type": "stream",
          "name": "stdout",
          "text": [
            "total 5665\n",
            "-rw------- 1 root root  813709 Sep 14 22:38 players_with_hindi_names.json\n",
            "-rw------- 1 root root 4986208 Sep 15 00:40 s2s.h5\n"
          ]
        }
      ]
    },
    {
      "cell_type": "code",
      "metadata": {
        "colab": {
          "base_uri": "https://localhost:8080/"
        },
        "id": "GbQZBOBjflnl",
        "outputId": "d6246381-8971-4582-e1e2-66e169c737a5"
      },
      "source": [
        "!du -sh s2s.h5"
      ],
      "execution_count": 100,
      "outputs": [
        {
          "output_type": "stream",
          "name": "stdout",
          "text": [
            "4.8M\ts2s.h5\n"
          ]
        }
      ]
    },
    {
      "cell_type": "code",
      "metadata": {
        "id": "7ZowNfcXmWlL"
      },
      "source": [
        "input_data = np.zeros((1, max_encoder_seq_length, num_encoder_tokens), dtype='float32')\n",
        "decoder_data = np.zeros((1, max_decoder_seq_length, num_decoder_tokens), dtype='float32')\n",
        "test_input = 'राजशेखर'\n",
        "for t, char in enumerate(test_input):\n",
        "  input_data[0, t, input_token_index[char]] = 1."
      ],
      "execution_count": 101,
      "outputs": []
    },
    {
      "cell_type": "code",
      "metadata": {
        "colab": {
          "base_uri": "https://localhost:8080/"
        },
        "id": "31M25bUmw8wy",
        "outputId": "ba9961c2-7f86-4a3c-ab27-a295b1427e14"
      },
      "source": [
        "input_data.shape"
      ],
      "execution_count": 102,
      "outputs": [
        {
          "output_type": "execute_result",
          "data": {
            "text/plain": [
              "(1, 20, 53)"
            ]
          },
          "metadata": {},
          "execution_count": 102
        }
      ]
    },
    {
      "cell_type": "code",
      "metadata": {
        "colab": {
          "base_uri": "https://localhost:8080/"
        },
        "id": "0udrhpiHyZd9",
        "outputId": "643e8f0c-ca0f-4d40-e789-7d6196152cd1"
      },
      "source": [
        "decoder_data.shape"
      ],
      "execution_count": 103,
      "outputs": [
        {
          "output_type": "execute_result",
          "data": {
            "text/plain": [
              "(1, 26, 29)"
            ]
          },
          "metadata": {},
          "execution_count": 103
        }
      ]
    },
    {
      "cell_type": "code",
      "metadata": {
        "id": "iW34JquGuyzS"
      },
      "source": [
        "prediction = model.predict([input_data, decoder_data])"
      ],
      "execution_count": 104,
      "outputs": []
    },
    {
      "cell_type": "code",
      "metadata": {
        "colab": {
          "base_uri": "https://localhost:8080/"
        },
        "id": "pCUqj558yhdb",
        "outputId": "00b91ec5-0b7e-467b-fb1c-e9ac64361718"
      },
      "source": [
        "prediction.shape"
      ],
      "execution_count": 105,
      "outputs": [
        {
          "output_type": "execute_result",
          "data": {
            "text/plain": [
              "(1, 26, 29)"
            ]
          },
          "metadata": {},
          "execution_count": 105
        }
      ]
    },
    {
      "cell_type": "code",
      "metadata": {
        "colab": {
          "base_uri": "https://localhost:8080/",
          "height": 35
        },
        "id": "cjgoyRTJ0l_W",
        "outputId": "35990d10-5d31-4b63-ddff-170b6398db31"
      },
      "source": [
        "target_vocab[np.argmax(prediction[0, 0])]"
      ],
      "execution_count": 106,
      "outputs": [
        {
          "output_type": "execute_result",
          "data": {
            "application/vnd.google.colaboratory.intrinsic+json": {
              "type": "string"
            },
            "text/plain": [
              "'o'"
            ]
          },
          "metadata": {},
          "execution_count": 106
        }
      ]
    },
    {
      "cell_type": "code",
      "metadata": {
        "id": "GTZJfy2iyrbw"
      },
      "source": [
        "t_txt = list()\n",
        "for i in range(prediction.shape[1]):\n",
        "  t_txt.append(target_vocab[np.argmax(prediction[0, i])])"
      ],
      "execution_count": 107,
      "outputs": []
    },
    {
      "cell_type": "code",
      "metadata": {
        "colab": {
          "base_uri": "https://localhost:8080/",
          "height": 35
        },
        "id": "MfIZec_81Ylv",
        "outputId": "1de0db90-9590-47d7-9e1c-f61324e77d01"
      },
      "source": [
        "''.join(t_txt)"
      ],
      "execution_count": 108,
      "outputs": [
        {
          "output_type": "execute_result",
          "data": {
            "application/vnd.google.colaboratory.intrinsic+json": {
              "type": "string"
            },
            "text/plain": [
              "'ohammad  raaaaaaaaaaaaaaaa'"
            ]
          },
          "metadata": {},
          "execution_count": 108
        }
      ]
    }
  ]
}