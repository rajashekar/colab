{
  "nbformat": 4,
  "nbformat_minor": 0,
  "metadata": {
    "colab": {
      "name": "Transliterate_alt_version.ipynb",
      "provenance": [],
      "collapsed_sections": [],
      "machine_shape": "hm",
      "mount_file_id": "12I6sBnplRtBE3VNjwheKGSS98VK3VR4Y",
      "authorship_tag": "ABX9TyOoqZHefbFrCHJ4U4GLt1Vu",
      "include_colab_link": true
    },
    "kernelspec": {
      "name": "python3",
      "display_name": "Python 3"
    },
    "language_info": {
      "name": "python"
    },
    "accelerator": "GPU"
  },
  "cells": [
    {
      "cell_type": "markdown",
      "metadata": {
        "id": "view-in-github",
        "colab_type": "text"
      },
      "source": [
        "<a href=\"https://colab.research.google.com/github/rajashekar/colab/blob/main/Transliterate_alt_version.ipynb\" target=\"_parent\"><img src=\"https://colab.research.google.com/assets/colab-badge.svg\" alt=\"Open In Colab\"/></a>"
      ]
    },
    {
      "cell_type": "code",
      "metadata": {
        "colab": {
          "base_uri": "https://localhost:8080/"
        },
        "id": "Yu8su2rOmyqN",
        "outputId": "ae8eaf17-9686-4802-8347-edec5f698a7b"
      },
      "source": [
        "pip install tensorflow_addons"
      ],
      "execution_count": 1,
      "outputs": [
        {
          "output_type": "stream",
          "name": "stdout",
          "text": [
            "Collecting tensorflow_addons\n",
            "  Downloading tensorflow_addons-0.15.0-cp37-cp37m-manylinux_2_12_x86_64.manylinux2010_x86_64.whl (1.1 MB)\n",
            "\u001b[?25l\r\u001b[K     |▎                               | 10 kB 35.5 MB/s eta 0:00:01\r\u001b[K     |▋                               | 20 kB 42.6 MB/s eta 0:00:01\r\u001b[K     |▉                               | 30 kB 47.2 MB/s eta 0:00:01\r\u001b[K     |█▏                              | 40 kB 47.5 MB/s eta 0:00:01\r\u001b[K     |█▌                              | 51 kB 33.1 MB/s eta 0:00:01\r\u001b[K     |█▊                              | 61 kB 34.4 MB/s eta 0:00:01\r\u001b[K     |██                              | 71 kB 28.8 MB/s eta 0:00:01\r\u001b[K     |██▍                             | 81 kB 30.5 MB/s eta 0:00:01\r\u001b[K     |██▋                             | 92 kB 32.2 MB/s eta 0:00:01\r\u001b[K     |███                             | 102 kB 32.6 MB/s eta 0:00:01\r\u001b[K     |███▎                            | 112 kB 32.6 MB/s eta 0:00:01\r\u001b[K     |███▌                            | 122 kB 32.6 MB/s eta 0:00:01\r\u001b[K     |███▉                            | 133 kB 32.6 MB/s eta 0:00:01\r\u001b[K     |████▏                           | 143 kB 32.6 MB/s eta 0:00:01\r\u001b[K     |████▍                           | 153 kB 32.6 MB/s eta 0:00:01\r\u001b[K     |████▊                           | 163 kB 32.6 MB/s eta 0:00:01\r\u001b[K     |█████                           | 174 kB 32.6 MB/s eta 0:00:01\r\u001b[K     |█████▎                          | 184 kB 32.6 MB/s eta 0:00:01\r\u001b[K     |█████▋                          | 194 kB 32.6 MB/s eta 0:00:01\r\u001b[K     |█████▉                          | 204 kB 32.6 MB/s eta 0:00:01\r\u001b[K     |██████▏                         | 215 kB 32.6 MB/s eta 0:00:01\r\u001b[K     |██████▌                         | 225 kB 32.6 MB/s eta 0:00:01\r\u001b[K     |██████▊                         | 235 kB 32.6 MB/s eta 0:00:01\r\u001b[K     |███████                         | 245 kB 32.6 MB/s eta 0:00:01\r\u001b[K     |███████▍                        | 256 kB 32.6 MB/s eta 0:00:01\r\u001b[K     |███████▋                        | 266 kB 32.6 MB/s eta 0:00:01\r\u001b[K     |████████                        | 276 kB 32.6 MB/s eta 0:00:01\r\u001b[K     |████████▎                       | 286 kB 32.6 MB/s eta 0:00:01\r\u001b[K     |████████▌                       | 296 kB 32.6 MB/s eta 0:00:01\r\u001b[K     |████████▉                       | 307 kB 32.6 MB/s eta 0:00:01\r\u001b[K     |█████████                       | 317 kB 32.6 MB/s eta 0:00:01\r\u001b[K     |█████████▍                      | 327 kB 32.6 MB/s eta 0:00:01\r\u001b[K     |█████████▊                      | 337 kB 32.6 MB/s eta 0:00:01\r\u001b[K     |██████████                      | 348 kB 32.6 MB/s eta 0:00:01\r\u001b[K     |██████████▎                     | 358 kB 32.6 MB/s eta 0:00:01\r\u001b[K     |██████████▋                     | 368 kB 32.6 MB/s eta 0:00:01\r\u001b[K     |██████████▉                     | 378 kB 32.6 MB/s eta 0:00:01\r\u001b[K     |███████████▏                    | 389 kB 32.6 MB/s eta 0:00:01\r\u001b[K     |███████████▌                    | 399 kB 32.6 MB/s eta 0:00:01\r\u001b[K     |███████████▊                    | 409 kB 32.6 MB/s eta 0:00:01\r\u001b[K     |████████████                    | 419 kB 32.6 MB/s eta 0:00:01\r\u001b[K     |████████████▍                   | 430 kB 32.6 MB/s eta 0:00:01\r\u001b[K     |████████████▋                   | 440 kB 32.6 MB/s eta 0:00:01\r\u001b[K     |█████████████                   | 450 kB 32.6 MB/s eta 0:00:01\r\u001b[K     |█████████████▎                  | 460 kB 32.6 MB/s eta 0:00:01\r\u001b[K     |█████████████▌                  | 471 kB 32.6 MB/s eta 0:00:01\r\u001b[K     |█████████████▉                  | 481 kB 32.6 MB/s eta 0:00:01\r\u001b[K     |██████████████                  | 491 kB 32.6 MB/s eta 0:00:01\r\u001b[K     |██████████████▍                 | 501 kB 32.6 MB/s eta 0:00:01\r\u001b[K     |██████████████▊                 | 512 kB 32.6 MB/s eta 0:00:01\r\u001b[K     |███████████████                 | 522 kB 32.6 MB/s eta 0:00:01\r\u001b[K     |███████████████▎                | 532 kB 32.6 MB/s eta 0:00:01\r\u001b[K     |███████████████▋                | 542 kB 32.6 MB/s eta 0:00:01\r\u001b[K     |███████████████▉                | 552 kB 32.6 MB/s eta 0:00:01\r\u001b[K     |████████████████▏               | 563 kB 32.6 MB/s eta 0:00:01\r\u001b[K     |████████████████▌               | 573 kB 32.6 MB/s eta 0:00:01\r\u001b[K     |████████████████▊               | 583 kB 32.6 MB/s eta 0:00:01\r\u001b[K     |█████████████████               | 593 kB 32.6 MB/s eta 0:00:01\r\u001b[K     |█████████████████▍              | 604 kB 32.6 MB/s eta 0:00:01\r\u001b[K     |█████████████████▋              | 614 kB 32.6 MB/s eta 0:00:01\r\u001b[K     |██████████████████              | 624 kB 32.6 MB/s eta 0:00:01\r\u001b[K     |██████████████████▏             | 634 kB 32.6 MB/s eta 0:00:01\r\u001b[K     |██████████████████▌             | 645 kB 32.6 MB/s eta 0:00:01\r\u001b[K     |██████████████████▉             | 655 kB 32.6 MB/s eta 0:00:01\r\u001b[K     |███████████████████             | 665 kB 32.6 MB/s eta 0:00:01\r\u001b[K     |███████████████████▍            | 675 kB 32.6 MB/s eta 0:00:01\r\u001b[K     |███████████████████▊            | 686 kB 32.6 MB/s eta 0:00:01\r\u001b[K     |████████████████████            | 696 kB 32.6 MB/s eta 0:00:01\r\u001b[K     |████████████████████▎           | 706 kB 32.6 MB/s eta 0:00:01\r\u001b[K     |████████████████████▋           | 716 kB 32.6 MB/s eta 0:00:01\r\u001b[K     |████████████████████▉           | 727 kB 32.6 MB/s eta 0:00:01\r\u001b[K     |█████████████████████▏          | 737 kB 32.6 MB/s eta 0:00:01\r\u001b[K     |█████████████████████▌          | 747 kB 32.6 MB/s eta 0:00:01\r\u001b[K     |█████████████████████▊          | 757 kB 32.6 MB/s eta 0:00:01\r\u001b[K     |██████████████████████          | 768 kB 32.6 MB/s eta 0:00:01\r\u001b[K     |██████████████████████▎         | 778 kB 32.6 MB/s eta 0:00:01\r\u001b[K     |██████████████████████▋         | 788 kB 32.6 MB/s eta 0:00:01\r\u001b[K     |███████████████████████         | 798 kB 32.6 MB/s eta 0:00:01\r\u001b[K     |███████████████████████▏        | 808 kB 32.6 MB/s eta 0:00:01\r\u001b[K     |███████████████████████▌        | 819 kB 32.6 MB/s eta 0:00:01\r\u001b[K     |███████████████████████▉        | 829 kB 32.6 MB/s eta 0:00:01\r\u001b[K     |████████████████████████        | 839 kB 32.6 MB/s eta 0:00:01\r\u001b[K     |████████████████████████▍       | 849 kB 32.6 MB/s eta 0:00:01\r\u001b[K     |████████████████████████▊       | 860 kB 32.6 MB/s eta 0:00:01\r\u001b[K     |█████████████████████████       | 870 kB 32.6 MB/s eta 0:00:01\r\u001b[K     |█████████████████████████▎      | 880 kB 32.6 MB/s eta 0:00:01\r\u001b[K     |█████████████████████████▋      | 890 kB 32.6 MB/s eta 0:00:01\r\u001b[K     |█████████████████████████▉      | 901 kB 32.6 MB/s eta 0:00:01\r\u001b[K     |██████████████████████████▏     | 911 kB 32.6 MB/s eta 0:00:01\r\u001b[K     |██████████████████████████▌     | 921 kB 32.6 MB/s eta 0:00:01\r\u001b[K     |██████████████████████████▊     | 931 kB 32.6 MB/s eta 0:00:01\r\u001b[K     |███████████████████████████     | 942 kB 32.6 MB/s eta 0:00:01\r\u001b[K     |███████████████████████████▎    | 952 kB 32.6 MB/s eta 0:00:01\r\u001b[K     |███████████████████████████▋    | 962 kB 32.6 MB/s eta 0:00:01\r\u001b[K     |████████████████████████████    | 972 kB 32.6 MB/s eta 0:00:01\r\u001b[K     |████████████████████████████▏   | 983 kB 32.6 MB/s eta 0:00:01\r\u001b[K     |████████████████████████████▌   | 993 kB 32.6 MB/s eta 0:00:01\r\u001b[K     |████████████████████████████▉   | 1.0 MB 32.6 MB/s eta 0:00:01\r\u001b[K     |█████████████████████████████   | 1.0 MB 32.6 MB/s eta 0:00:01\r\u001b[K     |█████████████████████████████▍  | 1.0 MB 32.6 MB/s eta 0:00:01\r\u001b[K     |█████████████████████████████▊  | 1.0 MB 32.6 MB/s eta 0:00:01\r\u001b[K     |██████████████████████████████  | 1.0 MB 32.6 MB/s eta 0:00:01\r\u001b[K     |██████████████████████████████▎ | 1.1 MB 32.6 MB/s eta 0:00:01\r\u001b[K     |██████████████████████████████▋ | 1.1 MB 32.6 MB/s eta 0:00:01\r\u001b[K     |██████████████████████████████▉ | 1.1 MB 32.6 MB/s eta 0:00:01\r\u001b[K     |███████████████████████████████▏| 1.1 MB 32.6 MB/s eta 0:00:01\r\u001b[K     |███████████████████████████████▍| 1.1 MB 32.6 MB/s eta 0:00:01\r\u001b[K     |███████████████████████████████▊| 1.1 MB 32.6 MB/s eta 0:00:01\r\u001b[K     |████████████████████████████████| 1.1 MB 32.6 MB/s \n",
            "\u001b[?25hRequirement already satisfied: typeguard>=2.7 in /usr/local/lib/python3.7/dist-packages (from tensorflow_addons) (2.7.1)\n",
            "Installing collected packages: tensorflow-addons\n",
            "Successfully installed tensorflow-addons-0.15.0\n"
          ]
        }
      ]
    },
    {
      "cell_type": "code",
      "metadata": {
        "id": "1T6_tQRr5LsU"
      },
      "source": [
        "import os\n",
        "import time\n",
        "\n",
        "import pandas as pd\n",
        "import numpy as np\n",
        "\n",
        "from sklearn.model_selection import train_test_split\n",
        "\n",
        "from keras.models import Model, load_model\n",
        "from keras.layers import Input, LSTM, Dense, Dropout\n",
        "from keras.callbacks import EarlyStopping, ModelCheckpoint\n",
        "\n",
        "import tensorflow as tf\n",
        "import tensorflow.keras.backend as K\n",
        "\n",
        "import tensorflow_addons as tfa\n",
        "\n",
        "import matplotlib.pyplot as plt"
      ],
      "execution_count": 61,
      "outputs": []
    },
    {
      "cell_type": "code",
      "metadata": {
        "colab": {
          "base_uri": "https://localhost:8080/"
        },
        "id": "gD9yPBHKkF5s",
        "outputId": "d7a38813-5482-4b8d-cc78-7bc076a179d4"
      },
      "source": [
        "!nvidia-smi"
      ],
      "execution_count": 62,
      "outputs": [
        {
          "output_type": "stream",
          "name": "stdout",
          "text": [
            "Mon Nov 29 18:01:36 2021       \n",
            "+-----------------------------------------------------------------------------+\n",
            "| NVIDIA-SMI 495.44       Driver Version: 460.32.03    CUDA Version: 11.2     |\n",
            "|-------------------------------+----------------------+----------------------+\n",
            "| GPU  Name        Persistence-M| Bus-Id        Disp.A | Volatile Uncorr. ECC |\n",
            "| Fan  Temp  Perf  Pwr:Usage/Cap|         Memory-Usage | GPU-Util  Compute M. |\n",
            "|                               |                      |               MIG M. |\n",
            "|===============================+======================+======================|\n",
            "|   0  Tesla T4            Off  | 00000000:00:04.0 Off |                    0 |\n",
            "| N/A   49C    P0    28W /  70W |   1156MiB / 15109MiB |      0%      Default |\n",
            "|                               |                      |                  N/A |\n",
            "+-------------------------------+----------------------+----------------------+\n",
            "                                                                               \n",
            "+-----------------------------------------------------------------------------+\n",
            "| Processes:                                                                  |\n",
            "|  GPU   GI   CI        PID   Type   Process name                  GPU Memory |\n",
            "|        ID   ID                                                   Usage      |\n",
            "|=============================================================================|\n",
            "|  No running processes found                                                 |\n",
            "+-----------------------------------------------------------------------------+\n"
          ]
        }
      ]
    },
    {
      "cell_type": "code",
      "metadata": {
        "colab": {
          "base_uri": "https://localhost:8080/"
        },
        "id": "Cy-GTRyQdjjj",
        "outputId": "2533ce0b-8657-40d5-f28f-3f604810eccd"
      },
      "source": [
        "%cd /content/drive/MyDrive/Colab/Transliterate/"
      ],
      "execution_count": 63,
      "outputs": [
        {
          "output_type": "stream",
          "name": "stdout",
          "text": [
            "/content/drive/MyDrive/Colab/Transliterate\n"
          ]
        }
      ]
    },
    {
      "cell_type": "code",
      "metadata": {
        "colab": {
          "base_uri": "https://localhost:8080/"
        },
        "id": "9SQgkSs5drK0",
        "outputId": "90c06166-b832-402e-98ed-5cbe4e36ccfc"
      },
      "source": [
        "%ls"
      ],
      "execution_count": 64,
      "outputs": [
        {
          "output_type": "stream",
          "name": "stdout",
          "text": [
            "affidavits.csv                 model_plot_dec.png\n",
            "dakshina_acc_results.csv       model.png\n",
            "hi.translit.sampled.test.tsv   model_v1.h5\n",
            "hi.translit.sampled.train.tsv  model_working_v1.h5\n",
            "\u001b[0m\u001b[01;34mindic-trans\u001b[0m/                   players_with_hindi_names.json\n",
            "input_token_index.json         target_token_index.json\n",
            "manual_saved_model.h5          \u001b[01;34mtraining_checkpoints\u001b[0m/\n",
            "model.h5                       Transliterate_v2.ipynb\n"
          ]
        }
      ]
    },
    {
      "cell_type": "markdown",
      "metadata": {
        "id": "h87l7bzjN4V0"
      },
      "source": [
        "# Preprocessing Data"
      ]
    },
    {
      "cell_type": "markdown",
      "metadata": {
        "id": "Kl9QsQKYac2q"
      },
      "source": [
        "## load affidavits dataset\n"
      ]
    },
    {
      "cell_type": "code",
      "metadata": {
        "id": "pAUukayNPVZY"
      },
      "source": [
        "affidavits_df = pd.read_csv('affidavits.csv')"
      ],
      "execution_count": 65,
      "outputs": []
    },
    {
      "cell_type": "code",
      "metadata": {
        "colab": {
          "base_uri": "https://localhost:8080/",
          "height": 625
        },
        "id": "A0ZOV5i6Pe_k",
        "outputId": "882274ea-ac24-4496-ab33-b8153b52dc42"
      },
      "source": [
        "affidavits_df.head()"
      ],
      "execution_count": 66,
      "outputs": [
        {
          "output_type": "execute_result",
          "data": {
            "text/html": [
              "<div>\n",
              "<style scoped>\n",
              "    .dataframe tbody tr th:only-of-type {\n",
              "        vertical-align: middle;\n",
              "    }\n",
              "\n",
              "    .dataframe tbody tr th {\n",
              "        vertical-align: top;\n",
              "    }\n",
              "\n",
              "    .dataframe thead th {\n",
              "        text-align: right;\n",
              "    }\n",
              "</style>\n",
              "<table border=\"1\" class=\"dataframe\">\n",
              "  <thead>\n",
              "    <tr style=\"text-align: right;\">\n",
              "      <th></th>\n",
              "      <th>address</th>\n",
              "      <th>affidavit_filename_with_unique_id</th>\n",
              "      <th>age</th>\n",
              "      <th>application_uploaded</th>\n",
              "      <th>assembly_constituency</th>\n",
              "      <th>current_status</th>\n",
              "      <th>dropdown_value</th>\n",
              "      <th>fathers_or_husbands_name_english</th>\n",
              "      <th>fathers_or_husbands_name_hindi</th>\n",
              "      <th>name</th>\n",
              "      <th>name_english</th>\n",
              "      <th>name_hindi</th>\n",
              "      <th>party_name</th>\n",
              "      <th>photo_filename_with_unique_id</th>\n",
              "      <th>photo_url</th>\n",
              "      <th>state</th>\n",
              "      <th>unique_id</th>\n",
              "      <th>url</th>\n",
              "    </tr>\n",
              "  </thead>\n",
              "  <tbody>\n",
              "    <tr>\n",
              "      <th>0</th>\n",
              "      <td>O/5, BANKIM MUKHERJEE SARANI, DURGAPUR COLONY,...</td>\n",
              "      <td>NaN</td>\n",
              "      <td>57</td>\n",
              "      <td>7th April, 2021</td>\n",
              "      <td>Rashbehari</td>\n",
              "      <td>NaN</td>\n",
              "      <td>NaN</td>\n",
              "      <td>LATE SUBODH CHANDRA DAS</td>\n",
              "      <td>प्रयात सुबोध चन्द्र दास</td>\n",
              "      <td>SWAPAN DAS</td>\n",
              "      <td>SWAPAN DAS</td>\n",
              "      <td>स्वपन दास</td>\n",
              "      <td>Bahujan Mukti Party</td>\n",
              "      <td>NaN</td>\n",
              "      <td>NaN</td>\n",
              "      <td>West Bengal</td>\n",
              "      <td>1</td>\n",
              "      <td>NaN</td>\n",
              "    </tr>\n",
              "    <tr>\n",
              "      <th>1</th>\n",
              "      <td>F-301, PRANTIK PALLY, KOLKATA – 700042</td>\n",
              "      <td>NaN</td>\n",
              "      <td>41</td>\n",
              "      <td>7th April, 2021</td>\n",
              "      <td>Rashbehari</td>\n",
              "      <td>NaN</td>\n",
              "      <td>NaN</td>\n",
              "      <td>LATE PINAKI KUNDU</td>\n",
              "      <td>स्वर्गीय पिनाकि कुंडू</td>\n",
              "      <td>PREETAM KUNDU</td>\n",
              "      <td>PREETAM KUNDU</td>\n",
              "      <td>प्रीतम  कुंडू</td>\n",
              "      <td>Independent</td>\n",
              "      <td>NaN</td>\n",
              "      <td>NaN</td>\n",
              "      <td>West Bengal</td>\n",
              "      <td>2</td>\n",
              "      <td>NaN</td>\n",
              "    </tr>\n",
              "    <tr>\n",
              "      <th>2</th>\n",
              "      <td>Vill- Debidaspur, P.O.- Kankuria, P.S.- Samser...</td>\n",
              "      <td>NaN</td>\n",
              "      <td>60</td>\n",
              "      <td>26th April, 2021</td>\n",
              "      <td>Samserganj</td>\n",
              "      <td>NaN</td>\n",
              "      <td>NaN</td>\n",
              "      <td>Late Nur Mohammad Biswas</td>\n",
              "      <td>मृत नूर महम्मद बिश्वास</td>\n",
              "      <td>Zaidur Rahaman</td>\n",
              "      <td>Zaidur Rahaman</td>\n",
              "      <td>जैदुर रहमान</td>\n",
              "      <td>Indian National Congress</td>\n",
              "      <td>NaN</td>\n",
              "      <td>NaN</td>\n",
              "      <td>West Bengal</td>\n",
              "      <td>3</td>\n",
              "      <td>NaN</td>\n",
              "    </tr>\n",
              "    <tr>\n",
              "      <th>3</th>\n",
              "      <td>F-301, PRANTIK PALLY, KOLKATA – 700042</td>\n",
              "      <td>NaN</td>\n",
              "      <td>41</td>\n",
              "      <td>7th April, 2021</td>\n",
              "      <td>Rashbehari</td>\n",
              "      <td>NaN</td>\n",
              "      <td>NaN</td>\n",
              "      <td>LATE PINAKI KUNDU</td>\n",
              "      <td>स्वर्गीय पिनाकि कुंडू</td>\n",
              "      <td>PREETAM KUNDU</td>\n",
              "      <td>PREETAM KUNDU</td>\n",
              "      <td>प्रीतम  कुंडू</td>\n",
              "      <td>Independent</td>\n",
              "      <td>NaN</td>\n",
              "      <td>NaN</td>\n",
              "      <td>West Bengal</td>\n",
              "      <td>4</td>\n",
              "      <td>NaN</td>\n",
              "    </tr>\n",
              "    <tr>\n",
              "      <th>4</th>\n",
              "      <td>VILL-FULBARI, P.O-KAMLABARI, P.S-ENGLISH BAZAR...</td>\n",
              "      <td>NaN</td>\n",
              "      <td>42</td>\n",
              "      <td>6th April, 2021</td>\n",
              "      <td>Manikchak</td>\n",
              "      <td>NaN</td>\n",
              "      <td>NaN</td>\n",
              "      <td>LT. ALI MOHAMMAD</td>\n",
              "      <td>स्वर्गीय आली महममद</td>\n",
              "      <td>ALAM MOTTAKIN</td>\n",
              "      <td>ALAM MOTTAKIN</td>\n",
              "      <td>आलम मोत्ताकिन</td>\n",
              "      <td>Indian National Congress</td>\n",
              "      <td>NaN</td>\n",
              "      <td>NaN</td>\n",
              "      <td>West Bengal</td>\n",
              "      <td>5</td>\n",
              "      <td>NaN</td>\n",
              "    </tr>\n",
              "  </tbody>\n",
              "</table>\n",
              "</div>"
            ],
            "text/plain": [
              "                                             address  ...  url\n",
              "0  O/5, BANKIM MUKHERJEE SARANI, DURGAPUR COLONY,...  ...  NaN\n",
              "1             F-301, PRANTIK PALLY, KOLKATA – 700042  ...  NaN\n",
              "2  Vill- Debidaspur, P.O.- Kankuria, P.S.- Samser...  ...  NaN\n",
              "3             F-301, PRANTIK PALLY, KOLKATA – 700042  ...  NaN\n",
              "4  VILL-FULBARI, P.O-KAMLABARI, P.S-ENGLISH BAZAR...  ...  NaN\n",
              "\n",
              "[5 rows x 18 columns]"
            ]
          },
          "metadata": {},
          "execution_count": 66
        }
      ]
    },
    {
      "cell_type": "code",
      "metadata": {
        "id": "TnwMig87P1yV"
      },
      "source": [
        "af_df = affidavits_df[['fathers_or_husbands_name_hindi', 'fathers_or_husbands_name_english', 'name_hindi', 'name_english']]"
      ],
      "execution_count": 67,
      "outputs": []
    },
    {
      "cell_type": "code",
      "metadata": {
        "id": "XYj3W5R3bdii"
      },
      "source": [
        "# split and merge\n",
        "input_target_df = pd.concat([\n",
        "                    af_df[['fathers_or_husbands_name_hindi','fathers_or_husbands_name_english']].rename(columns={\"fathers_or_husbands_name_hindi\": \"hindi\", \"fathers_or_husbands_name_english\": \"english\"}), \n",
        "                    af_df[['name_hindi','name_english']].rename(columns={\"name_hindi\": \"hindi\", \"name_english\": \"english\"})\n",
        "                  ], ignore_index=True)"
      ],
      "execution_count": 68,
      "outputs": []
    },
    {
      "cell_type": "code",
      "metadata": {
        "colab": {
          "base_uri": "https://localhost:8080/",
          "height": 206
        },
        "id": "q6_4pn8Wbt-A",
        "outputId": "1e9056e9-717b-45c6-d1e9-c76b37371683"
      },
      "source": [
        "input_target_df.head()"
      ],
      "execution_count": 69,
      "outputs": [
        {
          "output_type": "execute_result",
          "data": {
            "text/html": [
              "<div>\n",
              "<style scoped>\n",
              "    .dataframe tbody tr th:only-of-type {\n",
              "        vertical-align: middle;\n",
              "    }\n",
              "\n",
              "    .dataframe tbody tr th {\n",
              "        vertical-align: top;\n",
              "    }\n",
              "\n",
              "    .dataframe thead th {\n",
              "        text-align: right;\n",
              "    }\n",
              "</style>\n",
              "<table border=\"1\" class=\"dataframe\">\n",
              "  <thead>\n",
              "    <tr style=\"text-align: right;\">\n",
              "      <th></th>\n",
              "      <th>hindi</th>\n",
              "      <th>english</th>\n",
              "    </tr>\n",
              "  </thead>\n",
              "  <tbody>\n",
              "    <tr>\n",
              "      <th>0</th>\n",
              "      <td>प्रयात सुबोध चन्द्र दास</td>\n",
              "      <td>LATE SUBODH CHANDRA DAS</td>\n",
              "    </tr>\n",
              "    <tr>\n",
              "      <th>1</th>\n",
              "      <td>स्वर्गीय पिनाकि कुंडू</td>\n",
              "      <td>LATE PINAKI KUNDU</td>\n",
              "    </tr>\n",
              "    <tr>\n",
              "      <th>2</th>\n",
              "      <td>मृत नूर महम्मद बिश्वास</td>\n",
              "      <td>Late Nur Mohammad Biswas</td>\n",
              "    </tr>\n",
              "    <tr>\n",
              "      <th>3</th>\n",
              "      <td>स्वर्गीय पिनाकि कुंडू</td>\n",
              "      <td>LATE PINAKI KUNDU</td>\n",
              "    </tr>\n",
              "    <tr>\n",
              "      <th>4</th>\n",
              "      <td>स्वर्गीय आली महममद</td>\n",
              "      <td>LT. ALI MOHAMMAD</td>\n",
              "    </tr>\n",
              "  </tbody>\n",
              "</table>\n",
              "</div>"
            ],
            "text/plain": [
              "                     hindi                   english\n",
              "0  प्रयात सुबोध चन्द्र दास   LATE SUBODH CHANDRA DAS\n",
              "1    स्वर्गीय पिनाकि कुंडू         LATE PINAKI KUNDU\n",
              "2   मृत नूर महम्मद बिश्वास  Late Nur Mohammad Biswas\n",
              "3    स्वर्गीय पिनाकि कुंडू         LATE PINAKI KUNDU\n",
              "4       स्वर्गीय आली महममद          LT. ALI MOHAMMAD"
            ]
          },
          "metadata": {},
          "execution_count": 69
        }
      ]
    },
    {
      "cell_type": "markdown",
      "metadata": {
        "id": "sRjQYPAjajwg"
      },
      "source": [
        "## load cricket dataset"
      ]
    },
    {
      "cell_type": "code",
      "metadata": {
        "id": "QIlUaSeP54a0"
      },
      "source": [
        "cricket_df = pd.read_json('players_with_hindi_names.json')"
      ],
      "execution_count": 70,
      "outputs": []
    },
    {
      "cell_type": "code",
      "metadata": {
        "colab": {
          "base_uri": "https://localhost:8080/",
          "height": 206
        },
        "id": "-8AW_DdX5934",
        "outputId": "4e27964a-dba7-4966-a96f-461dca3d578f"
      },
      "source": [
        "cricket_df.head()"
      ],
      "execution_count": 71,
      "outputs": [
        {
          "output_type": "execute_result",
          "data": {
            "text/html": [
              "<div>\n",
              "<style scoped>\n",
              "    .dataframe tbody tr th:only-of-type {\n",
              "        vertical-align: middle;\n",
              "    }\n",
              "\n",
              "    .dataframe tbody tr th {\n",
              "        vertical-align: top;\n",
              "    }\n",
              "\n",
              "    .dataframe thead th {\n",
              "        text-align: right;\n",
              "    }\n",
              "</style>\n",
              "<table border=\"1\" class=\"dataframe\">\n",
              "  <thead>\n",
              "    <tr style=\"text-align: right;\">\n",
              "      <th></th>\n",
              "      <th>id</th>\n",
              "      <th>hindi_name</th>\n",
              "      <th>hindi_long_name</th>\n",
              "      <th>english_name</th>\n",
              "      <th>gender</th>\n",
              "      <th>date_of_birth</th>\n",
              "      <th>country_id</th>\n",
              "      <th>slug</th>\n",
              "    </tr>\n",
              "  </thead>\n",
              "  <tbody>\n",
              "    <tr>\n",
              "      <th>0</th>\n",
              "      <td>90143</td>\n",
              "      <td>आर गुरबाज़</td>\n",
              "      <td>रहमानउल्लाह गुरबाज़</td>\n",
              "      <td>Rahmanullah Gurbaz</td>\n",
              "      <td>M</td>\n",
              "      <td>{'year': 2001, 'month': 11, 'date': 28}</td>\n",
              "      <td>40</td>\n",
              "      <td>rahmanullah-gurbaz</td>\n",
              "    </tr>\n",
              "    <tr>\n",
              "      <th>1</th>\n",
              "      <td>54018</td>\n",
              "      <td>एम रिज़वान</td>\n",
              "      <td>मोहम्मद रिज़वान</td>\n",
              "      <td>Mohammad Rizwan</td>\n",
              "      <td>M</td>\n",
              "      <td>{'year': 1992, 'month': 6, 'date': 1}</td>\n",
              "      <td>7</td>\n",
              "      <td>mohammad-rizwan</td>\n",
              "    </tr>\n",
              "    <tr>\n",
              "      <th>2</th>\n",
              "      <td>47686</td>\n",
              "      <td>एस मक़सूद</td>\n",
              "      <td>सोहेब मक़सूद</td>\n",
              "      <td>Sohaib Maqsood</td>\n",
              "      <td>M</td>\n",
              "      <td>{'year': 1987, 'month': 4, 'date': 15}</td>\n",
              "      <td>7</td>\n",
              "      <td>sohaib-maqsood</td>\n",
              "    </tr>\n",
              "    <tr>\n",
              "      <th>3</th>\n",
              "      <td>53649</td>\n",
              "      <td>आर आर रुसो</td>\n",
              "      <td>राइली रुसो</td>\n",
              "      <td>Rossouw, RR</td>\n",
              "      <td>M</td>\n",
              "      <td>{'year': 1989, 'month': 10, 'date': 9}</td>\n",
              "      <td>3</td>\n",
              "      <td>rilee-rossouw</td>\n",
              "    </tr>\n",
              "    <tr>\n",
              "      <th>4</th>\n",
              "      <td>72393</td>\n",
              "      <td>एस हेटमायर</td>\n",
              "      <td>शिमरॉन हेटमायर</td>\n",
              "      <td>Hetmyer, SO</td>\n",
              "      <td>M</td>\n",
              "      <td>{'year': 1996, 'month': 12, 'date': 26}</td>\n",
              "      <td>4</td>\n",
              "      <td>shimron-hetmyer</td>\n",
              "    </tr>\n",
              "  </tbody>\n",
              "</table>\n",
              "</div>"
            ],
            "text/plain": [
              "      id  hindi_name  ... country_id                slug\n",
              "0  90143  आर गुरबाज़  ...         40  rahmanullah-gurbaz\n",
              "1  54018  एम रिज़वान  ...          7     mohammad-rizwan\n",
              "2  47686   एस मक़सूद  ...          7      sohaib-maqsood\n",
              "3  53649  आर आर रुसो  ...          3       rilee-rossouw\n",
              "4  72393  एस हेटमायर  ...          4     shimron-hetmyer\n",
              "\n",
              "[5 rows x 8 columns]"
            ]
          },
          "metadata": {},
          "execution_count": 71
        }
      ]
    },
    {
      "cell_type": "code",
      "metadata": {
        "id": "Zyc762NtcILn"
      },
      "source": [
        "input_target_df = pd.concat([\n",
        "                             input_target_df, \n",
        "                             cricket_df[['hindi_long_name', 'english_name']].rename(columns={\"hindi_long_name\": \"hindi\", \"english_name\": \"english\"}) \n",
        "                             ], ignore_index=True)"
      ],
      "execution_count": 72,
      "outputs": []
    },
    {
      "cell_type": "markdown",
      "metadata": {
        "id": "iDtsnXBQa7m2"
      },
      "source": [
        "## load Dakshina Dataset"
      ]
    },
    {
      "cell_type": "code",
      "metadata": {
        "id": "YWUoa66ea0xR"
      },
      "source": [
        "\n",
        "dakshina_df = pd.read_csv('hi.translit.sampled.train.tsv', sep='\\t', names=[\"hindi\", \"english\", \"freq\"])"
      ],
      "execution_count": 73,
      "outputs": []
    },
    {
      "cell_type": "code",
      "metadata": {
        "colab": {
          "base_uri": "https://localhost:8080/",
          "height": 206
        },
        "id": "LvzPQO06bONy",
        "outputId": "8e82ccdd-f42f-46b2-ff0b-86ba43cd0b7c"
      },
      "source": [
        "dakshina_df.head()"
      ],
      "execution_count": 74,
      "outputs": [
        {
          "output_type": "execute_result",
          "data": {
            "text/html": [
              "<div>\n",
              "<style scoped>\n",
              "    .dataframe tbody tr th:only-of-type {\n",
              "        vertical-align: middle;\n",
              "    }\n",
              "\n",
              "    .dataframe tbody tr th {\n",
              "        vertical-align: top;\n",
              "    }\n",
              "\n",
              "    .dataframe thead th {\n",
              "        text-align: right;\n",
              "    }\n",
              "</style>\n",
              "<table border=\"1\" class=\"dataframe\">\n",
              "  <thead>\n",
              "    <tr style=\"text-align: right;\">\n",
              "      <th></th>\n",
              "      <th>hindi</th>\n",
              "      <th>english</th>\n",
              "      <th>freq</th>\n",
              "    </tr>\n",
              "  </thead>\n",
              "  <tbody>\n",
              "    <tr>\n",
              "      <th>0</th>\n",
              "      <td>अं</td>\n",
              "      <td>an</td>\n",
              "      <td>3</td>\n",
              "    </tr>\n",
              "    <tr>\n",
              "      <th>1</th>\n",
              "      <td>अंकगणित</td>\n",
              "      <td>ankganit</td>\n",
              "      <td>3</td>\n",
              "    </tr>\n",
              "    <tr>\n",
              "      <th>2</th>\n",
              "      <td>अंकल</td>\n",
              "      <td>uncle</td>\n",
              "      <td>4</td>\n",
              "    </tr>\n",
              "    <tr>\n",
              "      <th>3</th>\n",
              "      <td>अंकुर</td>\n",
              "      <td>ankur</td>\n",
              "      <td>4</td>\n",
              "    </tr>\n",
              "    <tr>\n",
              "      <th>4</th>\n",
              "      <td>अंकुरण</td>\n",
              "      <td>ankuran</td>\n",
              "      <td>3</td>\n",
              "    </tr>\n",
              "  </tbody>\n",
              "</table>\n",
              "</div>"
            ],
            "text/plain": [
              "     hindi   english  freq\n",
              "0       अं        an     3\n",
              "1  अंकगणित  ankganit     3\n",
              "2     अंकल     uncle     4\n",
              "3    अंकुर     ankur     4\n",
              "4   अंकुरण   ankuran     3"
            ]
          },
          "metadata": {},
          "execution_count": 74
        }
      ]
    },
    {
      "cell_type": "code",
      "metadata": {
        "id": "X8aCM1ehbqWb"
      },
      "source": [
        "input_target_df = pd.concat([\n",
        "                             input_target_df, \n",
        "                             dakshina_df[['hindi', 'english']]\n",
        "                             ], ignore_index=True)"
      ],
      "execution_count": 75,
      "outputs": []
    },
    {
      "cell_type": "code",
      "metadata": {
        "colab": {
          "base_uri": "https://localhost:8080/",
          "height": 206
        },
        "id": "c_rJ_vXPcpGE",
        "outputId": "c1a87fef-a87c-479f-d92e-cb44b5d4e045"
      },
      "source": [
        "input_target_df.head()"
      ],
      "execution_count": 76,
      "outputs": [
        {
          "output_type": "execute_result",
          "data": {
            "text/html": [
              "<div>\n",
              "<style scoped>\n",
              "    .dataframe tbody tr th:only-of-type {\n",
              "        vertical-align: middle;\n",
              "    }\n",
              "\n",
              "    .dataframe tbody tr th {\n",
              "        vertical-align: top;\n",
              "    }\n",
              "\n",
              "    .dataframe thead th {\n",
              "        text-align: right;\n",
              "    }\n",
              "</style>\n",
              "<table border=\"1\" class=\"dataframe\">\n",
              "  <thead>\n",
              "    <tr style=\"text-align: right;\">\n",
              "      <th></th>\n",
              "      <th>hindi</th>\n",
              "      <th>english</th>\n",
              "    </tr>\n",
              "  </thead>\n",
              "  <tbody>\n",
              "    <tr>\n",
              "      <th>0</th>\n",
              "      <td>प्रयात सुबोध चन्द्र दास</td>\n",
              "      <td>LATE SUBODH CHANDRA DAS</td>\n",
              "    </tr>\n",
              "    <tr>\n",
              "      <th>1</th>\n",
              "      <td>स्वर्गीय पिनाकि कुंडू</td>\n",
              "      <td>LATE PINAKI KUNDU</td>\n",
              "    </tr>\n",
              "    <tr>\n",
              "      <th>2</th>\n",
              "      <td>मृत नूर महम्मद बिश्वास</td>\n",
              "      <td>Late Nur Mohammad Biswas</td>\n",
              "    </tr>\n",
              "    <tr>\n",
              "      <th>3</th>\n",
              "      <td>स्वर्गीय पिनाकि कुंडू</td>\n",
              "      <td>LATE PINAKI KUNDU</td>\n",
              "    </tr>\n",
              "    <tr>\n",
              "      <th>4</th>\n",
              "      <td>स्वर्गीय आली महममद</td>\n",
              "      <td>LT. ALI MOHAMMAD</td>\n",
              "    </tr>\n",
              "  </tbody>\n",
              "</table>\n",
              "</div>"
            ],
            "text/plain": [
              "                     hindi                   english\n",
              "0  प्रयात सुबोध चन्द्र दास   LATE SUBODH CHANDRA DAS\n",
              "1    स्वर्गीय पिनाकि कुंडू         LATE PINAKI KUNDU\n",
              "2   मृत नूर महम्मद बिश्वास  Late Nur Mohammad Biswas\n",
              "3    स्वर्गीय पिनाकि कुंडू         LATE PINAKI KUNDU\n",
              "4       स्वर्गीय आली महममद          LT. ALI MOHAMMAD"
            ]
          },
          "metadata": {},
          "execution_count": 76
        }
      ]
    },
    {
      "cell_type": "code",
      "metadata": {
        "colab": {
          "base_uri": "https://localhost:8080/"
        },
        "id": "oxaiXS4yc90U",
        "outputId": "bf42fb95-1e9b-422b-a6c1-56a3e7865e5a"
      },
      "source": [
        "input_target_df.info()"
      ],
      "execution_count": 77,
      "outputs": [
        {
          "output_type": "stream",
          "name": "stdout",
          "text": [
            "<class 'pandas.core.frame.DataFrame'>\n",
            "RangeIndex: 77908 entries, 0 to 77907\n",
            "Data columns (total 2 columns):\n",
            " #   Column   Non-Null Count  Dtype \n",
            "---  ------   --------------  ----- \n",
            " 0   hindi    72727 non-null  object\n",
            " 1   english  77906 non-null  object\n",
            "dtypes: object(2)\n",
            "memory usage: 1.2+ MB\n"
          ]
        }
      ]
    },
    {
      "cell_type": "code",
      "metadata": {
        "id": "7WVfnG3RSDz0"
      },
      "source": [
        "input_target_df = input_target_df.dropna()"
      ],
      "execution_count": 78,
      "outputs": []
    },
    {
      "cell_type": "code",
      "metadata": {
        "colab": {
          "base_uri": "https://localhost:8080/"
        },
        "id": "rs0mMz4ndDCG",
        "outputId": "3b304d4e-cb89-48d7-f412-e04c874c2caa"
      },
      "source": [
        "input_target_df.info()"
      ],
      "execution_count": 79,
      "outputs": [
        {
          "output_type": "stream",
          "name": "stdout",
          "text": [
            "<class 'pandas.core.frame.DataFrame'>\n",
            "Int64Index: 72725 entries, 0 to 77907\n",
            "Data columns (total 2 columns):\n",
            " #   Column   Non-Null Count  Dtype \n",
            "---  ------   --------------  ----- \n",
            " 0   hindi    72725 non-null  object\n",
            " 1   english  72725 non-null  object\n",
            "dtypes: object(2)\n",
            "memory usage: 1.7+ MB\n"
          ]
        }
      ]
    },
    {
      "cell_type": "code",
      "metadata": {
        "id": "7gujOMDzS1O_"
      },
      "source": [
        "# strip and make lower case\n",
        "input_target_df['hindi'] = input_target_df['hindi'].str.strip() # hindi has no caps\n",
        "input_target_df['english'] = input_target_df['english'].str.strip().str.lower()"
      ],
      "execution_count": 80,
      "outputs": []
    },
    {
      "cell_type": "code",
      "metadata": {
        "colab": {
          "base_uri": "https://localhost:8080/",
          "height": 206
        },
        "id": "aJDDFPvhTv3e",
        "outputId": "e9bceb0c-678a-4d01-954c-342c79dace1d"
      },
      "source": [
        "input_target_df.head()"
      ],
      "execution_count": 81,
      "outputs": [
        {
          "output_type": "execute_result",
          "data": {
            "text/html": [
              "<div>\n",
              "<style scoped>\n",
              "    .dataframe tbody tr th:only-of-type {\n",
              "        vertical-align: middle;\n",
              "    }\n",
              "\n",
              "    .dataframe tbody tr th {\n",
              "        vertical-align: top;\n",
              "    }\n",
              "\n",
              "    .dataframe thead th {\n",
              "        text-align: right;\n",
              "    }\n",
              "</style>\n",
              "<table border=\"1\" class=\"dataframe\">\n",
              "  <thead>\n",
              "    <tr style=\"text-align: right;\">\n",
              "      <th></th>\n",
              "      <th>hindi</th>\n",
              "      <th>english</th>\n",
              "    </tr>\n",
              "  </thead>\n",
              "  <tbody>\n",
              "    <tr>\n",
              "      <th>0</th>\n",
              "      <td>प्रयात सुबोध चन्द्र दास</td>\n",
              "      <td>late subodh chandra das</td>\n",
              "    </tr>\n",
              "    <tr>\n",
              "      <th>1</th>\n",
              "      <td>स्वर्गीय पिनाकि कुंडू</td>\n",
              "      <td>late pinaki kundu</td>\n",
              "    </tr>\n",
              "    <tr>\n",
              "      <th>2</th>\n",
              "      <td>मृत नूर महम्मद बिश्वास</td>\n",
              "      <td>late nur mohammad biswas</td>\n",
              "    </tr>\n",
              "    <tr>\n",
              "      <th>3</th>\n",
              "      <td>स्वर्गीय पिनाकि कुंडू</td>\n",
              "      <td>late pinaki kundu</td>\n",
              "    </tr>\n",
              "    <tr>\n",
              "      <th>4</th>\n",
              "      <td>स्वर्गीय आली महममद</td>\n",
              "      <td>lt. ali mohammad</td>\n",
              "    </tr>\n",
              "  </tbody>\n",
              "</table>\n",
              "</div>"
            ],
            "text/plain": [
              "                     hindi                   english\n",
              "0  प्रयात सुबोध चन्द्र दास   late subodh chandra das\n",
              "1    स्वर्गीय पिनाकि कुंडू         late pinaki kundu\n",
              "2   मृत नूर महम्मद बिश्वास  late nur mohammad biswas\n",
              "3    स्वर्गीय पिनाकि कुंडू         late pinaki kundu\n",
              "4       स्वर्गीय आली महममद          lt. ali mohammad"
            ]
          },
          "metadata": {},
          "execution_count": 81
        }
      ]
    },
    {
      "cell_type": "code",
      "metadata": {
        "id": "tUmbiLe8T7rk"
      },
      "source": [
        "# Strip out any abbreviated names\n",
        "input_target_df = input_target_df[~input_target_df['english'].str.contains('\\.')]\n",
        "input_target_df = input_target_df[~input_target_df['english'].str.contains(',')]"
      ],
      "execution_count": 82,
      "outputs": []
    },
    {
      "cell_type": "code",
      "metadata": {
        "colab": {
          "base_uri": "https://localhost:8080/"
        },
        "id": "GRkMX8QcVbKg",
        "outputId": "6f742d59-10d9-4316-c959-e849faaf910d"
      },
      "source": [
        "input_target_df.info()"
      ],
      "execution_count": 83,
      "outputs": [
        {
          "output_type": "stream",
          "name": "stdout",
          "text": [
            "<class 'pandas.core.frame.DataFrame'>\n",
            "Int64Index: 63899 entries, 0 to 77907\n",
            "Data columns (total 2 columns):\n",
            " #   Column   Non-Null Count  Dtype \n",
            "---  ------   --------------  ----- \n",
            " 0   hindi    63899 non-null  object\n",
            " 1   english  63899 non-null  object\n",
            "dtypes: object(2)\n",
            "memory usage: 1.5+ MB\n"
          ]
        }
      ]
    },
    {
      "cell_type": "code",
      "metadata": {
        "id": "dyzG08H1Z3Ch"
      },
      "source": [
        "# drop duplicates\n",
        "input_target_df = input_target_df.drop_duplicates()"
      ],
      "execution_count": 84,
      "outputs": []
    },
    {
      "cell_type": "code",
      "metadata": {
        "colab": {
          "base_uri": "https://localhost:8080/"
        },
        "id": "52H8_u4maYM2",
        "outputId": "ef0a788a-d195-4a2d-f9db-251dbc223fbc"
      },
      "source": [
        "input_target_df.info()"
      ],
      "execution_count": 85,
      "outputs": [
        {
          "output_type": "stream",
          "name": "stdout",
          "text": [
            "<class 'pandas.core.frame.DataFrame'>\n",
            "Int64Index: 55821 entries, 0 to 77907\n",
            "Data columns (total 2 columns):\n",
            " #   Column   Non-Null Count  Dtype \n",
            "---  ------   --------------  ----- \n",
            " 0   hindi    55821 non-null  object\n",
            " 1   english  55821 non-null  object\n",
            "dtypes: object(2)\n",
            "memory usage: 1.3+ MB\n"
          ]
        }
      ]
    },
    {
      "cell_type": "code",
      "metadata": {
        "id": "DnQHxhVye07D"
      },
      "source": [
        "# Remove if target has non-english \n",
        "def isEnglish(s):\n",
        "  try:\n",
        "      s.encode(encoding='utf-8').decode('ascii')\n",
        "  except UnicodeDecodeError:\n",
        "      return False\n",
        "  else:\n",
        "      return True\n",
        "\n",
        "input_target_df = input_target_df[input_target_df['english'].apply(isEnglish)]"
      ],
      "execution_count": 86,
      "outputs": []
    },
    {
      "cell_type": "code",
      "metadata": {
        "colab": {
          "base_uri": "https://localhost:8080/"
        },
        "id": "sEGVeRyrgJJc",
        "outputId": "02fdc64a-149a-468c-d142-db7311ba9d72"
      },
      "source": [
        "input_target_df.info()"
      ],
      "execution_count": 87,
      "outputs": [
        {
          "output_type": "stream",
          "name": "stdout",
          "text": [
            "<class 'pandas.core.frame.DataFrame'>\n",
            "Int64Index: 55768 entries, 0 to 77907\n",
            "Data columns (total 2 columns):\n",
            " #   Column   Non-Null Count  Dtype \n",
            "---  ------   --------------  ----- \n",
            " 0   hindi    55768 non-null  object\n",
            " 1   english  55768 non-null  object\n",
            "dtypes: object(2)\n",
            "memory usage: 1.3+ MB\n"
          ]
        }
      ]
    },
    {
      "cell_type": "code",
      "metadata": {
        "id": "URH4OE1pq4rM"
      },
      "source": [
        "# append start and end of sequence for target\n",
        "sos = '^'\n",
        "eos = '$'\n",
        "\n",
        "input_target_df['english'] = sos + input_target_df['english'].astype(str) + eos\n",
        "#input_target_df['hindi'] = sos + input_target_df['hindi'].astype(str) + eos"
      ],
      "execution_count": 88,
      "outputs": []
    },
    {
      "cell_type": "code",
      "metadata": {
        "id": "AahQxw3J5_ax"
      },
      "source": [
        "input_words =  input_target_df['hindi'].tolist()\n",
        "target_words =  input_target_df['english'].tolist()"
      ],
      "execution_count": 89,
      "outputs": []
    },
    {
      "cell_type": "code",
      "metadata": {
        "colab": {
          "base_uri": "https://localhost:8080/",
          "height": 206
        },
        "id": "6iTp4oeowr7c",
        "outputId": "a99fe873-5413-42fd-dd02-564d4b0b3247"
      },
      "source": [
        "input_target_df.head()"
      ],
      "execution_count": 90,
      "outputs": [
        {
          "output_type": "execute_result",
          "data": {
            "text/html": [
              "<div>\n",
              "<style scoped>\n",
              "    .dataframe tbody tr th:only-of-type {\n",
              "        vertical-align: middle;\n",
              "    }\n",
              "\n",
              "    .dataframe tbody tr th {\n",
              "        vertical-align: top;\n",
              "    }\n",
              "\n",
              "    .dataframe thead th {\n",
              "        text-align: right;\n",
              "    }\n",
              "</style>\n",
              "<table border=\"1\" class=\"dataframe\">\n",
              "  <thead>\n",
              "    <tr style=\"text-align: right;\">\n",
              "      <th></th>\n",
              "      <th>hindi</th>\n",
              "      <th>english</th>\n",
              "    </tr>\n",
              "  </thead>\n",
              "  <tbody>\n",
              "    <tr>\n",
              "      <th>0</th>\n",
              "      <td>प्रयात सुबोध चन्द्र दास</td>\n",
              "      <td>^late subodh chandra das$</td>\n",
              "    </tr>\n",
              "    <tr>\n",
              "      <th>1</th>\n",
              "      <td>स्वर्गीय पिनाकि कुंडू</td>\n",
              "      <td>^late pinaki kundu$</td>\n",
              "    </tr>\n",
              "    <tr>\n",
              "      <th>2</th>\n",
              "      <td>मृत नूर महम्मद बिश्वास</td>\n",
              "      <td>^late nur mohammad biswas$</td>\n",
              "    </tr>\n",
              "    <tr>\n",
              "      <th>5</th>\n",
              "      <td>नारायण चंद्र डॉं</td>\n",
              "      <td>^narayan chandra dawn$</td>\n",
              "    </tr>\n",
              "    <tr>\n",
              "      <th>7</th>\n",
              "      <td>आब्दुल मन्नान</td>\n",
              "      <td>^abdul mannan$</td>\n",
              "    </tr>\n",
              "  </tbody>\n",
              "</table>\n",
              "</div>"
            ],
            "text/plain": [
              "                     hindi                     english\n",
              "0  प्रयात सुबोध चन्द्र दास   ^late subodh chandra das$\n",
              "1    स्वर्गीय पिनाकि कुंडू         ^late pinaki kundu$\n",
              "2   मृत नूर महम्मद बिश्वास  ^late nur mohammad biswas$\n",
              "5         नारायण चंद्र डॉं      ^narayan chandra dawn$\n",
              "7            आब्दुल मन्नान              ^abdul mannan$"
            ]
          },
          "metadata": {},
          "execution_count": 90
        }
      ]
    },
    {
      "cell_type": "code",
      "metadata": {
        "colab": {
          "base_uri": "https://localhost:8080/"
        },
        "id": "lpsCJ3kv7LkA",
        "outputId": "35940d18-bf37-4075-c825-1792b4728e64"
      },
      "source": [
        "print(input_words[0])\n",
        "print(target_words[0])"
      ],
      "execution_count": 91,
      "outputs": [
        {
          "output_type": "stream",
          "name": "stdout",
          "text": [
            "प्रयात सुबोध चन्द्र दास\n",
            "^late subodh chandra das$\n"
          ]
        }
      ]
    },
    {
      "cell_type": "markdown",
      "metadata": {
        "id": "yc_EtYnGAzSd"
      },
      "source": [
        "# Preparing Datasets"
      ]
    },
    {
      "cell_type": "code",
      "metadata": {
        "colab": {
          "base_uri": "https://localhost:8080/"
        },
        "id": "X3pGuZOyQ1D2",
        "outputId": "3611ec4c-fbdd-4c1f-e648-bb2db990ba62"
      },
      "source": [
        "print(f\"Total number of input words {len(input_words)}\")\n",
        "print(f\"Total number of target words {len(target_words)}\")"
      ],
      "execution_count": 92,
      "outputs": [
        {
          "output_type": "stream",
          "name": "stdout",
          "text": [
            "Total number of input words 55768\n",
            "Total number of target words 55768\n"
          ]
        }
      ]
    },
    {
      "cell_type": "code",
      "metadata": {
        "colab": {
          "base_uri": "https://localhost:8080/",
          "height": 35
        },
        "id": "XgkLAbC7XfRx",
        "outputId": "464a10d2-1463-47ca-9d27-a46f3ba1b544"
      },
      "source": [
        "input_words[0]"
      ],
      "execution_count": 93,
      "outputs": [
        {
          "output_type": "execute_result",
          "data": {
            "application/vnd.google.colaboratory.intrinsic+json": {
              "type": "string"
            },
            "text/plain": [
              "'प्रयात सुबोध चन्द्र दास'"
            ]
          },
          "metadata": {},
          "execution_count": 93
        }
      ]
    },
    {
      "cell_type": "code",
      "metadata": {
        "colab": {
          "base_uri": "https://localhost:8080/",
          "height": 35
        },
        "id": "p4zkpW4ZZBp_",
        "outputId": "4c0a1701-0ee1-4b6f-9e14-906ff9863cf1"
      },
      "source": [
        "target_words[0]"
      ],
      "execution_count": 94,
      "outputs": [
        {
          "output_type": "execute_result",
          "data": {
            "application/vnd.google.colaboratory.intrinsic+json": {
              "type": "string"
            },
            "text/plain": [
              "'^late subodh chandra das$'"
            ]
          },
          "metadata": {},
          "execution_count": 94
        }
      ]
    },
    {
      "cell_type": "code",
      "metadata": {
        "id": "eskEz7DGX2Fi"
      },
      "source": [
        "input_lang_tokenizer = tf.keras.preprocessing.text.Tokenizer(filters='', char_level=True)\n",
        "input_lang_tokenizer.fit_on_texts(input_words)\n",
        "input_tensor = input_lang_tokenizer.texts_to_sequences(input_words)\n",
        "input_tensor = tf.keras.preprocessing.sequence.pad_sequences(input_tensor, padding='post')"
      ],
      "execution_count": 95,
      "outputs": []
    },
    {
      "cell_type": "code",
      "metadata": {
        "id": "PuIY3QAJZLow"
      },
      "source": [
        "target_lang_tokenizer = tf.keras.preprocessing.text.Tokenizer(filters='', char_level=True)\n",
        "target_lang_tokenizer.fit_on_texts(target_words)\n",
        "target_tensor = target_lang_tokenizer.texts_to_sequences(target_words)\n",
        "target_tensor = tf.keras.preprocessing.sequence.pad_sequences(target_tensor, padding='post')"
      ],
      "execution_count": 96,
      "outputs": []
    },
    {
      "cell_type": "code",
      "metadata": {
        "id": "2aIaMcicI4gX"
      },
      "source": [
        "# save tokenizers\n",
        "hindi_tokenizer_json = input_lang_tokenizer.to_json()\n",
        "with open('hindi_tokens.json', 'w') as f:\n",
        "  json.dump(hindi_tokenizer_json, f)\n",
        "\n",
        "english_tokenizer_json = target_lang_tokenizer.to_json()\n",
        "with open('english_tokens.json', 'w') as f:\n",
        "  json.dump(english_tokenizer_json, f)"
      ],
      "execution_count": 175,
      "outputs": []
    },
    {
      "cell_type": "code",
      "metadata": {
        "id": "xrfGzbATUKB2"
      },
      "source": [
        "# split train and validation\n",
        "input_tensor_train, input_tensor_val, target_tensor_train, target_tensor_val = train_test_split(input_tensor, target_tensor, test_size=0.2)"
      ],
      "execution_count": 97,
      "outputs": []
    },
    {
      "cell_type": "code",
      "metadata": {
        "id": "SBYjb3hgVsnP"
      },
      "source": [
        "BATCH_SIZE = 64\n",
        "BUFFER_SIZE = 60000\n",
        "\n",
        "train_dataset = tf.data.Dataset.from_tensor_slices((input_tensor_train, target_tensor_train))\n",
        "train_dataset = train_dataset.shuffle(BUFFER_SIZE).batch(BATCH_SIZE, drop_remainder=True)\n",
        "\n",
        "val_dataset = tf.data.Dataset.from_tensor_slices((input_tensor_val, target_tensor_val))\n",
        "val_dataset = val_dataset.batch(BATCH_SIZE, drop_remainder=True)"
      ],
      "execution_count": 98,
      "outputs": []
    },
    {
      "cell_type": "code",
      "metadata": {
        "colab": {
          "base_uri": "https://localhost:8080/"
        },
        "id": "f4K4ynE0XEox",
        "outputId": "25089e6b-2ac0-4d34-e92f-73a0af77b80d"
      },
      "source": [
        "example_input_batch, example_target_batch = next(iter(train_dataset))\n",
        "example_input_batch.shape, example_target_batch.shape"
      ],
      "execution_count": 99,
      "outputs": [
        {
          "output_type": "execute_result",
          "data": {
            "text/plain": [
              "(TensorShape([64, 47]), TensorShape([64, 49]))"
            ]
          },
          "metadata": {},
          "execution_count": 99
        }
      ]
    },
    {
      "cell_type": "code",
      "metadata": {
        "colab": {
          "base_uri": "https://localhost:8080/"
        },
        "id": "86h3hYb0gS--",
        "outputId": "bfa2aa2a-f35b-4536-991a-ca9e059567b1"
      },
      "source": [
        "len(input_lang_tokenizer.word_index)"
      ],
      "execution_count": 100,
      "outputs": [
        {
          "output_type": "execute_result",
          "data": {
            "text/plain": [
              "165"
            ]
          },
          "metadata": {},
          "execution_count": 100
        }
      ]
    },
    {
      "cell_type": "code",
      "metadata": {
        "colab": {
          "base_uri": "https://localhost:8080/"
        },
        "id": "AghNpnFjhW3u",
        "outputId": "4ff83fc4-63cc-4ab3-bae0-2e552fde7fb8"
      },
      "source": [
        "input_tensor[0]"
      ],
      "execution_count": 101,
      "outputs": [
        {
          "output_type": "execute_result",
          "data": {
            "text/plain": [
              "array([16,  3,  2, 17,  1, 12, 11,  7, 18, 22, 20, 31, 11, 28,  4,  3, 19,\n",
              "        3,  2, 11, 19,  1,  7,  0,  0,  0,  0,  0,  0,  0,  0,  0,  0,  0,\n",
              "        0,  0,  0,  0,  0,  0,  0,  0,  0,  0,  0,  0,  0], dtype=int32)"
            ]
          },
          "metadata": {},
          "execution_count": 101
        }
      ]
    },
    {
      "cell_type": "code",
      "metadata": {
        "id": "IvoWJ0vzf_gR"
      },
      "source": [
        "# Generating text from sequence (mapping back)\n",
        "def sequence_to_chars(tokenizer, sequence):\n",
        "  word_index = tokenizer.word_index\n",
        "  reverse_map = {val:key for key, val in word_index.items()}\n",
        "  retext = ''\n",
        "  for q in sequence:\n",
        "    if q != 0:\n",
        "      retext += reverse_map[q]\n",
        "  return retext\n",
        "#hello run "
      ],
      "execution_count": 102,
      "outputs": []
    },
    {
      "cell_type": "code",
      "metadata": {
        "colab": {
          "base_uri": "https://localhost:8080/",
          "height": 35
        },
        "id": "Wc7Qmla9CzqB",
        "outputId": "98f3ee1e-37ba-41ff-cc7d-757f8c7d3693"
      },
      "source": [
        "sequence_to_chars(input_lang_tokenizer,input_tensor[0])"
      ],
      "execution_count": 103,
      "outputs": [
        {
          "output_type": "execute_result",
          "data": {
            "application/vnd.google.colaboratory.intrinsic+json": {
              "type": "string"
            },
            "text/plain": [
              "'प्रयात सुबोध चन्द्र दास'"
            ]
          },
          "metadata": {},
          "execution_count": 103
        }
      ]
    },
    {
      "cell_type": "code",
      "metadata": {
        "colab": {
          "base_uri": "https://localhost:8080/",
          "height": 35
        },
        "id": "91eOnhn4hjfs",
        "outputId": "12429d0e-6327-4d1a-b724-5ccf2c266b53"
      },
      "source": [
        "input_words[0]"
      ],
      "execution_count": 104,
      "outputs": [
        {
          "output_type": "execute_result",
          "data": {
            "application/vnd.google.colaboratory.intrinsic+json": {
              "type": "string"
            },
            "text/plain": [
              "'प्रयात सुबोध चन्द्र दास'"
            ]
          },
          "metadata": {},
          "execution_count": 104
        }
      ]
    },
    {
      "cell_type": "code",
      "metadata": {
        "colab": {
          "base_uri": "https://localhost:8080/"
        },
        "id": "rUYf1endEDUQ",
        "outputId": "07d1f367-58fe-492f-be67-86a44f4401cf"
      },
      "source": [
        "input_tensor.shape"
      ],
      "execution_count": 105,
      "outputs": [
        {
          "output_type": "execute_result",
          "data": {
            "text/plain": [
              "(55768, 47)"
            ]
          },
          "metadata": {},
          "execution_count": 105
        }
      ]
    },
    {
      "cell_type": "code",
      "metadata": {
        "colab": {
          "base_uri": "https://localhost:8080/"
        },
        "id": "sTMVUUVGEQvs",
        "outputId": "6f14fea0-6d1f-45d9-eddd-ae829d209d20"
      },
      "source": [
        "target_tensor.shape"
      ],
      "execution_count": 106,
      "outputs": [
        {
          "output_type": "execute_result",
          "data": {
            "text/plain": [
              "(55768, 49)"
            ]
          },
          "metadata": {},
          "execution_count": 106
        }
      ]
    },
    {
      "cell_type": "code",
      "metadata": {
        "id": "-dxT9ms4YG1y"
      },
      "source": [
        "vocab_inp_size = len(input_lang_tokenizer.word_index)+1\n",
        "vocab_tar_size = len(target_lang_tokenizer.word_index)+1\n",
        "\n",
        "max_length_input = input_tensor.shape[1]\n",
        "max_length_output = target_tensor.shape[1]\n",
        "\n",
        "embedding_dim = 256\n",
        "units = 1024\n",
        "steps_per_epoch = input_tensor.shape[0]//BATCH_SIZE"
      ],
      "execution_count": 107,
      "outputs": []
    },
    {
      "cell_type": "code",
      "metadata": {
        "colab": {
          "base_uri": "https://localhost:8080/"
        },
        "id": "HZLsjCHrZGuP",
        "outputId": "4d394b87-d671-4070-de3e-cc9e733cfc12"
      },
      "source": [
        "print('Number of samples:', len(input_words))\n",
        "\n",
        "print('Input Vocab size:', vocab_inp_size)\n",
        "print('Target Vocab size:', vocab_tar_size)\n",
        "\n",
        "print('Max sequence length for inputs:', max_length_input)\n",
        "print('Max sequence length for outputs:', max_length_output)"
      ],
      "execution_count": 108,
      "outputs": [
        {
          "output_type": "stream",
          "name": "stdout",
          "text": [
            "Number of samples: 55768\n",
            "Input Vocab size: 166\n",
            "Target Vocab size: 36\n",
            "Max sequence length for inputs: 47\n",
            "Max sequence length for outputs: 49\n"
          ]
        }
      ]
    },
    {
      "cell_type": "markdown",
      "metadata": {
        "id": "NwAmsZxNFHaL"
      },
      "source": [
        "# Encoder"
      ]
    },
    {
      "cell_type": "code",
      "metadata": {
        "id": "dIs_pMYeFK2d"
      },
      "source": [
        "class Encoder(tf.keras.Model):\n",
        "  def __init__(self, vocab_size, embedding_dim, enc_units, batch_sz):\n",
        "    super(Encoder, self).__init__()\n",
        "    self.batch_sz = batch_sz\n",
        "    self.enc_units = enc_units\n",
        "    self.embedding = tf.keras.layers.Embedding(vocab_size, embedding_dim)\n",
        "\n",
        "    ##-------- LSTM layer in Encoder ------- ##\n",
        "    self.lstm_layer = tf.keras.layers.LSTM(self.enc_units,\n",
        "                                   return_sequences=True,\n",
        "                                   return_state=True,\n",
        "                                   recurrent_initializer='glorot_uniform')\n",
        "    \n",
        "\n",
        "\n",
        "  def call(self, x, hidden):\n",
        "    x = self.embedding(x)\n",
        "    output, h, c = self.lstm_layer(x, initial_state = hidden)\n",
        "    return output, h, c\n",
        "\n",
        "  def initialize_hidden_state(self):\n",
        "    return [tf.zeros((self.batch_sz, self.enc_units)), tf.zeros((self.batch_sz, self.enc_units))]"
      ],
      "execution_count": 109,
      "outputs": []
    },
    {
      "cell_type": "code",
      "metadata": {
        "colab": {
          "base_uri": "https://localhost:8080/"
        },
        "id": "Sspc7h1bFQrB",
        "outputId": "d031afb2-f41d-4671-f481-f9fb3fd4960c"
      },
      "source": [
        "## Test Encoder Stack\n",
        "\n",
        "encoder = Encoder(vocab_inp_size, embedding_dim, units, BATCH_SIZE)\n",
        "\n",
        "\n",
        "# sample input\n",
        "sample_hidden = encoder.initialize_hidden_state()\n",
        "sample_output, sample_h, sample_c = encoder(example_input_batch, sample_hidden)\n",
        "print ('Encoder output shape: (batch size, sequence length, units) {}'.format(sample_output.shape))\n",
        "print ('Encoder h vecotr shape: (batch size, units) {}'.format(sample_h.shape))\n",
        "print ('Encoder c vector shape: (batch size, units) {}'.format(sample_c.shape))"
      ],
      "execution_count": 110,
      "outputs": [
        {
          "output_type": "stream",
          "name": "stdout",
          "text": [
            "Encoder output shape: (batch size, sequence length, units) (64, 47, 1024)\n",
            "Encoder h vecotr shape: (batch size, units) (64, 1024)\n",
            "Encoder c vector shape: (batch size, units) (64, 1024)\n"
          ]
        }
      ]
    },
    {
      "cell_type": "markdown",
      "metadata": {
        "id": "XyMhO-FEFjpe"
      },
      "source": [
        "# Decoder"
      ]
    },
    {
      "cell_type": "code",
      "metadata": {
        "id": "d7KdMFlyFY63"
      },
      "source": [
        "class Decoder(tf.keras.Model):\n",
        "  def __init__(self, vocab_size, embedding_dim, dec_units, batch_sz, attention_type='luong'):\n",
        "    super(Decoder, self).__init__()\n",
        "    self.batch_sz = batch_sz\n",
        "    self.dec_units = dec_units\n",
        "    self.attention_type = attention_type\n",
        "    \n",
        "    # Embedding Layer\n",
        "    self.embedding = tf.keras.layers.Embedding(vocab_size, embedding_dim)\n",
        "    \n",
        "    #Final Dense layer on which softmax will be applied\n",
        "    self.fc = tf.keras.layers.Dense(vocab_size)\n",
        "\n",
        "    # Define the fundamental cell for decoder recurrent structure\n",
        "    self.decoder_rnn_cell = tf.keras.layers.LSTMCell(self.dec_units)\n",
        "   \n",
        "\n",
        "\n",
        "    # Sampler\n",
        "    self.sampler = tfa.seq2seq.sampler.TrainingSampler()\n",
        "\n",
        "    # Create attention mechanism with memory = None\n",
        "    self.attention_mechanism = self.build_attention_mechanism(self.dec_units, \n",
        "                                                              None, self.batch_sz*[max_length_input], self.attention_type)\n",
        "\n",
        "    # Wrap attention mechanism with the fundamental rnn cell of decoder\n",
        "    self.rnn_cell = self.build_rnn_cell(batch_sz)\n",
        "\n",
        "    # Define the decoder with respect to fundamental rnn cell\n",
        "    self.decoder = tfa.seq2seq.BasicDecoder(self.rnn_cell, sampler=self.sampler, output_layer=self.fc)\n",
        "\n",
        "    \n",
        "  def build_rnn_cell(self, batch_sz):\n",
        "    rnn_cell = tfa.seq2seq.AttentionWrapper(self.decoder_rnn_cell, \n",
        "                                  self.attention_mechanism, attention_layer_size=self.dec_units)\n",
        "    return rnn_cell\n",
        "\n",
        "  def build_attention_mechanism(self, dec_units, memory, memory_sequence_length, attention_type='luong'):\n",
        "    # ------------- #\n",
        "    # typ: Which sort of attention (Bahdanau, Luong)\n",
        "    # dec_units: final dimension of attention outputs \n",
        "    # memory: encoder hidden states of shape (batch_size, max_length_input, enc_units)\n",
        "    # memory_sequence_length: 1d array of shape (batch_size) with every element set to max_length_input (for masking purpose)\n",
        "\n",
        "    if(attention_type=='bahdanau'):\n",
        "      return tfa.seq2seq.BahdanauAttention(units=dec_units, memory=memory, memory_sequence_length=memory_sequence_length)\n",
        "    else:\n",
        "      return tfa.seq2seq.LuongAttention(units=dec_units, memory=memory, memory_sequence_length=memory_sequence_length)\n",
        "\n",
        "  def build_initial_state(self, batch_sz, encoder_state, Dtype):\n",
        "    decoder_initial_state = self.rnn_cell.get_initial_state(batch_size=batch_sz, dtype=Dtype)\n",
        "    decoder_initial_state = decoder_initial_state.clone(cell_state=encoder_state)\n",
        "    return decoder_initial_state\n",
        "\n",
        "\n",
        "  def call(self, inputs, initial_state):\n",
        "    x = self.embedding(inputs)\n",
        "    outputs, _, _ = self.decoder(x, initial_state=initial_state, sequence_length=self.batch_sz*[max_length_output-1])\n",
        "    return outputs"
      ],
      "execution_count": 114,
      "outputs": []
    },
    {
      "cell_type": "code",
      "metadata": {
        "colab": {
          "base_uri": "https://localhost:8080/"
        },
        "id": "VgAhtvTJFuUO",
        "outputId": "319ea1ed-d1f8-4a8a-fa65-deef0fd586bd"
      },
      "source": [
        "# Test decoder stack\n",
        "\n",
        "decoder = Decoder(vocab_tar_size, embedding_dim, units, BATCH_SIZE, 'luong')\n",
        "sample_x = tf.random.uniform((BATCH_SIZE, max_length_output))\n",
        "decoder.attention_mechanism.setup_memory(sample_output)\n",
        "initial_state = decoder.build_initial_state(BATCH_SIZE, [sample_h, sample_c], tf.float32)\n",
        "\n",
        "\n",
        "sample_decoder_outputs = decoder(sample_x, initial_state)\n",
        "\n",
        "print(\"Decoder Outputs Shape: \", sample_decoder_outputs.rnn_output.shape)"
      ],
      "execution_count": 115,
      "outputs": [
        {
          "output_type": "stream",
          "name": "stdout",
          "text": [
            "Decoder Outputs Shape:  (64, 48, 36)\n"
          ]
        }
      ]
    },
    {
      "cell_type": "markdown",
      "metadata": {
        "id": "0CZd0uprOC5u"
      },
      "source": [
        "# Optimizer and Loss function"
      ]
    },
    {
      "cell_type": "code",
      "metadata": {
        "id": "e6XwNYGQF-w9"
      },
      "source": [
        "optimizer = tf.keras.optimizers.Adam()\n",
        "\n",
        "\n",
        "def loss_function(real, pred):\n",
        "  # real shape = (BATCH_SIZE, max_length_output)\n",
        "  # pred shape = (BATCH_SIZE, max_length_output, tar_vocab_size )\n",
        "  cross_entropy = tf.keras.losses.SparseCategoricalCrossentropy(from_logits=True, reduction='none')\n",
        "  loss = cross_entropy(y_true=real, y_pred=pred)\n",
        "  mask = tf.logical_not(tf.math.equal(real,0))   #output 0 for y=0 else output 1\n",
        "  mask = tf.cast(mask, dtype=loss.dtype)  \n",
        "  loss = mask* loss\n",
        "  loss = tf.reduce_mean(loss)\n",
        "  return loss "
      ],
      "execution_count": 116,
      "outputs": []
    },
    {
      "cell_type": "markdown",
      "metadata": {
        "id": "QNmkC1s8GH5p"
      },
      "source": [
        "# Checkpoints"
      ]
    },
    {
      "cell_type": "code",
      "metadata": {
        "id": "BORw7KlMGHEc"
      },
      "source": [
        "checkpoint_dir = './training_checkpoints'\n",
        "checkpoint_prefix = os.path.join(checkpoint_dir, \"ckpt\")\n",
        "checkpoint = tf.train.Checkpoint(optimizer=optimizer,\n",
        "                                 encoder=encoder,\n",
        "                                 decoder=decoder)"
      ],
      "execution_count": 117,
      "outputs": []
    },
    {
      "cell_type": "markdown",
      "metadata": {
        "id": "zWXtyN1IGZj7"
      },
      "source": [
        "# One train_step operations"
      ]
    },
    {
      "cell_type": "code",
      "metadata": {
        "id": "id4QvZu7GY0S"
      },
      "source": [
        "@tf.function\n",
        "def train_step(inp, targ, enc_hidden):\n",
        "  loss = 0\n",
        "\n",
        "  with tf.GradientTape() as tape:\n",
        "    enc_output, enc_h, enc_c = encoder(inp, enc_hidden)\n",
        "\n",
        "\n",
        "    dec_input = targ[ : , :-1 ] # Ignore <end> token\n",
        "    real = targ[ : , 1: ]         # ignore <start> token\n",
        "\n",
        "    # Set the AttentionMechanism object with encoder_outputs\n",
        "    decoder.attention_mechanism.setup_memory(enc_output)\n",
        "\n",
        "    # Create AttentionWrapperState as initial_state for decoder\n",
        "    decoder_initial_state = decoder.build_initial_state(BATCH_SIZE, [enc_h, enc_c], tf.float32)\n",
        "    pred = decoder(dec_input, decoder_initial_state)\n",
        "    logits = pred.rnn_output\n",
        "    loss = loss_function(real, logits)\n",
        "\n",
        "  variables = encoder.trainable_variables + decoder.trainable_variables\n",
        "  gradients = tape.gradient(loss, variables)\n",
        "  optimizer.apply_gradients(zip(gradients, variables))\n",
        "\n",
        "  return loss"
      ],
      "execution_count": 88,
      "outputs": []
    },
    {
      "cell_type": "markdown",
      "metadata": {
        "id": "eMp54YzsOKwn"
      },
      "source": [
        "# Train"
      ]
    },
    {
      "cell_type": "code",
      "metadata": {
        "colab": {
          "base_uri": "https://localhost:8080/"
        },
        "id": "KZZhDbj2GmBE",
        "outputId": "71e868ec-83a4-4aa6-c2c5-4d9d6a3b7bb3"
      },
      "source": [
        "EPOCHS = 10\n",
        "\n",
        "for epoch in range(EPOCHS):\n",
        "  start = time.time()\n",
        "\n",
        "  enc_hidden = encoder.initialize_hidden_state()\n",
        "  total_loss = 0\n",
        "  # print(enc_hidden[0].shape, enc_hidden[1].shape)\n",
        "\n",
        "  for (batch, (inp, targ)) in enumerate(train_dataset.take(steps_per_epoch)):\n",
        "    batch_loss = train_step(inp, targ, enc_hidden)\n",
        "    total_loss += batch_loss\n",
        "\n",
        "    if batch % 100 == 0:\n",
        "      print('Epoch {} Batch {} Loss {:.4f}'.format(epoch + 1,\n",
        "                                                   batch,\n",
        "                                                   batch_loss.numpy()))\n",
        "  # saving (checkpoint) the model every 2 epochs\n",
        "  if (epoch + 1) % 2 == 0:\n",
        "    checkpoint.save(file_prefix = checkpoint_prefix)\n",
        "\n",
        "  print('Epoch {} Loss {:.4f}'.format(epoch + 1,\n",
        "                                      total_loss / steps_per_epoch))\n",
        "  print('Time taken for 1 epoch {} sec\\n'.format(time.time() - start))"
      ],
      "execution_count": 89,
      "outputs": [
        {
          "output_type": "stream",
          "name": "stdout",
          "text": [
            "Epoch 1 Batch 0 Loss 0.6853\n",
            "Epoch 1 Batch 100 Loss 0.4845\n",
            "Epoch 1 Batch 200 Loss 0.3211\n",
            "Epoch 1 Batch 300 Loss 0.1391\n",
            "Epoch 1 Batch 400 Loss 0.1226\n",
            "Epoch 1 Batch 500 Loss 0.1176\n",
            "Epoch 1 Batch 600 Loss 0.0865\n",
            "Epoch 1 Loss 0.1823\n",
            "Time taken for 1 epoch 99.79215931892395 sec\n",
            "\n",
            "Epoch 2 Batch 0 Loss 0.0792\n",
            "Epoch 2 Batch 100 Loss 0.0971\n",
            "Epoch 2 Batch 200 Loss 0.0967\n",
            "Epoch 2 Batch 300 Loss 0.0734\n",
            "Epoch 2 Batch 400 Loss 0.0806\n",
            "Epoch 2 Batch 500 Loss 0.0980\n",
            "Epoch 2 Batch 600 Loss 0.1018\n",
            "Epoch 2 Loss 0.0660\n",
            "Time taken for 1 epoch 97.75973582267761 sec\n",
            "\n",
            "Epoch 3 Batch 0 Loss 0.0729\n",
            "Epoch 3 Batch 100 Loss 0.0696\n",
            "Epoch 3 Batch 200 Loss 0.0642\n",
            "Epoch 3 Batch 300 Loss 0.0787\n",
            "Epoch 3 Batch 400 Loss 0.0636\n",
            "Epoch 3 Batch 500 Loss 0.0702\n",
            "Epoch 3 Batch 600 Loss 0.0768\n",
            "Epoch 3 Loss 0.0586\n",
            "Time taken for 1 epoch 97.23816680908203 sec\n",
            "\n",
            "Epoch 4 Batch 0 Loss 0.0714\n",
            "Epoch 4 Batch 100 Loss 0.0583\n",
            "Epoch 4 Batch 200 Loss 0.0814\n",
            "Epoch 4 Batch 300 Loss 0.0602\n",
            "Epoch 4 Batch 400 Loss 0.0778\n",
            "Epoch 4 Batch 500 Loss 0.0783\n",
            "Epoch 4 Batch 600 Loss 0.0628\n",
            "Epoch 4 Loss 0.0541\n",
            "Time taken for 1 epoch 97.54300951957703 sec\n",
            "\n",
            "Epoch 5 Batch 0 Loss 0.0679\n",
            "Epoch 5 Batch 100 Loss 0.0643\n",
            "Epoch 5 Batch 200 Loss 0.0506\n",
            "Epoch 5 Batch 300 Loss 0.0621\n",
            "Epoch 5 Batch 400 Loss 0.0557\n",
            "Epoch 5 Batch 500 Loss 0.0814\n",
            "Epoch 5 Batch 600 Loss 0.0587\n",
            "Epoch 5 Loss 0.0506\n",
            "Time taken for 1 epoch 96.82364511489868 sec\n",
            "\n",
            "Epoch 6 Batch 0 Loss 0.0491\n",
            "Epoch 6 Batch 100 Loss 0.0642\n",
            "Epoch 6 Batch 200 Loss 0.0712\n",
            "Epoch 6 Batch 300 Loss 0.0517\n",
            "Epoch 6 Batch 400 Loss 0.0594\n",
            "Epoch 6 Batch 500 Loss 0.0545\n",
            "Epoch 6 Batch 600 Loss 0.0612\n",
            "Epoch 6 Loss 0.0483\n",
            "Time taken for 1 epoch 97.12407517433167 sec\n",
            "\n",
            "Epoch 7 Batch 0 Loss 0.0454\n",
            "Epoch 7 Batch 100 Loss 0.0668\n",
            "Epoch 7 Batch 200 Loss 0.0659\n",
            "Epoch 7 Batch 300 Loss 0.0527\n",
            "Epoch 7 Batch 400 Loss 0.0502\n",
            "Epoch 7 Batch 500 Loss 0.0591\n",
            "Epoch 7 Batch 600 Loss 0.0480\n",
            "Epoch 7 Loss 0.0462\n",
            "Time taken for 1 epoch 96.78943300247192 sec\n",
            "\n",
            "Epoch 8 Batch 0 Loss 0.0495\n",
            "Epoch 8 Batch 100 Loss 0.0486\n",
            "Epoch 8 Batch 200 Loss 0.0461\n",
            "Epoch 8 Batch 300 Loss 0.0531\n",
            "Epoch 8 Batch 400 Loss 0.0645\n",
            "Epoch 8 Batch 500 Loss 0.0715\n",
            "Epoch 8 Batch 600 Loss 0.0592\n",
            "Epoch 8 Loss 0.0442\n",
            "Time taken for 1 epoch 97.36581611633301 sec\n",
            "\n",
            "Epoch 9 Batch 0 Loss 0.0530\n",
            "Epoch 9 Batch 100 Loss 0.0477\n",
            "Epoch 9 Batch 200 Loss 0.0548\n",
            "Epoch 9 Batch 300 Loss 0.0555\n",
            "Epoch 9 Batch 400 Loss 0.0443\n",
            "Epoch 9 Batch 500 Loss 0.0356\n",
            "Epoch 9 Batch 600 Loss 0.0665\n",
            "Epoch 9 Loss 0.0429\n",
            "Time taken for 1 epoch 96.80648684501648 sec\n",
            "\n",
            "Epoch 10 Batch 0 Loss 0.0509\n",
            "Epoch 10 Batch 100 Loss 0.0397\n",
            "Epoch 10 Batch 200 Loss 0.0484\n",
            "Epoch 10 Batch 300 Loss 0.0527\n",
            "Epoch 10 Batch 400 Loss 0.0687\n",
            "Epoch 10 Batch 500 Loss 0.0567\n",
            "Epoch 10 Batch 600 Loss 0.0510\n",
            "Epoch 10 Loss 0.0411\n",
            "Time taken for 1 epoch 97.45681405067444 sec\n",
            "\n"
          ]
        }
      ]
    },
    {
      "cell_type": "markdown",
      "metadata": {
        "id": "qFGXM_d7OOm-"
      },
      "source": [
        "# Inference"
      ]
    },
    {
      "cell_type": "code",
      "metadata": {
        "colab": {
          "base_uri": "https://localhost:8080/"
        },
        "id": "awzRnTeeL7Xl",
        "outputId": "378bf528-3015-4910-f492-2bb6f4fb2425"
      },
      "source": [
        "test_input = 'राजशेखर'\n",
        "[input_lang_tokenizer.word_index[i] for i in test_input]"
      ],
      "execution_count": 118,
      "outputs": [
        {
          "output_type": "execute_result",
          "data": {
            "text/plain": [
              "[2, 1, 21, 26, 14, 40, 2]"
            ]
          },
          "metadata": {},
          "execution_count": 118
        }
      ]
    },
    {
      "cell_type": "markdown",
      "metadata": {
        "id": "JeXqI5J5IhMD"
      },
      "source": [
        "## BasicDecoder"
      ]
    },
    {
      "cell_type": "code",
      "metadata": {
        "id": "Rmx3_vQbfh7J"
      },
      "source": [
        "def evaluate_sentence(sentence):\n",
        "  # sentence = '^' + sentence.strip() + '$'\n",
        "\n",
        "  inputs = [input_lang_tokenizer.word_index[i] for i in sentence]\n",
        "  inputs = tf.keras.preprocessing.sequence.pad_sequences([inputs],\n",
        "                                                          maxlen=max_length_input,\n",
        "                                                          padding='post')\n",
        "  inputs = tf.convert_to_tensor(inputs)\n",
        "  inference_batch_size = inputs.shape[0]\n",
        "  result = ''\n",
        "\n",
        "  enc_start_state = [tf.zeros((inference_batch_size, units)), tf.zeros((inference_batch_size,units))]\n",
        "  enc_out, enc_h, enc_c = encoder(inputs, enc_start_state)\n",
        "\n",
        "  dec_h = enc_h\n",
        "  dec_c = enc_c\n",
        "\n",
        "  start_tokens = tf.fill([inference_batch_size], target_lang_tokenizer.word_index['^'])\n",
        "  end_token = target_lang_tokenizer.word_index['$']\n",
        "\n",
        "  greedy_sampler = tfa.seq2seq.GreedyEmbeddingSampler()\n",
        "\n",
        "  # Instantiate BasicDecoder object\n",
        "  decoder_instance = tfa.seq2seq.BasicDecoder(cell=decoder.rnn_cell, sampler=greedy_sampler, output_layer=decoder.fc)\n",
        "  # Setup Memory in decoder stack\n",
        "  decoder.attention_mechanism.setup_memory(enc_out)\n",
        "\n",
        "  # set decoder_initial_state\n",
        "  decoder_initial_state = decoder.build_initial_state(inference_batch_size, [enc_h, enc_c], tf.float32)\n",
        "\n",
        "\n",
        "  ### Since the BasicDecoder wraps around Decoder's rnn cell only, you have to ensure that the inputs to BasicDecoder \n",
        "  ### decoding step is output of embedding layer. tfa.seq2seq.GreedyEmbeddingSampler() takes care of this. \n",
        "  ### You only need to get the weights of embedding layer, which can be done by decoder.embedding.variables[0] and pass this callabble to BasicDecoder's call() function\n",
        "\n",
        "  decoder_embedding_matrix = decoder.embedding.variables[0]\n",
        "  \n",
        "  outputs, _, _ = decoder_instance(decoder_embedding_matrix, start_tokens = start_tokens, end_token= end_token, initial_state=decoder_initial_state)\n",
        "  return outputs.sample_id.numpy()\n",
        "\n",
        "def translate(sentence):\n",
        "  result = evaluate_sentence(sentence)\n",
        "  result = sequence_to_chars(target_lang_tokenizer,result[0])\n",
        "  return result.strip('$')"
      ],
      "execution_count": 126,
      "outputs": []
    },
    {
      "cell_type": "markdown",
      "metadata": {
        "id": "9MkhXMRTI21M"
      },
      "source": [
        "## Restore the latest checkpoint and test"
      ]
    },
    {
      "cell_type": "code",
      "metadata": {
        "colab": {
          "base_uri": "https://localhost:8080/"
        },
        "id": "vm5myRi5tOKl",
        "outputId": "2098a5bf-4460-4c58-d287-4a7de2f7abbe"
      },
      "source": [
        "# restoring the latest checkpoint in checkpoint_dir\n",
        "checkpoint.restore(tf.train.latest_checkpoint(checkpoint_dir))"
      ],
      "execution_count": 120,
      "outputs": [
        {
          "output_type": "execute_result",
          "data": {
            "text/plain": [
              "<tensorflow.python.training.tracking.util.CheckpointLoadStatus at 0x7fbd02087590>"
            ]
          },
          "metadata": {},
          "execution_count": 120
        }
      ]
    },
    {
      "cell_type": "code",
      "metadata": {
        "colab": {
          "base_uri": "https://localhost:8080/",
          "height": 35
        },
        "id": "3YKBeqsbmaZi",
        "outputId": "d4ce9ab8-91f9-4a3b-fc1a-ddc7631cadf2"
      },
      "source": [
        "test_input = 'राजशेखर चिंतालपति'\n",
        "translate(test_input)"
      ],
      "execution_count": 127,
      "outputs": [
        {
          "output_type": "execute_result",
          "data": {
            "application/vnd.google.colaboratory.intrinsic+json": {
              "type": "string"
            },
            "text/plain": [
              "'rajasekar chintalpati'"
            ]
          },
          "metadata": {},
          "execution_count": 127
        }
      ]
    },
    {
      "cell_type": "code",
      "metadata": {
        "colab": {
          "base_uri": "https://localhost:8080/",
          "height": 35
        },
        "id": "Uy2yjJXZ0MdK",
        "outputId": "18e2ab97-5813-4ca9-b3de-9188cbd2797c"
      },
      "source": [
        "test_input = 'गौरव सूद'\n",
        "translate(test_input)"
      ],
      "execution_count": 128,
      "outputs": [
        {
          "output_type": "execute_result",
          "data": {
            "application/vnd.google.colaboratory.intrinsic+json": {
              "type": "string"
            },
            "text/plain": [
              "'gaurav sud'"
            ]
          },
          "metadata": {},
          "execution_count": 128
        }
      ]
    },
    {
      "cell_type": "markdown",
      "metadata": {
        "id": "hyM7hkggJzSU"
      },
      "source": [
        "## BeamSearchDecoder"
      ]
    },
    {
      "cell_type": "code",
      "metadata": {
        "id": "JiLhSpp6KGOO"
      },
      "source": [
        "def beam_evaluate_sentence(sentence, beam_width=3):\n",
        "  # sentence = '^' + sentence.strip() + '$'\n",
        "\n",
        "  inputs = [input_lang_tokenizer.word_index[i] for i in sentence]\n",
        "  inputs = tf.keras.preprocessing.sequence.pad_sequences([inputs],\n",
        "                                                          maxlen=max_length_input,\n",
        "                                                          padding='post')\n",
        "  inputs = tf.convert_to_tensor(inputs)\n",
        "  inference_batch_size = inputs.shape[0]\n",
        "  result = ''\n",
        "\n",
        "  enc_start_state = [tf.zeros((inference_batch_size, units)), tf.zeros((inference_batch_size,units))]\n",
        "  enc_out, enc_h, enc_c = encoder(inputs, enc_start_state)\n",
        "\n",
        "  dec_h = enc_h\n",
        "  dec_c = enc_c\n",
        "\n",
        "  start_tokens = tf.fill([inference_batch_size], target_lang_tokenizer.word_index['^'])\n",
        "  end_token = target_lang_tokenizer.word_index['$']\n",
        "\n",
        "  # From official documentation\n",
        "  # NOTE If you are using the BeamSearchDecoder with a cell wrapped in AttentionWrapper, then you must ensure that:\n",
        "  # The encoder output has been tiled to beam_width via tfa.seq2seq.tile_batch (NOT tf.tile).\n",
        "  # The batch_size argument passed to the get_initial_state method of this wrapper is equal to true_batch_size * beam_width.\n",
        "  # The initial state created with get_initial_state above contains a cell_state value containing properly tiled final state from the encoder.\n",
        "\n",
        "  enc_out = tfa.seq2seq.tile_batch(enc_out, multiplier=beam_width)\n",
        "  decoder.attention_mechanism.setup_memory(enc_out)\n",
        "  print(\"beam_with * [batch_size, max_length_input, rnn_units] :  3 * [1, 16, 1024]] :\", enc_out.shape)\n",
        "\n",
        "  # set decoder_inital_state which is an AttentionWrapperState considering beam_width\n",
        "  hidden_state = tfa.seq2seq.tile_batch([enc_h, enc_c], multiplier=beam_width)\n",
        "  decoder_initial_state = decoder.rnn_cell.get_initial_state(batch_size=beam_width*inference_batch_size, dtype=tf.float32)\n",
        "  decoder_initial_state = decoder_initial_state.clone(cell_state=hidden_state)\n",
        "\n",
        "  # Instantiate BeamSearchDecoder\n",
        "  decoder_instance = tfa.seq2seq.BeamSearchDecoder(decoder.rnn_cell,beam_width=beam_width, output_layer=decoder.fc)\n",
        "  decoder_embedding_matrix = decoder.embedding.variables[0]\n",
        "\n",
        "  # The BeamSearchDecoder object's call() function takes care of everything.\n",
        "  outputs, final_state, sequence_lengths = decoder_instance(decoder_embedding_matrix, start_tokens=start_tokens, end_token=end_token, initial_state=decoder_initial_state)\n",
        "  # outputs is tfa.seq2seq.FinalBeamSearchDecoderOutput object. \n",
        "  # The final beam predictions are stored in outputs.predicted_id\n",
        "  # outputs.beam_search_decoder_output is a tfa.seq2seq.BeamSearchDecoderOutput object which keep tracks of beam_scores and parent_ids while performing a beam decoding step\n",
        "  # final_state = tfa.seq2seq.BeamSearchDecoderState object.\n",
        "  # Sequence Length = [inference_batch_size, beam_width] details the maximum length of the beams that are generated\n",
        "\n",
        "  \n",
        "  # outputs.predicted_id.shape = (inference_batch_size, time_step_outputs, beam_width)\n",
        "  # outputs.beam_search_decoder_output.scores.shape = (inference_batch_size, time_step_outputs, beam_width)\n",
        "  # Convert the shape of outputs and beam_scores to (inference_batch_size, beam_width, time_step_outputs)\n",
        "  final_outputs = tf.transpose(outputs.predicted_ids, perm=(0,2,1))\n",
        "  beam_scores = tf.transpose(outputs.beam_search_decoder_output.scores, perm=(0,2,1))\n",
        "  \n",
        "  return final_outputs.numpy(), beam_scores.numpy()"
      ],
      "execution_count": 129,
      "outputs": []
    },
    {
      "cell_type": "code",
      "metadata": {
        "id": "swQFPPnqKRuB"
      },
      "source": [
        "def beam_translate(sentence):\n",
        "  result, beam_scores = beam_evaluate_sentence(sentence)\n",
        "  print(result.shape, beam_scores.shape)\n",
        "  for beam, score in zip(result, beam_scores):\n",
        "    print(beam.shape, score.shape)\n",
        "    print('Input: %s' % (sentence))\n",
        "    print(beam)\n",
        "    outputs = []\n",
        "    beam_score = [a.sum() for a in score]\n",
        "    i = 0\n",
        "    for res in beam:\n",
        "      output = sequence_to_chars(target_lang_tokenizer,res)\n",
        "      output = output.strip('$')\n",
        "      print('{} Predicted translation: {}  {}'.format(i+1, output, beam_score[i]))\n",
        "      i += 1"
      ],
      "execution_count": 130,
      "outputs": []
    },
    {
      "cell_type": "code",
      "metadata": {
        "colab": {
          "base_uri": "https://localhost:8080/"
        },
        "id": "vZnpLe6GQH73",
        "outputId": "7dfa777b-40c8-4e34-c058-f327fce5ee9d"
      },
      "source": [
        "test_input = 'राजशेखर चिंतालपति'\n",
        "beam_translate(test_input)"
      ],
      "execution_count": 131,
      "outputs": [
        {
          "output_type": "stream",
          "name": "stdout",
          "text": [
            "beam_with * [batch_size, max_length_input, rnn_units] :  3 * [1, 16, 1024]] : (3, 47, 1024)\n",
            "(1, 3, 24) (1, 3, 24)\n",
            "(3, 24) (3, 24)\n",
            "Input: राजशेखर चिंतालपति\n",
            "[[ 6  1 24  1  8 10 14  1  6 17 23  7  5  4  9  1 16 18  1  9  5  3  3  3]\n",
            " [ 6  1 24  1  8 10 14  1  6 17 23  7  5  4  9  1 16 18  1  9  7  5  3  3]\n",
            " [ 6  1 24  1  8 10 14  1  6 17 23  7  5  4  9  1 16  1 18  1  9  7 19  3]]\n",
            "1 Predicted translation: rajasekar chintalpati  -12.803487777709961\n",
            "2 Predicted translation: rajasekar chintalpathi  -64.88650512695312\n",
            "3 Predicted translation: rajasekar chintalapathy  -90.36491394042969\n"
          ]
        }
      ]
    },
    {
      "cell_type": "code",
      "metadata": {
        "colab": {
          "base_uri": "https://localhost:8080/"
        },
        "id": "1CM4JoedTGhA",
        "outputId": "a638439d-82d8-4963-ccd1-a1138f30589e"
      },
      "source": [
        "test_input = 'गौरव सूद'\n",
        "beam_translate(test_input)"
      ],
      "execution_count": 132,
      "outputs": [
        {
          "output_type": "stream",
          "name": "stdout",
          "text": [
            "beam_with * [batch_size, max_length_input, rnn_units] :  3 * [1, 16, 1024]] : (3, 47, 1024)\n",
            "(1, 3, 12) (1, 3, 12)\n",
            "(3, 12) (3, 12)\n",
            "Input: गौरव सूद\n",
            "[[21  1 13  6  1 22 17  8 13 11  3  3]\n",
            " [21 15 13  6  1 22 17  8 13 11  3  3]\n",
            " [21  1 13  6  1 22 17  8 13 11  7  3]]\n",
            "1 Predicted translation: gaurav sud  -9.633883476257324\n",
            "2 Predicted translation: gourav sud  -20.860824584960938\n",
            "3 Predicted translation: gaurav sudh  -45.975990295410156\n"
          ]
        }
      ]
    },
    {
      "cell_type": "code",
      "metadata": {
        "colab": {
          "base_uri": "https://localhost:8080/"
        },
        "id": "VF_U9IInTGzW",
        "outputId": "fdd1d9f8-e006-44b2-d550-99a75e98994d"
      },
      "source": [
        "test_input = 'सूद'\n",
        "beam_translate(test_input)"
      ],
      "execution_count": 133,
      "outputs": [
        {
          "output_type": "stream",
          "name": "stdout",
          "text": [
            "beam_with * [batch_size, max_length_input, rnn_units] :  3 * [1, 16, 1024]] : (3, 47, 1024)\n",
            "(1, 3, 5) (1, 3, 5)\n",
            "(3, 5) (3, 5)\n",
            "Input: सूद\n",
            "[[ 8 13 11  3  3]\n",
            " [ 8 15 15 11  3]\n",
            " [ 8 13 11  1  3]]\n",
            "1 Predicted translation: sud  -1.4396958351135254\n",
            "2 Predicted translation: sood  -10.945295333862305\n",
            "3 Predicted translation: suda  -30.35261344909668\n"
          ]
        }
      ]
    },
    {
      "cell_type": "markdown",
      "metadata": {
        "id": "eLPUt3cyJdp_"
      },
      "source": [
        "# Validation on Dakshina Test Dataset"
      ]
    },
    {
      "cell_type": "code",
      "metadata": {
        "id": "zEPle61MsIQT"
      },
      "source": [
        "dakshina_test_df = pd.read_csv('hi.translit.sampled.test.tsv', sep='\\t', names=[\"hindi\", \"english\", \"freq\"])"
      ],
      "execution_count": 134,
      "outputs": []
    },
    {
      "cell_type": "code",
      "metadata": {
        "colab": {
          "base_uri": "https://localhost:8080/",
          "height": 206
        },
        "id": "okA7ETGeseLu",
        "outputId": "d244790f-c4af-45fe-9c07-cabaca361949"
      },
      "source": [
        "dakshina_test_df.head()"
      ],
      "execution_count": 135,
      "outputs": [
        {
          "output_type": "execute_result",
          "data": {
            "text/html": [
              "<div>\n",
              "<style scoped>\n",
              "    .dataframe tbody tr th:only-of-type {\n",
              "        vertical-align: middle;\n",
              "    }\n",
              "\n",
              "    .dataframe tbody tr th {\n",
              "        vertical-align: top;\n",
              "    }\n",
              "\n",
              "    .dataframe thead th {\n",
              "        text-align: right;\n",
              "    }\n",
              "</style>\n",
              "<table border=\"1\" class=\"dataframe\">\n",
              "  <thead>\n",
              "    <tr style=\"text-align: right;\">\n",
              "      <th></th>\n",
              "      <th>hindi</th>\n",
              "      <th>english</th>\n",
              "      <th>freq</th>\n",
              "    </tr>\n",
              "  </thead>\n",
              "  <tbody>\n",
              "    <tr>\n",
              "      <th>0</th>\n",
              "      <td>अंक</td>\n",
              "      <td>ank</td>\n",
              "      <td>5</td>\n",
              "    </tr>\n",
              "    <tr>\n",
              "      <th>1</th>\n",
              "      <td>अंक</td>\n",
              "      <td>anka</td>\n",
              "      <td>1</td>\n",
              "    </tr>\n",
              "    <tr>\n",
              "      <th>2</th>\n",
              "      <td>अंकित</td>\n",
              "      <td>ankit</td>\n",
              "      <td>3</td>\n",
              "    </tr>\n",
              "    <tr>\n",
              "      <th>3</th>\n",
              "      <td>अंकों</td>\n",
              "      <td>anakon</td>\n",
              "      <td>1</td>\n",
              "    </tr>\n",
              "    <tr>\n",
              "      <th>4</th>\n",
              "      <td>अंकों</td>\n",
              "      <td>ankhon</td>\n",
              "      <td>1</td>\n",
              "    </tr>\n",
              "  </tbody>\n",
              "</table>\n",
              "</div>"
            ],
            "text/plain": [
              "   hindi english  freq\n",
              "0    अंक     ank     5\n",
              "1    अंक    anka     1\n",
              "2  अंकित   ankit     3\n",
              "3  अंकों  anakon     1\n",
              "4  अंकों  ankhon     1"
            ]
          },
          "metadata": {},
          "execution_count": 135
        }
      ]
    },
    {
      "cell_type": "code",
      "metadata": {
        "colab": {
          "base_uri": "https://localhost:8080/"
        },
        "id": "XL_7DT2wlmOm",
        "outputId": "93fe0256-9c00-4ad6-fcf7-8cac010ede44"
      },
      "source": [
        "!git clone https://github.com/libindic/indic-trans.git"
      ],
      "execution_count": 136,
      "outputs": [
        {
          "output_type": "stream",
          "name": "stdout",
          "text": [
            "fatal: destination path 'indic-trans' already exists and is not an empty directory.\n"
          ]
        }
      ]
    },
    {
      "cell_type": "code",
      "metadata": {
        "colab": {
          "base_uri": "https://localhost:8080/",
          "height": 35
        },
        "id": "gSUls16Gl6RP",
        "outputId": "22a48620-0786-41e7-feda-5ad051bde2e1"
      },
      "source": [
        "%pwd"
      ],
      "execution_count": 137,
      "outputs": [
        {
          "output_type": "execute_result",
          "data": {
            "application/vnd.google.colaboratory.intrinsic+json": {
              "type": "string"
            },
            "text/plain": [
              "'/content/drive/My Drive/Colab/Transliterate'"
            ]
          },
          "metadata": {},
          "execution_count": 137
        }
      ]
    },
    {
      "cell_type": "code",
      "metadata": {
        "colab": {
          "base_uri": "https://localhost:8080/"
        },
        "id": "9cf65PVll75i",
        "outputId": "7e1d68f5-60ba-4c1e-c0dc-8f5b6aea9af8"
      },
      "source": [
        "%ls"
      ],
      "execution_count": 138,
      "outputs": [
        {
          "output_type": "stream",
          "name": "stdout",
          "text": [
            "affidavits.csv                 model_plot_dec.png\n",
            "dakshina_acc_results.csv       model.png\n",
            "hi.translit.sampled.test.tsv   model_v1.h5\n",
            "hi.translit.sampled.train.tsv  model_working_v1.h5\n",
            "\u001b[0m\u001b[01;34mindic-trans\u001b[0m/                   players_with_hindi_names.json\n",
            "input_token_index.json         target_token_index.json\n",
            "manual_saved_model.h5          \u001b[01;34mtraining_checkpoints\u001b[0m/\n",
            "model.h5                       Transliterate_v2.ipynb\n"
          ]
        }
      ]
    },
    {
      "cell_type": "code",
      "metadata": {
        "colab": {
          "base_uri": "https://localhost:8080/"
        },
        "id": "JSuR-ibrlvmt",
        "outputId": "e1546dd1-5d0e-4773-d7c5-ea07601077b8"
      },
      "source": [
        "%cd indic-trans"
      ],
      "execution_count": 139,
      "outputs": [
        {
          "output_type": "stream",
          "name": "stdout",
          "text": [
            "/content/drive/My Drive/Colab/Transliterate/indic-trans\n"
          ]
        }
      ]
    },
    {
      "cell_type": "code",
      "metadata": {
        "colab": {
          "base_uri": "https://localhost:8080/"
        },
        "id": "x3X8mnbpmFHL",
        "outputId": "c6341c44-5a50-4202-8765-308793e3f7e9"
      },
      "source": [
        "pip install -r requirements.txt"
      ],
      "execution_count": 140,
      "outputs": [
        {
          "output_type": "stream",
          "name": "stdout",
          "text": [
            "Collecting pbr\n",
            "  Downloading pbr-5.8.0-py2.py3-none-any.whl (112 kB)\n",
            "\u001b[?25l\r\u001b[K     |███                             | 10 kB 39.1 MB/s eta 0:00:01\r\u001b[K     |█████▉                          | 20 kB 44.2 MB/s eta 0:00:01\r\u001b[K     |████████▊                       | 30 kB 45.1 MB/s eta 0:00:01\r\u001b[K     |███████████▋                    | 40 kB 48.0 MB/s eta 0:00:01\r\u001b[K     |██████████████▌                 | 51 kB 48.6 MB/s eta 0:00:01\r\u001b[K     |█████████████████▍              | 61 kB 51.5 MB/s eta 0:00:01\r\u001b[K     |████████████████████▎           | 71 kB 35.4 MB/s eta 0:00:01\r\u001b[K     |███████████████████████▏        | 81 kB 37.0 MB/s eta 0:00:01\r\u001b[K     |██████████████████████████▏     | 92 kB 38.9 MB/s eta 0:00:01\r\u001b[K     |█████████████████████████████   | 102 kB 40.9 MB/s eta 0:00:01\r\u001b[K     |████████████████████████████████| 112 kB 40.9 MB/s eta 0:00:01\r\u001b[K     |████████████████████████████████| 112 kB 40.9 MB/s \n",
            "\u001b[?25hRequirement already satisfied: six in /usr/local/lib/python3.7/dist-packages (from -r requirements.txt (line 2)) (1.15.0)\n",
            "Requirement already satisfied: future in /usr/local/lib/python3.7/dist-packages (from -r requirements.txt (line 3)) (0.16.0)\n",
            "Requirement already satisfied: cython>=0.24.0a0 in /usr/local/lib/python3.7/dist-packages (from -r requirements.txt (line 4)) (0.29.24)\n",
            "Requirement already satisfied: numpy>=1.10.4 in /usr/local/lib/python3.7/dist-packages (from -r requirements.txt (line 5)) (1.19.5)\n",
            "Requirement already satisfied: scipy>=0.13.3 in /usr/local/lib/python3.7/dist-packages (from -r requirements.txt (line 6)) (1.4.1)\n",
            "Installing collected packages: pbr\n",
            "Successfully installed pbr-5.8.0\n"
          ]
        }
      ]
    },
    {
      "cell_type": "code",
      "metadata": {
        "colab": {
          "base_uri": "https://localhost:8080/"
        },
        "id": "DUhRMNpfmKjb",
        "outputId": "eff798b2-ded8-481c-bc52-80a13cd8f8d0"
      },
      "source": [
        "pip install ."
      ],
      "execution_count": 141,
      "outputs": [
        {
          "output_type": "stream",
          "name": "stdout",
          "text": [
            "Processing /content/drive/My Drive/Colab/Transliterate/indic-trans\n",
            "\u001b[33m  DEPRECATION: A future pip version will change local packages to be built in-place without first copying to a temporary directory. We recommend you use --use-feature=in-tree-build to test your packages with this new behavior before it becomes the default.\n",
            "   pip 21.3 will remove support for this functionality. You can find discussion regarding this at https://github.com/pypa/pip/issues/7555.\u001b[0m\n",
            "  Installing build dependencies ... \u001b[?25l\u001b[?25hdone\n",
            "  Getting requirements to build wheel ... \u001b[?25l\u001b[?25hdone\n",
            "  Installing backend dependencies ... \u001b[?25l\u001b[?25hdone\n",
            "    Preparing wheel metadata ... \u001b[?25l\u001b[?25hdone\n",
            "Requirement already satisfied: six in /usr/local/lib/python3.7/dist-packages (from indictrans==1.2.3) (1.15.0)\n",
            "Requirement already satisfied: future in /usr/local/lib/python3.7/dist-packages (from indictrans==1.2.3) (0.16.0)\n",
            "Requirement already satisfied: pbr in /usr/local/lib/python3.7/dist-packages (from indictrans==1.2.3) (5.8.0)\n",
            "Requirement already satisfied: cython>=0.24.0a0 in /usr/local/lib/python3.7/dist-packages (from indictrans==1.2.3) (0.29.24)\n",
            "Requirement already satisfied: numpy>=1.10.4 in /usr/local/lib/python3.7/dist-packages (from indictrans==1.2.3) (1.19.5)\n",
            "Requirement already satisfied: scipy>=0.13.3 in /usr/local/lib/python3.7/dist-packages (from indictrans==1.2.3) (1.4.1)\n",
            "Building wheels for collected packages: indictrans\n",
            "  Building wheel for indictrans (PEP 517) ... \u001b[?25l\u001b[?25hdone\n",
            "  Created wheel for indictrans: filename=indictrans-1.2.3-cp37-cp37m-linux_x86_64.whl size=337557192 sha256=09d91ae44b157570e2ae0e150b6a49e7d0194952bf8101001b95f47584aa91e8\n",
            "  Stored in directory: /root/.cache/pip/wheels/10/1f/11/be5ddc8ef916e474d3203c4e9f075763964649ad4363904253\n",
            "Successfully built indictrans\n",
            "Installing collected packages: indictrans\n",
            "Successfully installed indictrans-1.2.3\n"
          ]
        }
      ]
    },
    {
      "cell_type": "code",
      "metadata": {
        "colab": {
          "base_uri": "https://localhost:8080/"
        },
        "id": "mp6wUEy5oV_c",
        "outputId": "d84cfe21-38f4-4e57-e7f9-c0e4cb151d81"
      },
      "source": [
        "%cd .."
      ],
      "execution_count": 142,
      "outputs": [
        {
          "output_type": "stream",
          "name": "stdout",
          "text": [
            "/content/drive/My Drive/Colab/Transliterate\n"
          ]
        }
      ]
    },
    {
      "cell_type": "code",
      "metadata": {
        "colab": {
          "base_uri": "https://localhost:8080/",
          "height": 35
        },
        "id": "Rsf575YomV60",
        "outputId": "89d0a4b7-2daa-4fca-c9a6-942d3274d0bf"
      },
      "source": [
        "from indictrans import Transliterator\n",
        "trn = Transliterator(source='hin', target='eng', build_lookup=True)\n",
        "eng = trn.transform(\"राजशेखर चिंतालपति\")\n",
        "eng"
      ],
      "execution_count": 143,
      "outputs": [
        {
          "output_type": "execute_result",
          "data": {
            "application/vnd.google.colaboratory.intrinsic+json": {
              "type": "string"
            },
            "text/plain": [
              "'rajasekhar chintalapati'"
            ]
          },
          "metadata": {},
          "execution_count": 143
        }
      ]
    },
    {
      "cell_type": "code",
      "metadata": {
        "colab": {
          "base_uri": "https://localhost:8080/",
          "height": 209
        },
        "id": "jUClAWm6shfR",
        "outputId": "640b323e-bec8-4ee0-85d9-8eca089e1b5b"
      },
      "source": [
        "dakshina_test_df.style.hide_index()\n",
        "def test_compare(x):\n",
        "  print(f\"{x['hindi']} :  actual - {x['english']}, Model predicted - {translate(x['hindi'])}, indicTrans predicted - {trn.transform(x['hindi'])}\")\n",
        "dakshina_test_df.sample(10).apply(lambda x: test_compare(x), axis=1).to_string(index=False)"
      ],
      "execution_count": 144,
      "outputs": [
        {
          "output_type": "stream",
          "name": "stdout",
          "text": [
            "जाँच :  actual - jaanch, Model predicted - jaanch, indicTrans predicted - jaanch\n",
            "जीवनियां :  actual - jivaniyan, Model predicted - jivaniyan, indicTrans predicted - jivaniyaan\n",
            "हेमवती :  actual - hemwati, Model predicted - hemwati, indicTrans predicted - hemavathi\n",
            "बाज़ी :  actual - bazi, Model predicted - baji, indicTrans predicted - baazi\n",
            "सिंगार :  actual - singer, Model predicted - singar, indicTrans predicted - singaar\n",
            "कंजंक्शन :  actual - conjunction, Model predicted - kanjankshan, indicTrans predicted - conjankshan\n",
            "ड्रामे :  actual - drame, Model predicted - drame, indicTrans predicted - drame\n",
            "कहने :  actual - kahne, Model predicted - kahne, indicTrans predicted - kehane\n",
            "पाठशालाएं :  actual - pathshalayein, Model predicted - paathshaalaayen, indicTrans predicted - paathshaalaayein\n",
            "लीडरों :  actual - leedaron, Model predicted - leaderon, indicTrans predicted - leaderon\n"
          ]
        },
        {
          "output_type": "execute_result",
          "data": {
            "application/vnd.google.colaboratory.intrinsic+json": {
              "type": "string"
            },
            "text/plain": [
              "' None\\n None\\n None\\n None\\n None\\n None\\n None\\n None\\n None\\n None'"
            ]
          },
          "metadata": {},
          "execution_count": 144
        }
      ]
    },
    {
      "cell_type": "code",
      "metadata": {
        "colab": {
          "base_uri": "https://localhost:8080/"
        },
        "id": "DSrbvgXNst0W",
        "outputId": "f6f501aa-3be6-49cc-f0f9-e7927494718a"
      },
      "source": [
        "from tqdm import tqdm\n",
        "tqdm.pandas()\n",
        "\n",
        "dakshina_test_df.style.hide_index()\n",
        "predicted = []\n",
        "indictrans = []\n",
        "\n",
        "def predict(hin):\n",
        "  predicted.append(translate(hin))\n",
        "  indictrans.append(trn.transform(hin))\n",
        "\n",
        "dakshina_test_df.progress_apply(lambda x: predict(x['hindi']), axis=1)"
      ],
      "execution_count": 146,
      "outputs": [
        {
          "output_type": "stream",
          "name": "stderr",
          "text": [
            "  0%|          | 4/4502 [00:00<02:00, 37.32it/s]"
          ]
        },
        {
          "output_type": "stream",
          "name": "stdout",
          "text": [
            "WARNING:tensorflow:Unresolved object in checkpoint: (root).save_counter\n",
            "WARNING:tensorflow:Unresolved object in checkpoint: (root).optimizer.iter\n",
            "WARNING:tensorflow:Unresolved object in checkpoint: (root).optimizer.beta_1\n",
            "WARNING:tensorflow:Unresolved object in checkpoint: (root).optimizer.beta_2\n",
            "WARNING:tensorflow:Unresolved object in checkpoint: (root).optimizer.decay\n",
            "WARNING:tensorflow:Unresolved object in checkpoint: (root).optimizer.learning_rate\n",
            "WARNING:tensorflow:A checkpoint was restored (e.g. tf.train.Checkpoint.restore or tf.keras.Model.load_weights) but not all checkpointed values were used. See above for specific issues. Use expect_partial() on the load status object, e.g. tf.train.Checkpoint.restore(...).expect_partial(), to silence these warnings, or use assert_consumed() to make the check explicit. See https://www.tensorflow.org/guide/checkpoint#loading_mechanics for details.\n"
          ]
        },
        {
          "output_type": "stream",
          "name": "stderr",
          "text": [
            "100%|██████████| 4502/4502 [03:28<00:00, 21.58it/s]\n"
          ]
        },
        {
          "output_type": "execute_result",
          "data": {
            "text/plain": [
              "0       None\n",
              "1       None\n",
              "2       None\n",
              "3       None\n",
              "4       None\n",
              "        ... \n",
              "4497    None\n",
              "4498    None\n",
              "4499    None\n",
              "4500    None\n",
              "4501    None\n",
              "Length: 4502, dtype: object"
            ]
          },
          "metadata": {},
          "execution_count": 146
        }
      ]
    },
    {
      "cell_type": "code",
      "metadata": {
        "colab": {
          "base_uri": "https://localhost:8080/",
          "height": 206
        },
        "id": "_1SrzzvSs1lL",
        "outputId": "20993acc-3d0e-4ee0-deae-6bf52d28c54e"
      },
      "source": [
        "dakshina_test_df['model_predicted'] = predicted\n",
        "dakshina_test_df['indictrans_predicted'] = indictrans\n",
        "dakshina_test_df.head()"
      ],
      "execution_count": 147,
      "outputs": [
        {
          "output_type": "execute_result",
          "data": {
            "text/html": [
              "<div>\n",
              "<style scoped>\n",
              "    .dataframe tbody tr th:only-of-type {\n",
              "        vertical-align: middle;\n",
              "    }\n",
              "\n",
              "    .dataframe tbody tr th {\n",
              "        vertical-align: top;\n",
              "    }\n",
              "\n",
              "    .dataframe thead th {\n",
              "        text-align: right;\n",
              "    }\n",
              "</style>\n",
              "<table border=\"1\" class=\"dataframe\">\n",
              "  <thead>\n",
              "    <tr style=\"text-align: right;\">\n",
              "      <th></th>\n",
              "      <th>hindi</th>\n",
              "      <th>english</th>\n",
              "      <th>freq</th>\n",
              "      <th>model_predicted</th>\n",
              "      <th>indictrans_predicted</th>\n",
              "    </tr>\n",
              "  </thead>\n",
              "  <tbody>\n",
              "    <tr>\n",
              "      <th>0</th>\n",
              "      <td>अंक</td>\n",
              "      <td>ank</td>\n",
              "      <td>5</td>\n",
              "      <td>ank</td>\n",
              "      <td>ank</td>\n",
              "    </tr>\n",
              "    <tr>\n",
              "      <th>1</th>\n",
              "      <td>अंक</td>\n",
              "      <td>anka</td>\n",
              "      <td>1</td>\n",
              "      <td>ank</td>\n",
              "      <td>ank</td>\n",
              "    </tr>\n",
              "    <tr>\n",
              "      <th>2</th>\n",
              "      <td>अंकित</td>\n",
              "      <td>ankit</td>\n",
              "      <td>3</td>\n",
              "      <td>ankit</td>\n",
              "      <td>ankit</td>\n",
              "    </tr>\n",
              "    <tr>\n",
              "      <th>3</th>\n",
              "      <td>अंकों</td>\n",
              "      <td>anakon</td>\n",
              "      <td>1</td>\n",
              "      <td>ankon</td>\n",
              "      <td>ankon</td>\n",
              "    </tr>\n",
              "    <tr>\n",
              "      <th>4</th>\n",
              "      <td>अंकों</td>\n",
              "      <td>ankhon</td>\n",
              "      <td>1</td>\n",
              "      <td>ankon</td>\n",
              "      <td>ankon</td>\n",
              "    </tr>\n",
              "  </tbody>\n",
              "</table>\n",
              "</div>"
            ],
            "text/plain": [
              "   hindi english  freq model_predicted indictrans_predicted\n",
              "0    अंक     ank     5             ank                  ank\n",
              "1    अंक    anka     1             ank                  ank\n",
              "2  अंकित   ankit     3           ankit                ankit\n",
              "3  अंकों  anakon     1           ankon                ankon\n",
              "4  अंकों  ankhon     1           ankon                ankon"
            ]
          },
          "metadata": {},
          "execution_count": 147
        }
      ]
    },
    {
      "cell_type": "code",
      "metadata": {
        "id": "MoJAsO1Px1-j"
      },
      "source": [
        "model_accuracy = dakshina_test_df[dakshina_test_df['model_predicted'] == dakshina_test_df['english']]"
      ],
      "execution_count": 148,
      "outputs": []
    },
    {
      "cell_type": "code",
      "metadata": {
        "colab": {
          "base_uri": "https://localhost:8080/"
        },
        "id": "lyN6oyR9x8DZ",
        "outputId": "c98cc9af-5973-4af2-f925-c1bcdbe4bde6"
      },
      "source": [
        "model_accuracy.shape[0]/dakshina_test_df.shape[0]"
      ],
      "execution_count": 149,
      "outputs": [
        {
          "output_type": "execute_result",
          "data": {
            "text/plain": [
              "0.4140382052421146"
            ]
          },
          "metadata": {},
          "execution_count": 149
        }
      ]
    },
    {
      "cell_type": "code",
      "metadata": {
        "id": "AcMmmu9sxaQG"
      },
      "source": [
        "indic_accuracy = dakshina_test_df[dakshina_test_df['indictrans_predicted'] == dakshina_test_df['english']]"
      ],
      "execution_count": 150,
      "outputs": []
    },
    {
      "cell_type": "code",
      "metadata": {
        "colab": {
          "base_uri": "https://localhost:8080/"
        },
        "id": "_Mkyv12Gxh61",
        "outputId": "0f74a520-94e9-4199-ff89-b29d31fd17cd"
      },
      "source": [
        "indic_accuracy.shape[0]/dakshina_test_df.shape[0]"
      ],
      "execution_count": 151,
      "outputs": [
        {
          "output_type": "execute_result",
          "data": {
            "text/plain": [
              "0.35051088405153263"
            ]
          },
          "metadata": {},
          "execution_count": 151
        }
      ]
    },
    {
      "cell_type": "code",
      "metadata": {
        "colab": {
          "base_uri": "https://localhost:8080/"
        },
        "id": "b4OSLS6ksl5B",
        "outputId": "5452b2cc-c9df-4805-faa5-a0b1574b0dc1"
      },
      "source": [
        "def edit_distance(s1, s2):\n",
        "  t1 = tf.sparse.from_dense(tf.expand_dims(tf.strings.bytes_split(s1), axis=0))\n",
        "  t2 = tf.sparse.from_dense(tf.expand_dims(tf.strings.bytes_split(s2), axis=0))\n",
        "  distance = tf.edit_distance(t1, t2)\n",
        "  return distance[0].numpy()\n",
        "\n",
        "model_edit_dist = []\n",
        "indic_edit_dist = []\n",
        "\n",
        "def edit_dist(x):\n",
        "  model_edit_dist.append(edit_distance(x['model_predicted'], x['english']))\n",
        "  indic_edit_dist.append(edit_distance(x['indictrans_predicted'], x['english']))\n",
        "\n",
        "dakshina_test_df.progress_apply(lambda x: edit_dist(x), axis=1)"
      ],
      "execution_count": 152,
      "outputs": [
        {
          "output_type": "stream",
          "name": "stderr",
          "text": [
            "100%|██████████| 4502/4502 [01:36<00:00, 46.72it/s]\n"
          ]
        },
        {
          "output_type": "execute_result",
          "data": {
            "text/plain": [
              "0       None\n",
              "1       None\n",
              "2       None\n",
              "3       None\n",
              "4       None\n",
              "        ... \n",
              "4497    None\n",
              "4498    None\n",
              "4499    None\n",
              "4500    None\n",
              "4501    None\n",
              "Length: 4502, dtype: object"
            ]
          },
          "metadata": {},
          "execution_count": 152
        }
      ]
    },
    {
      "cell_type": "code",
      "metadata": {
        "colab": {
          "base_uri": "https://localhost:8080/",
          "height": 206
        },
        "id": "dGqTXxAZ0Rws",
        "outputId": "40760189-c04c-4bc0-d851-84fc56463b92"
      },
      "source": [
        "dakshina_test_df['model_edit_distance'] = model_edit_dist\n",
        "dakshina_test_df['indic_edit_distance'] = indic_edit_dist\n",
        "dakshina_test_df.head()"
      ],
      "execution_count": 153,
      "outputs": [
        {
          "output_type": "execute_result",
          "data": {
            "text/html": [
              "<div>\n",
              "<style scoped>\n",
              "    .dataframe tbody tr th:only-of-type {\n",
              "        vertical-align: middle;\n",
              "    }\n",
              "\n",
              "    .dataframe tbody tr th {\n",
              "        vertical-align: top;\n",
              "    }\n",
              "\n",
              "    .dataframe thead th {\n",
              "        text-align: right;\n",
              "    }\n",
              "</style>\n",
              "<table border=\"1\" class=\"dataframe\">\n",
              "  <thead>\n",
              "    <tr style=\"text-align: right;\">\n",
              "      <th></th>\n",
              "      <th>hindi</th>\n",
              "      <th>english</th>\n",
              "      <th>freq</th>\n",
              "      <th>model_predicted</th>\n",
              "      <th>indictrans_predicted</th>\n",
              "      <th>model_edit_distance</th>\n",
              "      <th>indic_edit_distance</th>\n",
              "    </tr>\n",
              "  </thead>\n",
              "  <tbody>\n",
              "    <tr>\n",
              "      <th>0</th>\n",
              "      <td>अंक</td>\n",
              "      <td>ank</td>\n",
              "      <td>5</td>\n",
              "      <td>ank</td>\n",
              "      <td>ank</td>\n",
              "      <td>0.000000</td>\n",
              "      <td>0.000000</td>\n",
              "    </tr>\n",
              "    <tr>\n",
              "      <th>1</th>\n",
              "      <td>अंक</td>\n",
              "      <td>anka</td>\n",
              "      <td>1</td>\n",
              "      <td>ank</td>\n",
              "      <td>ank</td>\n",
              "      <td>0.250000</td>\n",
              "      <td>0.250000</td>\n",
              "    </tr>\n",
              "    <tr>\n",
              "      <th>2</th>\n",
              "      <td>अंकित</td>\n",
              "      <td>ankit</td>\n",
              "      <td>3</td>\n",
              "      <td>ankit</td>\n",
              "      <td>ankit</td>\n",
              "      <td>0.000000</td>\n",
              "      <td>0.000000</td>\n",
              "    </tr>\n",
              "    <tr>\n",
              "      <th>3</th>\n",
              "      <td>अंकों</td>\n",
              "      <td>anakon</td>\n",
              "      <td>1</td>\n",
              "      <td>ankon</td>\n",
              "      <td>ankon</td>\n",
              "      <td>0.166667</td>\n",
              "      <td>0.166667</td>\n",
              "    </tr>\n",
              "    <tr>\n",
              "      <th>4</th>\n",
              "      <td>अंकों</td>\n",
              "      <td>ankhon</td>\n",
              "      <td>1</td>\n",
              "      <td>ankon</td>\n",
              "      <td>ankon</td>\n",
              "      <td>0.166667</td>\n",
              "      <td>0.166667</td>\n",
              "    </tr>\n",
              "  </tbody>\n",
              "</table>\n",
              "</div>"
            ],
            "text/plain": [
              "   hindi english  ...  model_edit_distance indic_edit_distance\n",
              "0    अंक     ank  ...             0.000000            0.000000\n",
              "1    अंक    anka  ...             0.250000            0.250000\n",
              "2  अंकित   ankit  ...             0.000000            0.000000\n",
              "3  अंकों  anakon  ...             0.166667            0.166667\n",
              "4  अंकों  ankhon  ...             0.166667            0.166667\n",
              "\n",
              "[5 rows x 7 columns]"
            ]
          },
          "metadata": {},
          "execution_count": 153
        }
      ]
    },
    {
      "cell_type": "code",
      "metadata": {
        "id": "ssKgUM7u0wqk"
      },
      "source": [
        "dakshina_test_df.to_csv('dakshina_acc_results.csv',index=False)"
      ],
      "execution_count": 154,
      "outputs": []
    },
    {
      "cell_type": "code",
      "metadata": {
        "colab": {
          "base_uri": "https://localhost:8080/",
          "height": 1000
        },
        "id": "XQe8yHsf2HTK",
        "outputId": "5003fffc-dcab-415b-feec-fda59c4e6056"
      },
      "source": [
        "import matplotlib.pyplot as plt\n",
        "\n",
        "plt.figure(figsize=(20,10))\n",
        "plt.hist(model_edit_dist, bins=np.arange(min(model_edit_dist), max(model_edit_dist)+0.01, step=0.01))"
      ],
      "execution_count": 155,
      "outputs": [
        {
          "output_type": "execute_result",
          "data": {
            "text/plain": [
              "(array([1.864e+03, 0.000e+00, 0.000e+00, 0.000e+00, 0.000e+00, 0.000e+00,\n",
              "        1.000e+00, 1.100e+01, 2.700e+01, 3.600e+01, 7.600e+01, 1.360e+02,\n",
              "        2.350e+02, 0.000e+00, 2.810e+02, 5.000e+00, 2.940e+02, 0.000e+00,\n",
              "        2.600e+01, 0.000e+00, 2.810e+02, 0.000e+00, 9.300e+01, 2.000e+00,\n",
              "        0.000e+00, 2.090e+02, 0.000e+00, 1.500e+01, 1.510e+02, 0.000e+00,\n",
              "        2.600e+01, 0.000e+00, 0.000e+00, 2.250e+02, 0.000e+00, 0.000e+00,\n",
              "        3.000e+00, 4.100e+01, 3.000e+00, 0.000e+00, 1.280e+02, 0.000e+00,\n",
              "        4.800e+01, 0.000e+00, 1.000e+01, 2.000e+00, 1.000e+00, 0.000e+00,\n",
              "        0.000e+00, 0.000e+00, 1.270e+02, 0.000e+00, 0.000e+00, 0.000e+00,\n",
              "        1.000e+00, 5.000e+00, 0.000e+00, 1.500e+01, 0.000e+00, 0.000e+00,\n",
              "        2.300e+01, 0.000e+00, 1.000e+01, 2.000e+00, 0.000e+00, 0.000e+00,\n",
              "        2.600e+01, 0.000e+00, 0.000e+00, 1.000e+00, 0.000e+00, 5.000e+00,\n",
              "        0.000e+00, 0.000e+00, 0.000e+00, 1.700e+01, 0.000e+00, 1.000e+00,\n",
              "        0.000e+00, 0.000e+00, 1.000e+01, 0.000e+00, 0.000e+00, 5.000e+00,\n",
              "        0.000e+00, 2.000e+00, 0.000e+00, 0.000e+00, 0.000e+00, 0.000e+00,\n",
              "        0.000e+00, 0.000e+00, 0.000e+00, 0.000e+00, 0.000e+00, 0.000e+00,\n",
              "        0.000e+00, 0.000e+00, 0.000e+00, 0.000e+00, 1.600e+01, 0.000e+00,\n",
              "        0.000e+00, 0.000e+00, 0.000e+00, 0.000e+00, 0.000e+00, 0.000e+00,\n",
              "        0.000e+00, 0.000e+00, 0.000e+00, 0.000e+00, 0.000e+00, 0.000e+00,\n",
              "        0.000e+00, 0.000e+00, 0.000e+00, 0.000e+00, 0.000e+00, 0.000e+00,\n",
              "        0.000e+00, 0.000e+00, 0.000e+00, 0.000e+00, 0.000e+00, 0.000e+00,\n",
              "        0.000e+00, 0.000e+00, 0.000e+00, 0.000e+00, 0.000e+00, 0.000e+00,\n",
              "        0.000e+00, 3.000e+00, 0.000e+00, 0.000e+00, 0.000e+00, 0.000e+00,\n",
              "        0.000e+00, 0.000e+00, 0.000e+00, 0.000e+00, 0.000e+00, 0.000e+00,\n",
              "        0.000e+00, 0.000e+00, 0.000e+00, 0.000e+00, 0.000e+00, 0.000e+00,\n",
              "        2.000e+00, 0.000e+00, 0.000e+00, 0.000e+00, 0.000e+00, 0.000e+00,\n",
              "        0.000e+00, 0.000e+00, 0.000e+00, 0.000e+00, 0.000e+00, 0.000e+00,\n",
              "        0.000e+00, 0.000e+00, 0.000e+00, 0.000e+00, 1.000e+00]),\n",
              " array([0.  , 0.01, 0.02, 0.03, 0.04, 0.05, 0.06, 0.07, 0.08, 0.09, 0.1 ,\n",
              "        0.11, 0.12, 0.13, 0.14, 0.15, 0.16, 0.17, 0.18, 0.19, 0.2 , 0.21,\n",
              "        0.22, 0.23, 0.24, 0.25, 0.26, 0.27, 0.28, 0.29, 0.3 , 0.31, 0.32,\n",
              "        0.33, 0.34, 0.35, 0.36, 0.37, 0.38, 0.39, 0.4 , 0.41, 0.42, 0.43,\n",
              "        0.44, 0.45, 0.46, 0.47, 0.48, 0.49, 0.5 , 0.51, 0.52, 0.53, 0.54,\n",
              "        0.55, 0.56, 0.57, 0.58, 0.59, 0.6 , 0.61, 0.62, 0.63, 0.64, 0.65,\n",
              "        0.66, 0.67, 0.68, 0.69, 0.7 , 0.71, 0.72, 0.73, 0.74, 0.75, 0.76,\n",
              "        0.77, 0.78, 0.79, 0.8 , 0.81, 0.82, 0.83, 0.84, 0.85, 0.86, 0.87,\n",
              "        0.88, 0.89, 0.9 , 0.91, 0.92, 0.93, 0.94, 0.95, 0.96, 0.97, 0.98,\n",
              "        0.99, 1.  , 1.01, 1.02, 1.03, 1.04, 1.05, 1.06, 1.07, 1.08, 1.09,\n",
              "        1.1 , 1.11, 1.12, 1.13, 1.14, 1.15, 1.16, 1.17, 1.18, 1.19, 1.2 ,\n",
              "        1.21, 1.22, 1.23, 1.24, 1.25, 1.26, 1.27, 1.28, 1.29, 1.3 , 1.31,\n",
              "        1.32, 1.33, 1.34, 1.35, 1.36, 1.37, 1.38, 1.39, 1.4 , 1.41, 1.42,\n",
              "        1.43, 1.44, 1.45, 1.46, 1.47, 1.48, 1.49, 1.5 , 1.51, 1.52, 1.53,\n",
              "        1.54, 1.55, 1.56, 1.57, 1.58, 1.59, 1.6 , 1.61, 1.62, 1.63, 1.64,\n",
              "        1.65, 1.66, 1.67]),\n",
              " <a list of 167 Patch objects>)"
            ]
          },
          "metadata": {},
          "execution_count": 155
        },
        {
          "output_type": "display_data",
          "data": {
            "image/png": "[encoded data removed]",
            "text/plain": [
              "<Figure size 1440x720 with 1 Axes>"
            ]
          },
          "metadata": {
            "needs_background": "light"
          }
        }
      ]
    },
    {
      "cell_type": "code",
      "metadata": {
        "colab": {
          "base_uri": "https://localhost:8080/",
          "height": 1000
        },
        "id": "3B7f2-yIz8ZD",
        "outputId": "e2336a65-14aa-4103-e0af-2da8e6c11095"
      },
      "source": [
        "plt.figure(figsize=(20,10))\n",
        "plt.hist(indic_edit_dist, bins=np.arange(min(indic_edit_dist), max(indic_edit_dist)+0.01, step=0.01))"
      ],
      "execution_count": 156,
      "outputs": [
        {
          "output_type": "execute_result",
          "data": {
            "text/plain": [
              "(array([1.578e+03, 0.000e+00, 0.000e+00, 0.000e+00, 0.000e+00, 0.000e+00,\n",
              "        1.000e+00, 1.300e+01, 2.000e+01, 3.900e+01, 8.300e+01, 1.370e+02,\n",
              "        2.180e+02, 1.000e+00, 2.650e+02, 1.200e+01, 3.430e+02, 0.000e+00,\n",
              "        3.300e+01, 0.000e+00, 3.050e+02, 1.000e+00, 1.010e+02, 3.000e+00,\n",
              "        0.000e+00, 2.630e+02, 1.000e+00, 9.000e+00, 1.610e+02, 0.000e+00,\n",
              "        3.100e+01, 0.000e+00, 0.000e+00, 2.560e+02, 0.000e+00, 0.000e+00,\n",
              "        8.000e+00, 5.300e+01, 0.000e+00, 0.000e+00, 1.460e+02, 2.000e+00,\n",
              "        7.400e+01, 0.000e+00, 9.000e+00, 3.000e+00, 1.000e+00, 0.000e+00,\n",
              "        0.000e+00, 0.000e+00, 1.480e+02, 0.000e+00, 0.000e+00, 0.000e+00,\n",
              "        1.000e+00, 4.000e+00, 0.000e+00, 2.300e+01, 1.000e+00, 0.000e+00,\n",
              "        4.300e+01, 0.000e+00, 4.000e+00, 0.000e+00, 0.000e+00, 0.000e+00,\n",
              "        2.900e+01, 0.000e+00, 0.000e+00, 0.000e+00, 0.000e+00, 6.000e+00,\n",
              "        0.000e+00, 0.000e+00, 0.000e+00, 2.000e+01, 0.000e+00, 1.000e+00,\n",
              "        0.000e+00, 0.000e+00, 3.000e+00, 0.000e+00, 0.000e+00, 3.000e+00,\n",
              "        0.000e+00, 0.000e+00, 0.000e+00, 0.000e+00, 0.000e+00, 0.000e+00,\n",
              "        0.000e+00, 0.000e+00, 0.000e+00, 0.000e+00, 0.000e+00, 0.000e+00,\n",
              "        0.000e+00, 0.000e+00, 0.000e+00, 0.000e+00, 2.400e+01, 0.000e+00,\n",
              "        0.000e+00, 0.000e+00, 0.000e+00, 0.000e+00, 0.000e+00, 0.000e+00,\n",
              "        0.000e+00, 0.000e+00, 0.000e+00, 0.000e+00, 0.000e+00, 0.000e+00,\n",
              "        0.000e+00, 0.000e+00, 0.000e+00, 0.000e+00, 0.000e+00, 0.000e+00,\n",
              "        0.000e+00, 0.000e+00, 0.000e+00, 0.000e+00, 0.000e+00, 2.000e+00,\n",
              "        0.000e+00, 0.000e+00, 0.000e+00, 0.000e+00, 0.000e+00, 0.000e+00,\n",
              "        0.000e+00, 1.000e+01, 0.000e+00, 0.000e+00, 0.000e+00, 0.000e+00,\n",
              "        0.000e+00, 0.000e+00, 0.000e+00, 0.000e+00, 0.000e+00, 0.000e+00,\n",
              "        0.000e+00, 0.000e+00, 0.000e+00, 0.000e+00, 0.000e+00, 0.000e+00,\n",
              "        6.000e+00, 0.000e+00, 0.000e+00, 0.000e+00, 0.000e+00, 0.000e+00,\n",
              "        0.000e+00, 0.000e+00, 0.000e+00, 0.000e+00, 0.000e+00, 0.000e+00,\n",
              "        0.000e+00, 0.000e+00, 0.000e+00, 0.000e+00, 2.000e+00, 0.000e+00,\n",
              "        0.000e+00, 0.000e+00, 0.000e+00, 0.000e+00, 0.000e+00, 0.000e+00,\n",
              "        0.000e+00, 0.000e+00, 0.000e+00, 0.000e+00, 0.000e+00, 0.000e+00,\n",
              "        0.000e+00, 0.000e+00, 0.000e+00, 0.000e+00, 0.000e+00, 0.000e+00,\n",
              "        0.000e+00, 0.000e+00, 0.000e+00, 0.000e+00, 0.000e+00, 0.000e+00,\n",
              "        0.000e+00, 0.000e+00, 0.000e+00, 0.000e+00, 0.000e+00, 0.000e+00,\n",
              "        0.000e+00, 2.000e+00]),\n",
              " array([0.  , 0.01, 0.02, 0.03, 0.04, 0.05, 0.06, 0.07, 0.08, 0.09, 0.1 ,\n",
              "        0.11, 0.12, 0.13, 0.14, 0.15, 0.16, 0.17, 0.18, 0.19, 0.2 , 0.21,\n",
              "        0.22, 0.23, 0.24, 0.25, 0.26, 0.27, 0.28, 0.29, 0.3 , 0.31, 0.32,\n",
              "        0.33, 0.34, 0.35, 0.36, 0.37, 0.38, 0.39, 0.4 , 0.41, 0.42, 0.43,\n",
              "        0.44, 0.45, 0.46, 0.47, 0.48, 0.49, 0.5 , 0.51, 0.52, 0.53, 0.54,\n",
              "        0.55, 0.56, 0.57, 0.58, 0.59, 0.6 , 0.61, 0.62, 0.63, 0.64, 0.65,\n",
              "        0.66, 0.67, 0.68, 0.69, 0.7 , 0.71, 0.72, 0.73, 0.74, 0.75, 0.76,\n",
              "        0.77, 0.78, 0.79, 0.8 , 0.81, 0.82, 0.83, 0.84, 0.85, 0.86, 0.87,\n",
              "        0.88, 0.89, 0.9 , 0.91, 0.92, 0.93, 0.94, 0.95, 0.96, 0.97, 0.98,\n",
              "        0.99, 1.  , 1.01, 1.02, 1.03, 1.04, 1.05, 1.06, 1.07, 1.08, 1.09,\n",
              "        1.1 , 1.11, 1.12, 1.13, 1.14, 1.15, 1.16, 1.17, 1.18, 1.19, 1.2 ,\n",
              "        1.21, 1.22, 1.23, 1.24, 1.25, 1.26, 1.27, 1.28, 1.29, 1.3 , 1.31,\n",
              "        1.32, 1.33, 1.34, 1.35, 1.36, 1.37, 1.38, 1.39, 1.4 , 1.41, 1.42,\n",
              "        1.43, 1.44, 1.45, 1.46, 1.47, 1.48, 1.49, 1.5 , 1.51, 1.52, 1.53,\n",
              "        1.54, 1.55, 1.56, 1.57, 1.58, 1.59, 1.6 , 1.61, 1.62, 1.63, 1.64,\n",
              "        1.65, 1.66, 1.67, 1.68, 1.69, 1.7 , 1.71, 1.72, 1.73, 1.74, 1.75,\n",
              "        1.76, 1.77, 1.78, 1.79, 1.8 , 1.81, 1.82, 1.83, 1.84, 1.85, 1.86,\n",
              "        1.87, 1.88, 1.89, 1.9 , 1.91, 1.92, 1.93, 1.94, 1.95, 1.96, 1.97,\n",
              "        1.98, 1.99, 2.  ]),\n",
              " <a list of 200 Patch objects>)"
            ]
          },
          "metadata": {},
          "execution_count": 156
        },
        {
          "output_type": "display_data",
          "data": {
            "image/png": "[encoded data removed]",
            "text/plain": [
              "<Figure size 1440x720 with 1 Axes>"
            ]
          },
          "metadata": {
            "needs_background": "light"
          }
        }
      ]
    },
    {
      "cell_type": "code",
      "metadata": {
        "colab": {
          "base_uri": "https://localhost:8080/",
          "height": 1000
        },
        "id": "MBqlulmn4jXm",
        "outputId": "7e93ea57-5181-4287-93ea-765bda7e2792"
      },
      "source": [
        "dakshina_test_df[dakshina_test_df['indic_edit_distance'] >= 0.9]"
      ],
      "execution_count": 158,
      "outputs": [
        {
          "output_type": "execute_result",
          "data": {
            "text/html": [
              "<div>\n",
              "<style scoped>\n",
              "    .dataframe tbody tr th:only-of-type {\n",
              "        vertical-align: middle;\n",
              "    }\n",
              "\n",
              "    .dataframe tbody tr th {\n",
              "        vertical-align: top;\n",
              "    }\n",
              "\n",
              "    .dataframe thead th {\n",
              "        text-align: right;\n",
              "    }\n",
              "</style>\n",
              "<table border=\"1\" class=\"dataframe\">\n",
              "  <thead>\n",
              "    <tr style=\"text-align: right;\">\n",
              "      <th></th>\n",
              "      <th>hindi</th>\n",
              "      <th>english</th>\n",
              "      <th>freq</th>\n",
              "      <th>model_predicted</th>\n",
              "      <th>indictrans_predicted</th>\n",
              "      <th>model_edit_distance</th>\n",
              "      <th>indic_edit_distance</th>\n",
              "    </tr>\n",
              "  </thead>\n",
              "  <tbody>\n",
              "    <tr>\n",
              "      <th>254</th>\n",
              "      <td>आइसीसी</td>\n",
              "      <td>icc</td>\n",
              "      <td>3</td>\n",
              "      <td>icc</td>\n",
              "      <td>isisi</td>\n",
              "      <td>0.000000</td>\n",
              "      <td>1.333333</td>\n",
              "    </tr>\n",
              "    <tr>\n",
              "      <th>256</th>\n",
              "      <td>आईपीसी</td>\n",
              "      <td>ipc</td>\n",
              "      <td>3</td>\n",
              "      <td>ipc</td>\n",
              "      <td>ipisi</td>\n",
              "      <td>0.000000</td>\n",
              "      <td>1.000000</td>\n",
              "    </tr>\n",
              "    <tr>\n",
              "      <th>312</th>\n",
              "      <td>आरओ</td>\n",
              "      <td>ro</td>\n",
              "      <td>3</td>\n",
              "      <td>aro</td>\n",
              "      <td>aaro</td>\n",
              "      <td>0.500000</td>\n",
              "      <td>1.000000</td>\n",
              "    </tr>\n",
              "    <tr>\n",
              "      <th>313</th>\n",
              "      <td>आरपी</td>\n",
              "      <td>rp</td>\n",
              "      <td>3</td>\n",
              "      <td>arp</td>\n",
              "      <td>arapy</td>\n",
              "      <td>0.500000</td>\n",
              "      <td>1.500000</td>\n",
              "    </tr>\n",
              "    <tr>\n",
              "      <th>422</th>\n",
              "      <td>ईए</td>\n",
              "      <td>ea</td>\n",
              "      <td>2</td>\n",
              "      <td>ea</td>\n",
              "      <td>ie</td>\n",
              "      <td>0.000000</td>\n",
              "      <td>1.000000</td>\n",
              "    </tr>\n",
              "    <tr>\n",
              "      <th>538</th>\n",
              "      <td>एएसआई</td>\n",
              "      <td>asi</td>\n",
              "      <td>3</td>\n",
              "      <td>asai</td>\n",
              "      <td>eesai</td>\n",
              "      <td>0.333333</td>\n",
              "      <td>1.000000</td>\n",
              "    </tr>\n",
              "    <tr>\n",
              "      <th>542</th>\n",
              "      <td>एक्सएम</td>\n",
              "      <td>xm</td>\n",
              "      <td>3</td>\n",
              "      <td>exme</td>\n",
              "      <td>exem</td>\n",
              "      <td>1.000000</td>\n",
              "      <td>1.000000</td>\n",
              "    </tr>\n",
              "    <tr>\n",
              "      <th>545</th>\n",
              "      <td>एजे</td>\n",
              "      <td>aj</td>\n",
              "      <td>3</td>\n",
              "      <td>eje</td>\n",
              "      <td>age</td>\n",
              "      <td>1.000000</td>\n",
              "      <td>1.000000</td>\n",
              "    </tr>\n",
              "    <tr>\n",
              "      <th>547</th>\n",
              "      <td>एडीपी</td>\n",
              "      <td>adp</td>\n",
              "      <td>3</td>\n",
              "      <td>edipi</td>\n",
              "      <td>edipi</td>\n",
              "      <td>1.000000</td>\n",
              "      <td>1.000000</td>\n",
              "    </tr>\n",
              "    <tr>\n",
              "      <th>556</th>\n",
              "      <td>एफटीआईआई</td>\n",
              "      <td>ftii</td>\n",
              "      <td>3</td>\n",
              "      <td>fti</td>\n",
              "      <td>apatiai</td>\n",
              "      <td>0.250000</td>\n",
              "      <td>1.000000</td>\n",
              "    </tr>\n",
              "    <tr>\n",
              "      <th>583</th>\n",
              "      <td>एलटीई</td>\n",
              "      <td>lte</td>\n",
              "      <td>1</td>\n",
              "      <td>elatii</td>\n",
              "      <td>eltii</td>\n",
              "      <td>1.333333</td>\n",
              "      <td>1.000000</td>\n",
              "    </tr>\n",
              "    <tr>\n",
              "      <th>590</th>\n",
              "      <td>एसएफसी</td>\n",
              "      <td>sfc</td>\n",
              "      <td>3</td>\n",
              "      <td>sfc</td>\n",
              "      <td>esefasi</td>\n",
              "      <td>0.000000</td>\n",
              "      <td>1.666667</td>\n",
              "    </tr>\n",
              "    <tr>\n",
              "      <th>591</th>\n",
              "      <td>एसके</td>\n",
              "      <td>sk</td>\n",
              "      <td>3</td>\n",
              "      <td>sk</td>\n",
              "      <td>esake</td>\n",
              "      <td>0.000000</td>\n",
              "      <td>1.500000</td>\n",
              "    </tr>\n",
              "    <tr>\n",
              "      <th>592</th>\n",
              "      <td>एसपीएफ</td>\n",
              "      <td>spf</td>\n",
              "      <td>3</td>\n",
              "      <td>spf</td>\n",
              "      <td>espeef</td>\n",
              "      <td>0.000000</td>\n",
              "      <td>1.000000</td>\n",
              "    </tr>\n",
              "    <tr>\n",
              "      <th>608</th>\n",
              "      <td>ऐंठ</td>\n",
              "      <td>end</td>\n",
              "      <td>1</td>\n",
              "      <td>ainth</td>\n",
              "      <td>anth</td>\n",
              "      <td>1.333333</td>\n",
              "      <td>1.000000</td>\n",
              "    </tr>\n",
              "    <tr>\n",
              "      <th>616</th>\n",
              "      <td>ऐल</td>\n",
              "      <td>el</td>\n",
              "      <td>1</td>\n",
              "      <td>ail</td>\n",
              "      <td>ail</td>\n",
              "      <td>1.000000</td>\n",
              "      <td>1.000000</td>\n",
              "    </tr>\n",
              "    <tr>\n",
              "      <th>769</th>\n",
              "      <td>काजू</td>\n",
              "      <td>kajoo</td>\n",
              "      <td>1</td>\n",
              "      <td>kajoo</td>\n",
              "      <td>kaashew</td>\n",
              "      <td>0.000000</td>\n",
              "      <td>1.000000</td>\n",
              "    </tr>\n",
              "    <tr>\n",
              "      <th>770</th>\n",
              "      <td>काजू</td>\n",
              "      <td>kaju</td>\n",
              "      <td>3</td>\n",
              "      <td>kajoo</td>\n",
              "      <td>kaashew</td>\n",
              "      <td>0.500000</td>\n",
              "      <td>1.250000</td>\n",
              "    </tr>\n",
              "    <tr>\n",
              "      <th>835</th>\n",
              "      <td>केपीओ</td>\n",
              "      <td>kpo</td>\n",
              "      <td>3</td>\n",
              "      <td>kepo</td>\n",
              "      <td>capio</td>\n",
              "      <td>0.333333</td>\n",
              "      <td>1.000000</td>\n",
              "    </tr>\n",
              "    <tr>\n",
              "      <th>1365</th>\n",
              "      <td>जीआईसी</td>\n",
              "      <td>gic</td>\n",
              "      <td>3</td>\n",
              "      <td>gic</td>\n",
              "      <td>jiaaisi</td>\n",
              "      <td>0.000000</td>\n",
              "      <td>2.000000</td>\n",
              "    </tr>\n",
              "    <tr>\n",
              "      <th>1366</th>\n",
              "      <td>जीआर</td>\n",
              "      <td>gr</td>\n",
              "      <td>3</td>\n",
              "      <td>jear</td>\n",
              "      <td>jiaar</td>\n",
              "      <td>1.500000</td>\n",
              "      <td>2.000000</td>\n",
              "    </tr>\n",
              "    <tr>\n",
              "      <th>1367</th>\n",
              "      <td>जीएम</td>\n",
              "      <td>gm</td>\n",
              "      <td>3</td>\n",
              "      <td>gm</td>\n",
              "      <td>jiem</td>\n",
              "      <td>0.000000</td>\n",
              "      <td>1.500000</td>\n",
              "    </tr>\n",
              "    <tr>\n",
              "      <th>1368</th>\n",
              "      <td>जीएसएम</td>\n",
              "      <td>gsm</td>\n",
              "      <td>3</td>\n",
              "      <td>jsm</td>\n",
              "      <td>jiesem</td>\n",
              "      <td>0.333333</td>\n",
              "      <td>1.333333</td>\n",
              "    </tr>\n",
              "    <tr>\n",
              "      <th>1381</th>\n",
              "      <td>जीयो</td>\n",
              "      <td>jio</td>\n",
              "      <td>1</td>\n",
              "      <td>jiyo</td>\n",
              "      <td>jeeyo</td>\n",
              "      <td>0.333333</td>\n",
              "      <td>1.000000</td>\n",
              "    </tr>\n",
              "    <tr>\n",
              "      <th>1596</th>\n",
              "      <td>डीवीसी</td>\n",
              "      <td>dvc</td>\n",
              "      <td>3</td>\n",
              "      <td>deviesi</td>\n",
              "      <td>divisi</td>\n",
              "      <td>1.666667</td>\n",
              "      <td>1.333333</td>\n",
              "    </tr>\n",
              "    <tr>\n",
              "      <th>2357</th>\n",
              "      <td>पीआईबी</td>\n",
              "      <td>pib</td>\n",
              "      <td>3</td>\n",
              "      <td>pib</td>\n",
              "      <td>piaibi</td>\n",
              "      <td>0.000000</td>\n",
              "      <td>1.000000</td>\n",
              "    </tr>\n",
              "    <tr>\n",
              "      <th>2358</th>\n",
              "      <td>पीआर</td>\n",
              "      <td>pr</td>\n",
              "      <td>3</td>\n",
              "      <td>pear</td>\n",
              "      <td>piaar</td>\n",
              "      <td>1.000000</td>\n",
              "      <td>1.500000</td>\n",
              "    </tr>\n",
              "    <tr>\n",
              "      <th>2359</th>\n",
              "      <td>पीएमएल</td>\n",
              "      <td>pml</td>\n",
              "      <td>3</td>\n",
              "      <td>pml</td>\n",
              "      <td>piemail</td>\n",
              "      <td>0.000000</td>\n",
              "      <td>1.333333</td>\n",
              "    </tr>\n",
              "    <tr>\n",
              "      <th>2361</th>\n",
              "      <td>पीएमसीएच</td>\n",
              "      <td>pmch</td>\n",
              "      <td>3</td>\n",
              "      <td>pmch</td>\n",
              "      <td>piemasiech</td>\n",
              "      <td>0.000000</td>\n",
              "      <td>1.500000</td>\n",
              "    </tr>\n",
              "    <tr>\n",
              "      <th>2362</th>\n",
              "      <td>पीएसवी</td>\n",
              "      <td>psv</td>\n",
              "      <td>3</td>\n",
              "      <td>psv</td>\n",
              "      <td>piesvi</td>\n",
              "      <td>0.000000</td>\n",
              "      <td>1.000000</td>\n",
              "    </tr>\n",
              "    <tr>\n",
              "      <th>2372</th>\n",
              "      <td>पीवी</td>\n",
              "      <td>pv</td>\n",
              "      <td>3</td>\n",
              "      <td>peevi</td>\n",
              "      <td>pivi</td>\n",
              "      <td>1.500000</td>\n",
              "      <td>1.000000</td>\n",
              "    </tr>\n",
              "    <tr>\n",
              "      <th>2609</th>\n",
              "      <td>फूस</td>\n",
              "      <td>fus</td>\n",
              "      <td>1</td>\n",
              "      <td>foos</td>\n",
              "      <td>phoos</td>\n",
              "      <td>0.666667</td>\n",
              "      <td>1.333333</td>\n",
              "    </tr>\n",
              "    <tr>\n",
              "      <th>2813</th>\n",
              "      <td>बाॅक्स</td>\n",
              "      <td>box</td>\n",
              "      <td>3</td>\n",
              "      <td>box</td>\n",
              "      <td>baks</td>\n",
              "      <td>0.000000</td>\n",
              "      <td>1.000000</td>\n",
              "    </tr>\n",
              "    <tr>\n",
              "      <th>2830</th>\n",
              "      <td>बीएजी</td>\n",
              "      <td>bag</td>\n",
              "      <td>3</td>\n",
              "      <td>bagi</td>\n",
              "      <td>bieji</td>\n",
              "      <td>0.333333</td>\n",
              "      <td>1.333333</td>\n",
              "    </tr>\n",
              "    <tr>\n",
              "      <th>2833</th>\n",
              "      <td>बीके</td>\n",
              "      <td>bk</td>\n",
              "      <td>3</td>\n",
              "      <td>bike</td>\n",
              "      <td>bike</td>\n",
              "      <td>1.000000</td>\n",
              "      <td>1.000000</td>\n",
              "    </tr>\n",
              "    <tr>\n",
              "      <th>3557</th>\n",
              "      <td>लक्स</td>\n",
              "      <td>lux</td>\n",
              "      <td>3</td>\n",
              "      <td>laks</td>\n",
              "      <td>lucks</td>\n",
              "      <td>1.000000</td>\n",
              "      <td>1.000000</td>\n",
              "    </tr>\n",
              "    <tr>\n",
              "      <th>3821</th>\n",
              "      <td>वीएलसी</td>\n",
              "      <td>vlc</td>\n",
              "      <td>3</td>\n",
              "      <td>velc</td>\n",
              "      <td>vielsi</td>\n",
              "      <td>0.333333</td>\n",
              "      <td>1.333333</td>\n",
              "    </tr>\n",
              "    <tr>\n",
              "      <th>3834</th>\n",
              "      <td>वेड</td>\n",
              "      <td>wed</td>\n",
              "      <td>1</td>\n",
              "      <td>ved</td>\n",
              "      <td>vade</td>\n",
              "      <td>0.333333</td>\n",
              "      <td>1.000000</td>\n",
              "    </tr>\n",
              "    <tr>\n",
              "      <th>3869</th>\n",
              "      <td>वैरी</td>\n",
              "      <td>very</td>\n",
              "      <td>3</td>\n",
              "      <td>vairi</td>\n",
              "      <td>bairee</td>\n",
              "      <td>0.750000</td>\n",
              "      <td>1.250000</td>\n",
              "    </tr>\n",
              "    <tr>\n",
              "      <th>3957</th>\n",
              "      <td>श्योर</td>\n",
              "      <td>sure</td>\n",
              "      <td>3</td>\n",
              "      <td>shyor</td>\n",
              "      <td>shyor</td>\n",
              "      <td>1.000000</td>\n",
              "      <td>1.000000</td>\n",
              "    </tr>\n",
              "    <tr>\n",
              "      <th>4212</th>\n",
              "      <td>सीआईएल</td>\n",
              "      <td>cil</td>\n",
              "      <td>3</td>\n",
              "      <td>cil</td>\n",
              "      <td>siiel</td>\n",
              "      <td>0.000000</td>\n",
              "      <td>1.000000</td>\n",
              "    </tr>\n",
              "    <tr>\n",
              "      <th>4213</th>\n",
              "      <td>सीएसआई</td>\n",
              "      <td>csi</td>\n",
              "      <td>3</td>\n",
              "      <td>csi</td>\n",
              "      <td>siesai</td>\n",
              "      <td>0.000000</td>\n",
              "      <td>1.333333</td>\n",
              "    </tr>\n",
              "    <tr>\n",
              "      <th>4218</th>\n",
              "      <td>सीपीएम</td>\n",
              "      <td>cpm</td>\n",
              "      <td>3</td>\n",
              "      <td>cpm</td>\n",
              "      <td>sipiem</td>\n",
              "      <td>0.000000</td>\n",
              "      <td>1.333333</td>\n",
              "    </tr>\n",
              "    <tr>\n",
              "      <th>4219</th>\n",
              "      <td>सीपीएस</td>\n",
              "      <td>cps</td>\n",
              "      <td>3</td>\n",
              "      <td>cps</td>\n",
              "      <td>sipies</td>\n",
              "      <td>0.000000</td>\n",
              "      <td>1.333333</td>\n",
              "    </tr>\n",
              "    <tr>\n",
              "      <th>4220</th>\n",
              "      <td>सीबीएसई</td>\n",
              "      <td>cbse</td>\n",
              "      <td>3</td>\n",
              "      <td>cbsi</td>\n",
              "      <td>sibiesai</td>\n",
              "      <td>0.250000</td>\n",
              "      <td>1.500000</td>\n",
              "    </tr>\n",
              "    <tr>\n",
              "      <th>4225</th>\n",
              "      <td>सीसीडी</td>\n",
              "      <td>ccd</td>\n",
              "      <td>3</td>\n",
              "      <td>ccd</td>\n",
              "      <td>sisidi</td>\n",
              "      <td>0.000000</td>\n",
              "      <td>1.666667</td>\n",
              "    </tr>\n",
              "  </tbody>\n",
              "</table>\n",
              "</div>"
            ],
            "text/plain": [
              "         hindi english  ...  model_edit_distance indic_edit_distance\n",
              "254     आइसीसी     icc  ...             0.000000            1.333333\n",
              "256     आईपीसी     ipc  ...             0.000000            1.000000\n",
              "312        आरओ      ro  ...             0.500000            1.000000\n",
              "313       आरपी      rp  ...             0.500000            1.500000\n",
              "422         ईए      ea  ...             0.000000            1.000000\n",
              "538      एएसआई     asi  ...             0.333333            1.000000\n",
              "542     एक्सएम      xm  ...             1.000000            1.000000\n",
              "545        एजे      aj  ...             1.000000            1.000000\n",
              "547      एडीपी     adp  ...             1.000000            1.000000\n",
              "556   एफटीआईआई    ftii  ...             0.250000            1.000000\n",
              "583      एलटीई     lte  ...             1.333333            1.000000\n",
              "590     एसएफसी     sfc  ...             0.000000            1.666667\n",
              "591       एसके      sk  ...             0.000000            1.500000\n",
              "592     एसपीएफ     spf  ...             0.000000            1.000000\n",
              "608        ऐंठ     end  ...             1.333333            1.000000\n",
              "616         ऐल      el  ...             1.000000            1.000000\n",
              "769       काजू   kajoo  ...             0.000000            1.000000\n",
              "770       काजू    kaju  ...             0.500000            1.250000\n",
              "835      केपीओ     kpo  ...             0.333333            1.000000\n",
              "1365    जीआईसी     gic  ...             0.000000            2.000000\n",
              "1366      जीआर      gr  ...             1.500000            2.000000\n",
              "1367      जीएम      gm  ...             0.000000            1.500000\n",
              "1368    जीएसएम     gsm  ...             0.333333            1.333333\n",
              "1381      जीयो     jio  ...             0.333333            1.000000\n",
              "1596    डीवीसी     dvc  ...             1.666667            1.333333\n",
              "2357    पीआईबी     pib  ...             0.000000            1.000000\n",
              "2358      पीआर      pr  ...             1.000000            1.500000\n",
              "2359    पीएमएल     pml  ...             0.000000            1.333333\n",
              "2361  पीएमसीएच    pmch  ...             0.000000            1.500000\n",
              "2362    पीएसवी     psv  ...             0.000000            1.000000\n",
              "2372      पीवी      pv  ...             1.500000            1.000000\n",
              "2609       फूस     fus  ...             0.666667            1.333333\n",
              "2813    बाॅक्स     box  ...             0.000000            1.000000\n",
              "2830     बीएजी     bag  ...             0.333333            1.333333\n",
              "2833      बीके      bk  ...             1.000000            1.000000\n",
              "3557      लक्स     lux  ...             1.000000            1.000000\n",
              "3821    वीएलसी     vlc  ...             0.333333            1.333333\n",
              "3834       वेड     wed  ...             0.333333            1.000000\n",
              "3869      वैरी    very  ...             0.750000            1.250000\n",
              "3957     श्योर    sure  ...             1.000000            1.000000\n",
              "4212    सीआईएल     cil  ...             0.000000            1.000000\n",
              "4213    सीएसआई     csi  ...             0.000000            1.333333\n",
              "4218    सीपीएम     cpm  ...             0.000000            1.333333\n",
              "4219    सीपीएस     cps  ...             0.000000            1.333333\n",
              "4220   सीबीएसई    cbse  ...             0.250000            1.500000\n",
              "4225    सीसीडी     ccd  ...             0.000000            1.666667\n",
              "\n",
              "[46 rows x 7 columns]"
            ]
          },
          "metadata": {},
          "execution_count": 158
        }
      ]
    },
    {
      "cell_type": "code",
      "metadata": {
        "colab": {
          "base_uri": "https://localhost:8080/",
          "height": 424
        },
        "id": "2UftZhut5Bg6",
        "outputId": "b8e45d9b-e20f-4d81-d0e8-5f5b8b340a45"
      },
      "source": [
        "dakshina_test_df[dakshina_test_df['model_edit_distance'] == 0.0]"
      ],
      "execution_count": 159,
      "outputs": [
        {
          "output_type": "execute_result",
          "data": {
            "text/html": [
              "<div>\n",
              "<style scoped>\n",
              "    .dataframe tbody tr th:only-of-type {\n",
              "        vertical-align: middle;\n",
              "    }\n",
              "\n",
              "    .dataframe tbody tr th {\n",
              "        vertical-align: top;\n",
              "    }\n",
              "\n",
              "    .dataframe thead th {\n",
              "        text-align: right;\n",
              "    }\n",
              "</style>\n",
              "<table border=\"1\" class=\"dataframe\">\n",
              "  <thead>\n",
              "    <tr style=\"text-align: right;\">\n",
              "      <th></th>\n",
              "      <th>hindi</th>\n",
              "      <th>english</th>\n",
              "      <th>freq</th>\n",
              "      <th>model_predicted</th>\n",
              "      <th>indictrans_predicted</th>\n",
              "      <th>model_edit_distance</th>\n",
              "      <th>indic_edit_distance</th>\n",
              "    </tr>\n",
              "  </thead>\n",
              "  <tbody>\n",
              "    <tr>\n",
              "      <th>0</th>\n",
              "      <td>अंक</td>\n",
              "      <td>ank</td>\n",
              "      <td>5</td>\n",
              "      <td>ank</td>\n",
              "      <td>ank</td>\n",
              "      <td>0.0</td>\n",
              "      <td>0.000000</td>\n",
              "    </tr>\n",
              "    <tr>\n",
              "      <th>2</th>\n",
              "      <td>अंकित</td>\n",
              "      <td>ankit</td>\n",
              "      <td>3</td>\n",
              "      <td>ankit</td>\n",
              "      <td>ankit</td>\n",
              "      <td>0.0</td>\n",
              "      <td>0.000000</td>\n",
              "    </tr>\n",
              "    <tr>\n",
              "      <th>5</th>\n",
              "      <td>अंकों</td>\n",
              "      <td>ankon</td>\n",
              "      <td>2</td>\n",
              "      <td>ankon</td>\n",
              "      <td>ankon</td>\n",
              "      <td>0.0</td>\n",
              "      <td>0.000000</td>\n",
              "    </tr>\n",
              "    <tr>\n",
              "      <th>7</th>\n",
              "      <td>अंकोर</td>\n",
              "      <td>ankor</td>\n",
              "      <td>2</td>\n",
              "      <td>ankor</td>\n",
              "      <td>ankor</td>\n",
              "      <td>0.0</td>\n",
              "      <td>0.000000</td>\n",
              "    </tr>\n",
              "    <tr>\n",
              "      <th>9</th>\n",
              "      <td>अंगारक</td>\n",
              "      <td>angarak</td>\n",
              "      <td>2</td>\n",
              "      <td>angarak</td>\n",
              "      <td>angarak</td>\n",
              "      <td>0.0</td>\n",
              "      <td>0.000000</td>\n",
              "    </tr>\n",
              "    <tr>\n",
              "      <th>...</th>\n",
              "      <td>...</td>\n",
              "      <td>...</td>\n",
              "      <td>...</td>\n",
              "      <td>...</td>\n",
              "      <td>...</td>\n",
              "      <td>...</td>\n",
              "      <td>...</td>\n",
              "    </tr>\n",
              "    <tr>\n",
              "      <th>4487</th>\n",
              "      <td>हैतो</td>\n",
              "      <td>haito</td>\n",
              "      <td>3</td>\n",
              "      <td>haito</td>\n",
              "      <td>haito</td>\n",
              "      <td>0.0</td>\n",
              "      <td>0.000000</td>\n",
              "    </tr>\n",
              "    <tr>\n",
              "      <th>4493</th>\n",
              "      <td>हॉन्ग</td>\n",
              "      <td>hong</td>\n",
              "      <td>3</td>\n",
              "      <td>hong</td>\n",
              "      <td>hong</td>\n",
              "      <td>0.0</td>\n",
              "      <td>0.000000</td>\n",
              "    </tr>\n",
              "    <tr>\n",
              "      <th>4497</th>\n",
              "      <td>होल्डिंग</td>\n",
              "      <td>holding</td>\n",
              "      <td>3</td>\n",
              "      <td>holding</td>\n",
              "      <td>holding</td>\n",
              "      <td>0.0</td>\n",
              "      <td>0.000000</td>\n",
              "    </tr>\n",
              "    <tr>\n",
              "      <th>4499</th>\n",
              "      <td>होशंगाबाद</td>\n",
              "      <td>hoshangabad</td>\n",
              "      <td>2</td>\n",
              "      <td>hoshangabad</td>\n",
              "      <td>hoshangabad</td>\n",
              "      <td>0.0</td>\n",
              "      <td>0.000000</td>\n",
              "    </tr>\n",
              "    <tr>\n",
              "      <th>4500</th>\n",
              "      <td>होस्टेस</td>\n",
              "      <td>hostes</td>\n",
              "      <td>1</td>\n",
              "      <td>hostes</td>\n",
              "      <td>hostess</td>\n",
              "      <td>0.0</td>\n",
              "      <td>0.166667</td>\n",
              "    </tr>\n",
              "  </tbody>\n",
              "</table>\n",
              "<p>1864 rows × 7 columns</p>\n",
              "</div>"
            ],
            "text/plain": [
              "          hindi      english  ...  model_edit_distance indic_edit_distance\n",
              "0           अंक          ank  ...                  0.0            0.000000\n",
              "2         अंकित        ankit  ...                  0.0            0.000000\n",
              "5         अंकों        ankon  ...                  0.0            0.000000\n",
              "7         अंकोर        ankor  ...                  0.0            0.000000\n",
              "9        अंगारक      angarak  ...                  0.0            0.000000\n",
              "...         ...          ...  ...                  ...                 ...\n",
              "4487       हैतो        haito  ...                  0.0            0.000000\n",
              "4493      हॉन्ग         hong  ...                  0.0            0.000000\n",
              "4497   होल्डिंग      holding  ...                  0.0            0.000000\n",
              "4499  होशंगाबाद  hoshangabad  ...                  0.0            0.000000\n",
              "4500    होस्टेस       hostes  ...                  0.0            0.166667\n",
              "\n",
              "[1864 rows x 7 columns]"
            ]
          },
          "metadata": {},
          "execution_count": 159
        }
      ]
    },
    {
      "cell_type": "code",
      "metadata": {
        "colab": {
          "base_uri": "https://localhost:8080/",
          "height": 424
        },
        "id": "YireeoVF6eba",
        "outputId": "bb41f1f3-81a2-4f34-e38b-4eb4d25139e2"
      },
      "source": [
        "dakshina_test_df[dakshina_test_df['indic_edit_distance'] == 0.0]"
      ],
      "execution_count": 160,
      "outputs": [
        {
          "output_type": "execute_result",
          "data": {
            "text/html": [
              "<div>\n",
              "<style scoped>\n",
              "    .dataframe tbody tr th:only-of-type {\n",
              "        vertical-align: middle;\n",
              "    }\n",
              "\n",
              "    .dataframe tbody tr th {\n",
              "        vertical-align: top;\n",
              "    }\n",
              "\n",
              "    .dataframe thead th {\n",
              "        text-align: right;\n",
              "    }\n",
              "</style>\n",
              "<table border=\"1\" class=\"dataframe\">\n",
              "  <thead>\n",
              "    <tr style=\"text-align: right;\">\n",
              "      <th></th>\n",
              "      <th>hindi</th>\n",
              "      <th>english</th>\n",
              "      <th>freq</th>\n",
              "      <th>model_predicted</th>\n",
              "      <th>indictrans_predicted</th>\n",
              "      <th>model_edit_distance</th>\n",
              "      <th>indic_edit_distance</th>\n",
              "    </tr>\n",
              "  </thead>\n",
              "  <tbody>\n",
              "    <tr>\n",
              "      <th>0</th>\n",
              "      <td>अंक</td>\n",
              "      <td>ank</td>\n",
              "      <td>5</td>\n",
              "      <td>ank</td>\n",
              "      <td>ank</td>\n",
              "      <td>0.000000</td>\n",
              "      <td>0.0</td>\n",
              "    </tr>\n",
              "    <tr>\n",
              "      <th>2</th>\n",
              "      <td>अंकित</td>\n",
              "      <td>ankit</td>\n",
              "      <td>3</td>\n",
              "      <td>ankit</td>\n",
              "      <td>ankit</td>\n",
              "      <td>0.000000</td>\n",
              "      <td>0.0</td>\n",
              "    </tr>\n",
              "    <tr>\n",
              "      <th>5</th>\n",
              "      <td>अंकों</td>\n",
              "      <td>ankon</td>\n",
              "      <td>2</td>\n",
              "      <td>ankon</td>\n",
              "      <td>ankon</td>\n",
              "      <td>0.000000</td>\n",
              "      <td>0.0</td>\n",
              "    </tr>\n",
              "    <tr>\n",
              "      <th>7</th>\n",
              "      <td>अंकोर</td>\n",
              "      <td>ankor</td>\n",
              "      <td>2</td>\n",
              "      <td>ankor</td>\n",
              "      <td>ankor</td>\n",
              "      <td>0.000000</td>\n",
              "      <td>0.0</td>\n",
              "    </tr>\n",
              "    <tr>\n",
              "      <th>9</th>\n",
              "      <td>अंगारक</td>\n",
              "      <td>angarak</td>\n",
              "      <td>2</td>\n",
              "      <td>angarak</td>\n",
              "      <td>angarak</td>\n",
              "      <td>0.000000</td>\n",
              "      <td>0.0</td>\n",
              "    </tr>\n",
              "    <tr>\n",
              "      <th>...</th>\n",
              "      <td>...</td>\n",
              "      <td>...</td>\n",
              "      <td>...</td>\n",
              "      <td>...</td>\n",
              "      <td>...</td>\n",
              "      <td>...</td>\n",
              "      <td>...</td>\n",
              "    </tr>\n",
              "    <tr>\n",
              "      <th>4493</th>\n",
              "      <td>हॉन्ग</td>\n",
              "      <td>hong</td>\n",
              "      <td>3</td>\n",
              "      <td>hong</td>\n",
              "      <td>hong</td>\n",
              "      <td>0.000000</td>\n",
              "      <td>0.0</td>\n",
              "    </tr>\n",
              "    <tr>\n",
              "      <th>4496</th>\n",
              "      <td>होऊंगा</td>\n",
              "      <td>hounga</td>\n",
              "      <td>3</td>\n",
              "      <td>hoounga</td>\n",
              "      <td>hounga</td>\n",
              "      <td>0.166667</td>\n",
              "      <td>0.0</td>\n",
              "    </tr>\n",
              "    <tr>\n",
              "      <th>4497</th>\n",
              "      <td>होल्डिंग</td>\n",
              "      <td>holding</td>\n",
              "      <td>3</td>\n",
              "      <td>holding</td>\n",
              "      <td>holding</td>\n",
              "      <td>0.000000</td>\n",
              "      <td>0.0</td>\n",
              "    </tr>\n",
              "    <tr>\n",
              "      <th>4499</th>\n",
              "      <td>होशंगाबाद</td>\n",
              "      <td>hoshangabad</td>\n",
              "      <td>2</td>\n",
              "      <td>hoshangabad</td>\n",
              "      <td>hoshangabad</td>\n",
              "      <td>0.000000</td>\n",
              "      <td>0.0</td>\n",
              "    </tr>\n",
              "    <tr>\n",
              "      <th>4501</th>\n",
              "      <td>होस्टेस</td>\n",
              "      <td>hostess</td>\n",
              "      <td>2</td>\n",
              "      <td>hostes</td>\n",
              "      <td>hostess</td>\n",
              "      <td>0.142857</td>\n",
              "      <td>0.0</td>\n",
              "    </tr>\n",
              "  </tbody>\n",
              "</table>\n",
              "<p>1578 rows × 7 columns</p>\n",
              "</div>"
            ],
            "text/plain": [
              "          hindi      english  ...  model_edit_distance indic_edit_distance\n",
              "0           अंक          ank  ...             0.000000                 0.0\n",
              "2         अंकित        ankit  ...             0.000000                 0.0\n",
              "5         अंकों        ankon  ...             0.000000                 0.0\n",
              "7         अंकोर        ankor  ...             0.000000                 0.0\n",
              "9        अंगारक      angarak  ...             0.000000                 0.0\n",
              "...         ...          ...  ...                  ...                 ...\n",
              "4493      हॉन्ग         hong  ...             0.000000                 0.0\n",
              "4496     होऊंगा       hounga  ...             0.166667                 0.0\n",
              "4497   होल्डिंग      holding  ...             0.000000                 0.0\n",
              "4499  होशंगाबाद  hoshangabad  ...             0.000000                 0.0\n",
              "4501    होस्टेस      hostess  ...             0.142857                 0.0\n",
              "\n",
              "[1578 rows x 7 columns]"
            ]
          },
          "metadata": {},
          "execution_count": 160
        }
      ]
    },
    {
      "cell_type": "code",
      "metadata": {
        "colab": {
          "base_uri": "https://localhost:8080/",
          "height": 424
        },
        "id": "owAyUVSW7pqB",
        "outputId": "b70a5d58-3e80-46e9-ca1a-eb040001fc06"
      },
      "source": [
        "dakshina_test_df[dakshina_test_df['model_edit_distance'] == dakshina_test_df['indic_edit_distance']]"
      ],
      "execution_count": 161,
      "outputs": [
        {
          "output_type": "execute_result",
          "data": {
            "text/html": [
              "<div>\n",
              "<style scoped>\n",
              "    .dataframe tbody tr th:only-of-type {\n",
              "        vertical-align: middle;\n",
              "    }\n",
              "\n",
              "    .dataframe tbody tr th {\n",
              "        vertical-align: top;\n",
              "    }\n",
              "\n",
              "    .dataframe thead th {\n",
              "        text-align: right;\n",
              "    }\n",
              "</style>\n",
              "<table border=\"1\" class=\"dataframe\">\n",
              "  <thead>\n",
              "    <tr style=\"text-align: right;\">\n",
              "      <th></th>\n",
              "      <th>hindi</th>\n",
              "      <th>english</th>\n",
              "      <th>freq</th>\n",
              "      <th>model_predicted</th>\n",
              "      <th>indictrans_predicted</th>\n",
              "      <th>model_edit_distance</th>\n",
              "      <th>indic_edit_distance</th>\n",
              "    </tr>\n",
              "  </thead>\n",
              "  <tbody>\n",
              "    <tr>\n",
              "      <th>0</th>\n",
              "      <td>अंक</td>\n",
              "      <td>ank</td>\n",
              "      <td>5</td>\n",
              "      <td>ank</td>\n",
              "      <td>ank</td>\n",
              "      <td>0.000000</td>\n",
              "      <td>0.000000</td>\n",
              "    </tr>\n",
              "    <tr>\n",
              "      <th>1</th>\n",
              "      <td>अंक</td>\n",
              "      <td>anka</td>\n",
              "      <td>1</td>\n",
              "      <td>ank</td>\n",
              "      <td>ank</td>\n",
              "      <td>0.250000</td>\n",
              "      <td>0.250000</td>\n",
              "    </tr>\n",
              "    <tr>\n",
              "      <th>2</th>\n",
              "      <td>अंकित</td>\n",
              "      <td>ankit</td>\n",
              "      <td>3</td>\n",
              "      <td>ankit</td>\n",
              "      <td>ankit</td>\n",
              "      <td>0.000000</td>\n",
              "      <td>0.000000</td>\n",
              "    </tr>\n",
              "    <tr>\n",
              "      <th>3</th>\n",
              "      <td>अंकों</td>\n",
              "      <td>anakon</td>\n",
              "      <td>1</td>\n",
              "      <td>ankon</td>\n",
              "      <td>ankon</td>\n",
              "      <td>0.166667</td>\n",
              "      <td>0.166667</td>\n",
              "    </tr>\n",
              "    <tr>\n",
              "      <th>4</th>\n",
              "      <td>अंकों</td>\n",
              "      <td>ankhon</td>\n",
              "      <td>1</td>\n",
              "      <td>ankon</td>\n",
              "      <td>ankon</td>\n",
              "      <td>0.166667</td>\n",
              "      <td>0.166667</td>\n",
              "    </tr>\n",
              "    <tr>\n",
              "      <th>...</th>\n",
              "      <td>...</td>\n",
              "      <td>...</td>\n",
              "      <td>...</td>\n",
              "      <td>...</td>\n",
              "      <td>...</td>\n",
              "      <td>...</td>\n",
              "      <td>...</td>\n",
              "    </tr>\n",
              "    <tr>\n",
              "      <th>4494</th>\n",
              "      <td>हॉफ</td>\n",
              "      <td>half</td>\n",
              "      <td>2</td>\n",
              "      <td>hoff</td>\n",
              "      <td>hof</td>\n",
              "      <td>0.500000</td>\n",
              "      <td>0.500000</td>\n",
              "    </tr>\n",
              "    <tr>\n",
              "      <th>4495</th>\n",
              "      <td>हॉफ</td>\n",
              "      <td>hoaf</td>\n",
              "      <td>1</td>\n",
              "      <td>hoff</td>\n",
              "      <td>hof</td>\n",
              "      <td>0.250000</td>\n",
              "      <td>0.250000</td>\n",
              "    </tr>\n",
              "    <tr>\n",
              "      <th>4497</th>\n",
              "      <td>होल्डिंग</td>\n",
              "      <td>holding</td>\n",
              "      <td>3</td>\n",
              "      <td>holding</td>\n",
              "      <td>holding</td>\n",
              "      <td>0.000000</td>\n",
              "      <td>0.000000</td>\n",
              "    </tr>\n",
              "    <tr>\n",
              "      <th>4498</th>\n",
              "      <td>होशंगाबाद</td>\n",
              "      <td>hoshangabaad</td>\n",
              "      <td>1</td>\n",
              "      <td>hoshangabad</td>\n",
              "      <td>hoshangabad</td>\n",
              "      <td>0.083333</td>\n",
              "      <td>0.083333</td>\n",
              "    </tr>\n",
              "    <tr>\n",
              "      <th>4499</th>\n",
              "      <td>होशंगाबाद</td>\n",
              "      <td>hoshangabad</td>\n",
              "      <td>2</td>\n",
              "      <td>hoshangabad</td>\n",
              "      <td>hoshangabad</td>\n",
              "      <td>0.000000</td>\n",
              "      <td>0.000000</td>\n",
              "    </tr>\n",
              "  </tbody>\n",
              "</table>\n",
              "<p>1987 rows × 7 columns</p>\n",
              "</div>"
            ],
            "text/plain": [
              "          hindi       english  ...  model_edit_distance indic_edit_distance\n",
              "0           अंक           ank  ...             0.000000            0.000000\n",
              "1           अंक          anka  ...             0.250000            0.250000\n",
              "2         अंकित         ankit  ...             0.000000            0.000000\n",
              "3         अंकों        anakon  ...             0.166667            0.166667\n",
              "4         अंकों        ankhon  ...             0.166667            0.166667\n",
              "...         ...           ...  ...                  ...                 ...\n",
              "4494        हॉफ          half  ...             0.500000            0.500000\n",
              "4495        हॉफ          hoaf  ...             0.250000            0.250000\n",
              "4497   होल्डिंग       holding  ...             0.000000            0.000000\n",
              "4498  होशंगाबाद  hoshangabaad  ...             0.083333            0.083333\n",
              "4499  होशंगाबाद   hoshangabad  ...             0.000000            0.000000\n",
              "\n",
              "[1987 rows x 7 columns]"
            ]
          },
          "metadata": {},
          "execution_count": 161
        }
      ]
    },
    {
      "cell_type": "code",
      "metadata": {
        "id": "JJNbKHT_ysSx",
        "colab": {
          "base_uri": "https://localhost:8080/"
        },
        "outputId": "139eaa74-ac8b-468e-f7de-cfbfdee712eb"
      },
      "source": [
        "t1 = tf.sparse.from_dense(tf.expand_dims(tf.strings.bytes_split('xyz'), axis=0))\n",
        "t2 = tf.sparse.from_dense(tf.expand_dims(tf.strings.bytes_split('xy'), axis=0))\n",
        "\n",
        "distance = tf.edit_distance(t1, t2, normalize=True)\n",
        "distance[0].numpy()"
      ],
      "execution_count": null,
      "outputs": [
        {
          "output_type": "execute_result",
          "data": {
            "text/plain": [
              "0.5"
            ]
          },
          "metadata": {},
          "execution_count": 142
        }
      ]
    },
    {
      "cell_type": "code",
      "metadata": {
        "id": "DJFd5Uv5zLjT",
        "colab": {
          "base_uri": "https://localhost:8080/"
        },
        "outputId": "14f28773-0774-4a2b-80aa-c605a0495833"
      },
      "source": [
        "t1 = tf.sparse.from_dense(tf.expand_dims(tf.strings.bytes_split('xyz'), axis=0))\n",
        "t2 = tf.sparse.from_dense(tf.expand_dims(tf.strings.bytes_split(''), axis=0))\n",
        "\n",
        "distance = tf.edit_distance(t1, t2, normalize=True)\n",
        "distance[0].numpy()"
      ],
      "execution_count": null,
      "outputs": [
        {
          "output_type": "execute_result",
          "data": {
            "text/plain": [
              "inf"
            ]
          },
          "metadata": {},
          "execution_count": 143
        }
      ]
    },
    {
      "cell_type": "code",
      "metadata": {
        "colab": {
          "base_uri": "https://localhost:8080/"
        },
        "id": "EVXWbLklrt0h",
        "outputId": "15aa367a-a358-4060-a221-1a3664c031f2"
      },
      "source": [
        "t1 = tf.sparse.from_dense(tf.expand_dims(tf.strings.bytes_split('yz'), axis=0))\n",
        "t2 = tf.sparse.from_dense(tf.expand_dims(tf.strings.bytes_split('xyz'), axis=0))\n",
        "\n",
        "distance = tf.edit_distance(t1, t2, normalize=True)\n",
        "distance[0].numpy()"
      ],
      "execution_count": null,
      "outputs": [
        {
          "output_type": "execute_result",
          "data": {
            "text/plain": [
              "0.33333334"
            ]
          },
          "metadata": {},
          "execution_count": 144
        }
      ]
    },
    {
      "cell_type": "code",
      "metadata": {
        "colab": {
          "base_uri": "https://localhost:8080/"
        },
        "id": "Khvgpe-LteXf",
        "outputId": "84769578-de2d-41cf-8814-08a86f01a079"
      },
      "source": [
        "t1 = tf.sparse.from_dense(tf.expand_dims(tf.strings.bytes_split('xyz'), axis=0))\n",
        "t2 = tf.sparse.from_dense(tf.expand_dims(tf.strings.bytes_split('yz'), axis=0))\n",
        "\n",
        "distance = tf.edit_distance(t1, t2, normalize=True)\n",
        "distance[0].numpy()"
      ],
      "execution_count": null,
      "outputs": [
        {
          "output_type": "execute_result",
          "data": {
            "text/plain": [
              "0.5"
            ]
          },
          "metadata": {},
          "execution_count": 145
        }
      ]
    },
    {
      "cell_type": "code",
      "metadata": {
        "id": "NgM6m5SCc1ys"
      },
      "source": [
        "dakshina_test_df = pd.read_csv('dakshina_acc_results.csv')"
      ],
      "execution_count": 162,
      "outputs": []
    },
    {
      "cell_type": "code",
      "metadata": {
        "colab": {
          "base_uri": "https://localhost:8080/",
          "height": 206
        },
        "id": "yuiTPWpOtey-",
        "outputId": "8a16c41c-de14-404b-8231-0caffdb4b772"
      },
      "source": [
        "dakshina_test_df.head()"
      ],
      "execution_count": 163,
      "outputs": [
        {
          "output_type": "execute_result",
          "data": {
            "text/html": [
              "<div>\n",
              "<style scoped>\n",
              "    .dataframe tbody tr th:only-of-type {\n",
              "        vertical-align: middle;\n",
              "    }\n",
              "\n",
              "    .dataframe tbody tr th {\n",
              "        vertical-align: top;\n",
              "    }\n",
              "\n",
              "    .dataframe thead th {\n",
              "        text-align: right;\n",
              "    }\n",
              "</style>\n",
              "<table border=\"1\" class=\"dataframe\">\n",
              "  <thead>\n",
              "    <tr style=\"text-align: right;\">\n",
              "      <th></th>\n",
              "      <th>hindi</th>\n",
              "      <th>english</th>\n",
              "      <th>freq</th>\n",
              "      <th>model_predicted</th>\n",
              "      <th>indictrans_predicted</th>\n",
              "      <th>model_edit_distance</th>\n",
              "      <th>indic_edit_distance</th>\n",
              "    </tr>\n",
              "  </thead>\n",
              "  <tbody>\n",
              "    <tr>\n",
              "      <th>0</th>\n",
              "      <td>अंक</td>\n",
              "      <td>ank</td>\n",
              "      <td>5</td>\n",
              "      <td>ank</td>\n",
              "      <td>ank</td>\n",
              "      <td>0.000000</td>\n",
              "      <td>0.000000</td>\n",
              "    </tr>\n",
              "    <tr>\n",
              "      <th>1</th>\n",
              "      <td>अंक</td>\n",
              "      <td>anka</td>\n",
              "      <td>1</td>\n",
              "      <td>ank</td>\n",
              "      <td>ank</td>\n",
              "      <td>0.250000</td>\n",
              "      <td>0.250000</td>\n",
              "    </tr>\n",
              "    <tr>\n",
              "      <th>2</th>\n",
              "      <td>अंकित</td>\n",
              "      <td>ankit</td>\n",
              "      <td>3</td>\n",
              "      <td>ankit</td>\n",
              "      <td>ankit</td>\n",
              "      <td>0.000000</td>\n",
              "      <td>0.000000</td>\n",
              "    </tr>\n",
              "    <tr>\n",
              "      <th>3</th>\n",
              "      <td>अंकों</td>\n",
              "      <td>anakon</td>\n",
              "      <td>1</td>\n",
              "      <td>ankon</td>\n",
              "      <td>ankon</td>\n",
              "      <td>0.166667</td>\n",
              "      <td>0.166667</td>\n",
              "    </tr>\n",
              "    <tr>\n",
              "      <th>4</th>\n",
              "      <td>अंकों</td>\n",
              "      <td>ankhon</td>\n",
              "      <td>1</td>\n",
              "      <td>ankon</td>\n",
              "      <td>ankon</td>\n",
              "      <td>0.166667</td>\n",
              "      <td>0.166667</td>\n",
              "    </tr>\n",
              "  </tbody>\n",
              "</table>\n",
              "</div>"
            ],
            "text/plain": [
              "   hindi english  ...  model_edit_distance indic_edit_distance\n",
              "0    अंक     ank  ...             0.000000            0.000000\n",
              "1    अंक    anka  ...             0.250000            0.250000\n",
              "2  अंकित   ankit  ...             0.000000            0.000000\n",
              "3  अंकों  anakon  ...             0.166667            0.166667\n",
              "4  अंकों  ankhon  ...             0.166667            0.166667\n",
              "\n",
              "[5 rows x 7 columns]"
            ]
          },
          "metadata": {},
          "execution_count": 163
        }
      ]
    },
    {
      "cell_type": "code",
      "metadata": {
        "id": "HU_BKKfLtjYn"
      },
      "source": [
        "model_edit_dedup = dakshina_test_df.groupby(['hindi'])['model_edit_distance'].min().reset_index()\n",
        "indic_edit_dedup = dakshina_test_df.groupby(['hindi'])['indic_edit_distance'].min().reset_index()"
      ],
      "execution_count": 164,
      "outputs": []
    },
    {
      "cell_type": "code",
      "metadata": {
        "colab": {
          "base_uri": "https://localhost:8080/"
        },
        "id": "YqeRO3NYwKXT",
        "outputId": "cc9e650f-61a6-4673-f035-35c38196b5b7"
      },
      "source": [
        "dakshina_test_df.groupby(['hindi'])['model_edit_distance'].min()"
      ],
      "execution_count": 165,
      "outputs": [
        {
          "output_type": "execute_result",
          "data": {
            "text/plain": [
              "hindi\n",
              "अंक          0.000000\n",
              "अंकित        0.000000\n",
              "अंकों        0.000000\n",
              "अंकोर        0.000000\n",
              "अंगारक       0.000000\n",
              "               ...   \n",
              "हॉफ          0.250000\n",
              "होऊंगा       0.166667\n",
              "होल्डिंग     0.000000\n",
              "होशंगाबाद    0.000000\n",
              "होस्टेस      0.000000\n",
              "Name: model_edit_distance, Length: 2500, dtype: float64"
            ]
          },
          "metadata": {},
          "execution_count": 165
        }
      ]
    },
    {
      "cell_type": "code",
      "metadata": {
        "colab": {
          "base_uri": "https://localhost:8080/"
        },
        "id": "aRhIQFbLtuje",
        "outputId": "2b4c1738-e930-44e6-d644-df57e87a1691"
      },
      "source": [
        "model_acc_percent = len(model_edit_dedup[model_edit_dedup['model_edit_distance'] == 0])/len(model_edit_dedup)\n",
        "indic_acc_percent = len(indic_edit_dedup[indic_edit_dedup['indic_edit_distance'] == 0])/len(indic_edit_dedup)\n",
        "print(f\"Out of {len(model_edit_dedup)}, model predicted {model_acc_percent * 100}% correctly\")\n",
        "print(f\"Out of {len(indic_edit_dedup)}, indic predicted {indic_acc_percent * 100}% correctly\")"
      ],
      "execution_count": 166,
      "outputs": [
        {
          "output_type": "stream",
          "name": "stdout",
          "text": [
            "Out of 2500, model predicted 74.56% correctly\n",
            "Out of 2500, indic predicted 63.12% correctly\n"
          ]
        }
      ]
    },
    {
      "cell_type": "code",
      "metadata": {
        "id": "VbxUyoGhBslo"
      },
      "source": [
        ""
      ],
      "execution_count": null,
      "outputs": []
    }
  ]
}