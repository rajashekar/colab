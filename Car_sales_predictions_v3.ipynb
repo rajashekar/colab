{
  "nbformat": 4,
  "nbformat_minor": 0,
  "metadata": {
    "kernelspec": {
      "display_name": "Python 3",
      "language": "python",
      "name": "python3"
    },
    "language_info": {
      "codemirror_mode": {
        "name": "ipython",
        "version": 3
      },
      "file_extension": ".py",
      "mimetype": "text/x-python",
      "name": "python",
      "nbconvert_exporter": "python",
      "pygments_lexer": "ipython3",
      "version": "3.8.5"
    },
    "colab": {
      "name": "Car_sales_predictions_v3.ipynb",
      "provenance": [],
      "collapsed_sections": [],
      "include_colab_link": true
    }
  },
  "cells": [
    {
      "cell_type": "markdown",
      "metadata": {
        "id": "view-in-github",
        "colab_type": "text"
      },
      "source": [
        "<a href=\"https://colab.research.google.com/github/rajashekar/colab/blob/main/Car_sales_predictions_v3.ipynb\" target=\"_parent\"><img src=\"https://colab.research.google.com/assets/colab-badge.svg\" alt=\"Open In Colab\"/></a>"
      ]
    },
    {
      "cell_type": "markdown",
      "metadata": {
        "id": "lNnTTMT9dnM4"
      },
      "source": [
        "# Today you are a Data Scientist at Tesla! \n",
        "## You have assigned a new project to look at car sales from Quarters 1-2 in California for 2019 to make predictions as to which cars will be sold more than the others in Q3 and Q4, to ensure enough inventory to meet demands!"
      ]
    },
    {
      "cell_type": "markdown",
      "metadata": {
        "id": "AQqh5DMaq9QW"
      },
      "source": [
        "### If running this notebook in Google Colab, run the following cells first. Make sure you've placed the Q12 and Q34 sales data in the same Google Drive folder as this notebook."
      ]
    },
    {
      "cell_type": "code",
      "metadata": {
        "id": "8n75mujnrqU4"
      },
      "source": [
        "!pip install -U -q PyDrive\n",
        "from pydrive.auth import GoogleAuth\n",
        "from pydrive.drive import GoogleDrive\n",
        "from google.colab import auth\n",
        "from oauth2client.client import GoogleCredentials"
      ],
      "execution_count": 1,
      "outputs": []
    },
    {
      "cell_type": "code",
      "metadata": {
        "id": "HT1yuyN5zJ19"
      },
      "source": [
        "auth.authenticate_user()\n",
        "gauth = GoogleAuth()\n",
        "gauth.credentials = GoogleCredentials.get_application_default()\n",
        "drive = GoogleDrive(gauth)"
      ],
      "execution_count": 2,
      "outputs": []
    },
    {
      "cell_type": "markdown",
      "metadata": {
        "id": "q6AR4c7ivMtD"
      },
      "source": [
        "Replace the ID with ID of file you want to access. To get this ID: \n",
        "\n",
        "1.   Right-click on the name of the appropriate file in your Google Drive\n",
        "2.   Click \"Get link\"\n",
        "3.   Copy the characters between `d/` and the following slash\n",
        "4.   Paste them into the dictionary argument of the call to `drive.CreateFile()` as the value associated with the 'id' key. Make sure that this value is a string.\n",
        "\n"
      ]
    },
    {
      "cell_type": "code",
      "metadata": {
        "id": "mb5xkL1QzPYg"
      },
      "source": [
        "# Replace the ID with ID of file you want to access\n",
        "Q12 = drive.CreateFile({'id':'1rq391xjFLCtRlBhD7Q29yC_crETqFEcS'}) \n",
        "Q12.GetContentFile('sales_Q12_2019.csv') \n",
        "Q34 = drive.CreateFile({'id':'1X0nZPwG7AW2M4TYXFFr26eg_GhZvaVWF'}) \n",
        "Q34.GetContentFile('sales_Q34_2019.csv') "
      ],
      "execution_count": 3,
      "outputs": []
    },
    {
      "cell_type": "markdown",
      "metadata": {
        "id": "OI6NP0JBdnM5"
      },
      "source": [
        "### Import the necessary modules"
      ]
    },
    {
      "cell_type": "code",
      "metadata": {
        "id": "WdNx3CHEdnM5"
      },
      "source": [
        "import os\n",
        "import tensorflow as tf\n",
        "from tensorboard.plugins import projector\n",
        "import numpy as np\n",
        "import pandas as pd\n",
        "import matplotlib.pyplot as plt"
      ],
      "execution_count": 4,
      "outputs": []
    },
    {
      "cell_type": "markdown",
      "metadata": {
        "id": "dM4fGT-ldnM8"
      },
      "source": [
        "### Read in the CSV file containing the California sales data for Quarters 1 and 2\n",
        "\n",
        "Then examine the data's shape and first few rows"
      ]
    },
    {
      "cell_type": "code",
      "metadata": {
        "id": "jj2l01M8dnM9",
        "colab": {
          "base_uri": "https://localhost:8080/",
          "height": 326
        },
        "outputId": "509944bb-14b8-4d9f-e713-82acfc91a52e"
      },
      "source": [
        "df_sales = pd.read_csv(\"sales_Q12_2019.csv\")\n",
        "print(df_sales.shape)\n",
        "df_sales.head()"
      ],
      "execution_count": 5,
      "outputs": [
        {
          "output_type": "stream",
          "text": [
            "(5837, 76)\n"
          ],
          "name": "stdout"
        },
        {
          "output_type": "execute_result",
          "data": {
            "text/html": [
              "<div>\n",
              "<style scoped>\n",
              "    .dataframe tbody tr th:only-of-type {\n",
              "        vertical-align: middle;\n",
              "    }\n",
              "\n",
              "    .dataframe tbody tr th {\n",
              "        vertical-align: top;\n",
              "    }\n",
              "\n",
              "    .dataframe thead th {\n",
              "        text-align: right;\n",
              "    }\n",
              "</style>\n",
              "<table border=\"1\" class=\"dataframe\">\n",
              "  <thead>\n",
              "    <tr style=\"text-align: right;\">\n",
              "      <th></th>\n",
              "      <th>main_S60_1</th>\n",
              "      <th>main_S60_2</th>\n",
              "      <th>main_type_SP100D</th>\n",
              "      <th>main_type_S60D_1</th>\n",
              "      <th>main_type_S60D_2</th>\n",
              "      <th>main_type_S70</th>\n",
              "      <th>main_type_S70D</th>\n",
              "      <th>main_type_S75</th>\n",
              "      <th>main_type_S75D</th>\n",
              "      <th>main_type_S80</th>\n",
              "      <th>main_type_S80D</th>\n",
              "      <th>main_type_S85</th>\n",
              "      <th>main_type_S85P</th>\n",
              "      <th>main_type_P85D</th>\n",
              "      <th>main_type_S90</th>\n",
              "      <th>main_type_S90D</th>\n",
              "      <th>main_type_S100D</th>\n",
              "      <th>engine_A</th>\n",
              "      <th>engine_B</th>\n",
              "      <th>engine_C</th>\n",
              "      <th>engine_D</th>\n",
              "      <th>engine_E</th>\n",
              "      <th>engine_F</th>\n",
              "      <th>engine_G</th>\n",
              "      <th>engine_H</th>\n",
              "      <th>engine_I</th>\n",
              "      <th>engine_J</th>\n",
              "      <th>engine_K</th>\n",
              "      <th>engine_L</th>\n",
              "      <th>engine_M</th>\n",
              "      <th>engine_N</th>\n",
              "      <th>engine_O</th>\n",
              "      <th>engine_P</th>\n",
              "      <th>engine_Q</th>\n",
              "      <th>engine_R</th>\n",
              "      <th>engine_S</th>\n",
              "      <th>engine_T</th>\n",
              "      <th>engine_U</th>\n",
              "      <th>engine_V</th>\n",
              "      <th>engine_W</th>\n",
              "      <th>engine_X</th>\n",
              "      <th>engine_Y</th>\n",
              "      <th>engine_Z</th>\n",
              "      <th>sales_1</th>\n",
              "      <th>sales_2</th>\n",
              "      <th>sales_3</th>\n",
              "      <th>sales_4</th>\n",
              "      <th>sales_5</th>\n",
              "      <th>sales_6</th>\n",
              "      <th>sales_7</th>\n",
              "      <th>sales_8</th>\n",
              "      <th>sales_9</th>\n",
              "      <th>sales_10</th>\n",
              "      <th>sales_11</th>\n",
              "      <th>sales_12</th>\n",
              "      <th>sales_13</th>\n",
              "      <th>sales_14</th>\n",
              "      <th>sales_15</th>\n",
              "      <th>sales_16</th>\n",
              "      <th>sales_17</th>\n",
              "      <th>sales_18</th>\n",
              "      <th>sales_19</th>\n",
              "      <th>sales_20</th>\n",
              "      <th>sales_21</th>\n",
              "      <th>sales_22</th>\n",
              "      <th>sales_23</th>\n",
              "      <th>sales_24</th>\n",
              "      <th>sales_25</th>\n",
              "      <th>sales_26</th>\n",
              "      <th>sales_27</th>\n",
              "      <th>sales_28</th>\n",
              "      <th>sales_29</th>\n",
              "      <th>sales_30</th>\n",
              "      <th>MSRP</th>\n",
              "      <th>dealer_state</th>\n",
              "      <th>date</th>\n",
              "    </tr>\n",
              "  </thead>\n",
              "  <tbody>\n",
              "    <tr>\n",
              "      <th>0</th>\n",
              "      <td>0</td>\n",
              "      <td>0</td>\n",
              "      <td>0</td>\n",
              "      <td>0</td>\n",
              "      <td>0</td>\n",
              "      <td>1</td>\n",
              "      <td>0</td>\n",
              "      <td>0</td>\n",
              "      <td>0</td>\n",
              "      <td>0</td>\n",
              "      <td>0</td>\n",
              "      <td>0</td>\n",
              "      <td>0</td>\n",
              "      <td>0</td>\n",
              "      <td>0</td>\n",
              "      <td>0</td>\n",
              "      <td>0</td>\n",
              "      <td>0</td>\n",
              "      <td>0</td>\n",
              "      <td>0</td>\n",
              "      <td>0</td>\n",
              "      <td>0</td>\n",
              "      <td>0</td>\n",
              "      <td>0</td>\n",
              "      <td>0</td>\n",
              "      <td>0</td>\n",
              "      <td>0</td>\n",
              "      <td>0</td>\n",
              "      <td>0</td>\n",
              "      <td>0</td>\n",
              "      <td>0</td>\n",
              "      <td>0</td>\n",
              "      <td>0</td>\n",
              "      <td>0</td>\n",
              "      <td>0</td>\n",
              "      <td>0</td>\n",
              "      <td>0</td>\n",
              "      <td>0</td>\n",
              "      <td>0</td>\n",
              "      <td>0</td>\n",
              "      <td>0</td>\n",
              "      <td>0</td>\n",
              "      <td>0</td>\n",
              "      <td>0</td>\n",
              "      <td>0</td>\n",
              "      <td>0</td>\n",
              "      <td>0</td>\n",
              "      <td>0</td>\n",
              "      <td>0</td>\n",
              "      <td>0</td>\n",
              "      <td>1</td>\n",
              "      <td>0</td>\n",
              "      <td>0</td>\n",
              "      <td>0</td>\n",
              "      <td>0</td>\n",
              "      <td>0</td>\n",
              "      <td>0</td>\n",
              "      <td>0</td>\n",
              "      <td>0</td>\n",
              "      <td>0</td>\n",
              "      <td>0</td>\n",
              "      <td>0</td>\n",
              "      <td>0</td>\n",
              "      <td>0</td>\n",
              "      <td>0</td>\n",
              "      <td>0</td>\n",
              "      <td>0</td>\n",
              "      <td>0</td>\n",
              "      <td>0</td>\n",
              "      <td>0</td>\n",
              "      <td>0</td>\n",
              "      <td>0</td>\n",
              "      <td>0</td>\n",
              "      <td>44610</td>\n",
              "      <td>California</td>\n",
              "      <td>2019-04-28</td>\n",
              "    </tr>\n",
              "    <tr>\n",
              "      <th>1</th>\n",
              "      <td>0</td>\n",
              "      <td>0</td>\n",
              "      <td>0</td>\n",
              "      <td>0</td>\n",
              "      <td>0</td>\n",
              "      <td>0</td>\n",
              "      <td>0</td>\n",
              "      <td>0</td>\n",
              "      <td>0</td>\n",
              "      <td>0</td>\n",
              "      <td>0</td>\n",
              "      <td>0</td>\n",
              "      <td>0</td>\n",
              "      <td>0</td>\n",
              "      <td>0</td>\n",
              "      <td>0</td>\n",
              "      <td>1</td>\n",
              "      <td>1</td>\n",
              "      <td>0</td>\n",
              "      <td>0</td>\n",
              "      <td>0</td>\n",
              "      <td>0</td>\n",
              "      <td>0</td>\n",
              "      <td>0</td>\n",
              "      <td>0</td>\n",
              "      <td>0</td>\n",
              "      <td>0</td>\n",
              "      <td>0</td>\n",
              "      <td>0</td>\n",
              "      <td>0</td>\n",
              "      <td>0</td>\n",
              "      <td>0</td>\n",
              "      <td>0</td>\n",
              "      <td>0</td>\n",
              "      <td>0</td>\n",
              "      <td>0</td>\n",
              "      <td>0</td>\n",
              "      <td>0</td>\n",
              "      <td>0</td>\n",
              "      <td>0</td>\n",
              "      <td>0</td>\n",
              "      <td>0</td>\n",
              "      <td>0</td>\n",
              "      <td>0</td>\n",
              "      <td>0</td>\n",
              "      <td>0</td>\n",
              "      <td>0</td>\n",
              "      <td>0</td>\n",
              "      <td>0</td>\n",
              "      <td>0</td>\n",
              "      <td>1</td>\n",
              "      <td>0</td>\n",
              "      <td>0</td>\n",
              "      <td>0</td>\n",
              "      <td>0</td>\n",
              "      <td>0</td>\n",
              "      <td>0</td>\n",
              "      <td>0</td>\n",
              "      <td>0</td>\n",
              "      <td>0</td>\n",
              "      <td>0</td>\n",
              "      <td>0</td>\n",
              "      <td>0</td>\n",
              "      <td>0</td>\n",
              "      <td>0</td>\n",
              "      <td>0</td>\n",
              "      <td>0</td>\n",
              "      <td>0</td>\n",
              "      <td>0</td>\n",
              "      <td>0</td>\n",
              "      <td>0</td>\n",
              "      <td>0</td>\n",
              "      <td>0</td>\n",
              "      <td>41505</td>\n",
              "      <td>California</td>\n",
              "      <td>2019-03-14</td>\n",
              "    </tr>\n",
              "    <tr>\n",
              "      <th>2</th>\n",
              "      <td>0</td>\n",
              "      <td>0</td>\n",
              "      <td>0</td>\n",
              "      <td>0</td>\n",
              "      <td>0</td>\n",
              "      <td>0</td>\n",
              "      <td>0</td>\n",
              "      <td>0</td>\n",
              "      <td>0</td>\n",
              "      <td>0</td>\n",
              "      <td>0</td>\n",
              "      <td>0</td>\n",
              "      <td>1</td>\n",
              "      <td>0</td>\n",
              "      <td>0</td>\n",
              "      <td>0</td>\n",
              "      <td>0</td>\n",
              "      <td>0</td>\n",
              "      <td>0</td>\n",
              "      <td>0</td>\n",
              "      <td>0</td>\n",
              "      <td>0</td>\n",
              "      <td>0</td>\n",
              "      <td>0</td>\n",
              "      <td>0</td>\n",
              "      <td>0</td>\n",
              "      <td>0</td>\n",
              "      <td>0</td>\n",
              "      <td>0</td>\n",
              "      <td>0</td>\n",
              "      <td>0</td>\n",
              "      <td>0</td>\n",
              "      <td>0</td>\n",
              "      <td>1</td>\n",
              "      <td>0</td>\n",
              "      <td>0</td>\n",
              "      <td>0</td>\n",
              "      <td>0</td>\n",
              "      <td>0</td>\n",
              "      <td>0</td>\n",
              "      <td>0</td>\n",
              "      <td>0</td>\n",
              "      <td>0</td>\n",
              "      <td>0</td>\n",
              "      <td>0</td>\n",
              "      <td>0</td>\n",
              "      <td>0</td>\n",
              "      <td>0</td>\n",
              "      <td>0</td>\n",
              "      <td>1</td>\n",
              "      <td>0</td>\n",
              "      <td>0</td>\n",
              "      <td>0</td>\n",
              "      <td>0</td>\n",
              "      <td>0</td>\n",
              "      <td>0</td>\n",
              "      <td>0</td>\n",
              "      <td>0</td>\n",
              "      <td>0</td>\n",
              "      <td>0</td>\n",
              "      <td>0</td>\n",
              "      <td>0</td>\n",
              "      <td>0</td>\n",
              "      <td>0</td>\n",
              "      <td>0</td>\n",
              "      <td>0</td>\n",
              "      <td>0</td>\n",
              "      <td>0</td>\n",
              "      <td>0</td>\n",
              "      <td>0</td>\n",
              "      <td>0</td>\n",
              "      <td>0</td>\n",
              "      <td>0</td>\n",
              "      <td>58890</td>\n",
              "      <td>California</td>\n",
              "      <td>2019-06-12</td>\n",
              "    </tr>\n",
              "    <tr>\n",
              "      <th>3</th>\n",
              "      <td>0</td>\n",
              "      <td>0</td>\n",
              "      <td>0</td>\n",
              "      <td>0</td>\n",
              "      <td>0</td>\n",
              "      <td>0</td>\n",
              "      <td>0</td>\n",
              "      <td>0</td>\n",
              "      <td>0</td>\n",
              "      <td>0</td>\n",
              "      <td>0</td>\n",
              "      <td>0</td>\n",
              "      <td>1</td>\n",
              "      <td>0</td>\n",
              "      <td>0</td>\n",
              "      <td>0</td>\n",
              "      <td>0</td>\n",
              "      <td>0</td>\n",
              "      <td>0</td>\n",
              "      <td>0</td>\n",
              "      <td>0</td>\n",
              "      <td>0</td>\n",
              "      <td>0</td>\n",
              "      <td>0</td>\n",
              "      <td>0</td>\n",
              "      <td>0</td>\n",
              "      <td>0</td>\n",
              "      <td>0</td>\n",
              "      <td>0</td>\n",
              "      <td>0</td>\n",
              "      <td>0</td>\n",
              "      <td>0</td>\n",
              "      <td>0</td>\n",
              "      <td>0</td>\n",
              "      <td>0</td>\n",
              "      <td>0</td>\n",
              "      <td>0</td>\n",
              "      <td>0</td>\n",
              "      <td>0</td>\n",
              "      <td>0</td>\n",
              "      <td>0</td>\n",
              "      <td>0</td>\n",
              "      <td>0</td>\n",
              "      <td>0</td>\n",
              "      <td>0</td>\n",
              "      <td>0</td>\n",
              "      <td>0</td>\n",
              "      <td>0</td>\n",
              "      <td>0</td>\n",
              "      <td>0</td>\n",
              "      <td>1</td>\n",
              "      <td>0</td>\n",
              "      <td>0</td>\n",
              "      <td>0</td>\n",
              "      <td>0</td>\n",
              "      <td>0</td>\n",
              "      <td>0</td>\n",
              "      <td>0</td>\n",
              "      <td>0</td>\n",
              "      <td>0</td>\n",
              "      <td>0</td>\n",
              "      <td>0</td>\n",
              "      <td>0</td>\n",
              "      <td>0</td>\n",
              "      <td>0</td>\n",
              "      <td>0</td>\n",
              "      <td>0</td>\n",
              "      <td>0</td>\n",
              "      <td>0</td>\n",
              "      <td>0</td>\n",
              "      <td>0</td>\n",
              "      <td>0</td>\n",
              "      <td>0</td>\n",
              "      <td>51055</td>\n",
              "      <td>California</td>\n",
              "      <td>2019-03-04</td>\n",
              "    </tr>\n",
              "    <tr>\n",
              "      <th>4</th>\n",
              "      <td>0</td>\n",
              "      <td>0</td>\n",
              "      <td>0</td>\n",
              "      <td>0</td>\n",
              "      <td>0</td>\n",
              "      <td>0</td>\n",
              "      <td>0</td>\n",
              "      <td>0</td>\n",
              "      <td>0</td>\n",
              "      <td>0</td>\n",
              "      <td>0</td>\n",
              "      <td>0</td>\n",
              "      <td>0</td>\n",
              "      <td>1</td>\n",
              "      <td>0</td>\n",
              "      <td>0</td>\n",
              "      <td>0</td>\n",
              "      <td>0</td>\n",
              "      <td>0</td>\n",
              "      <td>0</td>\n",
              "      <td>0</td>\n",
              "      <td>0</td>\n",
              "      <td>0</td>\n",
              "      <td>0</td>\n",
              "      <td>0</td>\n",
              "      <td>0</td>\n",
              "      <td>0</td>\n",
              "      <td>0</td>\n",
              "      <td>0</td>\n",
              "      <td>0</td>\n",
              "      <td>0</td>\n",
              "      <td>0</td>\n",
              "      <td>0</td>\n",
              "      <td>1</td>\n",
              "      <td>0</td>\n",
              "      <td>0</td>\n",
              "      <td>0</td>\n",
              "      <td>0</td>\n",
              "      <td>0</td>\n",
              "      <td>0</td>\n",
              "      <td>0</td>\n",
              "      <td>0</td>\n",
              "      <td>0</td>\n",
              "      <td>0</td>\n",
              "      <td>0</td>\n",
              "      <td>0</td>\n",
              "      <td>0</td>\n",
              "      <td>0</td>\n",
              "      <td>0</td>\n",
              "      <td>0</td>\n",
              "      <td>0</td>\n",
              "      <td>0</td>\n",
              "      <td>0</td>\n",
              "      <td>1</td>\n",
              "      <td>0</td>\n",
              "      <td>0</td>\n",
              "      <td>0</td>\n",
              "      <td>0</td>\n",
              "      <td>0</td>\n",
              "      <td>0</td>\n",
              "      <td>0</td>\n",
              "      <td>0</td>\n",
              "      <td>0</td>\n",
              "      <td>0</td>\n",
              "      <td>0</td>\n",
              "      <td>0</td>\n",
              "      <td>0</td>\n",
              "      <td>0</td>\n",
              "      <td>0</td>\n",
              "      <td>0</td>\n",
              "      <td>0</td>\n",
              "      <td>0</td>\n",
              "      <td>0</td>\n",
              "      <td>70830</td>\n",
              "      <td>California</td>\n",
              "      <td>2019-01-23</td>\n",
              "    </tr>\n",
              "  </tbody>\n",
              "</table>\n",
              "</div>"
            ],
            "text/plain": [
              "   main_S60_1  main_S60_2  main_type_SP100D  ...   MSRP  dealer_state        date\n",
              "0           0           0                 0  ...  44610    California  2019-04-28\n",
              "1           0           0                 0  ...  41505    California  2019-03-14\n",
              "2           0           0                 0  ...  58890    California  2019-06-12\n",
              "3           0           0                 0  ...  51055    California  2019-03-04\n",
              "4           0           0                 0  ...  70830    California  2019-01-23\n",
              "\n",
              "[5 rows x 76 columns]"
            ]
          },
          "metadata": {
            "tags": []
          },
          "execution_count": 5
        }
      ]
    },
    {
      "cell_type": "code",
      "metadata": {
        "colab": {
          "base_uri": "https://localhost:8080/"
        },
        "id": "6zcD5l8nMiTC",
        "outputId": "fd5923f2-1ad0-4fdd-95c7-454a27aa3b0a"
      },
      "source": [
        "df_sales.columns"
      ],
      "execution_count": 6,
      "outputs": [
        {
          "output_type": "execute_result",
          "data": {
            "text/plain": [
              "Index(['main_S60_1', 'main_S60_2', 'main_type_SP100D', 'main_type_S60D_1',\n",
              "       'main_type_S60D_2', 'main_type_S70', 'main_type_S70D', 'main_type_S75',\n",
              "       'main_type_S75D', 'main_type_S80', 'main_type_S80D', 'main_type_S85',\n",
              "       'main_type_S85P', 'main_type_P85D', 'main_type_S90', 'main_type_S90D',\n",
              "       'main_type_S100D', 'engine_A', 'engine_B', 'engine_C', 'engine_D',\n",
              "       'engine_E', 'engine_F', 'engine_G', 'engine_H', 'engine_I', 'engine_J',\n",
              "       'engine_K', 'engine_L', 'engine_M', 'engine_N', 'engine_O', 'engine_P',\n",
              "       'engine_Q', 'engine_R', 'engine_S', 'engine_T', 'engine_U', 'engine_V',\n",
              "       'engine_W', 'engine_X', 'engine_Y', 'engine_Z', 'sales_1', 'sales_2',\n",
              "       'sales_3', 'sales_4', 'sales_5', 'sales_6', 'sales_7', 'sales_8',\n",
              "       'sales_9', 'sales_10', 'sales_11', 'sales_12', 'sales_13', 'sales_14',\n",
              "       'sales_15', 'sales_16', 'sales_17', 'sales_18', 'sales_19', 'sales_20',\n",
              "       'sales_21', 'sales_22', 'sales_23', 'sales_24', 'sales_25', 'sales_26',\n",
              "       'sales_27', 'sales_28', 'sales_29', 'sales_30', 'MSRP', 'dealer_state',\n",
              "       'date'],\n",
              "      dtype='object')"
            ]
          },
          "metadata": {
            "tags": []
          },
          "execution_count": 6
        }
      ]
    },
    {
      "cell_type": "markdown",
      "metadata": {
        "id": "hsv4I2i3M24N"
      },
      "source": [
        "All columns are one hot encoded. Actual columns are \n",
        "- main_S60 (1,2)\n",
        "- main_type (SP100D, S60D_1, S60D_2, S70, S70D, S75, S85P, P85D, S90, S90D, S100D)\n",
        "- engine (A to Z) \n",
        "- sales (1 to 30)\n",
        "- MSRP \n",
        "- dealer_state\n",
        "- date"
      ]
    },
    {
      "cell_type": "code",
      "metadata": {
        "colab": {
          "base_uri": "https://localhost:8080/"
        },
        "id": "U1DK6CCbOjpC",
        "outputId": "dd470c8a-5a55-40f7-be63-3fb85a0db841"
      },
      "source": [
        "df_sales['dealer_state'].value_counts()"
      ],
      "execution_count": 7,
      "outputs": [
        {
          "output_type": "execute_result",
          "data": {
            "text/plain": [
              "California    5837\n",
              "Name: dealer_state, dtype: int64"
            ]
          },
          "metadata": {
            "tags": []
          },
          "execution_count": 7
        }
      ]
    },
    {
      "cell_type": "code",
      "metadata": {
        "colab": {
          "base_uri": "https://localhost:8080/"
        },
        "id": "szl9z7ZGO0Yx",
        "outputId": "d003987f-d4db-4912-de28-eee0f9146fb2"
      },
      "source": [
        "df_sales['date'].value_counts()"
      ],
      "execution_count": 8,
      "outputs": [
        {
          "output_type": "execute_result",
          "data": {
            "text/plain": [
              "2019-04-30    237\n",
              "2019-05-31    210\n",
              "2019-02-28    189\n",
              "2019-04-01    173\n",
              "2019-01-31    115\n",
              "             ... \n",
              "2019-04-04      4\n",
              "2019-01-05      3\n",
              "2019-04-02      2\n",
              "2019-03-01      2\n",
              "2019-05-01      2\n",
              "Name: date, Length: 179, dtype: int64"
            ]
          },
          "metadata": {
            "tags": []
          },
          "execution_count": 8
        }
      ]
    },
    {
      "cell_type": "markdown",
      "metadata": {
        "id": "dF7w0UQndnM_"
      },
      "source": [
        "### Begin cleaning the data\n",
        "\n",
        "Eliminate the `'dealer_state'` and `'date'` columns. The former is useless to our model, since we already know that our dataset is restricted to California sales. While we could possibly extract useful information from the `'date'` column (for example, to determine whether more cars are sold on weekends than weekdays), we'll be focusing on car configurations in this exercise."
      ]
    },
    {
      "cell_type": "code",
      "metadata": {
        "id": "i-DThsrHdnNA",
        "colab": {
          "base_uri": "https://localhost:8080/",
          "height": 224
        },
        "outputId": "09b0c59c-ccb4-4dc1-a092-75ad3b8f95b3"
      },
      "source": [
        "df_sales = df_sales.drop(columns=['dealer_state','date'])\n",
        "df_sales.head()"
      ],
      "execution_count": 9,
      "outputs": [
        {
          "output_type": "execute_result",
          "data": {
            "text/html": [
              "<div>\n",
              "<style scoped>\n",
              "    .dataframe tbody tr th:only-of-type {\n",
              "        vertical-align: middle;\n",
              "    }\n",
              "\n",
              "    .dataframe tbody tr th {\n",
              "        vertical-align: top;\n",
              "    }\n",
              "\n",
              "    .dataframe thead th {\n",
              "        text-align: right;\n",
              "    }\n",
              "</style>\n",
              "<table border=\"1\" class=\"dataframe\">\n",
              "  <thead>\n",
              "    <tr style=\"text-align: right;\">\n",
              "      <th></th>\n",
              "      <th>main_S60_1</th>\n",
              "      <th>main_S60_2</th>\n",
              "      <th>main_type_SP100D</th>\n",
              "      <th>main_type_S60D_1</th>\n",
              "      <th>main_type_S60D_2</th>\n",
              "      <th>main_type_S70</th>\n",
              "      <th>main_type_S70D</th>\n",
              "      <th>main_type_S75</th>\n",
              "      <th>main_type_S75D</th>\n",
              "      <th>main_type_S80</th>\n",
              "      <th>main_type_S80D</th>\n",
              "      <th>main_type_S85</th>\n",
              "      <th>main_type_S85P</th>\n",
              "      <th>main_type_P85D</th>\n",
              "      <th>main_type_S90</th>\n",
              "      <th>main_type_S90D</th>\n",
              "      <th>main_type_S100D</th>\n",
              "      <th>engine_A</th>\n",
              "      <th>engine_B</th>\n",
              "      <th>engine_C</th>\n",
              "      <th>engine_D</th>\n",
              "      <th>engine_E</th>\n",
              "      <th>engine_F</th>\n",
              "      <th>engine_G</th>\n",
              "      <th>engine_H</th>\n",
              "      <th>engine_I</th>\n",
              "      <th>engine_J</th>\n",
              "      <th>engine_K</th>\n",
              "      <th>engine_L</th>\n",
              "      <th>engine_M</th>\n",
              "      <th>engine_N</th>\n",
              "      <th>engine_O</th>\n",
              "      <th>engine_P</th>\n",
              "      <th>engine_Q</th>\n",
              "      <th>engine_R</th>\n",
              "      <th>engine_S</th>\n",
              "      <th>engine_T</th>\n",
              "      <th>engine_U</th>\n",
              "      <th>engine_V</th>\n",
              "      <th>engine_W</th>\n",
              "      <th>engine_X</th>\n",
              "      <th>engine_Y</th>\n",
              "      <th>engine_Z</th>\n",
              "      <th>sales_1</th>\n",
              "      <th>sales_2</th>\n",
              "      <th>sales_3</th>\n",
              "      <th>sales_4</th>\n",
              "      <th>sales_5</th>\n",
              "      <th>sales_6</th>\n",
              "      <th>sales_7</th>\n",
              "      <th>sales_8</th>\n",
              "      <th>sales_9</th>\n",
              "      <th>sales_10</th>\n",
              "      <th>sales_11</th>\n",
              "      <th>sales_12</th>\n",
              "      <th>sales_13</th>\n",
              "      <th>sales_14</th>\n",
              "      <th>sales_15</th>\n",
              "      <th>sales_16</th>\n",
              "      <th>sales_17</th>\n",
              "      <th>sales_18</th>\n",
              "      <th>sales_19</th>\n",
              "      <th>sales_20</th>\n",
              "      <th>sales_21</th>\n",
              "      <th>sales_22</th>\n",
              "      <th>sales_23</th>\n",
              "      <th>sales_24</th>\n",
              "      <th>sales_25</th>\n",
              "      <th>sales_26</th>\n",
              "      <th>sales_27</th>\n",
              "      <th>sales_28</th>\n",
              "      <th>sales_29</th>\n",
              "      <th>sales_30</th>\n",
              "      <th>MSRP</th>\n",
              "    </tr>\n",
              "  </thead>\n",
              "  <tbody>\n",
              "    <tr>\n",
              "      <th>0</th>\n",
              "      <td>0</td>\n",
              "      <td>0</td>\n",
              "      <td>0</td>\n",
              "      <td>0</td>\n",
              "      <td>0</td>\n",
              "      <td>1</td>\n",
              "      <td>0</td>\n",
              "      <td>0</td>\n",
              "      <td>0</td>\n",
              "      <td>0</td>\n",
              "      <td>0</td>\n",
              "      <td>0</td>\n",
              "      <td>0</td>\n",
              "      <td>0</td>\n",
              "      <td>0</td>\n",
              "      <td>0</td>\n",
              "      <td>0</td>\n",
              "      <td>0</td>\n",
              "      <td>0</td>\n",
              "      <td>0</td>\n",
              "      <td>0</td>\n",
              "      <td>0</td>\n",
              "      <td>0</td>\n",
              "      <td>0</td>\n",
              "      <td>0</td>\n",
              "      <td>0</td>\n",
              "      <td>0</td>\n",
              "      <td>0</td>\n",
              "      <td>0</td>\n",
              "      <td>0</td>\n",
              "      <td>0</td>\n",
              "      <td>0</td>\n",
              "      <td>0</td>\n",
              "      <td>0</td>\n",
              "      <td>0</td>\n",
              "      <td>0</td>\n",
              "      <td>0</td>\n",
              "      <td>0</td>\n",
              "      <td>0</td>\n",
              "      <td>0</td>\n",
              "      <td>0</td>\n",
              "      <td>0</td>\n",
              "      <td>0</td>\n",
              "      <td>0</td>\n",
              "      <td>0</td>\n",
              "      <td>0</td>\n",
              "      <td>0</td>\n",
              "      <td>0</td>\n",
              "      <td>0</td>\n",
              "      <td>0</td>\n",
              "      <td>1</td>\n",
              "      <td>0</td>\n",
              "      <td>0</td>\n",
              "      <td>0</td>\n",
              "      <td>0</td>\n",
              "      <td>0</td>\n",
              "      <td>0</td>\n",
              "      <td>0</td>\n",
              "      <td>0</td>\n",
              "      <td>0</td>\n",
              "      <td>0</td>\n",
              "      <td>0</td>\n",
              "      <td>0</td>\n",
              "      <td>0</td>\n",
              "      <td>0</td>\n",
              "      <td>0</td>\n",
              "      <td>0</td>\n",
              "      <td>0</td>\n",
              "      <td>0</td>\n",
              "      <td>0</td>\n",
              "      <td>0</td>\n",
              "      <td>0</td>\n",
              "      <td>0</td>\n",
              "      <td>44610</td>\n",
              "    </tr>\n",
              "    <tr>\n",
              "      <th>1</th>\n",
              "      <td>0</td>\n",
              "      <td>0</td>\n",
              "      <td>0</td>\n",
              "      <td>0</td>\n",
              "      <td>0</td>\n",
              "      <td>0</td>\n",
              "      <td>0</td>\n",
              "      <td>0</td>\n",
              "      <td>0</td>\n",
              "      <td>0</td>\n",
              "      <td>0</td>\n",
              "      <td>0</td>\n",
              "      <td>0</td>\n",
              "      <td>0</td>\n",
              "      <td>0</td>\n",
              "      <td>0</td>\n",
              "      <td>1</td>\n",
              "      <td>1</td>\n",
              "      <td>0</td>\n",
              "      <td>0</td>\n",
              "      <td>0</td>\n",
              "      <td>0</td>\n",
              "      <td>0</td>\n",
              "      <td>0</td>\n",
              "      <td>0</td>\n",
              "      <td>0</td>\n",
              "      <td>0</td>\n",
              "      <td>0</td>\n",
              "      <td>0</td>\n",
              "      <td>0</td>\n",
              "      <td>0</td>\n",
              "      <td>0</td>\n",
              "      <td>0</td>\n",
              "      <td>0</td>\n",
              "      <td>0</td>\n",
              "      <td>0</td>\n",
              "      <td>0</td>\n",
              "      <td>0</td>\n",
              "      <td>0</td>\n",
              "      <td>0</td>\n",
              "      <td>0</td>\n",
              "      <td>0</td>\n",
              "      <td>0</td>\n",
              "      <td>0</td>\n",
              "      <td>0</td>\n",
              "      <td>0</td>\n",
              "      <td>0</td>\n",
              "      <td>0</td>\n",
              "      <td>0</td>\n",
              "      <td>0</td>\n",
              "      <td>1</td>\n",
              "      <td>0</td>\n",
              "      <td>0</td>\n",
              "      <td>0</td>\n",
              "      <td>0</td>\n",
              "      <td>0</td>\n",
              "      <td>0</td>\n",
              "      <td>0</td>\n",
              "      <td>0</td>\n",
              "      <td>0</td>\n",
              "      <td>0</td>\n",
              "      <td>0</td>\n",
              "      <td>0</td>\n",
              "      <td>0</td>\n",
              "      <td>0</td>\n",
              "      <td>0</td>\n",
              "      <td>0</td>\n",
              "      <td>0</td>\n",
              "      <td>0</td>\n",
              "      <td>0</td>\n",
              "      <td>0</td>\n",
              "      <td>0</td>\n",
              "      <td>0</td>\n",
              "      <td>41505</td>\n",
              "    </tr>\n",
              "    <tr>\n",
              "      <th>2</th>\n",
              "      <td>0</td>\n",
              "      <td>0</td>\n",
              "      <td>0</td>\n",
              "      <td>0</td>\n",
              "      <td>0</td>\n",
              "      <td>0</td>\n",
              "      <td>0</td>\n",
              "      <td>0</td>\n",
              "      <td>0</td>\n",
              "      <td>0</td>\n",
              "      <td>0</td>\n",
              "      <td>0</td>\n",
              "      <td>1</td>\n",
              "      <td>0</td>\n",
              "      <td>0</td>\n",
              "      <td>0</td>\n",
              "      <td>0</td>\n",
              "      <td>0</td>\n",
              "      <td>0</td>\n",
              "      <td>0</td>\n",
              "      <td>0</td>\n",
              "      <td>0</td>\n",
              "      <td>0</td>\n",
              "      <td>0</td>\n",
              "      <td>0</td>\n",
              "      <td>0</td>\n",
              "      <td>0</td>\n",
              "      <td>0</td>\n",
              "      <td>0</td>\n",
              "      <td>0</td>\n",
              "      <td>0</td>\n",
              "      <td>0</td>\n",
              "      <td>0</td>\n",
              "      <td>1</td>\n",
              "      <td>0</td>\n",
              "      <td>0</td>\n",
              "      <td>0</td>\n",
              "      <td>0</td>\n",
              "      <td>0</td>\n",
              "      <td>0</td>\n",
              "      <td>0</td>\n",
              "      <td>0</td>\n",
              "      <td>0</td>\n",
              "      <td>0</td>\n",
              "      <td>0</td>\n",
              "      <td>0</td>\n",
              "      <td>0</td>\n",
              "      <td>0</td>\n",
              "      <td>0</td>\n",
              "      <td>1</td>\n",
              "      <td>0</td>\n",
              "      <td>0</td>\n",
              "      <td>0</td>\n",
              "      <td>0</td>\n",
              "      <td>0</td>\n",
              "      <td>0</td>\n",
              "      <td>0</td>\n",
              "      <td>0</td>\n",
              "      <td>0</td>\n",
              "      <td>0</td>\n",
              "      <td>0</td>\n",
              "      <td>0</td>\n",
              "      <td>0</td>\n",
              "      <td>0</td>\n",
              "      <td>0</td>\n",
              "      <td>0</td>\n",
              "      <td>0</td>\n",
              "      <td>0</td>\n",
              "      <td>0</td>\n",
              "      <td>0</td>\n",
              "      <td>0</td>\n",
              "      <td>0</td>\n",
              "      <td>0</td>\n",
              "      <td>58890</td>\n",
              "    </tr>\n",
              "    <tr>\n",
              "      <th>3</th>\n",
              "      <td>0</td>\n",
              "      <td>0</td>\n",
              "      <td>0</td>\n",
              "      <td>0</td>\n",
              "      <td>0</td>\n",
              "      <td>0</td>\n",
              "      <td>0</td>\n",
              "      <td>0</td>\n",
              "      <td>0</td>\n",
              "      <td>0</td>\n",
              "      <td>0</td>\n",
              "      <td>0</td>\n",
              "      <td>1</td>\n",
              "      <td>0</td>\n",
              "      <td>0</td>\n",
              "      <td>0</td>\n",
              "      <td>0</td>\n",
              "      <td>0</td>\n",
              "      <td>0</td>\n",
              "      <td>0</td>\n",
              "      <td>0</td>\n",
              "      <td>0</td>\n",
              "      <td>0</td>\n",
              "      <td>0</td>\n",
              "      <td>0</td>\n",
              "      <td>0</td>\n",
              "      <td>0</td>\n",
              "      <td>0</td>\n",
              "      <td>0</td>\n",
              "      <td>0</td>\n",
              "      <td>0</td>\n",
              "      <td>0</td>\n",
              "      <td>0</td>\n",
              "      <td>0</td>\n",
              "      <td>0</td>\n",
              "      <td>0</td>\n",
              "      <td>0</td>\n",
              "      <td>0</td>\n",
              "      <td>0</td>\n",
              "      <td>0</td>\n",
              "      <td>0</td>\n",
              "      <td>0</td>\n",
              "      <td>0</td>\n",
              "      <td>0</td>\n",
              "      <td>0</td>\n",
              "      <td>0</td>\n",
              "      <td>0</td>\n",
              "      <td>0</td>\n",
              "      <td>0</td>\n",
              "      <td>0</td>\n",
              "      <td>1</td>\n",
              "      <td>0</td>\n",
              "      <td>0</td>\n",
              "      <td>0</td>\n",
              "      <td>0</td>\n",
              "      <td>0</td>\n",
              "      <td>0</td>\n",
              "      <td>0</td>\n",
              "      <td>0</td>\n",
              "      <td>0</td>\n",
              "      <td>0</td>\n",
              "      <td>0</td>\n",
              "      <td>0</td>\n",
              "      <td>0</td>\n",
              "      <td>0</td>\n",
              "      <td>0</td>\n",
              "      <td>0</td>\n",
              "      <td>0</td>\n",
              "      <td>0</td>\n",
              "      <td>0</td>\n",
              "      <td>0</td>\n",
              "      <td>0</td>\n",
              "      <td>0</td>\n",
              "      <td>51055</td>\n",
              "    </tr>\n",
              "    <tr>\n",
              "      <th>4</th>\n",
              "      <td>0</td>\n",
              "      <td>0</td>\n",
              "      <td>0</td>\n",
              "      <td>0</td>\n",
              "      <td>0</td>\n",
              "      <td>0</td>\n",
              "      <td>0</td>\n",
              "      <td>0</td>\n",
              "      <td>0</td>\n",
              "      <td>0</td>\n",
              "      <td>0</td>\n",
              "      <td>0</td>\n",
              "      <td>0</td>\n",
              "      <td>1</td>\n",
              "      <td>0</td>\n",
              "      <td>0</td>\n",
              "      <td>0</td>\n",
              "      <td>0</td>\n",
              "      <td>0</td>\n",
              "      <td>0</td>\n",
              "      <td>0</td>\n",
              "      <td>0</td>\n",
              "      <td>0</td>\n",
              "      <td>0</td>\n",
              "      <td>0</td>\n",
              "      <td>0</td>\n",
              "      <td>0</td>\n",
              "      <td>0</td>\n",
              "      <td>0</td>\n",
              "      <td>0</td>\n",
              "      <td>0</td>\n",
              "      <td>0</td>\n",
              "      <td>0</td>\n",
              "      <td>1</td>\n",
              "      <td>0</td>\n",
              "      <td>0</td>\n",
              "      <td>0</td>\n",
              "      <td>0</td>\n",
              "      <td>0</td>\n",
              "      <td>0</td>\n",
              "      <td>0</td>\n",
              "      <td>0</td>\n",
              "      <td>0</td>\n",
              "      <td>0</td>\n",
              "      <td>0</td>\n",
              "      <td>0</td>\n",
              "      <td>0</td>\n",
              "      <td>0</td>\n",
              "      <td>0</td>\n",
              "      <td>0</td>\n",
              "      <td>0</td>\n",
              "      <td>0</td>\n",
              "      <td>0</td>\n",
              "      <td>1</td>\n",
              "      <td>0</td>\n",
              "      <td>0</td>\n",
              "      <td>0</td>\n",
              "      <td>0</td>\n",
              "      <td>0</td>\n",
              "      <td>0</td>\n",
              "      <td>0</td>\n",
              "      <td>0</td>\n",
              "      <td>0</td>\n",
              "      <td>0</td>\n",
              "      <td>0</td>\n",
              "      <td>0</td>\n",
              "      <td>0</td>\n",
              "      <td>0</td>\n",
              "      <td>0</td>\n",
              "      <td>0</td>\n",
              "      <td>0</td>\n",
              "      <td>0</td>\n",
              "      <td>0</td>\n",
              "      <td>70830</td>\n",
              "    </tr>\n",
              "  </tbody>\n",
              "</table>\n",
              "</div>"
            ],
            "text/plain": [
              "   main_S60_1  main_S60_2  main_type_SP100D  ...  sales_29  sales_30   MSRP\n",
              "0           0           0                 0  ...         0         0  44610\n",
              "1           0           0                 0  ...         0         0  41505\n",
              "2           0           0                 0  ...         0         0  58890\n",
              "3           0           0                 0  ...         0         0  51055\n",
              "4           0           0                 0  ...         0         0  70830\n",
              "\n",
              "[5 rows x 74 columns]"
            ]
          },
          "metadata": {
            "tags": []
          },
          "execution_count": 9
        }
      ]
    },
    {
      "cell_type": "markdown",
      "metadata": {
        "id": "qqdkmnCodnNC"
      },
      "source": [
        "### Read in the CSV file containing the California sales data for Quarters 3 and 4\n",
        "\n",
        "The `'dealer_state'` and `'date'` columns have already been eliminated in this dataset, so you don't need to worry about them here. Examine the data's shape and first few rows."
      ]
    },
    {
      "cell_type": "code",
      "metadata": {
        "id": "bJpTgHxAdnND",
        "colab": {
          "base_uri": "https://localhost:8080/",
          "height": 241
        },
        "outputId": "b46a3543-4c23-4e27-9585-c79f2bd04b9d"
      },
      "source": [
        "### START CODE HERE ###\n",
        "# Read in the Q34 data\n",
        "df_pred = pd.read_csv(\"sales_Q34_2019.csv\")\n",
        "# Print the shape of the data\n",
        "print(np.shape(df_pred))\n",
        "# Examine the first few rows of the data\n",
        "df_pred.head()\n",
        "### END CODE HERE ###"
      ],
      "execution_count": 10,
      "outputs": [
        {
          "output_type": "stream",
          "text": [
            "(6666, 74)\n"
          ],
          "name": "stdout"
        },
        {
          "output_type": "execute_result",
          "data": {
            "text/html": [
              "<div>\n",
              "<style scoped>\n",
              "    .dataframe tbody tr th:only-of-type {\n",
              "        vertical-align: middle;\n",
              "    }\n",
              "\n",
              "    .dataframe tbody tr th {\n",
              "        vertical-align: top;\n",
              "    }\n",
              "\n",
              "    .dataframe thead th {\n",
              "        text-align: right;\n",
              "    }\n",
              "</style>\n",
              "<table border=\"1\" class=\"dataframe\">\n",
              "  <thead>\n",
              "    <tr style=\"text-align: right;\">\n",
              "      <th></th>\n",
              "      <th>main_S60_1</th>\n",
              "      <th>main_S60_2</th>\n",
              "      <th>main_type_SP100D</th>\n",
              "      <th>main_type_S60D_1</th>\n",
              "      <th>main_type_S60D_2</th>\n",
              "      <th>main_type_S70</th>\n",
              "      <th>main_type_S70D</th>\n",
              "      <th>main_type_S75</th>\n",
              "      <th>main_type_S75D</th>\n",
              "      <th>main_type_S80</th>\n",
              "      <th>main_type_S80D</th>\n",
              "      <th>main_type_S85</th>\n",
              "      <th>main_type_S85P</th>\n",
              "      <th>main_type_P85D</th>\n",
              "      <th>main_type_S90</th>\n",
              "      <th>main_type_S90D</th>\n",
              "      <th>main_type_S100D</th>\n",
              "      <th>engine_A</th>\n",
              "      <th>engine_B</th>\n",
              "      <th>engine_C</th>\n",
              "      <th>engine_D</th>\n",
              "      <th>engine_E</th>\n",
              "      <th>engine_F</th>\n",
              "      <th>engine_G</th>\n",
              "      <th>engine_H</th>\n",
              "      <th>engine_I</th>\n",
              "      <th>engine_J</th>\n",
              "      <th>engine_K</th>\n",
              "      <th>engine_L</th>\n",
              "      <th>engine_M</th>\n",
              "      <th>engine_N</th>\n",
              "      <th>engine_O</th>\n",
              "      <th>engine_P</th>\n",
              "      <th>engine_Q</th>\n",
              "      <th>engine_R</th>\n",
              "      <th>engine_S</th>\n",
              "      <th>engine_T</th>\n",
              "      <th>engine_U</th>\n",
              "      <th>engine_V</th>\n",
              "      <th>engine_W</th>\n",
              "      <th>engine_X</th>\n",
              "      <th>engine_Y</th>\n",
              "      <th>engine_Z</th>\n",
              "      <th>sales_1</th>\n",
              "      <th>sales_2</th>\n",
              "      <th>sales_3</th>\n",
              "      <th>sales_4</th>\n",
              "      <th>sales_5</th>\n",
              "      <th>sales_6</th>\n",
              "      <th>sales_7</th>\n",
              "      <th>sales_8</th>\n",
              "      <th>sales_9</th>\n",
              "      <th>sales_10</th>\n",
              "      <th>sales_11</th>\n",
              "      <th>sales_12</th>\n",
              "      <th>sales_13</th>\n",
              "      <th>sales_14</th>\n",
              "      <th>sales_15</th>\n",
              "      <th>sales_16</th>\n",
              "      <th>sales_17</th>\n",
              "      <th>sales_18</th>\n",
              "      <th>sales_19</th>\n",
              "      <th>sales_20</th>\n",
              "      <th>sales_21</th>\n",
              "      <th>sales_22</th>\n",
              "      <th>sales_23</th>\n",
              "      <th>sales_24</th>\n",
              "      <th>sales_25</th>\n",
              "      <th>sales_26</th>\n",
              "      <th>sales_27</th>\n",
              "      <th>sales_28</th>\n",
              "      <th>sales_29</th>\n",
              "      <th>sales_30</th>\n",
              "      <th>MSRP</th>\n",
              "    </tr>\n",
              "  </thead>\n",
              "  <tbody>\n",
              "    <tr>\n",
              "      <th>0</th>\n",
              "      <td>0</td>\n",
              "      <td>0</td>\n",
              "      <td>0</td>\n",
              "      <td>0</td>\n",
              "      <td>0</td>\n",
              "      <td>1</td>\n",
              "      <td>0</td>\n",
              "      <td>0</td>\n",
              "      <td>0</td>\n",
              "      <td>0</td>\n",
              "      <td>0</td>\n",
              "      <td>0</td>\n",
              "      <td>0</td>\n",
              "      <td>0</td>\n",
              "      <td>0</td>\n",
              "      <td>0</td>\n",
              "      <td>0</td>\n",
              "      <td>0</td>\n",
              "      <td>0</td>\n",
              "      <td>0</td>\n",
              "      <td>0</td>\n",
              "      <td>0</td>\n",
              "      <td>0</td>\n",
              "      <td>0</td>\n",
              "      <td>0</td>\n",
              "      <td>0</td>\n",
              "      <td>0</td>\n",
              "      <td>0</td>\n",
              "      <td>0</td>\n",
              "      <td>0</td>\n",
              "      <td>0</td>\n",
              "      <td>0</td>\n",
              "      <td>0</td>\n",
              "      <td>1</td>\n",
              "      <td>0</td>\n",
              "      <td>0</td>\n",
              "      <td>0</td>\n",
              "      <td>0</td>\n",
              "      <td>0</td>\n",
              "      <td>0</td>\n",
              "      <td>0</td>\n",
              "      <td>0</td>\n",
              "      <td>0</td>\n",
              "      <td>0</td>\n",
              "      <td>0</td>\n",
              "      <td>0</td>\n",
              "      <td>0</td>\n",
              "      <td>0</td>\n",
              "      <td>0</td>\n",
              "      <td>0</td>\n",
              "      <td>0</td>\n",
              "      <td>0</td>\n",
              "      <td>0</td>\n",
              "      <td>0</td>\n",
              "      <td>0</td>\n",
              "      <td>0</td>\n",
              "      <td>0</td>\n",
              "      <td>0</td>\n",
              "      <td>0</td>\n",
              "      <td>0</td>\n",
              "      <td>0</td>\n",
              "      <td>0</td>\n",
              "      <td>0</td>\n",
              "      <td>0</td>\n",
              "      <td>0</td>\n",
              "      <td>0</td>\n",
              "      <td>1</td>\n",
              "      <td>0</td>\n",
              "      <td>0</td>\n",
              "      <td>0</td>\n",
              "      <td>0</td>\n",
              "      <td>0</td>\n",
              "      <td>0</td>\n",
              "      <td>51355</td>\n",
              "    </tr>\n",
              "    <tr>\n",
              "      <th>1</th>\n",
              "      <td>0</td>\n",
              "      <td>0</td>\n",
              "      <td>0</td>\n",
              "      <td>0</td>\n",
              "      <td>0</td>\n",
              "      <td>0</td>\n",
              "      <td>0</td>\n",
              "      <td>0</td>\n",
              "      <td>0</td>\n",
              "      <td>0</td>\n",
              "      <td>0</td>\n",
              "      <td>0</td>\n",
              "      <td>0</td>\n",
              "      <td>1</td>\n",
              "      <td>0</td>\n",
              "      <td>0</td>\n",
              "      <td>0</td>\n",
              "      <td>0</td>\n",
              "      <td>0</td>\n",
              "      <td>0</td>\n",
              "      <td>0</td>\n",
              "      <td>0</td>\n",
              "      <td>0</td>\n",
              "      <td>0</td>\n",
              "      <td>0</td>\n",
              "      <td>0</td>\n",
              "      <td>0</td>\n",
              "      <td>0</td>\n",
              "      <td>0</td>\n",
              "      <td>0</td>\n",
              "      <td>0</td>\n",
              "      <td>0</td>\n",
              "      <td>0</td>\n",
              "      <td>1</td>\n",
              "      <td>0</td>\n",
              "      <td>0</td>\n",
              "      <td>0</td>\n",
              "      <td>0</td>\n",
              "      <td>0</td>\n",
              "      <td>0</td>\n",
              "      <td>0</td>\n",
              "      <td>0</td>\n",
              "      <td>0</td>\n",
              "      <td>0</td>\n",
              "      <td>0</td>\n",
              "      <td>0</td>\n",
              "      <td>0</td>\n",
              "      <td>0</td>\n",
              "      <td>0</td>\n",
              "      <td>0</td>\n",
              "      <td>0</td>\n",
              "      <td>0</td>\n",
              "      <td>0</td>\n",
              "      <td>1</td>\n",
              "      <td>0</td>\n",
              "      <td>0</td>\n",
              "      <td>0</td>\n",
              "      <td>0</td>\n",
              "      <td>0</td>\n",
              "      <td>0</td>\n",
              "      <td>0</td>\n",
              "      <td>0</td>\n",
              "      <td>0</td>\n",
              "      <td>0</td>\n",
              "      <td>0</td>\n",
              "      <td>0</td>\n",
              "      <td>0</td>\n",
              "      <td>0</td>\n",
              "      <td>0</td>\n",
              "      <td>0</td>\n",
              "      <td>0</td>\n",
              "      <td>0</td>\n",
              "      <td>0</td>\n",
              "      <td>71580</td>\n",
              "    </tr>\n",
              "    <tr>\n",
              "      <th>2</th>\n",
              "      <td>0</td>\n",
              "      <td>0</td>\n",
              "      <td>0</td>\n",
              "      <td>0</td>\n",
              "      <td>0</td>\n",
              "      <td>0</td>\n",
              "      <td>0</td>\n",
              "      <td>0</td>\n",
              "      <td>0</td>\n",
              "      <td>0</td>\n",
              "      <td>0</td>\n",
              "      <td>0</td>\n",
              "      <td>0</td>\n",
              "      <td>1</td>\n",
              "      <td>0</td>\n",
              "      <td>0</td>\n",
              "      <td>0</td>\n",
              "      <td>0</td>\n",
              "      <td>0</td>\n",
              "      <td>0</td>\n",
              "      <td>0</td>\n",
              "      <td>0</td>\n",
              "      <td>0</td>\n",
              "      <td>0</td>\n",
              "      <td>0</td>\n",
              "      <td>0</td>\n",
              "      <td>0</td>\n",
              "      <td>0</td>\n",
              "      <td>0</td>\n",
              "      <td>0</td>\n",
              "      <td>0</td>\n",
              "      <td>0</td>\n",
              "      <td>0</td>\n",
              "      <td>1</td>\n",
              "      <td>0</td>\n",
              "      <td>0</td>\n",
              "      <td>0</td>\n",
              "      <td>0</td>\n",
              "      <td>0</td>\n",
              "      <td>0</td>\n",
              "      <td>0</td>\n",
              "      <td>0</td>\n",
              "      <td>0</td>\n",
              "      <td>0</td>\n",
              "      <td>0</td>\n",
              "      <td>0</td>\n",
              "      <td>0</td>\n",
              "      <td>0</td>\n",
              "      <td>0</td>\n",
              "      <td>0</td>\n",
              "      <td>0</td>\n",
              "      <td>0</td>\n",
              "      <td>0</td>\n",
              "      <td>1</td>\n",
              "      <td>0</td>\n",
              "      <td>0</td>\n",
              "      <td>0</td>\n",
              "      <td>0</td>\n",
              "      <td>0</td>\n",
              "      <td>0</td>\n",
              "      <td>0</td>\n",
              "      <td>0</td>\n",
              "      <td>0</td>\n",
              "      <td>0</td>\n",
              "      <td>0</td>\n",
              "      <td>0</td>\n",
              "      <td>0</td>\n",
              "      <td>0</td>\n",
              "      <td>0</td>\n",
              "      <td>0</td>\n",
              "      <td>0</td>\n",
              "      <td>0</td>\n",
              "      <td>0</td>\n",
              "      <td>66790</td>\n",
              "    </tr>\n",
              "    <tr>\n",
              "      <th>3</th>\n",
              "      <td>0</td>\n",
              "      <td>0</td>\n",
              "      <td>0</td>\n",
              "      <td>0</td>\n",
              "      <td>0</td>\n",
              "      <td>0</td>\n",
              "      <td>0</td>\n",
              "      <td>0</td>\n",
              "      <td>0</td>\n",
              "      <td>0</td>\n",
              "      <td>0</td>\n",
              "      <td>0</td>\n",
              "      <td>0</td>\n",
              "      <td>1</td>\n",
              "      <td>0</td>\n",
              "      <td>0</td>\n",
              "      <td>0</td>\n",
              "      <td>0</td>\n",
              "      <td>0</td>\n",
              "      <td>0</td>\n",
              "      <td>0</td>\n",
              "      <td>0</td>\n",
              "      <td>0</td>\n",
              "      <td>0</td>\n",
              "      <td>0</td>\n",
              "      <td>0</td>\n",
              "      <td>0</td>\n",
              "      <td>0</td>\n",
              "      <td>0</td>\n",
              "      <td>0</td>\n",
              "      <td>0</td>\n",
              "      <td>0</td>\n",
              "      <td>0</td>\n",
              "      <td>1</td>\n",
              "      <td>0</td>\n",
              "      <td>0</td>\n",
              "      <td>0</td>\n",
              "      <td>0</td>\n",
              "      <td>0</td>\n",
              "      <td>0</td>\n",
              "      <td>0</td>\n",
              "      <td>0</td>\n",
              "      <td>0</td>\n",
              "      <td>0</td>\n",
              "      <td>0</td>\n",
              "      <td>0</td>\n",
              "      <td>0</td>\n",
              "      <td>0</td>\n",
              "      <td>0</td>\n",
              "      <td>0</td>\n",
              "      <td>0</td>\n",
              "      <td>0</td>\n",
              "      <td>0</td>\n",
              "      <td>1</td>\n",
              "      <td>0</td>\n",
              "      <td>0</td>\n",
              "      <td>0</td>\n",
              "      <td>0</td>\n",
              "      <td>0</td>\n",
              "      <td>0</td>\n",
              "      <td>0</td>\n",
              "      <td>0</td>\n",
              "      <td>0</td>\n",
              "      <td>0</td>\n",
              "      <td>0</td>\n",
              "      <td>0</td>\n",
              "      <td>0</td>\n",
              "      <td>0</td>\n",
              "      <td>0</td>\n",
              "      <td>0</td>\n",
              "      <td>0</td>\n",
              "      <td>0</td>\n",
              "      <td>0</td>\n",
              "      <td>72330</td>\n",
              "    </tr>\n",
              "    <tr>\n",
              "      <th>4</th>\n",
              "      <td>0</td>\n",
              "      <td>0</td>\n",
              "      <td>0</td>\n",
              "      <td>0</td>\n",
              "      <td>0</td>\n",
              "      <td>0</td>\n",
              "      <td>0</td>\n",
              "      <td>0</td>\n",
              "      <td>0</td>\n",
              "      <td>0</td>\n",
              "      <td>0</td>\n",
              "      <td>0</td>\n",
              "      <td>1</td>\n",
              "      <td>0</td>\n",
              "      <td>0</td>\n",
              "      <td>0</td>\n",
              "      <td>0</td>\n",
              "      <td>0</td>\n",
              "      <td>0</td>\n",
              "      <td>0</td>\n",
              "      <td>0</td>\n",
              "      <td>0</td>\n",
              "      <td>0</td>\n",
              "      <td>0</td>\n",
              "      <td>0</td>\n",
              "      <td>0</td>\n",
              "      <td>0</td>\n",
              "      <td>0</td>\n",
              "      <td>0</td>\n",
              "      <td>0</td>\n",
              "      <td>0</td>\n",
              "      <td>0</td>\n",
              "      <td>0</td>\n",
              "      <td>1</td>\n",
              "      <td>0</td>\n",
              "      <td>0</td>\n",
              "      <td>0</td>\n",
              "      <td>0</td>\n",
              "      <td>0</td>\n",
              "      <td>0</td>\n",
              "      <td>0</td>\n",
              "      <td>0</td>\n",
              "      <td>0</td>\n",
              "      <td>1</td>\n",
              "      <td>0</td>\n",
              "      <td>0</td>\n",
              "      <td>0</td>\n",
              "      <td>0</td>\n",
              "      <td>0</td>\n",
              "      <td>0</td>\n",
              "      <td>0</td>\n",
              "      <td>0</td>\n",
              "      <td>0</td>\n",
              "      <td>0</td>\n",
              "      <td>0</td>\n",
              "      <td>0</td>\n",
              "      <td>0</td>\n",
              "      <td>0</td>\n",
              "      <td>0</td>\n",
              "      <td>0</td>\n",
              "      <td>0</td>\n",
              "      <td>0</td>\n",
              "      <td>0</td>\n",
              "      <td>0</td>\n",
              "      <td>0</td>\n",
              "      <td>0</td>\n",
              "      <td>0</td>\n",
              "      <td>0</td>\n",
              "      <td>0</td>\n",
              "      <td>0</td>\n",
              "      <td>0</td>\n",
              "      <td>0</td>\n",
              "      <td>0</td>\n",
              "      <td>55370</td>\n",
              "    </tr>\n",
              "  </tbody>\n",
              "</table>\n",
              "</div>"
            ],
            "text/plain": [
              "   main_S60_1  main_S60_2  main_type_SP100D  ...  sales_29  sales_30   MSRP\n",
              "0           0           0                 0  ...         0         0  51355\n",
              "1           0           0                 0  ...         0         0  71580\n",
              "2           0           0                 0  ...         0         0  66790\n",
              "3           0           0                 0  ...         0         0  72330\n",
              "4           0           0                 0  ...         0         0  55370\n",
              "\n",
              "[5 rows x 74 columns]"
            ]
          },
          "metadata": {
            "tags": []
          },
          "execution_count": 10
        }
      ]
    },
    {
      "cell_type": "markdown",
      "metadata": {
        "id": "kcmsU-T1dnNF"
      },
      "source": [
        "# Task I. Consolidate data by finding numbers of unique car combinations sold for training and test data sets\n",
        "\n",
        "You've probably noticed that 73 of the 74 columns in our Q12 and Q34 datasets are one-hot-encoded representations of the car's `'main_type'`, `'engine'`, and `'sales_version'` values. You've probably also noticed that the final column is the car's `'MSRP'`, or manufacturer's (Tesla's, in this case) suggested retail price. In its current form, the sales data doesn't contain a target. The car's `'main_type'`, `'engine'`, `'sales_version'`, and `'MSRP'` values are all known to us before the time of the sale and do not, by themselves, offer us anything which we can predict. \n",
        "\n",
        "However, each row represents the sale of a single car. If we define a unique car type by its combination of `'main_type'`, `'engine'`, and `'sales_version'` values, the number of rows displaying that combination corresponds to the number of times during that half of the year that that distinct type of car was sold in California. Therefore, we can make training and test datasets where each row now corresponds to a unique car type, and the target value is how many times that car type was sold in California during a given half of the year.\n",
        "\n",
        "## This task requires data wrangling!\n",
        "## Create functions that read the Q12 (df_sales) and Q34 (df_pred) data sets and create train_X, train_Y, test_X and test_Y, respectively. Use pandas and NumPy as needed.\n",
        "\n",
        "train_X, test_X = unique row combinations without MSRP column\n",
        "\n",
        "train_Y, test_Y = number of unique cars sold"
      ]
    },
    {
      "cell_type": "code",
      "metadata": {
        "id": "ZMOSJ8hCfxxn"
      },
      "source": [
        "def get_features_and_targets(df):\n",
        "  # first drop MSRP column\n",
        "  data = df.drop(columns=['MSRP'])\n",
        "\n",
        "  # get count of sales with unique car type\n",
        "  sales_uniq_cnts = data.value_counts(sort=False, normalize=True)\n",
        "  # create dictionary with unique car type and sales count\n",
        "  sales_dict = dict(zip(sales_uniq_cnts.keys().tolist(), sales_uniq_cnts.tolist())) \n",
        "\n",
        "  # drop duplicates \n",
        "  sales_w_msrp = df.drop_duplicates(subset=df.columns.values.tolist())\n",
        "\n",
        "  # create dictionary with unique car type and MSRP\n",
        "  sales_wo_msrp = sales_w_msrp.drop(columns=['MSRP'])\n",
        "  # use min-max normalization to scale msrp value to be in between 0 & 1\n",
        "  sales_msrp = ((sales_w_msrp['MSRP'] - min(sales_w_msrp['MSRP']))/(max(sales_w_msrp['MSRP']) - min(sales_w_msrp['MSRP']))).tolist()\n",
        "  sales_wo_msrp_keys = sales_wo_msrp.value_counts(sort=False).keys().tolist()\n",
        "  sales_msrp_dict = dict(zip(sales_wo_msrp_keys, sales_msrp)) \n",
        "\n",
        "  # finally using above 2 dictionaries create final data\n",
        "  final_data = [(*key, sales_msrp_dict[key], sales_dict[key]) for key in sales_wo_msrp_keys]\n",
        "  final_data = pd.DataFrame(final_data, columns=[*sales_wo_msrp.columns.tolist(), 'MSRP', 'number_of_sales'])\n",
        "\n",
        "  # target/dependent varaible\n",
        "  y = np.array(final_data['number_of_sales'])\n",
        "  # features/independent variables\n",
        "  X = np.array(final_data.drop(columns=['number_of_sales']))\n",
        "  return X, y"
      ],
      "execution_count": 11,
      "outputs": []
    },
    {
      "cell_type": "markdown",
      "metadata": {
        "id": "toTX3W89fX2P"
      },
      "source": [
        "### Extract features and targets as defined above from both the Q12 and Q34 datasets"
      ]
    },
    {
      "cell_type": "code",
      "metadata": {
        "id": "Rf6Vj0ujhJ77",
        "colab": {
          "base_uri": "https://localhost:8080/"
        },
        "outputId": "4928d2f0-61b0-4502-c9ea-aabf146092ee"
      },
      "source": [
        "### START CODE HERE ###\n",
        "# Extract training features and targets from the Q12 data\n",
        "train_X, train_Y = get_features_and_targets(df_sales)\n",
        "# Extract test features and targets from the Q34 data\n",
        "test_X, test_Y = get_features_and_targets(df_pred)\n",
        "### END CODE HERE ###\n",
        "print(f\"Number of unique cars in Q12 = {len(train_Y)}\")\n",
        "print(f\"Number of unique cars in Q34 = {len(test_Y)}\")"
      ],
      "execution_count": 12,
      "outputs": [
        {
          "output_type": "stream",
          "text": [
            "Number of unique cars in Q12 = 66\n",
            "Number of unique cars in Q34 = 71\n"
          ],
          "name": "stdout"
        }
      ]
    },
    {
      "cell_type": "markdown",
      "metadata": {
        "id": "8d7BSjsQdnNV"
      },
      "source": [
        "You probably noticed that the Q12 and Q34 datasets contained differing numbers of distinct cars. Clearly, some new models were introduced by Q3, but were any discontinued by the end of Q2? Let's find out."
      ]
    },
    {
      "cell_type": "code",
      "metadata": {
        "id": "luGBEZB5hJ8A",
        "colab": {
          "base_uri": "https://localhost:8080/"
        },
        "outputId": "abf3e5b4-04d1-463a-a6a7-f488927c67ec"
      },
      "source": [
        "# How many unique cars in 2012 (Q1:Q4)?\n",
        "### START CODE HERE ### \n",
        "# Concatenate the Q12 and Q34 DataFrames into a single DataFrame\n",
        "df_full = pd.concat([df_sales, df_pred])\n",
        "# Extract features and targets from the concatenated Q14 data\n",
        "data_X, data_Y = get_features_and_targets(df_full)\n",
        "### END CODE HERE ###\n",
        "print(f\"Number of unique cars in Q12 and Q34 = {len(data_Y)}\")"
      ],
      "execution_count": 13,
      "outputs": [
        {
          "output_type": "stream",
          "text": [
            "Number of unique cars in Q12 and Q34 = 80\n"
          ],
          "name": "stdout"
        }
      ]
    },
    {
      "cell_type": "markdown",
      "metadata": {
        "id": "AGEXB0mCdnNb"
      },
      "source": [
        "For this section we will utilize set theory. For a refresher to set theory, please follow the video at https://www.youtube.com/watch?v=B1v9OeCTlu0.\n",
        "\n",
        "The following set theory equations are true for any two events $A$ and $B$:\n",
        "\n",
        "$$(A \\cup B) = (A) + (B) -  (A \\cap B)$$\n",
        "$$(A \\cap B) = (A) + (B) -  (A \\cup B)$$\n",
        "$$(A) =  (A \\cap B) +  (A \\cap B^c)$$\n",
        "\n",
        "Use them to determine how many car models were sold in both halves of 2019, how many were discontinued by the second half of the year, and how many were launched in the second half of the year."
      ]
    },
    {
      "cell_type": "code",
      "metadata": {
        "id": "Hewxl1lMf-VF",
        "colab": {
          "base_uri": "https://localhost:8080/"
        },
        "outputId": "db3cb77e-1231-4234-fd0d-a33b239a5cef"
      },
      "source": [
        "### START CODE HERE ###\n",
        "#models_q12_or34 refers to (A Union B), models_q14 refers to (A intersection B)\n",
        "models_q12_or_q34 = len(data_Y)\n",
        "models_q12 = len(train_Y)\n",
        "models_q34 = len(test_Y)\n",
        "models_q14 = models_q12 + models_q34 - models_q12_or_q34\n",
        "discontinued = models_q12 - models_q14\n",
        "launched = models_q34 - models_q14\n",
        "print(f\"{models_q14} models were sold throughout 2019\")\n",
        "print(f\"{discontinued} models were discontinued by the second half of 2019\")\n",
        "print(f\"{launched} models were launched in the second half of 2019\")\n",
        "### END CODE HERE ###"
      ],
      "execution_count": 14,
      "outputs": [
        {
          "output_type": "stream",
          "text": [
            "57 models were sold throughout 2019\n",
            "9 models were discontinued by the second half of 2019\n",
            "14 models were launched in the second half of 2019\n"
          ],
          "name": "stdout"
        }
      ]
    },
    {
      "cell_type": "markdown",
      "metadata": {
        "id": "3qn6SNBNdnNb"
      },
      "source": [
        "# Task II: Visualize the training and test targets any way you see fit"
      ]
    },
    {
      "cell_type": "code",
      "metadata": {
        "id": "RsuuxEqhjD6q",
        "colab": {
          "base_uri": "https://localhost:8080/",
          "height": 265
        },
        "outputId": "e5c34e33-eea5-4e43-88b6-f011eea07b90"
      },
      "source": [
        "# Visualize the training targets\n",
        "### START CODE HERE ###\n",
        "plt.scatter(range(len(train_Y)), train_Y)\n",
        "plt.show()\n",
        "### END CODE HERE ###"
      ],
      "execution_count": 15,
      "outputs": [
        {
          "output_type": "display_data",
          "data": {
            "image/png": "[encoded data removed]",
            "text/plain": [
              "<Figure size 432x288 with 1 Axes>"
            ]
          },
          "metadata": {
            "tags": [],
            "needs_background": "light"
          }
        }
      ]
    },
    {
      "cell_type": "code",
      "metadata": {
        "id": "gyGN9vqLdnNe",
        "colab": {
          "base_uri": "https://localhost:8080/",
          "height": 265
        },
        "outputId": "c2289bde-488f-404a-da03-dc0583000b62"
      },
      "source": [
        "# Visualize the test targets\n",
        "### START CODE HERE ###\n",
        "plt.scatter(range(len(test_Y)), test_Y)\n",
        "plt.show()\n",
        "### END CODE HERE ###"
      ],
      "execution_count": 16,
      "outputs": [
        {
          "output_type": "display_data",
          "data": {
            "image/png": "[encoded data removed]",
            "text/plain": [
              "<Figure size 432x288 with 1 Axes>"
            ]
          },
          "metadata": {
            "tags": [],
            "needs_background": "light"
          }
        }
      ]
    },
    {
      "cell_type": "markdown",
      "metadata": {
        "id": "9g-2fwgydnNh"
      },
      "source": [
        "# Task III: Apply Gradient Descent (Linear, Polynomial)"
      ]
    },
    {
      "cell_type": "markdown",
      "metadata": {
        "id": "fXjeuMN3dnNh"
      },
      "source": [
        "Initialize the $\\theta$ parameters as a column vector of zeros, one for every feature in the training data plus one for bias. \n",
        "\n",
        "Also set hyperparameters for learning rate and maximum number of iterations through the training data."
      ]
    },
    {
      "cell_type": "code",
      "metadata": {
        "id": "bq--V5vSdnNi"
      },
      "source": [
        "# Initialize learned parameters theta and hyperparameters\n",
        "s_theta = np.zeros((train_X.shape[1]+1, 1))\n",
        "s_learning_rate = 0.001\n",
        "s_max_iteration = 1000"
      ],
      "execution_count": 17,
      "outputs": []
    },
    {
      "cell_type": "markdown",
      "metadata": {
        "id": "Lx-wS125dnNk"
      },
      "source": [
        "### Hypothesis Function\n",
        "\n",
        "Define your hypothesis function $h$ (which you use to make predictions $\\hat{Y}$ as the matrix product of your features data X and parameters theta, in that order. \n",
        "\n",
        "Don't forget to add a 0th column of ones to X to account for the bias/offset parameter."
      ]
    },
    {
      "cell_type": "code",
      "metadata": {
        "id": "SI8oTUQsdnNk"
      },
      "source": [
        "# Define your hypothesis function according to the instructions above\n",
        "def h (theta, X) :\n",
        "    ### START CODE HERE ###\n",
        "    tempX = np.ones((X.shape[0], X.shape[1] + 1))\n",
        "    tempX[:,1:] = X\n",
        "    return np.matmul(tempX, theta)\n",
        "    ### END CODE HERE ###"
      ],
      "execution_count": 18,
      "outputs": []
    },
    {
      "cell_type": "markdown",
      "metadata": {
        "id": "7LW5F5uhdnNm"
      },
      "source": [
        "Define your loss function as **half** the MSE (mean squared error) between your actual and predicted Y values. \n",
        "\n",
        "Recall that the predicted Y values are a function of theta and X.\n"
      ]
    },
    {
      "cell_type": "code",
      "metadata": {
        "id": "KzRpZec4dnNm"
      },
      "source": [
        "# Loss Function\n",
        "def loss (theta, X, Y) :\n",
        "    ### START CODE HERE ###\n",
        "    return np.average(np.square(Y - h(theta, X))) / 2\n",
        "    ### END CODE HERE ###"
      ],
      "execution_count": 19,
      "outputs": []
    },
    {
      "cell_type": "markdown",
      "metadata": {
        "id": "PCLgRXivdnNp"
      },
      "source": [
        "### Gradient of Hypothesis Function\n",
        "\n",
        "One can verify through straightforward (if somewhat tedious) multivariable calculus that the gradient of the loss function $J$ with respect to the parameters $\\theta$ is \n",
        "\n",
        "$$ \\frac{\\partial J}{\\partial \\theta} = - \\frac{1}{m} X^T \\cdot (Y - \\hat{Y})$$.\n",
        "\n",
        "Here, $X$ has been augmented with a bias column. \n",
        "\n",
        "Set up a function to compute this gradient."
      ]
    },
    {
      "cell_type": "code",
      "metadata": {
        "id": "3zYnvBa1dnNp"
      },
      "source": [
        "def gradient (theta, X, Y) :\n",
        "    ### START CODE HERE ###\n",
        "    # Create a temporary X array with an added 0th bias column\n",
        "    tempX = np.ones((X.shape[0], X.shape[1] + 1))\n",
        "    tempX[:,1:] = X\n",
        "    # Compute the gradient according to the instructions above\n",
        "    d_theta = - np.dot(tempX.T, Y - h(theta, X)) / X.shape[0]\n",
        "    ### END CODE HERE ###\n",
        "    return d_theta"
      ],
      "execution_count": 20,
      "outputs": []
    },
    {
      "cell_type": "markdown",
      "metadata": {
        "id": "fo-NxmSLdnNr"
      },
      "source": [
        "### Gradient Descent\n",
        "\n",
        "Set up a function to train your linear regression model with gradient descent, i.e. calculate $\\frac{\\partial J}{\\partial \\theta}$ and update $\\theta$. Recall that the general gradient descent update formula is $\\theta := \\theta - \\alpha \\frac{\\partial J}{\\partial \\theta}$. We've provided the skeleton of a stochastic gradient descent function, but you're welcome to experiment with batch and/or minibatch gradient descent. Also recall that the aforementioned gradient descent methods differ in how frequently they calculate $\\frac{\\partial J}{\\partial \\theta}$ and update $\\theta$. "
      ]
    },
    {
      "cell_type": "code",
      "metadata": {
        "id": "g6hbmDgkdnNs"
      },
      "source": [
        "def stochastic_gradient_descent (theta, X, Y, learning_rate, max_iteration, gap) :\n",
        "    ### START CODE HERE ###\n",
        "    # Initialize the cost as an array of zeros, one for each iteration through the dataset\n",
        "    cost = np.zeros(max_iteration)\n",
        "    # Loop over the dataset\n",
        "    for i in range(max_iteration):\n",
        "        # Loop over each row in the dataset\n",
        "        for j in range(X.shape[0]):\n",
        "            # Compute the gradient from the current row in X and the associated Y value\n",
        "            # Make sure that both X and Y are represented as 2D row vectors\n",
        "            d_theta = gradient(theta, X[j:j+1], Y[j:j+1])\n",
        "            # Update theta\n",
        "            theta = theta - learning_rate * d_theta\n",
        "        # Update the cost array for the current iteration\n",
        "        cost[i] = loss(theta, X, Y)\n",
        "    ### END CODE HERE ###\n",
        "        if i % gap == 0 :\n",
        "            print ('iteration : ', i, ' loss : ', loss(theta, X, Y)) \n",
        "    return theta, cost"
      ],
      "execution_count": 21,
      "outputs": []
    },
    {
      "cell_type": "code",
      "metadata": {
        "id": "O084UJ8UdnNt",
        "colab": {
          "base_uri": "https://localhost:8080/"
        },
        "outputId": "72857f3b-e037-4de8-b665-c1f6e1fc4c5f"
      },
      "source": [
        "s_theta, s_cost = stochastic_gradient_descent(s_theta, train_X, train_Y, s_learning_rate, s_max_iteration, 100)"
      ],
      "execution_count": 22,
      "outputs": [
        {
          "output_type": "stream",
          "text": [
            "iteration :  0  loss :  0.00041839119393456784\n",
            "iteration :  100  loss :  0.00037038472727608833\n",
            "iteration :  200  loss :  0.00041178993382498964\n",
            "iteration :  300  loss :  0.00043969108122972637\n",
            "iteration :  400  loss :  0.00045862038870268855\n",
            "iteration :  500  loss :  0.0004719278828012426\n",
            "iteration :  600  loss :  0.000481564820075098\n",
            "iteration :  700  loss :  0.0004886995702462828\n",
            "iteration :  800  loss :  0.0004940725922886578\n",
            "iteration :  900  loss :  0.0004981769823604529\n"
          ],
          "name": "stdout"
        }
      ]
    },
    {
      "cell_type": "markdown",
      "metadata": {
        "id": "B6D2kqejdnNv"
      },
      "source": [
        "### Generate Predictions from Test Data"
      ]
    },
    {
      "cell_type": "code",
      "metadata": {
        "id": "m-u3iTbNdnNw"
      },
      "source": [
        "### START CODE HERE ###\n",
        "GD_P = h(s_theta,test_X)\n",
        "### END CODE HERE ###\n",
        "# Set any negative predictions to 0\n",
        "GD_P[GD_P<0] = 0"
      ],
      "execution_count": 23,
      "outputs": []
    },
    {
      "cell_type": "markdown",
      "metadata": {
        "id": "2ImYOho6dnNy"
      },
      "source": [
        "### Visualize the predicted and actual test labels"
      ]
    },
    {
      "cell_type": "code",
      "metadata": {
        "id": "Ljk24gJ4dnNy",
        "colab": {
          "base_uri": "https://localhost:8080/",
          "height": 282
        },
        "outputId": "08881328-0c7d-4a5e-986f-ce84ed6b9819"
      },
      "source": [
        "plt.scatter(range(len(test_Y)), test_Y,  color='black')\n",
        "plt.scatter(range(len(GD_P)), GD_P, color='blue', linewidth=3)\n",
        "from sklearn.metrics import mean_squared_error as MSE\n",
        "\n",
        "# This function evaluates the R**2 statistic\n",
        "def r2(Yt,Yp):\n",
        "    yhat = Yp                         \n",
        "    ybar = np.sum(Yt)/len(Yt)          \n",
        "    ssreg = np.sum((yhat-ybar)**2)   \n",
        "    sstot = np.sum((Yt - ybar)**2)    \n",
        "    results = ssreg / sstot\n",
        "    return results\n",
        "\n",
        "\n",
        "print(\"Using SGD: MSE = {}, R2 = {}\".format(MSE(test_Y,GD_P), r2(test_Y,GD_P)))"
      ],
      "execution_count": 24,
      "outputs": [
        {
          "output_type": "stream",
          "text": [
            "Using SGD: MSE = 0.00014846072152146746, R2 = 0.9096514635787359\n"
          ],
          "name": "stdout"
        },
        {
          "output_type": "display_data",
          "data": {
            "image/png": "[encoded data removed]",
            "text/plain": [
              "<Figure size 432x288 with 1 Axes>"
            ]
          },
          "metadata": {
            "tags": [],
            "needs_background": "light"
          }
        }
      ]
    },
    {
      "cell_type": "markdown",
      "metadata": {
        "id": "QNFkAA7gdnN0"
      },
      "source": [
        "# Task IV: Normal Equations\n",
        "\n",
        "Since our training dataset isn't very large, let's generate predictions using the normal equations: \n",
        "\n",
        "$$W = (X^T \\cdot X)^{-1} \\cdot X^T \\cdot Y$$ \n",
        "$$\\hat{Y} = W^T \\cdot X$$\n",
        "\n",
        "and see how they compare to the predictions which we obtained from gradient descent."
      ]
    },
    {
      "cell_type": "code",
      "metadata": {
        "id": "ez7XC2qQdnN1"
      },
      "source": [
        "from numpy.linalg import pinv\n",
        "\n",
        "### START CODE HERE ###\n",
        "# Compute the inverse of the matrix product of the transpose of X and X\n",
        "# Adding bias for trainX\n",
        "temp_trainX = np.ones((train_X.shape[0], train_X.shape[1] + 1))\n",
        "temp_trainX[:,1:] = train_X\n",
        "\n",
        "inv1 = pinv(np.dot(temp_trainX.T, temp_trainX))\n",
        "# Compute W using the first of the Normal Equations\n",
        "W1 = np.dot(np.dot(inv1, temp_trainX.T), train_Y)\n",
        "# Compute the predicted Y values using the second of the Normal Equations\n",
        "\n",
        "# Adding bias for test_X\n",
        "temp_testX = np.ones((test_X.shape[0], test_X.shape[1] + 1))\n",
        "temp_testX[:,1:] = test_X\n",
        "\n",
        "PN1 = np.array(np.dot(W1, temp_testX.T).T)\n",
        "### END CODE HERE ###\n",
        "\n",
        "# Set any negative predictions to 0\n",
        "PN1[np.where(PN1<0)]=0"
      ],
      "execution_count": 25,
      "outputs": []
    },
    {
      "cell_type": "code",
      "metadata": {
        "scrolled": true,
        "id": "lu9NjgsJdnN3",
        "colab": {
          "base_uri": "https://localhost:8080/",
          "height": 282
        },
        "outputId": "889a9b52-98cc-4aeb-d8f3-8427eef32e49"
      },
      "source": [
        "# Plot outputs\n",
        "plt.scatter(range(len(test_Y)), test_Y,  color='black')\n",
        "plt.scatter(range(len(PN1)), PN1, color='blue', linewidth=3)\n",
        "print(\"RMSE, R2 for prediction all features =\", MSE(test_Y,PN1), r2(test_Y,PN1)) #[Low error high corr]"
      ],
      "execution_count": 26,
      "outputs": [
        {
          "output_type": "stream",
          "text": [
            "RMSE, R2 for prediction all features = 0.00017997774939246966 1.039993187906375\n"
          ],
          "name": "stdout"
        },
        {
          "output_type": "display_data",
          "data": {
            "image/png": "[encoded data removed]",
            "text/plain": [
              "<Figure size 432x288 with 1 Axes>"
            ]
          },
          "metadata": {
            "tags": [],
            "needs_background": "light"
          }
        }
      ]
    },
    {
      "cell_type": "markdown",
      "metadata": {
        "id": "i3ofJxdUdnN6"
      },
      "source": [
        "### Regularized Normal Equations"
      ]
    },
    {
      "cell_type": "code",
      "metadata": {
        "id": "VyIX4LaAdnN6",
        "colab": {
          "base_uri": "https://localhost:8080/"
        },
        "outputId": "c2a2cec5-ffc6-404d-c8ba-0352d7086088"
      },
      "source": [
        "print('Recall that our training features array train_X has')\n",
        "print(f'm = {train_X.shape[0]} rows and n = {train_X.shape[1]} columns')"
      ],
      "execution_count": 27,
      "outputs": [
        {
          "output_type": "stream",
          "text": [
            "Recall that our training features array train_X has\n",
            "m = 66 rows and n = 74 columns\n"
          ],
          "name": "stdout"
        }
      ]
    },
    {
      "cell_type": "markdown",
      "metadata": {
        "id": "BSvkrQ6EdnN8"
      },
      "source": [
        "`train_X` is thus wider than it is tall, which suggests that the regularized normal equations might perform better in generating label predictions. In this case, we modify the first of the normal equations given above to \n",
        "\n",
        "$$W = (X^T \\cdot X + \\lambda m I)^{-1} \\cdot X^T \\cdot Y$$.\n",
        "\n",
        "Here, $\\lambda$ is the regularization parameter and $m$ is the number of rows in $X$."
      ]
    },
    {
      "cell_type": "markdown",
      "metadata": {
        "id": "7Mgd1zocdnN9"
      },
      "source": [
        "### Repeat the previous parts of Task IV, but this time incorporate regularization"
      ]
    },
    {
      "cell_type": "code",
      "metadata": {
        "id": "bIrbJkOydnN9",
        "colab": {
          "base_uri": "https://localhost:8080/",
          "height": 282
        },
        "outputId": "063f4ba3-e922-448c-c876-cd958b96a994"
      },
      "source": [
        "from numpy.linalg import inv\n",
        "### START CODE HERE ###\n",
        "\n",
        "m = train_X.shape[0]\n",
        "\n",
        "# add bias\n",
        "temp_trainX = np.ones((train_X.shape[0], train_X.shape[1] + 1))\n",
        "temp_trainX[:,1:] = train_X\n",
        "\n",
        "# matrix with zeroth index as 0\n",
        "idm = np.identity(train_X.shape[1]+1)\n",
        "# as per Andrews Lecture, this should not be identity matrix.\n",
        "# 0th index should be 0\n",
        "idm[0,0] = 0  \n",
        "\n",
        "# lambda > 0\n",
        "lam = 0.01\n",
        "\n",
        "inv1 = inv(np.dot(temp_trainX.T, temp_trainX) + lam * m * idm)\n",
        "\n",
        "W1 = np.dot(np.dot(inv1, temp_trainX.T), train_Y)\n",
        "# Compute the predicted Y values using the second of the Normal Equations\n",
        "\n",
        "# Adding bias for test_X\n",
        "temp_testX = np.ones((test_X.shape[0], test_X.shape[1] + 1))\n",
        "temp_testX[:,1:] = test_X\n",
        "\n",
        "PN2 = np.array(np.dot(W1, temp_testX.T).T)\n",
        "\n",
        "# Set any negative predictions to 0\n",
        "PN2[np.where(PN1<0)]=0\n",
        "\n",
        "# Plot outputs\n",
        "plt.scatter(range(len(test_Y)), test_Y,  color='black')\n",
        "plt.scatter(range(len(PN2)), PN2, color='blue', linewidth=3)\n",
        "print(\"RMSE, R2 for using normal equation with Regularizatino =\", MSE(test_Y,PN2), r2(test_Y,PN2)) #[Low error high corr]\n",
        "\n",
        "### END CODE HERE ###"
      ],
      "execution_count": 28,
      "outputs": [
        {
          "output_type": "stream",
          "text": [
            "RMSE, R2 for using normal equation with Regularizatino = 0.00016043146950631002 0.8603090907710285\n"
          ],
          "name": "stdout"
        },
        {
          "output_type": "display_data",
          "data": {
            "image/png": "[encoded data removed]",
            "text/plain": [
              "<Figure size 432x288 with 1 Axes>"
            ]
          },
          "metadata": {
            "tags": [],
            "needs_background": "light"
          }
        }
      ]
    },
    {
      "cell_type": "markdown",
      "metadata": {
        "id": "o5uD0DVidnN_"
      },
      "source": [
        "# Task V: Non-linear Regression Models (GLM, DT) "
      ]
    },
    {
      "cell_type": "markdown",
      "metadata": {
        "id": "Yk0Be7SQdnN_"
      },
      "source": [
        "### Generalized Linear Models\n",
        "\n",
        "`sm` (our alias for `statsmodels.api`) contains a `GLM` class. Use it to instantiate a model. The relevant parameters are training labels, training features, and `ffamily`, i.e. the family of distributions to which we assume our prediction errors belong. Some potentially good choices for `ffamily` include Gaussian, Gamma, and Logit."
      ]
    },
    {
      "cell_type": "code",
      "metadata": {
        "id": "cxUdD_LhdnN_",
        "colab": {
          "base_uri": "https://localhost:8080/"
        },
        "outputId": "0734a3ec-dee8-4040-fbeb-fe02607c4cfb"
      },
      "source": [
        "# GLM \n",
        "import statsmodels.api as sm\n",
        "### START CODE HERE ###\n",
        "# Instantiate the GLM\n",
        "glm_gamma = sm.GLM(train_Y, train_X, family=sm.families.Gaussian())\n",
        "# Train the GLM\n",
        "glm_results = glm_gamma.fit()\n",
        "### END CODE HERE ###\n",
        "print(glm_results.summary())"
      ],
      "execution_count": 62,
      "outputs": [
        {
          "output_type": "stream",
          "text": [
            "                 Generalized Linear Model Regression Results                  \n",
            "==============================================================================\n",
            "Dep. Variable:                      y   No. Observations:                   66\n",
            "Model:                            GLM   Df Residuals:                       34\n",
            "Model Family:                Gaussian   Df Model:                           31\n",
            "Link Function:               identity   Scale:                      0.00050858\n",
            "Method:                          IRLS   Log-Likelihood:                 178.51\n",
            "Date:                Mon, 31 May 2021   Deviance:                     0.017292\n",
            "Time:                        13:51:53   Pearson chi2:                   0.0173\n",
            "No. Iterations:                     3                                         \n",
            "Covariance Type:            nonrobust                                         \n",
            "==============================================================================\n",
            "                 coef    std err          z      P>|z|      [0.025      0.975]\n",
            "------------------------------------------------------------------------------\n",
            "const        -7.3e-18   5.94e-18     -1.228      0.219   -1.89e-17    4.35e-18\n",
            "x1          9.874e-18   6.25e-17      0.158      0.874   -1.13e-16    1.32e-16\n",
            "x2            -0.0019      0.032     -0.060      0.952      -0.065       0.061\n",
            "x3            -0.0008      0.045     -0.019      0.985      -0.089       0.088\n",
            "x4            -0.0091      0.016     -0.574      0.566      -0.040       0.022\n",
            "x5             0.0167      0.014      1.227      0.220      -0.010       0.043\n",
            "x6            -0.0115      0.019     -0.613      0.540      -0.048       0.025\n",
            "x7          1.106e-17   2.17e-17      0.509      0.611   -3.15e-17    5.37e-17\n",
            "x8            -0.0095      0.026     -0.372      0.710      -0.060       0.041\n",
            "x9            -0.0064      0.017     -0.369      0.712      -0.041       0.028\n",
            "x10           -0.0052      0.020     -0.259      0.795      -0.045       0.034\n",
            "x11           -0.0033      0.018     -0.181      0.857      -0.040       0.033\n",
            "x12            0.0217      0.016      1.338      0.181      -0.010       0.054\n",
            "x13           -0.0059      0.023     -0.264      0.792      -0.050       0.038\n",
            "x14         1.089e-17   2.85e-17      0.382      0.703    -4.5e-17    6.68e-17\n",
            "x15         2.396e-18   9.11e-18      0.263      0.792   -1.55e-17    2.02e-17\n",
            "x16            0.0117      0.011      1.019      0.308      -0.011       0.034\n",
            "x17            0.0220      0.013      1.666      0.096      -0.004       0.048\n",
            "x18        -5.217e-18   5.65e-18     -0.924      0.356   -1.63e-17    5.85e-18\n",
            "x19        -1.912e-18   6.43e-18     -0.297      0.766   -1.45e-17    1.07e-17\n",
            "x20        -2.093e-18   3.03e-18     -0.690      0.490   -8.04e-18    3.85e-18\n",
            "x21           -0.0110      0.019     -0.585      0.559      -0.048       0.026\n",
            "x22         5.425e-18   4.04e-18      1.344      0.179   -2.49e-18    1.33e-17\n",
            "x23           -0.0097      0.022     -0.447      0.655      -0.052       0.033\n",
            "x24         2.812e-20   2.42e-18      0.012      0.991   -4.71e-18    4.77e-18\n",
            "x25         1.079e-18   2.81e-18      0.384      0.701   -4.43e-18    6.59e-18\n",
            "x26        -7.319e-18   3.16e-18     -2.319      0.020   -1.35e-17   -1.13e-18\n",
            "x27         8.599e-20   2.33e-18      0.037      0.971   -4.48e-18    4.65e-18\n",
            "x28        -8.043e-19   3.43e-18     -0.235      0.815   -7.53e-18    5.92e-18\n",
            "x29         1.025e-19   3.72e-18      0.028      0.978   -7.19e-18     7.4e-18\n",
            "x30            0.0004      0.026      0.014      0.989      -0.051       0.051\n",
            "x31           -0.0065      0.020     -0.318      0.751      -0.046       0.034\n",
            "x32           -0.0082      0.014     -0.583      0.560      -0.036       0.019\n",
            "x33           -0.0013      0.008     -0.153      0.878      -0.017       0.015\n",
            "x34                 0          0        nan        nan           0           0\n",
            "x35                 0          0        nan        nan           0           0\n",
            "x36                 0          0        nan        nan           0           0\n",
            "x37           -0.0103      0.010     -1.043      0.297      -0.030       0.009\n",
            "x38                 0          0        nan        nan           0           0\n",
            "x39                 0          0        nan        nan           0           0\n",
            "x40           -0.0111      0.027     -0.414      0.679      -0.063       0.041\n",
            "x41                 0          0        nan        nan           0           0\n",
            "x42           -0.0263      0.010     -2.641      0.008      -0.046      -0.007\n",
            "x43           -0.0252      0.022     -1.154      0.248      -0.068       0.018\n",
            "x44                 0          0        nan        nan           0           0\n",
            "x45            0.0006      0.017      0.037      0.970      -0.033       0.034\n",
            "x46           -0.0098      0.020     -0.494      0.621      -0.049       0.029\n",
            "x47           -0.0018      0.025     -0.074      0.941      -0.050       0.047\n",
            "x48                 0          0        nan        nan           0           0\n",
            "x49           -0.0122      0.018     -0.672      0.501      -0.048       0.023\n",
            "x50           -0.0071      0.014     -0.523      0.601      -0.034       0.019\n",
            "x51           -0.0105      0.013     -0.800      0.424      -0.036       0.015\n",
            "x52            0.0504      0.025      2.016      0.044       0.001       0.099\n",
            "x53            0.0599      0.028      2.150      0.032       0.005       0.114\n",
            "x54                 0          0        nan        nan           0           0\n",
            "x55                 0          0        nan        nan           0           0\n",
            "x56                 0          0        nan        nan           0           0\n",
            "x57                 0          0        nan        nan           0           0\n",
            "x58                 0          0        nan        nan           0           0\n",
            "x59           -0.0178      0.030     -0.586      0.558      -0.077       0.042\n",
            "x60                 0          0        nan        nan           0           0\n",
            "x61                 0          0        nan        nan           0           0\n",
            "x62                 0          0        nan        nan           0           0\n",
            "x63           -0.0082      0.014     -0.583      0.560      -0.036       0.019\n",
            "x64                 0          0        nan        nan           0           0\n",
            "x65                 0          0        nan        nan           0           0\n",
            "x66           -0.0144      0.012     -1.212      0.226      -0.038       0.009\n",
            "x67            0.0096      0.026      0.375      0.708      -0.041       0.060\n",
            "x68           -0.0097      0.022     -0.447      0.655      -0.052       0.033\n",
            "x69                 0          0        nan        nan           0           0\n",
            "x70           -0.0246      0.019     -1.309      0.190      -0.061       0.012\n",
            "x71                 0          0        nan        nan           0           0\n",
            "x72                 0          0        nan        nan           0           0\n",
            "x73            0.0338      0.034      0.983      0.325      -0.034       0.101\n",
            "==============================================================================\n"
          ],
          "name": "stdout"
        },
        {
          "output_type": "stream",
          "text": [
            "/usr/local/lib/python3.7/dist-packages/statsmodels/base/model.py:1294: RuntimeWarning: invalid value encountered in true_divide\n",
            "  return self.params / self.bse\n"
          ],
          "name": "stderr"
        }
      ]
    },
    {
      "cell_type": "markdown",
      "metadata": {
        "id": "7IAchWHodnOB"
      },
      "source": [
        "### Generate predictions from the test data"
      ]
    },
    {
      "cell_type": "code",
      "metadata": {
        "id": "XLTsITX7dnOC"
      },
      "source": [
        "### START CODE HERE ###\n",
        "G_P = glm_gamma.predict(glm_results.params, test_X)\n",
        "### END CODE HERE ###\n",
        "# Set any negative predictions to 0\n",
        "G_P[G_P<0]=0"
      ],
      "execution_count": 63,
      "outputs": []
    },
    {
      "cell_type": "code",
      "metadata": {
        "id": "TgXIT-JpdnOE",
        "colab": {
          "base_uri": "https://localhost:8080/",
          "height": 282
        },
        "outputId": "793d9be9-033e-47b7-caab-aefd0d072232"
      },
      "source": [
        "# Plot outputs\n",
        "plt.scatter(range(len(test_Y)), test_Y,  color='black')\n",
        "plt.scatter(range(len(G_P)), G_P, color='blue', linewidth=3)\n",
        "print(\"RMSE, R2 for GLM=\", MSE(test_Y,G_P), r2(test_Y,G_P)) "
      ],
      "execution_count": 64,
      "outputs": [
        {
          "output_type": "stream",
          "text": [
            "RMSE, R2 for GLM= 0.000181426449801964 1.0426719372109274\n"
          ],
          "name": "stdout"
        },
        {
          "output_type": "display_data",
          "data": {
            "image/png": "[encoded data removed]",
            "text/plain": [
              "<Figure size 432x288 with 1 Axes>"
            ]
          },
          "metadata": {
            "tags": [],
            "needs_background": "light"
          }
        }
      ]
    },
    {
      "cell_type": "markdown",
      "metadata": {
        "id": "Vld0rNUcdnOG"
      },
      "source": [
        "### Random Forest Regression\n",
        "\n",
        "Use the `RandomForestRegressor` from `sklearn.ensemble` to generate predictions. The relevant parameters are the `max_depth` of the trees and the `random_state`, to ensure reproducibility."
      ]
    },
    {
      "cell_type": "code",
      "metadata": {
        "id": "EbxRUm3UdnOG"
      },
      "source": [
        "### START CODE HERE ###\n",
        "from sklearn.ensemble import RandomForestRegressor\n",
        "# Instantiate the random forest regression model\n",
        "regr = RandomForestRegressor(max_depth=10, random_state=0)\n",
        "# Train the model\n",
        "regr.fit(train_X, train_Y)\n",
        "# Generate predictions from the test data\n",
        "pred_rf = regr.predict(test_X)\n",
        "### END CODE HERE ###"
      ],
      "execution_count": 32,
      "outputs": []
    },
    {
      "cell_type": "code",
      "metadata": {
        "id": "bWVeR1PvdnOI"
      },
      "source": [
        "# Set any negative predictions to 0\n",
        "pred_rf[np.where(pred_rf<0)]=0"
      ],
      "execution_count": 33,
      "outputs": []
    },
    {
      "cell_type": "code",
      "metadata": {
        "id": "YSZX9t1MdnOK",
        "colab": {
          "base_uri": "https://localhost:8080/",
          "height": 282
        },
        "outputId": "d9e2c30b-15df-40b7-d74a-bc3ae4e312a6"
      },
      "source": [
        "# Plot outputs\n",
        "plt.scatter(range(len(test_Y)), test_Y,  color='black')\n",
        "plt.scatter(range(len(pred_rf)), pred_rf, color='blue', linewidth=3)\n",
        "print(\"RMSE, R2 for Decision Trees=\", MSE(test_Y,pred_rf), r2(test_Y,pred_rf)) #[Low error high corr]"
      ],
      "execution_count": 34,
      "outputs": [
        {
          "output_type": "stream",
          "text": [
            "RMSE, R2 for Decision Trees= 0.00015440700358590402 0.5928663804205114\n"
          ],
          "name": "stdout"
        },
        {
          "output_type": "display_data",
          "data": {
            "image/png": "[encoded data removed]",
            "text/plain": [
              "<Figure size 432x288 with 1 Axes>"
            ]
          },
          "metadata": {
            "tags": [],
            "needs_background": "light"
          }
        }
      ]
    },
    {
      "cell_type": "markdown",
      "metadata": {
        "id": "bxx1JrikdnON"
      },
      "source": [
        "## Populate the table below with the results of your experiments above. Which models performed best?"
      ]
    },
    {
      "cell_type": "markdown",
      "metadata": {
        "id": "II-aBk_9cXgZ"
      },
      "source": [
        "## Results\n",
        "---\n",
        "\n",
        "| Method | MSE | R2 |\n",
        "|--|--|--|\n",
        "| Gradient Descent | 0.00014 | 0.90965 |\n",
        "| Normal Equations | 0.00017 | 1.03999 |\n",
        "| Regularized Normal Equations | 0.00016 | 0.86030 | \n",
        "| GLM | 0.00018 | 1.04267 |\n",
        "| Descision Trees | 0.00015 | 0.59286 | "
      ]
    },
    {
      "cell_type": "markdown",
      "metadata": {
        "id": "n_HoMbxTdnOO"
      },
      "source": [
        "## Finally, pick some car types for which your models over- and under-predicted sales. Attempt to determine the root causes. Write your findings below."
      ]
    },
    {
      "cell_type": "code",
      "metadata": {
        "id": "CTFsdRmngzIW"
      },
      "source": [
        "def get_predicted_car_types(prediction):\n",
        "  final_pred = pd.DataFrame(test_X, columns=df_pred.columns).merge(pd.DataFrame(prediction, columns=['predicted_sales']), \n",
        "                                                      left_index=True, right_index=True)\n",
        "  final_pred = final_pred.sort_values(by='predicted_sales', ascending=False)\n",
        "  print(\"== Top 5 car types which might have high predictions == \")\n",
        "  for i in final_pred.head().index:\n",
        "    high_predict = final_pred.loc[[i]]\n",
        "    car_type = \"+\".join(high_predict[high_predict.eq(1.0)].dropna(axis=1).columns.tolist())\n",
        "    print(car_type, high_predict['predicted_sales'].tolist()[0])\n",
        "  print(\"\\n == Bottom 5 car types which might have high predictions == \")\n",
        "  \n",
        "  for i in final_pred.tail().index:\n",
        "    low_predict = final_pred.loc[[i]]\n",
        "    car_type = \"+\".join(low_predict[low_predict.eq(1.0)].dropna(axis=1).columns.tolist())\n",
        "    print(car_type, low_predict['predicted_sales'].tolist()[0])\n"
      ],
      "execution_count": 51,
      "outputs": []
    },
    {
      "cell_type": "code",
      "metadata": {
        "colab": {
          "base_uri": "https://localhost:8080/"
        },
        "id": "97KtxBxJpOJZ",
        "outputId": "8f351150-7c44-4588-9e50-e2f3293dd181"
      },
      "source": [
        "# Gradient Descent\n",
        "get_predicted_car_types(GD_P)"
      ],
      "execution_count": 52,
      "outputs": [
        {
          "output_type": "stream",
          "text": [
            "== Top 5 car types which might have high predictions == \n",
            "main_type_P85D+engine_Q+sales_11 0.07116383084579286\n",
            "main_type_P85D+sales_10 0.06302135383465159\n",
            "main_type_P85D+engine_Q+sales_10 0.06199087020064412\n",
            "main_type_S100D+engine_A+sales_8 0.0539193288518485\n",
            "main_type_P85D+engine_Z+sales_11 0.04738178235944425\n",
            "\n",
            " == Bottom 5 car types which might have high predictions == \n",
            "main_type_S85P+engine_Z+sales_1 0.0\n",
            "main_type_S70+engine_Z+sales_24 0.0\n",
            "main_type_S85P+engine_Z+sales_28 0.0\n",
            "main_type_S80+engine_Q+sales_24 0.0\n",
            "main_type_S80D+engine_Q+sales_17 0.0\n"
          ],
          "name": "stdout"
        }
      ]
    },
    {
      "cell_type": "code",
      "metadata": {
        "colab": {
          "base_uri": "https://localhost:8080/"
        },
        "id": "naAaSHKGpW6M",
        "outputId": "35ad507e-29d5-49ec-8f06-806f086ae585"
      },
      "source": [
        "# Normal Equation\n",
        "get_predicted_car_types(PN1)"
      ],
      "execution_count": 53,
      "outputs": [
        {
          "output_type": "stream",
          "text": [
            "== Top 5 car types which might have high predictions == \n",
            "main_type_P85D+engine_Q+sales_11 0.08021711289344446\n",
            "main_type_P85D+sales_10 0.06793004739862546\n",
            "main_type_P85D+engine_Q+sales_10 0.06282262730186808\n",
            "main_type_P85D+engine_Z+sales_11 0.05444539554085283\n",
            "main_type_S100D+engine_A+sales_8 0.05220822418314537\n",
            "\n",
            " == Bottom 5 car types which might have high predictions == \n",
            "main_type_S70D+sales_9 0.0\n",
            "main_type_P85D+engine_Z+sales_30 0.0\n",
            "main_type_S80+engine_Q+sales_24 0.0\n",
            "main_type_S80D+engine_Q+sales_17 0.0\n",
            "main_type_S80+engine_Q+sales_9 0.0\n"
          ],
          "name": "stdout"
        }
      ]
    },
    {
      "cell_type": "code",
      "metadata": {
        "colab": {
          "base_uri": "https://localhost:8080/"
        },
        "id": "8iuPA7Zypfum",
        "outputId": "aed1e730-2a82-46c7-a6ac-4ffa83951a8b"
      },
      "source": [
        "# Normal Equation with regularization\n",
        "get_predicted_car_types(PN2)"
      ],
      "execution_count": 66,
      "outputs": [
        {
          "output_type": "stream",
          "text": [
            "== Top 5 car types which might have high predictions == \n",
            "main_type_P85D+engine_Q+sales_11 0.06618339781054704\n",
            "main_type_P85D+sales_10 0.058360605320530355\n",
            "main_type_P85D+engine_Q+sales_10 0.05786388230967863\n",
            "main_type_S100D+engine_A+sales_8 0.04968433281931865\n",
            "main_type_P85D+engine_Z+sales_11 0.04447515983900938\n",
            "\n",
            " == Bottom 5 car types which might have high predictions == \n",
            "main_type_S70D+sales_24 -0.002322750286879902\n",
            "main_type_S70+engine_Z+sales_24 -0.002697683155140823\n",
            "main_type_S70D+engine_Q+sales_24 -0.005746043410334169\n",
            "main_type_S85+engine_Z+sales_9 -0.018242225172773345\n",
            "main_type_S85+engine_Z+sales_24 -0.023408680992694005\n"
          ],
          "name": "stdout"
        }
      ]
    },
    {
      "cell_type": "code",
      "metadata": {
        "colab": {
          "base_uri": "https://localhost:8080/"
        },
        "id": "G8DmCwrmp1WQ",
        "outputId": "3527aeed-fdd8-4743-a2bf-89940f3fccbb"
      },
      "source": [
        "# Normal Equation with GLM\n",
        "get_predicted_car_types(G_P)"
      ],
      "execution_count": 65,
      "outputs": [
        {
          "output_type": "stream",
          "text": [
            "== Top 5 car types which might have high predictions == \n",
            "main_type_P85D+engine_Q+sales_11 0.080217112893444\n",
            "main_type_P85D+sales_10 0.06793004739862506\n",
            "main_type_P85D+engine_Q+sales_10 0.06282262730186777\n",
            "main_type_P85D+engine_Z+sales_11 0.05444539554085244\n",
            "main_type_S100D+engine_A+sales_8 0.052208224183144955\n",
            "\n",
            " == Bottom 5 car types which might have high predictions == \n",
            "main_type_S85+engine_X+sales_9 0.0\n",
            "main_type_P85D+engine_Z+sales_30 0.0\n",
            "main_type_S80+engine_Q+sales_24 0.0\n",
            "main_type_S85P+engine_Z+sales_28 0.0\n",
            "main_type_S70D+sales_9 0.0\n"
          ],
          "name": "stdout"
        }
      ]
    },
    {
      "cell_type": "code",
      "metadata": {
        "colab": {
          "base_uri": "https://localhost:8080/"
        },
        "id": "FnZP-8X_naVn",
        "outputId": "ae171e27-6eef-4fe6-f297-287f27132a96"
      },
      "source": [
        "# Random Forest\n",
        "get_predicted_car_types(pred_rf)"
      ],
      "execution_count": 56,
      "outputs": [
        {
          "output_type": "stream",
          "text": [
            "== Top 5 car types which might have high predictions == \n",
            "main_type_P85D+engine_Q+sales_11 0.07260302649545206\n",
            "main_type_P85D+engine_Q+sales_10 0.056429815152846105\n",
            "main_type_S100D+engine_A+sales_8 0.048089067824034416\n",
            "main_type_S100D+engine_A+sales_24 0.04370987760074621\n",
            "main_type_P85D+sales_10 0.040239582346800404\n",
            "\n",
            " == Bottom 5 car types which might have high predictions == \n",
            "main_type_S80+engine_Q+sales_9 0.0019653707288655965\n",
            "main_type_S85+engine_Q+sales_9 0.0019336345524642463\n",
            "main_type_S85+engine_X+sales_9 0.0019077217825520835\n",
            "main_type_S70D+sales_9 0.001723664141077431\n",
            "main_type_S80+engine_Q+sales_24 0.0015160876885795108\n"
          ],
          "name": "stdout"
        }
      ]
    },
    {
      "cell_type": "markdown",
      "metadata": {
        "id": "WddJkKQgdnOO"
      },
      "source": [
        "All models predicted that in Q3-Q4, there would be \n",
        "- high sales of cars with car type `P85D` with Engine `Q` and sales version `11` & `10`. \n",
        "- low sales of cars with car type `S80` and `S85` with Engine `Q` and sales version `9` and `24`.\n",
        "\n",
        "\n"
      ]
    }
  ]
}