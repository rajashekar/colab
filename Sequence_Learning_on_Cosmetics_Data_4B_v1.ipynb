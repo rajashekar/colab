{
  "nbformat": 4,
  "nbformat_minor": 0,
  "metadata": {
    "kernelspec": {
      "display_name": "Python 3",
      "language": "python",
      "name": "python3"
    },
    "language_info": {
      "codemirror_mode": {
        "name": "ipython",
        "version": 3
      },
      "file_extension": ".py",
      "mimetype": "text/x-python",
      "name": "python",
      "nbconvert_exporter": "python",
      "pygments_lexer": "ipython3",
      "version": "3.7.7"
    },
    "colab": {
      "name": "Sequence_Learning_on_Cosmetics_Data_4B_v1.ipynb",
      "provenance": [],
      "collapsed_sections": [],
      "include_colab_link": true
    },
    "accelerator": "GPU"
  },
  "cells": [
    {
      "cell_type": "markdown",
      "metadata": {
        "id": "view-in-github",
        "colab_type": "text"
      },
      "source": [
        "<a href=\"https://colab.research.google.com/github/rajashekar/colab/blob/main/Sequence_Learning_on_Cosmetics_Data_4B_v1.ipynb\" target=\"_parent\"><img src=\"https://colab.research.google.com/assets/colab-badge.svg\" alt=\"Open In Colab\"/></a>"
      ]
    },
    {
      "cell_type": "markdown",
      "metadata": {
        "id": "tyN5gj274OgN"
      },
      "source": [
        "# Today you are MLE at the Personalization Department in Macy's cosmetics!\n",
        "Your goal is to predict outcomes of online browsing sessions through session-level-features or seqeunce of page visits to predict if teh next sequence of events/session outcome will be a purchase or not. Working off session level data is definitely more erroneous than on a journey level, but it provides the opportunity to initiate nudge models/coupons to help personalize at each session level.\n",
        "\n",
        "Models used in this assignment are similar to https://github.com/guillaume-chevalier/seq2seq-signal-prediction/blob/master/seq2seq.ipynb\n",
        "\n",
        "## You have two major tasks today:\n",
        "\n",
        "\n",
        "1.   To process raw session level data to generate sequence data/sequence models.\n",
        "2.   Compare performance of sequence models with session-feature level models.\n",
        "\n",
        "## Your manager needs your help to answer the following question: \n",
        "Which is the better strategy for session level predictions that lead to presonalization: page visit sequences (less complexity for data pre-process) or session-level features (more data heavy process)?\n",
        "\n"
      ]
    },
    {
      "cell_type": "markdown",
      "metadata": {
        "id": "G72VpQoe9qyi"
      },
      "source": [
        "# Task 0: Getting familiar with the Data!"
      ]
    },
    {
      "cell_type": "code",
      "metadata": {
        "colab": {
          "base_uri": "https://localhost:8080/"
        },
        "id": "qLLIlcrdvmw1",
        "outputId": "a3391d9c-edfd-4262-a7a1-809f7204c2cb"
      },
      "source": [
        "#Mount the RAW session level data: shopping.pkl\n",
        "from google.colab import drive\n",
        "drive.mount('/content/drive')"
      ],
      "execution_count": 1,
      "outputs": [
        {
          "output_type": "stream",
          "text": [
            "Mounted at /content/drive\n"
          ],
          "name": "stdout"
        }
      ]
    },
    {
      "cell_type": "code",
      "metadata": {
        "colab": {
          "base_uri": "https://localhost:8080/"
        },
        "id": "WAONzjqZnF0R",
        "outputId": "43f2a6fc-d989-4f40-fb97-ddbf7a78ef3d"
      },
      "source": [
        "%cd /content/drive/MyDrive/Colab/Fourth.Brain/Sequence_Learning/"
      ],
      "execution_count": 2,
      "outputs": [
        {
          "output_type": "stream",
          "text": [
            "/content/drive/MyDrive/Colab/Fourth.Brain/Sequence_Learning\n"
          ],
          "name": "stdout"
        }
      ]
    },
    {
      "cell_type": "code",
      "metadata": {
        "colab": {
          "base_uri": "https://localhost:8080/"
        },
        "id": "vClE11tGnYUr",
        "outputId": "b51cc78e-0886-4c3c-f44d-630f755389dd"
      },
      "source": [
        "%ls"
      ],
      "execution_count": 3,
      "outputs": [
        {
          "output_type": "stream",
          "text": [
            "Flask-Tutorial-master.zip                        Sequence_Models.zip\n",
            "Sequence_Learning_on_Cosmetics_Data_4B_v1.ipynb\n"
          ],
          "name": "stdout"
        }
      ]
    },
    {
      "cell_type": "code",
      "metadata": {
        "colab": {
          "base_uri": "https://localhost:8080/"
        },
        "id": "3im_JEFZoKOA",
        "outputId": "bcce104a-162f-4cde-f337-bad275d4915f"
      },
      "source": [
        "!unzip Sequence_Models.zip"
      ],
      "execution_count": 6,
      "outputs": [
        {
          "output_type": "stream",
          "text": [
            "Archive:  Sequence_Models.zip\n",
            "  inflating: Sequence_Models/Session_features.pkl  \n",
            "  inflating: Sequence_Models/shopping.pkl  \n"
          ],
          "name": "stdout"
        }
      ]
    },
    {
      "cell_type": "code",
      "metadata": {
        "colab": {
          "base_uri": "https://localhost:8080/"
        },
        "id": "suaLXdkkwBzy",
        "outputId": "0f5b629e-887e-4510-dbf7-628df9735bcd"
      },
      "source": [
        "import os\n",
        "# The path below should point to the directory containing this notebook and the associated utility files\n",
        "# Change it if necessary\n",
        "os.chdir('/content/drive/MyDrive/Sequence_Models/')\n",
        "!ls"
      ],
      "execution_count": null,
      "outputs": [
        {
          "output_type": "stream",
          "text": [
            "Session_features.pkl  shopping.pkl\n"
          ],
          "name": "stdout"
        }
      ]
    },
    {
      "cell_type": "code",
      "metadata": {
        "id": "Qbh2P_qs9i1_"
      },
      "source": [
        "# Import all libraries\n",
        "import numpy as np\n",
        "import pandas as pd\n",
        "from sklearn.preprocessing import OneHotEncoder\n",
        "from keras.models import Sequential\n",
        "from keras.layers import Dense\n",
        "from keras.layers import LSTM\n",
        "from keras.layers import Flatten\n",
        "from sklearn.preprocessing import MinMaxScaler\n",
        "from sklearn.metrics import mean_squared_error\n",
        "from matplotlib import pyplot\n",
        "from keras.layers import Bidirectional\n",
        "from keras.layers import TimeDistributed"
      ],
      "execution_count": 4,
      "outputs": []
    },
    {
      "cell_type": "code",
      "metadata": {
        "id": "S5UdJL8sP6fz",
        "colab": {
          "base_uri": "https://localhost:8080/",
          "height": 306
        },
        "outputId": "f0985717-284c-4f53-eaee-707fe7860e2a"
      },
      "source": [
        "#Read and look at the RAW data\n",
        "data = pd.read_pickle('Sequence_Models/shopping.pkl')\n",
        "print('Shape of data=', data.shape)\n",
        "data.head()"
      ],
      "execution_count": 88,
      "outputs": [
        {
          "output_type": "stream",
          "text": [
            "Shape of data= (1500000, 12)\n"
          ],
          "name": "stdout"
        },
        {
          "output_type": "execute_result",
          "data": {
            "text/html": [
              "<div>\n",
              "<style scoped>\n",
              "    .dataframe tbody tr th:only-of-type {\n",
              "        vertical-align: middle;\n",
              "    }\n",
              "\n",
              "    .dataframe tbody tr th {\n",
              "        vertical-align: top;\n",
              "    }\n",
              "\n",
              "    .dataframe thead th {\n",
              "        text-align: right;\n",
              "    }\n",
              "</style>\n",
              "<table border=\"1\" class=\"dataframe\">\n",
              "  <thead>\n",
              "    <tr style=\"text-align: right;\">\n",
              "      <th></th>\n",
              "      <th>event_time</th>\n",
              "      <th>event_type</th>\n",
              "      <th>product_id</th>\n",
              "      <th>category_id</th>\n",
              "      <th>brand</th>\n",
              "      <th>price</th>\n",
              "      <th>user_id</th>\n",
              "      <th>user_session</th>\n",
              "      <th>year</th>\n",
              "      <th>month</th>\n",
              "      <th>weekday</th>\n",
              "      <th>hour</th>\n",
              "    </tr>\n",
              "  </thead>\n",
              "  <tbody>\n",
              "    <tr>\n",
              "      <th>0</th>\n",
              "      <td>2019-12-01 00:00:00</td>\n",
              "      <td>remove_from_cart</td>\n",
              "      <td>5712790</td>\n",
              "      <td>1487580005268456287</td>\n",
              "      <td>f.o.x</td>\n",
              "      <td>6.27</td>\n",
              "      <td>576802932</td>\n",
              "      <td>51d85cb0-897f-48d2-918b-ad63965c12dc</td>\n",
              "      <td>2019</td>\n",
              "      <td>12</td>\n",
              "      <td>Sunday</td>\n",
              "      <td>0</td>\n",
              "    </tr>\n",
              "    <tr>\n",
              "      <th>1</th>\n",
              "      <td>2019-12-01 00:00:00</td>\n",
              "      <td>view</td>\n",
              "      <td>5764655</td>\n",
              "      <td>1487580005411062629</td>\n",
              "      <td>cnd</td>\n",
              "      <td>29.05</td>\n",
              "      <td>412120092</td>\n",
              "      <td>8adff31e-2051-4894-9758-224bfa8aec18</td>\n",
              "      <td>2019</td>\n",
              "      <td>12</td>\n",
              "      <td>Sunday</td>\n",
              "      <td>0</td>\n",
              "    </tr>\n",
              "    <tr>\n",
              "      <th>2</th>\n",
              "      <td>2019-12-01 00:00:02</td>\n",
              "      <td>cart</td>\n",
              "      <td>4958</td>\n",
              "      <td>1487580009471148064</td>\n",
              "      <td>runail</td>\n",
              "      <td>1.19</td>\n",
              "      <td>494077766</td>\n",
              "      <td>c99a50e8-2fac-4c4d-89ec-41c05f114554</td>\n",
              "      <td>2019</td>\n",
              "      <td>12</td>\n",
              "      <td>Sunday</td>\n",
              "      <td>0</td>\n",
              "    </tr>\n",
              "    <tr>\n",
              "      <th>3</th>\n",
              "      <td>2019-12-01 00:00:05</td>\n",
              "      <td>view</td>\n",
              "      <td>5848413</td>\n",
              "      <td>1487580007675986893</td>\n",
              "      <td>freedecor</td>\n",
              "      <td>0.79</td>\n",
              "      <td>348405118</td>\n",
              "      <td>722ffea5-73c0-4924-8e8f-371ff8031af4</td>\n",
              "      <td>2019</td>\n",
              "      <td>12</td>\n",
              "      <td>Sunday</td>\n",
              "      <td>0</td>\n",
              "    </tr>\n",
              "    <tr>\n",
              "      <th>4</th>\n",
              "      <td>2019-12-01 00:00:07</td>\n",
              "      <td>view</td>\n",
              "      <td>5824148</td>\n",
              "      <td>1487580005511725929</td>\n",
              "      <td>nan</td>\n",
              "      <td>5.56</td>\n",
              "      <td>576005683</td>\n",
              "      <td>28172809-7e4a-45ce-bab0-5efa90117cd5</td>\n",
              "      <td>2019</td>\n",
              "      <td>12</td>\n",
              "      <td>Sunday</td>\n",
              "      <td>0</td>\n",
              "    </tr>\n",
              "  </tbody>\n",
              "</table>\n",
              "</div>"
            ],
            "text/plain": [
              "           event_time        event_type  product_id  ...  month weekday  hour\n",
              "0 2019-12-01 00:00:00  remove_from_cart     5712790  ...     12  Sunday     0\n",
              "1 2019-12-01 00:00:00              view     5764655  ...     12  Sunday     0\n",
              "2 2019-12-01 00:00:02              cart        4958  ...     12  Sunday     0\n",
              "3 2019-12-01 00:00:05              view     5848413  ...     12  Sunday     0\n",
              "4 2019-12-01 00:00:07              view     5824148  ...     12  Sunday     0\n",
              "\n",
              "[5 rows x 12 columns]"
            ]
          },
          "metadata": {
            "tags": []
          },
          "execution_count": 88
        }
      ]
    },
    {
      "cell_type": "markdown",
      "metadata": {
        "id": "xGvjhdUnu2SB"
      },
      "source": [
        "So for each unique user_session ID, the data fields that are collected are (product ID, category ID, brand, price, user ID, year, month, weekday, hour and the event (view, cart, remove, purchase). Each event is time tagged!"
      ]
    },
    {
      "cell_type": "code",
      "metadata": {
        "colab": {
          "base_uri": "https://localhost:8080/",
          "height": 241
        },
        "id": "Ku0_TrjDuDhu",
        "outputId": "0f65a58f-f118-49fc-8363-8b3eedc76351"
      },
      "source": [
        "#Next lets look at the feature-level session data\n",
        "feat = pd.read_pickle('Sequence_Models/Session_features.pkl')\n",
        "print('Shape of data=', feat.shape)\n",
        "feat.head()"
      ],
      "execution_count": 89,
      "outputs": [
        {
          "output_type": "stream",
          "text": [
            "Shape of data= (1500000, 36)\n"
          ],
          "name": "stdout"
        },
        {
          "output_type": "execute_result",
          "data": {
            "text/html": [
              "<div>\n",
              "<style scoped>\n",
              "    .dataframe tbody tr th:only-of-type {\n",
              "        vertical-align: middle;\n",
              "    }\n",
              "\n",
              "    .dataframe tbody tr th {\n",
              "        vertical-align: top;\n",
              "    }\n",
              "\n",
              "    .dataframe thead th {\n",
              "        text-align: right;\n",
              "    }\n",
              "</style>\n",
              "<table border=\"1\" class=\"dataframe\">\n",
              "  <thead>\n",
              "    <tr style=\"text-align: right;\">\n",
              "      <th></th>\n",
              "      <th>TotalEventsInSession</th>\n",
              "      <th>interactionTime</th>\n",
              "      <th>#TimesCartedinSession</th>\n",
              "      <th>#TimesViewedinSession</th>\n",
              "      <th>maxPrice</th>\n",
              "      <th>minPrice</th>\n",
              "      <th>AvgAmtCartedInSession</th>\n",
              "      <th>AvgAmtViewedInSession</th>\n",
              "      <th>#BrandsCartedInSession</th>\n",
              "      <th>#BrandsViewedInSession</th>\n",
              "      <th>#CategoriesCartedInSession</th>\n",
              "      <th>#CategoriesViewedInSession</th>\n",
              "      <th>OverallAmtUserCarted</th>\n",
              "      <th>OverallAmtUserViewed</th>\n",
              "      <th>#ProdsCartedInSession</th>\n",
              "      <th>#ProdsViewedInSession</th>\n",
              "      <th>Fr</th>\n",
              "      <th>Mon</th>\n",
              "      <th>Sat</th>\n",
              "      <th>Sun</th>\n",
              "      <th>Thu</th>\n",
              "      <th>Tue</th>\n",
              "      <th>Wed</th>\n",
              "      <th>2019</th>\n",
              "      <th>Nov</th>\n",
              "      <th>Oct</th>\n",
              "      <th>Sep</th>\n",
              "      <th>Afternoon</th>\n",
              "      <th>Dawn</th>\n",
              "      <th>EarlyMorning</th>\n",
              "      <th>Evening</th>\n",
              "      <th>Morning</th>\n",
              "      <th>Night</th>\n",
              "      <th>Noon</th>\n",
              "      <th>Weekend</th>\n",
              "      <th>Purchase</th>\n",
              "    </tr>\n",
              "  </thead>\n",
              "  <tbody>\n",
              "    <tr>\n",
              "      <th>0</th>\n",
              "      <td>7</td>\n",
              "      <td>493.0</td>\n",
              "      <td>0</td>\n",
              "      <td>7</td>\n",
              "      <td>1349.46</td>\n",
              "      <td>131.53</td>\n",
              "      <td>0.00</td>\n",
              "      <td>812.941429</td>\n",
              "      <td>0</td>\n",
              "      <td>7</td>\n",
              "      <td>0</td>\n",
              "      <td>7</td>\n",
              "      <td>145.095000</td>\n",
              "      <td>187.166429</td>\n",
              "      <td>0</td>\n",
              "      <td>7</td>\n",
              "      <td>0</td>\n",
              "      <td>0</td>\n",
              "      <td>0</td>\n",
              "      <td>0</td>\n",
              "      <td>1</td>\n",
              "      <td>0</td>\n",
              "      <td>0</td>\n",
              "      <td>1</td>\n",
              "      <td>0</td>\n",
              "      <td>1</td>\n",
              "      <td>0</td>\n",
              "      <td>0</td>\n",
              "      <td>1</td>\n",
              "      <td>0</td>\n",
              "      <td>0</td>\n",
              "      <td>0</td>\n",
              "      <td>0</td>\n",
              "      <td>0</td>\n",
              "      <td>0</td>\n",
              "      <td>0</td>\n",
              "    </tr>\n",
              "    <tr>\n",
              "      <th>1</th>\n",
              "      <td>18</td>\n",
              "      <td>585.0</td>\n",
              "      <td>1</td>\n",
              "      <td>16</td>\n",
              "      <td>1747.79</td>\n",
              "      <td>152.58</td>\n",
              "      <td>289.52</td>\n",
              "      <td>621.671250</td>\n",
              "      <td>1</td>\n",
              "      <td>16</td>\n",
              "      <td>1</td>\n",
              "      <td>16</td>\n",
              "      <td>461.202273</td>\n",
              "      <td>653.235432</td>\n",
              "      <td>1</td>\n",
              "      <td>16</td>\n",
              "      <td>0</td>\n",
              "      <td>0</td>\n",
              "      <td>0</td>\n",
              "      <td>1</td>\n",
              "      <td>0</td>\n",
              "      <td>0</td>\n",
              "      <td>0</td>\n",
              "      <td>1</td>\n",
              "      <td>0</td>\n",
              "      <td>1</td>\n",
              "      <td>0</td>\n",
              "      <td>0</td>\n",
              "      <td>0</td>\n",
              "      <td>1</td>\n",
              "      <td>0</td>\n",
              "      <td>0</td>\n",
              "      <td>0</td>\n",
              "      <td>0</td>\n",
              "      <td>0</td>\n",
              "      <td>1</td>\n",
              "    </tr>\n",
              "    <tr>\n",
              "      <th>2</th>\n",
              "      <td>1</td>\n",
              "      <td>0.0</td>\n",
              "      <td>0</td>\n",
              "      <td>1</td>\n",
              "      <td>1422.10</td>\n",
              "      <td>1422.10</td>\n",
              "      <td>0.00</td>\n",
              "      <td>1422.100000</td>\n",
              "      <td>0</td>\n",
              "      <td>1</td>\n",
              "      <td>0</td>\n",
              "      <td>1</td>\n",
              "      <td>0.000000</td>\n",
              "      <td>625.779478</td>\n",
              "      <td>0</td>\n",
              "      <td>1</td>\n",
              "      <td>0</td>\n",
              "      <td>0</td>\n",
              "      <td>0</td>\n",
              "      <td>0</td>\n",
              "      <td>0</td>\n",
              "      <td>0</td>\n",
              "      <td>1</td>\n",
              "      <td>1</td>\n",
              "      <td>1</td>\n",
              "      <td>0</td>\n",
              "      <td>0</td>\n",
              "      <td>0</td>\n",
              "      <td>1</td>\n",
              "      <td>0</td>\n",
              "      <td>0</td>\n",
              "      <td>0</td>\n",
              "      <td>0</td>\n",
              "      <td>0</td>\n",
              "      <td>0</td>\n",
              "      <td>0</td>\n",
              "    </tr>\n",
              "    <tr>\n",
              "      <th>3</th>\n",
              "      <td>1</td>\n",
              "      <td>0.0</td>\n",
              "      <td>0</td>\n",
              "      <td>1</td>\n",
              "      <td>308.63</td>\n",
              "      <td>308.63</td>\n",
              "      <td>0.00</td>\n",
              "      <td>308.630000</td>\n",
              "      <td>0</td>\n",
              "      <td>1</td>\n",
              "      <td>0</td>\n",
              "      <td>1</td>\n",
              "      <td>0.000000</td>\n",
              "      <td>609.110000</td>\n",
              "      <td>0</td>\n",
              "      <td>1</td>\n",
              "      <td>0</td>\n",
              "      <td>0</td>\n",
              "      <td>1</td>\n",
              "      <td>0</td>\n",
              "      <td>0</td>\n",
              "      <td>0</td>\n",
              "      <td>0</td>\n",
              "      <td>1</td>\n",
              "      <td>1</td>\n",
              "      <td>0</td>\n",
              "      <td>0</td>\n",
              "      <td>0</td>\n",
              "      <td>0</td>\n",
              "      <td>1</td>\n",
              "      <td>0</td>\n",
              "      <td>0</td>\n",
              "      <td>0</td>\n",
              "      <td>0</td>\n",
              "      <td>0</td>\n",
              "      <td>0</td>\n",
              "    </tr>\n",
              "    <tr>\n",
              "      <th>4</th>\n",
              "      <td>11</td>\n",
              "      <td>509.0</td>\n",
              "      <td>4</td>\n",
              "      <td>6</td>\n",
              "      <td>171.90</td>\n",
              "      <td>131.51</td>\n",
              "      <td>171.90</td>\n",
              "      <td>158.220000</td>\n",
              "      <td>4</td>\n",
              "      <td>6</td>\n",
              "      <td>4</td>\n",
              "      <td>6</td>\n",
              "      <td>153.899000</td>\n",
              "      <td>150.426207</td>\n",
              "      <td>4</td>\n",
              "      <td>6</td>\n",
              "      <td>1</td>\n",
              "      <td>0</td>\n",
              "      <td>0</td>\n",
              "      <td>0</td>\n",
              "      <td>0</td>\n",
              "      <td>0</td>\n",
              "      <td>0</td>\n",
              "      <td>1</td>\n",
              "      <td>0</td>\n",
              "      <td>1</td>\n",
              "      <td>0</td>\n",
              "      <td>0</td>\n",
              "      <td>1</td>\n",
              "      <td>0</td>\n",
              "      <td>0</td>\n",
              "      <td>0</td>\n",
              "      <td>0</td>\n",
              "      <td>0</td>\n",
              "      <td>0</td>\n",
              "      <td>1</td>\n",
              "    </tr>\n",
              "  </tbody>\n",
              "</table>\n",
              "</div>"
            ],
            "text/plain": [
              "   TotalEventsInSession  interactionTime  ...  Weekend  Purchase\n",
              "0                     7            493.0  ...        0         0\n",
              "1                    18            585.0  ...        0         1\n",
              "2                     1              0.0  ...        0         0\n",
              "3                     1              0.0  ...        0         0\n",
              "4                    11            509.0  ...        0         1\n",
              "\n",
              "[5 rows x 36 columns]"
            ]
          },
          "metadata": {
            "tags": []
          },
          "execution_count": 89
        }
      ]
    },
    {
      "cell_type": "markdown",
      "metadata": {
        "id": "ptSEMwzY-I-q"
      },
      "source": [
        "## 1.5M session-level records are given to you. Your goal is to find which data set is best for session-level \"purchase\" classification!"
      ]
    },
    {
      "cell_type": "markdown",
      "metadata": {
        "id": "qW9BT7eS-oH7"
      },
      "source": [
        "# Task 1 [Instructor Led]: Generate Data models out of sequence data per session. \n",
        "Here, sequence of events (view, cart, remove, purchase) are to be generated per session to see if the sequences just by themselves can indicate if a purchase would occur by the end of the session or not!\n",
        "This work is the modification from the paper: https://arxiv.org/ftp/arxiv/papers/2010/2010.02503.pdf"
      ]
    },
    {
      "cell_type": "markdown",
      "metadata": {
        "id": "1nW-ZTezxAEw"
      },
      "source": [
        "## Step 1: Create sequence data per session"
      ]
    },
    {
      "cell_type": "code",
      "metadata": {
        "id": "z7fl9XZMP6f0"
      },
      "source": [
        "# Convert the Events to numeric sequences\n",
        "events = {'purchase':1,'cart': 2,'view': 3, 'remove_from_cart':4}\n",
        "data['event'] = data.event_type.map(events)"
      ],
      "execution_count": 90,
      "outputs": []
    },
    {
      "cell_type": "code",
      "metadata": {
        "id": "_XPpZb68P6f0",
        "colab": {
          "base_uri": "https://localhost:8080/",
          "height": 289
        },
        "outputId": "cacb26a6-f54b-48e5-9f24-61f57d15d664"
      },
      "source": [
        "# Sort the events by 'event time'\n",
        "data = data.sort_values('event_time')\n",
        "data.head()"
      ],
      "execution_count": 91,
      "outputs": [
        {
          "output_type": "execute_result",
          "data": {
            "text/html": [
              "<div>\n",
              "<style scoped>\n",
              "    .dataframe tbody tr th:only-of-type {\n",
              "        vertical-align: middle;\n",
              "    }\n",
              "\n",
              "    .dataframe tbody tr th {\n",
              "        vertical-align: top;\n",
              "    }\n",
              "\n",
              "    .dataframe thead th {\n",
              "        text-align: right;\n",
              "    }\n",
              "</style>\n",
              "<table border=\"1\" class=\"dataframe\">\n",
              "  <thead>\n",
              "    <tr style=\"text-align: right;\">\n",
              "      <th></th>\n",
              "      <th>event_time</th>\n",
              "      <th>event_type</th>\n",
              "      <th>product_id</th>\n",
              "      <th>category_id</th>\n",
              "      <th>brand</th>\n",
              "      <th>price</th>\n",
              "      <th>user_id</th>\n",
              "      <th>user_session</th>\n",
              "      <th>year</th>\n",
              "      <th>month</th>\n",
              "      <th>weekday</th>\n",
              "      <th>hour</th>\n",
              "      <th>event</th>\n",
              "    </tr>\n",
              "  </thead>\n",
              "  <tbody>\n",
              "    <tr>\n",
              "      <th>0</th>\n",
              "      <td>2019-12-01 00:00:00</td>\n",
              "      <td>remove_from_cart</td>\n",
              "      <td>5712790</td>\n",
              "      <td>1487580005268456287</td>\n",
              "      <td>f.o.x</td>\n",
              "      <td>6.27</td>\n",
              "      <td>576802932</td>\n",
              "      <td>51d85cb0-897f-48d2-918b-ad63965c12dc</td>\n",
              "      <td>2019</td>\n",
              "      <td>12</td>\n",
              "      <td>Sunday</td>\n",
              "      <td>0</td>\n",
              "      <td>4</td>\n",
              "    </tr>\n",
              "    <tr>\n",
              "      <th>1</th>\n",
              "      <td>2019-12-01 00:00:00</td>\n",
              "      <td>view</td>\n",
              "      <td>5764655</td>\n",
              "      <td>1487580005411062629</td>\n",
              "      <td>cnd</td>\n",
              "      <td>29.05</td>\n",
              "      <td>412120092</td>\n",
              "      <td>8adff31e-2051-4894-9758-224bfa8aec18</td>\n",
              "      <td>2019</td>\n",
              "      <td>12</td>\n",
              "      <td>Sunday</td>\n",
              "      <td>0</td>\n",
              "      <td>3</td>\n",
              "    </tr>\n",
              "    <tr>\n",
              "      <th>2</th>\n",
              "      <td>2019-12-01 00:00:02</td>\n",
              "      <td>cart</td>\n",
              "      <td>4958</td>\n",
              "      <td>1487580009471148064</td>\n",
              "      <td>runail</td>\n",
              "      <td>1.19</td>\n",
              "      <td>494077766</td>\n",
              "      <td>c99a50e8-2fac-4c4d-89ec-41c05f114554</td>\n",
              "      <td>2019</td>\n",
              "      <td>12</td>\n",
              "      <td>Sunday</td>\n",
              "      <td>0</td>\n",
              "      <td>2</td>\n",
              "    </tr>\n",
              "    <tr>\n",
              "      <th>3</th>\n",
              "      <td>2019-12-01 00:00:05</td>\n",
              "      <td>view</td>\n",
              "      <td>5848413</td>\n",
              "      <td>1487580007675986893</td>\n",
              "      <td>freedecor</td>\n",
              "      <td>0.79</td>\n",
              "      <td>348405118</td>\n",
              "      <td>722ffea5-73c0-4924-8e8f-371ff8031af4</td>\n",
              "      <td>2019</td>\n",
              "      <td>12</td>\n",
              "      <td>Sunday</td>\n",
              "      <td>0</td>\n",
              "      <td>3</td>\n",
              "    </tr>\n",
              "    <tr>\n",
              "      <th>4</th>\n",
              "      <td>2019-12-01 00:00:07</td>\n",
              "      <td>view</td>\n",
              "      <td>5824148</td>\n",
              "      <td>1487580005511725929</td>\n",
              "      <td>nan</td>\n",
              "      <td>5.56</td>\n",
              "      <td>576005683</td>\n",
              "      <td>28172809-7e4a-45ce-bab0-5efa90117cd5</td>\n",
              "      <td>2019</td>\n",
              "      <td>12</td>\n",
              "      <td>Sunday</td>\n",
              "      <td>0</td>\n",
              "      <td>3</td>\n",
              "    </tr>\n",
              "  </tbody>\n",
              "</table>\n",
              "</div>"
            ],
            "text/plain": [
              "           event_time        event_type  product_id  ...  weekday hour  event\n",
              "0 2019-12-01 00:00:00  remove_from_cart     5712790  ...   Sunday    0      4\n",
              "1 2019-12-01 00:00:00              view     5764655  ...   Sunday    0      3\n",
              "2 2019-12-01 00:00:02              cart        4958  ...   Sunday    0      2\n",
              "3 2019-12-01 00:00:05              view     5848413  ...   Sunday    0      3\n",
              "4 2019-12-01 00:00:07              view     5824148  ...   Sunday    0      3\n",
              "\n",
              "[5 rows x 13 columns]"
            ]
          },
          "metadata": {
            "tags": []
          },
          "execution_count": 91
        }
      ]
    },
    {
      "cell_type": "markdown",
      "metadata": {
        "id": "kkFzILKzkRrt"
      },
      "source": [
        "Next, pre-process the data to extract a Purchase (event=1) or not (event>1) label."
      ]
    },
    {
      "cell_type": "code",
      "metadata": {
        "id": "YEOeD6osP6f1"
      },
      "source": [
        "sequence = data.groupby('user_session')['event'].apply(list)\n",
        "sequence = sequence.reset_index()\n",
        "sequence['purchase'] = sequence['event'].apply(lambda x: 1 if 1 in x else 0)\n",
        "sequence = sequence[sequence['event'].map(len)> 1]"
      ],
      "execution_count": 92,
      "outputs": []
    },
    {
      "cell_type": "code",
      "metadata": {
        "scrolled": true,
        "id": "fl26fdnvP6f4",
        "colab": {
          "base_uri": "https://localhost:8080/",
          "height": 221
        },
        "outputId": "b441f5e4-5ce1-4a45-8427-6ae51d6ce7d8"
      },
      "source": [
        "#The sequence data should not contain the \"purchase field\" so it is filtered out\n",
        "sequence['event']= sequence.event.apply(lambda row: list(filter(lambda a: a != 1, row)))\n",
        "print('Total number of records=', sequence.shape[0])\n",
        "sequence.head()"
      ],
      "execution_count": 93,
      "outputs": [
        {
          "output_type": "stream",
          "text": [
            "Total number of records= 119480\n"
          ],
          "name": "stdout"
        },
        {
          "output_type": "execute_result",
          "data": {
            "text/html": [
              "<div>\n",
              "<style scoped>\n",
              "    .dataframe tbody tr th:only-of-type {\n",
              "        vertical-align: middle;\n",
              "    }\n",
              "\n",
              "    .dataframe tbody tr th {\n",
              "        vertical-align: top;\n",
              "    }\n",
              "\n",
              "    .dataframe thead th {\n",
              "        text-align: right;\n",
              "    }\n",
              "</style>\n",
              "<table border=\"1\" class=\"dataframe\">\n",
              "  <thead>\n",
              "    <tr style=\"text-align: right;\">\n",
              "      <th></th>\n",
              "      <th>user_session</th>\n",
              "      <th>event</th>\n",
              "      <th>purchase</th>\n",
              "    </tr>\n",
              "  </thead>\n",
              "  <tbody>\n",
              "    <tr>\n",
              "      <th>2</th>\n",
              "      <td>00018d32-afba-4db8-9d3d-562c83580579</td>\n",
              "      <td>[3, 2]</td>\n",
              "      <td>0</td>\n",
              "    </tr>\n",
              "    <tr>\n",
              "      <th>4</th>\n",
              "      <td>0001d956-e104-487b-a045-3864d7b9a022</td>\n",
              "      <td>[2, 2, 2, 2, 2, 2, 2]</td>\n",
              "      <td>0</td>\n",
              "    </tr>\n",
              "    <tr>\n",
              "      <th>5</th>\n",
              "      <td>0001ebd4-441d-4c2f-a888-929a63b2afe3</td>\n",
              "      <td>[3, 3, 3, 3, 3, 3, 3, 3]</td>\n",
              "      <td>0</td>\n",
              "    </tr>\n",
              "    <tr>\n",
              "      <th>7</th>\n",
              "      <td>00027027-c51e-4b8f-82bc-0122b3d44204</td>\n",
              "      <td>[3, 3, 3, 3, 3, 3, 3, 3, 3, 3, 2, 2, 2, 3, 3, ...</td>\n",
              "      <td>0</td>\n",
              "    </tr>\n",
              "    <tr>\n",
              "      <th>9</th>\n",
              "      <td>0002b72e-c9b0-4b2e-99c8-a6c8630c4cfe</td>\n",
              "      <td>[2, 3, 2, 2, 4, 4, 4, 4, 4, 4, 3, 3, 3, 4, 4, ...</td>\n",
              "      <td>0</td>\n",
              "    </tr>\n",
              "  </tbody>\n",
              "</table>\n",
              "</div>"
            ],
            "text/plain": [
              "                           user_session  ... purchase\n",
              "2  00018d32-afba-4db8-9d3d-562c83580579  ...        0\n",
              "4  0001d956-e104-487b-a045-3864d7b9a022  ...        0\n",
              "5  0001ebd4-441d-4c2f-a888-929a63b2afe3  ...        0\n",
              "7  00027027-c51e-4b8f-82bc-0122b3d44204  ...        0\n",
              "9  0002b72e-c9b0-4b2e-99c8-a6c8630c4cfe  ...        0\n",
              "\n",
              "[5 rows x 3 columns]"
            ]
          },
          "metadata": {
            "tags": []
          },
          "execution_count": 93
        }
      ]
    },
    {
      "cell_type": "markdown",
      "metadata": {
        "id": "pU6mRjRiEGHZ"
      },
      "source": [
        "# So 'sequence' represents data regarding per-session browsing sequence.\n",
        "But what does an average sequence look like? Can some sequences be specifically long and others be too short? Lets analyze..."
      ]
    },
    {
      "cell_type": "code",
      "metadata": {
        "id": "K2Mf3A5yP6f4"
      },
      "source": [
        "#Find the length of events per user-session\n",
        "length = sequence['event'].map(len).to_list()"
      ],
      "execution_count": 94,
      "outputs": []
    },
    {
      "cell_type": "code",
      "metadata": {
        "id": "MJrKuMCDP6f5"
      },
      "source": [
        "import seaborn as sns"
      ],
      "execution_count": 95,
      "outputs": []
    },
    {
      "cell_type": "code",
      "metadata": {
        "id": "agn_AM6dP6f5",
        "colab": {
          "base_uri": "https://localhost:8080/",
          "height": 336
        },
        "outputId": "fea4d767-08ad-44b5-c2fe-f210dcd71640"
      },
      "source": [
        "sns.distplot(length)"
      ],
      "execution_count": 96,
      "outputs": [
        {
          "output_type": "stream",
          "text": [
            "/usr/local/lib/python3.7/dist-packages/seaborn/distributions.py:2557: FutureWarning: `distplot` is a deprecated function and will be removed in a future version. Please adapt your code to use either `displot` (a figure-level function with similar flexibility) or `histplot` (an axes-level function for histograms).\n",
            "  warnings.warn(msg, FutureWarning)\n"
          ],
          "name": "stderr"
        },
        {
          "output_type": "execute_result",
          "data": {
            "text/plain": [
              "<matplotlib.axes._subplots.AxesSubplot at 0x7fa79877a350>"
            ]
          },
          "metadata": {
            "tags": []
          },
          "execution_count": 96
        },
        {
          "output_type": "display_data",
          "data": {
            "image/png": "[encoded data removed]",
            "text/plain": [
              "<Figure size 432x288 with 1 Axes>"
            ]
          },
          "metadata": {
            "tags": [],
            "needs_background": "light"
          }
        }
      ]
    },
    {
      "cell_type": "markdown",
      "metadata": {
        "id": "alxwobvPP6f6"
      },
      "source": [
        "# So we see, most sequences are about 100 or shorter. \n",
        "One major task is to find the optimal sequence size for highet prediction accuracy. Lets try for small and large sequence sizes to find the difference!\n",
        "# Step 2: Lets analyze upto size 10 sequences and upto size 100 sequences separately!"
      ]
    },
    {
      "cell_type": "code",
      "metadata": {
        "id": "dLZ-S5lxP6f6"
      },
      "source": [
        "# select all sequences that are upto 10 events long. Discard remaining sequences.\n",
        "short_sequence_10 = sequence[sequence['event'].map(len) <= 10]"
      ],
      "execution_count": 97,
      "outputs": []
    },
    {
      "cell_type": "code",
      "metadata": {
        "id": "Fzy_4xh3P6f7",
        "colab": {
          "base_uri": "https://localhost:8080/",
          "height": 419
        },
        "outputId": "872eeae8-afcc-469e-a34f-748b840f55e4"
      },
      "source": [
        "#Lets see how many records come up\n",
        "short_sequence_10"
      ],
      "execution_count": 98,
      "outputs": [
        {
          "output_type": "execute_result",
          "data": {
            "text/html": [
              "<div>\n",
              "<style scoped>\n",
              "    .dataframe tbody tr th:only-of-type {\n",
              "        vertical-align: middle;\n",
              "    }\n",
              "\n",
              "    .dataframe tbody tr th {\n",
              "        vertical-align: top;\n",
              "    }\n",
              "\n",
              "    .dataframe thead th {\n",
              "        text-align: right;\n",
              "    }\n",
              "</style>\n",
              "<table border=\"1\" class=\"dataframe\">\n",
              "  <thead>\n",
              "    <tr style=\"text-align: right;\">\n",
              "      <th></th>\n",
              "      <th>user_session</th>\n",
              "      <th>event</th>\n",
              "      <th>purchase</th>\n",
              "    </tr>\n",
              "  </thead>\n",
              "  <tbody>\n",
              "    <tr>\n",
              "      <th>2</th>\n",
              "      <td>00018d32-afba-4db8-9d3d-562c83580579</td>\n",
              "      <td>[3, 2]</td>\n",
              "      <td>0</td>\n",
              "    </tr>\n",
              "    <tr>\n",
              "      <th>4</th>\n",
              "      <td>0001d956-e104-487b-a045-3864d7b9a022</td>\n",
              "      <td>[2, 2, 2, 2, 2, 2, 2]</td>\n",
              "      <td>0</td>\n",
              "    </tr>\n",
              "    <tr>\n",
              "      <th>5</th>\n",
              "      <td>0001ebd4-441d-4c2f-a888-929a63b2afe3</td>\n",
              "      <td>[3, 3, 3, 3, 3, 3, 3, 3]</td>\n",
              "      <td>0</td>\n",
              "    </tr>\n",
              "    <tr>\n",
              "      <th>10</th>\n",
              "      <td>0002ba44-8b73-4ace-b7c8-fe946aa63cc2</td>\n",
              "      <td>[3, 2, 2]</td>\n",
              "      <td>0</td>\n",
              "    </tr>\n",
              "    <tr>\n",
              "      <th>17</th>\n",
              "      <td>0003d895-8dd0-47c2-94e0-92f7a9031c74</td>\n",
              "      <td>[3, 3]</td>\n",
              "      <td>0</td>\n",
              "    </tr>\n",
              "    <tr>\n",
              "      <th>...</th>\n",
              "      <td>...</td>\n",
              "      <td>...</td>\n",
              "      <td>...</td>\n",
              "    </tr>\n",
              "    <tr>\n",
              "      <th>336954</th>\n",
              "      <td>fffb5277-899a-46d8-b51e-2c1f61880f4e</td>\n",
              "      <td>[3, 2]</td>\n",
              "      <td>0</td>\n",
              "    </tr>\n",
              "    <tr>\n",
              "      <th>336963</th>\n",
              "      <td>fffcec5a-c2e3-4e13-8f40-a63f7d14c81f</td>\n",
              "      <td>[4, 4]</td>\n",
              "      <td>0</td>\n",
              "    </tr>\n",
              "    <tr>\n",
              "      <th>336965</th>\n",
              "      <td>fffd3d91-5734-42ac-b149-7403417ec3e2</td>\n",
              "      <td>[3, 3, 3, 3, 3]</td>\n",
              "      <td>0</td>\n",
              "    </tr>\n",
              "    <tr>\n",
              "      <th>336966</th>\n",
              "      <td>fffd5100-6389-486d-8732-9066c47f7ba1</td>\n",
              "      <td>[3, 3, 2, 3, 3]</td>\n",
              "      <td>0</td>\n",
              "    </tr>\n",
              "    <tr>\n",
              "      <th>336974</th>\n",
              "      <td>ffff19e6-2095-4104-b1ac-00cd5f43f0e0</td>\n",
              "      <td>[3, 2, 3]</td>\n",
              "      <td>0</td>\n",
              "    </tr>\n",
              "  </tbody>\n",
              "</table>\n",
              "<p>91715 rows × 3 columns</p>\n",
              "</div>"
            ],
            "text/plain": [
              "                                user_session  ... purchase\n",
              "2       00018d32-afba-4db8-9d3d-562c83580579  ...        0\n",
              "4       0001d956-e104-487b-a045-3864d7b9a022  ...        0\n",
              "5       0001ebd4-441d-4c2f-a888-929a63b2afe3  ...        0\n",
              "10      0002ba44-8b73-4ace-b7c8-fe946aa63cc2  ...        0\n",
              "17      0003d895-8dd0-47c2-94e0-92f7a9031c74  ...        0\n",
              "...                                      ...  ...      ...\n",
              "336954  fffb5277-899a-46d8-b51e-2c1f61880f4e  ...        0\n",
              "336963  fffcec5a-c2e3-4e13-8f40-a63f7d14c81f  ...        0\n",
              "336965  fffd3d91-5734-42ac-b149-7403417ec3e2  ...        0\n",
              "336966  fffd5100-6389-486d-8732-9066c47f7ba1  ...        0\n",
              "336974  ffff19e6-2095-4104-b1ac-00cd5f43f0e0  ...        0\n",
              "\n",
              "[91715 rows x 3 columns]"
            ]
          },
          "metadata": {
            "tags": []
          },
          "execution_count": 98
        }
      ]
    },
    {
      "cell_type": "markdown",
      "metadata": {
        "id": "uDScrStaFqnm"
      },
      "source": [
        "# Now that you have the limited sequence data, create a data model for it.\n",
        "# Step 3: Fitting data models: Simple RNN, GRU, LSTM to predict sessions that have a 'purchase' in them.\n",
        "\n",
        "Apply 70/30 split to data and implement sequence models"
      ]
    },
    {
      "cell_type": "code",
      "metadata": {
        "id": "K6qRStdGP6f7"
      },
      "source": [
        "event_sequence = short_sequence_10['event'].to_list()"
      ],
      "execution_count": 99,
      "outputs": []
    },
    {
      "cell_type": "code",
      "metadata": {
        "id": "MKLHK-SdP6f8"
      },
      "source": [
        "# Pad all sequences with zeros so all inputs have same consistent size of 10\n",
        "from keras.preprocessing.sequence import pad_sequences\n",
        "from sklearn.model_selection import train_test_split\n",
        "event = pad_sequences(event_sequence)"
      ],
      "execution_count": 100,
      "outputs": []
    },
    {
      "cell_type": "code",
      "metadata": {
        "scrolled": true,
        "id": "ZuOIbSAcP6f8",
        "colab": {
          "base_uri": "https://localhost:8080/"
        },
        "outputId": "1bef4cf0-bc73-4af6-f269-6d9ccb94622c"
      },
      "source": [
        "# One Hot Encoding the Purchase label\n",
        "y = np.array(pd.get_dummies(short_sequence_10['purchase'],prefix='Purchase'))\n",
        "z=np.sum(y[:,1])/len(y)\n",
        "print('Percentage of Purchase sessions=',z*100)"
      ],
      "execution_count": 101,
      "outputs": [
        {
          "output_type": "stream",
          "text": [
            "Percentage of Purchase sessions= 6.487488415199258\n"
          ],
          "name": "stdout"
        }
      ]
    },
    {
      "cell_type": "code",
      "metadata": {
        "id": "BbwdeT39h6l5"
      },
      "source": [
        "#Define a function to generate 70/30 data split followed by data resizing!\n",
        "def prepare_train_test_data(data,y):\n",
        "  #input is data[nxd] and Y[nx2], outputs 70/30 split formatted for the sequence models\n",
        "  X_train, X_test, y_train, y_test = train_test_split(data, y,                              \n",
        "                                                    test_size=0.3)\n",
        "  #Resizing is necessary since input to sequence models is (1,d)\n",
        "  X_train = X_train.reshape((X_train.shape[0], 1, X_train.shape[1]))\n",
        "  X_test = X_test.reshape((X_test.shape[0], 1, X_test.shape[1]))\n",
        "  return (X_train,X_test,y_train,y_test)"
      ],
      "execution_count": 102,
      "outputs": []
    },
    {
      "cell_type": "code",
      "metadata": {
        "id": "rjK0Z2WQP6f9",
        "colab": {
          "base_uri": "https://localhost:8080/"
        },
        "outputId": "a6f7d18a-6e2c-46f7-9665-abf4865ec169"
      },
      "source": [
        "X_train, X_test, y_train, y_test=prepare_train_test_data(np.array(event),y)\n",
        "print(X_train.shape, y_train.shape)"
      ],
      "execution_count": 103,
      "outputs": [
        {
          "output_type": "stream",
          "text": [
            "(64200, 1, 10) (64200, 2)\n"
          ],
          "name": "stdout"
        }
      ]
    },
    {
      "cell_type": "markdown",
      "metadata": {
        "id": "krjPyvUzP6f_"
      },
      "source": [
        "## Finally, train and test a sequence model built using: SimpleRNN, GRU and LSTM and compare results!"
      ]
    },
    {
      "cell_type": "code",
      "metadata": {
        "id": "wlp3503JIL83"
      },
      "source": [
        "#Helper functions for this:\n",
        "import matplotlib.pyplot as plt\n",
        "from sklearn.metrics import confusion_matrix\n",
        "\n",
        "# demonstration of calculating metrics for a neural network model using sklearn\n",
        "from sklearn.datasets import make_circles\n",
        "from sklearn.metrics import accuracy_score\n",
        "from sklearn.metrics import precision_score\n",
        "from sklearn.metrics import recall_score\n",
        "from sklearn.metrics import f1_score\n",
        "from sklearn.metrics import cohen_kappa_score\n",
        "from sklearn.metrics import roc_auc_score\n",
        "\n",
        "\n",
        "def plot_history(history):\n",
        "  # This function will plot the model fit process\n",
        "  print(history.history.keys())\n",
        "  # summarize history for accuracy\n",
        "  plt.plot(history.history['acc'])\n",
        "  plt.plot(history.history['val_acc'])\n",
        "  plt.title('model accuracy')\n",
        "  plt.ylabel('acc')\n",
        "  plt.xlabel('epoch')\n",
        "  plt.legend(['train', 'test'], loc='upper left')\n",
        "  plt.show()\n",
        "  # summarize history for loss\n",
        "  plt.plot(history.history['loss'])\n",
        "  plt.plot(history.history['val_loss'])\n",
        "  plt.title('model loss')\n",
        "  plt.ylabel('loss')\n",
        "  plt.xlabel('epoch')\n",
        "  plt.legend(['train', 'test'], loc='upper left')\n",
        "  plt.show()\n",
        "\n",
        "\n",
        "def evaluate_on_test(X_test, y_test, training_model):\n",
        "  #This function will evaluate the fit model on test data\n",
        "  g_preds=training_model.predict_classes(X_test)\n",
        "  gaccuracy = accuracy_score(y_test[:,1], g_preds)\n",
        "  print('Accuracy: %f' % gaccuracy)\n",
        "  # precision tp / (tp + fp)\n",
        "  gprecision = precision_score(y_test[:,1], g_preds)\n",
        "  print('Precision: %f' % gprecision)\n",
        "  # recall: tp / (tp + fn)\n",
        "  grecall = recall_score(y_test[:,1], g_preds)\n",
        "  print('Recall: %f' % grecall)\n",
        "  # f1: 2 tp / (2 tp + fp + fn)\n",
        "  gf1 = f1_score(y_test[:,1], g_preds)\n",
        "  print('F1 score: %f' % gf1)\n"
      ],
      "execution_count": 104,
      "outputs": []
    },
    {
      "cell_type": "markdown",
      "metadata": {
        "id": "_ORGIGQSI3Ei"
      },
      "source": [
        "# The following example shows a model designed using Simple RNN. Repeat the same using GRU and LSTM."
      ]
    },
    {
      "cell_type": "code",
      "metadata": {
        "id": "ytK1F5UMI6EC"
      },
      "source": [
        "from tensorflow.keras.layers import GRU, Embedding, SimpleRNN, Activation\n",
        "import tensorflow as tf"
      ],
      "execution_count": 105,
      "outputs": []
    },
    {
      "cell_type": "code",
      "metadata": {
        "id": "p8fOqyJPJDc5"
      },
      "source": [
        "#This is a simple RNN model\n",
        "def simple_RNN_model(neurons=40, op=10):\n",
        "    model = Sequential()\n",
        "    model.add(SimpleRNN(neurons, return_sequences = True, input_shape = (1,op)))\n",
        "    model.add(SimpleRNN(2*neurons))\n",
        "    model.add(Dense(2, activation='softmax'))\n",
        "    model.compile(\n",
        "      optimizer=tf.optimizers.Adam(learning_rate=0.0003),\n",
        "      loss='binary_crossentropy',\n",
        "      metrics=['acc'])\n",
        "    return model"
      ],
      "execution_count": 106,
      "outputs": []
    },
    {
      "cell_type": "code",
      "metadata": {
        "id": "1cuwPUcLJvh6"
      },
      "source": [
        "#Visualize the Model\n",
        "tf.keras.backend.clear_session()\n",
        "RNN_model = simple_RNN_model(neurons=40, op=10)\n",
        "#RNN_model.summary()"
      ],
      "execution_count": 107,
      "outputs": []
    },
    {
      "cell_type": "code",
      "metadata": {
        "colab": {
          "base_uri": "https://localhost:8080/"
        },
        "id": "AV0djpDFuoef",
        "outputId": "e107e42c-dd53-4d6d-b4f7-1f76d0bd2689"
      },
      "source": [
        "RNN_model"
      ],
      "execution_count": 108,
      "outputs": [
        {
          "output_type": "execute_result",
          "data": {
            "text/plain": [
              "<keras.engine.sequential.Sequential at 0x7fa7984fd710>"
            ]
          },
          "metadata": {
            "tags": []
          },
          "execution_count": 108
        }
      ]
    },
    {
      "cell_type": "code",
      "metadata": {
        "colab": {
          "base_uri": "https://localhost:8080/"
        },
        "id": "IhdK1Xd6JJCw",
        "outputId": "6f99e2fc-f0b0-4b75-826e-b582bdbe1506"
      },
      "source": [
        "#Fit the model using 80/20 validation split at runtime\n",
        "r_history = RNN_model.fit(X_train.astype(np.float32), y_train,\n",
        "                    epochs=20,\n",
        "                    batch_size=1000,#atleast 1000 records per epoch\n",
        "                    validation_split=0.2)"
      ],
      "execution_count": 109,
      "outputs": [
        {
          "output_type": "stream",
          "text": [
            "Epoch 1/20\n",
            "52/52 [==============================] - 2s 14ms/step - loss: 0.4664 - acc: 0.9355 - val_loss: 0.2268 - val_acc: 0.9395\n",
            "Epoch 2/20\n",
            "52/52 [==============================] - 0s 7ms/step - loss: 0.2246 - acc: 0.9359 - val_loss: 0.1989 - val_acc: 0.9395\n",
            "Epoch 3/20\n",
            "52/52 [==============================] - 0s 7ms/step - loss: 0.2067 - acc: 0.9364 - val_loss: 0.1924 - val_acc: 0.9395\n",
            "Epoch 4/20\n",
            "52/52 [==============================] - 0s 7ms/step - loss: 0.2002 - acc: 0.9371 - val_loss: 0.1891 - val_acc: 0.9395\n",
            "Epoch 5/20\n",
            "52/52 [==============================] - 0s 6ms/step - loss: 0.1989 - acc: 0.9364 - val_loss: 0.1869 - val_acc: 0.9395\n",
            "Epoch 6/20\n",
            "52/52 [==============================] - 0s 7ms/step - loss: 0.1994 - acc: 0.9362 - val_loss: 0.1851 - val_acc: 0.9500\n",
            "Epoch 7/20\n",
            "52/52 [==============================] - 0s 7ms/step - loss: 0.1951 - acc: 0.9472 - val_loss: 0.1834 - val_acc: 0.9500\n",
            "Epoch 8/20\n",
            "52/52 [==============================] - 0s 7ms/step - loss: 0.1968 - acc: 0.9463 - val_loss: 0.1818 - val_acc: 0.9500\n",
            "Epoch 9/20\n",
            "52/52 [==============================] - 0s 6ms/step - loss: 0.1918 - acc: 0.9473 - val_loss: 0.1804 - val_acc: 0.9500\n",
            "Epoch 10/20\n",
            "52/52 [==============================] - 0s 7ms/step - loss: 0.1954 - acc: 0.9456 - val_loss: 0.1790 - val_acc: 0.9517\n",
            "Epoch 11/20\n",
            "52/52 [==============================] - 0s 7ms/step - loss: 0.1918 - acc: 0.9492 - val_loss: 0.1779 - val_acc: 0.9553\n",
            "Epoch 12/20\n",
            "52/52 [==============================] - 0s 6ms/step - loss: 0.1968 - acc: 0.9496 - val_loss: 0.1768 - val_acc: 0.9553\n",
            "Epoch 13/20\n",
            "52/52 [==============================] - 0s 7ms/step - loss: 0.1877 - acc: 0.9526 - val_loss: 0.1758 - val_acc: 0.9553\n",
            "Epoch 14/20\n",
            "52/52 [==============================] - 0s 6ms/step - loss: 0.1883 - acc: 0.9519 - val_loss: 0.1748 - val_acc: 0.9553\n",
            "Epoch 15/20\n",
            "52/52 [==============================] - 0s 6ms/step - loss: 0.1907 - acc: 0.9505 - val_loss: 0.1741 - val_acc: 0.9553\n",
            "Epoch 16/20\n",
            "52/52 [==============================] - 0s 7ms/step - loss: 0.1883 - acc: 0.9511 - val_loss: 0.1735 - val_acc: 0.9553\n",
            "Epoch 17/20\n",
            "52/52 [==============================] - 0s 6ms/step - loss: 0.1870 - acc: 0.9520 - val_loss: 0.1728 - val_acc: 0.9553\n",
            "Epoch 18/20\n",
            "52/52 [==============================] - 0s 7ms/step - loss: 0.1861 - acc: 0.9517 - val_loss: 0.1724 - val_acc: 0.9553\n",
            "Epoch 19/20\n",
            "52/52 [==============================] - 0s 7ms/step - loss: 0.1823 - acc: 0.9527 - val_loss: 0.1718 - val_acc: 0.9553\n",
            "Epoch 20/20\n",
            "52/52 [==============================] - 0s 6ms/step - loss: 0.1849 - acc: 0.9519 - val_loss: 0.1714 - val_acc: 0.9553\n"
          ],
          "name": "stdout"
        }
      ]
    },
    {
      "cell_type": "code",
      "metadata": {
        "colab": {
          "base_uri": "https://localhost:8080/"
        },
        "id": "mmbC21eAu9xg",
        "outputId": "9037ec84-b550-4eda-ed10-b191875e69e9"
      },
      "source": [
        "RNN_model.summary()"
      ],
      "execution_count": 110,
      "outputs": [
        {
          "output_type": "stream",
          "text": [
            "Model: \"sequential\"\n",
            "_________________________________________________________________\n",
            "Layer (type)                 Output Shape              Param #   \n",
            "=================================================================\n",
            "module_wrapper (ModuleWrappe (None, 1, 40)             2040      \n",
            "_________________________________________________________________\n",
            "module_wrapper_1 (ModuleWrap (None, 80)                9680      \n",
            "_________________________________________________________________\n",
            "dense (Dense)                (None, 2)                 162       \n",
            "=================================================================\n",
            "Total params: 11,882\n",
            "Trainable params: 11,882\n",
            "Non-trainable params: 0\n",
            "_________________________________________________________________\n"
          ],
          "name": "stdout"
        }
      ]
    },
    {
      "cell_type": "code",
      "metadata": {
        "colab": {
          "base_uri": "https://localhost:8080/",
          "height": 590
        },
        "id": "zVJTgqvHJJFB",
        "outputId": "bc45d7fe-db2d-4d9a-83f5-b9e463217c4c"
      },
      "source": [
        "plot_history(r_history)"
      ],
      "execution_count": 111,
      "outputs": [
        {
          "output_type": "stream",
          "text": [
            "dict_keys(['loss', 'acc', 'val_loss', 'val_acc'])\n"
          ],
          "name": "stdout"
        },
        {
          "output_type": "display_data",
          "data": {
            "image/png": "[encoded data removed]",
            "text/plain": [
              "<Figure size 432x288 with 1 Axes>"
            ]
          },
          "metadata": {
            "tags": [],
            "needs_background": "light"
          }
        },
        {
          "output_type": "display_data",
          "data": {
            "image/png": "[encoded data removed]",
            "text/plain": [
              "<Figure size 432x288 with 1 Axes>"
            ]
          },
          "metadata": {
            "tags": [],
            "needs_background": "light"
          }
        }
      ]
    },
    {
      "cell_type": "code",
      "metadata": {
        "colab": {
          "base_uri": "https://localhost:8080/"
        },
        "id": "ZRTCPXThJ38p",
        "outputId": "bc56cbbe-c5ce-4213-b2d7-ea0b3a11dcf3"
      },
      "source": [
        "evaluate_on_test(X_test,y_test,RNN_model)"
      ],
      "execution_count": 112,
      "outputs": [
        {
          "output_type": "stream",
          "text": [
            "/usr/local/lib/python3.7/dist-packages/keras/engine/sequential.py:450: UserWarning: `model.predict_classes()` is deprecated and will be removed after 2021-01-01. Please use instead:* `np.argmax(model.predict(x), axis=-1)`,   if your model does multi-class classification   (e.g. if it uses a `softmax` last-layer activation).* `(model.predict(x) > 0.5).astype(\"int32\")`,   if your model does binary classification   (e.g. if it uses a `sigmoid` last-layer activation).\n",
            "  warnings.warn('`model.predict_classes()` is deprecated and '\n"
          ],
          "name": "stderr"
        },
        {
          "output_type": "stream",
          "text": [
            "Accuracy: 0.947556\n",
            "Precision: 1.000000\n",
            "Recall: 0.237718\n",
            "F1 score: 0.384123\n"
          ],
          "name": "stdout"
        }
      ]
    },
    {
      "cell_type": "markdown",
      "metadata": {
        "id": "-IULjM4vLIUx"
      },
      "source": [
        "# Task 2: Run GRU and LSTM Models on the 10-sequence data. \n",
        "Which is the best model? What is the metric of most importance?\n"
      ]
    },
    {
      "cell_type": "code",
      "metadata": {
        "id": "s-zDi5ykLq2M"
      },
      "source": [
        "###############START CODE HERE##########################################################################\n",
        "#Define a GRU model function. Use the simple_RNN_model function and replace the RNN layers with GRU.\n",
        "#Notice the change in number of parameters\n",
        "def GRU_model(neurons=40, op=10):\n",
        "  model = Sequential()\n",
        "  model.add(GRU(neurons, return_sequences = True, input_shape = (1,op)))\n",
        "  model.add(GRU(2*neurons))\n",
        "  model.add(Dense(2, activation='softmax'))\n",
        "  model.compile(\n",
        "    optimizer=tf.optimizers.Adam(learning_rate=0.0003),\n",
        "    loss='binary_crossentropy',\n",
        "    metrics=['acc'])\n",
        "  return model"
      ],
      "execution_count": 113,
      "outputs": []
    },
    {
      "cell_type": "code",
      "metadata": {
        "id": "DEy3TOkMLy8T",
        "colab": {
          "base_uri": "https://localhost:8080/"
        },
        "outputId": "b15a1e24-c2f0-49db-bb04-1f31d706a13b"
      },
      "source": [
        "#Visualize the Model (Notice the increase in parameters)\n",
        "tf.keras.backend.clear_session()\n",
        "G_model = GRU_model()#neurons=40, op=10)\n",
        "G_model.build(input_shape=(None, 1, 10))\n",
        "G_model.summary()"
      ],
      "execution_count": 114,
      "outputs": [
        {
          "output_type": "stream",
          "text": [
            "Model: \"sequential\"\n",
            "_________________________________________________________________\n",
            "Layer (type)                 Output Shape              Param #   \n",
            "=================================================================\n",
            "module_wrapper (ModuleWrappe (None, 1, 40)             6240      \n",
            "_________________________________________________________________\n",
            "module_wrapper_1 (ModuleWrap (None, 80)                29280     \n",
            "_________________________________________________________________\n",
            "dense (Dense)                (None, 2)                 162       \n",
            "=================================================================\n",
            "Total params: 35,682\n",
            "Trainable params: 35,682\n",
            "Non-trainable params: 0\n",
            "_________________________________________________________________\n"
          ],
          "name": "stdout"
        }
      ]
    },
    {
      "cell_type": "code",
      "metadata": {
        "id": "pcYsLzXWMIiB",
        "colab": {
          "base_uri": "https://localhost:8080/"
        },
        "outputId": "3ab90c3e-ad18-48ec-c184-ef57990b8a9b"
      },
      "source": [
        "#Train the G_model (20 epochs, 1000 samples per batch, validation split=0.2)\n",
        "g_history = G_model.fit(X_train.astype(np.float32), y_train,\n",
        "                    epochs=20,\n",
        "                    batch_size=1000,#atleast 1000 records per epoch\n",
        "                    validation_split=0.2)"
      ],
      "execution_count": 115,
      "outputs": [
        {
          "output_type": "stream",
          "text": [
            "Epoch 1/20\n",
            "52/52 [==============================] - 4s 26ms/step - loss: 0.5886 - acc: 0.9356 - val_loss: 0.3853 - val_acc: 0.9395\n",
            "Epoch 2/20\n",
            "52/52 [==============================] - 0s 6ms/step - loss: 0.3390 - acc: 0.9363 - val_loss: 0.2384 - val_acc: 0.9395\n",
            "Epoch 3/20\n",
            "52/52 [==============================] - 0s 6ms/step - loss: 0.2394 - acc: 0.9352 - val_loss: 0.2099 - val_acc: 0.9395\n",
            "Epoch 4/20\n",
            "52/52 [==============================] - 0s 6ms/step - loss: 0.2195 - acc: 0.9352 - val_loss: 0.1993 - val_acc: 0.9395\n",
            "Epoch 5/20\n",
            "52/52 [==============================] - 0s 6ms/step - loss: 0.2146 - acc: 0.9339 - val_loss: 0.1952 - val_acc: 0.9395\n",
            "Epoch 6/20\n",
            "52/52 [==============================] - 0s 6ms/step - loss: 0.2033 - acc: 0.9367 - val_loss: 0.1929 - val_acc: 0.9395\n",
            "Epoch 7/20\n",
            "52/52 [==============================] - 0s 6ms/step - loss: 0.2034 - acc: 0.9366 - val_loss: 0.1913 - val_acc: 0.9395\n",
            "Epoch 8/20\n",
            "52/52 [==============================] - 0s 6ms/step - loss: 0.2032 - acc: 0.9360 - val_loss: 0.1898 - val_acc: 0.9395\n",
            "Epoch 9/20\n",
            "52/52 [==============================] - 0s 6ms/step - loss: 0.2011 - acc: 0.9360 - val_loss: 0.1884 - val_acc: 0.9395\n",
            "Epoch 10/20\n",
            "52/52 [==============================] - 0s 6ms/step - loss: 0.2020 - acc: 0.9355 - val_loss: 0.1871 - val_acc: 0.9395\n",
            "Epoch 11/20\n",
            "52/52 [==============================] - 0s 6ms/step - loss: 0.1983 - acc: 0.9358 - val_loss: 0.1860 - val_acc: 0.9395\n",
            "Epoch 12/20\n",
            "52/52 [==============================] - 0s 6ms/step - loss: 0.1984 - acc: 0.9362 - val_loss: 0.1847 - val_acc: 0.9395\n",
            "Epoch 13/20\n",
            "52/52 [==============================] - 0s 6ms/step - loss: 0.1950 - acc: 0.9357 - val_loss: 0.1837 - val_acc: 0.9395\n",
            "Epoch 14/20\n",
            "52/52 [==============================] - 0s 6ms/step - loss: 0.1961 - acc: 0.9357 - val_loss: 0.1823 - val_acc: 0.9500\n",
            "Epoch 15/20\n",
            "52/52 [==============================] - 0s 7ms/step - loss: 0.1961 - acc: 0.9457 - val_loss: 0.1810 - val_acc: 0.9500\n",
            "Epoch 16/20\n",
            "52/52 [==============================] - 0s 7ms/step - loss: 0.1948 - acc: 0.9458 - val_loss: 0.1798 - val_acc: 0.9500\n",
            "Epoch 17/20\n",
            "52/52 [==============================] - 0s 7ms/step - loss: 0.1875 - acc: 0.9475 - val_loss: 0.1788 - val_acc: 0.9500\n",
            "Epoch 18/20\n",
            "52/52 [==============================] - 0s 6ms/step - loss: 0.1942 - acc: 0.9467 - val_loss: 0.1778 - val_acc: 0.9517\n",
            "Epoch 19/20\n",
            "52/52 [==============================] - 0s 7ms/step - loss: 0.1904 - acc: 0.9505 - val_loss: 0.1765 - val_acc: 0.9553\n",
            "Epoch 20/20\n",
            "52/52 [==============================] - 0s 7ms/step - loss: 0.1872 - acc: 0.9522 - val_loss: 0.1759 - val_acc: 0.9553\n"
          ],
          "name": "stdout"
        }
      ]
    },
    {
      "cell_type": "code",
      "metadata": {
        "id": "0GdxIFEcMS94",
        "colab": {
          "base_uri": "https://localhost:8080/",
          "height": 590
        },
        "outputId": "56999abf-4bc9-4289-b4cb-5667d2ecd67a"
      },
      "source": [
        "#Use plot_history function to plot the model curves for loss and accuracy\n",
        "plot_history(g_history)"
      ],
      "execution_count": 116,
      "outputs": [
        {
          "output_type": "stream",
          "text": [
            "dict_keys(['loss', 'acc', 'val_loss', 'val_acc'])\n"
          ],
          "name": "stdout"
        },
        {
          "output_type": "display_data",
          "data": {
            "image/png": "[encoded data removed]",
            "text/plain": [
              "<Figure size 432x288 with 1 Axes>"
            ]
          },
          "metadata": {
            "tags": [],
            "needs_background": "light"
          }
        },
        {
          "output_type": "display_data",
          "data": {
            "image/png": "[encoded data removed]",
            "text/plain": [
              "<Figure size 432x288 with 1 Axes>"
            ]
          },
          "metadata": {
            "tags": [],
            "needs_background": "light"
          }
        }
      ]
    },
    {
      "cell_type": "code",
      "metadata": {
        "id": "f4vFqrzPMWmY",
        "colab": {
          "base_uri": "https://localhost:8080/"
        },
        "outputId": "3f064844-8d2f-47e5-a1e4-a685bd183c53"
      },
      "source": [
        "# Use evaluate_on_test function to note accuracy, precision, recall and F1 score on test data\n",
        "evaluate_on_test(X_test.astype(np.float32),y_test,G_model)"
      ],
      "execution_count": 117,
      "outputs": [
        {
          "output_type": "stream",
          "text": [
            "/usr/local/lib/python3.7/dist-packages/keras/engine/sequential.py:450: UserWarning: `model.predict_classes()` is deprecated and will be removed after 2021-01-01. Please use instead:* `np.argmax(model.predict(x), axis=-1)`,   if your model does multi-class classification   (e.g. if it uses a `softmax` last-layer activation).* `(model.predict(x) > 0.5).astype(\"int32\")`,   if your model does binary classification   (e.g. if it uses a `sigmoid` last-layer activation).\n",
            "  warnings.warn('`model.predict_classes()` is deprecated and '\n"
          ],
          "name": "stderr"
        },
        {
          "output_type": "stream",
          "text": [
            "Accuracy: 0.947556\n",
            "Precision: 1.000000\n",
            "Recall: 0.237718\n",
            "F1 score: 0.384123\n"
          ],
          "name": "stdout"
        }
      ]
    },
    {
      "cell_type": "markdown",
      "metadata": {
        "id": "tfZHhIZW9zXI"
      },
      "source": [
        ""
      ]
    },
    {
      "cell_type": "code",
      "metadata": {
        "id": "62VFEslyqEWX"
      },
      "source": [
        "#Define an LSTM model function. Use the LSTM layer as shown below.\n",
        "#Notice the change in number of parameters\n",
        "def LSTM_model(neurons=40, op=1):\n",
        "  #first define Sequential model\n",
        "  model = Sequential()\n",
        "  model.add(Bidirectional(LSTM(neurons, return_sequences=True), input_shape=(1,op)))\n",
        "  #Add more layers\n",
        "  model.add(LSTM(2*neurons))\n",
        "  model.add(Dense(2, activation='softmax'))\n",
        "  model.compile(\n",
        "    optimizer=tf.optimizers.Adam(learning_rate=0.0003),\n",
        "    loss='binary_crossentropy',\n",
        "    metrics=['acc'])\n",
        "  return model"
      ],
      "execution_count": 67,
      "outputs": []
    },
    {
      "cell_type": "code",
      "metadata": {
        "id": "1HZqWlbtqegR",
        "colab": {
          "base_uri": "https://localhost:8080/"
        },
        "outputId": "2d7c9ba1-e9d9-4845-d8ba-00d3927cba67"
      },
      "source": [
        "tf.keras.backend.clear_session()\n",
        "training_model = LSTM_model(neurons=40, op=10)\n",
        "training_model.summary()"
      ],
      "execution_count": 68,
      "outputs": [
        {
          "output_type": "stream",
          "text": [
            "Model: \"sequential\"\n",
            "_________________________________________________________________\n",
            "Layer (type)                 Output Shape              Param #   \n",
            "=================================================================\n",
            "bidirectional (Bidirectional (None, 1, 80)             16320     \n",
            "_________________________________________________________________\n",
            "lstm_1 (LSTM)                (None, 80)                51520     \n",
            "_________________________________________________________________\n",
            "dense (Dense)                (None, 2)                 162       \n",
            "=================================================================\n",
            "Total params: 68,002\n",
            "Trainable params: 68,002\n",
            "Non-trainable params: 0\n",
            "_________________________________________________________________\n"
          ],
          "name": "stdout"
        }
      ]
    },
    {
      "cell_type": "code",
      "metadata": {
        "id": "duvgEdL-rur0",
        "colab": {
          "base_uri": "https://localhost:8080/"
        },
        "outputId": "88da4c19-f253-4bff-bab2-3edcf9e02a33"
      },
      "source": [
        "#Train the training_model (20 epochs, 1000 samples per batch, validation split=0.2)\n",
        "lstm_history = training_model.fit(X_train.astype(np.float32), y_train,\n",
        "                    epochs=20,\n",
        "                    batch_size=1000,#atleast 1000 records per epoch\n",
        "                    validation_split=0.2)"
      ],
      "execution_count": 69,
      "outputs": [
        {
          "output_type": "stream",
          "text": [
            "Epoch 1/20\n",
            "52/52 [==============================] - 11s 33ms/step - loss: 0.6600 - acc: 0.8746 - val_loss: 0.5291 - val_acc: 0.9356\n",
            "Epoch 2/20\n",
            "52/52 [==============================] - 0s 8ms/step - loss: 0.4646 - acc: 0.9351 - val_loss: 0.2823 - val_acc: 0.9356\n",
            "Epoch 3/20\n",
            "52/52 [==============================] - 0s 8ms/step - loss: 0.2591 - acc: 0.9358 - val_loss: 0.2196 - val_acc: 0.9356\n",
            "Epoch 4/20\n",
            "52/52 [==============================] - 0s 8ms/step - loss: 0.2183 - acc: 0.9344 - val_loss: 0.2056 - val_acc: 0.9356\n",
            "Epoch 5/20\n",
            "52/52 [==============================] - 0s 8ms/step - loss: 0.2106 - acc: 0.9341 - val_loss: 0.2019 - val_acc: 0.9356\n",
            "Epoch 6/20\n",
            "52/52 [==============================] - 0s 8ms/step - loss: 0.2031 - acc: 0.9357 - val_loss: 0.2001 - val_acc: 0.9356\n",
            "Epoch 7/20\n",
            "52/52 [==============================] - 0s 9ms/step - loss: 0.2072 - acc: 0.9338 - val_loss: 0.1988 - val_acc: 0.9356\n",
            "Epoch 8/20\n",
            "52/52 [==============================] - 0s 8ms/step - loss: 0.1986 - acc: 0.9369 - val_loss: 0.1978 - val_acc: 0.9356\n",
            "Epoch 9/20\n",
            "52/52 [==============================] - 0s 8ms/step - loss: 0.2020 - acc: 0.9349 - val_loss: 0.1970 - val_acc: 0.9356\n",
            "Epoch 10/20\n",
            "52/52 [==============================] - 0s 8ms/step - loss: 0.2003 - acc: 0.9346 - val_loss: 0.1962 - val_acc: 0.9356\n",
            "Epoch 11/20\n",
            "52/52 [==============================] - 0s 8ms/step - loss: 0.1939 - acc: 0.9373 - val_loss: 0.1957 - val_acc: 0.9356\n",
            "Epoch 12/20\n",
            "52/52 [==============================] - 0s 8ms/step - loss: 0.1964 - acc: 0.9359 - val_loss: 0.1948 - val_acc: 0.9356\n",
            "Epoch 13/20\n",
            "52/52 [==============================] - 0s 8ms/step - loss: 0.1914 - acc: 0.9374 - val_loss: 0.1942 - val_acc: 0.9356\n",
            "Epoch 14/20\n",
            "52/52 [==============================] - 0s 8ms/step - loss: 0.1935 - acc: 0.9370 - val_loss: 0.1936 - val_acc: 0.9356\n",
            "Epoch 15/20\n",
            "52/52 [==============================] - 0s 8ms/step - loss: 0.1941 - acc: 0.9358 - val_loss: 0.1929 - val_acc: 0.9356\n",
            "Epoch 16/20\n",
            "52/52 [==============================] - 0s 8ms/step - loss: 0.1981 - acc: 0.9352 - val_loss: 0.1922 - val_acc: 0.9356\n",
            "Epoch 17/20\n",
            "52/52 [==============================] - 0s 8ms/step - loss: 0.1937 - acc: 0.9357 - val_loss: 0.1916 - val_acc: 0.9476\n",
            "Epoch 18/20\n",
            "52/52 [==============================] - 0s 8ms/step - loss: 0.1911 - acc: 0.9467 - val_loss: 0.1908 - val_acc: 0.9476\n",
            "Epoch 19/20\n",
            "52/52 [==============================] - 0s 8ms/step - loss: 0.1941 - acc: 0.9456 - val_loss: 0.1902 - val_acc: 0.9476\n",
            "Epoch 20/20\n",
            "52/52 [==============================] - 0s 8ms/step - loss: 0.1921 - acc: 0.9457 - val_loss: 0.1896 - val_acc: 0.9476\n"
          ],
          "name": "stdout"
        }
      ]
    },
    {
      "cell_type": "code",
      "metadata": {
        "id": "5MF7_nuj2ZQO",
        "colab": {
          "base_uri": "https://localhost:8080/",
          "height": 590
        },
        "outputId": "954233cd-b114-4324-ebed-ce681285e30d"
      },
      "source": [
        "#Use plot_history function to plot the model curves for loss and accuracy\n",
        "plot_history(lstm_history)"
      ],
      "execution_count": 70,
      "outputs": [
        {
          "output_type": "stream",
          "text": [
            "dict_keys(['loss', 'acc', 'val_loss', 'val_acc'])\n"
          ],
          "name": "stdout"
        },
        {
          "output_type": "display_data",
          "data": {
            "image/png": "[encoded data removed]",
            "text/plain": [
              "<Figure size 432x288 with 1 Axes>"
            ]
          },
          "metadata": {
            "tags": [],
            "needs_background": "light"
          }
        },
        {
          "output_type": "display_data",
          "data": {
            "image/png": "[encoded data removed]",
            "text/plain": [
              "<Figure size 432x288 with 1 Axes>"
            ]
          },
          "metadata": {
            "tags": [],
            "needs_background": "light"
          }
        }
      ]
    },
    {
      "cell_type": "code",
      "metadata": {
        "id": "KAGWtCN-OKrG",
        "colab": {
          "base_uri": "https://localhost:8080/"
        },
        "outputId": "0bfb967f-4141-4dad-f10e-83497539358d"
      },
      "source": [
        "# Use evaluate_on_test function to note accuracy, precision, recall and F1 score on test data\n",
        "evaluate_on_test(X_test.astype(np.float32),y_test,training_model)"
      ],
      "execution_count": 71,
      "outputs": [
        {
          "output_type": "stream",
          "text": [
            "/usr/local/lib/python3.7/dist-packages/keras/engine/sequential.py:450: UserWarning: `model.predict_classes()` is deprecated and will be removed after 2021-01-01. Please use instead:* `np.argmax(model.predict(x), axis=-1)`,   if your model does multi-class classification   (e.g. if it uses a `softmax` last-layer activation).* `(model.predict(x) > 0.5).astype(\"int32\")`,   if your model does binary classification   (e.g. if it uses a `sigmoid` last-layer activation).\n",
            "  warnings.warn('`model.predict_classes()` is deprecated and '\n"
          ],
          "name": "stderr"
        },
        {
          "output_type": "stream",
          "text": [
            "Accuracy: 0.944648\n",
            "Precision: 1.000000\n",
            "Recall: 0.158564\n",
            "F1 score: 0.273724\n"
          ],
          "name": "stdout"
        }
      ]
    },
    {
      "cell_type": "markdown",
      "metadata": {
        "id": "4nf9aSqW4ctV"
      },
      "source": [
        "# Task 3: Create sequence data upto size 300. Apply 70/30 split for train-test data.\n",
        "# Next, fit ONLY the best data model (pick ONE between simple RNN /GRU/ LSTM reported in Task 2) on this data.\n"
      ]
    },
    {
      "cell_type": "code",
      "metadata": {
        "id": "oSTGbc7BP6gB"
      },
      "source": [
        "#Step 1: Create sequence upto 300\n",
        "short_sequence_300 = sequence[sequence['event'].map(len) <= 300]\n",
        "event_sequence_300 = short_sequence_300['event'].to_list()\n",
        "event_300 = pad_sequences(event_sequence_300)"
      ],
      "execution_count": 118,
      "outputs": []
    },
    {
      "cell_type": "code",
      "metadata": {
        "id": "O7w-kY3Ndas4",
        "colab": {
          "base_uri": "https://localhost:8080/"
        },
        "outputId": "65f44866-d8b7-4bc4-cf5b-04789a704282"
      },
      "source": [
        "# One Hot Encoding the Purchase label\n",
        "y_300 = np.array(pd.get_dummies(short_sequence_300['purchase'],prefix='Purchase'))\n",
        "# Function call to 'prepare_train_test_data' to create 70/30 split data\n",
        "X_train_300, X_test_300, y_train_300, y_test_300= X_train, X_test, y_train, y_test=prepare_train_test_data(np.array(event_300),y_300)\n",
        "print(X_train_300.shape, y_train_300.shape)"
      ],
      "execution_count": 119,
      "outputs": [
        {
          "output_type": "stream",
          "text": [
            "(83594, 1, 300) (83594, 2)\n"
          ],
          "name": "stdout"
        }
      ]
    },
    {
      "cell_type": "code",
      "metadata": {
        "id": "VgB3ISRAP6s2"
      },
      "source": [
        "# Initialize your best model (RNN or GRU or LSTM)\n",
        "tf.keras.backend.clear_session()\n",
        "RNN_model = simple_RNN_model(neurons=40, op=10)"
      ],
      "execution_count": 120,
      "outputs": []
    },
    {
      "cell_type": "code",
      "metadata": {
        "id": "k8xqdlNaSC7U",
        "colab": {
          "base_uri": "https://localhost:8080/"
        },
        "outputId": "b2807648-5e75-463d-b813-1f6522d12820"
      },
      "source": [
        "#Fit your model on Training data (20 epochs, 1000 samples per batch, validation_split=0.2)\n",
        "r_history = RNN_model.fit(X_train.astype(np.float32), y_train,\n",
        "                    epochs=20,\n",
        "                    batch_size=1000,#atleast 1000 records per epoch\n",
        "                    validation_split=0.2)"
      ],
      "execution_count": 121,
      "outputs": [
        {
          "output_type": "stream",
          "text": [
            "Epoch 1/20\n",
            "67/67 [==============================] - 3s 13ms/step - loss: 0.5489 - acc: 0.8217 - val_loss: 0.3164 - val_acc: 0.9072\n",
            "Epoch 2/20\n",
            "67/67 [==============================] - 1s 8ms/step - loss: 0.3098 - acc: 0.9035 - val_loss: 0.2775 - val_acc: 0.9072\n",
            "Epoch 3/20\n",
            "67/67 [==============================] - 1s 8ms/step - loss: 0.2825 - acc: 0.9051 - val_loss: 0.2710 - val_acc: 0.9071\n",
            "Epoch 4/20\n",
            "67/67 [==============================] - 1s 8ms/step - loss: 0.2718 - acc: 0.9075 - val_loss: 0.2686 - val_acc: 0.9072\n",
            "Epoch 5/20\n",
            "67/67 [==============================] - 1s 8ms/step - loss: 0.2750 - acc: 0.9048 - val_loss: 0.2674 - val_acc: 0.9072\n",
            "Epoch 6/20\n",
            "67/67 [==============================] - 1s 8ms/step - loss: 0.2731 - acc: 0.9054 - val_loss: 0.2661 - val_acc: 0.9073\n",
            "Epoch 7/20\n",
            "67/67 [==============================] - 1s 8ms/step - loss: 0.2696 - acc: 0.9066 - val_loss: 0.2652 - val_acc: 0.9071\n",
            "Epoch 8/20\n",
            "67/67 [==============================] - 1s 8ms/step - loss: 0.2749 - acc: 0.9031 - val_loss: 0.2637 - val_acc: 0.9072\n",
            "Epoch 9/20\n",
            "67/67 [==============================] - 1s 8ms/step - loss: 0.2661 - acc: 0.9077 - val_loss: 0.2628 - val_acc: 0.9069\n",
            "Epoch 10/20\n",
            "67/67 [==============================] - 1s 8ms/step - loss: 0.2678 - acc: 0.9111 - val_loss: 0.2609 - val_acc: 0.9164\n",
            "Epoch 11/20\n",
            "67/67 [==============================] - 1s 8ms/step - loss: 0.2639 - acc: 0.9139 - val_loss: 0.2598 - val_acc: 0.9164\n",
            "Epoch 12/20\n",
            "67/67 [==============================] - 1s 7ms/step - loss: 0.2631 - acc: 0.9137 - val_loss: 0.2585 - val_acc: 0.9164\n",
            "Epoch 13/20\n",
            "67/67 [==============================] - 0s 7ms/step - loss: 0.2611 - acc: 0.9143 - val_loss: 0.2574 - val_acc: 0.9164\n",
            "Epoch 14/20\n",
            "67/67 [==============================] - 1s 8ms/step - loss: 0.2638 - acc: 0.9129 - val_loss: 0.2561 - val_acc: 0.9163\n",
            "Epoch 15/20\n",
            "67/67 [==============================] - 0s 7ms/step - loss: 0.2620 - acc: 0.9136 - val_loss: 0.2550 - val_acc: 0.9179\n",
            "Epoch 16/20\n",
            "67/67 [==============================] - 1s 8ms/step - loss: 0.2598 - acc: 0.9157 - val_loss: 0.2549 - val_acc: 0.9200\n",
            "Epoch 17/20\n",
            "67/67 [==============================] - 1s 8ms/step - loss: 0.2617 - acc: 0.9167 - val_loss: 0.2535 - val_acc: 0.9209\n",
            "Epoch 18/20\n",
            "67/67 [==============================] - 1s 8ms/step - loss: 0.2588 - acc: 0.9173 - val_loss: 0.2531 - val_acc: 0.9208\n",
            "Epoch 19/20\n",
            "67/67 [==============================] - 1s 8ms/step - loss: 0.2552 - acc: 0.9190 - val_loss: 0.2521 - val_acc: 0.9206\n",
            "Epoch 20/20\n",
            "67/67 [==============================] - 1s 8ms/step - loss: 0.2574 - acc: 0.9170 - val_loss: 0.2518 - val_acc: 0.9206\n"
          ],
          "name": "stdout"
        }
      ]
    },
    {
      "cell_type": "code",
      "metadata": {
        "id": "o29x00P0I0gq",
        "colab": {
          "base_uri": "https://localhost:8080/",
          "height": 590
        },
        "outputId": "2a6760ae-ac0f-46fb-e237-d17039e99b1b"
      },
      "source": [
        "#Use plot_history function to plot the model curves for loss and accuracy\n",
        "plot_history(r_history)"
      ],
      "execution_count": 122,
      "outputs": [
        {
          "output_type": "stream",
          "text": [
            "dict_keys(['loss', 'acc', 'val_loss', 'val_acc'])\n"
          ],
          "name": "stdout"
        },
        {
          "output_type": "display_data",
          "data": {
            "image/png": "[encoded data removed]",
            "text/plain": [
              "<Figure size 432x288 with 1 Axes>"
            ]
          },
          "metadata": {
            "tags": [],
            "needs_background": "light"
          }
        },
        {
          "output_type": "display_data",
          "data": {
            "image/png": "[encoded data removed]",
            "text/plain": [
              "<Figure size 432x288 with 1 Axes>"
            ]
          },
          "metadata": {
            "tags": [],
            "needs_background": "light"
          }
        }
      ]
    },
    {
      "cell_type": "code",
      "metadata": {
        "id": "AQA-jjzrI8_6",
        "colab": {
          "base_uri": "https://localhost:8080/"
        },
        "outputId": "3ac827d3-4a67-45e8-b686-6ce913126ea5"
      },
      "source": [
        "# Use evaluate_on_test function to note accuracy, precision, recall and F1 score on test data\n",
        "evaluate_on_test(X_test.astype(np.float32),y_test,RNN_model)"
      ],
      "execution_count": 123,
      "outputs": [
        {
          "output_type": "stream",
          "text": [
            "/usr/local/lib/python3.7/dist-packages/keras/engine/sequential.py:450: UserWarning: `model.predict_classes()` is deprecated and will be removed after 2021-01-01. Please use instead:* `np.argmax(model.predict(x), axis=-1)`,   if your model does multi-class classification   (e.g. if it uses a `softmax` last-layer activation).* `(model.predict(x) > 0.5).astype(\"int32\")`,   if your model does binary classification   (e.g. if it uses a `sigmoid` last-layer activation).\n",
            "  warnings.warn('`model.predict_classes()` is deprecated and '\n"
          ],
          "name": "stderr"
        },
        {
          "output_type": "stream",
          "text": [
            "Accuracy: 0.918383\n",
            "Precision: 0.972093\n",
            "Recall: 0.125526\n",
            "F1 score: 0.222340\n"
          ],
          "name": "stdout"
        }
      ]
    },
    {
      "cell_type": "markdown",
      "metadata": {
        "id": "2_5HNGfkP7I6"
      },
      "source": [
        "# Task 4: Finally apply feature-based classification on the session-feature level data (Session_features.pkl).\n",
        "\n",
        "Apply your best model so far on 70/30 split data for session-feature level data and report your outcome!"
      ]
    },
    {
      "cell_type": "code",
      "metadata": {
        "id": "QQHFIkXGI6zs",
        "colab": {
          "base_uri": "https://localhost:8080/"
        },
        "outputId": "4d00212e-021f-4335-d48c-5b852bd5f056"
      },
      "source": [
        "#data=feat, conrains X and Y(last column)\n",
        "Xf=feat.iloc[:,0:34]\n",
        "Yf=feat.iloc[:,35]\n",
        "#########################START CODE HERE##########################\n",
        "Xf_train, Xf_test, yf_train, yf_test= prepare_train_test_data(np.array(Xf),np.array(Yf)) # Function call to 'prepare_train_test_data' to create 70/30 split data\n",
        "print(Xf_train.shape, yf_train.shape)"
      ],
      "execution_count": 124,
      "outputs": [
        {
          "output_type": "stream",
          "text": [
            "(1050000, 1, 34) (1050000,)\n"
          ],
          "name": "stdout"
        }
      ]
    },
    {
      "cell_type": "code",
      "metadata": {
        "id": "GuxjWsu8QPhi"
      },
      "source": [
        "#Initialize ANY model (RNN or GRU or LSTM)\n",
        "tf.keras.backend.clear_session()\n",
        "RNN_model = simple_RNN_model(neurons=40, op=10)"
      ],
      "execution_count": 125,
      "outputs": []
    },
    {
      "cell_type": "code",
      "metadata": {
        "id": "zwukFzm5yYcj",
        "colab": {
          "base_uri": "https://localhost:8080/"
        },
        "outputId": "4bad349e-183e-4f42-f960-a6b3cf397bcd"
      },
      "source": [
        "#Fit your model on Training data (20 epochs, 1000 samples per batch, validation_split=0.2)\n",
        "r_history = RNN_model.fit(X_train.astype(np.float32), y_train,\n",
        "                    epochs=20,\n",
        "                    batch_size=1000,#atleast 1000 records per epoch\n",
        "                    validation_split=0.2)"
      ],
      "execution_count": 126,
      "outputs": [
        {
          "output_type": "stream",
          "text": [
            "Epoch 1/20\n",
            "67/67 [==============================] - 3s 13ms/step - loss: 0.5143 - acc: 0.8302 - val_loss: 0.3065 - val_acc: 0.9072\n",
            "Epoch 2/20\n",
            "67/67 [==============================] - 1s 8ms/step - loss: 0.2994 - acc: 0.9059 - val_loss: 0.2744 - val_acc: 0.9072\n",
            "Epoch 3/20\n",
            "67/67 [==============================] - 1s 8ms/step - loss: 0.2799 - acc: 0.9043 - val_loss: 0.2692 - val_acc: 0.9072\n",
            "Epoch 4/20\n",
            "67/67 [==============================] - 1s 8ms/step - loss: 0.2696 - acc: 0.9083 - val_loss: 0.2672 - val_acc: 0.9072\n",
            "Epoch 5/20\n",
            "67/67 [==============================] - 1s 8ms/step - loss: 0.2757 - acc: 0.9038 - val_loss: 0.2661 - val_acc: 0.9072\n",
            "Epoch 6/20\n",
            "67/67 [==============================] - 1s 8ms/step - loss: 0.2710 - acc: 0.9057 - val_loss: 0.2650 - val_acc: 0.9072\n",
            "Epoch 7/20\n",
            "67/67 [==============================] - 1s 8ms/step - loss: 0.2673 - acc: 0.9067 - val_loss: 0.2636 - val_acc: 0.9072\n",
            "Epoch 8/20\n",
            "67/67 [==============================] - 1s 8ms/step - loss: 0.2696 - acc: 0.9048 - val_loss: 0.2623 - val_acc: 0.9071\n",
            "Epoch 9/20\n",
            "67/67 [==============================] - 1s 8ms/step - loss: 0.2700 - acc: 0.9054 - val_loss: 0.2612 - val_acc: 0.9164\n",
            "Epoch 10/20\n",
            "67/67 [==============================] - 0s 7ms/step - loss: 0.2686 - acc: 0.9121 - val_loss: 0.2599 - val_acc: 0.9164\n",
            "Epoch 11/20\n",
            "67/67 [==============================] - 1s 8ms/step - loss: 0.2629 - acc: 0.9144 - val_loss: 0.2585 - val_acc: 0.9164\n",
            "Epoch 12/20\n",
            "67/67 [==============================] - 1s 8ms/step - loss: 0.2616 - acc: 0.9141 - val_loss: 0.2572 - val_acc: 0.9164\n",
            "Epoch 13/20\n",
            "67/67 [==============================] - 1s 8ms/step - loss: 0.2607 - acc: 0.9140 - val_loss: 0.2560 - val_acc: 0.9161\n",
            "Epoch 14/20\n",
            "67/67 [==============================] - 1s 8ms/step - loss: 0.2612 - acc: 0.9138 - val_loss: 0.2548 - val_acc: 0.9175\n",
            "Epoch 15/20\n",
            "67/67 [==============================] - 1s 8ms/step - loss: 0.2593 - acc: 0.9162 - val_loss: 0.2541 - val_acc: 0.9202\n",
            "Epoch 16/20\n",
            "67/67 [==============================] - 1s 8ms/step - loss: 0.2583 - acc: 0.9176 - val_loss: 0.2529 - val_acc: 0.9203\n",
            "Epoch 17/20\n",
            "67/67 [==============================] - 1s 8ms/step - loss: 0.2575 - acc: 0.9175 - val_loss: 0.2526 - val_acc: 0.9205\n",
            "Epoch 18/20\n",
            "67/67 [==============================] - 1s 8ms/step - loss: 0.2542 - acc: 0.9186 - val_loss: 0.2520 - val_acc: 0.9209\n",
            "Epoch 19/20\n",
            "67/67 [==============================] - 1s 8ms/step - loss: 0.2552 - acc: 0.9185 - val_loss: 0.2516 - val_acc: 0.9203\n",
            "Epoch 20/20\n",
            "67/67 [==============================] - 1s 8ms/step - loss: 0.2586 - acc: 0.9164 - val_loss: 0.2505 - val_acc: 0.9206\n"
          ],
          "name": "stdout"
        }
      ]
    },
    {
      "cell_type": "code",
      "metadata": {
        "id": "ILXRxuM_ymWm",
        "colab": {
          "base_uri": "https://localhost:8080/",
          "height": 590
        },
        "outputId": "9b395ce8-2db3-4212-f7e9-5d273f7295f8"
      },
      "source": [
        "#Use plot_history function to plot the model curves for loss and accuracy\n",
        "plot_history(r_history)"
      ],
      "execution_count": 127,
      "outputs": [
        {
          "output_type": "stream",
          "text": [
            "dict_keys(['loss', 'acc', 'val_loss', 'val_acc'])\n"
          ],
          "name": "stdout"
        },
        {
          "output_type": "display_data",
          "data": {
            "image/png": "[encoded data removed]",
            "text/plain": [
              "<Figure size 432x288 with 1 Axes>"
            ]
          },
          "metadata": {
            "tags": [],
            "needs_background": "light"
          }
        },
        {
          "output_type": "display_data",
          "data": {
            "image/png": "[encoded data removed]",
            "text/plain": [
              "<Figure size 432x288 with 1 Axes>"
            ]
          },
          "metadata": {
            "tags": [],
            "needs_background": "light"
          }
        }
      ]
    },
    {
      "cell_type": "code",
      "metadata": {
        "id": "3BhRFSlcyqhT",
        "colab": {
          "base_uri": "https://localhost:8080/"
        },
        "outputId": "0886b892-79d2-49cf-e95b-ef98c5e72a4a"
      },
      "source": [
        "# Use evaluate_on_test function to note accuracy, precision, recall and F1 score on test data\n",
        "evaluate_on_test(X_test.astype(np.float32),y_test,RNN_model)"
      ],
      "execution_count": 128,
      "outputs": [
        {
          "output_type": "stream",
          "text": [
            "/usr/local/lib/python3.7/dist-packages/keras/engine/sequential.py:450: UserWarning: `model.predict_classes()` is deprecated and will be removed after 2021-01-01. Please use instead:* `np.argmax(model.predict(x), axis=-1)`,   if your model does multi-class classification   (e.g. if it uses a `softmax` last-layer activation).* `(model.predict(x) > 0.5).astype(\"int32\")`,   if your model does binary classification   (e.g. if it uses a `sigmoid` last-layer activation).\n",
            "  warnings.warn('`model.predict_classes()` is deprecated and '\n"
          ],
          "name": "stderr"
        },
        {
          "output_type": "stream",
          "text": [
            "Accuracy: 0.918439\n",
            "Precision: 0.978873\n",
            "Recall: 0.125225\n",
            "F1 score: 0.222045\n"
          ],
          "name": "stdout"
        }
      ]
    },
    {
      "cell_type": "markdown",
      "metadata": {
        "id": "ocx8Ydrey0-W"
      },
      "source": [
        "# **Summary and Discussion:** **Discuss** \"What would you report back to your manager?\" \n",
        "# Think in terms of Data, Process and Outcomes specifically.\n",
        "## Consider the following:\n",
        "1. Is feature-level data necessary? What metrics suggest that?\n",
        "2. Is sequence-level data sufficient? What sequence size would you suggest?\n",
        "3. What is the metric/metrics you would use to report your results?\n",
        "\n",
        "#Share screen and discuss findings. Think about generalizability (something that works across data sets)\n"
      ]
    },
    {
      "cell_type": "code",
      "metadata": {
        "id": "pV3hajwrzFPm"
      },
      "source": [
        ""
      ],
      "execution_count": null,
      "outputs": []
    }
  ]
}