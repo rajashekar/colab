{
  "nbformat": 4,
  "nbformat_minor": 0,
  "metadata": {
    "colab": {
      "name": "Week0_Regression_assignment_inclass.ipynb",
      "provenance": [],
      "collapsed_sections": [],
      "include_colab_link": true
    },
    "kernelspec": {
      "name": "python3",
      "display_name": "Python 3"
    }
  },
  "cells": [
    {
      "cell_type": "markdown",
      "metadata": {
        "id": "view-in-github",
        "colab_type": "text"
      },
      "source": [
        "<a href=\"https://colab.research.google.com/github/rajashekar/colab/blob/main/Week0_Regression_assignment_inclass.ipynb\" target=\"_parent\"><img src=\"https://colab.research.google.com/assets/colab-badge.svg\" alt=\"Open In Colab\"/></a>"
      ]
    },
    {
      "cell_type": "markdown",
      "metadata": {
        "id": "EEmebwjevCxD"
      },
      "source": [
        "**This Exercise shows how to use Google colab to apply regression models.**\n",
        "**Copy the Colab notebook and data to your google drive before proceeding.**"
      ]
    },
    {
      "cell_type": "markdown",
      "metadata": {
        "id": "w2bxy82Vu4fQ"
      },
      "source": [
        "Step 1: Connect Google drive that stores the data with your Google Colab Notebook"
      ]
    },
    {
      "cell_type": "code",
      "metadata": {
        "id": "_GlfTo5zE2ba"
      },
      "source": [
        "import numpy as np\n",
        "import numpy.matlib as matlib\n",
        "!pip install -U -q PyDrive\n",
        "from pydrive.auth import GoogleAuth\n",
        "from pydrive.drive import GoogleDrive\n",
        "from google.colab import auth\n",
        "from oauth2client.client import GoogleCredentials\n"
      ],
      "execution_count": null,
      "outputs": []
    },
    {
      "cell_type": "code",
      "metadata": {
        "id": "HT1yuyN5zJ19"
      },
      "source": [
        "auth.authenticate_user()\n",
        "gauth = GoogleAuth()\n",
        "gauth.credentials = GoogleCredentials.get_application_default()\n",
        "drive = GoogleDrive(gauth)\n"
      ],
      "execution_count": null,
      "outputs": []
    },
    {
      "cell_type": "markdown",
      "metadata": {
        "id": "q6AR4c7ivMtD"
      },
      "source": [
        "Replace the ID with ID of file you want to access. To get this ID: \n",
        "\n",
        "1.   Right-click on the name of the appropriate file in your Google Drive\n",
        "2.   Click \"Get link\"\n",
        "3.   Copy the characters between `d/` and the following slash\n",
        "4.   Paste them into the dictionary argument of the call to `drive.CreateFile()` as the value associated with the 'id' key. Make sure that this value is a string.\n",
        "\n"
      ]
    },
    {
      "cell_type": "code",
      "metadata": {
        "id": "mb5xkL1QzPYg"
      },
      "source": [
        "# Replace the ID with ID of file you want to access\n",
        "# To get this ID, right-click on the name of the appropriate file in your \n",
        "downloaded = drive.CreateFile({'id':'18EFDQe9OI2jEfJWj3-Qq1MBoLWmhIDeq'}) \n",
        "downloaded.GetContentFile('time_series_covid_19_confirmed.csv') "
      ],
      "execution_count": null,
      "outputs": []
    },
    {
      "cell_type": "markdown",
      "metadata": {
        "id": "cj14ep-Dvc7x"
      },
      "source": [
        "Step 2: Read the Data and verify its format!"
      ]
    },
    {
      "cell_type": "code",
      "metadata": {
        "id": "swBygPdz0iJt",
        "colab": {
          "base_uri": "https://localhost:8080/",
          "height": 270
        },
        "outputId": "ebed6553-2765-4d24-b328-66f422aaa7ed"
      },
      "source": [
        "import pandas as pd\n",
        "data = pd.read_csv('time_series_covid_19_confirmed.csv') \n",
        "print(\"The shape of data=\",data.shape)\n",
        "data.head()"
      ],
      "execution_count": null,
      "outputs": [
        {
          "output_type": "stream",
          "text": [
            "The shape of data= (266, 225)\n"
          ],
          "name": "stdout"
        },
        {
          "output_type": "execute_result",
          "data": {
            "text/html": [
              "<div>\n",
              "<style scoped>\n",
              "    .dataframe tbody tr th:only-of-type {\n",
              "        vertical-align: middle;\n",
              "    }\n",
              "\n",
              "    .dataframe tbody tr th {\n",
              "        vertical-align: top;\n",
              "    }\n",
              "\n",
              "    .dataframe thead th {\n",
              "        text-align: right;\n",
              "    }\n",
              "</style>\n",
              "<table border=\"1\" class=\"dataframe\">\n",
              "  <thead>\n",
              "    <tr style=\"text-align: right;\">\n",
              "      <th></th>\n",
              "      <th>Province/State</th>\n",
              "      <th>Country/Region</th>\n",
              "      <th>Lat</th>\n",
              "      <th>Long</th>\n",
              "      <th>1/22/20</th>\n",
              "      <th>1/23/20</th>\n",
              "      <th>1/24/20</th>\n",
              "      <th>1/25/20</th>\n",
              "      <th>1/26/20</th>\n",
              "      <th>1/27/20</th>\n",
              "      <th>1/28/20</th>\n",
              "      <th>1/29/20</th>\n",
              "      <th>1/30/20</th>\n",
              "      <th>1/31/20</th>\n",
              "      <th>2/1/20</th>\n",
              "      <th>2/2/20</th>\n",
              "      <th>2/3/20</th>\n",
              "      <th>2/4/20</th>\n",
              "      <th>2/5/20</th>\n",
              "      <th>2/6/20</th>\n",
              "      <th>2/7/20</th>\n",
              "      <th>2/8/20</th>\n",
              "      <th>2/9/20</th>\n",
              "      <th>2/10/20</th>\n",
              "      <th>2/11/20</th>\n",
              "      <th>2/12/20</th>\n",
              "      <th>2/13/20</th>\n",
              "      <th>2/14/20</th>\n",
              "      <th>2/15/20</th>\n",
              "      <th>2/16/20</th>\n",
              "      <th>2/17/20</th>\n",
              "      <th>2/18/20</th>\n",
              "      <th>2/19/20</th>\n",
              "      <th>2/20/20</th>\n",
              "      <th>2/21/20</th>\n",
              "      <th>2/22/20</th>\n",
              "      <th>2/23/20</th>\n",
              "      <th>2/24/20</th>\n",
              "      <th>2/25/20</th>\n",
              "      <th>2/26/20</th>\n",
              "      <th>...</th>\n",
              "      <th>7/21/20</th>\n",
              "      <th>7/22/20</th>\n",
              "      <th>7/23/20</th>\n",
              "      <th>7/24/20</th>\n",
              "      <th>7/25/20</th>\n",
              "      <th>7/26/20</th>\n",
              "      <th>7/27/20</th>\n",
              "      <th>7/28/20</th>\n",
              "      <th>7/29/20</th>\n",
              "      <th>7/30/20</th>\n",
              "      <th>7/31/20</th>\n",
              "      <th>8/1/20</th>\n",
              "      <th>8/2/20</th>\n",
              "      <th>8/3/20</th>\n",
              "      <th>8/4/20</th>\n",
              "      <th>8/5/20</th>\n",
              "      <th>8/6/20</th>\n",
              "      <th>8/7/20</th>\n",
              "      <th>8/8/20</th>\n",
              "      <th>8/9/20</th>\n",
              "      <th>8/10/20</th>\n",
              "      <th>8/11/20</th>\n",
              "      <th>8/12/20</th>\n",
              "      <th>8/13/20</th>\n",
              "      <th>8/14/20</th>\n",
              "      <th>8/15/20</th>\n",
              "      <th>8/16/20</th>\n",
              "      <th>8/17/20</th>\n",
              "      <th>8/18/20</th>\n",
              "      <th>8/19/20</th>\n",
              "      <th>8/20/20</th>\n",
              "      <th>8/21/20</th>\n",
              "      <th>8/22/20</th>\n",
              "      <th>8/23/20</th>\n",
              "      <th>8/24/20</th>\n",
              "      <th>8/25/20</th>\n",
              "      <th>8/26/20</th>\n",
              "      <th>8/27/20</th>\n",
              "      <th>8/28/20</th>\n",
              "      <th>8/29/20</th>\n",
              "    </tr>\n",
              "  </thead>\n",
              "  <tbody>\n",
              "    <tr>\n",
              "      <th>0</th>\n",
              "      <td>NaN</td>\n",
              "      <td>Afghanistan</td>\n",
              "      <td>33.93911</td>\n",
              "      <td>67.709953</td>\n",
              "      <td>0</td>\n",
              "      <td>0</td>\n",
              "      <td>0</td>\n",
              "      <td>0</td>\n",
              "      <td>0</td>\n",
              "      <td>0</td>\n",
              "      <td>0</td>\n",
              "      <td>0</td>\n",
              "      <td>0</td>\n",
              "      <td>0</td>\n",
              "      <td>0</td>\n",
              "      <td>0</td>\n",
              "      <td>0</td>\n",
              "      <td>0</td>\n",
              "      <td>0</td>\n",
              "      <td>0</td>\n",
              "      <td>0</td>\n",
              "      <td>0</td>\n",
              "      <td>0</td>\n",
              "      <td>0</td>\n",
              "      <td>0</td>\n",
              "      <td>0</td>\n",
              "      <td>0</td>\n",
              "      <td>0</td>\n",
              "      <td>0</td>\n",
              "      <td>0</td>\n",
              "      <td>0</td>\n",
              "      <td>0</td>\n",
              "      <td>0</td>\n",
              "      <td>0</td>\n",
              "      <td>0</td>\n",
              "      <td>0</td>\n",
              "      <td>0</td>\n",
              "      <td>1</td>\n",
              "      <td>1</td>\n",
              "      <td>1</td>\n",
              "      <td>...</td>\n",
              "      <td>35615</td>\n",
              "      <td>35727</td>\n",
              "      <td>35928</td>\n",
              "      <td>35981</td>\n",
              "      <td>36036</td>\n",
              "      <td>36157</td>\n",
              "      <td>36263</td>\n",
              "      <td>36368</td>\n",
              "      <td>36471</td>\n",
              "      <td>36542</td>\n",
              "      <td>36675</td>\n",
              "      <td>36710</td>\n",
              "      <td>36710</td>\n",
              "      <td>36747</td>\n",
              "      <td>36782</td>\n",
              "      <td>36829</td>\n",
              "      <td>36896</td>\n",
              "      <td>37015</td>\n",
              "      <td>37054</td>\n",
              "      <td>37054</td>\n",
              "      <td>37162</td>\n",
              "      <td>37269</td>\n",
              "      <td>37345</td>\n",
              "      <td>37424</td>\n",
              "      <td>37431</td>\n",
              "      <td>37551</td>\n",
              "      <td>37596</td>\n",
              "      <td>37599</td>\n",
              "      <td>37599</td>\n",
              "      <td>37599</td>\n",
              "      <td>37856</td>\n",
              "      <td>37894</td>\n",
              "      <td>37953</td>\n",
              "      <td>37999</td>\n",
              "      <td>38054</td>\n",
              "      <td>38070</td>\n",
              "      <td>38113</td>\n",
              "      <td>38129</td>\n",
              "      <td>38140</td>\n",
              "      <td>38143</td>\n",
              "    </tr>\n",
              "    <tr>\n",
              "      <th>1</th>\n",
              "      <td>NaN</td>\n",
              "      <td>Albania</td>\n",
              "      <td>41.15330</td>\n",
              "      <td>20.168300</td>\n",
              "      <td>0</td>\n",
              "      <td>0</td>\n",
              "      <td>0</td>\n",
              "      <td>0</td>\n",
              "      <td>0</td>\n",
              "      <td>0</td>\n",
              "      <td>0</td>\n",
              "      <td>0</td>\n",
              "      <td>0</td>\n",
              "      <td>0</td>\n",
              "      <td>0</td>\n",
              "      <td>0</td>\n",
              "      <td>0</td>\n",
              "      <td>0</td>\n",
              "      <td>0</td>\n",
              "      <td>0</td>\n",
              "      <td>0</td>\n",
              "      <td>0</td>\n",
              "      <td>0</td>\n",
              "      <td>0</td>\n",
              "      <td>0</td>\n",
              "      <td>0</td>\n",
              "      <td>0</td>\n",
              "      <td>0</td>\n",
              "      <td>0</td>\n",
              "      <td>0</td>\n",
              "      <td>0</td>\n",
              "      <td>0</td>\n",
              "      <td>0</td>\n",
              "      <td>0</td>\n",
              "      <td>0</td>\n",
              "      <td>0</td>\n",
              "      <td>0</td>\n",
              "      <td>0</td>\n",
              "      <td>0</td>\n",
              "      <td>0</td>\n",
              "      <td>...</td>\n",
              "      <td>4290</td>\n",
              "      <td>4358</td>\n",
              "      <td>4466</td>\n",
              "      <td>4570</td>\n",
              "      <td>4637</td>\n",
              "      <td>4763</td>\n",
              "      <td>4880</td>\n",
              "      <td>4997</td>\n",
              "      <td>5105</td>\n",
              "      <td>5197</td>\n",
              "      <td>5276</td>\n",
              "      <td>5396</td>\n",
              "      <td>5519</td>\n",
              "      <td>5620</td>\n",
              "      <td>5750</td>\n",
              "      <td>5889</td>\n",
              "      <td>6016</td>\n",
              "      <td>6151</td>\n",
              "      <td>6275</td>\n",
              "      <td>6411</td>\n",
              "      <td>6536</td>\n",
              "      <td>6676</td>\n",
              "      <td>6817</td>\n",
              "      <td>6971</td>\n",
              "      <td>7117</td>\n",
              "      <td>7260</td>\n",
              "      <td>7380</td>\n",
              "      <td>7499</td>\n",
              "      <td>7654</td>\n",
              "      <td>7812</td>\n",
              "      <td>7967</td>\n",
              "      <td>8119</td>\n",
              "      <td>8275</td>\n",
              "      <td>8427</td>\n",
              "      <td>8605</td>\n",
              "      <td>8759</td>\n",
              "      <td>8927</td>\n",
              "      <td>9083</td>\n",
              "      <td>9195</td>\n",
              "      <td>9279</td>\n",
              "    </tr>\n",
              "    <tr>\n",
              "      <th>2</th>\n",
              "      <td>NaN</td>\n",
              "      <td>Algeria</td>\n",
              "      <td>28.03390</td>\n",
              "      <td>1.659600</td>\n",
              "      <td>0</td>\n",
              "      <td>0</td>\n",
              "      <td>0</td>\n",
              "      <td>0</td>\n",
              "      <td>0</td>\n",
              "      <td>0</td>\n",
              "      <td>0</td>\n",
              "      <td>0</td>\n",
              "      <td>0</td>\n",
              "      <td>0</td>\n",
              "      <td>0</td>\n",
              "      <td>0</td>\n",
              "      <td>0</td>\n",
              "      <td>0</td>\n",
              "      <td>0</td>\n",
              "      <td>0</td>\n",
              "      <td>0</td>\n",
              "      <td>0</td>\n",
              "      <td>0</td>\n",
              "      <td>0</td>\n",
              "      <td>0</td>\n",
              "      <td>0</td>\n",
              "      <td>0</td>\n",
              "      <td>0</td>\n",
              "      <td>0</td>\n",
              "      <td>0</td>\n",
              "      <td>0</td>\n",
              "      <td>0</td>\n",
              "      <td>0</td>\n",
              "      <td>0</td>\n",
              "      <td>0</td>\n",
              "      <td>0</td>\n",
              "      <td>0</td>\n",
              "      <td>0</td>\n",
              "      <td>1</td>\n",
              "      <td>1</td>\n",
              "      <td>...</td>\n",
              "      <td>24278</td>\n",
              "      <td>24872</td>\n",
              "      <td>25484</td>\n",
              "      <td>26159</td>\n",
              "      <td>26764</td>\n",
              "      <td>27357</td>\n",
              "      <td>27973</td>\n",
              "      <td>28615</td>\n",
              "      <td>29229</td>\n",
              "      <td>29831</td>\n",
              "      <td>30394</td>\n",
              "      <td>30950</td>\n",
              "      <td>31465</td>\n",
              "      <td>31972</td>\n",
              "      <td>32504</td>\n",
              "      <td>33055</td>\n",
              "      <td>33626</td>\n",
              "      <td>34155</td>\n",
              "      <td>34693</td>\n",
              "      <td>35160</td>\n",
              "      <td>35712</td>\n",
              "      <td>36204</td>\n",
              "      <td>36699</td>\n",
              "      <td>37187</td>\n",
              "      <td>37664</td>\n",
              "      <td>38133</td>\n",
              "      <td>38583</td>\n",
              "      <td>39025</td>\n",
              "      <td>39444</td>\n",
              "      <td>39847</td>\n",
              "      <td>40258</td>\n",
              "      <td>40667</td>\n",
              "      <td>41068</td>\n",
              "      <td>41460</td>\n",
              "      <td>41858</td>\n",
              "      <td>42228</td>\n",
              "      <td>42619</td>\n",
              "      <td>43016</td>\n",
              "      <td>43403</td>\n",
              "      <td>43781</td>\n",
              "    </tr>\n",
              "    <tr>\n",
              "      <th>3</th>\n",
              "      <td>NaN</td>\n",
              "      <td>Andorra</td>\n",
              "      <td>42.50630</td>\n",
              "      <td>1.521800</td>\n",
              "      <td>0</td>\n",
              "      <td>0</td>\n",
              "      <td>0</td>\n",
              "      <td>0</td>\n",
              "      <td>0</td>\n",
              "      <td>0</td>\n",
              "      <td>0</td>\n",
              "      <td>0</td>\n",
              "      <td>0</td>\n",
              "      <td>0</td>\n",
              "      <td>0</td>\n",
              "      <td>0</td>\n",
              "      <td>0</td>\n",
              "      <td>0</td>\n",
              "      <td>0</td>\n",
              "      <td>0</td>\n",
              "      <td>0</td>\n",
              "      <td>0</td>\n",
              "      <td>0</td>\n",
              "      <td>0</td>\n",
              "      <td>0</td>\n",
              "      <td>0</td>\n",
              "      <td>0</td>\n",
              "      <td>0</td>\n",
              "      <td>0</td>\n",
              "      <td>0</td>\n",
              "      <td>0</td>\n",
              "      <td>0</td>\n",
              "      <td>0</td>\n",
              "      <td>0</td>\n",
              "      <td>0</td>\n",
              "      <td>0</td>\n",
              "      <td>0</td>\n",
              "      <td>0</td>\n",
              "      <td>0</td>\n",
              "      <td>0</td>\n",
              "      <td>...</td>\n",
              "      <td>884</td>\n",
              "      <td>889</td>\n",
              "      <td>889</td>\n",
              "      <td>897</td>\n",
              "      <td>897</td>\n",
              "      <td>897</td>\n",
              "      <td>907</td>\n",
              "      <td>907</td>\n",
              "      <td>918</td>\n",
              "      <td>922</td>\n",
              "      <td>925</td>\n",
              "      <td>925</td>\n",
              "      <td>925</td>\n",
              "      <td>937</td>\n",
              "      <td>939</td>\n",
              "      <td>939</td>\n",
              "      <td>944</td>\n",
              "      <td>955</td>\n",
              "      <td>955</td>\n",
              "      <td>955</td>\n",
              "      <td>963</td>\n",
              "      <td>963</td>\n",
              "      <td>977</td>\n",
              "      <td>981</td>\n",
              "      <td>989</td>\n",
              "      <td>989</td>\n",
              "      <td>989</td>\n",
              "      <td>1005</td>\n",
              "      <td>1005</td>\n",
              "      <td>1024</td>\n",
              "      <td>1024</td>\n",
              "      <td>1045</td>\n",
              "      <td>1045</td>\n",
              "      <td>1045</td>\n",
              "      <td>1060</td>\n",
              "      <td>1060</td>\n",
              "      <td>1098</td>\n",
              "      <td>1098</td>\n",
              "      <td>1124</td>\n",
              "      <td>1124</td>\n",
              "    </tr>\n",
              "    <tr>\n",
              "      <th>4</th>\n",
              "      <td>NaN</td>\n",
              "      <td>Angola</td>\n",
              "      <td>-11.20270</td>\n",
              "      <td>17.873900</td>\n",
              "      <td>0</td>\n",
              "      <td>0</td>\n",
              "      <td>0</td>\n",
              "      <td>0</td>\n",
              "      <td>0</td>\n",
              "      <td>0</td>\n",
              "      <td>0</td>\n",
              "      <td>0</td>\n",
              "      <td>0</td>\n",
              "      <td>0</td>\n",
              "      <td>0</td>\n",
              "      <td>0</td>\n",
              "      <td>0</td>\n",
              "      <td>0</td>\n",
              "      <td>0</td>\n",
              "      <td>0</td>\n",
              "      <td>0</td>\n",
              "      <td>0</td>\n",
              "      <td>0</td>\n",
              "      <td>0</td>\n",
              "      <td>0</td>\n",
              "      <td>0</td>\n",
              "      <td>0</td>\n",
              "      <td>0</td>\n",
              "      <td>0</td>\n",
              "      <td>0</td>\n",
              "      <td>0</td>\n",
              "      <td>0</td>\n",
              "      <td>0</td>\n",
              "      <td>0</td>\n",
              "      <td>0</td>\n",
              "      <td>0</td>\n",
              "      <td>0</td>\n",
              "      <td>0</td>\n",
              "      <td>0</td>\n",
              "      <td>0</td>\n",
              "      <td>...</td>\n",
              "      <td>779</td>\n",
              "      <td>812</td>\n",
              "      <td>851</td>\n",
              "      <td>880</td>\n",
              "      <td>916</td>\n",
              "      <td>932</td>\n",
              "      <td>950</td>\n",
              "      <td>1000</td>\n",
              "      <td>1078</td>\n",
              "      <td>1109</td>\n",
              "      <td>1148</td>\n",
              "      <td>1164</td>\n",
              "      <td>1199</td>\n",
              "      <td>1280</td>\n",
              "      <td>1344</td>\n",
              "      <td>1395</td>\n",
              "      <td>1483</td>\n",
              "      <td>1538</td>\n",
              "      <td>1572</td>\n",
              "      <td>1672</td>\n",
              "      <td>1679</td>\n",
              "      <td>1735</td>\n",
              "      <td>1762</td>\n",
              "      <td>1815</td>\n",
              "      <td>1852</td>\n",
              "      <td>1879</td>\n",
              "      <td>1906</td>\n",
              "      <td>1935</td>\n",
              "      <td>1966</td>\n",
              "      <td>2015</td>\n",
              "      <td>2044</td>\n",
              "      <td>2068</td>\n",
              "      <td>2134</td>\n",
              "      <td>2171</td>\n",
              "      <td>2222</td>\n",
              "      <td>2283</td>\n",
              "      <td>2332</td>\n",
              "      <td>2415</td>\n",
              "      <td>2471</td>\n",
              "      <td>2551</td>\n",
              "    </tr>\n",
              "  </tbody>\n",
              "</table>\n",
              "<p>5 rows × 225 columns</p>\n",
              "</div>"
            ],
            "text/plain": [
              "  Province/State Country/Region       Lat  ...  8/27/20  8/28/20  8/29/20\n",
              "0            NaN    Afghanistan  33.93911  ...    38129    38140    38143\n",
              "1            NaN        Albania  41.15330  ...     9083     9195     9279\n",
              "2            NaN        Algeria  28.03390  ...    43016    43403    43781\n",
              "3            NaN        Andorra  42.50630  ...     1098     1124     1124\n",
              "4            NaN         Angola -11.20270  ...     2415     2471     2551\n",
              "\n",
              "[5 rows x 225 columns]"
            ]
          },
          "metadata": {
            "tags": []
          },
          "execution_count": 4
        }
      ]
    },
    {
      "cell_type": "markdown",
      "metadata": {
        "id": "lywaW2dmvk9U"
      },
      "source": [
        "Step 3: Original data has [266x225] dimensions. Let's use only 50 rows and 100 columns."
      ]
    },
    {
      "cell_type": "code",
      "metadata": {
        "id": "j6InABui0o_f",
        "colab": {
          "base_uri": "https://localhost:8080/"
        },
        "outputId": "b204bfb7-12be-49e9-f348-6d04c0c2fb6c"
      },
      "source": [
        "# first we are only selecting first 50 countries and 100 days\n",
        "rows=50\n",
        "cols=100\n",
        "\n",
        "# using numpy index location to get first 50 and 100 days\n",
        "data_new=data.iloc[0:rows,4:cols+4]\n",
        "print(data_new.shape)"
      ],
      "execution_count": null,
      "outputs": [
        {
          "output_type": "stream",
          "text": [
            "(50, 100)\n"
          ],
          "name": "stdout"
        }
      ]
    },
    {
      "cell_type": "code",
      "metadata": {
        "id": "geWNGS0621yD",
        "colab": {
          "base_uri": "https://localhost:8080/",
          "height": 253
        },
        "outputId": "3588842f-d4e6-43a8-b5d9-13c4d5173e8b"
      },
      "source": [
        "#view the sub-sectioned data\n",
        "data_new.head()"
      ],
      "execution_count": null,
      "outputs": [
        {
          "output_type": "execute_result",
          "data": {
            "text/html": [
              "<div>\n",
              "<style scoped>\n",
              "    .dataframe tbody tr th:only-of-type {\n",
              "        vertical-align: middle;\n",
              "    }\n",
              "\n",
              "    .dataframe tbody tr th {\n",
              "        vertical-align: top;\n",
              "    }\n",
              "\n",
              "    .dataframe thead th {\n",
              "        text-align: right;\n",
              "    }\n",
              "</style>\n",
              "<table border=\"1\" class=\"dataframe\">\n",
              "  <thead>\n",
              "    <tr style=\"text-align: right;\">\n",
              "      <th></th>\n",
              "      <th>1/22/20</th>\n",
              "      <th>1/23/20</th>\n",
              "      <th>1/24/20</th>\n",
              "      <th>1/25/20</th>\n",
              "      <th>1/26/20</th>\n",
              "      <th>1/27/20</th>\n",
              "      <th>1/28/20</th>\n",
              "      <th>1/29/20</th>\n",
              "      <th>1/30/20</th>\n",
              "      <th>1/31/20</th>\n",
              "      <th>2/1/20</th>\n",
              "      <th>2/2/20</th>\n",
              "      <th>2/3/20</th>\n",
              "      <th>2/4/20</th>\n",
              "      <th>2/5/20</th>\n",
              "      <th>2/6/20</th>\n",
              "      <th>2/7/20</th>\n",
              "      <th>2/8/20</th>\n",
              "      <th>2/9/20</th>\n",
              "      <th>2/10/20</th>\n",
              "      <th>2/11/20</th>\n",
              "      <th>2/12/20</th>\n",
              "      <th>2/13/20</th>\n",
              "      <th>2/14/20</th>\n",
              "      <th>2/15/20</th>\n",
              "      <th>2/16/20</th>\n",
              "      <th>2/17/20</th>\n",
              "      <th>2/18/20</th>\n",
              "      <th>2/19/20</th>\n",
              "      <th>2/20/20</th>\n",
              "      <th>2/21/20</th>\n",
              "      <th>2/22/20</th>\n",
              "      <th>2/23/20</th>\n",
              "      <th>2/24/20</th>\n",
              "      <th>2/25/20</th>\n",
              "      <th>2/26/20</th>\n",
              "      <th>2/27/20</th>\n",
              "      <th>2/28/20</th>\n",
              "      <th>2/29/20</th>\n",
              "      <th>3/1/20</th>\n",
              "      <th>...</th>\n",
              "      <th>3/22/20</th>\n",
              "      <th>3/23/20</th>\n",
              "      <th>3/24/20</th>\n",
              "      <th>3/25/20</th>\n",
              "      <th>3/26/20</th>\n",
              "      <th>3/27/20</th>\n",
              "      <th>3/28/20</th>\n",
              "      <th>3/29/20</th>\n",
              "      <th>3/30/20</th>\n",
              "      <th>3/31/20</th>\n",
              "      <th>4/1/20</th>\n",
              "      <th>4/2/20</th>\n",
              "      <th>4/3/20</th>\n",
              "      <th>4/4/20</th>\n",
              "      <th>4/5/20</th>\n",
              "      <th>4/6/20</th>\n",
              "      <th>4/7/20</th>\n",
              "      <th>4/8/20</th>\n",
              "      <th>4/9/20</th>\n",
              "      <th>4/10/20</th>\n",
              "      <th>4/11/20</th>\n",
              "      <th>4/12/20</th>\n",
              "      <th>4/13/20</th>\n",
              "      <th>4/14/20</th>\n",
              "      <th>4/15/20</th>\n",
              "      <th>4/16/20</th>\n",
              "      <th>4/17/20</th>\n",
              "      <th>4/18/20</th>\n",
              "      <th>4/19/20</th>\n",
              "      <th>4/20/20</th>\n",
              "      <th>4/21/20</th>\n",
              "      <th>4/22/20</th>\n",
              "      <th>4/23/20</th>\n",
              "      <th>4/24/20</th>\n",
              "      <th>4/25/20</th>\n",
              "      <th>4/26/20</th>\n",
              "      <th>4/27/20</th>\n",
              "      <th>4/28/20</th>\n",
              "      <th>4/29/20</th>\n",
              "      <th>4/30/20</th>\n",
              "    </tr>\n",
              "  </thead>\n",
              "  <tbody>\n",
              "    <tr>\n",
              "      <th>0</th>\n",
              "      <td>0</td>\n",
              "      <td>0</td>\n",
              "      <td>0</td>\n",
              "      <td>0</td>\n",
              "      <td>0</td>\n",
              "      <td>0</td>\n",
              "      <td>0</td>\n",
              "      <td>0</td>\n",
              "      <td>0</td>\n",
              "      <td>0</td>\n",
              "      <td>0</td>\n",
              "      <td>0</td>\n",
              "      <td>0</td>\n",
              "      <td>0</td>\n",
              "      <td>0</td>\n",
              "      <td>0</td>\n",
              "      <td>0</td>\n",
              "      <td>0</td>\n",
              "      <td>0</td>\n",
              "      <td>0</td>\n",
              "      <td>0</td>\n",
              "      <td>0</td>\n",
              "      <td>0</td>\n",
              "      <td>0</td>\n",
              "      <td>0</td>\n",
              "      <td>0</td>\n",
              "      <td>0</td>\n",
              "      <td>0</td>\n",
              "      <td>0</td>\n",
              "      <td>0</td>\n",
              "      <td>0</td>\n",
              "      <td>0</td>\n",
              "      <td>0</td>\n",
              "      <td>1</td>\n",
              "      <td>1</td>\n",
              "      <td>1</td>\n",
              "      <td>1</td>\n",
              "      <td>1</td>\n",
              "      <td>1</td>\n",
              "      <td>1</td>\n",
              "      <td>...</td>\n",
              "      <td>40</td>\n",
              "      <td>40</td>\n",
              "      <td>74</td>\n",
              "      <td>84</td>\n",
              "      <td>94</td>\n",
              "      <td>110</td>\n",
              "      <td>110</td>\n",
              "      <td>120</td>\n",
              "      <td>170</td>\n",
              "      <td>174</td>\n",
              "      <td>237</td>\n",
              "      <td>273</td>\n",
              "      <td>281</td>\n",
              "      <td>299</td>\n",
              "      <td>349</td>\n",
              "      <td>367</td>\n",
              "      <td>423</td>\n",
              "      <td>444</td>\n",
              "      <td>484</td>\n",
              "      <td>521</td>\n",
              "      <td>555</td>\n",
              "      <td>607</td>\n",
              "      <td>665</td>\n",
              "      <td>714</td>\n",
              "      <td>784</td>\n",
              "      <td>840</td>\n",
              "      <td>906</td>\n",
              "      <td>933</td>\n",
              "      <td>996</td>\n",
              "      <td>1026</td>\n",
              "      <td>1092</td>\n",
              "      <td>1176</td>\n",
              "      <td>1279</td>\n",
              "      <td>1351</td>\n",
              "      <td>1463</td>\n",
              "      <td>1531</td>\n",
              "      <td>1703</td>\n",
              "      <td>1828</td>\n",
              "      <td>1939</td>\n",
              "      <td>2171</td>\n",
              "    </tr>\n",
              "    <tr>\n",
              "      <th>1</th>\n",
              "      <td>0</td>\n",
              "      <td>0</td>\n",
              "      <td>0</td>\n",
              "      <td>0</td>\n",
              "      <td>0</td>\n",
              "      <td>0</td>\n",
              "      <td>0</td>\n",
              "      <td>0</td>\n",
              "      <td>0</td>\n",
              "      <td>0</td>\n",
              "      <td>0</td>\n",
              "      <td>0</td>\n",
              "      <td>0</td>\n",
              "      <td>0</td>\n",
              "      <td>0</td>\n",
              "      <td>0</td>\n",
              "      <td>0</td>\n",
              "      <td>0</td>\n",
              "      <td>0</td>\n",
              "      <td>0</td>\n",
              "      <td>0</td>\n",
              "      <td>0</td>\n",
              "      <td>0</td>\n",
              "      <td>0</td>\n",
              "      <td>0</td>\n",
              "      <td>0</td>\n",
              "      <td>0</td>\n",
              "      <td>0</td>\n",
              "      <td>0</td>\n",
              "      <td>0</td>\n",
              "      <td>0</td>\n",
              "      <td>0</td>\n",
              "      <td>0</td>\n",
              "      <td>0</td>\n",
              "      <td>0</td>\n",
              "      <td>0</td>\n",
              "      <td>0</td>\n",
              "      <td>0</td>\n",
              "      <td>0</td>\n",
              "      <td>0</td>\n",
              "      <td>...</td>\n",
              "      <td>89</td>\n",
              "      <td>104</td>\n",
              "      <td>123</td>\n",
              "      <td>146</td>\n",
              "      <td>174</td>\n",
              "      <td>186</td>\n",
              "      <td>197</td>\n",
              "      <td>212</td>\n",
              "      <td>223</td>\n",
              "      <td>243</td>\n",
              "      <td>259</td>\n",
              "      <td>277</td>\n",
              "      <td>304</td>\n",
              "      <td>333</td>\n",
              "      <td>361</td>\n",
              "      <td>377</td>\n",
              "      <td>383</td>\n",
              "      <td>400</td>\n",
              "      <td>409</td>\n",
              "      <td>416</td>\n",
              "      <td>433</td>\n",
              "      <td>446</td>\n",
              "      <td>467</td>\n",
              "      <td>475</td>\n",
              "      <td>494</td>\n",
              "      <td>518</td>\n",
              "      <td>539</td>\n",
              "      <td>548</td>\n",
              "      <td>562</td>\n",
              "      <td>584</td>\n",
              "      <td>609</td>\n",
              "      <td>634</td>\n",
              "      <td>663</td>\n",
              "      <td>678</td>\n",
              "      <td>712</td>\n",
              "      <td>726</td>\n",
              "      <td>736</td>\n",
              "      <td>750</td>\n",
              "      <td>766</td>\n",
              "      <td>773</td>\n",
              "    </tr>\n",
              "    <tr>\n",
              "      <th>2</th>\n",
              "      <td>0</td>\n",
              "      <td>0</td>\n",
              "      <td>0</td>\n",
              "      <td>0</td>\n",
              "      <td>0</td>\n",
              "      <td>0</td>\n",
              "      <td>0</td>\n",
              "      <td>0</td>\n",
              "      <td>0</td>\n",
              "      <td>0</td>\n",
              "      <td>0</td>\n",
              "      <td>0</td>\n",
              "      <td>0</td>\n",
              "      <td>0</td>\n",
              "      <td>0</td>\n",
              "      <td>0</td>\n",
              "      <td>0</td>\n",
              "      <td>0</td>\n",
              "      <td>0</td>\n",
              "      <td>0</td>\n",
              "      <td>0</td>\n",
              "      <td>0</td>\n",
              "      <td>0</td>\n",
              "      <td>0</td>\n",
              "      <td>0</td>\n",
              "      <td>0</td>\n",
              "      <td>0</td>\n",
              "      <td>0</td>\n",
              "      <td>0</td>\n",
              "      <td>0</td>\n",
              "      <td>0</td>\n",
              "      <td>0</td>\n",
              "      <td>0</td>\n",
              "      <td>0</td>\n",
              "      <td>1</td>\n",
              "      <td>1</td>\n",
              "      <td>1</td>\n",
              "      <td>1</td>\n",
              "      <td>1</td>\n",
              "      <td>1</td>\n",
              "      <td>...</td>\n",
              "      <td>201</td>\n",
              "      <td>230</td>\n",
              "      <td>264</td>\n",
              "      <td>302</td>\n",
              "      <td>367</td>\n",
              "      <td>409</td>\n",
              "      <td>454</td>\n",
              "      <td>511</td>\n",
              "      <td>584</td>\n",
              "      <td>716</td>\n",
              "      <td>847</td>\n",
              "      <td>986</td>\n",
              "      <td>1171</td>\n",
              "      <td>1251</td>\n",
              "      <td>1320</td>\n",
              "      <td>1423</td>\n",
              "      <td>1468</td>\n",
              "      <td>1572</td>\n",
              "      <td>1666</td>\n",
              "      <td>1761</td>\n",
              "      <td>1825</td>\n",
              "      <td>1914</td>\n",
              "      <td>1983</td>\n",
              "      <td>2070</td>\n",
              "      <td>2160</td>\n",
              "      <td>2268</td>\n",
              "      <td>2418</td>\n",
              "      <td>2534</td>\n",
              "      <td>2629</td>\n",
              "      <td>2718</td>\n",
              "      <td>2811</td>\n",
              "      <td>2910</td>\n",
              "      <td>3007</td>\n",
              "      <td>3127</td>\n",
              "      <td>3256</td>\n",
              "      <td>3382</td>\n",
              "      <td>3517</td>\n",
              "      <td>3649</td>\n",
              "      <td>3848</td>\n",
              "      <td>4006</td>\n",
              "    </tr>\n",
              "    <tr>\n",
              "      <th>3</th>\n",
              "      <td>0</td>\n",
              "      <td>0</td>\n",
              "      <td>0</td>\n",
              "      <td>0</td>\n",
              "      <td>0</td>\n",
              "      <td>0</td>\n",
              "      <td>0</td>\n",
              "      <td>0</td>\n",
              "      <td>0</td>\n",
              "      <td>0</td>\n",
              "      <td>0</td>\n",
              "      <td>0</td>\n",
              "      <td>0</td>\n",
              "      <td>0</td>\n",
              "      <td>0</td>\n",
              "      <td>0</td>\n",
              "      <td>0</td>\n",
              "      <td>0</td>\n",
              "      <td>0</td>\n",
              "      <td>0</td>\n",
              "      <td>0</td>\n",
              "      <td>0</td>\n",
              "      <td>0</td>\n",
              "      <td>0</td>\n",
              "      <td>0</td>\n",
              "      <td>0</td>\n",
              "      <td>0</td>\n",
              "      <td>0</td>\n",
              "      <td>0</td>\n",
              "      <td>0</td>\n",
              "      <td>0</td>\n",
              "      <td>0</td>\n",
              "      <td>0</td>\n",
              "      <td>0</td>\n",
              "      <td>0</td>\n",
              "      <td>0</td>\n",
              "      <td>0</td>\n",
              "      <td>0</td>\n",
              "      <td>0</td>\n",
              "      <td>0</td>\n",
              "      <td>...</td>\n",
              "      <td>113</td>\n",
              "      <td>133</td>\n",
              "      <td>164</td>\n",
              "      <td>188</td>\n",
              "      <td>224</td>\n",
              "      <td>267</td>\n",
              "      <td>308</td>\n",
              "      <td>334</td>\n",
              "      <td>370</td>\n",
              "      <td>376</td>\n",
              "      <td>390</td>\n",
              "      <td>428</td>\n",
              "      <td>439</td>\n",
              "      <td>466</td>\n",
              "      <td>501</td>\n",
              "      <td>525</td>\n",
              "      <td>545</td>\n",
              "      <td>564</td>\n",
              "      <td>583</td>\n",
              "      <td>601</td>\n",
              "      <td>601</td>\n",
              "      <td>638</td>\n",
              "      <td>646</td>\n",
              "      <td>659</td>\n",
              "      <td>673</td>\n",
              "      <td>673</td>\n",
              "      <td>696</td>\n",
              "      <td>704</td>\n",
              "      <td>713</td>\n",
              "      <td>717</td>\n",
              "      <td>717</td>\n",
              "      <td>723</td>\n",
              "      <td>723</td>\n",
              "      <td>731</td>\n",
              "      <td>738</td>\n",
              "      <td>738</td>\n",
              "      <td>743</td>\n",
              "      <td>743</td>\n",
              "      <td>743</td>\n",
              "      <td>745</td>\n",
              "    </tr>\n",
              "    <tr>\n",
              "      <th>4</th>\n",
              "      <td>0</td>\n",
              "      <td>0</td>\n",
              "      <td>0</td>\n",
              "      <td>0</td>\n",
              "      <td>0</td>\n",
              "      <td>0</td>\n",
              "      <td>0</td>\n",
              "      <td>0</td>\n",
              "      <td>0</td>\n",
              "      <td>0</td>\n",
              "      <td>0</td>\n",
              "      <td>0</td>\n",
              "      <td>0</td>\n",
              "      <td>0</td>\n",
              "      <td>0</td>\n",
              "      <td>0</td>\n",
              "      <td>0</td>\n",
              "      <td>0</td>\n",
              "      <td>0</td>\n",
              "      <td>0</td>\n",
              "      <td>0</td>\n",
              "      <td>0</td>\n",
              "      <td>0</td>\n",
              "      <td>0</td>\n",
              "      <td>0</td>\n",
              "      <td>0</td>\n",
              "      <td>0</td>\n",
              "      <td>0</td>\n",
              "      <td>0</td>\n",
              "      <td>0</td>\n",
              "      <td>0</td>\n",
              "      <td>0</td>\n",
              "      <td>0</td>\n",
              "      <td>0</td>\n",
              "      <td>0</td>\n",
              "      <td>0</td>\n",
              "      <td>0</td>\n",
              "      <td>0</td>\n",
              "      <td>0</td>\n",
              "      <td>0</td>\n",
              "      <td>...</td>\n",
              "      <td>2</td>\n",
              "      <td>3</td>\n",
              "      <td>3</td>\n",
              "      <td>3</td>\n",
              "      <td>4</td>\n",
              "      <td>4</td>\n",
              "      <td>5</td>\n",
              "      <td>7</td>\n",
              "      <td>7</td>\n",
              "      <td>7</td>\n",
              "      <td>8</td>\n",
              "      <td>8</td>\n",
              "      <td>8</td>\n",
              "      <td>10</td>\n",
              "      <td>14</td>\n",
              "      <td>16</td>\n",
              "      <td>17</td>\n",
              "      <td>19</td>\n",
              "      <td>19</td>\n",
              "      <td>19</td>\n",
              "      <td>19</td>\n",
              "      <td>19</td>\n",
              "      <td>19</td>\n",
              "      <td>19</td>\n",
              "      <td>19</td>\n",
              "      <td>19</td>\n",
              "      <td>19</td>\n",
              "      <td>24</td>\n",
              "      <td>24</td>\n",
              "      <td>24</td>\n",
              "      <td>24</td>\n",
              "      <td>25</td>\n",
              "      <td>25</td>\n",
              "      <td>25</td>\n",
              "      <td>25</td>\n",
              "      <td>26</td>\n",
              "      <td>27</td>\n",
              "      <td>27</td>\n",
              "      <td>27</td>\n",
              "      <td>27</td>\n",
              "    </tr>\n",
              "  </tbody>\n",
              "</table>\n",
              "<p>5 rows × 100 columns</p>\n",
              "</div>"
            ],
            "text/plain": [
              "   1/22/20  1/23/20  1/24/20  1/25/20  ...  4/27/20  4/28/20  4/29/20  4/30/20\n",
              "0        0        0        0        0  ...     1703     1828     1939     2171\n",
              "1        0        0        0        0  ...      736      750      766      773\n",
              "2        0        0        0        0  ...     3517     3649     3848     4006\n",
              "3        0        0        0        0  ...      743      743      743      745\n",
              "4        0        0        0        0  ...       27       27       27       27\n",
              "\n",
              "[5 rows x 100 columns]"
            ]
          },
          "metadata": {
            "tags": []
          },
          "execution_count": 6
        }
      ]
    },
    {
      "cell_type": "markdown",
      "metadata": {
        "id": "FQ-1sTeDwSQU"
      },
      "source": [
        "Step 4: Convert the Tablular data to format {X,Y}, where X={Longitude, Latitude, Date}, Y={#infected}"
      ]
    },
    {
      "cell_type": "code",
      "metadata": {
        "id": "mCrT8bWN6E7U",
        "colab": {
          "base_uri": "https://localhost:8080/"
        },
        "outputId": "c4b8eff2-638b-41e7-bcac-7966c8fef02c"
      },
      "source": [
        "# Finding the date indices\n",
        "import matplotlib.pyplot as plt\n",
        "# Sum total cases for each country on all days\n",
        "data_row=data_new.sum(axis=0)\n",
        "# range from 0 to 50, for the sample we took\n",
        "days=range(0,data_row.shape[0])\n",
        "# using matlib to replicate matrix, 100 days range to 50 countries\n",
        "days_mat=matlib.repmat(np.array(days),data_new.shape[0],1)\n",
        "# check shape\n",
        "print(days_mat.shape)"
      ],
      "execution_count": null,
      "outputs": [
        {
          "output_type": "stream",
          "text": [
            "(50, 100)\n"
          ],
          "name": "stdout"
        }
      ]
    },
    {
      "cell_type": "code",
      "metadata": {
        "colab": {
          "base_uri": "https://localhost:8080/"
        },
        "id": "KHntwCAHI3jD",
        "outputId": "c10690ea-1b0e-469b-b278-437e9d3992df"
      },
      "source": [
        "# is 2 dimensional array with 50 rows and 100 days - currently filled with 0 to 99\n",
        "days_mat"
      ],
      "execution_count": null,
      "outputs": [
        {
          "output_type": "execute_result",
          "data": {
            "text/plain": [
              "array([[ 0,  1,  2, ..., 97, 98, 99],\n",
              "       [ 0,  1,  2, ..., 97, 98, 99],\n",
              "       [ 0,  1,  2, ..., 97, 98, 99],\n",
              "       ...,\n",
              "       [ 0,  1,  2, ..., 97, 98, 99],\n",
              "       [ 0,  1,  2, ..., 97, 98, 99],\n",
              "       [ 0,  1,  2, ..., 97, 98, 99]])"
            ]
          },
          "metadata": {
            "tags": []
          },
          "execution_count": 17
        }
      ]
    },
    {
      "cell_type": "code",
      "metadata": {
        "id": "JdOvDI4kJakU"
      },
      "source": [
        "# Let's create data X-{X1,X2,X3}, where X1=lat, X2=long, X3=date\n",
        "X=np.zeros((days_mat.shape[0]*days_mat.shape[1],3))"
      ],
      "execution_count": null,
      "outputs": []
    },
    {
      "cell_type": "code",
      "metadata": {
        "colab": {
          "base_uri": "https://localhost:8080/"
        },
        "id": "FZlRJ3iiJwDa",
        "outputId": "bcba85b9-a41c-478e-dc14-bf2076e527d7"
      },
      "source": [
        "X"
      ],
      "execution_count": null,
      "outputs": [
        {
          "output_type": "execute_result",
          "data": {
            "text/plain": [
              "array([[0., 0., 0.],\n",
              "       [0., 0., 0.],\n",
              "       [0., 0., 0.],\n",
              "       ...,\n",
              "       [0., 0., 0.],\n",
              "       [0., 0., 0.],\n",
              "       [0., 0., 0.]])"
            ]
          },
          "metadata": {
            "tags": []
          },
          "execution_count": 19
        }
      ]
    },
    {
      "cell_type": "code",
      "metadata": {
        "colab": {
          "base_uri": "https://localhost:8080/"
        },
        "id": "xjXrm_MiKlUW",
        "outputId": "f9863346-4294-43b4-c509-0a568aff67b7"
      },
      "source": [
        "X.shape"
      ],
      "execution_count": null,
      "outputs": [
        {
          "output_type": "execute_result",
          "data": {
            "text/plain": [
              "(5000, 3)"
            ]
          },
          "metadata": {
            "tags": []
          },
          "execution_count": 20
        }
      ]
    },
    {
      "cell_type": "code",
      "metadata": {
        "id": "96x7-KbCKxPO"
      },
      "source": [
        "# Y=#affected\n",
        "Y=np.zeros((days_mat.shape[0]*days_mat.shape[1],1))"
      ],
      "execution_count": null,
      "outputs": []
    },
    {
      "cell_type": "code",
      "metadata": {
        "colab": {
          "base_uri": "https://localhost:8080/"
        },
        "id": "xILgXhKCKzmi",
        "outputId": "57f47048-3ef9-4e89-d6b6-256f169d4cea"
      },
      "source": [
        "Y"
      ],
      "execution_count": null,
      "outputs": [
        {
          "output_type": "execute_result",
          "data": {
            "text/plain": [
              "array([[0.],\n",
              "       [0.],\n",
              "       [0.],\n",
              "       ...,\n",
              "       [0.],\n",
              "       [0.],\n",
              "       [0.]])"
            ]
          },
          "metadata": {
            "tags": []
          },
          "execution_count": 22
        }
      ]
    },
    {
      "cell_type": "code",
      "metadata": {
        "colab": {
          "base_uri": "https://localhost:8080/"
        },
        "id": "Bz8Mb5qJK2xA",
        "outputId": "aaa39339-56e1-4ad3-dea9-b5c60fc1c52d"
      },
      "source": [
        "Y.shape"
      ],
      "execution_count": null,
      "outputs": [
        {
          "output_type": "execute_result",
          "data": {
            "text/plain": [
              "(5000, 1)"
            ]
          },
          "metadata": {
            "tags": []
          },
          "execution_count": 23
        }
      ]
    },
    {
      "cell_type": "code",
      "metadata": {
        "id": "eSZSl11JLBtO"
      },
      "source": [
        "lat_long=np.array(data.iloc[:,2:4])\n",
        "lat_long.shape"
      ],
      "execution_count": null,
      "outputs": []
    },
    {
      "cell_type": "code",
      "metadata": {
        "id": "suUoZcXOwHo9"
      },
      "source": [
        "# converting pandas to numpy array\n",
        "data_new = np.array(data_new)"
      ],
      "execution_count": null,
      "outputs": []
    },
    {
      "cell_type": "code",
      "metadata": {
        "id": "SH4bb0kzO9BR"
      },
      "source": [
        "for r in range(days_mat.shape[0]): #all locations\n",
        "  X[r*days_mat.shape[1]:r*days_mat.shape[1]+days_mat.shape[1],0]=lat_long[r,0]*np.ones((days_mat.shape[1],)) #setting Latitude\n",
        "  X[r*days_mat.shape[1]:r*days_mat.shape[1]+days_mat.shape[1],1]=lat_long[r,1]*np.ones((days_mat.shape[1],)) #setting Longitude\n",
        "  X[r*days_mat.shape[1]:r*days_mat.shape[1]+days_mat.shape[1],2]=np.reshape(days,(days_mat.shape[1],)) #setting the date\n",
        "  Y[r*days_mat.shape[1]:r*days_mat.shape[1]+days_mat.shape[1]]=np.reshape(data_new[r,:],((days_mat.shape[1],1))) # number of infected cases on that day"
      ],
      "execution_count": null,
      "outputs": []
    },
    {
      "cell_type": "code",
      "metadata": {
        "colab": {
          "base_uri": "https://localhost:8080/"
        },
        "id": "soPE3bIENlcL",
        "outputId": "7f13b83e-d8c0-4126-b0bf-f47a8e91e824"
      },
      "source": [
        "# At this point we have lat & long and date is 0 - 99\n",
        "X"
      ],
      "execution_count": null,
      "outputs": [
        {
          "output_type": "execute_result",
          "data": {
            "text/plain": [
              "array([[ 33.93911 ,  67.709953,   0.      ],\n",
              "       [ 33.93911 ,  67.709953,   1.      ],\n",
              "       [ 33.93911 ,  67.709953,   2.      ],\n",
              "       ...,\n",
              "       [ 46.5107  , -63.4168  ,  97.      ],\n",
              "       [ 46.5107  , -63.4168  ,  98.      ],\n",
              "       [ 46.5107  , -63.4168  ,  99.      ]])"
            ]
          },
          "metadata": {
            "tags": []
          },
          "execution_count": 31
        }
      ]
    },
    {
      "cell_type": "code",
      "metadata": {
        "id": "15rtRjgdoVwA",
        "colab": {
          "base_uri": "https://localhost:8080/"
        },
        "outputId": "db6d7672-dca6-409a-eba4-ebe28669c651"
      },
      "source": [
        "print(np.shape(X))\n",
        "#Data Preparation is Done!"
      ],
      "execution_count": null,
      "outputs": [
        {
          "output_type": "stream",
          "text": [
            "(5000, 3)\n"
          ],
          "name": "stdout"
        }
      ]
    },
    {
      "cell_type": "code",
      "metadata": {
        "colab": {
          "base_uri": "https://localhost:8080/"
        },
        "id": "_DXll45_MLbr",
        "outputId": "1b8d099a-cb01-46b2-d977-b4338b2d88eb"
      },
      "source": [
        "# Y has the number of infected for 10 days\n",
        "Y"
      ],
      "execution_count": null,
      "outputs": [
        {
          "output_type": "execute_result",
          "data": {
            "text/plain": [
              "array([[ 0.],\n",
              "       [ 0.],\n",
              "       [ 0.],\n",
              "       ...,\n",
              "       [27.],\n",
              "       [27.],\n",
              "       [27.]])"
            ]
          },
          "metadata": {
            "tags": []
          },
          "execution_count": 29
        }
      ]
    },
    {
      "cell_type": "markdown",
      "metadata": {
        "id": "CJ0LTlMlwwAy"
      },
      "source": [
        "Step 5: Let's Plot the Data to see the converted Data format!"
      ]
    },
    {
      "cell_type": "code",
      "metadata": {
        "id": "O0tXzJAS8Tia",
        "colab": {
          "base_uri": "https://localhost:8080/",
          "height": 686
        },
        "outputId": "15c9f029-479e-4132-ec1a-c354cb76c347"
      },
      "source": [
        "# here we are ploting using matplot lib\n",
        "plt.figure(figsize=(10, 10), dpi=80)\n",
        "# Here at X[:, 2] has days\n",
        "# And Y has infected cases for each day \n",
        "plt.scatter(X[:,2],Y[:])\n",
        "# label x axis\n",
        "plt.xlabel('Days elapsed since Jan 22')\n",
        "# label y axis\n",
        "plt.ylabel('Number Infected')"
      ],
      "execution_count": null,
      "outputs": [
        {
          "output_type": "execute_result",
          "data": {
            "text/plain": [
              "Text(0, 0.5, 'Number Infected')"
            ]
          },
          "metadata": {
            "tags": []
          },
          "execution_count": 37
        },
        {
          "output_type": "display_data",
          "data": {
            "image/png": "[encoded data removed]",
            "text/plain": [
              "<Figure size 800x800 with 1 Axes>"
            ]
          },
          "metadata": {
            "tags": [],
            "needs_background": "light"
          }
        }
      ]
    },
    {
      "cell_type": "markdown",
      "metadata": {
        "id": "Z05NRyUgxEJh"
      },
      "source": [
        "Step 6: Let's spilt the data to training and test (70% train, 30% test)"
      ]
    },
    {
      "cell_type": "code",
      "metadata": {
        "id": "yurSMGAUrfRj"
      },
      "source": [
        "# Goal 1: Fit regression model for (days vs infections)\n",
        "from sklearn.model_selection import train_test_split\n",
        "# Split data into train (70%) and test (30%)\n",
        "X_train_1, X_test_1, y_train, y_test = train_test_split(X, Y, test_size=0.3, random_state=10)"
      ],
      "execution_count": null,
      "outputs": []
    },
    {
      "cell_type": "code",
      "metadata": {
        "colab": {
          "base_uri": "https://localhost:8080/"
        },
        "id": "j-FiueAny26m",
        "outputId": "fff31636-a3dd-499b-b85e-9dbce2b4a1ba"
      },
      "source": [
        "# first checking using linear regression without ploynomial features\n",
        "from sklearn.linear_model import LinearRegression\n",
        "\n",
        "# Transform both the train and test data\n",
        "clf = LinearRegression()\n",
        "# Fit the model on train data only\n",
        "clf.fit(X_train_1, y_train)\n",
        "print(\"Linear Regression Coefficients are=\",clf.coef_)\n",
        "print(\"constant coefficient=\",clf.intercept_)"
      ],
      "execution_count": null,
      "outputs": [
        {
          "output_type": "stream",
          "text": [
            "Linear Regression Coefficients are= [[ 4.99043038 -1.8607295  34.64281024]]\n",
            "constant coefficient= [-960.19930415]\n"
          ],
          "name": "stdout"
        }
      ]
    },
    {
      "cell_type": "code",
      "metadata": {
        "colab": {
          "base_uri": "https://localhost:8080/",
          "height": 640
        },
        "id": "ErmxUdERzSzd",
        "outputId": "6e75c3ba-6adf-46b7-f65d-acc26bd08976"
      },
      "source": [
        "# Predict regression outcome on test data\n",
        "y_pred = clf.predict(X_test_1)\n",
        "# next plot predictions\n",
        "plt.figure(figsize=(10, 10), dpi=80)\n",
        "# this will plot the actual values\n",
        "plt.scatter(X[:,2], Y[:,0],  color='black')\n",
        "# this will plot the redictions\n",
        "plt.scatter(X_test_1[:,2], y_pred, color='blue', linewidth=1)\n",
        "\n",
        "plt.xticks(())\n",
        "plt.yticks(())\n",
        "\n",
        "plt.show()"
      ],
      "execution_count": null,
      "outputs": [
        {
          "output_type": "display_data",
          "data": {
            "image/png": "[encoded data removed]",
            "text/plain": [
              "<Figure size 800x800 with 1 Axes>"
            ]
          },
          "metadata": {
            "tags": []
          }
        }
      ]
    },
    {
      "cell_type": "code",
      "metadata": {
        "colab": {
          "base_uri": "https://localhost:8080/"
        },
        "id": "mgUGGkeKz_L4",
        "outputId": "fab1dc9e-f167-4092-c095-da20a0c65438"
      },
      "source": [
        "# Checking the linear regression, MSE\n",
        "\n",
        "from sklearn.metrics import mean_squared_error as mse\n",
        "print(mse(y_test, y_pred))"
      ],
      "execution_count": null,
      "outputs": [
        {
          "output_type": "stream",
          "text": [
            "23711527.61192565\n"
          ],
          "name": "stdout"
        }
      ]
    },
    {
      "cell_type": "markdown",
      "metadata": {
        "id": "zXfkFuSXxNHD"
      },
      "source": [
        "Step 7: Let's fit Polynomial features of degree 3 to the features. This results in dimensions going from 3 to 20!"
      ]
    },
    {
      "cell_type": "code",
      "metadata": {
        "id": "JPn3O0KME-Md",
        "colab": {
          "base_uri": "https://localhost:8080/"
        },
        "outputId": "752656fa-03b7-4bc6-acb8-292c2cd9fb66"
      },
      "source": [
        "from sklearn.preprocessing import PolynomialFeatures\n",
        "from sklearn.linear_model import LinearRegression\n",
        "\n",
        "# If you have features [a, b, c] the default polynomial features(in sklearn the degree is 2) \n",
        "# should be [1, a, b, c, a^2, b^2, c^2, ab, bc, ca].\n",
        "poly = PolynomialFeatures(degree=2)\n",
        "\n",
        "# Transform both the train and test data\n",
        "X_train = poly.fit_transform(X_train_1)\n",
        "X_test = poly.fit_transform(X_test_1)\n",
        "print(\"New shape of test data=\",np.shape(X_test))\n",
        "\n",
        "clf = LinearRegression()\n",
        "# Fit the model on train data only\n",
        "clf.fit(X_train, y_train)\n",
        "print(\"Linear Regression Coefficients are=\",clf.coef_)\n",
        "print(\"constant coefficient=\",clf.intercept_)"
      ],
      "execution_count": 51,
      "outputs": [
        {
          "output_type": "stream",
          "text": [
            "New shape of test data= (1500, 10)\n",
            "Linear Regression Coefficients are= [[ 0.00000000e+00 -3.04639346e+01  1.57150100e+00 -5.16404560e+01\n",
            "   9.84814802e-01  2.49228501e-01  1.82133025e-01 -3.06346055e-02\n",
            "  -9.44788647e-02  8.57060115e-01]]\n",
            "constant coefficient= [233.2548977]\n"
          ],
          "name": "stdout"
        }
      ]
    },
    {
      "cell_type": "code",
      "metadata": {
        "id": "U1IEL9X1Fd26",
        "colab": {
          "base_uri": "https://localhost:8080/",
          "height": 640
        },
        "outputId": "0f3e892b-ddd5-447c-9c7e-1cc5c47fbaf5"
      },
      "source": [
        "# Predict regression outcome on test data\n",
        "y_pred = clf.predict(X_test)\n",
        "# next plot predictions\n",
        "plt.figure(figsize=(10, 10), dpi=80)\n",
        "plt.scatter(X[:,2], Y[:,0],  color='black')\n",
        "plt.scatter(X_test_1[:,2], y_pred, color='blue', linewidth=1)\n",
        "plt.xticks(())\n",
        "plt.yticks(())\n",
        "\n",
        "plt.show()"
      ],
      "execution_count": 52,
      "outputs": [
        {
          "output_type": "display_data",
          "data": {
            "image/png": "[encoded data removed]",
            "text/plain": [
              "<Figure size 800x800 with 1 Axes>"
            ]
          },
          "metadata": {
            "tags": []
          }
        }
      ]
    },
    {
      "cell_type": "markdown",
      "metadata": {
        "id": "y3Zc8iLN066t"
      },
      "source": [
        "In the image above, black points are training and blue ones are test!"
      ]
    },
    {
      "cell_type": "code",
      "metadata": {
        "id": "WxSAi3nW1O4q",
        "colab": {
          "base_uri": "https://localhost:8080/"
        },
        "outputId": "43256d02-9e74-4704-bf12-cc3e623085d0"
      },
      "source": [
        "# this is with degree 2\n",
        "print(mse(y_test, y_pred))"
      ],
      "execution_count": 53,
      "outputs": [
        {
          "output_type": "stream",
          "text": [
            "22409841.314146668\n"
          ],
          "name": "stdout"
        }
      ]
    },
    {
      "cell_type": "code",
      "metadata": {
        "id": "PzHL1BWGB5sX",
        "colab": {
          "base_uri": "https://localhost:8080/",
          "height": 654
        },
        "outputId": "008f089f-9b42-43f6-e8d1-97ca2a87e2af"
      },
      "source": [
        "# 1D polynomial regression\n",
        "model = np.poly1d(np.polyfit(np.transpose(X_train_1[:,2]), np.transpose(y_train[:,0]), 3))\n",
        "\n",
        "model_x = np.linspace(0, 100, 100)\n",
        "plt.figure(figsize=(10, 10), dpi=80)\n",
        "plt.scatter(X[:,2],Y[:])\n",
        "plt.plot(model_x, model(model_x),'r')\n",
        "plt.show()"
      ],
      "execution_count": 54,
      "outputs": [
        {
          "output_type": "display_data",
          "data": {
            "image/png": "[encoded data removed]",
            "text/plain": [
              "<Figure size 800x800 with 1 Axes>"
            ]
          },
          "metadata": {
            "tags": [],
            "needs_background": "light"
          }
        }
      ]
    },
    {
      "cell_type": "code",
      "metadata": {
        "colab": {
          "base_uri": "https://localhost:8080/"
        },
        "id": "m9X7Mev1S2vy",
        "outputId": "7358a03a-b7a5-4039-f09c-59791d242ecf"
      },
      "source": [
        "from sklearn.metrics import mean_squared_error as mse\n",
        "\n",
        "# Trying to find the best degree that can fit this\n",
        "degrees = []\n",
        "degree_preds = []\n",
        "\n",
        "for d in range(3,30):\n",
        "  poly = PolynomialFeatures(degree=d)\n",
        "  X_train = poly.fit_transform(X_train_1)\n",
        "  X_test = poly.fit_transform(X_test_1)\n",
        "  clf = LinearRegression()\n",
        "  clf.fit(X_train, y_train)\n",
        "  y_pred = clf.predict(X_test)\n",
        "\n",
        "  mse_error = mse(y_test, y_pred)\n",
        "\n",
        "  degrees.append(d)\n",
        "  degree_preds.append(mse_error)\n",
        "\n",
        "  print(\"{} - {}\".format(d,mse_error))"
      ],
      "execution_count": 58,
      "outputs": [
        {
          "output_type": "stream",
          "text": [
            "3 - 20560548.002745174\n",
            "4 - 18150800.781314142\n",
            "5 - 14193417.434568288\n",
            "6 - 9116090.38274086\n",
            "7 - 4553747.836499233\n",
            "8 - 1647485.2115973923\n",
            "9 - 852998.2341865832\n",
            "10 - 292411.1100162412\n",
            "11 - 165820.39517135787\n",
            "12 - 59911.08382956289\n",
            "13 - 42823.76465792344\n",
            "14 - 48262.20936478409\n",
            "15 - 28638.23167982166\n",
            "16 - 53084.888326286135\n",
            "17 - 147700.7860421502\n",
            "18 - 32719.992937412386\n",
            "19 - 63681.47360981373\n",
            "20 - 26729.058065548877\n",
            "21 - 349950.08880734676\n",
            "22 - 22501.501182992826\n",
            "23 - 34929.47441706763\n",
            "24 - 97816.57770476092\n",
            "25 - 60737.26552235832\n",
            "26 - 73631.27621647748\n",
            "27 - 1311600.8364136056\n",
            "28 - 836658.5754937717\n",
            "29 - 4590416.3280961\n"
          ],
          "name": "stdout"
        }
      ]
    },
    {
      "cell_type": "code",
      "metadata": {
        "colab": {
          "base_uri": "https://localhost:8080/",
          "height": 680
        },
        "id": "4R9OthB96y_C",
        "outputId": "1428007f-d7d0-4daa-f473-e43b31273908"
      },
      "source": [
        "plt.figure(figsize=(10, 10), dpi=80)\n",
        "plt.scatter(degrees,degree_preds)\n",
        "plt.plot(degrees,degree_preds,'r')\n",
        "\n",
        "# label x axis\n",
        "plt.xlabel('Degrees')\n",
        "# label y axis\n",
        "plt.ylabel('mse')\n",
        "plt.xticks(np.arange(0, 30, 1))\n",
        "plt.show()"
      ],
      "execution_count": 71,
      "outputs": [
        {
          "output_type": "display_data",
          "data": {
            "image/png": "[encoded data removed]",
            "text/plain": [
              "<Figure size 800x800 with 1 Axes>"
            ]
          },
          "metadata": {
            "tags": [],
            "needs_background": "light"
          }
        }
      ]
    },
    {
      "cell_type": "code",
      "metadata": {
        "colab": {
          "base_uri": "https://localhost:8080/",
          "height": 669
        },
        "id": "MCODWbQt9f5s",
        "outputId": "d64ff6f0-51e7-45ca-e2cf-3f4e01d339ae"
      },
      "source": [
        "plt.figure(figsize=(10, 10), dpi=80)\n",
        "plt.bar(degrees[7:24],degree_preds[7:24])\n",
        "\n",
        "# label x axis\n",
        "plt.xlabel('Degrees')\n",
        "# label y axis\n",
        "plt.ylabel('mse')\n",
        "plt.xticks(np.arange(7, 27, 1))\n",
        "plt.show()"
      ],
      "execution_count": 83,
      "outputs": [
        {
          "output_type": "display_data",
          "data": {
            "image/png": "[encoded data removed]",
            "text/plain": [
              "<Figure size 800x800 with 1 Axes>"
            ]
          },
          "metadata": {
            "tags": [],
            "needs_background": "light"
          }
        }
      ]
    },
    {
      "cell_type": "code",
      "metadata": {
        "colab": {
          "base_uri": "https://localhost:8080/",
          "height": 657
        },
        "id": "im0Zg8_G-_4A",
        "outputId": "fa73cd7e-affb-4997-9ea5-8ffa0ebcd36e"
      },
      "source": [
        "poly = PolynomialFeatures(degree=22)\n",
        "\n",
        "# Transform both the train and test data\n",
        "X_train = poly.fit_transform(X_train_1)\n",
        "X_test = poly.fit_transform(X_test_1)\n",
        "print(\"New shape of test data=\",np.shape(X_test))\n",
        "\n",
        "clf = LinearRegression()\n",
        "# Fit the model on train data only\n",
        "clf.fit(X_train, y_train)\n",
        "# Predict regression outcome on test data\n",
        "y_pred = clf.predict(X_test)\n",
        "# next plot predictions\n",
        "plt.figure(figsize=(10, 10), dpi=80)\n",
        "plt.scatter(X[:,2], Y[:,0],  color='black')\n",
        "plt.scatter(X_test_1[:,2], y_pred, color='blue', linewidth=1)\n",
        "plt.xticks(())\n",
        "plt.yticks(())\n",
        "\n",
        "plt.show()"
      ],
      "execution_count": 85,
      "outputs": [
        {
          "output_type": "stream",
          "text": [
            "New shape of test data= (1500, 2300)\n"
          ],
          "name": "stdout"
        },
        {
          "output_type": "display_data",
          "data": {
            "image/png": "[encoded data removed]",
            "text/plain": [
              "<Figure size 800x800 with 1 Axes>"
            ]
          },
          "metadata": {
            "tags": []
          }
        }
      ]
    },
    {
      "cell_type": "markdown",
      "metadata": {
        "id": "DOm9x4teVqxd"
      },
      "source": [
        "# **Summary and Discussion (10-15 min session at end of Assignment)**\n",
        "## This exercise is meant to get us all acquainted with Google colab, porting data from google drive to colab and visualizing outcomes. At the end, discuss the following:\n",
        "1.  Are there any other ways of pre-processing the data with pandas? What commands would you use?\n",
        "2. How would you optimize the process? i.e. How would you ensure best fit polynomial regresison is selected. Think of the process/steps. \n",
        "3. What does the output metric tell you? Can you gauge over-prediction and udner predictions?\n"
      ]
    },
    {
      "cell_type": "code",
      "metadata": {
        "id": "SxA-sP83ulc5"
      },
      "source": [
        "#Assignment: Report the mean squared error for prediction using differnt degrers of Polynomial Regression\n",
        "#https://scikit-learn.org/stable/modules/generated/sklearn.metrics.mean_squared_error.html\n",
        "#1. Report the best model for this data\n",
        "From above I see that with ploynomial degree 22 we got less mse\n",
        "\n",
        "#2. Repeat for complete data (Change step 3) and report the best model\n",
        "# Predict regression outcome on test data\n",
        "When did for the complete set also degree 22 did got best model\n"
      ],
      "execution_count": null,
      "outputs": []
    },
    {
      "cell_type": "code",
      "metadata": {
        "colab": {
          "base_uri": "https://localhost:8080/",
          "height": 253
        },
        "id": "_ke88N3FVqi5",
        "outputId": "ed12a939-fdb7-46b9-b902-426cdcb265ca"
      },
      "source": [
        "# getting all rows\n",
        "data_new=data.iloc[:,4:]\n",
        "data_new.head()"
      ],
      "execution_count": 86,
      "outputs": [
        {
          "output_type": "execute_result",
          "data": {
            "text/html": [
              "<div>\n",
              "<style scoped>\n",
              "    .dataframe tbody tr th:only-of-type {\n",
              "        vertical-align: middle;\n",
              "    }\n",
              "\n",
              "    .dataframe tbody tr th {\n",
              "        vertical-align: top;\n",
              "    }\n",
              "\n",
              "    .dataframe thead th {\n",
              "        text-align: right;\n",
              "    }\n",
              "</style>\n",
              "<table border=\"1\" class=\"dataframe\">\n",
              "  <thead>\n",
              "    <tr style=\"text-align: right;\">\n",
              "      <th></th>\n",
              "      <th>1/22/20</th>\n",
              "      <th>1/23/20</th>\n",
              "      <th>1/24/20</th>\n",
              "      <th>1/25/20</th>\n",
              "      <th>1/26/20</th>\n",
              "      <th>1/27/20</th>\n",
              "      <th>1/28/20</th>\n",
              "      <th>1/29/20</th>\n",
              "      <th>1/30/20</th>\n",
              "      <th>1/31/20</th>\n",
              "      <th>2/1/20</th>\n",
              "      <th>2/2/20</th>\n",
              "      <th>2/3/20</th>\n",
              "      <th>2/4/20</th>\n",
              "      <th>2/5/20</th>\n",
              "      <th>2/6/20</th>\n",
              "      <th>2/7/20</th>\n",
              "      <th>2/8/20</th>\n",
              "      <th>2/9/20</th>\n",
              "      <th>2/10/20</th>\n",
              "      <th>2/11/20</th>\n",
              "      <th>2/12/20</th>\n",
              "      <th>2/13/20</th>\n",
              "      <th>2/14/20</th>\n",
              "      <th>2/15/20</th>\n",
              "      <th>2/16/20</th>\n",
              "      <th>2/17/20</th>\n",
              "      <th>2/18/20</th>\n",
              "      <th>2/19/20</th>\n",
              "      <th>2/20/20</th>\n",
              "      <th>2/21/20</th>\n",
              "      <th>2/22/20</th>\n",
              "      <th>2/23/20</th>\n",
              "      <th>2/24/20</th>\n",
              "      <th>2/25/20</th>\n",
              "      <th>2/26/20</th>\n",
              "      <th>2/27/20</th>\n",
              "      <th>2/28/20</th>\n",
              "      <th>2/29/20</th>\n",
              "      <th>3/1/20</th>\n",
              "      <th>...</th>\n",
              "      <th>7/21/20</th>\n",
              "      <th>7/22/20</th>\n",
              "      <th>7/23/20</th>\n",
              "      <th>7/24/20</th>\n",
              "      <th>7/25/20</th>\n",
              "      <th>7/26/20</th>\n",
              "      <th>7/27/20</th>\n",
              "      <th>7/28/20</th>\n",
              "      <th>7/29/20</th>\n",
              "      <th>7/30/20</th>\n",
              "      <th>7/31/20</th>\n",
              "      <th>8/1/20</th>\n",
              "      <th>8/2/20</th>\n",
              "      <th>8/3/20</th>\n",
              "      <th>8/4/20</th>\n",
              "      <th>8/5/20</th>\n",
              "      <th>8/6/20</th>\n",
              "      <th>8/7/20</th>\n",
              "      <th>8/8/20</th>\n",
              "      <th>8/9/20</th>\n",
              "      <th>8/10/20</th>\n",
              "      <th>8/11/20</th>\n",
              "      <th>8/12/20</th>\n",
              "      <th>8/13/20</th>\n",
              "      <th>8/14/20</th>\n",
              "      <th>8/15/20</th>\n",
              "      <th>8/16/20</th>\n",
              "      <th>8/17/20</th>\n",
              "      <th>8/18/20</th>\n",
              "      <th>8/19/20</th>\n",
              "      <th>8/20/20</th>\n",
              "      <th>8/21/20</th>\n",
              "      <th>8/22/20</th>\n",
              "      <th>8/23/20</th>\n",
              "      <th>8/24/20</th>\n",
              "      <th>8/25/20</th>\n",
              "      <th>8/26/20</th>\n",
              "      <th>8/27/20</th>\n",
              "      <th>8/28/20</th>\n",
              "      <th>8/29/20</th>\n",
              "    </tr>\n",
              "  </thead>\n",
              "  <tbody>\n",
              "    <tr>\n",
              "      <th>0</th>\n",
              "      <td>0</td>\n",
              "      <td>0</td>\n",
              "      <td>0</td>\n",
              "      <td>0</td>\n",
              "      <td>0</td>\n",
              "      <td>0</td>\n",
              "      <td>0</td>\n",
              "      <td>0</td>\n",
              "      <td>0</td>\n",
              "      <td>0</td>\n",
              "      <td>0</td>\n",
              "      <td>0</td>\n",
              "      <td>0</td>\n",
              "      <td>0</td>\n",
              "      <td>0</td>\n",
              "      <td>0</td>\n",
              "      <td>0</td>\n",
              "      <td>0</td>\n",
              "      <td>0</td>\n",
              "      <td>0</td>\n",
              "      <td>0</td>\n",
              "      <td>0</td>\n",
              "      <td>0</td>\n",
              "      <td>0</td>\n",
              "      <td>0</td>\n",
              "      <td>0</td>\n",
              "      <td>0</td>\n",
              "      <td>0</td>\n",
              "      <td>0</td>\n",
              "      <td>0</td>\n",
              "      <td>0</td>\n",
              "      <td>0</td>\n",
              "      <td>0</td>\n",
              "      <td>1</td>\n",
              "      <td>1</td>\n",
              "      <td>1</td>\n",
              "      <td>1</td>\n",
              "      <td>1</td>\n",
              "      <td>1</td>\n",
              "      <td>1</td>\n",
              "      <td>...</td>\n",
              "      <td>35615</td>\n",
              "      <td>35727</td>\n",
              "      <td>35928</td>\n",
              "      <td>35981</td>\n",
              "      <td>36036</td>\n",
              "      <td>36157</td>\n",
              "      <td>36263</td>\n",
              "      <td>36368</td>\n",
              "      <td>36471</td>\n",
              "      <td>36542</td>\n",
              "      <td>36675</td>\n",
              "      <td>36710</td>\n",
              "      <td>36710</td>\n",
              "      <td>36747</td>\n",
              "      <td>36782</td>\n",
              "      <td>36829</td>\n",
              "      <td>36896</td>\n",
              "      <td>37015</td>\n",
              "      <td>37054</td>\n",
              "      <td>37054</td>\n",
              "      <td>37162</td>\n",
              "      <td>37269</td>\n",
              "      <td>37345</td>\n",
              "      <td>37424</td>\n",
              "      <td>37431</td>\n",
              "      <td>37551</td>\n",
              "      <td>37596</td>\n",
              "      <td>37599</td>\n",
              "      <td>37599</td>\n",
              "      <td>37599</td>\n",
              "      <td>37856</td>\n",
              "      <td>37894</td>\n",
              "      <td>37953</td>\n",
              "      <td>37999</td>\n",
              "      <td>38054</td>\n",
              "      <td>38070</td>\n",
              "      <td>38113</td>\n",
              "      <td>38129</td>\n",
              "      <td>38140</td>\n",
              "      <td>38143</td>\n",
              "    </tr>\n",
              "    <tr>\n",
              "      <th>1</th>\n",
              "      <td>0</td>\n",
              "      <td>0</td>\n",
              "      <td>0</td>\n",
              "      <td>0</td>\n",
              "      <td>0</td>\n",
              "      <td>0</td>\n",
              "      <td>0</td>\n",
              "      <td>0</td>\n",
              "      <td>0</td>\n",
              "      <td>0</td>\n",
              "      <td>0</td>\n",
              "      <td>0</td>\n",
              "      <td>0</td>\n",
              "      <td>0</td>\n",
              "      <td>0</td>\n",
              "      <td>0</td>\n",
              "      <td>0</td>\n",
              "      <td>0</td>\n",
              "      <td>0</td>\n",
              "      <td>0</td>\n",
              "      <td>0</td>\n",
              "      <td>0</td>\n",
              "      <td>0</td>\n",
              "      <td>0</td>\n",
              "      <td>0</td>\n",
              "      <td>0</td>\n",
              "      <td>0</td>\n",
              "      <td>0</td>\n",
              "      <td>0</td>\n",
              "      <td>0</td>\n",
              "      <td>0</td>\n",
              "      <td>0</td>\n",
              "      <td>0</td>\n",
              "      <td>0</td>\n",
              "      <td>0</td>\n",
              "      <td>0</td>\n",
              "      <td>0</td>\n",
              "      <td>0</td>\n",
              "      <td>0</td>\n",
              "      <td>0</td>\n",
              "      <td>...</td>\n",
              "      <td>4290</td>\n",
              "      <td>4358</td>\n",
              "      <td>4466</td>\n",
              "      <td>4570</td>\n",
              "      <td>4637</td>\n",
              "      <td>4763</td>\n",
              "      <td>4880</td>\n",
              "      <td>4997</td>\n",
              "      <td>5105</td>\n",
              "      <td>5197</td>\n",
              "      <td>5276</td>\n",
              "      <td>5396</td>\n",
              "      <td>5519</td>\n",
              "      <td>5620</td>\n",
              "      <td>5750</td>\n",
              "      <td>5889</td>\n",
              "      <td>6016</td>\n",
              "      <td>6151</td>\n",
              "      <td>6275</td>\n",
              "      <td>6411</td>\n",
              "      <td>6536</td>\n",
              "      <td>6676</td>\n",
              "      <td>6817</td>\n",
              "      <td>6971</td>\n",
              "      <td>7117</td>\n",
              "      <td>7260</td>\n",
              "      <td>7380</td>\n",
              "      <td>7499</td>\n",
              "      <td>7654</td>\n",
              "      <td>7812</td>\n",
              "      <td>7967</td>\n",
              "      <td>8119</td>\n",
              "      <td>8275</td>\n",
              "      <td>8427</td>\n",
              "      <td>8605</td>\n",
              "      <td>8759</td>\n",
              "      <td>8927</td>\n",
              "      <td>9083</td>\n",
              "      <td>9195</td>\n",
              "      <td>9279</td>\n",
              "    </tr>\n",
              "    <tr>\n",
              "      <th>2</th>\n",
              "      <td>0</td>\n",
              "      <td>0</td>\n",
              "      <td>0</td>\n",
              "      <td>0</td>\n",
              "      <td>0</td>\n",
              "      <td>0</td>\n",
              "      <td>0</td>\n",
              "      <td>0</td>\n",
              "      <td>0</td>\n",
              "      <td>0</td>\n",
              "      <td>0</td>\n",
              "      <td>0</td>\n",
              "      <td>0</td>\n",
              "      <td>0</td>\n",
              "      <td>0</td>\n",
              "      <td>0</td>\n",
              "      <td>0</td>\n",
              "      <td>0</td>\n",
              "      <td>0</td>\n",
              "      <td>0</td>\n",
              "      <td>0</td>\n",
              "      <td>0</td>\n",
              "      <td>0</td>\n",
              "      <td>0</td>\n",
              "      <td>0</td>\n",
              "      <td>0</td>\n",
              "      <td>0</td>\n",
              "      <td>0</td>\n",
              "      <td>0</td>\n",
              "      <td>0</td>\n",
              "      <td>0</td>\n",
              "      <td>0</td>\n",
              "      <td>0</td>\n",
              "      <td>0</td>\n",
              "      <td>1</td>\n",
              "      <td>1</td>\n",
              "      <td>1</td>\n",
              "      <td>1</td>\n",
              "      <td>1</td>\n",
              "      <td>1</td>\n",
              "      <td>...</td>\n",
              "      <td>24278</td>\n",
              "      <td>24872</td>\n",
              "      <td>25484</td>\n",
              "      <td>26159</td>\n",
              "      <td>26764</td>\n",
              "      <td>27357</td>\n",
              "      <td>27973</td>\n",
              "      <td>28615</td>\n",
              "      <td>29229</td>\n",
              "      <td>29831</td>\n",
              "      <td>30394</td>\n",
              "      <td>30950</td>\n",
              "      <td>31465</td>\n",
              "      <td>31972</td>\n",
              "      <td>32504</td>\n",
              "      <td>33055</td>\n",
              "      <td>33626</td>\n",
              "      <td>34155</td>\n",
              "      <td>34693</td>\n",
              "      <td>35160</td>\n",
              "      <td>35712</td>\n",
              "      <td>36204</td>\n",
              "      <td>36699</td>\n",
              "      <td>37187</td>\n",
              "      <td>37664</td>\n",
              "      <td>38133</td>\n",
              "      <td>38583</td>\n",
              "      <td>39025</td>\n",
              "      <td>39444</td>\n",
              "      <td>39847</td>\n",
              "      <td>40258</td>\n",
              "      <td>40667</td>\n",
              "      <td>41068</td>\n",
              "      <td>41460</td>\n",
              "      <td>41858</td>\n",
              "      <td>42228</td>\n",
              "      <td>42619</td>\n",
              "      <td>43016</td>\n",
              "      <td>43403</td>\n",
              "      <td>43781</td>\n",
              "    </tr>\n",
              "    <tr>\n",
              "      <th>3</th>\n",
              "      <td>0</td>\n",
              "      <td>0</td>\n",
              "      <td>0</td>\n",
              "      <td>0</td>\n",
              "      <td>0</td>\n",
              "      <td>0</td>\n",
              "      <td>0</td>\n",
              "      <td>0</td>\n",
              "      <td>0</td>\n",
              "      <td>0</td>\n",
              "      <td>0</td>\n",
              "      <td>0</td>\n",
              "      <td>0</td>\n",
              "      <td>0</td>\n",
              "      <td>0</td>\n",
              "      <td>0</td>\n",
              "      <td>0</td>\n",
              "      <td>0</td>\n",
              "      <td>0</td>\n",
              "      <td>0</td>\n",
              "      <td>0</td>\n",
              "      <td>0</td>\n",
              "      <td>0</td>\n",
              "      <td>0</td>\n",
              "      <td>0</td>\n",
              "      <td>0</td>\n",
              "      <td>0</td>\n",
              "      <td>0</td>\n",
              "      <td>0</td>\n",
              "      <td>0</td>\n",
              "      <td>0</td>\n",
              "      <td>0</td>\n",
              "      <td>0</td>\n",
              "      <td>0</td>\n",
              "      <td>0</td>\n",
              "      <td>0</td>\n",
              "      <td>0</td>\n",
              "      <td>0</td>\n",
              "      <td>0</td>\n",
              "      <td>0</td>\n",
              "      <td>...</td>\n",
              "      <td>884</td>\n",
              "      <td>889</td>\n",
              "      <td>889</td>\n",
              "      <td>897</td>\n",
              "      <td>897</td>\n",
              "      <td>897</td>\n",
              "      <td>907</td>\n",
              "      <td>907</td>\n",
              "      <td>918</td>\n",
              "      <td>922</td>\n",
              "      <td>925</td>\n",
              "      <td>925</td>\n",
              "      <td>925</td>\n",
              "      <td>937</td>\n",
              "      <td>939</td>\n",
              "      <td>939</td>\n",
              "      <td>944</td>\n",
              "      <td>955</td>\n",
              "      <td>955</td>\n",
              "      <td>955</td>\n",
              "      <td>963</td>\n",
              "      <td>963</td>\n",
              "      <td>977</td>\n",
              "      <td>981</td>\n",
              "      <td>989</td>\n",
              "      <td>989</td>\n",
              "      <td>989</td>\n",
              "      <td>1005</td>\n",
              "      <td>1005</td>\n",
              "      <td>1024</td>\n",
              "      <td>1024</td>\n",
              "      <td>1045</td>\n",
              "      <td>1045</td>\n",
              "      <td>1045</td>\n",
              "      <td>1060</td>\n",
              "      <td>1060</td>\n",
              "      <td>1098</td>\n",
              "      <td>1098</td>\n",
              "      <td>1124</td>\n",
              "      <td>1124</td>\n",
              "    </tr>\n",
              "    <tr>\n",
              "      <th>4</th>\n",
              "      <td>0</td>\n",
              "      <td>0</td>\n",
              "      <td>0</td>\n",
              "      <td>0</td>\n",
              "      <td>0</td>\n",
              "      <td>0</td>\n",
              "      <td>0</td>\n",
              "      <td>0</td>\n",
              "      <td>0</td>\n",
              "      <td>0</td>\n",
              "      <td>0</td>\n",
              "      <td>0</td>\n",
              "      <td>0</td>\n",
              "      <td>0</td>\n",
              "      <td>0</td>\n",
              "      <td>0</td>\n",
              "      <td>0</td>\n",
              "      <td>0</td>\n",
              "      <td>0</td>\n",
              "      <td>0</td>\n",
              "      <td>0</td>\n",
              "      <td>0</td>\n",
              "      <td>0</td>\n",
              "      <td>0</td>\n",
              "      <td>0</td>\n",
              "      <td>0</td>\n",
              "      <td>0</td>\n",
              "      <td>0</td>\n",
              "      <td>0</td>\n",
              "      <td>0</td>\n",
              "      <td>0</td>\n",
              "      <td>0</td>\n",
              "      <td>0</td>\n",
              "      <td>0</td>\n",
              "      <td>0</td>\n",
              "      <td>0</td>\n",
              "      <td>0</td>\n",
              "      <td>0</td>\n",
              "      <td>0</td>\n",
              "      <td>0</td>\n",
              "      <td>...</td>\n",
              "      <td>779</td>\n",
              "      <td>812</td>\n",
              "      <td>851</td>\n",
              "      <td>880</td>\n",
              "      <td>916</td>\n",
              "      <td>932</td>\n",
              "      <td>950</td>\n",
              "      <td>1000</td>\n",
              "      <td>1078</td>\n",
              "      <td>1109</td>\n",
              "      <td>1148</td>\n",
              "      <td>1164</td>\n",
              "      <td>1199</td>\n",
              "      <td>1280</td>\n",
              "      <td>1344</td>\n",
              "      <td>1395</td>\n",
              "      <td>1483</td>\n",
              "      <td>1538</td>\n",
              "      <td>1572</td>\n",
              "      <td>1672</td>\n",
              "      <td>1679</td>\n",
              "      <td>1735</td>\n",
              "      <td>1762</td>\n",
              "      <td>1815</td>\n",
              "      <td>1852</td>\n",
              "      <td>1879</td>\n",
              "      <td>1906</td>\n",
              "      <td>1935</td>\n",
              "      <td>1966</td>\n",
              "      <td>2015</td>\n",
              "      <td>2044</td>\n",
              "      <td>2068</td>\n",
              "      <td>2134</td>\n",
              "      <td>2171</td>\n",
              "      <td>2222</td>\n",
              "      <td>2283</td>\n",
              "      <td>2332</td>\n",
              "      <td>2415</td>\n",
              "      <td>2471</td>\n",
              "      <td>2551</td>\n",
              "    </tr>\n",
              "  </tbody>\n",
              "</table>\n",
              "<p>5 rows × 221 columns</p>\n",
              "</div>"
            ],
            "text/plain": [
              "   1/22/20  1/23/20  1/24/20  1/25/20  ...  8/26/20  8/27/20  8/28/20  8/29/20\n",
              "0        0        0        0        0  ...    38113    38129    38140    38143\n",
              "1        0        0        0        0  ...     8927     9083     9195     9279\n",
              "2        0        0        0        0  ...    42619    43016    43403    43781\n",
              "3        0        0        0        0  ...     1098     1098     1124     1124\n",
              "4        0        0        0        0  ...     2332     2415     2471     2551\n",
              "\n",
              "[5 rows x 221 columns]"
            ]
          },
          "metadata": {
            "tags": []
          },
          "execution_count": 86
        }
      ]
    },
    {
      "cell_type": "code",
      "metadata": {
        "colab": {
          "base_uri": "https://localhost:8080/"
        },
        "id": "AKjIHrDDbvBr",
        "outputId": "b1350551-aa12-4a54-9a2c-25d43fbba01a"
      },
      "source": [
        "data_row=data_new.sum(axis=0)\n",
        "days=range(0,data_row.shape[0])\n",
        "days_mat=matlib.repmat(np.array(days),data_new.shape[0],1)\n",
        "print(days_mat.shape)"
      ],
      "execution_count": 87,
      "outputs": [
        {
          "output_type": "stream",
          "text": [
            "(266, 221)\n"
          ],
          "name": "stdout"
        }
      ]
    },
    {
      "cell_type": "code",
      "metadata": {
        "id": "8SElkEGAYZhG"
      },
      "source": [
        "X=np.zeros((days_mat.shape[0]*days_mat.shape[1],3))\n",
        "Y=np.zeros((days_mat.shape[0]*days_mat.shape[1],1))\n",
        "lat_long=np.array(data.iloc[:,2:4])\n",
        "data_new=np.array(data_new)\n",
        "for r in range(days_mat.shape[0]): #all locations\n",
        "  X[r*days_mat.shape[1]:r*days_mat.shape[1]+days_mat.shape[1],0]=lat_long[r,0]*np.ones((days_mat.shape[1],)) #setting Latitude\n",
        "  X[r*days_mat.shape[1]:r*days_mat.shape[1]+days_mat.shape[1],1]=lat_long[r,1]*np.ones((days_mat.shape[1],)) #setting Longitude\n",
        "  X[r*days_mat.shape[1]:r*days_mat.shape[1]+days_mat.shape[1],2]=np.reshape(days,(days_mat.shape[1],)) #setting the date\n",
        "  Y[r*days_mat.shape[1]:r*days_mat.shape[1]+days_mat.shape[1]]=np.reshape(data_new[r,:],((days_mat.shape[1],1))) # number of infected cases on that day"
      ],
      "execution_count": 88,
      "outputs": []
    },
    {
      "cell_type": "code",
      "metadata": {
        "colab": {
          "base_uri": "https://localhost:8080/"
        },
        "id": "yAKdmG9lY-73",
        "outputId": "ed8db074-c17d-4054-f276-7c58b0dd0ed1"
      },
      "source": [
        "print(np.shape(X))\n",
        "#Data Preparation is Done"
      ],
      "execution_count": 89,
      "outputs": [
        {
          "output_type": "stream",
          "text": [
            "(58786, 3)\n"
          ],
          "name": "stdout"
        }
      ]
    },
    {
      "cell_type": "code",
      "metadata": {
        "id": "kG5eJlYXiLeQ"
      },
      "source": [
        "# Goal 1: Fit regression model for (days vs infections)\n",
        "from sklearn.model_selection import train_test_split\n",
        "# Split data into train and test\n",
        "X_train_1, X_test_1, y_train, y_test = train_test_split(X, Y, test_size=0.3, random_state=10)\n"
      ],
      "execution_count": 90,
      "outputs": []
    },
    {
      "cell_type": "code",
      "metadata": {
        "colab": {
          "base_uri": "https://localhost:8080/"
        },
        "id": "qU4tARojiWG-",
        "outputId": "224e3724-2e93-42be-ffde-43eaae02647d"
      },
      "source": [
        "from sklearn.preprocessing import PolynomialFeatures\n",
        "from sklearn.linear_model import LinearRegression\n",
        "\n",
        "poly = PolynomialFeatures(degree=22)\n",
        "# Transform both the train and test data\n",
        "X_train = poly.fit_transform(X_train_1)\n",
        "X_test = poly.fit_transform(X_test_1)\n",
        "print(\"New shape of test data=\",np.shape(X_test))\n",
        "\n",
        "clf = LinearRegression()\n",
        "# Fit the model on train data only\n",
        "clf.fit(X_train, y_train)\n",
        "print(\"Linear Regression Coefficients are=\",clf.coef_)\n",
        "print(\"constant coefficient=\",clf.intercept_)"
      ],
      "execution_count": 91,
      "outputs": [
        {
          "output_type": "stream",
          "text": [
            "New shape of test data= (17636, 2300)\n",
            "Linear Regression Coefficients are= [[ 1.70925646e-33  2.49769115e-33 -1.78578896e-34 ...  9.75873180e-43\n",
            "  -3.06283441e-44  1.16544447e-42]]\n",
            "constant coefficient= [5587.94012476]\n"
          ],
          "name": "stdout"
        }
      ]
    },
    {
      "cell_type": "code",
      "metadata": {
        "colab": {
          "base_uri": "https://localhost:8080/",
          "height": 640
        },
        "id": "fTiPJABLia4h",
        "outputId": "ee093e3e-3b66-4bac-f913-f86371b9bdb7"
      },
      "source": [
        "# Predict regression outcome on test data\n",
        "y_pred = clf.predict(X_test)\n",
        "# next plot predictions\n",
        "plt.figure(figsize=(10, 10), dpi=80)\n",
        "plt.scatter(X[:,2], Y[:,0],  color='black')\n",
        "plt.scatter(X_test_1[:,2], y_pred, color='blue', linewidth=1)\n",
        "plt.xticks(())\n",
        "plt.yticks(())\n",
        "\n",
        "plt.show()"
      ],
      "execution_count": 92,
      "outputs": [
        {
          "output_type": "display_data",
          "data": {
            "image/png": "[encoded data removed]",
            "text/plain": [
              "<Figure size 800x800 with 1 Axes>"
            ]
          },
          "metadata": {
            "tags": []
          }
        }
      ]
    },
    {
      "cell_type": "markdown",
      "metadata": {
        "id": "umt0zxRdAah6"
      },
      "source": [
        "1. Are there any other ways of pre-processing the data with pandas? What commands would you use?\n",
        "> Might be we can use Panda Series \n",
        "\n",
        "2. How would you optimize the process? i.e. How would you ensure best fit \n",
        "polynomial regresison is selected. Think of the process/steps.\n",
        "> We can use a loop to find which degree has minimal mean squared error. \n",
        "\n",
        "3. What does the output metric tell you? Can you gauge over-prediction and udner predictions?\n",
        "> if mse is more than the predictions are far away (over prediction) from actual values, if its small then its nearer to the actual vales."
      ]
    }
  ]
}