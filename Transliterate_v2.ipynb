{
  "nbformat": 4,
  "nbformat_minor": 0,
  "metadata": {
    "colab": {
      "name": "Transliterate_v2.ipynb",
      "provenance": [],
      "collapsed_sections": [],
      "toc_visible": true,
      "machine_shape": "hm",
      "mount_file_id": "1HROo87CgJ-5w3Bhsuz5kSspUmdorP8ip",
      "authorship_tag": "ABX9TyO+fx4xr0+HQLv6koPLrpS5",
      "include_colab_link": true
    },
    "kernelspec": {
      "name": "python3",
      "display_name": "Python 3"
    },
    "language_info": {
      "name": "python"
    },
    "accelerator": "GPU"
  },
  "cells": [
    {
      "cell_type": "markdown",
      "metadata": {
        "id": "view-in-github",
        "colab_type": "text"
      },
      "source": [
        "<a href=\"https://colab.research.google.com/github/rajashekar/colab/blob/main/Transliterate_v2.ipynb\" target=\"_parent\"><img src=\"https://colab.research.google.com/assets/colab-badge.svg\" alt=\"Open In Colab\"/></a>"
      ]
    },
    {
      "cell_type": "code",
      "metadata": {
        "id": "1T6_tQRr5LsU"
      },
      "source": [
        "import pandas as pd\n",
        "import numpy as np\n",
        "\n",
        "from keras.models import Model, load_model\n",
        "from keras.layers import Input, LSTM, Dense, Reshape\n",
        "from keras.callbacks import EarlyStopping, ModelCheckpoint\n",
        "from keras.layers.embeddings import Embedding\n",
        "\n",
        "import tensorflow as tf\n",
        "import tensorflow.keras.backend as K\n",
        "\n",
        "import matplotlib.pyplot as plt"
      ],
      "execution_count": 1,
      "outputs": []
    },
    {
      "cell_type": "code",
      "metadata": {
        "colab": {
          "base_uri": "https://localhost:8080/"
        },
        "id": "Cy-GTRyQdjjj",
        "outputId": "b18a440c-999d-40fe-94d8-90113b723fb0"
      },
      "source": [
        "%cd /content/drive/MyDrive/Colab/Transliterate/"
      ],
      "execution_count": 2,
      "outputs": [
        {
          "output_type": "stream",
          "name": "stdout",
          "text": [
            "/content/drive/MyDrive/Colab/Transliterate\n"
          ]
        }
      ]
    },
    {
      "cell_type": "code",
      "metadata": {
        "colab": {
          "base_uri": "https://localhost:8080/"
        },
        "id": "9SQgkSs5drK0",
        "outputId": "d4ea8b31-a2c3-401d-8586-3553cdda39bf"
      },
      "source": [
        "%ls"
      ],
      "execution_count": 3,
      "outputs": [
        {
          "output_type": "stream",
          "name": "stdout",
          "text": [
            "affidavits.csv                 model.png\n",
            "hi.translit.sampled.train.tsv  model_v1.h5\n",
            "model.h5                       players_with_hindi_names.json\n",
            "model_plot_dec.png\n"
          ]
        }
      ]
    },
    {
      "cell_type": "markdown",
      "metadata": {
        "id": "h87l7bzjN4V0"
      },
      "source": [
        "# Preprocessing Data"
      ]
    },
    {
      "cell_type": "markdown",
      "metadata": {
        "id": "Kl9QsQKYac2q"
      },
      "source": [
        "## load affidavits dataset\n"
      ]
    },
    {
      "cell_type": "code",
      "metadata": {
        "id": "pAUukayNPVZY"
      },
      "source": [
        "affidavits_df = pd.read_csv('affidavits.csv')"
      ],
      "execution_count": 4,
      "outputs": []
    },
    {
      "cell_type": "code",
      "metadata": {
        "colab": {
          "base_uri": "https://localhost:8080/",
          "height": 625
        },
        "id": "A0ZOV5i6Pe_k",
        "outputId": "a145544c-463e-4ee8-a71d-dc96fd02f89e"
      },
      "source": [
        "affidavits_df.head()"
      ],
      "execution_count": 5,
      "outputs": [
        {
          "output_type": "execute_result",
          "data": {
            "text/html": [
              "<div>\n",
              "<style scoped>\n",
              "    .dataframe tbody tr th:only-of-type {\n",
              "        vertical-align: middle;\n",
              "    }\n",
              "\n",
              "    .dataframe tbody tr th {\n",
              "        vertical-align: top;\n",
              "    }\n",
              "\n",
              "    .dataframe thead th {\n",
              "        text-align: right;\n",
              "    }\n",
              "</style>\n",
              "<table border=\"1\" class=\"dataframe\">\n",
              "  <thead>\n",
              "    <tr style=\"text-align: right;\">\n",
              "      <th></th>\n",
              "      <th>address</th>\n",
              "      <th>affidavit_filename_with_unique_id</th>\n",
              "      <th>age</th>\n",
              "      <th>application_uploaded</th>\n",
              "      <th>assembly_constituency</th>\n",
              "      <th>current_status</th>\n",
              "      <th>dropdown_value</th>\n",
              "      <th>fathers_or_husbands_name_english</th>\n",
              "      <th>fathers_or_husbands_name_hindi</th>\n",
              "      <th>name</th>\n",
              "      <th>name_english</th>\n",
              "      <th>name_hindi</th>\n",
              "      <th>party_name</th>\n",
              "      <th>photo_filename_with_unique_id</th>\n",
              "      <th>photo_url</th>\n",
              "      <th>state</th>\n",
              "      <th>unique_id</th>\n",
              "      <th>url</th>\n",
              "    </tr>\n",
              "  </thead>\n",
              "  <tbody>\n",
              "    <tr>\n",
              "      <th>0</th>\n",
              "      <td>O/5, BANKIM MUKHERJEE SARANI, DURGAPUR COLONY,...</td>\n",
              "      <td>NaN</td>\n",
              "      <td>57</td>\n",
              "      <td>7th April, 2021</td>\n",
              "      <td>Rashbehari</td>\n",
              "      <td>NaN</td>\n",
              "      <td>NaN</td>\n",
              "      <td>LATE SUBODH CHANDRA DAS</td>\n",
              "      <td>प्रयात सुबोध चन्द्र दास</td>\n",
              "      <td>SWAPAN DAS</td>\n",
              "      <td>SWAPAN DAS</td>\n",
              "      <td>स्वपन दास</td>\n",
              "      <td>Bahujan Mukti Party</td>\n",
              "      <td>NaN</td>\n",
              "      <td>NaN</td>\n",
              "      <td>West Bengal</td>\n",
              "      <td>1</td>\n",
              "      <td>NaN</td>\n",
              "    </tr>\n",
              "    <tr>\n",
              "      <th>1</th>\n",
              "      <td>F-301, PRANTIK PALLY, KOLKATA – 700042</td>\n",
              "      <td>NaN</td>\n",
              "      <td>41</td>\n",
              "      <td>7th April, 2021</td>\n",
              "      <td>Rashbehari</td>\n",
              "      <td>NaN</td>\n",
              "      <td>NaN</td>\n",
              "      <td>LATE PINAKI KUNDU</td>\n",
              "      <td>स्वर्गीय पिनाकि कुंडू</td>\n",
              "      <td>PREETAM KUNDU</td>\n",
              "      <td>PREETAM KUNDU</td>\n",
              "      <td>प्रीतम  कुंडू</td>\n",
              "      <td>Independent</td>\n",
              "      <td>NaN</td>\n",
              "      <td>NaN</td>\n",
              "      <td>West Bengal</td>\n",
              "      <td>2</td>\n",
              "      <td>NaN</td>\n",
              "    </tr>\n",
              "    <tr>\n",
              "      <th>2</th>\n",
              "      <td>Vill- Debidaspur, P.O.- Kankuria, P.S.- Samser...</td>\n",
              "      <td>NaN</td>\n",
              "      <td>60</td>\n",
              "      <td>26th April, 2021</td>\n",
              "      <td>Samserganj</td>\n",
              "      <td>NaN</td>\n",
              "      <td>NaN</td>\n",
              "      <td>Late Nur Mohammad Biswas</td>\n",
              "      <td>मृत नूर महम्मद बिश्वास</td>\n",
              "      <td>Zaidur Rahaman</td>\n",
              "      <td>Zaidur Rahaman</td>\n",
              "      <td>जैदुर रहमान</td>\n",
              "      <td>Indian National Congress</td>\n",
              "      <td>NaN</td>\n",
              "      <td>NaN</td>\n",
              "      <td>West Bengal</td>\n",
              "      <td>3</td>\n",
              "      <td>NaN</td>\n",
              "    </tr>\n",
              "    <tr>\n",
              "      <th>3</th>\n",
              "      <td>F-301, PRANTIK PALLY, KOLKATA – 700042</td>\n",
              "      <td>NaN</td>\n",
              "      <td>41</td>\n",
              "      <td>7th April, 2021</td>\n",
              "      <td>Rashbehari</td>\n",
              "      <td>NaN</td>\n",
              "      <td>NaN</td>\n",
              "      <td>LATE PINAKI KUNDU</td>\n",
              "      <td>स्वर्गीय पिनाकि कुंडू</td>\n",
              "      <td>PREETAM KUNDU</td>\n",
              "      <td>PREETAM KUNDU</td>\n",
              "      <td>प्रीतम  कुंडू</td>\n",
              "      <td>Independent</td>\n",
              "      <td>NaN</td>\n",
              "      <td>NaN</td>\n",
              "      <td>West Bengal</td>\n",
              "      <td>4</td>\n",
              "      <td>NaN</td>\n",
              "    </tr>\n",
              "    <tr>\n",
              "      <th>4</th>\n",
              "      <td>VILL-FULBARI, P.O-KAMLABARI, P.S-ENGLISH BAZAR...</td>\n",
              "      <td>NaN</td>\n",
              "      <td>42</td>\n",
              "      <td>6th April, 2021</td>\n",
              "      <td>Manikchak</td>\n",
              "      <td>NaN</td>\n",
              "      <td>NaN</td>\n",
              "      <td>LT. ALI MOHAMMAD</td>\n",
              "      <td>स्वर्गीय आली महममद</td>\n",
              "      <td>ALAM MOTTAKIN</td>\n",
              "      <td>ALAM MOTTAKIN</td>\n",
              "      <td>आलम मोत्ताकिन</td>\n",
              "      <td>Indian National Congress</td>\n",
              "      <td>NaN</td>\n",
              "      <td>NaN</td>\n",
              "      <td>West Bengal</td>\n",
              "      <td>5</td>\n",
              "      <td>NaN</td>\n",
              "    </tr>\n",
              "  </tbody>\n",
              "</table>\n",
              "</div>"
            ],
            "text/plain": [
              "                                             address  ...  url\n",
              "0  O/5, BANKIM MUKHERJEE SARANI, DURGAPUR COLONY,...  ...  NaN\n",
              "1             F-301, PRANTIK PALLY, KOLKATA – 700042  ...  NaN\n",
              "2  Vill- Debidaspur, P.O.- Kankuria, P.S.- Samser...  ...  NaN\n",
              "3             F-301, PRANTIK PALLY, KOLKATA – 700042  ...  NaN\n",
              "4  VILL-FULBARI, P.O-KAMLABARI, P.S-ENGLISH BAZAR...  ...  NaN\n",
              "\n",
              "[5 rows x 18 columns]"
            ]
          },
          "metadata": {},
          "execution_count": 5
        }
      ]
    },
    {
      "cell_type": "code",
      "metadata": {
        "id": "TnwMig87P1yV"
      },
      "source": [
        "af_df = affidavits_df[['fathers_or_husbands_name_hindi', 'fathers_or_husbands_name_english', 'name_hindi', 'name_english']]"
      ],
      "execution_count": 6,
      "outputs": []
    },
    {
      "cell_type": "code",
      "metadata": {
        "id": "XYj3W5R3bdii"
      },
      "source": [
        "# split and merge\n",
        "input_target_df = pd.concat([\n",
        "                    af_df[['fathers_or_husbands_name_hindi','fathers_or_husbands_name_english']].rename(columns={\"fathers_or_husbands_name_hindi\": \"hindi\", \"fathers_or_husbands_name_english\": \"english\"}), \n",
        "                    af_df[['name_hindi','name_english']].rename(columns={\"name_hindi\": \"hindi\", \"name_english\": \"english\"})\n",
        "                  ], ignore_index=True)"
      ],
      "execution_count": 7,
      "outputs": []
    },
    {
      "cell_type": "code",
      "metadata": {
        "colab": {
          "base_uri": "https://localhost:8080/",
          "height": 206
        },
        "id": "q6_4pn8Wbt-A",
        "outputId": "bc46bd26-e9cd-4089-c215-59c923b89642"
      },
      "source": [
        "input_target_df.head()"
      ],
      "execution_count": 8,
      "outputs": [
        {
          "output_type": "execute_result",
          "data": {
            "text/html": [
              "<div>\n",
              "<style scoped>\n",
              "    .dataframe tbody tr th:only-of-type {\n",
              "        vertical-align: middle;\n",
              "    }\n",
              "\n",
              "    .dataframe tbody tr th {\n",
              "        vertical-align: top;\n",
              "    }\n",
              "\n",
              "    .dataframe thead th {\n",
              "        text-align: right;\n",
              "    }\n",
              "</style>\n",
              "<table border=\"1\" class=\"dataframe\">\n",
              "  <thead>\n",
              "    <tr style=\"text-align: right;\">\n",
              "      <th></th>\n",
              "      <th>hindi</th>\n",
              "      <th>english</th>\n",
              "    </tr>\n",
              "  </thead>\n",
              "  <tbody>\n",
              "    <tr>\n",
              "      <th>0</th>\n",
              "      <td>प्रयात सुबोध चन्द्र दास</td>\n",
              "      <td>LATE SUBODH CHANDRA DAS</td>\n",
              "    </tr>\n",
              "    <tr>\n",
              "      <th>1</th>\n",
              "      <td>स्वर्गीय पिनाकि कुंडू</td>\n",
              "      <td>LATE PINAKI KUNDU</td>\n",
              "    </tr>\n",
              "    <tr>\n",
              "      <th>2</th>\n",
              "      <td>मृत नूर महम्मद बिश्वास</td>\n",
              "      <td>Late Nur Mohammad Biswas</td>\n",
              "    </tr>\n",
              "    <tr>\n",
              "      <th>3</th>\n",
              "      <td>स्वर्गीय पिनाकि कुंडू</td>\n",
              "      <td>LATE PINAKI KUNDU</td>\n",
              "    </tr>\n",
              "    <tr>\n",
              "      <th>4</th>\n",
              "      <td>स्वर्गीय आली महममद</td>\n",
              "      <td>LT. ALI MOHAMMAD</td>\n",
              "    </tr>\n",
              "  </tbody>\n",
              "</table>\n",
              "</div>"
            ],
            "text/plain": [
              "                     hindi                   english\n",
              "0  प्रयात सुबोध चन्द्र दास   LATE SUBODH CHANDRA DAS\n",
              "1    स्वर्गीय पिनाकि कुंडू         LATE PINAKI KUNDU\n",
              "2   मृत नूर महम्मद बिश्वास  Late Nur Mohammad Biswas\n",
              "3    स्वर्गीय पिनाकि कुंडू         LATE PINAKI KUNDU\n",
              "4       स्वर्गीय आली महममद          LT. ALI MOHAMMAD"
            ]
          },
          "metadata": {},
          "execution_count": 8
        }
      ]
    },
    {
      "cell_type": "markdown",
      "metadata": {
        "id": "sRjQYPAjajwg"
      },
      "source": [
        "## load cricket dataset"
      ]
    },
    {
      "cell_type": "code",
      "metadata": {
        "id": "QIlUaSeP54a0"
      },
      "source": [
        "cricket_df = pd.read_json('players_with_hindi_names.json')"
      ],
      "execution_count": 9,
      "outputs": []
    },
    {
      "cell_type": "code",
      "metadata": {
        "colab": {
          "base_uri": "https://localhost:8080/",
          "height": 206
        },
        "id": "-8AW_DdX5934",
        "outputId": "1c15727d-8a36-4be7-814f-b6595c40f4d1"
      },
      "source": [
        "cricket_df.head()"
      ],
      "execution_count": 10,
      "outputs": [
        {
          "output_type": "execute_result",
          "data": {
            "text/html": [
              "<div>\n",
              "<style scoped>\n",
              "    .dataframe tbody tr th:only-of-type {\n",
              "        vertical-align: middle;\n",
              "    }\n",
              "\n",
              "    .dataframe tbody tr th {\n",
              "        vertical-align: top;\n",
              "    }\n",
              "\n",
              "    .dataframe thead th {\n",
              "        text-align: right;\n",
              "    }\n",
              "</style>\n",
              "<table border=\"1\" class=\"dataframe\">\n",
              "  <thead>\n",
              "    <tr style=\"text-align: right;\">\n",
              "      <th></th>\n",
              "      <th>id</th>\n",
              "      <th>hindi_name</th>\n",
              "      <th>hindi_long_name</th>\n",
              "      <th>english_name</th>\n",
              "      <th>gender</th>\n",
              "      <th>date_of_birth</th>\n",
              "      <th>country_id</th>\n",
              "      <th>slug</th>\n",
              "    </tr>\n",
              "  </thead>\n",
              "  <tbody>\n",
              "    <tr>\n",
              "      <th>0</th>\n",
              "      <td>90143</td>\n",
              "      <td>आर गुरबाज़</td>\n",
              "      <td>रहमानउल्लाह गुरबाज़</td>\n",
              "      <td>Rahmanullah Gurbaz</td>\n",
              "      <td>M</td>\n",
              "      <td>{'year': 2001, 'month': 11, 'date': 28}</td>\n",
              "      <td>40</td>\n",
              "      <td>rahmanullah-gurbaz</td>\n",
              "    </tr>\n",
              "    <tr>\n",
              "      <th>1</th>\n",
              "      <td>54018</td>\n",
              "      <td>एम रिज़वान</td>\n",
              "      <td>मोहम्मद रिज़वान</td>\n",
              "      <td>Mohammad Rizwan</td>\n",
              "      <td>M</td>\n",
              "      <td>{'year': 1992, 'month': 6, 'date': 1}</td>\n",
              "      <td>7</td>\n",
              "      <td>mohammad-rizwan</td>\n",
              "    </tr>\n",
              "    <tr>\n",
              "      <th>2</th>\n",
              "      <td>47686</td>\n",
              "      <td>एस मक़सूद</td>\n",
              "      <td>सोहेब मक़सूद</td>\n",
              "      <td>Sohaib Maqsood</td>\n",
              "      <td>M</td>\n",
              "      <td>{'year': 1987, 'month': 4, 'date': 15}</td>\n",
              "      <td>7</td>\n",
              "      <td>sohaib-maqsood</td>\n",
              "    </tr>\n",
              "    <tr>\n",
              "      <th>3</th>\n",
              "      <td>53649</td>\n",
              "      <td>आर आर रुसो</td>\n",
              "      <td>राइली रुसो</td>\n",
              "      <td>Rossouw, RR</td>\n",
              "      <td>M</td>\n",
              "      <td>{'year': 1989, 'month': 10, 'date': 9}</td>\n",
              "      <td>3</td>\n",
              "      <td>rilee-rossouw</td>\n",
              "    </tr>\n",
              "    <tr>\n",
              "      <th>4</th>\n",
              "      <td>72393</td>\n",
              "      <td>एस हेटमायर</td>\n",
              "      <td>शिमरॉन हेटमायर</td>\n",
              "      <td>Hetmyer, SO</td>\n",
              "      <td>M</td>\n",
              "      <td>{'year': 1996, 'month': 12, 'date': 26}</td>\n",
              "      <td>4</td>\n",
              "      <td>shimron-hetmyer</td>\n",
              "    </tr>\n",
              "  </tbody>\n",
              "</table>\n",
              "</div>"
            ],
            "text/plain": [
              "      id  hindi_name  ... country_id                slug\n",
              "0  90143  आर गुरबाज़  ...         40  rahmanullah-gurbaz\n",
              "1  54018  एम रिज़वान  ...          7     mohammad-rizwan\n",
              "2  47686   एस मक़सूद  ...          7      sohaib-maqsood\n",
              "3  53649  आर आर रुसो  ...          3       rilee-rossouw\n",
              "4  72393  एस हेटमायर  ...          4     shimron-hetmyer\n",
              "\n",
              "[5 rows x 8 columns]"
            ]
          },
          "metadata": {},
          "execution_count": 10
        }
      ]
    },
    {
      "cell_type": "code",
      "metadata": {
        "id": "Zyc762NtcILn"
      },
      "source": [
        "input_target_df = pd.concat([\n",
        "                             input_target_df, \n",
        "                             cricket_df[['hindi_long_name', 'english_name']].rename(columns={\"hindi_long_name\": \"hindi\", \"english_name\": \"english\"}) \n",
        "                             ], ignore_index=True)"
      ],
      "execution_count": 11,
      "outputs": []
    },
    {
      "cell_type": "markdown",
      "metadata": {
        "id": "iDtsnXBQa7m2"
      },
      "source": [
        "## load Dakshina Dataset"
      ]
    },
    {
      "cell_type": "code",
      "metadata": {
        "id": "YWUoa66ea0xR"
      },
      "source": [
        "\n",
        "dakshina_df = pd.read_csv('hi.translit.sampled.train.tsv', sep='\\t', names=[\"hindi\", \"english\", \"freq\"])"
      ],
      "execution_count": 12,
      "outputs": []
    },
    {
      "cell_type": "code",
      "metadata": {
        "colab": {
          "base_uri": "https://localhost:8080/",
          "height": 206
        },
        "id": "LvzPQO06bONy",
        "outputId": "954f6e1e-2e5a-4b1d-ba61-5a6a49537c4c"
      },
      "source": [
        "dakshina_df.head()"
      ],
      "execution_count": 13,
      "outputs": [
        {
          "output_type": "execute_result",
          "data": {
            "text/html": [
              "<div>\n",
              "<style scoped>\n",
              "    .dataframe tbody tr th:only-of-type {\n",
              "        vertical-align: middle;\n",
              "    }\n",
              "\n",
              "    .dataframe tbody tr th {\n",
              "        vertical-align: top;\n",
              "    }\n",
              "\n",
              "    .dataframe thead th {\n",
              "        text-align: right;\n",
              "    }\n",
              "</style>\n",
              "<table border=\"1\" class=\"dataframe\">\n",
              "  <thead>\n",
              "    <tr style=\"text-align: right;\">\n",
              "      <th></th>\n",
              "      <th>hindi</th>\n",
              "      <th>english</th>\n",
              "      <th>freq</th>\n",
              "    </tr>\n",
              "  </thead>\n",
              "  <tbody>\n",
              "    <tr>\n",
              "      <th>0</th>\n",
              "      <td>अं</td>\n",
              "      <td>an</td>\n",
              "      <td>3</td>\n",
              "    </tr>\n",
              "    <tr>\n",
              "      <th>1</th>\n",
              "      <td>अंकगणित</td>\n",
              "      <td>ankganit</td>\n",
              "      <td>3</td>\n",
              "    </tr>\n",
              "    <tr>\n",
              "      <th>2</th>\n",
              "      <td>अंकल</td>\n",
              "      <td>uncle</td>\n",
              "      <td>4</td>\n",
              "    </tr>\n",
              "    <tr>\n",
              "      <th>3</th>\n",
              "      <td>अंकुर</td>\n",
              "      <td>ankur</td>\n",
              "      <td>4</td>\n",
              "    </tr>\n",
              "    <tr>\n",
              "      <th>4</th>\n",
              "      <td>अंकुरण</td>\n",
              "      <td>ankuran</td>\n",
              "      <td>3</td>\n",
              "    </tr>\n",
              "  </tbody>\n",
              "</table>\n",
              "</div>"
            ],
            "text/plain": [
              "     hindi   english  freq\n",
              "0       अं        an     3\n",
              "1  अंकगणित  ankganit     3\n",
              "2     अंकल     uncle     4\n",
              "3    अंकुर     ankur     4\n",
              "4   अंकुरण   ankuran     3"
            ]
          },
          "metadata": {},
          "execution_count": 13
        }
      ]
    },
    {
      "cell_type": "code",
      "metadata": {
        "id": "X8aCM1ehbqWb"
      },
      "source": [
        "input_target_df = pd.concat([\n",
        "                             input_target_df, \n",
        "                             dakshina_df[['hindi', 'english']]\n",
        "                             ], ignore_index=True)"
      ],
      "execution_count": 14,
      "outputs": []
    },
    {
      "cell_type": "code",
      "metadata": {
        "colab": {
          "base_uri": "https://localhost:8080/",
          "height": 206
        },
        "id": "c_rJ_vXPcpGE",
        "outputId": "b9a6c0e0-f0cb-4a22-a983-23546b6e054c"
      },
      "source": [
        "input_target_df.head()"
      ],
      "execution_count": 15,
      "outputs": [
        {
          "output_type": "execute_result",
          "data": {
            "text/html": [
              "<div>\n",
              "<style scoped>\n",
              "    .dataframe tbody tr th:only-of-type {\n",
              "        vertical-align: middle;\n",
              "    }\n",
              "\n",
              "    .dataframe tbody tr th {\n",
              "        vertical-align: top;\n",
              "    }\n",
              "\n",
              "    .dataframe thead th {\n",
              "        text-align: right;\n",
              "    }\n",
              "</style>\n",
              "<table border=\"1\" class=\"dataframe\">\n",
              "  <thead>\n",
              "    <tr style=\"text-align: right;\">\n",
              "      <th></th>\n",
              "      <th>hindi</th>\n",
              "      <th>english</th>\n",
              "    </tr>\n",
              "  </thead>\n",
              "  <tbody>\n",
              "    <tr>\n",
              "      <th>0</th>\n",
              "      <td>प्रयात सुबोध चन्द्र दास</td>\n",
              "      <td>LATE SUBODH CHANDRA DAS</td>\n",
              "    </tr>\n",
              "    <tr>\n",
              "      <th>1</th>\n",
              "      <td>स्वर्गीय पिनाकि कुंडू</td>\n",
              "      <td>LATE PINAKI KUNDU</td>\n",
              "    </tr>\n",
              "    <tr>\n",
              "      <th>2</th>\n",
              "      <td>मृत नूर महम्मद बिश्वास</td>\n",
              "      <td>Late Nur Mohammad Biswas</td>\n",
              "    </tr>\n",
              "    <tr>\n",
              "      <th>3</th>\n",
              "      <td>स्वर्गीय पिनाकि कुंडू</td>\n",
              "      <td>LATE PINAKI KUNDU</td>\n",
              "    </tr>\n",
              "    <tr>\n",
              "      <th>4</th>\n",
              "      <td>स्वर्गीय आली महममद</td>\n",
              "      <td>LT. ALI MOHAMMAD</td>\n",
              "    </tr>\n",
              "  </tbody>\n",
              "</table>\n",
              "</div>"
            ],
            "text/plain": [
              "                     hindi                   english\n",
              "0  प्रयात सुबोध चन्द्र दास   LATE SUBODH CHANDRA DAS\n",
              "1    स्वर्गीय पिनाकि कुंडू         LATE PINAKI KUNDU\n",
              "2   मृत नूर महम्मद बिश्वास  Late Nur Mohammad Biswas\n",
              "3    स्वर्गीय पिनाकि कुंडू         LATE PINAKI KUNDU\n",
              "4       स्वर्गीय आली महममद          LT. ALI MOHAMMAD"
            ]
          },
          "metadata": {},
          "execution_count": 15
        }
      ]
    },
    {
      "cell_type": "code",
      "metadata": {
        "colab": {
          "base_uri": "https://localhost:8080/"
        },
        "id": "oxaiXS4yc90U",
        "outputId": "ce3b68d3-37c4-4881-aa4e-2fb5aa25435c"
      },
      "source": [
        "input_target_df.info()"
      ],
      "execution_count": 16,
      "outputs": [
        {
          "output_type": "stream",
          "name": "stdout",
          "text": [
            "<class 'pandas.core.frame.DataFrame'>\n",
            "RangeIndex: 77908 entries, 0 to 77907\n",
            "Data columns (total 2 columns):\n",
            " #   Column   Non-Null Count  Dtype \n",
            "---  ------   --------------  ----- \n",
            " 0   hindi    72727 non-null  object\n",
            " 1   english  77906 non-null  object\n",
            "dtypes: object(2)\n",
            "memory usage: 1.2+ MB\n"
          ]
        }
      ]
    },
    {
      "cell_type": "code",
      "metadata": {
        "id": "7WVfnG3RSDz0"
      },
      "source": [
        "input_target_df = input_target_df.dropna()"
      ],
      "execution_count": 17,
      "outputs": []
    },
    {
      "cell_type": "code",
      "metadata": {
        "colab": {
          "base_uri": "https://localhost:8080/"
        },
        "id": "rs0mMz4ndDCG",
        "outputId": "d65c0af9-7119-4c37-a81a-c3645529eb00"
      },
      "source": [
        "input_target_df.info()"
      ],
      "execution_count": 18,
      "outputs": [
        {
          "output_type": "stream",
          "name": "stdout",
          "text": [
            "<class 'pandas.core.frame.DataFrame'>\n",
            "Int64Index: 72725 entries, 0 to 77907\n",
            "Data columns (total 2 columns):\n",
            " #   Column   Non-Null Count  Dtype \n",
            "---  ------   --------------  ----- \n",
            " 0   hindi    72725 non-null  object\n",
            " 1   english  72725 non-null  object\n",
            "dtypes: object(2)\n",
            "memory usage: 1.7+ MB\n"
          ]
        }
      ]
    },
    {
      "cell_type": "code",
      "metadata": {
        "id": "7gujOMDzS1O_"
      },
      "source": [
        "# strip and make lower case\n",
        "input_target_df['hindi'] = input_target_df['hindi'].str.strip() # hindi has no caps\n",
        "input_target_df['english'] = input_target_df['english'].str.strip().str.lower()"
      ],
      "execution_count": 19,
      "outputs": []
    },
    {
      "cell_type": "code",
      "metadata": {
        "colab": {
          "base_uri": "https://localhost:8080/",
          "height": 206
        },
        "id": "aJDDFPvhTv3e",
        "outputId": "8faa33fc-ebd9-473a-b409-ea2546bd668f"
      },
      "source": [
        "input_target_df.head()"
      ],
      "execution_count": 20,
      "outputs": [
        {
          "output_type": "execute_result",
          "data": {
            "text/html": [
              "<div>\n",
              "<style scoped>\n",
              "    .dataframe tbody tr th:only-of-type {\n",
              "        vertical-align: middle;\n",
              "    }\n",
              "\n",
              "    .dataframe tbody tr th {\n",
              "        vertical-align: top;\n",
              "    }\n",
              "\n",
              "    .dataframe thead th {\n",
              "        text-align: right;\n",
              "    }\n",
              "</style>\n",
              "<table border=\"1\" class=\"dataframe\">\n",
              "  <thead>\n",
              "    <tr style=\"text-align: right;\">\n",
              "      <th></th>\n",
              "      <th>hindi</th>\n",
              "      <th>english</th>\n",
              "    </tr>\n",
              "  </thead>\n",
              "  <tbody>\n",
              "    <tr>\n",
              "      <th>0</th>\n",
              "      <td>प्रयात सुबोध चन्द्र दास</td>\n",
              "      <td>late subodh chandra das</td>\n",
              "    </tr>\n",
              "    <tr>\n",
              "      <th>1</th>\n",
              "      <td>स्वर्गीय पिनाकि कुंडू</td>\n",
              "      <td>late pinaki kundu</td>\n",
              "    </tr>\n",
              "    <tr>\n",
              "      <th>2</th>\n",
              "      <td>मृत नूर महम्मद बिश्वास</td>\n",
              "      <td>late nur mohammad biswas</td>\n",
              "    </tr>\n",
              "    <tr>\n",
              "      <th>3</th>\n",
              "      <td>स्वर्गीय पिनाकि कुंडू</td>\n",
              "      <td>late pinaki kundu</td>\n",
              "    </tr>\n",
              "    <tr>\n",
              "      <th>4</th>\n",
              "      <td>स्वर्गीय आली महममद</td>\n",
              "      <td>lt. ali mohammad</td>\n",
              "    </tr>\n",
              "  </tbody>\n",
              "</table>\n",
              "</div>"
            ],
            "text/plain": [
              "                     hindi                   english\n",
              "0  प्रयात सुबोध चन्द्र दास   late subodh chandra das\n",
              "1    स्वर्गीय पिनाकि कुंडू         late pinaki kundu\n",
              "2   मृत नूर महम्मद बिश्वास  late nur mohammad biswas\n",
              "3    स्वर्गीय पिनाकि कुंडू         late pinaki kundu\n",
              "4       स्वर्गीय आली महममद          lt. ali mohammad"
            ]
          },
          "metadata": {},
          "execution_count": 20
        }
      ]
    },
    {
      "cell_type": "code",
      "metadata": {
        "id": "tUmbiLe8T7rk"
      },
      "source": [
        "# Strip out any abbreviated names\n",
        "input_target_df = input_target_df[~input_target_df['english'].str.contains('\\.')]\n",
        "input_target_df = input_target_df[~input_target_df['english'].str.contains(',')]"
      ],
      "execution_count": 21,
      "outputs": []
    },
    {
      "cell_type": "code",
      "metadata": {
        "colab": {
          "base_uri": "https://localhost:8080/"
        },
        "id": "GRkMX8QcVbKg",
        "outputId": "64b0dc88-c28b-4747-eb89-427e2fea56f0"
      },
      "source": [
        "input_target_df.info()"
      ],
      "execution_count": 22,
      "outputs": [
        {
          "output_type": "stream",
          "name": "stdout",
          "text": [
            "<class 'pandas.core.frame.DataFrame'>\n",
            "Int64Index: 63899 entries, 0 to 77907\n",
            "Data columns (total 2 columns):\n",
            " #   Column   Non-Null Count  Dtype \n",
            "---  ------   --------------  ----- \n",
            " 0   hindi    63899 non-null  object\n",
            " 1   english  63899 non-null  object\n",
            "dtypes: object(2)\n",
            "memory usage: 1.5+ MB\n"
          ]
        }
      ]
    },
    {
      "cell_type": "code",
      "metadata": {
        "id": "dyzG08H1Z3Ch"
      },
      "source": [
        "# drop duplicates\n",
        "input_target_df = input_target_df.drop_duplicates()"
      ],
      "execution_count": 23,
      "outputs": []
    },
    {
      "cell_type": "code",
      "metadata": {
        "colab": {
          "base_uri": "https://localhost:8080/"
        },
        "id": "52H8_u4maYM2",
        "outputId": "2f3cc3c0-c1e6-4bf0-838f-f6966844598d"
      },
      "source": [
        "input_target_df.info()"
      ],
      "execution_count": 24,
      "outputs": [
        {
          "output_type": "stream",
          "name": "stdout",
          "text": [
            "<class 'pandas.core.frame.DataFrame'>\n",
            "Int64Index: 55821 entries, 0 to 77907\n",
            "Data columns (total 2 columns):\n",
            " #   Column   Non-Null Count  Dtype \n",
            "---  ------   --------------  ----- \n",
            " 0   hindi    55821 non-null  object\n",
            " 1   english  55821 non-null  object\n",
            "dtypes: object(2)\n",
            "memory usage: 1.3+ MB\n"
          ]
        }
      ]
    },
    {
      "cell_type": "code",
      "metadata": {
        "id": "DnQHxhVye07D"
      },
      "source": [
        "# Remove if target has non-english \n",
        "def isEnglish(s):\n",
        "  try:\n",
        "      s.encode(encoding='utf-8').decode('ascii')\n",
        "  except UnicodeDecodeError:\n",
        "      return False\n",
        "  else:\n",
        "      return True\n",
        "\n",
        "input_target_df = input_target_df[input_target_df['english'].apply(isEnglish)]"
      ],
      "execution_count": 25,
      "outputs": []
    },
    {
      "cell_type": "code",
      "metadata": {
        "colab": {
          "base_uri": "https://localhost:8080/"
        },
        "id": "sEGVeRyrgJJc",
        "outputId": "4ed0fb3f-bbac-477f-d782-43ece05b7761"
      },
      "source": [
        "input_target_df.info()"
      ],
      "execution_count": 26,
      "outputs": [
        {
          "output_type": "stream",
          "name": "stdout",
          "text": [
            "<class 'pandas.core.frame.DataFrame'>\n",
            "Int64Index: 55768 entries, 0 to 77907\n",
            "Data columns (total 2 columns):\n",
            " #   Column   Non-Null Count  Dtype \n",
            "---  ------   --------------  ----- \n",
            " 0   hindi    55768 non-null  object\n",
            " 1   english  55768 non-null  object\n",
            "dtypes: object(2)\n",
            "memory usage: 1.3+ MB\n"
          ]
        }
      ]
    },
    {
      "cell_type": "code",
      "metadata": {
        "id": "URH4OE1pq4rM"
      },
      "source": [
        "# append start and end of sequence for target\n",
        "sos = '^'\n",
        "eos = '$'\n",
        "\n",
        "input_target_df['english'] = sos + input_target_df['english'].astype(str) + eos"
      ],
      "execution_count": 27,
      "outputs": []
    },
    {
      "cell_type": "code",
      "metadata": {
        "id": "AahQxw3J5_ax"
      },
      "source": [
        "input_words =  input_target_df['hindi'].tolist()\n",
        "target_words =  input_target_df['english'].tolist()"
      ],
      "execution_count": 28,
      "outputs": []
    },
    {
      "cell_type": "code",
      "metadata": {
        "colab": {
          "base_uri": "https://localhost:8080/"
        },
        "id": "lpsCJ3kv7LkA",
        "outputId": "fcc8c3bd-7cac-4d49-dc4b-5eeb85e5ca5e"
      },
      "source": [
        "print(input_words[0])\n",
        "print(target_words[0])"
      ],
      "execution_count": 29,
      "outputs": [
        {
          "output_type": "stream",
          "name": "stdout",
          "text": [
            "प्रयात सुबोध चन्द्र दास\n",
            "^late subodh chandra das$\n"
          ]
        }
      ]
    },
    {
      "cell_type": "code",
      "metadata": {
        "colab": {
          "base_uri": "https://localhost:8080/"
        },
        "id": "X3pGuZOyQ1D2",
        "outputId": "639c7adf-d7af-44d8-ac4d-8290b0b5385e"
      },
      "source": [
        "print(f\"Total number of input words {len(input_words)}\")\n",
        "print(f\"Total number of target words {len(target_words)}\")"
      ],
      "execution_count": 30,
      "outputs": [
        {
          "output_type": "stream",
          "name": "stdout",
          "text": [
            "Total number of input words 55768\n",
            "Total number of target words 55768\n"
          ]
        }
      ]
    },
    {
      "cell_type": "code",
      "metadata": {
        "id": "U5Trw_fmOLi7"
      },
      "source": [
        "def build_vocab(input_words, target_words):\n",
        "  input_vocab = set()\n",
        "  target_vocab = set()\n",
        "  for input_word, target_word in zip(input_words, target_words):\n",
        "      input_vocab.update(set(input_word))\n",
        "      target_vocab.update(set(target_word))\n",
        "  return input_vocab, target_vocab"
      ],
      "execution_count": 31,
      "outputs": []
    },
    {
      "cell_type": "code",
      "metadata": {
        "id": "RlgD8jM0OsHG"
      },
      "source": [
        "input_vocab, target_vocab = build_vocab(input_words, target_words)"
      ],
      "execution_count": 32,
      "outputs": []
    },
    {
      "cell_type": "code",
      "metadata": {
        "colab": {
          "base_uri": "https://localhost:8080/"
        },
        "id": "W_wQMLvrOyu_",
        "outputId": "4cdff366-e98a-41fd-edf2-d20d719abe11"
      },
      "source": [
        "print(f\"Total hindi characters {len(input_vocab)}\")\n",
        "print(f\"Total english characters {len(target_vocab)}\")"
      ],
      "execution_count": 33,
      "outputs": [
        {
          "output_type": "stream",
          "name": "stdout",
          "text": [
            "Total hindi characters 186\n",
            "Total english characters 35\n"
          ]
        }
      ]
    },
    {
      "cell_type": "code",
      "metadata": {
        "id": "ztVnKKGsYlFK"
      },
      "source": [
        "input_vocab = sorted(list(input_vocab))\n",
        "target_vocab = sorted(list(target_vocab))"
      ],
      "execution_count": 34,
      "outputs": []
    },
    {
      "cell_type": "code",
      "metadata": {
        "id": "fbJSDwkvXvQp"
      },
      "source": [
        "input_token_index = dict([(char, i) for i, char in enumerate(input_vocab)])\n",
        "target_token_index = dict([(char, i) for i, char in enumerate(target_vocab)])"
      ],
      "execution_count": 35,
      "outputs": []
    },
    {
      "cell_type": "code",
      "metadata": {
        "id": "b7GxU2wrg8u_"
      },
      "source": [
        "# Reverse-lookup token index to decode sequences back to\n",
        "# something readable.\n",
        "reverse_input_char_index = dict((i, char) for char, i in input_token_index.items())\n",
        "reverse_target_char_index = dict((i, char) for char, i in target_token_index.items())"
      ],
      "execution_count": 36,
      "outputs": []
    },
    {
      "cell_type": "code",
      "metadata": {
        "id": "-dxT9ms4YG1y"
      },
      "source": [
        "num_encoder_tokens = len(input_vocab)\n",
        "num_decoder_tokens = len(target_vocab)"
      ],
      "execution_count": 37,
      "outputs": []
    },
    {
      "cell_type": "code",
      "metadata": {
        "id": "DZguL8LRY8Bl"
      },
      "source": [
        "max_encoder_seq_length = max([len(txt) for txt in input_words])\n",
        "max_decoder_seq_length = max([len(txt) for txt in target_words])"
      ],
      "execution_count": 38,
      "outputs": []
    },
    {
      "cell_type": "code",
      "metadata": {
        "colab": {
          "base_uri": "https://localhost:8080/"
        },
        "id": "HZLsjCHrZGuP",
        "outputId": "11af0198-cdb1-48f2-c735-e254e67bc8cd"
      },
      "source": [
        "print('Number of samples:', len(input_words))\n",
        "print('Number of unique input tokens:', num_encoder_tokens)\n",
        "print('Number of unique output tokens:', num_decoder_tokens)\n",
        "print('Max sequence length for inputs:', max_encoder_seq_length)\n",
        "print('Max sequence length for outputs:', max_decoder_seq_length)"
      ],
      "execution_count": 39,
      "outputs": [
        {
          "output_type": "stream",
          "name": "stdout",
          "text": [
            "Number of samples: 55768\n",
            "Number of unique input tokens: 186\n",
            "Number of unique output tokens: 35\n",
            "Max sequence length for inputs: 47\n",
            "Max sequence length for outputs: 49\n"
          ]
        }
      ]
    },
    {
      "cell_type": "code",
      "metadata": {
        "id": "nbXBdUGOZO3_"
      },
      "source": [
        "encoder_input_data = np.zeros((len(input_words), max_encoder_seq_length, num_encoder_tokens), dtype='float32')\n",
        "decoder_input_data = np.zeros((len(input_words), max_decoder_seq_length, num_decoder_tokens), dtype='float32')\n",
        "decoder_target_data = np.zeros( (len(input_words), max_decoder_seq_length, num_decoder_tokens), dtype='float32')"
      ],
      "execution_count": 40,
      "outputs": []
    },
    {
      "cell_type": "code",
      "metadata": {
        "colab": {
          "base_uri": "https://localhost:8080/"
        },
        "id": "HO9DgOJOZgpe",
        "outputId": "7583daa2-6dfe-4ecc-e193-49d0b6d885ee"
      },
      "source": [
        "print(f\"encoder input shape {encoder_input_data.shape}\")\n",
        "print(f\"decoder input shape {decoder_input_data.shape}\")\n",
        "print(f\"decoder target shape {decoder_target_data.shape}\")"
      ],
      "execution_count": 41,
      "outputs": [
        {
          "output_type": "stream",
          "name": "stdout",
          "text": [
            "encoder input shape (55768, 47, 186)\n",
            "decoder input shape (55768, 49, 35)\n",
            "decoder target shape (55768, 49, 35)\n"
          ]
        }
      ]
    },
    {
      "cell_type": "code",
      "metadata": {
        "id": "9KGNey6fZ05q"
      },
      "source": [
        "for i, (input_text, target_text) in enumerate(zip(input_words, target_words)):\n",
        "  for t, char in enumerate(input_text):\n",
        "    encoder_input_data[i, t, input_token_index[char]] = 1.0\n",
        "  # for the rest of sentence, mark it as space\n",
        "  #encoder_input_data[i, t + 1 :, input_token_index[\" \"]] = 1.0\n",
        "\n",
        "  for t, char in enumerate(target_text):\n",
        "    # decoder_target_data is ahead of decoder_input_data by one timestep\n",
        "    decoder_input_data[i, t, target_token_index[char]] = 1.0\n",
        "    if t > 0:\n",
        "      # decoder_target_data will be ahead by one timestep\n",
        "      # and will not include the start character.\n",
        "      decoder_target_data[i, t-1, target_token_index[char]] = 1.0\n",
        "      # for the rest of sentence, mark it as space\n",
        "      #decoder_input_data[i, t + 1 :, target_token_index[\" \"]] = 1.0"
      ],
      "execution_count": 42,
      "outputs": []
    },
    {
      "cell_type": "markdown",
      "metadata": {
        "id": "0CZd0uprOC5u"
      },
      "source": [
        "# Define Model"
      ]
    },
    {
      "cell_type": "code",
      "metadata": {
        "id": "0F1B0ezJcehK",
        "colab": {
          "base_uri": "https://localhost:8080/"
        },
        "outputId": "affbbe23-010f-432a-aa76-2f6b913e1371"
      },
      "source": [
        "latent_dim = 256  # Latent dimensionality of the encoding space.\n",
        "EMBEDDING_SIZE = 100\n",
        "\n",
        "# Define an input sequence and process it.\n",
        "encoder_inputs = Input(shape=(None, num_encoder_tokens))\n",
        "print(encoder_inputs.shape)\n",
        "\n",
        "# Define embedding layer\n",
        "encoder_embedding = Embedding(num_encoder_tokens, EMBEDDING_SIZE, input_length=max_encoder_seq_length)\n",
        "encoder_inputs_em = encoder_embedding(encoder_inputs)\n",
        "print(encoder_inputs_em.shape)\n",
        "\n",
        "# since embedding layer will add one more dim, we need to flatten last 2 dims\n",
        "encoder_reshape = Reshape((-1, encoder_inputs_em.shape[2] * encoder_inputs_em.shape[3]))\n",
        "encoder_inputs_re = encoder_reshape(encoder_inputs_em)\n",
        "print(encoder_inputs_re.shape)\n",
        "\n",
        "# Note that LSTM takes only 3 dims, (samples, timesteps, features)\n",
        "encoder = LSTM(latent_dim, return_state=True)\n",
        "\n",
        "encoder_outputs, state_h, state_c = encoder(encoder_inputs_re)\n",
        "# We discard `encoder_outputs` and only keep the states.\n",
        "encoder_states = [state_h, state_c]"
      ],
      "execution_count": 43,
      "outputs": [
        {
          "output_type": "stream",
          "name": "stdout",
          "text": [
            "(None, None, 186)\n",
            "(None, None, 186, 100)\n",
            "(None, None, 18600)\n"
          ]
        }
      ]
    },
    {
      "cell_type": "code",
      "metadata": {
        "id": "D4g-jGmUeeL4",
        "colab": {
          "base_uri": "https://localhost:8080/"
        },
        "outputId": "ed8a12d6-22e2-4616-b7d0-81203945c966"
      },
      "source": [
        "# Set up the decoder, using `encoder_states` as initial state.\n",
        "decoder_inputs = Input(shape=(None, num_decoder_tokens))\n",
        "print(decoder_inputs.shape)\n",
        "\n",
        "# Define embeddling layer\n",
        "decoder_embedding = Embedding(num_decoder_tokens, latent_dim)\n",
        "decoder_inputs_em = decoder_embedding(decoder_inputs)\n",
        "print(decoder_inputs_em.shape)\n",
        "\n",
        "# since embedding layer will add one more dim, we need to flatten last 2 dims\n",
        "decoder_reshape = Reshape((-1, decoder_inputs_em.shape[2] * decoder_inputs_em.shape[3]))\n",
        "decoder_inputs_re = decoder_reshape(decoder_inputs_em)\n",
        "print(decoder_inputs_re.shape)\n",
        "\n",
        "# We set up our decoder to return full output sequences,\n",
        "# and to return internal states as well. We don't use the\n",
        "# return states in the training model, but we will use them in inference.\n",
        "decoder = LSTM(latent_dim, return_sequences=True, return_state=True)\n",
        "\n",
        "decoder_outputs, _, _ = decoder(decoder_inputs_re, initial_state=encoder_states)\n",
        "print(decoder_outputs.shape)\n",
        "\n",
        "decoder_dense = Dense(num_decoder_tokens, activation='softmax')\n",
        "decoder_outputs = decoder_dense(decoder_outputs)\n",
        "print(decoder_outputs.shape)"
      ],
      "execution_count": 44,
      "outputs": [
        {
          "output_type": "stream",
          "name": "stdout",
          "text": [
            "(None, None, 35)\n",
            "(None, None, 35, 256)\n",
            "(None, None, 8960)\n",
            "(None, None, 256)\n",
            "(None, None, 35)\n"
          ]
        }
      ]
    },
    {
      "cell_type": "code",
      "metadata": {
        "id": "voLTGIiBeyKO"
      },
      "source": [
        "# Define the model that will turn\n",
        "# `encoder_input_data` & `decoder_input_data` into `decoder_target_data`\n",
        "model = Model([encoder_inputs, decoder_inputs], decoder_outputs)"
      ],
      "execution_count": 45,
      "outputs": []
    },
    {
      "cell_type": "code",
      "metadata": {
        "colab": {
          "base_uri": "https://localhost:8080/"
        },
        "id": "iShaSKTZYbxl",
        "outputId": "cc5e44c2-30f3-4ee6-908b-1efb79a12900"
      },
      "source": [
        "model.summary()"
      ],
      "execution_count": 46,
      "outputs": [
        {
          "output_type": "stream",
          "name": "stdout",
          "text": [
            "Model: \"model\"\n",
            "__________________________________________________________________________________________________\n",
            "Layer (type)                    Output Shape         Param #     Connected to                     \n",
            "==================================================================================================\n",
            "input_1 (InputLayer)            [(None, None, 186)]  0                                            \n",
            "__________________________________________________________________________________________________\n",
            "input_2 (InputLayer)            [(None, None, 35)]   0                                            \n",
            "__________________________________________________________________________________________________\n",
            "embedding (Embedding)           (None, None, 186, 10 18600       input_1[0][0]                    \n",
            "__________________________________________________________________________________________________\n",
            "embedding_1 (Embedding)         (None, None, 35, 256 8960        input_2[0][0]                    \n",
            "__________________________________________________________________________________________________\n",
            "reshape (Reshape)               (None, None, 18600)  0           embedding[0][0]                  \n",
            "__________________________________________________________________________________________________\n",
            "reshape_1 (Reshape)             (None, None, 8960)   0           embedding_1[0][0]                \n",
            "__________________________________________________________________________________________________\n",
            "lstm (LSTM)                     [(None, 256), (None, 19309568    reshape[0][0]                    \n",
            "__________________________________________________________________________________________________\n",
            "lstm_1 (LSTM)                   [(None, None, 256),  9438208     reshape_1[0][0]                  \n",
            "                                                                 lstm[0][1]                       \n",
            "                                                                 lstm[0][2]                       \n",
            "__________________________________________________________________________________________________\n",
            "dense (Dense)                   (None, None, 35)     8995        lstm_1[0][0]                     \n",
            "==================================================================================================\n",
            "Total params: 28,784,331\n",
            "Trainable params: 28,784,331\n",
            "Non-trainable params: 0\n",
            "__________________________________________________________________________________________________\n"
          ]
        }
      ]
    },
    {
      "cell_type": "code",
      "metadata": {
        "colab": {
          "base_uri": "https://localhost:8080/",
          "height": 644
        },
        "id": "mfGcinDOYqKl",
        "outputId": "08a32521-e3f1-43db-f3d9-b2959b279f6e"
      },
      "source": [
        "tf.keras.utils.plot_model(model, show_shapes=True, show_layer_names=True)"
      ],
      "execution_count": 47,
      "outputs": [
        {
          "output_type": "execute_result",
          "data": {
            "image/png": "[encoded data removed]",
            "text/plain": [
              "<IPython.core.display.Image object>"
            ]
          },
          "metadata": {},
          "execution_count": 47
        }
      ]
    },
    {
      "cell_type": "markdown",
      "metadata": {
        "id": "eMp54YzsOKwn"
      },
      "source": [
        "# Train"
      ]
    },
    {
      "cell_type": "code",
      "metadata": {
        "colab": {
          "base_uri": "https://localhost:8080/"
        },
        "id": "49g1SU72pDCg",
        "outputId": "eb5dbae0-2e8d-4b2c-cbe1-b8823b71d6d9"
      },
      "source": [
        "# edit distance playground\n",
        "hypothesis = tf.SparseTensor(\n",
        "            [[0, 0, 0],\n",
        "             [1, 0, 0],\n",
        "             [2, 0, 0],\n",
        "             [3, 0, 0]],\n",
        "             [\"a\", \"b\", \"c\", \"d\"],\n",
        "            (4, 1, 1))\n",
        "\n",
        "truth = tf.SparseTensor(\n",
        "            [[0, 0, 0],\n",
        "             [1, 0, 0],\n",
        "             [2, 0, 0],\n",
        "             [3, 0, 0]],\n",
        "             [\"a\", \"b\", \"c\", \"e\"],\n",
        "            (4, 1, 1))\n",
        "\n",
        "d = tf.edit_distance(hypothesis, truth)\n",
        "d"
      ],
      "execution_count": 48,
      "outputs": [
        {
          "output_type": "execute_result",
          "data": {
            "text/plain": [
              "<tf.Tensor: shape=(4, 1), dtype=float32, numpy=\n",
              "array([[0.],\n",
              "       [0.],\n",
              "       [0.],\n",
              "       [1.]], dtype=float32)>"
            ]
          },
          "metadata": {},
          "execution_count": 48
        }
      ]
    },
    {
      "cell_type": "code",
      "metadata": {
        "colab": {
          "base_uri": "https://localhost:8080/"
        },
        "id": "qAnSfgo7s_s1",
        "outputId": "905e5e71-0e93-4e45-a68c-3d01019f6127"
      },
      "source": [
        "# edit distance playground\n",
        "hypothesis = tf.SparseTensor(\n",
        "            [[0, 0, 0],\n",
        "             [1, 0, 0],\n",
        "             [2, 0, 0],\n",
        "             [3, 0, 0]],\n",
        "             [b'a', b'b', b'c', b'd'],\n",
        "            (4, 1, 1))\n",
        "\n",
        "truth = tf.SparseTensor(\n",
        "            [[0, 0, 0],\n",
        "             [1, 0, 0],\n",
        "             [2, 0, 0],\n",
        "             [3, 0, 0]],\n",
        "             [b'a', b'b', b'c', b'e'],\n",
        "            (4, 1, 1))\n",
        "\n",
        "d = tf.edit_distance(hypothesis, truth)\n",
        "print(d)\n",
        "print(tf.reduce_sum(d))\n",
        "distance = tf.reduce_sum(d)\n",
        "print(distance/truth.shape[0])"
      ],
      "execution_count": 49,
      "outputs": [
        {
          "output_type": "stream",
          "name": "stdout",
          "text": [
            "tf.Tensor(\n",
            "[[0.]\n",
            " [0.]\n",
            " [0.]\n",
            " [1.]], shape=(4, 1), dtype=float32)\n",
            "tf.Tensor(1.0, shape=(), dtype=float32)\n",
            "tf.Tensor(0.25, shape=(), dtype=float32)\n"
          ]
        }
      ]
    },
    {
      "cell_type": "code",
      "metadata": {
        "id": "NG1eJbWsqM-4"
      },
      "source": [
        "def convert_to_chars(batch_tensor):\n",
        "  # batch, maxlength, vocab_length - ex 64, 49, 35\n",
        "  # create numpy of above size with ''\n",
        "  target_data = np.zeros(tuple(batch_tensor.shape.as_list()), dtype='str')\n",
        "  batch_tensor_list = tf.unstack(batch_tensor)\n",
        "  for batch_idx in range(len(batch_tensor_list)):\n",
        "    sentence = tf.unstack(batch_tensor_list[batch_idx])\n",
        "    for sent_idx in range(len(sentence)):\n",
        "      char_idx = np.argmax(sentence[sent_idx])\n",
        "      target_data[batch_idx, sent_idx, char_idx] = reverse_target_char_index[char_idx]\n",
        "  return tf.convert_to_tensor(target_data, dtype=tf.string)\n",
        "\n",
        "def calculate_edit_distance(h_batch, t_batch):\n",
        "  h_batch_list = tf.unstack(h_batch)\n",
        "  t_batch_list = tf.unstack(t_batch)\n",
        "  error = 0.0\n",
        "  for h, t in zip(h_batch_list, t_batch_list):\n",
        "    # tf.edit_distance requires sparse tensors\n",
        "    h_sparse = tf.sparse.from_dense(h)\n",
        "    t_sparse = tf.sparse.from_dense(t)\n",
        "\n",
        "    distance = tf.edit_distance(h_sparse, t_sparse)\n",
        "    error += tf.reduce_sum(distance)/t_sparse.shape[0]\n",
        "  return error\n",
        "\n",
        "class CERMetric(tf.keras.metrics.Metric):\n",
        "    \"\"\"\n",
        "    A custom Keras metric to compute the Character Error Rate\n",
        "    \"\"\"\n",
        "\n",
        "    def __init__(self, name='CER_metric', **kwargs):\n",
        "        super(CERMetric, self).__init__(name=name, **kwargs)\n",
        "        self.cer_accumulator = self.add_weight(name=\"total_cer\", initializer=\"zeros\")\n",
        "        self.counter = self.add_weight(name=\"cer_count\", initializer=\"zeros\")\n",
        "\n",
        "    def update_state(self, y_true, y_pred, sample_weight=None):\n",
        "        # convert to chars\n",
        "        y_true_chars = convert_to_chars(y_true)\n",
        "        y_pred_chars = convert_to_chars(y_pred)\n",
        "        batch_error = calculate_edit_distance(y_pred_chars, y_true_chars)\n",
        "        # sum all edit distance error till now\n",
        "        self.cer_accumulator.assign_add(batch_error)\n",
        "        # total samples till now \n",
        "        self.counter.assign_add(tf.cast(len(y_true), dtype=\"float32\"))\n",
        "\n",
        "    def result(self):\n",
        "        return tf.math.divide_no_nan(self.cer_accumulator, self.counter)\n",
        "\n",
        "    def reset_state(self):\n",
        "        self.cer_accumulator.assign(0.0)\n",
        "        self.counter.assign(0.0)"
      ],
      "execution_count": 50,
      "outputs": []
    },
    {
      "cell_type": "code",
      "metadata": {
        "colab": {
          "base_uri": "https://localhost:8080/"
        },
        "id": "CbARhubxe2yA",
        "outputId": "2926a6b4-cbd1-4893-9801-adfb697c3a0e"
      },
      "source": [
        "# Training\n",
        "batch_size = 64  # Batch size for training.\n",
        "epochs = 100  # Number of epochs to train for.\n",
        "initial_learning_rate = 0.001\n",
        "\n",
        "model_save_filename = \"model.h5\"\n",
        "\n",
        "model.compile(\n",
        "    optimizer=tf.keras.optimizers.RMSprop(learning_rate=initial_learning_rate), \n",
        "    loss='categorical_crossentropy', \n",
        "    metrics=['accuracy', CERMetric()], run_eagerly=True)\n",
        "\n",
        "# Add callbacks:\n",
        "# 'EarlyStopping' to stop training when the model is not enhancing anymore\n",
        "# 'ModelCheckPoint' to always keep the model that has the best val_accuracy\n",
        "# 'LearningRateScheduler' to decay lr \n",
        "earlystopping_cb = EarlyStopping(\n",
        "    monitor=\"val_CER_metric\",\n",
        "    mode=\"min\",\n",
        "    verbose=1,\n",
        "    patience=10, \n",
        "    restore_best_weights=True)\n",
        "\n",
        "mdlcheckpoint_cb = ModelCheckpoint(\n",
        "    model_save_filename, \n",
        "    monitor=\"val_CER_metric\", \n",
        "    mode=\"min\",\n",
        "    verbose=1,\n",
        "    save_best_only=True\n",
        ")\n",
        "\n",
        "decay = initial_learning_rate / epochs\n",
        "def lr_time_based_decay(epoch, lr):\n",
        "    return lr * 1 / (1 + decay * epoch)\n",
        "lrscheduler_cb = tf.keras.callbacks.LearningRateScheduler(lr_time_based_decay)\n",
        "\n",
        "history = model.fit([encoder_input_data, decoder_input_data], decoder_target_data,\n",
        "          batch_size=batch_size, epochs=epochs,  validation_split=0.2, \n",
        "          callbacks=[earlystopping_cb, mdlcheckpoint_cb, lrscheduler_cb])"
      ],
      "execution_count": 51,
      "outputs": [
        {
          "output_type": "stream",
          "name": "stdout",
          "text": [
            "Epoch 1/100\n",
            "698/698 [==============================] - 752s 1s/step - loss: 0.5612 - accuracy: 0.0456 - CER_metric: 0.9544 - val_loss: 0.4805 - val_accuracy: 0.0359 - val_CER_metric: 0.9641\n",
            "\n",
            "Epoch 00001: val_CER_metric improved from inf to 0.96412, saving model to model.h5\n",
            "Epoch 2/100\n",
            "698/698 [==============================] - 749s 1s/step - loss: 0.5396 - accuracy: 0.0489 - CER_metric: 0.9511 - val_loss: 0.4828 - val_accuracy: 0.0372 - val_CER_metric: 0.9628\n",
            "\n",
            "Epoch 00002: val_CER_metric improved from 0.96412 to 0.96276, saving model to model.h5\n",
            "Epoch 3/100\n",
            "698/698 [==============================] - 750s 1s/step - loss: 0.5380 - accuracy: 0.0537 - CER_metric: 0.9463 - val_loss: 0.4827 - val_accuracy: 0.0388 - val_CER_metric: 0.9612\n",
            "\n",
            "Epoch 00003: val_CER_metric improved from 0.96276 to 0.96118, saving model to model.h5\n",
            "Epoch 4/100\n",
            "698/698 [==============================] - 753s 1s/step - loss: 0.5357 - accuracy: 0.0543 - CER_metric: 0.9457 - val_loss: 0.4793 - val_accuracy: 0.0388 - val_CER_metric: 0.9612\n",
            "\n",
            "Epoch 00004: val_CER_metric did not improve from 0.96118\n",
            "Epoch 5/100\n",
            "698/698 [==============================] - 749s 1s/step - loss: 0.5343 - accuracy: 0.0543 - CER_metric: 0.9457 - val_loss: 0.4822 - val_accuracy: 0.0381 - val_CER_metric: 0.9619\n",
            "\n",
            "Epoch 00005: val_CER_metric did not improve from 0.96118\n",
            "Epoch 6/100\n",
            "698/698 [==============================] - 749s 1s/step - loss: 0.5326 - accuracy: 0.0542 - CER_metric: 0.9458 - val_loss: 0.4791 - val_accuracy: 0.0373 - val_CER_metric: 0.9627\n",
            "\n",
            "Epoch 00006: val_CER_metric did not improve from 0.96118\n",
            "Epoch 7/100\n",
            "698/698 [==============================] - 748s 1s/step - loss: 0.5307 - accuracy: 0.0538 - CER_metric: 0.9462 - val_loss: 0.4757 - val_accuracy: 0.0392 - val_CER_metric: 0.9608\n",
            "\n",
            "Epoch 00007: val_CER_metric improved from 0.96118 to 0.96082, saving model to model.h5\n",
            "Epoch 8/100\n",
            "698/698 [==============================] - 746s 1s/step - loss: 0.5161 - accuracy: 0.0559 - CER_metric: 0.9441 - val_loss: 0.4591 - val_accuracy: 0.0398 - val_CER_metric: 0.9602\n",
            "\n",
            "Epoch 00008: val_CER_metric improved from 0.96082 to 0.96024, saving model to model.h5\n",
            "Epoch 9/100\n",
            "698/698 [==============================] - 747s 1s/step - loss: 0.4887 - accuracy: 0.0631 - CER_metric: 0.9369 - val_loss: 0.4444 - val_accuracy: 0.0431 - val_CER_metric: 0.9569\n",
            "\n",
            "Epoch 00009: val_CER_metric improved from 0.96024 to 0.95693, saving model to model.h5\n",
            "Epoch 10/100\n",
            "698/698 [==============================] - 746s 1s/step - loss: 0.4466 - accuracy: 0.0773 - CER_metric: 0.9227 - val_loss: 0.4273 - val_accuracy: 0.0484 - val_CER_metric: 0.9516\n",
            "\n",
            "Epoch 00010: val_CER_metric improved from 0.95693 to 0.95156, saving model to model.h5\n",
            "Epoch 11/100\n",
            "698/698 [==============================] - 745s 1s/step - loss: 0.4107 - accuracy: 0.0924 - CER_metric: 0.9076 - val_loss: 0.3743 - val_accuracy: 0.0707 - val_CER_metric: 0.9293\n",
            "\n",
            "Epoch 00011: val_CER_metric improved from 0.95156 to 0.92928, saving model to model.h5\n",
            "Epoch 12/100\n",
            "698/698 [==============================] - 752s 1s/step - loss: 0.3781 - accuracy: 0.1031 - CER_metric: 0.8969 - val_loss: 0.3326 - val_accuracy: 0.0825 - val_CER_metric: 0.9175\n",
            "\n",
            "Epoch 00012: val_CER_metric improved from 0.92928 to 0.91748, saving model to model.h5\n",
            "Epoch 13/100\n",
            "698/698 [==============================] - 754s 1s/step - loss: 0.3494 - accuracy: 0.1112 - CER_metric: 0.8888 - val_loss: 0.3286 - val_accuracy: 0.0805 - val_CER_metric: 0.9195\n",
            "\n",
            "Epoch 00013: val_CER_metric did not improve from 0.91748\n",
            "Epoch 14/100\n",
            "698/698 [==============================] - 753s 1s/step - loss: 0.3255 - accuracy: 0.1180 - CER_metric: 0.8820 - val_loss: 0.2927 - val_accuracy: 0.0920 - val_CER_metric: 0.9080\n",
            "\n",
            "Epoch 00014: val_CER_metric improved from 0.91748 to 0.90803, saving model to model.h5\n",
            "Epoch 15/100\n",
            "698/698 [==============================] - 748s 1s/step - loss: 0.3043 - accuracy: 0.1235 - CER_metric: 0.8765 - val_loss: 0.2820 - val_accuracy: 0.0935 - val_CER_metric: 0.9065\n",
            "\n",
            "Epoch 00015: val_CER_metric improved from 0.90803 to 0.90652, saving model to model.h5\n",
            "Epoch 16/100\n",
            "698/698 [==============================] - 751s 1s/step - loss: 0.2869 - accuracy: 0.1278 - CER_metric: 0.8722 - val_loss: 0.2510 - val_accuracy: 0.1033 - val_CER_metric: 0.8967\n",
            "\n",
            "Epoch 00016: val_CER_metric improved from 0.90652 to 0.89673, saving model to model.h5\n",
            "Epoch 17/100\n",
            "698/698 [==============================] - 754s 1s/step - loss: 0.2751 - accuracy: 0.1305 - CER_metric: 0.8695 - val_loss: 0.2545 - val_accuracy: 0.1002 - val_CER_metric: 0.8998\n",
            "\n",
            "Epoch 00017: val_CER_metric did not improve from 0.89673\n",
            "Epoch 18/100\n",
            "698/698 [==============================] - 749s 1s/step - loss: 0.2705 - accuracy: 0.1318 - CER_metric: 0.8682 - val_loss: 0.2595 - val_accuracy: 0.1035 - val_CER_metric: 0.8965\n",
            "\n",
            "Epoch 00018: val_CER_metric improved from 0.89673 to 0.89649, saving model to model.h5\n",
            "Epoch 19/100\n",
            "698/698 [==============================] - 757s 1s/step - loss: 0.2612 - accuracy: 0.1356 - CER_metric: 0.8644 - val_loss: 0.2702 - val_accuracy: 0.0971 - val_CER_metric: 0.9029\n",
            "\n",
            "Epoch 00019: val_CER_metric did not improve from 0.89649\n",
            "Epoch 20/100\n",
            "698/698 [==============================] - 757s 1s/step - loss: 0.2479 - accuracy: 0.1385 - CER_metric: 0.8615 - val_loss: 0.2313 - val_accuracy: 0.1100 - val_CER_metric: 0.8900\n",
            "\n",
            "Epoch 00020: val_CER_metric improved from 0.89649 to 0.88998, saving model to model.h5\n",
            "Epoch 21/100\n",
            "698/698 [==============================] - 758s 1s/step - loss: 0.2374 - accuracy: 0.1410 - CER_metric: 0.8590 - val_loss: 0.2518 - val_accuracy: 0.1019 - val_CER_metric: 0.8981\n",
            "\n",
            "Epoch 00021: val_CER_metric did not improve from 0.88998\n",
            "Epoch 22/100\n",
            "698/698 [==============================] - 746s 1s/step - loss: 0.2306 - accuracy: 0.1432 - CER_metric: 0.8568 - val_loss: 0.2247 - val_accuracy: 0.1088 - val_CER_metric: 0.8912\n",
            "\n",
            "Epoch 00022: val_CER_metric did not improve from 0.88998\n",
            "Epoch 23/100\n",
            "698/698 [==============================] - 744s 1s/step - loss: 0.2249 - accuracy: 0.1447 - CER_metric: 0.8553 - val_loss: 0.2235 - val_accuracy: 0.1108 - val_CER_metric: 0.8892\n",
            "\n",
            "Epoch 00023: val_CER_metric improved from 0.88998 to 0.88917, saving model to model.h5\n",
            "Epoch 24/100\n",
            "698/698 [==============================] - 738s 1s/step - loss: 0.2194 - accuracy: 0.1463 - CER_metric: 0.8537 - val_loss: 0.2228 - val_accuracy: 0.1096 - val_CER_metric: 0.8904\n",
            "\n",
            "Epoch 00024: val_CER_metric did not improve from 0.88917\n",
            "Epoch 25/100\n",
            "698/698 [==============================] - 741s 1s/step - loss: 0.2168 - accuracy: 0.1470 - CER_metric: 0.8530 - val_loss: 0.2087 - val_accuracy: 0.1155 - val_CER_metric: 0.8845\n",
            "\n",
            "Epoch 00025: val_CER_metric improved from 0.88917 to 0.88449, saving model to model.h5\n",
            "Epoch 26/100\n",
            "698/698 [==============================] - 746s 1s/step - loss: 0.2106 - accuracy: 0.1489 - CER_metric: 0.8511 - val_loss: 0.2089 - val_accuracy: 0.1150 - val_CER_metric: 0.8850\n",
            "\n",
            "Epoch 00026: val_CER_metric did not improve from 0.88449\n",
            "Epoch 27/100\n",
            "698/698 [==============================] - 737s 1s/step - loss: 0.2067 - accuracy: 0.1500 - CER_metric: 0.8500 - val_loss: 0.2102 - val_accuracy: 0.1151 - val_CER_metric: 0.8849\n",
            "\n",
            "Epoch 00027: val_CER_metric did not improve from 0.88449\n",
            "Epoch 28/100\n",
            "698/698 [==============================] - 744s 1s/step - loss: 0.2016 - accuracy: 0.1514 - CER_metric: 0.8486 - val_loss: 0.2021 - val_accuracy: 0.1168 - val_CER_metric: 0.8832\n",
            "\n",
            "Epoch 00028: val_CER_metric improved from 0.88449 to 0.88322, saving model to model.h5\n",
            "Epoch 29/100\n",
            "698/698 [==============================] - 750s 1s/step - loss: 0.1979 - accuracy: 0.1525 - CER_metric: 0.8475 - val_loss: 0.2007 - val_accuracy: 0.1182 - val_CER_metric: 0.8818\n",
            "\n",
            "Epoch 00029: val_CER_metric improved from 0.88322 to 0.88178, saving model to model.h5\n",
            "Epoch 30/100\n",
            "698/698 [==============================] - 741s 1s/step - loss: 0.1935 - accuracy: 0.1539 - CER_metric: 0.8461 - val_loss: 0.2372 - val_accuracy: 0.1049 - val_CER_metric: 0.8951\n",
            "\n",
            "Epoch 00030: val_CER_metric did not improve from 0.88178\n",
            "Epoch 31/100\n",
            "698/698 [==============================] - 741s 1s/step - loss: 0.1895 - accuracy: 0.1549 - CER_metric: 0.8451 - val_loss: 0.2066 - val_accuracy: 0.1148 - val_CER_metric: 0.8852\n",
            "\n",
            "Epoch 00031: val_CER_metric did not improve from 0.88178\n",
            "Epoch 32/100\n",
            "698/698 [==============================] - 740s 1s/step - loss: 0.1856 - accuracy: 0.1562 - CER_metric: 0.8438 - val_loss: 0.1919 - val_accuracy: 0.1199 - val_CER_metric: 0.8801\n",
            "\n",
            "Epoch 00032: val_CER_metric improved from 0.88178 to 0.88007, saving model to model.h5\n",
            "Epoch 33/100\n",
            "698/698 [==============================] - 740s 1s/step - loss: 0.1836 - accuracy: 0.1567 - CER_metric: 0.8433 - val_loss: 0.1905 - val_accuracy: 0.1201 - val_CER_metric: 0.8799\n",
            "\n",
            "Epoch 00033: val_CER_metric improved from 0.88007 to 0.87985, saving model to model.h5\n",
            "Epoch 34/100\n",
            "698/698 [==============================] - 735s 1s/step - loss: 0.1793 - accuracy: 0.1579 - CER_metric: 0.8421 - val_loss: 0.2042 - val_accuracy: 0.1141 - val_CER_metric: 0.8859\n",
            "\n",
            "Epoch 00034: val_CER_metric did not improve from 0.87985\n",
            "Epoch 35/100\n",
            "698/698 [==============================] - 736s 1s/step - loss: 0.1792 - accuracy: 0.1579 - CER_metric: 0.8421 - val_loss: 0.1900 - val_accuracy: 0.1203 - val_CER_metric: 0.8797\n",
            "\n",
            "Epoch 00035: val_CER_metric improved from 0.87985 to 0.87968, saving model to model.h5\n",
            "Epoch 36/100\n",
            "698/698 [==============================] - 739s 1s/step - loss: 0.1749 - accuracy: 0.1591 - CER_metric: 0.8409 - val_loss: 0.1971 - val_accuracy: 0.1178 - val_CER_metric: 0.8822\n",
            "\n",
            "Epoch 00036: val_CER_metric did not improve from 0.87968\n",
            "Epoch 37/100\n",
            "698/698 [==============================] - 738s 1s/step - loss: 0.1711 - accuracy: 0.1601 - CER_metric: 0.8399 - val_loss: 0.2212 - val_accuracy: 0.1103 - val_CER_metric: 0.8897\n",
            "\n",
            "Epoch 00037: val_CER_metric did not improve from 0.87968\n",
            "Epoch 38/100\n",
            "698/698 [==============================] - 741s 1s/step - loss: 0.1691 - accuracy: 0.1606 - CER_metric: 0.8394 - val_loss: 0.1884 - val_accuracy: 0.1199 - val_CER_metric: 0.8801\n",
            "\n",
            "Epoch 00038: val_CER_metric did not improve from 0.87968\n",
            "Epoch 39/100\n",
            "698/698 [==============================] - 736s 1s/step - loss: 0.1663 - accuracy: 0.1611 - CER_metric: 0.8389 - val_loss: 0.1902 - val_accuracy: 0.1194 - val_CER_metric: 0.8806\n",
            "\n",
            "Epoch 00039: val_CER_metric did not improve from 0.87968\n",
            "Epoch 40/100\n",
            "698/698 [==============================] - 739s 1s/step - loss: 0.1638 - accuracy: 0.1619 - CER_metric: 0.8381 - val_loss: 0.1837 - val_accuracy: 0.1216 - val_CER_metric: 0.8784\n",
            "\n",
            "Epoch 00040: val_CER_metric improved from 0.87968 to 0.87843, saving model to model.h5\n",
            "Epoch 41/100\n",
            "698/698 [==============================] - 742s 1s/step - loss: 0.1609 - accuracy: 0.1628 - CER_metric: 0.8372 - val_loss: 0.1788 - val_accuracy: 0.1220 - val_CER_metric: 0.8780\n",
            "\n",
            "Epoch 00041: val_CER_metric improved from 0.87843 to 0.87804, saving model to model.h5\n",
            "Epoch 42/100\n",
            "698/698 [==============================] - 739s 1s/step - loss: 0.1589 - accuracy: 0.1634 - CER_metric: 0.8366 - val_loss: 0.1883 - val_accuracy: 0.1200 - val_CER_metric: 0.8800\n",
            "\n",
            "Epoch 00042: val_CER_metric did not improve from 0.87804\n",
            "Epoch 43/100\n",
            "698/698 [==============================] - 735s 1s/step - loss: 0.1572 - accuracy: 0.1638 - CER_metric: 0.8362 - val_loss: 0.1884 - val_accuracy: 0.1191 - val_CER_metric: 0.8809\n",
            "\n",
            "Epoch 00043: val_CER_metric did not improve from 0.87804\n",
            "Epoch 44/100\n",
            "698/698 [==============================] - 740s 1s/step - loss: 0.1551 - accuracy: 0.1644 - CER_metric: 0.8356 - val_loss: 0.1833 - val_accuracy: 0.1208 - val_CER_metric: 0.8792\n",
            "\n",
            "Epoch 00044: val_CER_metric did not improve from 0.87804\n",
            "Epoch 45/100\n",
            "698/698 [==============================] - 740s 1s/step - loss: 0.1540 - accuracy: 0.1647 - CER_metric: 0.8353 - val_loss: 0.1825 - val_accuracy: 0.1225 - val_CER_metric: 0.8775\n",
            "\n",
            "Epoch 00045: val_CER_metric improved from 0.87804 to 0.87751, saving model to model.h5\n",
            "Epoch 46/100\n",
            "698/698 [==============================] - 741s 1s/step - loss: 0.1518 - accuracy: 0.1655 - CER_metric: 0.8345 - val_loss: 0.1817 - val_accuracy: 0.1215 - val_CER_metric: 0.8785\n",
            "\n",
            "Epoch 00046: val_CER_metric did not improve from 0.87751\n",
            "Epoch 47/100\n",
            "698/698 [==============================] - 751s 1s/step - loss: 0.1517 - accuracy: 0.1654 - CER_metric: 0.8346 - val_loss: 0.1856 - val_accuracy: 0.1200 - val_CER_metric: 0.8800\n",
            "\n",
            "Epoch 00047: val_CER_metric did not improve from 0.87751\n",
            "Epoch 48/100\n",
            "698/698 [==============================] - 740s 1s/step - loss: 0.1494 - accuracy: 0.1660 - CER_metric: 0.8340 - val_loss: 0.1885 - val_accuracy: 0.1176 - val_CER_metric: 0.8824\n",
            "\n",
            "Epoch 00048: val_CER_metric did not improve from 0.87751\n",
            "Epoch 49/100\n",
            "698/698 [==============================] - 743s 1s/step - loss: 0.1480 - accuracy: 0.1665 - CER_metric: 0.8335 - val_loss: 0.1762 - val_accuracy: 0.1242 - val_CER_metric: 0.8758\n",
            "\n",
            "Epoch 00049: val_CER_metric improved from 0.87751 to 0.87583, saving model to model.h5\n",
            "Epoch 50/100\n",
            "698/698 [==============================] - 743s 1s/step - loss: 0.1467 - accuracy: 0.1668 - CER_metric: 0.8332 - val_loss: 0.1785 - val_accuracy: 0.1229 - val_CER_metric: 0.8771\n",
            "\n",
            "Epoch 00050: val_CER_metric did not improve from 0.87583\n",
            "Epoch 51/100\n",
            "698/698 [==============================] - 742s 1s/step - loss: 0.1455 - accuracy: 0.1671 - CER_metric: 0.8329 - val_loss: 0.1807 - val_accuracy: 0.1224 - val_CER_metric: 0.8776\n",
            "\n",
            "Epoch 00051: val_CER_metric did not improve from 0.87583\n",
            "Epoch 52/100\n",
            "698/698 [==============================] - 741s 1s/step - loss: 0.1437 - accuracy: 0.1676 - CER_metric: 0.8324 - val_loss: 0.1753 - val_accuracy: 0.1237 - val_CER_metric: 0.8763\n",
            "\n",
            "Epoch 00052: val_CER_metric did not improve from 0.87583\n",
            "Epoch 53/100\n",
            "698/698 [==============================] - 738s 1s/step - loss: 0.1424 - accuracy: 0.1680 - CER_metric: 0.8320 - val_loss: 0.1952 - val_accuracy: 0.1160 - val_CER_metric: 0.8840\n",
            "\n",
            "Epoch 00053: val_CER_metric did not improve from 0.87583\n",
            "Epoch 54/100\n",
            "698/698 [==============================] - 741s 1s/step - loss: 0.1435 - accuracy: 0.1675 - CER_metric: 0.8325 - val_loss: 0.1819 - val_accuracy: 0.1215 - val_CER_metric: 0.8785\n",
            "\n",
            "Epoch 00054: val_CER_metric did not improve from 0.87583\n",
            "Epoch 55/100\n",
            "698/698 [==============================] - 744s 1s/step - loss: 0.1401 - accuracy: 0.1686 - CER_metric: 0.8314 - val_loss: 0.1774 - val_accuracy: 0.1234 - val_CER_metric: 0.8766\n",
            "\n",
            "Epoch 00055: val_CER_metric did not improve from 0.87583\n",
            "Epoch 56/100\n",
            "698/698 [==============================] - 742s 1s/step - loss: 0.1401 - accuracy: 0.1685 - CER_metric: 0.8315 - val_loss: 0.1789 - val_accuracy: 0.1212 - val_CER_metric: 0.8788\n",
            "\n",
            "Epoch 00056: val_CER_metric did not improve from 0.87583\n",
            "Epoch 57/100\n",
            "698/698 [==============================] - 742s 1s/step - loss: 0.1382 - accuracy: 0.1691 - CER_metric: 0.8309 - val_loss: 0.1882 - val_accuracy: 0.1173 - val_CER_metric: 0.8827\n",
            "\n",
            "Epoch 00057: val_CER_metric did not improve from 0.87583\n",
            "Epoch 58/100\n",
            "698/698 [==============================] - 743s 1s/step - loss: 0.1363 - accuracy: 0.1697 - CER_metric: 0.8303 - val_loss: 0.1711 - val_accuracy: 0.1248 - val_CER_metric: 0.8752\n",
            "\n",
            "Epoch 00058: val_CER_metric improved from 0.87583 to 0.87525, saving model to model.h5\n",
            "Epoch 59/100\n",
            "698/698 [==============================] - 744s 1s/step - loss: 0.1356 - accuracy: 0.1699 - CER_metric: 0.8301 - val_loss: 0.1762 - val_accuracy: 0.1230 - val_CER_metric: 0.8770\n",
            "\n",
            "Epoch 00059: val_CER_metric did not improve from 0.87525\n",
            "Epoch 60/100\n",
            "698/698 [==============================] - 745s 1s/step - loss: 0.1349 - accuracy: 0.1700 - CER_metric: 0.8300 - val_loss: 0.1745 - val_accuracy: 0.1240 - val_CER_metric: 0.8760\n",
            "\n",
            "Epoch 00060: val_CER_metric did not improve from 0.87525\n",
            "Epoch 61/100\n",
            "698/698 [==============================] - 743s 1s/step - loss: 0.1343 - accuracy: 0.1702 - CER_metric: 0.8298 - val_loss: 0.1722 - val_accuracy: 0.1245 - val_CER_metric: 0.8755\n",
            "\n",
            "Epoch 00061: val_CER_metric did not improve from 0.87525\n",
            "Epoch 62/100\n",
            "698/698 [==============================] - 746s 1s/step - loss: 0.1344 - accuracy: 0.1701 - CER_metric: 0.8299 - val_loss: 0.1778 - val_accuracy: 0.1228 - val_CER_metric: 0.8772\n",
            "\n",
            "Epoch 00062: val_CER_metric did not improve from 0.87525\n",
            "Epoch 63/100\n",
            "698/698 [==============================] - 746s 1s/step - loss: 0.1330 - accuracy: 0.1704 - CER_metric: 0.8296 - val_loss: 0.1728 - val_accuracy: 0.1245 - val_CER_metric: 0.8755\n",
            "\n",
            "Epoch 00063: val_CER_metric did not improve from 0.87525\n",
            "Epoch 64/100\n",
            "698/698 [==============================] - 744s 1s/step - loss: 0.1321 - accuracy: 0.1708 - CER_metric: 0.8292 - val_loss: 0.1712 - val_accuracy: 0.1238 - val_CER_metric: 0.8762\n",
            "\n",
            "Epoch 00064: val_CER_metric did not improve from 0.87525\n",
            "Epoch 65/100\n",
            "698/698 [==============================] - 743s 1s/step - loss: 0.1306 - accuracy: 0.1711 - CER_metric: 0.8289 - val_loss: 0.1736 - val_accuracy: 0.1240 - val_CER_metric: 0.8760\n",
            "\n",
            "Epoch 00065: val_CER_metric did not improve from 0.87525\n",
            "Epoch 66/100\n",
            "698/698 [==============================] - 743s 1s/step - loss: 0.1301 - accuracy: 0.1713 - CER_metric: 0.8287 - val_loss: 0.1757 - val_accuracy: 0.1235 - val_CER_metric: 0.8765\n",
            "\n",
            "Epoch 00066: val_CER_metric did not improve from 0.87525\n",
            "Epoch 67/100\n",
            "698/698 [==============================] - 739s 1s/step - loss: 0.1290 - accuracy: 0.1716 - CER_metric: 0.8284 - val_loss: 0.1730 - val_accuracy: 0.1245 - val_CER_metric: 0.8755\n",
            "\n",
            "Epoch 00067: val_CER_metric did not improve from 0.87525\n",
            "Epoch 68/100\n",
            "698/698 [==============================] - 736s 1s/step - loss: 0.1285 - accuracy: 0.1717 - CER_metric: 0.8283 - val_loss: 0.1700 - val_accuracy: 0.1240 - val_CER_metric: 0.8760\n",
            "Restoring model weights from the end of the best epoch.\n",
            "\n",
            "Epoch 00068: val_CER_metric did not improve from 0.87525\n",
            "Epoch 00068: early stopping\n"
          ]
        }
      ]
    },
    {
      "cell_type": "code",
      "metadata": {
        "colab": {
          "base_uri": "https://localhost:8080/"
        },
        "id": "OAvJi9RndsTf",
        "outputId": "d3bb6da1-2bfc-4f19-e08d-baf4505e7e38"
      },
      "source": [
        "# list all data in history\n",
        "print(history.history.keys())"
      ],
      "execution_count": 52,
      "outputs": [
        {
          "output_type": "stream",
          "name": "stdout",
          "text": [
            "dict_keys(['loss', 'accuracy', 'CER_metric', 'val_loss', 'val_accuracy', 'val_CER_metric', 'lr'])\n"
          ]
        }
      ]
    },
    {
      "cell_type": "code",
      "metadata": {
        "colab": {
          "base_uri": "https://localhost:8080/",
          "height": 295
        },
        "id": "dQufn21WBkAx",
        "outputId": "386359ab-fd0c-4dcd-dd85-c08d1a948179"
      },
      "source": [
        "# summarize history for accuracy\n",
        "plt.plot(history.history['CER_metric'])\n",
        "plt.plot(history.history['val_CER_metric'])\n",
        "plt.title('model CER Metric')\n",
        "plt.ylabel('CER metric')\n",
        "plt.xlabel('epoch')\n",
        "plt.legend(['train', 'validation'], loc='upper left')\n",
        "plt.show()"
      ],
      "execution_count": 55,
      "outputs": [
        {
          "output_type": "display_data",
          "data": {
            "image/png": "[encoded data removed]",
            "text/plain": [
              "<Figure size 432x288 with 1 Axes>"
            ]
          },
          "metadata": {
            "needs_background": "light"
          }
        }
      ]
    },
    {
      "cell_type": "code",
      "metadata": {
        "colab": {
          "base_uri": "https://localhost:8080/",
          "height": 295
        },
        "id": "CRUKMJidtBC2",
        "outputId": "e41c8c83-0d15-4e1e-a2a6-e8327132e10f"
      },
      "source": [
        "# summarize history for accuracy\n",
        "plt.plot(history.history['accuracy'])\n",
        "plt.plot(history.history['val_accuracy'])\n",
        "plt.title('model accuracy')\n",
        "plt.ylabel('accuracy')\n",
        "plt.xlabel('epoch')\n",
        "plt.legend(['train', 'validation'], loc='upper left')\n",
        "plt.show()"
      ],
      "execution_count": 53,
      "outputs": [
        {
          "output_type": "display_data",
          "data": {
            "image/png": "[encoded data removed]",
            "text/plain": [
              "<Figure size 432x288 with 1 Axes>"
            ]
          },
          "metadata": {
            "needs_background": "light"
          }
        }
      ]
    },
    {
      "cell_type": "code",
      "metadata": {
        "colab": {
          "base_uri": "https://localhost:8080/",
          "height": 295
        },
        "id": "arLbJGpHa-JC",
        "outputId": "5768b0ac-2747-4b71-ff96-ef1a6822f9b5"
      },
      "source": [
        "# summarize history for loss\n",
        "plt.plot(history.history['loss'])\n",
        "plt.plot(history.history['val_loss'])\n",
        "plt.title('model loss')\n",
        "plt.ylabel('loss')\n",
        "plt.xlabel('epoch')\n",
        "plt.legend(['train', 'validation'], loc='upper left')\n",
        "plt.show()"
      ],
      "execution_count": 54,
      "outputs": [
        {
          "output_type": "display_data",
          "data": {
            "image/png": "[encoded data removed]",
            "text/plain": [
              "<Figure size 432x288 with 1 Axes>"
            ]
          },
          "metadata": {
            "needs_background": "light"
          }
        }
      ]
    },
    {
      "cell_type": "code",
      "metadata": {
        "colab": {
          "base_uri": "https://localhost:8080/"
        },
        "id": "Rmx3_vQbfh7J",
        "outputId": "ad1c29b2-1fe3-440b-bf2e-74f1f2a230fb"
      },
      "source": [
        "%ls -ltr"
      ],
      "execution_count": 56,
      "outputs": [
        {
          "output_type": "stream",
          "name": "stdout",
          "text": [
            "total 237215\n",
            "-rw------- 1 root root   3898148 Sep 14 19:57 affidavits.csv\n",
            "-rw------- 1 root root    813709 Sep 14 22:38 players_with_hindi_names.json\n",
            "-rw------- 1 root root   6128992 Sep 19 21:17 model_v1.h5\n",
            "-rw------- 1 root root   1326377 Sep 20 22:52 hi.translit.sampled.train.tsv\n",
            "-rw------- 1 root root     54982 Sep 24 18:31 model_plot_dec.png\n",
            "-rw------- 1 root root     70405 Sep 27 15:25 model.png\n",
            "-rw------- 1 root root    282545 Sep 27 23:55 Transliterate_v2.ipynb\n",
            "-rw------- 1 root root 230330576 Sep 28 03:25 model.h5\n"
          ]
        }
      ]
    },
    {
      "cell_type": "code",
      "metadata": {
        "colab": {
          "base_uri": "https://localhost:8080/"
        },
        "id": "vm5myRi5tOKl",
        "outputId": "5a390046-c3d5-412b-c883-90a133a2de3b"
      },
      "source": [
        "!du -sh model.h5"
      ],
      "execution_count": 57,
      "outputs": [
        {
          "output_type": "stream",
          "name": "stdout",
          "text": [
            "220M\tmodel.h5\n"
          ]
        }
      ]
    },
    {
      "cell_type": "markdown",
      "metadata": {
        "id": "qFGXM_d7OOm-"
      },
      "source": [
        "# Inference"
      ]
    },
    {
      "cell_type": "code",
      "metadata": {
        "id": "ICjit4jSOU4O"
      },
      "source": [
        "# Restore the model and construct the encoder and decoder.\n",
        "model = load_model(model_save_filename, custom_objects={\"CERMetric\": CERMetric})\n",
        "# model = load_model(\"model_v1.h5\")"
      ],
      "execution_count": 61,
      "outputs": []
    },
    {
      "cell_type": "code",
      "metadata": {
        "id": "7ZowNfcXmWlL",
        "colab": {
          "base_uri": "https://localhost:8080/"
        },
        "outputId": "e3e9f50a-09ce-4860-bbbb-9b9067308baf"
      },
      "source": [
        "# Predictions\n",
        "encoder_inputs = model.input[0]  # input_1\n",
        "encoder_outputs, state_h_enc, state_c_enc = model.layers[6].output  # lstm_1\n",
        "encoder_states = [state_h_enc, state_c_enc]\n",
        "\n",
        "encoder_model = Model(encoder_inputs, encoder_states)\n",
        "\n",
        "decoder_inputs = model.input[1]  # input_2\n",
        "decoder_inputs_em = decoder_embedding(decoder_inputs)\n",
        "\n",
        "# since embedding layer will add one more dim, we need to flatten last 2 dims\n",
        "decoder_reshape = Reshape((-1, decoder_inputs_em.shape[2] * decoder_inputs_em.shape[3]))\n",
        "decoder_inputs_re = decoder_reshape(decoder_inputs_em)\n",
        "print(decoder_inputs_re.shape)\n",
        "\n",
        "decoder_state_input_h = Input(shape=(latent_dim,))\n",
        "decoder_state_input_c = Input(shape=(latent_dim,))\n",
        "decoder_states_inputs = [decoder_state_input_h, decoder_state_input_c]\n",
        "\n",
        "decoder_lstm = model.layers[7] # lstm_2\n",
        "decoder_outputs, state_h_dec, state_c_dec = decoder_lstm(\n",
        "    decoder_inputs_re, initial_state=decoder_states_inputs\n",
        ")\n",
        "\n",
        "decoder_states = [state_h_dec, state_c_dec]\n",
        "\n",
        "decoder_dense = model.layers[-1]\n",
        "decoder_outputs = decoder_dense(decoder_outputs)\n",
        "\n",
        "decoder_model = Model(\n",
        "    [decoder_inputs] + decoder_states_inputs,\n",
        "    [decoder_outputs] + decoder_states\n",
        ")"
      ],
      "execution_count": 62,
      "outputs": [
        {
          "output_type": "stream",
          "name": "stdout",
          "text": [
            "(None, None, 8960)\n"
          ]
        }
      ]
    },
    {
      "cell_type": "code",
      "metadata": {
        "id": "P-waZOKNPJaS"
      },
      "source": [
        "# Reverse-lookup token index to decode sequences back to\n",
        "# something readable.\n",
        "reverse_input_char_index = dict((i, char) for char, i in input_token_index.items())\n",
        "reverse_target_char_index = dict((i, char) for char, i in target_token_index.items())"
      ],
      "execution_count": 63,
      "outputs": []
    },
    {
      "cell_type": "code",
      "metadata": {
        "colab": {
          "base_uri": "https://localhost:8080/",
          "height": 533
        },
        "id": "90myy-NNvctl",
        "outputId": "9af07f1d-fa94-42d9-a8aa-a261128e17a8"
      },
      "source": [
        "tf.keras.utils.plot_model(decoder_model, to_file='model_plot_dec.png', show_shapes=True, show_layer_names=True)"
      ],
      "execution_count": 64,
      "outputs": [
        {
          "output_type": "execute_result",
          "data": {
            "image/png": "[encoded data removed]",
            "text/plain": [
              "<IPython.core.display.Image object>"
            ]
          },
          "metadata": {},
          "execution_count": 64
        }
      ]
    },
    {
      "cell_type": "code",
      "metadata": {
        "id": "CP-O29K3zeut"
      },
      "source": [
        "def predict_target(input_string):\n",
        "  # convert for encoding \n",
        "  input_data = np.zeros((1, max_encoder_seq_length, num_encoder_tokens), dtype='float32')\n",
        "  for t, char in enumerate(input_string):\n",
        "    input_data[0, t, input_token_index[char]] = 1.\n",
        "\n",
        "  # Encode the input as state vectors.\n",
        "  states_value = encoder_model(input_data)\n",
        "\n",
        "   # Generate empty target sequence of length 1.\n",
        "  target_seq = np.zeros((1, 1, num_decoder_tokens), dtype='float32')\n",
        "  # Populate the first character of target sequence with the start character.\n",
        "  target_seq[0, 0, target_token_index['^']] = 1.0\n",
        "\n",
        "  stop_condition = False\n",
        "  decoded_sentence = \"\"\n",
        "\n",
        "  while True:\n",
        "    output_tokens, d_h, d_c = decoder_model.predict([target_seq] + states_value)\n",
        "    # Sample a token\n",
        "    sampled_token_index = np.argmax(output_tokens[0, -1, :])\n",
        "    sampled_char = reverse_target_char_index[sampled_token_index]\n",
        "\n",
        "    # Exit condition: either hit max length\n",
        "    # or find stop character.\n",
        "    if sampled_char == \"$\" or len(decoded_sentence) > max_decoder_seq_length:\n",
        "      break\n",
        "      \n",
        "    decoded_sentence += sampled_char\n",
        "\n",
        "    # Update the target sequence (of length 1).\n",
        "    target_seq = np.zeros((1, 1, num_decoder_tokens))\n",
        "    target_seq[0, 0, sampled_token_index] = 1.0\n",
        "\n",
        "    # Update states\n",
        "    states_value = [d_h, d_c]\n",
        "  return decoded_sentence"
      ],
      "execution_count": 65,
      "outputs": []
    },
    {
      "cell_type": "code",
      "metadata": {
        "id": "0O9eWBgtvGeM",
        "colab": {
          "base_uri": "https://localhost:8080/",
          "height": 35
        },
        "outputId": "5c56b0e9-06e9-4bd6-e3ea-0cb8e5b37385"
      },
      "source": [
        "test_input = 'राजशेखर'\n",
        "predicted_string = predict_target(test_input)\n",
        "predicted_string"
      ],
      "execution_count": 66,
      "outputs": [
        {
          "output_type": "execute_result",
          "data": {
            "application/vnd.google.colaboratory.intrinsic+json": {
              "type": "string"
            },
            "text/plain": [
              "'rajasekhar'"
            ]
          },
          "metadata": {},
          "execution_count": 66
        }
      ]
    },
    {
      "cell_type": "code",
      "metadata": {
        "colab": {
          "base_uri": "https://localhost:8080/",
          "height": 35
        },
        "id": "Uy2yjJXZ0MdK",
        "outputId": "54f8f541-f624-4efd-d765-2721dd4dbf57"
      },
      "source": [
        "test_input = 'गौरव'\n",
        "predicted_string = predict_target(test_input)\n",
        "predicted_string"
      ],
      "execution_count": 67,
      "outputs": [
        {
          "output_type": "execute_result",
          "data": {
            "application/vnd.google.colaboratory.intrinsic+json": {
              "type": "string"
            },
            "text/plain": [
              "'gaurav'"
            ]
          },
          "metadata": {},
          "execution_count": 67
        }
      ]
    },
    {
      "cell_type": "code",
      "metadata": {
        "colab": {
          "base_uri": "https://localhost:8080/",
          "height": 35
        },
        "id": "q8W7E0Kzka0e",
        "outputId": "3c55fa5c-723f-46d4-f252-4387add6eff1"
      },
      "source": [
        "test_input = 'सूद'\n",
        "predicted_string = predict_target(test_input)\n",
        "predicted_string"
      ],
      "execution_count": 68,
      "outputs": [
        {
          "output_type": "execute_result",
          "data": {
            "application/vnd.google.colaboratory.intrinsic+json": {
              "type": "string"
            },
            "text/plain": [
              "'suda'"
            ]
          },
          "metadata": {},
          "execution_count": 68
        }
      ]
    }
  ]
}