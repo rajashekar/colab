{
  "nbformat": 4,
  "nbformat_minor": 0,
  "metadata": {
    "colab": {
      "name": "4B_AutoML_Deployment_on_GCP_v1.ipynb",
      "provenance": [],
      "collapsed_sections": [],
      "include_colab_link": true
    },
    "kernelspec": {
      "display_name": "Python 3",
      "language": "python",
      "name": "python3"
    },
    "language_info": {
      "codemirror_mode": {
        "name": "ipython",
        "version": 3
      },
      "file_extension": ".py",
      "mimetype": "text/x-python",
      "name": "python",
      "nbconvert_exporter": "python",
      "pygments_lexer": "ipython3",
      "version": "3.5.3"
    },
    "accelerator": "GPU"
  },
  "cells": [
    {
      "cell_type": "markdown",
      "metadata": {
        "id": "view-in-github",
        "colab_type": "text"
      },
      "source": [
        "<a href=\"https://colab.research.google.com/github/rajashekar/colab/blob/main/4B_AutoML_Deployment_on_GCP_v1.ipynb\" target=\"_parent\"><img src=\"https://colab.research.google.com/assets/colab-badge.svg\" alt=\"Open In Colab\"/></a>"
      ]
    },
    {
      "cell_type": "markdown",
      "metadata": {
        "id": "I4H8UJlKRl6P"
      },
      "source": [
        "# This code book is modified version of original\n",
        "https://cloud.google.com/ai-platform/docs/getting-started-keras\n",
        " # to cater to the classroom instruction format at FourthBrain\n",
        "\n",
        " # This provides a solution to transfer data from your Google Drive and run on AI Platform in GCP through GCP. \n",
        " # Please run this code on Colab for complete learning experience.\n",
        "\n",
        " 1. Ensure your gmail that you connect with Colab has been added to a GCP project\n",
        " 2. Authenticate Colab to access your Google drive. This surpasses the need for Google authentication"
      ]
    },
    {
      "cell_type": "code",
      "metadata": {
        "cellView": "both",
        "deletable": true,
        "editable": true,
        "id": "qnMpW5Y9nv2l"
      },
      "source": [
        "# Copyright 2019 Google LLC\n",
        "# Redo for region= US-east1\n",
        "# Licensed under the Apache License, Version 2.0 (the \"License\");\n",
        "# you may not use this file except in compliance with the License.\n",
        "# You may obtain a copy of the License at\n",
        "#\n",
        "#     https://www.apache.org/licenses/LICENSE-2.0\n",
        "#\n",
        "# Unless required by applicable law or agreed to in writing, software\n",
        "# distributed under the License is distributed on an \"AS IS\" BASIS,\n",
        "# WITHOUT WARRANTIES OR CONDITIONS OF ANY KIND, either express or implied.\n",
        "# See the License for the specific language governing permissions and\n",
        "# limitations under the License."
      ],
      "execution_count": null,
      "outputs": []
    },
    {
      "cell_type": "markdown",
      "metadata": {
        "deletable": true,
        "editable": true,
        "id": "mHF9VCProKJN"
      },
      "source": [
        "# Getting started: Training and prediction with Keras in AI Platform\n",
        "\n",
        "<img src=\"https://storage.googleapis.com/cloud-samples-data/ai-platform/census/keras-tensorflow-cmle.png\" alt=\"Keras, TensorFlow, and AI Platform logos\" width=\"300px\">\n",
        "\n",
        "<table align=\"left\">\n",
        "  <td>\n",
        "    <a href=\"https://cloud.google.com/ml-engine/docs/tensorflow/getting-started-keras\">\n",
        "      <img src=\"https://cloud.google.com/_static/images/cloud/icons/favicons/onecloud/super_cloud.png\"\n",
        "           alt=\"Google Cloud logo\" width=\"32px\"> Read on cloud.google.com\n",
        "    </a>\n",
        "  </td>\n",
        "  <td>\n",
        "    <a href=\"https://colab.research.google.com/github/GoogleCloudPlatform/cloudml-samples/blob/master/notebooks/tensorflow/getting-started-keras.ipynb\">\n",
        "      <img src=\"https://cloud.google.com/ml-engine/images/colab-logo-32px.png\" alt=\"Colab logo\"> Run in Colab\n",
        "    </a>\n",
        "  </td>\n",
        "  <td>\n",
        "    <a href=\"https://github.com/GoogleCloudPlatform/cloudml-samples/blob/master/notebooks/tensorflow/getting-started-keras.ipynb\">\n",
        "      <img src=\"https://cloud.google.com/ml-engine/images/github-logo-32px.png\" alt=\"GitHub logo\">\n",
        "      View on GitHub\n",
        "    </a>\n",
        "  </td>\n",
        "</table>"
      ]
    },
    {
      "cell_type": "markdown",
      "metadata": {
        "deletable": true,
        "editable": true,
        "id": "hZzRVxNtH-zG"
      },
      "source": [
        "## Overview\n",
        "\n",
        "This tutorial shows how to train a neural network on AI Platform\n",
        "using the Keras sequential API and how to serve predictions from that\n",
        "model.\n",
        "\n",
        "Keras is a high-level API for building and training deep learning models.\n",
        "[tf.keras](https://www.tensorflow.org/guide/keras) is TensorFlow’s\n",
        "implementation of this API.\n",
        "\n",
        "The first two parts of the tutorial walk through training a model on Cloud\n",
        "AI Platform using prewritten Keras code, deploying the trained model to\n",
        "AI Platform, and serving online predictions from the deployed model.\n",
        "\n",
        "The last part of the tutorial digs into the training code used for this model and ensuring it's compatible with AI Platform. To learn more about building\n",
        "machine learning models in Keras more generally, read [TensorFlow's Keras\n",
        "tutorials](https://www.tensorflow.org/tutorials/keras)."
      ]
    },
    {
      "cell_type": "markdown",
      "metadata": {
        "deletable": true,
        "editable": true,
        "id": "iN69d4D9Flrh"
      },
      "source": [
        "### Dataset\n",
        "\n",
        "This tutorial uses the [United States Census Income\n",
        "Dataset](https://archive.ics.uci.edu/ml/datasets/census+income) provided by the\n",
        "[UC Irvine Machine Learning\n",
        "Repository](https://archive.ics.uci.edu/ml/index.php). This dataset contains\n",
        "information about people from a 1994 Census database, including age, education,\n",
        "marital status, occupation, and whether they make more than $50,000 a year."
      ]
    },
    {
      "cell_type": "markdown",
      "metadata": {
        "deletable": true,
        "editable": true,
        "id": "Su2qu-4CW-YH"
      },
      "source": [
        "### Objective\n",
        "\n",
        "The goal is to train a deep neural network (DNN) using Keras that predicts\n",
        "whether a person makes more than $50,000 a year (target label) based on other\n",
        "Census information about the person (features).\n",
        "\n",
        "This tutorial focuses more on using this model with AI Platform than on\n",
        "the design of the model itself. However, it's always important to think about\n",
        "potential problems and unintended consequences when building machine learning\n",
        "systems. See the [Machine Learning Crash Course exercise about\n",
        "fairness](https://developers.google.com/machine-learning/crash-course/fairness/programming-exercise)\n",
        "to learn about sources of bias in the Census dataset, as well as machine\n",
        "learning fairness more generally."
      ]
    },
    {
      "cell_type": "markdown",
      "metadata": {
        "deletable": true,
        "editable": true,
        "id": "i2qsxysTVc-l"
      },
      "source": [
        "# Start here\n",
        "### Setting up your GCP project\n",
        "\n",
        "**The following steps are required to start a new project. You currently have access to the FourthBrain Project, so step 1 and 2 are NOT applicable for now.**\n",
        "\n",
        "1. [Select or create a GCP project.](https://console.cloud.google.com/cloud-resource-manager)\n",
        "\n",
        "2. [Make sure that billing is enabled for your project.](https://cloud.google.com/billing/docs/how-to/modify-project). \n",
        "\n",
        "**For the Live assignment start from here.**\n",
        "\n",
        "3. [Enable the AI Platform (\"Cloud Machine Learning Engine\") and Compute Engine APIs.](https://console.cloud.google.com/flows/enableapi?apiid=ml.googleapis.com,compute_component)\n",
        "\n",
        "4. Enter your project ID in the cell below. Then run the  cell to make sure the\n",
        "Cloud SDK uses the right project for all the commands in this notebook. \n",
        "# **Dont change the settings below for Live assignment.**\n",
        "\n",
        "**Note**: Jupyter runs lines prefixed with `!` as shell commands, and it interpolates Python variables prefixed with `$` into these commands."
      ]
    },
    {
      "cell_type": "code",
      "metadata": {
        "deletable": true,
        "editable": true,
        "id": "4qxwBA4RM9Lu",
        "colab": {
          "base_uri": "https://localhost:8080/"
        },
        "outputId": "9b57d7e5-06a7-4486-8a1a-1de7f49cff86"
      },
      "source": [
        "PROJECT_ID = \"fb-mle-may-21\" #@param {type:\"string\"}\n",
        "! gcloud config set project $PROJECT_ID"
      ],
      "execution_count": null,
      "outputs": [
        {
          "output_type": "stream",
          "name": "stdout",
          "text": [
            "Updated property [core/project].\n"
          ]
        }
      ]
    },
    {
      "cell_type": "markdown",
      "metadata": {
        "deletable": true,
        "editable": true,
        "id": "TSy-f05IO4LB"
      },
      "source": [
        "### Authenticate your GCP account\n",
        "\n",
        "**If you are using AI Platform Notebooks**, your environment is already\n",
        "authenticated. Skip this step."
      ]
    },
    {
      "cell_type": "markdown",
      "metadata": {
        "deletable": true,
        "editable": true,
        "id": "fZQUrHdXNJnk"
      },
      "source": [
        "**If you are using Colab**, run the cell below and follow the instructions\n",
        "when prompted to authenticate your account via oAuth.\n",
        "\n"
      ]
    },
    {
      "cell_type": "code",
      "metadata": {
        "colab": {
          "base_uri": "https://localhost:8080/"
        },
        "id": "3Znf1aqUDRBP",
        "outputId": "560e8261-5201-4d80-e36f-37cffef29e21"
      },
      "source": [
        "from google.colab import drive\n",
        "drive.mount('/content/drive')\n"
      ],
      "execution_count": null,
      "outputs": [
        {
          "output_type": "stream",
          "name": "stdout",
          "text": [
            "Mounted at /content/drive\n"
          ]
        }
      ]
    },
    {
      "cell_type": "code",
      "metadata": {
        "colab": {
          "base_uri": "https://localhost:8080/"
        },
        "id": "byfesnN_zN4g",
        "outputId": "5521e8ed-9d49-4152-8bc0-f1fcc125ac13"
      },
      "source": [
        "%cd /content/drive/MyDrive/Colab/Fourth.Brain/GCP/"
      ],
      "execution_count": null,
      "outputs": [
        {
          "output_type": "stream",
          "name": "stdout",
          "text": [
            "/content/drive/MyDrive/Colab/Fourth.Brain/GCP\n"
          ]
        }
      ]
    },
    {
      "cell_type": "code",
      "metadata": {
        "colab": {
          "base_uri": "https://localhost:8080/"
        },
        "id": "coqzfHLqzYnf",
        "outputId": "51705fb6-92f8-4fdc-ca07-881cbad2e512"
      },
      "source": [
        "%ls"
      ],
      "execution_count": null,
      "outputs": [
        {
          "output_type": "stream",
          "name": "stdout",
          "text": [
            "4B_AutoML_Deployment_on_GCP_v1.ipynb  \u001b[0m\u001b[01;34mcloudml-samples\u001b[0m/\n"
          ]
        }
      ]
    },
    {
      "cell_type": "markdown",
      "metadata": {
        "deletable": true,
        "editable": true,
        "id": "tT061irlJwkg"
      },
      "source": [
        "### Create a Cloud Storage bucket\n",
        "\n",
        "**The following steps are required, regardless of your notebook environment.**\n",
        "https://cloud.google.com/storage/docs/creating-buckets#storage-create-bucket-console\n",
        "When you submit a training job using the Cloud SDK, you upload a Python package\n",
        "containing your training code to a Cloud Storage bucket. AI Platform runs\n",
        "the code from this package. In this tutorial, AI Platform also saves the\n",
        "trained model that results from your job in the same bucket. You can then\n",
        "create an AI Platform model version based on this output in order to serve\n",
        "online predictions.\n",
        "\n",
        "Set the name of your Cloud Storage bucket below. It must be unique across all\n",
        "Cloud Storage buckets. \n",
        "\n",
        "# Do Not change the settings below for Live Assignment!"
      ]
    },
    {
      "cell_type": "code",
      "metadata": {
        "deletable": true,
        "editable": true,
        "id": "bTxmbDg1I0x1"
      },
      "source": [
        "BUCKET_NAME = \"rajashekar_ch_bucket\" #@param {type:\"string\"}\n",
        "REGION = \"us-east1\" #@param {type:\"string\"}"
      ],
      "execution_count": null,
      "outputs": []
    },
    {
      "cell_type": "markdown",
      "metadata": {
        "deletable": true,
        "editable": true,
        "id": "fsmCk2dwJnLZ"
      },
      "source": [
        "# Task 1: Create your Cloud Storage bucket. https://cloud.google.com/storage/docs/creating-buckets\n",
        "\n",
        "## Give any name to your bitbucket. **Select Region as US-east 1.**\n",
        "Hit create. Once you run the command below, you should be able to see the bitbucket associated.\n"
      ]
    },
    {
      "cell_type": "code",
      "metadata": {
        "colab": {
          "base_uri": "https://localhost:8080/"
        },
        "id": "qxGTn3hqkdOy",
        "outputId": "486c513b-7f12-4010-c80c-8b85495c6e41"
      },
      "source": [
        "#This will check connection and list the connected data bucket. Ensure Bitbucket created before this.\n",
        "from google.colab import auth\n",
        "auth.authenticate_user()\n",
        "project_id = PROJECT_ID\n",
        "!gcloud config set project {project_id}\n",
        "!gsutil ls"
      ],
      "execution_count": null,
      "outputs": [
        {
          "output_type": "stream",
          "name": "stdout",
          "text": [
            "Updated property [core/project].\n",
            "gs://christina4brain21/\n",
            "gs://claudiab_bucket/\n",
            "gs://example_fz/\n",
            "gs://rajashekar_ch_bucket/\n",
            "gs://tf-bucket-mle-2021-kinga/\n",
            "gs://tf-bucket-mle-2021-maury/\n",
            "gs://tf-bucket-mle-2021-sahil/\n",
            "gs://tf-bucket-mle-may-2021/\n",
            "gs://tf-bucket-mle-may-2021-evanc/\n",
            "gs://tf-bucket-mle-may-2021-maf/\n",
            "gs://tf-bucket-mle-may-2021-pawel/\n",
            "gs://tf-bucket-mle-may-2021-thursday/\n",
            "gs://tf-bucket-sy/\n"
          ]
        }
      ]
    },
    {
      "cell_type": "markdown",
      "metadata": {
        "deletable": true,
        "editable": true,
        "id": "aRVMEU2Qshm4"
      },
      "source": [
        "## Part 1. Quickstart for training in AI Platform\n",
        "\n",
        "This section of the tutorial walks you through submitting a training job to Cloud\n",
        "AI Platform. This job runs sample code that uses Keras to train a deep neural\n",
        "network on the United States Census data. It outputs the trained model as a\n",
        "[TensorFlow SavedModel\n",
        "directory](https://www.tensorflow.org/guide/saved_model#save_and_restore_models)\n",
        "in your Cloud Storage bucket.\n",
        "\n",
        "**Details of pre-trained weights: cloudml-samples->tf-keras->trainer**"
      ]
    },
    {
      "cell_type": "markdown",
      "metadata": {
        "deletable": true,
        "editable": true,
        "id": "8zr6lj66UlMn"
      },
      "source": [
        "### Get training code and dependencies\n",
        "\n",
        "First, download the training code and change the notebook's working directory. The code and data get downloaded to your GDrive:"
      ]
    },
    {
      "cell_type": "code",
      "metadata": {
        "deletable": true,
        "editable": true,
        "id": "Icz22E69smnD",
        "colab": {
          "base_uri": "https://localhost:8080/"
        },
        "outputId": "768eb710-f1ef-4423-8e9b-97c13a531ed5"
      },
      "source": [
        "# Clone the repository of AI Platform samples\n",
        "! git clone --depth 1 https://github.com/GoogleCloudPlatform/cloudml-samples\n",
        "\n",
        "# Set the working directory to the sample code directory\n",
        "%cd cloudml-samples/census/tf-keras"
      ],
      "execution_count": null,
      "outputs": [
        {
          "output_type": "stream",
          "name": "stdout",
          "text": [
            "fatal: destination path 'cloudml-samples' already exists and is not an empty directory.\n",
            "/content/drive/My Drive/Colab/Fourth.Brain/GCP/cloudml-samples/census/tf-keras\n"
          ]
        }
      ]
    },
    {
      "cell_type": "markdown",
      "metadata": {
        "deletable": true,
        "editable": true,
        "id": "MhubJDDXSVv3"
      },
      "source": [
        "Notice that the training code is structured as a Python package in the\n",
        "`trainer/` subdirectory:"
      ]
    },
    {
      "cell_type": "code",
      "metadata": {
        "colab": {
          "base_uri": "https://localhost:8080/"
        },
        "id": "kukmyK4oECfL",
        "outputId": "02ba91a3-896d-4369-f164-bd8475d1eb25"
      },
      "source": [
        "!apt install tree"
      ],
      "execution_count": null,
      "outputs": [
        {
          "output_type": "stream",
          "name": "stdout",
          "text": [
            "Reading package lists... Done\n",
            "Building dependency tree       \n",
            "Reading state information... Done\n",
            "The following NEW packages will be installed:\n",
            "  tree\n",
            "0 upgraded, 1 newly installed, 0 to remove and 40 not upgraded.\n",
            "Need to get 40.7 kB of archives.\n",
            "After this operation, 105 kB of additional disk space will be used.\n",
            "Get:1 http://archive.ubuntu.com/ubuntu bionic/universe amd64 tree amd64 1.7.0-5 [40.7 kB]\n",
            "Fetched 40.7 kB in 1s (78.6 kB/s)\n",
            "Selecting previously unselected package tree.\n",
            "(Reading database ... 148492 files and directories currently installed.)\n",
            "Preparing to unpack .../tree_1.7.0-5_amd64.deb ...\n",
            "Unpacking tree (1.7.0-5) ...\n",
            "Setting up tree (1.7.0-5) ...\n",
            "Processing triggers for man-db (2.8.3-2ubuntu0.1) ...\n"
          ]
        }
      ]
    },
    {
      "cell_type": "code",
      "metadata": {
        "colab": {
          "base_uri": "https://localhost:8080/"
        },
        "id": "ZLAOEjWlEL-D",
        "outputId": "65a06760-68f9-4248-e502-ceb297dd8c12"
      },
      "source": [
        "!tree"
      ],
      "execution_count": null,
      "outputs": [
        {
          "output_type": "stream",
          "name": "stdout",
          "text": [
            ".\n",
            "├── cloudml-samples\n",
            "│   ├── census\n",
            "│   │   ├── customestimator\n",
            "│   │   │   ├── requirements.txt\n",
            "│   │   │   ├── scripts\n",
            "│   │   │   │   └── train-local.sh\n",
            "│   │   │   └── trainer\n",
            "│   │   │       ├── __init__.py\n",
            "│   │   │       ├── model.py\n",
            "│   │   │       └── task.py\n",
            "│   │   ├── estimator\n",
            "│   │   │   ├── constants\n",
            "│   │   │   │   ├── constants.py\n",
            "│   │   │   │   └── __init__.py\n",
            "│   │   │   ├── dataflow_setup.py\n",
            "│   │   │   ├── preprocessing\n",
            "│   │   │   │   ├── __init__.py\n",
            "│   │   │   │   ├── preprocessing_config.ini\n",
            "│   │   │   │   ├── preprocess.py\n",
            "│   │   │   │   └── run_preprocessing.py\n",
            "│   │   │   ├── requirements.txt\n",
            "│   │   │   ├── scripts\n",
            "│   │   │   │   └── train-local.sh\n",
            "│   │   │   ├── setup.py\n",
            "│   │   │   └── trainer\n",
            "│   │   │       ├── featurizer.py\n",
            "│   │   │       ├── __init__.py\n",
            "│   │   │       ├── input.py\n",
            "│   │   │       ├── model.py\n",
            "│   │   │       └── task.py\n",
            "│   │   ├── hptuning_config.yaml\n",
            "│   │   ├── keras\n",
            "│   │   │   ├── preprocess.py\n",
            "│   │   │   ├── README.md\n",
            "│   │   │   ├── requirements.txt\n",
            "│   │   │   ├── scripts\n",
            "│   │   │   │   └── train-local.sh\n",
            "│   │   │   ├── setup.py\n",
            "│   │   │   └── trainer\n",
            "│   │   │       ├── __init__.py\n",
            "│   │   │       ├── model.py\n",
            "│   │   │       └── task.py\n",
            "│   │   ├── README.md\n",
            "│   │   ├── requirements.txt\n",
            "│   │   ├── sample.sh\n",
            "│   │   ├── tensorflowcore\n",
            "│   │   │   ├── requirements.txt\n",
            "│   │   │   ├── scripts\n",
            "│   │   │   │   └── train-local.sh\n",
            "│   │   │   └── trainer\n",
            "│   │   │       ├── __init__.py\n",
            "│   │   │       ├── model.py\n",
            "│   │   │       └── task.py\n",
            "│   │   ├── test.csv\n",
            "│   │   ├── test.json\n",
            "│   │   ├── tf-keras\n",
            "│   │   │   ├── hptuning_config.yaml\n",
            "│   │   │   ├── keras_export\n",
            "│   │   │   │   ├── assets\n",
            "│   │   │   │   │   └── saved_model.json\n",
            "│   │   │   │   ├── saved_model.pb\n",
            "│   │   │   │   └── variables\n",
            "│   │   │   │       ├── checkpoint\n",
            "│   │   │   │       ├── variables.data-00000-of-00002\n",
            "│   │   │   │       ├── variables.data-00001-of-00002\n",
            "│   │   │   │       └── variables.index\n",
            "│   │   │   ├── local-training-output\n",
            "│   │   │   │   ├── keras_export\n",
            "│   │   │   │   │   ├── assets\n",
            "│   │   │   │   │   │   └── saved_model.json\n",
            "│   │   │   │   │   ├── saved_model.pb\n",
            "│   │   │   │   │   └── variables\n",
            "│   │   │   │   │       ├── checkpoint\n",
            "│   │   │   │   │       ├── variables.data-00000-of-00002\n",
            "│   │   │   │   │       ├── variables.data-00001-of-00002\n",
            "│   │   │   │   │       └── variables.index\n",
            "│   │   │   │   └── keras_tensorboard\n",
            "│   │   │   │       ├── events.out.tfevents.1630022627.195bd55bea84\n",
            "│   │   │   │       ├── events.out.tfevents.1630022628.195bd55bea84.profile-empty\n",
            "│   │   │   │       └── plugins\n",
            "│   │   │   │           └── profile\n",
            "│   │   │   │               └── 2021-08-27_00-03-48\n",
            "│   │   │   │                   └── local.trace\n",
            "│   │   │   ├── prediction_input.json\n",
            "│   │   │   ├── README.md\n",
            "│   │   │   ├── requirements.txt\n",
            "│   │   │   ├── scripts\n",
            "│   │   │   │   └── train-local.sh\n",
            "│   │   │   └── trainer\n",
            "│   │   │       ├── __init__.py\n",
            "│   │   │       ├── model.py\n",
            "│   │   │       ├── __pycache__\n",
            "│   │   │       │   ├── __init__.cpython-37.pyc\n",
            "│   │   │       │   ├── model.cpython-37.pyc\n",
            "│   │   │       │   ├── task.cpython-37.pyc\n",
            "│   │   │       │   └── util.cpython-37.pyc\n",
            "│   │   │       ├── task.py\n",
            "│   │   │       └── util.py\n",
            "│   │   └── tftransformestimator\n",
            "│   │       ├── input_metadata\n",
            "│   │       │   ├── __init__.py\n",
            "│   │       │   └── input_metadata.py\n",
            "│   │       ├── preprocess.py\n",
            "│   │       ├── README.md\n",
            "│   │       ├── requirements_dataflow.txt\n",
            "│   │       ├── requirements.txt\n",
            "│   │       ├── setup.py\n",
            "│   │       └── trainer\n",
            "│   │           ├── __init__.py\n",
            "│   │           ├── model.py\n",
            "│   │           └── task.py\n",
            "│   ├── chainer\n",
            "│   │   ├── containers\n",
            "│   │   │   └── quickstart\n",
            "│   │   │       ├── mnist\n",
            "│   │   │       │   ├── Dockerfile\n",
            "│   │   │       │   └── trainer\n",
            "│   │   │       │       └── mnist.py\n",
            "│   │   │       └── README.md\n",
            "│   │   └── README.md\n",
            "│   ├── cloudml-template\n",
            "│   │   ├── examples\n",
            "│   │   │   ├── classification\n",
            "│   │   │   │   ├── census\n",
            "│   │   │   │   │   ├── config.yaml\n",
            "│   │   │   │   │   ├── data\n",
            "│   │   │   │   │   │   ├── eval-data-01.csv\n",
            "│   │   │   │   │   │   ├── new-data.json\n",
            "│   │   │   │   │   │   ├── train-data-01.csv\n",
            "│   │   │   │   │   │   └── train-data-02.csv\n",
            "│   │   │   │   │   ├── setup.py\n",
            "│   │   │   │   │   └── trainer\n",
            "│   │   │   │   │       ├── experiment.py\n",
            "│   │   │   │   │       ├── featurizer.py\n",
            "│   │   │   │   │       ├── __init__.py\n",
            "│   │   │   │   │       ├── inputs.py\n",
            "│   │   │   │   │       ├── metadata.py\n",
            "│   │   │   │   │       ├── model.py\n",
            "│   │   │   │   │       └── task.py\n",
            "│   │   │   │   └── german\n",
            "│   │   │   │       ├── config.yaml\n",
            "│   │   │   │       ├── data\n",
            "│   │   │   │       │   ├── eval-data-01.csv\n",
            "│   │   │   │       │   ├── train-data-01.csv\n",
            "│   │   │   │       │   ├── train-data-02.csv\n",
            "│   │   │   │       │   ├── train-data-03.csv\n",
            "│   │   │   │       │   └── train-data-04.csv\n",
            "│   │   │   │       ├── setup.py\n",
            "│   │   │   │       └── trainer\n",
            "│   │   │   │           ├── experiment.py\n",
            "│   │   │   │           ├── featurizer.py\n",
            "│   │   │   │           ├── __init__.py\n",
            "│   │   │   │           ├── inputs.py\n",
            "│   │   │   │           ├── metadata.py\n",
            "│   │   │   │           ├── model.py\n",
            "│   │   │   │           └── task.py\n",
            "│   │   │   └── regression\n",
            "│   │   │       ├── babyweight\n",
            "│   │   │       │   ├── config.yaml\n",
            "│   │   │       │   ├── data\n",
            "│   │   │       │   │   ├── eval-data-01.csv\n",
            "│   │   │       │   │   └── train-data-01.csv\n",
            "│   │   │       │   ├── setup.py\n",
            "│   │   │       │   ├── trained_models\n",
            "│   │   │       │   │   └── housing_regressor\n",
            "│   │   │       │   │       ├── checkpoint\n",
            "│   │   │       │   │       ├── eval\n",
            "│   │   │       │   │       │   └── events.out.tfevents.1554227547.khalidsalama-macbookpro.roam.corp.google.com\n",
            "│   │   │       │   │       ├── events.out.tfevents.1554227534.khalidsalama-macbookpro.roam.corp.google.com\n",
            "│   │   │       │   │       ├── export\n",
            "│   │   │       │   │       │   ├── estimate\n",
            "│   │   │       │   │       │   │   └── 1554227547\n",
            "│   │   │       │   │       │   │       ├── saved_model.pb\n",
            "│   │   │       │   │       │   │       └── variables\n",
            "│   │   │       │   │       │   │           ├── variables.data-00000-of-00002\n",
            "│   │   │       │   │       │   │           ├── variables.data-00001-of-00002\n",
            "│   │   │       │   │       │   │           └── variables.index\n",
            "│   │   │       │   │       │   └── evaluate\n",
            "│   │   │       │   │       │       └── 1554227548\n",
            "│   │   │       │   │       │           ├── saved_model.pb\n",
            "│   │   │       │   │       │           └── variables\n",
            "│   │   │       │   │       │               ├── variables.data-00000-of-00002\n",
            "│   │   │       │   │       │               ├── variables.data-00001-of-00002\n",
            "│   │   │       │   │       │               └── variables.index\n",
            "│   │   │       │   │       ├── graph.pbtxt\n",
            "│   │   │       │   │       ├── model.ckpt-0.data-00000-of-00002\n",
            "│   │   │       │   │       ├── model.ckpt-0.data-00001-of-00002\n",
            "│   │   │       │   │       ├── model.ckpt-0.index\n",
            "│   │   │       │   │       ├── model.ckpt-0.meta\n",
            "│   │   │       │   │       ├── model.ckpt-1000.data-00000-of-00002\n",
            "│   │   │       │   │       ├── model.ckpt-1000.data-00001-of-00002\n",
            "│   │   │       │   │       ├── model.ckpt-1000.index\n",
            "│   │   │       │   │       └── model.ckpt-1000.meta\n",
            "│   │   │       │   └── trainer\n",
            "│   │   │       │       ├── experiment.py\n",
            "│   │   │       │       ├── featurizer.py\n",
            "│   │   │       │       ├── __init__.py\n",
            "│   │   │       │       ├── inputs.py\n",
            "│   │   │       │       ├── metadata.py\n",
            "│   │   │       │       ├── model.py\n",
            "│   │   │       │       └── task.py\n",
            "│   │   │       └── housing\n",
            "│   │   │           ├── config.yaml\n",
            "│   │   │           ├── data\n",
            "│   │   │           │   ├── eval-data-01.csv\n",
            "│   │   │           │   ├── new-data.json\n",
            "│   │   │           │   ├── train-data-01.csv\n",
            "│   │   │           │   └── train-data-02.csv\n",
            "│   │   │           ├── setup.py\n",
            "│   │   │           └── trainer\n",
            "│   │   │               ├── experiment.py\n",
            "│   │   │               ├── featurizer.py\n",
            "│   │   │               ├── __init__.py\n",
            "│   │   │               ├── inputs.py\n",
            "│   │   │               ├── metadata.py\n",
            "│   │   │               ├── model.py\n",
            "│   │   │               └── task.py\n",
            "│   │   ├── README.md\n",
            "│   │   ├── requirements.txt\n",
            "│   │   ├── scripts\n",
            "│   │   │   ├── cloudml-deploy-model.sh\n",
            "│   │   │   ├── cloudml-submit-train-job.sh\n",
            "│   │   │   ├── config.yaml\n",
            "│   │   │   └── local-train.sh\n",
            "│   │   └── template\n",
            "│   │       ├── config.yaml\n",
            "│   │       ├── inference.py\n",
            "│   │       ├── setup.py\n",
            "│   │       └── trainer\n",
            "│   │           ├── experiment.py\n",
            "│   │           ├── featurizer.py\n",
            "│   │           ├── __init__.py\n",
            "│   │           ├── inputs.py\n",
            "│   │           ├── metadata.py\n",
            "│   │           ├── model.py\n",
            "│   │           └── task.py\n",
            "│   ├── CODEOWNERS\n",
            "│   ├── CONTRIBUTING.md\n",
            "│   ├── ISSUE_TEMPLATE.md\n",
            "│   ├── LICENSE\n",
            "│   ├── molecules\n",
            "│   │   ├── data-extractor.py\n",
            "│   │   ├── predict.py\n",
            "│   │   ├── preprocess.py\n",
            "│   │   ├── pubchem\n",
            "│   │   │   ├── __init__.py\n",
            "│   │   │   ├── pipeline.py\n",
            "│   │   │   └── sdf.py\n",
            "│   │   ├── publisher.py\n",
            "│   │   ├── README.md\n",
            "│   │   ├── requirements.txt\n",
            "│   │   ├── run-cloud\n",
            "│   │   ├── run-local\n",
            "│   │   ├── sample-requests.json\n",
            "│   │   ├── setup.py\n",
            "│   │   ├── subscriber.py\n",
            "│   │   └── trainer\n",
            "│   │       ├── __init__.py\n",
            "│   │       └── task.py\n",
            "│   ├── notebooks\n",
            "│   │   ├── keras\n",
            "│   │   │   ├── cascade.ipynb\n",
            "│   │   │   ├── README.md\n",
            "│   │   │   └── TextClassificationUsingKerasAndCMLE.ipynb\n",
            "│   │   ├── pytorch\n",
            "│   │   │   ├── TextClassificationUsingPyTorchAndCMLE.ipynb\n",
            "│   │   │   └── TrainingAndPredictionWithPyTorch.ipynb\n",
            "│   │   ├── README.md\n",
            "│   │   ├── scikit-learn\n",
            "│   │   │   ├── 20_newsgroups_automl.ipynb\n",
            "│   │   │   ├── custom-pipeline.ipynb\n",
            "│   │   │   ├── custom-prediction-routine-scikit-learn.ipynb\n",
            "│   │   │   ├── hptuning_config.yaml\n",
            "│   │   │   ├── HyperparameterTuningWithScikitLearnInCMLE.ipynb\n",
            "│   │   │   ├── OnlinePredictionWithScikitLearnInCMLE.ipynb\n",
            "│   │   │   ├── TrainingAndPredictionWithScikitLearn.ipynb\n",
            "│   │   │   └── TrainingWithScikitLearnInCMLE.ipynb\n",
            "│   │   ├── tensorflow\n",
            "│   │   │   ├── census\n",
            "│   │   │   │   ├── customestimator\n",
            "│   │   │   │   │   └── trainer\n",
            "│   │   │   │   │       └── task.ipynb\n",
            "│   │   │   │   ├── estimator\n",
            "│   │   │   │   │   └── trainer\n",
            "│   │   │   │   │       └── task.ipynb\n",
            "│   │   │   │   ├── keras\n",
            "│   │   │   │   │   └── trainer\n",
            "│   │   │   │   │       └── task.ipynb\n",
            "│   │   │   │   └── tensorflowcore\n",
            "│   │   │   │       └── trainer\n",
            "│   │   │   │           └── task.ipynb\n",
            "│   │   │   ├── custom-prediction-routine-keras.ipynb\n",
            "│   │   │   └── getting-started-keras.ipynb\n",
            "│   │   ├── tpu\n",
            "│   │   │   └── templates\n",
            "│   │   │       ├── tpu_cnn_estimator\n",
            "│   │   │       │   └── trainer.ipynb\n",
            "│   │   │       ├── tpu_estimator\n",
            "│   │   │       │   └── trainer.ipynb\n",
            "│   │   │       ├── tpu_film_estimator\n",
            "│   │   │       │   └── trainer.ipynb\n",
            "│   │   │       ├── tpu_gan_estimator\n",
            "│   │   │       │   ├── trainer.ipynb\n",
            "│   │   │       │   └── trainer_single.ipynb\n",
            "│   │   │       ├── tpu_grl_estimator\n",
            "│   │   │       │   └── trainer.ipynb\n",
            "│   │   │       ├── tpu_lstm_estimator\n",
            "│   │   │       │   └── trainer.ipynb\n",
            "│   │   │       ├── tpu_lstm_keras\n",
            "│   │   │       │   └── trainer.ipynb\n",
            "│   │   │       ├── tpu_rewrite\n",
            "│   │   │       │   ├── trainer_infeed_outfeed.ipynb\n",
            "│   │   │       │   └── trainer.ipynb\n",
            "│   │   │       └── tpu_triplet_loss_estimator\n",
            "│   │   │           └── trainer.ipynb\n",
            "│   │   └── xgboost\n",
            "│   │       ├── HyperparameterTuningWithXGBoostInCMLE.ipynb\n",
            "│   │       ├── OnlinePredictionWithXGBoostInCMLE.ipynb\n",
            "│   │       ├── TrainingAndPredictionWithXGBoost.ipynb\n",
            "│   │       └── TrainingWithXGBoostInCMLE.ipynb\n",
            "│   ├── penguins\n",
            "│   │   └── tf-keras\n",
            "│   │       ├── hptuning_config.yaml\n",
            "│   │       ├── README.md\n",
            "│   │       ├── requirements.txt\n",
            "│   │       ├── scripts\n",
            "│   │       │   └── train-local.sh\n",
            "│   │       └── trainer\n",
            "│   │           ├── __init__.py\n",
            "│   │           ├── model.py\n",
            "│   │           ├── task.py\n",
            "│   │           └── util.py\n",
            "│   ├── pytorch\n",
            "│   │   ├── containers\n",
            "│   │   │   ├── custom_container\n",
            "│   │   │   │   ├── data_utils.py\n",
            "│   │   │   │   ├── Dockerfile\n",
            "│   │   │   │   ├── model.py\n",
            "│   │   │   │   ├── README.md\n",
            "│   │   │   │   └── task.py\n",
            "│   │   │   ├── hp_tuning\n",
            "│   │   │   │   ├── data_utils.py\n",
            "│   │   │   │   ├── Dockerfile\n",
            "│   │   │   │   ├── hptuning_config.yaml\n",
            "│   │   │   │   ├── model.py\n",
            "│   │   │   │   ├── README.md\n",
            "│   │   │   │   └── task.py\n",
            "│   │   │   ├── published_container\n",
            "│   │   │   │   ├── README.md\n",
            "│   │   │   │   └── sonar_training\n",
            "│   │   │   │       ├── setup.py\n",
            "│   │   │   │       └── trainer\n",
            "│   │   │   │           ├── data_utils.py\n",
            "│   │   │   │           ├── __init__.py\n",
            "│   │   │   │           ├── model.py\n",
            "│   │   │   │           └── task.py\n",
            "│   │   │   └── quickstart\n",
            "│   │   │       ├── mnist\n",
            "│   │   │       │   ├── Dockerfile\n",
            "│   │   │       │   ├── Dockerfile-gpu\n",
            "│   │   │       │   └── trainer\n",
            "│   │   │       │       └── mnist.py\n",
            "│   │   │       └── README.md\n",
            "│   │   ├── notebooks\n",
            "│   │   │   └── Serving PyTorch Models with CMLE  Custom Prediction Code.ipynb\n",
            "│   │   └── README.md\n",
            "│   ├── README.md\n",
            "│   ├── sklearn\n",
            "│   │   ├── iris_training.py\n",
            "│   │   ├── notebooks\n",
            "│   │   │   └── census_training\n",
            "│   │   │       ├── __init__.py\n",
            "│   │   │       └── train.py\n",
            "│   │   ├── README.md\n",
            "│   │   └── sklearn-template\n",
            "│   │       ├── examples\n",
            "│   │       │   └── README.md\n",
            "│   │       ├── README.md\n",
            "│   │       └── template\n",
            "│   │           ├── config\n",
            "│   │           │   ├── config.yaml\n",
            "│   │           │   └── hptuning_config.yaml\n",
            "│   │           ├── README.md\n",
            "│   │           ├── requirements.txt\n",
            "│   │           ├── sample_data\n",
            "│   │           │   └── sample.txt\n",
            "│   │           ├── scripts\n",
            "│   │           │   ├── deploy.sh\n",
            "│   │           │   ├── predict.py\n",
            "│   │           │   ├── predict.sh\n",
            "│   │           │   └── train.sh\n",
            "│   │           ├── setup.py\n",
            "│   │           └── trainer\n",
            "│   │               ├── __init__.py\n",
            "│   │               ├── metadata.py\n",
            "│   │               ├── model.py\n",
            "│   │               ├── task.py\n",
            "│   │               └── utils.py\n",
            "│   ├── tensorflow\n",
            "│   │   ├── containers\n",
            "│   │   │   └── unsupported_runtime\n",
            "│   │   │       ├── data_utils.py\n",
            "│   │   │       ├── Dockerfile\n",
            "│   │   │       ├── model.py\n",
            "│   │   │       ├── README.md\n",
            "│   │   │       └── task.py\n",
            "│   │   ├── __init__.py\n",
            "│   │   ├── README.md\n",
            "│   │   └── standard\n",
            "│   │       ├── boston\n",
            "│   │       │   ├── README.md\n",
            "│   │       │   ├── requirements.txt\n",
            "│   │       │   ├── sample.sh\n",
            "│   │       │   ├── setup.py\n",
            "│   │       │   └── trainer\n",
            "│   │       │       ├── __init__.py\n",
            "│   │       │       ├── model.py\n",
            "│   │       │       ├── task.py\n",
            "│   │       │       └── utils.py\n",
            "│   │       ├── imdb\n",
            "│   │       │   ├── __init__.py\n",
            "│   │       │   ├── README.md\n",
            "│   │       │   ├── requirements.txt\n",
            "│   │       │   ├── sample.sh\n",
            "│   │       │   ├── setup.py\n",
            "│   │       │   └── trainer\n",
            "│   │       │       ├── __init__.py\n",
            "│   │       │       ├── model.py\n",
            "│   │       │       ├── task.py\n",
            "│   │       │       └── utils.py\n",
            "│   │       ├── __init__.py\n",
            "│   │       ├── iris\n",
            "│   │       │   ├── hptuning_config.yaml\n",
            "│   │       │   ├── __init__.py\n",
            "│   │       │   ├── README.md\n",
            "│   │       │   ├── requirements.txt\n",
            "│   │       │   ├── sample.sh\n",
            "│   │       │   ├── setup.py\n",
            "│   │       │   ├── test.csv\n",
            "│   │       │   └── trainer\n",
            "│   │       │       ├── __init__.py\n",
            "│   │       │       ├── model.py\n",
            "│   │       │       └── task.py\n",
            "│   │       ├── legacy\n",
            "│   │       │   ├── criteo_tft\n",
            "│   │       │   │   ├── config-large.yaml\n",
            "│   │       │   │   ├── config-single.yaml\n",
            "│   │       │   │   ├── config-small.yaml\n",
            "│   │       │   │   ├── criteo.py\n",
            "│   │       │   │   ├── __init__.py\n",
            "│   │       │   │   ├── path_constants.py\n",
            "│   │       │   │   ├── preprocess.py\n",
            "│   │       │   │   ├── README.md\n",
            "│   │       │   │   ├── requirements.txt\n",
            "│   │       │   │   ├── setup.py\n",
            "│   │       │   │   └── trainer\n",
            "│   │       │   │       ├── __init__.py\n",
            "│   │       │   │       └── task.py\n",
            "│   │       │   ├── flowers\n",
            "│   │       │   │   ├── images_to_json.py\n",
            "│   │       │   │   ├── __init__.py\n",
            "│   │       │   │   ├── pipeline.py\n",
            "│   │       │   │   ├── README.md\n",
            "│   │       │   │   ├── requirements.txt\n",
            "│   │       │   │   ├── sample.sh\n",
            "│   │       │   │   ├── setup.py\n",
            "│   │       │   │   └── trainer\n",
            "│   │       │   │       ├── __init__.py\n",
            "│   │       │   │       ├── model.py\n",
            "│   │       │   │       ├── preprocess.py\n",
            "│   │       │   │       ├── task.py\n",
            "│   │       │   │       └── util.py\n",
            "│   │       │   ├── __init__.py\n",
            "│   │       │   ├── movielens\n",
            "│   │       │   │   ├── config_hypertune.yaml\n",
            "│   │       │   │   ├── config.yaml\n",
            "│   │       │   │   ├── __init__.py\n",
            "│   │       │   │   ├── preproc\n",
            "│   │       │   │   │   ├── __init__.py\n",
            "│   │       │   │   │   └── movielens.py\n",
            "│   │       │   │   ├── preprocess.py\n",
            "│   │       │   │   ├── README.md\n",
            "│   │       │   │   ├── requirements.txt\n",
            "│   │       │   │   ├── setup.py\n",
            "│   │       │   │   └── trainer\n",
            "│   │       │   │       ├── __init__.py\n",
            "│   │       │   │       └── task.py\n",
            "│   │       │   ├── README.md\n",
            "│   │       │   └── reddit_tft\n",
            "│   │       │       ├── config-small.yaml\n",
            "│   │       │       ├── __init__.py\n",
            "│   │       │       ├── path_constants.py\n",
            "│   │       │       ├── preprocess.py\n",
            "│   │       │       ├── README.md\n",
            "│   │       │       ├── reddit.py\n",
            "│   │       │       ├── requirements.txt\n",
            "│   │       │       ├── setup.py\n",
            "│   │       │       └── trainer\n",
            "│   │       │           ├── __init__.py\n",
            "│   │       │           └── task.py\n",
            "│   │       ├── mnist\n",
            "│   │       │   ├── deprecated\n",
            "│   │       │   │   ├── deployable\n",
            "│   │       │   │   │   ├── data\n",
            "│   │       │   │   │   │   ├── eval_sample.tensor.json\n",
            "│   │       │   │   │   │   └── predict_sample.tensor.json\n",
            "│   │       │   │   │   ├── setup.py\n",
            "│   │       │   │   │   └── trainer\n",
            "│   │       │   │   │       ├── __init__.py\n",
            "│   │       │   │   │       ├── input_data.py\n",
            "│   │       │   │   │       └── task.py\n",
            "│   │       │   │   ├── distributed\n",
            "│   │       │   │   │   ├── data\n",
            "│   │       │   │   │   │   ├── eval_sample.tensor.json\n",
            "│   │       │   │   │   │   └── eval_sample.tfrecord\n",
            "│   │       │   │   │   ├── __init__.py\n",
            "│   │       │   │   │   ├── local_predict.py\n",
            "│   │       │   │   │   ├── setup.py\n",
            "│   │       │   │   │   └── trainer\n",
            "│   │       │   │   │       ├── __init__.py\n",
            "│   │       │   │   │       ├── model.py\n",
            "│   │       │   │   │       ├── task.py\n",
            "│   │       │   │   │       └── util.py\n",
            "│   │       │   │   ├── hptuning\n",
            "│   │       │   │   │   ├── __init__.py\n",
            "│   │       │   │   │   ├── setup.py\n",
            "│   │       │   │   │   └── trainer\n",
            "│   │       │   │   │       ├── __init__.py\n",
            "│   │       │   │   │       ├── model.py\n",
            "│   │       │   │   │       ├── task.py\n",
            "│   │       │   │   │       └── util.py\n",
            "│   │       │   │   ├── README.md\n",
            "│   │       │   │   ├── requirements.txt\n",
            "│   │       │   │   ├── trainable\n",
            "│   │       │   │   │   ├── __init__.py\n",
            "│   │       │   │   │   ├── setup.py\n",
            "│   │       │   │   │   └── trainer\n",
            "│   │       │   │   │       ├── __init__.py\n",
            "│   │       │   │   │       └── task.py\n",
            "│   │       │   │   └── trainer\n",
            "│   │       │   │       ├── dataset.py\n",
            "│   │       │   │       ├── distribution_utils.py\n",
            "│   │       │   │       ├── hooks_helper.py\n",
            "│   │       │   │       ├── __init__.py\n",
            "│   │       │   │       ├── model_helpers.py\n",
            "│   │       │   │       └── model.py\n",
            "│   │       │   ├── README.md\n",
            "│   │       │   ├── requirements.txt\n",
            "│   │       │   ├── sample.sh\n",
            "│   │       │   ├── setup.py\n",
            "│   │       │   └── trainer\n",
            "│   │       │       ├── __init__.py\n",
            "│   │       │       ├── model.py\n",
            "│   │       │       ├── task.py\n",
            "│   │       │       └── utils.py\n",
            "│   │       └── reinforcement_learning\n",
            "│   │           └── rl_on_gcp_demo\n",
            "│   │               ├── hptuning_config.yaml\n",
            "│   │               ├── __init__.py\n",
            "│   │               ├── README.md\n",
            "│   │               ├── requirements.txt\n",
            "│   │               ├── setup.py\n",
            "│   │               ├── start.sh\n",
            "│   │               └── trainer\n",
            "│   │                   ├── agent.py\n",
            "│   │                   ├── c2a2_agent.py\n",
            "│   │                   ├── common\n",
            "│   │                   │   ├── actor_critic.py\n",
            "│   │                   │   ├── __init__.py\n",
            "│   │                   │   ├── replay_buffer.py\n",
            "│   │                   │   └── util.py\n",
            "│   │                   ├── ddpg_agent.py\n",
            "│   │                   ├── __init__.py\n",
            "│   │                   ├── task.py\n",
            "│   │                   └── td3_agent.py\n",
            "│   ├── TESTING.md\n",
            "│   ├── tools\n",
            "│   │   ├── check_environment.py\n",
            "│   │   ├── frozen_sample.ipynb\n",
            "│   │   ├── README.md\n",
            "│   │   ├── requirements.txt\n",
            "│   │   ├── sample.ipynb\n",
            "│   │   ├── sample.py\n",
            "│   │   ├── samples.yaml\n",
            "│   │   ├── setup_cloud_shell.sh\n",
            "│   │   ├── setup_docker.sh\n",
            "│   │   ├── templates\n",
            "│   │   │   ├── colab_pre.p\n",
            "│   │   │   ├── colab_tpu.p\n",
            "│   │   │   ├── notebooks_pre.p\n",
            "│   │   │   ├── notebooks_tpu_args.p\n",
            "│   │   │   ├── notebooks_tpu_create.p\n",
            "│   │   │   └── notebooks_tpu_post.p\n",
            "│   │   └── to_ipynb.py\n",
            "│   ├── tpu\n",
            "│   │   ├── hptuning\n",
            "│   │   │   ├── resnet-hptuning\n",
            "│   │   │   │   ├── config_resnet.yaml\n",
            "│   │   │   │   ├── README.md\n",
            "│   │   │   │   ├── resnet\n",
            "│   │   │   │   │   ├── imagenet_input.py\n",
            "│   │   │   │   │   ├── __init__.py\n",
            "│   │   │   │   │   ├── resnet_main.py\n",
            "│   │   │   │   │   ├── resnet_model.py\n",
            "│   │   │   │   │   └── resnet_preprocessing.py\n",
            "│   │   │   │   └── submit_resnet_hptuning.sh\n",
            "│   │   │   └── resnet-hypertune\n",
            "│   │   │       ├── config_resnet_hypertune.yaml\n",
            "│   │   │       ├── README.md\n",
            "│   │   │       ├── resnet\n",
            "│   │   │       │   ├── hypertune_hook.py\n",
            "│   │   │       │   ├── imagenet_input.py\n",
            "│   │   │       │   ├── __init__.py\n",
            "│   │   │       │   ├── resnet_main_hypertune.py\n",
            "│   │   │       │   ├── resnet_model.py\n",
            "│   │   │       │   └── resnet_preprocessing.py\n",
            "│   │   │       ├── setup.py\n",
            "│   │   │       └── submit_resnet_hypertune.sh\n",
            "│   │   ├── README.md\n",
            "│   │   ├── templates\n",
            "│   │   │   ├── config.yaml\n",
            "│   │   │   ├── README.md\n",
            "│   │   │   ├── setup.py\n",
            "│   │   │   ├── tools\n",
            "│   │   │   │   ├── parser_add.py\n",
            "│   │   │   │   ├── README_BASE.md\n",
            "│   │   │   │   ├── readme_gen.py\n",
            "│   │   │   │   ├── requirements.txt\n",
            "│   │   │   │   ├── samples.yaml\n",
            "│   │   │   │   ├── SUB_README_BASE.md\n",
            "│   │   │   │   └── sub_readme_gen.py\n",
            "│   │   │   ├── tpu_cnn_estimator\n",
            "│   │   │   │   ├── __init__.py\n",
            "│   │   │   │   ├── trainer.ipynb\n",
            "│   │   │   │   ├── trainer.py\n",
            "│   │   │   │   └── trainer_readme.md\n",
            "│   │   │   ├── tpu_estimator\n",
            "│   │   │   │   ├── __init__.py\n",
            "│   │   │   │   ├── trainer.ipynb\n",
            "│   │   │   │   ├── trainer.py\n",
            "│   │   │   │   └── trainer_readme.md\n",
            "│   │   │   ├── tpu_film_estimator\n",
            "│   │   │   │   ├── __init__.py\n",
            "│   │   │   │   ├── trainer.ipynb\n",
            "│   │   │   │   ├── trainer.py\n",
            "│   │   │   │   └── trainer_readme.md\n",
            "│   │   │   ├── tpu_gan_estimator\n",
            "│   │   │   │   ├── __init__.py\n",
            "│   │   │   │   ├── trainer.ipynb\n",
            "│   │   │   │   ├── trainer.py\n",
            "│   │   │   │   ├── trainer_readme.md\n",
            "│   │   │   │   ├── trainer_single.ipynb\n",
            "│   │   │   │   ├── trainer_single.py\n",
            "│   │   │   │   └── trainer_single_readme.md\n",
            "│   │   │   ├── tpu_grl_estimator\n",
            "│   │   │   │   ├── __init__.py\n",
            "│   │   │   │   ├── trainer.ipynb\n",
            "│   │   │   │   ├── trainer.py\n",
            "│   │   │   │   └── trainer_readme.md\n",
            "│   │   │   ├── tpu_lstm_estimator\n",
            "│   │   │   │   ├── __init__.py\n",
            "│   │   │   │   ├── trainer.ipynb\n",
            "│   │   │   │   ├── trainer.py\n",
            "│   │   │   │   └── trainer_readme.md\n",
            "│   │   │   ├── tpu_lstm_keras\n",
            "│   │   │   │   ├── __init__.py\n",
            "│   │   │   │   ├── trainer.ipynb\n",
            "│   │   │   │   ├── trainer.py\n",
            "│   │   │   │   └── trainer_readme.md\n",
            "│   │   │   ├── tpu_rewrite\n",
            "│   │   │   │   ├── __init__.py\n",
            "│   │   │   │   ├── trainer_infeed_outfeed.ipynb\n",
            "│   │   │   │   ├── trainer_infeed_outfeed.py\n",
            "│   │   │   │   ├── trainer_infeed_outfeed_readme.md\n",
            "│   │   │   │   ├── trainer.ipynb\n",
            "│   │   │   │   ├── trainer.py\n",
            "│   │   │   │   └── trainer_readme.md\n",
            "│   │   │   └── tpu_triplet_loss_estimator\n",
            "│   │   │       ├── __init__.py\n",
            "│   │   │       ├── trainer.ipynb\n",
            "│   │   │       ├── trainer.py\n",
            "│   │   │       └── trainer_readme.md\n",
            "│   │   ├── training\n",
            "│   │   │   └── resnet\n",
            "│   │   │       ├── README.md\n",
            "│   │   │       ├── resnet\n",
            "│   │   │       │   ├── imagenet_input.py\n",
            "│   │   │       │   ├── __init__.py\n",
            "│   │   │       │   ├── resnet_main.py\n",
            "│   │   │       │   ├── resnet_model.py\n",
            "│   │   │       │   └── resnet_preprocessing.py\n",
            "│   │   │       └── submit_resnet.sh\n",
            "│   │   └── utils\n",
            "│   │       ├── input_fn_tuning\n",
            "│   │       │   ├── input_fn_tuning_job.py\n",
            "│   │       │   ├── input_fn_tuning_submit_base.sh\n",
            "│   │       │   ├── input_fn_tuning_trace_base.sh\n",
            "│   │       │   ├── README.md\n",
            "│   │       │   ├── requirements.txt\n",
            "│   │       │   ├── tpu_utils.py\n",
            "│   │       │   └── trainer.py\n",
            "│   │       ├── README.md\n",
            "│   │       ├── survival\n",
            "│   │       │   ├── README.md\n",
            "│   │       │   ├── requirements.txt\n",
            "│   │       │   ├── submit_preemptible.sh\n",
            "│   │       │   ├── tpu_survival_job.py\n",
            "│   │       │   ├── tpu_survival.py\n",
            "│   │       │   └── tpu_utils.py\n",
            "│   │       └── tpu_utils.py\n",
            "│   └── xgboost\n",
            "│       ├── iris_training.py\n",
            "│       ├── notebooks\n",
            "│       │   └── census_training\n",
            "│       │       ├── __init__.py\n",
            "│       │       └── train.py\n",
            "│       └── README.md\n",
            "├── hptuning_config.yaml\n",
            "├── local-training-output\n",
            "│   ├── keras_export\n",
            "│   │   ├── assets\n",
            "│   │   │   └── saved_model.json\n",
            "│   │   ├── saved_model.pb\n",
            "│   │   └── variables\n",
            "│   │       ├── checkpoint\n",
            "│   │       ├── variables.data-00000-of-00002\n",
            "│   │       ├── variables.data-00001-of-00002\n",
            "│   │       └── variables.index\n",
            "│   └── keras_tensorboard\n",
            "│       ├── events.out.tfevents.1630021065.195bd55bea84\n",
            "│       ├── events.out.tfevents.1630021065.195bd55bea84.profile-empty\n",
            "│       ├── events.out.tfevents.1630021123.195bd55bea84\n",
            "│       └── plugins\n",
            "│           └── profile\n",
            "│               ├── 2021-08-26_23-37-45\n",
            "│               │   └── local.trace\n",
            "│               └── 2021-08-26_23-38-43\n",
            "│                   └── local.trace\n",
            "├── README.md\n",
            "├── requirements.txt\n",
            "├── scripts\n",
            "│   └── train-local.sh\n",
            "└── trainer\n",
            "    ├── __init__.py\n",
            "    ├── model.py\n",
            "    ├── __pycache__\n",
            "    │   ├── __init__.cpython-37.pyc\n",
            "    │   ├── model.cpython-37.pyc\n",
            "    │   ├── task.cpython-37.pyc\n",
            "    │   └── util.cpython-37.pyc\n",
            "    ├── task.py\n",
            "    └── util.py\n",
            "\n",
            "200 directories, 552 files\n"
          ]
        }
      ]
    },
    {
      "cell_type": "markdown",
      "metadata": {
        "deletable": true,
        "editable": true,
        "id": "7KA87o4HUhby"
      },
      "source": [
        "Run the following cell to install Python dependencies needed to train the model locally. When you run the training job in AI Platform,\n",
        "dependencies are preinstalled based on the [runtime\n",
        "version](https://cloud.google.com/ml-engine/docs/tensorflow/runtime-version-list)\n",
        "you choose."
      ]
    },
    {
      "cell_type": "code",
      "metadata": {
        "deletable": true,
        "editable": true,
        "id": "Wm5w1UrmVU7O",
        "colab": {
          "base_uri": "https://localhost:8080/"
        },
        "outputId": "baccd738-fa78-471d-d187-1ca6c4e7172e"
      },
      "source": [
        "! pip install -r requirements.txt"
      ],
      "execution_count": null,
      "outputs": [
        {
          "output_type": "stream",
          "name": "stdout",
          "text": [
            "Requirement already satisfied: numpy>=1.14 in /usr/local/lib/python3.7/dist-packages (from -r requirements.txt (line 1)) (1.18.5)\n",
            "Requirement already satisfied: pandas>=0.22 in /usr/local/lib/python3.7/dist-packages (from -r requirements.txt (line 2)) (1.1.5)\n",
            "Requirement already satisfied: six>=1.11 in /usr/local/lib/python3.7/dist-packages (from -r requirements.txt (line 3)) (1.15.0)\n",
            "Requirement already satisfied: tensorflow<2,>=1.15 in /usr/local/lib/python3.7/dist-packages (from -r requirements.txt (line 4)) (1.15.5)\n",
            "Requirement already satisfied: pytz>=2017.2 in /usr/local/lib/python3.7/dist-packages (from pandas>=0.22->-r requirements.txt (line 2)) (2018.9)\n",
            "Requirement already satisfied: python-dateutil>=2.7.3 in /usr/local/lib/python3.7/dist-packages (from pandas>=0.22->-r requirements.txt (line 2)) (2.8.2)\n",
            "Requirement already satisfied: tensorflow-estimator==1.15.1 in /usr/local/lib/python3.7/dist-packages (from tensorflow<2,>=1.15->-r requirements.txt (line 4)) (1.15.1)\n",
            "Requirement already satisfied: astor>=0.6.0 in /usr/local/lib/python3.7/dist-packages (from tensorflow<2,>=1.15->-r requirements.txt (line 4)) (0.8.1)\n",
            "Requirement already satisfied: h5py<=2.10.0 in /usr/local/lib/python3.7/dist-packages (from tensorflow<2,>=1.15->-r requirements.txt (line 4)) (2.10.0)\n",
            "Requirement already satisfied: wrapt>=1.11.1 in /usr/local/lib/python3.7/dist-packages (from tensorflow<2,>=1.15->-r requirements.txt (line 4)) (1.12.1)\n",
            "Requirement already satisfied: grpcio>=1.8.6 in /usr/local/lib/python3.7/dist-packages (from tensorflow<2,>=1.15->-r requirements.txt (line 4)) (1.39.0)\n",
            "Requirement already satisfied: wheel>=0.26 in /usr/local/lib/python3.7/dist-packages (from tensorflow<2,>=1.15->-r requirements.txt (line 4)) (0.37.0)\n",
            "Requirement already satisfied: gast==0.2.2 in /usr/local/lib/python3.7/dist-packages (from tensorflow<2,>=1.15->-r requirements.txt (line 4)) (0.2.2)\n",
            "Requirement already satisfied: google-pasta>=0.1.6 in /usr/local/lib/python3.7/dist-packages (from tensorflow<2,>=1.15->-r requirements.txt (line 4)) (0.2.0)\n",
            "Requirement already satisfied: keras-applications>=1.0.8 in /usr/local/lib/python3.7/dist-packages (from tensorflow<2,>=1.15->-r requirements.txt (line 4)) (1.0.8)\n",
            "Requirement already satisfied: opt-einsum>=2.3.2 in /usr/local/lib/python3.7/dist-packages (from tensorflow<2,>=1.15->-r requirements.txt (line 4)) (3.3.0)\n",
            "Requirement already satisfied: keras-preprocessing>=1.0.5 in /usr/local/lib/python3.7/dist-packages (from tensorflow<2,>=1.15->-r requirements.txt (line 4)) (1.1.2)\n",
            "Requirement already satisfied: absl-py>=0.7.0 in /usr/local/lib/python3.7/dist-packages (from tensorflow<2,>=1.15->-r requirements.txt (line 4)) (0.12.0)\n",
            "Requirement already satisfied: protobuf>=3.6.1 in /usr/local/lib/python3.7/dist-packages (from tensorflow<2,>=1.15->-r requirements.txt (line 4)) (3.17.3)\n",
            "Requirement already satisfied: termcolor>=1.1.0 in /usr/local/lib/python3.7/dist-packages (from tensorflow<2,>=1.15->-r requirements.txt (line 4)) (1.1.0)\n",
            "Requirement already satisfied: tensorboard<1.16.0,>=1.15.0 in /usr/local/lib/python3.7/dist-packages (from tensorflow<2,>=1.15->-r requirements.txt (line 4)) (1.15.0)\n",
            "Requirement already satisfied: werkzeug>=0.11.15 in /usr/local/lib/python3.7/dist-packages (from tensorboard<1.16.0,>=1.15.0->tensorflow<2,>=1.15->-r requirements.txt (line 4)) (1.0.1)\n",
            "Requirement already satisfied: setuptools>=41.0.0 in /usr/local/lib/python3.7/dist-packages (from tensorboard<1.16.0,>=1.15.0->tensorflow<2,>=1.15->-r requirements.txt (line 4)) (57.4.0)\n",
            "Requirement already satisfied: markdown>=2.6.8 in /usr/local/lib/python3.7/dist-packages (from tensorboard<1.16.0,>=1.15.0->tensorflow<2,>=1.15->-r requirements.txt (line 4)) (3.3.4)\n",
            "Requirement already satisfied: importlib-metadata in /usr/local/lib/python3.7/dist-packages (from markdown>=2.6.8->tensorboard<1.16.0,>=1.15.0->tensorflow<2,>=1.15->-r requirements.txt (line 4)) (4.6.4)\n",
            "Requirement already satisfied: zipp>=0.5 in /usr/local/lib/python3.7/dist-packages (from importlib-metadata->markdown>=2.6.8->tensorboard<1.16.0,>=1.15.0->tensorflow<2,>=1.15->-r requirements.txt (line 4)) (3.5.0)\n",
            "Requirement already satisfied: typing-extensions>=3.6.4 in /usr/local/lib/python3.7/dist-packages (from importlib-metadata->markdown>=2.6.8->tensorboard<1.16.0,>=1.15.0->tensorflow<2,>=1.15->-r requirements.txt (line 4)) (3.7.4.3)\n"
          ]
        }
      ]
    },
    {
      "cell_type": "markdown",
      "metadata": {
        "deletable": true,
        "editable": true,
        "id": "iSrzwuchvcgv"
      },
      "source": [
        "### Train your model locally\n",
        "\n",
        "Before training on AI Platform, train the job locally to verify the file\n",
        "structure and packaging is correct.\n",
        "\n",
        "For a complex or resource-intensive job, you\n",
        "may want to train locally on a small sample of your dataset to verify your code.\n",
        "Then you can run the job on AI Platform to train on the whole dataset.\n",
        "\n",
        "This sample runs a relatively quick job on a small dataset, so the local\n",
        "training and the AI Platform job run the same code on the same data.\n",
        "\n",
        "Run the following cell to train a model locally:"
      ]
    },
    {
      "cell_type": "code",
      "metadata": {
        "id": "MlpbWCsoGAnZ"
      },
      "source": [
        "!rm -rf local-training-output/keras_export"
      ],
      "execution_count": null,
      "outputs": []
    },
    {
      "cell_type": "code",
      "metadata": {
        "deletable": true,
        "editable": true,
        "id": "D5PIljnYveDN",
        "colab": {
          "base_uri": "https://localhost:8080/"
        },
        "outputId": "7c9c1c37-f298-4c06-e3c5-089a50c793a7"
      },
      "source": [
        "# Explicitly tell `gcloud ai-platform local train` to use Python 3 \n",
        "! gcloud config set ml_engine/local_python $(which python3)\n",
        "\n",
        "# This is similar to `python -m trainer.task --job-dir local-training-output`\n",
        "# but it better replicates the AI Platform environment, especially for\n",
        "# distributed training (not applicable here).\n",
        "! gcloud ai-platform local train \\\n",
        "  --package-path trainer \\\n",
        "  --module-name trainer.task \\\n",
        "  --job-dir local-training-output"
      ],
      "execution_count": null,
      "outputs": [
        {
          "output_type": "stream",
          "name": "stdout",
          "text": [
            "Updated property [ml_engine/local_python].\n",
            "WARNING:tensorflow:From /usr/local/lib/python3.7/dist-packages/tensorflow_core/python/keras/initializers.py:119: calling RandomUniform.__init__ (from tensorflow.python.ops.init_ops) with dtype is deprecated and will be removed in a future version.\n",
            "Instructions for updating:\n",
            "Call initializer instance with the dtype argument instead of passing it to the constructor\n",
            "WARNING:tensorflow:From /usr/local/lib/python3.7/dist-packages/tensorflow_core/python/ops/resource_variable_ops.py:1630: calling BaseResourceVariable.__init__ (from tensorflow.python.ops.resource_variable_ops) with constraint is deprecated and will be removed in a future version.\n",
            "Instructions for updating:\n",
            "If using Keras pass *_constraint arguments to layers.\n",
            "WARNING:tensorflow:From /usr/local/lib/python3.7/dist-packages/tensorflow_core/python/ops/nn_impl.py:183: where (from tensorflow.python.ops.array_ops) is deprecated and will be removed in a future version.\n",
            "Instructions for updating:\n",
            "Use tf.where in 2.0, which has the same broadcast rule as np.where\n",
            "2021-09-03 23:58:02.887784: I tensorflow/core/platform/cpu_feature_guard.cc:142] Your CPU supports instructions that this TensorFlow binary was not compiled to use: AVX2 AVX512F FMA\n",
            "2021-09-03 23:58:02.890761: I tensorflow/core/platform/profile_utils/cpu_utils.cc:94] CPU Frequency: 2000175000 Hz\n",
            "2021-09-03 23:58:02.890961: I tensorflow/compiler/xla/service/service.cc:168] XLA service 0x55564cf51640 initialized for platform Host (this does not guarantee that XLA will be used). Devices:\n",
            "2021-09-03 23:58:02.890991: I tensorflow/compiler/xla/service/service.cc:176]   StreamExecutor device (0): Host, Default Version\n",
            "Train on 254 steps, validate on 1 steps\n",
            "\n",
            "Epoch 00001: LearningRateScheduler reducing learning rate to 0.02.\n",
            "Epoch 1/20\n",
            "2021-09-03 23:58:03.487914: I tensorflow/core/profiler/lib/profiler_session.cc:205] Profiler session started.\n",
            "254/254 [==============================] - 1s 3ms/step - loss: 0.5414 - acc: 0.7891 - val_loss: 0.3756 - val_acc: 0.8333\n",
            "\n",
            "Epoch 00002: LearningRateScheduler reducing learning rate to 0.015.\n",
            "Epoch 2/20\n",
            "254/254 [==============================] - 1s 2ms/step - loss: 0.3652 - acc: 0.8330 - val_loss: 0.3651 - val_acc: 0.8387\n",
            "\n",
            "Epoch 00003: LearningRateScheduler reducing learning rate to 0.0125.\n",
            "Epoch 3/20\n",
            "254/254 [==============================] - 1s 2ms/step - loss: 0.3437 - acc: 0.8420 - val_loss: 0.3241 - val_acc: 0.8508\n",
            "\n",
            "Epoch 00004: LearningRateScheduler reducing learning rate to 0.01125.\n",
            "Epoch 4/20\n",
            "254/254 [==============================] - 1s 2ms/step - loss: 0.3364 - acc: 0.8459 - val_loss: 0.3288 - val_acc: 0.8524\n",
            "\n",
            "Epoch 00005: LearningRateScheduler reducing learning rate to 0.010625.\n",
            "Epoch 5/20\n",
            "254/254 [==============================] - 1s 2ms/step - loss: 0.3343 - acc: 0.8478 - val_loss: 0.3354 - val_acc: 0.8485\n",
            "\n",
            "Epoch 00006: LearningRateScheduler reducing learning rate to 0.0103125.\n",
            "Epoch 6/20\n",
            "254/254 [==============================] - 1s 2ms/step - loss: 0.3311 - acc: 0.8471 - val_loss: 0.3252 - val_acc: 0.8498\n",
            "\n",
            "Epoch 00007: LearningRateScheduler reducing learning rate to 0.01015625.\n",
            "Epoch 7/20\n",
            "254/254 [==============================] - 1s 2ms/step - loss: 0.3305 - acc: 0.8474 - val_loss: 0.3239 - val_acc: 0.8509\n",
            "\n",
            "Epoch 00008: LearningRateScheduler reducing learning rate to 0.010078125.\n",
            "Epoch 8/20\n",
            "254/254 [==============================] - 1s 2ms/step - loss: 0.3275 - acc: 0.8492 - val_loss: 0.3292 - val_acc: 0.8524\n",
            "\n",
            "Epoch 00009: LearningRateScheduler reducing learning rate to 0.0100390625.\n",
            "Epoch 9/20\n",
            "254/254 [==============================] - 1s 2ms/step - loss: 0.3264 - acc: 0.8490 - val_loss: 0.3350 - val_acc: 0.8507\n",
            "\n",
            "Epoch 00010: LearningRateScheduler reducing learning rate to 0.01001953125.\n",
            "Epoch 10/20\n",
            "254/254 [==============================] - 1s 2ms/step - loss: 0.3260 - acc: 0.8484 - val_loss: 0.3246 - val_acc: 0.8483\n",
            "\n",
            "Epoch 00011: LearningRateScheduler reducing learning rate to 0.010009765625.\n",
            "Epoch 11/20\n",
            "254/254 [==============================] - 1s 2ms/step - loss: 0.3253 - acc: 0.8504 - val_loss: 0.3268 - val_acc: 0.8478\n",
            "\n",
            "Epoch 00012: LearningRateScheduler reducing learning rate to 0.010004882812500001.\n",
            "Epoch 12/20\n",
            "254/254 [==============================] - 1s 2ms/step - loss: 0.3240 - acc: 0.8481 - val_loss: 0.3246 - val_acc: 0.8512\n",
            "\n",
            "Epoch 00013: LearningRateScheduler reducing learning rate to 0.01000244140625.\n",
            "Epoch 13/20\n",
            "254/254 [==============================] - 1s 2ms/step - loss: 0.3236 - acc: 0.8497 - val_loss: 0.3214 - val_acc: 0.8504\n",
            "\n",
            "Epoch 00014: LearningRateScheduler reducing learning rate to 0.010001220703125.\n",
            "Epoch 14/20\n",
            "254/254 [==============================] - 1s 2ms/step - loss: 0.3234 - acc: 0.8510 - val_loss: 0.3213 - val_acc: 0.8548\n",
            "\n",
            "Epoch 00015: LearningRateScheduler reducing learning rate to 0.0100006103515625.\n",
            "Epoch 15/20\n",
            "254/254 [==============================] - 1s 2ms/step - loss: 0.3250 - acc: 0.8510 - val_loss: 0.3189 - val_acc: 0.8520\n",
            "\n",
            "Epoch 00016: LearningRateScheduler reducing learning rate to 0.01000030517578125.\n",
            "Epoch 16/20\n",
            "254/254 [==============================] - 1s 2ms/step - loss: 0.3225 - acc: 0.8502 - val_loss: 0.3280 - val_acc: 0.8521\n",
            "\n",
            "Epoch 00017: LearningRateScheduler reducing learning rate to 0.010000152587890625.\n",
            "Epoch 17/20\n",
            "254/254 [==============================] - 1s 2ms/step - loss: 0.3230 - acc: 0.8508 - val_loss: 0.3453 - val_acc: 0.8519\n",
            "\n",
            "Epoch 00018: LearningRateScheduler reducing learning rate to 0.010000076293945313.\n",
            "Epoch 18/20\n",
            "254/254 [==============================] - 1s 2ms/step - loss: 0.3223 - acc: 0.8520 - val_loss: 0.3244 - val_acc: 0.8516\n",
            "\n",
            "Epoch 00019: LearningRateScheduler reducing learning rate to 0.010000038146972657.\n",
            "Epoch 19/20\n",
            "254/254 [==============================] - 1s 2ms/step - loss: 0.3238 - acc: 0.8490 - val_loss: 0.3247 - val_acc: 0.8499\n",
            "\n",
            "Epoch 00020: LearningRateScheduler reducing learning rate to 0.010000019073486329.\n",
            "Epoch 20/20\n",
            "254/254 [==============================] - 1s 2ms/step - loss: 0.3216 - acc: 0.8521 - val_loss: 0.3253 - val_acc: 0.8526\n",
            "WARNING:tensorflow:From /content/drive/My Drive/Colab/Fourth.Brain/GCP/cloudml-samples/census/tf-keras/trainer/task.py:123: export_saved_model (from tensorflow.python.keras.saving.saved_model_experimental) is deprecated and will be removed in a future version.\n",
            "Instructions for updating:\n",
            "Please use `model.save(..., save_format=\"tf\")` or `tf.keras.models.save_model(..., save_format=\"tf\")`.\n",
            "WARNING:tensorflow:From /usr/local/lib/python3.7/dist-packages/tensorflow_core/python/ops/init_ops.py:97: calling Zeros.__init__ (from tensorflow.python.ops.init_ops) with dtype is deprecated and will be removed in a future version.\n",
            "Instructions for updating:\n",
            "Call initializer instance with the dtype argument instead of passing it to the constructor\n",
            "WARNING:tensorflow:From /usr/local/lib/python3.7/dist-packages/tensorflow_core/python/ops/init_ops.py:97: calling GlorotUniform.__init__ (from tensorflow.python.ops.init_ops) with dtype is deprecated and will be removed in a future version.\n",
            "Instructions for updating:\n",
            "Call initializer instance with the dtype argument instead of passing it to the constructor\n",
            "WARNING:tensorflow:From /usr/local/lib/python3.7/dist-packages/tensorflow_core/python/saved_model/signature_def_utils_impl.py:253: build_tensor_info (from tensorflow.python.saved_model.utils_impl) is deprecated and will be removed in a future version.\n",
            "Instructions for updating:\n",
            "This function will only be available through the v1 compatibility library as tf.compat.v1.saved_model.utils.build_tensor_info or tf.compat.v1.saved_model.build_tensor_info.\n",
            "INFO:tensorflow:Signatures INCLUDED in export for Classify: None\n",
            "INFO:tensorflow:Signatures INCLUDED in export for Regress: None\n",
            "INFO:tensorflow:Signatures INCLUDED in export for Predict: None\n",
            "INFO:tensorflow:Signatures INCLUDED in export for Train: ['train']\n",
            "INFO:tensorflow:Signatures INCLUDED in export for Eval: None\n",
            "WARNING:tensorflow:Export includes no default signature!\n",
            "INFO:tensorflow:No assets to save.\n",
            "INFO:tensorflow:No assets to write.\n",
            "INFO:tensorflow:Signatures INCLUDED in export for Classify: None\n",
            "INFO:tensorflow:Signatures INCLUDED in export for Regress: None\n",
            "INFO:tensorflow:Signatures INCLUDED in export for Predict: None\n",
            "INFO:tensorflow:Signatures INCLUDED in export for Train: None\n",
            "INFO:tensorflow:Signatures INCLUDED in export for Eval: ['eval']\n",
            "WARNING:tensorflow:Export includes no default signature!\n",
            "INFO:tensorflow:No assets to save.\n",
            "INFO:tensorflow:No assets to write.\n",
            "INFO:tensorflow:Signatures INCLUDED in export for Classify: None\n",
            "INFO:tensorflow:Signatures INCLUDED in export for Regress: None\n",
            "INFO:tensorflow:Signatures INCLUDED in export for Predict: ['serving_default']\n",
            "INFO:tensorflow:Signatures INCLUDED in export for Train: None\n",
            "INFO:tensorflow:Signatures INCLUDED in export for Eval: None\n",
            "INFO:tensorflow:No assets to save.\n",
            "INFO:tensorflow:No assets to write.\n",
            "INFO:tensorflow:SavedModel written to: local-training-output/keras_export/saved_model.pb\n",
            "Model exported to: local-training-output/keras_export\n",
            "WARNING:tensorflow:Unresolved object in checkpoint: (root).optimizer.decay\n",
            "WARNING:tensorflow:Unresolved object in checkpoint: (root).optimizer.learning_rate\n",
            "WARNING:tensorflow:Unresolved object in checkpoint: (root).optimizer.momentum\n",
            "WARNING:tensorflow:Unresolved object in checkpoint: (root).optimizer.rho\n",
            "WARNING:tensorflow:Unresolved object in checkpoint: (root).optimizer's state 'rms' for (root).layer_with_weights-0.kernel\n",
            "WARNING:tensorflow:Unresolved object in checkpoint: (root).optimizer's state 'rms' for (root).layer_with_weights-0.bias\n",
            "WARNING:tensorflow:Unresolved object in checkpoint: (root).optimizer's state 'rms' for (root).layer_with_weights-1.kernel\n",
            "WARNING:tensorflow:Unresolved object in checkpoint: (root).optimizer's state 'rms' for (root).layer_with_weights-1.bias\n",
            "WARNING:tensorflow:Unresolved object in checkpoint: (root).optimizer's state 'rms' for (root).layer_with_weights-2.kernel\n",
            "WARNING:tensorflow:Unresolved object in checkpoint: (root).optimizer's state 'rms' for (root).layer_with_weights-2.bias\n",
            "WARNING:tensorflow:Unresolved object in checkpoint: (root).optimizer's state 'rms' for (root).layer_with_weights-3.kernel\n",
            "WARNING:tensorflow:Unresolved object in checkpoint: (root).optimizer's state 'rms' for (root).layer_with_weights-3.bias\n",
            "WARNING:tensorflow:Unresolved object in checkpoint: (root).optimizer's state 'rms' for (root).layer_with_weights-4.kernel\n",
            "WARNING:tensorflow:Unresolved object in checkpoint: (root).optimizer's state 'rms' for (root).layer_with_weights-4.bias\n",
            "WARNING:tensorflow:A checkpoint was restored (e.g. tf.train.Checkpoint.restore or tf.keras.Model.load_weights) but not all checkpointed values were used. See above for specific issues. Use expect_partial() on the load status object, e.g. tf.train.Checkpoint.restore(...).expect_partial(), to silence these warnings, or use assert_consumed() to make the check explicit. See https://www.tensorflow.org/alpha/guide/checkpoints#loading_mechanics for details.\n",
            "WARNING:tensorflow:Unresolved object in checkpoint: (root).optimizer\n",
            "WARNING:tensorflow:Unresolved object in checkpoint: (root).optimizer.iter\n",
            "WARNING:tensorflow:Unresolved object in checkpoint: (root).optimizer.decay\n",
            "WARNING:tensorflow:Unresolved object in checkpoint: (root).optimizer.learning_rate\n",
            "WARNING:tensorflow:Unresolved object in checkpoint: (root).optimizer.momentum\n",
            "WARNING:tensorflow:Unresolved object in checkpoint: (root).optimizer.rho\n",
            "WARNING:tensorflow:Unresolved object in checkpoint: (root).optimizer's state 'rms' for (root).layer_with_weights-0.kernel\n",
            "WARNING:tensorflow:Unresolved object in checkpoint: (root).optimizer's state 'rms' for (root).layer_with_weights-0.bias\n",
            "WARNING:tensorflow:Unresolved object in checkpoint: (root).optimizer's state 'rms' for (root).layer_with_weights-1.kernel\n",
            "WARNING:tensorflow:Unresolved object in checkpoint: (root).optimizer's state 'rms' for (root).layer_with_weights-1.bias\n",
            "WARNING:tensorflow:Unresolved object in checkpoint: (root).optimizer's state 'rms' for (root).layer_with_weights-2.kernel\n",
            "WARNING:tensorflow:Unresolved object in checkpoint: (root).optimizer's state 'rms' for (root).layer_with_weights-2.bias\n",
            "WARNING:tensorflow:Unresolved object in checkpoint: (root).optimizer's state 'rms' for (root).layer_with_weights-3.kernel\n",
            "WARNING:tensorflow:Unresolved object in checkpoint: (root).optimizer's state 'rms' for (root).layer_with_weights-3.bias\n",
            "WARNING:tensorflow:Unresolved object in checkpoint: (root).optimizer's state 'rms' for (root).layer_with_weights-4.kernel\n",
            "WARNING:tensorflow:Unresolved object in checkpoint: (root).optimizer's state 'rms' for (root).layer_with_weights-4.bias\n",
            "WARNING:tensorflow:A checkpoint was restored (e.g. tf.train.Checkpoint.restore or tf.keras.Model.load_weights) but not all checkpointed values were used. See above for specific issues. Use expect_partial() on the load status object, e.g. tf.train.Checkpoint.restore(...).expect_partial(), to silence these warnings, or use assert_consumed() to make the check explicit. See https://www.tensorflow.org/alpha/guide/checkpoints#loading_mechanics for details.\n"
          ]
        }
      ]
    },
    {
      "cell_type": "code",
      "metadata": {
        "colab": {
          "base_uri": "https://localhost:8080/"
        },
        "id": "suVJsX8pGZHt",
        "outputId": "811dc798-d704-4f21-ef6f-dd169bb92cf1"
      },
      "source": [
        "!ls -ltr local-training-output/keras_export"
      ],
      "execution_count": null,
      "outputs": [
        {
          "output_type": "stream",
          "name": "stdout",
          "text": [
            "total 216\n",
            "drwx------ 2 root root   4096 Sep  3 23:58 variables\n",
            "-rw------- 1 root root 212386 Sep  3 23:58 saved_model.pb\n",
            "drwx------ 2 root root   4096 Sep  3 23:58 assets\n"
          ]
        }
      ]
    },
    {
      "cell_type": "markdown",
      "metadata": {
        "deletable": true,
        "editable": true,
        "id": "rAX4hZip53SR"
      },
      "source": [
        "### Train your model using AI Platform\n",
        "\n",
        "Next, submit a training job to AI Platform. This runs the training module\n",
        "in the cloud and exports the trained model to Cloud Storage.\n",
        "\n",
        "First, give your training job a name and choose a directory within your Cloud\n",
        "Storage bucket for saving intermediate and output files:"
      ]
    },
    {
      "cell_type": "code",
      "metadata": {
        "deletable": true,
        "editable": true,
        "id": "05lDch9-0-2v",
        "colab": {
          "base_uri": "https://localhost:8080/"
        },
        "outputId": "25067248-c14d-4656-a4fb-20d3416327af"
      },
      "source": [
        "####ENTER HERE#############################################\n",
        "JOB_NAME = 'chintalapati2_4B_keras_job' #Pick any name <Lastname_4B_keras_job>\n",
        "JOB_DIR = 'gs://' + BUCKET_NAME + '/keras-job-dir'\n",
        "print(JOB_DIR)"
      ],
      "execution_count": null,
      "outputs": [
        {
          "output_type": "stream",
          "name": "stdout",
          "text": [
            "gs://rajashekar_ch_bucket/keras-job-dir\n"
          ]
        }
      ]
    },
    {
      "cell_type": "markdown",
      "metadata": {
        "deletable": true,
        "editable": true,
        "id": "yp9nyrZ01a2q"
      },
      "source": [
        "Run the following command to package the `trainer/` directory, upload it to the\n",
        "specified `--job-dir`, and instruct AI Platform to run the\n",
        "`trainer.task` module from that package.\n",
        "\n",
        "The `--stream-logs` flag lets you view training logs in the cell below. You can\n",
        "also see logs and other job details in the GCP Console."
      ]
    },
    {
      "cell_type": "markdown",
      "metadata": {
        "id": "J2WGqwAzc3xM"
      },
      "source": [
        "### Hyperparameter tuning\n",
        "## (This process will take the most time)!!!\n",
        "\n",
        "You can optionally perform hyperparameter tuning by using the included\n",
        "`hptuning_config.yaml` configuration file. This file tells AI Platform to tune the batch size and learning rate for training over multiple trials to maximize accuracy.\n",
        "\n",
        "In this example, the training code uses a [TensorBoard\n",
        "callback](https://www.tensorflow.org/api_docs/python/tf/keras/callbacks/TensorBoard),\n",
        "which [creates TensorFlow `Summary`\n",
        "`Event`s](https://www.tensorflow.org/api_docs/python/tf/summary/FileWriter#add_summary)\n",
        "during training. AI Platform uses these events to track the metric you want to\n",
        "optimize. Learn more about [hyperparameter tuning in\n",
        "AI Platform Training](https://cloud.google.com/ml-engine/docs/tensorflow/hyperparameter-tuning-overview).\n",
        "\n",
        "# While you wait for this step to complete, you can check on GCP console that you job is running!"
      ]
    },
    {
      "cell_type": "code",
      "metadata": {
        "deletable": true,
        "editable": true,
        "id": "1haRe54v53CN",
        "colab": {
          "base_uri": "https://localhost:8080/"
        },
        "outputId": "a5ea6d2b-6f64-4695-dab1-63ad20943ea3"
      },
      "source": [
        "! gcloud ai-platform jobs submit training $JOB_NAME \\\n",
        "  --package-path trainer/ \\\n",
        "  --module-name trainer.task \\\n",
        "  --region $REGION \\\n",
        "  --python-version 3.7 \\\n",
        "  --runtime-version 1.15 \\\n",
        "  --job-dir $JOB_DIR \\\n",
        "  --stream-logs"
      ],
      "execution_count": null,
      "outputs": [
        {
          "output_type": "stream",
          "name": "stdout",
          "text": [
            "Job [chintalapati2_4B_keras_job] submitted successfully.\n",
            "INFO\t2021-09-04 00:10:07 +0000\tservice\t\tValidating job requirements...\n",
            "INFO\t2021-09-04 00:10:07 +0000\tservice\t\tJob creation request has been successfully validated.\n",
            "INFO\t2021-09-04 00:10:08 +0000\tservice\t\tJob chintalapati2_4B_keras_job is queued.\n",
            "INFO\t2021-09-04 00:10:08 +0000\tservice\t\tWaiting for job to be provisioned.\n",
            "INFO\t2021-09-04 00:10:10 +0000\tservice\t\tWaiting for training program to start.\n",
            "INFO\t2021-09-04 00:11:01 +0000\tmaster-replica-0\t\tRunning task with arguments: --cluster={\"master\": [\"127.0.0.1:2222\"]} --task={\"type\": \"master\", \"index\": 0} --job={  \"package_uris\": [\"gs://rajashekar_ch_bucket/keras-job-dir/packages/7ed4e8c7b8170beebd70612062d2f0b51f17bd53c93ee6c2de541a1de92be680/trainer-0.0.0.tar.gz\"],  \"python_module\": \"trainer.task\",  \"region\": \"us-east1\",  \"runtime_version\": \"1.15\",  \"job_dir\": \"gs://rajashekar_ch_bucket/keras-job-dir\",  \"run_on_raw_vm\": true,  \"python_version\": \"3.7\"}\n",
            "WARNING\t2021-09-04 00:11:08 +0000\tmaster-replica-0\t\tFrom /runcloudml.py:699: The name tf.ConfigProto is deprecated. Please use tf.compat.v1.ConfigProto instead.\n",
            "WARNING\t2021-09-04 00:11:08 +0000\tmaster-replica-0\t\tFrom /runcloudml.py:700: The name tf.GraphOptions is deprecated. Please use tf.compat.v1.GraphOptions instead.\n",
            "WARNING\t2021-09-04 00:11:08 +0000\tmaster-replica-0\t\tFrom /runcloudml.py:701: The name tf.OptimizerOptions is deprecated. Please use tf.compat.v1.OptimizerOptions instead.\n",
            "WARNING\t2021-09-04 00:11:08 +0000\tmaster-replica-0\t\tFrom /runcloudml.py:704: The name tf.Session is deprecated. Please use tf.compat.v1.Session instead.\n",
            "WARNING\t2021-09-04 00:11:08 +0000\tmaster-replica-0\t\tFrom /runcloudml.py:705: The name tf.global_variables_initializer is deprecated. Please use tf.compat.v1.global_variables_initializer instead.\n",
            "INFO\t2021-09-04 00:11:12 +0000\tmaster-replica-0\t\tRunning module trainer.task.\n",
            "INFO\t2021-09-04 00:11:12 +0000\tmaster-replica-0\t\tDownloading the package: gs://rajashekar_ch_bucket/keras-job-dir/packages/7ed4e8c7b8170beebd70612062d2f0b51f17bd53c93ee6c2de541a1de92be680/trainer-0.0.0.tar.gz\n",
            "INFO\t2021-09-04 00:11:12 +0000\tmaster-replica-0\t\tRunning command: gsutil -q cp gs://rajashekar_ch_bucket/keras-job-dir/packages/7ed4e8c7b8170beebd70612062d2f0b51f17bd53c93ee6c2de541a1de92be680/trainer-0.0.0.tar.gz trainer-0.0.0.tar.gz\n",
            "INFO\t2021-09-04 00:11:13 +0000\tmaster-replica-0\t\tInstalling the package: gs://rajashekar_ch_bucket/keras-job-dir/packages/7ed4e8c7b8170beebd70612062d2f0b51f17bd53c93ee6c2de541a1de92be680/trainer-0.0.0.tar.gz\n",
            "INFO\t2021-09-04 00:11:13 +0000\tmaster-replica-0\t\tRunning command: pip3 install --user --upgrade --force-reinstall --no-deps trainer-0.0.0.tar.gz\n",
            "INFO\t2021-09-04 00:11:14 +0000\tmaster-replica-0\t\tProcessing ./trainer-0.0.0.tar.gz\n",
            "INFO\t2021-09-04 00:11:14 +0000\tmaster-replica-0\t\tGenerating grammar tables from /usr/lib/python3.7/lib2to3/Grammar.txt\n",
            "INFO\t2021-09-04 00:11:14 +0000\tmaster-replica-0\t\tGenerating grammar tables from /usr/lib/python3.7/lib2to3/PatternGrammar.txt\n",
            "INFO\t2021-09-04 00:11:14 +0000\tmaster-replica-0\t\tBuilding wheels for collected packages: trainer\n",
            "INFO\t2021-09-04 00:11:14 +0000\tmaster-replica-0\t\t  Building wheel for trainer (setup.py): started\n",
            "INFO\t2021-09-04 00:11:15 +0000\tmaster-replica-0\t\tGenerating grammar tables from /usr/lib/python3.7/lib2to3/Grammar.txt\n",
            "INFO\t2021-09-04 00:11:15 +0000\tmaster-replica-0\t\tGenerating grammar tables from /usr/lib/python3.7/lib2to3/PatternGrammar.txt\n",
            "INFO\t2021-09-04 00:11:15 +0000\tmaster-replica-0\t\t  Building wheel for trainer (setup.py): finished with status 'done'\n",
            "INFO\t2021-09-04 00:11:15 +0000\tmaster-replica-0\t\t  Created wheel for trainer: filename=trainer-0.0.0-py3-none-any.whl size=7893 sha256=888c8f3450423251694a0547ffdeabd6cff5265c3fae5fa450c27a7b0ffa2f2f\n",
            "INFO\t2021-09-04 00:11:15 +0000\tmaster-replica-0\t\t  Stored in directory: /root/.cache/pip/wheels/23/ad/57/8e99a4eeb034edca80b0624cb205859d79e985819276530408\n",
            "INFO\t2021-09-04 00:11:15 +0000\tmaster-replica-0\t\tSuccessfully built trainer\n",
            "INFO\t2021-09-04 00:11:15 +0000\tmaster-replica-0\t\tInstalling collected packages: trainer\n",
            "INFO\t2021-09-04 00:11:15 +0000\tmaster-replica-0\t\tSuccessfully installed trainer-0.0.0\n",
            "ERROR\t2021-09-04 00:11:15 +0000\tmaster-replica-0\t\tWARNING: You are using pip version 20.1; however, version 21.2.4 is available.\n",
            "ERROR\t2021-09-04 00:11:15 +0000\tmaster-replica-0\t\tYou should consider upgrading via the '/usr/local/bin/python3 -m pip install --upgrade pip' command.\n",
            "INFO\t2021-09-04 00:11:15 +0000\tmaster-replica-0\t\tRunning command: pip3 install --user trainer-0.0.0.tar.gz\n",
            "INFO\t2021-09-04 00:11:16 +0000\tmaster-replica-0\t\tProcessing ./trainer-0.0.0.tar.gz\n",
            "INFO\t2021-09-04 00:11:16 +0000\tmaster-replica-0\t\tGenerating grammar tables from /usr/lib/python3.7/lib2to3/Grammar.txt\n",
            "INFO\t2021-09-04 00:11:16 +0000\tmaster-replica-0\t\tGenerating grammar tables from /usr/lib/python3.7/lib2to3/PatternGrammar.txt\n",
            "INFO\t2021-09-04 00:11:16 +0000\tmaster-replica-0\t\tBuilding wheels for collected packages: trainer\n",
            "INFO\t2021-09-04 00:11:16 +0000\tmaster-replica-0\t\t  Building wheel for trainer (setup.py): started\n",
            "INFO\t2021-09-04 00:11:16 +0000\tmaster-replica-0\t\tGenerating grammar tables from /usr/lib/python3.7/lib2to3/Grammar.txt\n",
            "INFO\t2021-09-04 00:11:16 +0000\tmaster-replica-0\t\tGenerating grammar tables from /usr/lib/python3.7/lib2to3/PatternGrammar.txt\n",
            "INFO\t2021-09-04 00:11:16 +0000\tmaster-replica-0\t\t  Building wheel for trainer (setup.py): finished with status 'done'\n",
            "INFO\t2021-09-04 00:11:16 +0000\tmaster-replica-0\t\t  Created wheel for trainer: filename=trainer-0.0.0-py3-none-any.whl size=7893 sha256=241e4854c5170c3f16ae2a6933951cdf90536b53ce2570d6bb91b5404197ee22\n",
            "INFO\t2021-09-04 00:11:16 +0000\tmaster-replica-0\t\t  Stored in directory: /root/.cache/pip/wheels/23/ad/57/8e99a4eeb034edca80b0624cb205859d79e985819276530408\n",
            "INFO\t2021-09-04 00:11:16 +0000\tmaster-replica-0\t\tSuccessfully built trainer\n",
            "INFO\t2021-09-04 00:11:17 +0000\tmaster-replica-0\t\tInstalling collected packages: trainer\n",
            "INFO\t2021-09-04 00:11:17 +0000\tmaster-replica-0\t\t  Attempting uninstall: trainer\n",
            "INFO\t2021-09-04 00:11:17 +0000\tmaster-replica-0\t\t    Found existing installation: trainer 0.0.0\n",
            "INFO\t2021-09-04 00:11:17 +0000\tmaster-replica-0\t\t    Uninstalling trainer-0.0.0:\n",
            "INFO\t2021-09-04 00:11:17 +0000\tmaster-replica-0\t\t      Successfully uninstalled trainer-0.0.0\n",
            "INFO\t2021-09-04 00:11:17 +0000\tmaster-replica-0\t\tSuccessfully installed trainer-0.0.0\n",
            "ERROR\t2021-09-04 00:11:17 +0000\tmaster-replica-0\t\tWARNING: You are using pip version 20.1; however, version 21.2.4 is available.\n",
            "ERROR\t2021-09-04 00:11:17 +0000\tmaster-replica-0\t\tYou should consider upgrading via the '/usr/local/bin/python3 -m pip install --upgrade pip' command.\n",
            "INFO\t2021-09-04 00:11:17 +0000\tmaster-replica-0\t\tRunning command: python3 -m trainer.task --job-dir gs://rajashekar_ch_bucket/keras-job-dir\n",
            "WARNING\t2021-09-04 00:11:20 +0000\tmaster-replica-0\t\tFrom /usr/local/lib/python3.7/dist-packages/tensorflow_core/python/keras/initializers.py:119: calling RandomUniform.__init__ (from tensorflow.python.ops.init_ops) with dtype is deprecated and will be removed in a future version.\n",
            "WARNING\t2021-09-04 00:11:20 +0000\tmaster-replica-0\t\tInstructions for updating:\n",
            "WARNING\t2021-09-04 00:11:20 +0000\tmaster-replica-0\t\tCall initializer instance with the dtype argument instead of passing it to the constructor\n",
            "WARNING\t2021-09-04 00:11:20 +0000\tmaster-replica-0\t\tFrom /usr/local/lib/python3.7/dist-packages/tensorflow_core/python/ops/resource_variable_ops.py:1630: calling BaseResourceVariable.__init__ (from tensorflow.python.ops.resource_variable_ops) with constraint is deprecated and will be removed in a future version.\n",
            "WARNING\t2021-09-04 00:11:20 +0000\tmaster-replica-0\t\tInstructions for updating:\n",
            "WARNING\t2021-09-04 00:11:20 +0000\tmaster-replica-0\t\tIf using Keras pass *_constraint arguments to layers.\n",
            "WARNING\t2021-09-04 00:11:20 +0000\tmaster-replica-0\t\tFrom /usr/local/lib/python3.7/dist-packages/tensorflow_core/python/ops/nn_impl.py:183: where (from tensorflow.python.ops.array_ops) is deprecated and will be removed in a future version.\n",
            "WARNING\t2021-09-04 00:11:20 +0000\tmaster-replica-0\t\tInstructions for updating:\n",
            "WARNING\t2021-09-04 00:11:20 +0000\tmaster-replica-0\t\tUse tf.where in 2.0, which has the same broadcast rule as np.where\n",
            "WARNING\t2021-09-04 00:11:20 +0000\tmaster-replica-0\t\tOMP_NUM_THREADS is no longer used by the default Keras config. To configure the number of threads, use tf.config.threading APIs.\n",
            "INFO\t2021-09-04 00:11:20 +0000\tmaster-replica-0\t\tYour CPU supports instructions that this TensorFlow binary was not compiled to use: AVX2 FMA\n",
            "INFO\t2021-09-04 00:11:20 +0000\tmaster-replica-0\t\tCPU Frequency: 2299995000 Hz\n",
            "INFO\t2021-09-04 00:11:20 +0000\tmaster-replica-0\t\tXLA service 0x4cd89b0 initialized for platform Host (this does not guarantee that XLA will be used). Devices:\n",
            "INFO\t2021-09-04 00:11:20 +0000\tmaster-replica-0\t\t  StreamExecutor device (0): Host, Default Version\n",
            "INFO\t2021-09-04 00:11:22 +0000\tmaster-replica-0\t\tProfiler session started.\n",
            "INFO\t2021-09-04 00:11:22 +0000\tmaster-replica-0\t\tTrain on 254 steps, validate on 1 steps\n",
            "INFO\t2021-09-04 00:11:22 +0000\tmaster-replica-0\t\tEpoch 00001: LearningRateScheduler reducing learning rate to 0.02.\n",
            "INFO\t2021-09-04 00:11:22 +0000\tmaster-replica-0\t\tEpoch 1/20\n",
            "WARNING\t2021-09-04 00:11:23 +0000\tmaster-replica-0\t\tMethod (on_train_batch_end) is slow compared to the batch update (0.652398). Check your callbacks.\n",
            "INFO\t2021-09-04 00:11:23 +0000\tmaster-replica-0\t\t  1/254 [..............................] - ETA: 1:07 - loss: 0.6484 - acc: 0.7578\b\b\b\b\b\b\b\b\b\b\b\b\b\b\b\b\b\b\b\b\b\b\b\b\b\b\b\b\b\b\b\b\b\b\b\b\b\b\b\b\b\b\b\b\b\b\b\b\b\b\b\b\b\b\b\b\b\b\b\b\b\b\b\b\b\b\b\b\b\b\b\b\b\b\b\b\b\b\b\b\b\n",
            "INFO\t2021-09-04 00:11:23 +0000\tmaster-replica-0\t\t  2/254 [..............................] - ETA: 3:18 - loss: 14.4366 - acc: 0.7422\b\b\b\b\b\b\b\b\b\b\b\b\b\b\b\b\b\b\b\b\b\b\b\b\b\b\b\b\b\b\b\b\b\b\b\b\b\b\b\b\b\b\b\b\b\b\b\b\b\b\b\b\b\b\b\b\b\b\b\b\b\b\b\b\b\b\b\b\b\b\b\b\b\b\b\b\b\b\b\b\b\b\n",
            "INFO\t2021-09-04 00:11:23 +0000\tmaster-replica-0\t\t 23/254 [=>............................] - ETA: 16s - loss: 1.8287 - acc: 0.7575  \b\b\b\b\b\b\b\b\b\b\b\b\b\b\b\b\b\b\b\b\b\b\b\b\b\b\b\b\b\b\b\b\b\b\b\b\b\b\b\b\b\b\b\b\b\b\b\b\b\b\b\b\b\b\b\b\b\b\b\b\b\b\b\b\b\b\b\b\b\b\b\b\b\b\b\b\b\b\b\b\n",
            "INFO\t2021-09-04 00:11:23 +0000\tmaster-replica-0\t\t 46/254 [====>.........................] - ETA: 7s - loss: 1.1637 - acc: 0.7582 \b\b\b\b\b\b\b\b\b\b\b\b\b\b\b\b\b\b\b\b\b\b\b\b\b\b\b\b\b\b\b\b\b\b\b\b\b\b\b\b\b\b\b\b\b\b\b\b\b\b\b\b\b\b\b\b\b\b\b\b\b\b\b\b\b\b\b\b\b\b\b\b\b\b\b\b\b\b\b\n",
            "INFO\t2021-09-04 00:11:23 +0000\tmaster-replica-0\t\t 67/254 [======>.......................] - ETA: 4s - loss: 0.9474 - acc: 0.7645\b\b\b\b\b\b\b\b\b\b\b\b\b\b\b\b\b\b\b\b\b\b\b\b\b\b\b\b\b\b\b\b\b\b\b\b\b\b\b\b\b\b\b\b\b\b\b\b\b\b\b\b\b\b\b\b\b\b\b\b\b\b\b\b\b\b\b\b\b\b\b\b\b\b\b\b\b\b\b\n",
            "INFO\t2021-09-04 00:11:23 +0000\tmaster-replica-0\t\t 91/254 [=========>....................] - ETA: 3s - loss: 0.8246 - acc: 0.7714\b\b\b\b\b\b\b\b\b\b\b\b\b\b\b\b\b\b\b\b\b\b\b\b\b\b\b\b\b\b\b\b\b\b\b\b\b\b\b\b\b\b\b\b\b\b\b\b\b\b\b\b\b\b\b\b\b\b\b\b\b\b\b\b\b\b\b\b\b\b\b\b\b\b\b\b\b\b\b\n",
            "INFO\t2021-09-04 00:11:23 +0000\tmaster-replica-0\t\t114/254 [============>.................] - ETA: 2s - loss: 0.7515 - acc: 0.7741\b\b\b\b\b\b\b\b\b\b\b\b\b\b\b\b\b\b\b\b\b\b\b\b\b\b\b\b\b\b\b\b\b\b\b\b\b\b\b\b\b\b\b\b\b\b\b\b\b\b\b\b\b\b\b\b\b\b\b\b\b\b\b\b\b\b\b\b\b\b\b\b\b\b\b\b\b\b\b\n",
            "INFO\t2021-09-04 00:11:23 +0000\tmaster-replica-0\t\t138/254 [===============>..............] - ETA: 1s - loss: 0.7047 - acc: 0.7751\b\b\b\b\b\b\b\b\b\b\b\b\b\b\b\b\b\b\b\b\b\b\b\b\b\b\b\b\b\b\b\b\b\b\b\b\b\b\b\b\b\b\b\b\b\b\b\b\b\b\b\b\b\b\b\b\b\b\b\b\b\b\b\b\b\b\b\b\b\b\b\b\b\b\b\b\b\b\b\n",
            "INFO\t2021-09-04 00:11:24 +0000\tmaster-replica-0\t\t159/254 [=================>............] - ETA: 1s - loss: 0.6644 - acc: 0.7802\b\b\b\b\b\b\b\b\b\b\b\b\b\b\b\b\b\b\b\b\b\b\b\b\b\b\b\b\b\b\b\b\b\b\b\b\b\b\b\b\b\b\b\b\b\b\b\b\b\b\b\b\b\b\b\b\b\b\b\b\b\b\b\b\b\b\b\b\b\b\b\b\b\b\b\b\b\b\b\n",
            "INFO\t2021-09-04 00:11:24 +0000\tmaster-replica-0\t\t183/254 [====================>.........] - ETA: 0s - loss: 0.6342 - acc: 0.7840\b\b\b\b\b\b\b\b\b\b\b\b\b\b\b\b\b\b\b\b\b\b\b\b\b\b\b\b\b\b\b\b\b\b\b\b\b\b\b\b\b\b\b\b\b\b\b\b\b\b\b\b\b\b\b\b\b\b\b\b\b\b\b\b\b\b\b\b\b\b\b\b\b\b\b\b\b\b\b\n",
            "INFO\t2021-09-04 00:11:24 +0000\tmaster-replica-0\t\t206/254 [=======================>......] - ETA: 0s - loss: 0.6064 - acc: 0.7892\b\b\b\b\b\b\b\b\b\b\b\b\b\b\b\b\b\b\b\b\b\b\b\b\b\b\b\b\b\b\b\b\b\b\b\b\b\b\b\b\b\b\b\b\b\b\b\b\b\b\b\b\b\b\b\b\b\b\b\b\b\b\b\b\b\b\b\b\b\b\b\b\b\b\b\b\b\b\b\n",
            "INFO\t2021-09-04 00:11:24 +0000\tmaster-replica-0\t\t228/254 [=========================>....] - ETA: 0s - loss: 0.5877 - acc: 0.7912\b\b\b\b\b\b\b\b\b\b\b\b\b\b\b\b\b\b\b\b\b\b\b\b\b\b\b\b\b\b\b\b\b\b\b\b\b\b\b\b\b\b\b\b\b\b\b\b\b\b\b\b\b\b\b\b\b\b\b\b\b\b\b\b\b\b\b\b\b\b\b\b\b\b\b\b\b\b\b\n",
            "INFO\t2021-09-04 00:11:24 +0000\tmaster-replica-0\t\t252/254 [============================>.] - ETA: 0s - loss: 0.5693 - acc: 0.7940\b\b\b\b\b\b\b\b\b\b\b\b\b\b\b\b\b\b\b\b\b\b\b\b\b\b\b\b\b\b\b\b\b\b\b\b\b\b\b\b\b\b\b\b\b\b\b\b\b\b\b\b\b\b\b\b\b\b\b\b\b\b\b\b\b\b\b\b\b\b\b\b\b\b\b\b\b\b\b\n",
            "INFO\t2021-09-04 00:11:24 +0000\tmaster-replica-0\t\t254/254 [==============================] - 3s 10ms/step - loss: 0.5677 - acc: 0.7942 - val_loss: 0.3808 - val_acc: 0.8339\n",
            "INFO\t2021-09-04 00:11:24 +0000\tmaster-replica-0\t\tEpoch 00002: LearningRateScheduler reducing learning rate to 0.015.\n",
            "INFO\t2021-09-04 00:11:24 +0000\tmaster-replica-0\t\tEpoch 2/20\n",
            "INFO\t2021-09-04 00:11:24 +0000\tmaster-replica-0\t\t  1/254 [..............................] - ETA: 0s - loss: 0.3667 - acc: 0.8438\b\b\b\b\b\b\b\b\b\b\b\b\b\b\b\b\b\b\b\b\b\b\b\b\b\b\b\b\b\b\b\b\b\b\b\b\b\b\b\b\b\b\b\b\b\b\b\b\b\b\b\b\b\b\b\b\b\b\b\b\b\b\b\b\b\b\b\b\b\b\b\b\b\b\b\b\b\b\b\n",
            "INFO\t2021-09-04 00:11:24 +0000\tmaster-replica-0\t\t 19/254 [=>............................] - ETA: 0s - loss: 0.3784 - acc: 0.8228\b\b\b\b\b\b\b\b\b\b\b\b\b\b\b\b\b\b\b\b\b\b\b\b\b\b\b\b\b\b\b\b\b\b\b\b\b\b\b\b\b\b\b\b\b\b\b\b\b\b\b\b\b\b\b\b\b\b\b\b\b\b\b\b\b\b\b\b\b\b\b\b\b\b\b\b\b\b\b\n",
            "INFO\t2021-09-04 00:11:24 +0000\tmaster-replica-0\t\t 41/254 [===>..........................] - ETA: 0s - loss: 0.3873 - acc: 0.8163\b\b\b\b\b\b\b\b\b\b\b\b\b\b\b\b\b\b\b\b\b\b\b\b\b\b\b\b\b\b\b\b\b\b\b\b\b\b\b\b\b\b\b\b\b\b\b\b\b\b\b\b\b\b\b\b\b\b\b\b\b\b\b\b\b\b\b\b\b\b\b\b\b\b\b\b\b\b\b\n",
            "INFO\t2021-09-04 00:11:24 +0000\tmaster-replica-0\t\t 61/254 [======>.......................] - ETA: 0s - loss: 0.3885 - acc: 0.8194\b\b\b\b\b\b\b\b\b\b\b\b\b\b\b\b\b\b\b\b\b\b\b\b\b\b\b\b\b\b\b\b\b\b\b\b\b\b\b\b\b\b\b\b\b\b\b\b\b\b\b\b\b\b\b\b\b\b\b\b\b\b\b\b\b\b\b\b\b\b\b\b\b\b\b\b\b\b\b\n",
            "INFO\t2021-09-04 00:11:24 +0000\tmaster-replica-0\t\t 84/254 [========>.....................] - ETA: 0s - loss: 0.3852 - acc: 0.8214\b\b\b\b\b\b\b\b\b\b\b\b\b\b\b\b\b\b\b\b\b\b\b\b\b\b\b\b\b\b\b\b\b\b\b\b\b\b\b\b\b\b\b\b\b\b\b\b\b\b\b\b\b\b\b\b\b\b\b\b\b\b\b\b\b\b\b\b\b\b\b\b\b\b\b\b\b\b\b\n",
            "INFO\t2021-09-04 00:11:24 +0000\tmaster-replica-0\t\t106/254 [===========>..................] - ETA: 0s - loss: 0.3765 - acc: 0.8259\b\b\b\b\b\b\b\b\b\b\b\b\b\b\b\b\b\b\b\b\b\b\b\b\b\b\b\b\b\b\b\b\b\b\b\b\b\b\b\b\b\b\b\b\b\b\b\b\b\b\b\b\b\b\b\b\b\b\b\b\b\b\b\b\b\b\b\b\b\b\b\b\b\b\b\b\b\b\b\n",
            "INFO\t2021-09-04 00:11:24 +0000\tmaster-replica-0\t\t129/254 [==============>...............] - ETA: 0s - loss: 0.3744 - acc: 0.8272\b\b\b\b\b\b\b\b\b\b\b\b\b\b\b\b\b\b\b\b\b\b\b\b\b\b\b\b\b\b\b\b\b\b\b\b\b\b\b\b\b\b\b\b\b\b\b\b\b\b\b\b\b\b\b\b\b\b\b\b\b\b\b\b\b\b\b\b\b\b\b\b\b\b\b\b\b\b\b\n",
            "INFO\t2021-09-04 00:11:25 +0000\tmaster-replica-0\t\t149/254 [================>.............] - ETA: 0s - loss: 0.3745 - acc: 0.8274\b\b\b\b\b\b\b\b\b\b\b\b\b\b\b\b\b\b\b\b\b\b\b\b\b\b\b\b\b\b\b\b\b\b\b\b\b\b\b\b\b\b\b\b\b\b\b\b\b\b\b\b\b\b\b\b\b\b\b\b\b\b\b\b\b\b\b\b\b\b\b\b\b\b\b\b\b\b\b\n",
            "INFO\t2021-09-04 00:11:25 +0000\tmaster-replica-0\t\t172/254 [===================>..........] - ETA: 0s - loss: 0.3723 - acc: 0.8295\b\b\b\b\b\b\b\b\b\b\b\b\b\b\b\b\b\b\b\b\b\b\b\b\b\b\b\b\b\b\b\b\b\b\b\b\b\b\b\b\b\b\b\b\b\b\b\b\b\b\b\b\b\b\b\b\b\b\b\b\b\b\b\b\b\b\b\b\b\b\b\b\b\b\b\b\b\b\b\n",
            "INFO\t2021-09-04 00:11:25 +0000\tmaster-replica-0\t\t194/254 [=====================>........] - ETA: 0s - loss: 0.3706 - acc: 0.8301\b\b\b\b\b\b\b\b\b\b\b\b\b\b\b\b\b\b\b\b\b\b\b\b\b\b\b\b\b\b\b\b\b\b\b\b\b\b\b\b\b\b\b\b\b\b\b\b\b\b\b\b\b\b\b\b\b\b\b\b\b\b\b\b\b\b\b\b\b\b\b\b\b\b\b\b\b\b\b\n",
            "INFO\t2021-09-04 00:11:25 +0000\tmaster-replica-0\t\t218/254 [========================>.....] - ETA: 0s - loss: 0.3688 - acc: 0.8311\b\b\b\b\b\b\b\b\b\b\b\b\b\b\b\b\b\b\b\b\b\b\b\b\b\b\b\b\b\b\b\b\b\b\b\b\b\b\b\b\b\b\b\b\b\b\b\b\b\b\b\b\b\b\b\b\b\b\b\b\b\b\b\b\b\b\b\b\b\b\b\b\b\b\b\b\b\b\b\n",
            "INFO\t2021-09-04 00:11:25 +0000\tmaster-replica-0\t\t241/254 [===========================>..] - ETA: 0s - loss: 0.3671 - acc: 0.8321\b\b\b\b\b\b\b\b\b\b\b\b\b\b\b\b\b\b\b\b\b\b\b\b\b\b\b\b\b\b\b\b\b\b\b\b\b\b\b\b\b\b\b\b\b\b\b\b\b\b\b\b\b\b\b\b\b\b\b\b\b\b\b\b\b\b\b\b\b\b\b\b\b\b\b\b\b\b\b\n",
            "INFO\t2021-09-04 00:11:25 +0000\tmaster-replica-0\t\t254/254 [==============================] - 1s 4ms/step - loss: 0.3664 - acc: 0.8326 - val_loss: 0.3340 - val_acc: 0.8430\n",
            "INFO\t2021-09-04 00:11:25 +0000\tmaster-replica-0\t\tEpoch 00003: LearningRateScheduler reducing learning rate to 0.0125.\n",
            "INFO\t2021-09-04 00:11:25 +0000\tmaster-replica-0\t\tEpoch 3/20\n",
            "INFO\t2021-09-04 00:11:25 +0000\tmaster-replica-0\t\t  1/254 [..............................] - ETA: 0s - loss: 0.2772 - acc: 0.8906\b\b\b\b\b\b\b\b\b\b\b\b\b\b\b\b\b\b\b\b\b\b\b\b\b\b\b\b\b\b\b\b\b\b\b\b\b\b\b\b\b\b\b\b\b\b\b\b\b\b\b\b\b\b\b\b\b\b\b\b\b\b\b\b\b\b\b\b\b\b\b\b\b\b\b\b\b\b\b\n",
            "INFO\t2021-09-04 00:11:25 +0000\tmaster-replica-0\t\t 22/254 [=>............................] - ETA: 0s - loss: 0.3483 - acc: 0.8370\b\b\b\b\b\b\b\b\b\b\b\b\b\b\b\b\b\b\b\b\b\b\b\b\b\b\b\b\b\b\b\b\b\b\b\b\b\b\b\b\b\b\b\b\b\b\b\b\b\b\b\b\b\b\b\b\b\b\b\b\b\b\b\b\b\b\b\b\b\b\b\b\b\b\b\b\b\b\b\n",
            "INFO\t2021-09-04 00:11:25 +0000\tmaster-replica-0\t\t 46/254 [====>.........................] - ETA: 0s - loss: 0.3419 - acc: 0.8373\b\b\b\b\b\b\b\b\b\b\b\b\b\b\b\b\b\b\b\b\b\b\b\b\b\b\b\b\b\b\b\b\b\b\b\b\b\b\b\b\b\b\b\b\b\b\b\b\b\b\b\b\b\b\b\b\b\b\b\b\b\b\b\b\b\b\b\b\b\b\b\b\b\b\b\b\b\b\b\n",
            "INFO\t2021-09-04 00:11:25 +0000\tmaster-replica-0\t\t 68/254 [=======>......................] - ETA: 0s - loss: 0.3411 - acc: 0.8389\b\b\b\b\b\b\b\b\b\b\b\b\b\b\b\b\b\b\b\b\b\b\b\b\b\b\b\b\b\b\b\b\b\b\b\b\b\b\b\b\b\b\b\b\b\b\b\b\b\b\b\b\b\b\b\b\b\b\b\b\b\b\b\b\b\b\b\b\b\b\b\b\b\b\b\b\b\b\b\n",
            "INFO\t2021-09-04 00:11:25 +0000\tmaster-replica-0\t\t 92/254 [=========>....................] - ETA: 0s - loss: 0.3449 - acc: 0.8367\b\b\b\b\b\b\b\b\b\b\b\b\b\b\b\b\b\b\b\b\b\b\b\b\b\b\b\b\b\b\b\b\b\b\b\b\b\b\b\b\b\b\b\b\b\b\b\b\b\b\b\b\b\b\b\b\b\b\b\b\b\b\b\b\b\b\b\b\b\b\b\b\b\b\b\b\b\b\b\n",
            "INFO\t2021-09-04 00:11:25 +0000\tmaster-replica-0\t\t115/254 [============>.................] - ETA: 0s - loss: 0.3460 - acc: 0.8359\b\b\b\b\b\b\b\b\b\b\b\b\b\b\b\b\b\b\b\b\b\b\b\b\b\b\b\b\b\b\b\b\b\b\b\b\b\b\b\b\b\b\b\b\b\b\b\b\b\b\b\b\b\b\b\b\b\b\b\b\b\b\b\b\b\b\b\b\b\b\b\b\b\b\b\b\b\b\b\n",
            "INFO\t2021-09-04 00:11:25 +0000\tmaster-replica-0\t\t139/254 [===============>..............] - ETA: 0s - loss: 0.3415 - acc: 0.8398\b\b\b\b\b\b\b\b\b\b\b\b\b\b\b\b\b\b\b\b\b\b\b\b\b\b\b\b\b\b\b\b\b\b\b\b\b\b\b\b\b\b\b\b\b\b\b\b\b\b\b\b\b\b\b\b\b\b\b\b\b\b\b\b\b\b\b\b\b\b\b\b\b\b\b\b\b\b\b\n",
            "INFO\t2021-09-04 00:11:25 +0000\tmaster-replica-0\t\t161/254 [==================>...........] - ETA: 0s - loss: 0.3417 - acc: 0.8399\b\b\b\b\b\b\b\b\b\b\b\b\b\b\b\b\b\b\b\b\b\b\b\b\b\b\b\b\b\b\b\b\b\b\b\b\b\b\b\b\b\b\b\b\b\b\b\b\b\b\b\b\b\b\b\b\b\b\b\b\b\b\b\b\b\b\b\b\b\b\b\b\b\b\b\b\b\b\b\n",
            "INFO\t2021-09-04 00:11:25 +0000\tmaster-replica-0\t\t185/254 [====================>.........] - ETA: 0s - loss: 0.3418 - acc: 0.8412\b\b\b\b\b\b\b\b\b\b\b\b\b\b\b\b\b\b\b\b\b\b\b\b\b\b\b\b\b\b\b\b\b\b\b\b\b\b\b\b\b\b\b\b\b\b\b\b\b\b\b\b\b\b\b\b\b\b\b\b\b\b\b\b\b\b\b\b\b\b\b\b\b\b\b\b\b\b\b\n",
            "INFO\t2021-09-04 00:11:26 +0000\tmaster-replica-0\t\t206/254 [=======================>......] - ETA: 0s - loss: 0.3417 - acc: 0.8408\b\b\b\b\b\b\b\b\b\b\b\b\b\b\b\b\b\b\b\b\b\b\b\b\b\b\b\b\b\b\b\b\b\b\b\b\b\b\b\b\b\b\b\b\b\b\b\b\b\b\b\b\b\b\b\b\b\b\b\b\b\b\b\b\b\b\b\b\b\b\b\b\b\b\b\b\b\b\b\n",
            "INFO\t2021-09-04 00:11:26 +0000\tmaster-replica-0\t\t230/254 [==========================>...] - ETA: 0s - loss: 0.3429 - acc: 0.8405\b\b\b\b\b\b\b\b\b\b\b\b\b\b\b\b\b\b\b\b\b\b\b\b\b\b\b\b\b\b\b\b\b\b\b\b\b\b\b\b\b\b\b\b\b\b\b\b\b\b\b\b\b\b\b\b\b\b\b\b\b\b\b\b\b\b\b\b\b\b\b\b\b\b\b\b\b\b\b\n",
            "INFO\t2021-09-04 00:11:26 +0000\tmaster-replica-0\t\t251/254 [============================>.] - ETA: 0s - loss: 0.3422 - acc: 0.8402\b\b\b\b\b\b\b\b\b\b\b\b\b\b\b\b\b\b\b\b\b\b\b\b\b\b\b\b\b\b\b\b\b\b\b\b\b\b\b\b\b\b\b\b\b\b\b\b\b\b\b\b\b\b\b\b\b\b\b\b\b\b\b\b\b\b\b\b\b\b\b\b\b\b\b\b\b\b\b\n",
            "INFO\t2021-09-04 00:11:26 +0000\tmaster-replica-0\t\t254/254 [==============================] - 1s 4ms/step - loss: 0.3425 - acc: 0.8403 - val_loss: 0.3441 - val_acc: 0.8379\n",
            "INFO\t2021-09-04 00:11:26 +0000\tmaster-replica-0\t\tEpoch 00004: LearningRateScheduler reducing learning rate to 0.01125.\n",
            "INFO\t2021-09-04 00:11:26 +0000\tmaster-replica-0\t\tEpoch 4/20\n",
            "INFO\t2021-09-04 00:11:26 +0000\tmaster-replica-0\t\t  1/254 [..............................] - ETA: 0s - loss: 0.2942 - acc: 0.8828\b\b\b\b\b\b\b\b\b\b\b\b\b\b\b\b\b\b\b\b\b\b\b\b\b\b\b\b\b\b\b\b\b\b\b\b\b\b\b\b\b\b\b\b\b\b\b\b\b\b\b\b\b\b\b\b\b\b\b\b\b\b\b\b\b\b\b\b\b\b\b\b\b\b\b\b\b\b\b\n",
            "INFO\t2021-09-04 00:11:26 +0000\tmaster-replica-0\t\t 23/254 [=>............................] - ETA: 0s - loss: 0.3454 - acc: 0.8424\b\b\b\b\b\b\b\b\b\b\b\b\b\b\b\b\b\b\b\b\b\b\b\b\b\b\b\b\b\b\b\b\b\b\b\b\b\b\b\b\b\b\b\b\b\b\b\b\b\b\b\b\b\b\b\b\b\b\b\b\b\b\b\b\b\b\b\b\b\b\b\b\b\b\b\b\b\b\b\n",
            "INFO\t2021-09-04 00:11:26 +0000\tmaster-replica-0\t\t 47/254 [====>.........................] - ETA: 0s - loss: 0.3397 - acc: 0.8406\b\b\b\b\b\b\b\b\b\b\b\b\b\b\b\b\b\b\b\b\b\b\b\b\b\b\b\b\b\b\b\b\b\b\b\b\b\b\b\b\b\b\b\b\b\b\b\b\b\b\b\b\b\b\b\b\b\b\b\b\b\b\b\b\b\b\b\b\b\b\b\b\b\b\b\b\b\b\b\n",
            "INFO\t2021-09-04 00:11:26 +0000\tmaster-replica-0\t\t 69/254 [=======>......................] - ETA: 0s - loss: 0.3405 - acc: 0.8380\b\b\b\b\b\b\b\b\b\b\b\b\b\b\b\b\b\b\b\b\b\b\b\b\b\b\b\b\b\b\b\b\b\b\b\b\b\b\b\b\b\b\b\b\b\b\b\b\b\b\b\b\b\b\b\b\b\b\b\b\b\b\b\b\b\b\b\b\b\b\b\b\b\b\b\b\b\b\b\n",
            "INFO\t2021-09-04 00:11:26 +0000\tmaster-replica-0\t\t 93/254 [=========>....................] - ETA: 0s - loss: 0.3404 - acc: 0.8392\b\b\b\b\b\b\b\b\b\b\b\b\b\b\b\b\b\b\b\b\b\b\b\b\b\b\b\b\b\b\b\b\b\b\b\b\b\b\b\b\b\b\b\b\b\b\b\b\b\b\b\b\b\b\b\b\b\b\b\b\b\b\b\b\b\b\b\b\b\b\b\b\b\b\b\b\b\b\b\n",
            "INFO\t2021-09-04 00:11:26 +0000\tmaster-replica-0\t\t115/254 [============>.................] - ETA: 0s - loss: 0.3396 - acc: 0.8412\b\b\b\b\b\b\b\b\b\b\b\b\b\b\b\b\b\b\b\b\b\b\b\b\b\b\b\b\b\b\b\b\b\b\b\b\b\b\b\b\b\b\b\b\b\b\b\b\b\b\b\b\b\b\b\b\b\b\b\b\b\b\b\b\b\b\b\b\b\b\b\b\b\b\b\b\b\b\b\n",
            "INFO\t2021-09-04 00:11:26 +0000\tmaster-replica-0\t\t139/254 [===============>..............] - ETA: 0s - loss: 0.3360 - acc: 0.8444\b\b\b\b\b\b\b\b\b\b\b\b\b\b\b\b\b\b\b\b\b\b\b\b\b\b\b\b\b\b\b\b\b\b\b\b\b\b\b\b\b\b\b\b\b\b\b\b\b\b\b\b\b\b\b\b\b\b\b\b\b\b\b\b\b\b\b\b\b\b\b\b\b\b\b\b\b\b\b\n",
            "INFO\t2021-09-04 00:11:26 +0000\tmaster-replica-0\t\t161/254 [==================>...........] - ETA: 0s - loss: 0.3342 - acc: 0.8448\b\b\b\b\b\b\b\b\b\b\b\b\b\b\b\b\b\b\b\b\b\b\b\b\b\b\b\b\b\b\b\b\b\b\b\b\b\b\b\b\b\b\b\b\b\b\b\b\b\b\b\b\b\b\b\b\b\b\b\b\b\b\b\b\b\b\b\b\b\b\b\b\b\b\b\b\b\b\b\n",
            "INFO\t2021-09-04 00:11:26 +0000\tmaster-replica-0\t\t184/254 [====================>.........] - ETA: 0s - loss: 0.3350 - acc: 0.8445\b\b\b\b\b\b\b\b\b\b\b\b\b\b\b\b\b\b\b\b\b\b\b\b\b\b\b\b\b\b\b\b\b\b\b\b\b\b\b\b\b\b\b\b\b\b\b\b\b\b\b\b\b\b\b\b\b\b\b\b\b\b\b\b\b\b\b\b\b\b\b\b\b\b\b\b\b\b\b\n",
            "INFO\t2021-09-04 00:11:26 +0000\tmaster-replica-0\t\t204/254 [=======================>......] - ETA: 0s - loss: 0.3349 - acc: 0.8439\b\b\b\b\b\b\b\b\b\b\b\b\b\b\b\b\b\b\b\b\b\b\b\b\b\b\b\b\b\b\b\b\b\b\b\b\b\b\b\b\b\b\b\b\b\b\b\b\b\b\b\b\b\b\b\b\b\b\b\b\b\b\b\b\b\b\b\b\b\b\b\b\b\b\b\b\b\b\b\n",
            "INFO\t2021-09-04 00:11:26 +0000\tmaster-replica-0\t\t227/254 [=========================>....] - ETA: 0s - loss: 0.3377 - acc: 0.8425\b\b\b\b\b\b\b\b\b\b\b\b\b\b\b\b\b\b\b\b\b\b\b\b\b\b\b\b\b\b\b\b\b\b\b\b\b\b\b\b\b\b\b\b\b\b\b\b\b\b\b\b\b\b\b\b\b\b\b\b\b\b\b\b\b\b\b\b\b\b\b\b\b\b\b\b\b\b\b\n",
            "INFO\t2021-09-04 00:11:27 +0000\tmaster-replica-0\t\t249/254 [============================>.] - ETA: 0s - loss: 0.3361 - acc: 0.8430\b\b\b\b\b\b\b\b\b\b\b\b\b\b\b\b\b\b\b\b\b\b\b\b\b\b\b\b\b\b\b\b\b\b\b\b\b\b\b\b\b\b\b\b\b\b\b\b\b\b\b\b\b\b\b\b\b\b\b\b\b\b\b\b\b\b\b\b\b\b\b\b\b\b\b\b\b\b\b\n",
            "INFO\t2021-09-04 00:11:27 +0000\tmaster-replica-0\t\t254/254 [==============================] - 1s 3ms/step - loss: 0.3363 - acc: 0.8428 - val_loss: 0.3343 - val_acc: 0.8456\n",
            "INFO\t2021-09-04 00:11:27 +0000\tmaster-replica-0\t\tEpoch 00005: LearningRateScheduler reducing learning rate to 0.010625.\n",
            "INFO\t2021-09-04 00:11:27 +0000\tmaster-replica-0\t\tEpoch 5/20\n",
            "INFO\t2021-09-04 00:11:27 +0000\tmaster-replica-0\t\t  1/254 [..............................] - ETA: 0s - loss: 0.3587 - acc: 0.8125\b\b\b\b\b\b\b\b\b\b\b\b\b\b\b\b\b\b\b\b\b\b\b\b\b\b\b\b\b\b\b\b\b\b\b\b\b\b\b\b\b\b\b\b\b\b\b\b\b\b\b\b\b\b\b\b\b\b\b\b\b\b\b\b\b\b\b\b\b\b\b\b\b\b\b\b\b\b\b\n",
            "INFO\t2021-09-04 00:11:27 +0000\tmaster-replica-0\t\t 23/254 [=>............................] - ETA: 0s - loss: 0.3237 - acc: 0.8485\b\b\b\b\b\b\b\b\b\b\b\b\b\b\b\b\b\b\b\b\b\b\b\b\b\b\b\b\b\b\b\b\b\b\b\b\b\b\b\b\b\b\b\b\b\b\b\b\b\b\b\b\b\b\b\b\b\b\b\b\b\b\b\b\b\b\b\b\b\b\b\b\b\b\b\b\b\b\b\n",
            "INFO\t2021-09-04 00:11:27 +0000\tmaster-replica-0\t\t 45/254 [====>.........................] - ETA: 0s - loss: 0.3271 - acc: 0.8481\b\b\b\b\b\b\b\b\b\b\b\b\b\b\b\b\b\b\b\b\b\b\b\b\b\b\b\b\b\b\b\b\b\b\b\b\b\b\b\b\b\b\b\b\b\b\b\b\b\b\b\b\b\b\b\b\b\b\b\b\b\b\b\b\b\b\b\b\b\b\b\b\b\b\b\b\b\b\b\n",
            "INFO\t2021-09-04 00:11:27 +0000\tmaster-replica-0\t\t 66/254 [======>.......................] - ETA: 0s - loss: 0.3325 - acc: 0.8445\b\b\b\b\b\b\b\b\b\b\b\b\b\b\b\b\b\b\b\b\b\b\b\b\b\b\b\b\b\b\b\b\b\b\b\b\b\b\b\b\b\b\b\b\b\b\b\b\b\b\b\b\b\b\b\b\b\b\b\b\b\b\b\b\b\b\b\b\b\b\b\b\b\b\b\b\b\b\b\n",
            "INFO\t2021-09-04 00:11:27 +0000\tmaster-replica-0\t\t 89/254 [=========>....................] - ETA: 0s - loss: 0.3305 - acc: 0.8455\b\b\b\b\b\b\b\b\b\b\b\b\b\b\b\b\b\b\b\b\b\b\b\b\b\b\b\b\b\b\b\b\b\b\b\b\b\b\b\b\b\b\b\b\b\b\b\b\b\b\b\b\b\b\b\b\b\b\b\b\b\b\b\b\b\b\b\b\b\b\b\b\b\b\b\b\b\b\b\n",
            "INFO\t2021-09-04 00:11:27 +0000\tmaster-replica-0\t\t111/254 [============>.................] - ETA: 0s - loss: 0.3304 - acc: 0.8447\b\b\b\b\b\b\b\b\b\b\b\b\b\b\b\b\b\b\b\b\b\b\b\b\b\b\b\b\b\b\b\b\b\b\b\b\b\b\b\b\b\b\b\b\b\b\b\b\b\b\b\b\b\b\b\b\b\b\b\b\b\b\b\b\b\b\b\b\b\b\b\b\b\b\b\b\b\b\b\n",
            "INFO\t2021-09-04 00:11:27 +0000\tmaster-replica-0\t\t134/254 [==============>...............] - ETA: 0s - loss: 0.3312 - acc: 0.8454\b\b\b\b\b\b\b\b\b\b\b\b\b\b\b\b\b\b\b\b\b\b\b\b\b\b\b\b\b\b\b\b\b\b\b\b\b\b\b\b\b\b\b\b\b\b\b\b\b\b\b\b\b\b\b\b\b\b\b\b\b\b\b\b\b\b\b\b\b\b\b\b\b\b\b\b\b\b\b\n",
            "INFO\t2021-09-04 00:11:27 +0000\tmaster-replica-0\t\t154/254 [=================>............] - ETA: 0s - loss: 0.3336 - acc: 0.8448\b\b\b\b\b\b\b\b\b\b\b\b\b\b\b\b\b\b\b\b\b\b\b\b\b\b\b\b\b\b\b\b\b\b\b\b\b\b\b\b\b\b\b\b\b\b\b\b\b\b\b\b\b\b\b\b\b\b\b\b\b\b\b\b\b\b\b\b\b\b\b\b\b\b\b\b\b\b\b\n",
            "INFO\t2021-09-04 00:11:27 +0000\tmaster-replica-0\t\t177/254 [===================>..........] - ETA: 0s - loss: 0.3320 - acc: 0.8456\b\b\b\b\b\b\b\b\b\b\b\b\b\b\b\b\b\b\b\b\b\b\b\b\b\b\b\b\b\b\b\b\b\b\b\b\b\b\b\b\b\b\b\b\b\b\b\b\b\b\b\b\b\b\b\b\b\b\b\b\b\b\b\b\b\b\b\b\b\b\b\b\b\b\b\b\b\b\b\n",
            "INFO\t2021-09-04 00:11:27 +0000\tmaster-replica-0\t\t197/254 [======================>.......] - ETA: 0s - loss: 0.3331 - acc: 0.8455\b\b\b\b\b\b\b\b\b\b\b\b\b\b\b\b\b\b\b\b\b\b\b\b\b\b\b\b\b\b\b\b\b\b\b\b\b\b\b\b\b\b\b\b\b\b\b\b\b\b\b\b\b\b\b\b\b\b\b\b\b\b\b\b\b\b\b\b\b\b\b\b\b\b\b\b\b\b\b\n",
            "INFO\t2021-09-04 00:11:27 +0000\tmaster-replica-0\t\t220/254 [========================>.....] - ETA: 0s - loss: 0.3336 - acc: 0.8450\b\b\b\b\b\b\b\b\b\b\b\b\b\b\b\b\b\b\b\b\b\b\b\b\b\b\b\b\b\b\b\b\b\b\b\b\b\b\b\b\b\b\b\b\b\b\b\b\b\b\b\b\b\b\b\b\b\b\b\b\b\b\b\b\b\b\b\b\b\b\b\b\b\b\b\b\b\b\b\n",
            "INFO\t2021-09-04 00:11:28 +0000\tmaster-replica-0\t\t241/254 [===========================>..] - ETA: 0s - loss: 0.3316 - acc: 0.8454\b\b\b\b\b\b\b\b\b\b\b\b\b\b\b\b\b\b\b\b\b\b\b\b\b\b\b\b\b\b\b\b\b\b\b\b\b\b\b\b\b\b\b\b\b\b\b\b\b\b\b\b\b\b\b\b\b\b\b\b\b\b\b\b\b\b\b\b\b\b\b\b\b\b\b\b\b\b\b\n",
            "INFO\t2021-09-04 00:11:28 +0000\tmaster-replica-0\t\t254/254 [==============================] - 1s 4ms/step - loss: 0.3317 - acc: 0.8455 - val_loss: 0.3305 - val_acc: 0.8456\n",
            "INFO\t2021-09-04 00:11:28 +0000\tmaster-replica-0\t\tEpoch 00006: LearningRateScheduler reducing learning rate to 0.0103125.\n",
            "INFO\t2021-09-04 00:11:28 +0000\tmaster-replica-0\t\tEpoch 6/20\n",
            "INFO\t2021-09-04 00:11:28 +0000\tmaster-replica-0\t\t  1/254 [..............................] - ETA: 0s - loss: 0.3002 - acc: 0.8672\b\b\b\b\b\b\b\b\b\b\b\b\b\b\b\b\b\b\b\b\b\b\b\b\b\b\b\b\b\b\b\b\b\b\b\b\b\b\b\b\b\b\b\b\b\b\b\b\b\b\b\b\b\b\b\b\b\b\b\b\b\b\b\b\b\b\b\b\b\b\b\b\b\b\b\b\b\b\b\n",
            "INFO\t2021-09-04 00:11:28 +0000\tmaster-replica-0\t\t 21/254 [=>............................] - ETA: 0s - loss: 0.3060 - acc: 0.8545\b\b\b\b\b\b\b\b\b\b\b\b\b\b\b\b\b\b\b\b\b\b\b\b\b\b\b\b\b\b\b\b\b\b\b\b\b\b\b\b\b\b\b\b\b\b\b\b\b\b\b\b\b\b\b\b\b\b\b\b\b\b\b\b\b\b\b\b\b\b\b\b\b\b\b\b\b\b\b\n",
            "INFO\t2021-09-04 00:11:28 +0000\tmaster-replica-0\t\t 44/254 [====>.........................] - ETA: 0s - loss: 0.3197 - acc: 0.8512\b\b\b\b\b\b\b\b\b\b\b\b\b\b\b\b\b\b\b\b\b\b\b\b\b\b\b\b\b\b\b\b\b\b\b\b\b\b\b\b\b\b\b\b\b\b\b\b\b\b\b\b\b\b\b\b\b\b\b\b\b\b\b\b\b\b\b\b\b\b\b\b\b\b\b\b\b\b\b\n",
            "INFO\t2021-09-04 00:11:28 +0000\tmaster-replica-0\t\t 67/254 [======>.......................] - ETA: 0s - loss: 0.3267 - acc: 0.8456\b\b\b\b\b\b\b\b\b\b\b\b\b\b\b\b\b\b\b\b\b\b\b\b\b\b\b\b\b\b\b\b\b\b\b\b\b\b\b\b\b\b\b\b\b\b\b\b\b\b\b\b\b\b\b\b\b\b\b\b\b\b\b\b\b\b\b\b\b\b\b\b\b\b\b\b\b\b\b\n",
            "INFO\t2021-09-04 00:11:28 +0000\tmaster-replica-0\t\t 90/254 [=========>....................] - ETA: 0s - loss: 0.3252 - acc: 0.8471\b\b\b\b\b\b\b\b\b\b\b\b\b\b\b\b\b\b\b\b\b\b\b\b\b\b\b\b\b\b\b\b\b\b\b\b\b\b\b\b\b\b\b\b\b\b\b\b\b\b\b\b\b\b\b\b\b\b\b\b\b\b\b\b\b\b\b\b\b\b\b\b\b\b\b\b\b\b\b\n",
            "INFO\t2021-09-04 00:11:28 +0000\tmaster-replica-0\t\t110/254 [===========>..................] - ETA: 0s - loss: 0.3259 - acc: 0.8465\b\b\b\b\b\b\b\b\b\b\b\b\b\b\b\b\b\b\b\b\b\b\b\b\b\b\b\b\b\b\b\b\b\b\b\b\b\b\b\b\b\b\b\b\b\b\b\b\b\b\b\b\b\b\b\b\b\b\b\b\b\b\b\b\b\b\b\b\b\b\b\b\b\b\b\b\b\b\b\n",
            "INFO\t2021-09-04 00:11:28 +0000\tmaster-replica-0\t\t133/254 [==============>...............] - ETA: 0s - loss: 0.3273 - acc: 0.8472\b\b\b\b\b\b\b\b\b\b\b\b\b\b\b\b\b\b\b\b\b\b\b\b\b\b\b\b\b\b\b\b\b\b\b\b\b\b\b\b\b\b\b\b\b\b\b\b\b\b\b\b\b\b\b\b\b\b\b\b\b\b\b\b\b\b\b\b\b\b\b\b\b\b\b\b\b\b\b\n",
            "INFO\t2021-09-04 00:11:28 +0000\tmaster-replica-0\t\t153/254 [=================>............] - ETA: 0s - loss: 0.3294 - acc: 0.8461\b\b\b\b\b\b\b\b\b\b\b\b\b\b\b\b\b\b\b\b\b\b\b\b\b\b\b\b\b\b\b\b\b\b\b\b\b\b\b\b\b\b\b\b\b\b\b\b\b\b\b\b\b\b\b\b\b\b\b\b\b\b\b\b\b\b\b\b\b\b\b\b\b\b\b\b\b\b\b\n",
            "INFO\t2021-09-04 00:11:28 +0000\tmaster-replica-0\t\t177/254 [===================>..........] - ETA: 0s - loss: 0.3287 - acc: 0.8476\b\b\b\b\b\b\b\b\b\b\b\b\b\b\b\b\b\b\b\b\b\b\b\b\b\b\b\b\b\b\b\b\b\b\b\b\b\b\b\b\b\b\b\b\b\b\b\b\b\b\b\b\b\b\b\b\b\b\b\b\b\b\b\b\b\b\b\b\b\b\b\b\b\b\b\b\b\b\b\n",
            "INFO\t2021-09-04 00:11:28 +0000\tmaster-replica-0\t\t200/254 [======================>.......] - ETA: 0s - loss: 0.3278 - acc: 0.8478\b\b\b\b\b\b\b\b\b\b\b\b\b\b\b\b\b\b\b\b\b\b\b\b\b\b\b\b\b\b\b\b\b\b\b\b\b\b\b\b\b\b\b\b\b\b\b\b\b\b\b\b\b\b\b\b\b\b\b\b\b\b\b\b\b\b\b\b\b\b\b\b\b\b\b\b\b\b\b\n",
            "INFO\t2021-09-04 00:11:28 +0000\tmaster-replica-0\t\t224/254 [=========================>....] - ETA: 0s - loss: 0.3282 - acc: 0.8479\b\b\b\b\b\b\b\b\b\b\b\b\b\b\b\b\b\b\b\b\b\b\b\b\b\b\b\b\b\b\b\b\b\b\b\b\b\b\b\b\b\b\b\b\b\b\b\b\b\b\b\b\b\b\b\b\b\b\b\b\b\b\b\b\b\b\b\b\b\b\b\b\b\b\b\b\b\b\b\n",
            "INFO\t2021-09-04 00:11:29 +0000\tmaster-replica-0\t\t246/254 [============================>.] - ETA: 0s - loss: 0.3290 - acc: 0.8476\b\b\b\b\b\b\b\b\b\b\b\b\b\b\b\b\b\b\b\b\b\b\b\b\b\b\b\b\b\b\b\b\b\b\b\b\b\b\b\b\b\b\b\b\b\b\b\b\b\b\b\b\b\b\b\b\b\b\b\b\b\b\b\b\b\b\b\b\b\b\b\b\b\b\b\b\b\b\b\n",
            "INFO\t2021-09-04 00:11:29 +0000\tmaster-replica-0\t\t254/254 [==============================] - 1s 4ms/step - loss: 0.3293 - acc: 0.8475 - val_loss: 0.3599 - val_acc: 0.8179\n",
            "INFO\t2021-09-04 00:11:29 +0000\tmaster-replica-0\t\tEpoch 00007: LearningRateScheduler reducing learning rate to 0.01015625.\n",
            "INFO\t2021-09-04 00:11:29 +0000\tmaster-replica-0\t\tEpoch 7/20\n",
            "INFO\t2021-09-04 00:11:29 +0000\tmaster-replica-0\t\t  1/254 [..............................] - ETA: 0s - loss: 0.3322 - acc: 0.8281\b\b\b\b\b\b\b\b\b\b\b\b\b\b\b\b\b\b\b\b\b\b\b\b\b\b\b\b\b\b\b\b\b\b\b\b\b\b\b\b\b\b\b\b\b\b\b\b\b\b\b\b\b\b\b\b\b\b\b\b\b\b\b\b\b\b\b\b\b\b\b\b\b\b\b\b\b\b\b\n",
            "INFO\t2021-09-04 00:11:29 +0000\tmaster-replica-0\t\t 23/254 [=>............................] - ETA: 0s - loss: 0.3255 - acc: 0.8502\b\b\b\b\b\b\b\b\b\b\b\b\b\b\b\b\b\b\b\b\b\b\b\b\b\b\b\b\b\b\b\b\b\b\b\b\b\b\b\b\b\b\b\b\b\b\b\b\b\b\b\b\b\b\b\b\b\b\b\b\b\b\b\b\b\b\b\b\b\b\b\b\b\b\b\b\b\b\b\n",
            "INFO\t2021-09-04 00:11:29 +0000\tmaster-replica-0\t\t 42/254 [===>..........................] - ETA: 0s - loss: 0.3236 - acc: 0.8504\b\b\b\b\b\b\b\b\b\b\b\b\b\b\b\b\b\b\b\b\b\b\b\b\b\b\b\b\b\b\b\b\b\b\b\b\b\b\b\b\b\b\b\b\b\b\b\b\b\b\b\b\b\b\b\b\b\b\b\b\b\b\b\b\b\b\b\b\b\b\b\b\b\b\b\b\b\b\b\n",
            "INFO\t2021-09-04 00:11:29 +0000\tmaster-replica-0\t\t 64/254 [======>.......................] - ETA: 0s - loss: 0.3247 - acc: 0.8527\b\b\b\b\b\b\b\b\b\b\b\b\b\b\b\b\b\b\b\b\b\b\b\b\b\b\b\b\b\b\b\b\b\b\b\b\b\b\b\b\b\b\b\b\b\b\b\b\b\b\b\b\b\b\b\b\b\b\b\b\b\b\b\b\b\b\b\b\b\b\b\b\b\b\b\b\b\b\b\n",
            "INFO\t2021-09-04 00:11:29 +0000\tmaster-replica-0\t\t 87/254 [=========>....................] - ETA: 0s - loss: 0.3278 - acc: 0.8511\b\b\b\b\b\b\b\b\b\b\b\b\b\b\b\b\b\b\b\b\b\b\b\b\b\b\b\b\b\b\b\b\b\b\b\b\b\b\b\b\b\b\b\b\b\b\b\b\b\b\b\b\b\b\b\b\b\b\b\b\b\b\b\b\b\b\b\b\b\b\b\b\b\b\b\b\b\b\b\n",
            "INFO\t2021-09-04 00:11:29 +0000\tmaster-replica-0\t\t110/254 [===========>..................] - ETA: 0s - loss: 0.3292 - acc: 0.8494\b\b\b\b\b\b\b\b\b\b\b\b\b\b\b\b\b\b\b\b\b\b\b\b\b\b\b\b\b\b\b\b\b\b\b\b\b\b\b\b\b\b\b\b\b\b\b\b\b\b\b\b\b\b\b\b\b\b\b\b\b\b\b\b\b\b\b\b\b\b\b\b\b\b\b\b\b\b\b\n",
            "INFO\t2021-09-04 00:11:29 +0000\tmaster-replica-0\t\t131/254 [==============>...............] - ETA: 0s - loss: 0.3308 - acc: 0.8477\b\b\b\b\b\b\b\b\b\b\b\b\b\b\b\b\b\b\b\b\b\b\b\b\b\b\b\b\b\b\b\b\b\b\b\b\b\b\b\b\b\b\b\b\b\b\b\b\b\b\b\b\b\b\b\b\b\b\b\b\b\b\b\b\b\b\b\b\b\b\b\b\b\b\b\b\b\b\b\n",
            "INFO\t2021-09-04 00:11:29 +0000\tmaster-replica-0\t\t154/254 [=================>............] - ETA: 0s - loss: 0.3296 - acc: 0.8492\b\b\b\b\b\b\b\b\b\b\b\b\b\b\b\b\b\b\b\b\b\b\b\b\b\b\b\b\b\b\b\b\b\b\b\b\b\b\b\b\b\b\b\b\b\b\b\b\b\b\b\b\b\b\b\b\b\b\b\b\b\b\b\b\b\b\b\b\b\b\b\b\b\b\b\b\b\b\b\n",
            "INFO\t2021-09-04 00:11:29 +0000\tmaster-replica-0\t\t175/254 [===================>..........] - ETA: 0s - loss: 0.3289 - acc: 0.8494\b\b\b\b\b\b\b\b\b\b\b\b\b\b\b\b\b\b\b\b\b\b\b\b\b\b\b\b\b\b\b\b\b\b\b\b\b\b\b\b\b\b\b\b\b\b\b\b\b\b\b\b\b\b\b\b\b\b\b\b\b\b\b\b\b\b\b\b\b\b\b\b\b\b\b\b\b\b\b\n",
            "INFO\t2021-09-04 00:11:29 +0000\tmaster-replica-0\t\t199/254 [======================>.......] - ETA: 0s - loss: 0.3316 - acc: 0.8494\b\b\b\b\b\b\b\b\b\b\b\b\b\b\b\b\b\b\b\b\b\b\b\b\b\b\b\b\b\b\b\b\b\b\b\b\b\b\b\b\b\b\b\b\b\b\b\b\b\b\b\b\b\b\b\b\b\b\b\b\b\b\b\b\b\b\b\b\b\b\b\b\b\b\b\b\b\b\b\n",
            "INFO\t2021-09-04 00:11:29 +0000\tmaster-replica-0\t\t221/254 [=========================>....] - ETA: 0s - loss: 0.3316 - acc: 0.8495\b\b\b\b\b\b\b\b\b\b\b\b\b\b\b\b\b\b\b\b\b\b\b\b\b\b\b\b\b\b\b\b\b\b\b\b\b\b\b\b\b\b\b\b\b\b\b\b\b\b\b\b\b\b\b\b\b\b\b\b\b\b\b\b\b\b\b\b\b\b\b\b\b\b\b\b\b\b\b\n",
            "INFO\t2021-09-04 00:11:30 +0000\tmaster-replica-0\t\t245/254 [===========================>..] - ETA: 0s - loss: 0.3309 - acc: 0.8497\b\b\b\b\b\b\b\b\b\b\b\b\b\b\b\b\b\b\b\b\b\b\b\b\b\b\b\b\b\b\b\b\b\b\b\b\b\b\b\b\b\b\b\b\b\b\b\b\b\b\b\b\b\b\b\b\b\b\b\b\b\b\b\b\b\b\b\b\b\b\b\b\b\b\b\b\b\b\b\n",
            "INFO\t2021-09-04 00:11:30 +0000\tmaster-replica-0\t\t254/254 [==============================] - 1s 4ms/step - loss: 0.3304 - acc: 0.8494 - val_loss: 0.3253 - val_acc: 0.8491\n",
            "INFO\t2021-09-04 00:11:30 +0000\tmaster-replica-0\t\tEpoch 00008: LearningRateScheduler reducing learning rate to 0.010078125.\n",
            "INFO\t2021-09-04 00:11:30 +0000\tmaster-replica-0\t\tEpoch 8/20\n",
            "INFO\t2021-09-04 00:11:30 +0000\tmaster-replica-0\t\t  1/254 [..............................] - ETA: 0s - loss: 0.3423 - acc: 0.8516\b\b\b\b\b\b\b\b\b\b\b\b\b\b\b\b\b\b\b\b\b\b\b\b\b\b\b\b\b\b\b\b\b\b\b\b\b\b\b\b\b\b\b\b\b\b\b\b\b\b\b\b\b\b\b\b\b\b\b\b\b\b\b\b\b\b\b\b\b\b\b\b\b\b\b\b\b\b\b\n",
            "INFO\t2021-09-04 00:11:30 +0000\tmaster-replica-0\t\t 24/254 [=>............................] - ETA: 0s - loss: 0.3189 - acc: 0.8538\b\b\b\b\b\b\b\b\b\b\b\b\b\b\b\b\b\b\b\b\b\b\b\b\b\b\b\b\b\b\b\b\b\b\b\b\b\b\b\b\b\b\b\b\b\b\b\b\b\b\b\b\b\b\b\b\b\b\b\b\b\b\b\b\b\b\b\b\b\b\b\b\b\b\b\b\b\b\b\n",
            "INFO\t2021-09-04 00:11:30 +0000\tmaster-replica-0\t\t 46/254 [====>.........................] - ETA: 0s - loss: 0.3224 - acc: 0.8504\b\b\b\b\b\b\b\b\b\b\b\b\b\b\b\b\b\b\b\b\b\b\b\b\b\b\b\b\b\b\b\b\b\b\b\b\b\b\b\b\b\b\b\b\b\b\b\b\b\b\b\b\b\b\b\b\b\b\b\b\b\b\b\b\b\b\b\b\b\b\b\b\b\b\b\b\b\b\b\n",
            "INFO\t2021-09-04 00:11:30 +0000\tmaster-replica-0\t\t 68/254 [=======>......................] - ETA: 0s - loss: 0.3265 - acc: 0.8508\b\b\b\b\b\b\b\b\b\b\b\b\b\b\b\b\b\b\b\b\b\b\b\b\b\b\b\b\b\b\b\b\b\b\b\b\b\b\b\b\b\b\b\b\b\b\b\b\b\b\b\b\b\b\b\b\b\b\b\b\b\b\b\b\b\b\b\b\b\b\b\b\b\b\b\b\b\b\b\n",
            "INFO\t2021-09-04 00:11:30 +0000\tmaster-replica-0\t\t 91/254 [=========>....................] - ETA: 0s - loss: 0.3289 - acc: 0.8498\b\b\b\b\b\b\b\b\b\b\b\b\b\b\b\b\b\b\b\b\b\b\b\b\b\b\b\b\b\b\b\b\b\b\b\b\b\b\b\b\b\b\b\b\b\b\b\b\b\b\b\b\b\b\b\b\b\b\b\b\b\b\b\b\b\b\b\b\b\b\b\b\b\b\b\b\b\b\b\n",
            "INFO\t2021-09-04 00:11:30 +0000\tmaster-replica-0\t\t112/254 [============>.................] - ETA: 0s - loss: 0.3287 - acc: 0.8490\b\b\b\b\b\b\b\b\b\b\b\b\b\b\b\b\b\b\b\b\b\b\b\b\b\b\b\b\b\b\b\b\b\b\b\b\b\b\b\b\b\b\b\b\b\b\b\b\b\b\b\b\b\b\b\b\b\b\b\b\b\b\b\b\b\b\b\b\b\b\b\b\b\b\b\b\b\b\b\n",
            "INFO\t2021-09-04 00:11:30 +0000\tmaster-replica-0\t\t135/254 [==============>...............] - ETA: 0s - loss: 0.3287 - acc: 0.8476\b\b\b\b\b\b\b\b\b\b\b\b\b\b\b\b\b\b\b\b\b\b\b\b\b\b\b\b\b\b\b\b\b\b\b\b\b\b\b\b\b\b\b\b\b\b\b\b\b\b\b\b\b\b\b\b\b\b\b\b\b\b\b\b\b\b\b\b\b\b\b\b\b\b\b\b\b\b\b\n",
            "INFO\t2021-09-04 00:11:30 +0000\tmaster-replica-0\t\t156/254 [=================>............] - ETA: 0s - loss: 0.3281 - acc: 0.8481\b\b\b\b\b\b\b\b\b\b\b\b\b\b\b\b\b\b\b\b\b\b\b\b\b\b\b\b\b\b\b\b\b\b\b\b\b\b\b\b\b\b\b\b\b\b\b\b\b\b\b\b\b\b\b\b\b\b\b\b\b\b\b\b\b\b\b\b\b\b\b\b\b\b\b\b\b\b\b\n",
            "INFO\t2021-09-04 00:11:30 +0000\tmaster-replica-0\t\t179/254 [====================>.........] - ETA: 0s - loss: 0.3291 - acc: 0.8469\b\b\b\b\b\b\b\b\b\b\b\b\b\b\b\b\b\b\b\b\b\b\b\b\b\b\b\b\b\b\b\b\b\b\b\b\b\b\b\b\b\b\b\b\b\b\b\b\b\b\b\b\b\b\b\b\b\b\b\b\b\b\b\b\b\b\b\b\b\b\b\b\b\b\b\b\b\b\b\n",
            "INFO\t2021-09-04 00:11:30 +0000\tmaster-replica-0\t\t197/254 [======================>.......] - ETA: 0s - loss: 0.3291 - acc: 0.8472\b\b\b\b\b\b\b\b\b\b\b\b\b\b\b\b\b\b\b\b\b\b\b\b\b\b\b\b\b\b\b\b\b\b\b\b\b\b\b\b\b\b\b\b\b\b\b\b\b\b\b\b\b\b\b\b\b\b\b\b\b\b\b\b\b\b\b\b\b\b\b\b\b\b\b\b\b\b\b\n",
            "INFO\t2021-09-04 00:11:30 +0000\tmaster-replica-0\t\t219/254 [========================>.....] - ETA: 0s - loss: 0.3287 - acc: 0.8473\b\b\b\b\b\b\b\b\b\b\b\b\b\b\b\b\b\b\b\b\b\b\b\b\b\b\b\b\b\b\b\b\b\b\b\b\b\b\b\b\b\b\b\b\b\b\b\b\b\b\b\b\b\b\b\b\b\b\b\b\b\b\b\b\b\b\b\b\b\b\b\b\b\b\b\b\b\b\b\n",
            "INFO\t2021-09-04 00:11:30 +0000\tmaster-replica-0\t\t241/254 [===========================>..] - ETA: 0s - loss: 0.3283 - acc: 0.8479\b\b\b\b\b\b\b\b\b\b\b\b\b\b\b\b\b\b\b\b\b\b\b\b\b\b\b\b\b\b\b\b\b\b\b\b\b\b\b\b\b\b\b\b\b\b\b\b\b\b\b\b\b\b\b\b\b\b\b\b\b\b\b\b\b\b\b\b\b\b\b\b\b\b\b\b\b\b\b\n",
            "INFO\t2021-09-04 00:11:30 +0000\tmaster-replica-0\t\t254/254 [==============================] - 1s 4ms/step - loss: 0.3277 - acc: 0.8484 - val_loss: 0.3304 - val_acc: 0.8484\n",
            "INFO\t2021-09-04 00:11:30 +0000\tmaster-replica-0\t\tEpoch 00009: LearningRateScheduler reducing learning rate to 0.0100390625.\n",
            "INFO\t2021-09-04 00:11:30 +0000\tmaster-replica-0\t\tEpoch 9/20\n",
            "INFO\t2021-09-04 00:11:31 +0000\tmaster-replica-0\t\t  1/254 [..............................] - ETA: 0s - loss: 0.3215 - acc: 0.8516\b\b\b\b\b\b\b\b\b\b\b\b\b\b\b\b\b\b\b\b\b\b\b\b\b\b\b\b\b\b\b\b\b\b\b\b\b\b\b\b\b\b\b\b\b\b\b\b\b\b\b\b\b\b\b\b\b\b\b\b\b\b\b\b\b\b\b\b\b\b\b\b\b\b\b\b\b\b\b\n",
            "INFO\t2021-09-04 00:11:31 +0000\tmaster-replica-0\t\t 23/254 [=>............................] - ETA: 0s - loss: 0.3138 - acc: 0.8577\b\b\b\b\b\b\b\b\b\b\b\b\b\b\b\b\b\b\b\b\b\b\b\b\b\b\b\b\b\b\b\b\b\b\b\b\b\b\b\b\b\b\b\b\b\b\b\b\b\b\b\b\b\b\b\b\b\b\b\b\b\b\b\b\b\b\b\b\b\b\b\b\b\b\b\b\b\b\b\n",
            "INFO\t2021-09-04 00:11:31 +0000\tmaster-replica-0\t\t 45/254 [====>.........................] - ETA: 0s - loss: 0.3223 - acc: 0.8523\b\b\b\b\b\b\b\b\b\b\b\b\b\b\b\b\b\b\b\b\b\b\b\b\b\b\b\b\b\b\b\b\b\b\b\b\b\b\b\b\b\b\b\b\b\b\b\b\b\b\b\b\b\b\b\b\b\b\b\b\b\b\b\b\b\b\b\b\b\b\b\b\b\b\b\b\b\b\b\n",
            "INFO\t2021-09-04 00:11:31 +0000\tmaster-replica-0\t\t 67/254 [======>.......................] - ETA: 0s - loss: 0.3223 - acc: 0.8506\b\b\b\b\b\b\b\b\b\b\b\b\b\b\b\b\b\b\b\b\b\b\b\b\b\b\b\b\b\b\b\b\b\b\b\b\b\b\b\b\b\b\b\b\b\b\b\b\b\b\b\b\b\b\b\b\b\b\b\b\b\b\b\b\b\b\b\b\b\b\b\b\b\b\b\b\b\b\b\n",
            "INFO\t2021-09-04 00:11:31 +0000\tmaster-replica-0\t\t 90/254 [=========>....................] - ETA: 0s - loss: 0.3269 - acc: 0.8484\b\b\b\b\b\b\b\b\b\b\b\b\b\b\b\b\b\b\b\b\b\b\b\b\b\b\b\b\b\b\b\b\b\b\b\b\b\b\b\b\b\b\b\b\b\b\b\b\b\b\b\b\b\b\b\b\b\b\b\b\b\b\b\b\b\b\b\b\b\b\b\b\b\b\b\b\b\b\b\n",
            "INFO\t2021-09-04 00:11:31 +0000\tmaster-replica-0\t\t111/254 [============>.................] - ETA: 0s - loss: 0.3302 - acc: 0.8480\b\b\b\b\b\b\b\b\b\b\b\b\b\b\b\b\b\b\b\b\b\b\b\b\b\b\b\b\b\b\b\b\b\b\b\b\b\b\b\b\b\b\b\b\b\b\b\b\b\b\b\b\b\b\b\b\b\b\b\b\b\b\b\b\b\b\b\b\b\b\b\b\b\b\b\b\b\b\b\n",
            "INFO\t2021-09-04 00:11:31 +0000\tmaster-replica-0\t\t134/254 [==============>...............] - ETA: 0s - loss: 0.3293 - acc: 0.8468\b\b\b\b\b\b\b\b\b\b\b\b\b\b\b\b\b\b\b\b\b\b\b\b\b\b\b\b\b\b\b\b\b\b\b\b\b\b\b\b\b\b\b\b\b\b\b\b\b\b\b\b\b\b\b\b\b\b\b\b\b\b\b\b\b\b\b\b\b\b\b\b\b\b\b\b\b\b\b\n",
            "INFO\t2021-09-04 00:11:31 +0000\tmaster-replica-0\t\t157/254 [=================>............] - ETA: 0s - loss: 0.3300 - acc: 0.8468\b\b\b\b\b\b\b\b\b\b\b\b\b\b\b\b\b\b\b\b\b\b\b\b\b\b\b\b\b\b\b\b\b\b\b\b\b\b\b\b\b\b\b\b\b\b\b\b\b\b\b\b\b\b\b\b\b\b\b\b\b\b\b\b\b\b\b\b\b\b\b\b\b\b\b\b\b\b\b\n",
            "INFO\t2021-09-04 00:11:31 +0000\tmaster-replica-0\t\t180/254 [====================>.........] - ETA: 0s - loss: 0.3297 - acc: 0.8470\b\b\b\b\b\b\b\b\b\b\b\b\b\b\b\b\b\b\b\b\b\b\b\b\b\b\b\b\b\b\b\b\b\b\b\b\b\b\b\b\b\b\b\b\b\b\b\b\b\b\b\b\b\b\b\b\b\b\b\b\b\b\b\b\b\b\b\b\b\b\b\b\b\b\b\b\b\b\b\n",
            "INFO\t2021-09-04 00:11:31 +0000\tmaster-replica-0\t\t202/254 [======================>.......] - ETA: 0s - loss: 0.3285 - acc: 0.8477\b\b\b\b\b\b\b\b\b\b\b\b\b\b\b\b\b\b\b\b\b\b\b\b\b\b\b\b\b\b\b\b\b\b\b\b\b\b\b\b\b\b\b\b\b\b\b\b\b\b\b\b\b\b\b\b\b\b\b\b\b\b\b\b\b\b\b\b\b\b\b\b\b\b\b\b\b\b\b\n",
            "INFO\t2021-09-04 00:11:31 +0000\tmaster-replica-0\t\t225/254 [=========================>....] - ETA: 0s - loss: 0.3288 - acc: 0.8471\b\b\b\b\b\b\b\b\b\b\b\b\b\b\b\b\b\b\b\b\b\b\b\b\b\b\b\b\b\b\b\b\b\b\b\b\b\b\b\b\b\b\b\b\b\b\b\b\b\b\b\b\b\b\b\b\b\b\b\b\b\b\b\b\b\b\b\b\b\b\b\b\b\b\b\b\b\b\b\n",
            "INFO\t2021-09-04 00:11:31 +0000\tmaster-replica-0\t\t247/254 [============================>.] - ETA: 0s - loss: 0.3270 - acc: 0.8480\b\b\b\b\b\b\b\b\b\b\b\b\b\b\b\b\b\b\b\b\b\b\b\b\b\b\b\b\b\b\b\b\b\b\b\b\b\b\b\b\b\b\b\b\b\b\b\b\b\b\b\b\b\b\b\b\b\b\b\b\b\b\b\b\b\b\b\b\b\b\b\b\b\b\b\b\b\b\b\n",
            "INFO\t2021-09-04 00:11:31 +0000\tmaster-replica-0\t\t254/254 [==============================] - 1s 4ms/step - loss: 0.3275 - acc: 0.8476 - val_loss: 0.3222 - val_acc: 0.8508\n",
            "INFO\t2021-09-04 00:11:31 +0000\tmaster-replica-0\t\tEpoch 00010: LearningRateScheduler reducing learning rate to 0.01001953125.\n",
            "INFO\t2021-09-04 00:11:31 +0000\tmaster-replica-0\t\tEpoch 10/20\n",
            "INFO\t2021-09-04 00:11:31 +0000\tmaster-replica-0\t\t  1/254 [..............................] - ETA: 0s - loss: 0.3190 - acc: 0.8516\b\b\b\b\b\b\b\b\b\b\b\b\b\b\b\b\b\b\b\b\b\b\b\b\b\b\b\b\b\b\b\b\b\b\b\b\b\b\b\b\b\b\b\b\b\b\b\b\b\b\b\b\b\b\b\b\b\b\b\b\b\b\b\b\b\b\b\b\b\b\b\b\b\b\b\b\b\b\b\n",
            "INFO\t2021-09-04 00:11:31 +0000\tmaster-replica-0\t\t 24/254 [=>............................] - ETA: 0s - loss: 0.3323 - acc: 0.8503\b\b\b\b\b\b\b\b\b\b\b\b\b\b\b\b\b\b\b\b\b\b\b\b\b\b\b\b\b\b\b\b\b\b\b\b\b\b\b\b\b\b\b\b\b\b\b\b\b\b\b\b\b\b\b\b\b\b\b\b\b\b\b\b\b\b\b\b\b\b\b\b\b\b\b\b\b\b\b\n",
            "INFO\t2021-09-04 00:11:32 +0000\tmaster-replica-0\t\t 45/254 [====>.........................] - ETA: 0s - loss: 0.3254 - acc: 0.8531\b\b\b\b\b\b\b\b\b\b\b\b\b\b\b\b\b\b\b\b\b\b\b\b\b\b\b\b\b\b\b\b\b\b\b\b\b\b\b\b\b\b\b\b\b\b\b\b\b\b\b\b\b\b\b\b\b\b\b\b\b\b\b\b\b\b\b\b\b\b\b\b\b\b\b\b\b\b\b\n",
            "INFO\t2021-09-04 00:11:32 +0000\tmaster-replica-0\t\t 68/254 [=======>......................] - ETA: 0s - loss: 0.3240 - acc: 0.8496\b\b\b\b\b\b\b\b\b\b\b\b\b\b\b\b\b\b\b\b\b\b\b\b\b\b\b\b\b\b\b\b\b\b\b\b\b\b\b\b\b\b\b\b\b\b\b\b\b\b\b\b\b\b\b\b\b\b\b\b\b\b\b\b\b\b\b\b\b\b\b\b\b\b\b\b\b\b\b\n",
            "INFO\t2021-09-04 00:11:32 +0000\tmaster-replica-0\t\t 91/254 [=========>....................] - ETA: 0s - loss: 0.3207 - acc: 0.8511\b\b\b\b\b\b\b\b\b\b\b\b\b\b\b\b\b\b\b\b\b\b\b\b\b\b\b\b\b\b\b\b\b\b\b\b\b\b\b\b\b\b\b\b\b\b\b\b\b\b\b\b\b\b\b\b\b\b\b\b\b\b\b\b\b\b\b\b\b\b\b\b\b\b\b\b\b\b\b\n",
            "INFO\t2021-09-04 00:11:32 +0000\tmaster-replica-0\t\t113/254 [============>.................] - ETA: 0s - loss: 0.3212 - acc: 0.8507\b\b\b\b\b\b\b\b\b\b\b\b\b\b\b\b\b\b\b\b\b\b\b\b\b\b\b\b\b\b\b\b\b\b\b\b\b\b\b\b\b\b\b\b\b\b\b\b\b\b\b\b\b\b\b\b\b\b\b\b\b\b\b\b\b\b\b\b\b\b\b\b\b\b\b\b\b\b\b\n",
            "INFO\t2021-09-04 00:11:32 +0000\tmaster-replica-0\t\t136/254 [===============>..............] - ETA: 0s - loss: 0.3233 - acc: 0.8488\b\b\b\b\b\b\b\b\b\b\b\b\b\b\b\b\b\b\b\b\b\b\b\b\b\b\b\b\b\b\b\b\b\b\b\b\b\b\b\b\b\b\b\b\b\b\b\b\b\b\b\b\b\b\b\b\b\b\b\b\b\b\b\b\b\b\b\b\b\b\b\b\b\b\b\b\b\b\b\n",
            "INFO\t2021-09-04 00:11:32 +0000\tmaster-replica-0\t\t156/254 [=================>............] - ETA: 0s - loss: 0.3257 - acc: 0.8475\b\b\b\b\b\b\b\b\b\b\b\b\b\b\b\b\b\b\b\b\b\b\b\b\b\b\b\b\b\b\b\b\b\b\b\b\b\b\b\b\b\b\b\b\b\b\b\b\b\b\b\b\b\b\b\b\b\b\b\b\b\b\b\b\b\b\b\b\b\b\b\b\b\b\b\b\b\b\b\n",
            "INFO\t2021-09-04 00:11:32 +0000\tmaster-replica-0\t\t179/254 [====================>.........] - ETA: 0s - loss: 0.3253 - acc: 0.8482\b\b\b\b\b\b\b\b\b\b\b\b\b\b\b\b\b\b\b\b\b\b\b\b\b\b\b\b\b\b\b\b\b\b\b\b\b\b\b\b\b\b\b\b\b\b\b\b\b\b\b\b\b\b\b\b\b\b\b\b\b\b\b\b\b\b\b\b\b\b\b\b\b\b\b\b\b\b\b\n",
            "INFO\t2021-09-04 00:11:32 +0000\tmaster-replica-0\t\t201/254 [======================>.......] - ETA: 0s - loss: 0.3263 - acc: 0.8486\b\b\b\b\b\b\b\b\b\b\b\b\b\b\b\b\b\b\b\b\b\b\b\b\b\b\b\b\b\b\b\b\b\b\b\b\b\b\b\b\b\b\b\b\b\b\b\b\b\b\b\b\b\b\b\b\b\b\b\b\b\b\b\b\b\b\b\b\b\b\b\b\b\b\b\b\b\b\b\n",
            "INFO\t2021-09-04 00:11:32 +0000\tmaster-replica-0\t\t224/254 [=========================>....] - ETA: 0s - loss: 0.3252 - acc: 0.8490\b\b\b\b\b\b\b\b\b\b\b\b\b\b\b\b\b\b\b\b\b\b\b\b\b\b\b\b\b\b\b\b\b\b\b\b\b\b\b\b\b\b\b\b\b\b\b\b\b\b\b\b\b\b\b\b\b\b\b\b\b\b\b\b\b\b\b\b\b\b\b\b\b\b\b\b\b\b\b\n",
            "INFO\t2021-09-04 00:11:32 +0000\tmaster-replica-0\t\t246/254 [============================>.] - ETA: 0s - loss: 0.3260 - acc: 0.8494\b\b\b\b\b\b\b\b\b\b\b\b\b\b\b\b\b\b\b\b\b\b\b\b\b\b\b\b\b\b\b\b\b\b\b\b\b\b\b\b\b\b\b\b\b\b\b\b\b\b\b\b\b\b\b\b\b\b\b\b\b\b\b\b\b\b\b\b\b\b\b\b\b\b\b\b\b\b\b\n",
            "INFO\t2021-09-04 00:11:32 +0000\tmaster-replica-0\t\t254/254 [==============================] - 1s 4ms/step - loss: 0.3261 - acc: 0.8489 - val_loss: 0.3468 - val_acc: 0.8417\n",
            "INFO\t2021-09-04 00:11:32 +0000\tmaster-replica-0\t\tEpoch 00011: LearningRateScheduler reducing learning rate to 0.010009765625.\n",
            "INFO\t2021-09-04 00:11:32 +0000\tmaster-replica-0\t\tEpoch 11/20\n",
            "INFO\t2021-09-04 00:11:32 +0000\tmaster-replica-0\t\t  1/254 [..............................] - ETA: 0s - loss: 0.3509 - acc: 0.8359\b\b\b\b\b\b\b\b\b\b\b\b\b\b\b\b\b\b\b\b\b\b\b\b\b\b\b\b\b\b\b\b\b\b\b\b\b\b\b\b\b\b\b\b\b\b\b\b\b\b\b\b\b\b\b\b\b\b\b\b\b\b\b\b\b\b\b\b\b\b\b\b\b\b\b\b\b\b\b\n",
            "INFO\t2021-09-04 00:11:32 +0000\tmaster-replica-0\t\t 22/254 [=>............................] - ETA: 0s - loss: 0.3355 - acc: 0.8441\b\b\b\b\b\b\b\b\b\b\b\b\b\b\b\b\b\b\b\b\b\b\b\b\b\b\b\b\b\b\b\b\b\b\b\b\b\b\b\b\b\b\b\b\b\b\b\b\b\b\b\b\b\b\b\b\b\b\b\b\b\b\b\b\b\b\b\b\b\b\b\b\b\b\b\b\b\b\b\n",
            "INFO\t2021-09-04 00:11:32 +0000\tmaster-replica-0\t\t 46/254 [====>.........................] - ETA: 0s - loss: 0.3205 - acc: 0.8517\b\b\b\b\b\b\b\b\b\b\b\b\b\b\b\b\b\b\b\b\b\b\b\b\b\b\b\b\b\b\b\b\b\b\b\b\b\b\b\b\b\b\b\b\b\b\b\b\b\b\b\b\b\b\b\b\b\b\b\b\b\b\b\b\b\b\b\b\b\b\b\b\b\b\b\b\b\b\b\n",
            "INFO\t2021-09-04 00:11:33 +0000\tmaster-replica-0\t\t 66/254 [======>.......................] - ETA: 0s - loss: 0.3201 - acc: 0.8520\b\b\b\b\b\b\b\b\b\b\b\b\b\b\b\b\b\b\b\b\b\b\b\b\b\b\b\b\b\b\b\b\b\b\b\b\b\b\b\b\b\b\b\b\b\b\b\b\b\b\b\b\b\b\b\b\b\b\b\b\b\b\b\b\b\b\b\b\b\b\b\b\b\b\b\b\b\b\b\n",
            "INFO\t2021-09-04 00:11:33 +0000\tmaster-replica-0\t\t 90/254 [=========>....................] - ETA: 0s - loss: 0.3225 - acc: 0.8500\b\b\b\b\b\b\b\b\b\b\b\b\b\b\b\b\b\b\b\b\b\b\b\b\b\b\b\b\b\b\b\b\b\b\b\b\b\b\b\b\b\b\b\b\b\b\b\b\b\b\b\b\b\b\b\b\b\b\b\b\b\b\b\b\b\b\b\b\b\b\b\b\b\b\b\b\b\b\b\n",
            "INFO\t2021-09-04 00:11:33 +0000\tmaster-replica-0\t\t111/254 [============>.................] - ETA: 0s - loss: 0.3233 - acc: 0.8481\b\b\b\b\b\b\b\b\b\b\b\b\b\b\b\b\b\b\b\b\b\b\b\b\b\b\b\b\b\b\b\b\b\b\b\b\b\b\b\b\b\b\b\b\b\b\b\b\b\b\b\b\b\b\b\b\b\b\b\b\b\b\b\b\b\b\b\b\b\b\b\b\b\b\b\b\b\b\b\n",
            "INFO\t2021-09-04 00:11:33 +0000\tmaster-replica-0\t\t134/254 [==============>...............] - ETA: 0s - loss: 0.3199 - acc: 0.8495\b\b\b\b\b\b\b\b\b\b\b\b\b\b\b\b\b\b\b\b\b\b\b\b\b\b\b\b\b\b\b\b\b\b\b\b\b\b\b\b\b\b\b\b\b\b\b\b\b\b\b\b\b\b\b\b\b\b\b\b\b\b\b\b\b\b\b\b\b\b\b\b\b\b\b\b\b\b\b\n",
            "INFO\t2021-09-04 00:11:33 +0000\tmaster-replica-0\t\t156/254 [=================>............] - ETA: 0s - loss: 0.3192 - acc: 0.8504\b\b\b\b\b\b\b\b\b\b\b\b\b\b\b\b\b\b\b\b\b\b\b\b\b\b\b\b\b\b\b\b\b\b\b\b\b\b\b\b\b\b\b\b\b\b\b\b\b\b\b\b\b\b\b\b\b\b\b\b\b\b\b\b\b\b\b\b\b\b\b\b\b\b\b\b\b\b\b\n",
            "INFO\t2021-09-04 00:11:33 +0000\tmaster-replica-0\t\t179/254 [====================>.........] - ETA: 0s - loss: 0.3214 - acc: 0.8494\b\b\b\b\b\b\b\b\b\b\b\b\b\b\b\b\b\b\b\b\b\b\b\b\b\b\b\b\b\b\b\b\b\b\b\b\b\b\b\b\b\b\b\b\b\b\b\b\b\b\b\b\b\b\b\b\b\b\b\b\b\b\b\b\b\b\b\b\b\b\b\b\b\b\b\b\b\b\b\n",
            "INFO\t2021-09-04 00:11:33 +0000\tmaster-replica-0\t\t201/254 [======================>.......] - ETA: 0s - loss: 0.3222 - acc: 0.8482\b\b\b\b\b\b\b\b\b\b\b\b\b\b\b\b\b\b\b\b\b\b\b\b\b\b\b\b\b\b\b\b\b\b\b\b\b\b\b\b\b\b\b\b\b\b\b\b\b\b\b\b\b\b\b\b\b\b\b\b\b\b\b\b\b\b\b\b\b\b\b\b\b\b\b\b\b\b\b\n",
            "INFO\t2021-09-04 00:11:33 +0000\tmaster-replica-0\t\t224/254 [=========================>....] - ETA: 0s - loss: 0.3222 - acc: 0.8484\b\b\b\b\b\b\b\b\b\b\b\b\b\b\b\b\b\b\b\b\b\b\b\b\b\b\b\b\b\b\b\b\b\b\b\b\b\b\b\b\b\b\b\b\b\b\b\b\b\b\b\b\b\b\b\b\b\b\b\b\b\b\b\b\b\b\b\b\b\b\b\b\b\b\b\b\b\b\b\n",
            "INFO\t2021-09-04 00:11:33 +0000\tmaster-replica-0\t\t245/254 [===========================>..] - ETA: 0s - loss: 0.3240 - acc: 0.8490\b\b\b\b\b\b\b\b\b\b\b\b\b\b\b\b\b\b\b\b\b\b\b\b\b\b\b\b\b\b\b\b\b\b\b\b\b\b\b\b\b\b\b\b\b\b\b\b\b\b\b\b\b\b\b\b\b\b\b\b\b\b\b\b\b\b\b\b\b\b\b\b\b\b\b\b\b\b\b\n",
            "INFO\t2021-09-04 00:11:33 +0000\tmaster-replica-0\t\t254/254 [==============================] - 1s 4ms/step - loss: 0.3240 - acc: 0.8492 - val_loss: 0.3248 - val_acc: 0.8448\n",
            "INFO\t2021-09-04 00:11:33 +0000\tmaster-replica-0\t\tEpoch 00012: LearningRateScheduler reducing learning rate to 0.010004882812500001.\n",
            "INFO\t2021-09-04 00:11:33 +0000\tmaster-replica-0\t\tEpoch 12/20\n",
            "INFO\t2021-09-04 00:11:33 +0000\tmaster-replica-0\t\t  1/254 [..............................] - ETA: 0s - loss: 0.3630 - acc: 0.8203\b\b\b\b\b\b\b\b\b\b\b\b\b\b\b\b\b\b\b\b\b\b\b\b\b\b\b\b\b\b\b\b\b\b\b\b\b\b\b\b\b\b\b\b\b\b\b\b\b\b\b\b\b\b\b\b\b\b\b\b\b\b\b\b\b\b\b\b\b\b\b\b\b\b\b\b\b\b\b\n",
            "INFO\t2021-09-04 00:11:33 +0000\tmaster-replica-0\t\t 22/254 [=>............................] - ETA: 0s - loss: 0.3296 - acc: 0.8423\b\b\b\b\b\b\b\b\b\b\b\b\b\b\b\b\b\b\b\b\b\b\b\b\b\b\b\b\b\b\b\b\b\b\b\b\b\b\b\b\b\b\b\b\b\b\b\b\b\b\b\b\b\b\b\b\b\b\b\b\b\b\b\b\b\b\b\b\b\b\b\b\b\b\b\b\b\b\b\n",
            "INFO\t2021-09-04 00:11:33 +0000\tmaster-replica-0\t\t 45/254 [====>.........................] - ETA: 0s - loss: 0.3351 - acc: 0.8417\b\b\b\b\b\b\b\b\b\b\b\b\b\b\b\b\b\b\b\b\b\b\b\b\b\b\b\b\b\b\b\b\b\b\b\b\b\b\b\b\b\b\b\b\b\b\b\b\b\b\b\b\b\b\b\b\b\b\b\b\b\b\b\b\b\b\b\b\b\b\b\b\b\b\b\b\b\b\b\n",
            "INFO\t2021-09-04 00:11:33 +0000\tmaster-replica-0\t\t 66/254 [======>.......................] - ETA: 0s - loss: 0.3251 - acc: 0.8465\b\b\b\b\b\b\b\b\b\b\b\b\b\b\b\b\b\b\b\b\b\b\b\b\b\b\b\b\b\b\b\b\b\b\b\b\b\b\b\b\b\b\b\b\b\b\b\b\b\b\b\b\b\b\b\b\b\b\b\b\b\b\b\b\b\b\b\b\b\b\b\b\b\b\b\b\b\b\b\n",
            "INFO\t2021-09-04 00:11:33 +0000\tmaster-replica-0\t\t 88/254 [=========>....................] - ETA: 0s - loss: 0.3282 - acc: 0.8457\b\b\b\b\b\b\b\b\b\b\b\b\b\b\b\b\b\b\b\b\b\b\b\b\b\b\b\b\b\b\b\b\b\b\b\b\b\b\b\b\b\b\b\b\b\b\b\b\b\b\b\b\b\b\b\b\b\b\b\b\b\b\b\b\b\b\b\b\b\b\b\b\b\b\b\b\b\b\b\n",
            "INFO\t2021-09-04 00:11:34 +0000\tmaster-replica-0\t\t110/254 [===========>..................] - ETA: 0s - loss: 0.3292 - acc: 0.8456\b\b\b\b\b\b\b\b\b\b\b\b\b\b\b\b\b\b\b\b\b\b\b\b\b\b\b\b\b\b\b\b\b\b\b\b\b\b\b\b\b\b\b\b\b\b\b\b\b\b\b\b\b\b\b\b\b\b\b\b\b\b\b\b\b\b\b\b\b\b\b\b\b\b\b\b\b\b\b\n",
            "INFO\t2021-09-04 00:11:34 +0000\tmaster-replica-0\t\t133/254 [==============>...............] - ETA: 0s - loss: 0.3293 - acc: 0.8455\b\b\b\b\b\b\b\b\b\b\b\b\b\b\b\b\b\b\b\b\b\b\b\b\b\b\b\b\b\b\b\b\b\b\b\b\b\b\b\b\b\b\b\b\b\b\b\b\b\b\b\b\b\b\b\b\b\b\b\b\b\b\b\b\b\b\b\b\b\b\b\b\b\b\b\b\b\b\b\n",
            "INFO\t2021-09-04 00:11:34 +0000\tmaster-replica-0\t\t155/254 [=================>............] - ETA: 0s - loss: 0.3298 - acc: 0.8469\b\b\b\b\b\b\b\b\b\b\b\b\b\b\b\b\b\b\b\b\b\b\b\b\b\b\b\b\b\b\b\b\b\b\b\b\b\b\b\b\b\b\b\b\b\b\b\b\b\b\b\b\b\b\b\b\b\b\b\b\b\b\b\b\b\b\b\b\b\b\b\b\b\b\b\b\b\b\b\n",
            "INFO\t2021-09-04 00:11:34 +0000\tmaster-replica-0\t\t178/254 [====================>.........] - ETA: 0s - loss: 0.3274 - acc: 0.8473\b\b\b\b\b\b\b\b\b\b\b\b\b\b\b\b\b\b\b\b\b\b\b\b\b\b\b\b\b\b\b\b\b\b\b\b\b\b\b\b\b\b\b\b\b\b\b\b\b\b\b\b\b\b\b\b\b\b\b\b\b\b\b\b\b\b\b\b\b\b\b\b\b\b\b\b\b\b\b\n",
            "INFO\t2021-09-04 00:11:34 +0000\tmaster-replica-0\t\t200/254 [======================>.......] - ETA: 0s - loss: 0.3279 - acc: 0.8471\b\b\b\b\b\b\b\b\b\b\b\b\b\b\b\b\b\b\b\b\b\b\b\b\b\b\b\b\b\b\b\b\b\b\b\b\b\b\b\b\b\b\b\b\b\b\b\b\b\b\b\b\b\b\b\b\b\b\b\b\b\b\b\b\b\b\b\b\b\b\b\b\b\b\b\b\b\b\b\n",
            "INFO\t2021-09-04 00:11:34 +0000\tmaster-replica-0\t\t223/254 [=========================>....] - ETA: 0s - loss: 0.3258 - acc: 0.8481\b\b\b\b\b\b\b\b\b\b\b\b\b\b\b\b\b\b\b\b\b\b\b\b\b\b\b\b\b\b\b\b\b\b\b\b\b\b\b\b\b\b\b\b\b\b\b\b\b\b\b\b\b\b\b\b\b\b\b\b\b\b\b\b\b\b\b\b\b\b\b\b\b\b\b\b\b\b\b\n",
            "INFO\t2021-09-04 00:11:34 +0000\tmaster-replica-0\t\t243/254 [===========================>..] - ETA: 0s - loss: 0.3277 - acc: 0.8484\b\b\b\b\b\b\b\b\b\b\b\b\b\b\b\b\b\b\b\b\b\b\b\b\b\b\b\b\b\b\b\b\b\b\b\b\b\b\b\b\b\b\b\b\b\b\b\b\b\b\b\b\b\b\b\b\b\b\b\b\b\b\b\b\b\b\b\b\b\b\b\b\b\b\b\b\b\b\b\n",
            "INFO\t2021-09-04 00:11:34 +0000\tmaster-replica-0\t\t254/254 [==============================] - 1s 4ms/step - loss: 0.3273 - acc: 0.8486 - val_loss: 0.3182 - val_acc: 0.8514\n",
            "INFO\t2021-09-04 00:11:34 +0000\tmaster-replica-0\t\tEpoch 00013: LearningRateScheduler reducing learning rate to 0.01000244140625.\n",
            "INFO\t2021-09-04 00:11:34 +0000\tmaster-replica-0\t\tEpoch 13/20\n",
            "INFO\t2021-09-04 00:11:34 +0000\tmaster-replica-0\t\t  1/254 [..............................] - ETA: 0s - loss: 0.3075 - acc: 0.8516\b\b\b\b\b\b\b\b\b\b\b\b\b\b\b\b\b\b\b\b\b\b\b\b\b\b\b\b\b\b\b\b\b\b\b\b\b\b\b\b\b\b\b\b\b\b\b\b\b\b\b\b\b\b\b\b\b\b\b\b\b\b\b\b\b\b\b\b\b\b\b\b\b\b\b\b\b\b\b\n",
            "INFO\t2021-09-04 00:11:34 +0000\tmaster-replica-0\t\t 24/254 [=>............................] - ETA: 0s - loss: 0.3234 - acc: 0.8451\b\b\b\b\b\b\b\b\b\b\b\b\b\b\b\b\b\b\b\b\b\b\b\b\b\b\b\b\b\b\b\b\b\b\b\b\b\b\b\b\b\b\b\b\b\b\b\b\b\b\b\b\b\b\b\b\b\b\b\b\b\b\b\b\b\b\b\b\b\b\b\b\b\b\b\b\b\b\b\n",
            "INFO\t2021-09-04 00:11:34 +0000\tmaster-replica-0\t\t 47/254 [====>.........................] - ETA: 0s - loss: 0.3197 - acc: 0.8487\b\b\b\b\b\b\b\b\b\b\b\b\b\b\b\b\b\b\b\b\b\b\b\b\b\b\b\b\b\b\b\b\b\b\b\b\b\b\b\b\b\b\b\b\b\b\b\b\b\b\b\b\b\b\b\b\b\b\b\b\b\b\b\b\b\b\b\b\b\b\b\b\b\b\b\b\b\b\b\n",
            "INFO\t2021-09-04 00:11:34 +0000\tmaster-replica-0\t\t 70/254 [=======>......................] - ETA: 0s - loss: 0.3200 - acc: 0.8484\b\b\b\b\b\b\b\b\b\b\b\b\b\b\b\b\b\b\b\b\b\b\b\b\b\b\b\b\b\b\b\b\b\b\b\b\b\b\b\b\b\b\b\b\b\b\b\b\b\b\b\b\b\b\b\b\b\b\b\b\b\b\b\b\b\b\b\b\b\b\b\b\b\b\b\b\b\b\b\n",
            "INFO\t2021-09-04 00:11:34 +0000\tmaster-replica-0\t\t 93/254 [=========>....................] - ETA: 0s - loss: 0.3216 - acc: 0.8497\b\b\b\b\b\b\b\b\b\b\b\b\b\b\b\b\b\b\b\b\b\b\b\b\b\b\b\b\b\b\b\b\b\b\b\b\b\b\b\b\b\b\b\b\b\b\b\b\b\b\b\b\b\b\b\b\b\b\b\b\b\b\b\b\b\b\b\b\b\b\b\b\b\b\b\b\b\b\b\n",
            "INFO\t2021-09-04 00:11:34 +0000\tmaster-replica-0\t\t116/254 [============>.................] - ETA: 0s - loss: 0.3237 - acc: 0.8488\b\b\b\b\b\b\b\b\b\b\b\b\b\b\b\b\b\b\b\b\b\b\b\b\b\b\b\b\b\b\b\b\b\b\b\b\b\b\b\b\b\b\b\b\b\b\b\b\b\b\b\b\b\b\b\b\b\b\b\b\b\b\b\b\b\b\b\b\b\b\b\b\b\b\b\b\b\b\b\n",
            "INFO\t2021-09-04 00:11:35 +0000\tmaster-replica-0\t\t135/254 [==============>...............] - ETA: 0s - loss: 0.3255 - acc: 0.8481\b\b\b\b\b\b\b\b\b\b\b\b\b\b\b\b\b\b\b\b\b\b\b\b\b\b\b\b\b\b\b\b\b\b\b\b\b\b\b\b\b\b\b\b\b\b\b\b\b\b\b\b\b\b\b\b\b\b\b\b\b\b\b\b\b\b\b\b\b\b\b\b\b\b\b\b\b\b\b\n",
            "INFO\t2021-09-04 00:11:35 +0000\tmaster-replica-0\t\t158/254 [=================>............] - ETA: 0s - loss: 0.3247 - acc: 0.8495\b\b\b\b\b\b\b\b\b\b\b\b\b\b\b\b\b\b\b\b\b\b\b\b\b\b\b\b\b\b\b\b\b\b\b\b\b\b\b\b\b\b\b\b\b\b\b\b\b\b\b\b\b\b\b\b\b\b\b\b\b\b\b\b\b\b\b\b\b\b\b\b\b\b\b\b\b\b\b\n",
            "INFO\t2021-09-04 00:11:35 +0000\tmaster-replica-0\t\t180/254 [====================>.........] - ETA: 0s - loss: 0.3274 - acc: 0.8490\b\b\b\b\b\b\b\b\b\b\b\b\b\b\b\b\b\b\b\b\b\b\b\b\b\b\b\b\b\b\b\b\b\b\b\b\b\b\b\b\b\b\b\b\b\b\b\b\b\b\b\b\b\b\b\b\b\b\b\b\b\b\b\b\b\b\b\b\b\b\b\b\b\b\b\b\b\b\b\n",
            "INFO\t2021-09-04 00:11:35 +0000\tmaster-replica-0\t\t204/254 [=======================>......] - ETA: 0s - loss: 0.3243 - acc: 0.8501\b\b\b\b\b\b\b\b\b\b\b\b\b\b\b\b\b\b\b\b\b\b\b\b\b\b\b\b\b\b\b\b\b\b\b\b\b\b\b\b\b\b\b\b\b\b\b\b\b\b\b\b\b\b\b\b\b\b\b\b\b\b\b\b\b\b\b\b\b\b\b\b\b\b\b\b\b\b\b\n",
            "INFO\t2021-09-04 00:11:35 +0000\tmaster-replica-0\t\t226/254 [=========================>....] - ETA: 0s - loss: 0.3249 - acc: 0.8502\b\b\b\b\b\b\b\b\b\b\b\b\b\b\b\b\b\b\b\b\b\b\b\b\b\b\b\b\b\b\b\b\b\b\b\b\b\b\b\b\b\b\b\b\b\b\b\b\b\b\b\b\b\b\b\b\b\b\b\b\b\b\b\b\b\b\b\b\b\b\b\b\b\b\b\b\b\b\b\n",
            "INFO\t2021-09-04 00:11:35 +0000\tmaster-replica-0\t\t249/254 [============================>.] - ETA: 0s - loss: 0.3240 - acc: 0.8500\b\b\b\b\b\b\b\b\b\b\b\b\b\b\b\b\b\b\b\b\b\b\b\b\b\b\b\b\b\b\b\b\b\b\b\b\b\b\b\b\b\b\b\b\b\b\b\b\b\b\b\b\b\b\b\b\b\b\b\b\b\b\b\b\b\b\b\b\b\b\b\b\b\b\b\b\b\b\b\n",
            "INFO\t2021-09-04 00:11:35 +0000\tmaster-replica-0\t\t254/254 [==============================] - 1s 4ms/step - loss: 0.3236 - acc: 0.8498 - val_loss: 0.3289 - val_acc: 0.8508\n",
            "INFO\t2021-09-04 00:11:35 +0000\tmaster-replica-0\t\tEpoch 00014: LearningRateScheduler reducing learning rate to 0.010001220703125.\n",
            "INFO\t2021-09-04 00:11:35 +0000\tmaster-replica-0\t\tEpoch 14/20\n",
            "INFO\t2021-09-04 00:11:35 +0000\tmaster-replica-0\t\t  1/254 [..............................] - ETA: 0s - loss: 0.3241 - acc: 0.8516\b\b\b\b\b\b\b\b\b\b\b\b\b\b\b\b\b\b\b\b\b\b\b\b\b\b\b\b\b\b\b\b\b\b\b\b\b\b\b\b\b\b\b\b\b\b\b\b\b\b\b\b\b\b\b\b\b\b\b\b\b\b\b\b\b\b\b\b\b\b\b\b\b\b\b\b\b\b\b\n",
            "INFO\t2021-09-04 00:11:35 +0000\tmaster-replica-0\t\t 23/254 [=>............................] - ETA: 0s - loss: 0.3200 - acc: 0.8414\b\b\b\b\b\b\b\b\b\b\b\b\b\b\b\b\b\b\b\b\b\b\b\b\b\b\b\b\b\b\b\b\b\b\b\b\b\b\b\b\b\b\b\b\b\b\b\b\b\b\b\b\b\b\b\b\b\b\b\b\b\b\b\b\b\b\b\b\b\b\b\b\b\b\b\b\b\b\b\n",
            "INFO\t2021-09-04 00:11:35 +0000\tmaster-replica-0\t\t 45/254 [====>.........................] - ETA: 0s - loss: 0.3224 - acc: 0.8457\b\b\b\b\b\b\b\b\b\b\b\b\b\b\b\b\b\b\b\b\b\b\b\b\b\b\b\b\b\b\b\b\b\b\b\b\b\b\b\b\b\b\b\b\b\b\b\b\b\b\b\b\b\b\b\b\b\b\b\b\b\b\b\b\b\b\b\b\b\b\b\b\b\b\b\b\b\b\b\n",
            "INFO\t2021-09-04 00:11:35 +0000\tmaster-replica-0\t\t 68/254 [=======>......................] - ETA: 0s - loss: 0.3263 - acc: 0.8454\b\b\b\b\b\b\b\b\b\b\b\b\b\b\b\b\b\b\b\b\b\b\b\b\b\b\b\b\b\b\b\b\b\b\b\b\b\b\b\b\b\b\b\b\b\b\b\b\b\b\b\b\b\b\b\b\b\b\b\b\b\b\b\b\b\b\b\b\b\b\b\b\b\b\b\b\b\b\b\n",
            "INFO\t2021-09-04 00:11:35 +0000\tmaster-replica-0\t\t 89/254 [=========>....................] - ETA: 0s - loss: 0.3259 - acc: 0.8477\b\b\b\b\b\b\b\b\b\b\b\b\b\b\b\b\b\b\b\b\b\b\b\b\b\b\b\b\b\b\b\b\b\b\b\b\b\b\b\b\b\b\b\b\b\b\b\b\b\b\b\b\b\b\b\b\b\b\b\b\b\b\b\b\b\b\b\b\b\b\b\b\b\b\b\b\b\b\b\n",
            "INFO\t2021-09-04 00:11:35 +0000\tmaster-replica-0\t\t112/254 [============>.................] - ETA: 0s - loss: 0.3276 - acc: 0.8467\b\b\b\b\b\b\b\b\b\b\b\b\b\b\b\b\b\b\b\b\b\b\b\b\b\b\b\b\b\b\b\b\b\b\b\b\b\b\b\b\b\b\b\b\b\b\b\b\b\b\b\b\b\b\b\b\b\b\b\b\b\b\b\b\b\b\b\b\b\b\b\b\b\b\b\b\b\b\b\n",
            "INFO\t2021-09-04 00:11:35 +0000\tmaster-replica-0\t\t133/254 [==============>...............] - ETA: 0s - loss: 0.3251 - acc: 0.8486\b\b\b\b\b\b\b\b\b\b\b\b\b\b\b\b\b\b\b\b\b\b\b\b\b\b\b\b\b\b\b\b\b\b\b\b\b\b\b\b\b\b\b\b\b\b\b\b\b\b\b\b\b\b\b\b\b\b\b\b\b\b\b\b\b\b\b\b\b\b\b\b\b\b\b\b\b\b\b\n",
            "INFO\t2021-09-04 00:11:35 +0000\tmaster-replica-0\t\t157/254 [=================>............] - ETA: 0s - loss: 0.3271 - acc: 0.8481\b\b\b\b\b\b\b\b\b\b\b\b\b\b\b\b\b\b\b\b\b\b\b\b\b\b\b\b\b\b\b\b\b\b\b\b\b\b\b\b\b\b\b\b\b\b\b\b\b\b\b\b\b\b\b\b\b\b\b\b\b\b\b\b\b\b\b\b\b\b\b\b\b\b\b\b\b\b\b\n",
            "INFO\t2021-09-04 00:11:36 +0000\tmaster-replica-0\t\t177/254 [===================>..........] - ETA: 0s - loss: 0.3270 - acc: 0.8490\b\b\b\b\b\b\b\b\b\b\b\b\b\b\b\b\b\b\b\b\b\b\b\b\b\b\b\b\b\b\b\b\b\b\b\b\b\b\b\b\b\b\b\b\b\b\b\b\b\b\b\b\b\b\b\b\b\b\b\b\b\b\b\b\b\b\b\b\b\b\b\b\b\b\b\b\b\b\b\n",
            "INFO\t2021-09-04 00:11:36 +0000\tmaster-replica-0\t\t200/254 [======================>.......] - ETA: 0s - loss: 0.3268 - acc: 0.8489\b\b\b\b\b\b\b\b\b\b\b\b\b\b\b\b\b\b\b\b\b\b\b\b\b\b\b\b\b\b\b\b\b\b\b\b\b\b\b\b\b\b\b\b\b\b\b\b\b\b\b\b\b\b\b\b\b\b\b\b\b\b\b\b\b\b\b\b\b\b\b\b\b\b\b\b\b\b\b\n",
            "INFO\t2021-09-04 00:11:36 +0000\tmaster-replica-0\t\t223/254 [=========================>....] - ETA: 0s - loss: 0.3261 - acc: 0.8494\b\b\b\b\b\b\b\b\b\b\b\b\b\b\b\b\b\b\b\b\b\b\b\b\b\b\b\b\b\b\b\b\b\b\b\b\b\b\b\b\b\b\b\b\b\b\b\b\b\b\b\b\b\b\b\b\b\b\b\b\b\b\b\b\b\b\b\b\b\b\b\b\b\b\b\b\b\b\b\n",
            "INFO\t2021-09-04 00:11:36 +0000\tmaster-replica-0\t\t245/254 [===========================>..] - ETA: 0s - loss: 0.3260 - acc: 0.8490\b\b\b\b\b\b\b\b\b\b\b\b\b\b\b\b\b\b\b\b\b\b\b\b\b\b\b\b\b\b\b\b\b\b\b\b\b\b\b\b\b\b\b\b\b\b\b\b\b\b\b\b\b\b\b\b\b\b\b\b\b\b\b\b\b\b\b\b\b\b\b\b\b\b\b\b\b\b\b\n",
            "INFO\t2021-09-04 00:11:36 +0000\tmaster-replica-0\t\t254/254 [==============================] - 1s 4ms/step - loss: 0.3258 - acc: 0.8494 - val_loss: 0.3507 - val_acc: 0.8510\n",
            "INFO\t2021-09-04 00:11:36 +0000\tmaster-replica-0\t\tEpoch 00015: LearningRateScheduler reducing learning rate to 0.0100006103515625.\n",
            "INFO\t2021-09-04 00:11:36 +0000\tmaster-replica-0\t\tEpoch 15/20\n",
            "INFO\t2021-09-04 00:11:36 +0000\tmaster-replica-0\t\t  1/254 [..............................] - ETA: 0s - loss: 0.2642 - acc: 0.8828\b\b\b\b\b\b\b\b\b\b\b\b\b\b\b\b\b\b\b\b\b\b\b\b\b\b\b\b\b\b\b\b\b\b\b\b\b\b\b\b\b\b\b\b\b\b\b\b\b\b\b\b\b\b\b\b\b\b\b\b\b\b\b\b\b\b\b\b\b\b\b\b\b\b\b\b\b\b\b\n",
            "INFO\t2021-09-04 00:11:36 +0000\tmaster-replica-0\t\t 22/254 [=>............................] - ETA: 0s - loss: 0.3338 - acc: 0.8466\b\b\b\b\b\b\b\b\b\b\b\b\b\b\b\b\b\b\b\b\b\b\b\b\b\b\b\b\b\b\b\b\b\b\b\b\b\b\b\b\b\b\b\b\b\b\b\b\b\b\b\b\b\b\b\b\b\b\b\b\b\b\b\b\b\b\b\b\b\b\b\b\b\b\b\b\b\b\b\n",
            "INFO\t2021-09-04 00:11:36 +0000\tmaster-replica-0\t\t 45/254 [====>.........................] - ETA: 0s - loss: 0.3250 - acc: 0.8483\b\b\b\b\b\b\b\b\b\b\b\b\b\b\b\b\b\b\b\b\b\b\b\b\b\b\b\b\b\b\b\b\b\b\b\b\b\b\b\b\b\b\b\b\b\b\b\b\b\b\b\b\b\b\b\b\b\b\b\b\b\b\b\b\b\b\b\b\b\b\b\b\b\b\b\b\b\b\b\n",
            "INFO\t2021-09-04 00:11:36 +0000\tmaster-replica-0\t\t 68/254 [=======>......................] - ETA: 0s - loss: 0.3277 - acc: 0.8478\b\b\b\b\b\b\b\b\b\b\b\b\b\b\b\b\b\b\b\b\b\b\b\b\b\b\b\b\b\b\b\b\b\b\b\b\b\b\b\b\b\b\b\b\b\b\b\b\b\b\b\b\b\b\b\b\b\b\b\b\b\b\b\b\b\b\b\b\b\b\b\b\b\b\b\b\b\b\b\n",
            "INFO\t2021-09-04 00:11:36 +0000\tmaster-replica-0\t\t 91/254 [=========>....................] - ETA: 0s - loss: 0.3288 - acc: 0.8470\b\b\b\b\b\b\b\b\b\b\b\b\b\b\b\b\b\b\b\b\b\b\b\b\b\b\b\b\b\b\b\b\b\b\b\b\b\b\b\b\b\b\b\b\b\b\b\b\b\b\b\b\b\b\b\b\b\b\b\b\b\b\b\b\b\b\b\b\b\b\b\b\b\b\b\b\b\b\b\n",
            "INFO\t2021-09-04 00:11:36 +0000\tmaster-replica-0\t\t113/254 [============>.................] - ETA: 0s - loss: 0.3273 - acc: 0.8502\b\b\b\b\b\b\b\b\b\b\b\b\b\b\b\b\b\b\b\b\b\b\b\b\b\b\b\b\b\b\b\b\b\b\b\b\b\b\b\b\b\b\b\b\b\b\b\b\b\b\b\b\b\b\b\b\b\b\b\b\b\b\b\b\b\b\b\b\b\b\b\b\b\b\b\b\b\b\b\n",
            "INFO\t2021-09-04 00:11:36 +0000\tmaster-replica-0\t\t134/254 [==============>...............] - ETA: 0s - loss: 0.3262 - acc: 0.8495\b\b\b\b\b\b\b\b\b\b\b\b\b\b\b\b\b\b\b\b\b\b\b\b\b\b\b\b\b\b\b\b\b\b\b\b\b\b\b\b\b\b\b\b\b\b\b\b\b\b\b\b\b\b\b\b\b\b\b\b\b\b\b\b\b\b\b\b\b\b\b\b\b\b\b\b\b\b\b\n",
            "INFO\t2021-09-04 00:11:36 +0000\tmaster-replica-0\t\t155/254 [=================>............] - ETA: 0s - loss: 0.3244 - acc: 0.8512\b\b\b\b\b\b\b\b\b\b\b\b\b\b\b\b\b\b\b\b\b\b\b\b\b\b\b\b\b\b\b\b\b\b\b\b\b\b\b\b\b\b\b\b\b\b\b\b\b\b\b\b\b\b\b\b\b\b\b\b\b\b\b\b\b\b\b\b\b\b\b\b\b\b\b\b\b\b\b\n",
            "INFO\t2021-09-04 00:11:36 +0000\tmaster-replica-0\t\t177/254 [===================>..........] - ETA: 0s - loss: 0.3258 - acc: 0.8504\b\b\b\b\b\b\b\b\b\b\b\b\b\b\b\b\b\b\b\b\b\b\b\b\b\b\b\b\b\b\b\b\b\b\b\b\b\b\b\b\b\b\b\b\b\b\b\b\b\b\b\b\b\b\b\b\b\b\b\b\b\b\b\b\b\b\b\b\b\b\b\b\b\b\b\b\b\b\b\n",
            "INFO\t2021-09-04 00:11:37 +0000\tmaster-replica-0\t\t199/254 [======================>.......] - ETA: 0s - loss: 0.3267 - acc: 0.8502\b\b\b\b\b\b\b\b\b\b\b\b\b\b\b\b\b\b\b\b\b\b\b\b\b\b\b\b\b\b\b\b\b\b\b\b\b\b\b\b\b\b\b\b\b\b\b\b\b\b\b\b\b\b\b\b\b\b\b\b\b\b\b\b\b\b\b\b\b\b\b\b\b\b\b\b\b\b\b\n",
            "INFO\t2021-09-04 00:11:37 +0000\tmaster-replica-0\t\t221/254 [=========================>....] - ETA: 0s - loss: 0.3263 - acc: 0.8507\b\b\b\b\b\b\b\b\b\b\b\b\b\b\b\b\b\b\b\b\b\b\b\b\b\b\b\b\b\b\b\b\b\b\b\b\b\b\b\b\b\b\b\b\b\b\b\b\b\b\b\b\b\b\b\b\b\b\b\b\b\b\b\b\b\b\b\b\b\b\b\b\b\b\b\b\b\b\b\n",
            "INFO\t2021-09-04 00:11:37 +0000\tmaster-replica-0\t\t243/254 [===========================>..] - ETA: 0s - loss: 0.3259 - acc: 0.8507\b\b\b\b\b\b\b\b\b\b\b\b\b\b\b\b\b\b\b\b\b\b\b\b\b\b\b\b\b\b\b\b\b\b\b\b\b\b\b\b\b\b\b\b\b\b\b\b\b\b\b\b\b\b\b\b\b\b\b\b\b\b\b\b\b\b\b\b\b\b\b\b\b\b\b\b\b\b\b\n",
            "INFO\t2021-09-04 00:11:37 +0000\tmaster-replica-0\t\t254/254 [==============================] - 1s 4ms/step - loss: 0.3251 - acc: 0.8512 - val_loss: 0.3281 - val_acc: 0.8512\n",
            "INFO\t2021-09-04 00:11:37 +0000\tmaster-replica-0\t\tEpoch 00016: LearningRateScheduler reducing learning rate to 0.01000030517578125.\n",
            "INFO\t2021-09-04 00:11:37 +0000\tmaster-replica-0\t\tEpoch 16/20\n",
            "INFO\t2021-09-04 00:11:37 +0000\tmaster-replica-0\t\t  1/254 [..............................] - ETA: 0s - loss: 0.2885 - acc: 0.8750\b\b\b\b\b\b\b\b\b\b\b\b\b\b\b\b\b\b\b\b\b\b\b\b\b\b\b\b\b\b\b\b\b\b\b\b\b\b\b\b\b\b\b\b\b\b\b\b\b\b\b\b\b\b\b\b\b\b\b\b\b\b\b\b\b\b\b\b\b\b\b\b\b\b\b\b\b\b\b\n",
            "INFO\t2021-09-04 00:11:37 +0000\tmaster-replica-0\t\t 23/254 [=>............................] - ETA: 0s - loss: 0.3216 - acc: 0.8539\b\b\b\b\b\b\b\b\b\b\b\b\b\b\b\b\b\b\b\b\b\b\b\b\b\b\b\b\b\b\b\b\b\b\b\b\b\b\b\b\b\b\b\b\b\b\b\b\b\b\b\b\b\b\b\b\b\b\b\b\b\b\b\b\b\b\b\b\b\b\b\b\b\b\b\b\b\b\b\n",
            "INFO\t2021-09-04 00:11:37 +0000\tmaster-replica-0\t\t 46/254 [====>.........................] - ETA: 0s - loss: 0.3236 - acc: 0.8516\b\b\b\b\b\b\b\b\b\b\b\b\b\b\b\b\b\b\b\b\b\b\b\b\b\b\b\b\b\b\b\b\b\b\b\b\b\b\b\b\b\b\b\b\b\b\b\b\b\b\b\b\b\b\b\b\b\b\b\b\b\b\b\b\b\b\b\b\b\b\b\b\b\b\b\b\b\b\b\n",
            "INFO\t2021-09-04 00:11:37 +0000\tmaster-replica-0\t\t 68/254 [=======>......................] - ETA: 0s - loss: 0.3269 - acc: 0.8490\b\b\b\b\b\b\b\b\b\b\b\b\b\b\b\b\b\b\b\b\b\b\b\b\b\b\b\b\b\b\b\b\b\b\b\b\b\b\b\b\b\b\b\b\b\b\b\b\b\b\b\b\b\b\b\b\b\b\b\b\b\b\b\b\b\b\b\b\b\b\b\b\b\b\b\b\b\b\b\n",
            "INFO\t2021-09-04 00:11:37 +0000\tmaster-replica-0\t\t 91/254 [=========>....................] - ETA: 0s - loss: 0.3261 - acc: 0.8494\b\b\b\b\b\b\b\b\b\b\b\b\b\b\b\b\b\b\b\b\b\b\b\b\b\b\b\b\b\b\b\b\b\b\b\b\b\b\b\b\b\b\b\b\b\b\b\b\b\b\b\b\b\b\b\b\b\b\b\b\b\b\b\b\b\b\b\b\b\b\b\b\b\b\b\b\b\b\b\n",
            "INFO\t2021-09-04 00:11:37 +0000\tmaster-replica-0\t\t114/254 [============>.................] - ETA: 0s - loss: 0.3257 - acc: 0.8489\b\b\b\b\b\b\b\b\b\b\b\b\b\b\b\b\b\b\b\b\b\b\b\b\b\b\b\b\b\b\b\b\b\b\b\b\b\b\b\b\b\b\b\b\b\b\b\b\b\b\b\b\b\b\b\b\b\b\b\b\b\b\b\b\b\b\b\b\b\b\b\b\b\b\b\b\b\b\b\n",
            "INFO\t2021-09-04 00:11:37 +0000\tmaster-replica-0\t\t137/254 [===============>..............] - ETA: 0s - loss: 0.3258 - acc: 0.8489\b\b\b\b\b\b\b\b\b\b\b\b\b\b\b\b\b\b\b\b\b\b\b\b\b\b\b\b\b\b\b\b\b\b\b\b\b\b\b\b\b\b\b\b\b\b\b\b\b\b\b\b\b\b\b\b\b\b\b\b\b\b\b\b\b\b\b\b\b\b\b\b\b\b\b\b\b\b\b\n",
            "INFO\t2021-09-04 00:11:37 +0000\tmaster-replica-0\t\t161/254 [==================>...........] - ETA: 0s - loss: 0.3259 - acc: 0.8492\b\b\b\b\b\b\b\b\b\b\b\b\b\b\b\b\b\b\b\b\b\b\b\b\b\b\b\b\b\b\b\b\b\b\b\b\b\b\b\b\b\b\b\b\b\b\b\b\b\b\b\b\b\b\b\b\b\b\b\b\b\b\b\b\b\b\b\b\b\b\b\b\b\b\b\b\b\b\b\n",
            "INFO\t2021-09-04 00:11:37 +0000\tmaster-replica-0\t\t184/254 [====================>.........] - ETA: 0s - loss: 0.3263 - acc: 0.8499\b\b\b\b\b\b\b\b\b\b\b\b\b\b\b\b\b\b\b\b\b\b\b\b\b\b\b\b\b\b\b\b\b\b\b\b\b\b\b\b\b\b\b\b\b\b\b\b\b\b\b\b\b\b\b\b\b\b\b\b\b\b\b\b\b\b\b\b\b\b\b\b\b\b\b\b\b\b\b\n",
            "INFO\t2021-09-04 00:11:37 +0000\tmaster-replica-0\t\t207/254 [=======================>......] - ETA: 0s - loss: 0.3249 - acc: 0.8505\b\b\b\b\b\b\b\b\b\b\b\b\b\b\b\b\b\b\b\b\b\b\b\b\b\b\b\b\b\b\b\b\b\b\b\b\b\b\b\b\b\b\b\b\b\b\b\b\b\b\b\b\b\b\b\b\b\b\b\b\b\b\b\b\b\b\b\b\b\b\b\b\b\b\b\b\b\b\b\n",
            "INFO\t2021-09-04 00:11:38 +0000\tmaster-replica-0\t\t230/254 [==========================>...] - ETA: 0s - loss: 0.3239 - acc: 0.8512\b\b\b\b\b\b\b\b\b\b\b\b\b\b\b\b\b\b\b\b\b\b\b\b\b\b\b\b\b\b\b\b\b\b\b\b\b\b\b\b\b\b\b\b\b\b\b\b\b\b\b\b\b\b\b\b\b\b\b\b\b\b\b\b\b\b\b\b\b\b\b\b\b\b\b\b\b\b\b\n",
            "INFO\t2021-09-04 00:11:38 +0000\tmaster-replica-0\t\t253/254 [============================>.] - ETA: 0s - loss: 0.3232 - acc: 0.8514\b\b\b\b\b\b\b\b\b\b\b\b\b\b\b\b\b\b\b\b\b\b\b\b\b\b\b\b\b\b\b\b\b\b\b\b\b\b\b\b\b\b\b\b\b\b\b\b\b\b\b\b\b\b\b\b\b\b\b\b\b\b\b\b\b\b\b\b\b\b\b\b\b\b\b\b\b\b\b\n",
            "INFO\t2021-09-04 00:11:38 +0000\tmaster-replica-0\t\t254/254 [==============================] - 1s 4ms/step - loss: 0.3230 - acc: 0.8515 - val_loss: 0.3436 - val_acc: 0.8523\n",
            "INFO\t2021-09-04 00:11:38 +0000\tmaster-replica-0\t\tEpoch 00017: LearningRateScheduler reducing learning rate to 0.010000152587890625.\n",
            "INFO\t2021-09-04 00:11:38 +0000\tmaster-replica-0\t\tEpoch 17/20\n",
            "INFO\t2021-09-04 00:11:38 +0000\tmaster-replica-0\t\t  1/254 [..............................] - ETA: 0s - loss: 0.3197 - acc: 0.8516\b\b\b\b\b\b\b\b\b\b\b\b\b\b\b\b\b\b\b\b\b\b\b\b\b\b\b\b\b\b\b\b\b\b\b\b\b\b\b\b\b\b\b\b\b\b\b\b\b\b\b\b\b\b\b\b\b\b\b\b\b\b\b\b\b\b\b\b\b\b\b\b\b\b\b\b\b\b\b\n",
            "INFO\t2021-09-04 00:11:38 +0000\tmaster-replica-0\t\t 23/254 [=>............................] - ETA: 0s - loss: 0.3077 - acc: 0.8590\b\b\b\b\b\b\b\b\b\b\b\b\b\b\b\b\b\b\b\b\b\b\b\b\b\b\b\b\b\b\b\b\b\b\b\b\b\b\b\b\b\b\b\b\b\b\b\b\b\b\b\b\b\b\b\b\b\b\b\b\b\b\b\b\b\b\b\b\b\b\b\b\b\b\b\b\b\b\b\n",
            "INFO\t2021-09-04 00:11:38 +0000\tmaster-replica-0\t\t 47/254 [====>.........................] - ETA: 0s - loss: 0.3161 - acc: 0.8526\b\b\b\b\b\b\b\b\b\b\b\b\b\b\b\b\b\b\b\b\b\b\b\b\b\b\b\b\b\b\b\b\b\b\b\b\b\b\b\b\b\b\b\b\b\b\b\b\b\b\b\b\b\b\b\b\b\b\b\b\b\b\b\b\b\b\b\b\b\b\b\b\b\b\b\b\b\b\b\n",
            "INFO\t2021-09-04 00:11:38 +0000\tmaster-replica-0\t\t 71/254 [=======>......................] - ETA: 0s - loss: 0.3170 - acc: 0.8529\b\b\b\b\b\b\b\b\b\b\b\b\b\b\b\b\b\b\b\b\b\b\b\b\b\b\b\b\b\b\b\b\b\b\b\b\b\b\b\b\b\b\b\b\b\b\b\b\b\b\b\b\b\b\b\b\b\b\b\b\b\b\b\b\b\b\b\b\b\b\b\b\b\b\b\b\b\b\b\n",
            "INFO\t2021-09-04 00:11:38 +0000\tmaster-replica-0\t\t 94/254 [==========>...................] - ETA: 0s - loss: 0.3201 - acc: 0.8507\b\b\b\b\b\b\b\b\b\b\b\b\b\b\b\b\b\b\b\b\b\b\b\b\b\b\b\b\b\b\b\b\b\b\b\b\b\b\b\b\b\b\b\b\b\b\b\b\b\b\b\b\b\b\b\b\b\b\b\b\b\b\b\b\b\b\b\b\b\b\b\b\b\b\b\b\b\b\b\n",
            "INFO\t2021-09-04 00:11:38 +0000\tmaster-replica-0\t\t117/254 [============>.................] - ETA: 0s - loss: 0.3206 - acc: 0.8506\b\b\b\b\b\b\b\b\b\b\b\b\b\b\b\b\b\b\b\b\b\b\b\b\b\b\b\b\b\b\b\b\b\b\b\b\b\b\b\b\b\b\b\b\b\b\b\b\b\b\b\b\b\b\b\b\b\b\b\b\b\b\b\b\b\b\b\b\b\b\b\b\b\b\b\b\b\b\b\n",
            "INFO\t2021-09-04 00:11:38 +0000\tmaster-replica-0\t\t140/254 [===============>..............] - ETA: 0s - loss: 0.3219 - acc: 0.8513\b\b\b\b\b\b\b\b\b\b\b\b\b\b\b\b\b\b\b\b\b\b\b\b\b\b\b\b\b\b\b\b\b\b\b\b\b\b\b\b\b\b\b\b\b\b\b\b\b\b\b\b\b\b\b\b\b\b\b\b\b\b\b\b\b\b\b\b\b\b\b\b\b\b\b\b\b\b\b\n",
            "INFO\t2021-09-04 00:11:38 +0000\tmaster-replica-0\t\t163/254 [==================>...........] - ETA: 0s - loss: 0.3272 - acc: 0.8499\b\b\b\b\b\b\b\b\b\b\b\b\b\b\b\b\b\b\b\b\b\b\b\b\b\b\b\b\b\b\b\b\b\b\b\b\b\b\b\b\b\b\b\b\b\b\b\b\b\b\b\b\b\b\b\b\b\b\b\b\b\b\b\b\b\b\b\b\b\b\b\b\b\b\b\b\b\b\b\n",
            "INFO\t2021-09-04 00:11:38 +0000\tmaster-replica-0\t\t186/254 [====================>.........] - ETA: 0s - loss: 0.3288 - acc: 0.8492\b\b\b\b\b\b\b\b\b\b\b\b\b\b\b\b\b\b\b\b\b\b\b\b\b\b\b\b\b\b\b\b\b\b\b\b\b\b\b\b\b\b\b\b\b\b\b\b\b\b\b\b\b\b\b\b\b\b\b\b\b\b\b\b\b\b\b\b\b\b\b\b\b\b\b\b\b\b\b\n",
            "INFO\t2021-09-04 00:11:38 +0000\tmaster-replica-0\t\t209/254 [=======================>......] - ETA: 0s - loss: 0.3276 - acc: 0.8504\b\b\b\b\b\b\b\b\b\b\b\b\b\b\b\b\b\b\b\b\b\b\b\b\b\b\b\b\b\b\b\b\b\b\b\b\b\b\b\b\b\b\b\b\b\b\b\b\b\b\b\b\b\b\b\b\b\b\b\b\b\b\b\b\b\b\b\b\b\b\b\b\b\b\b\b\b\b\b\n",
            "INFO\t2021-09-04 00:11:39 +0000\tmaster-replica-0\t\t232/254 [==========================>...] - ETA: 0s - loss: 0.3265 - acc: 0.8512\b\b\b\b\b\b\b\b\b\b\b\b\b\b\b\b\b\b\b\b\b\b\b\b\b\b\b\b\b\b\b\b\b\b\b\b\b\b\b\b\b\b\b\b\b\b\b\b\b\b\b\b\b\b\b\b\b\b\b\b\b\b\b\b\b\b\b\b\b\b\b\b\b\b\b\b\b\b\b\n",
            "INFO\t2021-09-04 00:11:39 +0000\tmaster-replica-0\t\t254/254 [==============================] - 1s 4ms/step - loss: 0.3247 - acc: 0.8511 - val_loss: 0.3324 - val_acc: 0.8527\n",
            "INFO\t2021-09-04 00:11:39 +0000\tmaster-replica-0\t\tEpoch 00018: LearningRateScheduler reducing learning rate to 0.010000076293945313.\n",
            "INFO\t2021-09-04 00:11:39 +0000\tmaster-replica-0\t\tEpoch 18/20\n",
            "INFO\t2021-09-04 00:11:39 +0000\tmaster-replica-0\t\t  1/254 [..............................] - ETA: 0s - loss: 0.3056 - acc: 0.8359\b\b\b\b\b\b\b\b\b\b\b\b\b\b\b\b\b\b\b\b\b\b\b\b\b\b\b\b\b\b\b\b\b\b\b\b\b\b\b\b\b\b\b\b\b\b\b\b\b\b\b\b\b\b\b\b\b\b\b\b\b\b\b\b\b\b\b\b\b\b\b\b\b\b\b\b\b\b\b\n",
            "INFO\t2021-09-04 00:11:39 +0000\tmaster-replica-0\t\t 22/254 [=>............................] - ETA: 0s - loss: 0.3380 - acc: 0.8473\b\b\b\b\b\b\b\b\b\b\b\b\b\b\b\b\b\b\b\b\b\b\b\b\b\b\b\b\b\b\b\b\b\b\b\b\b\b\b\b\b\b\b\b\b\b\b\b\b\b\b\b\b\b\b\b\b\b\b\b\b\b\b\b\b\b\b\b\b\b\b\b\b\b\b\b\b\b\b\n",
            "INFO\t2021-09-04 00:11:39 +0000\tmaster-replica-0\t\t 46/254 [====>.........................] - ETA: 0s - loss: 0.3302 - acc: 0.8488\b\b\b\b\b\b\b\b\b\b\b\b\b\b\b\b\b\b\b\b\b\b\b\b\b\b\b\b\b\b\b\b\b\b\b\b\b\b\b\b\b\b\b\b\b\b\b\b\b\b\b\b\b\b\b\b\b\b\b\b\b\b\b\b\b\b\b\b\b\b\b\b\b\b\b\b\b\b\b\n",
            "INFO\t2021-09-04 00:11:39 +0000\tmaster-replica-0\t\t 69/254 [=======>......................] - ETA: 0s - loss: 0.3259 - acc: 0.8508\b\b\b\b\b\b\b\b\b\b\b\b\b\b\b\b\b\b\b\b\b\b\b\b\b\b\b\b\b\b\b\b\b\b\b\b\b\b\b\b\b\b\b\b\b\b\b\b\b\b\b\b\b\b\b\b\b\b\b\b\b\b\b\b\b\b\b\b\b\b\b\b\b\b\b\b\b\b\b\n",
            "INFO\t2021-09-04 00:11:39 +0000\tmaster-replica-0\t\t 92/254 [=========>....................] - ETA: 0s - loss: 0.3242 - acc: 0.8498\b\b\b\b\b\b\b\b\b\b\b\b\b\b\b\b\b\b\b\b\b\b\b\b\b\b\b\b\b\b\b\b\b\b\b\b\b\b\b\b\b\b\b\b\b\b\b\b\b\b\b\b\b\b\b\b\b\b\b\b\b\b\b\b\b\b\b\b\b\b\b\b\b\b\b\b\b\b\b\n",
            "INFO\t2021-09-04 00:11:39 +0000\tmaster-replica-0\t\t115/254 [============>.................] - ETA: 0s - loss: 0.3258 - acc: 0.8494\b\b\b\b\b\b\b\b\b\b\b\b\b\b\b\b\b\b\b\b\b\b\b\b\b\b\b\b\b\b\b\b\b\b\b\b\b\b\b\b\b\b\b\b\b\b\b\b\b\b\b\b\b\b\b\b\b\b\b\b\b\b\b\b\b\b\b\b\b\b\b\b\b\b\b\b\b\b\b\n",
            "INFO\t2021-09-04 00:11:39 +0000\tmaster-replica-0\t\t138/254 [===============>..............] - ETA: 0s - loss: 0.3261 - acc: 0.8495\b\b\b\b\b\b\b\b\b\b\b\b\b\b\b\b\b\b\b\b\b\b\b\b\b\b\b\b\b\b\b\b\b\b\b\b\b\b\b\b\b\b\b\b\b\b\b\b\b\b\b\b\b\b\b\b\b\b\b\b\b\b\b\b\b\b\b\b\b\b\b\b\b\b\b\b\b\b\b\n",
            "INFO\t2021-09-04 00:11:39 +0000\tmaster-replica-0\t\t161/254 [==================>...........] - ETA: 0s - loss: 0.3265 - acc: 0.8493\b\b\b\b\b\b\b\b\b\b\b\b\b\b\b\b\b\b\b\b\b\b\b\b\b\b\b\b\b\b\b\b\b\b\b\b\b\b\b\b\b\b\b\b\b\b\b\b\b\b\b\b\b\b\b\b\b\b\b\b\b\b\b\b\b\b\b\b\b\b\b\b\b\b\b\b\b\b\b\n",
            "INFO\t2021-09-04 00:11:39 +0000\tmaster-replica-0\t\t183/254 [====================>.........] - ETA: 0s - loss: 0.3246 - acc: 0.8508\b\b\b\b\b\b\b\b\b\b\b\b\b\b\b\b\b\b\b\b\b\b\b\b\b\b\b\b\b\b\b\b\b\b\b\b\b\b\b\b\b\b\b\b\b\b\b\b\b\b\b\b\b\b\b\b\b\b\b\b\b\b\b\b\b\b\b\b\b\b\b\b\b\b\b\b\b\b\b\n",
            "INFO\t2021-09-04 00:11:39 +0000\tmaster-replica-0\t\t206/254 [=======================>......] - ETA: 0s - loss: 0.3250 - acc: 0.8499\b\b\b\b\b\b\b\b\b\b\b\b\b\b\b\b\b\b\b\b\b\b\b\b\b\b\b\b\b\b\b\b\b\b\b\b\b\b\b\b\b\b\b\b\b\b\b\b\b\b\b\b\b\b\b\b\b\b\b\b\b\b\b\b\b\b\b\b\b\b\b\b\b\b\b\b\b\b\b\n",
            "INFO\t2021-09-04 00:11:39 +0000\tmaster-replica-0\t\t228/254 [=========================>....] - ETA: 0s - loss: 0.3261 - acc: 0.8496\b\b\b\b\b\b\b\b\b\b\b\b\b\b\b\b\b\b\b\b\b\b\b\b\b\b\b\b\b\b\b\b\b\b\b\b\b\b\b\b\b\b\b\b\b\b\b\b\b\b\b\b\b\b\b\b\b\b\b\b\b\b\b\b\b\b\b\b\b\b\b\b\b\b\b\b\b\b\b\n",
            "INFO\t2021-09-04 00:11:40 +0000\tmaster-replica-0\t\t250/254 [============================>.] - ETA: 0s - loss: 0.3264 - acc: 0.8492\b\b\b\b\b\b\b\b\b\b\b\b\b\b\b\b\b\b\b\b\b\b\b\b\b\b\b\b\b\b\b\b\b\b\b\b\b\b\b\b\b\b\b\b\b\b\b\b\b\b\b\b\b\b\b\b\b\b\b\b\b\b\b\b\b\b\b\b\b\b\b\b\b\b\b\b\b\b\b\n",
            "INFO\t2021-09-04 00:11:40 +0000\tmaster-replica-0\t\t254/254 [==============================] - 1s 4ms/step - loss: 0.3263 - acc: 0.8492 - val_loss: 0.3198 - val_acc: 0.8534\n",
            "INFO\t2021-09-04 00:11:40 +0000\tmaster-replica-0\t\tEpoch 00019: LearningRateScheduler reducing learning rate to 0.010000038146972657.\n",
            "INFO\t2021-09-04 00:11:40 +0000\tmaster-replica-0\t\tEpoch 19/20\n",
            "INFO\t2021-09-04 00:11:40 +0000\tmaster-replica-0\t\t  1/254 [..............................] - ETA: 0s - loss: 0.2725 - acc: 0.8594\b\b\b\b\b\b\b\b\b\b\b\b\b\b\b\b\b\b\b\b\b\b\b\b\b\b\b\b\b\b\b\b\b\b\b\b\b\b\b\b\b\b\b\b\b\b\b\b\b\b\b\b\b\b\b\b\b\b\b\b\b\b\b\b\b\b\b\b\b\b\b\b\b\b\b\b\b\b\b\n",
            "INFO\t2021-09-04 00:11:40 +0000\tmaster-replica-0\t\t 24/254 [=>............................] - ETA: 0s - loss: 0.3217 - acc: 0.8529\b\b\b\b\b\b\b\b\b\b\b\b\b\b\b\b\b\b\b\b\b\b\b\b\b\b\b\b\b\b\b\b\b\b\b\b\b\b\b\b\b\b\b\b\b\b\b\b\b\b\b\b\b\b\b\b\b\b\b\b\b\b\b\b\b\b\b\b\b\b\b\b\b\b\b\b\b\b\b\n",
            "INFO\t2021-09-04 00:11:40 +0000\tmaster-replica-0\t\t 47/254 [====>.........................] - ETA: 0s - loss: 0.3153 - acc: 0.8559\b\b\b\b\b\b\b\b\b\b\b\b\b\b\b\b\b\b\b\b\b\b\b\b\b\b\b\b\b\b\b\b\b\b\b\b\b\b\b\b\b\b\b\b\b\b\b\b\b\b\b\b\b\b\b\b\b\b\b\b\b\b\b\b\b\b\b\b\b\b\b\b\b\b\b\b\b\b\b\n",
            "INFO\t2021-09-04 00:11:40 +0000\tmaster-replica-0\t\t 70/254 [=======>......................] - ETA: 0s - loss: 0.3259 - acc: 0.8545\b\b\b\b\b\b\b\b\b\b\b\b\b\b\b\b\b\b\b\b\b\b\b\b\b\b\b\b\b\b\b\b\b\b\b\b\b\b\b\b\b\b\b\b\b\b\b\b\b\b\b\b\b\b\b\b\b\b\b\b\b\b\b\b\b\b\b\b\b\b\b\b\b\b\b\b\b\b\b\n",
            "INFO\t2021-09-04 00:11:40 +0000\tmaster-replica-0\t\t 93/254 [=========>....................] - ETA: 0s - loss: 0.3299 - acc: 0.8541\b\b\b\b\b\b\b\b\b\b\b\b\b\b\b\b\b\b\b\b\b\b\b\b\b\b\b\b\b\b\b\b\b\b\b\b\b\b\b\b\b\b\b\b\b\b\b\b\b\b\b\b\b\b\b\b\b\b\b\b\b\b\b\b\b\b\b\b\b\b\b\b\b\b\b\b\b\b\b\n",
            "INFO\t2021-09-04 00:11:40 +0000\tmaster-replica-0\t\t115/254 [============>.................] - ETA: 0s - loss: 0.3274 - acc: 0.8518\b\b\b\b\b\b\b\b\b\b\b\b\b\b\b\b\b\b\b\b\b\b\b\b\b\b\b\b\b\b\b\b\b\b\b\b\b\b\b\b\b\b\b\b\b\b\b\b\b\b\b\b\b\b\b\b\b\b\b\b\b\b\b\b\b\b\b\b\b\b\b\b\b\b\b\b\b\b\b\n",
            "INFO\t2021-09-04 00:11:40 +0000\tmaster-replica-0\t\t138/254 [===============>..............] - ETA: 0s - loss: 0.3254 - acc: 0.8530\b\b\b\b\b\b\b\b\b\b\b\b\b\b\b\b\b\b\b\b\b\b\b\b\b\b\b\b\b\b\b\b\b\b\b\b\b\b\b\b\b\b\b\b\b\b\b\b\b\b\b\b\b\b\b\b\b\b\b\b\b\b\b\b\b\b\b\b\b\b\b\b\b\b\b\b\b\b\b\n",
            "INFO\t2021-09-04 00:11:40 +0000\tmaster-replica-0\t\t161/254 [==================>...........] - ETA: 0s - loss: 0.3260 - acc: 0.8523\b\b\b\b\b\b\b\b\b\b\b\b\b\b\b\b\b\b\b\b\b\b\b\b\b\b\b\b\b\b\b\b\b\b\b\b\b\b\b\b\b\b\b\b\b\b\b\b\b\b\b\b\b\b\b\b\b\b\b\b\b\b\b\b\b\b\b\b\b\b\b\b\b\b\b\b\b\b\b\n",
            "INFO\t2021-09-04 00:11:40 +0000\tmaster-replica-0\t\t183/254 [====================>.........] - ETA: 0s - loss: 0.3278 - acc: 0.8509\b\b\b\b\b\b\b\b\b\b\b\b\b\b\b\b\b\b\b\b\b\b\b\b\b\b\b\b\b\b\b\b\b\b\b\b\b\b\b\b\b\b\b\b\b\b\b\b\b\b\b\b\b\b\b\b\b\b\b\b\b\b\b\b\b\b\b\b\b\b\b\b\b\b\b\b\b\b\b\n",
            "INFO\t2021-09-04 00:11:40 +0000\tmaster-replica-0\t\t206/254 [=======================>......] - ETA: 0s - loss: 0.3267 - acc: 0.8516\b\b\b\b\b\b\b\b\b\b\b\b\b\b\b\b\b\b\b\b\b\b\b\b\b\b\b\b\b\b\b\b\b\b\b\b\b\b\b\b\b\b\b\b\b\b\b\b\b\b\b\b\b\b\b\b\b\b\b\b\b\b\b\b\b\b\b\b\b\b\b\b\b\b\b\b\b\b\b\n",
            "INFO\t2021-09-04 00:11:40 +0000\tmaster-replica-0\t\t229/254 [==========================>...] - ETA: 0s - loss: 0.3257 - acc: 0.8517\b\b\b\b\b\b\b\b\b\b\b\b\b\b\b\b\b\b\b\b\b\b\b\b\b\b\b\b\b\b\b\b\b\b\b\b\b\b\b\b\b\b\b\b\b\b\b\b\b\b\b\b\b\b\b\b\b\b\b\b\b\b\b\b\b\b\b\b\b\b\b\b\b\b\b\b\b\b\b\n",
            "INFO\t2021-09-04 00:11:41 +0000\tmaster-replica-0\t\t252/254 [============================>.] - ETA: 0s - loss: 0.3248 - acc: 0.8521\b\b\b\b\b\b\b\b\b\b\b\b\b\b\b\b\b\b\b\b\b\b\b\b\b\b\b\b\b\b\b\b\b\b\b\b\b\b\b\b\b\b\b\b\b\b\b\b\b\b\b\b\b\b\b\b\b\b\b\b\b\b\b\b\b\b\b\b\b\b\b\b\b\b\b\b\b\b\b\n",
            "INFO\t2021-09-04 00:11:41 +0000\tmaster-replica-0\t\t254/254 [==============================] - 1s 4ms/step - loss: 0.3250 - acc: 0.8521 - val_loss: 0.3374 - val_acc: 0.8470\n",
            "INFO\t2021-09-04 00:11:41 +0000\tmaster-replica-0\t\tEpoch 00020: LearningRateScheduler reducing learning rate to 0.010000019073486329.\n",
            "INFO\t2021-09-04 00:11:41 +0000\tmaster-replica-0\t\tEpoch 20/20\n",
            "INFO\t2021-09-04 00:11:41 +0000\tmaster-replica-0\t\t  1/254 [..............................] - ETA: 0s - loss: 0.3408 - acc: 0.8203\b\b\b\b\b\b\b\b\b\b\b\b\b\b\b\b\b\b\b\b\b\b\b\b\b\b\b\b\b\b\b\b\b\b\b\b\b\b\b\b\b\b\b\b\b\b\b\b\b\b\b\b\b\b\b\b\b\b\b\b\b\b\b\b\b\b\b\b\b\b\b\b\b\b\b\b\b\b\b\n",
            "INFO\t2021-09-04 00:11:41 +0000\tmaster-replica-0\t\t 25/254 [=>............................] - ETA: 0s - loss: 0.3400 - acc: 0.8397\b\b\b\b\b\b\b\b\b\b\b\b\b\b\b\b\b\b\b\b\b\b\b\b\b\b\b\b\b\b\b\b\b\b\b\b\b\b\b\b\b\b\b\b\b\b\b\b\b\b\b\b\b\b\b\b\b\b\b\b\b\b\b\b\b\b\b\b\b\b\b\b\b\b\b\b\b\b\b\n",
            "INFO\t2021-09-04 00:11:41 +0000\tmaster-replica-0\t\t 49/254 [====>.........................] - ETA: 0s - loss: 0.3279 - acc: 0.8481\b\b\b\b\b\b\b\b\b\b\b\b\b\b\b\b\b\b\b\b\b\b\b\b\b\b\b\b\b\b\b\b\b\b\b\b\b\b\b\b\b\b\b\b\b\b\b\b\b\b\b\b\b\b\b\b\b\b\b\b\b\b\b\b\b\b\b\b\b\b\b\b\b\b\b\b\b\b\b\n",
            "INFO\t2021-09-04 00:11:41 +0000\tmaster-replica-0\t\t 74/254 [=======>......................] - ETA: 0s - loss: 0.3228 - acc: 0.8525\b\b\b\b\b\b\b\b\b\b\b\b\b\b\b\b\b\b\b\b\b\b\b\b\b\b\b\b\b\b\b\b\b\b\b\b\b\b\b\b\b\b\b\b\b\b\b\b\b\b\b\b\b\b\b\b\b\b\b\b\b\b\b\b\b\b\b\b\b\b\b\b\b\b\b\b\b\b\b\n",
            "INFO\t2021-09-04 00:11:41 +0000\tmaster-replica-0\t\t 98/254 [==========>...................] - ETA: 0s - loss: 0.3265 - acc: 0.8497\b\b\b\b\b\b\b\b\b\b\b\b\b\b\b\b\b\b\b\b\b\b\b\b\b\b\b\b\b\b\b\b\b\b\b\b\b\b\b\b\b\b\b\b\b\b\b\b\b\b\b\b\b\b\b\b\b\b\b\b\b\b\b\b\b\b\b\b\b\b\b\b\b\b\b\b\b\b\b\n",
            "INFO\t2021-09-04 00:11:41 +0000\tmaster-replica-0\t\t122/254 [=============>................] - ETA: 0s - loss: 0.3266 - acc: 0.8505\b\b\b\b\b\b\b\b\b\b\b\b\b\b\b\b\b\b\b\b\b\b\b\b\b\b\b\b\b\b\b\b\b\b\b\b\b\b\b\b\b\b\b\b\b\b\b\b\b\b\b\b\b\b\b\b\b\b\b\b\b\b\b\b\b\b\b\b\b\b\b\b\b\b\b\b\b\b\b\n",
            "INFO\t2021-09-04 00:11:41 +0000\tmaster-replica-0\t\t146/254 [================>.............] - ETA: 0s - loss: 0.3263 - acc: 0.8509\b\b\b\b\b\b\b\b\b\b\b\b\b\b\b\b\b\b\b\b\b\b\b\b\b\b\b\b\b\b\b\b\b\b\b\b\b\b\b\b\b\b\b\b\b\b\b\b\b\b\b\b\b\b\b\b\b\b\b\b\b\b\b\b\b\b\b\b\b\b\b\b\b\b\b\b\b\b\b\n",
            "INFO\t2021-09-04 00:11:41 +0000\tmaster-replica-0\t\t171/254 [===================>..........] - ETA: 0s - loss: 0.3259 - acc: 0.8512\b\b\b\b\b\b\b\b\b\b\b\b\b\b\b\b\b\b\b\b\b\b\b\b\b\b\b\b\b\b\b\b\b\b\b\b\b\b\b\b\b\b\b\b\b\b\b\b\b\b\b\b\b\b\b\b\b\b\b\b\b\b\b\b\b\b\b\b\b\b\b\b\b\b\b\b\b\b\b\n",
            "INFO\t2021-09-04 00:11:41 +0000\tmaster-replica-0\t\t195/254 [======================>.......] - ETA: 0s - loss: 0.3247 - acc: 0.8514\b\b\b\b\b\b\b\b\b\b\b\b\b\b\b\b\b\b\b\b\b\b\b\b\b\b\b\b\b\b\b\b\b\b\b\b\b\b\b\b\b\b\b\b\b\b\b\b\b\b\b\b\b\b\b\b\b\b\b\b\b\b\b\b\b\b\b\b\b\b\b\b\b\b\b\b\b\b\b\n",
            "INFO\t2021-09-04 00:11:41 +0000\tmaster-replica-0\t\t219/254 [========================>.....] - ETA: 0s - loss: 0.3237 - acc: 0.8512\b\b\b\b\b\b\b\b\b\b\b\b\b\b\b\b\b\b\b\b\b\b\b\b\b\b\b\b\b\b\b\b\b\b\b\b\b\b\b\b\b\b\b\b\b\b\b\b\b\b\b\b\b\b\b\b\b\b\b\b\b\b\b\b\b\b\b\b\b\b\b\b\b\b\b\b\b\b\b\n",
            "INFO\t2021-09-04 00:11:42 +0000\tmaster-replica-0\t\t242/254 [===========================>..] - ETA: 0s - loss: 0.3264 - acc: 0.8502\b\b\b\b\b\b\b\b\b\b\b\b\b\b\b\b\b\b\b\b\b\b\b\b\b\b\b\b\b\b\b\b\b\b\b\b\b\b\b\b\b\b\b\b\b\b\b\b\b\b\b\b\b\b\b\b\b\b\b\b\b\b\b\b\b\b\b\b\b\b\b\b\b\b\b\b\b\b\b\n",
            "INFO\t2021-09-04 00:11:42 +0000\tmaster-replica-0\t\t254/254 [==============================] - 1s 3ms/step - loss: 0.3245 - acc: 0.8513 - val_loss: 0.3370 - val_acc: 0.8484\n",
            "WARNING\t2021-09-04 00:11:42 +0000\tmaster-replica-0\t\tFrom /root/.local/lib/python3.7/site-packages/trainer/task.py:123: export_saved_model (from tensorflow.python.keras.saving.saved_model_experimental) is deprecated and will be removed in a future version.\n",
            "WARNING\t2021-09-04 00:11:42 +0000\tmaster-replica-0\t\tInstructions for updating:\n",
            "WARNING\t2021-09-04 00:11:42 +0000\tmaster-replica-0\t\tPlease use `model.save(..., save_format=\"tf\")` or `tf.keras.models.save_model(..., save_format=\"tf\")`.\n",
            "WARNING\t2021-09-04 00:11:45 +0000\tmaster-replica-0\t\tFrom /usr/local/lib/python3.7/dist-packages/tensorflow_core/python/ops/init_ops.py:97: calling Zeros.__init__ (from tensorflow.python.ops.init_ops) with dtype is deprecated and will be removed in a future version.\n",
            "WARNING\t2021-09-04 00:11:45 +0000\tmaster-replica-0\t\tInstructions for updating:\n",
            "WARNING\t2021-09-04 00:11:45 +0000\tmaster-replica-0\t\tCall initializer instance with the dtype argument instead of passing it to the constructor\n",
            "WARNING\t2021-09-04 00:11:45 +0000\tmaster-replica-0\t\tFrom /usr/local/lib/python3.7/dist-packages/tensorflow_core/python/ops/init_ops.py:97: calling GlorotUniform.__init__ (from tensorflow.python.ops.init_ops) with dtype is deprecated and will be removed in a future version.\n",
            "WARNING\t2021-09-04 00:11:45 +0000\tmaster-replica-0\t\tInstructions for updating:\n",
            "WARNING\t2021-09-04 00:11:45 +0000\tmaster-replica-0\t\tCall initializer instance with the dtype argument instead of passing it to the constructor\n",
            "WARNING\t2021-09-04 00:11:50 +0000\tmaster-replica-0\t\tFrom /usr/local/lib/python3.7/dist-packages/tensorflow_core/python/saved_model/signature_def_utils_impl.py:253: build_tensor_info (from tensorflow.python.saved_model.utils_impl) is deprecated and will be removed in a future version.\n",
            "WARNING\t2021-09-04 00:11:50 +0000\tmaster-replica-0\t\tInstructions for updating:\n",
            "WARNING\t2021-09-04 00:11:50 +0000\tmaster-replica-0\t\tThis function will only be available through the v1 compatibility library as tf.compat.v1.saved_model.utils.build_tensor_info or tf.compat.v1.saved_model.build_tensor_info.\n",
            "INFO\t2021-09-04 00:11:50 +0000\tmaster-replica-0\t\tSignatures INCLUDED in export for Classify: None\n",
            "INFO\t2021-09-04 00:11:50 +0000\tmaster-replica-0\t\tSignatures INCLUDED in export for Regress: None\n",
            "INFO\t2021-09-04 00:11:50 +0000\tmaster-replica-0\t\tSignatures INCLUDED in export for Predict: None\n",
            "INFO\t2021-09-04 00:11:50 +0000\tmaster-replica-0\t\tSignatures INCLUDED in export for Train: ['train']\n",
            "INFO\t2021-09-04 00:11:50 +0000\tmaster-replica-0\t\tSignatures INCLUDED in export for Eval: None\n",
            "WARNING\t2021-09-04 00:11:50 +0000\tmaster-replica-0\t\tExport includes no default signature!\n",
            "INFO\t2021-09-04 00:11:50 +0000\tmaster-replica-0\t\tNo assets to save.\n",
            "INFO\t2021-09-04 00:11:50 +0000\tmaster-replica-0\t\tNo assets to write.\n",
            "INFO\t2021-09-04 00:11:52 +0000\tmaster-replica-0\t\tSignatures INCLUDED in export for Classify: None\n",
            "INFO\t2021-09-04 00:11:52 +0000\tmaster-replica-0\t\tSignatures INCLUDED in export for Regress: None\n",
            "INFO\t2021-09-04 00:11:52 +0000\tmaster-replica-0\t\tSignatures INCLUDED in export for Predict: None\n",
            "INFO\t2021-09-04 00:11:52 +0000\tmaster-replica-0\t\tSignatures INCLUDED in export for Train: None\n",
            "INFO\t2021-09-04 00:11:52 +0000\tmaster-replica-0\t\tSignatures INCLUDED in export for Eval: ['eval']\n",
            "WARNING\t2021-09-04 00:11:52 +0000\tmaster-replica-0\t\tExport includes no default signature!\n",
            "INFO\t2021-09-04 00:11:52 +0000\tmaster-replica-0\t\tNo assets to save.\n",
            "INFO\t2021-09-04 00:11:52 +0000\tmaster-replica-0\t\tNo assets to write.\n",
            "WARNING\t2021-09-04 00:11:53 +0000\tmaster-replica-0\t\tUnresolved object in checkpoint: (root).optimizer.decay\n",
            "WARNING\t2021-09-04 00:11:53 +0000\tmaster-replica-0\t\tUnresolved object in checkpoint: (root).optimizer.learning_rate\n",
            "WARNING\t2021-09-04 00:11:53 +0000\tmaster-replica-0\t\tUnresolved object in checkpoint: (root).optimizer.momentum\n",
            "WARNING\t2021-09-04 00:11:53 +0000\tmaster-replica-0\t\tUnresolved object in checkpoint: (root).optimizer.rho\n",
            "WARNING\t2021-09-04 00:11:53 +0000\tmaster-replica-0\t\tUnresolved object in checkpoint: (root).optimizer's state 'rms' for (root).layer_with_weights-0.kernel\n",
            "WARNING\t2021-09-04 00:11:53 +0000\tmaster-replica-0\t\tUnresolved object in checkpoint: (root).optimizer's state 'rms' for (root).layer_with_weights-0.bias\n",
            "WARNING\t2021-09-04 00:11:53 +0000\tmaster-replica-0\t\tUnresolved object in checkpoint: (root).optimizer's state 'rms' for (root).layer_with_weights-1.kernel\n",
            "WARNING\t2021-09-04 00:11:53 +0000\tmaster-replica-0\t\tUnresolved object in checkpoint: (root).optimizer's state 'rms' for (root).layer_with_weights-1.bias\n",
            "WARNING\t2021-09-04 00:11:53 +0000\tmaster-replica-0\t\tUnresolved object in checkpoint: (root).optimizer's state 'rms' for (root).layer_with_weights-2.kernel\n",
            "WARNING\t2021-09-04 00:11:53 +0000\tmaster-replica-0\t\tUnresolved object in checkpoint: (root).optimizer's state 'rms' for (root).layer_with_weights-2.bias\n",
            "WARNING\t2021-09-04 00:11:53 +0000\tmaster-replica-0\t\tUnresolved object in checkpoint: (root).optimizer's state 'rms' for (root).layer_with_weights-3.kernel\n",
            "WARNING\t2021-09-04 00:11:53 +0000\tmaster-replica-0\t\tUnresolved object in checkpoint: (root).optimizer's state 'rms' for (root).layer_with_weights-3.bias\n",
            "WARNING\t2021-09-04 00:11:53 +0000\tmaster-replica-0\t\tUnresolved object in checkpoint: (root).optimizer's state 'rms' for (root).layer_with_weights-4.kernel\n",
            "WARNING\t2021-09-04 00:11:53 +0000\tmaster-replica-0\t\tUnresolved object in checkpoint: (root).optimizer's state 'rms' for (root).layer_with_weights-4.bias\n",
            "WARNING\t2021-09-04 00:11:53 +0000\tmaster-replica-0\t\tA checkpoint was restored (e.g. tf.train.Checkpoint.restore or tf.keras.Model.load_weights) but not all checkpointed values were used. See above for specific issues. Use expect_partial() on the load status object, e.g. tf.train.Checkpoint.restore(...).expect_partial(), to silence these warnings, or use assert_consumed() to make the check explicit. See https://www.tensorflow.org/alpha/guide/checkpoints#loading_mechanics for details.\n",
            "INFO\t2021-09-04 00:11:53 +0000\tmaster-replica-0\t\tSignatures INCLUDED in export for Classify: None\n",
            "INFO\t2021-09-04 00:11:53 +0000\tmaster-replica-0\t\tSignatures INCLUDED in export for Regress: None\n",
            "INFO\t2021-09-04 00:11:53 +0000\tmaster-replica-0\t\tSignatures INCLUDED in export for Predict: ['serving_default']\n",
            "INFO\t2021-09-04 00:11:53 +0000\tmaster-replica-0\t\tSignatures INCLUDED in export for Train: None\n",
            "INFO\t2021-09-04 00:11:53 +0000\tmaster-replica-0\t\tSignatures INCLUDED in export for Eval: None\n",
            "INFO\t2021-09-04 00:11:53 +0000\tmaster-replica-0\t\tNo assets to save.\n",
            "INFO\t2021-09-04 00:11:53 +0000\tmaster-replica-0\t\tNo assets to write.\n",
            "INFO\t2021-09-04 00:11:53 +0000\tmaster-replica-0\t\tSavedModel written to: gs://rajashekar_ch_bucket/keras-job-dir/keras_export/saved_model.pb\n",
            "INFO\t2021-09-04 00:11:54 +0000\tmaster-replica-0\t\tModel exported to: gs://rajashekar_ch_bucket/keras-job-dir/keras_export\n",
            "WARNING\t2021-09-04 00:11:54 +0000\tmaster-replica-0\t\tUnresolved object in checkpoint: (root).optimizer\n",
            "WARNING\t2021-09-04 00:11:54 +0000\tmaster-replica-0\t\tUnresolved object in checkpoint: (root).optimizer.iter\n",
            "WARNING\t2021-09-04 00:11:54 +0000\tmaster-replica-0\t\tUnresolved object in checkpoint: (root).optimizer.decay\n",
            "WARNING\t2021-09-04 00:11:54 +0000\tmaster-replica-0\t\tUnresolved object in checkpoint: (root).optimizer.learning_rate\n",
            "WARNING\t2021-09-04 00:11:54 +0000\tmaster-replica-0\t\tUnresolved object in checkpoint: (root).optimizer.momentum\n",
            "WARNING\t2021-09-04 00:11:54 +0000\tmaster-replica-0\t\tUnresolved object in checkpoint: (root).optimizer.rho\n",
            "WARNING\t2021-09-04 00:11:54 +0000\tmaster-replica-0\t\tUnresolved object in checkpoint: (root).optimizer's state 'rms' for (root).layer_with_weights-0.kernel\n",
            "WARNING\t2021-09-04 00:11:54 +0000\tmaster-replica-0\t\tUnresolved object in checkpoint: (root).optimizer's state 'rms' for (root).layer_with_weights-0.bias\n",
            "WARNING\t2021-09-04 00:11:54 +0000\tmaster-replica-0\t\tUnresolved object in checkpoint: (root).optimizer's state 'rms' for (root).layer_with_weights-1.kernel\n",
            "WARNING\t2021-09-04 00:11:54 +0000\tmaster-replica-0\t\tUnresolved object in checkpoint: (root).optimizer's state 'rms' for (root).layer_with_weights-1.bias\n",
            "WARNING\t2021-09-04 00:11:54 +0000\tmaster-replica-0\t\tUnresolved object in checkpoint: (root).optimizer's state 'rms' for (root).layer_with_weights-2.kernel\n",
            "WARNING\t2021-09-04 00:11:54 +0000\tmaster-replica-0\t\tUnresolved object in checkpoint: (root).optimizer's state 'rms' for (root).layer_with_weights-2.bias\n",
            "WARNING\t2021-09-04 00:11:54 +0000\tmaster-replica-0\t\tUnresolved object in checkpoint: (root).optimizer's state 'rms' for (root).layer_with_weights-3.kernel\n",
            "WARNING\t2021-09-04 00:11:54 +0000\tmaster-replica-0\t\tUnresolved object in checkpoint: (root).optimizer's state 'rms' for (root).layer_with_weights-3.bias\n",
            "WARNING\t2021-09-04 00:11:54 +0000\tmaster-replica-0\t\tUnresolved object in checkpoint: (root).optimizer's state 'rms' for (root).layer_with_weights-4.kernel\n",
            "WARNING\t2021-09-04 00:11:54 +0000\tmaster-replica-0\t\tUnresolved object in checkpoint: (root).optimizer's state 'rms' for (root).layer_with_weights-4.bias\n",
            "WARNING\t2021-09-04 00:11:54 +0000\tmaster-replica-0\t\tA checkpoint was restored (e.g. tf.train.Checkpoint.restore or tf.keras.Model.load_weights) but not all checkpointed values were used. See above for specific issues. Use expect_partial() on the load status object, e.g. tf.train.Checkpoint.restore(...).expect_partial(), to silence these warnings, or use assert_consumed() to make the check explicit. See https://www.tensorflow.org/alpha/guide/checkpoints#loading_mechanics for details.\n",
            "INFO\t2021-09-04 00:11:54 +0000\tmaster-replica-0\t\tModule completed; cleaning up.\n",
            "INFO\t2021-09-04 00:11:54 +0000\tmaster-replica-0\t\tClean up finished.\n",
            "INFO\t2021-09-04 00:11:54 +0000\tmaster-replica-0\t\tTask completed successfully.\n",
            "INFO\t2021-09-04 00:14:13 +0000\tservice\t\tJob completed successfully.\n",
            "endTime: '2021-09-04T00:14:13'\n",
            "jobId: chintalapati2_4B_keras_job\n",
            "startTime: '2021-09-04T00:11:11'\n",
            "state: SUCCEEDED\n"
          ]
        }
      ]
    },
    {
      "cell_type": "markdown",
      "metadata": {
        "deletable": true,
        "editable": true,
        "id": "gAO6-zv6osJ8"
      },
      "source": [
        "# Part 2 (Cloud Deployment). Quickstart for online predictions in AI Platform\n",
        "\n",
        "This section shows how to use AI Platform and your trained model from Part 1\n",
        "to predict a person's income bracket from other Census information about them."
      ]
    },
    {
      "cell_type": "markdown",
      "metadata": {
        "deletable": true,
        "editable": true,
        "id": "Oi1xMGzLsjf_"
      },
      "source": [
        "### Create model and version resources in AI Platform\n",
        "\n",
        "To serve online predictions using the model you trained and exported in Part 1,\n",
        "create a *model* resource in AI Platform and a *version* resource\n",
        "within it. The version resource is what actually uses your trained model to\n",
        "serve predictions. This structure lets you adjust and retrain your model many times and\n",
        "organize all the versions together in AI Platform. Learn more about [models\n",
        "and\n",
        "versions](https://cloud.google.com/ml-engine/docs/tensorflow/projects-models-versions-jobs).\n",
        "\n",
        "First, name and create the model resource:"
      ]
    },
    {
      "cell_type": "code",
      "metadata": {
        "deletable": true,
        "editable": true,
        "id": "SurMKEbBtc2W",
        "colab": {
          "base_uri": "https://localhost:8080/"
        },
        "outputId": "7f2f32e3-e89e-4f18-b149-4ecf5ca52035"
      },
      "source": [
        "############ENTER HERE#########################\n",
        "MODEL_NAME = \"chintalapati1_Keras_model\" #<Lastname_Keras_model>\n",
        "\n",
        "! gcloud ai-platform models create $MODEL_NAME \\\n",
        "  --region $REGION"
      ],
      "execution_count": null,
      "outputs": [
        {
          "output_type": "stream",
          "name": "stdout",
          "text": [
            "Using endpoint [https://us-east1-ml.googleapis.com/]\n",
            "Created ai platform model [projects/fb-mle-may-21/models/chintalapati1_Keras_model].\n"
          ]
        }
      ]
    },
    {
      "cell_type": "code",
      "metadata": {
        "colab": {
          "base_uri": "https://localhost:8080/"
        },
        "id": "oTWnbT2UewTZ",
        "outputId": "03be4ebf-2d20-4878-c212-40744eb6c93d"
      },
      "source": [
        "!ls"
      ],
      "execution_count": null,
      "outputs": [
        {
          "output_type": "stream",
          "name": "stdout",
          "text": [
            "cloudml-samples       local-training-output  requirements.txt  trainer\n",
            "hptuning_config.yaml  README.md\t\t     scripts\n"
          ]
        }
      ]
    },
    {
      "cell_type": "markdown",
      "metadata": {
        "deletable": true,
        "editable": true,
        "id": "c5YLJugmt-Wm"
      },
      "source": [
        " # You can verify your job completion at the AI Training Dashboard:\n",
        " https://console.cloud.google.com/ai-platform/models/\n",
        "\n",
        " # Look under jobs and models on the left panel\n",
        "```\n",
        "\n",
        "Execute the following command to identify your SavedModel directory and use it to create a model version resource:"
      ]
    },
    {
      "cell_type": "code",
      "metadata": {
        "colab": {
          "base_uri": "https://localhost:8080/"
        },
        "id": "e3mtBIAcoXku",
        "outputId": "75cdc3d7-ed36-4b9c-d63b-5dacf5c55b3c"
      },
      "source": [
        "#ENTER HERE#####################\n",
        "MODEL_VERSION = \"v_chintalapati\" # Give a unique name <v_Lastname>\n",
        "\n",
        "# Get a list of directories in the `keras_export` parent directory\n",
        "KERAS_EXPORT_DIRS = !gsutil ls $JOB_DIR/keras_export/\n",
        "print(KERAS_EXPORT_DIRS)"
      ],
      "execution_count": null,
      "outputs": [
        {
          "output_type": "stream",
          "name": "stdout",
          "text": [
            "['gs://rajashekar_ch_bucket/keras-job-dir/keras_export/', 'gs://rajashekar_ch_bucket/keras-job-dir/keras_export/saved_model.pb', 'gs://rajashekar_ch_bucket/keras-job-dir/keras_export/assets/', 'gs://rajashekar_ch_bucket/keras-job-dir/keras_export/variables/']\n"
          ]
        }
      ]
    },
    {
      "cell_type": "code",
      "metadata": {
        "colab": {
          "base_uri": "https://localhost:8080/"
        },
        "id": "nhDlqAXaoow9",
        "outputId": "543d345c-eb58-4f88-a962-ffd63fc16f6a"
      },
      "source": [
        "# Point to the folder ../keras_export. Your index number may be different that the one here based on how many times you ahve run.\n",
        "idx=0\n",
        "SAVED_MODEL_PATH = KERAS_EXPORT_DIRS[idx]\n",
        "print(SAVED_MODEL_PATH)"
      ],
      "execution_count": null,
      "outputs": [
        {
          "output_type": "stream",
          "name": "stdout",
          "text": [
            "gs://rajashekar_ch_bucket/keras-job-dir/keras_export/\n"
          ]
        }
      ]
    },
    {
      "cell_type": "code",
      "metadata": {
        "colab": {
          "base_uri": "https://localhost:8080/"
        },
        "id": "dv436o5Eo0eO",
        "outputId": "3eed7c5a-6366-4956-d0df-6af6d09ceb7f"
      },
      "source": [
        "print(MODEL_NAME)"
      ],
      "execution_count": null,
      "outputs": [
        {
          "output_type": "stream",
          "text": [
            "chintalapati_Keras_model\n"
          ],
          "name": "stdout"
        }
      ]
    },
    {
      "cell_type": "code",
      "metadata": {
        "cellView": "both",
        "deletable": true,
        "editable": true,
        "id": "NYfK78654CVm",
        "colab": {
          "base_uri": "https://localhost:8080/"
        },
        "outputId": "8ba423ed-abfd-4d9e-e5a8-8f2035edfc83"
      },
      "source": [
        "# Create model version based on that SavedModel directory\n",
        "! gcloud ai-platform versions create $MODEL_VERSION \\\n",
        "  --model $MODEL_NAME \\\n",
        "  --region $REGION \\\n",
        "  --runtime-version 1.15 \\\n",
        "  --python-version 3.7 \\\n",
        "  --framework tensorflow \\\n",
        "  --origin $SAVED_MODEL_PATH"
      ],
      "execution_count": null,
      "outputs": [
        {
          "output_type": "stream",
          "name": "stdout",
          "text": [
            "Using endpoint [https://us-east1-ml.googleapis.com/]\n"
          ]
        }
      ]
    },
    {
      "cell_type": "markdown",
      "metadata": {
        "id": "QQUEdzroNJgB"
      },
      "source": [
        "# Now you are ready to submit a training job to Google AI platform"
      ]
    },
    {
      "cell_type": "markdown",
      "metadata": {
        "deletable": true,
        "editable": true,
        "id": "JzevJps9IOcU"
      },
      "source": [
        "# Task 2: Data Preparation for Modeling\n",
        "\n",
        "To receive valid and useful predictions, you must preprocess input for prediction in the same way that training data was preprocessed. In a production\n",
        "system, you may want to create a preprocessing pipeline that can be used identically at training time and prediction time.\n",
        "\n",
        "For this exercise, use the training package's data-loading code to select a random sample from the evaluation data. This data is in the form that was used to evaluate accuracy after each epoch of training, so it can be used to send test predictions without further preprocessing:"
      ]
    },
    {
      "cell_type": "code",
      "metadata": {
        "deletable": true,
        "editable": true,
        "id": "zuh7LWeWv_GT",
        "colab": {
          "base_uri": "https://localhost:8080/",
          "height": 669
        },
        "outputId": "8497bc06-bb8e-4fe6-df74-f9f8f6ffb5ce"
      },
      "source": [
        "#First, lets review the data and features that are used for classifictaion\n",
        "from trainer import util\n",
        "\n",
        "_, _, eval_x, eval_y = util.load_data()\n",
        "\n",
        "prediction_input = eval_x.sample(20)\n",
        "prediction_targets = eval_y[prediction_input.index]\n",
        "\n",
        "prediction_input"
      ],
      "execution_count": null,
      "outputs": [
        {
          "output_type": "execute_result",
          "data": {
            "text/html": [
              "<div>\n",
              "<style scoped>\n",
              "    .dataframe tbody tr th:only-of-type {\n",
              "        vertical-align: middle;\n",
              "    }\n",
              "\n",
              "    .dataframe tbody tr th {\n",
              "        vertical-align: top;\n",
              "    }\n",
              "\n",
              "    .dataframe thead th {\n",
              "        text-align: right;\n",
              "    }\n",
              "</style>\n",
              "<table border=\"1\" class=\"dataframe\">\n",
              "  <thead>\n",
              "    <tr style=\"text-align: right;\">\n",
              "      <th></th>\n",
              "      <th>age</th>\n",
              "      <th>workclass</th>\n",
              "      <th>education_num</th>\n",
              "      <th>marital_status</th>\n",
              "      <th>occupation</th>\n",
              "      <th>relationship</th>\n",
              "      <th>race</th>\n",
              "      <th>capital_gain</th>\n",
              "      <th>capital_loss</th>\n",
              "      <th>hours_per_week</th>\n",
              "      <th>native_country</th>\n",
              "    </tr>\n",
              "  </thead>\n",
              "  <tbody>\n",
              "    <tr>\n",
              "      <th>769</th>\n",
              "      <td>1.265886</td>\n",
              "      <td>6</td>\n",
              "      <td>-0.030304</td>\n",
              "      <td>2</td>\n",
              "      <td>3</td>\n",
              "      <td>0</td>\n",
              "      <td>4</td>\n",
              "      <td>-0.144792</td>\n",
              "      <td>-0.217132</td>\n",
              "      <td>-0.437544</td>\n",
              "      <td>38</td>\n",
              "    </tr>\n",
              "    <tr>\n",
              "      <th>10675</th>\n",
              "      <td>-0.411611</td>\n",
              "      <td>3</td>\n",
              "      <td>1.136580</td>\n",
              "      <td>2</td>\n",
              "      <td>9</td>\n",
              "      <td>0</td>\n",
              "      <td>4</td>\n",
              "      <td>0.834514</td>\n",
              "      <td>-0.217132</td>\n",
              "      <td>-0.034039</td>\n",
              "      <td>38</td>\n",
              "    </tr>\n",
              "    <tr>\n",
              "      <th>10099</th>\n",
              "      <td>-0.192807</td>\n",
              "      <td>3</td>\n",
              "      <td>-0.030304</td>\n",
              "      <td>0</td>\n",
              "      <td>0</td>\n",
              "      <td>1</td>\n",
              "      <td>4</td>\n",
              "      <td>-0.144792</td>\n",
              "      <td>-0.217132</td>\n",
              "      <td>1.176475</td>\n",
              "      <td>38</td>\n",
              "    </tr>\n",
              "    <tr>\n",
              "      <th>9688</th>\n",
              "      <td>0.536539</td>\n",
              "      <td>5</td>\n",
              "      <td>-0.419265</td>\n",
              "      <td>2</td>\n",
              "      <td>11</td>\n",
              "      <td>0</td>\n",
              "      <td>4</td>\n",
              "      <td>-0.144792</td>\n",
              "      <td>-0.217132</td>\n",
              "      <td>-0.034039</td>\n",
              "      <td>38</td>\n",
              "    </tr>\n",
              "    <tr>\n",
              "      <th>6182</th>\n",
              "      <td>0.171866</td>\n",
              "      <td>3</td>\n",
              "      <td>1.136580</td>\n",
              "      <td>2</td>\n",
              "      <td>3</td>\n",
              "      <td>0</td>\n",
              "      <td>4</td>\n",
              "      <td>0.886847</td>\n",
              "      <td>-0.217132</td>\n",
              "      <td>0.772970</td>\n",
              "      <td>38</td>\n",
              "    </tr>\n",
              "    <tr>\n",
              "      <th>8838</th>\n",
              "      <td>-0.046938</td>\n",
              "      <td>3</td>\n",
              "      <td>-1.586149</td>\n",
              "      <td>0</td>\n",
              "      <td>11</td>\n",
              "      <td>1</td>\n",
              "      <td>4</td>\n",
              "      <td>-0.144792</td>\n",
              "      <td>-0.217132</td>\n",
              "      <td>-0.034039</td>\n",
              "      <td>38</td>\n",
              "    </tr>\n",
              "    <tr>\n",
              "      <th>400</th>\n",
              "      <td>0.171866</td>\n",
              "      <td>3</td>\n",
              "      <td>1.136580</td>\n",
              "      <td>4</td>\n",
              "      <td>11</td>\n",
              "      <td>1</td>\n",
              "      <td>4</td>\n",
              "      <td>-0.144792</td>\n",
              "      <td>-0.217132</td>\n",
              "      <td>-0.034039</td>\n",
              "      <td>38</td>\n",
              "    </tr>\n",
              "    <tr>\n",
              "      <th>3632</th>\n",
              "      <td>-1.140958</td>\n",
              "      <td>3</td>\n",
              "      <td>1.136580</td>\n",
              "      <td>4</td>\n",
              "      <td>3</td>\n",
              "      <td>1</td>\n",
              "      <td>4</td>\n",
              "      <td>-0.144792</td>\n",
              "      <td>-0.217132</td>\n",
              "      <td>-0.034039</td>\n",
              "      <td>38</td>\n",
              "    </tr>\n",
              "    <tr>\n",
              "      <th>5487</th>\n",
              "      <td>1.922298</td>\n",
              "      <td>4</td>\n",
              "      <td>-0.419265</td>\n",
              "      <td>0</td>\n",
              "      <td>11</td>\n",
              "      <td>1</td>\n",
              "      <td>4</td>\n",
              "      <td>0.757356</td>\n",
              "      <td>-0.217132</td>\n",
              "      <td>-0.034039</td>\n",
              "      <td>38</td>\n",
              "    </tr>\n",
              "    <tr>\n",
              "      <th>15613</th>\n",
              "      <td>-1.505632</td>\n",
              "      <td>3</td>\n",
              "      <td>-0.808226</td>\n",
              "      <td>4</td>\n",
              "      <td>7</td>\n",
              "      <td>3</td>\n",
              "      <td>4</td>\n",
              "      <td>-0.144792</td>\n",
              "      <td>-0.217132</td>\n",
              "      <td>-0.841048</td>\n",
              "      <td>21</td>\n",
              "    </tr>\n",
              "    <tr>\n",
              "      <th>10564</th>\n",
              "      <td>-0.119873</td>\n",
              "      <td>3</td>\n",
              "      <td>-1.586149</td>\n",
              "      <td>2</td>\n",
              "      <td>13</td>\n",
              "      <td>0</td>\n",
              "      <td>4</td>\n",
              "      <td>-0.144792</td>\n",
              "      <td>-0.217132</td>\n",
              "      <td>0.772970</td>\n",
              "      <td>38</td>\n",
              "    </tr>\n",
              "    <tr>\n",
              "      <th>357</th>\n",
              "      <td>0.828278</td>\n",
              "      <td>5</td>\n",
              "      <td>1.914503</td>\n",
              "      <td>2</td>\n",
              "      <td>9</td>\n",
              "      <td>0</td>\n",
              "      <td>4</td>\n",
              "      <td>13.273897</td>\n",
              "      <td>-0.217132</td>\n",
              "      <td>3.193998</td>\n",
              "      <td>38</td>\n",
              "    </tr>\n",
              "    <tr>\n",
              "      <th>13854</th>\n",
              "      <td>-0.484546</td>\n",
              "      <td>3</td>\n",
              "      <td>0.747619</td>\n",
              "      <td>2</td>\n",
              "      <td>9</td>\n",
              "      <td>0</td>\n",
              "      <td>4</td>\n",
              "      <td>-0.144792</td>\n",
              "      <td>-0.217132</td>\n",
              "      <td>-0.034039</td>\n",
              "      <td>38</td>\n",
              "    </tr>\n",
              "    <tr>\n",
              "      <th>14384</th>\n",
              "      <td>0.025997</td>\n",
              "      <td>3</td>\n",
              "      <td>-0.419265</td>\n",
              "      <td>2</td>\n",
              "      <td>13</td>\n",
              "      <td>0</td>\n",
              "      <td>4</td>\n",
              "      <td>-0.144792</td>\n",
              "      <td>-0.217132</td>\n",
              "      <td>-0.034039</td>\n",
              "      <td>38</td>\n",
              "    </tr>\n",
              "    <tr>\n",
              "      <th>9057</th>\n",
              "      <td>0.171866</td>\n",
              "      <td>5</td>\n",
              "      <td>-0.419265</td>\n",
              "      <td>2</td>\n",
              "      <td>3</td>\n",
              "      <td>0</td>\n",
              "      <td>4</td>\n",
              "      <td>-0.144792</td>\n",
              "      <td>-0.217132</td>\n",
              "      <td>0.772970</td>\n",
              "      <td>38</td>\n",
              "    </tr>\n",
              "    <tr>\n",
              "      <th>15235</th>\n",
              "      <td>-1.432697</td>\n",
              "      <td>3</td>\n",
              "      <td>-0.030304</td>\n",
              "      <td>4</td>\n",
              "      <td>7</td>\n",
              "      <td>3</td>\n",
              "      <td>4</td>\n",
              "      <td>-0.144792</td>\n",
              "      <td>-0.217132</td>\n",
              "      <td>-2.455067</td>\n",
              "      <td>38</td>\n",
              "    </tr>\n",
              "    <tr>\n",
              "      <th>4996</th>\n",
              "      <td>-0.265742</td>\n",
              "      <td>0</td>\n",
              "      <td>1.136580</td>\n",
              "      <td>3</td>\n",
              "      <td>3</td>\n",
              "      <td>1</td>\n",
              "      <td>2</td>\n",
              "      <td>-0.144792</td>\n",
              "      <td>-0.217132</td>\n",
              "      <td>-0.034039</td>\n",
              "      <td>38</td>\n",
              "    </tr>\n",
              "    <tr>\n",
              "      <th>15707</th>\n",
              "      <td>-0.922154</td>\n",
              "      <td>1</td>\n",
              "      <td>-0.030304</td>\n",
              "      <td>4</td>\n",
              "      <td>10</td>\n",
              "      <td>1</td>\n",
              "      <td>4</td>\n",
              "      <td>-0.144792</td>\n",
              "      <td>-0.217132</td>\n",
              "      <td>1.579979</td>\n",
              "      <td>38</td>\n",
              "    </tr>\n",
              "    <tr>\n",
              "      <th>13867</th>\n",
              "      <td>-0.703350</td>\n",
              "      <td>3</td>\n",
              "      <td>-1.586149</td>\n",
              "      <td>4</td>\n",
              "      <td>2</td>\n",
              "      <td>1</td>\n",
              "      <td>4</td>\n",
              "      <td>-0.144792</td>\n",
              "      <td>-0.217132</td>\n",
              "      <td>0.208064</td>\n",
              "      <td>38</td>\n",
              "    </tr>\n",
              "    <tr>\n",
              "      <th>2854</th>\n",
              "      <td>-0.703350</td>\n",
              "      <td>5</td>\n",
              "      <td>-0.419265</td>\n",
              "      <td>2</td>\n",
              "      <td>2</td>\n",
              "      <td>0</td>\n",
              "      <td>4</td>\n",
              "      <td>-0.144792</td>\n",
              "      <td>-0.217132</td>\n",
              "      <td>-0.034039</td>\n",
              "      <td>38</td>\n",
              "    </tr>\n",
              "  </tbody>\n",
              "</table>\n",
              "</div>"
            ],
            "text/plain": [
              "            age  workclass  ...  hours_per_week  native_country\n",
              "769    1.265886          6  ...       -0.437544              38\n",
              "10675 -0.411611          3  ...       -0.034039              38\n",
              "10099 -0.192807          3  ...        1.176475              38\n",
              "9688   0.536539          5  ...       -0.034039              38\n",
              "6182   0.171866          3  ...        0.772970              38\n",
              "8838  -0.046938          3  ...       -0.034039              38\n",
              "400    0.171866          3  ...       -0.034039              38\n",
              "3632  -1.140958          3  ...       -0.034039              38\n",
              "5487   1.922298          4  ...       -0.034039              38\n",
              "15613 -1.505632          3  ...       -0.841048              21\n",
              "10564 -0.119873          3  ...        0.772970              38\n",
              "357    0.828278          5  ...        3.193998              38\n",
              "13854 -0.484546          3  ...       -0.034039              38\n",
              "14384  0.025997          3  ...       -0.034039              38\n",
              "9057   0.171866          5  ...        0.772970              38\n",
              "15235 -1.432697          3  ...       -2.455067              38\n",
              "4996  -0.265742          0  ...       -0.034039              38\n",
              "15707 -0.922154          1  ...        1.579979              38\n",
              "13867 -0.703350          3  ...        0.208064              38\n",
              "2854  -0.703350          5  ...       -0.034039              38\n",
              "\n",
              "[20 rows x 11 columns]"
            ]
          },
          "metadata": {},
          "execution_count": 26
        }
      ]
    },
    {
      "cell_type": "markdown",
      "metadata": {
        "deletable": true,
        "editable": true,
        "id": "HV1JhIWkn1t5"
      },
      "source": [
        "Notice that categorical fields, like `occupation`,  have already been converted to integers (with the same mapping that was used for training). Numerical fields, like `age`, have been scaled to a\n",
        "[z-score](https://developers.google.com/machine-learning/crash-course/representation/cleaning-data). Some fields have been dropped from the original\n",
        "data. Compare the prediction input with the raw data for the same examples:"
      ]
    },
    {
      "cell_type": "code",
      "metadata": {
        "deletable": true,
        "editable": true,
        "id": "fvRzpDgugqQr",
        "colab": {
          "base_uri": "https://localhost:8080/",
          "height": 978
        },
        "outputId": "d0534d3d-2e0a-4af3-babf-4aefaf577ef3"
      },
      "source": [
        "#Now lets review the raw data with all features\n",
        "import pandas as pd\n",
        "\n",
        "_, eval_file_path = util.download(util.DATA_DIR)\n",
        "raw_eval_data = pd.read_csv(eval_file_path,\n",
        "                            names=util._CSV_COLUMNS,\n",
        "                            na_values='?')\n",
        "\n",
        "raw_eval_data.iloc[prediction_input.index]"
      ],
      "execution_count": null,
      "outputs": [
        {
          "output_type": "execute_result",
          "data": {
            "text/html": [
              "<div>\n",
              "<style scoped>\n",
              "    .dataframe tbody tr th:only-of-type {\n",
              "        vertical-align: middle;\n",
              "    }\n",
              "\n",
              "    .dataframe tbody tr th {\n",
              "        vertical-align: top;\n",
              "    }\n",
              "\n",
              "    .dataframe thead th {\n",
              "        text-align: right;\n",
              "    }\n",
              "</style>\n",
              "<table border=\"1\" class=\"dataframe\">\n",
              "  <thead>\n",
              "    <tr style=\"text-align: right;\">\n",
              "      <th></th>\n",
              "      <th>age</th>\n",
              "      <th>workclass</th>\n",
              "      <th>fnlwgt</th>\n",
              "      <th>education</th>\n",
              "      <th>education_num</th>\n",
              "      <th>marital_status</th>\n",
              "      <th>occupation</th>\n",
              "      <th>relationship</th>\n",
              "      <th>race</th>\n",
              "      <th>gender</th>\n",
              "      <th>capital_gain</th>\n",
              "      <th>capital_loss</th>\n",
              "      <th>hours_per_week</th>\n",
              "      <th>native_country</th>\n",
              "      <th>income_bracket</th>\n",
              "    </tr>\n",
              "  </thead>\n",
              "  <tbody>\n",
              "    <tr>\n",
              "      <th>769</th>\n",
              "      <td>56</td>\n",
              "      <td>State-gov</td>\n",
              "      <td>133728</td>\n",
              "      <td>Some-college</td>\n",
              "      <td>10</td>\n",
              "      <td>Married-civ-spouse</td>\n",
              "      <td>Exec-managerial</td>\n",
              "      <td>Husband</td>\n",
              "      <td>White</td>\n",
              "      <td>Male</td>\n",
              "      <td>0</td>\n",
              "      <td>0</td>\n",
              "      <td>35</td>\n",
              "      <td>United-States</td>\n",
              "      <td>&gt;50K</td>\n",
              "    </tr>\n",
              "    <tr>\n",
              "      <th>10675</th>\n",
              "      <td>33</td>\n",
              "      <td>Private</td>\n",
              "      <td>228931</td>\n",
              "      <td>Bachelors</td>\n",
              "      <td>13</td>\n",
              "      <td>Married-civ-spouse</td>\n",
              "      <td>Prof-specialty</td>\n",
              "      <td>Husband</td>\n",
              "      <td>White</td>\n",
              "      <td>Male</td>\n",
              "      <td>7298</td>\n",
              "      <td>0</td>\n",
              "      <td>40</td>\n",
              "      <td>United-States</td>\n",
              "      <td>&gt;50K</td>\n",
              "    </tr>\n",
              "    <tr>\n",
              "      <th>10099</th>\n",
              "      <td>36</td>\n",
              "      <td>Private</td>\n",
              "      <td>149419</td>\n",
              "      <td>Some-college</td>\n",
              "      <td>10</td>\n",
              "      <td>Divorced</td>\n",
              "      <td>Adm-clerical</td>\n",
              "      <td>Not-in-family</td>\n",
              "      <td>White</td>\n",
              "      <td>Male</td>\n",
              "      <td>0</td>\n",
              "      <td>0</td>\n",
              "      <td>55</td>\n",
              "      <td>United-States</td>\n",
              "      <td>&lt;=50K</td>\n",
              "    </tr>\n",
              "    <tr>\n",
              "      <th>9688</th>\n",
              "      <td>46</td>\n",
              "      <td>Self-emp-not-inc</td>\n",
              "      <td>102869</td>\n",
              "      <td>HS-grad</td>\n",
              "      <td>9</td>\n",
              "      <td>Married-civ-spouse</td>\n",
              "      <td>Sales</td>\n",
              "      <td>Husband</td>\n",
              "      <td>White</td>\n",
              "      <td>Male</td>\n",
              "      <td>0</td>\n",
              "      <td>0</td>\n",
              "      <td>40</td>\n",
              "      <td>United-States</td>\n",
              "      <td>&gt;50K</td>\n",
              "    </tr>\n",
              "    <tr>\n",
              "      <th>6182</th>\n",
              "      <td>41</td>\n",
              "      <td>Private</td>\n",
              "      <td>344624</td>\n",
              "      <td>Bachelors</td>\n",
              "      <td>13</td>\n",
              "      <td>Married-civ-spouse</td>\n",
              "      <td>Exec-managerial</td>\n",
              "      <td>Husband</td>\n",
              "      <td>White</td>\n",
              "      <td>Male</td>\n",
              "      <td>7688</td>\n",
              "      <td>0</td>\n",
              "      <td>50</td>\n",
              "      <td>United-States</td>\n",
              "      <td>&gt;50K</td>\n",
              "    </tr>\n",
              "    <tr>\n",
              "      <th>8838</th>\n",
              "      <td>38</td>\n",
              "      <td>Private</td>\n",
              "      <td>80680</td>\n",
              "      <td>10th</td>\n",
              "      <td>6</td>\n",
              "      <td>Divorced</td>\n",
              "      <td>Sales</td>\n",
              "      <td>Not-in-family</td>\n",
              "      <td>White</td>\n",
              "      <td>Female</td>\n",
              "      <td>0</td>\n",
              "      <td>0</td>\n",
              "      <td>40</td>\n",
              "      <td>United-States</td>\n",
              "      <td>&lt;=50K</td>\n",
              "    </tr>\n",
              "    <tr>\n",
              "      <th>400</th>\n",
              "      <td>41</td>\n",
              "      <td>Private</td>\n",
              "      <td>138868</td>\n",
              "      <td>Bachelors</td>\n",
              "      <td>13</td>\n",
              "      <td>Never-married</td>\n",
              "      <td>Sales</td>\n",
              "      <td>Not-in-family</td>\n",
              "      <td>White</td>\n",
              "      <td>Female</td>\n",
              "      <td>0</td>\n",
              "      <td>0</td>\n",
              "      <td>40</td>\n",
              "      <td>United-States</td>\n",
              "      <td>&lt;=50K</td>\n",
              "    </tr>\n",
              "    <tr>\n",
              "      <th>3632</th>\n",
              "      <td>23</td>\n",
              "      <td>Private</td>\n",
              "      <td>124971</td>\n",
              "      <td>Bachelors</td>\n",
              "      <td>13</td>\n",
              "      <td>Never-married</td>\n",
              "      <td>Exec-managerial</td>\n",
              "      <td>Not-in-family</td>\n",
              "      <td>White</td>\n",
              "      <td>Male</td>\n",
              "      <td>0</td>\n",
              "      <td>0</td>\n",
              "      <td>40</td>\n",
              "      <td>United-States</td>\n",
              "      <td>&lt;=50K</td>\n",
              "    </tr>\n",
              "    <tr>\n",
              "      <th>5487</th>\n",
              "      <td>65</td>\n",
              "      <td>Self-emp-inc</td>\n",
              "      <td>116057</td>\n",
              "      <td>HS-grad</td>\n",
              "      <td>9</td>\n",
              "      <td>Divorced</td>\n",
              "      <td>Sales</td>\n",
              "      <td>Not-in-family</td>\n",
              "      <td>White</td>\n",
              "      <td>Female</td>\n",
              "      <td>6723</td>\n",
              "      <td>0</td>\n",
              "      <td>40</td>\n",
              "      <td>United-States</td>\n",
              "      <td>&lt;=50K</td>\n",
              "    </tr>\n",
              "    <tr>\n",
              "      <th>15613</th>\n",
              "      <td>18</td>\n",
              "      <td>Private</td>\n",
              "      <td>157193</td>\n",
              "      <td>12th</td>\n",
              "      <td>8</td>\n",
              "      <td>Never-married</td>\n",
              "      <td>Other-service</td>\n",
              "      <td>Own-child</td>\n",
              "      <td>White</td>\n",
              "      <td>Male</td>\n",
              "      <td>0</td>\n",
              "      <td>0</td>\n",
              "      <td>30</td>\n",
              "      <td>Italy</td>\n",
              "      <td>&lt;=50K</td>\n",
              "    </tr>\n",
              "    <tr>\n",
              "      <th>10564</th>\n",
              "      <td>37</td>\n",
              "      <td>Private</td>\n",
              "      <td>166115</td>\n",
              "      <td>10th</td>\n",
              "      <td>6</td>\n",
              "      <td>Married-civ-spouse</td>\n",
              "      <td>Transport-moving</td>\n",
              "      <td>Husband</td>\n",
              "      <td>White</td>\n",
              "      <td>Male</td>\n",
              "      <td>0</td>\n",
              "      <td>0</td>\n",
              "      <td>50</td>\n",
              "      <td>United-States</td>\n",
              "      <td>&gt;50K</td>\n",
              "    </tr>\n",
              "    <tr>\n",
              "      <th>357</th>\n",
              "      <td>50</td>\n",
              "      <td>Self-emp-not-inc</td>\n",
              "      <td>165001</td>\n",
              "      <td>Prof-school</td>\n",
              "      <td>15</td>\n",
              "      <td>Married-civ-spouse</td>\n",
              "      <td>Prof-specialty</td>\n",
              "      <td>Husband</td>\n",
              "      <td>White</td>\n",
              "      <td>Male</td>\n",
              "      <td>99999</td>\n",
              "      <td>0</td>\n",
              "      <td>80</td>\n",
              "      <td>United-States</td>\n",
              "      <td>&gt;50K</td>\n",
              "    </tr>\n",
              "    <tr>\n",
              "      <th>13854</th>\n",
              "      <td>32</td>\n",
              "      <td>Private</td>\n",
              "      <td>111883</td>\n",
              "      <td>Assoc-acdm</td>\n",
              "      <td>12</td>\n",
              "      <td>Married-civ-spouse</td>\n",
              "      <td>Prof-specialty</td>\n",
              "      <td>Husband</td>\n",
              "      <td>White</td>\n",
              "      <td>Male</td>\n",
              "      <td>0</td>\n",
              "      <td>0</td>\n",
              "      <td>40</td>\n",
              "      <td>United-States</td>\n",
              "      <td>&lt;=50K</td>\n",
              "    </tr>\n",
              "    <tr>\n",
              "      <th>14384</th>\n",
              "      <td>39</td>\n",
              "      <td>Private</td>\n",
              "      <td>306504</td>\n",
              "      <td>HS-grad</td>\n",
              "      <td>9</td>\n",
              "      <td>Married-civ-spouse</td>\n",
              "      <td>Transport-moving</td>\n",
              "      <td>Husband</td>\n",
              "      <td>White</td>\n",
              "      <td>Male</td>\n",
              "      <td>0</td>\n",
              "      <td>0</td>\n",
              "      <td>40</td>\n",
              "      <td>United-States</td>\n",
              "      <td>&lt;=50K</td>\n",
              "    </tr>\n",
              "    <tr>\n",
              "      <th>9057</th>\n",
              "      <td>41</td>\n",
              "      <td>Self-emp-not-inc</td>\n",
              "      <td>197176</td>\n",
              "      <td>HS-grad</td>\n",
              "      <td>9</td>\n",
              "      <td>Married-civ-spouse</td>\n",
              "      <td>Exec-managerial</td>\n",
              "      <td>Husband</td>\n",
              "      <td>White</td>\n",
              "      <td>Male</td>\n",
              "      <td>0</td>\n",
              "      <td>0</td>\n",
              "      <td>50</td>\n",
              "      <td>United-States</td>\n",
              "      <td>&lt;=50K</td>\n",
              "    </tr>\n",
              "    <tr>\n",
              "      <th>15235</th>\n",
              "      <td>19</td>\n",
              "      <td>Private</td>\n",
              "      <td>222199</td>\n",
              "      <td>Some-college</td>\n",
              "      <td>10</td>\n",
              "      <td>Never-married</td>\n",
              "      <td>Other-service</td>\n",
              "      <td>Own-child</td>\n",
              "      <td>White</td>\n",
              "      <td>Female</td>\n",
              "      <td>0</td>\n",
              "      <td>0</td>\n",
              "      <td>10</td>\n",
              "      <td>United-States</td>\n",
              "      <td>&lt;=50K</td>\n",
              "    </tr>\n",
              "    <tr>\n",
              "      <th>4996</th>\n",
              "      <td>35</td>\n",
              "      <td>Federal-gov</td>\n",
              "      <td>191480</td>\n",
              "      <td>Bachelors</td>\n",
              "      <td>13</td>\n",
              "      <td>Married-spouse-absent</td>\n",
              "      <td>Exec-managerial</td>\n",
              "      <td>Not-in-family</td>\n",
              "      <td>Black</td>\n",
              "      <td>Male</td>\n",
              "      <td>0</td>\n",
              "      <td>0</td>\n",
              "      <td>40</td>\n",
              "      <td>United-States</td>\n",
              "      <td>&lt;=50K</td>\n",
              "    </tr>\n",
              "    <tr>\n",
              "      <th>15707</th>\n",
              "      <td>26</td>\n",
              "      <td>Local-gov</td>\n",
              "      <td>314798</td>\n",
              "      <td>Some-college</td>\n",
              "      <td>10</td>\n",
              "      <td>Never-married</td>\n",
              "      <td>Protective-serv</td>\n",
              "      <td>Not-in-family</td>\n",
              "      <td>White</td>\n",
              "      <td>Male</td>\n",
              "      <td>0</td>\n",
              "      <td>0</td>\n",
              "      <td>60</td>\n",
              "      <td>United-States</td>\n",
              "      <td>&gt;50K</td>\n",
              "    </tr>\n",
              "    <tr>\n",
              "      <th>13867</th>\n",
              "      <td>29</td>\n",
              "      <td>Private</td>\n",
              "      <td>247507</td>\n",
              "      <td>10th</td>\n",
              "      <td>6</td>\n",
              "      <td>Never-married</td>\n",
              "      <td>Craft-repair</td>\n",
              "      <td>Not-in-family</td>\n",
              "      <td>White</td>\n",
              "      <td>Male</td>\n",
              "      <td>0</td>\n",
              "      <td>0</td>\n",
              "      <td>43</td>\n",
              "      <td>United-States</td>\n",
              "      <td>&lt;=50K</td>\n",
              "    </tr>\n",
              "    <tr>\n",
              "      <th>2854</th>\n",
              "      <td>29</td>\n",
              "      <td>Self-emp-not-inc</td>\n",
              "      <td>109621</td>\n",
              "      <td>HS-grad</td>\n",
              "      <td>9</td>\n",
              "      <td>Married-civ-spouse</td>\n",
              "      <td>Craft-repair</td>\n",
              "      <td>Husband</td>\n",
              "      <td>White</td>\n",
              "      <td>Male</td>\n",
              "      <td>0</td>\n",
              "      <td>0</td>\n",
              "      <td>40</td>\n",
              "      <td>United-States</td>\n",
              "      <td>&lt;=50K</td>\n",
              "    </tr>\n",
              "  </tbody>\n",
              "</table>\n",
              "</div>"
            ],
            "text/plain": [
              "       age         workclass  ...  native_country income_bracket\n",
              "769     56         State-gov  ...   United-States           >50K\n",
              "10675   33           Private  ...   United-States           >50K\n",
              "10099   36           Private  ...   United-States          <=50K\n",
              "9688    46  Self-emp-not-inc  ...   United-States           >50K\n",
              "6182    41           Private  ...   United-States           >50K\n",
              "8838    38           Private  ...   United-States          <=50K\n",
              "400     41           Private  ...   United-States          <=50K\n",
              "3632    23           Private  ...   United-States          <=50K\n",
              "5487    65      Self-emp-inc  ...   United-States          <=50K\n",
              "15613   18           Private  ...           Italy          <=50K\n",
              "10564   37           Private  ...   United-States           >50K\n",
              "357     50  Self-emp-not-inc  ...   United-States           >50K\n",
              "13854   32           Private  ...   United-States          <=50K\n",
              "14384   39           Private  ...   United-States          <=50K\n",
              "9057    41  Self-emp-not-inc  ...   United-States          <=50K\n",
              "15235   19           Private  ...   United-States          <=50K\n",
              "4996    35       Federal-gov  ...   United-States          <=50K\n",
              "15707   26         Local-gov  ...   United-States           >50K\n",
              "13867   29           Private  ...   United-States          <=50K\n",
              "2854    29  Self-emp-not-inc  ...   United-States          <=50K\n",
              "\n",
              "[20 rows x 15 columns]"
            ]
          },
          "metadata": {},
          "execution_count": 27
        }
      ]
    },
    {
      "cell_type": "markdown",
      "metadata": {
        "deletable": true,
        "editable": true,
        "id": "HFAbbH6ksG6s"
      },
      "source": [
        "Export the prediction input (filtered features only) to a newline-delimited JSON file:"
      ]
    },
    {
      "cell_type": "code",
      "metadata": {
        "deletable": true,
        "editable": true,
        "id": "Yl3JALtnsGj-",
        "colab": {
          "base_uri": "https://localhost:8080/"
        },
        "outputId": "cea228f3-c564-4fa8-e9b1-5d14a99050aa"
      },
      "source": [
        "import json\n",
        "\n",
        "with open('prediction_input.json', 'w') as json_file:\n",
        "  for row in prediction_input.values.tolist():\n",
        "    json.dump(row, json_file)\n",
        "    json_file.write('\\n')\n",
        "\n",
        "! cat prediction_input.json"
      ],
      "execution_count": null,
      "outputs": [
        {
          "output_type": "stream",
          "name": "stdout",
          "text": [
            "[1.265886153588085, 6.0, -0.030303770229214273, 2.0, 3.0, 0.0, 4.0, -0.14479173735784842, -0.21713186390175285, -0.43754385253479555, 38.0]\n",
            "[-0.4116113873310685, 3.0, 1.1365801932883728, 2.0, 9.0, 0.0, 4.0, 0.8345139648005663, -0.21713186390175285, -0.03403923708700391, 38.0]\n",
            "[-0.19280736025465722, 3.0, -0.030303770229214273, 0.0, 0.0, 1.0, 4.0, -0.14479173735784842, -0.21713186390175285, 1.176474609256371, 38.0]\n",
            "[0.5365393966667138, 5.0, -0.4192650914017433, 2.0, 11.0, 0.0, 4.0, -0.14479173735784842, -0.21713186390175285, -0.03403923708700391, 38.0]\n",
            "[0.17186601820602831, 3.0, 1.1365801932883728, 2.0, 3.0, 0.0, 4.0, 0.8868473744801746, -0.21713186390175285, 0.7729699938085793, 38.0]\n",
            "[-0.046938008870383005, 3.0, -1.5861490549193304, 0.0, 11.0, 1.0, 4.0, -0.14479173735784842, -0.21713186390175285, -0.03403923708700391, 38.0]\n",
            "[0.17186601820602831, 3.0, 1.1365801932883728, 4.0, 11.0, 1.0, 4.0, -0.14479173735784842, -0.21713186390175285, -0.03403923708700391, 38.0]\n",
            "[-1.1409581442524395, 3.0, 1.1365801932883728, 4.0, 3.0, 1.0, 4.0, -0.14479173735784842, -0.21713186390175285, -0.03403923708700391, 38.0]\n",
            "[1.9222982348173188, 4.0, -0.4192650914017433, 0.0, 11.0, 1.0, 4.0, 0.7573557325806308, -0.21713186390175285, -0.03403923708700391, 38.0]\n",
            "[-1.5056315227131252, 3.0, -0.8082264125742723, 4.0, 7.0, 3.0, 4.0, -0.14479173735784842, -0.21713186390175285, -0.8410484679825871, 21.0]\n",
            "[-0.11987268456252011, 3.0, -1.5861490549193304, 2.0, 13.0, 0.0, 4.0, -0.14479173735784842, -0.21713186390175285, 0.7729699938085793, 38.0]\n",
            "[0.8282780994352622, 5.0, 1.9145028356334308, 2.0, 9.0, 0.0, 4.0, 13.273897069183574, -0.21713186390175285, 3.193997686495329, 38.0]\n",
            "[-0.48454606302320563, 3.0, 0.7476188721158438, 2.0, 9.0, 0.0, 4.0, -0.14479173735784842, -0.21713186390175285, -0.03403923708700391, 38.0]\n",
            "[0.0259966668217541, 3.0, -0.4192650914017433, 2.0, 13.0, 0.0, 4.0, -0.14479173735784842, -0.21713186390175285, -0.03403923708700391, 38.0]\n",
            "[0.17186601820602831, 5.0, -0.4192650914017433, 2.0, 3.0, 0.0, 4.0, -0.14479173735784842, -0.21713186390175285, 0.7729699938085793, 38.0]\n",
            "[-1.432696847020988, 3.0, -0.030303770229214273, 4.0, 7.0, 3.0, 4.0, -0.14479173735784842, -0.21713186390175285, -2.4550669297737535, 38.0]\n",
            "[-0.2657420359467943, 0.0, 1.1365801932883728, 3.0, 3.0, 1.0, 2.0, -0.14479173735784842, -0.21713186390175285, -0.03403923708700391, 38.0]\n",
            "[-0.9221541171760282, 1.0, -0.030303770229214273, 4.0, 10.0, 1.0, 4.0, -0.14479173735784842, -0.21713186390175285, 1.5799792247041626, 38.0]\n",
            "[-0.7033500900996169, 3.0, -1.5861490549193304, 4.0, 2.0, 1.0, 4.0, -0.14479173735784842, -0.21713186390175285, 0.20806353218167106, 38.0]\n",
            "[-0.7033500900996169, 5.0, -0.4192650914017433, 2.0, 2.0, 0.0, 4.0, -0.14479173735784842, -0.21713186390175285, -0.03403923708700391, 38.0]\n"
          ]
        }
      ]
    },
    {
      "cell_type": "markdown",
      "metadata": {
        "deletable": true,
        "editable": true,
        "id": "kVvEmazFKUCp"
      },
      "source": [
        "The `gcloud` command-line tool accepts newline-delimited JSON for online\n",
        "prediction, and this particular Keras model expects a flat list of\n",
        "numbers for each input example.\n",
        "\n",
        "AI Platform requires a different format when you make online prediction requests to the REST API without using the `gcloud` tool. The way you structure\n",
        "your model may also change how you must format data for prediction. Learn more\n",
        "about [formatting data for online\n",
        "prediction](https://cloud.google.com/ml-engine/docs/tensorflow/prediction-overview#prediction_input_data)."
      ]
    },
    {
      "cell_type": "markdown",
      "metadata": {
        "deletable": true,
        "editable": true,
        "id": "91xQnLqRN8A8"
      },
      "source": [
        "### Submit the online prediction request"
      ]
    },
    {
      "cell_type": "markdown",
      "metadata": {
        "deletable": true,
        "editable": true,
        "id": "KrDIoVLaG7zZ"
      },
      "source": [
        "Use `gcloud` to submit your online prediction request."
      ]
    },
    {
      "cell_type": "code",
      "metadata": {
        "deletable": true,
        "editable": true,
        "id": "5gIcXDFwOERG",
        "colab": {
          "base_uri": "https://localhost:8080/"
        },
        "outputId": "08fa6087-a4c0-4d9f-864a-4f83465dedd9"
      },
      "source": [
        "! gcloud ai-platform predict \\\n",
        "  --model $MODEL_NAME \\\n",
        "  --region $REGION \\\n",
        "  --version $MODEL_VERSION \\\n",
        "  --json-instances prediction_input.json"
      ],
      "execution_count": null,
      "outputs": [
        {
          "output_type": "stream",
          "name": "stdout",
          "text": [
            "Using endpoint [https://us-east1-ml.googleapis.com/]\n",
            "[[0.229274571], [0.999999523], [0.070271641], [0.216388911], [1.0], [0.0133795142], [0.185103208], [0.0302113593], [0.212206811], [0.000523209572], [0.158864498], [1.0], [0.460806], [0.241076469], [0.297337472], [9.6321106e-05], [0.347719729], [0.047639735], [0.00380973518], [0.151078835]]\n"
          ]
        }
      ]
    },
    {
      "cell_type": "markdown",
      "metadata": {
        "deletable": true,
        "editable": true,
        "id": "n6U2DYKJGwdf"
      },
      "source": [
        "Since the model's last layer uses a [sigmoid function](https://developers.google.com/machine-learning/glossary/#sigmoid_function) for its activation, outputs between 0 and 0.5 represent negative predictions (\"<=50K\") and outputs between 0.5 and 1 represent positive ones (\">50K\").\n",
        "\n",
        "Do the predicted income brackets match the actual ones? Run the following cell\n",
        "to see the true labels.\n",
        "# Q: How would you compute classification performance using the output json file above? Enter your answers below."
      ]
    },
    {
      "cell_type": "code",
      "metadata": {
        "id": "OyzKLbGFVrBh"
      },
      "source": [
        "# Model gave\n",
        "model_output = [[0.229274571], [0.999999523], [0.070271641], [0.216388911], [1.0], [0.0133795142], [0.185103208], [0.0302113593], [0.212206811], [0.000523209572], [0.158864498], [1.0], [0.460806], [0.241076469], [0.297337472], [9.6321106e-05], [0.347719729], [0.047639735], [0.00380973518], [0.151078835]]\n"
      ],
      "execution_count": null,
      "outputs": []
    },
    {
      "cell_type": "code",
      "metadata": {
        "colab": {
          "base_uri": "https://localhost:8080/"
        },
        "id": "sVsStit8Vv8y",
        "outputId": "a6f55bb9-1504-48c8-e784-2a8d07df4281"
      },
      "source": [
        "[1. if x[0]<=0.5 else 0. for x in model_output]"
      ],
      "execution_count": null,
      "outputs": [
        {
          "output_type": "execute_result",
          "data": {
            "text/plain": [
              "[1.0,\n",
              " 0.0,\n",
              " 1.0,\n",
              " 1.0,\n",
              " 0.0,\n",
              " 1.0,\n",
              " 1.0,\n",
              " 1.0,\n",
              " 1.0,\n",
              " 1.0,\n",
              " 1.0,\n",
              " 0.0,\n",
              " 1.0,\n",
              " 1.0,\n",
              " 1.0,\n",
              " 1.0,\n",
              " 1.0,\n",
              " 1.0,\n",
              " 1.0,\n",
              " 1.0]"
            ]
          },
          "metadata": {},
          "execution_count": 42
        }
      ]
    },
    {
      "cell_type": "code",
      "metadata": {
        "deletable": true,
        "editable": true,
        "id": "w2Piq3PcGhaX",
        "colab": {
          "base_uri": "https://localhost:8080/"
        },
        "outputId": "dd36ac67-e1c1-4ec2-a976-4e79429d7652"
      },
      "source": [
        "prediction_targets"
      ],
      "execution_count": null,
      "outputs": [
        {
          "output_type": "execute_result",
          "data": {
            "text/plain": [
              "array([[1.],\n",
              "       [0.],\n",
              "       [1.],\n",
              "       [1.],\n",
              "       [1.],\n",
              "       [0.],\n",
              "       [0.],\n",
              "       [0.],\n",
              "       [1.],\n",
              "       [1.],\n",
              "       [0.],\n",
              "       [1.],\n",
              "       [1.],\n",
              "       [0.],\n",
              "       [1.],\n",
              "       [0.],\n",
              "       [0.],\n",
              "       [1.],\n",
              "       [1.],\n",
              "       [0.]], dtype=float32)"
            ]
          },
          "metadata": {},
          "execution_count": 39
        }
      ]
    },
    {
      "cell_type": "markdown",
      "metadata": {
        "deletable": true,
        "editable": true,
        "id": "GKP7F6-EDb5_"
      },
      "source": [
        "## Part 3. Developing the Keras model from scratch\n",
        "\n",
        "At this point, you have trained a machine learning model on AI Platform, deployed the trained model as a version resource on AI Platform, and received online predictions from the deployment. The next section walks through recreating the Keras code used to train your model. It covers the following parts of developing a machine learning model for use with AI Platform:\n",
        "\n",
        "* Downloading and preprocessing data\n",
        "* Designing and training the model\n",
        "* Visualizing training and exporting the trained model\n",
        "\n",
        "# Now you will develop  a model from scratch and train on the same data by submitting a fresh job on the AI platform."
      ]
    },
    {
      "cell_type": "markdown",
      "metadata": {
        "deletable": true,
        "editable": true,
        "id": "-VtUN0L5x4ql"
      },
      "source": [
        "### Import libraries and define constants\n",
        "\n",
        "First, import Python libraries required for training:"
      ]
    },
    {
      "cell_type": "code",
      "metadata": {
        "deletable": true,
        "editable": true,
        "id": "RcxfR3GfscsA",
        "colab": {
          "base_uri": "https://localhost:8080/"
        },
        "outputId": "384349fd-a34c-41ed-8285-6b1eba6ebd7e"
      },
      "source": [
        "import os\n",
        "from six.moves import urllib\n",
        "import tempfile\n",
        "\n",
        "import numpy as np\n",
        "import pandas as pd\n",
        "import tensorflow as tf\n",
        "\n",
        "# Examine software versions\n",
        "print(__import__('sys').version)\n",
        "print(tf.__version__)\n",
        "print(tf.keras.__version__)"
      ],
      "execution_count": null,
      "outputs": [
        {
          "output_type": "stream",
          "name": "stdout",
          "text": [
            "3.7.11 (default, Jul  3 2021, 18:01:19) \n",
            "[GCC 7.5.0]\n",
            "2.6.0\n",
            "2.6.0\n"
          ]
        }
      ]
    },
    {
      "cell_type": "markdown",
      "metadata": {
        "deletable": true,
        "editable": true,
        "id": "xWZQbZQmx26U"
      },
      "source": [
        "Then, define some useful constants:\n",
        "\n",
        "* Information for downloading training and evaluation data\n",
        "* Information required for Pandas to interpret the data and convert categorical fields into numeric features\n",
        "* Hyperparameters for training, such as learning rate and batch size"
      ]
    },
    {
      "cell_type": "code",
      "metadata": {
        "deletable": true,
        "editable": true,
        "id": "Cx4OXeXEsh_v"
      },
      "source": [
        "### For downloading data ###\n",
        "\n",
        "# Storage directory\n",
        "DATA_DIR = os.path.join(tempfile.gettempdir(), 'census_data')\n",
        "\n",
        "# Download options.\n",
        "DATA_URL = 'https://storage.googleapis.com/cloud-samples-data/ai-platform' \\\n",
        "           '/census/data'\n",
        "TRAINING_FILE = 'adult.data.csv'\n",
        "EVAL_FILE = 'adult.test.csv'\n",
        "TRAINING_URL = '%s/%s' % (DATA_URL, TRAINING_FILE)\n",
        "EVAL_URL = '%s/%s' % (DATA_URL, EVAL_FILE)\n",
        "\n",
        "### For interpreting data ###\n",
        "\n",
        "# These are the features in the dataset.\n",
        "# Dataset information: https://archive.ics.uci.edu/ml/datasets/census+income\n",
        "_CSV_COLUMNS = [\n",
        "    'age', 'workclass', 'fnlwgt', 'education', 'education_num',\n",
        "    'marital_status', 'occupation', 'relationship', 'race', 'gender',\n",
        "    'capital_gain', 'capital_loss', 'hours_per_week', 'native_country',\n",
        "    'income_bracket'\n",
        "]\n",
        "\n",
        "_CATEGORICAL_TYPES = {\n",
        "    'workclass': pd.api.types.CategoricalDtype(categories=[\n",
        "        'Federal-gov', 'Local-gov', 'Never-worked', 'Private', 'Self-emp-inc',\n",
        "        'Self-emp-not-inc', 'State-gov', 'Without-pay'\n",
        "    ]),\n",
        "    'marital_status': pd.api.types.CategoricalDtype(categories=[\n",
        "        'Divorced', 'Married-AF-spouse', 'Married-civ-spouse',\n",
        "        'Married-spouse-absent', 'Never-married', 'Separated', 'Widowed'\n",
        "    ]),\n",
        "    'occupation': pd.api.types.CategoricalDtype([\n",
        "        'Adm-clerical', 'Armed-Forces', 'Craft-repair', 'Exec-managerial',\n",
        "        'Farming-fishing', 'Handlers-cleaners', 'Machine-op-inspct',\n",
        "        'Other-service', 'Priv-house-serv', 'Prof-specialty', 'Protective-serv',\n",
        "        'Sales', 'Tech-support', 'Transport-moving'\n",
        "    ]),\n",
        "    'relationship': pd.api.types.CategoricalDtype(categories=[\n",
        "        'Husband', 'Not-in-family', 'Other-relative', 'Own-child', 'Unmarried',\n",
        "        'Wife'\n",
        "    ]),\n",
        "    'race': pd.api.types.CategoricalDtype(categories=[\n",
        "        'Amer-Indian-Eskimo', 'Asian-Pac-Islander', 'Black', 'Other', 'White'\n",
        "    ]),\n",
        "    'native_country': pd.api.types.CategoricalDtype(categories=[\n",
        "        'Cambodia', 'Canada', 'China', 'Columbia', 'Cuba', 'Dominican-Republic',\n",
        "        'Ecuador', 'El-Salvador', 'England', 'France', 'Germany', 'Greece',\n",
        "        'Guatemala', 'Haiti', 'Holand-Netherlands', 'Honduras', 'Hong', 'Hungary',\n",
        "        'India', 'Iran', 'Ireland', 'Italy', 'Jamaica', 'Japan', 'Laos', 'Mexico',\n",
        "        'Nicaragua', 'Outlying-US(Guam-USVI-etc)', 'Peru', 'Philippines', 'Poland',\n",
        "        'Portugal', 'Puerto-Rico', 'Scotland', 'South', 'Taiwan', 'Thailand',\n",
        "        'Trinadad&Tobago', 'United-States', 'Vietnam', 'Yugoslavia'\n",
        "    ]),\n",
        "    'income_bracket': pd.api.types.CategoricalDtype(categories=[\n",
        "        '<=50K', '>50K'\n",
        "    ])\n",
        "}\n",
        "\n",
        "# This is the label (target) we want to predict.\n",
        "_LABEL_COLUMN = 'income_bracket'\n",
        "\n",
        "### Hyperparameters for training ###\n",
        "\n",
        "# This the training batch size\n",
        "BATCH_SIZE = 128\n",
        "\n",
        "# This is the number of epochs (passes over the full training data)\n",
        "NUM_EPOCHS = 20\n",
        "\n",
        "# Define learning rate.\n",
        "LEARNING_RATE = .01"
      ],
      "execution_count": null,
      "outputs": []
    },
    {
      "cell_type": "markdown",
      "metadata": {
        "deletable": true,
        "editable": true,
        "id": "bSJjhQ8ZyDae"
      },
      "source": [
        "### Download and preprocess data"
      ]
    },
    {
      "cell_type": "markdown",
      "metadata": {
        "deletable": true,
        "editable": true,
        "id": "uafupKCgxazq"
      },
      "source": [
        "#### Download the data\n",
        "\n",
        "Next, define functions to download training and evaluation data. These functions also fix minor irregularities in the data's formatting."
      ]
    },
    {
      "cell_type": "code",
      "metadata": {
        "cellView": "both",
        "deletable": true,
        "editable": true,
        "id": "iGorBTXWUZPy"
      },
      "source": [
        "def _download_and_clean_file(filename, url):\n",
        "    \"\"\"Downloads data from url, and makes changes to match the CSV format.\n",
        "  \n",
        "    The CSVs may use spaces after the comma delimters (non-standard) or include\n",
        "    rows which do not represent well-formed examples. This function strips out\n",
        "    some of these problems.\n",
        "  \n",
        "    Args:\n",
        "      filename: filename to save url to\n",
        "      url: URL of resource to download\n",
        "    \"\"\"\n",
        "    temp_file, _ = urllib.request.urlretrieve(url)\n",
        "    with tf.io.gfile.GFile(temp_file, 'r') as temp_file_object:\n",
        "        with tf.io.gfile.GFile(filename, 'w') as file_object:\n",
        "            for line in temp_file_object:\n",
        "                line = line.strip()\n",
        "                line = line.replace(', ', ',')\n",
        "                if not line or ',' not in line:\n",
        "                    continue\n",
        "                if line[-1] == '.':\n",
        "                    line = line[:-1]\n",
        "                line += '\\n'\n",
        "                file_object.write(line)\n",
        "    tf.io.gfile.remove(temp_file)\n",
        "\n",
        "\n",
        "def download(data_dir):\n",
        "    \"\"\"Downloads census data if it is not already present.\n",
        "  \n",
        "    Args:\n",
        "      data_dir: directory where we will access/save the census data\n",
        "    \"\"\"\n",
        "    tf.io.gfile.makedirs(data_dir)\n",
        "\n",
        "    training_file_path = os.path.join(data_dir, TRAINING_FILE)\n",
        "    if not tf.io.gfile.exists(training_file_path):\n",
        "        _download_and_clean_file(training_file_path, TRAINING_URL)\n",
        "\n",
        "    eval_file_path = os.path.join(data_dir, EVAL_FILE)\n",
        "    if not tf.io.gfile.exists(eval_file_path):\n",
        "        _download_and_clean_file(eval_file_path, EVAL_URL)\n",
        "\n",
        "    return training_file_path, eval_file_path"
      ],
      "execution_count": null,
      "outputs": []
    },
    {
      "cell_type": "markdown",
      "metadata": {
        "deletable": true,
        "editable": true,
        "id": "fuX5SyAOgYsG"
      },
      "source": [
        "Use those functions to download the data for training and verify that you have CSV files for training and evaluation: "
      ]
    },
    {
      "cell_type": "code",
      "metadata": {
        "deletable": true,
        "editable": true,
        "id": "9Wii7NAss92J",
        "colab": {
          "base_uri": "https://localhost:8080/"
        },
        "outputId": "cec3c3a6-5b26-4efe-d059-3067da5d5635"
      },
      "source": [
        "training_file_path, eval_file_path = download(DATA_DIR)\n",
        "\n",
        "# You should see 2 files: adult.data.csv and adult.test.csv\n",
        "!ls -l $DATA_DIR"
      ],
      "execution_count": null,
      "outputs": [
        {
          "output_type": "stream",
          "name": "stdout",
          "text": [
            "total 5156\n",
            "-rw-r--r-- 1 root root 3518450 Sep  4 14:47 adult.data.csv\n",
            "-rw-r--r-- 1 root root 1758573 Sep  4 14:47 adult.test.csv\n"
          ]
        }
      ]
    },
    {
      "cell_type": "markdown",
      "metadata": {
        "deletable": true,
        "editable": true,
        "id": "tHSJTrDygqpS"
      },
      "source": [
        "Next, load these files using Pandas and examine the data:"
      ]
    },
    {
      "cell_type": "code",
      "metadata": {
        "deletable": true,
        "editable": true,
        "id": "KHWiAYCew28Q",
        "colab": {
          "base_uri": "https://localhost:8080/",
          "height": 309
        },
        "outputId": "bd90624c-fe69-4190-b9ce-dd2e980a085e"
      },
      "source": [
        "# This census data uses the value '?' for fields (column) that are missing data. \n",
        "# We use na_values to find ? and set it to NaN values.\n",
        "# https://pandas.pydata.org/pandas-docs/stable/generated/pandas.read_csv.html\n",
        "\n",
        "train_df = pd.read_csv(training_file_path, names=_CSV_COLUMNS, na_values='?')\n",
        "eval_df = pd.read_csv(eval_file_path, names=_CSV_COLUMNS, na_values='?')\n",
        "\n",
        "# Here's what the data looks like before we preprocess the data.\n",
        "train_df.head()"
      ],
      "execution_count": null,
      "outputs": [
        {
          "output_type": "execute_result",
          "data": {
            "text/html": [
              "<div>\n",
              "<style scoped>\n",
              "    .dataframe tbody tr th:only-of-type {\n",
              "        vertical-align: middle;\n",
              "    }\n",
              "\n",
              "    .dataframe tbody tr th {\n",
              "        vertical-align: top;\n",
              "    }\n",
              "\n",
              "    .dataframe thead th {\n",
              "        text-align: right;\n",
              "    }\n",
              "</style>\n",
              "<table border=\"1\" class=\"dataframe\">\n",
              "  <thead>\n",
              "    <tr style=\"text-align: right;\">\n",
              "      <th></th>\n",
              "      <th>age</th>\n",
              "      <th>workclass</th>\n",
              "      <th>fnlwgt</th>\n",
              "      <th>education</th>\n",
              "      <th>education_num</th>\n",
              "      <th>marital_status</th>\n",
              "      <th>occupation</th>\n",
              "      <th>relationship</th>\n",
              "      <th>race</th>\n",
              "      <th>gender</th>\n",
              "      <th>capital_gain</th>\n",
              "      <th>capital_loss</th>\n",
              "      <th>hours_per_week</th>\n",
              "      <th>native_country</th>\n",
              "      <th>income_bracket</th>\n",
              "    </tr>\n",
              "  </thead>\n",
              "  <tbody>\n",
              "    <tr>\n",
              "      <th>0</th>\n",
              "      <td>39</td>\n",
              "      <td>State-gov</td>\n",
              "      <td>77516</td>\n",
              "      <td>Bachelors</td>\n",
              "      <td>13</td>\n",
              "      <td>Never-married</td>\n",
              "      <td>Adm-clerical</td>\n",
              "      <td>Not-in-family</td>\n",
              "      <td>White</td>\n",
              "      <td>Male</td>\n",
              "      <td>2174</td>\n",
              "      <td>0</td>\n",
              "      <td>40</td>\n",
              "      <td>United-States</td>\n",
              "      <td>&lt;=50K</td>\n",
              "    </tr>\n",
              "    <tr>\n",
              "      <th>1</th>\n",
              "      <td>50</td>\n",
              "      <td>Self-emp-not-inc</td>\n",
              "      <td>83311</td>\n",
              "      <td>Bachelors</td>\n",
              "      <td>13</td>\n",
              "      <td>Married-civ-spouse</td>\n",
              "      <td>Exec-managerial</td>\n",
              "      <td>Husband</td>\n",
              "      <td>White</td>\n",
              "      <td>Male</td>\n",
              "      <td>0</td>\n",
              "      <td>0</td>\n",
              "      <td>13</td>\n",
              "      <td>United-States</td>\n",
              "      <td>&lt;=50K</td>\n",
              "    </tr>\n",
              "    <tr>\n",
              "      <th>2</th>\n",
              "      <td>38</td>\n",
              "      <td>Private</td>\n",
              "      <td>215646</td>\n",
              "      <td>HS-grad</td>\n",
              "      <td>9</td>\n",
              "      <td>Divorced</td>\n",
              "      <td>Handlers-cleaners</td>\n",
              "      <td>Not-in-family</td>\n",
              "      <td>White</td>\n",
              "      <td>Male</td>\n",
              "      <td>0</td>\n",
              "      <td>0</td>\n",
              "      <td>40</td>\n",
              "      <td>United-States</td>\n",
              "      <td>&lt;=50K</td>\n",
              "    </tr>\n",
              "    <tr>\n",
              "      <th>3</th>\n",
              "      <td>53</td>\n",
              "      <td>Private</td>\n",
              "      <td>234721</td>\n",
              "      <td>11th</td>\n",
              "      <td>7</td>\n",
              "      <td>Married-civ-spouse</td>\n",
              "      <td>Handlers-cleaners</td>\n",
              "      <td>Husband</td>\n",
              "      <td>Black</td>\n",
              "      <td>Male</td>\n",
              "      <td>0</td>\n",
              "      <td>0</td>\n",
              "      <td>40</td>\n",
              "      <td>United-States</td>\n",
              "      <td>&lt;=50K</td>\n",
              "    </tr>\n",
              "    <tr>\n",
              "      <th>4</th>\n",
              "      <td>28</td>\n",
              "      <td>Private</td>\n",
              "      <td>338409</td>\n",
              "      <td>Bachelors</td>\n",
              "      <td>13</td>\n",
              "      <td>Married-civ-spouse</td>\n",
              "      <td>Prof-specialty</td>\n",
              "      <td>Wife</td>\n",
              "      <td>Black</td>\n",
              "      <td>Female</td>\n",
              "      <td>0</td>\n",
              "      <td>0</td>\n",
              "      <td>40</td>\n",
              "      <td>Cuba</td>\n",
              "      <td>&lt;=50K</td>\n",
              "    </tr>\n",
              "  </tbody>\n",
              "</table>\n",
              "</div>"
            ],
            "text/plain": [
              "   age         workclass  fnlwgt  ... hours_per_week  native_country income_bracket\n",
              "0   39         State-gov   77516  ...             40   United-States          <=50K\n",
              "1   50  Self-emp-not-inc   83311  ...             13   United-States          <=50K\n",
              "2   38           Private  215646  ...             40   United-States          <=50K\n",
              "3   53           Private  234721  ...             40   United-States          <=50K\n",
              "4   28           Private  338409  ...             40            Cuba          <=50K\n",
              "\n",
              "[5 rows x 15 columns]"
            ]
          },
          "metadata": {},
          "execution_count": 10
        }
      ]
    },
    {
      "cell_type": "markdown",
      "metadata": {
        "deletable": true,
        "editable": true,
        "id": "Hhsa1-6qVD0n"
      },
      "source": [
        "#### Preprocess the data\n",
        "\n",
        "The first preprocessing step removes certain features from the data and\n",
        "converts categorical features to numerical values for use with Keras.\n",
        "\n",
        "Learn more about [feature engineering](https://developers.google.com/machine-learning/crash-course/representation/feature-engineering) and [bias in data](https://developers.google.com/machine-learning/crash-course/fairness/types-of-bias)."
      ]
    },
    {
      "cell_type": "code",
      "metadata": {
        "deletable": true,
        "editable": true,
        "id": "WHbJecf1Bb2r"
      },
      "source": [
        "UNUSED_COLUMNS = ['fnlwgt', 'education', 'gender']\n",
        "\n",
        "\n",
        "def preprocess(dataframe):\n",
        "    \"\"\"Converts categorical features to numeric. Removes unused columns.\n",
        "  \n",
        "    Args:\n",
        "      dataframe: Pandas dataframe with raw data\n",
        "  \n",
        "    Returns:\n",
        "      Dataframe with preprocessed data\n",
        "    \"\"\"\n",
        "    dataframe = dataframe.drop(columns=UNUSED_COLUMNS)\n",
        "\n",
        "    # Convert integer valued (numeric) columns to floating point\n",
        "    numeric_columns = dataframe.select_dtypes(['int64']).columns\n",
        "    dataframe[numeric_columns] = dataframe[numeric_columns].astype('float32')\n",
        "\n",
        "    # Convert categorical columns to numeric\n",
        "    cat_columns = dataframe.select_dtypes(['object']).columns\n",
        "    dataframe[cat_columns] = dataframe[cat_columns].apply(lambda x: x.astype(\n",
        "        _CATEGORICAL_TYPES[x.name]))\n",
        "    dataframe[cat_columns] = dataframe[cat_columns].apply(lambda x: x.cat.codes)\n",
        "    return dataframe\n",
        "\n",
        "\n",
        "prepped_train_df = preprocess(train_df)\n",
        "prepped_eval_df = preprocess(eval_df)"
      ],
      "execution_count": null,
      "outputs": []
    },
    {
      "cell_type": "markdown",
      "metadata": {
        "deletable": true,
        "editable": true,
        "id": "ce0Ln1P-mpwx"
      },
      "source": [
        "Run the following cell to see how preprocessing changed the data. Notice in particular that `income_bracket`, the label that you're training the model to predict, has changed from `<=50K` and `>50K` to `0` and `1`:"
      ]
    },
    {
      "cell_type": "code",
      "metadata": {
        "deletable": true,
        "editable": true,
        "id": "YbMskdWmTCED",
        "colab": {
          "base_uri": "https://localhost:8080/",
          "height": 204
        },
        "outputId": "a7231340-e75a-4e87-9c16-ccbabd327fea"
      },
      "source": [
        "prepped_train_df.head()"
      ],
      "execution_count": null,
      "outputs": [
        {
          "output_type": "execute_result",
          "data": {
            "text/html": [
              "<div>\n",
              "<style scoped>\n",
              "    .dataframe tbody tr th:only-of-type {\n",
              "        vertical-align: middle;\n",
              "    }\n",
              "\n",
              "    .dataframe tbody tr th {\n",
              "        vertical-align: top;\n",
              "    }\n",
              "\n",
              "    .dataframe thead th {\n",
              "        text-align: right;\n",
              "    }\n",
              "</style>\n",
              "<table border=\"1\" class=\"dataframe\">\n",
              "  <thead>\n",
              "    <tr style=\"text-align: right;\">\n",
              "      <th></th>\n",
              "      <th>age</th>\n",
              "      <th>workclass</th>\n",
              "      <th>education_num</th>\n",
              "      <th>marital_status</th>\n",
              "      <th>occupation</th>\n",
              "      <th>relationship</th>\n",
              "      <th>race</th>\n",
              "      <th>capital_gain</th>\n",
              "      <th>capital_loss</th>\n",
              "      <th>hours_per_week</th>\n",
              "      <th>native_country</th>\n",
              "      <th>income_bracket</th>\n",
              "    </tr>\n",
              "  </thead>\n",
              "  <tbody>\n",
              "    <tr>\n",
              "      <th>0</th>\n",
              "      <td>39.0</td>\n",
              "      <td>6</td>\n",
              "      <td>13.0</td>\n",
              "      <td>4</td>\n",
              "      <td>0</td>\n",
              "      <td>1</td>\n",
              "      <td>4</td>\n",
              "      <td>2174.0</td>\n",
              "      <td>0.0</td>\n",
              "      <td>40.0</td>\n",
              "      <td>38</td>\n",
              "      <td>0</td>\n",
              "    </tr>\n",
              "    <tr>\n",
              "      <th>1</th>\n",
              "      <td>50.0</td>\n",
              "      <td>5</td>\n",
              "      <td>13.0</td>\n",
              "      <td>2</td>\n",
              "      <td>3</td>\n",
              "      <td>0</td>\n",
              "      <td>4</td>\n",
              "      <td>0.0</td>\n",
              "      <td>0.0</td>\n",
              "      <td>13.0</td>\n",
              "      <td>38</td>\n",
              "      <td>0</td>\n",
              "    </tr>\n",
              "    <tr>\n",
              "      <th>2</th>\n",
              "      <td>38.0</td>\n",
              "      <td>3</td>\n",
              "      <td>9.0</td>\n",
              "      <td>0</td>\n",
              "      <td>5</td>\n",
              "      <td>1</td>\n",
              "      <td>4</td>\n",
              "      <td>0.0</td>\n",
              "      <td>0.0</td>\n",
              "      <td>40.0</td>\n",
              "      <td>38</td>\n",
              "      <td>0</td>\n",
              "    </tr>\n",
              "    <tr>\n",
              "      <th>3</th>\n",
              "      <td>53.0</td>\n",
              "      <td>3</td>\n",
              "      <td>7.0</td>\n",
              "      <td>2</td>\n",
              "      <td>5</td>\n",
              "      <td>0</td>\n",
              "      <td>2</td>\n",
              "      <td>0.0</td>\n",
              "      <td>0.0</td>\n",
              "      <td>40.0</td>\n",
              "      <td>38</td>\n",
              "      <td>0</td>\n",
              "    </tr>\n",
              "    <tr>\n",
              "      <th>4</th>\n",
              "      <td>28.0</td>\n",
              "      <td>3</td>\n",
              "      <td>13.0</td>\n",
              "      <td>2</td>\n",
              "      <td>9</td>\n",
              "      <td>5</td>\n",
              "      <td>2</td>\n",
              "      <td>0.0</td>\n",
              "      <td>0.0</td>\n",
              "      <td>40.0</td>\n",
              "      <td>4</td>\n",
              "      <td>0</td>\n",
              "    </tr>\n",
              "  </tbody>\n",
              "</table>\n",
              "</div>"
            ],
            "text/plain": [
              "    age  workclass  ...  native_country  income_bracket\n",
              "0  39.0          6  ...              38               0\n",
              "1  50.0          5  ...              38               0\n",
              "2  38.0          3  ...              38               0\n",
              "3  53.0          3  ...              38               0\n",
              "4  28.0          3  ...               4               0\n",
              "\n",
              "[5 rows x 12 columns]"
            ]
          },
          "metadata": {},
          "execution_count": 12
        }
      ]
    },
    {
      "cell_type": "markdown",
      "metadata": {
        "deletable": true,
        "editable": true,
        "id": "OCzBX6LuCmTT"
      },
      "source": [
        "Next, separate the data into features (\"x\") and labels (\"y\"), and reshape the label arrays into a format for use with `tf.data.Dataset` later:"
      ]
    },
    {
      "cell_type": "code",
      "metadata": {
        "deletable": true,
        "editable": true,
        "id": "gPq7WY51GW6M"
      },
      "source": [
        "# Split train and test data with labels.\n",
        "# The pop() method will extract (copy) and remove the label column from the dataframe\n",
        "train_x, train_y = prepped_train_df, prepped_train_df.pop(_LABEL_COLUMN)\n",
        "eval_x, eval_y = prepped_eval_df, prepped_eval_df.pop(_LABEL_COLUMN)\n",
        "\n",
        "# Reshape label columns for use with tf.data.Dataset\n",
        "train_y = np.asarray(train_y).astype('float32').reshape((-1, 1))\n",
        "eval_y = np.asarray(eval_y).astype('float32').reshape((-1, 1))"
      ],
      "execution_count": null,
      "outputs": []
    },
    {
      "cell_type": "markdown",
      "metadata": {
        "deletable": true,
        "editable": true,
        "id": "A1tDH7_RDAIK"
      },
      "source": [
        "Scaling training data so each numerical feature column has a mean of 0 and a standard deviation of 1 [can improve your model](https://developers.google.com/machine-learning/crash-course/representation/cleaning-data).\n",
        "\n",
        "In a production system, you may want to save the means and standard deviations from your training set and use them to perform an identical transformation on test data at prediction time. For convenience in this exercise, temporarily combine the training and evaluation data to scale all of them:"
      ]
    },
    {
      "cell_type": "code",
      "metadata": {
        "deletable": true,
        "editable": true,
        "id": "OXAMwr3dCsqd"
      },
      "source": [
        "def standardize(dataframe):\n",
        "    \"\"\"Scales numerical columns using their means and standard deviation to get\n",
        "    z-scores: the mean of each numerical column becomes 0, and the standard\n",
        "    deviation becomes 1. This can help the model converge during training.\n",
        "  \n",
        "    Args:\n",
        "      dataframe: Pandas dataframe\n",
        "  \n",
        "    Returns:\n",
        "      Input dataframe with the numerical columns scaled to z-scores\n",
        "    \"\"\"\n",
        "    dtypes = list(zip(dataframe.dtypes.index, map(str, dataframe.dtypes)))\n",
        "    # Normalize numeric columns.\n",
        "    for column, dtype in dtypes:\n",
        "        if dtype == 'float32':\n",
        "            dataframe[column] -= dataframe[column].mean()\n",
        "            dataframe[column] /= dataframe[column].std()\n",
        "    return dataframe\n",
        "\n",
        "\n",
        "# Join train_x and eval_x to normalize on overall means and standard\n",
        "# deviations. Then separate them again.\n",
        "all_x = pd.concat([train_x, eval_x], keys=['train', 'eval'])\n",
        "all_x = standardize(all_x)\n",
        "train_x, eval_x = all_x.xs('train'), all_x.xs('eval')"
      ],
      "execution_count": null,
      "outputs": []
    },
    {
      "cell_type": "markdown",
      "metadata": {
        "deletable": true,
        "editable": true,
        "id": "aqKZk6NawDe-"
      },
      "source": [
        "Finally, examine some of your fully preprocessed training data:"
      ]
    },
    {
      "cell_type": "code",
      "metadata": {
        "deletable": true,
        "editable": true,
        "id": "6NZqE3Wlg1yg",
        "colab": {
          "base_uri": "https://localhost:8080/",
          "height": 204
        },
        "outputId": "966bed8e-3629-4d25-cdc6-993664b5fdc0"
      },
      "source": [
        "# Verify dataset features\n",
        "# Note how only the numeric fields (not categorical) have been standardized\n",
        "train_x.head()"
      ],
      "execution_count": null,
      "outputs": [
        {
          "output_type": "execute_result",
          "data": {
            "text/html": [
              "<div>\n",
              "<style scoped>\n",
              "    .dataframe tbody tr th:only-of-type {\n",
              "        vertical-align: middle;\n",
              "    }\n",
              "\n",
              "    .dataframe tbody tr th {\n",
              "        vertical-align: top;\n",
              "    }\n",
              "\n",
              "    .dataframe thead th {\n",
              "        text-align: right;\n",
              "    }\n",
              "</style>\n",
              "<table border=\"1\" class=\"dataframe\">\n",
              "  <thead>\n",
              "    <tr style=\"text-align: right;\">\n",
              "      <th></th>\n",
              "      <th>age</th>\n",
              "      <th>workclass</th>\n",
              "      <th>education_num</th>\n",
              "      <th>marital_status</th>\n",
              "      <th>occupation</th>\n",
              "      <th>relationship</th>\n",
              "      <th>race</th>\n",
              "      <th>capital_gain</th>\n",
              "      <th>capital_loss</th>\n",
              "      <th>hours_per_week</th>\n",
              "      <th>native_country</th>\n",
              "    </tr>\n",
              "  </thead>\n",
              "  <tbody>\n",
              "    <tr>\n",
              "      <th>0</th>\n",
              "      <td>0.025997</td>\n",
              "      <td>6</td>\n",
              "      <td>1.136580</td>\n",
              "      <td>4</td>\n",
              "      <td>0</td>\n",
              "      <td>1</td>\n",
              "      <td>4</td>\n",
              "      <td>0.146933</td>\n",
              "      <td>-0.217132</td>\n",
              "      <td>-0.034039</td>\n",
              "      <td>38</td>\n",
              "    </tr>\n",
              "    <tr>\n",
              "      <th>1</th>\n",
              "      <td>0.828278</td>\n",
              "      <td>5</td>\n",
              "      <td>1.136580</td>\n",
              "      <td>2</td>\n",
              "      <td>3</td>\n",
              "      <td>0</td>\n",
              "      <td>4</td>\n",
              "      <td>-0.144792</td>\n",
              "      <td>-0.217132</td>\n",
              "      <td>-2.212964</td>\n",
              "      <td>38</td>\n",
              "    </tr>\n",
              "    <tr>\n",
              "      <th>2</th>\n",
              "      <td>-0.046938</td>\n",
              "      <td>3</td>\n",
              "      <td>-0.419265</td>\n",
              "      <td>0</td>\n",
              "      <td>5</td>\n",
              "      <td>1</td>\n",
              "      <td>4</td>\n",
              "      <td>-0.144792</td>\n",
              "      <td>-0.217132</td>\n",
              "      <td>-0.034039</td>\n",
              "      <td>38</td>\n",
              "    </tr>\n",
              "    <tr>\n",
              "      <th>3</th>\n",
              "      <td>1.047082</td>\n",
              "      <td>3</td>\n",
              "      <td>-1.197188</td>\n",
              "      <td>2</td>\n",
              "      <td>5</td>\n",
              "      <td>0</td>\n",
              "      <td>2</td>\n",
              "      <td>-0.144792</td>\n",
              "      <td>-0.217132</td>\n",
              "      <td>-0.034039</td>\n",
              "      <td>38</td>\n",
              "    </tr>\n",
              "    <tr>\n",
              "      <th>4</th>\n",
              "      <td>-0.776285</td>\n",
              "      <td>3</td>\n",
              "      <td>1.136580</td>\n",
              "      <td>2</td>\n",
              "      <td>9</td>\n",
              "      <td>5</td>\n",
              "      <td>2</td>\n",
              "      <td>-0.144792</td>\n",
              "      <td>-0.217132</td>\n",
              "      <td>-0.034039</td>\n",
              "      <td>4</td>\n",
              "    </tr>\n",
              "  </tbody>\n",
              "</table>\n",
              "</div>"
            ],
            "text/plain": [
              "        age  workclass  ...  hours_per_week  native_country\n",
              "0  0.025997          6  ...       -0.034039              38\n",
              "1  0.828278          5  ...       -2.212964              38\n",
              "2 -0.046938          3  ...       -0.034039              38\n",
              "3  1.047082          3  ...       -0.034039              38\n",
              "4 -0.776285          3  ...       -0.034039               4\n",
              "\n",
              "[5 rows x 11 columns]"
            ]
          },
          "metadata": {},
          "execution_count": 15
        }
      ]
    },
    {
      "cell_type": "markdown",
      "metadata": {
        "deletable": true,
        "editable": true,
        "id": "V1bLJFrNxHXV"
      },
      "source": [
        "### Design and train the model"
      ]
    },
    {
      "cell_type": "markdown",
      "metadata": {
        "deletable": true,
        "editable": true,
        "id": "iWkmN8ZmwSXU"
      },
      "source": [
        "#### Create training and validation datasets\n",
        "\n",
        "Create an input function to convert features and labels into a\n",
        "[`tf.data.Dataset`](https://www.tensorflow.org/guide/datasets) for training or evaluation:"
      ]
    },
    {
      "cell_type": "code",
      "metadata": {
        "deletable": true,
        "editable": true,
        "id": "PIfE-YaXwRaU"
      },
      "source": [
        "def input_fn(features, labels, shuffle, num_epochs, batch_size):\n",
        "    \"\"\"Generates an input function to be used for model training.\n",
        "  \n",
        "    Args:\n",
        "      features: numpy array of features used for training or inference\n",
        "      labels: numpy array of labels for each example\n",
        "      shuffle: boolean for whether to shuffle the data or not (set True for\n",
        "        training, False for evaluation)\n",
        "      num_epochs: number of epochs to provide the data for\n",
        "      batch_size: batch size for training\n",
        "  \n",
        "    Returns:\n",
        "      A tf.data.Dataset that can provide data to the Keras model for training or\n",
        "        evaluation\n",
        "    \"\"\"\n",
        "    if labels is None:\n",
        "        inputs = features\n",
        "    else:\n",
        "        inputs = (features, labels)\n",
        "    dataset = tf.data.Dataset.from_tensor_slices(inputs)\n",
        "\n",
        "    if shuffle:\n",
        "        dataset = dataset.shuffle(buffer_size=len(features))\n",
        "\n",
        "    # We call repeat after shuffling, rather than before, to prevent separate\n",
        "    # epochs from blending together.\n",
        "    dataset = dataset.repeat(num_epochs)\n",
        "    dataset = dataset.batch(batch_size)\n",
        "    return dataset"
      ],
      "execution_count": null,
      "outputs": []
    },
    {
      "cell_type": "code",
      "metadata": {
        "colab": {
          "base_uri": "https://localhost:8080/"
        },
        "id": "roY2PFkVD0re",
        "outputId": "65e047b4-d5c8-4247-8163-e603a48bc089"
      },
      "source": [
        "eval_x.shape"
      ],
      "execution_count": null,
      "outputs": [
        {
          "output_type": "execute_result",
          "data": {
            "text/plain": [
              "(16278, 11)"
            ]
          },
          "metadata": {},
          "execution_count": 17
        }
      ]
    },
    {
      "cell_type": "markdown",
      "metadata": {
        "deletable": true,
        "editable": true,
        "id": "f8paLJ_rF84R"
      },
      "source": [
        "Next, create these training and evaluation datasets.Use the `NUM_EPOCHS`\n",
        "and `BATCH_SIZE` hyperparameters defined previously to define how the training\n",
        "dataset provides examples to the model during training. Set up the validation\n",
        "dataset to provide all its examples in one batch, for a single validation step\n",
        "at the end of each training epoch."
      ]
    },
    {
      "cell_type": "code",
      "metadata": {
        "deletable": true,
        "editable": true,
        "id": "_xdC2P5EF7rH"
      },
      "source": [
        "# Pass a numpy array by using DataFrame.values\n",
        "training_dataset = input_fn(features=train_x.values, \n",
        "                    labels=train_y, \n",
        "                    shuffle=True, \n",
        "                    num_epochs=NUM_EPOCHS, \n",
        "                    batch_size=BATCH_SIZE)\n",
        "\n",
        "num_eval_examples = eval_x.shape[0]\n",
        "\n",
        "# Pass a numpy array by using DataFrame.values\n",
        "validation_dataset = input_fn(features=eval_x.values, \n",
        "                    labels=eval_y, \n",
        "                    shuffle=False, \n",
        "                    num_epochs=NUM_EPOCHS, \n",
        "                    batch_size=num_eval_examples)                "
      ],
      "execution_count": null,
      "outputs": []
    },
    {
      "cell_type": "markdown",
      "metadata": {
        "deletable": true,
        "editable": true,
        "id": "vZrDBXnxggOH"
      },
      "source": [
        "# Design a Keras Model from Scratch. Enter code here.."
      ]
    },
    {
      "cell_type": "markdown",
      "metadata": {
        "deletable": true,
        "editable": true,
        "id": "JY_A0yPyqU08"
      },
      "source": [
        "Design your neural network using the [Keras Sequential API](https://www.tensorflow.org/guide/keras#sequential_model).\n",
        "\n",
        "This deep neural network (DNN) has several hidden layers, and the last layer uses a sigmoid activation function to output a value between 0 and 1:\n",
        "\n",
        "* The input layer has 100 units using the ReLU activation function.\n",
        "* The hidden layer has 75 units using the ReLU activation function.\n",
        "* The hidden layer has 50 units using the ReLU activation function.\n",
        "* The hidden layer has 25 units using the ReLU activation function.\n",
        "* The output layer has 1 units using a sigmoid activation function.\n",
        "* The optimizer uses the binary cross-entropy loss function, which is appropriate for a binary classification problem like this one.\n",
        "\n",
        "Feel free to change these layers to try to improve the model:"
      ]
    },
    {
      "cell_type": "code",
      "metadata": {
        "deletable": true,
        "editable": true,
        "id": "j_lsOhQAvzS-"
      },
      "source": [
        "def create_keras_model(input_dim, learning_rate):\n",
        "    \"\"\"Creates Keras Model for Binary Classification.\n",
        "  \n",
        "    Args:\n",
        "      input_dim: How many features the input has\n",
        "      learning_rate: Learning rate for training\n",
        "  \n",
        "    Returns:\n",
        "      The compiled Keras model (still needs to be trained)\n",
        "    \"\"\"\n",
        "    Dense = tf.keras.layers.Dense\n",
        "    #################START CODE HERE##############################################\n",
        "    # Define Keras sequential model with only 5 Dense layers with 100, 75, 50, 25 and 1 neurons each. \n",
        "    #All layers except last one has relu activation. \n",
        "    #Last layer has sigmoid activation.\n",
        "    model = tf.keras.Sequential(\n",
        "      [\n",
        "          Dense(100, activation=tf.nn.relu, kernel_initializer='uniform',\n",
        "                  input_shape=(input_dim,)),\n",
        "          Dense(75, activation=tf.nn.relu),\n",
        "          Dense(50, activation=tf.nn.relu),\n",
        "          Dense(25, activation=tf.nn.relu),\n",
        "          Dense(1, activation=tf.nn.sigmoid),\n",
        "          #Enter more lines here###############################\n",
        "      ])\n",
        "    # Custom Optimizer:\n",
        "    # https://www.tensorflow.org/api_docs/python/tf/train/RMSPropOptimizer\n",
        "    optimizer = tf.keras.optimizers.RMSprop(\n",
        "        lr=learning_rate)\n",
        "\n",
        "    # Compile Keras model\n",
        "    model.compile(\n",
        "        loss='binary_crossentropy', optimizer=optimizer, metrics=['accuracy'])\n",
        "    return model"
      ],
      "execution_count": null,
      "outputs": []
    },
    {
      "cell_type": "markdown",
      "metadata": {
        "deletable": true,
        "editable": true,
        "id": "mo5zTRNvBWv4"
      },
      "source": [
        "Next, create the Keras model object and examine its structure:"
      ]
    },
    {
      "cell_type": "code",
      "metadata": {
        "colab": {
          "base_uri": "https://localhost:8080/"
        },
        "id": "4Jrl1r1SBbSt",
        "outputId": "c4b58a67-dc9f-4de5-f445-cf1fd82e1e61"
      },
      "source": [
        "num_train_examples, input_dim = train_x.shape\n",
        "print('Number of features: {}'.format(input_dim))\n",
        "print('Number of examples: {}'.format(num_train_examples))\n",
        "\n",
        "keras_model = create_keras_model(\n",
        "    input_dim=input_dim,\n",
        "    learning_rate=LEARNING_RATE)"
      ],
      "execution_count": null,
      "outputs": [
        {
          "output_type": "stream",
          "name": "stdout",
          "text": [
            "Number of features: 11\n",
            "Number of examples: 32561\n"
          ]
        },
        {
          "output_type": "stream",
          "name": "stderr",
          "text": [
            "/usr/local/lib/python3.7/dist-packages/keras/optimizer_v2/optimizer_v2.py:356: UserWarning: The `lr` argument is deprecated, use `learning_rate` instead.\n",
            "  \"The `lr` argument is deprecated, use `learning_rate` instead.\")\n"
          ]
        }
      ]
    },
    {
      "cell_type": "code",
      "metadata": {
        "colab": {
          "base_uri": "https://localhost:8080/"
        },
        "id": "ngTJSonvB1PA",
        "outputId": "03dd7346-7b22-4cdc-dec6-233023daa4d2"
      },
      "source": [
        "##START CODE HERE#############\n",
        "keras_model.summary()\n",
        "#Summarize the Model above##########"
      ],
      "execution_count": null,
      "outputs": [
        {
          "output_type": "stream",
          "name": "stdout",
          "text": [
            "Model: \"sequential\"\n",
            "_________________________________________________________________\n",
            "Layer (type)                 Output Shape              Param #   \n",
            "=================================================================\n",
            "dense (Dense)                (None, 100)               1200      \n",
            "_________________________________________________________________\n",
            "dense_1 (Dense)              (None, 75)                7575      \n",
            "_________________________________________________________________\n",
            "dense_2 (Dense)              (None, 50)                3800      \n",
            "_________________________________________________________________\n",
            "dense_3 (Dense)              (None, 25)                1275      \n",
            "_________________________________________________________________\n",
            "dense_4 (Dense)              (None, 1)                 26        \n",
            "=================================================================\n",
            "Total params: 13,876\n",
            "Trainable params: 13,876\n",
            "Non-trainable params: 0\n",
            "_________________________________________________________________\n"
          ]
        }
      ]
    },
    {
      "cell_type": "markdown",
      "metadata": {
        "deletable": true,
        "editable": true,
        "id": "4cqeQttaHbZt"
      },
      "source": [
        "#### Train and evaluate the model\n",
        "\n",
        "Define a learning rate decay to encourage model paramaters to make smaller\n",
        "changes as training goes on:"
      ]
    },
    {
      "cell_type": "code",
      "metadata": {
        "deletable": true,
        "editable": true,
        "id": "7eLa_Yoj2rhv"
      },
      "source": [
        "# Setup Learning Rate decay.\n",
        "lr_decay_cb = tf.keras.callbacks.LearningRateScheduler(\n",
        "    lambda epoch: LEARNING_RATE + 0.02 * (0.5 ** (1 + epoch)),\n",
        "    verbose=True)\n",
        "\n",
        "# Setup TensorBoard callback.\n",
        "tensorboard_cb = tf.keras.callbacks.TensorBoard(\n",
        "      os.path.join(JOB_DIR, 'keras_tensorboard'),\n",
        "      histogram_freq=1)"
      ],
      "execution_count": null,
      "outputs": []
    },
    {
      "cell_type": "code",
      "metadata": {
        "colab": {
          "base_uri": "https://localhost:8080/"
        },
        "id": "7lG5_iCKCm8T",
        "outputId": "db3f2296-87bc-4507-ccbc-821f98219b39"
      },
      "source": [
        "training_dataset"
      ],
      "execution_count": null,
      "outputs": [
        {
          "output_type": "execute_result",
          "data": {
            "text/plain": [
              "<BatchDataset shapes: ((None, 11), (None, 1)), types: (tf.float64, tf.float32)>"
            ]
          },
          "metadata": {},
          "execution_count": 25
        }
      ]
    },
    {
      "cell_type": "markdown",
      "metadata": {
        "deletable": true,
        "editable": true,
        "id": "1fExnH6bhOSC"
      },
      "source": [
        "Finally, train the model. Provide the appropriate `steps_per_epoch` for the\n",
        "model to train on the entire training dataset (with `BATCH_SIZE` examples per step) during each epoch. And instruct the model to calculate validation\n",
        "accuracy with one big validation batch at the end of each epoch.\n"
      ]
    },
    {
      "cell_type": "code",
      "metadata": {
        "deletable": true,
        "editable": true,
        "id": "MG4EvLiorMmZ",
        "colab": {
          "base_uri": "https://localhost:8080/"
        },
        "outputId": "d8101d87-c690-4275-f70b-4c53721046e8"
      },
      "source": [
        "history = keras_model.fit(training_dataset, \n",
        "                          epochs=NUM_EPOCHS, \n",
        "                          steps_per_epoch=int(num_train_examples/BATCH_SIZE), \n",
        "                          validation_data=validation_dataset, \n",
        "                          validation_steps=1, \n",
        "                          callbacks=[lr_decay_cb, tensorboard_cb],\n",
        "                          verbose=1)"
      ],
      "execution_count": null,
      "outputs": [
        {
          "output_type": "stream",
          "name": "stdout",
          "text": [
            "Epoch 1/20\n",
            "\n",
            "Epoch 00001: LearningRateScheduler setting learning rate to 0.02.\n",
            "254/254 [==============================] - 11s 33ms/step - loss: 0.4823 - accuracy: 0.7931 - val_loss: 0.3854 - val_accuracy: 0.8260\n",
            "Epoch 2/20\n",
            "\n",
            "Epoch 00002: LearningRateScheduler setting learning rate to 0.015.\n",
            "254/254 [==============================] - 1s 5ms/step - loss: 0.3589 - accuracy: 0.8339 - val_loss: 0.3539 - val_accuracy: 0.8443\n",
            "Epoch 3/20\n",
            "\n",
            "Epoch 00003: LearningRateScheduler setting learning rate to 0.0125.\n",
            "254/254 [==============================] - 1s 5ms/step - loss: 0.3434 - accuracy: 0.8423 - val_loss: 0.3297 - val_accuracy: 0.8481\n",
            "Epoch 4/20\n",
            "\n",
            "Epoch 00004: LearningRateScheduler setting learning rate to 0.01125.\n",
            "254/254 [==============================] - 1s 5ms/step - loss: 0.3373 - accuracy: 0.8448 - val_loss: 0.3300 - val_accuracy: 0.8475\n",
            "Epoch 5/20\n",
            "\n",
            "Epoch 00005: LearningRateScheduler setting learning rate to 0.010625.\n",
            "254/254 [==============================] - 1s 5ms/step - loss: 0.3344 - accuracy: 0.8463 - val_loss: 0.3318 - val_accuracy: 0.8453\n",
            "Epoch 6/20\n",
            "\n",
            "Epoch 00006: LearningRateScheduler setting learning rate to 0.0103125.\n",
            "254/254 [==============================] - 1s 5ms/step - loss: 0.3325 - accuracy: 0.8469 - val_loss: 0.3412 - val_accuracy: 0.8488\n",
            "Epoch 7/20\n",
            "\n",
            "Epoch 00007: LearningRateScheduler setting learning rate to 0.01015625.\n",
            "254/254 [==============================] - 1s 5ms/step - loss: 0.3318 - accuracy: 0.8469 - val_loss: 0.3384 - val_accuracy: 0.8478\n",
            "Epoch 8/20\n",
            "\n",
            "Epoch 00008: LearningRateScheduler setting learning rate to 0.010078125.\n",
            "254/254 [==============================] - 1s 5ms/step - loss: 0.3301 - accuracy: 0.8488 - val_loss: 0.3253 - val_accuracy: 0.8496\n",
            "Epoch 9/20\n",
            "\n",
            "Epoch 00009: LearningRateScheduler setting learning rate to 0.0100390625.\n",
            "254/254 [==============================] - 1s 5ms/step - loss: 0.3304 - accuracy: 0.8461 - val_loss: 0.3258 - val_accuracy: 0.8507\n",
            "Epoch 10/20\n",
            "\n",
            "Epoch 00010: LearningRateScheduler setting learning rate to 0.01001953125.\n",
            "254/254 [==============================] - 1s 5ms/step - loss: 0.3284 - accuracy: 0.8477 - val_loss: 0.3260 - val_accuracy: 0.8518\n",
            "Epoch 11/20\n",
            "\n",
            "Epoch 00011: LearningRateScheduler setting learning rate to 0.010009765625.\n",
            "254/254 [==============================] - 1s 5ms/step - loss: 0.3235 - accuracy: 0.8499 - val_loss: 0.3651 - val_accuracy: 0.8421\n",
            "Epoch 12/20\n",
            "\n",
            "Epoch 00012: LearningRateScheduler setting learning rate to 0.010004882812500001.\n",
            "254/254 [==============================] - 1s 5ms/step - loss: 0.3279 - accuracy: 0.8490 - val_loss: 0.3249 - val_accuracy: 0.8492\n",
            "Epoch 13/20\n",
            "\n",
            "Epoch 00013: LearningRateScheduler setting learning rate to 0.01000244140625.\n",
            "254/254 [==============================] - 1s 5ms/step - loss: 0.3247 - accuracy: 0.8482 - val_loss: 0.3268 - val_accuracy: 0.8499\n",
            "Epoch 14/20\n",
            "\n",
            "Epoch 00014: LearningRateScheduler setting learning rate to 0.010001220703125.\n",
            "254/254 [==============================] - 1s 5ms/step - loss: 0.3243 - accuracy: 0.8502 - val_loss: 0.3234 - val_accuracy: 0.8523\n",
            "Epoch 15/20\n",
            "\n",
            "Epoch 00015: LearningRateScheduler setting learning rate to 0.0100006103515625.\n",
            "254/254 [==============================] - 1s 5ms/step - loss: 0.3257 - accuracy: 0.8503 - val_loss: 0.3377 - val_accuracy: 0.8465\n",
            "Epoch 16/20\n",
            "\n",
            "Epoch 00016: LearningRateScheduler setting learning rate to 0.01000030517578125.\n",
            "254/254 [==============================] - 1s 5ms/step - loss: 0.3247 - accuracy: 0.8509 - val_loss: 0.3272 - val_accuracy: 0.8511\n",
            "Epoch 17/20\n",
            "\n",
            "Epoch 00017: LearningRateScheduler setting learning rate to 0.010000152587890625.\n",
            "254/254 [==============================] - 1s 5ms/step - loss: 0.3234 - accuracy: 0.8507 - val_loss: 0.3286 - val_accuracy: 0.8526\n",
            "Epoch 18/20\n",
            "\n",
            "Epoch 00018: LearningRateScheduler setting learning rate to 0.010000076293945313.\n",
            "254/254 [==============================] - 1s 5ms/step - loss: 0.3241 - accuracy: 0.8512 - val_loss: 0.3223 - val_accuracy: 0.8530\n",
            "Epoch 19/20\n",
            "\n",
            "Epoch 00019: LearningRateScheduler setting learning rate to 0.010000038146972657.\n",
            "254/254 [==============================] - 1s 5ms/step - loss: 0.3229 - accuracy: 0.8502 - val_loss: 0.3317 - val_accuracy: 0.8524\n",
            "Epoch 20/20\n",
            "\n",
            "Epoch 00020: LearningRateScheduler setting learning rate to 0.010000019073486329.\n",
            "254/254 [==============================] - 1s 5ms/step - loss: 0.3228 - accuracy: 0.8512 - val_loss: 0.3237 - val_accuracy: 0.8512\n"
          ]
        }
      ]
    },
    {
      "cell_type": "markdown",
      "metadata": {
        "deletable": true,
        "editable": true,
        "id": "fW7vTPm2pd2l"
      },
      "source": [
        "### Visualize training and export the trained model"
      ]
    },
    {
      "cell_type": "markdown",
      "metadata": {
        "deletable": true,
        "editable": true,
        "id": "S9ZQcgetLHz9"
      },
      "source": [
        "#### Visualize training\n",
        "\n",
        "Import `matplotlib` to visualize how the model learned over the training period."
      ]
    },
    {
      "cell_type": "code",
      "metadata": {
        "deletable": true,
        "editable": true,
        "id": "ISzcM0lxMOPX",
        "colab": {
          "base_uri": "https://localhost:8080/"
        },
        "outputId": "c3dfeef8-d782-454d-9062-839c1c0f6a8a"
      },
      "source": [
        "! pip install matplotlib\n",
        "\n",
        "from matplotlib import pyplot as plt\n",
        "\n",
        "%matplotlib inline"
      ],
      "execution_count": null,
      "outputs": [
        {
          "output_type": "stream",
          "name": "stdout",
          "text": [
            "Requirement already satisfied: matplotlib in /usr/local/lib/python3.7/dist-packages (3.2.2)\n",
            "Requirement already satisfied: kiwisolver>=1.0.1 in /usr/local/lib/python3.7/dist-packages (from matplotlib) (1.3.1)\n",
            "Requirement already satisfied: python-dateutil>=2.1 in /usr/local/lib/python3.7/dist-packages (from matplotlib) (2.8.2)\n",
            "Requirement already satisfied: cycler>=0.10 in /usr/local/lib/python3.7/dist-packages (from matplotlib) (0.10.0)\n",
            "Requirement already satisfied: numpy>=1.11 in /usr/local/lib/python3.7/dist-packages (from matplotlib) (1.19.5)\n",
            "Requirement already satisfied: pyparsing!=2.0.4,!=2.1.2,!=2.1.6,>=2.0.1 in /usr/local/lib/python3.7/dist-packages (from matplotlib) (2.4.7)\n",
            "Requirement already satisfied: six in /usr/local/lib/python3.7/dist-packages (from cycler>=0.10->matplotlib) (1.15.0)\n"
          ]
        }
      ]
    },
    {
      "cell_type": "markdown",
      "metadata": {
        "deletable": true,
        "editable": true,
        "id": "e6tLXXT0SR-q"
      },
      "source": [
        "Plot the model's loss (binary cross-entropy) and accuracy, as measured at the\n",
        "end of each training epoch:"
      ]
    },
    {
      "cell_type": "code",
      "metadata": {
        "deletable": true,
        "editable": true,
        "id": "yU1TzdlY0i-Y",
        "colab": {
          "base_uri": "https://localhost:8080/",
          "height": 573
        },
        "outputId": "ea962cac-8da6-41b9-c6e2-fd3d19ec896e"
      },
      "source": [
        "# Visualize History for Loss.\n",
        "plt.title('Keras model loss')\n",
        "plt.plot(history.history['loss'])\n",
        "plt.plot(history.history['val_loss'])\n",
        "plt.ylabel('loss')\n",
        "plt.xlabel('epoch')\n",
        "plt.legend(['training', 'validation'], loc='upper right')\n",
        "plt.show()\n",
        "\n",
        "# Visualize History for Accuracy.\n",
        "plt.title('Keras model accuracy')\n",
        "plt.ylabel('accuracy')\n",
        "plt.xlabel('epoch')\n",
        "plt.plot(history.history['accuracy'])\n",
        "plt.plot(history.history['val_accuracy'])\n",
        "plt.legend(['training', 'validation'], loc='lower right')\n",
        "plt.show()"
      ],
      "execution_count": null,
      "outputs": [
        {
          "output_type": "display_data",
          "data": {
            "image/png": "[encoded data removed]",
            "text/plain": [
              "<Figure size 432x288 with 1 Axes>"
            ]
          },
          "metadata": {
            "needs_background": "light"
          }
        },
        {
          "output_type": "display_data",
          "data": {
            "image/png": "[encoded data removed]",
            "text/plain": [
              "<Figure size 432x288 with 1 Axes>"
            ]
          },
          "metadata": {
            "needs_background": "light"
          }
        }
      ]
    },
    {
      "cell_type": "code",
      "metadata": {
        "colab": {
          "base_uri": "https://localhost:8080/"
        },
        "id": "nXkI3koyUW_n",
        "outputId": "7bce74bc-2b87-4d9b-acb9-83db1b5a5417"
      },
      "source": [
        "%cd /content/drive/My Drive/Colab/Fourth.Brain/GCP/"
      ],
      "execution_count": null,
      "outputs": [
        {
          "output_type": "stream",
          "name": "stdout",
          "text": [
            "/content/drive/My Drive/Colab/Fourth.Brain/GCP\n"
          ]
        }
      ]
    },
    {
      "cell_type": "code",
      "metadata": {
        "colab": {
          "base_uri": "https://localhost:8080/"
        },
        "id": "Oixh8XG2vytt",
        "outputId": "482f8a6a-599d-4ce4-ee44-9f6f28af16c1"
      },
      "source": [
        "!ls"
      ],
      "execution_count": null,
      "outputs": [
        {
          "output_type": "stream",
          "name": "stdout",
          "text": [
            "4B_AutoML_Deployment_on_GCP_v1.ipynb  cloudml-samples\n"
          ]
        }
      ]
    },
    {
      "cell_type": "markdown",
      "metadata": {
        "deletable": true,
        "editable": true,
        "id": "D2L4TkncQb0F"
      },
      "source": [
        "Over time, loss decreases and accuracy increases. But do they converge to a\n",
        "stable level? Are there big differences between the training and validation\n",
        "metrics (a sign of overfitting)?\n",
        "\n",
        "Learn about [how to improve your machine learning\n",
        "model](https://developers.google.com/machine-learning/crash-course/). Then, feel\n",
        "free to adjust hyperparameters or the model architecture and train again."
      ]
    },
    {
      "cell_type": "markdown",
      "metadata": {
        "deletable": true,
        "editable": true,
        "id": "gmTiOQObmTqd"
      },
      "source": [
        "#### Export the model for serving\n",
        "\n",
        "AI Platform requires when you [create a model version\n",
        "resource](https://cloud.google.com/ml-engine/docs/tensorflow/deploying-models#create_a_model_version).\n",
        "\n",
        "Since not all optimizers can be exported to the SavedModel format, you may see\n",
        "warnings during the export process. As long you successfully export a serving\n",
        "graph, AI Platform can used the SavedModel to serve predictions."
      ]
    },
    {
      "cell_type": "code",
      "metadata": {
        "colab": {
          "base_uri": "https://localhost:8080/"
        },
        "id": "pNNMR0UyvPpO",
        "outputId": "4305d660-f7c3-4b1d-bc56-73499b77bad0"
      },
      "source": [
        "# Export the model to a local SavedModel directory \n",
        "export_path = tf.compat.v1.keras.experimental.export_saved_model(keras_model, 'keras_export')\n",
        "print(\"Model exported to: \", export_path)"
      ],
      "execution_count": null,
      "outputs": [
        {
          "output_type": "stream",
          "name": "stderr",
          "text": [
            "/usr/local/lib/python3.7/dist-packages/keras/saving/saved_model_experimental.py:117: UserWarning: `tf.keras.experimental.export_saved_model` is deprecatedand will be removed in a future version. Please use `model.save(..., save_format=\"tf\")` or `tf.keras.models.save_model(..., save_format=\"tf\")`.\n",
            "  warnings.warn('`tf.keras.experimental.export_saved_model` is deprecated'\n",
            "/usr/local/lib/python3.7/dist-packages/keras/backend.py:459: UserWarning: `tf.keras.backend.learning_phase_scope` is deprecated and will be removed after 2020-10-11. To update it, simply pass a True/False value to the `training` argument of the `__call__` method of your layer or model.\n",
            "  warnings.warn('`tf.keras.backend.learning_phase_scope` is deprecated and '\n",
            "/usr/local/lib/python3.7/dist-packages/keras/engine/training.py:2470: UserWarning: `Model.state_updates` will be removed in a future version. This property should not be used in TensorFlow 2.0, as `updates` are applied automatically.\n",
            "  warnings.warn('`Model.state_updates` will be removed in a future version. '\n"
          ]
        },
        {
          "output_type": "stream",
          "name": "stdout",
          "text": [
            "WARNING:tensorflow:From /usr/local/lib/python3.7/dist-packages/keras/saving/utils_v1/signature_def_utils.py:64: build_tensor_info (from tensorflow.python.saved_model.utils_impl) is deprecated and will be removed in a future version.\n",
            "Instructions for updating:\n",
            "This function will only be available through the v1 compatibility library as tf.compat.v1.saved_model.utils.build_tensor_info or tf.compat.v1.saved_model.build_tensor_info.\n",
            "INFO:tensorflow:Signatures INCLUDED in export for Classify: None\n",
            "INFO:tensorflow:Signatures INCLUDED in export for Regress: None\n",
            "INFO:tensorflow:Signatures INCLUDED in export for Predict: None\n",
            "INFO:tensorflow:Signatures INCLUDED in export for Train: ['train']\n",
            "INFO:tensorflow:Signatures INCLUDED in export for Eval: None\n",
            "WARNING:tensorflow:Export includes no default signature!\n",
            "INFO:tensorflow:No assets to save.\n",
            "INFO:tensorflow:No assets to write.\n",
            "INFO:tensorflow:Signatures INCLUDED in export for Classify: None\n",
            "INFO:tensorflow:Signatures INCLUDED in export for Regress: None\n",
            "INFO:tensorflow:Signatures INCLUDED in export for Predict: None\n",
            "INFO:tensorflow:Signatures INCLUDED in export for Train: None\n",
            "INFO:tensorflow:Signatures INCLUDED in export for Eval: ['eval']\n",
            "WARNING:tensorflow:Export includes no default signature!\n",
            "INFO:tensorflow:No assets to save.\n",
            "INFO:tensorflow:No assets to write.\n",
            "INFO:tensorflow:Signatures INCLUDED in export for Classify: None\n",
            "INFO:tensorflow:Signatures INCLUDED in export for Regress: None\n",
            "INFO:tensorflow:Signatures INCLUDED in export for Predict: ['serving_default']\n",
            "INFO:tensorflow:Signatures INCLUDED in export for Train: None\n",
            "INFO:tensorflow:Signatures INCLUDED in export for Eval: None\n",
            "INFO:tensorflow:No assets to save.\n",
            "INFO:tensorflow:No assets to write.\n",
            "INFO:tensorflow:SavedModel written to: keras_export/saved_model.pb\n",
            "Model exported to:  None\n"
          ]
        }
      ]
    },
    {
      "cell_type": "code",
      "metadata": {
        "id": "oPIDke-mF4AL",
        "colab": {
          "base_uri": "https://localhost:8080/"
        },
        "outputId": "b8b58f9d-bd5f-4a42-af60-f87fd4ae67eb"
      },
      "source": [
        "%ls"
      ],
      "execution_count": null,
      "outputs": [
        {
          "output_type": "stream",
          "name": "stdout",
          "text": [
            "4B_AutoML_Deployment_on_GCP_v1.ipynb  \u001b[0m\u001b[01;34mcloudml-samples\u001b[0m/  \u001b[01;34mkeras_export\u001b[0m/\n"
          ]
        }
      ]
    },
    {
      "cell_type": "markdown",
      "metadata": {
        "deletable": true,
        "editable": true,
        "id": "i805caqculq4"
      },
      "source": [
        "# Task 3: Deploy this model to AI Platform and serve predictions by following the steps from Part 2 (Cloud Deployment). Ensure you know all the steps to train and fetch results for test data.\n",
        "\n",
        "## Enter your code below."
      ]
    },
    {
      "cell_type": "code",
      "metadata": {
        "colab": {
          "base_uri": "https://localhost:8080/"
        },
        "id": "MW85qVtSaysq",
        "outputId": "5754fb2c-b0b0-4adb-c4a1-230b19f86ddc"
      },
      "source": [
        "MODEL_NAME = \"chintalapati2_Keras_model\" #<Lastname_Keras_model>\n",
        "\n",
        "! gcloud ai-platform models create $MODEL_NAME \\\n",
        "  --region $REGION"
      ],
      "execution_count": null,
      "outputs": [
        {
          "output_type": "stream",
          "name": "stdout",
          "text": [
            "Using endpoint [https://us-east1-ml.googleapis.com/]\n",
            "Created ai platform model [projects/fb-mle-may-21/models/chintalapati2_Keras_model].\n"
          ]
        }
      ]
    },
    {
      "cell_type": "code",
      "metadata": {
        "colab": {
          "base_uri": "https://localhost:8080/"
        },
        "id": "JmlBv-DmcWt4",
        "outputId": "cfaede0b-0b0f-4369-a78f-6dd2ebe6801a"
      },
      "source": [
        "MODEL_VERSION = \"v_chintalapati\" # Give a unique name <v_Lastname>\n",
        "\n",
        "# Get a list of directories in the `keras_export` parent directory\n",
        "KERAS_EXPORT_DIRS = !gsutil ls $JOB_DIR/keras_export/\n",
        "print(KERAS_EXPORT_DIRS)"
      ],
      "execution_count": null,
      "outputs": [
        {
          "output_type": "stream",
          "name": "stdout",
          "text": [
            "['gs://rajashekar_ch_bucket/keras-job-dir/keras_export/', 'gs://rajashekar_ch_bucket/keras-job-dir/keras_export/saved_model.pb', 'gs://rajashekar_ch_bucket/keras-job-dir/keras_export/assets/', 'gs://rajashekar_ch_bucket/keras-job-dir/keras_export/variables/']\n"
          ]
        }
      ]
    },
    {
      "cell_type": "code",
      "metadata": {
        "colab": {
          "base_uri": "https://localhost:8080/"
        },
        "id": "vLFrjujzcnQ1",
        "outputId": "dfb04425-8b68-4dd2-bb16-ed17a20bae79"
      },
      "source": [
        "# Point to the folder ../keras_export. Your index number may be different that the one here based on how many times you ahve run.\n",
        "idx=0\n",
        "SAVED_MODEL_PATH = KERAS_EXPORT_DIRS[idx]\n",
        "print(SAVED_MODEL_PATH)"
      ],
      "execution_count": null,
      "outputs": [
        {
          "output_type": "stream",
          "name": "stdout",
          "text": [
            "gs://rajashekar_ch_bucket/keras-job-dir/keras_export/\n"
          ]
        }
      ]
    },
    {
      "cell_type": "code",
      "metadata": {
        "colab": {
          "base_uri": "https://localhost:8080/"
        },
        "id": "R15X8-j9cfc_",
        "outputId": "4d3812fc-1931-4da1-93bc-57d8c7632550"
      },
      "source": [
        "# Create model version based on that SavedModel directory\n",
        "! gcloud ai-platform versions create $MODEL_VERSION \\\n",
        "  --model $MODEL_NAME \\\n",
        "  --region $REGION \\\n",
        "  --runtime-version 1.15 \\\n",
        "  --python-version 3.7 \\\n",
        "  --framework tensorflow \\\n",
        "  --origin $SAVED_MODEL_PATH"
      ],
      "execution_count": null,
      "outputs": [
        {
          "output_type": "stream",
          "name": "stdout",
          "text": [
            "Using endpoint [https://us-east1-ml.googleapis.com/]\n"
          ]
        }
      ]
    },
    {
      "cell_type": "code",
      "metadata": {
        "id": "xSffUVTedfr1",
        "colab": {
          "base_uri": "https://localhost:8080/"
        },
        "outputId": "fa4f7a07-26e5-42c3-f0dd-4c11770d59aa"
      },
      "source": [
        "%cd cloudml-samples/census/tf-keras"
      ],
      "execution_count": 59,
      "outputs": [
        {
          "output_type": "stream",
          "name": "stdout",
          "text": [
            "/content/drive/My Drive/Colab/Fourth.Brain/GCP/cloudml-samples/census/tf-keras/cloudml-samples/census/tf-keras\n"
          ]
        }
      ]
    },
    {
      "cell_type": "code",
      "metadata": {
        "colab": {
          "base_uri": "https://localhost:8080/"
        },
        "id": "6RexAsL3cvj6",
        "outputId": "45e85617-c980-4683-e401-c360bc360195"
      },
      "source": [
        "from trainer import util\n",
        "\n",
        "_, _, eval_x, eval_y = util.load_data()\n",
        "\n",
        "prediction_input = eval_x.sample(20)\n",
        "prediction_targets = eval_y[prediction_input.index]\n",
        "\n",
        "prediction_targets"
      ],
      "execution_count": 60,
      "outputs": [
        {
          "output_type": "execute_result",
          "data": {
            "text/plain": [
              "array([[0.],\n",
              "       [0.],\n",
              "       [0.],\n",
              "       [1.],\n",
              "       [1.],\n",
              "       [0.],\n",
              "       [0.],\n",
              "       [0.],\n",
              "       [0.],\n",
              "       [0.],\n",
              "       [0.],\n",
              "       [0.],\n",
              "       [0.],\n",
              "       [0.],\n",
              "       [1.],\n",
              "       [1.],\n",
              "       [0.],\n",
              "       [1.],\n",
              "       [1.],\n",
              "       [1.]], dtype=float32)"
            ]
          },
          "metadata": {},
          "execution_count": 60
        }
      ]
    },
    {
      "cell_type": "code",
      "metadata": {
        "colab": {
          "base_uri": "https://localhost:8080/",
          "height": 1000
        },
        "id": "3PuXzQv2eVBQ",
        "outputId": "b120d57d-4876-4795-910a-f200647736d5"
      },
      "source": [
        "import pandas as pd\n",
        "\n",
        "_, eval_file_path = util.download(util.DATA_DIR)\n",
        "raw_eval_data = pd.read_csv(eval_file_path,\n",
        "                            names=util._CSV_COLUMNS,\n",
        "                            na_values='?')\n",
        "\n",
        "raw_eval_data.iloc[prediction_input.index]"
      ],
      "execution_count": 61,
      "outputs": [
        {
          "output_type": "execute_result",
          "data": {
            "text/html": [
              "<div>\n",
              "<style scoped>\n",
              "    .dataframe tbody tr th:only-of-type {\n",
              "        vertical-align: middle;\n",
              "    }\n",
              "\n",
              "    .dataframe tbody tr th {\n",
              "        vertical-align: top;\n",
              "    }\n",
              "\n",
              "    .dataframe thead th {\n",
              "        text-align: right;\n",
              "    }\n",
              "</style>\n",
              "<table border=\"1\" class=\"dataframe\">\n",
              "  <thead>\n",
              "    <tr style=\"text-align: right;\">\n",
              "      <th></th>\n",
              "      <th>age</th>\n",
              "      <th>workclass</th>\n",
              "      <th>fnlwgt</th>\n",
              "      <th>education</th>\n",
              "      <th>education_num</th>\n",
              "      <th>marital_status</th>\n",
              "      <th>occupation</th>\n",
              "      <th>relationship</th>\n",
              "      <th>race</th>\n",
              "      <th>gender</th>\n",
              "      <th>capital_gain</th>\n",
              "      <th>capital_loss</th>\n",
              "      <th>hours_per_week</th>\n",
              "      <th>native_country</th>\n",
              "      <th>income_bracket</th>\n",
              "    </tr>\n",
              "  </thead>\n",
              "  <tbody>\n",
              "    <tr>\n",
              "      <th>645</th>\n",
              "      <td>22</td>\n",
              "      <td>Private</td>\n",
              "      <td>119474</td>\n",
              "      <td>HS-grad</td>\n",
              "      <td>9</td>\n",
              "      <td>Never-married</td>\n",
              "      <td>Sales</td>\n",
              "      <td>Own-child</td>\n",
              "      <td>White</td>\n",
              "      <td>Female</td>\n",
              "      <td>1055</td>\n",
              "      <td>0</td>\n",
              "      <td>25</td>\n",
              "      <td>United-States</td>\n",
              "      <td>&lt;=50K</td>\n",
              "    </tr>\n",
              "    <tr>\n",
              "      <th>12807</th>\n",
              "      <td>27</td>\n",
              "      <td>Private</td>\n",
              "      <td>96718</td>\n",
              "      <td>HS-grad</td>\n",
              "      <td>9</td>\n",
              "      <td>Married-civ-spouse</td>\n",
              "      <td>Machine-op-inspct</td>\n",
              "      <td>Husband</td>\n",
              "      <td>White</td>\n",
              "      <td>Male</td>\n",
              "      <td>0</td>\n",
              "      <td>0</td>\n",
              "      <td>39</td>\n",
              "      <td>United-States</td>\n",
              "      <td>&lt;=50K</td>\n",
              "    </tr>\n",
              "    <tr>\n",
              "      <th>5197</th>\n",
              "      <td>41</td>\n",
              "      <td>State-gov</td>\n",
              "      <td>29324</td>\n",
              "      <td>HS-grad</td>\n",
              "      <td>9</td>\n",
              "      <td>Divorced</td>\n",
              "      <td>Adm-clerical</td>\n",
              "      <td>Unmarried</td>\n",
              "      <td>White</td>\n",
              "      <td>Female</td>\n",
              "      <td>0</td>\n",
              "      <td>0</td>\n",
              "      <td>45</td>\n",
              "      <td>United-States</td>\n",
              "      <td>&lt;=50K</td>\n",
              "    </tr>\n",
              "    <tr>\n",
              "      <th>5422</th>\n",
              "      <td>47</td>\n",
              "      <td>Self-emp-not-inc</td>\n",
              "      <td>178319</td>\n",
              "      <td>Prof-school</td>\n",
              "      <td>15</td>\n",
              "      <td>Married-civ-spouse</td>\n",
              "      <td>Prof-specialty</td>\n",
              "      <td>Husband</td>\n",
              "      <td>White</td>\n",
              "      <td>Male</td>\n",
              "      <td>0</td>\n",
              "      <td>1902</td>\n",
              "      <td>42</td>\n",
              "      <td>United-States</td>\n",
              "      <td>&gt;50K</td>\n",
              "    </tr>\n",
              "    <tr>\n",
              "      <th>7992</th>\n",
              "      <td>40</td>\n",
              "      <td>Private</td>\n",
              "      <td>41888</td>\n",
              "      <td>Some-college</td>\n",
              "      <td>10</td>\n",
              "      <td>Married-civ-spouse</td>\n",
              "      <td>Transport-moving</td>\n",
              "      <td>Husband</td>\n",
              "      <td>Black</td>\n",
              "      <td>Male</td>\n",
              "      <td>0</td>\n",
              "      <td>2415</td>\n",
              "      <td>70</td>\n",
              "      <td>United-States</td>\n",
              "      <td>&gt;50K</td>\n",
              "    </tr>\n",
              "    <tr>\n",
              "      <th>6870</th>\n",
              "      <td>21</td>\n",
              "      <td>Private</td>\n",
              "      <td>191789</td>\n",
              "      <td>Some-college</td>\n",
              "      <td>10</td>\n",
              "      <td>Never-married</td>\n",
              "      <td>Adm-clerical</td>\n",
              "      <td>Own-child</td>\n",
              "      <td>White</td>\n",
              "      <td>Female</td>\n",
              "      <td>0</td>\n",
              "      <td>0</td>\n",
              "      <td>10</td>\n",
              "      <td>NaN</td>\n",
              "      <td>&lt;=50K</td>\n",
              "    </tr>\n",
              "    <tr>\n",
              "      <th>108</th>\n",
              "      <td>19</td>\n",
              "      <td>Private</td>\n",
              "      <td>289227</td>\n",
              "      <td>Some-college</td>\n",
              "      <td>10</td>\n",
              "      <td>Never-married</td>\n",
              "      <td>Handlers-cleaners</td>\n",
              "      <td>Own-child</td>\n",
              "      <td>Black</td>\n",
              "      <td>Male</td>\n",
              "      <td>0</td>\n",
              "      <td>0</td>\n",
              "      <td>16</td>\n",
              "      <td>United-States</td>\n",
              "      <td>&lt;=50K</td>\n",
              "    </tr>\n",
              "    <tr>\n",
              "      <th>982</th>\n",
              "      <td>44</td>\n",
              "      <td>Local-gov</td>\n",
              "      <td>49665</td>\n",
              "      <td>Assoc-voc</td>\n",
              "      <td>11</td>\n",
              "      <td>Divorced</td>\n",
              "      <td>Machine-op-inspct</td>\n",
              "      <td>Unmarried</td>\n",
              "      <td>Amer-Indian-Eskimo</td>\n",
              "      <td>Male</td>\n",
              "      <td>0</td>\n",
              "      <td>0</td>\n",
              "      <td>40</td>\n",
              "      <td>United-States</td>\n",
              "      <td>&lt;=50K</td>\n",
              "    </tr>\n",
              "    <tr>\n",
              "      <th>8029</th>\n",
              "      <td>47</td>\n",
              "      <td>Private</td>\n",
              "      <td>341814</td>\n",
              "      <td>Bachelors</td>\n",
              "      <td>13</td>\n",
              "      <td>Married-civ-spouse</td>\n",
              "      <td>Prof-specialty</td>\n",
              "      <td>Wife</td>\n",
              "      <td>White</td>\n",
              "      <td>Female</td>\n",
              "      <td>0</td>\n",
              "      <td>0</td>\n",
              "      <td>45</td>\n",
              "      <td>United-States</td>\n",
              "      <td>&lt;=50K</td>\n",
              "    </tr>\n",
              "    <tr>\n",
              "      <th>14321</th>\n",
              "      <td>54</td>\n",
              "      <td>Local-gov</td>\n",
              "      <td>113649</td>\n",
              "      <td>Some-college</td>\n",
              "      <td>10</td>\n",
              "      <td>Married-civ-spouse</td>\n",
              "      <td>Exec-managerial</td>\n",
              "      <td>Husband</td>\n",
              "      <td>White</td>\n",
              "      <td>Male</td>\n",
              "      <td>0</td>\n",
              "      <td>0</td>\n",
              "      <td>40</td>\n",
              "      <td>United-States</td>\n",
              "      <td>&lt;=50K</td>\n",
              "    </tr>\n",
              "    <tr>\n",
              "      <th>10206</th>\n",
              "      <td>64</td>\n",
              "      <td>Private</td>\n",
              "      <td>183672</td>\n",
              "      <td>Assoc-voc</td>\n",
              "      <td>11</td>\n",
              "      <td>Married-civ-spouse</td>\n",
              "      <td>Adm-clerical</td>\n",
              "      <td>Husband</td>\n",
              "      <td>White</td>\n",
              "      <td>Male</td>\n",
              "      <td>0</td>\n",
              "      <td>0</td>\n",
              "      <td>50</td>\n",
              "      <td>United-States</td>\n",
              "      <td>&lt;=50K</td>\n",
              "    </tr>\n",
              "    <tr>\n",
              "      <th>12962</th>\n",
              "      <td>44</td>\n",
              "      <td>Private</td>\n",
              "      <td>406734</td>\n",
              "      <td>Masters</td>\n",
              "      <td>14</td>\n",
              "      <td>Married-civ-spouse</td>\n",
              "      <td>Craft-repair</td>\n",
              "      <td>Husband</td>\n",
              "      <td>Black</td>\n",
              "      <td>Male</td>\n",
              "      <td>0</td>\n",
              "      <td>0</td>\n",
              "      <td>40</td>\n",
              "      <td>United-States</td>\n",
              "      <td>&lt;=50K</td>\n",
              "    </tr>\n",
              "    <tr>\n",
              "      <th>8012</th>\n",
              "      <td>37</td>\n",
              "      <td>Private</td>\n",
              "      <td>111129</td>\n",
              "      <td>Assoc-voc</td>\n",
              "      <td>11</td>\n",
              "      <td>Married-civ-spouse</td>\n",
              "      <td>Craft-repair</td>\n",
              "      <td>Husband</td>\n",
              "      <td>White</td>\n",
              "      <td>Male</td>\n",
              "      <td>0</td>\n",
              "      <td>0</td>\n",
              "      <td>39</td>\n",
              "      <td>United-States</td>\n",
              "      <td>&lt;=50K</td>\n",
              "    </tr>\n",
              "    <tr>\n",
              "      <th>12397</th>\n",
              "      <td>36</td>\n",
              "      <td>Self-emp-inc</td>\n",
              "      <td>339116</td>\n",
              "      <td>Assoc-voc</td>\n",
              "      <td>11</td>\n",
              "      <td>Divorced</td>\n",
              "      <td>Exec-managerial</td>\n",
              "      <td>Not-in-family</td>\n",
              "      <td>White</td>\n",
              "      <td>Female</td>\n",
              "      <td>0</td>\n",
              "      <td>0</td>\n",
              "      <td>40</td>\n",
              "      <td>NaN</td>\n",
              "      <td>&lt;=50K</td>\n",
              "    </tr>\n",
              "    <tr>\n",
              "      <th>8665</th>\n",
              "      <td>46</td>\n",
              "      <td>Self-emp-not-inc</td>\n",
              "      <td>24367</td>\n",
              "      <td>10th</td>\n",
              "      <td>6</td>\n",
              "      <td>Married-civ-spouse</td>\n",
              "      <td>Farming-fishing</td>\n",
              "      <td>Husband</td>\n",
              "      <td>White</td>\n",
              "      <td>Male</td>\n",
              "      <td>0</td>\n",
              "      <td>0</td>\n",
              "      <td>99</td>\n",
              "      <td>United-States</td>\n",
              "      <td>&gt;50K</td>\n",
              "    </tr>\n",
              "    <tr>\n",
              "      <th>1097</th>\n",
              "      <td>54</td>\n",
              "      <td>Self-emp-inc</td>\n",
              "      <td>175339</td>\n",
              "      <td>Bachelors</td>\n",
              "      <td>13</td>\n",
              "      <td>Married-civ-spouse</td>\n",
              "      <td>Sales</td>\n",
              "      <td>Husband</td>\n",
              "      <td>White</td>\n",
              "      <td>Male</td>\n",
              "      <td>0</td>\n",
              "      <td>2415</td>\n",
              "      <td>40</td>\n",
              "      <td>United-States</td>\n",
              "      <td>&gt;50K</td>\n",
              "    </tr>\n",
              "    <tr>\n",
              "      <th>3918</th>\n",
              "      <td>22</td>\n",
              "      <td>Private</td>\n",
              "      <td>32616</td>\n",
              "      <td>Some-college</td>\n",
              "      <td>10</td>\n",
              "      <td>Never-married</td>\n",
              "      <td>Adm-clerical</td>\n",
              "      <td>Own-child</td>\n",
              "      <td>White</td>\n",
              "      <td>Female</td>\n",
              "      <td>0</td>\n",
              "      <td>0</td>\n",
              "      <td>30</td>\n",
              "      <td>United-States</td>\n",
              "      <td>&lt;=50K</td>\n",
              "    </tr>\n",
              "    <tr>\n",
              "      <th>7381</th>\n",
              "      <td>35</td>\n",
              "      <td>Private</td>\n",
              "      <td>351772</td>\n",
              "      <td>Some-college</td>\n",
              "      <td>10</td>\n",
              "      <td>Married-civ-spouse</td>\n",
              "      <td>Sales</td>\n",
              "      <td>Husband</td>\n",
              "      <td>White</td>\n",
              "      <td>Male</td>\n",
              "      <td>0</td>\n",
              "      <td>0</td>\n",
              "      <td>60</td>\n",
              "      <td>United-States</td>\n",
              "      <td>&gt;50K</td>\n",
              "    </tr>\n",
              "    <tr>\n",
              "      <th>2480</th>\n",
              "      <td>41</td>\n",
              "      <td>Private</td>\n",
              "      <td>510072</td>\n",
              "      <td>Bachelors</td>\n",
              "      <td>13</td>\n",
              "      <td>Married-civ-spouse</td>\n",
              "      <td>Prof-specialty</td>\n",
              "      <td>Husband</td>\n",
              "      <td>White</td>\n",
              "      <td>Male</td>\n",
              "      <td>0</td>\n",
              "      <td>0</td>\n",
              "      <td>40</td>\n",
              "      <td>United-States</td>\n",
              "      <td>&gt;50K</td>\n",
              "    </tr>\n",
              "    <tr>\n",
              "      <th>13968</th>\n",
              "      <td>46</td>\n",
              "      <td>Private</td>\n",
              "      <td>261059</td>\n",
              "      <td>Some-college</td>\n",
              "      <td>10</td>\n",
              "      <td>Married-civ-spouse</td>\n",
              "      <td>Prof-specialty</td>\n",
              "      <td>Husband</td>\n",
              "      <td>White</td>\n",
              "      <td>Male</td>\n",
              "      <td>0</td>\n",
              "      <td>0</td>\n",
              "      <td>40</td>\n",
              "      <td>United-States</td>\n",
              "      <td>&gt;50K</td>\n",
              "    </tr>\n",
              "  </tbody>\n",
              "</table>\n",
              "</div>"
            ],
            "text/plain": [
              "       age         workclass  ...  native_country income_bracket\n",
              "645     22           Private  ...   United-States          <=50K\n",
              "12807   27           Private  ...   United-States          <=50K\n",
              "5197    41         State-gov  ...   United-States          <=50K\n",
              "5422    47  Self-emp-not-inc  ...   United-States           >50K\n",
              "7992    40           Private  ...   United-States           >50K\n",
              "6870    21           Private  ...             NaN          <=50K\n",
              "108     19           Private  ...   United-States          <=50K\n",
              "982     44         Local-gov  ...   United-States          <=50K\n",
              "8029    47           Private  ...   United-States          <=50K\n",
              "14321   54         Local-gov  ...   United-States          <=50K\n",
              "10206   64           Private  ...   United-States          <=50K\n",
              "12962   44           Private  ...   United-States          <=50K\n",
              "8012    37           Private  ...   United-States          <=50K\n",
              "12397   36      Self-emp-inc  ...             NaN          <=50K\n",
              "8665    46  Self-emp-not-inc  ...   United-States           >50K\n",
              "1097    54      Self-emp-inc  ...   United-States           >50K\n",
              "3918    22           Private  ...   United-States          <=50K\n",
              "7381    35           Private  ...   United-States           >50K\n",
              "2480    41           Private  ...   United-States           >50K\n",
              "13968   46           Private  ...   United-States           >50K\n",
              "\n",
              "[20 rows x 15 columns]"
            ]
          },
          "metadata": {},
          "execution_count": 61
        }
      ]
    },
    {
      "cell_type": "code",
      "metadata": {
        "colab": {
          "base_uri": "https://localhost:8080/"
        },
        "id": "i2e-jvzXeZhN",
        "outputId": "665ee7d2-7f18-4d4f-fd73-bafffa3cd71e"
      },
      "source": [
        "import json\n",
        "\n",
        "with open('prediction_input.json', 'w') as json_file:\n",
        "  for row in prediction_input.values.tolist():\n",
        "    json.dump(row, json_file)\n",
        "    json_file.write('\\n')\n",
        "\n",
        "! cat prediction_input.json"
      ],
      "execution_count": 62,
      "outputs": [
        {
          "output_type": "stream",
          "name": "stdout",
          "text": [
            "[-1.2138928199445767, 3.0, -0.4192650914017433, 4.0, 11.0, 3.0, 4.0, -0.003223154763010459, -0.21713186390175285, -1.2445530834303788, 38.0]\n",
            "[-0.8492194414838912, 3.0, -0.4192650914017433, 2.0, 6.0, 0.0, 4.0, -0.14479173735784842, -0.21713186390175285, -0.11474016017656224, 38.0]\n",
            "[0.17186601820602831, 6.0, -0.4192650914017433, 0.0, 0.0, 4.0, 4.0, -0.14479173735784842, -0.21713186390175285, 0.3694653783607877, 38.0]\n",
            "[0.609474072358851, 5.0, 1.9145028356334308, 2.0, 9.0, 0.0, 4.0, -0.14479173735784842, 4.5022796885373735, 0.12736260909211275, 38.0]\n",
            "[0.0989313425138912, 3.0, -0.030303770229214273, 2.0, 13.0, 0.0, 2.0, -0.14479173735784842, 5.775180911671585, 2.386988455599746, 38.0]\n",
            "[-1.2868274956367138, 3.0, -0.030303770229214273, 4.0, 0.0, 3.0, 4.0, -0.14479173735784842, -0.21713186390175285, -2.4550669297737535, -1.0]\n",
            "[-1.432696847020988, 3.0, -0.030303770229214273, 4.0, 5.0, 3.0, 2.0, -0.14479173735784842, -0.21713186390175285, -1.9708613912364037, 38.0]\n",
            "[0.39067004528243965, 1.0, 0.35865755094331475, 0.0, 6.0, 4.0, 0.0, -0.14479173735784842, -0.21713186390175285, -0.03403923708700391, 38.0]\n",
            "[0.609474072358851, 3.0, 1.1365801932883728, 2.0, 9.0, 5.0, 4.0, -0.14479173735784842, -0.21713186390175285, 0.3694653783607877, 38.0]\n",
            "[1.1200168022038106, 1.0, -0.030303770229214273, 2.0, 3.0, 0.0, 4.0, -0.14479173735784842, -0.21713186390175285, -0.03403923708700391, 38.0]\n",
            "[1.8493635591251818, 3.0, 0.35865755094331475, 2.0, 0.0, 0.0, 4.0, -0.14479173735784842, -0.21713186390175285, 0.7729699938085793, 38.0]\n",
            "[0.39067004528243965, 3.0, 1.525541514460902, 2.0, 2.0, 0.0, 2.0, -0.14479173735784842, -0.21713186390175285, -0.03403923708700391, 38.0]\n",
            "[-0.11987268456252011, 3.0, 0.35865755094331475, 2.0, 2.0, 0.0, 4.0, -0.14479173735784842, -0.21713186390175285, -0.11474016017656224, 38.0]\n",
            "[-0.19280736025465722, 4.0, 0.35865755094331475, 0.0, 3.0, 1.0, 4.0, -0.14479173735784842, -0.21713186390175285, -0.03403923708700391, -1.0]\n",
            "[0.5365393966667138, 5.0, -1.5861490549193304, 2.0, 4.0, 0.0, 4.0, -0.14479173735784842, -0.21713186390175285, 4.7273152251969375, 38.0]\n",
            "[1.1200168022038106, 4.0, 1.1365801932883728, 2.0, 11.0, 0.0, 4.0, -0.14479173735784842, 5.775180911671585, -0.03403923708700391, 38.0]\n",
            "[-1.2138928199445767, 3.0, -0.030303770229214273, 4.0, 0.0, 3.0, 4.0, -0.14479173735784842, -0.21713186390175285, -0.8410484679825871, 38.0]\n",
            "[-0.2657420359467943, 3.0, -0.030303770229214273, 2.0, 11.0, 0.0, 4.0, -0.14479173735784842, -0.21713186390175285, 1.5799792247041626, 38.0]\n",
            "[0.17186601820602831, 3.0, 1.1365801932883728, 2.0, 9.0, 0.0, 4.0, -0.14479173735784842, -0.21713186390175285, -0.03403923708700391, 38.0]\n",
            "[0.5365393966667138, 3.0, -0.030303770229214273, 2.0, 9.0, 0.0, 4.0, -0.14479173735784842, -0.21713186390175285, -0.03403923708700391, 38.0]\n"
          ]
        }
      ]
    },
    {
      "cell_type": "code",
      "metadata": {
        "colab": {
          "base_uri": "https://localhost:8080/"
        },
        "id": "-U9aKTu0eehT",
        "outputId": "7323698d-5509-4f61-bf43-4f00a32a7753"
      },
      "source": [
        "! gcloud ai-platform predict \\\n",
        "  --model $MODEL_NAME \\\n",
        "  --region $REGION \\\n",
        "  --version $MODEL_VERSION \\\n",
        "  --json-instances prediction_input.json"
      ],
      "execution_count": 63,
      "outputs": [
        {
          "output_type": "stream",
          "name": "stdout",
          "text": [
            "Using endpoint [https://us-east1-ml.googleapis.com/]\n",
            "[[0.000778496265], [0.143446624], [0.0103275776], [0.982282937], [0.990216136], [0.0], [9.19997692e-05], [0.0589633286], [0.669101655], [0.430663079], [0.378354669], [0.758414149], [0.356581926], [0.0192256868], [0.245237529], [0.961015582], [0.000499964051], [0.478549451], [0.726323485], [0.367418528]]\n"
          ]
        }
      ]
    },
    {
      "cell_type": "code",
      "metadata": {
        "id": "q72b-psjetio"
      },
      "source": [
        "model_output = [[0.000778496265], [0.143446624], [0.0103275776], [0.982282937], [0.990216136], [0.0], [9.19997692e-05], [0.0589633286], [0.669101655], [0.430663079], [0.378354669], [0.758414149], [0.356581926], [0.0192256868], [0.245237529], [0.961015582], [0.000499964051], [0.478549451], [0.726323485], [0.367418528]]"
      ],
      "execution_count": 64,
      "outputs": []
    },
    {
      "cell_type": "code",
      "metadata": {
        "colab": {
          "base_uri": "https://localhost:8080/"
        },
        "id": "UpxgbcJCerNP",
        "outputId": "cb721dde-1f9d-45c3-a547-1467a75356ee"
      },
      "source": [
        "[0. if x[0]<=0.5 else 1. for x in model_output]"
      ],
      "execution_count": 66,
      "outputs": [
        {
          "output_type": "execute_result",
          "data": {
            "text/plain": [
              "[0.0,\n",
              " 0.0,\n",
              " 0.0,\n",
              " 1.0,\n",
              " 1.0,\n",
              " 0.0,\n",
              " 0.0,\n",
              " 0.0,\n",
              " 1.0,\n",
              " 0.0,\n",
              " 0.0,\n",
              " 1.0,\n",
              " 0.0,\n",
              " 0.0,\n",
              " 0.0,\n",
              " 1.0,\n",
              " 0.0,\n",
              " 0.0,\n",
              " 1.0,\n",
              " 0.0]"
            ]
          },
          "metadata": {},
          "execution_count": 66
        }
      ]
    },
    {
      "cell_type": "code",
      "metadata": {
        "colab": {
          "base_uri": "https://localhost:8080/"
        },
        "id": "ev0d0z-Ie45c",
        "outputId": "55d0b6d4-b3d8-4558-8090-effe4a0194bc"
      },
      "source": [
        "prediction_targets"
      ],
      "execution_count": 67,
      "outputs": [
        {
          "output_type": "execute_result",
          "data": {
            "text/plain": [
              "array([[0.],\n",
              "       [0.],\n",
              "       [0.],\n",
              "       [1.],\n",
              "       [1.],\n",
              "       [0.],\n",
              "       [0.],\n",
              "       [0.],\n",
              "       [0.],\n",
              "       [0.],\n",
              "       [0.],\n",
              "       [0.],\n",
              "       [0.],\n",
              "       [0.],\n",
              "       [1.],\n",
              "       [1.],\n",
              "       [0.],\n",
              "       [1.],\n",
              "       [1.],\n",
              "       [1.]], dtype=float32)"
            ]
          },
          "metadata": {},
          "execution_count": 67
        }
      ]
    },
    {
      "cell_type": "markdown",
      "metadata": {
        "deletable": true,
        "editable": true,
        "id": "x27DXeUGzb-M"
      },
      "source": [
        "## Finally, Cleaning up\n",
        "\n",
        "To clean up all GCP resources used in this project, you can [delete the GCP\n",
        "project](https://cloud.google.com/resource-manager/docs/creating-managing-projects#shutting_down_projects) you used for the tutorial.\n",
        "\n",
        "Alternatively, you can clean up individual resources by running the following\n",
        "commands:"
      ]
    },
    {
      "cell_type": "code",
      "metadata": {
        "deletable": true,
        "editable": true,
        "id": "no210oWF68Uk",
        "colab": {
          "base_uri": "https://localhost:8080/"
        },
        "outputId": "77b874be-8958-47ae-8ad0-6d5c579ed36a"
      },
      "source": [
        "# Delete model version resource\n",
        "! gcloud ai-platform versions delete $MODEL_VERSION --quiet --model $MODEL_NAME \n",
        "\n",
        "# Delete model resource\n",
        "! gcloud ai-platform models delete $MODEL_NAME --quiet\n",
        "\n",
        "# Delete Cloud Storage objects that were created\n",
        "! gsutil -m rm -r $JOB_DIR\n",
        "\n",
        "# If the training job is still running, cancel it\n",
        "! gcloud ai-platform jobs cancel $JOB_NAME --quiet --verbosity critical"
      ],
      "execution_count": null,
      "outputs": [
        {
          "output_type": "stream",
          "text": [
            "Using endpoint [https://us-central1-ml.googleapis.com/]\n",
            "\u001b[1;31mERROR:\u001b[0m (gcloud.ai-platform.versions.delete) NOT_FOUND: Field: name Error: The model resource: \"chintalapati_Keras_model\" was not found. Please create the model resource first by using 'gcloud ai-platform models create chintalapati_Keras_model'.\n",
            "- '@type': type.googleapis.com/google.rpc.BadRequest\n",
            "  fieldViolations:\n",
            "  - description: \"The model resource: \\\"chintalapati_Keras_model\\\" was not found.\\\n",
            "      \\ Please create the model resource first by using 'gcloud ai-platform models\\\n",
            "      \\ create chintalapati_Keras_model'.\"\n",
            "    field: name\n",
            "Using endpoint [https://us-central1-ml.googleapis.com/]\n",
            "\u001b[1;31mERROR:\u001b[0m (gcloud.ai-platform.models.delete) NOT_FOUND: Field: name Error: The model resource: \"chintalapati_Keras_model\" was not found. Please create the model resource first by using 'gcloud ai-platform models create chintalapati_Keras_model'.\n",
            "- '@type': type.googleapis.com/google.rpc.BadRequest\n",
            "  fieldViolations:\n",
            "  - description: \"The model resource: \\\"chintalapati_Keras_model\\\" was not found.\\\n",
            "      \\ Please create the model resource first by using 'gcloud ai-platform models\\\n",
            "      \\ create chintalapati_Keras_model'.\"\n",
            "    field: name\n",
            "Removing gs://rajashekar_ch_bucket/keras-job-dir/keras_export/#1630022887758392...\n",
            "Removing gs://rajashekar_ch_bucket/keras-job-dir/keras_export/assets/#1630022900277017...\n",
            "Removing gs://rajashekar_ch_bucket/keras-job-dir/keras_export/assets/saved_model.json#1630022900383652...\n",
            "Removing gs://rajashekar_ch_bucket/keras-job-dir/keras_export/variables/#1630022888349155...\n",
            "Removing gs://rajashekar_ch_bucket/keras-job-dir/keras_export/saved_model.pb#1630022899947604...\n",
            "Removing gs://rajashekar_ch_bucket/keras-job-dir/keras_export/variables/checkpoint#1630022896361725...\n",
            "Removing gs://rajashekar_ch_bucket/keras-job-dir/keras_export/variables/variables.data-00000-of-00002#1630022895745616...\n",
            "Removing gs://rajashekar_ch_bucket/keras-job-dir/keras_export/variables/variables.data-00001-of-00002#1630022895594068...\n",
            "Removing gs://rajashekar_ch_bucket/keras-job-dir/keras_export/variables/variables.index#1630022895923322...\n",
            "Removing gs://rajashekar_ch_bucket/keras-job-dir/keras_tensorboard/#1630022865992505...\n",
            "Removing gs://rajashekar_ch_bucket/keras-job-dir/keras_tensorboard/events.out.tfevents.1630022866.cmle-training-784889590101870825#1630022887316588...\n",
            "Removing gs://rajashekar_ch_bucket/keras-job-dir/keras_tensorboard/events.out.tfevents.1630022867.cmle-training-784889590101870825.profile-empty#1630022868024887...\n",
            "Removing gs://rajashekar_ch_bucket/keras-job-dir/keras_tensorboard/events.out.tfevents.1630024505.195bd55bea84#1630024522403602...\n",
            "Removing gs://rajashekar_ch_bucket/keras-job-dir/keras_tensorboard/plugins/#1630022867362027...\n",
            "Removing gs://rajashekar_ch_bucket/keras-job-dir/keras_tensorboard/plugins/profile/2021-08-27_00-07-46/#1630022867775738...\n",
            "Removing gs://rajashekar_ch_bucket/keras-job-dir/keras_tensorboard/plugins/profile/2021-08-27_00-07-46/local.trace#1630022868341516...\n",
            "Removing gs://rajashekar_ch_bucket/keras-job-dir/keras_tensorboard/plugins/profile/#1630022867547540...\n",
            "Removing gs://rajashekar_ch_bucket/keras-job-dir/keras_tensorboard/plugins/profile/2021-08-27_00-35-05/#1630024505878095...\n",
            "Removing gs://rajashekar_ch_bucket/keras-job-dir/keras_tensorboard/plugins/profile/2021-08-27_00-35-05/local.trace#1630024506094530...\n",
            "Removing gs://rajashekar_ch_bucket/keras-job-dir/packages/01d15f7d02ed688b58ac44628ea32b13abadace721237083d45e8412cec418e0/trainer-0.0.0.tar.gz#1630022812143091...\n",
            "Removing gs://rajashekar_ch_bucket/keras-job-dir/packages/b547df1f33e2633cd2fe90ccdf5c26056b39447ef4d916aa2238b36a1f645424/trainer-0.0.0.tar.gz#1630022661826898...\n",
            "/ [21/21 objects] 100% Done                                                     \n",
            "Operation completed over 21 objects.                                             \n"
          ],
          "name": "stdout"
        }
      ]
    },
    {
      "cell_type": "code",
      "metadata": {
        "id": "xtRXYp034URS",
        "colab": {
          "base_uri": "https://localhost:8080/"
        },
        "outputId": "ca49ba7e-7fb5-415b-c947-729c8db0df7b"
      },
      "source": [
        "!gsutil rm -r gs://$BUCKET_NAME"
      ],
      "execution_count": null,
      "outputs": [
        {
          "output_type": "stream",
          "text": [
            "Removing gs://rajashekar_ch_bucket/...\n"
          ],
          "name": "stdout"
        }
      ]
    },
    {
      "cell_type": "markdown",
      "metadata": {
        "deletable": true,
        "editable": true,
        "id": "3F2g4OjbJ3gZ"
      },
      "source": [
        "# Ensure all your data is removed!\n",
        "Now you know how to use AutoML in GCP!\n",
        "Congratulations..."
      ]
    },
    {
      "cell_type": "markdown",
      "metadata": {
        "deletable": true,
        "editable": true,
        "id": "K0UXLWaBJnrY"
      },
      "source": [
        "## What's next?\n",
        "\n",
        "* View the [complete training\n",
        "code](https://github.com/GoogleCloudPlatform/cloudml-samples/tree/master/census/tf-keras) used in this guide, which structures the code to accept custom\n",
        "hyperparameters as command-line flags.\n",
        "* Read about [packaging\n",
        "code](https://cloud.google.com/ml-engine/docs/tensorflow/packaging-trainer) for an AI Platform training job.\n",
        "* Read about [deploying a\n",
        "model](https://cloud.google.com/ml-engine/docs/tensorflow/deploying-models) to serve predictions."
      ]
    }
  ]
}