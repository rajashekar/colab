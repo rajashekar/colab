{
  "cells": [
    {
      "cell_type": "markdown",
      "metadata": {
        "id": "view-in-github",
        "colab_type": "text"
      },
      "source": [
        "<a href=\"https://colab.research.google.com/github/rajashekar/colab/blob/main/Password_GPU_GRU.ipynb\" target=\"_parent\"><img src=\"https://colab.research.google.com/assets/colab-badge.svg\" alt=\"Open In Colab\"/></a>"
      ]
    },
    {
      "cell_type": "markdown",
      "metadata": {
        "id": "Lvo0t7XVIkWZ"
      },
      "source": [
        "## Data, model, and training"
      ]
    },
    {
      "cell_type": "code",
      "execution_count": null,
      "metadata": {
        "colab": {
          "base_uri": "https://localhost:8080/"
        },
        "id": "ErBrcyr5U9Ze",
        "outputId": "7dfee2e6-375f-4a07-cad5-edfd6b45746c"
      },
      "outputs": [
        {
          "name": "stdout",
          "output_type": "stream",
          "text": [
            "Mounted at /content/drive\n"
          ]
        }
      ],
      "source": [
        "from google.colab import drive\n",
        "drive.mount('/content/drive')"
      ]
    },
    {
      "cell_type": "code",
      "execution_count": null,
      "metadata": {
        "colab": {
          "base_uri": "https://localhost:8080/"
        },
        "id": "zlrSEXvfVLjk",
        "outputId": "4a2cbf38-db78-409d-8275-edcfe5bb1226"
      },
      "outputs": [
        {
          "name": "stdout",
          "output_type": "stream",
          "text": [
            "/content/drive/MyDrive/Colab/password\n"
          ]
        }
      ],
      "source": [
        "%cd /content/drive/MyDrive/Colab/password/"
      ]
    },
    {
      "cell_type": "code",
      "execution_count": null,
      "metadata": {
        "colab": {
          "base_uri": "https://localhost:8080/"
        },
        "id": "ViQDzEPXVjyF",
        "outputId": "d0955c7f-e09d-40b4-8d53-deb20bb25333"
      },
      "outputs": [
        {
          "name": "stdout",
          "output_type": "stream",
          "text": [
            "data/passwords_db.txt\n"
          ]
        }
      ],
      "source": [
        "%ls data/passwords_db.txt"
      ]
    },
    {
      "cell_type": "code",
      "execution_count": null,
      "metadata": {
        "colab": {
          "base_uri": "https://localhost:8080/"
        },
        "id": "MXXCeSkAEmLM",
        "outputId": "924e8e2c-dbfb-437d-b822-28772d93eac4"
      },
      "outputs": [
        {
          "name": "stdout",
          "output_type": "stream",
          "text": [
            "18308616 data/passwords_db.txt\n"
          ]
        }
      ],
      "source": [
        "!wc -l data/passwords_db.txt"
      ]
    },
    {
      "cell_type": "code",
      "execution_count": null,
      "metadata": {
        "id": "Tu3bH7pYEHjc"
      },
      "outputs": [],
      "source": [
        "!shuf data/passwords_db.txt | split -a1 -d -l $(( $(wc -l < data/passwords_db.txt) * 90 / 100 )) - data/passwords_db_split"
      ]
    },
    {
      "cell_type": "code",
      "execution_count": null,
      "metadata": {
        "colab": {
          "base_uri": "https://localhost:8080/"
        },
        "id": "ocqGU3fDEc6d",
        "outputId": "e4dd0b7a-4762-433d-a49c-b2651f7e94b2"
      },
      "outputs": [
        {
          "name": "stdout",
          "output_type": "stream",
          "text": [
            "-rw------- 1 root root 160482666 Jun 24 18:55 data/passwords_db_split0\n",
            "-rw------- 1 root root  17830887 Jun 24 18:55 data/passwords_db_split1\n"
          ]
        }
      ],
      "source": [
        "!ls -ltr data/passwords_db_split*"
      ]
    },
    {
      "cell_type": "code",
      "execution_count": null,
      "metadata": {
        "colab": {
          "base_uri": "https://localhost:8080/"
        },
        "id": "y7aLV_TKEjCq",
        "outputId": "c77332f1-0f9e-4a0f-bf66-bfa607788cbf"
      },
      "outputs": [
        {
          "name": "stdout",
          "output_type": "stream",
          "text": [
            "16477754 data/passwords_db_split0\n"
          ]
        }
      ],
      "source": [
        "!wc -l data/passwords_db_split0"
      ]
    },
    {
      "cell_type": "code",
      "execution_count": null,
      "metadata": {
        "colab": {
          "base_uri": "https://localhost:8080/"
        },
        "id": "YGKSVHJCErvV",
        "outputId": "0183ef5a-3b19-418e-da5a-ea2d124c2500"
      },
      "outputs": [
        {
          "name": "stdout",
          "output_type": "stream",
          "text": [
            "1830863 data/passwords_db_split1\n"
          ]
        }
      ],
      "source": [
        "!wc -l data/passwords_db_split1"
      ]
    },
    {
      "cell_type": "code",
      "execution_count": null,
      "metadata": {
        "id": "ks3_GezREv_y"
      },
      "outputs": [],
      "source": [
        "!shuf data/passwords_db_split1 | split -a1 -d -l $(( $(wc -l < data/passwords_db_split1) * 50 / 100 )) - data/passwords_db_split_0"
      ]
    },
    {
      "cell_type": "code",
      "execution_count": null,
      "metadata": {
        "colab": {
          "base_uri": "https://localhost:8080/"
        },
        "id": "qa89F5laN662",
        "outputId": "a4a1926d-6c98-43da-97a2-1c9a6b08231c"
      },
      "outputs": [
        {
          "name": "stdout",
          "output_type": "stream",
          "text": [
            "-rw------- 1 root root 160482666 Jun 24 18:55 data/passwords_db_split0\n",
            "-rw------- 1 root root  17830887 Jun 24 18:55 data/passwords_db_split1\n",
            "-rw------- 1 root root        11 Jun 24 19:36 data/passwords_db_split_02\n",
            "-rw------- 1 root root   8915131 Jun 24 19:36 data/passwords_db_split_01\n",
            "-rw------- 1 root root   8915745 Jun 24 19:36 data/passwords_db_split_00\n"
          ]
        }
      ],
      "source": [
        "!ls -ltr data/passwords_db_split*"
      ]
    },
    {
      "cell_type": "code",
      "execution_count": null,
      "metadata": {
        "colab": {
          "base_uri": "https://localhost:8080/"
        },
        "id": "rh_w7LMtOAbG",
        "outputId": "152cd7fc-2803-47e0-9487-be10e9b65bd2"
      },
      "outputs": [
        {
          "name": "stdout",
          "output_type": "stream",
          "text": [
            "915431 data/passwords_db_split_00\n"
          ]
        }
      ],
      "source": [
        "!wc -l data/passwords_db_split_00"
      ]
    },
    {
      "cell_type": "code",
      "execution_count": null,
      "metadata": {
        "colab": {
          "base_uri": "https://localhost:8080/"
        },
        "id": "sPRHRcrrOHx3",
        "outputId": "07921bd9-284b-4b9b-ab7e-7f8a4a610aa6"
      },
      "outputs": [
        {
          "name": "stdout",
          "output_type": "stream",
          "text": [
            "915431 data/passwords_db_split_01\n"
          ]
        }
      ],
      "source": [
        "!wc -l data/passwords_db_split_01"
      ]
    },
    {
      "cell_type": "code",
      "execution_count": null,
      "metadata": {
        "id": "nO7-LBa1OPRj"
      },
      "outputs": [],
      "source": [
        "!mv data/passwords_db_split0 data/passwords_db_train"
      ]
    },
    {
      "cell_type": "code",
      "execution_count": null,
      "metadata": {
        "id": "qXmLr9UfOcR6"
      },
      "outputs": [],
      "source": [
        "!mv data/passwords_db_split_00 data/passwords_db_val"
      ]
    },
    {
      "cell_type": "code",
      "execution_count": null,
      "metadata": {
        "id": "mqOgWqk1OjAC"
      },
      "outputs": [],
      "source": [
        "!mv data/passwords_db_split_01 data/passwords_db_test"
      ]
    },
    {
      "cell_type": "code",
      "execution_count": null,
      "metadata": {
        "id": "HnrzE6W2XQOz"
      },
      "outputs": [],
      "source": [
        "import numpy as np\n",
        "import tensorflow as tf\n",
        "import os\n",
        "\n",
        "import distutils"
      ]
    },
    {
      "cell_type": "code",
      "execution_count": null,
      "metadata": {
        "id": "jUtVIEEKjjmO"
      },
      "outputs": [],
      "source": [
        "!head -10 data/passwords_db_train > data/passwords_min"
      ]
    },
    {
      "cell_type": "markdown",
      "metadata": {
        "id": "bL8s4KuoWWlv"
      },
      "source": [
        "# Build vocab"
      ]
    },
    {
      "cell_type": "code",
      "execution_count": null,
      "metadata": {
        "id": "XU6tz0FFWPhF"
      },
      "outputs": [],
      "source": [
        "# reading from test to build vocab, to reduce loading memory\n",
        "data = open('data/passwords_db_test').read()\n",
        "passwds = data.split(\"\\n\")"
      ]
    },
    {
      "cell_type": "code",
      "execution_count": null,
      "metadata": {
        "id": "TymxIpsXWkvc"
      },
      "outputs": [],
      "source": [
        "vocab = sorted(list(set(''.join(passwds))))"
      ]
    },
    {
      "cell_type": "code",
      "execution_count": null,
      "metadata": {
        "colab": {
          "base_uri": "https://localhost:8080/"
        },
        "id": "2dSuIr5CXEho",
        "outputId": "ca5e28dd-20ae-459d-be0d-a9c6a4037f15"
      },
      "outputs": [
        {
          "data": {
            "text/plain": [
              "95"
            ]
          },
          "execution_count": 12,
          "metadata": {},
          "output_type": "execute_result"
        }
      ],
      "source": [
        "len(vocab)"
      ]
    },
    {
      "cell_type": "code",
      "execution_count": null,
      "metadata": {
        "id": "AK2dtPmXXcYz"
      },
      "outputs": [],
      "source": [
        "max_len = max(passwds, key=len)"
      ]
    },
    {
      "cell_type": "code",
      "execution_count": null,
      "metadata": {
        "colab": {
          "base_uri": "https://localhost:8080/",
          "height": 35
        },
        "id": "IsnfvWWdXdjL",
        "outputId": "9ed849b8-fabe-4a84-a569-b26d1cd0a9fd"
      },
      "outputs": [
        {
          "data": {
            "application/vnd.google.colaboratory.intrinsic+json": {
              "type": "string"
            },
            "text/plain": [
              "'quentinloveshisfriendsandfamilyevenwhiskeybeer2007'"
            ]
          },
          "execution_count": 14,
          "metadata": {},
          "output_type": "execute_result"
        }
      ],
      "source": [
        "max_len"
      ]
    },
    {
      "cell_type": "code",
      "execution_count": null,
      "metadata": {
        "colab": {
          "base_uri": "https://localhost:8080/"
        },
        "id": "T62jooG8Xi4g",
        "outputId": "4a0dca7f-3930-44c4-a331-cf1c8b7e1794"
      },
      "outputs": [
        {
          "data": {
            "text/plain": [
              "50"
            ]
          },
          "execution_count": 15,
          "metadata": {},
          "output_type": "execute_result"
        }
      ],
      "source": [
        "len(max_len)"
      ]
    },
    {
      "cell_type": "code",
      "execution_count": null,
      "metadata": {
        "id": "E6Xyg_AoXIvG"
      },
      "outputs": [],
      "source": [
        "tokenizer = tf.keras.preprocessing.text.Tokenizer(filters='', char_level=True, lower=False)\n",
        "tokenizer.fit_on_texts(passwds)"
      ]
    },
    {
      "cell_type": "code",
      "execution_count": null,
      "metadata": {
        "id": "_JwC8Bx1X7Zv"
      },
      "outputs": [],
      "source": [
        "vocab_size = len(tokenizer.index_word) + 1\n",
        "seq_len = len(max_len) - 1"
      ]
    },
    {
      "cell_type": "code",
      "execution_count": null,
      "metadata": {
        "colab": {
          "base_uri": "https://localhost:8080/"
        },
        "id": "O0X-lx1mXWCD",
        "outputId": "c4752654-fc2f-4491-9e6e-0b1dd2d848f6"
      },
      "outputs": [
        {
          "name": "stdout",
          "output_type": "stream",
          "text": [
            "Vocab size: 96\n",
            "Seq len: 49\n"
          ]
        }
      ],
      "source": [
        "print(f\"Vocab size: {vocab_size}\")\n",
        "print(f\"Seq len: {seq_len}\")"
      ]
    },
    {
      "cell_type": "code",
      "execution_count": null,
      "metadata": {
        "colab": {
          "base_uri": "https://localhost:8080/"
        },
        "id": "56xHwrU9YPNU",
        "outputId": "f74cf14b-c152-4644-8d40-9d65e103c13c"
      },
      "outputs": [
        {
          "data": {
            "text/plain": [
              "array([[29,  1, 11, 11,  0,  0,  0],\n",
              "       [15,  2, 11, 15,  1, 22, 31]], dtype=int32)"
            ]
          },
          "execution_count": 78,
          "metadata": {},
          "output_type": "execute_result"
        }
      ],
      "source": [
        "in_ten = tokenizer.texts_to_sequences([\"pass\", \"testadf\"])\n",
        "tf.keras.preprocessing.sequence.pad_sequences(in_ten, padding='post')"
      ]
    },
    {
      "cell_type": "code",
      "execution_count": null,
      "metadata": {
        "id": "E3V4V-Jxmuv3"
      },
      "outputs": [],
      "source": [
        "if distutils.version.LooseVersion(tf.__version__) < '2.0':\n",
        "    raise Exception('This notebook is compatible with TensorFlow 2.0 or higher.')\n",
        "\n",
        "TRAIN_TXT = '/content/drive/MyDrive/Colab/password/data/passwords_db_train'\n",
        "VAL_TXT = '/content/drive/MyDrive/Colab/password/data/passwords_db_val'\n",
        "TEST_TXT = '/content/drive/MyDrive/Colab/password/data/passwords_db_test'\n",
        "\n",
        "def transform(lines):\n",
        "  vectors = tokenizer.texts_to_sequences(lines)\n",
        "  return tf.keras.preprocessing.sequence.pad_sequences(vectors, padding='post')\n",
        "\n",
        "def input_fn(file_name, seq_len=3, batch_size=32):\n",
        "  \"\"\"Return a dataset of source and target sequences for training.\"\"\"\n",
        "  with tf.io.gfile.GFile(file_name, 'r') as f:\n",
        "    lines = f.readlines()\n",
        "\n",
        "  source = tf.constant(transform(lines), dtype=tf.int32)\n",
        "  ds = tf.data.Dataset.from_tensor_slices(source)\n",
        "\n",
        "  def split_input_target(chunk):\n",
        "    input_text = chunk[:-1]\n",
        "    target_text = chunk[1:]\n",
        "    return input_text, target_text\n",
        "\n",
        "  BUFFER_SIZE = 10000\n",
        "  ds = ds.map(split_input_target).shuffle(BUFFER_SIZE).batch(batch_size, drop_remainder=True)\n",
        "\n",
        "  # return ds.repeat() - When providing an infinite dataset, you must specify the number of steps to run (if you did not intend to create an infinite dataset, make sure to not call `repeat()` on the dataset).\n",
        "  return ds"
      ]
    },
    {
      "cell_type": "code",
      "execution_count": null,
      "metadata": {
        "id": "x5cnTHpq371H"
      },
      "outputs": [],
      "source": [
        "test_s = input_fn('data/passwords_min', batch_size=2)"
      ]
    },
    {
      "cell_type": "code",
      "execution_count": null,
      "metadata": {
        "colab": {
          "base_uri": "https://localhost:8080/"
        },
        "id": "E3QCmovl5NNH",
        "outputId": "056b1679-df08-4cd5-eeca-37a278b8f8ef"
      },
      "outputs": [
        {
          "name": "stdout",
          "output_type": "stream",
          "text": [
            "tf.Tensor(\n",
            "[[32  2  9  8  7  9  0  0  0  0  0]\n",
            " [30 26 21 20 21  9  5 11  6 19  6]], shape=(2, 11), dtype=int32) tf.Tensor(\n",
            "[[ 2  9  8  7  9  0  0  0  0  0  0]\n",
            " [26 21 20 21  9  5 11  6 19  6 18]], shape=(2, 11), dtype=int32)\n",
            "tf.Tensor(\n",
            "[[ 1  9 20  1  8 22  3  6  0  0  0]\n",
            " [32  1 15  1  8  5  3  6 13  0  0]], shape=(2, 11), dtype=int32) tf.Tensor(\n",
            "[[ 9 20  1  8 22  3  6  0  0  0  0]\n",
            " [ 1 15  1  8  5  3  6 13  0  0  0]], shape=(2, 11), dtype=int32)\n",
            "tf.Tensor(\n",
            "[[30 23 10  5  2 15 21  7  0  0  0]\n",
            " [45 38 53 36 52 47  3  6 13  0  0]], shape=(2, 11), dtype=int32) tf.Tensor(\n",
            "[[23 10  5  2 15 21  7  0  0  0  0]\n",
            " [38 53 36 52 47  3  6 13  0  0  0]], shape=(2, 11), dtype=int32)\n",
            "tf.Tensor(\n",
            "[[ 1  8  8 23  9 13  3  0  0  0  0]\n",
            " [10  1 26  7 23 10  2  4  4 18  0]], shape=(2, 11), dtype=int32) tf.Tensor(\n",
            "[[ 8  8 23  9 13  3  0  0  0  0  0]\n",
            " [ 1 26  7 23 10  2  4  4 18  0  0]], shape=(2, 11), dtype=int32)\n",
            "tf.Tensor(\n",
            "[[ 1 10  5 30 21  6  0  0  0  0  0]\n",
            " [37 10 25 22  5  1 37  0  0  0  0]], shape=(2, 11), dtype=int32) tf.Tensor(\n",
            "[[10  5 30 21  6  0  0  0  0  0  0]\n",
            " [10 25 22  5  1 37  0  0  0  0  0]], shape=(2, 11), dtype=int32)\n"
          ]
        }
      ],
      "source": [
        "for x,y  in test_s:\n",
        "  print(x, y)"
      ]
    },
    {
      "cell_type": "code",
      "execution_count": null,
      "metadata": {
        "id": "PtO8BU6GEkJS"
      },
      "outputs": [],
      "source": [
        "embedding_dim = vocab_size\n",
        "rnn_units = 256 # was 1024"
      ]
    },
    {
      "cell_type": "code",
      "execution_count": null,
      "metadata": {
        "id": "yLEM-fLJlEEt"
      },
      "outputs": [],
      "source": [
        "class MyModel(tf.keras.Model):\n",
        "  def __init__(self, vocab_size, embedding_dim, rnn_units):\n",
        "    super().__init__(self)\n",
        "    self.embedding = tf.keras.layers.Embedding(vocab_size, embedding_dim)\n",
        "    self.gru = tf.keras.layers.GRU(rnn_units,\n",
        "                                   return_sequences=True,\n",
        "                                   return_state=True)\n",
        "    self.dense = tf.keras.layers.Dense(vocab_size)\n",
        "\n",
        "  def call(self, inputs, states=None, return_state=False, training=False):\n",
        "    x = inputs\n",
        "    x = self.embedding(x, training=training)\n",
        "    if states is None:\n",
        "      states = self.gru.get_initial_state(x)\n",
        "    x, states = self.gru(x, initial_state=states, training=training)\n",
        "    x = self.dense(x, training=training)\n",
        "\n",
        "    if return_state:\n",
        "      return x, states\n",
        "    else:\n",
        "      return x"
      ]
    },
    {
      "cell_type": "code",
      "execution_count": null,
      "metadata": {
        "id": "6hwImKgcRDfs"
      },
      "outputs": [],
      "source": [
        "from nltk.translate.bleu_score import corpus_bleu\n",
        "\n",
        "def bleu_score(y_true, y_pred):\n",
        "  batch_score = []\n",
        "  for ref, hyp in zip(y_true, y_pred):\n",
        "    batch_score.append(corpus_bleu([chr(c) for c in ref], [chr(c) for c in hyp], weights=[0.25]))\n",
        "  return np.average(batch_score)"
      ]
    },
    {
      "cell_type": "code",
      "execution_count": null,
      "metadata": {
        "id": "URQI9ceFXfko"
      },
      "outputs": [],
      "source": [
        "test_dataset = input_fn(TEST_TXT)"
      ]
    },
    {
      "cell_type": "code",
      "execution_count": null,
      "metadata": {
        "id": "5dCNfzVLTlyZ"
      },
      "outputs": [],
      "source": [
        "sample_test_input, sample_test_target = next(iter(test_dataset))"
      ]
    },
    {
      "cell_type": "code",
      "execution_count": null,
      "metadata": {
        "colab": {
          "base_uri": "https://localhost:8080/"
        },
        "id": "zzfKEnAJlW2E",
        "outputId": "06a37bbb-2630-4656-ae5b-534e1dfe4d2a"
      },
      "outputs": [
        {
          "data": {
            "text/plain": [
              "<tf.Tensor: shape=(32, 49), dtype=int32, numpy=\n",
              "array([[ 6, 16,  6, ...,  0,  0,  0],\n",
              "       [42, 42, 44, ...,  0,  0,  0],\n",
              "       [ 3, 19, 14, ...,  0,  0,  0],\n",
              "       ...,\n",
              "       [33,  1,  8, ...,  0,  0,  0],\n",
              "       [33,  1, 15, ...,  0,  0,  0],\n",
              "       [ 9,  7, 37, ...,  0,  0,  0]], dtype=int32)>"
            ]
          },
          "execution_count": 87,
          "metadata": {},
          "output_type": "execute_result"
        }
      ],
      "source": [
        "sample_test_input"
      ]
    },
    {
      "cell_type": "code",
      "execution_count": null,
      "metadata": {
        "colab": {
          "base_uri": "https://localhost:8080/"
        },
        "id": "JP1e-dq--M4y",
        "outputId": "30bb0fdb-a3fe-4299-a700-131635378a91"
      },
      "outputs": [
        {
          "data": {
            "text/plain": [
              "TensorShape([32, 49])"
            ]
          },
          "execution_count": 88,
          "metadata": {},
          "output_type": "execute_result"
        }
      ],
      "source": [
        "sample_test_target.shape"
      ]
    },
    {
      "cell_type": "code",
      "execution_count": null,
      "metadata": {
        "colab": {
          "base_uri": "https://localhost:8080/"
        },
        "id": "eqirIqDdSVyN",
        "outputId": "c697653a-ee88-4511-beb6-615715bb3aae"
      },
      "outputs": [
        {
          "data": {
            "text/plain": [
              "28607"
            ]
          },
          "execution_count": 89,
          "metadata": {},
          "output_type": "execute_result"
        }
      ],
      "source": [
        "tf.data.experimental.cardinality(test_dataset).numpy()"
      ]
    },
    {
      "cell_type": "code",
      "execution_count": 173,
      "metadata": {
        "id": "WDh34hs4QZeS"
      },
      "outputs": [],
      "source": [
        "# try model without training\n",
        "def calculate_bleu_score(model, dataset, till_batch):\n",
        "  scores = []\n",
        "\n",
        "  for batch_i, (input_test_batch, target_test_batch) in enumerate(dataset, 1):\n",
        "      test_batch_predictions = model(input_test_batch)\n",
        "      test_batch_predictions = np.array([tf.argmax(i, axis=1).numpy() for i in test_batch_predictions], dtype=np.int32)\n",
        "      scores.append(bleu_score(target_test_batch.numpy(), test_batch_predictions))\n",
        "      if batch_i % 100 == 0:\n",
        "        print(f\"Till {batch_i} the avg bleu score is {np.average(scores)}\")\n",
        "      if batch_i > till_batch:\n",
        "        break\n",
        "  \n",
        "  print(f\"Final avg bleu score is {np.average(scores)}\")\n",
        "  return np.average(scores)"
      ]
    },
    {
      "cell_type": "code",
      "execution_count": null,
      "metadata": {
        "id": "ExQ922tfzSGA"
      },
      "outputs": [],
      "source": [
        "training_model =  MyModel(\n",
        "    vocab_size=vocab_size,\n",
        "    embedding_dim=embedding_dim,\n",
        "    rnn_units=rnn_units)\n",
        "\n",
        "training_model.compile(\n",
        "    optimizer='adam',\n",
        "    loss=tf.losses.SparseCategoricalCrossentropy(from_logits=True))"
      ]
    },
    {
      "cell_type": "code",
      "execution_count": null,
      "metadata": {
        "id": "sYCDjVHzAetA"
      },
      "outputs": [],
      "source": [
        "sample_test_preds = training_model(sample_test_input)"
      ]
    },
    {
      "cell_type": "code",
      "execution_count": null,
      "metadata": {
        "colab": {
          "base_uri": "https://localhost:8080/"
        },
        "id": "8jCOb4dQAxJt",
        "outputId": "5e1045af-bc8f-4582-f9f1-d1657302de75"
      },
      "outputs": [
        {
          "data": {
            "text/plain": [
              "TensorShape([32, 49, 96])"
            ]
          },
          "execution_count": 105,
          "metadata": {},
          "output_type": "execute_result"
        }
      ],
      "source": [
        "sample_test_preds.shape"
      ]
    },
    {
      "cell_type": "code",
      "execution_count": null,
      "metadata": {
        "colab": {
          "base_uri": "https://localhost:8080/"
        },
        "id": "M-Mi2ud1A18_",
        "outputId": "840e08e3-7909-4c3a-e2be-49ed8736594c"
      },
      "outputs": [
        {
          "data": {
            "text/plain": [
              "<tf.Tensor: shape=(49, 1), dtype=int64, numpy=\n",
              "array([[41],\n",
              "       [18],\n",
              "       [43],\n",
              "       [20],\n",
              "       [12],\n",
              "       [69],\n",
              "       [38],\n",
              "       [18],\n",
              "       [91],\n",
              "       [49],\n",
              "       [58],\n",
              "       [41],\n",
              "       [51],\n",
              "       [29],\n",
              "       [26],\n",
              "       [39],\n",
              "       [84],\n",
              "       [71],\n",
              "       [40],\n",
              "       [ 0],\n",
              "       [85],\n",
              "       [24],\n",
              "       [70],\n",
              "       [86],\n",
              "       [ 2],\n",
              "       [16],\n",
              "       [39],\n",
              "       [68],\n",
              "       [92],\n",
              "       [88],\n",
              "       [48],\n",
              "       [26],\n",
              "       [62],\n",
              "       [64],\n",
              "       [54],\n",
              "       [48],\n",
              "       [48],\n",
              "       [62],\n",
              "       [20],\n",
              "       [ 1],\n",
              "       [77],\n",
              "       [95],\n",
              "       [27],\n",
              "       [81],\n",
              "       [83],\n",
              "       [46],\n",
              "       [34],\n",
              "       [94],\n",
              "       [75]])>"
            ]
          },
          "execution_count": 106,
          "metadata": {},
          "output_type": "execute_result"
        }
      ],
      "source": [
        "tf.random.categorical(sample_test_preds[0], num_samples=1)"
      ]
    },
    {
      "cell_type": "code",
      "execution_count": null,
      "metadata": {
        "colab": {
          "base_uri": "https://localhost:8080/"
        },
        "id": "-VuXu-fOf0u1",
        "outputId": "bd63be98-07d4-450a-a54b-d78a07c65eb1"
      },
      "outputs": [
        {
          "data": {
            "text/plain": [
              "<tf.Tensor: shape=(49,), dtype=int64, numpy=\n",
              "array([ 6,  6,  6,  6,  6,  6, 65, 49, 92, 92, 92, 92, 92, 92, 92, 92, 92,\n",
              "       92, 92, 92, 92, 92, 92, 92, 92, 92, 92, 92, 92, 92, 92, 92, 92, 92,\n",
              "       92, 92, 92, 92, 92, 92, 92, 92, 92, 92, 92, 92, 92, 92, 92])>"
            ]
          },
          "execution_count": 107,
          "metadata": {},
          "output_type": "execute_result"
        }
      ],
      "source": [
        "tf.argmax(sample_test_preds[0], axis=1)"
      ]
    },
    {
      "cell_type": "code",
      "execution_count": null,
      "metadata": {
        "colab": {
          "base_uri": "https://localhost:8080/"
        },
        "id": "3fsp3tSWEbDW",
        "outputId": "4b08bdee-13f6-430b-9aec-88628a67a2ba"
      },
      "outputs": [
        {
          "data": {
            "text/plain": [
              "array([[ 6,  6,  6, ..., 92, 92, 92],\n",
              "       [18, 18, 26, ..., 92, 92, 92],\n",
              "       [58, 92, 54, ..., 92, 92, 92],\n",
              "       ...,\n",
              "       [88, 57,  5, ..., 92, 92, 92],\n",
              "       [88, 57, 58, ..., 92, 92, 92],\n",
              "       [ 2, 46, 74, ..., 92, 92, 92]], dtype=int32)"
            ]
          },
          "execution_count": 108,
          "metadata": {},
          "output_type": "execute_result"
        }
      ],
      "source": [
        "np.array([tf.argmax(i, axis=1).numpy() for i in sample_test_preds], dtype=np.int32)"
      ]
    },
    {
      "cell_type": "code",
      "execution_count": null,
      "metadata": {
        "colab": {
          "base_uri": "https://localhost:8080/"
        },
        "id": "3S8HuVEeelFx",
        "outputId": "4567bb3e-27d9-4a5f-af77-856bf72dbcf6"
      },
      "outputs": [
        {
          "data": {
            "text/plain": [
              "array([[18, 48, 52, ..., 36, 64, 95],\n",
              "       [84, 37, 48, ..., 19, 62, 89],\n",
              "       [75, 61, 22, ..., 71, 62, 75],\n",
              "       ...,\n",
              "       [76, 20,  1, ..., 15, 35, 73],\n",
              "       [95, 17, 69, ..., 38, 50, 44],\n",
              "       [37, 89, 46, ...,  1, 40, 86]], dtype=int32)"
            ]
          },
          "execution_count": 109,
          "metadata": {},
          "output_type": "execute_result"
        }
      ],
      "source": [
        "np.array([tf.squeeze(tf.random.categorical(i, num_samples=1), axis=-1).numpy() for i in sample_test_preds], dtype=np.int32)"
      ]
    },
    {
      "cell_type": "code",
      "execution_count": null,
      "metadata": {
        "colab": {
          "base_uri": "https://localhost:8080/"
        },
        "id": "71L7OxrLIzIc",
        "outputId": "77a10ce6-ba23-4e9e-8e64-f56faec97c5d"
      },
      "outputs": [
        {
          "data": {
            "text/plain": [
              "array([[16,  6, 16, ...,  0,  0,  0],\n",
              "       [42, 44,  9, ...,  0,  0,  0],\n",
              "       [19, 14,  3, ...,  0,  0,  0],\n",
              "       ...,\n",
              "       [ 1,  8,  8, ...,  0,  0,  0],\n",
              "       [ 1, 15, 34, ...,  0,  0,  0],\n",
              "       [ 7, 37, 25, ...,  0,  0,  0]], dtype=int32)"
            ]
          },
          "execution_count": 110,
          "metadata": {},
          "output_type": "execute_result"
        }
      ],
      "source": [
        "sample_test_target.numpy()"
      ]
    },
    {
      "cell_type": "code",
      "execution_count": null,
      "metadata": {
        "colab": {
          "base_uri": "https://localhost:8080/"
        },
        "id": "2Quby14sFPRm",
        "outputId": "237636bd-a0fd-478f-a00d-6ede12cb5ee3"
      },
      "outputs": [
        {
          "data": {
            "text/plain": [
              "0.08491452745550594"
            ]
          },
          "execution_count": 111,
          "metadata": {},
          "output_type": "execute_result"
        }
      ],
      "source": [
        "bleu_score(sample_test_target.numpy(), np.array([tf.argmax(i, axis=1).numpy() for i in sample_test_preds], dtype=np.int32))"
      ]
    },
    {
      "cell_type": "code",
      "execution_count": null,
      "metadata": {
        "colab": {
          "base_uri": "https://localhost:8080/"
        },
        "id": "kuenh8dve2nm",
        "outputId": "d4975caf-2a87-4eae-b57e-450c57ce69aa"
      },
      "outputs": [
        {
          "data": {
            "text/plain": [
              "0.15440914668420708"
            ]
          },
          "execution_count": 112,
          "metadata": {},
          "output_type": "execute_result"
        }
      ],
      "source": [
        "bleu_score(sample_test_target.numpy(), np.array([tf.squeeze(tf.random.categorical(i, num_samples=1), axis=-1).numpy() for i in sample_test_preds], dtype=np.int32))"
      ]
    },
    {
      "cell_type": "code",
      "execution_count": null,
      "metadata": {
        "id": "fLkC-59YMJ5_"
      },
      "outputs": [],
      "source": [
        "earlystopping_cb = tf.keras.callbacks.EarlyStopping(\n",
        "    monitor = 'val_loss',\n",
        "    mode = 'min',\n",
        "    verbose = 1,\n",
        "    patience = 3,\n",
        "    restore_best_weights = True\n",
        ")"
      ]
    },
    {
      "cell_type": "code",
      "execution_count": 114,
      "metadata": {
        "colab": {
          "base_uri": "https://localhost:8080/"
        },
        "id": "qqNt3H2TAJir",
        "outputId": "f5d6da52-5e76-4da3-aac3-61959df98847"
      },
      "outputs": [
        {
          "output_type": "stream",
          "name": "stdout",
          "text": [
            "Epoch 1/100\n",
            "514929/514929 [==============================] - 3374s 7ms/step - loss: 0.4512 - val_loss: 0.4469\n",
            "Epoch 2/100\n",
            "514929/514929 [==============================] - 3374s 7ms/step - loss: 0.4457 - val_loss: 0.4452\n",
            "Epoch 3/100\n",
            "514929/514929 [==============================] - 3409s 7ms/step - loss: 0.4449 - val_loss: 0.4444\n",
            "Epoch 4/100\n",
            "514929/514929 [==============================] - 3360s 7ms/step - loss: 0.4442 - val_loss: 0.4443\n",
            "Epoch 5/100\n",
            "514929/514929 [==============================] - 3273s 6ms/step - loss: 0.4441 - val_loss: 0.4439\n",
            "Epoch 6/100\n",
            "514929/514929 [==============================] - 3298s 6ms/step - loss: 0.4440 - val_loss: 0.4439\n",
            "Epoch 7/100\n",
            "514929/514929 [==============================] - 3294s 6ms/step - loss: 0.4436 - val_loss: 0.4436\n",
            "Epoch 8/100\n",
            "514929/514929 [==============================] - 3275s 6ms/step - loss: 0.4435 - val_loss: 0.4440\n",
            "Epoch 9/100\n",
            "514929/514929 [==============================] - 3328s 6ms/step - loss: 0.4435 - val_loss: 0.4434\n",
            "Epoch 10/100\n",
            "514929/514929 [==============================] - 3307s 6ms/step - loss: 0.4439 - val_loss: 0.4434\n",
            "Epoch 11/100\n",
            "514929/514929 [==============================] - 3311s 6ms/step - loss: 0.4434 - val_loss: 0.4431\n",
            "Epoch 12/100\n",
            "514929/514929 [==============================] - 3283s 6ms/step - loss: 0.4436 - val_loss: 0.4433\n",
            "Epoch 13/100\n",
            "514929/514929 [==============================] - 3133s 6ms/step - loss: 0.4434 - val_loss: 0.4430\n",
            "Epoch 14/100\n",
            "514929/514929 [==============================] - 3221s 6ms/step - loss: 0.4439 - val_loss: 0.4434\n",
            "Epoch 15/100\n",
            "514929/514929 [==============================] - 3415s 7ms/step - loss: 0.4441 - val_loss: 0.4432\n",
            "Epoch 16/100\n",
            "514925/514929 [============================>.] - ETA: 0s - loss: 0.4450Restoring model weights from the end of the best epoch: 13.\n",
            "514929/514929 [==============================] - 3437s 7ms/step - loss: 0.4450 - val_loss: 0.4434\n",
            "Epoch 16: early stopping\n"
          ]
        }
      ],
      "source": [
        "training_model.fit(\n",
        "    input_fn(TRAIN_TXT),\n",
        "    epochs=100,\n",
        "    validation_data=input_fn(VAL_TXT),\n",
        "    callbacks=[earlystopping_cb]\n",
        ")\n",
        "training_model.save_weights('gpu_password_gru', overwrite=True)"
      ]
    },
    {
      "cell_type": "code",
      "execution_count": 115,
      "metadata": {
        "id": "0KwZE6noMey4"
      },
      "outputs": [],
      "source": [
        "sample_test_preds = training_model(sample_test_input)"
      ]
    },
    {
      "cell_type": "code",
      "execution_count": 116,
      "metadata": {
        "colab": {
          "base_uri": "https://localhost:8080/"
        },
        "id": "WUZt9IjKRqyj",
        "outputId": "d15b2579-ce59-4272-b8fa-6a9096fa0ae3"
      },
      "outputs": [
        {
          "output_type": "execute_result",
          "data": {
            "text/plain": [
              "0.9634732692712848"
            ]
          },
          "metadata": {},
          "execution_count": 116
        }
      ],
      "source": [
        "bleu_score(sample_test_target.numpy(), np.array([tf.argmax(i, axis=1).numpy() for i in sample_test_preds], dtype=np.int32))"
      ]
    },
    {
      "cell_type": "code",
      "execution_count": 117,
      "metadata": {
        "colab": {
          "base_uri": "https://localhost:8080/"
        },
        "id": "OWTbg_44iK2n",
        "outputId": "743d19ed-c8d7-448c-8e31-514174409eb1"
      },
      "outputs": [
        {
          "output_type": "execute_result",
          "data": {
            "text/plain": [
              "0.956432663858295"
            ]
          },
          "metadata": {},
          "execution_count": 117
        }
      ],
      "source": [
        "bleu_score(sample_test_target.numpy(), np.array([tf.squeeze(tf.random.categorical(i, num_samples=1), axis=-1).numpy() for i in sample_test_preds], dtype=np.int32))"
      ]
    },
    {
      "cell_type": "code",
      "execution_count": 118,
      "metadata": {
        "id": "H7RxS_Wadjnu"
      },
      "outputs": [],
      "source": [
        "prediction_model = MyModel(\n",
        "    vocab_size=vocab_size,\n",
        "    embedding_dim=embedding_dim,\n",
        "    rnn_units=rnn_units)"
      ]
    },
    {
      "cell_type": "code",
      "execution_count": 119,
      "metadata": {
        "id": "W-DpTO2sfLdc",
        "colab": {
          "base_uri": "https://localhost:8080/"
        },
        "outputId": "ac27ed70-abd6-416e-dc25-25d7069b073c"
      },
      "outputs": [
        {
          "output_type": "execute_result",
          "data": {
            "text/plain": [
              "<tensorflow.python.training.tracking.util.CheckpointLoadStatus at 0x7f8549f25dd0>"
            ]
          },
          "metadata": {},
          "execution_count": 119
        }
      ],
      "source": [
        "prediction_model.load_weights('gpu_password_gru')"
      ]
    },
    {
      "cell_type": "code",
      "execution_count": 142,
      "metadata": {
        "id": "tU7M-EGGxR3E"
      },
      "outputs": [],
      "source": [
        "class OneStep(tf.keras.Model):\n",
        "  def __init__(self, model, tokenizer, temperature=1.0):\n",
        "    super().__init__()\n",
        "    self.temperature = temperature\n",
        "    self.model = model\n",
        "    self.tokenizer = tokenizer\n",
        "\n",
        "  #@tf.function\n",
        "  def generate_one_step(self, input_chars, states=None):\n",
        "    #import pdb; pdb.set_trace()\n",
        "    # Convert strings to token IDs.\n",
        "    # input_chars = tf.strings.unicode_split(inputs, 'UTF-8')\n",
        "    if input_chars[0] == '':\n",
        "      input_chars = ' '\n",
        "    input_ids = self.tokenizer.texts_to_sequences(input_chars)\n",
        "    #print(input_chars)\n",
        "    input_ids = tf.keras.preprocessing.sequence.pad_sequences(input_ids, padding='post')\n",
        "\n",
        "    # Run the model.\n",
        "    # predicted_logits.shape is [batch, char, next_char_logits]\n",
        "    predicted_logits, states = self.model(inputs=input_ids, states=states,\n",
        "                                          return_state=True)\n",
        "    # Only use the last prediction.\n",
        "    predicted_logits = predicted_logits[:, -1, :]\n",
        "    predicted_logits = predicted_logits/self.temperature\n",
        "\n",
        "    # Sample the output logits to generate token IDs.\n",
        "    predicted_ids = tf.random.categorical(predicted_logits, num_samples=1)\n",
        "    predicted_ids = tf.squeeze(predicted_ids, axis=-1)\n",
        "\n",
        "    # Convert from token ids to characters\n",
        "    predicted_chars = self.tokenizer.sequences_to_texts([predicted_ids.numpy()])\n",
        "\n",
        "    # Return the characters and model state.\n",
        "    return predicted_chars, states"
      ]
    },
    {
      "cell_type": "code",
      "execution_count": 143,
      "metadata": {
        "id": "3jG7KUOmkAtN"
      },
      "outputs": [],
      "source": [
        "one_step_model = OneStep(prediction_model, tokenizer)"
      ]
    },
    {
      "cell_type": "code",
      "execution_count": 144,
      "metadata": {
        "colab": {
          "base_uri": "https://localhost:8080/"
        },
        "id": "Yb1rW9aQkBs8",
        "outputId": "a0c4dc20-7c01-4a6f-a79c-8b7e8628dc44"
      },
      "outputs": [
        {
          "output_type": "stream",
          "name": "stdout",
          "text": [
            "wal \n",
            "\n",
            "________________________________________________________________________________\n",
            "\n",
            "Run time: 0.01281881332397461\n"
          ]
        }
      ],
      "source": [
        "import time\n",
        "\n",
        "start = time.time()\n",
        "states = None\n",
        "next_char = ['w']\n",
        "result = [next_char]\n",
        "\n",
        "for n in range(2):\n",
        "  next_char, states = one_step_model.generate_one_step(next_char, states=states)\n",
        "  result.append(next_char)\n",
        "\n",
        "result = tf.strings.join(result)\n",
        "end = time.time()\n",
        "print(result[0].numpy().decode('utf-8'), '\\n\\n' + '_'*80)\n",
        "print('\\nRun time:', end - start)"
      ]
    },
    {
      "cell_type": "code",
      "execution_count": 155,
      "metadata": {
        "id": "HJNitjybkGOS"
      },
      "outputs": [],
      "source": [
        "def pwds_from_chars(model, start_char, len):\n",
        "  states = None\n",
        "  next_char = [start_char]\n",
        "  result = [next_char]\n",
        "\n",
        "  for n in range(len-1):\n",
        "    next_char, states = model.generate_one_step(next_char, states=states)\n",
        "    result.append(next_char)\n",
        "\n",
        "  result = tf.strings.join(result)\n",
        "  return result[0].numpy().decode('utf-8')"
      ]
    },
    {
      "cell_type": "code",
      "execution_count": 156,
      "metadata": {
        "colab": {
          "base_uri": "https://localhost:8080/"
        },
        "id": "_woxP1GHkRL-",
        "outputId": "64ff12bb-1847-44a5-e540-e0ca64034286"
      },
      "outputs": [
        {
          "output_type": "stream",
          "name": "stdout",
          "text": [
            "['wod', 'wzw', 'war', 'wal', 'wan', 'woo', 'way', 'wbz', 'was', 'wha', 'win']\n"
          ]
        }
      ],
      "source": [
        "all_pos = []\n",
        "while True:\n",
        "  pred = pwds_from_chars(one_step_model,'w', 3)\n",
        "  if pred not in all_pos:\n",
        "    all_pos.append(pred)\n",
        "  else:\n",
        "    break\n",
        "\n",
        "print(all_pos)"
      ]
    },
    {
      "cell_type": "code",
      "execution_count": 148,
      "metadata": {
        "colab": {
          "base_uri": "https://localhost:8080/"
        },
        "id": "AkmIisvWoH9l",
        "outputId": "6bcf1872-7257-48a4-bd72-7ab2db21521e"
      },
      "outputs": [
        {
          "output_type": "stream",
          "name": "stdout",
          "text": [
            "1 - psyk\n",
            "2 - pass\n",
            "Model took 2 attempts to find password - pass\n"
          ]
        }
      ],
      "source": [
        "given_pass = 'pass'\n",
        "attempts = 1\n",
        "\n",
        "while True:\n",
        "  pred = pwds_from_chars(given_pass[0], len(given_pass))\n",
        "  print(f\"{attempts} - {pred}\")\n",
        "  if pred == given_pass:\n",
        "    break\n",
        "  attempts += 1\n",
        "\n",
        "print(f\"Model took {attempts} attempts to find password - {given_pass}\")"
      ]
    },
    {
      "cell_type": "code",
      "execution_count": 151,
      "metadata": {
        "id": "4vzmDZHD-JxL"
      },
      "outputs": [],
      "source": [
        "def gen_passwords_random(num, pass_len=5, start_char=None):\n",
        "  passwords = []\n",
        "  gen_char = False\n",
        "  if start_char is None:\n",
        "    gen_char = True\n",
        "  for i in range(num):\n",
        "    # if start char is none, then randomly pick start_char\n",
        "    if gen_char:\n",
        "      start_char = tokenizer.index_word[random.randint(1, len(tokenizer.index_word) - 1)]\n",
        "\n",
        "    password = start_char\n",
        "    for j in range(pass_len - 1):\n",
        "      password += tokenizer.index_word[random.randint(1, len(tokenizer.index_word) - 1)]\n",
        "    passwords.append(password)\n",
        "  return passwords"
      ]
    },
    {
      "cell_type": "code",
      "source": [
        "gen_passwords_random(4, pass_len=5)"
      ],
      "metadata": {
        "colab": {
          "base_uri": "https://localhost:8080/"
        },
        "id": "J0WIjHAPcKg-",
        "outputId": "1f5d56a6-b276-4392-de27-4ce7b085c801"
      },
      "execution_count": 152,
      "outputs": [
        {
          "output_type": "execute_result",
          "data": {
            "text/plain": [
              "['?M\\\\QX', 'h.R=3', 'j_3%Z', '>r`,c']"
            ]
          },
          "metadata": {},
          "execution_count": 152
        }
      ]
    },
    {
      "cell_type": "code",
      "execution_count": 157,
      "metadata": {
        "id": "LqCOURBtDJM_"
      },
      "outputs": [],
      "source": [
        "import random\n",
        "\n",
        "def gen_passwords(model, num, pass_len=5, seq_len=3, start_char=None):\n",
        "  passwords = []\n",
        "  gen_char = False\n",
        "  if start_char is None:\n",
        "    gen_char = True\n",
        "  for i in range(num):\n",
        "    # if start char is none, then randomly pick start_char\n",
        "    if gen_char:\n",
        "      start_char = tokenizer.index_word[random.randint(1, len(tokenizer.index_word) - 1)]\n",
        "    passwords.append(pwds_from_chars(model, start_char, pass_len))\n",
        "  return passwords"
      ]
    },
    {
      "cell_type": "code",
      "source": [
        "gen_passwords(one_step_model, 4, pass_len=5, start_char='m')"
      ],
      "metadata": {
        "colab": {
          "base_uri": "https://localhost:8080/"
        },
        "id": "Jw0uMPZIcdn1",
        "outputId": "94b0f7b5-18ff-47f1-fadc-24cefbf7d1e7"
      },
      "execution_count": 158,
      "outputs": [
        {
          "output_type": "execute_result",
          "data": {
            "text/plain": [
              "['mi3ke', 'meian', 'mybit', 'mx101']"
            ]
          },
          "metadata": {},
          "execution_count": 158
        }
      ]
    },
    {
      "cell_type": "code",
      "execution_count": 150,
      "metadata": {
        "id": "GlvN9Yo55nde"
      },
      "outputs": [],
      "source": [
        "import hashlib\n",
        "import requests\n",
        "\n",
        "def check_pwned(passes):\n",
        "  headers = {\n",
        "    \"User-Agent\": \"Mozilla/5.0 (Windows; U; Windows NT 5.1; en-US; rv:1.9.2.8) Gecko/20100722 Firefox/3.6.8 GTB7.1 (.NET CLR 3.5.30729)\", \n",
        "    \"Referer\": \"https://haveibeenpwned.com/\"\n",
        "  }\n",
        "  found_passwds = {}\n",
        "  pwned_api = 'https://api.pwnedpasswords.com/range/'\n",
        "  for p in passes:\n",
        "    hash_object = hashlib.sha1(p.encode())\n",
        "    pbHash = hash_object.hexdigest().upper()\n",
        "    try:\n",
        "      res = requests.get(pwned_api + pbHash[:5],  headers=headers, timeout=10)\n",
        "      range_hashes = res.text.split('\\r\\n')\n",
        "      for h in range_hashes:\n",
        "        h_c = h.split(':')\n",
        "        if h_c[0] == pbHash[5:]:\n",
        "          found_passwds[p] = h_c[1]\n",
        "    except Exception as e:\n",
        "      print(f'request timed out for pass {p}')\n",
        "  return found_passwds"
      ]
    },
    {
      "cell_type": "code",
      "execution_count": 159,
      "metadata": {
        "colab": {
          "base_uri": "https://localhost:8080/"
        },
        "id": "wVs8tRGxgfB8",
        "outputId": "9c533d8c-6d00-4c44-84a3-ee78119a9fc2"
      },
      "outputs": [
        {
          "output_type": "stream",
          "name": "stdout",
          "text": [
            "char ' ' : random password prob 0.0, model password prob: 0.07\n",
            "char '!' : random password prob 0.0, model password prob: 0.07\n",
            "char '\"' : random password prob 0.0, model password prob: 0.01\n",
            "char '#' : random password prob 0.0, model password prob: 0.09\n",
            "char '$' : random password prob 0.0, model password prob: 0.03\n",
            "char '%' : random password prob 0.0, model password prob: 0.03\n",
            "char '&' : random password prob 0.0, model password prob: 0.02\n",
            "char ''' : random password prob 0.0, model password prob: 0.0\n",
            "char '(' : random password prob 0.0, model password prob: 0.09\n",
            "char ')' : random password prob 0.0, model password prob: 0.01\n",
            "char '*' : random password prob 0.0, model password prob: 0.1\n",
            "char '+' : random password prob 0.0, model password prob: 0.02\n",
            "char ',' : random password prob 0.0, model password prob: 0.0\n",
            "char '-' : random password prob 0.0, model password prob: 0.05\n",
            "char '.' : random password prob 0.0, model password prob: 0.08\n",
            "char '/' : random password prob 0.0, model password prob: 0.02\n",
            "char '0' : random password prob 0.0, model password prob: 0.88\n",
            "char '1' : random password prob 0.0, model password prob: 0.82\n",
            "char '2' : random password prob 0.0, model password prob: 0.81\n",
            "char '3' : random password prob 0.0, model password prob: 0.71\n",
            "char '4' : random password prob 0.0, model password prob: 0.78\n",
            "char '5' : random password prob 0.0, model password prob: 0.78\n",
            "char '6' : random password prob 0.0, model password prob: 0.84\n",
            "char '7' : random password prob 0.0, model password prob: 0.78\n",
            "char '8' : random password prob 0.01, model password prob: 0.75\n",
            "char '9' : random password prob 0.0, model password prob: 0.77\n",
            "char ':' : random password prob 0.0, model password prob: 0.09\n",
            "char ';' : random password prob 0.0, model password prob: 0.0\n",
            "char '<' : random password prob 0.0, model password prob: 0.02\n",
            "char '=' : random password prob 0.0, model password prob: 0.01\n",
            "char '>' : random password prob 0.0, model password prob: 0.0\n",
            "char '?' : random password prob 0.0, model password prob: 0.04\n",
            "request timed out for pass @5mi.\n",
            "char '@' : random password prob 0.0, model password prob: 0.1\n",
            "char 'A' : random password prob 0.01, model password prob: 0.38\n",
            "char 'B' : random password prob 0.0, model password prob: 0.51\n",
            "char 'C' : random password prob 0.0, model password prob: 0.49\n",
            "char 'D' : random password prob 0.0, model password prob: 0.45\n",
            "char 'E' : random password prob 0.0, model password prob: 0.16\n",
            "char 'F' : random password prob 0.0, model password prob: 0.42\n",
            "char 'G' : random password prob 0.0, model password prob: 0.31\n",
            "char 'H' : random password prob 0.0, model password prob: 0.35\n",
            "char 'I' : random password prob 0.0, model password prob: 0.2\n",
            "char 'J' : random password prob 0.0, model password prob: 0.41\n",
            "char 'K' : random password prob 0.0, model password prob: 0.32\n",
            "char 'L' : random password prob 0.0, model password prob: 0.42\n",
            "char 'M' : random password prob 0.0, model password prob: 0.45\n",
            "char 'N' : random password prob 0.0, model password prob: 0.37\n",
            "char 'O' : random password prob 0.0, model password prob: 0.22\n",
            "char 'P' : random password prob 0.0, model password prob: 0.35\n",
            "char 'Q' : random password prob 0.0, model password prob: 0.16\n",
            "char 'R' : random password prob 0.0, model password prob: 0.43\n",
            "char 'S' : random password prob 0.01, model password prob: 0.4\n",
            "char 'T' : random password prob 0.0, model password prob: 0.41\n",
            "char 'U' : random password prob 0.0, model password prob: 0.06\n",
            "char 'V' : random password prob 0.0, model password prob: 0.29\n",
            "char 'W' : random password prob 0.0, model password prob: 0.19\n",
            "char 'X' : random password prob 0.01, model password prob: 0.04\n",
            "char 'Y' : random password prob 0.0, model password prob: 0.18\n",
            "char 'Z' : random password prob 0.0, model password prob: 0.15\n",
            "char '[' : random password prob 0.0, model password prob: 0.0\n",
            "char '\\' : random password prob 0.0, model password prob: 0.01\n",
            "char ']' : random password prob 0.0, model password prob: 0.0\n",
            "char '^' : random password prob 0.0, model password prob: 0.0\n",
            "char '_' : random password prob 0.0, model password prob: 0.17\n",
            "char '`' : random password prob 0.0, model password prob: 0.02\n",
            "char 'a' : random password prob 0.0, model password prob: 0.74\n",
            "char 'b' : random password prob 0.01, model password prob: 0.71\n",
            "char 'c' : random password prob 0.0, model password prob: 0.79\n",
            "char 'd' : random password prob 0.0, model password prob: 0.73\n",
            "char 'e' : random password prob 0.0, model password prob: 0.64\n",
            "char 'f' : random password prob 0.0, model password prob: 0.63\n",
            "char 'g' : random password prob 0.0, model password prob: 0.72\n",
            "char 'h' : random password prob 0.0, model password prob: 0.61\n",
            "char 'i' : random password prob 0.01, model password prob: 0.48\n",
            "char 'j' : random password prob 0.0, model password prob: 0.67\n",
            "char 'k' : random password prob 0.0, model password prob: 0.68\n",
            "char 'l' : random password prob 0.01, model password prob: 0.73\n",
            "char 'm' : random password prob 0.0, model password prob: 0.76\n",
            "char 'n' : random password prob 0.0, model password prob: 0.59\n",
            "char 'o' : random password prob 0.01, model password prob: 0.52\n",
            "char 'p' : random password prob 0.0, model password prob: 0.75\n",
            "char 'q' : random password prob 0.0, model password prob: 0.39\n",
            "char 'r' : random password prob 0.01, model password prob: 0.71\n",
            "char 's' : random password prob 0.0, model password prob: 0.78\n",
            "char 't' : random password prob 0.0, model password prob: 0.75\n",
            "char 'u' : random password prob 0.0, model password prob: 0.34\n",
            "char 'v' : random password prob 0.0, model password prob: 0.64\n",
            "char 'w' : random password prob 0.0, model password prob: 0.6\n",
            "char 'x' : random password prob 0.0, model password prob: 0.28\n",
            "char 'y' : random password prob 0.0, model password prob: 0.5\n",
            "char 'z' : random password prob 0.0, model password prob: 0.46\n",
            "char '{' : random password prob 0.0, model password prob: 0.0\n",
            "char '|' : random password prob 0.0, model password prob: 0.0\n",
            "char '}' : random password prob 0.0, model password prob: 0.0\n",
            "char '~' : random password prob 0.0, model password prob: 0.03\n"
          ]
        }
      ],
      "source": [
        "random_preds = {}\n",
        "model_preds = {}\n",
        "\n",
        "total_num_pass = 100\n",
        "pass_length = 5\n",
        "\n",
        "for i in vocab:\n",
        "  gen_rand_pass = gen_passwords_random(total_num_pass, pass_len=pass_length, start_char=i)\n",
        "  random_preds[i] = len(check_pwned(gen_rand_pass))/total_num_pass\n",
        "  gen_pass = gen_passwords(one_step_model, total_num_pass, pass_len=pass_length, start_char=i)\n",
        "  model_preds[i] = len(check_pwned(gen_pass))/total_num_pass\n",
        "  print(f\"char '{i}' : random password prob {random_preds[i]}, model password prob: {model_preds[i]}\")"
      ]
    },
    {
      "cell_type": "code",
      "execution_count": 161,
      "metadata": {
        "id": "J-7V5b8WiSof"
      },
      "outputs": [],
      "source": [
        "data = open('data/passwords_db.txt').read()\n",
        "passwds = data.split(\"\\n\")"
      ]
    },
    {
      "cell_type": "code",
      "source": [
        "num_pass_w_char = {}\n",
        "\n",
        "for p in passwds:\n",
        "  if p[0] not in num_pass_w_char:\n",
        "    num_pass_w_char[p[0]] = 1\n",
        "  else:\n",
        "    num_pass_w_char[p[0]] += 1"
      ],
      "metadata": {
        "id": "FU1koVQpsizR"
      },
      "execution_count": 162,
      "outputs": []
    },
    {
      "cell_type": "code",
      "source": [
        "len(num_pass_w_char)"
      ],
      "metadata": {
        "colab": {
          "base_uri": "https://localhost:8080/"
        },
        "id": "d_PK5bvUslZ4",
        "outputId": "7045eb00-afa8-4f9b-d3f0-a1765e43542f"
      },
      "execution_count": 163,
      "outputs": [
        {
          "output_type": "execute_result",
          "data": {
            "text/plain": [
              "95"
            ]
          },
          "metadata": {},
          "execution_count": 163
        }
      ]
    },
    {
      "cell_type": "code",
      "source": [
        "prob_pass_start_chars = dict([(k, num_pass_w_char[k]/len(passwds)) for k in num_pass_w_char])"
      ],
      "metadata": {
        "id": "bbExgfJVspG0"
      },
      "execution_count": 164,
      "outputs": []
    },
    {
      "cell_type": "code",
      "source": [
        "sorted_num_pass_w_char = sorted(prob_pass_start_chars.items(), key=lambda x:x[1])\n",
        "sorted_num_pass_w_char[-10:]"
      ],
      "metadata": {
        "colab": {
          "base_uri": "https://localhost:8080/"
        },
        "id": "zgB0ojsOstHy",
        "outputId": "946cbe17-fa94-4d61-821b-5295a9a716ad"
      },
      "execution_count": 165,
      "outputs": [
        {
          "output_type": "execute_result",
          "data": {
            "text/plain": [
              "[('d', 0.03461719691880605),\n",
              " ('j', 0.03637090666105474),\n",
              " ('l', 0.037107718185376865),\n",
              " ('b', 0.04236693574397236),\n",
              " ('c', 0.04299341670646122),\n",
              " ('1', 0.04496276261609492),\n",
              " ('a', 0.04987919076574708),\n",
              " ('0', 0.05549201231310918),\n",
              " ('s', 0.05710338470677496),\n",
              " ('m', 0.057332020217583886)]"
            ]
          },
          "metadata": {},
          "execution_count": 165
        }
      ]
    },
    {
      "cell_type": "code",
      "source": [
        "char_dist = dict(sorted_num_pass_w_char)"
      ],
      "metadata": {
        "id": "W6wgBHTMsxv_"
      },
      "execution_count": 166,
      "outputs": []
    },
    {
      "cell_type": "code",
      "source": [
        "rand_we_avg = 0\n",
        "for x in vocab:\n",
        "  rand_we_avg += (char_dist[x] * random_preds[x])"
      ],
      "metadata": {
        "id": "Wd1kUCL2szj_"
      },
      "execution_count": 167,
      "outputs": []
    },
    {
      "cell_type": "code",
      "source": [
        "rand_we_avg"
      ],
      "metadata": {
        "colab": {
          "base_uri": "https://localhost:8080/"
        },
        "id": "K-bGvnCktCi4",
        "outputId": "e51953bf-dbbc-4838-d52d-f48bd136f83c"
      },
      "execution_count": 168,
      "outputs": [
        {
          "output_type": "execute_result",
          "data": {
            "text/plain": [
              "0.0016382739340715905"
            ]
          },
          "metadata": {},
          "execution_count": 168
        }
      ]
    },
    {
      "cell_type": "code",
      "source": [
        "model_we_avg = 0\n",
        "for x in vocab:\n",
        "  model_we_avg += (char_dist[x] * model_preds[x])"
      ],
      "metadata": {
        "id": "diox5L-ZtDmB"
      },
      "execution_count": 169,
      "outputs": []
    },
    {
      "cell_type": "code",
      "source": [
        "model_we_avg"
      ],
      "metadata": {
        "colab": {
          "base_uri": "https://localhost:8080/"
        },
        "id": "FtCo-ZiGtQBE",
        "outputId": "ccb7a86f-cce5-4160-ddbc-42bfb4116bd2"
      },
      "execution_count": 170,
      "outputs": [
        {
          "output_type": "execute_result",
          "data": {
            "text/plain": [
              "0.6875325897089879"
            ]
          },
          "metadata": {},
          "execution_count": 170
        }
      ]
    },
    {
      "cell_type": "code",
      "source": [
        "un_training_model =  MyModel(\n",
        "    vocab_size=vocab_size,\n",
        "    embedding_dim=embedding_dim,\n",
        "    rnn_units=rnn_units)"
      ],
      "metadata": {
        "id": "fJhLwOfRtRb8"
      },
      "execution_count": 171,
      "outputs": []
    },
    {
      "cell_type": "code",
      "source": [
        "calculate_bleu_score(un_training_model, test_dataset, 2000)"
      ],
      "metadata": {
        "colab": {
          "base_uri": "https://localhost:8080/"
        },
        "id": "lRWyzdgAuIsF",
        "outputId": "ade7ec4c-54fa-4e57-e109-d69f72d667be"
      },
      "execution_count": 175,
      "outputs": [
        {
          "output_type": "stream",
          "name": "stdout",
          "text": [
            "Till 100 the avg bleu score is 0.018183166314990548\n",
            "Till 200 the avg bleu score is 0.01529686819042395\n",
            "Till 300 the avg bleu score is 0.016322811503924825\n",
            "Till 400 the avg bleu score is 0.016333799094959876\n",
            "Till 500 the avg bleu score is 0.016331452453641964\n",
            "Till 600 the avg bleu score is 0.01648631089842078\n",
            "Till 700 the avg bleu score is 0.016482913309508247\n",
            "Till 800 the avg bleu score is 0.01653024482696646\n",
            "Till 900 the avg bleu score is 0.016532653150128248\n",
            "Till 1000 the avg bleu score is 0.016551498191266546\n",
            "Till 1100 the avg bleu score is 0.016683781923230962\n",
            "Till 1200 the avg bleu score is 0.016653107757944364\n",
            "Till 1300 the avg bleu score is 0.016605543173830662\n",
            "Till 1400 the avg bleu score is 0.016603309213219182\n",
            "Till 1500 the avg bleu score is 0.016644149075179242\n",
            "Till 1600 the avg bleu score is 0.01680033114806393\n",
            "Till 1700 the avg bleu score is 0.016735394051841875\n",
            "Till 1800 the avg bleu score is 0.016781774873187674\n",
            "Till 1900 the avg bleu score is 0.016789838478140667\n",
            "Till 2000 the avg bleu score is 0.016834764690927716\n",
            "Final avg bleu score is 0.016832254258689144\n"
          ]
        },
        {
          "output_type": "execute_result",
          "data": {
            "text/plain": [
              "0.016832254258689144"
            ]
          },
          "metadata": {},
          "execution_count": 175
        }
      ]
    },
    {
      "cell_type": "code",
      "source": [
        "calculate_bleu_score(prediction_model, test_dataset, 2000)"
      ],
      "metadata": {
        "colab": {
          "base_uri": "https://localhost:8080/"
        },
        "id": "JcvJDdXYuRLy",
        "outputId": "eae80fa7-599e-44a3-f8dd-0bea2cc96def"
      },
      "execution_count": 176,
      "outputs": [
        {
          "output_type": "stream",
          "name": "stdout",
          "text": [
            "Till 100 the avg bleu score is 0.9666294146422548\n",
            "Till 200 the avg bleu score is 0.966820789340762\n",
            "Till 300 the avg bleu score is 0.9666761858438804\n",
            "Till 400 the avg bleu score is 0.9667023019369888\n",
            "Till 500 the avg bleu score is 0.9667130121659668\n",
            "Till 600 the avg bleu score is 0.9666516252683379\n",
            "Till 700 the avg bleu score is 0.9666666314629235\n",
            "Till 800 the avg bleu score is 0.9666705388908906\n",
            "Till 900 the avg bleu score is 0.9667085815441442\n",
            "Till 1000 the avg bleu score is 0.9666578121104012\n",
            "Till 1100 the avg bleu score is 0.9666725714312067\n",
            "Till 1200 the avg bleu score is 0.9666455825630912\n",
            "Till 1300 the avg bleu score is 0.96662355100773\n",
            "Till 1400 the avg bleu score is 0.9666270606692746\n",
            "Till 1500 the avg bleu score is 0.9666466590417622\n",
            "Till 1600 the avg bleu score is 0.9666300633024727\n",
            "Till 1700 the avg bleu score is 0.9666374314055945\n",
            "Till 1800 the avg bleu score is 0.9666533660427095\n",
            "Till 1900 the avg bleu score is 0.9666667801753819\n",
            "Till 2000 the avg bleu score is 0.9666567571592387\n",
            "Final avg bleu score is 0.9666582611198066\n"
          ]
        },
        {
          "output_type": "execute_result",
          "data": {
            "text/plain": [
              "0.9666582611198066"
            ]
          },
          "metadata": {},
          "execution_count": 176
        }
      ]
    },
    {
      "cell_type": "code",
      "source": [
        ""
      ],
      "metadata": {
        "id": "DDuhNhA-vdaX"
      },
      "execution_count": null,
      "outputs": []
    }
  ],
  "metadata": {
    "accelerator": "GPU",
    "colab": {
      "background_execution": "on",
      "collapsed_sections": [],
      "machine_shape": "hm",
      "name": "Password_GPU_GRU",
      "provenance": [],
      "include_colab_link": true
    },
    "gpuClass": "standard",
    "kernelspec": {
      "display_name": "Python 3",
      "name": "python3"
    }
  },
  "nbformat": 4,
  "nbformat_minor": 0
}