{
  "cells": [
    {
      "cell_type": "markdown",
      "metadata": {
        "id": "view-in-github",
        "colab_type": "text"
      },
      "source": [
        "<a href=\"https://colab.research.google.com/github/rajashekar/colab/blob/main/train.ipynb\" target=\"_parent\"><img src=\"https://colab.research.google.com/assets/colab-badge.svg\" alt=\"Open In Colab\"/></a>"
      ]
    },
    {
      "cell_type": "code",
      "execution_count": 1,
      "metadata": {
        "id": "pkXoBx-48-3y"
      },
      "outputs": [],
      "source": [
        "import numpy as np\n",
        "import pandas as pd\n",
        "\n",
        "from sklearn.model_selection import train_test_split\n",
        "\n",
        "import matplotlib.pyplot as plt\n",
        "\n",
        "import tensorflow as tf\n",
        "from tensorflow.keras.utils import to_categorical"
      ]
    },
    {
      "cell_type": "markdown",
      "metadata": {
        "id": "HCiVQgJxLbCo"
      },
      "source": [
        "# Data analysis"
      ]
    },
    {
      "cell_type": "code",
      "execution_count": 2,
      "metadata": {
        "colab": {
          "base_uri": "https://localhost:8080/",
          "height": 35
        },
        "id": "le9h8HDQ7LAY",
        "outputId": "7b68a480-9aba-4bfc-99c2-6850d944e0b7"
      },
      "outputs": [
        {
          "output_type": "execute_result",
          "data": {
            "text/plain": [
              "'/content'"
            ],
            "application/vnd.google.colaboratory.intrinsic+json": {
              "type": "string"
            }
          },
          "metadata": {},
          "execution_count": 2
        }
      ],
      "source": [
        "%pwd"
      ]
    },
    {
      "cell_type": "code",
      "execution_count": 3,
      "metadata": {
        "colab": {
          "base_uri": "https://localhost:8080/"
        },
        "id": "jHonUH_D7f7R",
        "outputId": "1e7267e0-835c-4664-9d8c-a37ace8bf9fc"
      },
      "outputs": [
        {
          "output_type": "stream",
          "name": "stdout",
          "text": [
            "/content/drive/MyDrive/Colab/newpydomains/data\n"
          ]
        }
      ],
      "source": [
        "%cd /content/drive/MyDrive/Colab/newpydomains/data"
      ]
    },
    {
      "cell_type": "code",
      "execution_count": 4,
      "metadata": {
        "colab": {
          "base_uri": "https://localhost:8080/"
        },
        "id": "CBfr7i9p76CP",
        "outputId": "3d0be61d-1986-47b9-dcc7-23b03eeb25eb"
      },
      "outputs": [
        {
          "output_type": "stream",
          "name": "stdout",
          "text": [
            "domain_final.csv  domain_with_cat.csv  shallalist          shallalist_all.csv\n",
            "domain_text.csv   model.h5             shallalist2.tar.gz\n"
          ]
        }
      ],
      "source": [
        "%ls"
      ]
    },
    {
      "cell_type": "code",
      "execution_count": 5,
      "metadata": {
        "id": "JPYD-KpJ8BkS"
      },
      "outputs": [],
      "source": [
        "# !gzip -d shallalist.gz"
      ]
    },
    {
      "cell_type": "code",
      "execution_count": 6,
      "metadata": {
        "colab": {
          "base_uri": "https://localhost:8080/"
        },
        "id": "p1SAMd458Yw-",
        "outputId": "d8fc3452-4b5f-45cb-a471-07b0774f7a43"
      },
      "outputs": [
        {
          "output_type": "stream",
          "name": "stdout",
          "text": [
            "text,domain_names,cat_name\n",
            "total home about right now assorted chocolate chip lucky in chocolate chocolate chip white chocolate chip deluxe oatmeal sugar contact us site by media,kizito,shopping\n",
            "rule there is of no curiosity the june biggest and back and for this was chosen for a couple of reason in of the release of the new star trek not sure is the right reason a bit of insanity to ease me everyone back into that regular i had some freaky lined but it nearly broke my me sick when i tried to write it up as a so going for this which is admittedly not an attractive set of mental but more than this me want to scoop out my own brain with a salad reason on with the the biggest stick mudd on but is ceti alpha v big enough for both of these paramount star this is not for just for if harry you an report him to the proper the title biggest should give you one or two about what may unfold in this but unless thinking then a little off the let me enlighten khan sat at his waiting for his to he ran his over the rich leather of the as he reflected on the last eighteen made great progress here on ceti alpha despite its harsh but he would never admit this to he would not let them grow soft and complacent he always and he certainly would not allow to interfere in their whoever was on the ship that had just landed must be dealt this intruder to be none other he rising to his and seizing it pleasure to make your khan khan his hand free with am ruler of this entire i once had a planet of me rather mundane chat during which mudd how he was on a planet with sexy until kirk came along and them so that no longer give him much as a single hand sad times for me get this you had a planet full of how what were harry never for it in his they just they were my loyal who follow their not real people need a true leader to command people do my bidding because they fear they respect up your what of who is to rule over your planet when you are seeing as how i a bit of a moot he at i be a bit if there was more than one harry running around the are a little and your name you i doubt if you have ever let alone satisfied a woman in your ho he just had to go he pretty that any sexual challenge is not taken lightly by harry harry undid his belt and you he his pants and a garish pair of down to his he his belly and a look at and tell me not his flaccid penis hung below his ample but there was no that even in its dormant condition it was of substantial i can safely say i have never met a man when out his khan a horrifically inappropriate khan at have the penis of a inappropriate on a few because of what between khan and said later in the undoing his pants and pushing them he revealed his own is a harry squinted i not nearly as big as it is every smaller by an at why did never get like this in the actual an i find your order highly clearly so hop to suspect your human may be because your observation is down put your penis away just embarrassing a not a an shaft that a you think yours would be bigger than mine when harry as he himself to as declared stroking his own if you win the argument by simply revealing your the next logical step is to masturbate both men stood in front of each pants around their raging pointing angrily at each just the door from an adjoining room and stepped would you like me her gaze landed on rigid then her khan turned five of red in anger and he and beat a hasty the little harry absently stroking his rather sure you satisfy her just course i satisfy her and many look how much mine is than mine is bigger by several they get in and just i see how this argument can continue one of the two will be the and the other person is just lying or physical size really open to debate or maybe just fetch a the fact that thinking about the logistics of this must mean that finally warped my redness even telling but as he harry stepped and the tip of his poked khan just below his looking both could plainly see that phallus did not even touch coming up several khan suddenly you if i were i think be less and people in their with our erect penis are we back as that in one of the ways you could possibly be start yours is plenty big just not in the same league as khan was not ready to give does not satisfy a it i can outlast any man on this just yourself already standing in front of a man whose penis is much bigger than yours trying to tell him that i know he you just let it drop and walk away whilst you still have a shred of dignity such harry at him really want to know how you know you afraid of my course but beaten you twice why should i want to bother what do i get if i do you to go of and some if i you are my prisoner khan slowly stroking his the bit relatively threatening until the his now it like just after a wait a could that sucker all no do you do each a look of shock swept across face as harry wrapped his around his he fearfully at massive it never one to khan dick like a soldier up a only he was not a he was and it was not a it was a harry took long along rigid he his hand into the wiry black mass at the base of shaft and tightly as he drew his hand along its over the veiny to the massive purple occasionally harry mixed it up by the shaft and gently but firmly squeezing and tugging on the fuzzy sack khan also worked squeezing and they both worked completely by sense of each set of locked on the in harry sensed the tempo of increasing and thought it might reflect own impending in a moment of khan closed his and his head and harry knew that he had most of had stopped just short of the head of with his next few he dragged his hand completely across the head and even added a little twist at the bucked and he as jet after jet of white fluid was across the squeezing the last from harry a randy little honor our agreement like a i khan gave harry another sharp this bastard was constantly finding new ways to antagonize am a man of my he made as if to pull up his pants and hold on just a just when khan thought there was no lower level of humiliation to sink harry his cock in front of you have some unfinished business to take care khan took hold of cock none too gently and working it no longer holding harry himself to enjoy it this he put both behind his head and closed his as he bucked his back and thrusting his cock in and out of he in short he too to see the first shot land across his khan dick toward the only once eruption had ended did khan feel that he could safely release i say i relish the fact that my name is among those at shooting across the room and up onto his just be glad it do any more pretty dangerous to they both had their pants securely about their once harry continued talking a mile a have you ever thought of going into got the in outer khan had him by the throat with lightening quick and of your you pompous or i shall most assuredly tear it out and feed it to you will never speak of this to under pain of i honestly feared harry was breaking into song luckily it was just khan finally have to choke a hate to say but if just gone with the choking and death in the first have saved himself one hell of an embarrassing more course of course khan and harry rubbed his choking and just point me to my and be out of your hair khan a button on his a moment the young man he wrinkled his and his went immediately to the on the gotten used to khan cursed himself for forgetting about the stink he and mudd had mudd with a worth of no then escort him to his and see that he doing business with harry his but khan only at him as he the harry out behind remember what me dear old pappy used to walk and carry a big his down the corridor as he like a perverted in the and the moral of this the best way to solve an argument is by getting out your just be sure yours is bigger than your or masturbation might biggest by posted at am film star trek series a finally back by popular for you not quite sure going on in the facial in that but i feel it perfectly the about to show i you is a slash what really me most about this is who the bloody there is a whole community on devoted to of gay if surely the height of blasphemy to about bumming if that man is the one who goes on to betray him to his why would you be interested in or in the first place if not a mystery to people are i picked one from the many to share this one is by the imaginatively a member of the i like opening very are i am with a double capital you know going to be a good one when the rating is with some very pornographic and graphic in general graphic and i didnt write the somehow i get the feeling the whole faith is their god for this very on with the plot we kick off with a little to try and convince you a story behind the there basically into an old house to shag fun times are had by stood behind the closed door staring at who was leaning against the cracked wall across the was worried because the rabbi had the other to wait with at her house and he had led on a silent walk to this abandoned old house in the of it was a million that was in a small waist wrap and nearly broken the and sweat from their long hair and glistening on their toned and fit from the bit about the glistening goatee sweat is a bit of a of how mistaken this writer is about the kind of imagery they believe is attractive in sex also like to point out that you should be me for breaking this up into all one continuous paragraph in the original of it even more of a joy to was breathing heavily and his heart was beating as the good teacher his cheek in his hand and went in to kiss him in friendship as he had done many however this felt his smooth and soft tongue pass between his quivering and engage the future traitor in a real which he and it to last an and was disappointed when finally removed him mouth from the apostle and then to explore his sweaty feeling every inch of visible making the cock grow and twitch beneath the linen and from his trembling i love it when try to use every possible alternative for a character in an attempt to avoid the same name over and over the only purpose that substituting for and for is giving the even honestly find it less and weird it if they just went with the actual name and repeated it a few times rather than scraping the bottom of the and bizarre te rabbi then set down and to undue the with undue enthusiasm and though of saying something but was in to much awe and to mention sexual he kept this is a bit i am pretty best just shut watched as the trail of hair descending from the navel faded into a thick bush which in it a the good rabbi slowly himself until his soft the tip of the and his tongue a circle around the edge before descending the shaft and up the sending into of as accepted the rod down to the back of his he traveled back again his agile tongue around the salty brim before going again to the hairy base making buck his and press into the long from the erection and slowly removed his own a large veined erection by black ah this would be where the attractive imagery i comes into at its sight and rubbed his own trying to relieve some of the but the gentle hand that removed it and raised the onto his slid one long finger down before pressure to the quivering then finally penetrating it and slowly his digit to be by his i did go to church as a and pretty sure was to as gentle hand that i always it meant that his was the gentle hand that us about our day to day rather than the hand that our up onto his so he can love us in the oh those just took on some frightening new and against the finger until another one deep inside of the boy and slowly the and again added a and with a grand total of three he to and relax grand not a bloody game a total of three you now have up won the speedboat and the the future traitor and bucked his his large erection spewing salty out onto his mass of black removed all three and then his own massive and head at the ready opening and applied am i missing something or is this just hideously unattractive sex and no let out a muffled scream of pleasure and pain as the sword of plummeted into his sword of are they clearly been watching the right for him with sharp pain and dull his rolling back into his head he out bucking against the large cock and begging for more from his lord and above and more and harder and harder against the pressing it to its and then he felt his tighten and he removed his cock and cum over it with the as he let out stream after stream of to my list of that need to be out more often during along with of cum spewing out of large cock and with to the list of that i will be weeping over and wishing i could erase from my mind for many to he breathed hard and then down at cum covered which had not yet experienced and lay on his back and elevated his showing what he was understood perfectly and mounted the a finger before the but him and him square in the showing what he and without any preparation he let out a harsh scream and his cock as hard as he could towards virgin the and virgin are all i probably could have lived without never the savior in agony and sadistic pleasure as the cock forced open the tight fleshy hole making blood trickle down shaft and sending of felling over both this is sending some of felling over me right and it really fell too at forced the cock in and that holy filling it to the brim with was grunting and was moaning and sometimes screaming at the sharp of finally and filled entrails with jet after jet of white juice into the virgin body of he onto his body heaving and his heart pounding out of his as his cock went limp and slid from the entrance of the they slept that way till dawn and the silent walk back to i even know where to full of entrails filled with white oh for the imagery in this the sound utterly tasteful in by posted at am book childhood why oh a this one is short and not at all just going to post the whole i read this in a kind of wondering if i should be laughing or the answer i at was in a twisted this is actually in is some when the scarecrow spontaneous sexual if only wizard of r for the the quite like to know what the hell version of the movie this been the straight in there with the the obviously not even going to bother a plot behind a the sound off the of her she rubbed her clit but her forward into her causing her to be even but the one great thing about the they were either so far away from everything or sound so no one could hear left guessing what assuming to the writer just to get straight on with the scarecrow and part of the fun was being vocal about considering on the farm she had to be as quiet as a church quickly over her but her own movement against her hand to moan loudly again as her met the we even get any explanation as to why the scarecrow suddenly up over her which i for one would find more than a tad but it phase at without a or her needing to persuade he came over between her and her was to feel his cloth mouth feeling rather erotic on her making her even more wet than she was before he she her against his straw and even that felt she up at him with want you inside do he said pointing down to where there was nothing but straw and how thick is what does she for him to produce some kind of straw erection to stick in i see that working luckily for he the humiliation of not being able to perform in that because he another trick up his i can do and with that his face went down her body until his cloth met her she involuntarily at the his warm wet cloth tongue met her and she was she was grinding against yelling out some and soon enough was left limp and after a while she brought him back up to her face and him only the back in could do erotic the scarecrow being unable to get it that thing is rather but i did a healthy mix between and is always probably that i never was a huge fan of the wizard of whilst growing so reading this involve the destruction of too many happy childhood but sure it will have been highly disturbing for those of you for whom it was a childhood on another i believe is as an exclamation of it should definitely be used more i wonder if any with the tin man leave you with that by posted at am no film musical childhood wizard of older home subscribe hello and welcome to my i have made it my mission to find the most on the net and post them where i will dissect probably at the cost of my own ranging from the laughable to the downright scary find it all if easily offended or i suggest you run for the right before too late for your fragile you have been if your is featured i but you can hardly blame me for you being an insane and twisted go wash your mind out with soap and if really you can find the full explanation behind this here in my first book crossover doctor who family friendly film introduction musical childhood sonic the hedgehog star trek series video gaming why oh wizard of subscribe to my atom all atom all archive june biggest and if you like for every perversion you delve deep it will be there waiting to hurt your mind topless robot full of brilliant and a new hideous every mothership of,rule--34.blogspot,porn\n",
            "home mission statement of faith login harvest church worship student union room campus ministry small group at student union men at student union duke small group at state weekly at graduate ministry and duke large group at chapel hill missional large group at chapel hill for more contact us,agapeharvestchurch,religion\n",
            "western get instant and send money on the send money track a transfer find help find help profile history my update delivery method en register log in cooper log out send money abroad from the send money to over and across the world in person or with our send to send amount exchange and vary by payment and and are subject to to check other simply click check be be protect yourself from fraud we encrypt your we are to keeping your data secure convenient ways to send and receive money how to send money ways to receive money send register and create your profile for free to send money learn more send with our send money on the go right or start a transfer in the and pay find out more send in person transfer money in person at one of western union agent in the find bank account send and receive funds directly to bank around the cash pickup send money for cash to of of western union agent around the receive money regularly with the option to save your information in an regular money are fast and log in register to send money today register now quick and easy sign up easy to register and start sending money track your transfer easily track your transfer and with our the pay the way you like pay your bank card or convenient send money for cash pickup at a western union agent location near your register now our made millions of with western union last speed and transparency send money in for fast cash and easily track your money along the commitment to security our encryption and fraud prevention help protect your western union reach we move money from the to over and get with the my collect you send money and get up to off transfer with special exclusively for find out more ready to send money with western get to send money to a bank account with western union our mission is to provide you with the best possible money transfer you to support the you love no matter the why western union it easy to send money to of bank around the find out more international money transfer at your send money on the go or start a transfer and pay track your money transfer in real repeat quickly to and the rating as of agent location count valid as of june some card may charge additional for our please contact your card issuer for more funds may be or unavailable based on certain transaction amount destination currency regulatory identification agent location in time or selection of additional may see for western union also money from currency when choosing a money carefully compare both transfer and exchange foreign exchange and may vary by and location based on a number of and subject to change without western union all money transfer send money send money send money in person track a transfer receive money find money transfer currency converter company about us contact us investor foundation quick links log in register refer a friend become an agent business fraud awareness individual request legal intellectual property privacy statement current modern slavery statement historical modern slavery statement send money to and with of of western union agent home corporate about us contact us fraud awareness privacy statement information become an agent my foundation report a security bug investor relationship intellectual property accessibility statement western union all all service and trade in this material are the property of their respective become an agent my foundation report a security bug investor relationship intellectual property accessibility statement western union all all service and trade in this material are the property of their respective the western service is in the by western union international bank branch in with western union international trading as western union international is and regulated by the financial market authority and also subject to regulation by the financial conduct authority and limited regulation by the prudential regulation,westernunion.co,finance/other\n",
            "new view more view more new view more alfa alfa alfa team art of taste be we love alfa alfa movie alfa radio new view more junior view more of view more view more view more view more scroll news read more read more new read more read more model view more view more view more movie junior play movie of play movie play movie view more gallery twitter line alfa alfa alfa team art of taste be we love alfa alfa movie alfa radio alfa contact copyright japan all,alfaromeo-jp,automobile/cars\n",
            "transportation accommodation food and fun of interest here forum section slot deposit powered by forum group design by mighty some by,forum.kolomyya,forum\n",
            "sign up for the newsletter sign up for the newsletter casino es die rote das das man es die roulette casino nach wird roulette rot das es martingale ist die es es ist roulette casino das die martingale spieler da die in fast ist die martingale es ist das die roulette die sie den so die martingale wird das fallen die martingale ist ist die das es das chance spin roulette hat chance rot schwarz am roulette wird es ist also die kugel roulette rad in rot ist es ist schwarz die martingale die das mal die bis die martingale gilt an dich das ist das system die an die bis er es roulette sie es die die standard sie sind den ist die die standard die rot martingale roulette casino bis schwarz nach die hinter dich die kugel rot variation martingale ist die roulette die more top casino casino all gamble responsibly top rated casino new customer please gamble it like you have to view the top please disable,rascalscasino,gamble\n",
            "search this site skip to main content skip to navigation ha de more is a a te is mint most report abuse page page report abuse,fvs.fw,porn\n",
            "what is my this test is fast and there are it will only take you about to finish your result will not only depend on your but also on the time you take to complete the if you find the you can also pass the question and come back to it later that the list is always on top of the getting a pen and a paper can be but is not essential on the other no computer must be in which case you would distort your begin the test guide disclaimer,bmodels.free,porn\n"
          ]
        }
      ],
      "source": [
        "!head domain_final.csv"
      ]
    },
    {
      "cell_type": "code",
      "execution_count": 7,
      "metadata": {
        "colab": {
          "base_uri": "https://localhost:8080/"
        },
        "id": "BpPP7-D98x6d",
        "outputId": "e78412f7-1772-4f3c-ce03-a111f3070fb3"
      },
      "outputs": [
        {
          "output_type": "stream",
          "name": "stdout",
          "text": [
            "61326 domain_final.csv\n"
          ]
        }
      ],
      "source": [
        "!wc -l domain_final.csv"
      ]
    },
    {
      "cell_type": "code",
      "execution_count": 8,
      "metadata": {
        "id": "wfbekxXH9A_m"
      },
      "outputs": [],
      "source": [
        "df = pd.read_csv('domain_final.csv')"
      ]
    },
    {
      "cell_type": "code",
      "execution_count": 9,
      "metadata": {
        "colab": {
          "base_uri": "https://localhost:8080/",
          "height": 206
        },
        "id": "nmL8ec_49J7g",
        "outputId": "92044064-feff-467d-9949-5655d2479d36"
      },
      "outputs": [
        {
          "output_type": "execute_result",
          "data": {
            "text/plain": [
              "                                                text        domain_names  \\\n",
              "0  total home about right now assorted chocolate ...              kizito   \n",
              "1  rule there is of no curiosity the june biggest...   rule--34.blogspot   \n",
              "2  home mission statement of faith login harvest ...  agapeharvestchurch   \n",
              "3  western get instant and send money on the send...     westernunion.co   \n",
              "4  new view more view more new view more alfa alf...        alfaromeo-jp   \n",
              "\n",
              "          cat_name  \n",
              "0         shopping  \n",
              "1             porn  \n",
              "2         religion  \n",
              "3    finance/other  \n",
              "4  automobile/cars  "
            ],
            "text/html": [
              "\n",
              "  <div id=\"df-7b8b9647-40e6-4ba1-923c-ab6b71dbae10\">\n",
              "    <div class=\"colab-df-container\">\n",
              "      <div>\n",
              "<style scoped>\n",
              "    .dataframe tbody tr th:only-of-type {\n",
              "        vertical-align: middle;\n",
              "    }\n",
              "\n",
              "    .dataframe tbody tr th {\n",
              "        vertical-align: top;\n",
              "    }\n",
              "\n",
              "    .dataframe thead th {\n",
              "        text-align: right;\n",
              "    }\n",
              "</style>\n",
              "<table border=\"1\" class=\"dataframe\">\n",
              "  <thead>\n",
              "    <tr style=\"text-align: right;\">\n",
              "      <th></th>\n",
              "      <th>text</th>\n",
              "      <th>domain_names</th>\n",
              "      <th>cat_name</th>\n",
              "    </tr>\n",
              "  </thead>\n",
              "  <tbody>\n",
              "    <tr>\n",
              "      <th>0</th>\n",
              "      <td>total home about right now assorted chocolate ...</td>\n",
              "      <td>kizito</td>\n",
              "      <td>shopping</td>\n",
              "    </tr>\n",
              "    <tr>\n",
              "      <th>1</th>\n",
              "      <td>rule there is of no curiosity the june biggest...</td>\n",
              "      <td>rule--34.blogspot</td>\n",
              "      <td>porn</td>\n",
              "    </tr>\n",
              "    <tr>\n",
              "      <th>2</th>\n",
              "      <td>home mission statement of faith login harvest ...</td>\n",
              "      <td>agapeharvestchurch</td>\n",
              "      <td>religion</td>\n",
              "    </tr>\n",
              "    <tr>\n",
              "      <th>3</th>\n",
              "      <td>western get instant and send money on the send...</td>\n",
              "      <td>westernunion.co</td>\n",
              "      <td>finance/other</td>\n",
              "    </tr>\n",
              "    <tr>\n",
              "      <th>4</th>\n",
              "      <td>new view more view more new view more alfa alf...</td>\n",
              "      <td>alfaromeo-jp</td>\n",
              "      <td>automobile/cars</td>\n",
              "    </tr>\n",
              "  </tbody>\n",
              "</table>\n",
              "</div>\n",
              "      <button class=\"colab-df-convert\" onclick=\"convertToInteractive('df-7b8b9647-40e6-4ba1-923c-ab6b71dbae10')\"\n",
              "              title=\"Convert this dataframe to an interactive table.\"\n",
              "              style=\"display:none;\">\n",
              "        \n",
              "  <svg xmlns=\"http://www.w3.org/2000/svg\" height=\"24px\"viewBox=\"0 0 24 24\"\n",
              "       width=\"24px\">\n",
              "    <path d=\"M0 0h24v24H0V0z\" fill=\"none\"/>\n",
              "    <path d=\"M18.56 5.44l.94 2.06.94-2.06 2.06-.94-2.06-.94-.94-2.06-.94 2.06-2.06.94zm-11 1L8.5 8.5l.94-2.06 2.06-.94-2.06-.94L8.5 2.5l-.94 2.06-2.06.94zm10 10l.94 2.06.94-2.06 2.06-.94-2.06-.94-.94-2.06-.94 2.06-2.06.94z\"/><path d=\"M17.41 7.96l-1.37-1.37c-.4-.4-.92-.59-1.43-.59-.52 0-1.04.2-1.43.59L10.3 9.45l-7.72 7.72c-.78.78-.78 2.05 0 2.83L4 21.41c.39.39.9.59 1.41.59.51 0 1.02-.2 1.41-.59l7.78-7.78 2.81-2.81c.8-.78.8-2.07 0-2.86zM5.41 20L4 18.59l7.72-7.72 1.47 1.35L5.41 20z\"/>\n",
              "  </svg>\n",
              "      </button>\n",
              "      \n",
              "  <style>\n",
              "    .colab-df-container {\n",
              "      display:flex;\n",
              "      flex-wrap:wrap;\n",
              "      gap: 12px;\n",
              "    }\n",
              "\n",
              "    .colab-df-convert {\n",
              "      background-color: #E8F0FE;\n",
              "      border: none;\n",
              "      border-radius: 50%;\n",
              "      cursor: pointer;\n",
              "      display: none;\n",
              "      fill: #1967D2;\n",
              "      height: 32px;\n",
              "      padding: 0 0 0 0;\n",
              "      width: 32px;\n",
              "    }\n",
              "\n",
              "    .colab-df-convert:hover {\n",
              "      background-color: #E2EBFA;\n",
              "      box-shadow: 0px 1px 2px rgba(60, 64, 67, 0.3), 0px 1px 3px 1px rgba(60, 64, 67, 0.15);\n",
              "      fill: #174EA6;\n",
              "    }\n",
              "\n",
              "    [theme=dark] .colab-df-convert {\n",
              "      background-color: #3B4455;\n",
              "      fill: #D2E3FC;\n",
              "    }\n",
              "\n",
              "    [theme=dark] .colab-df-convert:hover {\n",
              "      background-color: #434B5C;\n",
              "      box-shadow: 0px 1px 3px 1px rgba(0, 0, 0, 0.15);\n",
              "      filter: drop-shadow(0px 1px 2px rgba(0, 0, 0, 0.3));\n",
              "      fill: #FFFFFF;\n",
              "    }\n",
              "  </style>\n",
              "\n",
              "      <script>\n",
              "        const buttonEl =\n",
              "          document.querySelector('#df-7b8b9647-40e6-4ba1-923c-ab6b71dbae10 button.colab-df-convert');\n",
              "        buttonEl.style.display =\n",
              "          google.colab.kernel.accessAllowed ? 'block' : 'none';\n",
              "\n",
              "        async function convertToInteractive(key) {\n",
              "          const element = document.querySelector('#df-7b8b9647-40e6-4ba1-923c-ab6b71dbae10');\n",
              "          const dataTable =\n",
              "            await google.colab.kernel.invokeFunction('convertToInteractive',\n",
              "                                                     [key], {});\n",
              "          if (!dataTable) return;\n",
              "\n",
              "          const docLinkHtml = 'Like what you see? Visit the ' +\n",
              "            '<a target=\"_blank\" href=https://colab.research.google.com/notebooks/data_table.ipynb>data table notebook</a>'\n",
              "            + ' to learn more about interactive tables.';\n",
              "          element.innerHTML = '';\n",
              "          dataTable['output_type'] = 'display_data';\n",
              "          await google.colab.output.renderOutput(dataTable, element);\n",
              "          const docLink = document.createElement('div');\n",
              "          docLink.innerHTML = docLinkHtml;\n",
              "          element.appendChild(docLink);\n",
              "        }\n",
              "      </script>\n",
              "    </div>\n",
              "  </div>\n",
              "  "
            ]
          },
          "metadata": {},
          "execution_count": 9
        }
      ],
      "source": [
        "df.head()"
      ]
    },
    {
      "cell_type": "code",
      "execution_count": 10,
      "metadata": {
        "colab": {
          "base_uri": "https://localhost:8080/"
        },
        "id": "QyNuvgOj9ODh",
        "outputId": "ea7cc32c-98e6-4e7b-e3ee-fdf8ab601b25"
      },
      "outputs": [
        {
          "output_type": "execute_result",
          "data": {
            "text/plain": [
              "array(['shopping', 'porn', 'religion', 'finance/other', 'automobile/cars',\n",
              "       'forum', 'gamble', 'news', 'recreation/sports',\n",
              "       'recreation/travel', 'hobby/games-online', 'education/schools',\n",
              "       'music', 'chat', 'hobby/pets', 'finance/moneylending',\n",
              "       'finance/insurance', 'finance/banking', 'radiotv',\n",
              "       'recreation/martialarts', 'politics', 'hobby/games-misc',\n",
              "       'automobile/bikes', 'science/chemistry', 'drugs', 'adv', 'webmail',\n",
              "       'downloads', 'webradio', 'hospitals', 'government', 'warez',\n",
              "       'redirector', 'recreation/humor', 'hobby/cooking',\n",
              "       'recreation/restaurants', 'dating', 'dynamic', 'models',\n",
              "       'jobsearch', 'alcohol', 'recreation/wellness',\n",
              "       'finance/realestate', 'movies', 'spyware', 'military', 'weapons',\n",
              "       'automobile/planes', 'homestyle', 'library', 'fortunetelling',\n",
              "       'tracker', 'remotecontrol', 'sex/lingerie', 'violence',\n",
              "       'searchengines', 'ringtones', 'isp', 'aggressive',\n",
              "       'automobile/boats', 'imagehosting', 'science/astronomy',\n",
              "       'hobby/gardening', 'urlshortener', 'finance/trading', 'hacking',\n",
              "       'socialnet', 'sex/education', 'webphone', 'costtraps', 'podcasts',\n",
              "       'anonvpn', 'webtv', 'updatesites'], dtype=object)"
            ]
          },
          "metadata": {},
          "execution_count": 10
        }
      ],
      "source": [
        "df['cat_name'].unique()"
      ]
    },
    {
      "cell_type": "code",
      "execution_count": 11,
      "metadata": {
        "colab": {
          "base_uri": "https://localhost:8080/"
        },
        "id": "kzQCwPIuf1d0",
        "outputId": "c6b422d0-5f55-407e-b76e-9345d344297f"
      },
      "outputs": [
        {
          "output_type": "execute_result",
          "data": {
            "text/plain": [
              "74"
            ]
          },
          "metadata": {},
          "execution_count": 11
        }
      ],
      "source": [
        "len(df['cat_name'].unique())"
      ]
    },
    {
      "cell_type": "code",
      "execution_count": 12,
      "metadata": {
        "colab": {
          "base_uri": "https://localhost:8080/",
          "height": 455
        },
        "id": "bFHbriSL9ng4",
        "outputId": "af32b867-f2b0-414a-876b-598c024ed66f"
      },
      "outputs": [
        {
          "output_type": "execute_result",
          "data": {
            "text/plain": [
              "                  text  domain_names\n",
              "cat_name                            \n",
              "adv               1920          1920\n",
              "aggressive          91            91\n",
              "alcohol            336           336\n",
              "anonvpn             50            50\n",
              "automobile/bikes   312           312\n",
              "...                ...           ...\n",
              "weapons            153           153\n",
              "webmail            444           444\n",
              "webphone            23            23\n",
              "webradio           370           370\n",
              "webtv               57            57\n",
              "\n",
              "[74 rows x 2 columns]"
            ],
            "text/html": [
              "\n",
              "  <div id=\"df-ca93bfde-f7e3-4aac-bf70-44e404c9710f\">\n",
              "    <div class=\"colab-df-container\">\n",
              "      <div>\n",
              "<style scoped>\n",
              "    .dataframe tbody tr th:only-of-type {\n",
              "        vertical-align: middle;\n",
              "    }\n",
              "\n",
              "    .dataframe tbody tr th {\n",
              "        vertical-align: top;\n",
              "    }\n",
              "\n",
              "    .dataframe thead th {\n",
              "        text-align: right;\n",
              "    }\n",
              "</style>\n",
              "<table border=\"1\" class=\"dataframe\">\n",
              "  <thead>\n",
              "    <tr style=\"text-align: right;\">\n",
              "      <th></th>\n",
              "      <th>text</th>\n",
              "      <th>domain_names</th>\n",
              "    </tr>\n",
              "    <tr>\n",
              "      <th>cat_name</th>\n",
              "      <th></th>\n",
              "      <th></th>\n",
              "    </tr>\n",
              "  </thead>\n",
              "  <tbody>\n",
              "    <tr>\n",
              "      <th>adv</th>\n",
              "      <td>1920</td>\n",
              "      <td>1920</td>\n",
              "    </tr>\n",
              "    <tr>\n",
              "      <th>aggressive</th>\n",
              "      <td>91</td>\n",
              "      <td>91</td>\n",
              "    </tr>\n",
              "    <tr>\n",
              "      <th>alcohol</th>\n",
              "      <td>336</td>\n",
              "      <td>336</td>\n",
              "    </tr>\n",
              "    <tr>\n",
              "      <th>anonvpn</th>\n",
              "      <td>50</td>\n",
              "      <td>50</td>\n",
              "    </tr>\n",
              "    <tr>\n",
              "      <th>automobile/bikes</th>\n",
              "      <td>312</td>\n",
              "      <td>312</td>\n",
              "    </tr>\n",
              "    <tr>\n",
              "      <th>...</th>\n",
              "      <td>...</td>\n",
              "      <td>...</td>\n",
              "    </tr>\n",
              "    <tr>\n",
              "      <th>weapons</th>\n",
              "      <td>153</td>\n",
              "      <td>153</td>\n",
              "    </tr>\n",
              "    <tr>\n",
              "      <th>webmail</th>\n",
              "      <td>444</td>\n",
              "      <td>444</td>\n",
              "    </tr>\n",
              "    <tr>\n",
              "      <th>webphone</th>\n",
              "      <td>23</td>\n",
              "      <td>23</td>\n",
              "    </tr>\n",
              "    <tr>\n",
              "      <th>webradio</th>\n",
              "      <td>370</td>\n",
              "      <td>370</td>\n",
              "    </tr>\n",
              "    <tr>\n",
              "      <th>webtv</th>\n",
              "      <td>57</td>\n",
              "      <td>57</td>\n",
              "    </tr>\n",
              "  </tbody>\n",
              "</table>\n",
              "<p>74 rows × 2 columns</p>\n",
              "</div>\n",
              "      <button class=\"colab-df-convert\" onclick=\"convertToInteractive('df-ca93bfde-f7e3-4aac-bf70-44e404c9710f')\"\n",
              "              title=\"Convert this dataframe to an interactive table.\"\n",
              "              style=\"display:none;\">\n",
              "        \n",
              "  <svg xmlns=\"http://www.w3.org/2000/svg\" height=\"24px\"viewBox=\"0 0 24 24\"\n",
              "       width=\"24px\">\n",
              "    <path d=\"M0 0h24v24H0V0z\" fill=\"none\"/>\n",
              "    <path d=\"M18.56 5.44l.94 2.06.94-2.06 2.06-.94-2.06-.94-.94-2.06-.94 2.06-2.06.94zm-11 1L8.5 8.5l.94-2.06 2.06-.94-2.06-.94L8.5 2.5l-.94 2.06-2.06.94zm10 10l.94 2.06.94-2.06 2.06-.94-2.06-.94-.94-2.06-.94 2.06-2.06.94z\"/><path d=\"M17.41 7.96l-1.37-1.37c-.4-.4-.92-.59-1.43-.59-.52 0-1.04.2-1.43.59L10.3 9.45l-7.72 7.72c-.78.78-.78 2.05 0 2.83L4 21.41c.39.39.9.59 1.41.59.51 0 1.02-.2 1.41-.59l7.78-7.78 2.81-2.81c.8-.78.8-2.07 0-2.86zM5.41 20L4 18.59l7.72-7.72 1.47 1.35L5.41 20z\"/>\n",
              "  </svg>\n",
              "      </button>\n",
              "      \n",
              "  <style>\n",
              "    .colab-df-container {\n",
              "      display:flex;\n",
              "      flex-wrap:wrap;\n",
              "      gap: 12px;\n",
              "    }\n",
              "\n",
              "    .colab-df-convert {\n",
              "      background-color: #E8F0FE;\n",
              "      border: none;\n",
              "      border-radius: 50%;\n",
              "      cursor: pointer;\n",
              "      display: none;\n",
              "      fill: #1967D2;\n",
              "      height: 32px;\n",
              "      padding: 0 0 0 0;\n",
              "      width: 32px;\n",
              "    }\n",
              "\n",
              "    .colab-df-convert:hover {\n",
              "      background-color: #E2EBFA;\n",
              "      box-shadow: 0px 1px 2px rgba(60, 64, 67, 0.3), 0px 1px 3px 1px rgba(60, 64, 67, 0.15);\n",
              "      fill: #174EA6;\n",
              "    }\n",
              "\n",
              "    [theme=dark] .colab-df-convert {\n",
              "      background-color: #3B4455;\n",
              "      fill: #D2E3FC;\n",
              "    }\n",
              "\n",
              "    [theme=dark] .colab-df-convert:hover {\n",
              "      background-color: #434B5C;\n",
              "      box-shadow: 0px 1px 3px 1px rgba(0, 0, 0, 0.15);\n",
              "      filter: drop-shadow(0px 1px 2px rgba(0, 0, 0, 0.3));\n",
              "      fill: #FFFFFF;\n",
              "    }\n",
              "  </style>\n",
              "\n",
              "      <script>\n",
              "        const buttonEl =\n",
              "          document.querySelector('#df-ca93bfde-f7e3-4aac-bf70-44e404c9710f button.colab-df-convert');\n",
              "        buttonEl.style.display =\n",
              "          google.colab.kernel.accessAllowed ? 'block' : 'none';\n",
              "\n",
              "        async function convertToInteractive(key) {\n",
              "          const element = document.querySelector('#df-ca93bfde-f7e3-4aac-bf70-44e404c9710f');\n",
              "          const dataTable =\n",
              "            await google.colab.kernel.invokeFunction('convertToInteractive',\n",
              "                                                     [key], {});\n",
              "          if (!dataTable) return;\n",
              "\n",
              "          const docLinkHtml = 'Like what you see? Visit the ' +\n",
              "            '<a target=\"_blank\" href=https://colab.research.google.com/notebooks/data_table.ipynb>data table notebook</a>'\n",
              "            + ' to learn more about interactive tables.';\n",
              "          element.innerHTML = '';\n",
              "          dataTable['output_type'] = 'display_data';\n",
              "          await google.colab.output.renderOutput(dataTable, element);\n",
              "          const docLink = document.createElement('div');\n",
              "          docLink.innerHTML = docLinkHtml;\n",
              "          element.appendChild(docLink);\n",
              "        }\n",
              "      </script>\n",
              "    </div>\n",
              "  </div>\n",
              "  "
            ]
          },
          "metadata": {},
          "execution_count": 12
        }
      ],
      "source": [
        "df.groupby('cat_name').count()"
      ]
    },
    {
      "cell_type": "code",
      "execution_count": 13,
      "metadata": {
        "id": "cRTrrrgihxu4"
      },
      "outputs": [],
      "source": [
        "df['category_codes'] = df.cat_name.astype('category').cat.codes"
      ]
    },
    {
      "cell_type": "code",
      "execution_count": 14,
      "metadata": {
        "colab": {
          "base_uri": "https://localhost:8080/"
        },
        "id": "hgLVwoM3kYlC",
        "outputId": "57f554a3-1bc5-4375-d8d4-b2373ada9321"
      },
      "outputs": [
        {
          "output_type": "execute_result",
          "data": {
            "text/plain": [
              "Index(['adv', 'aggressive', 'alcohol', 'anonvpn', 'automobile/bikes',\n",
              "       'automobile/boats', 'automobile/cars', 'automobile/planes', 'chat',\n",
              "       'costtraps', 'dating', 'downloads', 'drugs', 'dynamic',\n",
              "       'education/schools', 'finance/banking', 'finance/insurance',\n",
              "       'finance/moneylending', 'finance/other', 'finance/realestate',\n",
              "       'finance/trading', 'fortunetelling', 'forum', 'gamble', 'government',\n",
              "       'hacking', 'hobby/cooking', 'hobby/games-misc', 'hobby/games-online',\n",
              "       'hobby/gardening', 'hobby/pets', 'homestyle', 'hospitals',\n",
              "       'imagehosting', 'isp', 'jobsearch', 'library', 'military', 'models',\n",
              "       'movies', 'music', 'news', 'podcasts', 'politics', 'porn', 'radiotv',\n",
              "       'recreation/humor', 'recreation/martialarts', 'recreation/restaurants',\n",
              "       'recreation/sports', 'recreation/travel', 'recreation/wellness',\n",
              "       'redirector', 'religion', 'remotecontrol', 'ringtones',\n",
              "       'science/astronomy', 'science/chemistry', 'searchengines',\n",
              "       'sex/education', 'sex/lingerie', 'shopping', 'socialnet', 'spyware',\n",
              "       'tracker', 'updatesites', 'urlshortener', 'violence', 'warez',\n",
              "       'weapons', 'webmail', 'webphone', 'webradio', 'webtv'],\n",
              "      dtype='object', name='cat_name')"
            ]
          },
          "metadata": {},
          "execution_count": 14
        }
      ],
      "source": [
        "df.groupby('cat_name').count().index"
      ]
    },
    {
      "cell_type": "code",
      "source": [
        "classes = df.groupby('cat_name').count().index"
      ],
      "metadata": {
        "id": "kRuw64ftTWKF"
      },
      "execution_count": 15,
      "outputs": []
    },
    {
      "cell_type": "code",
      "source": [
        "df.groupby('category_codes').count().index"
      ],
      "metadata": {
        "colab": {
          "base_uri": "https://localhost:8080/"
        },
        "id": "St75KJhtM7XK",
        "outputId": "581391be-e06b-43f1-fb3b-daf02fb42058"
      },
      "execution_count": 16,
      "outputs": [
        {
          "output_type": "execute_result",
          "data": {
            "text/plain": [
              "Int64Index([ 0,  1,  2,  3,  4,  5,  6,  7,  8,  9, 10, 11, 12, 13, 14, 15, 16,\n",
              "            17, 18, 19, 20, 21, 22, 23, 24, 25, 26, 27, 28, 29, 30, 31, 32, 33,\n",
              "            34, 35, 36, 37, 38, 39, 40, 41, 42, 43, 44, 45, 46, 47, 48, 49, 50,\n",
              "            51, 52, 53, 54, 55, 56, 57, 58, 59, 60, 61, 62, 63, 64, 65, 66, 67,\n",
              "            68, 69, 70, 71, 72, 73],\n",
              "           dtype='int64', name='category_codes')"
            ]
          },
          "metadata": {},
          "execution_count": 16
        }
      ]
    },
    {
      "cell_type": "code",
      "source": [
        "df.loc[df['category_codes'] == 72]"
      ],
      "metadata": {
        "colab": {
          "base_uri": "https://localhost:8080/",
          "height": 424
        },
        "id": "Am7kt4XAUWqz",
        "outputId": "fe2b3664-cd94-46eb-d434-4d4df55bf5f7"
      },
      "execution_count": 17,
      "outputs": [
        {
          "output_type": "execute_result",
          "data": {
            "text/plain": [
              "                                                    text  \\\n",
              "64     toggle navigation all streaming live streaming...   \n",
              "116    toggle search form search toggle navigation ho...   \n",
              "235    listen wake up call bill and and ken coast to ...   \n",
              "284    are you a fan of check out the welcome to the ...   \n",
              "347    radio simple for simple people radio seit sind...   \n",
              "...                                                  ...   \n",
              "60239  home splash splash reality a da de em da me pl...   \n",
              "60319  twitter home current stairway stairway with tr...   \n",
              "60465  is currently off the please check back to this...   \n",
              "60646  skip to content no de de no listen web rock ra...   \n",
              "61288  join home tour help lost password join hosting...   \n",
              "\n",
              "                      domain_names  cat_name  category_codes  \n",
              "64                 wyep.streamguys  webradio              72  \n",
              "116                      wgmuradio  webradio              72  \n",
              "235                       kfiam640  webradio              72  \n",
              "284                  radio-locator  webradio              72  \n",
              "347                     radiosucks  webradio              72  \n",
              "...                            ...       ...             ...  \n",
              "60239         radio.musica.uol.com  webradio              72  \n",
              "60319                  ghostlytalk  webradio              72  \n",
              "60465  shoutbrothershout.homestead  webradio              72  \n",
              "60646                 webrockradio  webradio              72  \n",
              "61288         darkradio.mybravenet  webradio              72  \n",
              "\n",
              "[370 rows x 4 columns]"
            ],
            "text/html": [
              "\n",
              "  <div id=\"df-5e4f4c69-7a78-4480-9a25-8289ce537c5a\">\n",
              "    <div class=\"colab-df-container\">\n",
              "      <div>\n",
              "<style scoped>\n",
              "    .dataframe tbody tr th:only-of-type {\n",
              "        vertical-align: middle;\n",
              "    }\n",
              "\n",
              "    .dataframe tbody tr th {\n",
              "        vertical-align: top;\n",
              "    }\n",
              "\n",
              "    .dataframe thead th {\n",
              "        text-align: right;\n",
              "    }\n",
              "</style>\n",
              "<table border=\"1\" class=\"dataframe\">\n",
              "  <thead>\n",
              "    <tr style=\"text-align: right;\">\n",
              "      <th></th>\n",
              "      <th>text</th>\n",
              "      <th>domain_names</th>\n",
              "      <th>cat_name</th>\n",
              "      <th>category_codes</th>\n",
              "    </tr>\n",
              "  </thead>\n",
              "  <tbody>\n",
              "    <tr>\n",
              "      <th>64</th>\n",
              "      <td>toggle navigation all streaming live streaming...</td>\n",
              "      <td>wyep.streamguys</td>\n",
              "      <td>webradio</td>\n",
              "      <td>72</td>\n",
              "    </tr>\n",
              "    <tr>\n",
              "      <th>116</th>\n",
              "      <td>toggle search form search toggle navigation ho...</td>\n",
              "      <td>wgmuradio</td>\n",
              "      <td>webradio</td>\n",
              "      <td>72</td>\n",
              "    </tr>\n",
              "    <tr>\n",
              "      <th>235</th>\n",
              "      <td>listen wake up call bill and and ken coast to ...</td>\n",
              "      <td>kfiam640</td>\n",
              "      <td>webradio</td>\n",
              "      <td>72</td>\n",
              "    </tr>\n",
              "    <tr>\n",
              "      <th>284</th>\n",
              "      <td>are you a fan of check out the welcome to the ...</td>\n",
              "      <td>radio-locator</td>\n",
              "      <td>webradio</td>\n",
              "      <td>72</td>\n",
              "    </tr>\n",
              "    <tr>\n",
              "      <th>347</th>\n",
              "      <td>radio simple for simple people radio seit sind...</td>\n",
              "      <td>radiosucks</td>\n",
              "      <td>webradio</td>\n",
              "      <td>72</td>\n",
              "    </tr>\n",
              "    <tr>\n",
              "      <th>...</th>\n",
              "      <td>...</td>\n",
              "      <td>...</td>\n",
              "      <td>...</td>\n",
              "      <td>...</td>\n",
              "    </tr>\n",
              "    <tr>\n",
              "      <th>60239</th>\n",
              "      <td>home splash splash reality a da de em da me pl...</td>\n",
              "      <td>radio.musica.uol.com</td>\n",
              "      <td>webradio</td>\n",
              "      <td>72</td>\n",
              "    </tr>\n",
              "    <tr>\n",
              "      <th>60319</th>\n",
              "      <td>twitter home current stairway stairway with tr...</td>\n",
              "      <td>ghostlytalk</td>\n",
              "      <td>webradio</td>\n",
              "      <td>72</td>\n",
              "    </tr>\n",
              "    <tr>\n",
              "      <th>60465</th>\n",
              "      <td>is currently off the please check back to this...</td>\n",
              "      <td>shoutbrothershout.homestead</td>\n",
              "      <td>webradio</td>\n",
              "      <td>72</td>\n",
              "    </tr>\n",
              "    <tr>\n",
              "      <th>60646</th>\n",
              "      <td>skip to content no de de no listen web rock ra...</td>\n",
              "      <td>webrockradio</td>\n",
              "      <td>webradio</td>\n",
              "      <td>72</td>\n",
              "    </tr>\n",
              "    <tr>\n",
              "      <th>61288</th>\n",
              "      <td>join home tour help lost password join hosting...</td>\n",
              "      <td>darkradio.mybravenet</td>\n",
              "      <td>webradio</td>\n",
              "      <td>72</td>\n",
              "    </tr>\n",
              "  </tbody>\n",
              "</table>\n",
              "<p>370 rows × 4 columns</p>\n",
              "</div>\n",
              "      <button class=\"colab-df-convert\" onclick=\"convertToInteractive('df-5e4f4c69-7a78-4480-9a25-8289ce537c5a')\"\n",
              "              title=\"Convert this dataframe to an interactive table.\"\n",
              "              style=\"display:none;\">\n",
              "        \n",
              "  <svg xmlns=\"http://www.w3.org/2000/svg\" height=\"24px\"viewBox=\"0 0 24 24\"\n",
              "       width=\"24px\">\n",
              "    <path d=\"M0 0h24v24H0V0z\" fill=\"none\"/>\n",
              "    <path d=\"M18.56 5.44l.94 2.06.94-2.06 2.06-.94-2.06-.94-.94-2.06-.94 2.06-2.06.94zm-11 1L8.5 8.5l.94-2.06 2.06-.94-2.06-.94L8.5 2.5l-.94 2.06-2.06.94zm10 10l.94 2.06.94-2.06 2.06-.94-2.06-.94-.94-2.06-.94 2.06-2.06.94z\"/><path d=\"M17.41 7.96l-1.37-1.37c-.4-.4-.92-.59-1.43-.59-.52 0-1.04.2-1.43.59L10.3 9.45l-7.72 7.72c-.78.78-.78 2.05 0 2.83L4 21.41c.39.39.9.59 1.41.59.51 0 1.02-.2 1.41-.59l7.78-7.78 2.81-2.81c.8-.78.8-2.07 0-2.86zM5.41 20L4 18.59l7.72-7.72 1.47 1.35L5.41 20z\"/>\n",
              "  </svg>\n",
              "      </button>\n",
              "      \n",
              "  <style>\n",
              "    .colab-df-container {\n",
              "      display:flex;\n",
              "      flex-wrap:wrap;\n",
              "      gap: 12px;\n",
              "    }\n",
              "\n",
              "    .colab-df-convert {\n",
              "      background-color: #E8F0FE;\n",
              "      border: none;\n",
              "      border-radius: 50%;\n",
              "      cursor: pointer;\n",
              "      display: none;\n",
              "      fill: #1967D2;\n",
              "      height: 32px;\n",
              "      padding: 0 0 0 0;\n",
              "      width: 32px;\n",
              "    }\n",
              "\n",
              "    .colab-df-convert:hover {\n",
              "      background-color: #E2EBFA;\n",
              "      box-shadow: 0px 1px 2px rgba(60, 64, 67, 0.3), 0px 1px 3px 1px rgba(60, 64, 67, 0.15);\n",
              "      fill: #174EA6;\n",
              "    }\n",
              "\n",
              "    [theme=dark] .colab-df-convert {\n",
              "      background-color: #3B4455;\n",
              "      fill: #D2E3FC;\n",
              "    }\n",
              "\n",
              "    [theme=dark] .colab-df-convert:hover {\n",
              "      background-color: #434B5C;\n",
              "      box-shadow: 0px 1px 3px 1px rgba(0, 0, 0, 0.15);\n",
              "      filter: drop-shadow(0px 1px 2px rgba(0, 0, 0, 0.3));\n",
              "      fill: #FFFFFF;\n",
              "    }\n",
              "  </style>\n",
              "\n",
              "      <script>\n",
              "        const buttonEl =\n",
              "          document.querySelector('#df-5e4f4c69-7a78-4480-9a25-8289ce537c5a button.colab-df-convert');\n",
              "        buttonEl.style.display =\n",
              "          google.colab.kernel.accessAllowed ? 'block' : 'none';\n",
              "\n",
              "        async function convertToInteractive(key) {\n",
              "          const element = document.querySelector('#df-5e4f4c69-7a78-4480-9a25-8289ce537c5a');\n",
              "          const dataTable =\n",
              "            await google.colab.kernel.invokeFunction('convertToInteractive',\n",
              "                                                     [key], {});\n",
              "          if (!dataTable) return;\n",
              "\n",
              "          const docLinkHtml = 'Like what you see? Visit the ' +\n",
              "            '<a target=\"_blank\" href=https://colab.research.google.com/notebooks/data_table.ipynb>data table notebook</a>'\n",
              "            + ' to learn more about interactive tables.';\n",
              "          element.innerHTML = '';\n",
              "          dataTable['output_type'] = 'display_data';\n",
              "          await google.colab.output.renderOutput(dataTable, element);\n",
              "          const docLink = document.createElement('div');\n",
              "          docLink.innerHTML = docLinkHtml;\n",
              "          element.appendChild(docLink);\n",
              "        }\n",
              "      </script>\n",
              "    </div>\n",
              "  </div>\n",
              "  "
            ]
          },
          "metadata": {},
          "execution_count": 17
        }
      ]
    },
    {
      "cell_type": "code",
      "execution_count": 18,
      "metadata": {
        "colab": {
          "base_uri": "https://localhost:8080/",
          "height": 206
        },
        "id": "0RB76bLriCmD",
        "outputId": "da2a8649-bf2d-46dc-85cb-7b67b995ac36"
      },
      "outputs": [
        {
          "output_type": "execute_result",
          "data": {
            "text/plain": [
              "                                                text        domain_names  \\\n",
              "0  total home about right now assorted chocolate ...              kizito   \n",
              "1  rule there is of no curiosity the june biggest...   rule--34.blogspot   \n",
              "2  home mission statement of faith login harvest ...  agapeharvestchurch   \n",
              "3  western get instant and send money on the send...     westernunion.co   \n",
              "4  new view more view more new view more alfa alf...        alfaromeo-jp   \n",
              "\n",
              "          cat_name  category_codes  \n",
              "0         shopping              61  \n",
              "1             porn              44  \n",
              "2         religion              53  \n",
              "3    finance/other              18  \n",
              "4  automobile/cars               6  "
            ],
            "text/html": [
              "\n",
              "  <div id=\"df-134722c4-d407-46b3-99e8-c3e859b0e755\">\n",
              "    <div class=\"colab-df-container\">\n",
              "      <div>\n",
              "<style scoped>\n",
              "    .dataframe tbody tr th:only-of-type {\n",
              "        vertical-align: middle;\n",
              "    }\n",
              "\n",
              "    .dataframe tbody tr th {\n",
              "        vertical-align: top;\n",
              "    }\n",
              "\n",
              "    .dataframe thead th {\n",
              "        text-align: right;\n",
              "    }\n",
              "</style>\n",
              "<table border=\"1\" class=\"dataframe\">\n",
              "  <thead>\n",
              "    <tr style=\"text-align: right;\">\n",
              "      <th></th>\n",
              "      <th>text</th>\n",
              "      <th>domain_names</th>\n",
              "      <th>cat_name</th>\n",
              "      <th>category_codes</th>\n",
              "    </tr>\n",
              "  </thead>\n",
              "  <tbody>\n",
              "    <tr>\n",
              "      <th>0</th>\n",
              "      <td>total home about right now assorted chocolate ...</td>\n",
              "      <td>kizito</td>\n",
              "      <td>shopping</td>\n",
              "      <td>61</td>\n",
              "    </tr>\n",
              "    <tr>\n",
              "      <th>1</th>\n",
              "      <td>rule there is of no curiosity the june biggest...</td>\n",
              "      <td>rule--34.blogspot</td>\n",
              "      <td>porn</td>\n",
              "      <td>44</td>\n",
              "    </tr>\n",
              "    <tr>\n",
              "      <th>2</th>\n",
              "      <td>home mission statement of faith login harvest ...</td>\n",
              "      <td>agapeharvestchurch</td>\n",
              "      <td>religion</td>\n",
              "      <td>53</td>\n",
              "    </tr>\n",
              "    <tr>\n",
              "      <th>3</th>\n",
              "      <td>western get instant and send money on the send...</td>\n",
              "      <td>westernunion.co</td>\n",
              "      <td>finance/other</td>\n",
              "      <td>18</td>\n",
              "    </tr>\n",
              "    <tr>\n",
              "      <th>4</th>\n",
              "      <td>new view more view more new view more alfa alf...</td>\n",
              "      <td>alfaromeo-jp</td>\n",
              "      <td>automobile/cars</td>\n",
              "      <td>6</td>\n",
              "    </tr>\n",
              "  </tbody>\n",
              "</table>\n",
              "</div>\n",
              "      <button class=\"colab-df-convert\" onclick=\"convertToInteractive('df-134722c4-d407-46b3-99e8-c3e859b0e755')\"\n",
              "              title=\"Convert this dataframe to an interactive table.\"\n",
              "              style=\"display:none;\">\n",
              "        \n",
              "  <svg xmlns=\"http://www.w3.org/2000/svg\" height=\"24px\"viewBox=\"0 0 24 24\"\n",
              "       width=\"24px\">\n",
              "    <path d=\"M0 0h24v24H0V0z\" fill=\"none\"/>\n",
              "    <path d=\"M18.56 5.44l.94 2.06.94-2.06 2.06-.94-2.06-.94-.94-2.06-.94 2.06-2.06.94zm-11 1L8.5 8.5l.94-2.06 2.06-.94-2.06-.94L8.5 2.5l-.94 2.06-2.06.94zm10 10l.94 2.06.94-2.06 2.06-.94-2.06-.94-.94-2.06-.94 2.06-2.06.94z\"/><path d=\"M17.41 7.96l-1.37-1.37c-.4-.4-.92-.59-1.43-.59-.52 0-1.04.2-1.43.59L10.3 9.45l-7.72 7.72c-.78.78-.78 2.05 0 2.83L4 21.41c.39.39.9.59 1.41.59.51 0 1.02-.2 1.41-.59l7.78-7.78 2.81-2.81c.8-.78.8-2.07 0-2.86zM5.41 20L4 18.59l7.72-7.72 1.47 1.35L5.41 20z\"/>\n",
              "  </svg>\n",
              "      </button>\n",
              "      \n",
              "  <style>\n",
              "    .colab-df-container {\n",
              "      display:flex;\n",
              "      flex-wrap:wrap;\n",
              "      gap: 12px;\n",
              "    }\n",
              "\n",
              "    .colab-df-convert {\n",
              "      background-color: #E8F0FE;\n",
              "      border: none;\n",
              "      border-radius: 50%;\n",
              "      cursor: pointer;\n",
              "      display: none;\n",
              "      fill: #1967D2;\n",
              "      height: 32px;\n",
              "      padding: 0 0 0 0;\n",
              "      width: 32px;\n",
              "    }\n",
              "\n",
              "    .colab-df-convert:hover {\n",
              "      background-color: #E2EBFA;\n",
              "      box-shadow: 0px 1px 2px rgba(60, 64, 67, 0.3), 0px 1px 3px 1px rgba(60, 64, 67, 0.15);\n",
              "      fill: #174EA6;\n",
              "    }\n",
              "\n",
              "    [theme=dark] .colab-df-convert {\n",
              "      background-color: #3B4455;\n",
              "      fill: #D2E3FC;\n",
              "    }\n",
              "\n",
              "    [theme=dark] .colab-df-convert:hover {\n",
              "      background-color: #434B5C;\n",
              "      box-shadow: 0px 1px 3px 1px rgba(0, 0, 0, 0.15);\n",
              "      filter: drop-shadow(0px 1px 2px rgba(0, 0, 0, 0.3));\n",
              "      fill: #FFFFFF;\n",
              "    }\n",
              "  </style>\n",
              "\n",
              "      <script>\n",
              "        const buttonEl =\n",
              "          document.querySelector('#df-134722c4-d407-46b3-99e8-c3e859b0e755 button.colab-df-convert');\n",
              "        buttonEl.style.display =\n",
              "          google.colab.kernel.accessAllowed ? 'block' : 'none';\n",
              "\n",
              "        async function convertToInteractive(key) {\n",
              "          const element = document.querySelector('#df-134722c4-d407-46b3-99e8-c3e859b0e755');\n",
              "          const dataTable =\n",
              "            await google.colab.kernel.invokeFunction('convertToInteractive',\n",
              "                                                     [key], {});\n",
              "          if (!dataTable) return;\n",
              "\n",
              "          const docLinkHtml = 'Like what you see? Visit the ' +\n",
              "            '<a target=\"_blank\" href=https://colab.research.google.com/notebooks/data_table.ipynb>data table notebook</a>'\n",
              "            + ' to learn more about interactive tables.';\n",
              "          element.innerHTML = '';\n",
              "          dataTable['output_type'] = 'display_data';\n",
              "          await google.colab.output.renderOutput(dataTable, element);\n",
              "          const docLink = document.createElement('div');\n",
              "          docLink.innerHTML = docLinkHtml;\n",
              "          element.appendChild(docLink);\n",
              "        }\n",
              "      </script>\n",
              "    </div>\n",
              "  </div>\n",
              "  "
            ]
          },
          "metadata": {},
          "execution_count": 18
        }
      ],
      "source": [
        "df.head()"
      ]
    },
    {
      "cell_type": "code",
      "execution_count": 19,
      "metadata": {
        "colab": {
          "base_uri": "https://localhost:8080/"
        },
        "id": "bKzl4wwrDHK0",
        "outputId": "4d0e4200-3def-493c-b348-21e8b1b42f98"
      },
      "outputs": [
        {
          "output_type": "execute_result",
          "data": {
            "text/plain": [
              "0        kizito total home about right now assorted cho...\n",
              "1        rule--34.blogspot rule there is of no curiosit...\n",
              "2        agapeharvestchurch home mission statement of f...\n",
              "3        westernunion.co western get instant and send m...\n",
              "4        alfaromeo-jp new view more view more new view ...\n",
              "                               ...                        \n",
              "61320    astro.elte information staff education researc...\n",
              "61321    clarkjoneskarate sign in to control panel secu...\n",
              "61322    inflagranti-music news rock pop dance party di...\n",
              "61323    euribor the institute about the institute disc...\n",
              "61324    unsw.edu skip to main content study study expl...\n",
              "Length: 61325, dtype: object"
            ]
          },
          "metadata": {},
          "execution_count": 19
        }
      ],
      "source": [
        "df['domain_names'] + ' ' + df['text'] "
      ]
    },
    {
      "cell_type": "code",
      "source": [
        "len_of_text = df['text'].str.split(\"\\\\s+\")"
      ],
      "metadata": {
        "id": "b2BPXMRxKxRp"
      },
      "execution_count": 20,
      "outputs": []
    },
    {
      "cell_type": "code",
      "source": [
        "len_of_text.str.len().max()"
      ],
      "metadata": {
        "colab": {
          "base_uri": "https://localhost:8080/"
        },
        "id": "whmStbjxX1O-",
        "outputId": "30b761c9-53aa-4c03-ee06-60401415ed0a"
      },
      "execution_count": 21,
      "outputs": [
        {
          "output_type": "execute_result",
          "data": {
            "text/plain": [
              "15481712"
            ]
          },
          "metadata": {},
          "execution_count": 21
        }
      ]
    },
    {
      "cell_type": "code",
      "execution_count": 22,
      "metadata": {
        "colab": {
          "base_uri": "https://localhost:8080/",
          "height": 424
        },
        "id": "zk-WdFBpHrxP",
        "outputId": "b75eb0f6-cb87-41b3-b397-d08a1d6c6adf"
      },
      "outputs": [
        {
          "output_type": "execute_result",
          "data": {
            "text/plain": [
              "                                                    text       domain_names  \\\n",
              "9      listen on air bosch schedule recently top radi...            wxra945   \n",
              "33     music music radio par format se continuer la m...          radio.m24   \n",
              "39     cover letter resume is a nationally columnist ...      ariannaonline   \n",
              "41     league de league de a la candela y hay de al t...              rpctv   \n",
              "46     and specialist franco magazine test sport tag ...  giornaledellavela   \n",
              "...                                                  ...                ...   \n",
              "61233  tip de van en business sport folklore register...   zwartewaterkrant   \n",
              "61239  listen live listen to east coast gold big dona...             ecr.co   \n",
              "61261  league en de el bolivia red costa el canal cha...         canal7.com   \n",
              "61312  na a o na se se za a sa ale po na v die do v a...          noveslovo   \n",
              "61317  log out are you the owner of this tripod the t...     sassone.tripod   \n",
              "\n",
              "      cat_name  category_codes  \n",
              "9         news              41  \n",
              "33        news              41  \n",
              "39        news              41  \n",
              "41        news              41  \n",
              "46        news              41  \n",
              "...        ...             ...  \n",
              "61233     news              41  \n",
              "61239     news              41  \n",
              "61261     news              41  \n",
              "61312     news              41  \n",
              "61317     news              41  \n",
              "\n",
              "[5126 rows x 4 columns]"
            ],
            "text/html": [
              "\n",
              "  <div id=\"df-54ba16b9-0ebc-49b2-bb91-a8a17454626d\">\n",
              "    <div class=\"colab-df-container\">\n",
              "      <div>\n",
              "<style scoped>\n",
              "    .dataframe tbody tr th:only-of-type {\n",
              "        vertical-align: middle;\n",
              "    }\n",
              "\n",
              "    .dataframe tbody tr th {\n",
              "        vertical-align: top;\n",
              "    }\n",
              "\n",
              "    .dataframe thead th {\n",
              "        text-align: right;\n",
              "    }\n",
              "</style>\n",
              "<table border=\"1\" class=\"dataframe\">\n",
              "  <thead>\n",
              "    <tr style=\"text-align: right;\">\n",
              "      <th></th>\n",
              "      <th>text</th>\n",
              "      <th>domain_names</th>\n",
              "      <th>cat_name</th>\n",
              "      <th>category_codes</th>\n",
              "    </tr>\n",
              "  </thead>\n",
              "  <tbody>\n",
              "    <tr>\n",
              "      <th>9</th>\n",
              "      <td>listen on air bosch schedule recently top radi...</td>\n",
              "      <td>wxra945</td>\n",
              "      <td>news</td>\n",
              "      <td>41</td>\n",
              "    </tr>\n",
              "    <tr>\n",
              "      <th>33</th>\n",
              "      <td>music music radio par format se continuer la m...</td>\n",
              "      <td>radio.m24</td>\n",
              "      <td>news</td>\n",
              "      <td>41</td>\n",
              "    </tr>\n",
              "    <tr>\n",
              "      <th>39</th>\n",
              "      <td>cover letter resume is a nationally columnist ...</td>\n",
              "      <td>ariannaonline</td>\n",
              "      <td>news</td>\n",
              "      <td>41</td>\n",
              "    </tr>\n",
              "    <tr>\n",
              "      <th>41</th>\n",
              "      <td>league de league de a la candela y hay de al t...</td>\n",
              "      <td>rpctv</td>\n",
              "      <td>news</td>\n",
              "      <td>41</td>\n",
              "    </tr>\n",
              "    <tr>\n",
              "      <th>46</th>\n",
              "      <td>and specialist franco magazine test sport tag ...</td>\n",
              "      <td>giornaledellavela</td>\n",
              "      <td>news</td>\n",
              "      <td>41</td>\n",
              "    </tr>\n",
              "    <tr>\n",
              "      <th>...</th>\n",
              "      <td>...</td>\n",
              "      <td>...</td>\n",
              "      <td>...</td>\n",
              "      <td>...</td>\n",
              "    </tr>\n",
              "    <tr>\n",
              "      <th>61233</th>\n",
              "      <td>tip de van en business sport folklore register...</td>\n",
              "      <td>zwartewaterkrant</td>\n",
              "      <td>news</td>\n",
              "      <td>41</td>\n",
              "    </tr>\n",
              "    <tr>\n",
              "      <th>61239</th>\n",
              "      <td>listen live listen to east coast gold big dona...</td>\n",
              "      <td>ecr.co</td>\n",
              "      <td>news</td>\n",
              "      <td>41</td>\n",
              "    </tr>\n",
              "    <tr>\n",
              "      <th>61261</th>\n",
              "      <td>league en de el bolivia red costa el canal cha...</td>\n",
              "      <td>canal7.com</td>\n",
              "      <td>news</td>\n",
              "      <td>41</td>\n",
              "    </tr>\n",
              "    <tr>\n",
              "      <th>61312</th>\n",
              "      <td>na a o na se se za a sa ale po na v die do v a...</td>\n",
              "      <td>noveslovo</td>\n",
              "      <td>news</td>\n",
              "      <td>41</td>\n",
              "    </tr>\n",
              "    <tr>\n",
              "      <th>61317</th>\n",
              "      <td>log out are you the owner of this tripod the t...</td>\n",
              "      <td>sassone.tripod</td>\n",
              "      <td>news</td>\n",
              "      <td>41</td>\n",
              "    </tr>\n",
              "  </tbody>\n",
              "</table>\n",
              "<p>5126 rows × 4 columns</p>\n",
              "</div>\n",
              "      <button class=\"colab-df-convert\" onclick=\"convertToInteractive('df-54ba16b9-0ebc-49b2-bb91-a8a17454626d')\"\n",
              "              title=\"Convert this dataframe to an interactive table.\"\n",
              "              style=\"display:none;\">\n",
              "        \n",
              "  <svg xmlns=\"http://www.w3.org/2000/svg\" height=\"24px\"viewBox=\"0 0 24 24\"\n",
              "       width=\"24px\">\n",
              "    <path d=\"M0 0h24v24H0V0z\" fill=\"none\"/>\n",
              "    <path d=\"M18.56 5.44l.94 2.06.94-2.06 2.06-.94-2.06-.94-.94-2.06-.94 2.06-2.06.94zm-11 1L8.5 8.5l.94-2.06 2.06-.94-2.06-.94L8.5 2.5l-.94 2.06-2.06.94zm10 10l.94 2.06.94-2.06 2.06-.94-2.06-.94-.94-2.06-.94 2.06-2.06.94z\"/><path d=\"M17.41 7.96l-1.37-1.37c-.4-.4-.92-.59-1.43-.59-.52 0-1.04.2-1.43.59L10.3 9.45l-7.72 7.72c-.78.78-.78 2.05 0 2.83L4 21.41c.39.39.9.59 1.41.59.51 0 1.02-.2 1.41-.59l7.78-7.78 2.81-2.81c.8-.78.8-2.07 0-2.86zM5.41 20L4 18.59l7.72-7.72 1.47 1.35L5.41 20z\"/>\n",
              "  </svg>\n",
              "      </button>\n",
              "      \n",
              "  <style>\n",
              "    .colab-df-container {\n",
              "      display:flex;\n",
              "      flex-wrap:wrap;\n",
              "      gap: 12px;\n",
              "    }\n",
              "\n",
              "    .colab-df-convert {\n",
              "      background-color: #E8F0FE;\n",
              "      border: none;\n",
              "      border-radius: 50%;\n",
              "      cursor: pointer;\n",
              "      display: none;\n",
              "      fill: #1967D2;\n",
              "      height: 32px;\n",
              "      padding: 0 0 0 0;\n",
              "      width: 32px;\n",
              "    }\n",
              "\n",
              "    .colab-df-convert:hover {\n",
              "      background-color: #E2EBFA;\n",
              "      box-shadow: 0px 1px 2px rgba(60, 64, 67, 0.3), 0px 1px 3px 1px rgba(60, 64, 67, 0.15);\n",
              "      fill: #174EA6;\n",
              "    }\n",
              "\n",
              "    [theme=dark] .colab-df-convert {\n",
              "      background-color: #3B4455;\n",
              "      fill: #D2E3FC;\n",
              "    }\n",
              "\n",
              "    [theme=dark] .colab-df-convert:hover {\n",
              "      background-color: #434B5C;\n",
              "      box-shadow: 0px 1px 3px 1px rgba(0, 0, 0, 0.15);\n",
              "      filter: drop-shadow(0px 1px 2px rgba(0, 0, 0, 0.3));\n",
              "      fill: #FFFFFF;\n",
              "    }\n",
              "  </style>\n",
              "\n",
              "      <script>\n",
              "        const buttonEl =\n",
              "          document.querySelector('#df-54ba16b9-0ebc-49b2-bb91-a8a17454626d button.colab-df-convert');\n",
              "        buttonEl.style.display =\n",
              "          google.colab.kernel.accessAllowed ? 'block' : 'none';\n",
              "\n",
              "        async function convertToInteractive(key) {\n",
              "          const element = document.querySelector('#df-54ba16b9-0ebc-49b2-bb91-a8a17454626d');\n",
              "          const dataTable =\n",
              "            await google.colab.kernel.invokeFunction('convertToInteractive',\n",
              "                                                     [key], {});\n",
              "          if (!dataTable) return;\n",
              "\n",
              "          const docLinkHtml = 'Like what you see? Visit the ' +\n",
              "            '<a target=\"_blank\" href=https://colab.research.google.com/notebooks/data_table.ipynb>data table notebook</a>'\n",
              "            + ' to learn more about interactive tables.';\n",
              "          element.innerHTML = '';\n",
              "          dataTable['output_type'] = 'display_data';\n",
              "          await google.colab.output.renderOutput(dataTable, element);\n",
              "          const docLink = document.createElement('div');\n",
              "          docLink.innerHTML = docLinkHtml;\n",
              "          element.appendChild(docLink);\n",
              "        }\n",
              "      </script>\n",
              "    </div>\n",
              "  </div>\n",
              "  "
            ]
          },
          "metadata": {},
          "execution_count": 22
        }
      ],
      "source": [
        "df.loc[df['cat_name'] == 'news']"
      ]
    },
    {
      "cell_type": "markdown",
      "metadata": {
        "id": "VqBTCPJqLhi4"
      },
      "source": [
        "# Split Data"
      ]
    },
    {
      "cell_type": "code",
      "execution_count": 23,
      "metadata": {
        "id": "3FGAY-nWIJOU"
      },
      "outputs": [],
      "source": [
        "X = (df['domain_names'] + ' ' + df['text']).values\n",
        "y = df['category_codes'].values"
      ]
    },
    {
      "cell_type": "code",
      "execution_count": 24,
      "metadata": {
        "id": "EXaMwNI_fLY9"
      },
      "outputs": [],
      "source": [
        "X_train, X_rem, y_train, y_rem = train_test_split(X, y, test_size=0.3, random_state=42, shuffle=True)"
      ]
    },
    {
      "cell_type": "code",
      "execution_count": 25,
      "metadata": {
        "colab": {
          "base_uri": "https://localhost:8080/"
        },
        "id": "liK0NkVFfami",
        "outputId": "e0a8d69c-ebbc-483f-9c94-d65fe96c88b2"
      },
      "outputs": [
        {
          "output_type": "execute_result",
          "data": {
            "text/plain": [
              "42927"
            ]
          },
          "metadata": {},
          "execution_count": 25
        }
      ],
      "source": [
        "X_train.size"
      ]
    },
    {
      "cell_type": "code",
      "execution_count": 26,
      "metadata": {
        "colab": {
          "base_uri": "https://localhost:8080/"
        },
        "id": "bCFCtxzFnB69",
        "outputId": "ef452aef-9b99-4a06-8946-aefdf33ca601"
      },
      "outputs": [
        {
          "output_type": "execute_result",
          "data": {
            "text/plain": [
              "(array([ 0,  1,  2,  3,  4,  5,  6,  7,  8,  9, 10, 11, 12, 13, 14, 15, 16,\n",
              "        17, 18, 19, 20, 21, 22, 23, 24, 25, 26, 27, 28, 29, 30, 31, 32, 33,\n",
              "        34, 35, 36, 37, 38, 39, 40, 41, 42, 43, 44, 45, 46, 47, 48, 49, 50,\n",
              "        51, 52, 53, 54, 55, 56, 57, 58, 59, 60, 61, 62, 63, 64, 65, 66, 67,\n",
              "        68, 69, 70, 71, 72, 73], dtype=int8),\n",
              " array([1337,   57,  238,   41,  210,   96,  718,  174, 2276,   37,  511,\n",
              "         481,  581,  260, 2541, 1546,  646,  353,  153,  433,   81,  242,\n",
              "        1480, 1274,  183,  101,  204,  499, 1831,  257, 1714,   70,  526,\n",
              "         113,  201,  964,   52,   52,  345, 1095, 1420, 3603,   23,  485,\n",
              "        1905, 1056,  203,  490,  377, 2308, 2150,  139,  220, 1380,   14,\n",
              "          67,  270,   59,  111,   38,  130,  956,  111,  253,  200,   38,\n",
              "          90,   20,  104,  112,  311,   13,  259,   39]))"
            ]
          },
          "metadata": {},
          "execution_count": 26
        }
      ],
      "source": [
        "np.unique(y_train, return_counts=True)"
      ]
    },
    {
      "cell_type": "code",
      "execution_count": 27,
      "metadata": {
        "colab": {
          "base_uri": "https://localhost:8080/"
        },
        "id": "DO54iaV1ffVr",
        "outputId": "55798f64-f007-4914-d849-fbc5c8139efb"
      },
      "outputs": [
        {
          "output_type": "execute_result",
          "data": {
            "text/plain": [
              "18398"
            ]
          },
          "metadata": {},
          "execution_count": 27
        }
      ],
      "source": [
        "X_rem.size"
      ]
    },
    {
      "cell_type": "code",
      "execution_count": 28,
      "metadata": {
        "colab": {
          "base_uri": "https://localhost:8080/"
        },
        "id": "JxefFkqSnTPq",
        "outputId": "a8769038-4549-4f68-9290-38989a618874"
      },
      "outputs": [
        {
          "output_type": "execute_result",
          "data": {
            "text/plain": [
              "(array([ 0,  1,  2,  3,  4,  5,  6,  7,  8,  9, 10, 11, 12, 13, 14, 15, 16,\n",
              "        17, 18, 19, 20, 21, 22, 23, 24, 25, 26, 27, 28, 29, 30, 31, 32, 33,\n",
              "        34, 35, 36, 37, 38, 39, 40, 41, 42, 43, 44, 45, 46, 47, 48, 49, 50,\n",
              "        51, 52, 53, 54, 55, 56, 57, 58, 59, 60, 61, 62, 63, 64, 65, 66, 67,\n",
              "        68, 69, 70, 71, 72, 73], dtype=int8),\n",
              " array([ 583,   34,   98,    9,  102,   28,  328,   85,  969,    9,  222,\n",
              "         229,  223,  100, 1107,  685,  298,  145,   76,  165,   37,   95,\n",
              "         640,  583,   81,   37,   80,  235,  817,   98,  769,   22,  257,\n",
              "          29,   95,  378,   25,   17,  169,  464,  618, 1523,   13,  206,\n",
              "         747,  448,   92,  222,  170,  946,  912,   51,   96,  591,    3,\n",
              "          18,  140,   20,   46,   17,   59,  392,   47,  107,   74,   15,\n",
              "          34,    7,   48,   41,  133,   10,  111,   18]))"
            ]
          },
          "metadata": {},
          "execution_count": 28
        }
      ],
      "source": [
        "np.unique(y_rem, return_counts=True)"
      ]
    },
    {
      "cell_type": "code",
      "execution_count": 29,
      "metadata": {
        "id": "lVtrJoJPfgp6"
      },
      "outputs": [],
      "source": [
        "X_val, X_test, y_val, y_test = train_test_split(X_rem, y_rem, test_size=0.5)"
      ]
    },
    {
      "cell_type": "code",
      "execution_count": 30,
      "metadata": {
        "colab": {
          "base_uri": "https://localhost:8080/"
        },
        "id": "wO_mgdWHfjz2",
        "outputId": "f1e62266-e166-49e1-f4ae-a0cff42e23b3"
      },
      "outputs": [
        {
          "output_type": "execute_result",
          "data": {
            "text/plain": [
              "9199"
            ]
          },
          "metadata": {},
          "execution_count": 30
        }
      ],
      "source": [
        "X_val.size"
      ]
    },
    {
      "cell_type": "code",
      "execution_count": 31,
      "metadata": {
        "colab": {
          "base_uri": "https://localhost:8080/"
        },
        "id": "NDQa1kjLnaI2",
        "outputId": "22b3afe5-e79b-405a-dfbb-44f660301b16"
      },
      "outputs": [
        {
          "output_type": "execute_result",
          "data": {
            "text/plain": [
              "(array([ 0,  1,  2,  4,  5,  6,  7,  8,  9, 10, 11, 12, 13, 14, 15, 16, 17,\n",
              "        18, 19, 20, 21, 22, 23, 24, 25, 26, 27, 28, 29, 30, 31, 32, 33, 34,\n",
              "        35, 36, 37, 38, 39, 40, 41, 42, 43, 44, 45, 46, 47, 48, 49, 50, 51,\n",
              "        52, 53, 54, 55, 56, 57, 58, 59, 60, 61, 62, 63, 64, 65, 66, 67, 68,\n",
              "        69, 70, 71, 72, 73], dtype=int8),\n",
              " array([291,  12,  59,  51,  12, 162,  39, 479,   4, 111, 118, 110,  53,\n",
              "        557, 348, 147,  76,  35,  82,  13,  55, 352, 296,  37,  18,  37,\n",
              "        118, 398,  53, 368,  14, 126,  15,  43, 183,  12,  11,  81, 244,\n",
              "        330, 754,   8, 102, 359, 228,  60, 111,  85, 480, 432,  30,  48,\n",
              "        287,   1,   9,  66,   8,  22,   9,  33, 208,  22,  57,  38,   6,\n",
              "         15,   3,  24,  23,  65,   5,  46,   5]))"
            ]
          },
          "metadata": {},
          "execution_count": 31
        }
      ],
      "source": [
        "np.unique(y_val, return_counts=True)"
      ]
    },
    {
      "cell_type": "code",
      "execution_count": 32,
      "metadata": {
        "colab": {
          "base_uri": "https://localhost:8080/"
        },
        "id": "sSqmj4AnfmFT",
        "outputId": "c0a3e521-a9a2-4fcd-a92b-81ad0f2b75b2"
      },
      "outputs": [
        {
          "output_type": "execute_result",
          "data": {
            "text/plain": [
              "9199"
            ]
          },
          "metadata": {},
          "execution_count": 32
        }
      ],
      "source": [
        "X_test.size"
      ]
    },
    {
      "cell_type": "code",
      "execution_count": 33,
      "metadata": {
        "colab": {
          "base_uri": "https://localhost:8080/"
        },
        "id": "qVc_YQyFnxnT",
        "outputId": "7289ddd6-c517-44f7-c4ee-efae7528d0f2"
      },
      "outputs": [
        {
          "output_type": "execute_result",
          "data": {
            "text/plain": [
              "(array([ 0,  1,  2,  3,  4,  5,  6,  7,  8,  9, 10, 11, 12, 13, 14, 15, 16,\n",
              "        17, 18, 19, 20, 21, 22, 23, 24, 25, 26, 27, 28, 29, 30, 31, 32, 33,\n",
              "        34, 35, 36, 37, 38, 39, 40, 41, 42, 43, 44, 45, 46, 47, 48, 49, 50,\n",
              "        51, 52, 53, 54, 55, 56, 57, 58, 59, 60, 61, 62, 63, 64, 65, 66, 67,\n",
              "        68, 69, 70, 71, 72, 73], dtype=int8),\n",
              " array([292,  22,  39,   9,  51,  16, 166,  46, 490,   5, 111, 111, 113,\n",
              "         47, 550, 337, 151,  69,  41,  83,  24,  40, 288, 287,  44,  19,\n",
              "         43, 117, 419,  45, 401,   8, 131,  14,  52, 195,  13,   6,  88,\n",
              "        220, 288, 769,   5, 104, 388, 220,  32, 111,  85, 466, 480,  21,\n",
              "         48, 304,   2,   9,  74,  12,  24,   8,  26, 184,  25,  50,  36,\n",
              "          9,  19,   4,  24,  18,  68,   5,  65,  13]))"
            ]
          },
          "metadata": {},
          "execution_count": 33
        }
      ],
      "source": [
        "np.unique(y_test, return_counts=True)"
      ]
    },
    {
      "cell_type": "code",
      "execution_count": 34,
      "metadata": {
        "colab": {
          "base_uri": "https://localhost:8080/",
          "height": 140
        },
        "id": "sgpypwmbimVV",
        "outputId": "2a5bf538-aa12-476d-d3b7-0a009ab636e3"
      },
      "outputs": [
        {
          "output_type": "execute_result",
          "data": {
            "text/plain": [
              "'bmwparklane menu control park lane book a test drive book a service home finance and used business and contact us about the series coupe is find out close welcome to park the flagship offering nationwide used vehicle search your used vehicle search your new car search now used car search now news new car find out more martin general manager the journey to your next as simple and convenient for you as news park lane read more promotion the active tourer be one of the first to book a test and receive a voucher courtesy of red letter read more discover the of a electric or hybrid vehicle and calculate your potential fuel find out more explore our with our range now boasting more than ever finding the perfect for you never been find out more your whether a an accident a new accessory or simply advice you we can how can we help you business and fleet business company car a strong range of and thanks to highly and comprehensive combined with low running as a result of fuel and find out more about us or in person here to help contact us book an appointment about park find out more are you ready to join the winning recruitment follow us twitter address park park talk to us contact contact us form book an appointment quick links park lane park lane legal information and motor industry code of practice brand protection modern slavery statement product safety enquiry park lane'"
            ],
            "application/vnd.google.colaboratory.intrinsic+json": {
              "type": "string"
            }
          },
          "metadata": {},
          "execution_count": 34
        }
      ],
      "source": [
        "X_train[10000]"
      ]
    },
    {
      "cell_type": "code",
      "execution_count": 35,
      "metadata": {
        "colab": {
          "base_uri": "https://localhost:8080/"
        },
        "id": "j4F4Z2OgfonN",
        "outputId": "35dcfc86-5e2c-47cc-829a-d599e0becdd5"
      },
      "outputs": [
        {
          "output_type": "execute_result",
          "data": {
            "text/plain": [
              "6"
            ]
          },
          "metadata": {},
          "execution_count": 35
        }
      ],
      "source": [
        "y_train[10000]"
      ]
    },
    {
      "cell_type": "code",
      "source": [
        "df[df['domain_names'].str.contains('www-tech')]"
      ],
      "metadata": {
        "colab": {
          "base_uri": "https://localhost:8080/",
          "height": 81
        },
        "id": "0JiQ9ZzqLJhQ",
        "outputId": "027a95bb-afe2-4ee1-8877-6ff16184b051"
      },
      "execution_count": 36,
      "outputs": [
        {
          "output_type": "execute_result",
          "data": {
            "text/plain": [
              "                                                    text  domain_names  \\\n",
              "55538  and newspaper the first newspaper on the web h...  www-tech.mit   \n",
              "\n",
              "      cat_name  category_codes  \n",
              "55538     news              41  "
            ],
            "text/html": [
              "\n",
              "  <div id=\"df-d3b002bd-e51b-4357-a259-9901f35a80d2\">\n",
              "    <div class=\"colab-df-container\">\n",
              "      <div>\n",
              "<style scoped>\n",
              "    .dataframe tbody tr th:only-of-type {\n",
              "        vertical-align: middle;\n",
              "    }\n",
              "\n",
              "    .dataframe tbody tr th {\n",
              "        vertical-align: top;\n",
              "    }\n",
              "\n",
              "    .dataframe thead th {\n",
              "        text-align: right;\n",
              "    }\n",
              "</style>\n",
              "<table border=\"1\" class=\"dataframe\">\n",
              "  <thead>\n",
              "    <tr style=\"text-align: right;\">\n",
              "      <th></th>\n",
              "      <th>text</th>\n",
              "      <th>domain_names</th>\n",
              "      <th>cat_name</th>\n",
              "      <th>category_codes</th>\n",
              "    </tr>\n",
              "  </thead>\n",
              "  <tbody>\n",
              "    <tr>\n",
              "      <th>55538</th>\n",
              "      <td>and newspaper the first newspaper on the web h...</td>\n",
              "      <td>www-tech.mit</td>\n",
              "      <td>news</td>\n",
              "      <td>41</td>\n",
              "    </tr>\n",
              "  </tbody>\n",
              "</table>\n",
              "</div>\n",
              "      <button class=\"colab-df-convert\" onclick=\"convertToInteractive('df-d3b002bd-e51b-4357-a259-9901f35a80d2')\"\n",
              "              title=\"Convert this dataframe to an interactive table.\"\n",
              "              style=\"display:none;\">\n",
              "        \n",
              "  <svg xmlns=\"http://www.w3.org/2000/svg\" height=\"24px\"viewBox=\"0 0 24 24\"\n",
              "       width=\"24px\">\n",
              "    <path d=\"M0 0h24v24H0V0z\" fill=\"none\"/>\n",
              "    <path d=\"M18.56 5.44l.94 2.06.94-2.06 2.06-.94-2.06-.94-.94-2.06-.94 2.06-2.06.94zm-11 1L8.5 8.5l.94-2.06 2.06-.94-2.06-.94L8.5 2.5l-.94 2.06-2.06.94zm10 10l.94 2.06.94-2.06 2.06-.94-2.06-.94-.94-2.06-.94 2.06-2.06.94z\"/><path d=\"M17.41 7.96l-1.37-1.37c-.4-.4-.92-.59-1.43-.59-.52 0-1.04.2-1.43.59L10.3 9.45l-7.72 7.72c-.78.78-.78 2.05 0 2.83L4 21.41c.39.39.9.59 1.41.59.51 0 1.02-.2 1.41-.59l7.78-7.78 2.81-2.81c.8-.78.8-2.07 0-2.86zM5.41 20L4 18.59l7.72-7.72 1.47 1.35L5.41 20z\"/>\n",
              "  </svg>\n",
              "      </button>\n",
              "      \n",
              "  <style>\n",
              "    .colab-df-container {\n",
              "      display:flex;\n",
              "      flex-wrap:wrap;\n",
              "      gap: 12px;\n",
              "    }\n",
              "\n",
              "    .colab-df-convert {\n",
              "      background-color: #E8F0FE;\n",
              "      border: none;\n",
              "      border-radius: 50%;\n",
              "      cursor: pointer;\n",
              "      display: none;\n",
              "      fill: #1967D2;\n",
              "      height: 32px;\n",
              "      padding: 0 0 0 0;\n",
              "      width: 32px;\n",
              "    }\n",
              "\n",
              "    .colab-df-convert:hover {\n",
              "      background-color: #E2EBFA;\n",
              "      box-shadow: 0px 1px 2px rgba(60, 64, 67, 0.3), 0px 1px 3px 1px rgba(60, 64, 67, 0.15);\n",
              "      fill: #174EA6;\n",
              "    }\n",
              "\n",
              "    [theme=dark] .colab-df-convert {\n",
              "      background-color: #3B4455;\n",
              "      fill: #D2E3FC;\n",
              "    }\n",
              "\n",
              "    [theme=dark] .colab-df-convert:hover {\n",
              "      background-color: #434B5C;\n",
              "      box-shadow: 0px 1px 3px 1px rgba(0, 0, 0, 0.15);\n",
              "      filter: drop-shadow(0px 1px 2px rgba(0, 0, 0, 0.3));\n",
              "      fill: #FFFFFF;\n",
              "    }\n",
              "  </style>\n",
              "\n",
              "      <script>\n",
              "        const buttonEl =\n",
              "          document.querySelector('#df-d3b002bd-e51b-4357-a259-9901f35a80d2 button.colab-df-convert');\n",
              "        buttonEl.style.display =\n",
              "          google.colab.kernel.accessAllowed ? 'block' : 'none';\n",
              "\n",
              "        async function convertToInteractive(key) {\n",
              "          const element = document.querySelector('#df-d3b002bd-e51b-4357-a259-9901f35a80d2');\n",
              "          const dataTable =\n",
              "            await google.colab.kernel.invokeFunction('convertToInteractive',\n",
              "                                                     [key], {});\n",
              "          if (!dataTable) return;\n",
              "\n",
              "          const docLinkHtml = 'Like what you see? Visit the ' +\n",
              "            '<a target=\"_blank\" href=https://colab.research.google.com/notebooks/data_table.ipynb>data table notebook</a>'\n",
              "            + ' to learn more about interactive tables.';\n",
              "          element.innerHTML = '';\n",
              "          dataTable['output_type'] = 'display_data';\n",
              "          await google.colab.output.renderOutput(dataTable, element);\n",
              "          const docLink = document.createElement('div');\n",
              "          docLink.innerHTML = docLinkHtml;\n",
              "          element.appendChild(docLink);\n",
              "        }\n",
              "      </script>\n",
              "    </div>\n",
              "  </div>\n",
              "  "
            ]
          },
          "metadata": {},
          "execution_count": 36
        }
      ]
    },
    {
      "cell_type": "code",
      "execution_count": 37,
      "metadata": {
        "id": "86rTnR99foJH"
      },
      "outputs": [],
      "source": [
        "y_train = to_categorical(y_train, len(df['category_codes'].unique()))\n",
        "y_val = to_categorical(y_val, len(df['category_codes'].unique()))\n",
        "y_test = to_categorical(y_test, len(df['category_codes'].unique()))"
      ]
    },
    {
      "cell_type": "code",
      "execution_count": 38,
      "metadata": {
        "colab": {
          "base_uri": "https://localhost:8080/"
        },
        "id": "oLa7mRLPowiA",
        "outputId": "ff0cc84f-8ca2-4583-b58c-b9432cd9c858"
      },
      "outputs": [
        {
          "output_type": "execute_result",
          "data": {
            "text/plain": [
              "array([0., 0., 0., 0., 0., 0., 1., 0., 0., 0., 0., 0., 0., 0., 0., 0., 0.,\n",
              "       0., 0., 0., 0., 0., 0., 0., 0., 0., 0., 0., 0., 0., 0., 0., 0., 0.,\n",
              "       0., 0., 0., 0., 0., 0., 0., 0., 0., 0., 0., 0., 0., 0., 0., 0., 0.,\n",
              "       0., 0., 0., 0., 0., 0., 0., 0., 0., 0., 0., 0., 0., 0., 0., 0., 0.,\n",
              "       0., 0., 0., 0., 0., 0.], dtype=float32)"
            ]
          },
          "metadata": {},
          "execution_count": 38
        }
      ],
      "source": [
        "y_train[10000]"
      ]
    },
    {
      "cell_type": "markdown",
      "metadata": {
        "id": "EBYwzaeipDII"
      },
      "source": [
        "# Creating Dataset"
      ]
    },
    {
      "cell_type": "code",
      "execution_count": 39,
      "metadata": {
        "id": "oY8MczDMo2RH"
      },
      "outputs": [],
      "source": [
        "BATCH_SIZE = 64\n",
        "BUFFER_SIZE = 600000"
      ]
    },
    {
      "cell_type": "code",
      "execution_count": 40,
      "metadata": {
        "id": "GAVNgehHpQQs"
      },
      "outputs": [],
      "source": [
        "train_dataset = tf.data.Dataset.from_tensor_slices((X_train, y_train))\n",
        "train_dataset = train_dataset.shuffle(BUFFER_SIZE).batch(BATCH_SIZE)\n",
        "\n",
        "val_dataset = tf.data.Dataset.from_tensor_slices((X_val, y_val))\n",
        "val_dataset = val_dataset.batch(BATCH_SIZE)\n",
        "\n",
        "test_dataset = tf.data.Dataset.from_tensor_slices((X_test, y_test))\n",
        "test_dataset = test_dataset.batch(BATCH_SIZE)"
      ]
    },
    {
      "cell_type": "code",
      "execution_count": 41,
      "metadata": {
        "colab": {
          "base_uri": "https://localhost:8080/"
        },
        "id": "6lS7Ews4pSmf",
        "outputId": "54a395db-0a1f-44eb-a38a-799e79410ecb"
      },
      "outputs": [
        {
          "output_type": "stream",
          "name": "stdout",
          "text": [
            "Name tf.Tensor(b'greendaymusic green day home news tour music sign up store coffee home news tour music sign up store coffee green day scroll sessions between out now listen now catch the tour in the in get get green day sessions report an issue privacy policy of use ad policy green day and reprise', shape=(), dtype=string)\n",
            "Label tf.Tensor(\n",
            "[0. 0. 0. 0. 0. 0. 0. 0. 0. 0. 0. 0. 0. 0. 0. 0. 0. 0. 0. 0. 0. 0. 0. 0.\n",
            " 0. 0. 0. 0. 0. 0. 0. 0. 0. 0. 0. 0. 0. 0. 0. 0. 1. 0. 0. 0. 0. 0. 0. 0.\n",
            " 0. 0. 0. 0. 0. 0. 0. 0. 0. 0. 0. 0. 0. 0. 0. 0. 0. 0. 0. 0. 0. 0. 0. 0.\n",
            " 0. 0.], shape=(74,), dtype=float32)\n"
          ]
        }
      ],
      "source": [
        "text_batch, label_batch = next(iter(train_dataset))\n",
        "site_name, first_label = text_batch[0], label_batch[0]\n",
        "print(\"Name\", site_name)\n",
        "print(\"Label\", first_label)"
      ]
    },
    {
      "cell_type": "markdown",
      "metadata": {
        "id": "TQgvFe5RpyCb"
      },
      "source": [
        "# Vectorization"
      ]
    },
    {
      "cell_type": "code",
      "execution_count": 42,
      "metadata": {
        "id": "KgJH_EOXpicC"
      },
      "outputs": [],
      "source": [
        "max_features = 62000\n",
        "sequence_length = 5000\n",
        "\n",
        "vectorize_layer = tf.keras.layers.TextVectorization(\n",
        "    max_tokens=max_features,\n",
        "    output_mode='int',\n",
        "    output_sequence_length=sequence_length)"
      ]
    },
    {
      "cell_type": "code",
      "execution_count": 43,
      "metadata": {
        "id": "SyqUpEcLp3l6"
      },
      "outputs": [],
      "source": [
        "# Make a text-only dataset (without labels), then call adapt\n",
        "train_text = train_dataset.map(lambda x, y: x)\n",
        "vectorize_layer.adapt(train_text)"
      ]
    },
    {
      "cell_type": "code",
      "execution_count": 44,
      "metadata": {
        "id": "NjhNiD-lp59L"
      },
      "outputs": [],
      "source": [
        "def vectorize_text(text, label):\n",
        "  text = tf.expand_dims(text, -1)\n",
        "  return vectorize_layer(text), label"
      ]
    },
    {
      "cell_type": "code",
      "execution_count": 45,
      "metadata": {
        "colab": {
          "base_uri": "https://localhost:8080/"
        },
        "id": "zIlxukuzqAxb",
        "outputId": "28774e54-0b08-45c3-9549-36718db68ec6"
      },
      "outputs": [
        {
          "output_type": "stream",
          "name": "stdout",
          "text": [
            "Vectorized data (<tf.Tensor: shape=(1, 5000), dtype=int64, numpy=array([[61031,  1051,   306, ...,     0,     0,     0]])>, <tf.Tensor: shape=(74,), dtype=float32, numpy=\n",
            "array([0., 0., 0., 0., 0., 0., 0., 0., 0., 0., 0., 0., 0., 0., 0., 0., 0.,\n",
            "       0., 0., 0., 0., 0., 0., 0., 0., 0., 0., 0., 0., 0., 0., 0., 0., 0.,\n",
            "       0., 0., 0., 0., 0., 0., 1., 0., 0., 0., 0., 0., 0., 0., 0., 0., 0.,\n",
            "       0., 0., 0., 0., 0., 0., 0., 0., 0., 0., 0., 0., 0., 0., 0., 0., 0.,\n",
            "       0., 0., 0., 0., 0., 0.], dtype=float32)>)\n"
          ]
        }
      ],
      "source": [
        "print(\"Vectorized data\", vectorize_text(site_name, first_label))"
      ]
    },
    {
      "cell_type": "code",
      "execution_count": 46,
      "metadata": {
        "colab": {
          "base_uri": "https://localhost:8080/"
        },
        "id": "DyBso3wLqFcs",
        "outputId": "ebed2169-944d-4984-d07a-6e284e6ec889"
      },
      "outputs": [
        {
          "output_type": "stream",
          "name": "stdout",
          "text": [
            "1000 --->  girl\n",
            "Vocabulary size: 62000\n"
          ]
        }
      ],
      "source": [
        "print(\"1000 ---> \",vectorize_layer.get_vocabulary()[1000])\n",
        "print('Vocabulary size: {}'.format(len(vectorize_layer.get_vocabulary())))"
      ]
    },
    {
      "cell_type": "code",
      "execution_count": 47,
      "metadata": {
        "id": "yakBvEqrqzH0"
      },
      "outputs": [],
      "source": [
        "train_ds = train_dataset.map(vectorize_text)\n",
        "val_ds = val_dataset.map(vectorize_text)\n",
        "test_ds = test_dataset.map(vectorize_text)"
      ]
    },
    {
      "cell_type": "code",
      "execution_count": 48,
      "metadata": {
        "id": "n86acSL9q7Wg"
      },
      "outputs": [],
      "source": [
        "# For performance\n",
        "AUTOTUNE = tf.data.AUTOTUNE\n",
        "\n",
        "train_ds = train_ds.cache().prefetch(buffer_size=AUTOTUNE)\n",
        "val_ds = val_ds.cache().prefetch(buffer_size=AUTOTUNE)\n",
        "test_ds = test_ds.cache().prefetch(buffer_size=AUTOTUNE)"
      ]
    },
    {
      "cell_type": "markdown",
      "metadata": {
        "id": "IxTAfTAMq_gN"
      },
      "source": [
        "# Model"
      ]
    },
    {
      "cell_type": "code",
      "execution_count": 49,
      "metadata": {
        "colab": {
          "base_uri": "https://localhost:8080/"
        },
        "id": "RVyTsboEq9hL",
        "outputId": "7882d14c-f044-4ca5-a321-09f75405cc37"
      },
      "outputs": [
        {
          "output_type": "stream",
          "name": "stdout",
          "text": [
            "Model: \"sequential\"\n",
            "_________________________________________________________________\n",
            " Layer (type)                Output Shape              Param #   \n",
            "=================================================================\n",
            " embedding (Embedding)       (None, None, 64)          3968064   \n",
            "                                                                 \n",
            " dropout (Dropout)           (None, None, 64)          0         \n",
            "                                                                 \n",
            " global_average_pooling1d (G  (None, 64)               0         \n",
            " lobalAveragePooling1D)                                          \n",
            "                                                                 \n",
            " dropout_1 (Dropout)         (None, 64)                0         \n",
            "                                                                 \n",
            " dense (Dense)               (None, 74)                4810      \n",
            "                                                                 \n",
            "=================================================================\n",
            "Total params: 3,972,874\n",
            "Trainable params: 3,972,874\n",
            "Non-trainable params: 0\n",
            "_________________________________________________________________\n"
          ]
        }
      ],
      "source": [
        "embedding_dim = 64\n",
        "model = tf.keras.Sequential([\n",
        "  tf.keras.layers.Embedding(max_features + 1, embedding_dim),\n",
        "  tf.keras.layers.Dropout(0.2),\n",
        "  tf.keras.layers.GlobalAveragePooling1D(),\n",
        "  tf.keras.layers.Dropout(0.2),\n",
        "  tf.keras.layers.Dense(len(df['category_codes'].unique()), activation='softmax')])\n",
        "\n",
        "model.summary()"
      ]
    },
    {
      "cell_type": "code",
      "execution_count": 50,
      "metadata": {
        "id": "u-m02mAEqciz"
      },
      "outputs": [],
      "source": [
        "model_save_filename = \"model.h5\""
      ]
    },
    {
      "cell_type": "code",
      "execution_count": 51,
      "metadata": {
        "id": "7iLAfw29rCeG"
      },
      "outputs": [],
      "source": [
        "batch_size = 64\n",
        "epochs = 500\n",
        "initial_learning_rate = 0.006\n",
        "\n",
        "\n",
        "\n",
        "model.compile(loss='categorical_crossentropy',\n",
        "              optimizer=tf.keras.optimizers.Adam(learning_rate=initial_learning_rate),\n",
        "              metrics=['accuracy'])\n",
        "\n",
        "earlystopping_cb = tf.keras.callbacks.EarlyStopping(\n",
        "    monitor = 'val_accuracy',\n",
        "    mode = 'max',\n",
        "    verbose = 1,\n",
        "    patience = 10,\n",
        "    restore_best_weights = True\n",
        ")\n",
        "\n",
        "mdlcheckpoint_cb = tf.keras.callbacks.ModelCheckpoint(\n",
        "    model_save_filename,\n",
        "    monitor = 'val_accuracy',\n",
        "    mode = 'max',\n",
        "    verbose = 1,\n",
        "    save_best_only = True\n",
        ")\n",
        "\n",
        "decay = initial_learning_rate / epochs\n",
        "\n",
        "def lr_time_based_decay(epoch, lr):\n",
        "  return lr * 1/ (1 + decay * epoch)\n",
        "\n",
        "lrscheduler_cb = tf.keras.callbacks.LearningRateScheduler(lr_time_based_decay)\n"
      ]
    },
    {
      "cell_type": "code",
      "execution_count": 52,
      "metadata": {
        "colab": {
          "base_uri": "https://localhost:8080/"
        },
        "id": "85PC11W1rTYS",
        "outputId": "a67175b9-34e9-4052-f2d8-d59463987c7a"
      },
      "outputs": [
        {
          "output_type": "stream",
          "name": "stdout",
          "text": [
            "Epoch 1/500\n",
            "669/671 [============================>.] - ETA: 0s - loss: 3.6132 - accuracy: 0.1063\n",
            "Epoch 1: val_accuracy improved from -inf to 0.14545, saving model to model.h5\n",
            "671/671 [==============================] - 20s 28ms/step - loss: 3.6126 - accuracy: 0.1066 - val_loss: 3.4329 - val_accuracy: 0.1455 - lr: 0.0060\n",
            "Epoch 2/500\n",
            "670/671 [============================>.] - ETA: 0s - loss: 3.2850 - accuracy: 0.2140\n",
            "Epoch 2: val_accuracy improved from 0.14545 to 0.24035, saving model to model.h5\n",
            "671/671 [==============================] - 16s 24ms/step - loss: 3.2845 - accuracy: 0.2141 - val_loss: 3.1187 - val_accuracy: 0.2404 - lr: 0.0060\n",
            "Epoch 3/500\n",
            "670/671 [============================>.] - ETA: 0s - loss: 2.9930 - accuracy: 0.3016\n",
            "Epoch 3: val_accuracy improved from 0.24035 to 0.32797, saving model to model.h5\n",
            "671/671 [==============================] - 16s 24ms/step - loss: 2.9925 - accuracy: 0.3017 - val_loss: 2.8749 - val_accuracy: 0.3280 - lr: 0.0060\n",
            "Epoch 4/500\n",
            "670/671 [============================>.] - ETA: 0s - loss: 2.7646 - accuracy: 0.3612\n",
            "Epoch 4: val_accuracy improved from 0.32797 to 0.38058, saving model to model.h5\n",
            "671/671 [==============================] - 16s 24ms/step - loss: 2.7641 - accuracy: 0.3613 - val_loss: 2.7036 - val_accuracy: 0.3806 - lr: 0.0060\n",
            "Epoch 5/500\n",
            "670/671 [============================>.] - ETA: 0s - loss: 2.5897 - accuracy: 0.4038\n",
            "Epoch 5: val_accuracy improved from 0.38058 to 0.40831, saving model to model.h5\n",
            "671/671 [==============================] - 16s 24ms/step - loss: 2.5891 - accuracy: 0.4039 - val_loss: 2.5900 - val_accuracy: 0.4083 - lr: 0.0060\n",
            "Epoch 6/500\n",
            "670/671 [============================>.] - ETA: 0s - loss: 2.4568 - accuracy: 0.4334\n",
            "Epoch 6: val_accuracy improved from 0.40831 to 0.42287, saving model to model.h5\n",
            "671/671 [==============================] - 16s 24ms/step - loss: 2.4563 - accuracy: 0.4335 - val_loss: 2.5056 - val_accuracy: 0.4229 - lr: 0.0060\n",
            "Epoch 7/500\n",
            "669/671 [============================>.] - ETA: 0s - loss: 2.3490 - accuracy: 0.4557\n",
            "Epoch 7: val_accuracy improved from 0.42287 to 0.44146, saving model to model.h5\n",
            "671/671 [==============================] - 16s 24ms/step - loss: 2.3484 - accuracy: 0.4558 - val_loss: 2.4452 - val_accuracy: 0.4415 - lr: 0.0060\n",
            "Epoch 8/500\n",
            "670/671 [============================>.] - ETA: 0s - loss: 2.2583 - accuracy: 0.4757\n",
            "Epoch 8: val_accuracy improved from 0.44146 to 0.45396, saving model to model.h5\n",
            "671/671 [==============================] - 16s 24ms/step - loss: 2.2578 - accuracy: 0.4758 - val_loss: 2.3995 - val_accuracy: 0.4540 - lr: 0.0060\n",
            "Epoch 9/500\n",
            "670/671 [============================>.] - ETA: 0s - loss: 2.1790 - accuracy: 0.4951\n",
            "Epoch 9: val_accuracy improved from 0.45396 to 0.46331, saving model to model.h5\n",
            "671/671 [==============================] - 16s 24ms/step - loss: 2.1784 - accuracy: 0.4953 - val_loss: 2.3612 - val_accuracy: 0.4633 - lr: 0.0060\n",
            "Epoch 10/500\n",
            "669/671 [============================>.] - ETA: 0s - loss: 2.1037 - accuracy: 0.5088\n",
            "Epoch 10: val_accuracy improved from 0.46331 to 0.47690, saving model to model.h5\n",
            "671/671 [==============================] - 16s 24ms/step - loss: 2.1030 - accuracy: 0.5090 - val_loss: 2.3338 - val_accuracy: 0.4769 - lr: 0.0060\n",
            "Epoch 11/500\n",
            "670/671 [============================>.] - ETA: 0s - loss: 2.0335 - accuracy: 0.5254\n",
            "Epoch 11: val_accuracy improved from 0.47690 to 0.48212, saving model to model.h5\n",
            "671/671 [==============================] - 16s 24ms/step - loss: 2.0329 - accuracy: 0.5256 - val_loss: 2.3120 - val_accuracy: 0.4821 - lr: 0.0060\n",
            "Epoch 12/500\n",
            "670/671 [============================>.] - ETA: 0s - loss: 1.9708 - accuracy: 0.5396\n",
            "Epoch 12: val_accuracy improved from 0.48212 to 0.49473, saving model to model.h5\n",
            "671/671 [==============================] - 16s 24ms/step - loss: 1.9703 - accuracy: 0.5398 - val_loss: 2.2910 - val_accuracy: 0.4947 - lr: 0.0060\n",
            "Epoch 13/500\n",
            "670/671 [============================>.] - ETA: 0s - loss: 1.9130 - accuracy: 0.5521\n",
            "Epoch 13: val_accuracy did not improve from 0.49473\n",
            "671/671 [==============================] - 16s 23ms/step - loss: 1.9125 - accuracy: 0.5523 - val_loss: 2.2851 - val_accuracy: 0.4931 - lr: 0.0060\n",
            "Epoch 14/500\n",
            "669/671 [============================>.] - ETA: 0s - loss: 1.8536 - accuracy: 0.5631\n",
            "Epoch 14: val_accuracy improved from 0.49473 to 0.50223, saving model to model.h5\n",
            "671/671 [==============================] - 16s 24ms/step - loss: 1.8529 - accuracy: 0.5633 - val_loss: 2.2717 - val_accuracy: 0.5022 - lr: 0.0060\n",
            "Epoch 15/500\n",
            "669/671 [============================>.] - ETA: 0s - loss: 1.8007 - accuracy: 0.5751\n",
            "Epoch 15: val_accuracy improved from 0.50223 to 0.51114, saving model to model.h5\n",
            "671/671 [==============================] - 16s 24ms/step - loss: 1.8000 - accuracy: 0.5753 - val_loss: 2.2644 - val_accuracy: 0.5111 - lr: 0.0060\n",
            "Epoch 16/500\n",
            "670/671 [============================>.] - ETA: 0s - loss: 1.7525 - accuracy: 0.5871\n",
            "Epoch 16: val_accuracy improved from 0.51114 to 0.51288, saving model to model.h5\n",
            "671/671 [==============================] - 16s 24ms/step - loss: 1.7520 - accuracy: 0.5873 - val_loss: 2.2685 - val_accuracy: 0.5129 - lr: 0.0060\n",
            "Epoch 17/500\n",
            "670/671 [============================>.] - ETA: 0s - loss: 1.6992 - accuracy: 0.6002\n",
            "Epoch 17: val_accuracy improved from 0.51288 to 0.51353, saving model to model.h5\n",
            "671/671 [==============================] - 16s 24ms/step - loss: 1.6987 - accuracy: 0.6004 - val_loss: 2.2665 - val_accuracy: 0.5135 - lr: 0.0060\n",
            "Epoch 18/500\n",
            "669/671 [============================>.] - ETA: 0s - loss: 1.6587 - accuracy: 0.6062\n",
            "Epoch 18: val_accuracy improved from 0.51353 to 0.52473, saving model to model.h5\n",
            "671/671 [==============================] - 16s 24ms/step - loss: 1.6581 - accuracy: 0.6063 - val_loss: 2.2717 - val_accuracy: 0.5247 - lr: 0.0060\n",
            "Epoch 19/500\n",
            "669/671 [============================>.] - ETA: 0s - loss: 1.6123 - accuracy: 0.6187\n",
            "Epoch 19: val_accuracy did not improve from 0.52473\n",
            "671/671 [==============================] - 16s 23ms/step - loss: 1.6116 - accuracy: 0.6189 - val_loss: 2.2733 - val_accuracy: 0.5232 - lr: 0.0060\n",
            "Epoch 20/500\n",
            "669/671 [============================>.] - ETA: 0s - loss: 1.5695 - accuracy: 0.6280\n",
            "Epoch 20: val_accuracy improved from 0.52473 to 0.52810, saving model to model.h5\n",
            "671/671 [==============================] - 16s 24ms/step - loss: 1.5689 - accuracy: 0.6281 - val_loss: 2.2928 - val_accuracy: 0.5281 - lr: 0.0060\n",
            "Epoch 21/500\n",
            "670/671 [============================>.] - ETA: 0s - loss: 1.5329 - accuracy: 0.6360\n",
            "Epoch 21: val_accuracy improved from 0.52810 to 0.52995, saving model to model.h5\n",
            "671/671 [==============================] - 16s 24ms/step - loss: 1.5324 - accuracy: 0.6361 - val_loss: 2.2971 - val_accuracy: 0.5299 - lr: 0.0060\n",
            "Epoch 22/500\n",
            "669/671 [============================>.] - ETA: 0s - loss: 1.4937 - accuracy: 0.6443\n",
            "Epoch 22: val_accuracy improved from 0.52995 to 0.53234, saving model to model.h5\n",
            "671/671 [==============================] - 16s 24ms/step - loss: 1.4930 - accuracy: 0.6445 - val_loss: 2.3061 - val_accuracy: 0.5323 - lr: 0.0060\n",
            "Epoch 23/500\n",
            "669/671 [============================>.] - ETA: 0s - loss: 1.4550 - accuracy: 0.6527\n",
            "Epoch 23: val_accuracy did not improve from 0.53234\n",
            "671/671 [==============================] - 15s 23ms/step - loss: 1.4543 - accuracy: 0.6529 - val_loss: 2.3255 - val_accuracy: 0.5284 - lr: 0.0060\n",
            "Epoch 24/500\n",
            "671/671 [==============================] - ETA: 0s - loss: 1.4164 - accuracy: 0.6616\n",
            "Epoch 24: val_accuracy improved from 0.53234 to 0.53734, saving model to model.h5\n",
            "671/671 [==============================] - 16s 24ms/step - loss: 1.4164 - accuracy: 0.6616 - val_loss: 2.3544 - val_accuracy: 0.5373 - lr: 0.0060\n",
            "Epoch 25/500\n",
            "669/671 [============================>.] - ETA: 0s - loss: 1.3860 - accuracy: 0.6673\n",
            "Epoch 25: val_accuracy improved from 0.53734 to 0.54191, saving model to model.h5\n",
            "671/671 [==============================] - 16s 24ms/step - loss: 1.3853 - accuracy: 0.6675 - val_loss: 2.3499 - val_accuracy: 0.5419 - lr: 0.0060\n",
            "Epoch 26/500\n",
            "669/671 [============================>.] - ETA: 0s - loss: 1.3477 - accuracy: 0.6754\n",
            "Epoch 26: val_accuracy did not improve from 0.54191\n",
            "671/671 [==============================] - 16s 23ms/step - loss: 1.3472 - accuracy: 0.6756 - val_loss: 2.3750 - val_accuracy: 0.5392 - lr: 0.0060\n",
            "Epoch 27/500\n",
            "671/671 [==============================] - ETA: 0s - loss: 1.3207 - accuracy: 0.6834\n",
            "Epoch 27: val_accuracy did not improve from 0.54191\n",
            "671/671 [==============================] - 16s 23ms/step - loss: 1.3207 - accuracy: 0.6834 - val_loss: 2.3902 - val_accuracy: 0.5389 - lr: 0.0060\n",
            "Epoch 28/500\n",
            "670/671 [============================>.] - ETA: 0s - loss: 1.2894 - accuracy: 0.6899\n",
            "Epoch 28: val_accuracy did not improve from 0.54191\n",
            "671/671 [==============================] - 16s 23ms/step - loss: 1.2889 - accuracy: 0.6901 - val_loss: 2.4166 - val_accuracy: 0.5395 - lr: 0.0060\n",
            "Epoch 29/500\n",
            "670/671 [============================>.] - ETA: 0s - loss: 1.2606 - accuracy: 0.6952\n",
            "Epoch 29: val_accuracy improved from 0.54191 to 0.54289, saving model to model.h5\n",
            "671/671 [==============================] - 16s 24ms/step - loss: 1.2601 - accuracy: 0.6953 - val_loss: 2.4414 - val_accuracy: 0.5429 - lr: 0.0060\n",
            "Epoch 30/500\n",
            "670/671 [============================>.] - ETA: 0s - loss: 1.2279 - accuracy: 0.7002\n",
            "Epoch 30: val_accuracy did not improve from 0.54289\n",
            "671/671 [==============================] - 16s 23ms/step - loss: 1.2274 - accuracy: 0.7004 - val_loss: 2.4630 - val_accuracy: 0.5377 - lr: 0.0060\n",
            "Epoch 31/500\n",
            "671/671 [==============================] - ETA: 0s - loss: 1.2010 - accuracy: 0.7106\n",
            "Epoch 31: val_accuracy did not improve from 0.54289\n",
            "671/671 [==============================] - 16s 23ms/step - loss: 1.2010 - accuracy: 0.7106 - val_loss: 2.4777 - val_accuracy: 0.5429 - lr: 0.0060\n",
            "Epoch 32/500\n",
            "670/671 [============================>.] - ETA: 0s - loss: 1.1741 - accuracy: 0.7170\n",
            "Epoch 32: val_accuracy did not improve from 0.54289\n",
            "671/671 [==============================] - 16s 23ms/step - loss: 1.1736 - accuracy: 0.7172 - val_loss: 2.5042 - val_accuracy: 0.5393 - lr: 0.0060\n",
            "Epoch 33/500\n",
            "669/671 [============================>.] - ETA: 0s - loss: 1.1504 - accuracy: 0.7219\n",
            "Epoch 33: val_accuracy improved from 0.54289 to 0.54930, saving model to model.h5\n",
            "671/671 [==============================] - 16s 25ms/step - loss: 1.1498 - accuracy: 0.7221 - val_loss: 2.5155 - val_accuracy: 0.5493 - lr: 0.0060\n",
            "Epoch 34/500\n",
            "669/671 [============================>.] - ETA: 0s - loss: 1.1244 - accuracy: 0.7283\n",
            "Epoch 34: val_accuracy did not improve from 0.54930\n",
            "671/671 [==============================] - 16s 24ms/step - loss: 1.1236 - accuracy: 0.7284 - val_loss: 2.5524 - val_accuracy: 0.5414 - lr: 0.0060\n",
            "Epoch 35/500\n",
            "670/671 [============================>.] - ETA: 0s - loss: 1.0989 - accuracy: 0.7337\n",
            "Epoch 35: val_accuracy did not improve from 0.54930\n",
            "671/671 [==============================] - 15s 23ms/step - loss: 1.0985 - accuracy: 0.7338 - val_loss: 2.5836 - val_accuracy: 0.5431 - lr: 0.0060\n",
            "Epoch 36/500\n",
            "670/671 [============================>.] - ETA: 0s - loss: 1.0823 - accuracy: 0.7390\n",
            "Epoch 36: val_accuracy did not improve from 0.54930\n",
            "671/671 [==============================] - 15s 23ms/step - loss: 1.0819 - accuracy: 0.7391 - val_loss: 2.5928 - val_accuracy: 0.5471 - lr: 0.0060\n",
            "Epoch 37/500\n",
            "669/671 [============================>.] - ETA: 0s - loss: 1.0555 - accuracy: 0.7434\n",
            "Epoch 37: val_accuracy did not improve from 0.54930\n",
            "671/671 [==============================] - 15s 23ms/step - loss: 1.0548 - accuracy: 0.7436 - val_loss: 2.6259 - val_accuracy: 0.5423 - lr: 0.0060\n",
            "Epoch 38/500\n",
            "670/671 [============================>.] - ETA: 0s - loss: 1.0359 - accuracy: 0.7484\n",
            "Epoch 38: val_accuracy did not improve from 0.54930\n",
            "671/671 [==============================] - 16s 23ms/step - loss: 1.0355 - accuracy: 0.7486 - val_loss: 2.6489 - val_accuracy: 0.5456 - lr: 0.0059\n",
            "Epoch 39/500\n",
            "670/671 [============================>.] - ETA: 0s - loss: 1.0133 - accuracy: 0.7556\n",
            "Epoch 39: val_accuracy did not improve from 0.54930\n",
            "671/671 [==============================] - 16s 23ms/step - loss: 1.0129 - accuracy: 0.7557 - val_loss: 2.6729 - val_accuracy: 0.5426 - lr: 0.0059\n",
            "Epoch 40/500\n",
            "669/671 [============================>.] - ETA: 0s - loss: 0.9928 - accuracy: 0.7597\n",
            "Epoch 40: val_accuracy did not improve from 0.54930\n",
            "671/671 [==============================] - 16s 23ms/step - loss: 0.9921 - accuracy: 0.7598 - val_loss: 2.7041 - val_accuracy: 0.5457 - lr: 0.0059\n",
            "Epoch 41/500\n",
            "669/671 [============================>.] - ETA: 0s - loss: 0.9752 - accuracy: 0.7624\n",
            "Epoch 41: val_accuracy did not improve from 0.54930\n",
            "671/671 [==============================] - 15s 23ms/step - loss: 0.9746 - accuracy: 0.7626 - val_loss: 2.7399 - val_accuracy: 0.5406 - lr: 0.0059\n",
            "Epoch 42/500\n",
            "670/671 [============================>.] - ETA: 0s - loss: 0.9582 - accuracy: 0.7676\n",
            "Epoch 42: val_accuracy did not improve from 0.54930\n",
            "671/671 [==============================] - 15s 23ms/step - loss: 0.9577 - accuracy: 0.7677 - val_loss: 2.7633 - val_accuracy: 0.5434 - lr: 0.0059\n",
            "Epoch 43/500\n",
            "670/671 [============================>.] - ETA: 0s - loss: 0.9399 - accuracy: 0.7722Restoring model weights from the end of the best epoch: 33.\n",
            "\n",
            "Epoch 43: val_accuracy did not improve from 0.54930\n",
            "671/671 [==============================] - 16s 23ms/step - loss: 0.9395 - accuracy: 0.7723 - val_loss: 2.7967 - val_accuracy: 0.5447 - lr: 0.0059\n",
            "Epoch 43: early stopping\n"
          ]
        }
      ],
      "source": [
        "history = model.fit(\n",
        "    train_ds,\n",
        "    batch_size = batch_size,\n",
        "    validation_data=val_ds,\n",
        "    epochs=epochs,\n",
        "    callbacks=[earlystopping_cb, mdlcheckpoint_cb, lrscheduler_cb])"
      ]
    },
    {
      "cell_type": "code",
      "execution_count": 53,
      "metadata": {
        "id": "qCsr5wei9NCI"
      },
      "outputs": [],
      "source": [
        "model = tf.keras.models.load_model(model_save_filename)"
      ]
    },
    {
      "cell_type": "markdown",
      "metadata": {
        "id": "cVIspEu_sHl6"
      },
      "source": [
        "# Evaluate"
      ]
    },
    {
      "cell_type": "code",
      "execution_count": 54,
      "metadata": {
        "colab": {
          "base_uri": "https://localhost:8080/"
        },
        "id": "t92ZtpzmsCeh",
        "outputId": "e6e89ca7-6723-47fd-8ede-6c7afbfd0e21"
      },
      "outputs": [
        {
          "output_type": "stream",
          "name": "stdout",
          "text": [
            "144/144 [==============================] - 1s 6ms/step - loss: 2.6787 - accuracy: 0.5417\n",
            "Loss:  2.678734302520752\n",
            "Accuracy:  0.5416893362998962\n"
          ]
        }
      ],
      "source": [
        "loss, accuracy = model.evaluate(test_ds)\n",
        "\n",
        "print(\"Loss: \", loss)\n",
        "print(\"Accuracy: \", accuracy)"
      ]
    },
    {
      "cell_type": "markdown",
      "metadata": {
        "id": "wATX2S3KsMJp"
      },
      "source": [
        "# Plot"
      ]
    },
    {
      "cell_type": "code",
      "execution_count": 55,
      "metadata": {
        "colab": {
          "base_uri": "https://localhost:8080/",
          "height": 295
        },
        "id": "qC2G_yd8sLpN",
        "outputId": "8a57e0dc-0eff-4797-8af6-078f48907322"
      },
      "outputs": [
        {
          "output_type": "display_data",
          "data": {
            "text/plain": [
              "<Figure size 432x288 with 1 Axes>"
            ],
            "image/png": "[encoded data removed]"
          },
          "metadata": {
            "needs_background": "light"
          }
        }
      ],
      "source": [
        "history_dict = history.history\n",
        "history_dict.keys()\n",
        "\n",
        "acc = history_dict['accuracy']\n",
        "val_acc = history_dict['val_accuracy']\n",
        "loss = history_dict['loss']\n",
        "val_loss = history_dict['val_loss']\n",
        "\n",
        "epochs = range(1, len(acc) + 1)\n",
        "\n",
        "# \"bo\" is for \"blue dot\"\n",
        "plt.plot(epochs, loss, 'bo', label='Training loss')\n",
        "# b is for \"solid blue line\"\n",
        "plt.plot(epochs, val_loss, 'b', label='Validation loss')\n",
        "plt.title('Training and validation loss')\n",
        "plt.xlabel('Epochs')\n",
        "plt.ylabel('Loss')\n",
        "plt.legend()\n",
        "\n",
        "plt.show()"
      ]
    },
    {
      "cell_type": "code",
      "execution_count": 56,
      "metadata": {
        "colab": {
          "base_uri": "https://localhost:8080/",
          "height": 295
        },
        "id": "785uRkLKsTNX",
        "outputId": "588cdc71-f08b-4fb6-c86f-fc612d3c2796"
      },
      "outputs": [
        {
          "output_type": "display_data",
          "data": {
            "text/plain": [
              "<Figure size 432x288 with 1 Axes>"
            ],
            "image/png": "[encoded data removed]"
          },
          "metadata": {
            "needs_background": "light"
          }
        }
      ],
      "source": [
        "plt.plot(epochs, acc, 'bo', label='Training acc')\n",
        "plt.plot(epochs, val_acc, 'b', label='Validation acc')\n",
        "plt.title('Training and validation accuracy')\n",
        "plt.xlabel('Epochs')\n",
        "plt.ylabel('Accuracy')\n",
        "plt.legend(loc='lower right')\n",
        "\n",
        "plt.show()"
      ]
    },
    {
      "cell_type": "markdown",
      "metadata": {
        "id": "3WYgm2nxsXjo"
      },
      "source": [
        "# Save Model"
      ]
    },
    {
      "cell_type": "code",
      "execution_count": 57,
      "metadata": {
        "colab": {
          "base_uri": "https://localhost:8080/"
        },
        "id": "StViEdArsXGH",
        "outputId": "79cc3dcd-0809-496d-bf00-ba1565eea81c"
      },
      "outputs": [
        {
          "output_type": "stream",
          "name": "stdout",
          "text": [
            "144/144 [==============================] - 1s 8ms/step - loss: 2.6787 - accuracy: 0.5417\n",
            "0.5416893362998962\n"
          ]
        }
      ],
      "source": [
        "export_model = tf.keras.Sequential([\n",
        "  vectorize_layer,\n",
        "  model\n",
        "])\n",
        "\n",
        "export_model.compile(\n",
        "    loss=tf.keras.losses.CategoricalCrossentropy(from_logits=False), optimizer=\"adam\", metrics=['accuracy']\n",
        ")\n",
        "\n",
        "loss, accuracy = export_model.evaluate(test_dataset)\n",
        "print(accuracy)"
      ]
    },
    {
      "cell_type": "markdown",
      "metadata": {
        "id": "z6mrs8XRsfFk"
      },
      "source": [
        "# Inference"
      ]
    },
    {
      "cell_type": "code",
      "execution_count": 58,
      "metadata": {
        "id": "GtGFmzxpseKE"
      },
      "outputs": [],
      "source": [
        "examples = [\n",
        "    \"yahoo\",\n",
        "    \"forbes\",\n",
        "    \"draftkings\",\n",
        "    \"sexsite\",\n",
        "    \"pornhub\",\n",
        "    \"xxxvideos\",\n",
        "    \"google\",\n",
        "    \"lesbianmates\",\n",
        "    \"amazon\",\n",
        "    \"facebook\",\n",
        "    \"fidelity\",\n",
        "    \"hentai\",\n",
        "    \"manga\",\n",
        "    \"youtube\",\n",
        "    \"youporn\",\n",
        "    \"bellesa\"\n",
        "]\n",
        "results = export_model.predict(examples)\n"
      ]
    },
    {
      "cell_type": "code",
      "execution_count": 59,
      "metadata": {
        "colab": {
          "base_uri": "https://localhost:8080/"
        },
        "id": "uLpwpl71vdS1",
        "outputId": "534e23d6-470c-4a6b-ab98-e3dd6c938520"
      },
      "outputs": [
        {
          "output_type": "execute_result",
          "data": {
            "text/plain": [
              "array([[0.03025665, 0.00142319, 0.01172601, ..., 0.00060682, 0.0075214 ,\n",
              "        0.00158703],\n",
              "       [0.03627209, 0.00135311, 0.01143233, ..., 0.00061338, 0.0061129 ,\n",
              "        0.00144486],\n",
              "       [0.03627209, 0.00135311, 0.01143233, ..., 0.00061338, 0.0061129 ,\n",
              "        0.00144486],\n",
              "       ...,\n",
              "       [0.03627209, 0.00135311, 0.01143233, ..., 0.00061338, 0.0061129 ,\n",
              "        0.00144486],\n",
              "       [0.03627209, 0.00135311, 0.01143233, ..., 0.00061338, 0.0061129 ,\n",
              "        0.00144486],\n",
              "       [0.03627209, 0.00135311, 0.01143233, ..., 0.00061338, 0.0061129 ,\n",
              "        0.00144486]], dtype=float32)"
            ]
          },
          "metadata": {},
          "execution_count": 59
        }
      ],
      "source": [
        "results"
      ]
    },
    {
      "cell_type": "code",
      "execution_count": 60,
      "metadata": {
        "id": "-UPUoqRkveL-"
      },
      "outputs": [],
      "source": [
        "probs = tf.nn.softmax(results)"
      ]
    },
    {
      "cell_type": "code",
      "execution_count": 61,
      "metadata": {
        "colab": {
          "base_uri": "https://localhost:8080/"
        },
        "id": "nwy98I4c1whq",
        "outputId": "1cc15386-c046-46ff-aa9f-653b4d3592d7"
      },
      "outputs": [
        {
          "output_type": "execute_result",
          "data": {
            "text/plain": [
              "<tf.Tensor: shape=(16, 74), dtype=float32, numpy=\n",
              "array([[0.01374007, 0.01334955, 0.0134878 , ..., 0.01333866, 0.01343121,\n",
              "        0.01335174],\n",
              "       [0.01382288, 0.01334853, 0.01348375, ..., 0.01333866, 0.01341221,\n",
              "        0.01334975],\n",
              "       [0.01382288, 0.01334853, 0.01348375, ..., 0.01333866, 0.01341221,\n",
              "        0.01334975],\n",
              "       ...,\n",
              "       [0.01382288, 0.01334853, 0.01348375, ..., 0.01333866, 0.01341221,\n",
              "        0.01334975],\n",
              "       [0.01382288, 0.01334853, 0.01348375, ..., 0.01333866, 0.01341221,\n",
              "        0.01334975],\n",
              "       [0.01382288, 0.01334853, 0.01348375, ..., 0.01333866, 0.01341221,\n",
              "        0.01334975]], dtype=float32)>"
            ]
          },
          "metadata": {},
          "execution_count": 61
        }
      ],
      "source": [
        "probs"
      ]
    },
    {
      "cell_type": "code",
      "execution_count": 62,
      "metadata": {
        "id": "rXlTB44Bvh9p"
      },
      "outputs": [],
      "source": [
        "res_args = tf.argmax(results, 1)"
      ]
    },
    {
      "cell_type": "code",
      "execution_count": 63,
      "metadata": {
        "colab": {
          "base_uri": "https://localhost:8080/"
        },
        "id": "4TKmoLawvjkS",
        "outputId": "0c002a09-386c-4515-e0d5-b015206987e9"
      },
      "outputs": [
        {
          "output_type": "execute_result",
          "data": {
            "text/plain": [
              "<tf.Tensor: shape=(16,), dtype=int64, numpy=array([44, 44, 44, 44, 44, 44, 44, 44, 44, 44, 44, 44, 44, 44, 44, 44])>"
            ]
          },
          "metadata": {},
          "execution_count": 63
        }
      ],
      "source": [
        "res_args"
      ]
    },
    {
      "cell_type": "code",
      "execution_count": 64,
      "metadata": {
        "colab": {
          "base_uri": "https://localhost:8080/"
        },
        "id": "HRtVUogwvl2u",
        "outputId": "4a093fae-ba98-441f-fea3-2c37d59b947d"
      },
      "outputs": [
        {
          "output_type": "execute_result",
          "data": {
            "text/plain": [
              "array([44, 44, 44, 44, 44, 44, 44, 44, 44, 44, 44, 44, 44, 44, 44, 44])"
            ]
          },
          "metadata": {},
          "execution_count": 64
        }
      ],
      "source": [
        "res_args.numpy()"
      ]
    },
    {
      "cell_type": "code",
      "execution_count": 65,
      "metadata": {
        "colab": {
          "base_uri": "https://localhost:8080/"
        },
        "id": "iVg1nasYtIGR",
        "outputId": "b92fe858-3cb0-46e6-e88d-43f3f3a14ce1"
      },
      "outputs": [
        {
          "output_type": "execute_result",
          "data": {
            "text/plain": [
              "Index(['adv', 'aggressive', 'alcohol', 'anonvpn', 'automobile/bikes',\n",
              "       'automobile/boats', 'automobile/cars', 'automobile/planes', 'chat',\n",
              "       'costtraps', 'dating', 'downloads', 'drugs', 'dynamic',\n",
              "       'education/schools', 'finance/banking', 'finance/insurance',\n",
              "       'finance/moneylending', 'finance/other', 'finance/realestate',\n",
              "       'finance/trading', 'fortunetelling', 'forum', 'gamble', 'government',\n",
              "       'hacking', 'hobby/cooking', 'hobby/games-misc', 'hobby/games-online',\n",
              "       'hobby/gardening', 'hobby/pets', 'homestyle', 'hospitals',\n",
              "       'imagehosting', 'isp', 'jobsearch', 'library', 'military', 'models',\n",
              "       'movies', 'music', 'news', 'podcasts', 'politics', 'porn', 'radiotv',\n",
              "       'recreation/humor', 'recreation/martialarts', 'recreation/restaurants',\n",
              "       'recreation/sports', 'recreation/travel', 'recreation/wellness',\n",
              "       'redirector', 'religion', 'remotecontrol', 'ringtones',\n",
              "       'science/astronomy', 'science/chemistry', 'searchengines',\n",
              "       'sex/education', 'sex/lingerie', 'shopping', 'socialnet', 'spyware',\n",
              "       'tracker', 'updatesites', 'urlshortener', 'violence', 'warez',\n",
              "       'weapons', 'webmail', 'webphone', 'webradio', 'webtv'],\n",
              "      dtype='object', name='cat_name')"
            ]
          },
          "metadata": {},
          "execution_count": 65
        }
      ],
      "source": [
        "classes"
      ]
    },
    {
      "cell_type": "code",
      "execution_count": 66,
      "metadata": {
        "colab": {
          "base_uri": "https://localhost:8080/"
        },
        "id": "7sGuHLRPPrRM",
        "outputId": "8e065ac1-94ab-4edf-d86f-7271a39d78e8"
      },
      "outputs": [
        {
          "output_type": "stream",
          "name": "stdout",
          "text": [
            "yahoo : porn\n",
            "forbes : porn\n",
            "draftkings : porn\n",
            "sexsite : porn\n",
            "pornhub : porn\n",
            "xxxvideos : porn\n",
            "google : porn\n",
            "lesbianmates : porn\n",
            "amazon : porn\n",
            "facebook : porn\n",
            "fidelity : porn\n",
            "hentai : porn\n",
            "manga : porn\n",
            "youtube : porn\n",
            "youporn : porn\n",
            "bellesa : porn\n"
          ]
        }
      ],
      "source": [
        "for i in range(len(examples)):\n",
        "  print(f\"{examples[i]} : {classes[res_args[i]]}\")"
      ]
    },
    {
      "cell_type": "code",
      "execution_count": null,
      "metadata": {
        "id": "UgY9W6MSP4z5"
      },
      "outputs": [],
      "source": [
        ""
      ]
    }
  ],
  "metadata": {
    "accelerator": "GPU",
    "colab": {
      "background_execution": "on",
      "collapsed_sections": [],
      "machine_shape": "hm",
      "name": "train.ipynb",
      "provenance": [],
      "mount_file_id": "11AuQq7JnnDL8zHjq3zdhkaTvLT852hcw",
      "authorship_tag": "ABX9TyMwt+CB+E5UlWzYvLG1yvqb",
      "include_colab_link": true
    },
    "kernelspec": {
      "display_name": "Python 3",
      "name": "python3"
    },
    "language_info": {
      "name": "python"
    }
  },
  "nbformat": 4,
  "nbformat_minor": 0
}