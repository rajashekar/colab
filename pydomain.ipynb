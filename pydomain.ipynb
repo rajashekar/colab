{
  "cells": [
    {
      "cell_type": "markdown",
      "metadata": {
        "id": "view-in-github",
        "colab_type": "text"
      },
      "source": [
        "<a href=\"https://colab.research.google.com/github/rajashekar/colab/blob/main/pydomain.ipynb\" target=\"_parent\"><img src=\"https://colab.research.google.com/assets/colab-badge.svg\" alt=\"Open In Colab\"/></a>"
      ]
    },
    {
      "cell_type": "code",
      "execution_count": 145,
      "metadata": {
        "id": "pkXoBx-48-3y"
      },
      "outputs": [],
      "source": [
        "import numpy as np\n",
        "import pandas as pd\n",
        "\n",
        "from sklearn.model_selection import train_test_split\n",
        "\n",
        "import matplotlib.pyplot as plt\n",
        "\n",
        "import tensorflow as tf\n",
        "from tensorflow.keras.utils import to_categorical\n",
        "from tensorflow.keras import regularizers\n"
      ]
    },
    {
      "cell_type": "markdown",
      "metadata": {
        "id": "HCiVQgJxLbCo"
      },
      "source": [
        "# Data analysis"
      ]
    },
    {
      "cell_type": "code",
      "execution_count": 146,
      "metadata": {
        "colab": {
          "base_uri": "https://localhost:8080/",
          "height": 35
        },
        "id": "le9h8HDQ7LAY",
        "outputId": "8a96184a-a600-40c0-94a1-f990f4eeb0db"
      },
      "outputs": [
        {
          "output_type": "execute_result",
          "data": {
            "text/plain": [
              "'/tmp'"
            ],
            "application/vnd.google.colaboratory.intrinsic+json": {
              "type": "string"
            }
          },
          "metadata": {},
          "execution_count": 146
        }
      ],
      "source": [
        "%pwd"
      ]
    },
    {
      "cell_type": "code",
      "execution_count": 147,
      "metadata": {
        "id": "jHonUH_D7f7R"
      },
      "outputs": [],
      "source": [
        "%cp /content/drive/MyDrive/Colab/pydomains/data/domain_final.zip /tmp"
      ]
    },
    {
      "cell_type": "code",
      "execution_count": 148,
      "metadata": {
        "colab": {
          "base_uri": "https://localhost:8080/"
        },
        "id": "CBfr7i9p76CP",
        "outputId": "cf9a079c-cd2c-47ed-8d42-9169f18e39d7"
      },
      "outputs": [
        {
          "output_type": "stream",
          "name": "stdout",
          "text": [
            "/tmp\n"
          ]
        }
      ],
      "source": [
        "%cd /tmp"
      ]
    },
    {
      "cell_type": "code",
      "source": [
        "!unzip domain_final.zip"
      ],
      "metadata": {
        "colab": {
          "base_uri": "https://localhost:8080/"
        },
        "id": "e4pQk6Dtkeku",
        "outputId": "abca33d1-3656-40a4-8d22-285569c3d446"
      },
      "execution_count": 149,
      "outputs": [
        {
          "output_type": "stream",
          "name": "stdout",
          "text": [
            "Archive:  domain_final.zip\n",
            "replace domain_final.csv? [y]es, [n]o, [A]ll, [N]one, [r]ename: y\n",
            "  inflating: domain_final.csv        \n"
          ]
        }
      ]
    },
    {
      "cell_type": "code",
      "execution_count": 6,
      "metadata": {
        "id": "JPYD-KpJ8BkS"
      },
      "outputs": [],
      "source": [
        "# !gzip -d shallalist.gz"
      ]
    },
    {
      "cell_type": "code",
      "execution_count": 150,
      "metadata": {
        "colab": {
          "base_uri": "https://localhost:8080/"
        },
        "id": "BpPP7-D98x6d",
        "outputId": "5981c148-967d-48fb-f81d-3fd012ffe013"
      },
      "outputs": [
        {
          "output_type": "stream",
          "name": "stdout",
          "text": [
            "68456 domain_final.csv\n"
          ]
        }
      ],
      "source": [
        "!wc -l domain_final.csv"
      ]
    },
    {
      "cell_type": "code",
      "execution_count": 151,
      "metadata": {
        "id": "wfbekxXH9A_m"
      },
      "outputs": [],
      "source": [
        "df = pd.read_csv('domain_final.csv')"
      ]
    },
    {
      "cell_type": "code",
      "execution_count": 152,
      "metadata": {
        "id": "nmL8ec_49J7g",
        "colab": {
          "base_uri": "https://localhost:8080/",
          "height": 206
        },
        "outputId": "a5283e78-7d36-4c85-cec5-dabd508a7a21"
      },
      "outputs": [
        {
          "output_type": "execute_result",
          "data": {
            "text/plain": [
              "                                                text        domain_names  \\\n",
              "0  chocolate lucky total contact site oatmeal ass...              kizito   \n",
              "1  giving pair desk erect unable times already pr...   rule--34.blogspot   \n",
              "2  missional faith state us chapel mission campus...  agapeharvestchurch   \n",
              "3  choosing move speed request option become rece...     westernunion.co   \n",
              "4  number powered purchase contact canada domain ...            phpproxy   \n",
              "\n",
              "        cat_name  \n",
              "0       shopping  \n",
              "1           porn  \n",
              "2       religion  \n",
              "3  finance/other  \n",
              "4     redirector  "
            ],
            "text/html": [
              "\n",
              "  <div id=\"df-e1b0ee3b-cf4d-4189-aacb-028f7225da09\">\n",
              "    <div class=\"colab-df-container\">\n",
              "      <div>\n",
              "<style scoped>\n",
              "    .dataframe tbody tr th:only-of-type {\n",
              "        vertical-align: middle;\n",
              "    }\n",
              "\n",
              "    .dataframe tbody tr th {\n",
              "        vertical-align: top;\n",
              "    }\n",
              "\n",
              "    .dataframe thead th {\n",
              "        text-align: right;\n",
              "    }\n",
              "</style>\n",
              "<table border=\"1\" class=\"dataframe\">\n",
              "  <thead>\n",
              "    <tr style=\"text-align: right;\">\n",
              "      <th></th>\n",
              "      <th>text</th>\n",
              "      <th>domain_names</th>\n",
              "      <th>cat_name</th>\n",
              "    </tr>\n",
              "  </thead>\n",
              "  <tbody>\n",
              "    <tr>\n",
              "      <th>0</th>\n",
              "      <td>chocolate lucky total contact site oatmeal ass...</td>\n",
              "      <td>kizito</td>\n",
              "      <td>shopping</td>\n",
              "    </tr>\n",
              "    <tr>\n",
              "      <th>1</th>\n",
              "      <td>giving pair desk erect unable times already pr...</td>\n",
              "      <td>rule--34.blogspot</td>\n",
              "      <td>porn</td>\n",
              "    </tr>\n",
              "    <tr>\n",
              "      <th>2</th>\n",
              "      <td>missional faith state us chapel mission campus...</td>\n",
              "      <td>agapeharvestchurch</td>\n",
              "      <td>religion</td>\n",
              "    </tr>\n",
              "    <tr>\n",
              "      <th>3</th>\n",
              "      <td>choosing move speed request option become rece...</td>\n",
              "      <td>westernunion.co</td>\n",
              "      <td>finance/other</td>\n",
              "    </tr>\n",
              "    <tr>\n",
              "      <th>4</th>\n",
              "      <td>number powered purchase contact canada domain ...</td>\n",
              "      <td>phpproxy</td>\n",
              "      <td>redirector</td>\n",
              "    </tr>\n",
              "  </tbody>\n",
              "</table>\n",
              "</div>\n",
              "      <button class=\"colab-df-convert\" onclick=\"convertToInteractive('df-e1b0ee3b-cf4d-4189-aacb-028f7225da09')\"\n",
              "              title=\"Convert this dataframe to an interactive table.\"\n",
              "              style=\"display:none;\">\n",
              "        \n",
              "  <svg xmlns=\"http://www.w3.org/2000/svg\" height=\"24px\"viewBox=\"0 0 24 24\"\n",
              "       width=\"24px\">\n",
              "    <path d=\"M0 0h24v24H0V0z\" fill=\"none\"/>\n",
              "    <path d=\"M18.56 5.44l.94 2.06.94-2.06 2.06-.94-2.06-.94-.94-2.06-.94 2.06-2.06.94zm-11 1L8.5 8.5l.94-2.06 2.06-.94-2.06-.94L8.5 2.5l-.94 2.06-2.06.94zm10 10l.94 2.06.94-2.06 2.06-.94-2.06-.94-.94-2.06-.94 2.06-2.06.94z\"/><path d=\"M17.41 7.96l-1.37-1.37c-.4-.4-.92-.59-1.43-.59-.52 0-1.04.2-1.43.59L10.3 9.45l-7.72 7.72c-.78.78-.78 2.05 0 2.83L4 21.41c.39.39.9.59 1.41.59.51 0 1.02-.2 1.41-.59l7.78-7.78 2.81-2.81c.8-.78.8-2.07 0-2.86zM5.41 20L4 18.59l7.72-7.72 1.47 1.35L5.41 20z\"/>\n",
              "  </svg>\n",
              "      </button>\n",
              "      \n",
              "  <style>\n",
              "    .colab-df-container {\n",
              "      display:flex;\n",
              "      flex-wrap:wrap;\n",
              "      gap: 12px;\n",
              "    }\n",
              "\n",
              "    .colab-df-convert {\n",
              "      background-color: #E8F0FE;\n",
              "      border: none;\n",
              "      border-radius: 50%;\n",
              "      cursor: pointer;\n",
              "      display: none;\n",
              "      fill: #1967D2;\n",
              "      height: 32px;\n",
              "      padding: 0 0 0 0;\n",
              "      width: 32px;\n",
              "    }\n",
              "\n",
              "    .colab-df-convert:hover {\n",
              "      background-color: #E2EBFA;\n",
              "      box-shadow: 0px 1px 2px rgba(60, 64, 67, 0.3), 0px 1px 3px 1px rgba(60, 64, 67, 0.15);\n",
              "      fill: #174EA6;\n",
              "    }\n",
              "\n",
              "    [theme=dark] .colab-df-convert {\n",
              "      background-color: #3B4455;\n",
              "      fill: #D2E3FC;\n",
              "    }\n",
              "\n",
              "    [theme=dark] .colab-df-convert:hover {\n",
              "      background-color: #434B5C;\n",
              "      box-shadow: 0px 1px 3px 1px rgba(0, 0, 0, 0.15);\n",
              "      filter: drop-shadow(0px 1px 2px rgba(0, 0, 0, 0.3));\n",
              "      fill: #FFFFFF;\n",
              "    }\n",
              "  </style>\n",
              "\n",
              "      <script>\n",
              "        const buttonEl =\n",
              "          document.querySelector('#df-e1b0ee3b-cf4d-4189-aacb-028f7225da09 button.colab-df-convert');\n",
              "        buttonEl.style.display =\n",
              "          google.colab.kernel.accessAllowed ? 'block' : 'none';\n",
              "\n",
              "        async function convertToInteractive(key) {\n",
              "          const element = document.querySelector('#df-e1b0ee3b-cf4d-4189-aacb-028f7225da09');\n",
              "          const dataTable =\n",
              "            await google.colab.kernel.invokeFunction('convertToInteractive',\n",
              "                                                     [key], {});\n",
              "          if (!dataTable) return;\n",
              "\n",
              "          const docLinkHtml = 'Like what you see? Visit the ' +\n",
              "            '<a target=\"_blank\" href=https://colab.research.google.com/notebooks/data_table.ipynb>data table notebook</a>'\n",
              "            + ' to learn more about interactive tables.';\n",
              "          element.innerHTML = '';\n",
              "          dataTable['output_type'] = 'display_data';\n",
              "          await google.colab.output.renderOutput(dataTable, element);\n",
              "          const docLink = document.createElement('div');\n",
              "          docLink.innerHTML = docLinkHtml;\n",
              "          element.appendChild(docLink);\n",
              "        }\n",
              "      </script>\n",
              "    </div>\n",
              "  </div>\n",
              "  "
            ]
          },
          "metadata": {},
          "execution_count": 152
        }
      ],
      "source": [
        "df.head()"
      ]
    },
    {
      "cell_type": "code",
      "execution_count": 153,
      "metadata": {
        "id": "QyNuvgOj9ODh",
        "colab": {
          "base_uri": "https://localhost:8080/"
        },
        "outputId": "2771c624-a12c-4b3d-a359-04b4352448aa"
      },
      "outputs": [
        {
          "output_type": "execute_result",
          "data": {
            "text/plain": [
              "array(['shopping', 'porn', 'religion', 'finance/other', 'redirector',\n",
              "       'automobile/cars', 'forum', 'gamble', 'news', 'recreation/sports',\n",
              "       'recreation/travel', 'hobby/games-online', 'models',\n",
              "       'education/schools', 'music', 'chat', 'hobby/pets',\n",
              "       'finance/moneylending', 'finance/insurance', 'finance/banking',\n",
              "       'radiotv', 'recreation/martialarts', 'spyware', 'drugs',\n",
              "       'politics', 'hobby/games-misc', 'automobile/bikes',\n",
              "       'science/chemistry', 'adv', 'webmail', 'downloads',\n",
              "       'searchengines', 'webradio', 'hospitals', 'government', 'warez',\n",
              "       'recreation/humor', 'hobby/cooking', 'recreation/restaurants',\n",
              "       'dating', 'dynamic', 'jobsearch', 'alcohol', 'recreation/wellness',\n",
              "       'finance/realestate', 'movies', 'military', 'weapons',\n",
              "       'automobile/planes', 'homestyle', 'library', 'fortunetelling',\n",
              "       'tracker', 'remotecontrol', 'sex/lingerie', 'violence',\n",
              "       'ringtones', 'isp', 'aggressive', 'automobile/boats',\n",
              "       'imagehosting', 'science/astronomy', 'hobby/gardening',\n",
              "       'urlshortener', 'finance/trading', 'hacking', 'socialnet',\n",
              "       'sex/education', 'webphone', 'costtraps', 'podcasts', 'anonvpn',\n",
              "       'webtv', 'updatesites'], dtype=object)"
            ]
          },
          "metadata": {},
          "execution_count": 153
        }
      ],
      "source": [
        "df['cat_name'].unique()"
      ]
    },
    {
      "cell_type": "code",
      "execution_count": 154,
      "metadata": {
        "id": "kzQCwPIuf1d0",
        "colab": {
          "base_uri": "https://localhost:8080/"
        },
        "outputId": "6c4d3758-7c3f-4735-db26-9d010bf774bc"
      },
      "outputs": [
        {
          "output_type": "execute_result",
          "data": {
            "text/plain": [
              "74"
            ]
          },
          "metadata": {},
          "execution_count": 154
        }
      ],
      "source": [
        "len(df['cat_name'].unique())"
      ]
    },
    {
      "cell_type": "code",
      "execution_count": 155,
      "metadata": {
        "id": "bFHbriSL9ng4",
        "colab": {
          "base_uri": "https://localhost:8080/",
          "height": 455
        },
        "outputId": "efe6c456-6e11-4c46-bac8-18d1ba7ef36b"
      },
      "outputs": [
        {
          "output_type": "execute_result",
          "data": {
            "text/plain": [
              "                  text  domain_names\n",
              "cat_name                            \n",
              "adv               2268          2268\n",
              "aggressive         103           103\n",
              "alcohol            358           358\n",
              "anonvpn             52            52\n",
              "automobile/bikes   345           345\n",
              "...                ...           ...\n",
              "weapons            167           167\n",
              "webmail            548           548\n",
              "webphone            24            24\n",
              "webradio           403           403\n",
              "webtv               61            61\n",
              "\n",
              "[74 rows x 2 columns]"
            ],
            "text/html": [
              "\n",
              "  <div id=\"df-98f8bb33-ab95-4df1-a31b-a6e2077302b5\">\n",
              "    <div class=\"colab-df-container\">\n",
              "      <div>\n",
              "<style scoped>\n",
              "    .dataframe tbody tr th:only-of-type {\n",
              "        vertical-align: middle;\n",
              "    }\n",
              "\n",
              "    .dataframe tbody tr th {\n",
              "        vertical-align: top;\n",
              "    }\n",
              "\n",
              "    .dataframe thead th {\n",
              "        text-align: right;\n",
              "    }\n",
              "</style>\n",
              "<table border=\"1\" class=\"dataframe\">\n",
              "  <thead>\n",
              "    <tr style=\"text-align: right;\">\n",
              "      <th></th>\n",
              "      <th>text</th>\n",
              "      <th>domain_names</th>\n",
              "    </tr>\n",
              "    <tr>\n",
              "      <th>cat_name</th>\n",
              "      <th></th>\n",
              "      <th></th>\n",
              "    </tr>\n",
              "  </thead>\n",
              "  <tbody>\n",
              "    <tr>\n",
              "      <th>adv</th>\n",
              "      <td>2268</td>\n",
              "      <td>2268</td>\n",
              "    </tr>\n",
              "    <tr>\n",
              "      <th>aggressive</th>\n",
              "      <td>103</td>\n",
              "      <td>103</td>\n",
              "    </tr>\n",
              "    <tr>\n",
              "      <th>alcohol</th>\n",
              "      <td>358</td>\n",
              "      <td>358</td>\n",
              "    </tr>\n",
              "    <tr>\n",
              "      <th>anonvpn</th>\n",
              "      <td>52</td>\n",
              "      <td>52</td>\n",
              "    </tr>\n",
              "    <tr>\n",
              "      <th>automobile/bikes</th>\n",
              "      <td>345</td>\n",
              "      <td>345</td>\n",
              "    </tr>\n",
              "    <tr>\n",
              "      <th>...</th>\n",
              "      <td>...</td>\n",
              "      <td>...</td>\n",
              "    </tr>\n",
              "    <tr>\n",
              "      <th>weapons</th>\n",
              "      <td>167</td>\n",
              "      <td>167</td>\n",
              "    </tr>\n",
              "    <tr>\n",
              "      <th>webmail</th>\n",
              "      <td>548</td>\n",
              "      <td>548</td>\n",
              "    </tr>\n",
              "    <tr>\n",
              "      <th>webphone</th>\n",
              "      <td>24</td>\n",
              "      <td>24</td>\n",
              "    </tr>\n",
              "    <tr>\n",
              "      <th>webradio</th>\n",
              "      <td>403</td>\n",
              "      <td>403</td>\n",
              "    </tr>\n",
              "    <tr>\n",
              "      <th>webtv</th>\n",
              "      <td>61</td>\n",
              "      <td>61</td>\n",
              "    </tr>\n",
              "  </tbody>\n",
              "</table>\n",
              "<p>74 rows × 2 columns</p>\n",
              "</div>\n",
              "      <button class=\"colab-df-convert\" onclick=\"convertToInteractive('df-98f8bb33-ab95-4df1-a31b-a6e2077302b5')\"\n",
              "              title=\"Convert this dataframe to an interactive table.\"\n",
              "              style=\"display:none;\">\n",
              "        \n",
              "  <svg xmlns=\"http://www.w3.org/2000/svg\" height=\"24px\"viewBox=\"0 0 24 24\"\n",
              "       width=\"24px\">\n",
              "    <path d=\"M0 0h24v24H0V0z\" fill=\"none\"/>\n",
              "    <path d=\"M18.56 5.44l.94 2.06.94-2.06 2.06-.94-2.06-.94-.94-2.06-.94 2.06-2.06.94zm-11 1L8.5 8.5l.94-2.06 2.06-.94-2.06-.94L8.5 2.5l-.94 2.06-2.06.94zm10 10l.94 2.06.94-2.06 2.06-.94-2.06-.94-.94-2.06-.94 2.06-2.06.94z\"/><path d=\"M17.41 7.96l-1.37-1.37c-.4-.4-.92-.59-1.43-.59-.52 0-1.04.2-1.43.59L10.3 9.45l-7.72 7.72c-.78.78-.78 2.05 0 2.83L4 21.41c.39.39.9.59 1.41.59.51 0 1.02-.2 1.41-.59l7.78-7.78 2.81-2.81c.8-.78.8-2.07 0-2.86zM5.41 20L4 18.59l7.72-7.72 1.47 1.35L5.41 20z\"/>\n",
              "  </svg>\n",
              "      </button>\n",
              "      \n",
              "  <style>\n",
              "    .colab-df-container {\n",
              "      display:flex;\n",
              "      flex-wrap:wrap;\n",
              "      gap: 12px;\n",
              "    }\n",
              "\n",
              "    .colab-df-convert {\n",
              "      background-color: #E8F0FE;\n",
              "      border: none;\n",
              "      border-radius: 50%;\n",
              "      cursor: pointer;\n",
              "      display: none;\n",
              "      fill: #1967D2;\n",
              "      height: 32px;\n",
              "      padding: 0 0 0 0;\n",
              "      width: 32px;\n",
              "    }\n",
              "\n",
              "    .colab-df-convert:hover {\n",
              "      background-color: #E2EBFA;\n",
              "      box-shadow: 0px 1px 2px rgba(60, 64, 67, 0.3), 0px 1px 3px 1px rgba(60, 64, 67, 0.15);\n",
              "      fill: #174EA6;\n",
              "    }\n",
              "\n",
              "    [theme=dark] .colab-df-convert {\n",
              "      background-color: #3B4455;\n",
              "      fill: #D2E3FC;\n",
              "    }\n",
              "\n",
              "    [theme=dark] .colab-df-convert:hover {\n",
              "      background-color: #434B5C;\n",
              "      box-shadow: 0px 1px 3px 1px rgba(0, 0, 0, 0.15);\n",
              "      filter: drop-shadow(0px 1px 2px rgba(0, 0, 0, 0.3));\n",
              "      fill: #FFFFFF;\n",
              "    }\n",
              "  </style>\n",
              "\n",
              "      <script>\n",
              "        const buttonEl =\n",
              "          document.querySelector('#df-98f8bb33-ab95-4df1-a31b-a6e2077302b5 button.colab-df-convert');\n",
              "        buttonEl.style.display =\n",
              "          google.colab.kernel.accessAllowed ? 'block' : 'none';\n",
              "\n",
              "        async function convertToInteractive(key) {\n",
              "          const element = document.querySelector('#df-98f8bb33-ab95-4df1-a31b-a6e2077302b5');\n",
              "          const dataTable =\n",
              "            await google.colab.kernel.invokeFunction('convertToInteractive',\n",
              "                                                     [key], {});\n",
              "          if (!dataTable) return;\n",
              "\n",
              "          const docLinkHtml = 'Like what you see? Visit the ' +\n",
              "            '<a target=\"_blank\" href=https://colab.research.google.com/notebooks/data_table.ipynb>data table notebook</a>'\n",
              "            + ' to learn more about interactive tables.';\n",
              "          element.innerHTML = '';\n",
              "          dataTable['output_type'] = 'display_data';\n",
              "          await google.colab.output.renderOutput(dataTable, element);\n",
              "          const docLink = document.createElement('div');\n",
              "          docLink.innerHTML = docLinkHtml;\n",
              "          element.appendChild(docLink);\n",
              "        }\n",
              "      </script>\n",
              "    </div>\n",
              "  </div>\n",
              "  "
            ]
          },
          "metadata": {},
          "execution_count": 155
        }
      ],
      "source": [
        "df.groupby('cat_name').count()"
      ]
    },
    {
      "cell_type": "code",
      "execution_count": 156,
      "metadata": {
        "id": "cRTrrrgihxu4"
      },
      "outputs": [],
      "source": [
        "df['category_codes'] = df.cat_name.astype('category').cat.codes"
      ]
    },
    {
      "cell_type": "code",
      "execution_count": 157,
      "metadata": {
        "id": "hgLVwoM3kYlC",
        "colab": {
          "base_uri": "https://localhost:8080/"
        },
        "outputId": "50a06b9c-5925-4bf6-9b89-7af52a012925"
      },
      "outputs": [
        {
          "output_type": "execute_result",
          "data": {
            "text/plain": [
              "Index(['adv', 'aggressive', 'alcohol', 'anonvpn', 'automobile/bikes',\n",
              "       'automobile/boats', 'automobile/cars', 'automobile/planes', 'chat',\n",
              "       'costtraps', 'dating', 'downloads', 'drugs', 'dynamic',\n",
              "       'education/schools', 'finance/banking', 'finance/insurance',\n",
              "       'finance/moneylending', 'finance/other', 'finance/realestate',\n",
              "       'finance/trading', 'fortunetelling', 'forum', 'gamble', 'government',\n",
              "       'hacking', 'hobby/cooking', 'hobby/games-misc', 'hobby/games-online',\n",
              "       'hobby/gardening', 'hobby/pets', 'homestyle', 'hospitals',\n",
              "       'imagehosting', 'isp', 'jobsearch', 'library', 'military', 'models',\n",
              "       'movies', 'music', 'news', 'podcasts', 'politics', 'porn', 'radiotv',\n",
              "       'recreation/humor', 'recreation/martialarts', 'recreation/restaurants',\n",
              "       'recreation/sports', 'recreation/travel', 'recreation/wellness',\n",
              "       'redirector', 'religion', 'remotecontrol', 'ringtones',\n",
              "       'science/astronomy', 'science/chemistry', 'searchengines',\n",
              "       'sex/education', 'sex/lingerie', 'shopping', 'socialnet', 'spyware',\n",
              "       'tracker', 'updatesites', 'urlshortener', 'violence', 'warez',\n",
              "       'weapons', 'webmail', 'webphone', 'webradio', 'webtv'],\n",
              "      dtype='object', name='cat_name')"
            ]
          },
          "metadata": {},
          "execution_count": 157
        }
      ],
      "source": [
        "df.groupby('cat_name').count().index"
      ]
    },
    {
      "cell_type": "code",
      "source": [
        "classes = df.groupby('cat_name').count().index"
      ],
      "metadata": {
        "id": "kRuw64ftTWKF"
      },
      "execution_count": 158,
      "outputs": []
    },
    {
      "cell_type": "code",
      "source": [
        "df.groupby('category_codes').count().index"
      ],
      "metadata": {
        "id": "St75KJhtM7XK",
        "colab": {
          "base_uri": "https://localhost:8080/"
        },
        "outputId": "a68d4e65-d57f-47a4-f8b4-cc28d707da41"
      },
      "execution_count": 159,
      "outputs": [
        {
          "output_type": "execute_result",
          "data": {
            "text/plain": [
              "Int64Index([ 0,  1,  2,  3,  4,  5,  6,  7,  8,  9, 10, 11, 12, 13, 14, 15, 16,\n",
              "            17, 18, 19, 20, 21, 22, 23, 24, 25, 26, 27, 28, 29, 30, 31, 32, 33,\n",
              "            34, 35, 36, 37, 38, 39, 40, 41, 42, 43, 44, 45, 46, 47, 48, 49, 50,\n",
              "            51, 52, 53, 54, 55, 56, 57, 58, 59, 60, 61, 62, 63, 64, 65, 66, 67,\n",
              "            68, 69, 70, 71, 72, 73],\n",
              "           dtype='int64', name='category_codes')"
            ]
          },
          "metadata": {},
          "execution_count": 159
        }
      ]
    },
    {
      "cell_type": "code",
      "source": [
        "df.loc[df['category_codes'] == 72]"
      ],
      "metadata": {
        "id": "Am7kt4XAUWqz",
        "colab": {
          "base_uri": "https://localhost:8080/",
          "height": 424
        },
        "outputId": "e5373867-be80-4a6d-85ec-4d0a4e9e95ad"
      },
      "execution_count": 160,
      "outputs": [
        {
          "output_type": "execute_result",
          "data": {
            "text/plain": [
              "                                                    text  \\\n",
              "79     radio available efficiency audio request somet...   \n",
              "140    radio spinning beach information home always l...   \n",
              "241    milky river feat post ra post new way book fre...   \n",
              "269    team audio beach sharp valley community la hom...   \n",
              "324    smooth radio province weather world format var...   \n",
              "...                                                  ...   \n",
              "67345  select twitter ghostly contact looking rolling...   \n",
              "67505  radio back brother music air shout always delt...   \n",
              "67712  radio ser de para news nova roll player kiss c...   \n",
              "68164  radio non radio station official right site we...   \n",
              "68414  wine audio els derby hosting air mora collecti...   \n",
              "\n",
              "                      domain_names  cat_name  category_codes  \n",
              "79                 wyep.streamguys  webradio              72  \n",
              "140                      wgmuradio  webradio              72  \n",
              "241                   radioclassic  webradio              72  \n",
              "269                       kfiam640  webradio              72  \n",
              "324                  radio-locator  webradio              72  \n",
              "...                            ...       ...             ...  \n",
              "67345                  ghostlytalk  webradio              72  \n",
              "67505  shoutbrothershout.homestead  webradio              72  \n",
              "67712                 webrockradio  webradio              72  \n",
              "68164              foxyradio.narod  webradio              72  \n",
              "68414         darkradio.mybravenet  webradio              72  \n",
              "\n",
              "[403 rows x 4 columns]"
            ],
            "text/html": [
              "\n",
              "  <div id=\"df-f2dbc66a-d8f3-4895-97a7-68d1dde37d7d\">\n",
              "    <div class=\"colab-df-container\">\n",
              "      <div>\n",
              "<style scoped>\n",
              "    .dataframe tbody tr th:only-of-type {\n",
              "        vertical-align: middle;\n",
              "    }\n",
              "\n",
              "    .dataframe tbody tr th {\n",
              "        vertical-align: top;\n",
              "    }\n",
              "\n",
              "    .dataframe thead th {\n",
              "        text-align: right;\n",
              "    }\n",
              "</style>\n",
              "<table border=\"1\" class=\"dataframe\">\n",
              "  <thead>\n",
              "    <tr style=\"text-align: right;\">\n",
              "      <th></th>\n",
              "      <th>text</th>\n",
              "      <th>domain_names</th>\n",
              "      <th>cat_name</th>\n",
              "      <th>category_codes</th>\n",
              "    </tr>\n",
              "  </thead>\n",
              "  <tbody>\n",
              "    <tr>\n",
              "      <th>79</th>\n",
              "      <td>radio available efficiency audio request somet...</td>\n",
              "      <td>wyep.streamguys</td>\n",
              "      <td>webradio</td>\n",
              "      <td>72</td>\n",
              "    </tr>\n",
              "    <tr>\n",
              "      <th>140</th>\n",
              "      <td>radio spinning beach information home always l...</td>\n",
              "      <td>wgmuradio</td>\n",
              "      <td>webradio</td>\n",
              "      <td>72</td>\n",
              "    </tr>\n",
              "    <tr>\n",
              "      <th>241</th>\n",
              "      <td>milky river feat post ra post new way book fre...</td>\n",
              "      <td>radioclassic</td>\n",
              "      <td>webradio</td>\n",
              "      <td>72</td>\n",
              "    </tr>\n",
              "    <tr>\n",
              "      <th>269</th>\n",
              "      <td>team audio beach sharp valley community la hom...</td>\n",
              "      <td>kfiam640</td>\n",
              "      <td>webradio</td>\n",
              "      <td>72</td>\n",
              "    </tr>\n",
              "    <tr>\n",
              "      <th>324</th>\n",
              "      <td>smooth radio province weather world format var...</td>\n",
              "      <td>radio-locator</td>\n",
              "      <td>webradio</td>\n",
              "      <td>72</td>\n",
              "    </tr>\n",
              "    <tr>\n",
              "      <th>...</th>\n",
              "      <td>...</td>\n",
              "      <td>...</td>\n",
              "      <td>...</td>\n",
              "      <td>...</td>\n",
              "    </tr>\n",
              "    <tr>\n",
              "      <th>67345</th>\n",
              "      <td>select twitter ghostly contact looking rolling...</td>\n",
              "      <td>ghostlytalk</td>\n",
              "      <td>webradio</td>\n",
              "      <td>72</td>\n",
              "    </tr>\n",
              "    <tr>\n",
              "      <th>67505</th>\n",
              "      <td>radio back brother music air shout always delt...</td>\n",
              "      <td>shoutbrothershout.homestead</td>\n",
              "      <td>webradio</td>\n",
              "      <td>72</td>\n",
              "    </tr>\n",
              "    <tr>\n",
              "      <th>67712</th>\n",
              "      <td>radio ser de para news nova roll player kiss c...</td>\n",
              "      <td>webrockradio</td>\n",
              "      <td>webradio</td>\n",
              "      <td>72</td>\n",
              "    </tr>\n",
              "    <tr>\n",
              "      <th>68164</th>\n",
              "      <td>radio non radio station official right site we...</td>\n",
              "      <td>foxyradio.narod</td>\n",
              "      <td>webradio</td>\n",
              "      <td>72</td>\n",
              "    </tr>\n",
              "    <tr>\n",
              "      <th>68414</th>\n",
              "      <td>wine audio els derby hosting air mora collecti...</td>\n",
              "      <td>darkradio.mybravenet</td>\n",
              "      <td>webradio</td>\n",
              "      <td>72</td>\n",
              "    </tr>\n",
              "  </tbody>\n",
              "</table>\n",
              "<p>403 rows × 4 columns</p>\n",
              "</div>\n",
              "      <button class=\"colab-df-convert\" onclick=\"convertToInteractive('df-f2dbc66a-d8f3-4895-97a7-68d1dde37d7d')\"\n",
              "              title=\"Convert this dataframe to an interactive table.\"\n",
              "              style=\"display:none;\">\n",
              "        \n",
              "  <svg xmlns=\"http://www.w3.org/2000/svg\" height=\"24px\"viewBox=\"0 0 24 24\"\n",
              "       width=\"24px\">\n",
              "    <path d=\"M0 0h24v24H0V0z\" fill=\"none\"/>\n",
              "    <path d=\"M18.56 5.44l.94 2.06.94-2.06 2.06-.94-2.06-.94-.94-2.06-.94 2.06-2.06.94zm-11 1L8.5 8.5l.94-2.06 2.06-.94-2.06-.94L8.5 2.5l-.94 2.06-2.06.94zm10 10l.94 2.06.94-2.06 2.06-.94-2.06-.94-.94-2.06-.94 2.06-2.06.94z\"/><path d=\"M17.41 7.96l-1.37-1.37c-.4-.4-.92-.59-1.43-.59-.52 0-1.04.2-1.43.59L10.3 9.45l-7.72 7.72c-.78.78-.78 2.05 0 2.83L4 21.41c.39.39.9.59 1.41.59.51 0 1.02-.2 1.41-.59l7.78-7.78 2.81-2.81c.8-.78.8-2.07 0-2.86zM5.41 20L4 18.59l7.72-7.72 1.47 1.35L5.41 20z\"/>\n",
              "  </svg>\n",
              "      </button>\n",
              "      \n",
              "  <style>\n",
              "    .colab-df-container {\n",
              "      display:flex;\n",
              "      flex-wrap:wrap;\n",
              "      gap: 12px;\n",
              "    }\n",
              "\n",
              "    .colab-df-convert {\n",
              "      background-color: #E8F0FE;\n",
              "      border: none;\n",
              "      border-radius: 50%;\n",
              "      cursor: pointer;\n",
              "      display: none;\n",
              "      fill: #1967D2;\n",
              "      height: 32px;\n",
              "      padding: 0 0 0 0;\n",
              "      width: 32px;\n",
              "    }\n",
              "\n",
              "    .colab-df-convert:hover {\n",
              "      background-color: #E2EBFA;\n",
              "      box-shadow: 0px 1px 2px rgba(60, 64, 67, 0.3), 0px 1px 3px 1px rgba(60, 64, 67, 0.15);\n",
              "      fill: #174EA6;\n",
              "    }\n",
              "\n",
              "    [theme=dark] .colab-df-convert {\n",
              "      background-color: #3B4455;\n",
              "      fill: #D2E3FC;\n",
              "    }\n",
              "\n",
              "    [theme=dark] .colab-df-convert:hover {\n",
              "      background-color: #434B5C;\n",
              "      box-shadow: 0px 1px 3px 1px rgba(0, 0, 0, 0.15);\n",
              "      filter: drop-shadow(0px 1px 2px rgba(0, 0, 0, 0.3));\n",
              "      fill: #FFFFFF;\n",
              "    }\n",
              "  </style>\n",
              "\n",
              "      <script>\n",
              "        const buttonEl =\n",
              "          document.querySelector('#df-f2dbc66a-d8f3-4895-97a7-68d1dde37d7d button.colab-df-convert');\n",
              "        buttonEl.style.display =\n",
              "          google.colab.kernel.accessAllowed ? 'block' : 'none';\n",
              "\n",
              "        async function convertToInteractive(key) {\n",
              "          const element = document.querySelector('#df-f2dbc66a-d8f3-4895-97a7-68d1dde37d7d');\n",
              "          const dataTable =\n",
              "            await google.colab.kernel.invokeFunction('convertToInteractive',\n",
              "                                                     [key], {});\n",
              "          if (!dataTable) return;\n",
              "\n",
              "          const docLinkHtml = 'Like what you see? Visit the ' +\n",
              "            '<a target=\"_blank\" href=https://colab.research.google.com/notebooks/data_table.ipynb>data table notebook</a>'\n",
              "            + ' to learn more about interactive tables.';\n",
              "          element.innerHTML = '';\n",
              "          dataTable['output_type'] = 'display_data';\n",
              "          await google.colab.output.renderOutput(dataTable, element);\n",
              "          const docLink = document.createElement('div');\n",
              "          docLink.innerHTML = docLinkHtml;\n",
              "          element.appendChild(docLink);\n",
              "        }\n",
              "      </script>\n",
              "    </div>\n",
              "  </div>\n",
              "  "
            ]
          },
          "metadata": {},
          "execution_count": 160
        }
      ]
    },
    {
      "cell_type": "code",
      "execution_count": 161,
      "metadata": {
        "id": "0RB76bLriCmD",
        "colab": {
          "base_uri": "https://localhost:8080/",
          "height": 206
        },
        "outputId": "5c56aa38-3f15-44ae-fb6e-01c3141363b6"
      },
      "outputs": [
        {
          "output_type": "execute_result",
          "data": {
            "text/plain": [
              "                                                text        domain_names  \\\n",
              "0  chocolate lucky total contact site oatmeal ass...              kizito   \n",
              "1  giving pair desk erect unable times already pr...   rule--34.blogspot   \n",
              "2  missional faith state us chapel mission campus...  agapeharvestchurch   \n",
              "3  choosing move speed request option become rece...     westernunion.co   \n",
              "4  number powered purchase contact canada domain ...            phpproxy   \n",
              "\n",
              "        cat_name  category_codes  \n",
              "0       shopping              61  \n",
              "1           porn              44  \n",
              "2       religion              53  \n",
              "3  finance/other              18  \n",
              "4     redirector              52  "
            ],
            "text/html": [
              "\n",
              "  <div id=\"df-1164b9ca-d4e7-4479-82e1-79e99b313f75\">\n",
              "    <div class=\"colab-df-container\">\n",
              "      <div>\n",
              "<style scoped>\n",
              "    .dataframe tbody tr th:only-of-type {\n",
              "        vertical-align: middle;\n",
              "    }\n",
              "\n",
              "    .dataframe tbody tr th {\n",
              "        vertical-align: top;\n",
              "    }\n",
              "\n",
              "    .dataframe thead th {\n",
              "        text-align: right;\n",
              "    }\n",
              "</style>\n",
              "<table border=\"1\" class=\"dataframe\">\n",
              "  <thead>\n",
              "    <tr style=\"text-align: right;\">\n",
              "      <th></th>\n",
              "      <th>text</th>\n",
              "      <th>domain_names</th>\n",
              "      <th>cat_name</th>\n",
              "      <th>category_codes</th>\n",
              "    </tr>\n",
              "  </thead>\n",
              "  <tbody>\n",
              "    <tr>\n",
              "      <th>0</th>\n",
              "      <td>chocolate lucky total contact site oatmeal ass...</td>\n",
              "      <td>kizito</td>\n",
              "      <td>shopping</td>\n",
              "      <td>61</td>\n",
              "    </tr>\n",
              "    <tr>\n",
              "      <th>1</th>\n",
              "      <td>giving pair desk erect unable times already pr...</td>\n",
              "      <td>rule--34.blogspot</td>\n",
              "      <td>porn</td>\n",
              "      <td>44</td>\n",
              "    </tr>\n",
              "    <tr>\n",
              "      <th>2</th>\n",
              "      <td>missional faith state us chapel mission campus...</td>\n",
              "      <td>agapeharvestchurch</td>\n",
              "      <td>religion</td>\n",
              "      <td>53</td>\n",
              "    </tr>\n",
              "    <tr>\n",
              "      <th>3</th>\n",
              "      <td>choosing move speed request option become rece...</td>\n",
              "      <td>westernunion.co</td>\n",
              "      <td>finance/other</td>\n",
              "      <td>18</td>\n",
              "    </tr>\n",
              "    <tr>\n",
              "      <th>4</th>\n",
              "      <td>number powered purchase contact canada domain ...</td>\n",
              "      <td>phpproxy</td>\n",
              "      <td>redirector</td>\n",
              "      <td>52</td>\n",
              "    </tr>\n",
              "  </tbody>\n",
              "</table>\n",
              "</div>\n",
              "      <button class=\"colab-df-convert\" onclick=\"convertToInteractive('df-1164b9ca-d4e7-4479-82e1-79e99b313f75')\"\n",
              "              title=\"Convert this dataframe to an interactive table.\"\n",
              "              style=\"display:none;\">\n",
              "        \n",
              "  <svg xmlns=\"http://www.w3.org/2000/svg\" height=\"24px\"viewBox=\"0 0 24 24\"\n",
              "       width=\"24px\">\n",
              "    <path d=\"M0 0h24v24H0V0z\" fill=\"none\"/>\n",
              "    <path d=\"M18.56 5.44l.94 2.06.94-2.06 2.06-.94-2.06-.94-.94-2.06-.94 2.06-2.06.94zm-11 1L8.5 8.5l.94-2.06 2.06-.94-2.06-.94L8.5 2.5l-.94 2.06-2.06.94zm10 10l.94 2.06.94-2.06 2.06-.94-2.06-.94-.94-2.06-.94 2.06-2.06.94z\"/><path d=\"M17.41 7.96l-1.37-1.37c-.4-.4-.92-.59-1.43-.59-.52 0-1.04.2-1.43.59L10.3 9.45l-7.72 7.72c-.78.78-.78 2.05 0 2.83L4 21.41c.39.39.9.59 1.41.59.51 0 1.02-.2 1.41-.59l7.78-7.78 2.81-2.81c.8-.78.8-2.07 0-2.86zM5.41 20L4 18.59l7.72-7.72 1.47 1.35L5.41 20z\"/>\n",
              "  </svg>\n",
              "      </button>\n",
              "      \n",
              "  <style>\n",
              "    .colab-df-container {\n",
              "      display:flex;\n",
              "      flex-wrap:wrap;\n",
              "      gap: 12px;\n",
              "    }\n",
              "\n",
              "    .colab-df-convert {\n",
              "      background-color: #E8F0FE;\n",
              "      border: none;\n",
              "      border-radius: 50%;\n",
              "      cursor: pointer;\n",
              "      display: none;\n",
              "      fill: #1967D2;\n",
              "      height: 32px;\n",
              "      padding: 0 0 0 0;\n",
              "      width: 32px;\n",
              "    }\n",
              "\n",
              "    .colab-df-convert:hover {\n",
              "      background-color: #E2EBFA;\n",
              "      box-shadow: 0px 1px 2px rgba(60, 64, 67, 0.3), 0px 1px 3px 1px rgba(60, 64, 67, 0.15);\n",
              "      fill: #174EA6;\n",
              "    }\n",
              "\n",
              "    [theme=dark] .colab-df-convert {\n",
              "      background-color: #3B4455;\n",
              "      fill: #D2E3FC;\n",
              "    }\n",
              "\n",
              "    [theme=dark] .colab-df-convert:hover {\n",
              "      background-color: #434B5C;\n",
              "      box-shadow: 0px 1px 3px 1px rgba(0, 0, 0, 0.15);\n",
              "      filter: drop-shadow(0px 1px 2px rgba(0, 0, 0, 0.3));\n",
              "      fill: #FFFFFF;\n",
              "    }\n",
              "  </style>\n",
              "\n",
              "      <script>\n",
              "        const buttonEl =\n",
              "          document.querySelector('#df-1164b9ca-d4e7-4479-82e1-79e99b313f75 button.colab-df-convert');\n",
              "        buttonEl.style.display =\n",
              "          google.colab.kernel.accessAllowed ? 'block' : 'none';\n",
              "\n",
              "        async function convertToInteractive(key) {\n",
              "          const element = document.querySelector('#df-1164b9ca-d4e7-4479-82e1-79e99b313f75');\n",
              "          const dataTable =\n",
              "            await google.colab.kernel.invokeFunction('convertToInteractive',\n",
              "                                                     [key], {});\n",
              "          if (!dataTable) return;\n",
              "\n",
              "          const docLinkHtml = 'Like what you see? Visit the ' +\n",
              "            '<a target=\"_blank\" href=https://colab.research.google.com/notebooks/data_table.ipynb>data table notebook</a>'\n",
              "            + ' to learn more about interactive tables.';\n",
              "          element.innerHTML = '';\n",
              "          dataTable['output_type'] = 'display_data';\n",
              "          await google.colab.output.renderOutput(dataTable, element);\n",
              "          const docLink = document.createElement('div');\n",
              "          docLink.innerHTML = docLinkHtml;\n",
              "          element.appendChild(docLink);\n",
              "        }\n",
              "      </script>\n",
              "    </div>\n",
              "  </div>\n",
              "  "
            ]
          },
          "metadata": {},
          "execution_count": 161
        }
      ],
      "source": [
        "df.head()"
      ]
    },
    {
      "cell_type": "code",
      "execution_count": 162,
      "metadata": {
        "id": "bKzl4wwrDHK0",
        "colab": {
          "base_uri": "https://localhost:8080/"
        },
        "outputId": "493a691b-70c5-4e4b-fd99-04757135f1e0"
      },
      "outputs": [
        {
          "output_type": "execute_result",
          "data": {
            "text/plain": [
              "0        kizito chocolate lucky total contact site oatm...\n",
              "1        rule--34.blogspot giving pair desk erect unabl...\n",
              "2        agapeharvestchurch missional faith state us ch...\n",
              "3        westernunion.co choosing move speed request op...\n",
              "4        phpproxy number powered purchase contact canad...\n",
              "                               ...                        \n",
              "68450    studenski die explorer opera browser seine da ...\n",
              "68451    clarkjoneskarate feature powered data password...\n",
              "68452    inflagranti-music die wir termine die die auto...\n",
              "68453    euribor hour fostering reliable available requ...\n",
              "68454    unsw.edu screening strategy giving become poli...\n",
              "Length: 68455, dtype: object"
            ]
          },
          "metadata": {},
          "execution_count": 162
        }
      ],
      "source": [
        "df['domain_names'] + ' ' + df['text'] "
      ]
    },
    {
      "cell_type": "code",
      "source": [
        "len_of_text = df['text'].str.split(\"\\\\s+\")"
      ],
      "metadata": {
        "id": "b2BPXMRxKxRp"
      },
      "execution_count": 163,
      "outputs": []
    },
    {
      "cell_type": "code",
      "source": [
        "len_of_text.str.len().max()"
      ],
      "metadata": {
        "colab": {
          "base_uri": "https://localhost:8080/"
        },
        "id": "whmStbjxX1O-",
        "outputId": "8fa6e6be-2791-4cdf-d611-2f1357f45d34"
      },
      "execution_count": 164,
      "outputs": [
        {
          "output_type": "execute_result",
          "data": {
            "text/plain": [
              "36248"
            ]
          },
          "metadata": {},
          "execution_count": 164
        }
      ]
    },
    {
      "cell_type": "code",
      "execution_count": 165,
      "metadata": {
        "id": "zk-WdFBpHrxP",
        "colab": {
          "base_uri": "https://localhost:8080/",
          "height": 424
        },
        "outputId": "97aa1b5c-e057-4a49-9a5d-70099e94cddc"
      },
      "outputs": [
        {
          "output_type": "execute_result",
          "data": {
            "text/plain": [
              "                                                    text       domain_names  \\\n",
              "11     radio test football community recently might c...            wxra945   \n",
              "37     radio vibration collaboration son music format...          radio.m24   \n",
              "46     instantly governor imagery leaves shortage fam...      ariannaonline   \n",
              "48     son de es para position la tu al el un primero...              rpctv   \n",
              "54     tappa test de magazine number quale tu last co...  giornaledellavela   \n",
              "...                                                  ...                ...   \n",
              "68352  corona die de frank dan van ons nu poll effect...   zwartewaterkrant   \n",
              "68358  ross radio purpose east family commercially ba...             ecr.co   \n",
              "68381  radio ser de es dan junto combustible save tu ...         canal7.com   \n",
              "68440  sa mu ani ale na henry dolina trump sa se roka...          noveslovo   \n",
              "68446  built least information visit member accessibl...     sassone.tripod   \n",
              "\n",
              "      cat_name  category_codes  \n",
              "11        news              41  \n",
              "37        news              41  \n",
              "46        news              41  \n",
              "48        news              41  \n",
              "54        news              41  \n",
              "...        ...             ...  \n",
              "68352     news              41  \n",
              "68358     news              41  \n",
              "68381     news              41  \n",
              "68440     news              41  \n",
              "68446     news              41  \n",
              "\n",
              "[5514 rows x 4 columns]"
            ],
            "text/html": [
              "\n",
              "  <div id=\"df-24175747-dabb-44a0-ab40-c599530318c8\">\n",
              "    <div class=\"colab-df-container\">\n",
              "      <div>\n",
              "<style scoped>\n",
              "    .dataframe tbody tr th:only-of-type {\n",
              "        vertical-align: middle;\n",
              "    }\n",
              "\n",
              "    .dataframe tbody tr th {\n",
              "        vertical-align: top;\n",
              "    }\n",
              "\n",
              "    .dataframe thead th {\n",
              "        text-align: right;\n",
              "    }\n",
              "</style>\n",
              "<table border=\"1\" class=\"dataframe\">\n",
              "  <thead>\n",
              "    <tr style=\"text-align: right;\">\n",
              "      <th></th>\n",
              "      <th>text</th>\n",
              "      <th>domain_names</th>\n",
              "      <th>cat_name</th>\n",
              "      <th>category_codes</th>\n",
              "    </tr>\n",
              "  </thead>\n",
              "  <tbody>\n",
              "    <tr>\n",
              "      <th>11</th>\n",
              "      <td>radio test football community recently might c...</td>\n",
              "      <td>wxra945</td>\n",
              "      <td>news</td>\n",
              "      <td>41</td>\n",
              "    </tr>\n",
              "    <tr>\n",
              "      <th>37</th>\n",
              "      <td>radio vibration collaboration son music format...</td>\n",
              "      <td>radio.m24</td>\n",
              "      <td>news</td>\n",
              "      <td>41</td>\n",
              "    </tr>\n",
              "    <tr>\n",
              "      <th>46</th>\n",
              "      <td>instantly governor imagery leaves shortage fam...</td>\n",
              "      <td>ariannaonline</td>\n",
              "      <td>news</td>\n",
              "      <td>41</td>\n",
              "    </tr>\n",
              "    <tr>\n",
              "      <th>48</th>\n",
              "      <td>son de es para position la tu al el un primero...</td>\n",
              "      <td>rpctv</td>\n",
              "      <td>news</td>\n",
              "      <td>41</td>\n",
              "    </tr>\n",
              "    <tr>\n",
              "      <th>54</th>\n",
              "      <td>tappa test de magazine number quale tu last co...</td>\n",
              "      <td>giornaledellavela</td>\n",
              "      <td>news</td>\n",
              "      <td>41</td>\n",
              "    </tr>\n",
              "    <tr>\n",
              "      <th>...</th>\n",
              "      <td>...</td>\n",
              "      <td>...</td>\n",
              "      <td>...</td>\n",
              "      <td>...</td>\n",
              "    </tr>\n",
              "    <tr>\n",
              "      <th>68352</th>\n",
              "      <td>corona die de frank dan van ons nu poll effect...</td>\n",
              "      <td>zwartewaterkrant</td>\n",
              "      <td>news</td>\n",
              "      <td>41</td>\n",
              "    </tr>\n",
              "    <tr>\n",
              "      <th>68358</th>\n",
              "      <td>ross radio purpose east family commercially ba...</td>\n",
              "      <td>ecr.co</td>\n",
              "      <td>news</td>\n",
              "      <td>41</td>\n",
              "    </tr>\n",
              "    <tr>\n",
              "      <th>68381</th>\n",
              "      <td>radio ser de es dan junto combustible save tu ...</td>\n",
              "      <td>canal7.com</td>\n",
              "      <td>news</td>\n",
              "      <td>41</td>\n",
              "    </tr>\n",
              "    <tr>\n",
              "      <th>68440</th>\n",
              "      <td>sa mu ani ale na henry dolina trump sa se roka...</td>\n",
              "      <td>noveslovo</td>\n",
              "      <td>news</td>\n",
              "      <td>41</td>\n",
              "    </tr>\n",
              "    <tr>\n",
              "      <th>68446</th>\n",
              "      <td>built least information visit member accessibl...</td>\n",
              "      <td>sassone.tripod</td>\n",
              "      <td>news</td>\n",
              "      <td>41</td>\n",
              "    </tr>\n",
              "  </tbody>\n",
              "</table>\n",
              "<p>5514 rows × 4 columns</p>\n",
              "</div>\n",
              "      <button class=\"colab-df-convert\" onclick=\"convertToInteractive('df-24175747-dabb-44a0-ab40-c599530318c8')\"\n",
              "              title=\"Convert this dataframe to an interactive table.\"\n",
              "              style=\"display:none;\">\n",
              "        \n",
              "  <svg xmlns=\"http://www.w3.org/2000/svg\" height=\"24px\"viewBox=\"0 0 24 24\"\n",
              "       width=\"24px\">\n",
              "    <path d=\"M0 0h24v24H0V0z\" fill=\"none\"/>\n",
              "    <path d=\"M18.56 5.44l.94 2.06.94-2.06 2.06-.94-2.06-.94-.94-2.06-.94 2.06-2.06.94zm-11 1L8.5 8.5l.94-2.06 2.06-.94-2.06-.94L8.5 2.5l-.94 2.06-2.06.94zm10 10l.94 2.06.94-2.06 2.06-.94-2.06-.94-.94-2.06-.94 2.06-2.06.94z\"/><path d=\"M17.41 7.96l-1.37-1.37c-.4-.4-.92-.59-1.43-.59-.52 0-1.04.2-1.43.59L10.3 9.45l-7.72 7.72c-.78.78-.78 2.05 0 2.83L4 21.41c.39.39.9.59 1.41.59.51 0 1.02-.2 1.41-.59l7.78-7.78 2.81-2.81c.8-.78.8-2.07 0-2.86zM5.41 20L4 18.59l7.72-7.72 1.47 1.35L5.41 20z\"/>\n",
              "  </svg>\n",
              "      </button>\n",
              "      \n",
              "  <style>\n",
              "    .colab-df-container {\n",
              "      display:flex;\n",
              "      flex-wrap:wrap;\n",
              "      gap: 12px;\n",
              "    }\n",
              "\n",
              "    .colab-df-convert {\n",
              "      background-color: #E8F0FE;\n",
              "      border: none;\n",
              "      border-radius: 50%;\n",
              "      cursor: pointer;\n",
              "      display: none;\n",
              "      fill: #1967D2;\n",
              "      height: 32px;\n",
              "      padding: 0 0 0 0;\n",
              "      width: 32px;\n",
              "    }\n",
              "\n",
              "    .colab-df-convert:hover {\n",
              "      background-color: #E2EBFA;\n",
              "      box-shadow: 0px 1px 2px rgba(60, 64, 67, 0.3), 0px 1px 3px 1px rgba(60, 64, 67, 0.15);\n",
              "      fill: #174EA6;\n",
              "    }\n",
              "\n",
              "    [theme=dark] .colab-df-convert {\n",
              "      background-color: #3B4455;\n",
              "      fill: #D2E3FC;\n",
              "    }\n",
              "\n",
              "    [theme=dark] .colab-df-convert:hover {\n",
              "      background-color: #434B5C;\n",
              "      box-shadow: 0px 1px 3px 1px rgba(0, 0, 0, 0.15);\n",
              "      filter: drop-shadow(0px 1px 2px rgba(0, 0, 0, 0.3));\n",
              "      fill: #FFFFFF;\n",
              "    }\n",
              "  </style>\n",
              "\n",
              "      <script>\n",
              "        const buttonEl =\n",
              "          document.querySelector('#df-24175747-dabb-44a0-ab40-c599530318c8 button.colab-df-convert');\n",
              "        buttonEl.style.display =\n",
              "          google.colab.kernel.accessAllowed ? 'block' : 'none';\n",
              "\n",
              "        async function convertToInteractive(key) {\n",
              "          const element = document.querySelector('#df-24175747-dabb-44a0-ab40-c599530318c8');\n",
              "          const dataTable =\n",
              "            await google.colab.kernel.invokeFunction('convertToInteractive',\n",
              "                                                     [key], {});\n",
              "          if (!dataTable) return;\n",
              "\n",
              "          const docLinkHtml = 'Like what you see? Visit the ' +\n",
              "            '<a target=\"_blank\" href=https://colab.research.google.com/notebooks/data_table.ipynb>data table notebook</a>'\n",
              "            + ' to learn more about interactive tables.';\n",
              "          element.innerHTML = '';\n",
              "          dataTable['output_type'] = 'display_data';\n",
              "          await google.colab.output.renderOutput(dataTable, element);\n",
              "          const docLink = document.createElement('div');\n",
              "          docLink.innerHTML = docLinkHtml;\n",
              "          element.appendChild(docLink);\n",
              "        }\n",
              "      </script>\n",
              "    </div>\n",
              "  </div>\n",
              "  "
            ]
          },
          "metadata": {},
          "execution_count": 165
        }
      ],
      "source": [
        "df.loc[df['cat_name'] == 'news']"
      ]
    },
    {
      "cell_type": "markdown",
      "metadata": {
        "id": "VqBTCPJqLhi4"
      },
      "source": [
        "# Split Data"
      ]
    },
    {
      "cell_type": "code",
      "execution_count": 166,
      "metadata": {
        "id": "3FGAY-nWIJOU"
      },
      "outputs": [],
      "source": [
        "X = (df['domain_names'] + ' ' + df['text']).values\n",
        "y = df['category_codes'].values"
      ]
    },
    {
      "cell_type": "code",
      "execution_count": 167,
      "metadata": {
        "id": "EXaMwNI_fLY9"
      },
      "outputs": [],
      "source": [
        "X_train, X_rem, y_train, y_rem = train_test_split(X, y, test_size=0.3, random_state=42, shuffle=True)"
      ]
    },
    {
      "cell_type": "code",
      "execution_count": 168,
      "metadata": {
        "colab": {
          "base_uri": "https://localhost:8080/"
        },
        "id": "liK0NkVFfami",
        "outputId": "7679d4bd-ed88-4a37-8ca7-afbfbd6c3671"
      },
      "outputs": [
        {
          "output_type": "execute_result",
          "data": {
            "text/plain": [
              "47918"
            ]
          },
          "metadata": {},
          "execution_count": 168
        }
      ],
      "source": [
        "X_train.size"
      ]
    },
    {
      "cell_type": "code",
      "execution_count": 169,
      "metadata": {
        "id": "bCFCtxzFnB69",
        "colab": {
          "base_uri": "https://localhost:8080/"
        },
        "outputId": "70683038-d447-45cd-cb7a-388be0101e44"
      },
      "outputs": [
        {
          "output_type": "execute_result",
          "data": {
            "text/plain": [
              "(array([ 0,  1,  2,  3,  4,  5,  6,  7,  8,  9, 10, 11, 12, 13, 14, 15, 16,\n",
              "        17, 18, 19, 20, 21, 22, 23, 24, 25, 26, 27, 28, 29, 30, 31, 32, 33,\n",
              "        34, 35, 36, 37, 38, 39, 40, 41, 42, 43, 44, 45, 46, 47, 48, 49, 50,\n",
              "        51, 52, 53, 54, 55, 56, 57, 58, 59, 60, 61, 62, 63, 64, 65, 66, 67,\n",
              "        68, 69, 70, 71, 72, 73], dtype=int8),\n",
              " array([1620,   76,  247,   35,  241,   79,  831,  191, 2575,   39,  572,\n",
              "         633,  870,  263, 2631, 1580,  719,  414,  178,  431,   86,  247,\n",
              "        1709, 1503,  180,  101,  213,  531, 2095,  277, 1936,   70,  563,\n",
              "         124,  226, 1065,   57,   50,  409, 1239, 1639, 3869,   26,  497,\n",
              "        2142, 1125,  230,  546,  416, 2501, 2327,  149,  312, 1440,   12,\n",
              "          69,  291,   57,  136,   39,  160, 1100,  129,  422,  216,   35,\n",
              "          94,   24,  150,  125,  386,   21,  278,   49]))"
            ]
          },
          "metadata": {},
          "execution_count": 169
        }
      ],
      "source": [
        "np.unique(y_train, return_counts=True)"
      ]
    },
    {
      "cell_type": "code",
      "execution_count": 170,
      "metadata": {
        "id": "DO54iaV1ffVr",
        "colab": {
          "base_uri": "https://localhost:8080/"
        },
        "outputId": "e1dd5a98-2497-4b57-be87-cfcc27d4f8f3"
      },
      "outputs": [
        {
          "output_type": "execute_result",
          "data": {
            "text/plain": [
              "20537"
            ]
          },
          "metadata": {},
          "execution_count": 170
        }
      ],
      "source": [
        "X_rem.size"
      ]
    },
    {
      "cell_type": "code",
      "execution_count": 171,
      "metadata": {
        "colab": {
          "base_uri": "https://localhost:8080/"
        },
        "id": "JxefFkqSnTPq",
        "outputId": "86d6108c-d968-47a3-c630-4ba639aa5d82"
      },
      "outputs": [
        {
          "output_type": "execute_result",
          "data": {
            "text/plain": [
              "(array([ 0,  1,  2,  3,  4,  5,  6,  7,  8,  9, 10, 11, 12, 13, 14, 15, 16,\n",
              "        17, 18, 19, 20, 21, 22, 23, 24, 25, 26, 27, 28, 29, 30, 31, 32, 33,\n",
              "        34, 35, 36, 37, 38, 39, 40, 41, 42, 43, 44, 45, 46, 47, 48, 49, 50,\n",
              "        51, 52, 53, 54, 55, 56, 57, 58, 59, 60, 61, 62, 63, 64, 65, 66, 67,\n",
              "        68, 69, 70, 71, 72, 73], dtype=int8),\n",
              " array([ 648,   27,  111,   17,  104,   46,  289,   83, 1103,   22,  241,\n",
              "         246,  405,  106, 1089,  750,  293,  196,   73,  207,   42,  120,\n",
              "         745,  629,   87,   51,  100,  258,  905,  114,  853,   28,  247,\n",
              "          61,  103,  437,   26,   20,  165,  536,  679, 1645,   13,  219,\n",
              "         952,  448,   97,  220,  169, 1094, 1003,   61,  148,  634,    6,\n",
              "          37,  146,   26,   55,   19,   62,  446,   49,  166,   87,   20,\n",
              "          45,   10,   54,   42,  162,    3,  125,   12]))"
            ]
          },
          "metadata": {},
          "execution_count": 171
        }
      ],
      "source": [
        "np.unique(y_rem, return_counts=True)"
      ]
    },
    {
      "cell_type": "code",
      "execution_count": 172,
      "metadata": {
        "id": "lVtrJoJPfgp6"
      },
      "outputs": [],
      "source": [
        "X_val, X_test, y_val, y_test = train_test_split(X_rem, y_rem, test_size=0.5)"
      ]
    },
    {
      "cell_type": "code",
      "execution_count": 173,
      "metadata": {
        "id": "wO_mgdWHfjz2",
        "colab": {
          "base_uri": "https://localhost:8080/"
        },
        "outputId": "03501c6f-3f5f-49bd-8b32-05cab0307943"
      },
      "outputs": [
        {
          "output_type": "execute_result",
          "data": {
            "text/plain": [
              "10268"
            ]
          },
          "metadata": {},
          "execution_count": 173
        }
      ],
      "source": [
        "X_val.size"
      ]
    },
    {
      "cell_type": "code",
      "execution_count": 174,
      "metadata": {
        "id": "NDQa1kjLnaI2",
        "colab": {
          "base_uri": "https://localhost:8080/"
        },
        "outputId": "801ac536-94b3-4039-a5fe-004bafa16f59"
      },
      "outputs": [
        {
          "output_type": "execute_result",
          "data": {
            "text/plain": [
              "(array([ 0,  1,  2,  3,  4,  5,  6,  7,  8,  9, 10, 11, 12, 13, 14, 15, 16,\n",
              "        17, 18, 19, 20, 21, 22, 23, 24, 25, 26, 27, 28, 29, 30, 31, 32, 33,\n",
              "        34, 35, 36, 37, 38, 39, 40, 41, 42, 43, 44, 45, 46, 47, 48, 49, 50,\n",
              "        51, 52, 53, 54, 55, 56, 57, 58, 59, 60, 61, 62, 63, 64, 65, 66, 67,\n",
              "        68, 69, 70, 71, 72, 73], dtype=int8),\n",
              " array([327,  10,  50,   9,  55,  29, 139,  41, 556,   8, 130, 118, 188,\n",
              "         50, 550, 384, 141, 112,  41, 107,  20,  49, 385, 327,  39,  22,\n",
              "         48, 133, 444,  59, 407,  12, 133,  26,  42, 210,  14,   7,  77,\n",
              "        273, 349, 814,   6, 114, 468, 220,  37, 112,  85, 570, 523,  27,\n",
              "         74, 314,   3,  15,  68,  14,  28,   7,  30, 235,  21,  88,  41,\n",
              "          8,  24,   4,  27,  25,  75,   3,  61,   6]))"
            ]
          },
          "metadata": {},
          "execution_count": 174
        }
      ],
      "source": [
        "np.unique(y_val, return_counts=True)"
      ]
    },
    {
      "cell_type": "code",
      "execution_count": 175,
      "metadata": {
        "colab": {
          "base_uri": "https://localhost:8080/"
        },
        "id": "sSqmj4AnfmFT",
        "outputId": "5d30773a-ee9d-4434-ff13-12fa2019d319"
      },
      "outputs": [
        {
          "output_type": "execute_result",
          "data": {
            "text/plain": [
              "10269"
            ]
          },
          "metadata": {},
          "execution_count": 175
        }
      ],
      "source": [
        "X_test.size"
      ]
    },
    {
      "cell_type": "code",
      "execution_count": 176,
      "metadata": {
        "id": "qVc_YQyFnxnT",
        "colab": {
          "base_uri": "https://localhost:8080/"
        },
        "outputId": "e80ce605-3467-45dd-cc6e-ecfb7ba8b5eb"
      },
      "outputs": [
        {
          "output_type": "execute_result",
          "data": {
            "text/plain": [
              "(array([ 0,  1,  2,  3,  4,  5,  6,  7,  8,  9, 10, 11, 12, 13, 14, 15, 16,\n",
              "        17, 18, 19, 20, 21, 22, 23, 24, 25, 26, 27, 28, 29, 30, 31, 32, 33,\n",
              "        34, 35, 36, 37, 38, 39, 40, 41, 42, 43, 44, 45, 46, 47, 48, 49, 50,\n",
              "        51, 52, 53, 54, 55, 56, 57, 58, 59, 60, 61, 62, 63, 64, 65, 66, 67,\n",
              "        68, 69, 70, 72, 73], dtype=int8),\n",
              " array([321,  17,  61,   8,  49,  17, 150,  42, 547,  14, 111, 128, 217,\n",
              "         56, 539, 366, 152,  84,  32, 100,  22,  71, 360, 302,  48,  29,\n",
              "         52, 125, 461,  55, 446,  16, 114,  35,  61, 227,  12,  13,  88,\n",
              "        263, 330, 831,   7, 105, 484, 228,  60, 108,  84, 524, 480,  34,\n",
              "         74, 320,   3,  22,  78,  12,  27,  12,  32, 211,  28,  78,  46,\n",
              "         12,  21,   6,  27,  17,  87,  64,   6]))"
            ]
          },
          "metadata": {},
          "execution_count": 176
        }
      ],
      "source": [
        "np.unique(y_test, return_counts=True)"
      ]
    },
    {
      "cell_type": "code",
      "execution_count": 177,
      "metadata": {
        "id": "sgpypwmbimVV",
        "colab": {
          "base_uri": "https://localhost:8080/",
          "height": 140
        },
        "outputId": "f5effc25-8bca-4926-d528-e90dd52ad8a5"
      },
      "outputs": [
        {
          "output_type": "execute_result",
          "data": {
            "text/plain": [
              "'seymour.sa.edu centenary privacy request equestrian first gym always culture meeting influence form college giving officer booking print community navigation provider flourish based national phone prospectus conveniently environment make boarding tour future people content uniting emotional benefit strength home overseas safety contact senior education intelligence book give winter campus facsimile find best early personal college complete vision learning doubt fee physics association phone justice spacious code day global compliance technology baccalaureate road unique page skip school vacation formerly junior us one tour read schedule middle learning college allow optimism fee disclaimer confident donation exeat drama plan advisor focus church glen donate teacher support form term worth registration needs risk leadership program care donate international develop shop request day old dance thrive boarding culture south leading engagement sports achievement'"
            ],
            "application/vnd.google.colaboratory.intrinsic+json": {
              "type": "string"
            }
          },
          "metadata": {},
          "execution_count": 177
        }
      ],
      "source": [
        "X_train[10000]"
      ]
    },
    {
      "cell_type": "code",
      "execution_count": 178,
      "metadata": {
        "id": "j4F4Z2OgfonN",
        "colab": {
          "base_uri": "https://localhost:8080/"
        },
        "outputId": "13a95c75-b6db-48fa-9b2c-0dbb44cd6468"
      },
      "outputs": [
        {
          "output_type": "execute_result",
          "data": {
            "text/plain": [
              "14"
            ]
          },
          "metadata": {},
          "execution_count": 178
        }
      ],
      "source": [
        "y_train[10000]"
      ]
    },
    {
      "cell_type": "code",
      "source": [
        "df[df['domain_names'].str.contains('bmwparklane')]"
      ],
      "metadata": {
        "id": "0JiQ9ZzqLJhQ",
        "colab": {
          "base_uri": "https://localhost:8080/",
          "height": 81
        },
        "outputId": "c0bd4956-a424-41f1-bfc5-979d918d965a"
      },
      "execution_count": 179,
      "outputs": [
        {
          "output_type": "execute_result",
          "data": {
            "text/plain": [
              "                                                    text domain_names  \\\n",
              "41464  service finding used promotion running thanks ...  bmwparklane   \n",
              "\n",
              "              cat_name  category_codes  \n",
              "41464  automobile/cars               6  "
            ],
            "text/html": [
              "\n",
              "  <div id=\"df-d7987def-f07f-4380-930c-d36062ff0595\">\n",
              "    <div class=\"colab-df-container\">\n",
              "      <div>\n",
              "<style scoped>\n",
              "    .dataframe tbody tr th:only-of-type {\n",
              "        vertical-align: middle;\n",
              "    }\n",
              "\n",
              "    .dataframe tbody tr th {\n",
              "        vertical-align: top;\n",
              "    }\n",
              "\n",
              "    .dataframe thead th {\n",
              "        text-align: right;\n",
              "    }\n",
              "</style>\n",
              "<table border=\"1\" class=\"dataframe\">\n",
              "  <thead>\n",
              "    <tr style=\"text-align: right;\">\n",
              "      <th></th>\n",
              "      <th>text</th>\n",
              "      <th>domain_names</th>\n",
              "      <th>cat_name</th>\n",
              "      <th>category_codes</th>\n",
              "    </tr>\n",
              "  </thead>\n",
              "  <tbody>\n",
              "    <tr>\n",
              "      <th>41464</th>\n",
              "      <td>service finding used promotion running thanks ...</td>\n",
              "      <td>bmwparklane</td>\n",
              "      <td>automobile/cars</td>\n",
              "      <td>6</td>\n",
              "    </tr>\n",
              "  </tbody>\n",
              "</table>\n",
              "</div>\n",
              "      <button class=\"colab-df-convert\" onclick=\"convertToInteractive('df-d7987def-f07f-4380-930c-d36062ff0595')\"\n",
              "              title=\"Convert this dataframe to an interactive table.\"\n",
              "              style=\"display:none;\">\n",
              "        \n",
              "  <svg xmlns=\"http://www.w3.org/2000/svg\" height=\"24px\"viewBox=\"0 0 24 24\"\n",
              "       width=\"24px\">\n",
              "    <path d=\"M0 0h24v24H0V0z\" fill=\"none\"/>\n",
              "    <path d=\"M18.56 5.44l.94 2.06.94-2.06 2.06-.94-2.06-.94-.94-2.06-.94 2.06-2.06.94zm-11 1L8.5 8.5l.94-2.06 2.06-.94-2.06-.94L8.5 2.5l-.94 2.06-2.06.94zm10 10l.94 2.06.94-2.06 2.06-.94-2.06-.94-.94-2.06-.94 2.06-2.06.94z\"/><path d=\"M17.41 7.96l-1.37-1.37c-.4-.4-.92-.59-1.43-.59-.52 0-1.04.2-1.43.59L10.3 9.45l-7.72 7.72c-.78.78-.78 2.05 0 2.83L4 21.41c.39.39.9.59 1.41.59.51 0 1.02-.2 1.41-.59l7.78-7.78 2.81-2.81c.8-.78.8-2.07 0-2.86zM5.41 20L4 18.59l7.72-7.72 1.47 1.35L5.41 20z\"/>\n",
              "  </svg>\n",
              "      </button>\n",
              "      \n",
              "  <style>\n",
              "    .colab-df-container {\n",
              "      display:flex;\n",
              "      flex-wrap:wrap;\n",
              "      gap: 12px;\n",
              "    }\n",
              "\n",
              "    .colab-df-convert {\n",
              "      background-color: #E8F0FE;\n",
              "      border: none;\n",
              "      border-radius: 50%;\n",
              "      cursor: pointer;\n",
              "      display: none;\n",
              "      fill: #1967D2;\n",
              "      height: 32px;\n",
              "      padding: 0 0 0 0;\n",
              "      width: 32px;\n",
              "    }\n",
              "\n",
              "    .colab-df-convert:hover {\n",
              "      background-color: #E2EBFA;\n",
              "      box-shadow: 0px 1px 2px rgba(60, 64, 67, 0.3), 0px 1px 3px 1px rgba(60, 64, 67, 0.15);\n",
              "      fill: #174EA6;\n",
              "    }\n",
              "\n",
              "    [theme=dark] .colab-df-convert {\n",
              "      background-color: #3B4455;\n",
              "      fill: #D2E3FC;\n",
              "    }\n",
              "\n",
              "    [theme=dark] .colab-df-convert:hover {\n",
              "      background-color: #434B5C;\n",
              "      box-shadow: 0px 1px 3px 1px rgba(0, 0, 0, 0.15);\n",
              "      filter: drop-shadow(0px 1px 2px rgba(0, 0, 0, 0.3));\n",
              "      fill: #FFFFFF;\n",
              "    }\n",
              "  </style>\n",
              "\n",
              "      <script>\n",
              "        const buttonEl =\n",
              "          document.querySelector('#df-d7987def-f07f-4380-930c-d36062ff0595 button.colab-df-convert');\n",
              "        buttonEl.style.display =\n",
              "          google.colab.kernel.accessAllowed ? 'block' : 'none';\n",
              "\n",
              "        async function convertToInteractive(key) {\n",
              "          const element = document.querySelector('#df-d7987def-f07f-4380-930c-d36062ff0595');\n",
              "          const dataTable =\n",
              "            await google.colab.kernel.invokeFunction('convertToInteractive',\n",
              "                                                     [key], {});\n",
              "          if (!dataTable) return;\n",
              "\n",
              "          const docLinkHtml = 'Like what you see? Visit the ' +\n",
              "            '<a target=\"_blank\" href=https://colab.research.google.com/notebooks/data_table.ipynb>data table notebook</a>'\n",
              "            + ' to learn more about interactive tables.';\n",
              "          element.innerHTML = '';\n",
              "          dataTable['output_type'] = 'display_data';\n",
              "          await google.colab.output.renderOutput(dataTable, element);\n",
              "          const docLink = document.createElement('div');\n",
              "          docLink.innerHTML = docLinkHtml;\n",
              "          element.appendChild(docLink);\n",
              "        }\n",
              "      </script>\n",
              "    </div>\n",
              "  </div>\n",
              "  "
            ]
          },
          "metadata": {},
          "execution_count": 179
        }
      ]
    },
    {
      "cell_type": "code",
      "execution_count": 180,
      "metadata": {
        "id": "86rTnR99foJH"
      },
      "outputs": [],
      "source": [
        "y_train = to_categorical(y_train, len(df['category_codes'].unique()))\n",
        "y_val = to_categorical(y_val, len(df['category_codes'].unique()))\n",
        "y_test = to_categorical(y_test, len(df['category_codes'].unique()))"
      ]
    },
    {
      "cell_type": "code",
      "execution_count": 181,
      "metadata": {
        "id": "oLa7mRLPowiA",
        "colab": {
          "base_uri": "https://localhost:8080/"
        },
        "outputId": "2261d96e-5c46-483f-ddc2-b301c0911be1"
      },
      "outputs": [
        {
          "output_type": "execute_result",
          "data": {
            "text/plain": [
              "array([0., 0., 0., 0., 0., 0., 0., 0., 0., 0., 0., 0., 0., 0., 1., 0., 0.,\n",
              "       0., 0., 0., 0., 0., 0., 0., 0., 0., 0., 0., 0., 0., 0., 0., 0., 0.,\n",
              "       0., 0., 0., 0., 0., 0., 0., 0., 0., 0., 0., 0., 0., 0., 0., 0., 0.,\n",
              "       0., 0., 0., 0., 0., 0., 0., 0., 0., 0., 0., 0., 0., 0., 0., 0., 0.,\n",
              "       0., 0., 0., 0., 0., 0.], dtype=float32)"
            ]
          },
          "metadata": {},
          "execution_count": 181
        }
      ],
      "source": [
        "y_train[10000]"
      ]
    },
    {
      "cell_type": "markdown",
      "metadata": {
        "id": "EBYwzaeipDII"
      },
      "source": [
        "# Creating Dataset"
      ]
    },
    {
      "cell_type": "code",
      "execution_count": 182,
      "metadata": {
        "id": "oY8MczDMo2RH"
      },
      "outputs": [],
      "source": [
        "BATCH_SIZE = 64\n",
        "BUFFER_SIZE = 600000"
      ]
    },
    {
      "cell_type": "code",
      "execution_count": 183,
      "metadata": {
        "id": "GAVNgehHpQQs"
      },
      "outputs": [],
      "source": [
        "train_dataset = tf.data.Dataset.from_tensor_slices((X_train, y_train))\n",
        "train_dataset = train_dataset.shuffle(BUFFER_SIZE).batch(BATCH_SIZE)\n",
        "\n",
        "val_dataset = tf.data.Dataset.from_tensor_slices((X_val, y_val))\n",
        "val_dataset = val_dataset.batch(BATCH_SIZE)\n",
        "\n",
        "test_dataset = tf.data.Dataset.from_tensor_slices((X_test, y_test))\n",
        "test_dataset = test_dataset.batch(BATCH_SIZE)"
      ]
    },
    {
      "cell_type": "code",
      "execution_count": 184,
      "metadata": {
        "colab": {
          "base_uri": "https://localhost:8080/"
        },
        "id": "6lS7Ews4pSmf",
        "outputId": "abc9e568-3ebf-4d5a-d6bd-f11e7db1945f"
      },
      "outputs": [
        {
          "output_type": "stream",
          "name": "stdout",
          "text": [
            "Name tf.Tensor(b'ashtavinayaktemples beach pilgrimage weekend amidst visit bunder spot pay station lord demon naming covered portal four seen still cave point road floor baga guna enterprise district sides divine complex pali book place done fighting neck pilgrimage success jewel temple said district back bounty various homage condition rejuvenation sage southward jewel marble us eight travel major prevent reside fall giver distance lord wife honeymoon mercy situated put going penance origin shop conference city show beget tour form tour eight contact mosque spiritual assist twitter adventure tour precious photo plaza feeling greedy interest plea state leisure holiday idol tour god comparatively however sun supposed premium got area temple village help nirvana phone one read personally directly idol holy know hill go', shape=(), dtype=string)\n",
            "Label tf.Tensor(\n",
            "[0. 0. 0. 0. 0. 0. 0. 0. 0. 0. 0. 0. 0. 0. 0. 0. 0. 0. 0. 0. 0. 0. 0. 0.\n",
            " 0. 0. 0. 0. 0. 0. 0. 0. 0. 0. 0. 0. 0. 0. 0. 0. 0. 0. 0. 0. 0. 0. 0. 0.\n",
            " 0. 0. 0. 0. 0. 1. 0. 0. 0. 0. 0. 0. 0. 0. 0. 0. 0. 0. 0. 0. 0. 0. 0. 0.\n",
            " 0. 0.], shape=(74,), dtype=float32)\n"
          ]
        }
      ],
      "source": [
        "text_batch, label_batch = next(iter(train_dataset))\n",
        "site_name, first_label = text_batch[0], label_batch[0]\n",
        "print(\"Name\", site_name)\n",
        "print(\"Label\", first_label)"
      ]
    },
    {
      "cell_type": "markdown",
      "metadata": {
        "id": "TQgvFe5RpyCb"
      },
      "source": [
        "# Vectorization"
      ]
    },
    {
      "cell_type": "code",
      "execution_count": 185,
      "metadata": {
        "id": "KgJH_EOXpicC"
      },
      "outputs": [],
      "source": [
        "max_features = 62000\n",
        "sequence_length = 5000\n",
        "\n",
        "vectorize_layer = tf.keras.layers.TextVectorization(\n",
        "    max_tokens=max_features,\n",
        "    output_mode='int',\n",
        "    output_sequence_length=sequence_length)"
      ]
    },
    {
      "cell_type": "code",
      "execution_count": 186,
      "metadata": {
        "id": "SyqUpEcLp3l6"
      },
      "outputs": [],
      "source": [
        "# Make a text-only dataset (without labels), then call adapt\n",
        "train_text = train_dataset.map(lambda x, y: x)\n",
        "vectorize_layer.adapt(train_text)"
      ]
    },
    {
      "cell_type": "code",
      "execution_count": 187,
      "metadata": {
        "id": "NjhNiD-lp59L"
      },
      "outputs": [],
      "source": [
        "def vectorize_text(text, label):\n",
        "  text = tf.expand_dims(text, -1)\n",
        "  return vectorize_layer(text), label"
      ]
    },
    {
      "cell_type": "code",
      "execution_count": 188,
      "metadata": {
        "colab": {
          "base_uri": "https://localhost:8080/"
        },
        "id": "zIlxukuzqAxb",
        "outputId": "49ba5648-c332-41b7-c375-7c48eac1ea93"
      },
      "outputs": [
        {
          "output_type": "stream",
          "name": "stdout",
          "text": [
            "Vectorized data (<tf.Tensor: shape=(1, 5000), dtype=int64, numpy=array([[    1,   681, 10218, ...,     0,     0,     0]])>, <tf.Tensor: shape=(74,), dtype=float32, numpy=\n",
            "array([0., 0., 0., 0., 0., 0., 0., 0., 0., 0., 0., 0., 0., 0., 0., 0., 0.,\n",
            "       0., 0., 0., 0., 0., 0., 0., 0., 0., 0., 0., 0., 0., 0., 0., 0., 0.,\n",
            "       0., 0., 0., 0., 0., 0., 0., 0., 0., 0., 0., 0., 0., 0., 0., 0., 0.,\n",
            "       0., 0., 1., 0., 0., 0., 0., 0., 0., 0., 0., 0., 0., 0., 0., 0., 0.,\n",
            "       0., 0., 0., 0., 0., 0.], dtype=float32)>)\n"
          ]
        }
      ],
      "source": [
        "print(\"Vectorized data\", vectorize_text(site_name, first_label))"
      ]
    },
    {
      "cell_type": "code",
      "execution_count": 189,
      "metadata": {
        "colab": {
          "base_uri": "https://localhost:8080/"
        },
        "id": "DyBso3wLqFcs",
        "outputId": "3cd357d2-d214-4297-9908-3a80ce2963e0"
      },
      "outputs": [
        {
          "output_type": "stream",
          "name": "stdout",
          "text": [
            "1000 --->  six\n",
            "Vocabulary size: 62000\n"
          ]
        }
      ],
      "source": [
        "print(\"1000 ---> \",vectorize_layer.get_vocabulary()[1000])\n",
        "print('Vocabulary size: {}'.format(len(vectorize_layer.get_vocabulary())))"
      ]
    },
    {
      "cell_type": "code",
      "execution_count": 190,
      "metadata": {
        "id": "yakBvEqrqzH0"
      },
      "outputs": [],
      "source": [
        "train_ds = train_dataset.map(vectorize_text)\n",
        "val_ds = val_dataset.map(vectorize_text)\n",
        "test_ds = test_dataset.map(vectorize_text)"
      ]
    },
    {
      "cell_type": "code",
      "execution_count": 191,
      "metadata": {
        "id": "n86acSL9q7Wg"
      },
      "outputs": [],
      "source": [
        "# For performance\n",
        "AUTOTUNE = tf.data.AUTOTUNE\n",
        "\n",
        "train_ds = train_ds.cache().prefetch(buffer_size=AUTOTUNE)\n",
        "val_ds = val_ds.cache().prefetch(buffer_size=AUTOTUNE)\n",
        "test_ds = test_ds.cache().prefetch(buffer_size=AUTOTUNE)"
      ]
    },
    {
      "cell_type": "markdown",
      "metadata": {
        "id": "IxTAfTAMq_gN"
      },
      "source": [
        "# Model"
      ]
    },
    {
      "cell_type": "code",
      "execution_count": 192,
      "metadata": {
        "colab": {
          "base_uri": "https://localhost:8080/"
        },
        "id": "RVyTsboEq9hL",
        "outputId": "2cb5e3c3-e0de-4a0f-d866-9ac0299c900f"
      },
      "outputs": [
        {
          "output_type": "stream",
          "name": "stdout",
          "text": [
            "Model: \"sequential_7\"\n",
            "_________________________________________________________________\n",
            " Layer (type)                Output Shape              Param #   \n",
            "=================================================================\n",
            " embedding_5 (Embedding)     (None, None, 256)         15872256  \n",
            "                                                                 \n",
            " dropout_13 (Dropout)        (None, None, 256)         0         \n",
            "                                                                 \n",
            " global_average_pooling1d_5   (None, 256)              0         \n",
            " (GlobalAveragePooling1D)                                        \n",
            "                                                                 \n",
            " dropout_14 (Dropout)        (None, 256)               0         \n",
            "                                                                 \n",
            " dense_9 (Dense)             (None, 150)               38550     \n",
            "                                                                 \n",
            " dropout_15 (Dropout)        (None, 150)               0         \n",
            "                                                                 \n",
            " dense_10 (Dense)            (None, 74)                11174     \n",
            "                                                                 \n",
            "=================================================================\n",
            "Total params: 15,921,980\n",
            "Trainable params: 15,921,980\n",
            "Non-trainable params: 0\n",
            "_________________________________________________________________\n"
          ]
        }
      ],
      "source": [
        "embedding_dim = 256 # tested with 64\n",
        "weight_decay = 0.00001\n",
        "\n",
        "model = tf.keras.Sequential([\n",
        "  tf.keras.layers.Embedding(max_features + 1, embedding_dim),\n",
        "  tf.keras.layers.Dropout(0.2),\n",
        "  tf.keras.layers.GlobalAveragePooling1D(),\n",
        "  tf.keras.layers.Dropout(0.2),\n",
        "  tf.keras.layers.Dense(150,\n",
        "                        activation='relu', \n",
        "                        kernel_regularizer=regularizers.L1L2(l1=weight_decay, l2=weight_decay),\n",
        "                        bias_regularizer=regularizers.L2(weight_decay),\n",
        "                        activity_regularizer=regularizers.L2(weight_decay)),\n",
        "  tf.keras.layers.Dropout(0.2),\n",
        "  tf.keras.layers.Dense(len(df['category_codes'].unique()), activation='softmax')])\n",
        "\n",
        "model.summary()"
      ]
    },
    {
      "cell_type": "code",
      "execution_count": 193,
      "metadata": {
        "id": "u-m02mAEqciz"
      },
      "outputs": [],
      "source": [
        "model_save_filename = \"model.h5\""
      ]
    },
    {
      "cell_type": "code",
      "execution_count": 194,
      "metadata": {
        "id": "7iLAfw29rCeG"
      },
      "outputs": [],
      "source": [
        "batch_size = 64\n",
        "epochs = 500\n",
        "initial_learning_rate = 0.006\n",
        "\n",
        "\n",
        "\n",
        "model.compile(loss='categorical_crossentropy',\n",
        "              optimizer=tf.keras.optimizers.Adam(learning_rate=initial_learning_rate),\n",
        "              metrics=['accuracy'])\n",
        "\n",
        "earlystopping_cb = tf.keras.callbacks.EarlyStopping(\n",
        "    monitor = 'val_accuracy',\n",
        "    mode = 'max',\n",
        "    verbose = 1,\n",
        "    patience = 10,\n",
        "    restore_best_weights = True\n",
        ")\n",
        "\n",
        "mdlcheckpoint_cb = tf.keras.callbacks.ModelCheckpoint(\n",
        "    model_save_filename,\n",
        "    monitor = 'val_accuracy',\n",
        "    mode = 'max',\n",
        "    verbose = 1,\n",
        "    save_best_only = True\n",
        ")\n",
        "\n",
        "decay = initial_learning_rate / epochs\n",
        "\n",
        "def lr_time_based_decay(epoch, lr):\n",
        "  return lr * 1/ (1 + decay * epoch)\n",
        "\n",
        "lrscheduler_cb = tf.keras.callbacks.LearningRateScheduler(lr_time_based_decay)\n"
      ]
    },
    {
      "cell_type": "code",
      "execution_count": 195,
      "metadata": {
        "colab": {
          "base_uri": "https://localhost:8080/"
        },
        "id": "85PC11W1rTYS",
        "outputId": "49dd82a7-ddb8-4d1a-aa18-0a9879e8cbf9"
      },
      "outputs": [
        {
          "output_type": "stream",
          "name": "stdout",
          "text": [
            "Epoch 1/500\n",
            "748/749 [============================>.] - ETA: 0s - loss: 3.5907 - accuracy: 0.1017\n",
            "Epoch 1: val_accuracy improved from -inf to 0.17199, saving model to model.h5\n",
            "749/749 [==============================] - 15s 19ms/step - loss: 3.5905 - accuracy: 0.1018 - val_loss: 3.2768 - val_accuracy: 0.1720 - lr: 0.0060\n",
            "Epoch 2/500\n",
            "748/749 [============================>.] - ETA: 0s - loss: 3.0962 - accuracy: 0.2208\n",
            "Epoch 2: val_accuracy improved from 0.17199 to 0.28282, saving model to model.h5\n",
            "749/749 [==============================] - 14s 19ms/step - loss: 3.0959 - accuracy: 0.2209 - val_loss: 2.8661 - val_accuracy: 0.2828 - lr: 0.0060\n",
            "Epoch 3/500\n",
            "748/749 [============================>.] - ETA: 0s - loss: 2.7285 - accuracy: 0.3312\n",
            "Epoch 3: val_accuracy improved from 0.28282 to 0.39005, saving model to model.h5\n",
            "749/749 [==============================] - 14s 19ms/step - loss: 2.7282 - accuracy: 0.3314 - val_loss: 2.5595 - val_accuracy: 0.3900 - lr: 0.0060\n",
            "Epoch 4/500\n",
            "748/749 [============================>.] - ETA: 0s - loss: 2.5152 - accuracy: 0.3902\n",
            "Epoch 4: val_accuracy improved from 0.39005 to 0.41274, saving model to model.h5\n",
            "749/749 [==============================] - 14s 19ms/step - loss: 2.5150 - accuracy: 0.3902 - val_loss: 2.4746 - val_accuracy: 0.4127 - lr: 0.0060\n",
            "Epoch 5/500\n",
            "748/749 [============================>.] - ETA: 0s - loss: 2.3827 - accuracy: 0.4216\n",
            "Epoch 5: val_accuracy improved from 0.41274 to 0.41985, saving model to model.h5\n",
            "749/749 [==============================] - 14s 19ms/step - loss: 2.3825 - accuracy: 0.4216 - val_loss: 2.4121 - val_accuracy: 0.4198 - lr: 0.0060\n",
            "Epoch 6/500\n",
            "748/749 [============================>.] - ETA: 0s - loss: 2.2771 - accuracy: 0.4493\n",
            "Epoch 6: val_accuracy improved from 0.41985 to 0.44585, saving model to model.h5\n",
            "749/749 [==============================] - 14s 19ms/step - loss: 2.2769 - accuracy: 0.4493 - val_loss: 2.3324 - val_accuracy: 0.4459 - lr: 0.0060\n",
            "Epoch 7/500\n",
            "748/749 [============================>.] - ETA: 0s - loss: 2.1871 - accuracy: 0.4688\n",
            "Epoch 7: val_accuracy did not improve from 0.44585\n",
            "749/749 [==============================] - 13s 18ms/step - loss: 2.1869 - accuracy: 0.4688 - val_loss: 2.3365 - val_accuracy: 0.4413 - lr: 0.0060\n",
            "Epoch 8/500\n",
            "748/749 [============================>.] - ETA: 0s - loss: 2.1084 - accuracy: 0.4866\n",
            "Epoch 8: val_accuracy did not improve from 0.44585\n",
            "749/749 [==============================] - 13s 18ms/step - loss: 2.1081 - accuracy: 0.4866 - val_loss: 2.3582 - val_accuracy: 0.4339 - lr: 0.0060\n",
            "Epoch 9/500\n",
            "748/749 [============================>.] - ETA: 0s - loss: 2.0543 - accuracy: 0.5005\n",
            "Epoch 9: val_accuracy improved from 0.44585 to 0.45744, saving model to model.h5\n",
            "749/749 [==============================] - 14s 19ms/step - loss: 2.0541 - accuracy: 0.5004 - val_loss: 2.3023 - val_accuracy: 0.4574 - lr: 0.0060\n",
            "Epoch 10/500\n",
            "748/749 [============================>.] - ETA: 0s - loss: 1.9986 - accuracy: 0.5078\n",
            "Epoch 10: val_accuracy did not improve from 0.45744\n",
            "749/749 [==============================] - 13s 18ms/step - loss: 1.9983 - accuracy: 0.5080 - val_loss: 2.3355 - val_accuracy: 0.4531 - lr: 0.0060\n",
            "Epoch 11/500\n",
            "748/749 [============================>.] - ETA: 0s - loss: 1.9408 - accuracy: 0.5236\n",
            "Epoch 11: val_accuracy improved from 0.45744 to 0.45783, saving model to model.h5\n",
            "749/749 [==============================] - 14s 19ms/step - loss: 1.9405 - accuracy: 0.5237 - val_loss: 2.3219 - val_accuracy: 0.4578 - lr: 0.0060\n",
            "Epoch 12/500\n",
            "748/749 [============================>.] - ETA: 0s - loss: 1.8964 - accuracy: 0.5333\n",
            "Epoch 12: val_accuracy improved from 0.45783 to 0.45900, saving model to model.h5\n",
            "749/749 [==============================] - 14s 19ms/step - loss: 1.8962 - accuracy: 0.5333 - val_loss: 2.3145 - val_accuracy: 0.4590 - lr: 0.0060\n",
            "Epoch 13/500\n",
            "748/749 [============================>.] - ETA: 0s - loss: 1.8622 - accuracy: 0.5433\n",
            "Epoch 13: val_accuracy improved from 0.45900 to 0.46582, saving model to model.h5\n",
            "749/749 [==============================] - 14s 19ms/step - loss: 1.8620 - accuracy: 0.5434 - val_loss: 2.3256 - val_accuracy: 0.4658 - lr: 0.0060\n",
            "Epoch 14/500\n",
            "748/749 [============================>.] - ETA: 0s - loss: 1.8234 - accuracy: 0.5501\n",
            "Epoch 14: val_accuracy did not improve from 0.46582\n",
            "749/749 [==============================] - 13s 18ms/step - loss: 1.8233 - accuracy: 0.5500 - val_loss: 2.4442 - val_accuracy: 0.4316 - lr: 0.0060\n",
            "Epoch 15/500\n",
            "748/749 [============================>.] - ETA: 0s - loss: 1.7756 - accuracy: 0.5601\n",
            "Epoch 15: val_accuracy did not improve from 0.46582\n",
            "749/749 [==============================] - 13s 18ms/step - loss: 1.7752 - accuracy: 0.5603 - val_loss: 2.4457 - val_accuracy: 0.4375 - lr: 0.0060\n",
            "Epoch 16/500\n",
            "748/749 [============================>.] - ETA: 0s - loss: 1.7308 - accuracy: 0.5745\n",
            "Epoch 16: val_accuracy did not improve from 0.46582\n",
            "749/749 [==============================] - 13s 18ms/step - loss: 1.7306 - accuracy: 0.5746 - val_loss: 2.3864 - val_accuracy: 0.4623 - lr: 0.0060\n",
            "Epoch 17/500\n",
            "748/749 [============================>.] - ETA: 0s - loss: 1.7004 - accuracy: 0.5796\n",
            "Epoch 17: val_accuracy did not improve from 0.46582\n",
            "749/749 [==============================] - 14s 18ms/step - loss: 1.7002 - accuracy: 0.5797 - val_loss: 2.4959 - val_accuracy: 0.4405 - lr: 0.0060\n",
            "Epoch 18/500\n",
            "748/749 [============================>.] - ETA: 0s - loss: 1.6515 - accuracy: 0.5896\n",
            "Epoch 18: val_accuracy did not improve from 0.46582\n",
            "749/749 [==============================] - 14s 18ms/step - loss: 1.6511 - accuracy: 0.5897 - val_loss: 2.5043 - val_accuracy: 0.4486 - lr: 0.0060\n",
            "Epoch 19/500\n",
            "748/749 [============================>.] - ETA: 0s - loss: 1.6328 - accuracy: 0.5958\n",
            "Epoch 19: val_accuracy did not improve from 0.46582\n",
            "749/749 [==============================] - 14s 18ms/step - loss: 1.6327 - accuracy: 0.5958 - val_loss: 2.5453 - val_accuracy: 0.4501 - lr: 0.0060\n",
            "Epoch 20/500\n",
            "748/749 [============================>.] - ETA: 0s - loss: 1.6076 - accuracy: 0.6001\n",
            "Epoch 20: val_accuracy did not improve from 0.46582\n",
            "749/749 [==============================] - 13s 18ms/step - loss: 1.6074 - accuracy: 0.6001 - val_loss: 2.4954 - val_accuracy: 0.4615 - lr: 0.0060\n",
            "Epoch 21/500\n",
            "748/749 [============================>.] - ETA: 0s - loss: 1.5895 - accuracy: 0.6066\n",
            "Epoch 21: val_accuracy did not improve from 0.46582\n",
            "749/749 [==============================] - 13s 18ms/step - loss: 1.5892 - accuracy: 0.6066 - val_loss: 2.6978 - val_accuracy: 0.4502 - lr: 0.0060\n",
            "Epoch 22/500\n",
            "748/749 [============================>.] - ETA: 0s - loss: 1.5554 - accuracy: 0.6125\n",
            "Epoch 22: val_accuracy did not improve from 0.46582\n",
            "749/749 [==============================] - 13s 18ms/step - loss: 1.5552 - accuracy: 0.6126 - val_loss: 2.7016 - val_accuracy: 0.4320 - lr: 0.0060\n",
            "Epoch 23/500\n",
            "748/749 [============================>.] - ETA: 0s - loss: 1.5451 - accuracy: 0.6137Restoring model weights from the end of the best epoch: 13.\n",
            "\n",
            "Epoch 23: val_accuracy did not improve from 0.46582\n",
            "749/749 [==============================] - 13s 18ms/step - loss: 1.5450 - accuracy: 0.6137 - val_loss: 2.7674 - val_accuracy: 0.4347 - lr: 0.0060\n",
            "Epoch 23: early stopping\n"
          ]
        }
      ],
      "source": [
        "history = model.fit(\n",
        "    train_ds,\n",
        "    batch_size = batch_size,\n",
        "    validation_data=val_ds,\n",
        "    epochs=epochs,\n",
        "    callbacks=[earlystopping_cb, mdlcheckpoint_cb, lrscheduler_cb])"
      ]
    },
    {
      "cell_type": "code",
      "execution_count": 196,
      "metadata": {
        "id": "qCsr5wei9NCI"
      },
      "outputs": [],
      "source": [
        "model = tf.keras.models.load_model(model_save_filename)"
      ]
    },
    {
      "cell_type": "markdown",
      "metadata": {
        "id": "cVIspEu_sHl6"
      },
      "source": [
        "# Evaluate"
      ]
    },
    {
      "cell_type": "code",
      "execution_count": 197,
      "metadata": {
        "colab": {
          "base_uri": "https://localhost:8080/"
        },
        "id": "t92ZtpzmsCeh",
        "outputId": "bdb1fa57-d509-4081-fc78-d8e786d4f19a"
      },
      "outputs": [
        {
          "output_type": "stream",
          "name": "stdout",
          "text": [
            "161/161 [==============================] - 1s 4ms/step - loss: 2.3760 - accuracy: 0.4521\n",
            "Loss:  2.3759586811065674\n",
            "Accuracy:  0.4521375000476837\n"
          ]
        }
      ],
      "source": [
        "loss, accuracy = model.evaluate(test_ds)\n",
        "\n",
        "print(\"Loss: \", loss)\n",
        "print(\"Accuracy: \", accuracy)"
      ]
    },
    {
      "cell_type": "markdown",
      "metadata": {
        "id": "wATX2S3KsMJp"
      },
      "source": [
        "# Plot"
      ]
    },
    {
      "cell_type": "code",
      "execution_count": 198,
      "metadata": {
        "colab": {
          "base_uri": "https://localhost:8080/",
          "height": 295
        },
        "id": "qC2G_yd8sLpN",
        "outputId": "3afc73ed-b6ef-4dd9-e844-25bbc4d5c13b"
      },
      "outputs": [
        {
          "output_type": "display_data",
          "data": {
            "text/plain": [
              "<Figure size 432x288 with 1 Axes>"
            ],
            "image/png": "[encoded data removed]"
          },
          "metadata": {
            "needs_background": "light"
          }
        }
      ],
      "source": [
        "history_dict = history.history\n",
        "history_dict.keys()\n",
        "\n",
        "acc = history_dict['accuracy']\n",
        "val_acc = history_dict['val_accuracy']\n",
        "loss = history_dict['loss']\n",
        "val_loss = history_dict['val_loss']\n",
        "\n",
        "epochs = range(1, len(acc) + 1)\n",
        "\n",
        "# \"bo\" is for \"blue dot\"\n",
        "plt.plot(epochs, loss, 'bo', label='Training loss')\n",
        "# b is for \"solid blue line\"\n",
        "plt.plot(epochs, val_loss, 'b', label='Validation loss')\n",
        "plt.title('Training and validation loss')\n",
        "plt.xlabel('Epochs')\n",
        "plt.ylabel('Loss')\n",
        "plt.legend()\n",
        "\n",
        "plt.show()"
      ]
    },
    {
      "cell_type": "code",
      "execution_count": 199,
      "metadata": {
        "colab": {
          "base_uri": "https://localhost:8080/",
          "height": 295
        },
        "id": "785uRkLKsTNX",
        "outputId": "2ba035d9-02ae-4bae-ab38-0fc84fe9575f"
      },
      "outputs": [
        {
          "output_type": "display_data",
          "data": {
            "text/plain": [
              "<Figure size 432x288 with 1 Axes>"
            ],
            "image/png": "[encoded data removed]"
          },
          "metadata": {
            "needs_background": "light"
          }
        }
      ],
      "source": [
        "plt.plot(epochs, acc, 'bo', label='Training acc')\n",
        "plt.plot(epochs, val_acc, 'b', label='Validation acc')\n",
        "plt.title('Training and validation accuracy')\n",
        "plt.xlabel('Epochs')\n",
        "plt.ylabel('Accuracy')\n",
        "plt.legend(loc='lower right')\n",
        "\n",
        "plt.show()"
      ]
    },
    {
      "cell_type": "markdown",
      "metadata": {
        "id": "3WYgm2nxsXjo"
      },
      "source": [
        "# Save Model"
      ]
    },
    {
      "cell_type": "code",
      "execution_count": 200,
      "metadata": {
        "colab": {
          "base_uri": "https://localhost:8080/"
        },
        "id": "StViEdArsXGH",
        "outputId": "95746895-395b-46a9-dd44-c91146c5438e"
      },
      "outputs": [
        {
          "output_type": "stream",
          "name": "stdout",
          "text": [
            "161/161 [==============================] - 1s 6ms/step - loss: 2.3760 - accuracy: 0.4521\n",
            "0.4521375000476837\n"
          ]
        }
      ],
      "source": [
        "export_model = tf.keras.Sequential([\n",
        "  vectorize_layer,\n",
        "  model\n",
        "])\n",
        "\n",
        "export_model.compile(\n",
        "    loss=tf.keras.losses.CategoricalCrossentropy(from_logits=False), optimizer=\"adam\", metrics=['accuracy']\n",
        ")\n",
        "\n",
        "loss, accuracy = export_model.evaluate(test_dataset)\n",
        "print(accuracy)"
      ]
    },
    {
      "cell_type": "markdown",
      "metadata": {
        "id": "z6mrs8XRsfFk"
      },
      "source": [
        "# Inference"
      ]
    },
    {
      "cell_type": "code",
      "execution_count": 201,
      "metadata": {
        "id": "GtGFmzxpseKE",
        "colab": {
          "base_uri": "https://localhost:8080/"
        },
        "outputId": "f1f59560-0ed8-46cc-ea89-bccd7cb853f3"
      },
      "outputs": [
        {
          "output_type": "stream",
          "name": "stdout",
          "text": [
            "[nltk_data] Downloading package stopwords to /root/nltk_data...\n",
            "[nltk_data]   Package stopwords is already up-to-date!\n",
            "[nltk_data] Downloading package words to /root/nltk_data...\n",
            "[nltk_data]   Package words is already up-to-date!\n"
          ]
        }
      ],
      "source": [
        "examples = [\n",
        "    \"yahoo.com\",\n",
        "    \"forbes.com\",\n",
        "    \"draftkings.com/\",\n",
        "    \"pornhub.com\",\n",
        "    \"xvideos.com\",\n",
        "    \"google.com\",\n",
        "    \"amazon.com\",\n",
        "    \"facebook.com\",\n",
        "    \"fidelity.com\",\n",
        "    \"youtube.com\",\n",
        "    \"youporn.com\",\n",
        "    \"bellesa.co\"\n",
        "]\n",
        "\n",
        "\n",
        "import requests\n",
        "from bs4 import BeautifulSoup\n",
        "from bs4.element import Comment\n",
        "from nltk.corpus import stopwords\n",
        "import nltk\n",
        "import re\n",
        "import string \n",
        "\n",
        "nltk.download('stopwords')\n",
        "nltk.download('words')\n",
        "words = set(nltk.corpus.words.words())\n",
        "stop_words = set(stopwords.words('english'))\n",
        "\n",
        "def tag_visible(element):\n",
        "    if element.parent.name in ['style', 'script', 'head', 'title', 'meta', '[document]']:\n",
        "        return False\n",
        "    if isinstance(element, Comment):\n",
        "        return False\n",
        "    return True\n",
        "\n",
        "def text_from_html(text):\n",
        "      soup = BeautifulSoup(text, 'html.parser')\n",
        "      texts = soup.findAll(text=True)\n",
        "      visible_texts = filter(tag_visible, texts)\n",
        "      result = u\" \".join(t.strip().lower() for t in visible_texts if t.strip().isalpha())\n",
        "      return ' '.join(result.split())\n",
        "\n",
        "def data_cleanup(s):\n",
        "      # remove numbers\n",
        "      s = re.sub(r'\\d+', '', s)\n",
        "      # remove duplicates\n",
        "      tokens = list(set(s.split()))\n",
        "      # remove punctuation from each token\n",
        "      table = str.maketrans('', '', string.punctuation)\n",
        "      tokens = [w.translate(table) for w in tokens]\n",
        "      # remove non english words\n",
        "      tokens = [w.lower() for w in tokens if w.lower() in words]\n",
        "      # remove non alpha\n",
        "      tokens = [w.lower() for w in tokens if w.isalpha()]\n",
        "      # remove non ascii\n",
        "      tokens = [w.lower() for w in tokens if w.isascii()]\n",
        "      # filter out stop words\n",
        "      tokens = [w for w in tokens if not w in stop_words]\n",
        "      # filter out short tokens\n",
        "      tokens = [word for word in tokens if len(word) > 1]\n",
        "      return \" \".join(w for w in tokens)\n",
        "\n",
        "for i in range(len(examples)):\n",
        "  page = requests.get(f\"https://{examples[i]}\", timeout=3, headers = {\"Accept-Language\": \"en-US\"})\n",
        "  text = text_from_html(page.text)\n",
        "  text = data_cleanup(text)\n",
        "  examples[i] = examples[i].rsplit(\".\",1)[0] + ' ' + text"
      ]
    },
    {
      "cell_type": "code",
      "source": [
        "examples"
      ],
      "metadata": {
        "colab": {
          "base_uri": "https://localhost:8080/"
        },
        "id": "q7iIBPJXxbDk",
        "outputId": "a6e9ec3b-74a1-4875-c055-370caf69dee9"
      },
      "execution_count": 202,
      "outputs": [
        {
          "output_type": "execute_result",
          "data": {
            "text/plain": [
              "['yahoo news tomorrow shopping celebrity sports health help life feedback yesterday sat quartz weather scoreboard politics finance search science style mail entertainment today sun people video business home technology advertise twitter cancer libra sagittarius',\n",
              " 'forbes innovation privacy latest retail transportation video popular retirement featured media travel purple business advertise ai chewy dell energy science dining cloud style leadership advisor money explore store gear subscribe breaking education policy',\n",
              " 'draftkings ',\n",
              " 'pornhub free dick march orientation yesterday next cancel amateur mobile random popular black public upgrade pussy verify login community white ebony exclusive discover ass angel advertise threesome bondage sex feedback hot home roommate access gay festival impregnate sinner resend explore content dutch cartoon premium anal press masturbation information mature',\n",
              " 'xvideos account oiled advertising interracial teen rough next amateur black cheating caught fisting movie straight search ass casting beach squirting lingerie gapes solo aunt shower cuckold gay compilation teacher brunette blonde redhead chubby dutch anal history site mature',\n",
              " 'google ',\n",
              " 'amazon music men photography help prime jewelry truck designer digital audible van blink handmade sell electronics cart clothing automotive pharmacy internationally hello ring fashion fabric registry baby swim',\n",
              " 'facebook oculus messenger help privacy alt watch bulletin portal press local',\n",
              " 'fidelity privacy security',\n",
              " 'youtube press advertise copyright privacy',\n",
              " 'youporn orientation vintage orgy uncut story funny number muscle interracial finish hair bisexual homemade duration amateur fake channel fisting facial public upgrade age erotica alphabetical ebony action shaved hairy contact taboo advertise casting standard reality squirting threesome bondage instructional rating kissing auto rank fantasy penetration massage category cuckold gay swallow compilation brunette fingering date german blonde fetish romantic parody redhead arousal voyeur panties college cartoon anal production back undo press masturbation riley mature',\n",
              " 'bellesa giveaway squirt bondage vixen romance sensual orgy story store rough anal homemade kink amateur passionate massage audio']"
            ]
          },
          "metadata": {},
          "execution_count": 202
        }
      ]
    },
    {
      "cell_type": "code",
      "source": [
        "results = export_model.predict(examples)"
      ],
      "metadata": {
        "id": "hmseytWUSQyJ"
      },
      "execution_count": 203,
      "outputs": []
    },
    {
      "cell_type": "code",
      "execution_count": 204,
      "metadata": {
        "colab": {
          "base_uri": "https://localhost:8080/"
        },
        "id": "uLpwpl71vdS1",
        "outputId": "357b4213-b0d9-495b-ca24-164f811fabd3"
      },
      "outputs": [
        {
          "output_type": "execute_result",
          "data": {
            "text/plain": [
              "array([[1.84228066e-02, 5.08160237e-03, 4.02702345e-03, 3.74013092e-03,\n",
              "        8.28646217e-03, 2.35495530e-03, 1.99946873e-02, 1.56261753e-02,\n",
              "        7.04005361e-02, 3.22891399e-03, 7.36394478e-03, 4.05364409e-02,\n",
              "        3.02180871e-02, 1.08035631e-03, 3.30013619e-03, 2.94468761e-03,\n",
              "        4.88541508e-03, 7.08651217e-03, 3.94855021e-03, 3.44960904e-03,\n",
              "        3.00439936e-03, 1.44933658e-02, 5.74737638e-02, 2.09464226e-02,\n",
              "        2.64418707e-03, 1.80512052e-02, 9.38048307e-03, 2.04529427e-02,\n",
              "        4.92025986e-02, 8.64899997e-03, 2.16910224e-02, 6.17347797e-03,\n",
              "        7.35612586e-04, 1.64265577e-02, 2.05190200e-02, 1.37037896e-02,\n",
              "        6.78639440e-03, 5.58514427e-03, 1.48130236e-02, 2.33438108e-02,\n",
              "        2.12899223e-02, 5.43403141e-02, 3.56493331e-03, 8.96876864e-03,\n",
              "        2.22394448e-02, 5.32425148e-03, 1.93052497e-02, 3.23365955e-03,\n",
              "        2.59399973e-03, 1.95479635e-02, 1.26116909e-02, 5.03067393e-03,\n",
              "        2.14916170e-02, 1.18504837e-02, 2.74770893e-03, 6.77945837e-03,\n",
              "        1.71551667e-02, 4.33472218e-03, 1.28385089e-02, 3.86815029e-03,\n",
              "        4.94217733e-03, 4.41277437e-02, 7.00622611e-03, 2.44395714e-02,\n",
              "        2.82400870e-03, 2.18113256e-03, 1.04036564e-02, 4.32695355e-03,\n",
              "        8.51087645e-03, 1.20406784e-02, 2.12066267e-02, 1.93558412e-03,\n",
              "        4.31136880e-03, 2.57347291e-03],\n",
              "       [2.35059354e-02, 5.25894761e-03, 3.47963558e-03, 3.04803601e-03,\n",
              "        3.01080989e-03, 1.77836150e-03, 1.08911004e-02, 8.03787448e-03,\n",
              "        4.92191650e-02, 1.73702789e-03, 4.63615032e-03, 3.26623060e-02,\n",
              "        2.94582192e-02, 1.38608809e-03, 1.08945025e-02, 2.27787439e-03,\n",
              "        2.71402858e-03, 4.57191234e-03, 2.22170469e-03, 3.67384148e-03,\n",
              "        1.38591498e-03, 5.86846797e-03, 2.48548333e-02, 2.49236822e-02,\n",
              "        3.07969516e-03, 5.71934553e-03, 5.48756402e-03, 1.03154229e-02,\n",
              "        3.61932293e-02, 5.46656642e-03, 1.48523645e-02, 3.69952503e-03,\n",
              "        4.19959193e-04, 1.16627077e-02, 1.92117374e-02, 1.10137602e-02,\n",
              "        4.00683517e-03, 2.14035739e-03, 2.30132770e-02, 4.14881893e-02,\n",
              "        5.76880500e-02, 8.80354941e-02, 5.81476884e-03, 6.62110932e-03,\n",
              "        3.24741341e-02, 2.28461977e-02, 1.53256822e-02, 4.36764071e-03,\n",
              "        4.34859889e-03, 2.94603053e-02, 3.09269596e-02, 4.61804913e-03,\n",
              "        2.08514500e-02, 1.14525883e-02, 3.50074464e-04, 7.86775537e-03,\n",
              "        1.84751824e-02, 5.69353485e-03, 1.33031020e-02, 1.60912669e-03,\n",
              "        5.04049333e-03, 3.42591330e-02, 6.87549915e-03, 2.63534244e-02,\n",
              "        2.51225871e-03, 1.25059602e-03, 1.59039740e-02, 3.18926503e-03,\n",
              "        8.10408033e-03, 2.22662464e-03, 2.65749469e-02, 1.25319278e-03,\n",
              "        1.93803646e-02, 5.67945093e-03],\n",
              "       [1.35126896e-02, 2.80523649e-03, 4.74399235e-03, 3.50530900e-04,\n",
              "        1.16508733e-02, 3.07632447e-03, 1.31298378e-02, 6.42633019e-03,\n",
              "        6.04219846e-02, 2.39136862e-03, 3.90631333e-03, 1.67786684e-02,\n",
              "        2.57172976e-02, 3.31752264e-04, 4.68624523e-03, 3.63097014e-03,\n",
              "        9.74230003e-03, 5.31510543e-03, 7.24268146e-04, 2.34758807e-03,\n",
              "        9.37042001e-04, 6.43432233e-03, 3.27409096e-02, 5.61056398e-02,\n",
              "        1.49941514e-03, 3.95479333e-03, 2.94536143e-03, 2.07401384e-02,\n",
              "        1.22823715e-01, 1.09583316e-02, 8.58994126e-02, 2.17757677e-03,\n",
              "        1.66851969e-03, 7.09399534e-03, 3.58195114e-03, 1.03882551e-02,\n",
              "        1.07455254e-03, 1.48099288e-03, 1.25198299e-02, 2.02849265e-02,\n",
              "        4.06354964e-02, 3.56087796e-02, 4.82135452e-04, 7.71685829e-03,\n",
              "        3.20687629e-02, 5.07126004e-03, 7.95902871e-03, 2.20051631e-02,\n",
              "        5.00453031e-03, 6.82499111e-02, 2.66222227e-02, 4.48508747e-03,\n",
              "        9.14893486e-03, 1.53009314e-02, 6.63577957e-05, 3.23568052e-03,\n",
              "        8.42704531e-03, 1.09475164e-03, 3.41392029e-03, 1.05456344e-03,\n",
              "        5.04036713e-03, 4.75812517e-02, 2.77452986e-03, 1.35621456e-02,\n",
              "        2.50322581e-03, 2.43515256e-04, 4.89749806e-03, 1.58271065e-03,\n",
              "        5.15170256e-03, 8.11681151e-03, 9.24108643e-03, 3.95892042e-04,\n",
              "        2.80591007e-03, 1.45255297e-03],\n",
              "       [3.46858241e-02, 1.23901886e-03, 3.47628986e-04, 2.82469875e-04,\n",
              "        3.42367945e-04, 1.31274464e-05, 1.09457690e-03, 9.45476277e-05,\n",
              "        6.86822683e-02, 1.16195367e-03, 1.52742956e-02, 2.46696640e-02,\n",
              "        3.95884737e-02, 1.33198875e-04, 1.55002531e-03, 1.50593638e-03,\n",
              "        8.16041720e-04, 2.09912262e-03, 5.42758382e-04, 4.47566039e-04,\n",
              "        1.35909388e-04, 9.13766911e-04, 2.99585052e-02, 1.67972073e-02,\n",
              "        3.19844876e-05, 7.74094788e-03, 1.60772901e-03, 5.90452645e-03,\n",
              "        3.97527069e-02, 1.94218970e-04, 1.33047365e-02, 5.62041649e-04,\n",
              "        6.83817052e-05, 7.90726766e-03, 3.49452207e-03, 3.68880946e-03,\n",
              "        5.65608440e-04, 1.58419425e-05, 7.37185776e-02, 7.02697784e-02,\n",
              "        2.74693836e-02, 2.85347607e-02, 1.23023358e-03, 1.77617127e-04,\n",
              "        2.91089088e-01, 6.87306887e-03, 1.57753490e-02, 5.67951880e-04,\n",
              "        1.21281040e-03, 4.17719269e-03, 1.12426877e-02, 5.98303857e-04,\n",
              "        1.55743835e-02, 8.16193060e-04, 1.31184177e-04, 5.13296062e-03,\n",
              "        4.65340068e-04, 8.76704798e-05, 5.83021995e-03, 4.31500981e-03,\n",
              "        1.07008945e-02, 1.35607589e-02, 7.35652912e-03, 3.34447101e-02,\n",
              "        1.15492777e-03, 5.74628102e-05, 5.21577010e-03, 5.60352230e-04,\n",
              "        1.27071152e-02, 4.99726666e-05, 1.41486572e-02, 1.02365343e-03,\n",
              "        6.27571950e-03, 1.23815413e-03],\n",
              "       [2.82738954e-02, 7.63713731e-04, 6.30723080e-04, 1.26489613e-04,\n",
              "        5.38081222e-04, 6.01261563e-05, 1.40330335e-03, 1.68820421e-04,\n",
              "        4.80798483e-02, 1.23132905e-03, 1.06311701e-02, 1.02974204e-02,\n",
              "        6.01653531e-02, 2.33051964e-04, 2.54627946e-03, 2.26127310e-03,\n",
              "        1.95152278e-03, 4.06888267e-03, 3.91893671e-04, 9.19093611e-04,\n",
              "        1.14401424e-04, 8.59657011e-04, 1.43324034e-02, 2.49327905e-02,\n",
              "        5.82826033e-05, 3.96232167e-03, 1.64030073e-03, 3.40083311e-03,\n",
              "        3.53095978e-02, 3.14949895e-04, 2.88353544e-02, 6.77541364e-04,\n",
              "        1.96988098e-04, 4.42581112e-03, 2.56204512e-03, 6.35832967e-03,\n",
              "        2.06091820e-04, 1.78517384e-05, 6.70538098e-02, 4.18429300e-02,\n",
              "        3.16629633e-02, 2.14039125e-02, 3.71016416e-04, 1.87375947e-04,\n",
              "        3.49520802e-01, 6.13472471e-03, 7.51974620e-03, 1.15787715e-03,\n",
              "        3.95189272e-03, 7.66952382e-03, 3.06766555e-02, 1.02316285e-03,\n",
              "        1.57390814e-02, 1.01505476e-03, 2.62814301e-05, 2.40633101e-03,\n",
              "        7.17959309e-04, 1.06211235e-04, 4.62658843e-03, 2.22973176e-03,\n",
              "        1.88029408e-02, 2.06074584e-02, 3.42458044e-03, 2.84461100e-02,\n",
              "        1.39763171e-03, 3.65483647e-05, 4.57407208e-03, 2.63194175e-04,\n",
              "        6.56368956e-03, 8.04813972e-05, 1.06205493e-02, 5.77944505e-04,\n",
              "        3.81615129e-03, 7.97240122e-04],\n",
              "       [1.35126896e-02, 2.80523649e-03, 4.74399235e-03, 3.50530900e-04,\n",
              "        1.16508733e-02, 3.07632447e-03, 1.31298378e-02, 6.42633019e-03,\n",
              "        6.04219846e-02, 2.39136862e-03, 3.90631333e-03, 1.67786684e-02,\n",
              "        2.57172976e-02, 3.31752264e-04, 4.68624523e-03, 3.63097014e-03,\n",
              "        9.74230003e-03, 5.31510543e-03, 7.24268146e-04, 2.34758807e-03,\n",
              "        9.37042001e-04, 6.43432233e-03, 3.27409096e-02, 5.61056398e-02,\n",
              "        1.49941514e-03, 3.95479333e-03, 2.94536143e-03, 2.07401384e-02,\n",
              "        1.22823715e-01, 1.09583316e-02, 8.58994126e-02, 2.17757677e-03,\n",
              "        1.66851969e-03, 7.09399534e-03, 3.58195114e-03, 1.03882551e-02,\n",
              "        1.07455254e-03, 1.48099288e-03, 1.25198299e-02, 2.02849265e-02,\n",
              "        4.06354964e-02, 3.56087796e-02, 4.82135452e-04, 7.71685829e-03,\n",
              "        3.20687629e-02, 5.07126004e-03, 7.95902871e-03, 2.20051631e-02,\n",
              "        5.00453031e-03, 6.82499111e-02, 2.66222227e-02, 4.48508747e-03,\n",
              "        9.14893486e-03, 1.53009314e-02, 6.63577957e-05, 3.23568052e-03,\n",
              "        8.42704531e-03, 1.09475164e-03, 3.41392029e-03, 1.05456344e-03,\n",
              "        5.04036713e-03, 4.75812517e-02, 2.77452986e-03, 1.35621456e-02,\n",
              "        2.50322581e-03, 2.43515256e-04, 4.89749806e-03, 1.58271065e-03,\n",
              "        5.15170256e-03, 8.11681151e-03, 9.24108643e-03, 3.95892042e-04,\n",
              "        2.80591007e-03, 1.45255297e-03],\n",
              "       [1.56868454e-02, 2.15260475e-03, 1.28112617e-03, 5.32420003e-04,\n",
              "        2.41159671e-03, 1.22522935e-04, 3.43943993e-03, 6.91158290e-04,\n",
              "        8.96079764e-02, 7.43206183e-04, 4.78910282e-03, 4.07826938e-02,\n",
              "        3.04398462e-02, 5.42715788e-05, 3.18866514e-04, 2.09331658e-04,\n",
              "        3.06882343e-04, 9.02688189e-04, 7.93138897e-05, 2.21676382e-04,\n",
              "        7.84335280e-05, 2.58316146e-03, 4.01144214e-02, 1.67227704e-02,\n",
              "        5.24003881e-05, 1.42503101e-02, 3.59876361e-03, 2.19627619e-02,\n",
              "        1.19086005e-01, 1.19929388e-03, 3.60447727e-02, 3.70854093e-03,\n",
              "        2.45965075e-05, 2.11440139e-02, 4.14424250e-03, 2.02499866e-03,\n",
              "        1.44129398e-03, 1.98028574e-04, 6.31294399e-02, 4.96359393e-02,\n",
              "        5.26791438e-02, 3.07644848e-02, 2.47907382e-03, 4.03960556e-04,\n",
              "        8.00777748e-02, 4.19904478e-03, 2.61941124e-02, 2.13290565e-03,\n",
              "        7.75587512e-04, 1.29268430e-02, 1.16296588e-02, 8.20555142e-04,\n",
              "        1.31786875e-02, 1.69125781e-03, 9.96063609e-05, 8.24186392e-03,\n",
              "        2.37358012e-03, 2.70915480e-04, 6.09582197e-03, 2.14123330e-03,\n",
              "        1.12830652e-02, 6.16383553e-02, 6.80702506e-03, 1.79972630e-02,\n",
              "        6.22162945e-04, 6.25797838e-05, 6.61537796e-03, 3.27784289e-03,\n",
              "        1.25016440e-02, 2.06181733e-03, 1.31503008e-02, 3.87080858e-04,\n",
              "        6.80036796e-03, 1.70121924e-03],\n",
              "       [1.17374947e-02, 4.66891984e-03, 1.11431805e-02, 2.46736989e-03,\n",
              "        6.78341696e-03, 1.69286167e-03, 1.00098280e-02, 7.03437161e-03,\n",
              "        5.30789904e-02, 3.17268446e-03, 7.23994151e-03, 3.60167362e-02,\n",
              "        3.21862139e-02, 8.51873192e-04, 5.54166688e-03, 3.10242805e-03,\n",
              "        4.90151159e-03, 5.44727454e-03, 1.56624080e-03, 2.09592306e-03,\n",
              "        1.77165575e-03, 1.88698769e-02, 3.25034745e-02, 2.32151542e-02,\n",
              "        1.75922201e-03, 8.24164692e-03, 9.65662021e-03, 2.61370558e-02,\n",
              "        9.02361199e-02, 1.06974142e-02, 3.28547880e-02, 4.15649032e-03,\n",
              "        1.34927849e-03, 1.14134122e-02, 5.93907060e-03, 6.96073240e-03,\n",
              "        4.13089292e-03, 2.25227745e-03, 2.31979135e-02, 3.58405486e-02,\n",
              "        5.58196604e-02, 3.22988033e-02, 2.30580755e-03, 1.10514136e-02,\n",
              "        4.02960144e-02, 7.75729027e-03, 1.79229546e-02, 1.60881132e-02,\n",
              "        6.21432671e-03, 2.92345155e-02, 1.43436976e-02, 5.71830897e-03,\n",
              "        1.44758560e-02, 2.10650731e-02, 4.67459351e-04, 1.01487804e-02,\n",
              "        1.59425158e-02, 2.39235000e-03, 4.63749468e-03, 3.65431095e-03,\n",
              "        8.00723024e-03, 3.97207066e-02, 5.22296131e-03, 1.30858244e-02,\n",
              "        4.35658731e-03, 1.18505105e-03, 7.69756176e-03, 3.32196360e-03,\n",
              "        1.05361221e-02, 1.07695702e-02, 1.37954177e-02, 1.17509963e-03,\n",
              "        5.60960546e-03, 1.75905065e-03],\n",
              "       [1.38762975e-02, 3.63891735e-03, 8.28299858e-03, 9.25743720e-04,\n",
              "        9.61638056e-03, 3.29080177e-03, 1.26825776e-02, 7.53713073e-03,\n",
              "        5.01321368e-02, 3.33695556e-03, 5.68097131e-03, 2.27500517e-02,\n",
              "        3.32151242e-02, 6.88202330e-04, 7.38341408e-03, 5.19467751e-03,\n",
              "        1.12436041e-02, 7.32888421e-03, 1.43782445e-03, 3.00395279e-03,\n",
              "        1.60631142e-03, 1.04684960e-02, 2.79242396e-02, 4.97144051e-02,\n",
              "        2.13105720e-03, 4.92112618e-03, 5.12788352e-03, 1.99572928e-02,\n",
              "        9.33648869e-02, 1.20753674e-02, 5.92812933e-02, 2.73370324e-03,\n",
              "        2.44772458e-03, 7.97872804e-03, 4.91257105e-03, 1.09056979e-02,\n",
              "        1.86301069e-03, 1.77738967e-03, 1.57099012e-02, 2.52274219e-02,\n",
              "        4.78379466e-02, 3.19899432e-02, 7.98797468e-04, 1.03019988e-02,\n",
              "        3.98326404e-02, 6.17210707e-03, 1.02617769e-02, 2.14951243e-02,\n",
              "        8.45188089e-03, 4.90240753e-02, 2.48533320e-02, 6.36057137e-03,\n",
              "        1.28162354e-02, 1.75314713e-02, 1.74916291e-04, 5.35194669e-03,\n",
              "        1.14247045e-02, 1.90931559e-03, 4.12078947e-03, 1.75422058e-03,\n",
              "        7.12919747e-03, 4.42290045e-02, 3.37332091e-03, 1.58986710e-02,\n",
              "        4.08626953e-03, 5.90896001e-04, 6.46778196e-03, 1.82375219e-03,\n",
              "        6.91933930e-03, 8.17637425e-03, 1.15525890e-02, 7.71917810e-04,\n",
              "        3.63007071e-03, 1.51177554e-03],\n",
              "       [1.65993627e-02, 3.36327869e-03, 4.48967330e-03, 8.74456717e-04,\n",
              "        6.10481156e-03, 1.73201400e-03, 1.19880466e-02, 5.38313342e-03,\n",
              "        5.84476069e-02, 2.54645548e-03, 5.88889094e-03, 2.32986528e-02,\n",
              "        2.27225199e-02, 6.12101459e-04, 8.33810307e-03, 5.08234929e-03,\n",
              "        6.85360981e-03, 5.95681416e-03, 1.36849307e-03, 3.38071305e-03,\n",
              "        1.25528558e-03, 6.72008796e-03, 3.23603898e-02, 4.08937708e-02,\n",
              "        2.02829344e-03, 4.77262493e-03, 4.08482552e-03, 2.11390387e-02,\n",
              "        1.01618372e-01, 7.12636206e-03, 4.70941849e-02, 2.40693823e-03,\n",
              "        1.28895871e-03, 8.72978754e-03, 5.86687634e-03, 1.08876377e-02,\n",
              "        1.79354509e-03, 1.57646858e-03, 1.93084814e-02, 3.83395404e-02,\n",
              "        4.75217439e-02, 5.85818514e-02, 1.39113783e-03, 1.11839902e-02,\n",
              "        4.07917760e-02, 1.20535856e-02, 1.22559164e-02, 1.52043616e-02,\n",
              "        5.11439936e-03, 5.40262088e-02, 2.82038748e-02, 4.30094916e-03,\n",
              "        1.10593783e-02, 1.51303699e-02, 1.26104133e-04, 4.57260851e-03,\n",
              "        1.04201445e-02, 1.77335122e-03, 5.15875034e-03, 1.60224061e-03,\n",
              "        6.14923378e-03, 3.33249010e-02, 4.47450997e-03, 1.48941875e-02,\n",
              "        2.95842788e-03, 5.72546618e-04, 6.71807257e-03, 2.03895965e-03,\n",
              "        7.68830022e-03, 4.03171452e-03, 1.22766774e-02, 7.25347374e-04,\n",
              "        6.64123474e-03, 2.71062041e-03],\n",
              "       [3.19129191e-02, 2.46654684e-03, 7.48020655e-04, 1.08377985e-03,\n",
              "        5.51257399e-04, 2.03830969e-05, 1.49640942e-03, 2.26179924e-04,\n",
              "        6.56852648e-02, 1.90097315e-03, 2.06957534e-02, 4.40664440e-02,\n",
              "        4.73896563e-02, 3.68509383e-04, 2.07598624e-03, 2.19252147e-03,\n",
              "        1.51742948e-03, 2.27854564e-03, 1.11499033e-03, 3.81364458e-04,\n",
              "        3.22243985e-04, 2.10533664e-03, 3.57424058e-02, 2.93652620e-02,\n",
              "        5.26565382e-05, 1.34002799e-02, 2.61201174e-03, 1.19059617e-02,\n",
              "        5.69620803e-02, 3.22708802e-04, 1.18986834e-02, 5.92837052e-04,\n",
              "        1.17361480e-04, 1.03772180e-02, 4.58801491e-03, 3.50169186e-03,\n",
              "        1.33237161e-03, 4.68571925e-05, 5.28972074e-02, 6.32018819e-02,\n",
              "        3.46586406e-02, 2.55913455e-02, 1.93767727e-03, 3.36503057e-04,\n",
              "        1.87797979e-01, 5.57352137e-03, 1.96662750e-02, 1.21733011e-03,\n",
              "        1.38146873e-03, 4.90956614e-03, 8.21274798e-03, 7.39734038e-04,\n",
              "        2.12153532e-02, 1.91786315e-03, 5.89688309e-04, 1.02400333e-02,\n",
              "        9.11911135e-04, 1.69730993e-04, 6.41493499e-03, 5.62548032e-03,\n",
              "        1.28715951e-02, 1.37809524e-02, 9.54454206e-03, 3.72272134e-02,\n",
              "        2.60878634e-03, 1.81415118e-04, 7.92125054e-03, 9.20760038e-04,\n",
              "        1.97240151e-02, 1.42146004e-04, 1.70702804e-02, 2.14343495e-03,\n",
              "        5.78302937e-03, 1.45483937e-03],\n",
              "       [1.57097373e-02, 2.96266680e-03, 6.22089906e-03, 1.40987337e-03,\n",
              "        3.12475511e-03, 8.72109202e-04, 4.59972909e-03, 2.28058617e-03,\n",
              "        4.65284474e-02, 2.97208037e-03, 8.02108459e-03, 2.52358038e-02,\n",
              "        5.35105355e-02, 9.97776282e-04, 5.19383093e-03, 3.42158414e-03,\n",
              "        4.59645083e-03, 5.77821489e-03, 9.50382964e-04, 1.90875214e-03,\n",
              "        8.03642266e-04, 7.38852983e-03, 1.83423851e-02, 3.43998894e-02,\n",
              "        7.30529486e-04, 7.06100976e-03, 7.84995314e-03, 1.29118897e-02,\n",
              "        6.75163642e-02, 4.02042503e-03, 4.35070843e-02, 3.04618175e-03,\n",
              "        8.69800511e-04, 8.74232873e-03, 5.45281498e-03, 6.79481123e-03,\n",
              "        1.76455243e-03, 4.70276107e-04, 4.36617658e-02, 4.16278429e-02,\n",
              "        6.86198249e-02, 2.50355676e-02, 1.66409079e-03, 2.91031296e-03,\n",
              "        1.09276533e-01, 8.55151657e-03, 1.59283727e-02, 8.64184741e-03,\n",
              "        1.03767365e-02, 2.19294634e-02, 2.58372817e-02, 5.17698890e-03,\n",
              "        1.97436400e-02, 7.60118198e-03, 2.64597795e-04, 8.06481112e-03,\n",
              "        5.90476394e-03, 1.30301167e-03, 5.45608671e-03, 3.49659030e-03,\n",
              "        1.74009558e-02, 4.08381820e-02, 4.07276675e-03, 2.04841718e-02,\n",
              "        3.42399185e-03, 5.07263991e-04, 7.80057581e-03, 1.40251440e-03,\n",
              "        1.01262610e-02, 2.15618149e-03, 1.33849690e-02, 1.15023111e-03,\n",
              "        6.71759387e-03, 1.49377843e-03]], dtype=float32)"
            ]
          },
          "metadata": {},
          "execution_count": 204
        }
      ],
      "source": [
        "results"
      ]
    },
    {
      "cell_type": "code",
      "execution_count": 205,
      "metadata": {
        "id": "-UPUoqRkveL-"
      },
      "outputs": [],
      "source": [
        "probs = tf.nn.softmax(results)"
      ]
    },
    {
      "cell_type": "code",
      "execution_count": 206,
      "metadata": {
        "colab": {
          "base_uri": "https://localhost:8080/"
        },
        "id": "nwy98I4c1whq",
        "outputId": "1b251f95-ede1-4cde-c2a8-51ea1fe0446a"
      },
      "outputs": [
        {
          "output_type": "execute_result",
          "data": {
            "text/plain": [
              "<tf.Tensor: shape=(12, 74), dtype=float32, numpy=\n",
              "array([[0.01357868, 0.01339873, 0.01338461, 0.01338077, 0.01344174,\n",
              "        0.01336225, 0.01360005, 0.01354076, 0.01430314, 0.01337393,\n",
              "        0.01342935, 0.0138823 , 0.0137398 , 0.01334523, 0.01337488,\n",
              "        0.01337013, 0.0133961 , 0.01342562, 0.01338356, 0.01337688,\n",
              "        0.01337093, 0.01352543, 0.01411943, 0.013613  , 0.01336611,\n",
              "        0.01357364, 0.01345646, 0.01360628, 0.01400313, 0.01344662,\n",
              "        0.01362313, 0.01341337, 0.01334063, 0.0135516 , 0.01360718,\n",
              "        0.01351476, 0.01342159, 0.01340548, 0.01352976, 0.01364567,\n",
              "        0.01361767, 0.01407526, 0.01337843, 0.01345092, 0.01363061,\n",
              "        0.01340198, 0.01359067, 0.01337399, 0.01336544, 0.01359397,\n",
              "        0.01350001, 0.01339805, 0.01362042, 0.01348973, 0.0133675 ,\n",
              "        0.0134215 , 0.01356148, 0.01338873, 0.01350307, 0.01338248,\n",
              "        0.01339686, 0.01393225, 0.01342454, 0.01366063, 0.01336852,\n",
              "        0.01335993, 0.01347023, 0.01338862, 0.01344476, 0.0134923 ,\n",
              "        0.01361654, 0.01335665, 0.01338841, 0.01336517],\n",
              "       [0.01364762, 0.01340085, 0.01337703, 0.01337125, 0.01337076,\n",
              "        0.01335429, 0.01347654, 0.01343814, 0.01400309, 0.01335374,\n",
              "        0.01339251, 0.01377316, 0.0137291 , 0.01334905, 0.01347659,\n",
              "        0.01336096, 0.01336679, 0.01339165, 0.01336021, 0.01337962,\n",
              "        0.01334905, 0.01340902, 0.01366604, 0.01366698, 0.01337168,\n",
              "        0.01340702, 0.01340391, 0.01346878, 0.01382187, 0.01340363,\n",
              "        0.01353003, 0.01337997, 0.01333616, 0.01348694, 0.01358914,\n",
              "        0.01347819, 0.01338408, 0.01335912, 0.0136409 , 0.01389525,\n",
              "        0.01412219, 0.01455733, 0.0134083 , 0.01341911, 0.01377056,\n",
              "        0.01363862, 0.01353643, 0.01338891, 0.01338866, 0.01372913,\n",
              "        0.01374928, 0.01339226, 0.01361144, 0.01348411, 0.01333523,\n",
              "        0.01343585, 0.01357913, 0.01340667, 0.01350908, 0.01335203,\n",
              "        0.01339792, 0.01379517, 0.01342253, 0.01368654, 0.01336409,\n",
              "        0.01334724, 0.01354426, 0.01337314, 0.01343903, 0.01336027,\n",
              "        0.01368957, 0.01334728, 0.01359143, 0.01340649],\n",
              "       [0.01351043, 0.01336654, 0.01339247, 0.01333376, 0.01348529,\n",
              "        0.01337016, 0.01350525, 0.01341502, 0.01415929, 0.013361  ,\n",
              "        0.01338126, 0.01355462, 0.01367633, 0.01333351, 0.0133917 ,\n",
              "        0.01337758, 0.01345958, 0.01340013, 0.01333875, 0.01336042,\n",
              "        0.01334159, 0.01341513, 0.01377272, 0.01409831, 0.01334909,\n",
              "        0.01338191, 0.01336841, 0.01360843, 0.015071  , 0.01347596,\n",
              "        0.01452467, 0.01335815, 0.01335135, 0.01342398, 0.01337692,\n",
              "        0.01346828, 0.01334342, 0.01334885, 0.01349702, 0.01360223,\n",
              "        0.01388188, 0.01381228, 0.01333552, 0.01343235, 0.01376347,\n",
              "        0.01339686, 0.0134356 , 0.01362565, 0.01339596, 0.01427056,\n",
              "        0.01368871, 0.01338901, 0.0134516 , 0.01353461, 0.01332998,\n",
              "        0.01337229, 0.01344189, 0.01334369, 0.01337467, 0.01334316,\n",
              "        0.01339644, 0.01397864, 0.01336612, 0.01351109, 0.0133625 ,\n",
              "        0.01333234, 0.01339453, 0.0133502 , 0.01339794, 0.01343772,\n",
              "        0.01345284, 0.01333437, 0.01336654, 0.01334847],\n",
              "       [0.01379288, 0.01333918, 0.01332729, 0.01332643, 0.01332723,\n",
              "        0.01332284, 0.01333725, 0.01332392, 0.01426985, 0.01333815,\n",
              "        0.01352772, 0.01365542, 0.01386067, 0.01332444, 0.01334333,\n",
              "        0.01334274, 0.01333354, 0.01335066, 0.0133299 , 0.01332863,\n",
              "        0.01332447, 0.01333484, 0.01372783, 0.01354834, 0.01332309,\n",
              "        0.01342619, 0.0133441 , 0.01340156, 0.01386294, 0.01332525,\n",
              "        0.0135011 , 0.01333015, 0.01332357, 0.01342843, 0.0133693 ,\n",
              "        0.0133719 , 0.0133302 , 0.01332287, 0.0143419 , 0.01429252,\n",
              "        0.0136937 , 0.0137083 , 0.01333906, 0.01332503, 0.01782417,\n",
              "        0.01341455, 0.0135345 , 0.01333023, 0.01333883, 0.01337843,\n",
              "        0.01347329, 0.01333064, 0.01353178, 0.01333354, 0.01332441,\n",
              "        0.01339122, 0.01332886, 0.01332383, 0.01340056, 0.01338028,\n",
              "        0.01346599, 0.01350456, 0.01342103, 0.01377577, 0.01333806,\n",
              "        0.01332343, 0.01339233, 0.01333013, 0.01349304, 0.01332333,\n",
              "        0.0135125 , 0.01333631, 0.01340653, 0.01333917],\n",
              "       [0.01370118, 0.0133294 , 0.01332762, 0.01332091, 0.01332639,\n",
              "        0.01332002, 0.01333793, 0.01332147, 0.01397525, 0.01333563,\n",
              "        0.01346157, 0.01345708, 0.01414517, 0.01332232, 0.01335318,\n",
              "        0.01334937, 0.01334524, 0.01337352, 0.01332444, 0.01333147,\n",
              "        0.01332074, 0.01333068, 0.01351149, 0.01365548, 0.01332   ,\n",
              "        0.0133721 , 0.01334109, 0.01336459, 0.01379792, 0.01332342,\n",
              "        0.01370887, 0.01332825, 0.01332184, 0.0133783 , 0.01335339,\n",
              "        0.01340418, 0.01332197, 0.01331946, 0.01424295, 0.01388836,\n",
              "        0.01374769, 0.01360738, 0.01332416, 0.01332172, 0.01889182,\n",
              "        0.01340118, 0.01341975, 0.01333465, 0.01337196, 0.01342177,\n",
              "        0.01373414, 0.01333285, 0.01353051, 0.01333275, 0.01331957,\n",
              "        0.01335131, 0.01332879, 0.01332063, 0.01338099, 0.01334895,\n",
              "        0.01357203, 0.01359654, 0.01336491, 0.01370354, 0.01333785,\n",
              "        0.01331971, 0.01338028, 0.01332273, 0.01340693, 0.01332029,\n",
              "        0.01346143, 0.01332692, 0.01337015, 0.01332984],\n",
              "       [0.01351043, 0.01336654, 0.01339247, 0.01333376, 0.01348529,\n",
              "        0.01337016, 0.01350525, 0.01341502, 0.01415929, 0.013361  ,\n",
              "        0.01338126, 0.01355462, 0.01367633, 0.01333351, 0.0133917 ,\n",
              "        0.01337758, 0.01345958, 0.01340013, 0.01333875, 0.01336042,\n",
              "        0.01334159, 0.01341513, 0.01377272, 0.01409831, 0.01334909,\n",
              "        0.01338191, 0.01336841, 0.01360843, 0.015071  , 0.01347596,\n",
              "        0.01452467, 0.01335815, 0.01335135, 0.01342398, 0.01337692,\n",
              "        0.01346828, 0.01334342, 0.01334885, 0.01349702, 0.01360223,\n",
              "        0.01388188, 0.01381228, 0.01333552, 0.01343235, 0.01376347,\n",
              "        0.01339686, 0.0134356 , 0.01362565, 0.01339596, 0.01427056,\n",
              "        0.01368871, 0.01338901, 0.0134516 , 0.01353461, 0.01332998,\n",
              "        0.01337229, 0.01344189, 0.01334369, 0.01337467, 0.01334316,\n",
              "        0.01339644, 0.01397864, 0.01336612, 0.01351109, 0.0133625 ,\n",
              "        0.01333234, 0.01339453, 0.0133502 , 0.01339794, 0.01343772,\n",
              "        0.01345284, 0.01333437, 0.01336654, 0.01334847],\n",
              "       [0.01353931, 0.0133573 , 0.01334567, 0.01333568, 0.01336076,\n",
              "        0.01333022, 0.0133745 , 0.0133378 , 0.01457808, 0.01333849,\n",
              "        0.01339257, 0.01388339, 0.01374054, 0.01332931, 0.01333283,\n",
              "        0.01333137, 0.01333267, 0.01334062, 0.01332964, 0.01333154,\n",
              "        0.01332963, 0.01336306, 0.01387412, 0.01355335, 0.01332928,\n",
              "        0.01351988, 0.01337664, 0.01362455, 0.01501421, 0.01334458,\n",
              "        0.01381777, 0.0133781 , 0.01332891, 0.0136134 , 0.01338393,\n",
              "        0.0133556 , 0.01334781, 0.01333122, 0.01419714, 0.01400685,\n",
              "        0.01404954, 0.013745  , 0.01336167, 0.01333397, 0.0144398 ,\n",
              "        0.01338467, 0.01368233, 0.01335704, 0.01333892, 0.013502  ,\n",
              "        0.01348449, 0.01333952, 0.0135054 , 0.01335114, 0.01332991,\n",
              "        0.01343889, 0.01336026, 0.01333219, 0.01341008, 0.01335715,\n",
              "        0.01347982, 0.01417598, 0.01341962, 0.01357063, 0.01333688,\n",
              "        0.01332942, 0.01341705, 0.01337234, 0.01349626, 0.01335609,\n",
              "        0.01350501, 0.01333374, 0.01341953, 0.01335128],\n",
              "       [0.01348791, 0.0133929 , 0.01347989, 0.01336345, 0.01342125,\n",
              "        0.01335311, 0.01346463, 0.01342462, 0.01405721, 0.01337288,\n",
              "        0.01342738, 0.01381939, 0.01376656, 0.01334188, 0.0134046 ,\n",
              "        0.01337194, 0.01339602, 0.01340333, 0.01335142, 0.01335849,\n",
              "        0.01335416, 0.01358445, 0.01377093, 0.01364361, 0.01335399,\n",
              "        0.01344084, 0.01345987, 0.01368353, 0.01458936, 0.01347389,\n",
              "        0.01377576, 0.01338604, 0.01334852, 0.01348354, 0.01340993,\n",
              "        0.01342363, 0.0133857 , 0.01336058, 0.01364337, 0.01381696,\n",
              "        0.01409578, 0.01376811, 0.01336129, 0.01347866, 0.01387866,\n",
              "        0.01343433, 0.01357159, 0.01354672, 0.01341362, 0.01372598,\n",
              "        0.01352311, 0.01340697, 0.01352489, 0.01361431, 0.01333675,\n",
              "        0.0134665 , 0.01354474, 0.01336245, 0.01339248, 0.01337932,\n",
              "        0.01343769, 0.01387067, 0.01340033, 0.01350611, 0.01338872,\n",
              "        0.01334633, 0.01343353, 0.01337488, 0.01347171, 0.01347486,\n",
              "        0.01351569, 0.01334619, 0.01340551, 0.01335399],\n",
              "       [0.01351649, 0.01337882, 0.0134411 , 0.01334257, 0.01345903,\n",
              "        0.01337417, 0.01350036, 0.01343108, 0.01401553, 0.01337478,\n",
              "        0.01340617, 0.01363697, 0.01378043, 0.0133394 , 0.01342901,\n",
              "        0.01339965, 0.01348095, 0.01342828, 0.01334941, 0.01337033,\n",
              "        0.01335166, 0.01347051, 0.01370771, 0.01400968, 0.01335866,\n",
              "        0.01339599, 0.01339876, 0.01359893, 0.01463475, 0.01349217,\n",
              "        0.01414435, 0.01336672, 0.0133629 , 0.01343701, 0.01339587,\n",
              "        0.0134764 , 0.01335508, 0.01335394, 0.0135413 , 0.01367079,\n",
              "        0.01398341, 0.01376355, 0.01334088, 0.01346826, 0.01387192,\n",
              "        0.01341276, 0.01346772, 0.01361986, 0.01344337, 0.01400001,\n",
              "        0.01366568, 0.01341528, 0.01350217, 0.01356598, 0.01333256,\n",
              "        0.01340176, 0.01348339, 0.0133557 , 0.01338527, 0.01335363,\n",
              "        0.0134256 , 0.01393304, 0.01337527, 0.01354385, 0.01338481,\n",
              "        0.01333811, 0.01341672, 0.01335456, 0.01342278, 0.01343967,\n",
              "        0.01348512, 0.01334052, 0.0133787 , 0.01335039],\n",
              "       [0.01355308, 0.01337487, 0.01338995, 0.01334163, 0.01341159,\n",
              "        0.01335307, 0.01349073, 0.01340192, 0.01413229, 0.01336395,\n",
              "        0.0134087 , 0.01364418, 0.01363632, 0.01333813, 0.01344158,\n",
              "        0.01339788, 0.01342164, 0.01340961, 0.01334822, 0.01337511,\n",
              "        0.01334671, 0.01341985, 0.01376838, 0.01388638, 0.01335703,\n",
              "        0.01339374, 0.01338453, 0.01361475, 0.01475575, 0.0134253 ,\n",
              "        0.01397275, 0.01336209, 0.01334716, 0.01344684, 0.0134084 ,\n",
              "        0.01347589, 0.01335389, 0.013351  , 0.01358985, 0.01385095,\n",
              "        0.01397872, 0.01413419, 0.01334852, 0.01347988, 0.01388496,\n",
              "        0.01349161, 0.01349434, 0.01353419, 0.01339831, 0.01406994,\n",
              "        0.01371127, 0.01338742, 0.0134782 , 0.01353319, 0.01333165,\n",
              "        0.01339106, 0.01346959, 0.01335363, 0.01339891, 0.01335134,\n",
              "        0.01341219, 0.01378167, 0.01338974, 0.01352999, 0.01336946,\n",
              "        0.0133376 , 0.01341982, 0.01335717, 0.01343285, 0.01338382,\n",
              "        0.01349462, 0.01333964, 0.01341879, 0.01336615],\n",
              "       [0.01375961, 0.01336034, 0.0133374 , 0.01334188, 0.01333478,\n",
              "        0.0133277 , 0.01334739, 0.01333045, 0.01423224, 0.01335279,\n",
              "        0.01360613, 0.01392786, 0.01397422, 0.01333234, 0.01335513,\n",
              "        0.01335668, 0.01334767, 0.01335783, 0.0133423 , 0.01333251,\n",
              "        0.01333173, 0.01335552, 0.0138124 , 0.0137246 , 0.01332813,\n",
              "        0.01350722, 0.01336229, 0.01348705, 0.01410863, 0.01333173,\n",
              "        0.01348696, 0.01333533, 0.01332899, 0.01346645, 0.01338872,\n",
              "        0.01337418, 0.0133452 , 0.01332805, 0.01405139, 0.01419694,\n",
              "        0.01379744, 0.0136729 , 0.01335328, 0.01333192, 0.01608074,\n",
              "        0.01340192, 0.01359212, 0.01334366, 0.01334585, 0.01339302,\n",
              "        0.01343734, 0.01333729, 0.0136132 , 0.01335302, 0.01333529,\n",
              "        0.0134646 , 0.01333959, 0.01332969, 0.0134132 , 0.01340261,\n",
              "        0.01350008, 0.01351237, 0.01345524, 0.01383292, 0.01336224,\n",
              "        0.01332985, 0.01343342, 0.01333971, 0.01359291, 0.01332933,\n",
              "        0.01355689, 0.01335603, 0.01340473, 0.01334683],\n",
              "       [0.0135407 , 0.01336919, 0.01341282, 0.01334845, 0.01337135,\n",
              "        0.01334127, 0.01339109, 0.01336007, 0.0139645 , 0.01336932,\n",
              "        0.01343699, 0.0136703 , 0.01406234, 0.01334295, 0.01339905,\n",
              "        0.01337533, 0.01339105, 0.01340688, 0.01334231, 0.01335511,\n",
              "        0.01334035, 0.01342849, 0.01357639, 0.01379615, 0.01333938,\n",
              "        0.01342409, 0.01343469, 0.01350287, 0.01426069, 0.01338334,\n",
              "        0.01392237, 0.01337031, 0.01334124, 0.01344668, 0.01340252,\n",
              "        0.01342052, 0.01335318, 0.01333591, 0.01392453, 0.01389623,\n",
              "        0.01427643, 0.01366757, 0.01335184, 0.01336849, 0.01486882,\n",
              "        0.01344412, 0.01354366, 0.01344533, 0.01346868, 0.01362518,\n",
              "        0.01367853, 0.01339883, 0.01359543, 0.01343135, 0.01333317,\n",
              "        0.01343757, 0.01340858, 0.01334702, 0.01340257, 0.01337633,\n",
              "        0.01356362, 0.01388527, 0.01338404, 0.0136055 , 0.01337536,\n",
              "        0.0133364 , 0.01343402, 0.01334835, 0.0134653 , 0.01335841,\n",
              "        0.01350926, 0.01334498, 0.01341948, 0.01334956]], dtype=float32)>"
            ]
          },
          "metadata": {},
          "execution_count": 206
        }
      ],
      "source": [
        "probs"
      ]
    },
    {
      "cell_type": "code",
      "execution_count": 207,
      "metadata": {
        "id": "rXlTB44Bvh9p"
      },
      "outputs": [],
      "source": [
        "res_args = tf.argmax(results, 1)"
      ]
    },
    {
      "cell_type": "code",
      "execution_count": 208,
      "metadata": {
        "colab": {
          "base_uri": "https://localhost:8080/"
        },
        "id": "4TKmoLawvjkS",
        "outputId": "dd24c2ac-42d9-49db-8fcc-0625930e53ce"
      },
      "outputs": [
        {
          "output_type": "execute_result",
          "data": {
            "text/plain": [
              "<tf.Tensor: shape=(12,), dtype=int64, numpy=array([ 8, 41, 28, 44, 44, 28, 28, 28, 28, 28, 44, 44])>"
            ]
          },
          "metadata": {},
          "execution_count": 208
        }
      ],
      "source": [
        "res_args"
      ]
    },
    {
      "cell_type": "code",
      "execution_count": 209,
      "metadata": {
        "colab": {
          "base_uri": "https://localhost:8080/"
        },
        "id": "HRtVUogwvl2u",
        "outputId": "caf7d8b9-b266-49eb-b9b8-5524cffb7d23"
      },
      "outputs": [
        {
          "output_type": "execute_result",
          "data": {
            "text/plain": [
              "array([ 8, 41, 28, 44, 44, 28, 28, 28, 28, 28, 44, 44])"
            ]
          },
          "metadata": {},
          "execution_count": 209
        }
      ],
      "source": [
        "res_args.numpy()"
      ]
    },
    {
      "cell_type": "code",
      "execution_count": 210,
      "metadata": {
        "colab": {
          "base_uri": "https://localhost:8080/"
        },
        "id": "iVg1nasYtIGR",
        "outputId": "a9032dc4-99ab-49b5-902a-fea650101620"
      },
      "outputs": [
        {
          "output_type": "execute_result",
          "data": {
            "text/plain": [
              "Index(['adv', 'aggressive', 'alcohol', 'anonvpn', 'automobile/bikes',\n",
              "       'automobile/boats', 'automobile/cars', 'automobile/planes', 'chat',\n",
              "       'costtraps', 'dating', 'downloads', 'drugs', 'dynamic',\n",
              "       'education/schools', 'finance/banking', 'finance/insurance',\n",
              "       'finance/moneylending', 'finance/other', 'finance/realestate',\n",
              "       'finance/trading', 'fortunetelling', 'forum', 'gamble', 'government',\n",
              "       'hacking', 'hobby/cooking', 'hobby/games-misc', 'hobby/games-online',\n",
              "       'hobby/gardening', 'hobby/pets', 'homestyle', 'hospitals',\n",
              "       'imagehosting', 'isp', 'jobsearch', 'library', 'military', 'models',\n",
              "       'movies', 'music', 'news', 'podcasts', 'politics', 'porn', 'radiotv',\n",
              "       'recreation/humor', 'recreation/martialarts', 'recreation/restaurants',\n",
              "       'recreation/sports', 'recreation/travel', 'recreation/wellness',\n",
              "       'redirector', 'religion', 'remotecontrol', 'ringtones',\n",
              "       'science/astronomy', 'science/chemistry', 'searchengines',\n",
              "       'sex/education', 'sex/lingerie', 'shopping', 'socialnet', 'spyware',\n",
              "       'tracker', 'updatesites', 'urlshortener', 'violence', 'warez',\n",
              "       'weapons', 'webmail', 'webphone', 'webradio', 'webtv'],\n",
              "      dtype='object', name='cat_name')"
            ]
          },
          "metadata": {},
          "execution_count": 210
        }
      ],
      "source": [
        "classes"
      ]
    },
    {
      "cell_type": "code",
      "execution_count": 211,
      "metadata": {
        "colab": {
          "base_uri": "https://localhost:8080/"
        },
        "id": "7sGuHLRPPrRM",
        "outputId": "68e4b7f5-7d51-4ce7-8f42-8c88595c10b5"
      },
      "outputs": [
        {
          "output_type": "stream",
          "name": "stdout",
          "text": [
            "yahoo : chat\n",
            "forbes : news\n",
            "draftkings : hobby/games-online\n",
            "pornhub : porn\n",
            "xvideos : porn\n",
            "google : hobby/games-online\n",
            "amazon : hobby/games-online\n",
            "facebook : hobby/games-online\n",
            "fidelity : hobby/games-online\n",
            "youtube : hobby/games-online\n",
            "youporn : porn\n",
            "bellesa : porn\n"
          ]
        }
      ],
      "source": [
        "for i in range(len(examples)):\n",
        "  print(f\"{examples[i].split()[0]} : {classes[res_args[i]]}\")"
      ]
    },
    {
      "cell_type": "code",
      "execution_count": 212,
      "metadata": {
        "id": "UgY9W6MSP4z5",
        "colab": {
          "base_uri": "https://localhost:8080/"
        },
        "outputId": "4b98f590-201a-4c0a-db4d-b0f37725925c"
      },
      "outputs": [
        {
          "output_type": "stream",
          "name": "stdout",
          "text": [
            "total 276908\n",
            "lrwxrwxrwx 1 root root        61 Apr 28 18:14 dap_multiplexer.INFO -> dap_multiplexer.5ab087af95ce.root.log.INFO.20220428-181415.60\n",
            "srwxr-xr-x 1 root root         0 Apr 28 18:14 debugger_4cmr1emcv\n",
            "-rw-r--r-- 1 root root      1517 Apr 28 18:14 dap_multiplexer.5ab087af95ce.root.log.INFO.20220428-181415.60\n",
            "srw------- 1 root root         0 Apr 28 18:16 drivefs_ipc.0\n",
            "srw------- 1 root root         0 Apr 28 18:16 drivefs_ipc.0_shell\n",
            "lrwxrwxrwx 1 root root        73 Apr 28 18:16 directoryprefetcher_binary.INFO -> directoryprefetcher_binary.5ab087af95ce.root.log.INFO.20220428-181606.287\n",
            "drwx------ 2 root root      4096 Apr 28 18:16 initgoogle_syslog_dir.0\n",
            "-rw-r--r-- 1 root root      1567 Apr 28 18:16 directoryprefetcher_binary.5ab087af95ce.root.log.INFO.20220428-181606.287\n",
            "drwx------ 2 root root      4096 Apr 28 18:16 pyright-296-Pag2WLssE0qO\n",
            "drwx------ 2 root root      4096 Apr 28 18:16 pyright-296-4TlDLLQsfly2\n",
            "-rw------- 1 root root       211 Apr 28 18:17 __autograph_generated_file014uj50k.py\n",
            "-rw------- 1 root root       654 Apr 28 18:17 __autograph_generated_filevffkeagj.py\n",
            "-rw------- 1 root root       775 Apr 28 18:17 __autograph_generated_fileitwxv07v.py\n",
            "-rw------- 1 root root       871 Apr 28 18:17 __autograph_generated_filen3e4za2r.py\n",
            "-rw------- 1 root root       864 Apr 28 18:17 __autograph_generated_filer9lt6hst.py\n",
            "-rw------- 1 root root       880 Apr 28 18:53 __autograph_generated_file50h878mw.py\n",
            "drwxr-xr-x 3 root root      4096 Apr 28 19:54 python-languageserver-cancellation\n",
            "drwx------ 2 root root      4096 Apr 28 19:54 pyright-6834-Re36JagyLvAG\n",
            "drwx------ 2 root root      4096 Apr 28 19:54 pyright-6834-82ISnNF546Kp\n",
            "-rw-r--r-- 1 root root  66757998 Apr 28 20:13 domain_final.csv\n",
            "-rw------- 1 root root  25618717 Apr 28 20:14 domain_final.zip\n",
            "-rw------- 1 root root       211 Apr 28 20:14 __autograph_generated_filed39hijb2.py\n",
            "drwxr-xr-x 2 root root      4096 Apr 28 20:14 __pycache__\n",
            "-rw-r--r-- 1 root root 191098392 Apr 28 20:17 model.h5\n"
          ]
        }
      ],
      "source": [
        "!ls -ltr"
      ]
    },
    {
      "cell_type": "code",
      "source": [
        "!zip model.h5.zip model.h5"
      ],
      "metadata": {
        "colab": {
          "base_uri": "https://localhost:8080/"
        },
        "id": "gF3z3X8yowG9",
        "outputId": "3909456d-3aaa-4129-b8d6-4f1497a23a76"
      },
      "execution_count": 213,
      "outputs": [
        {
          "output_type": "stream",
          "name": "stdout",
          "text": [
            "  adding: model.h5 (deflated 11%)\n"
          ]
        }
      ]
    },
    {
      "cell_type": "code",
      "source": [
        "%cp /tmp/model.h5.zip /content/drive/MyDrive/Colab/pydomains/data/"
      ],
      "metadata": {
        "id": "Dxx2y9OyoyIg"
      },
      "execution_count": 214,
      "outputs": []
    },
    {
      "cell_type": "code",
      "source": [
        ""
      ],
      "metadata": {
        "id": "swXCEh7wpRmO"
      },
      "execution_count": null,
      "outputs": []
    }
  ],
  "metadata": {
    "accelerator": "GPU",
    "colab": {
      "background_execution": "on",
      "collapsed_sections": [],
      "machine_shape": "hm",
      "name": "train.ipynb",
      "provenance": [],
      "mount_file_id": "1rs-sjVP8KP2QaFYzYXDp2HrMFq8KvymR",
      "authorship_tag": "ABX9TyNHnVE+ZrYLSeaaMQyJkiZL",
      "include_colab_link": true
    },
    "kernelspec": {
      "display_name": "Python 3",
      "name": "python3"
    },
    "language_info": {
      "name": "python"
    }
  },
  "nbformat": 4,
  "nbformat_minor": 0
}